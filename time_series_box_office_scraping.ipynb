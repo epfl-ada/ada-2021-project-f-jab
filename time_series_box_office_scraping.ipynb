{
 "cells": [
  {
   "cell_type": "markdown",
   "id": "afaba6ff",
   "metadata": {},
   "source": [
    "### Web Scraping Box Office Mojo Movies\n",
    "This file is a script that webscrapes information about daily box office (in the US) on a movie of choice.\n",
    "\n",
    "We start by importing all needed packages. (Write \"!pip install <package>\" to install missing packages)"
   ]
  },
  {
   "cell_type": "code",
   "execution_count": 1,
   "id": "49c71e4e",
   "metadata": {},
   "outputs": [],
   "source": [
    "import requests\n",
    "import numpy as np\n",
    "import pandas as pd\n",
    "from bs4 import BeautifulSoup as BS"
   ]
  },
  {
   "cell_type": "markdown",
   "id": "6b6a93c2",
   "metadata": {},
   "source": [
    "We then get the website we are looking for.\n",
    "\n",
    "Change the url to the url of the movie's daily box office. This one is for \"Star Wars IX: The Rise of Skywalker\"."
   ]
  },
  {
   "cell_type": "code",
   "execution_count": 2,
   "id": "5203963f",
   "metadata": {},
   "outputs": [],
   "source": [
    "url=\"https://www.boxofficemojo.com/release/rl3305145857/?ref_=bo_gr_rls\"\n",
    "page = requests.get(url)\n",
    "soup = BS(page.content, 'html.parser')"
   ]
  },
  {
   "cell_type": "markdown",
   "id": "806c8faa",
   "metadata": {},
   "source": [
    "To view each data point and their describtion, see the link you are webscraping from.\n",
    "\n",
    "Use BeautifulSoup to get all interesting data and the movie title for file naming:"
   ]
  },
  {
   "cell_type": "code",
   "execution_count": 16,
   "id": "3c722a14",
   "metadata": {},
   "outputs": [
    {
     "data": {
      "text/plain": [
       "<span class=\"a-size-small a-color-secondary\">Christmas Day</span>"
      ]
     },
     "execution_count": 16,
     "metadata": {},
     "output_type": "execute_result"
    }
   ],
   "source": [
    "movie_title = soup.find_all('title')\n",
    "movie_title = movie_title[0].string\n",
    "\n",
    "days = soup.find_all('td', class_='a-text-left mojo-header-column mojo-truncate mojo-field-type-date_interval mojo-sort-column')\n",
    "special_events = soup.find_all('span', class_='a-size-small a-color-secondary')\n",
    "dow = soup.find_all('td', class_='a-text-left mojo-field-type-date_interval')\n",
    "rank = soup.find_all('td', class_='a-text-right mojo-field-type-rank')\n",
    "daily = soup.find_all('td', class_='a-text-right mojo-field-type-money mojo-estimatable')\n",
    "theaters = soup.find_all('td', class_='a-text-right mojo-field-type-positive_integer mojo-estimatable')\n",
    "\n",
    "special_events[0]"
   ]
  },
  {
   "cell_type": "markdown",
   "id": "0184d45b",
   "metadata": {},
   "source": [
    "Save all data points in arrays:"
   ]
  },
  {
   "cell_type": "code",
   "execution_count": 4,
   "id": "6400037c",
   "metadata": {},
   "outputs": [],
   "source": [
    "days_str = []\n",
    "#special_events = np.empty(len(days), dtype='<U10')\n",
    "days_ar = []\n",
    "dow_ar = []\n",
    "rank_ar = []\n",
    "daily_ar = []\n",
    "theaters_ar = []\n",
    "\n",
    "for i in range(len(days)):\n",
    "    #We need the date (days) in the format yyyy-mm-dd\n",
    "    #Luckily we found this information in the \"href\" (the link that the day is connected to)\n",
    "    #Now we extract it along with everything else\n",
    "    days_ar.append(str(days[i].select('a'))) \n",
    "    days_ar[i] = days_ar[i][days_ar[i].find('2'):]\n",
    "    days_ar[i] = days_ar[i][:days_ar[i].find('/')]\n",
    "    \n",
    "    dow_ar.append(dow[i].select('a')[0].string)\n",
    "    rank_ar.append(rank[i].string)\n",
    "    daily_ar.append(daily[i].string)\n",
    "    theaters_ar.append(theaters[i].string)"
   ]
  },
  {
   "cell_type": "markdown",
   "id": "1cdc299b",
   "metadata": {},
   "source": [
    "Make a pandas dataframe with all of the arrays:"
   ]
  },
  {
   "cell_type": "code",
   "execution_count": 5,
   "id": "955db1ba",
   "metadata": {},
   "outputs": [],
   "source": [
    "movie_df = pd.DataFrame({'days': days_ar, 'dow': dow_ar, 'rank':rank_ar, 'daily': daily_ar, 'theaters': theaters_ar})"
   ]
  },
  {
   "cell_type": "markdown",
   "id": "9e950cde",
   "metadata": {},
   "source": [
    "All of the data points are strings, but we would like a float format so that we can do computations later.\n",
    "\n",
    "We remove all commas and dollar-signs in order to convert strings to floats using the function below:"
   ]
  },
  {
   "cell_type": "code",
   "execution_count": 6,
   "id": "b17669a4",
   "metadata": {},
   "outputs": [],
   "source": [
    "def from_str_to_float(column):\n",
    "    float_column = np.empty(len(column), dtype='<U10')\n",
    "    for i in range(len(column)):\n",
    "        float_column[i] = column[i].replace(',','')\n",
    "        if '$' in column[i]:\n",
    "            float_column[i] = float(float_column[i].replace('$',''))\n",
    "    return float_column"
   ]
  },
  {
   "cell_type": "markdown",
   "id": "3784b84a",
   "metadata": {},
   "source": [
    "Now we filter the columns:"
   ]
  },
  {
   "cell_type": "code",
   "execution_count": 7,
   "id": "a3b3f56c",
   "metadata": {},
   "outputs": [],
   "source": [
    "movie_df['daily'] = from_str_to_float(movie_df['daily'])\n",
    "movie_df['rank'] = from_str_to_float(movie_df['rank'])\n",
    "movie_df['theaters'] = from_str_to_float(movie_df['theaters'])"
   ]
  },
  {
   "cell_type": "markdown",
   "id": "997f6d2c",
   "metadata": {},
   "source": [
    "Now we want to save our data frame to a csv file:"
   ]
  },
  {
   "cell_type": "code",
   "execution_count": 9,
   "id": "f76dd5a6",
   "metadata": {},
   "outputs": [
    {
     "data": {
      "text/html": [
       "<div>\n",
       "<style scoped>\n",
       "    .dataframe tbody tr th:only-of-type {\n",
       "        vertical-align: middle;\n",
       "    }\n",
       "\n",
       "    .dataframe tbody tr th {\n",
       "        vertical-align: top;\n",
       "    }\n",
       "\n",
       "    .dataframe thead th {\n",
       "        text-align: right;\n",
       "    }\n",
       "</style>\n",
       "<table border=\"1\" class=\"dataframe\">\n",
       "  <thead>\n",
       "    <tr style=\"text-align: right;\">\n",
       "      <th></th>\n",
       "      <th>days</th>\n",
       "      <th>dow</th>\n",
       "      <th>rank</th>\n",
       "      <th>daily</th>\n",
       "      <th>theaters</th>\n",
       "    </tr>\n",
       "  </thead>\n",
       "  <tbody>\n",
       "    <tr>\n",
       "      <th>0</th>\n",
       "      <td>2019-12-20</td>\n",
       "      <td>Friday</td>\n",
       "      <td>1</td>\n",
       "      <td>89615288.0</td>\n",
       "      <td>4406</td>\n",
       "    </tr>\n",
       "    <tr>\n",
       "      <th>1</th>\n",
       "      <td>2019-12-21</td>\n",
       "      <td>Saturday</td>\n",
       "      <td>1</td>\n",
       "      <td>20339.0</td>\n",
       "      <td>4406</td>\n",
       "    </tr>\n",
       "    <tr>\n",
       "      <th>2</th>\n",
       "      <td>2019-12-22</td>\n",
       "      <td>Sunday</td>\n",
       "      <td>1</td>\n",
       "      <td>89615288.0</td>\n",
       "      <td>4406</td>\n",
       "    </tr>\n",
       "    <tr>\n",
       "      <th>3</th>\n",
       "      <td>2019-12-23</td>\n",
       "      <td>Monday</td>\n",
       "      <td>1</td>\n",
       "      <td>47467565.0</td>\n",
       "      <td>4406</td>\n",
       "    </tr>\n",
       "    <tr>\n",
       "      <th>4</th>\n",
       "      <td>2019-12-24</td>\n",
       "      <td>Tuesday</td>\n",
       "      <td>1</td>\n",
       "      <td>10773.0</td>\n",
       "      <td>4406</td>\n",
       "    </tr>\n",
       "    <tr>\n",
       "      <th>...</th>\n",
       "      <td>...</td>\n",
       "      <td>...</td>\n",
       "      <td>...</td>\n",
       "      <td>...</td>\n",
       "      <td>...</td>\n",
       "    </tr>\n",
       "    <tr>\n",
       "      <th>86</th>\n",
       "      <td>2020-03-15</td>\n",
       "      <td>Sunday</td>\n",
       "      <td>23</td>\n",
       "      <td>485616199.</td>\n",
       "      <td>189</td>\n",
       "    </tr>\n",
       "    <tr>\n",
       "      <th>87</th>\n",
       "      <td>2020-03-16</td>\n",
       "      <td>Monday</td>\n",
       "      <td>18</td>\n",
       "      <td>3529380.0</td>\n",
       "      <td>189</td>\n",
       "    </tr>\n",
       "    <tr>\n",
       "      <th>88</th>\n",
       "      <td>2020-03-17</td>\n",
       "      <td>Tuesday</td>\n",
       "      <td>18</td>\n",
       "      <td>1154.0</td>\n",
       "      <td>189</td>\n",
       "    </tr>\n",
       "    <tr>\n",
       "      <th>89</th>\n",
       "      <td>2020-03-18</td>\n",
       "      <td>Wednesday</td>\n",
       "      <td>16</td>\n",
       "      <td>489145579.</td>\n",
       "      <td>189</td>\n",
       "    </tr>\n",
       "    <tr>\n",
       "      <th>90</th>\n",
       "      <td>2020-03-19</td>\n",
       "      <td>Thursday</td>\n",
       "      <td>15</td>\n",
       "      <td>2789270.0</td>\n",
       "      <td>189</td>\n",
       "    </tr>\n",
       "  </tbody>\n",
       "</table>\n",
       "<p>91 rows × 5 columns</p>\n",
       "</div>"
      ],
      "text/plain": [
       "          days        dow rank       daily theaters\n",
       "0   2019-12-20     Friday    1  89615288.0     4406\n",
       "1   2019-12-21   Saturday    1     20339.0     4406\n",
       "2   2019-12-22     Sunday    1  89615288.0     4406\n",
       "3   2019-12-23     Monday    1  47467565.0     4406\n",
       "4   2019-12-24    Tuesday    1     10773.0     4406\n",
       "..         ...        ...  ...         ...      ...\n",
       "86  2020-03-15     Sunday   23  485616199.      189\n",
       "87  2020-03-16     Monday   18   3529380.0      189\n",
       "88  2020-03-17    Tuesday   18      1154.0      189\n",
       "89  2020-03-18  Wednesday   16  489145579.      189\n",
       "90  2020-03-19   Thursday   15   2789270.0      189\n",
       "\n",
       "[91 rows x 5 columns]"
      ]
     },
     "execution_count": 9,
     "metadata": {},
     "output_type": "execute_result"
    }
   ],
   "source": [
    "#Because spaces are a no-go in file names\n",
    "movie_title = movie_title.replace(\" \", \"_\")\n",
    "\n",
    "movie_df\n",
    "#movie_df.to_csv(movie_title+\".csv\")"
   ]
  },
  {
   "cell_type": "code",
   "execution_count": null,
   "id": "53db7af5",
   "metadata": {},
   "outputs": [],
   "source": []
  }
 ],
 "metadata": {
  "kernelspec": {
   "display_name": "Python 3",
   "language": "python",
   "name": "python3"
  },
  "language_info": {
   "codemirror_mode": {
    "name": "ipython",
    "version": 3
   },
   "file_extension": ".py",
   "mimetype": "text/x-python",
   "name": "python",
   "nbconvert_exporter": "python",
   "pygments_lexer": "ipython3",
   "version": "3.8.8"
  }
 },
 "nbformat": 4,
 "nbformat_minor": 5
}
