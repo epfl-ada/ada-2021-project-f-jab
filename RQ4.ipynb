{
 "cells": [
  {
   "cell_type": "markdown",
   "id": "8295adf7",
   "metadata": {},
   "source": [
    "# Research Question 4:\n",
    "Interpret if there is a bias in the data\n",
    "\n",
    "RQ4: Is there a bias within the quotes and sentiment or rating of a movie w.r.t gender, ethnicity, etc.?"
   ]
  },
  {
   "cell_type": "markdown",
   "id": "05c97bc9",
   "metadata": {},
   "source": [
    "Possible Bias:\n",
    "- Women tend to vote less on movies\n",
    "- How successful are movies liked by men/women?\n",
    "- Average vote by men?\n",
    "- Young vs old generation? Which generation influences movie success the most?\n",
    "- Bias per country??? (But Box office is limited to US only!)\n",
    "- Bias on quote: Get gender of quoted person -> wikidata"
   ]
  },
  {
   "cell_type": "code",
   "execution_count": 1,
   "id": "9b258465",
   "metadata": {},
   "outputs": [],
   "source": [
    "import pandas as pd\n",
    "import numpy as np\n",
    "import seaborn as sns\n",
    "import matplotlib.pyplot as plt\n",
    "from scipy.stats import ttest_1samp, pearsonr, ttest_ind\n",
    "import statsmodels.api as sm\n",
    "import statsmodels.formula.api as smf"
   ]
  },
  {
   "cell_type": "code",
   "execution_count": 2,
   "id": "c5a46c44",
   "metadata": {},
   "outputs": [
    {
     "name": "stderr",
     "output_type": "stream",
     "text": [
      "/opt/miniconda3/envs/ada/lib/python3.8/site-packages/IPython/core/interactiveshell.py:3441: DtypeWarning: Columns (3) have mixed types.Specify dtype option on import or set low_memory=False.\n",
      "  exec(code_obj, self.user_global_ns, self.user_ns)\n"
     ]
    }
   ],
   "source": [
    "movies = pd.read_csv('data/IMDb/IMDb movies.csv')"
   ]
  },
  {
   "cell_type": "code",
   "execution_count": 3,
   "id": "1731b1af",
   "metadata": {},
   "outputs": [],
   "source": [
    "def clean_imdb(df):\n",
    "    imdb = df.rename(columns = {'worlwide_gross_income':'worldwide_gross_income'})\n",
    "    imdb = imdb.drop(imdb.index[83917])\n",
    "    imdb['year'] = imdb['year'].astype(int)\n",
    "    imdb = imdb[imdb['year']>2014]\n",
    "    imdb = imdb.dropna()\n",
    "    imdb['budget'] = imdb['budget'].map(lambda x: x.lstrip('$EURCZKNYGBPWILSADMXNJPYOP')).astype(int)\n",
    "    imdb['worldwide_gross_income'] = imdb['worldwide_gross_income'].map(lambda x: x.lstrip('$EURCZKNYGBPWILSADMXNJPYOP')).astype(int)\n",
    "    imdb['usa_gross_income'] = imdb['usa_gross_income'].map(lambda x: x.lstrip('$EURCZKNYGBPWILSADMXNJPYOP')).astype(int)\n",
    "    imdb['date_published'] = pd.to_datetime(imdb['date_published'])\n",
    "    return imdb\n",
    "\n",
    "movies = clean_imdb(movies)"
   ]
  },
  {
   "cell_type": "code",
   "execution_count": 4,
   "id": "65a4e81d",
   "metadata": {},
   "outputs": [],
   "source": [
    "def standardize_col(col):\n",
    "    try:\n",
    "        return (col - col.mean())/col.std()\n",
    "    except:\n",
    "        return col"
   ]
  },
  {
   "cell_type": "code",
   "execution_count": 5,
   "id": "4b5ca95b",
   "metadata": {},
   "outputs": [],
   "source": [
    "ratings = pd.read_csv('data/IMDb/IMDb ratings.csv')"
   ]
  },
  {
   "cell_type": "code",
   "execution_count": 6,
   "id": "628168ed",
   "metadata": {},
   "outputs": [
    {
     "data": {
      "text/html": [
       "<div>\n",
       "<style scoped>\n",
       "    .dataframe tbody tr th:only-of-type {\n",
       "        vertical-align: middle;\n",
       "    }\n",
       "\n",
       "    .dataframe tbody tr th {\n",
       "        vertical-align: top;\n",
       "    }\n",
       "\n",
       "    .dataframe thead th {\n",
       "        text-align: right;\n",
       "    }\n",
       "</style>\n",
       "<table border=\"1\" class=\"dataframe\">\n",
       "  <thead>\n",
       "    <tr style=\"text-align: right;\">\n",
       "      <th></th>\n",
       "      <th>imdb_title_id</th>\n",
       "      <th>title</th>\n",
       "      <th>original_title</th>\n",
       "      <th>year</th>\n",
       "      <th>date_published</th>\n",
       "      <th>genre</th>\n",
       "      <th>duration</th>\n",
       "      <th>country</th>\n",
       "      <th>language</th>\n",
       "      <th>director</th>\n",
       "      <th>...</th>\n",
       "      <th>actors</th>\n",
       "      <th>description</th>\n",
       "      <th>avg_vote</th>\n",
       "      <th>votes</th>\n",
       "      <th>budget</th>\n",
       "      <th>usa_gross_income</th>\n",
       "      <th>worldwide_gross_income</th>\n",
       "      <th>metascore</th>\n",
       "      <th>reviews_from_users</th>\n",
       "      <th>reviews_from_critics</th>\n",
       "    </tr>\n",
       "  </thead>\n",
       "  <tbody>\n",
       "    <tr>\n",
       "      <th>43822</th>\n",
       "      <td>tt0369610</td>\n",
       "      <td>Jurassic World</td>\n",
       "      <td>Jurassic World</td>\n",
       "      <td>2015</td>\n",
       "      <td>2015-06-11</td>\n",
       "      <td>Action, Adventure, Sci-Fi</td>\n",
       "      <td>124</td>\n",
       "      <td>USA</td>\n",
       "      <td>English</td>\n",
       "      <td>Colin Trevorrow</td>\n",
       "      <td>...</td>\n",
       "      <td>Chris Pratt, Bryce Dallas Howard, Irrfan Khan,...</td>\n",
       "      <td>A new theme park, built on the original site o...</td>\n",
       "      <td>7.0</td>\n",
       "      <td>569512</td>\n",
       "      <td>150000000</td>\n",
       "      <td>652270625</td>\n",
       "      <td>1670401444</td>\n",
       "      <td>59.0</td>\n",
       "      <td>1537.0</td>\n",
       "      <td>698.0</td>\n",
       "    </tr>\n",
       "    <tr>\n",
       "      <th>44619</th>\n",
       "      <td>tt0385887</td>\n",
       "      <td>Motherless Brooklyn - I segreti di una città</td>\n",
       "      <td>Motherless Brooklyn</td>\n",
       "      <td>2019</td>\n",
       "      <td>2019-11-07</td>\n",
       "      <td>Crime, Drama, Mystery</td>\n",
       "      <td>144</td>\n",
       "      <td>USA</td>\n",
       "      <td>English, French</td>\n",
       "      <td>Edward Norton</td>\n",
       "      <td>...</td>\n",
       "      <td>Edward Norton, Gugu Mbatha-Raw, Alec Baldwin, ...</td>\n",
       "      <td>In 1950s New York, a lonely private detective ...</td>\n",
       "      <td>6.8</td>\n",
       "      <td>34759</td>\n",
       "      <td>26000000</td>\n",
       "      <td>9277736</td>\n",
       "      <td>18477736</td>\n",
       "      <td>60.0</td>\n",
       "      <td>319.0</td>\n",
       "      <td>178.0</td>\n",
       "    </tr>\n",
       "    <tr>\n",
       "      <th>46723</th>\n",
       "      <td>tt0437086</td>\n",
       "      <td>Alita - Angelo della battaglia</td>\n",
       "      <td>Alita: Battle Angel</td>\n",
       "      <td>2019</td>\n",
       "      <td>2019-02-14</td>\n",
       "      <td>Action, Adventure, Sci-Fi</td>\n",
       "      <td>122</td>\n",
       "      <td>USA, Japan, Canada</td>\n",
       "      <td>English, Spanish</td>\n",
       "      <td>Robert Rodriguez</td>\n",
       "      <td>...</td>\n",
       "      <td>Rosa Salazar, Christoph Waltz, Jennifer Connel...</td>\n",
       "      <td>A deactivated cyborg is revived, but cannot re...</td>\n",
       "      <td>7.3</td>\n",
       "      <td>217183</td>\n",
       "      <td>170000000</td>\n",
       "      <td>85710210</td>\n",
       "      <td>404852543</td>\n",
       "      <td>53.0</td>\n",
       "      <td>2757.0</td>\n",
       "      <td>368.0</td>\n",
       "    </tr>\n",
       "    <tr>\n",
       "      <th>47132</th>\n",
       "      <td>tt0448115</td>\n",
       "      <td>Shazam!</td>\n",
       "      <td>Shazam!</td>\n",
       "      <td>2019</td>\n",
       "      <td>2019-04-03</td>\n",
       "      <td>Action, Adventure, Comedy</td>\n",
       "      <td>132</td>\n",
       "      <td>USA, Canada</td>\n",
       "      <td>English, Spanish</td>\n",
       "      <td>David F. Sandberg</td>\n",
       "      <td>...</td>\n",
       "      <td>Zachary Levi, Mark Strong, Asher Angel, Jack D...</td>\n",
       "      <td>A newly fostered young boy in search of his mo...</td>\n",
       "      <td>7.1</td>\n",
       "      <td>240858</td>\n",
       "      <td>100000000</td>\n",
       "      <td>140371656</td>\n",
       "      <td>365971656</td>\n",
       "      <td>71.0</td>\n",
       "      <td>2009.0</td>\n",
       "      <td>379.0</td>\n",
       "    </tr>\n",
       "    <tr>\n",
       "      <th>47292</th>\n",
       "      <td>tt0451279</td>\n",
       "      <td>Wonder Woman</td>\n",
       "      <td>Wonder Woman</td>\n",
       "      <td>2017</td>\n",
       "      <td>2017-06-01</td>\n",
       "      <td>Action, Adventure, Fantasy</td>\n",
       "      <td>141</td>\n",
       "      <td>USA, China, Hong Kong</td>\n",
       "      <td>English, German, Dutch, French, Spanish, Chine...</td>\n",
       "      <td>Patty Jenkins</td>\n",
       "      <td>...</td>\n",
       "      <td>Gal Gadot, Chris Pine, Connie Nielsen, Robin W...</td>\n",
       "      <td>When a pilot crashes and tells of conflict in ...</td>\n",
       "      <td>7.4</td>\n",
       "      <td>535903</td>\n",
       "      <td>149000000</td>\n",
       "      <td>412563408</td>\n",
       "      <td>821847012</td>\n",
       "      <td>76.0</td>\n",
       "      <td>2200.0</td>\n",
       "      <td>713.0</td>\n",
       "    </tr>\n",
       "  </tbody>\n",
       "</table>\n",
       "<p>5 rows × 22 columns</p>\n",
       "</div>"
      ],
      "text/plain": [
       "      imdb_title_id                                         title  \\\n",
       "43822     tt0369610                                Jurassic World   \n",
       "44619     tt0385887  Motherless Brooklyn - I segreti di una città   \n",
       "46723     tt0437086                Alita - Angelo della battaglia   \n",
       "47132     tt0448115                                       Shazam!   \n",
       "47292     tt0451279                                  Wonder Woman   \n",
       "\n",
       "            original_title  year date_published                       genre  \\\n",
       "43822       Jurassic World  2015     2015-06-11   Action, Adventure, Sci-Fi   \n",
       "44619  Motherless Brooklyn  2019     2019-11-07       Crime, Drama, Mystery   \n",
       "46723  Alita: Battle Angel  2019     2019-02-14   Action, Adventure, Sci-Fi   \n",
       "47132              Shazam!  2019     2019-04-03   Action, Adventure, Comedy   \n",
       "47292         Wonder Woman  2017     2017-06-01  Action, Adventure, Fantasy   \n",
       "\n",
       "       duration                country  \\\n",
       "43822       124                    USA   \n",
       "44619       144                    USA   \n",
       "46723       122     USA, Japan, Canada   \n",
       "47132       132            USA, Canada   \n",
       "47292       141  USA, China, Hong Kong   \n",
       "\n",
       "                                                language           director  \\\n",
       "43822                                            English    Colin Trevorrow   \n",
       "44619                                    English, French      Edward Norton   \n",
       "46723                                   English, Spanish   Robert Rodriguez   \n",
       "47132                                   English, Spanish  David F. Sandberg   \n",
       "47292  English, German, Dutch, French, Spanish, Chine...      Patty Jenkins   \n",
       "\n",
       "       ...                                             actors  \\\n",
       "43822  ...  Chris Pratt, Bryce Dallas Howard, Irrfan Khan,...   \n",
       "44619  ...  Edward Norton, Gugu Mbatha-Raw, Alec Baldwin, ...   \n",
       "46723  ...  Rosa Salazar, Christoph Waltz, Jennifer Connel...   \n",
       "47132  ...  Zachary Levi, Mark Strong, Asher Angel, Jack D...   \n",
       "47292  ...  Gal Gadot, Chris Pine, Connie Nielsen, Robin W...   \n",
       "\n",
       "                                             description avg_vote   votes  \\\n",
       "43822  A new theme park, built on the original site o...      7.0  569512   \n",
       "44619  In 1950s New York, a lonely private detective ...      6.8   34759   \n",
       "46723  A deactivated cyborg is revived, but cannot re...      7.3  217183   \n",
       "47132  A newly fostered young boy in search of his mo...      7.1  240858   \n",
       "47292  When a pilot crashes and tells of conflict in ...      7.4  535903   \n",
       "\n",
       "          budget  usa_gross_income  worldwide_gross_income  metascore  \\\n",
       "43822  150000000         652270625              1670401444       59.0   \n",
       "44619   26000000           9277736                18477736       60.0   \n",
       "46723  170000000          85710210               404852543       53.0   \n",
       "47132  100000000         140371656               365971656       71.0   \n",
       "47292  149000000         412563408               821847012       76.0   \n",
       "\n",
       "       reviews_from_users  reviews_from_critics  \n",
       "43822              1537.0                 698.0  \n",
       "44619               319.0                 178.0  \n",
       "46723              2757.0                 368.0  \n",
       "47132              2009.0                 379.0  \n",
       "47292              2200.0                 713.0  \n",
       "\n",
       "[5 rows x 22 columns]"
      ]
     },
     "execution_count": 6,
     "metadata": {},
     "output_type": "execute_result"
    }
   ],
   "source": [
    "movies.head()"
   ]
  },
  {
   "cell_type": "code",
   "execution_count": 7,
   "id": "0bb75d4e",
   "metadata": {},
   "outputs": [
    {
     "data": {
      "text/plain": [
       "Index(['imdb_title_id', 'title', 'original_title', 'year', 'date_published',\n",
       "       'genre', 'duration', 'country', 'language', 'director', 'writer',\n",
       "       'production_company', 'actors', 'description', 'avg_vote', 'votes',\n",
       "       'budget', 'usa_gross_income', 'worldwide_gross_income', 'metascore',\n",
       "       'reviews_from_users', 'reviews_from_critics'],\n",
       "      dtype='object')"
      ]
     },
     "execution_count": 7,
     "metadata": {},
     "output_type": "execute_result"
    }
   ],
   "source": [
    "movies.columns"
   ]
  },
  {
   "cell_type": "code",
   "execution_count": 8,
   "id": "77b90e8a",
   "metadata": {},
   "outputs": [
    {
     "data": {
      "text/html": [
       "<div>\n",
       "<style scoped>\n",
       "    .dataframe tbody tr th:only-of-type {\n",
       "        vertical-align: middle;\n",
       "    }\n",
       "\n",
       "    .dataframe tbody tr th {\n",
       "        vertical-align: top;\n",
       "    }\n",
       "\n",
       "    .dataframe thead th {\n",
       "        text-align: right;\n",
       "    }\n",
       "</style>\n",
       "<table border=\"1\" class=\"dataframe\">\n",
       "  <thead>\n",
       "    <tr style=\"text-align: right;\">\n",
       "      <th></th>\n",
       "      <th>imdb_title_id</th>\n",
       "      <th>weighted_average_vote</th>\n",
       "      <th>total_votes</th>\n",
       "      <th>mean_vote</th>\n",
       "      <th>median_vote</th>\n",
       "      <th>votes_10</th>\n",
       "      <th>votes_9</th>\n",
       "      <th>votes_8</th>\n",
       "      <th>votes_7</th>\n",
       "      <th>votes_6</th>\n",
       "      <th>...</th>\n",
       "      <th>females_30age_avg_vote</th>\n",
       "      <th>females_30age_votes</th>\n",
       "      <th>females_45age_avg_vote</th>\n",
       "      <th>females_45age_votes</th>\n",
       "      <th>top1000_voters_rating</th>\n",
       "      <th>top1000_voters_votes</th>\n",
       "      <th>us_voters_rating</th>\n",
       "      <th>us_voters_votes</th>\n",
       "      <th>non_us_voters_rating</th>\n",
       "      <th>non_us_voters_votes</th>\n",
       "    </tr>\n",
       "  </thead>\n",
       "  <tbody>\n",
       "    <tr>\n",
       "      <th>0</th>\n",
       "      <td>tt0000009</td>\n",
       "      <td>5.9</td>\n",
       "      <td>154</td>\n",
       "      <td>5.9</td>\n",
       "      <td>6.0</td>\n",
       "      <td>12</td>\n",
       "      <td>4</td>\n",
       "      <td>10</td>\n",
       "      <td>43</td>\n",
       "      <td>28</td>\n",
       "      <td>...</td>\n",
       "      <td>5.7</td>\n",
       "      <td>13.0</td>\n",
       "      <td>4.5</td>\n",
       "      <td>4.0</td>\n",
       "      <td>5.7</td>\n",
       "      <td>34.0</td>\n",
       "      <td>6.4</td>\n",
       "      <td>51.0</td>\n",
       "      <td>6.0</td>\n",
       "      <td>70.0</td>\n",
       "    </tr>\n",
       "    <tr>\n",
       "      <th>1</th>\n",
       "      <td>tt0000574</td>\n",
       "      <td>6.1</td>\n",
       "      <td>589</td>\n",
       "      <td>6.3</td>\n",
       "      <td>6.0</td>\n",
       "      <td>57</td>\n",
       "      <td>18</td>\n",
       "      <td>58</td>\n",
       "      <td>137</td>\n",
       "      <td>139</td>\n",
       "      <td>...</td>\n",
       "      <td>6.2</td>\n",
       "      <td>23.0</td>\n",
       "      <td>6.6</td>\n",
       "      <td>14.0</td>\n",
       "      <td>6.4</td>\n",
       "      <td>66.0</td>\n",
       "      <td>6.0</td>\n",
       "      <td>96.0</td>\n",
       "      <td>6.2</td>\n",
       "      <td>331.0</td>\n",
       "    </tr>\n",
       "    <tr>\n",
       "      <th>2</th>\n",
       "      <td>tt0001892</td>\n",
       "      <td>5.8</td>\n",
       "      <td>188</td>\n",
       "      <td>6.0</td>\n",
       "      <td>6.0</td>\n",
       "      <td>6</td>\n",
       "      <td>6</td>\n",
       "      <td>17</td>\n",
       "      <td>44</td>\n",
       "      <td>52</td>\n",
       "      <td>...</td>\n",
       "      <td>5.8</td>\n",
       "      <td>4.0</td>\n",
       "      <td>6.8</td>\n",
       "      <td>7.0</td>\n",
       "      <td>5.4</td>\n",
       "      <td>32.0</td>\n",
       "      <td>6.2</td>\n",
       "      <td>31.0</td>\n",
       "      <td>5.9</td>\n",
       "      <td>123.0</td>\n",
       "    </tr>\n",
       "    <tr>\n",
       "      <th>3</th>\n",
       "      <td>tt0002101</td>\n",
       "      <td>5.2</td>\n",
       "      <td>446</td>\n",
       "      <td>5.3</td>\n",
       "      <td>5.0</td>\n",
       "      <td>15</td>\n",
       "      <td>8</td>\n",
       "      <td>16</td>\n",
       "      <td>62</td>\n",
       "      <td>98</td>\n",
       "      <td>...</td>\n",
       "      <td>5.5</td>\n",
       "      <td>14.0</td>\n",
       "      <td>6.1</td>\n",
       "      <td>21.0</td>\n",
       "      <td>4.9</td>\n",
       "      <td>57.0</td>\n",
       "      <td>5.5</td>\n",
       "      <td>207.0</td>\n",
       "      <td>4.7</td>\n",
       "      <td>105.0</td>\n",
       "    </tr>\n",
       "    <tr>\n",
       "      <th>4</th>\n",
       "      <td>tt0002130</td>\n",
       "      <td>7.0</td>\n",
       "      <td>2237</td>\n",
       "      <td>6.9</td>\n",
       "      <td>7.0</td>\n",
       "      <td>210</td>\n",
       "      <td>225</td>\n",
       "      <td>436</td>\n",
       "      <td>641</td>\n",
       "      <td>344</td>\n",
       "      <td>...</td>\n",
       "      <td>7.3</td>\n",
       "      <td>82.0</td>\n",
       "      <td>7.4</td>\n",
       "      <td>77.0</td>\n",
       "      <td>6.9</td>\n",
       "      <td>139.0</td>\n",
       "      <td>7.0</td>\n",
       "      <td>488.0</td>\n",
       "      <td>7.0</td>\n",
       "      <td>1166.0</td>\n",
       "    </tr>\n",
       "  </tbody>\n",
       "</table>\n",
       "<p>5 rows × 49 columns</p>\n",
       "</div>"
      ],
      "text/plain": [
       "  imdb_title_id  weighted_average_vote  total_votes  mean_vote  median_vote  \\\n",
       "0     tt0000009                    5.9          154        5.9          6.0   \n",
       "1     tt0000574                    6.1          589        6.3          6.0   \n",
       "2     tt0001892                    5.8          188        6.0          6.0   \n",
       "3     tt0002101                    5.2          446        5.3          5.0   \n",
       "4     tt0002130                    7.0         2237        6.9          7.0   \n",
       "\n",
       "   votes_10  votes_9  votes_8  votes_7  votes_6  ...  females_30age_avg_vote  \\\n",
       "0        12        4       10       43       28  ...                     5.7   \n",
       "1        57       18       58      137      139  ...                     6.2   \n",
       "2         6        6       17       44       52  ...                     5.8   \n",
       "3        15        8       16       62       98  ...                     5.5   \n",
       "4       210      225      436      641      344  ...                     7.3   \n",
       "\n",
       "   females_30age_votes  females_45age_avg_vote  females_45age_votes  \\\n",
       "0                 13.0                     4.5                  4.0   \n",
       "1                 23.0                     6.6                 14.0   \n",
       "2                  4.0                     6.8                  7.0   \n",
       "3                 14.0                     6.1                 21.0   \n",
       "4                 82.0                     7.4                 77.0   \n",
       "\n",
       "   top1000_voters_rating  top1000_voters_votes  us_voters_rating  \\\n",
       "0                    5.7                  34.0               6.4   \n",
       "1                    6.4                  66.0               6.0   \n",
       "2                    5.4                  32.0               6.2   \n",
       "3                    4.9                  57.0               5.5   \n",
       "4                    6.9                 139.0               7.0   \n",
       "\n",
       "   us_voters_votes  non_us_voters_rating  non_us_voters_votes  \n",
       "0             51.0                   6.0                 70.0  \n",
       "1             96.0                   6.2                331.0  \n",
       "2             31.0                   5.9                123.0  \n",
       "3            207.0                   4.7                105.0  \n",
       "4            488.0                   7.0               1166.0  \n",
       "\n",
       "[5 rows x 49 columns]"
      ]
     },
     "execution_count": 8,
     "metadata": {},
     "output_type": "execute_result"
    }
   ],
   "source": [
    "ratings.head()"
   ]
  },
  {
   "cell_type": "code",
   "execution_count": 9,
   "id": "74cb6860",
   "metadata": {},
   "outputs": [
    {
     "data": {
      "text/plain": [
       "Index(['imdb_title_id', 'weighted_average_vote', 'total_votes', 'mean_vote',\n",
       "       'median_vote', 'votes_10', 'votes_9', 'votes_8', 'votes_7', 'votes_6',\n",
       "       'votes_5', 'votes_4', 'votes_3', 'votes_2', 'votes_1',\n",
       "       'allgenders_0age_avg_vote', 'allgenders_0age_votes',\n",
       "       'allgenders_18age_avg_vote', 'allgenders_18age_votes',\n",
       "       'allgenders_30age_avg_vote', 'allgenders_30age_votes',\n",
       "       'allgenders_45age_avg_vote', 'allgenders_45age_votes',\n",
       "       'males_allages_avg_vote', 'males_allages_votes', 'males_0age_avg_vote',\n",
       "       'males_0age_votes', 'males_18age_avg_vote', 'males_18age_votes',\n",
       "       'males_30age_avg_vote', 'males_30age_votes', 'males_45age_avg_vote',\n",
       "       'males_45age_votes', 'females_allages_avg_vote',\n",
       "       'females_allages_votes', 'females_0age_avg_vote', 'females_0age_votes',\n",
       "       'females_18age_avg_vote', 'females_18age_votes',\n",
       "       'females_30age_avg_vote', 'females_30age_votes',\n",
       "       'females_45age_avg_vote', 'females_45age_votes',\n",
       "       'top1000_voters_rating', 'top1000_voters_votes', 'us_voters_rating',\n",
       "       'us_voters_votes', 'non_us_voters_rating', 'non_us_voters_votes'],\n",
       "      dtype='object')"
      ]
     },
     "execution_count": 9,
     "metadata": {},
     "output_type": "execute_result"
    }
   ],
   "source": [
    "ratings.columns"
   ]
  },
  {
   "cell_type": "code",
   "execution_count": 10,
   "id": "57c0b43d",
   "metadata": {},
   "outputs": [
    {
     "data": {
      "text/plain": [
       "5.817172176019604"
      ]
     },
     "execution_count": 10,
     "metadata": {},
     "output_type": "execute_result"
    }
   ],
   "source": [
    "ratings['males_allages_avg_vote'].mean()"
   ]
  },
  {
   "cell_type": "code",
   "execution_count": 11,
   "id": "ba7d0631",
   "metadata": {},
   "outputs": [
    {
     "data": {
      "text/plain": [
       "6.0394082122788"
      ]
     },
     "execution_count": 11,
     "metadata": {},
     "output_type": "execute_result"
    }
   ],
   "source": [
    "ratings['females_allages_avg_vote'].mean()"
   ]
  },
  {
   "cell_type": "code",
   "execution_count": 12,
   "id": "604af376",
   "metadata": {},
   "outputs": [
    {
     "data": {
      "text/plain": [
       "<AxesSubplot:ylabel='Frequency'>"
      ]
     },
     "execution_count": 12,
     "metadata": {},
     "output_type": "execute_result"
    },
    {
     "data": {
      "image/png": "[encoded data removed]",
      "text/plain": [
       "<Figure size 432x288 with 1 Axes>"
      ]
     },
     "metadata": {
      "needs_background": "light"
     },
     "output_type": "display_data"
    }
   ],
   "source": [
    "ratings['males_allages_avg_vote'].plot.hist()"
   ]
  },
  {
   "cell_type": "code",
   "execution_count": 13,
   "id": "b2c83c77",
   "metadata": {},
   "outputs": [
    {
     "data": {
      "text/plain": [
       "<AxesSubplot:ylabel='Frequency'>"
      ]
     },
     "execution_count": 13,
     "metadata": {},
     "output_type": "execute_result"
    },
    {
     "data": {
      "image/png": "[encoded data removed]",
      "text/plain": [
       "<Figure size 432x288 with 1 Axes>"
      ]
     },
     "metadata": {
      "needs_background": "light"
     },
     "output_type": "display_data"
    }
   ],
   "source": [
    "ratings['females_allages_avg_vote'].plot.hist()"
   ]
  },
  {
   "cell_type": "code",
   "execution_count": 14,
   "id": "8bd93008",
   "metadata": {},
   "outputs": [
    {
     "data": {
      "text/plain": [
       "['Star Wars: Episode VII - The Force Awakens',\n",
       " 'Jurassic World',\n",
       " 'Fast & Furious 7',\n",
       " 'Avengers: Age of Ultron',\n",
       " 'Minions',\n",
       " 'Spectre',\n",
       " 'Inside Out',\n",
       " 'Mission: Impossible - Rogue Nation',\n",
       " 'The Hunger Games: Mockingjay - Part 2',\n",
       " 'The Martian',\n",
       " 'Captain America: Civil War',\n",
       " 'Rogue One',\n",
       " 'Finding Dory',\n",
       " 'Zootopia',\n",
       " 'The Jungle Book',\n",
       " 'The Secret Life of Pets',\n",
       " 'Batman v Superman: Dawn of Justice',\n",
       " 'Fantastic Beasts and Where to Find Them',\n",
       " 'Deadpool',\n",
       " 'Suicide Squad',\n",
       " 'Star Wars: Episode VIII - The Last Jedi',\n",
       " 'Beauty and the Beast',\n",
       " 'The Fate of the Furious',\n",
       " 'Despicable Me 3',\n",
       " 'Jumanji: Welcome to the Jungle',\n",
       " 'Spider-Man: Homecoming',\n",
       " 'Zhan lang II',\n",
       " 'Guardians of the Galaxy Vol. 2',\n",
       " 'Thor: Ragnarok',\n",
       " 'Wonder Woman',\n",
       " 'Avengers: Infinity War',\n",
       " 'Black Panther',\n",
       " 'Jurassic World: Fallen Kingdom',\n",
       " 'Incredibles 2',\n",
       " 'Aquaman',\n",
       " 'Bohemian Rhapsody',\n",
       " 'Venom',\n",
       " 'Mission: Impossible - Fallout',\n",
       " 'Deadpool 2',\n",
       " 'Fantastic Beasts: The Crimes of Grindelwald',\n",
       " 'Avengers: Endgame',\n",
       " 'The Lion King',\n",
       " 'Frozen II',\n",
       " 'Spider-Man: Far from Home',\n",
       " 'Captain Marvel',\n",
       " 'Joker',\n",
       " 'Star Wars: Episode IX - The Rise of Skywalker',\n",
       " 'Toy Story 4',\n",
       " 'Aladdin',\n",
       " 'Jumanji: The Next Level',\n",
       " 'Bad Boys for Life',\n",
       " 'Sonic the Hedgehog',\n",
       " 'Ba Bai',\n",
       " 'Dolittle',\n",
       " 'Birds of Prey: And the Fantabulous Emancipation of One Harley Quinn',\n",
       " 'Onward',\n",
       " 'The Invisible Man',\n",
       " 'The Call of the Wild',\n",
       " 'Tenet',\n",
       " 'Tolo Tolo']"
      ]
     },
     "execution_count": 14,
     "metadata": {},
     "output_type": "execute_result"
    }
   ],
   "source": [
    "most_successful_movies = {2015: ['Star Wars: Episode VII - The Force Awakens',\n",
    "  'Jurassic World',\n",
    "  'Fast & Furious 7',\n",
    "  'Avengers: Age of Ultron',\n",
    "  'Minions',\n",
    "  'Spectre',\n",
    "  'Inside Out',\n",
    "  'Mission: Impossible - Rogue Nation',\n",
    "  'The Hunger Games: Mockingjay - Part 2',\n",
    "  'The Martian'],\n",
    " 2016: ['Captain America: Civil War',\n",
    "  'Rogue One',\n",
    "  'Finding Dory',\n",
    "  'Zootopia',\n",
    "  'The Jungle Book',\n",
    "  'The Secret Life of Pets',\n",
    "  'Batman v Superman: Dawn of Justice',\n",
    "  'Fantastic Beasts and Where to Find Them',\n",
    "  'Deadpool',\n",
    "  'Suicide Squad'],\n",
    " 2017: ['Star Wars: Episode VIII - The Last Jedi',\n",
    "  'Beauty and the Beast',\n",
    "  'The Fate of the Furious',\n",
    "  'Despicable Me 3',\n",
    "  'Jumanji: Welcome to the Jungle',\n",
    "  'Spider-Man: Homecoming',\n",
    "  'Zhan lang II',\n",
    "  'Guardians of the Galaxy Vol. 2',\n",
    "  'Thor: Ragnarok',\n",
    "  'Wonder Woman'],\n",
    " 2018: ['Avengers: Infinity War',\n",
    "  'Black Panther',\n",
    "  'Jurassic World: Fallen Kingdom',\n",
    "  'Incredibles 2',\n",
    "  'Aquaman',\n",
    "  'Bohemian Rhapsody',\n",
    "  'Venom',\n",
    "  'Mission: Impossible - Fallout',\n",
    "  'Deadpool 2',\n",
    "  'Fantastic Beasts: The Crimes of Grindelwald'],\n",
    " 2019: ['Avengers: Endgame',\n",
    "  'The Lion King',\n",
    "  'Frozen II',\n",
    "  'Spider-Man: Far from Home',\n",
    "  'Captain Marvel',\n",
    "  'Joker',\n",
    "  'Star Wars: Episode IX - The Rise of Skywalker',\n",
    "  'Toy Story 4',\n",
    "  'Aladdin',\n",
    "  'Jumanji: The Next Level'],\n",
    " 2020: ['Bad Boys for Life',\n",
    "  'Sonic the Hedgehog',\n",
    "  'Ba Bai',\n",
    "  'Dolittle',\n",
    "  'Birds of Prey: And the Fantabulous Emancipation of One Harley Quinn',\n",
    "  'Onward',\n",
    "  'The Invisible Man',\n",
    "  'The Call of the Wild',\n",
    "  'Tenet',\n",
    "  'Tolo Tolo']}\n",
    "\n",
    "movie_list = sum(most_successful_movies.values(), [])\n",
    "movie_list"
   ]
  },
  {
   "cell_type": "code",
   "execution_count": 15,
   "id": "302a2b0a",
   "metadata": {},
   "outputs": [
    {
     "data": {
      "text/html": [
       "<div>\n",
       "<style scoped>\n",
       "    .dataframe tbody tr th:only-of-type {\n",
       "        vertical-align: middle;\n",
       "    }\n",
       "\n",
       "    .dataframe tbody tr th {\n",
       "        vertical-align: top;\n",
       "    }\n",
       "\n",
       "    .dataframe thead th {\n",
       "        text-align: right;\n",
       "    }\n",
       "</style>\n",
       "<table border=\"1\" class=\"dataframe\">\n",
       "  <thead>\n",
       "    <tr style=\"text-align: right;\">\n",
       "      <th></th>\n",
       "      <th>imdb_title_id</th>\n",
       "      <th>title</th>\n",
       "      <th>original_title</th>\n",
       "      <th>year</th>\n",
       "      <th>date_published</th>\n",
       "      <th>genre</th>\n",
       "      <th>duration</th>\n",
       "      <th>country</th>\n",
       "      <th>language</th>\n",
       "      <th>director</th>\n",
       "      <th>...</th>\n",
       "      <th>females_30age_avg_vote</th>\n",
       "      <th>females_30age_votes</th>\n",
       "      <th>females_45age_avg_vote</th>\n",
       "      <th>females_45age_votes</th>\n",
       "      <th>top1000_voters_rating</th>\n",
       "      <th>top1000_voters_votes</th>\n",
       "      <th>us_voters_rating</th>\n",
       "      <th>us_voters_votes</th>\n",
       "      <th>non_us_voters_rating</th>\n",
       "      <th>non_us_voters_votes</th>\n",
       "    </tr>\n",
       "  </thead>\n",
       "  <tbody>\n",
       "    <tr>\n",
       "      <th>0</th>\n",
       "      <td>tt0369610</td>\n",
       "      <td>Jurassic World</td>\n",
       "      <td>Jurassic World</td>\n",
       "      <td>2015</td>\n",
       "      <td>2015-06-11</td>\n",
       "      <td>Action, Adventure, Sci-Fi</td>\n",
       "      <td>124</td>\n",
       "      <td>USA</td>\n",
       "      <td>English</td>\n",
       "      <td>Colin Trevorrow</td>\n",
       "      <td>...</td>\n",
       "      <td>7.2</td>\n",
       "      <td>32243.0</td>\n",
       "      <td>7.3</td>\n",
       "      <td>6381.0</td>\n",
       "      <td>6.8</td>\n",
       "      <td>762.0</td>\n",
       "      <td>7.1</td>\n",
       "      <td>72876.0</td>\n",
       "      <td>6.8</td>\n",
       "      <td>217418.0</td>\n",
       "    </tr>\n",
       "    <tr>\n",
       "      <th>1</th>\n",
       "      <td>tt0385887</td>\n",
       "      <td>Motherless Brooklyn - I segreti di una città</td>\n",
       "      <td>Motherless Brooklyn</td>\n",
       "      <td>2019</td>\n",
       "      <td>2019-11-07</td>\n",
       "      <td>Crime, Drama, Mystery</td>\n",
       "      <td>144</td>\n",
       "      <td>USA</td>\n",
       "      <td>English, French</td>\n",
       "      <td>Edward Norton</td>\n",
       "      <td>...</td>\n",
       "      <td>6.8</td>\n",
       "      <td>1632.0</td>\n",
       "      <td>7.1</td>\n",
       "      <td>837.0</td>\n",
       "      <td>6.3</td>\n",
       "      <td>269.0</td>\n",
       "      <td>6.8</td>\n",
       "      <td>5124.0</td>\n",
       "      <td>6.8</td>\n",
       "      <td>14796.0</td>\n",
       "    </tr>\n",
       "    <tr>\n",
       "      <th>2</th>\n",
       "      <td>tt0437086</td>\n",
       "      <td>Alita - Angelo della battaglia</td>\n",
       "      <td>Alita: Battle Angel</td>\n",
       "      <td>2019</td>\n",
       "      <td>2019-02-14</td>\n",
       "      <td>Action, Adventure, Sci-Fi</td>\n",
       "      <td>122</td>\n",
       "      <td>USA, Japan, Canada</td>\n",
       "      <td>English, Spanish</td>\n",
       "      <td>Robert Rodriguez</td>\n",
       "      <td>...</td>\n",
       "      <td>7.2</td>\n",
       "      <td>7651.0</td>\n",
       "      <td>7.5</td>\n",
       "      <td>1843.0</td>\n",
       "      <td>6.8</td>\n",
       "      <td>439.0</td>\n",
       "      <td>7.3</td>\n",
       "      <td>22680.0</td>\n",
       "      <td>7.2</td>\n",
       "      <td>83787.0</td>\n",
       "    </tr>\n",
       "    <tr>\n",
       "      <th>3</th>\n",
       "      <td>tt0448115</td>\n",
       "      <td>Shazam!</td>\n",
       "      <td>Shazam!</td>\n",
       "      <td>2019</td>\n",
       "      <td>2019-04-03</td>\n",
       "      <td>Action, Adventure, Comedy</td>\n",
       "      <td>132</td>\n",
       "      <td>USA, Canada</td>\n",
       "      <td>English, Spanish</td>\n",
       "      <td>David F. Sandberg</td>\n",
       "      <td>...</td>\n",
       "      <td>7.1</td>\n",
       "      <td>8995.0</td>\n",
       "      <td>7.3</td>\n",
       "      <td>2091.0</td>\n",
       "      <td>6.8</td>\n",
       "      <td>525.0</td>\n",
       "      <td>7.3</td>\n",
       "      <td>28394.0</td>\n",
       "      <td>6.9</td>\n",
       "      <td>85782.0</td>\n",
       "    </tr>\n",
       "    <tr>\n",
       "      <th>4</th>\n",
       "      <td>tt0451279</td>\n",
       "      <td>Wonder Woman</td>\n",
       "      <td>Wonder Woman</td>\n",
       "      <td>2017</td>\n",
       "      <td>2017-06-01</td>\n",
       "      <td>Action, Adventure, Fantasy</td>\n",
       "      <td>141</td>\n",
       "      <td>USA, China, Hong Kong</td>\n",
       "      <td>English, German, Dutch, French, Spanish, Chine...</td>\n",
       "      <td>Patty Jenkins</td>\n",
       "      <td>...</td>\n",
       "      <td>7.6</td>\n",
       "      <td>29053.0</td>\n",
       "      <td>7.8</td>\n",
       "      <td>7220.0</td>\n",
       "      <td>7.0</td>\n",
       "      <td>723.0</td>\n",
       "      <td>7.7</td>\n",
       "      <td>67709.0</td>\n",
       "      <td>7.2</td>\n",
       "      <td>190337.0</td>\n",
       "    </tr>\n",
       "  </tbody>\n",
       "</table>\n",
       "<p>5 rows × 70 columns</p>\n",
       "</div>"
      ],
      "text/plain": [
       "  imdb_title_id                                         title  \\\n",
       "0     tt0369610                                Jurassic World   \n",
       "1     tt0385887  Motherless Brooklyn - I segreti di una città   \n",
       "2     tt0437086                Alita - Angelo della battaglia   \n",
       "3     tt0448115                                       Shazam!   \n",
       "4     tt0451279                                  Wonder Woman   \n",
       "\n",
       "        original_title  year date_published                       genre  \\\n",
       "0       Jurassic World  2015     2015-06-11   Action, Adventure, Sci-Fi   \n",
       "1  Motherless Brooklyn  2019     2019-11-07       Crime, Drama, Mystery   \n",
       "2  Alita: Battle Angel  2019     2019-02-14   Action, Adventure, Sci-Fi   \n",
       "3              Shazam!  2019     2019-04-03   Action, Adventure, Comedy   \n",
       "4         Wonder Woman  2017     2017-06-01  Action, Adventure, Fantasy   \n",
       "\n",
       "   duration                country  \\\n",
       "0       124                    USA   \n",
       "1       144                    USA   \n",
       "2       122     USA, Japan, Canada   \n",
       "3       132            USA, Canada   \n",
       "4       141  USA, China, Hong Kong   \n",
       "\n",
       "                                            language           director  ...  \\\n",
       "0                                            English    Colin Trevorrow  ...   \n",
       "1                                    English, French      Edward Norton  ...   \n",
       "2                                   English, Spanish   Robert Rodriguez  ...   \n",
       "3                                   English, Spanish  David F. Sandberg  ...   \n",
       "4  English, German, Dutch, French, Spanish, Chine...      Patty Jenkins  ...   \n",
       "\n",
       "  females_30age_avg_vote females_30age_votes females_45age_avg_vote  \\\n",
       "0                    7.2             32243.0                    7.3   \n",
       "1                    6.8              1632.0                    7.1   \n",
       "2                    7.2              7651.0                    7.5   \n",
       "3                    7.1              8995.0                    7.3   \n",
       "4                    7.6             29053.0                    7.8   \n",
       "\n",
       "  females_45age_votes  top1000_voters_rating  top1000_voters_votes  \\\n",
       "0              6381.0                    6.8                 762.0   \n",
       "1               837.0                    6.3                 269.0   \n",
       "2              1843.0                    6.8                 439.0   \n",
       "3              2091.0                    6.8                 525.0   \n",
       "4              7220.0                    7.0                 723.0   \n",
       "\n",
       "   us_voters_rating  us_voters_votes  non_us_voters_rating  \\\n",
       "0               7.1          72876.0                   6.8   \n",
       "1               6.8           5124.0                   6.8   \n",
       "2               7.3          22680.0                   7.2   \n",
       "3               7.3          28394.0                   6.9   \n",
       "4               7.7          67709.0                   7.2   \n",
       "\n",
       "   non_us_voters_votes  \n",
       "0             217418.0  \n",
       "1              14796.0  \n",
       "2              83787.0  \n",
       "3              85782.0  \n",
       "4             190337.0  \n",
       "\n",
       "[5 rows x 70 columns]"
      ]
     },
     "execution_count": 15,
     "metadata": {},
     "output_type": "execute_result"
    }
   ],
   "source": [
    "imdb = movies.merge(ratings, on='imdb_title_id')\n",
    "imdb.head()"
   ]
  },
  {
   "cell_type": "code",
   "execution_count": 16,
   "id": "13c7bcf4",
   "metadata": {},
   "outputs": [
    {
     "data": {
      "text/plain": [
       "Index(['imdb_title_id', 'title', 'original_title', 'year', 'date_published',\n",
       "       'genre', 'duration', 'country', 'language', 'director', 'writer',\n",
       "       'production_company', 'actors', 'description', 'avg_vote', 'votes',\n",
       "       'budget', 'usa_gross_income', 'worldwide_gross_income', 'metascore',\n",
       "       'reviews_from_users', 'reviews_from_critics', 'weighted_average_vote',\n",
       "       'total_votes', 'mean_vote', 'median_vote', 'votes_10', 'votes_9',\n",
       "       'votes_8', 'votes_7', 'votes_6', 'votes_5', 'votes_4', 'votes_3',\n",
       "       'votes_2', 'votes_1', 'allgenders_0age_avg_vote',\n",
       "       'allgenders_0age_votes', 'allgenders_18age_avg_vote',\n",
       "       'allgenders_18age_votes', 'allgenders_30age_avg_vote',\n",
       "       'allgenders_30age_votes', 'allgenders_45age_avg_vote',\n",
       "       'allgenders_45age_votes', 'males_allages_avg_vote',\n",
       "       'males_allages_votes', 'males_0age_avg_vote', 'males_0age_votes',\n",
       "       'males_18age_avg_vote', 'males_18age_votes', 'males_30age_avg_vote',\n",
       "       'males_30age_votes', 'males_45age_avg_vote', 'males_45age_votes',\n",
       "       'females_allages_avg_vote', 'females_allages_votes',\n",
       "       'females_0age_avg_vote', 'females_0age_votes', 'females_18age_avg_vote',\n",
       "       'females_18age_votes', 'females_30age_avg_vote', 'females_30age_votes',\n",
       "       'females_45age_avg_vote', 'females_45age_votes',\n",
       "       'top1000_voters_rating', 'top1000_voters_votes', 'us_voters_rating',\n",
       "       'us_voters_votes', 'non_us_voters_rating', 'non_us_voters_votes'],\n",
       "      dtype='object')"
      ]
     },
     "execution_count": 16,
     "metadata": {},
     "output_type": "execute_result"
    }
   ],
   "source": [
    "imdb.columns"
   ]
  },
  {
   "cell_type": "code",
   "execution_count": 17,
   "id": "16bf1596",
   "metadata": {},
   "outputs": [
    {
     "data": {
      "text/html": [
       "<div>\n",
       "<style scoped>\n",
       "    .dataframe tbody tr th:only-of-type {\n",
       "        vertical-align: middle;\n",
       "    }\n",
       "\n",
       "    .dataframe tbody tr th {\n",
       "        vertical-align: top;\n",
       "    }\n",
       "\n",
       "    .dataframe thead th {\n",
       "        text-align: right;\n",
       "    }\n",
       "</style>\n",
       "<table border=\"1\" class=\"dataframe\">\n",
       "  <thead>\n",
       "    <tr style=\"text-align: right;\">\n",
       "      <th></th>\n",
       "      <th>imdb_title_id</th>\n",
       "      <th>title</th>\n",
       "      <th>original_title</th>\n",
       "      <th>year</th>\n",
       "      <th>date_published</th>\n",
       "      <th>genre</th>\n",
       "      <th>duration</th>\n",
       "      <th>country</th>\n",
       "      <th>language</th>\n",
       "      <th>director</th>\n",
       "      <th>...</th>\n",
       "      <th>females_30age_avg_vote</th>\n",
       "      <th>females_30age_votes</th>\n",
       "      <th>females_45age_avg_vote</th>\n",
       "      <th>females_45age_votes</th>\n",
       "      <th>top1000_voters_rating</th>\n",
       "      <th>top1000_voters_votes</th>\n",
       "      <th>us_voters_rating</th>\n",
       "      <th>us_voters_votes</th>\n",
       "      <th>non_us_voters_rating</th>\n",
       "      <th>non_us_voters_votes</th>\n",
       "    </tr>\n",
       "  </thead>\n",
       "  <tbody>\n",
       "    <tr>\n",
       "      <th>0</th>\n",
       "      <td>tt0369610</td>\n",
       "      <td>Jurassic World</td>\n",
       "      <td>Jurassic World</td>\n",
       "      <td>2015</td>\n",
       "      <td>2015-06-11</td>\n",
       "      <td>Action, Adventure, Sci-Fi</td>\n",
       "      <td>124</td>\n",
       "      <td>USA</td>\n",
       "      <td>English</td>\n",
       "      <td>Colin Trevorrow</td>\n",
       "      <td>...</td>\n",
       "      <td>7.2</td>\n",
       "      <td>32243.0</td>\n",
       "      <td>7.3</td>\n",
       "      <td>6381.0</td>\n",
       "      <td>6.8</td>\n",
       "      <td>762.0</td>\n",
       "      <td>7.1</td>\n",
       "      <td>72876.0</td>\n",
       "      <td>6.8</td>\n",
       "      <td>217418.0</td>\n",
       "    </tr>\n",
       "    <tr>\n",
       "      <th>1</th>\n",
       "      <td>tt0385887</td>\n",
       "      <td>Motherless Brooklyn - I segreti di una città</td>\n",
       "      <td>Motherless Brooklyn</td>\n",
       "      <td>2019</td>\n",
       "      <td>2019-11-07</td>\n",
       "      <td>Crime, Drama, Mystery</td>\n",
       "      <td>144</td>\n",
       "      <td>USA</td>\n",
       "      <td>English, French</td>\n",
       "      <td>Edward Norton</td>\n",
       "      <td>...</td>\n",
       "      <td>6.8</td>\n",
       "      <td>1632.0</td>\n",
       "      <td>7.1</td>\n",
       "      <td>837.0</td>\n",
       "      <td>6.3</td>\n",
       "      <td>269.0</td>\n",
       "      <td>6.8</td>\n",
       "      <td>5124.0</td>\n",
       "      <td>6.8</td>\n",
       "      <td>14796.0</td>\n",
       "    </tr>\n",
       "    <tr>\n",
       "      <th>2</th>\n",
       "      <td>tt0437086</td>\n",
       "      <td>Alita - Angelo della battaglia</td>\n",
       "      <td>Alita: Battle Angel</td>\n",
       "      <td>2019</td>\n",
       "      <td>2019-02-14</td>\n",
       "      <td>Action, Adventure, Sci-Fi</td>\n",
       "      <td>122</td>\n",
       "      <td>USA, Japan, Canada</td>\n",
       "      <td>English, Spanish</td>\n",
       "      <td>Robert Rodriguez</td>\n",
       "      <td>...</td>\n",
       "      <td>7.2</td>\n",
       "      <td>7651.0</td>\n",
       "      <td>7.5</td>\n",
       "      <td>1843.0</td>\n",
       "      <td>6.8</td>\n",
       "      <td>439.0</td>\n",
       "      <td>7.3</td>\n",
       "      <td>22680.0</td>\n",
       "      <td>7.2</td>\n",
       "      <td>83787.0</td>\n",
       "    </tr>\n",
       "    <tr>\n",
       "      <th>3</th>\n",
       "      <td>tt0448115</td>\n",
       "      <td>Shazam!</td>\n",
       "      <td>Shazam!</td>\n",
       "      <td>2019</td>\n",
       "      <td>2019-04-03</td>\n",
       "      <td>Action, Adventure, Comedy</td>\n",
       "      <td>132</td>\n",
       "      <td>USA, Canada</td>\n",
       "      <td>English, Spanish</td>\n",
       "      <td>David F. Sandberg</td>\n",
       "      <td>...</td>\n",
       "      <td>7.1</td>\n",
       "      <td>8995.0</td>\n",
       "      <td>7.3</td>\n",
       "      <td>2091.0</td>\n",
       "      <td>6.8</td>\n",
       "      <td>525.0</td>\n",
       "      <td>7.3</td>\n",
       "      <td>28394.0</td>\n",
       "      <td>6.9</td>\n",
       "      <td>85782.0</td>\n",
       "    </tr>\n",
       "    <tr>\n",
       "      <th>4</th>\n",
       "      <td>tt0451279</td>\n",
       "      <td>Wonder Woman</td>\n",
       "      <td>Wonder Woman</td>\n",
       "      <td>2017</td>\n",
       "      <td>2017-06-01</td>\n",
       "      <td>Action, Adventure, Fantasy</td>\n",
       "      <td>141</td>\n",
       "      <td>USA, China, Hong Kong</td>\n",
       "      <td>English, German, Dutch, French, Spanish, Chine...</td>\n",
       "      <td>Patty Jenkins</td>\n",
       "      <td>...</td>\n",
       "      <td>7.6</td>\n",
       "      <td>29053.0</td>\n",
       "      <td>7.8</td>\n",
       "      <td>7220.0</td>\n",
       "      <td>7.0</td>\n",
       "      <td>723.0</td>\n",
       "      <td>7.7</td>\n",
       "      <td>67709.0</td>\n",
       "      <td>7.2</td>\n",
       "      <td>190337.0</td>\n",
       "    </tr>\n",
       "  </tbody>\n",
       "</table>\n",
       "<p>5 rows × 70 columns</p>\n",
       "</div>"
      ],
      "text/plain": [
       "  imdb_title_id                                         title  \\\n",
       "0     tt0369610                                Jurassic World   \n",
       "1     tt0385887  Motherless Brooklyn - I segreti di una città   \n",
       "2     tt0437086                Alita - Angelo della battaglia   \n",
       "3     tt0448115                                       Shazam!   \n",
       "4     tt0451279                                  Wonder Woman   \n",
       "\n",
       "        original_title  year date_published                       genre  \\\n",
       "0       Jurassic World  2015     2015-06-11   Action, Adventure, Sci-Fi   \n",
       "1  Motherless Brooklyn  2019     2019-11-07       Crime, Drama, Mystery   \n",
       "2  Alita: Battle Angel  2019     2019-02-14   Action, Adventure, Sci-Fi   \n",
       "3              Shazam!  2019     2019-04-03   Action, Adventure, Comedy   \n",
       "4         Wonder Woman  2017     2017-06-01  Action, Adventure, Fantasy   \n",
       "\n",
       "   duration                country  \\\n",
       "0       124                    USA   \n",
       "1       144                    USA   \n",
       "2       122     USA, Japan, Canada   \n",
       "3       132            USA, Canada   \n",
       "4       141  USA, China, Hong Kong   \n",
       "\n",
       "                                            language           director  ...  \\\n",
       "0                                            English    Colin Trevorrow  ...   \n",
       "1                                    English, French      Edward Norton  ...   \n",
       "2                                   English, Spanish   Robert Rodriguez  ...   \n",
       "3                                   English, Spanish  David F. Sandberg  ...   \n",
       "4  English, German, Dutch, French, Spanish, Chine...      Patty Jenkins  ...   \n",
       "\n",
       "  females_30age_avg_vote females_30age_votes females_45age_avg_vote  \\\n",
       "0                    7.2             32243.0                    7.3   \n",
       "1                    6.8              1632.0                    7.1   \n",
       "2                    7.2              7651.0                    7.5   \n",
       "3                    7.1              8995.0                    7.3   \n",
       "4                    7.6             29053.0                    7.8   \n",
       "\n",
       "  females_45age_votes  top1000_voters_rating  top1000_voters_votes  \\\n",
       "0              6381.0                    6.8                 762.0   \n",
       "1               837.0                    6.3                 269.0   \n",
       "2              1843.0                    6.8                 439.0   \n",
       "3              2091.0                    6.8                 525.0   \n",
       "4              7220.0                    7.0                 723.0   \n",
       "\n",
       "   us_voters_rating  us_voters_votes  non_us_voters_rating  \\\n",
       "0               7.1          72876.0                   6.8   \n",
       "1               6.8           5124.0                   6.8   \n",
       "2               7.3          22680.0                   7.2   \n",
       "3               7.3          28394.0                   6.9   \n",
       "4               7.7          67709.0                   7.2   \n",
       "\n",
       "   non_us_voters_votes  \n",
       "0             217418.0  \n",
       "1              14796.0  \n",
       "2              83787.0  \n",
       "3              85782.0  \n",
       "4             190337.0  \n",
       "\n",
       "[5 rows x 70 columns]"
      ]
     },
     "execution_count": 17,
     "metadata": {},
     "output_type": "execute_result"
    }
   ],
   "source": [
    "relevant_years = imdb[imdb['year'].isin(most_successful_movies.keys())]\n",
    "relevant_years.head()"
   ]
  },
  {
   "cell_type": "code",
   "execution_count": 18,
   "id": "2ab714fe",
   "metadata": {},
   "outputs": [
    {
     "data": {
      "text/html": [
       "<div>\n",
       "<style scoped>\n",
       "    .dataframe tbody tr th:only-of-type {\n",
       "        vertical-align: middle;\n",
       "    }\n",
       "\n",
       "    .dataframe tbody tr th {\n",
       "        vertical-align: top;\n",
       "    }\n",
       "\n",
       "    .dataframe thead th {\n",
       "        text-align: right;\n",
       "    }\n",
       "</style>\n",
       "<table border=\"1\" class=\"dataframe\">\n",
       "  <thead>\n",
       "    <tr style=\"text-align: right;\">\n",
       "      <th></th>\n",
       "      <th>imdb_title_id</th>\n",
       "      <th>title</th>\n",
       "      <th>original_title</th>\n",
       "      <th>year</th>\n",
       "      <th>date_published</th>\n",
       "      <th>genre</th>\n",
       "      <th>duration</th>\n",
       "      <th>country</th>\n",
       "      <th>language</th>\n",
       "      <th>director</th>\n",
       "      <th>...</th>\n",
       "      <th>females_30age_avg_vote</th>\n",
       "      <th>females_30age_votes</th>\n",
       "      <th>females_45age_avg_vote</th>\n",
       "      <th>females_45age_votes</th>\n",
       "      <th>top1000_voters_rating</th>\n",
       "      <th>top1000_voters_votes</th>\n",
       "      <th>us_voters_rating</th>\n",
       "      <th>us_voters_votes</th>\n",
       "      <th>non_us_voters_rating</th>\n",
       "      <th>non_us_voters_votes</th>\n",
       "    </tr>\n",
       "  </thead>\n",
       "  <tbody>\n",
       "    <tr>\n",
       "      <th>0</th>\n",
       "      <td>tt0369610</td>\n",
       "      <td>Jurassic World</td>\n",
       "      <td>Jurassic World</td>\n",
       "      <td>-1.294172</td>\n",
       "      <td>-1.536841</td>\n",
       "      <td>Action, Adventure, Sci-Fi</td>\n",
       "      <td>0.825079</td>\n",
       "      <td>USA</td>\n",
       "      <td>English</td>\n",
       "      <td>Colin Trevorrow</td>\n",
       "      <td>...</td>\n",
       "      <td>0.790351</td>\n",
       "      <td>4.058516</td>\n",
       "      <td>0.775531</td>\n",
       "      <td>3.418174</td>\n",
       "      <td>1.123500</td>\n",
       "      <td>2.733679</td>\n",
       "      <td>0.702649</td>\n",
       "      <td>4.208965</td>\n",
       "      <td>0.515443</td>\n",
       "      <td>3.712219</td>\n",
       "    </tr>\n",
       "    <tr>\n",
       "      <th>1</th>\n",
       "      <td>tt0385887</td>\n",
       "      <td>Motherless Brooklyn - I segreti di una città</td>\n",
       "      <td>Motherless Brooklyn</td>\n",
       "      <td>1.466543</td>\n",
       "      <td>1.511622</td>\n",
       "      <td>Crime, Drama, Mystery</td>\n",
       "      <td>2.011445</td>\n",
       "      <td>USA</td>\n",
       "      <td>English, French</td>\n",
       "      <td>Edward Norton</td>\n",
       "      <td>...</td>\n",
       "      <td>0.330721</td>\n",
       "      <td>-0.544581</td>\n",
       "      <td>0.545030</td>\n",
       "      <td>-0.317413</td>\n",
       "      <td>0.574413</td>\n",
       "      <td>-0.194279</td>\n",
       "      <td>0.381114</td>\n",
       "      <td>-0.396925</td>\n",
       "      <td>0.515443</td>\n",
       "      <td>-0.444035</td>\n",
       "    </tr>\n",
       "    <tr>\n",
       "      <th>2</th>\n",
       "      <td>tt0437086</td>\n",
       "      <td>Alita - Angelo della battaglia</td>\n",
       "      <td>Alita: Battle Angel</td>\n",
       "      <td>1.466543</td>\n",
       "      <td>1.007963</td>\n",
       "      <td>Action, Adventure, Sci-Fi</td>\n",
       "      <td>0.706443</td>\n",
       "      <td>USA, Japan, Canada</td>\n",
       "      <td>English, Spanish</td>\n",
       "      <td>Robert Rodriguez</td>\n",
       "      <td>...</td>\n",
       "      <td>0.790351</td>\n",
       "      <td>0.360520</td>\n",
       "      <td>1.006031</td>\n",
       "      <td>0.360437</td>\n",
       "      <td>1.123500</td>\n",
       "      <td>0.815362</td>\n",
       "      <td>0.917006</td>\n",
       "      <td>0.796560</td>\n",
       "      <td>0.951976</td>\n",
       "      <td>0.971133</td>\n",
       "    </tr>\n",
       "    <tr>\n",
       "      <th>3</th>\n",
       "      <td>tt0448115</td>\n",
       "      <td>Shazam!</td>\n",
       "      <td>Shazam!</td>\n",
       "      <td>1.466543</td>\n",
       "      <td>1.098849</td>\n",
       "      <td>Action, Adventure, Comedy</td>\n",
       "      <td>1.299625</td>\n",
       "      <td>USA, Canada</td>\n",
       "      <td>English, Spanish</td>\n",
       "      <td>David F. Sandberg</td>\n",
       "      <td>...</td>\n",
       "      <td>0.675443</td>\n",
       "      <td>0.562623</td>\n",
       "      <td>0.775531</td>\n",
       "      <td>0.527541</td>\n",
       "      <td>1.123500</td>\n",
       "      <td>1.326121</td>\n",
       "      <td>0.917006</td>\n",
       "      <td>1.185007</td>\n",
       "      <td>0.624576</td>\n",
       "      <td>1.012055</td>\n",
       "    </tr>\n",
       "    <tr>\n",
       "      <th>4</th>\n",
       "      <td>tt0451279</td>\n",
       "      <td>Wonder Woman</td>\n",
       "      <td>Wonder Woman</td>\n",
       "      <td>0.086185</td>\n",
       "      <td>-0.171660</td>\n",
       "      <td>Action, Adventure, Fantasy</td>\n",
       "      <td>1.833490</td>\n",
       "      <td>USA, China, Hong Kong</td>\n",
       "      <td>English, German, Dutch, French, Spanish, Chine...</td>\n",
       "      <td>Patty Jenkins</td>\n",
       "      <td>...</td>\n",
       "      <td>1.249981</td>\n",
       "      <td>3.578824</td>\n",
       "      <td>1.351782</td>\n",
       "      <td>3.983498</td>\n",
       "      <td>1.343135</td>\n",
       "      <td>2.502056</td>\n",
       "      <td>1.345719</td>\n",
       "      <td>3.857704</td>\n",
       "      <td>0.951976</td>\n",
       "      <td>3.156724</td>\n",
       "    </tr>\n",
       "  </tbody>\n",
       "</table>\n",
       "<p>5 rows × 70 columns</p>\n",
       "</div>"
      ],
      "text/plain": [
       "  imdb_title_id                                         title  \\\n",
       "0     tt0369610                                Jurassic World   \n",
       "1     tt0385887  Motherless Brooklyn - I segreti di una città   \n",
       "2     tt0437086                Alita - Angelo della battaglia   \n",
       "3     tt0448115                                       Shazam!   \n",
       "4     tt0451279                                  Wonder Woman   \n",
       "\n",
       "        original_title      year  date_published                       genre  \\\n",
       "0       Jurassic World -1.294172       -1.536841   Action, Adventure, Sci-Fi   \n",
       "1  Motherless Brooklyn  1.466543        1.511622       Crime, Drama, Mystery   \n",
       "2  Alita: Battle Angel  1.466543        1.007963   Action, Adventure, Sci-Fi   \n",
       "3              Shazam!  1.466543        1.098849   Action, Adventure, Comedy   \n",
       "4         Wonder Woman  0.086185       -0.171660  Action, Adventure, Fantasy   \n",
       "\n",
       "   duration                country  \\\n",
       "0  0.825079                    USA   \n",
       "1  2.011445                    USA   \n",
       "2  0.706443     USA, Japan, Canada   \n",
       "3  1.299625            USA, Canada   \n",
       "4  1.833490  USA, China, Hong Kong   \n",
       "\n",
       "                                            language           director  ...  \\\n",
       "0                                            English    Colin Trevorrow  ...   \n",
       "1                                    English, French      Edward Norton  ...   \n",
       "2                                   English, Spanish   Robert Rodriguez  ...   \n",
       "3                                   English, Spanish  David F. Sandberg  ...   \n",
       "4  English, German, Dutch, French, Spanish, Chine...      Patty Jenkins  ...   \n",
       "\n",
       "  females_30age_avg_vote females_30age_votes females_45age_avg_vote  \\\n",
       "0               0.790351            4.058516               0.775531   \n",
       "1               0.330721           -0.544581               0.545030   \n",
       "2               0.790351            0.360520               1.006031   \n",
       "3               0.675443            0.562623               0.775531   \n",
       "4               1.249981            3.578824               1.351782   \n",
       "\n",
       "  females_45age_votes  top1000_voters_rating  top1000_voters_votes  \\\n",
       "0            3.418174               1.123500              2.733679   \n",
       "1           -0.317413               0.574413             -0.194279   \n",
       "2            0.360437               1.123500              0.815362   \n",
       "3            0.527541               1.123500              1.326121   \n",
       "4            3.983498               1.343135              2.502056   \n",
       "\n",
       "   us_voters_rating  us_voters_votes  non_us_voters_rating  \\\n",
       "0          0.702649         4.208965              0.515443   \n",
       "1          0.381114        -0.396925              0.515443   \n",
       "2          0.917006         0.796560              0.951976   \n",
       "3          0.917006         1.185007              0.624576   \n",
       "4          1.345719         3.857704              0.951976   \n",
       "\n",
       "   non_us_voters_votes  \n",
       "0             3.712219  \n",
       "1            -0.444035  \n",
       "2             0.971133  \n",
       "3             1.012055  \n",
       "4             3.156724  \n",
       "\n",
       "[5 rows x 70 columns]"
      ]
     },
     "execution_count": 18,
     "metadata": {},
     "output_type": "execute_result"
    }
   ],
   "source": [
    "relevant_years_stdz = relevant_years.apply(standardize_col, axis=0)\n",
    "relevant_years_stdz.head()"
   ]
  },
  {
   "cell_type": "code",
   "execution_count": 19,
   "id": "63d6e1e6",
   "metadata": {},
   "outputs": [
    {
     "data": {
      "text/plain": [
       "(993, 70)"
      ]
     },
     "execution_count": 19,
     "metadata": {},
     "output_type": "execute_result"
    }
   ],
   "source": [
    "relevant_years.shape"
   ]
  },
  {
   "cell_type": "code",
   "execution_count": 20,
   "id": "e5d3713a",
   "metadata": {},
   "outputs": [
    {
     "data": {
      "text/plain": [
       "0.5802392635264324"
      ]
     },
     "execution_count": 20,
     "metadata": {},
     "output_type": "execute_result"
    },
    {
     "data": {
      "image/png": "[encoded data removed]",
      "text/plain": [
       "<Figure size 432x288 with 1 Axes>"
      ]
     },
     "metadata": {
      "needs_background": "light"
     },
     "output_type": "display_data"
    }
   ],
   "source": [
    "relevant_years['males_percentage_votes'] = relevant_years['males_allages_votes'] / relevant_years['votes']\n",
    "#relevant_years['males_percentage_votes'].plot.hist(bins=50)\n",
    "sns.histplot(data=relevant_years, x='males_percentage_votes')\n",
    "plt.axvline(x=relevant_years['males_percentage_votes'].mean(),\n",
    "            color='red')\n",
    "relevant_years['males_percentage_votes'].mean()"
   ]
  },
  {
   "cell_type": "markdown",
   "id": "9b88ca73",
   "metadata": {},
   "source": [
    "We now test, whether the mean of 0.58 is significantly different from 0.5, which we consider the distribution of male and females in the world (our population). "
   ]
  },
  {
   "cell_type": "code",
   "execution_count": 21,
   "id": "b4704f4e",
   "metadata": {},
   "outputs": [
    {
     "data": {
      "text/plain": [
       "Ttest_1sampResult(statistic=30.859035907939063, pvalue=4.013537684447491e-147)"
      ]
     },
     "execution_count": 21,
     "metadata": {},
     "output_type": "execute_result"
    }
   ],
   "source": [
    "ttest_1samp(relevant_years['males_percentage_votes'], 0.5)"
   ]
  },
  {
   "cell_type": "markdown",
   "id": "09f4343e",
   "metadata": {},
   "source": [
    "The p value let's us reject the Null Hypothesis that females and males are equally (50 % each) in the number of ratings. Hence, the averages tend to cover more male reviewers than female reviewers. We would derive from this result that average scores might be biased towards male opinions. "
   ]
  },
  {
   "cell_type": "markdown",
   "id": "592d07d1",
   "metadata": {},
   "source": [
    "Let's have a look at the left and right extremes, just to see what kinds of movies that might be. It looks like there are 3 movies with very low male percentage and 1-5 with a very high. So, we just have a look at the 5 highest and lowest percentage of male votes."
   ]
  },
  {
   "cell_type": "code",
   "execution_count": 22,
   "id": "267bb853",
   "metadata": {},
   "outputs": [
    {
     "data": {
      "text/html": [
       "<div>\n",
       "<style scoped>\n",
       "    .dataframe tbody tr th:only-of-type {\n",
       "        vertical-align: middle;\n",
       "    }\n",
       "\n",
       "    .dataframe tbody tr th {\n",
       "        vertical-align: top;\n",
       "    }\n",
       "\n",
       "    .dataframe thead th {\n",
       "        text-align: right;\n",
       "    }\n",
       "</style>\n",
       "<table border=\"1\" class=\"dataframe\">\n",
       "  <thead>\n",
       "    <tr style=\"text-align: right;\">\n",
       "      <th></th>\n",
       "      <th>original_title</th>\n",
       "      <th>males_percentage_votes</th>\n",
       "    </tr>\n",
       "  </thead>\n",
       "  <tbody>\n",
       "    <tr>\n",
       "      <th>566</th>\n",
       "      <td>Meet the Blacks</td>\n",
       "      <td>0.137320</td>\n",
       "    </tr>\n",
       "    <tr>\n",
       "      <th>552</th>\n",
       "      <td>After</td>\n",
       "      <td>0.215840</td>\n",
       "    </tr>\n",
       "    <tr>\n",
       "      <th>706</th>\n",
       "      <td>Everything, Everything</td>\n",
       "      <td>0.278886</td>\n",
       "    </tr>\n",
       "    <tr>\n",
       "      <th>548</th>\n",
       "      <td>Forever My Girl</td>\n",
       "      <td>0.327401</td>\n",
       "    </tr>\n",
       "    <tr>\n",
       "      <th>855</th>\n",
       "      <td>The Sun Is Also a Star</td>\n",
       "      <td>0.328246</td>\n",
       "    </tr>\n",
       "  </tbody>\n",
       "</table>\n",
       "</div>"
      ],
      "text/plain": [
       "             original_title  males_percentage_votes\n",
       "566         Meet the Blacks                0.137320\n",
       "552                   After                0.215840\n",
       "706  Everything, Everything                0.278886\n",
       "548         Forever My Girl                0.327401\n",
       "855  The Sun Is Also a Star                0.328246"
      ]
     },
     "execution_count": 22,
     "metadata": {},
     "output_type": "execute_result"
    }
   ],
   "source": [
    "relevant_years[['original_title','males_percentage_votes']].sort_values('males_percentage_votes').head(5)"
   ]
  },
  {
   "cell_type": "code",
   "execution_count": 23,
   "id": "0d6f0aee",
   "metadata": {},
   "outputs": [
    {
     "data": {
      "text/html": [
       "<div>\n",
       "<style scoped>\n",
       "    .dataframe tbody tr th:only-of-type {\n",
       "        vertical-align: middle;\n",
       "    }\n",
       "\n",
       "    .dataframe tbody tr th {\n",
       "        vertical-align: top;\n",
       "    }\n",
       "\n",
       "    .dataframe thead th {\n",
       "        text-align: right;\n",
       "    }\n",
       "</style>\n",
       "<table border=\"1\" class=\"dataframe\">\n",
       "  <thead>\n",
       "    <tr style=\"text-align: right;\">\n",
       "      <th></th>\n",
       "      <th>original_title</th>\n",
       "      <th>males_percentage_votes</th>\n",
       "    </tr>\n",
       "  </thead>\n",
       "  <tbody>\n",
       "    <tr>\n",
       "      <th>500</th>\n",
       "      <td>Mai sing</td>\n",
       "      <td>0.777633</td>\n",
       "    </tr>\n",
       "    <tr>\n",
       "      <th>279</th>\n",
       "      <td>The Gunman</td>\n",
       "      <td>0.748229</td>\n",
       "    </tr>\n",
       "    <tr>\n",
       "      <th>466</th>\n",
       "      <td>Turbo Kid</td>\n",
       "      <td>0.746878</td>\n",
       "    </tr>\n",
       "    <tr>\n",
       "      <th>730</th>\n",
       "      <td>Kickboxer: Retaliation</td>\n",
       "      <td>0.739533</td>\n",
       "    </tr>\n",
       "    <tr>\n",
       "      <th>502</th>\n",
       "      <td>Cop Car</td>\n",
       "      <td>0.736558</td>\n",
       "    </tr>\n",
       "  </tbody>\n",
       "</table>\n",
       "</div>"
      ],
      "text/plain": [
       "             original_title  males_percentage_votes\n",
       "500                Mai sing                0.777633\n",
       "279              The Gunman                0.748229\n",
       "466               Turbo Kid                0.746878\n",
       "730  Kickboxer: Retaliation                0.739533\n",
       "502                 Cop Car                0.736558"
      ]
     },
     "execution_count": 23,
     "metadata": {},
     "output_type": "execute_result"
    }
   ],
   "source": [
    "relevant_years[['original_title','males_percentage_votes']].sort_values('males_percentage_votes', ascending=False).head(5)"
   ]
  },
  {
   "cell_type": "code",
   "execution_count": 24,
   "id": "801fcd65",
   "metadata": {},
   "outputs": [
    {
     "data": {
      "text/plain": [
       "967                                    Capharnaüm\n",
       "250                                          Coco\n",
       "671                                   The Promise\n",
       "921                                         Joker\n",
       "884                                  Gisaengchung\n",
       "641             Spider-Man: Into the Spider-Verse\n",
       "558                             Avengers: Endgame\n",
       "557                        Avengers: Infinity War\n",
       "746                                Kimi no na wa.\n",
       "138                             Bohemian Rhapsody\n",
       "904                                    Green Book\n",
       "200                                 Hacksaw Ridge\n",
       "976                                          1917\n",
       "483                                          Lion\n",
       "376                                          Room\n",
       "709     Three Billboards Outside Ebbing, Missouri\n",
       "345                                      Zootopia\n",
       "297                                   Jojo Rabbit\n",
       "198                                    Inside Out\n",
       "793                          Call Me by Your Name\n",
       "684                                Hidden Figures\n",
       "285                                        Wonder\n",
       "535                                     Ah-ga-ssi\n",
       "452                    Bilal: A New Breed of Hero\n",
       "387                                Loving Vincent\n",
       "164                                     Spotlight\n",
       "436                                Thor: Ragnarok\n",
       "581                     El abrazo de la serpiente\n",
       "168                                Ford v Ferrari\n",
       "275    Star Wars: Episode VII - The Force Awakens\n",
       "392                                  Little Women\n",
       "859                            I Can Only Imagine\n",
       "508                                  Under sandet\n",
       "80                                       Deadpool\n",
       "143                               Le Petit Prince\n",
       "465                                   The Martian\n",
       "585                      Kubo and the Two Strings\n",
       "569                                    Mr. Church\n",
       "523                             Enas allos kosmos\n",
       "87                           The Greatest Showman\n",
       "973                                 The Gentlemen\n",
       "910                                     L'insulte\n",
       "235                           Ma vie de Courgette\n",
       "708                                       Dunkirk\n",
       "74                             Mad Max: Fury Road\n",
       "76                         Straight Outta Compton\n",
       "607                                  Paddington 2\n",
       "692                                    Just Mercy\n",
       "765                               The Hate U Give\n",
       "530                                       Mustang\n",
       "397                                         Logan\n",
       "442                                         Moana\n",
       "505                                Only the Brave\n",
       "284                                       Arrival\n",
       "484                          Que Horas Ela Volta?\n",
       "589                                Queen of Katwe\n",
       "156                                 Black Panther\n",
       "595                                       Aferim!\n",
       "455                                 Incredibles 2\n",
       "974                               A Dog's Journey\n",
       "Name: original_title, dtype: object"
      ]
     },
     "execution_count": 24,
     "metadata": {},
     "output_type": "execute_result"
    }
   ],
   "source": [
    "relevant_years.sort_values('females_allages_avg_vote', ascending=False)['original_title'].head(60)"
   ]
  },
  {
   "cell_type": "code",
   "execution_count": 25,
   "id": "b22a439a",
   "metadata": {},
   "outputs": [
    {
     "data": {
      "text/plain": [
       "884                                  Gisaengchung\n",
       "921                                         Joker\n",
       "746                                Kimi no na wa.\n",
       "557                        Avengers: Infinity War\n",
       "250                                          Coco\n",
       "641             Spider-Man: Into the Spider-Verse\n",
       "558                             Avengers: Endgame\n",
       "976                                          1917\n",
       "967                                    Capharnaüm\n",
       "904                                    Green Book\n",
       "198                                    Inside Out\n",
       "74                             Mad Max: Fury Road\n",
       "376                                          Room\n",
       "168                                Ford v Ferrari\n",
       "397                                         Logan\n",
       "200                                 Hacksaw Ridge\n",
       "709     Three Billboards Outside Ebbing, Missouri\n",
       "80                                       Deadpool\n",
       "483                                          Lion\n",
       "465                                   The Martian\n",
       "535                                     Ah-ga-ssi\n",
       "493                                    La La Land\n",
       "159                             Blade Runner 2049\n",
       "123                                  The Revenant\n",
       "164                                     Spotlight\n",
       "345                                      Zootopia\n",
       "285                                        Wonder\n",
       "982                                    Knives Out\n",
       "275    Star Wars: Episode VII - The Force Awakens\n",
       "928                            Wo bu shi yao shen\n",
       "284                                       Arrival\n",
       "607                                  Paddington 2\n",
       "427                             The Hateful Eight\n",
       "179                                   Toy Story 4\n",
       "537                         Manchester by the Sea\n",
       "484                          Que Horas Ela Volta?\n",
       "434                    Captain America: Civil War\n",
       "485                                     Rogue One\n",
       "436                                Thor: Ragnarok\n",
       "76                         Straight Outta Compton\n",
       "297                                   Jojo Rabbit\n",
       "138                             Bohemian Rhapsody\n",
       "973                                 The Gentlemen\n",
       "708                                       Dunkirk\n",
       "956                      Doragon bôru chô: Burorî\n",
       "581                     El abrazo de la serpiente\n",
       "105                                 The Big Short\n",
       "793                          Call Me by Your Name\n",
       "392                                  Little Women\n",
       "585                      Kubo and the Two Strings\n",
       "66                            Beasts of No Nation\n",
       "689                 Mission: Impossible - Fallout\n",
       "235                           Ma vie de Courgette\n",
       "751                                    Wind River\n",
       "387                                Loving Vincent\n",
       "756                                    Deadpool 2\n",
       "712                                       Get Out\n",
       "294                Me and Earl and the Dying Girl\n",
       "416                                       Sicario\n",
       "508                                  Under sandet\n",
       "Name: original_title, dtype: object"
      ]
     },
     "execution_count": 25,
     "metadata": {},
     "output_type": "execute_result"
    }
   ],
   "source": [
    "relevant_years.sort_values('males_allages_avg_vote', ascending=False)['original_title'].head(60)"
   ]
  },
  {
   "cell_type": "code",
   "execution_count": 26,
   "id": "39361d02",
   "metadata": {},
   "outputs": [
    {
     "data": {
      "text/plain": [
       "(56, 70)"
      ]
     },
     "execution_count": 26,
     "metadata": {},
     "output_type": "execute_result"
    }
   ],
   "source": [
    "our_movies = imdb[imdb['original_title'].isin(movie_list)]\n",
    "our_movies.shape"
   ]
  },
  {
   "cell_type": "code",
   "execution_count": 27,
   "id": "cb6082c6",
   "metadata": {},
   "outputs": [
    {
     "data": {
      "text/plain": [
       "7.085714285714286"
      ]
     },
     "execution_count": 27,
     "metadata": {},
     "output_type": "execute_result"
    }
   ],
   "source": [
    "our_movies['males_allages_avg_vote'].mean()"
   ]
  },
  {
   "cell_type": "code",
   "execution_count": 28,
   "id": "7a80e155",
   "metadata": {},
   "outputs": [
    {
     "data": {
      "text/plain": [
       "7.403571428571427"
      ]
     },
     "execution_count": 28,
     "metadata": {},
     "output_type": "execute_result"
    }
   ],
   "source": [
    "our_movies['females_allages_avg_vote'].mean()"
   ]
  },
  {
   "cell_type": "code",
   "execution_count": 29,
   "id": "08a7cbf8",
   "metadata": {},
   "outputs": [
    {
     "name": "stderr",
     "output_type": "stream",
     "text": [
      "/var/folders/10/_7nfqv556wvd8gm4wp6z338h0000gn/T/ipykernel_65568/219860218.py:1: SettingWithCopyWarning: \n",
      "A value is trying to be set on a copy of a slice from a DataFrame.\n",
      "Try using .loc[row_indexer,col_indexer] = value instead\n",
      "\n",
      "See the caveats in the documentation: https://pandas.pydata.org/pandas-docs/stable/user_guide/indexing.html#returning-a-view-versus-a-copy\n",
      "  our_movies['males_percentage_votes'] = our_movies['males_allages_votes'] / our_movies['votes']\n"
     ]
    },
    {
     "data": {
      "text/plain": [
       "<matplotlib.lines.Line2D at 0x7fb3ce6fd3d0>"
      ]
     },
     "execution_count": 29,
     "metadata": {},
     "output_type": "execute_result"
    },
    {
     "data": {
      "image/png": "[encoded data removed]",
      "text/plain": [
       "<Figure size 432x288 with 1 Axes>"
      ]
     },
     "metadata": {
      "needs_background": "light"
     },
     "output_type": "display_data"
    }
   ],
   "source": [
    "our_movies['males_percentage_votes'] = our_movies['males_allages_votes'] / our_movies['votes']\n",
    "#relevant_years['males_percentage_votes'].plot.hist(bins=50)\n",
    "sns.histplot(data=our_movies, x='males_percentage_votes')\n",
    "plt.axvline(x=our_movies['males_percentage_votes'].mean(),\n",
    "            color='red')"
   ]
  },
  {
   "cell_type": "code",
   "execution_count": 30,
   "id": "af916dd7",
   "metadata": {},
   "outputs": [
    {
     "data": {
      "text/plain": [
       "Ttest_1sampResult(statistic=10.906309688756858, pvalue=2.2768094327627752e-15)"
      ]
     },
     "execution_count": 30,
     "metadata": {},
     "output_type": "execute_result"
    }
   ],
   "source": [
    "ttest_1samp(our_movies['males_percentage_votes'], 0.5)"
   ]
  },
  {
   "cell_type": "code",
   "execution_count": 31,
   "id": "2aa64597",
   "metadata": {},
   "outputs": [
    {
     "data": {
      "text/html": [
       "<div>\n",
       "<style scoped>\n",
       "    .dataframe tbody tr th:only-of-type {\n",
       "        vertical-align: middle;\n",
       "    }\n",
       "\n",
       "    .dataframe tbody tr th {\n",
       "        vertical-align: top;\n",
       "    }\n",
       "\n",
       "    .dataframe thead th {\n",
       "        text-align: right;\n",
       "    }\n",
       "</style>\n",
       "<table border=\"1\" class=\"dataframe\">\n",
       "  <thead>\n",
       "    <tr style=\"text-align: right;\">\n",
       "      <th></th>\n",
       "      <th>original_title</th>\n",
       "      <th>males_percentage_votes</th>\n",
       "    </tr>\n",
       "  </thead>\n",
       "  <tbody>\n",
       "    <tr>\n",
       "      <th>320</th>\n",
       "      <td>Beauty and the Beast</td>\n",
       "      <td>0.429799</td>\n",
       "    </tr>\n",
       "  </tbody>\n",
       "</table>\n",
       "</div>"
      ],
      "text/plain": [
       "           original_title  males_percentage_votes\n",
       "320  Beauty and the Beast                0.429799"
      ]
     },
     "execution_count": 31,
     "metadata": {},
     "output_type": "execute_result"
    }
   ],
   "source": [
    "our_movies[['original_title', 'males_percentage_votes']].sort_values('males_percentage_votes').head(1)"
   ]
  },
  {
   "cell_type": "code",
   "execution_count": 32,
   "id": "0675d4d1",
   "metadata": {},
   "outputs": [
    {
     "data": {
      "text/html": [
       "<div>\n",
       "<style scoped>\n",
       "    .dataframe tbody tr th:only-of-type {\n",
       "        vertical-align: middle;\n",
       "    }\n",
       "\n",
       "    .dataframe tbody tr th {\n",
       "        vertical-align: top;\n",
       "    }\n",
       "\n",
       "    .dataframe thead th {\n",
       "        text-align: right;\n",
       "    }\n",
       "</style>\n",
       "<table border=\"1\" class=\"dataframe\">\n",
       "  <thead>\n",
       "    <tr style=\"text-align: right;\">\n",
       "      <th></th>\n",
       "      <th>original_title</th>\n",
       "      <th>males_percentage_votes</th>\n",
       "    </tr>\n",
       "  </thead>\n",
       "  <tbody>\n",
       "    <tr>\n",
       "      <th>252</th>\n",
       "      <td>Mission: Impossible - Rogue Nation</td>\n",
       "      <td>0.667459</td>\n",
       "    </tr>\n",
       "  </tbody>\n",
       "</table>\n",
       "</div>"
      ],
      "text/plain": [
       "                         original_title  males_percentage_votes\n",
       "252  Mission: Impossible - Rogue Nation                0.667459"
      ]
     },
     "execution_count": 32,
     "metadata": {},
     "output_type": "execute_result"
    }
   ],
   "source": [
    "our_movies[['original_title', 'males_percentage_votes']].sort_values('males_percentage_votes', ascending=False).head(1)"
   ]
  },
  {
   "cell_type": "code",
   "execution_count": 33,
   "id": "973b3366",
   "metadata": {},
   "outputs": [],
   "source": [
    "our_movies_stdz = our_movies.apply(standardize_col, axis=0)"
   ]
  },
  {
   "cell_type": "markdown",
   "id": "6e10032e",
   "metadata": {},
   "source": [
    "## How successful are movies liked by men/women?"
   ]
  },
  {
   "cell_type": "code",
   "execution_count": 34,
   "id": "f3c7a190",
   "metadata": {},
   "outputs": [
    {
     "data": {
      "text/plain": [
       "<AxesSubplot:xlabel='mean_vote', ylabel='worldwide_gross_income'>"
      ]
     },
     "execution_count": 34,
     "metadata": {},
     "output_type": "execute_result"
    },
    {
     "data": {
      "image/png": "[encoded data removed]",
      "text/plain": [
       "<Figure size 432x288 with 1 Axes>"
      ]
     },
     "metadata": {
      "needs_background": "light"
     },
     "output_type": "display_data"
    }
   ],
   "source": [
    "sns.scatterplot(x='mean_vote', y='worldwide_gross_income', data=our_movies)"
   ]
  },
  {
   "cell_type": "code",
   "execution_count": 35,
   "id": "c0c340cc",
   "metadata": {},
   "outputs": [
    {
     "data": {
      "text/plain": [
       "<AxesSubplot:xlabel='males_allages_avg_vote', ylabel='worldwide_gross_income'>"
      ]
     },
     "execution_count": 35,
     "metadata": {},
     "output_type": "execute_result"
    },
    {
     "data": {
      "image/png": "[encoded data removed]",
      "text/plain": [
       "<Figure size 432x288 with 1 Axes>"
      ]
     },
     "metadata": {
      "needs_background": "light"
     },
     "output_type": "display_data"
    }
   ],
   "source": [
    "sns.scatterplot(x='males_allages_avg_vote', y='worldwide_gross_income', data=our_movies)"
   ]
  },
  {
   "cell_type": "code",
   "execution_count": 36,
   "id": "848cb958",
   "metadata": {},
   "outputs": [
    {
     "data": {
      "text/plain": [
       "<AxesSubplot:xlabel='females_allages_avg_vote', ylabel='worldwide_gross_income'>"
      ]
     },
     "execution_count": 36,
     "metadata": {},
     "output_type": "execute_result"
    },
    {
     "data": {
      "image/png": "[encoded data removed]",
      "text/plain": [
       "<Figure size 432x288 with 1 Axes>"
      ]
     },
     "metadata": {
      "needs_background": "light"
     },
     "output_type": "display_data"
    }
   ],
   "source": [
    "sns.scatterplot(x='females_allages_avg_vote', y='worldwide_gross_income', data=our_movies)"
   ]
  },
  {
   "cell_type": "code",
   "execution_count": 37,
   "id": "b8f77478",
   "metadata": {},
   "outputs": [],
   "source": [
    "mod = smf.ols(formula='worldwide_gross_income ~ females_allages_avg_vote + males_allages_avg_vote', data=our_movies)"
   ]
  },
  {
   "cell_type": "code",
   "execution_count": 38,
   "id": "8b5a2d35",
   "metadata": {},
   "outputs": [
    {
     "name": "stdout",
     "output_type": "stream",
     "text": [
      "                              OLS Regression Results                              \n",
      "==================================================================================\n",
      "Dep. Variable:     worldwide_gross_income   R-squared:                       0.189\n",
      "Model:                                OLS   Adj. R-squared:                  0.158\n",
      "Method:                     Least Squares   F-statistic:                     6.163\n",
      "Date:                    Thu, 09 Dec 2021   Prob (F-statistic):            0.00392\n",
      "Time:                            19:45:41   Log-Likelihood:                -1191.3\n",
      "No. Observations:                      56   AIC:                             2389.\n",
      "Df Residuals:                          53   BIC:                             2395.\n",
      "Df Model:                               2                                         \n",
      "Covariance Type:                nonrobust                                         \n",
      "============================================================================================\n",
      "                               coef    std err          t      P>|t|      [0.025      0.975]\n",
      "--------------------------------------------------------------------------------------------\n",
      "Intercept                -1.631e+09   7.64e+08     -2.135      0.037   -3.16e+09   -9.91e+07\n",
      "females_allages_avg_vote  4.794e+08   2.71e+08      1.767      0.083   -6.47e+07    1.02e+09\n",
      "males_allages_avg_vote   -1.278e+08   2.32e+08     -0.551      0.584   -5.93e+08    3.37e+08\n",
      "==============================================================================\n",
      "Omnibus:                        6.936   Durbin-Watson:                   1.443\n",
      "Prob(Omnibus):                  0.031   Jarque-Bera (JB):                6.097\n",
      "Skew:                           0.652   Prob(JB):                       0.0474\n",
      "Kurtosis:                       3.955   Cond. No.                         141.\n",
      "==============================================================================\n",
      "\n",
      "Notes:\n",
      "[1] Standard Errors assume that the covariance matrix of the errors is correctly specified.\n"
     ]
    }
   ],
   "source": [
    "res = mod.fit()\n",
    "print(res.summary())"
   ]
  },
  {
   "cell_type": "code",
   "execution_count": 39,
   "id": "19693811",
   "metadata": {},
   "outputs": [
    {
     "data": {
      "text/plain": [
       "(0.42898441700785955, 0.0009706411459157718)"
      ]
     },
     "execution_count": 39,
     "metadata": {},
     "output_type": "execute_result"
    }
   ],
   "source": [
    "pearsonr(our_movies['females_allages_avg_vote'], our_movies['worldwide_gross_income'])"
   ]
  },
  {
   "cell_type": "code",
   "execution_count": 40,
   "id": "2d058a2c",
   "metadata": {},
   "outputs": [
    {
     "data": {
      "text/plain": [
       "(0.3753249494558498, 0.004367306856286937)"
      ]
     },
     "execution_count": 40,
     "metadata": {},
     "output_type": "execute_result"
    }
   ],
   "source": [
    "pearsonr(our_movies['males_allages_avg_vote'], our_movies['worldwide_gross_income'])"
   ]
  },
  {
   "cell_type": "code",
   "execution_count": 41,
   "id": "5d0b7db4",
   "metadata": {},
   "outputs": [],
   "source": [
    "mod = smf.ols(formula='worldwide_gross_income ~ females_allages_avg_vote + males_allages_avg_vote', data=relevant_years)"
   ]
  },
  {
   "cell_type": "code",
   "execution_count": 42,
   "id": "9fba3951",
   "metadata": {},
   "outputs": [
    {
     "name": "stdout",
     "output_type": "stream",
     "text": [
      "                              OLS Regression Results                              \n",
      "==================================================================================\n",
      "Dep. Variable:     worldwide_gross_income   R-squared:                       0.087\n",
      "Model:                                OLS   Adj. R-squared:                  0.085\n",
      "Method:                     Least Squares   F-statistic:                     47.29\n",
      "Date:                    Thu, 09 Dec 2021   Prob (F-statistic):           2.43e-20\n",
      "Time:                            19:45:41   Log-Likelihood:                -20655.\n",
      "No. Observations:                     993   AIC:                         4.132e+04\n",
      "Df Residuals:                         990   BIC:                         4.133e+04\n",
      "Df Model:                               2                                         \n",
      "Covariance Type:                nonrobust                                         \n",
      "============================================================================================\n",
      "                               coef    std err          t      P>|t|      [0.025      0.975]\n",
      "--------------------------------------------------------------------------------------------\n",
      "Intercept                -4.581e+08   6.34e+07     -7.222      0.000   -5.83e+08   -3.34e+08\n",
      "females_allages_avg_vote  1.352e+08   2.53e+07      5.353      0.000    8.56e+07    1.85e+08\n",
      "males_allages_avg_vote   -4.517e+07   2.38e+07     -1.899      0.058   -9.18e+07    1.51e+06\n",
      "==============================================================================\n",
      "Omnibus:                      754.254   Durbin-Watson:                   1.840\n",
      "Prob(Omnibus):                  0.000   Jarque-Bera (JB):            13991.456\n",
      "Skew:                           3.370   Prob(JB):                         0.00\n",
      "Kurtosis:                      20.110   Cond. No.                         72.2\n",
      "==============================================================================\n",
      "\n",
      "Notes:\n",
      "[1] Standard Errors assume that the covariance matrix of the errors is correctly specified.\n"
     ]
    }
   ],
   "source": [
    "res = mod.fit()\n",
    "print(res.summary())"
   ]
  },
  {
   "cell_type": "code",
   "execution_count": 43,
   "id": "ca13e67d",
   "metadata": {},
   "outputs": [
    {
     "name": "stdout",
     "output_type": "stream",
     "text": [
      "                              OLS Regression Results                              \n",
      "==================================================================================\n",
      "Dep. Variable:     worldwide_gross_income   R-squared:                       0.061\n",
      "Model:                                OLS   Adj. R-squared:                  0.060\n",
      "Method:                     Least Squares   F-statistic:                     64.14\n",
      "Date:                    Thu, 09 Dec 2021   Prob (F-statistic):           3.23e-15\n",
      "Time:                            19:45:41   Log-Likelihood:                -20669.\n",
      "No. Observations:                     993   AIC:                         4.134e+04\n",
      "Df Residuals:                         991   BIC:                         4.135e+04\n",
      "Df Model:                               1                                         \n",
      "Covariance Type:                nonrobust                                         \n",
      "==========================================================================================\n",
      "                             coef    std err          t      P>|t|      [0.025      0.975]\n",
      "------------------------------------------------------------------------------------------\n",
      "Intercept              -3.155e+08   5.84e+07     -5.406      0.000    -4.3e+08   -2.01e+08\n",
      "males_allages_avg_vote  7.276e+07   9.08e+06      8.009      0.000    5.49e+07    9.06e+07\n",
      "==============================================================================\n",
      "Omnibus:                      769.598   Durbin-Watson:                   1.822\n",
      "Prob(Omnibus):                  0.000   Jarque-Bera (JB):            14462.268\n",
      "Skew:                           3.469   Prob(JB):                         0.00\n",
      "Kurtosis:                      20.361   Cond. No.                         45.6\n",
      "==============================================================================\n",
      "\n",
      "Notes:\n",
      "[1] Standard Errors assume that the covariance matrix of the errors is correctly specified.\n"
     ]
    }
   ],
   "source": [
    "mod = smf.ols(formula='worldwide_gross_income ~ males_allages_avg_vote', data=relevant_years)\n",
    "res = mod.fit()\n",
    "print(res.summary())"
   ]
  },
  {
   "cell_type": "code",
   "execution_count": 44,
   "id": "81626afd",
   "metadata": {},
   "outputs": [
    {
     "name": "stdout",
     "output_type": "stream",
     "text": [
      "                              OLS Regression Results                              \n",
      "==================================================================================\n",
      "Dep. Variable:     worldwide_gross_income   R-squared:                       0.064\n",
      "Model:                                OLS   Adj. R-squared:                  0.063\n",
      "Method:                     Least Squares   F-statistic:                     67.68\n",
      "Date:                    Thu, 09 Dec 2021   Prob (F-statistic):           6.02e-16\n",
      "Time:                            19:45:41   Log-Likelihood:                -20668.\n",
      "No. Observations:                     993   AIC:                         4.134e+04\n",
      "Df Residuals:                         991   BIC:                         4.135e+04\n",
      "Df Model:                               1                                         \n",
      "Covariance Type:                nonrobust                                         \n",
      "==============================================================================\n",
      "                 coef    std err          t      P>|t|      [0.025      0.975]\n",
      "------------------------------------------------------------------------------\n",
      "Intercept  -3.802e+08   6.46e+07     -5.882      0.000   -5.07e+08   -2.53e+08\n",
      "mean_vote   8.021e+07   9.75e+06      8.227      0.000    6.11e+07    9.93e+07\n",
      "==============================================================================\n",
      "Omnibus:                      769.177   Durbin-Watson:                   1.820\n",
      "Prob(Omnibus):                  0.000   Jarque-Bera (JB):            14510.635\n",
      "Skew:                           3.464   Prob(JB):                         0.00\n",
      "Kurtosis:                      20.398   Cond. No.                         52.1\n",
      "==============================================================================\n",
      "\n",
      "Notes:\n",
      "[1] Standard Errors assume that the covariance matrix of the errors is correctly specified.\n"
     ]
    }
   ],
   "source": [
    "mod = smf.ols(formula='worldwide_gross_income ~ mean_vote', data=relevant_years)\n",
    "res = mod.fit()\n",
    "print(res.summary())"
   ]
  },
  {
   "cell_type": "code",
   "execution_count": 45,
   "id": "1db0453d",
   "metadata": {},
   "outputs": [
    {
     "name": "stdout",
     "output_type": "stream",
     "text": [
      "                              OLS Regression Results                              \n",
      "==================================================================================\n",
      "Dep. Variable:     worldwide_gross_income   R-squared:                       0.089\n",
      "Model:                                OLS   Adj. R-squared:                  0.087\n",
      "Method:                     Least Squares   F-statistic:                     48.53\n",
      "Date:                    Thu, 09 Dec 2021   Prob (F-statistic):           7.87e-21\n",
      "Time:                            19:45:41   Log-Likelihood:                -20654.\n",
      "No. Observations:                     993   AIC:                         4.131e+04\n",
      "Df Residuals:                         990   BIC:                         4.133e+04\n",
      "Df Model:                               2                                         \n",
      "Covariance Type:                nonrobust                                         \n",
      "============================================================================================\n",
      "                               coef    std err          t      P>|t|      [0.025      0.975]\n",
      "--------------------------------------------------------------------------------------------\n",
      "Intercept                -4.238e+08   6.43e+07     -6.589      0.000    -5.5e+08   -2.98e+08\n",
      "mean_vote                -7.558e+07   3.12e+07     -2.423      0.016   -1.37e+08   -1.44e+07\n",
      "females_allages_avg_vote  1.618e+08   3.08e+07      5.250      0.000    1.01e+08    2.22e+08\n",
      "==============================================================================\n",
      "Omnibus:                      752.713   Durbin-Watson:                   1.847\n",
      "Prob(Omnibus):                  0.000   Jarque-Bera (JB):            13888.617\n",
      "Skew:                           3.362   Prob(JB):                         0.00\n",
      "Kurtosis:                      20.043   Cond. No.                         73.6\n",
      "==============================================================================\n",
      "\n",
      "Notes:\n",
      "[1] Standard Errors assume that the covariance matrix of the errors is correctly specified.\n"
     ]
    }
   ],
   "source": [
    "mod = smf.ols(formula='worldwide_gross_income ~ mean_vote + females_allages_avg_vote', data=relevant_years)\n",
    "res = mod.fit()\n",
    "print(res.summary())"
   ]
  },
  {
   "cell_type": "code",
   "execution_count": 46,
   "id": "287cdd4b",
   "metadata": {},
   "outputs": [
    {
     "name": "stdout",
     "output_type": "stream",
     "text": [
      "                              OLS Regression Results                              \n",
      "==================================================================================\n",
      "Dep. Variable:     worldwide_gross_income   R-squared:                       0.089\n",
      "Model:                                OLS   Adj. R-squared:                  0.087\n",
      "Method:                     Least Squares   F-statistic:                     32.39\n",
      "Date:                    Thu, 09 Dec 2021   Prob (F-statistic):           5.66e-20\n",
      "Time:                            19:45:42   Log-Likelihood:                -20654.\n",
      "No. Observations:                     993   AIC:                         4.132e+04\n",
      "Df Residuals:                         989   BIC:                         4.134e+04\n",
      "Df Model:                               3                                         \n",
      "Covariance Type:                nonrobust                                         \n",
      "============================================================================================\n",
      "                               coef    std err          t      P>|t|      [0.025      0.975]\n",
      "--------------------------------------------------------------------------------------------\n",
      "Intercept                -4.301e+08   6.59e+07     -6.530      0.000   -5.59e+08   -3.01e+08\n",
      "mean_vote                -6.387e+07   4.08e+07     -1.566      0.118   -1.44e+08    1.62e+07\n",
      "females_allages_avg_vote  1.644e+08   3.14e+07      5.238      0.000    1.03e+08    2.26e+08\n",
      "males_allages_avg_vote   -1.385e+07   3.11e+07     -0.446      0.656   -7.48e+07    4.71e+07\n",
      "==============================================================================\n",
      "Omnibus:                      752.729   Durbin-Watson:                   1.846\n",
      "Prob(Omnibus):                  0.000   Jarque-Bera (JB):            13920.094\n",
      "Skew:                           3.361   Prob(JB):                         0.00\n",
      "Kurtosis:                      20.066   Cond. No.                         93.7\n",
      "==============================================================================\n",
      "\n",
      "Notes:\n",
      "[1] Standard Errors assume that the covariance matrix of the errors is correctly specified.\n"
     ]
    }
   ],
   "source": [
    "mod = smf.ols(formula='worldwide_gross_income ~ mean_vote + females_allages_avg_vote + males_allages_avg_vote', data=relevant_years)\n",
    "res = mod.fit()\n",
    "print(res.summary())"
   ]
  },
  {
   "cell_type": "code",
   "execution_count": 47,
   "id": "54952552",
   "metadata": {},
   "outputs": [
    {
     "data": {
      "text/plain": [
       "<AxesSubplot:xlabel='mean_vote', ylabel='worldwide_gross_income'>"
      ]
     },
     "execution_count": 47,
     "metadata": {},
     "output_type": "execute_result"
    },
    {
     "data": {
      "image/png": "[encoded data removed]",
      "text/plain": [
       "<Figure size 432x288 with 1 Axes>"
      ]
     },
     "metadata": {
      "needs_background": "light"
     },
     "output_type": "display_data"
    }
   ],
   "source": [
    "sns.scatterplot(x='mean_vote', y='worldwide_gross_income', data=relevant_years)"
   ]
  },
  {
   "cell_type": "code",
   "execution_count": 48,
   "id": "bd844237",
   "metadata": {},
   "outputs": [
    {
     "data": {
      "text/plain": [
       "<AxesSubplot:xlabel='males_allages_avg_vote', ylabel='worldwide_gross_income'>"
      ]
     },
     "execution_count": 48,
     "metadata": {},
     "output_type": "execute_result"
    },
    {
     "data": {
      "image/png": "[encoded data removed]",
      "text/plain": [
       "<Figure size 432x288 with 1 Axes>"
      ]
     },
     "metadata": {
      "needs_background": "light"
     },
     "output_type": "display_data"
    }
   ],
   "source": [
    "sns.scatterplot(x='males_allages_avg_vote', y='worldwide_gross_income', data=relevant_years)"
   ]
  },
  {
   "cell_type": "code",
   "execution_count": 49,
   "id": "0320cf73",
   "metadata": {},
   "outputs": [
    {
     "data": {
      "text/plain": [
       "<AxesSubplot:xlabel='females_allages_avg_vote', ylabel='worldwide_gross_income'>"
      ]
     },
     "execution_count": 49,
     "metadata": {},
     "output_type": "execute_result"
    },
    {
     "data": {
      "image/png": "[encoded data removed]",
      "text/plain": [
       "<Figure size 432x288 with 1 Axes>"
      ]
     },
     "metadata": {
      "needs_background": "light"
     },
     "output_type": "display_data"
    }
   ],
   "source": [
    "sns.scatterplot(x='females_allages_avg_vote', y='worldwide_gross_income', data=relevant_years)"
   ]
  },
  {
   "cell_type": "code",
   "execution_count": 50,
   "id": "1ed2f006",
   "metadata": {},
   "outputs": [
    {
     "data": {
      "text/plain": [
       "<AxesSubplot:xlabel='females_allages_avg_vote', ylabel='mean_vote'>"
      ]
     },
     "execution_count": 50,
     "metadata": {},
     "output_type": "execute_result"
    },
    {
     "data": {
      "image/png": "[encoded data removed]",
      "text/plain": [
       "<Figure size 432x288 with 1 Axes>"
      ]
     },
     "metadata": {
      "needs_background": "light"
     },
     "output_type": "display_data"
    }
   ],
   "source": [
    "sns.scatterplot(x='females_allages_avg_vote', y='mean_vote', data=relevant_years)"
   ]
  },
  {
   "cell_type": "code",
   "execution_count": 51,
   "id": "b7aa72fc",
   "metadata": {},
   "outputs": [
    {
     "data": {
      "text/plain": [
       "(0.9375038766751962, 2.0150238375185858e-26)"
      ]
     },
     "execution_count": 51,
     "metadata": {},
     "output_type": "execute_result"
    }
   ],
   "source": [
    "pearsonr(our_movies['females_allages_avg_vote'], our_movies['mean_vote'])"
   ]
  },
  {
   "cell_type": "code",
   "execution_count": 52,
   "id": "2cbfb866",
   "metadata": {},
   "outputs": [
    {
     "name": "stdout",
     "output_type": "stream",
     "text": [
      "                              OLS Regression Results                              \n",
      "==================================================================================\n",
      "Dep. Variable:     worldwide_gross_income   R-squared:                       0.093\n",
      "Model:                                OLS   Adj. R-squared:                  0.092\n",
      "Method:                     Least Squares   F-statistic:                     101.3\n",
      "Date:                    Thu, 09 Dec 2021   Prob (F-statistic):           9.52e-23\n",
      "Time:                            19:45:44   Log-Likelihood:                -20652.\n",
      "No. Observations:                     993   AIC:                         4.131e+04\n",
      "Df Residuals:                         991   BIC:                         4.132e+04\n",
      "Df Model:                               1                                         \n",
      "Covariance Type:                nonrobust                                         \n",
      "=========================================================================================================\n",
      "                                            coef    std err          t      P>|t|      [0.025      0.975]\n",
      "---------------------------------------------------------------------------------------------------------\n",
      "Intercept                              -1.83e+08   3.38e+07     -5.410      0.000   -2.49e+08   -1.17e+08\n",
      "np.power(females_allages_avg_vote, 2)  7.448e+06    7.4e+05     10.063      0.000       6e+06     8.9e+06\n",
      "==============================================================================\n",
      "Omnibus:                      743.868   Durbin-Watson:                   1.834\n",
      "Prob(Omnibus):                  0.000   Jarque-Bera (JB):            13175.623\n",
      "Skew:                           3.320   Prob(JB):                         0.00\n",
      "Kurtosis:                      19.563   Cond. No.                         187.\n",
      "==============================================================================\n",
      "\n",
      "Notes:\n",
      "[1] Standard Errors assume that the covariance matrix of the errors is correctly specified.\n"
     ]
    }
   ],
   "source": [
    "mod = smf.ols(formula='worldwide_gross_income ~ np.power(females_allages_avg_vote, 2)', data=relevant_years)\n",
    "res = mod.fit()\n",
    "print(res.summary())"
   ]
  },
  {
   "cell_type": "markdown",
   "id": "780e2525",
   "metadata": {},
   "source": [
    "## Average vote by men?"
   ]
  },
  {
   "cell_type": "code",
   "execution_count": 53,
   "id": "4c112497",
   "metadata": {},
   "outputs": [
    {
     "data": {
      "text/plain": [
       "6.355991943605238"
      ]
     },
     "execution_count": 53,
     "metadata": {},
     "output_type": "execute_result"
    },
    {
     "data": {
      "image/png": "[encoded data removed]",
      "text/plain": [
       "<Figure size 432x288 with 1 Axes>"
      ]
     },
     "metadata": {
      "needs_background": "light"
     },
     "output_type": "display_data"
    }
   ],
   "source": [
    "sns.histplot(data=relevant_years, x='males_allages_avg_vote')\n",
    "plt.axvline(x=relevant_years['males_allages_avg_vote'].mean(),\n",
    "            color='red')\n",
    "relevant_years['males_allages_avg_vote'].mean()"
   ]
  },
  {
   "cell_type": "code",
   "execution_count": 54,
   "id": "81247d22",
   "metadata": {},
   "outputs": [
    {
     "data": {
      "text/plain": [
       "6.598791540785492"
      ]
     },
     "execution_count": 54,
     "metadata": {},
     "output_type": "execute_result"
    },
    {
     "data": {
      "image/png": "[encoded data removed]",
      "text/plain": [
       "<Figure size 432x288 with 1 Axes>"
      ]
     },
     "metadata": {
      "needs_background": "light"
     },
     "output_type": "display_data"
    }
   ],
   "source": [
    "sns.histplot(data=relevant_years, x='females_allages_avg_vote')\n",
    "plt.axvline(x=relevant_years['females_allages_avg_vote'].mean(),\n",
    "            color='red')\n",
    "relevant_years['females_allages_avg_vote'].mean()"
   ]
  },
  {
   "cell_type": "markdown",
   "id": "c0d1199f",
   "metadata": {},
   "source": [
    "Set equal_var to False to not assume that both distributions have an equal variance."
   ]
  },
  {
   "cell_type": "code",
   "execution_count": 55,
   "id": "51056f25",
   "metadata": {},
   "outputs": [
    {
     "data": {
      "text/plain": [
       "Ttest_indResult(statistic=-6.004186697377894, pvalue=2.282261102655337e-09)"
      ]
     },
     "execution_count": 55,
     "metadata": {},
     "output_type": "execute_result"
    }
   ],
   "source": [
    "ttest_ind(relevant_years['males_allages_avg_vote'], relevant_years['females_allages_avg_vote'], equal_var=False)"
   ]
  },
  {
   "cell_type": "markdown",
   "id": "5e1d45f4",
   "metadata": {},
   "source": [
    "## Young vs old generation? Which generation influences movie success the most?"
   ]
  },
  {
   "cell_type": "code",
   "execution_count": 56,
   "id": "a3756e29",
   "metadata": {},
   "outputs": [
    {
     "name": "stdout",
     "output_type": "stream",
     "text": [
      "                            OLS Regression Results                            \n",
      "==============================================================================\n",
      "Dep. Variable:              mean_vote   R-squared:                       0.938\n",
      "Model:                            OLS   Adj. R-squared:                  0.938\n",
      "Method:                 Least Squares   F-statistic:                     3641.\n",
      "Date:                Thu, 09 Dec 2021   Prob (F-statistic):               0.00\n",
      "Time:                        19:45:47   Log-Likelihood:                 118.91\n",
      "No. Observations:                 969   AIC:                            -227.8\n",
      "Df Residuals:                     964   BIC:                            -203.4\n",
      "Df Model:                           4                                         \n",
      "Covariance Type:            nonrobust                                         \n",
      "=============================================================================================\n",
      "                                coef    std err          t      P>|t|      [0.025      0.975]\n",
      "---------------------------------------------------------------------------------------------\n",
      "Intercept                     0.6240      0.053     11.816      0.000       0.520       0.728\n",
      "allgenders_0age_avg_vote      0.0205      0.010      2.026      0.043       0.001       0.040\n",
      "allgenders_18age_avg_vote     0.4682      0.042     11.036      0.000       0.385       0.551\n",
      "allgenders_30age_avg_vote     0.0839      0.063      1.321      0.187      -0.041       0.208\n",
      "allgenders_45age_avg_vote     0.3513      0.035     10.131      0.000       0.283       0.419\n",
      "==============================================================================\n",
      "Omnibus:                     1252.629   Durbin-Watson:                   1.960\n",
      "Prob(Omnibus):                  0.000   Jarque-Bera (JB):           345594.145\n",
      "Skew:                           6.506   Prob(JB):                         0.00\n",
      "Kurtosis:                      94.598   Cond. No.                         147.\n",
      "==============================================================================\n",
      "\n",
      "Notes:\n",
      "[1] Standard Errors assume that the covariance matrix of the errors is correctly specified.\n"
     ]
    }
   ],
   "source": [
    "mod = smf.ols(formula='mean_vote ~ allgenders_0age_avg_vote + allgenders_18age_avg_vote + allgenders_30age_avg_vote + allgenders_45age_avg_vote', data=relevant_years)\n",
    "res = mod.fit()\n",
    "print(res.summary())"
   ]
  },
  {
   "cell_type": "code",
   "execution_count": 57,
   "id": "ed622dc1",
   "metadata": {},
   "outputs": [
    {
     "name": "stdout",
     "output_type": "stream",
     "text": [
      "                              OLS Regression Results                              \n",
      "==================================================================================\n",
      "Dep. Variable:     worldwide_gross_income   R-squared:                       0.072\n",
      "Model:                                OLS   Adj. R-squared:                  0.068\n",
      "Method:                     Least Squares   F-statistic:                     18.79\n",
      "Date:                    Thu, 09 Dec 2021   Prob (F-statistic):           6.84e-15\n",
      "Time:                            19:45:47   Log-Likelihood:                -20172.\n",
      "No. Observations:                     969   AIC:                         4.035e+04\n",
      "Df Residuals:                         964   BIC:                         4.038e+04\n",
      "Df Model:                               4                                         \n",
      "Covariance Type:                nonrobust                                         \n",
      "=============================================================================================\n",
      "                                coef    std err          t      P>|t|      [0.025      0.975]\n",
      "---------------------------------------------------------------------------------------------\n",
      "Intercept                  -4.03e+08   6.56e+07     -6.143      0.000   -5.32e+08   -2.74e+08\n",
      "allgenders_0age_avg_vote   2.268e+07   1.26e+07      1.805      0.071   -1.98e+06    4.73e+07\n",
      "allgenders_18age_avg_vote -8.793e+07   5.27e+07     -1.668      0.096   -1.91e+08    1.55e+07\n",
      "allgenders_30age_avg_vote  7.294e+07   7.89e+07      0.925      0.355   -8.18e+07    2.28e+08\n",
      "allgenders_45age_avg_vote  8.129e+07   4.31e+07      1.887      0.059   -3.25e+06    1.66e+08\n",
      "==============================================================================\n",
      "Omnibus:                      740.577   Durbin-Watson:                   1.769\n",
      "Prob(Omnibus):                  0.000   Jarque-Bera (JB):            13525.450\n",
      "Skew:                           3.403   Prob(JB):                         0.00\n",
      "Kurtosis:                      19.990   Cond. No.                         147.\n",
      "==============================================================================\n",
      "\n",
      "Notes:\n",
      "[1] Standard Errors assume that the covariance matrix of the errors is correctly specified.\n"
     ]
    }
   ],
   "source": [
    "mod = smf.ols(formula='worldwide_gross_income ~ allgenders_0age_avg_vote + allgenders_18age_avg_vote + allgenders_30age_avg_vote + allgenders_45age_avg_vote', data=relevant_years)\n",
    "res = mod.fit()\n",
    "print(res.summary())"
   ]
  },
  {
   "cell_type": "code",
   "execution_count": 58,
   "id": "cb5f4321",
   "metadata": {},
   "outputs": [
    {
     "name": "stdout",
     "output_type": "stream",
     "text": [
      "                              OLS Regression Results                              \n",
      "==================================================================================\n",
      "Dep. Variable:     worldwide_gross_income   R-squared:                       0.174\n",
      "Model:                                OLS   Adj. R-squared:                  0.110\n",
      "Method:                     Least Squares   F-statistic:                     2.692\n",
      "Date:                    Thu, 09 Dec 2021   Prob (F-statistic):             0.0412\n",
      "Time:                            19:45:47   Log-Likelihood:                -1191.8\n",
      "No. Observations:                      56   AIC:                             2394.\n",
      "Df Residuals:                          51   BIC:                             2404.\n",
      "Df Model:                               4                                         \n",
      "Covariance Type:                nonrobust                                         \n",
      "=============================================================================================\n",
      "                                coef    std err          t      P>|t|      [0.025      0.975]\n",
      "---------------------------------------------------------------------------------------------\n",
      "Intercept                 -1.181e+09   6.93e+08     -1.704      0.095   -2.57e+09    2.11e+08\n",
      "allgenders_0age_avg_vote  -1.094e+07   2.09e+08     -0.052      0.958   -4.31e+08    4.09e+08\n",
      "allgenders_18age_avg_vote  6.723e+08   8.07e+08      0.833      0.409   -9.48e+08    2.29e+09\n",
      "allgenders_30age_avg_vote -9.122e+08   1.07e+09     -0.856      0.396   -3.05e+09    1.23e+09\n",
      "allgenders_45age_avg_vote  5.438e+08   4.98e+08      1.091      0.280   -4.57e+08    1.54e+09\n",
      "==============================================================================\n",
      "Omnibus:                        8.707   Durbin-Watson:                   1.316\n",
      "Prob(Omnibus):                  0.013   Jarque-Bera (JB):                8.283\n",
      "Skew:                           0.749   Prob(JB):                       0.0159\n",
      "Kurtosis:                       4.144   Cond. No.                         326.\n",
      "==============================================================================\n",
      "\n",
      "Notes:\n",
      "[1] Standard Errors assume that the covariance matrix of the errors is correctly specified.\n"
     ]
    }
   ],
   "source": [
    "mod = smf.ols(formula='worldwide_gross_income ~ allgenders_0age_avg_vote + allgenders_18age_avg_vote + allgenders_30age_avg_vote + allgenders_45age_avg_vote', data=our_movies)\n",
    "res = mod.fit()\n",
    "print(res.summary())"
   ]
  },
  {
   "cell_type": "code",
   "execution_count": null,
   "id": "2f0f3004",
   "metadata": {},
   "outputs": [],
   "source": []
  }
 ],
 "metadata": {
  "kernelspec": {
   "display_name": "Python 3",
   "language": "python",
   "name": "python3"
  },
  "language_info": {
   "codemirror_mode": {
    "name": "ipython",
    "version": 3
   },
   "file_extension": ".py",
   "mimetype": "text/x-python",
   "name": "python",
   "nbconvert_exporter": "python",
   "pygments_lexer": "ipython3",
   "version": "3.8.8"
  }
 },
 "nbformat": 4,
 "nbformat_minor": 5
}
