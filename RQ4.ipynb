{
 "cells": [
  {
   "cell_type": "markdown",
   "id": "8295adf7",
   "metadata": {},
   "source": [
    "# Research Question 4: \n",
    "\n",
    "Is there a bias within the quotes and sentiment or rating of a movie w.r.t gender, ethnicity, etc.?"
   ]
  },
  {
   "cell_type": "code",
   "execution_count": 1,
   "id": "9b258465",
   "metadata": {},
   "outputs": [],
   "source": [
    "import pandas as pd\n",
    "import numpy as np\n",
    "import seaborn as sns\n",
    "import matplotlib.pyplot as plt\n",
    "from scipy.stats import ttest_1samp, pearsonr, ttest_ind, kstest\n",
    "import statsmodels.api as sm\n",
    "import statsmodels.formula.api as smf\n",
    "from wikidata.client import Client\n",
    "import pickle"
   ]
  },
  {
   "cell_type": "markdown",
   "id": "afaa60a5",
   "metadata": {},
   "source": [
    "## Are quotes in quotebank regarding movies biased?"
   ]
  },
  {
   "cell_type": "markdown",
   "id": "b7699303",
   "metadata": {},
   "source": [
    "We first aim to analyze how different genders are represented in the quotes regarding the movies. For this, we chose the highly represented top-quoted movies (about 10 per year), to get a meaningful number of quotes per movie, and also to analyze movies that are so popular that they potentially reach big parts of society (blockbusters), in order to analyze who makes quotes about his opinion about movies in general, and not just niche movies with a very limited interest group. "
   ]
  },
  {
   "cell_type": "code",
   "execution_count": 2,
   "id": "18e1a198",
   "metadata": {},
   "outputs": [
    {
     "data": {
      "text/html": [
       "<div>\n",
       "<style scoped>\n",
       "    .dataframe tbody tr th:only-of-type {\n",
       "        vertical-align: middle;\n",
       "    }\n",
       "\n",
       "    .dataframe tbody tr th {\n",
       "        vertical-align: top;\n",
       "    }\n",
       "\n",
       "    .dataframe thead th {\n",
       "        text-align: right;\n",
       "    }\n",
       "</style>\n",
       "<table border=\"1\" class=\"dataframe\">\n",
       "  <thead>\n",
       "    <tr style=\"text-align: right;\">\n",
       "      <th></th>\n",
       "      <th>quotation</th>\n",
       "      <th>speaker</th>\n",
       "      <th>qids</th>\n",
       "      <th>date</th>\n",
       "      <th>numOccurrences</th>\n",
       "      <th>probas</th>\n",
       "      <th>urls</th>\n",
       "      <th>movie</th>\n",
       "      <th>shared_ID</th>\n",
       "      <th>AFINN_label</th>\n",
       "      <th>AFINN_score</th>\n",
       "      <th>VADER_label</th>\n",
       "      <th>VADER_score</th>\n",
       "      <th>BERT_label</th>\n",
       "      <th>BERT_score</th>\n",
       "      <th>positive_BERT_score</th>\n",
       "      <th>scaledReverted_BERT_score</th>\n",
       "    </tr>\n",
       "  </thead>\n",
       "  <tbody>\n",
       "    <tr>\n",
       "      <th>0</th>\n",
       "      <td>Is Ferguson like Mockingjay?</td>\n",
       "      <td>Laci Green</td>\n",
       "      <td>[Q16843606]</td>\n",
       "      <td>2015-11-15</td>\n",
       "      <td>1</td>\n",
       "      <td>[[Laci Green, 0.9013], [None, 0.0987]]</td>\n",
       "      <td>[http://www.dailykos.com/story/2015/11/15/1450...</td>\n",
       "      <td>The Hunger Games: Mockingjay - Part 2</td>\n",
       "      <td>1751</td>\n",
       "      <td>POSITIVE</td>\n",
       "      <td>0.500000</td>\n",
       "      <td>POSITIVE</td>\n",
       "      <td>0.3612</td>\n",
       "      <td>NEGATIVE</td>\n",
       "      <td>0.989802</td>\n",
       "      <td>0.010198</td>\n",
       "      <td>-0.541032</td>\n",
       "    </tr>\n",
       "    <tr>\n",
       "      <th>1</th>\n",
       "      <td>I want to clarify my interview on the `Charlie...</td>\n",
       "      <td>George Lucas</td>\n",
       "      <td>[Q38222, Q1507803]</td>\n",
       "      <td>2015-12-31</td>\n",
       "      <td>7</td>\n",
       "      <td>[[George Lucas, 0.5327], [None, 0.4248], [Char...</td>\n",
       "      <td>[http://www.escapistmagazine.com/news/view/165...</td>\n",
       "      <td>Star Wars: Episode VII - The Force Awakens</td>\n",
       "      <td>6724</td>\n",
       "      <td>POSITIVE</td>\n",
       "      <td>0.165563</td>\n",
       "      <td>POSITIVE</td>\n",
       "      <td>0.9910</td>\n",
       "      <td>POSITIVE</td>\n",
       "      <td>0.999293</td>\n",
       "      <td>0.999293</td>\n",
       "      <td>0.787788</td>\n",
       "    </tr>\n",
       "    <tr>\n",
       "      <th>2</th>\n",
       "      <td>Is Daredevil joining the Avengers for Infinity...</td>\n",
       "      <td>Scott Davis</td>\n",
       "      <td>[Q1373440, Q7436227, Q7436228, Q7436226, Q1619...</td>\n",
       "      <td>2015-12-10</td>\n",
       "      <td>2</td>\n",
       "      <td>[[None, 0.4806], [Scott Davis, 0.4017], [Antho...</td>\n",
       "      <td>[http://www.flickeringmyth.com/2015/12/is-dare...</td>\n",
       "      <td>Avengers: Age of Ultron</td>\n",
       "      <td>692</td>\n",
       "      <td>NEGATIVE</td>\n",
       "      <td>-0.153846</td>\n",
       "      <td>NEGATIVE</td>\n",
       "      <td>-0.6369</td>\n",
       "      <td>NEGATIVE</td>\n",
       "      <td>0.833872</td>\n",
       "      <td>0.166128</td>\n",
       "      <td>-0.208302</td>\n",
       "    </tr>\n",
       "    <tr>\n",
       "      <th>3</th>\n",
       "      <td>They were saying, `Well, since when has Star W...</td>\n",
       "      <td>J.J. Abrams</td>\n",
       "      <td>[Q188137]</td>\n",
       "      <td>2015-12-21</td>\n",
       "      <td>1</td>\n",
       "      <td>[[J.J. Abrams, 0.5868], [None, 0.2584], [Lupit...</td>\n",
       "      <td>[http://rssfeeds.usatoday.com/~/129385923/0/us...</td>\n",
       "      <td>Star Wars: Episode VII - The Force Awakens</td>\n",
       "      <td>2394</td>\n",
       "      <td>POSITIVE</td>\n",
       "      <td>0.000000</td>\n",
       "      <td>NEGATIVE</td>\n",
       "      <td>-0.3612</td>\n",
       "      <td>NEGATIVE</td>\n",
       "      <td>0.991336</td>\n",
       "      <td>0.008664</td>\n",
       "      <td>-0.559515</td>\n",
       "    </tr>\n",
       "    <tr>\n",
       "      <th>4</th>\n",
       "      <td>You meet new characters and you learn about Ha...</td>\n",
       "      <td>Kevin Feige</td>\n",
       "      <td>[Q515161]</td>\n",
       "      <td>2015-05-06</td>\n",
       "      <td>1</td>\n",
       "      <td>[[Kevin Feige, 0.9108], [None, 0.0782], [Scott...</td>\n",
       "      <td>[http://www.digitaltrends.com/movies/ant-man-m...</td>\n",
       "      <td>Avengers: Age of Ultron</td>\n",
       "      <td>8789</td>\n",
       "      <td>NEGATIVE</td>\n",
       "      <td>-0.011111</td>\n",
       "      <td>POSITIVE</td>\n",
       "      <td>0.1901</td>\n",
       "      <td>POSITIVE</td>\n",
       "      <td>0.999218</td>\n",
       "      <td>0.999218</td>\n",
       "      <td>0.776419</td>\n",
       "    </tr>\n",
       "  </tbody>\n",
       "</table>\n",
       "</div>"
      ],
      "text/plain": [
       "                                           quotation       speaker  \\\n",
       "0                       Is Ferguson like Mockingjay?    Laci Green   \n",
       "1  I want to clarify my interview on the `Charlie...  George Lucas   \n",
       "2  Is Daredevil joining the Avengers for Infinity...   Scott Davis   \n",
       "3  They were saying, `Well, since when has Star W...   J.J. Abrams   \n",
       "4  You meet new characters and you learn about Ha...   Kevin Feige   \n",
       "\n",
       "                                                qids        date  \\\n",
       "0                                        [Q16843606]  2015-11-15   \n",
       "1                                 [Q38222, Q1507803]  2015-12-31   \n",
       "2  [Q1373440, Q7436227, Q7436228, Q7436226, Q1619...  2015-12-10   \n",
       "3                                          [Q188137]  2015-12-21   \n",
       "4                                          [Q515161]  2015-05-06   \n",
       "\n",
       "   numOccurrences                                             probas  \\\n",
       "0               1             [[Laci Green, 0.9013], [None, 0.0987]]   \n",
       "1               7  [[George Lucas, 0.5327], [None, 0.4248], [Char...   \n",
       "2               2  [[None, 0.4806], [Scott Davis, 0.4017], [Antho...   \n",
       "3               1  [[J.J. Abrams, 0.5868], [None, 0.2584], [Lupit...   \n",
       "4               1  [[Kevin Feige, 0.9108], [None, 0.0782], [Scott...   \n",
       "\n",
       "                                                urls  \\\n",
       "0  [http://www.dailykos.com/story/2015/11/15/1450...   \n",
       "1  [http://www.escapistmagazine.com/news/view/165...   \n",
       "2  [http://www.flickeringmyth.com/2015/12/is-dare...   \n",
       "3  [http://rssfeeds.usatoday.com/~/129385923/0/us...   \n",
       "4  [http://www.digitaltrends.com/movies/ant-man-m...   \n",
       "\n",
       "                                        movie  shared_ID AFINN_label  \\\n",
       "0       The Hunger Games: Mockingjay - Part 2       1751    POSITIVE   \n",
       "1  Star Wars: Episode VII - The Force Awakens       6724    POSITIVE   \n",
       "2                     Avengers: Age of Ultron        692    NEGATIVE   \n",
       "3  Star Wars: Episode VII - The Force Awakens       2394    POSITIVE   \n",
       "4                     Avengers: Age of Ultron       8789    NEGATIVE   \n",
       "\n",
       "   AFINN_score VADER_label  VADER_score BERT_label  BERT_score  \\\n",
       "0     0.500000    POSITIVE       0.3612   NEGATIVE    0.989802   \n",
       "1     0.165563    POSITIVE       0.9910   POSITIVE    0.999293   \n",
       "2    -0.153846    NEGATIVE      -0.6369   NEGATIVE    0.833872   \n",
       "3     0.000000    NEGATIVE      -0.3612   NEGATIVE    0.991336   \n",
       "4    -0.011111    POSITIVE       0.1901   POSITIVE    0.999218   \n",
       "\n",
       "   positive_BERT_score  scaledReverted_BERT_score  \n",
       "0             0.010198                  -0.541032  \n",
       "1             0.999293                   0.787788  \n",
       "2             0.166128                  -0.208302  \n",
       "3             0.008664                  -0.559515  \n",
       "4             0.999218                   0.776419  "
      ]
     },
     "execution_count": 2,
     "metadata": {},
     "output_type": "execute_result"
    }
   ],
   "source": [
    "df_quotes = pd.read_pickle('./exploratory/data/Quotebank_sentiment.pkl')\n",
    "df_quotes.head()"
   ]
  },
  {
   "cell_type": "code",
   "execution_count": 3,
   "id": "a7f0a9f7",
   "metadata": {},
   "outputs": [
    {
     "data": {
      "text/plain": [
       "(70180, 17)"
      ]
     },
     "execution_count": 3,
     "metadata": {},
     "output_type": "execute_result"
    }
   ],
   "source": [
    "df_quotes.shape"
   ]
  },
  {
   "cell_type": "markdown",
   "id": "81236251",
   "metadata": {},
   "source": [
    "Our first approach to getting the gender of a speaker was a specialized python library that was able to estimate the gender of a speaker based on the first name, called `gender-guesser`. While it worked quite well for a majority of names, we found 2 shortcomings: First, it wasn't able to deal with all speakers we had available, as e.g. J.J. of J.J. Abrams couldn't be matched. Also, it supported an only binary approach to gender, which we also wanted to extend to also include non-binary genders. "
   ]
  },
  {
   "cell_type": "markdown",
   "id": "f4a75b2e",
   "metadata": {},
   "source": [
    "Hence, we instead decided to extract the gender from the given wikidata. For this, we first read the data in, and then check for the given qids for gender. We then use the library `wikidata` to get meaningful names for the gender qids. "
   ]
  },
  {
   "cell_type": "code",
   "execution_count": 4,
   "id": "971a64c7",
   "metadata": {},
   "outputs": [],
   "source": [
    "df_wikidata = pd.read_parquet('exploratory/data/speaker_attributes.parquet')"
   ]
  },
  {
   "cell_type": "code",
   "execution_count": 5,
   "id": "ef867b30",
   "metadata": {},
   "outputs": [],
   "source": [
    "df_wikidata = df_wikidata.set_index('id')"
   ]
  },
  {
   "cell_type": "code",
   "execution_count": 6,
   "id": "2dd428c7",
   "metadata": {},
   "outputs": [
    {
     "data": {
      "text/html": [
       "<div>\n",
       "<style scoped>\n",
       "    .dataframe tbody tr th:only-of-type {\n",
       "        vertical-align: middle;\n",
       "    }\n",
       "\n",
       "    .dataframe tbody tr th {\n",
       "        vertical-align: top;\n",
       "    }\n",
       "\n",
       "    .dataframe thead th {\n",
       "        text-align: right;\n",
       "    }\n",
       "</style>\n",
       "<table border=\"1\" class=\"dataframe\">\n",
       "  <thead>\n",
       "    <tr style=\"text-align: right;\">\n",
       "      <th></th>\n",
       "      <th>aliases</th>\n",
       "      <th>date_of_birth</th>\n",
       "      <th>nationality</th>\n",
       "      <th>gender</th>\n",
       "      <th>lastrevid</th>\n",
       "      <th>ethnic_group</th>\n",
       "      <th>US_congress_bio_ID</th>\n",
       "      <th>occupation</th>\n",
       "      <th>party</th>\n",
       "      <th>academic_degree</th>\n",
       "      <th>label</th>\n",
       "      <th>candidacy</th>\n",
       "      <th>type</th>\n",
       "      <th>religion</th>\n",
       "    </tr>\n",
       "    <tr>\n",
       "      <th>id</th>\n",
       "      <th></th>\n",
       "      <th></th>\n",
       "      <th></th>\n",
       "      <th></th>\n",
       "      <th></th>\n",
       "      <th></th>\n",
       "      <th></th>\n",
       "      <th></th>\n",
       "      <th></th>\n",
       "      <th></th>\n",
       "      <th></th>\n",
       "      <th></th>\n",
       "      <th></th>\n",
       "      <th></th>\n",
       "    </tr>\n",
       "  </thead>\n",
       "  <tbody>\n",
       "    <tr>\n",
       "      <th>Q23</th>\n",
       "      <td>[Washington, President Washington, G. Washingt...</td>\n",
       "      <td>[+1732-02-22T00:00:00Z]</td>\n",
       "      <td>[Q161885, Q30]</td>\n",
       "      <td>[Q6581097]</td>\n",
       "      <td>1395141751</td>\n",
       "      <td>None</td>\n",
       "      <td>W000178</td>\n",
       "      <td>[Q82955, Q189290, Q131512, Q1734662, Q294126, ...</td>\n",
       "      <td>[Q327591]</td>\n",
       "      <td>None</td>\n",
       "      <td>George Washington</td>\n",
       "      <td>[Q698073, Q697949]</td>\n",
       "      <td>item</td>\n",
       "      <td>[Q682443]</td>\n",
       "    </tr>\n",
       "    <tr>\n",
       "      <th>Q42</th>\n",
       "      <td>[Douglas Noel Adams, Douglas Noël Adams, Dougl...</td>\n",
       "      <td>[+1952-03-11T00:00:00Z]</td>\n",
       "      <td>[Q145]</td>\n",
       "      <td>[Q6581097]</td>\n",
       "      <td>1395737157</td>\n",
       "      <td>[Q7994501]</td>\n",
       "      <td>None</td>\n",
       "      <td>[Q214917, Q28389, Q6625963, Q4853732, Q1884422...</td>\n",
       "      <td>None</td>\n",
       "      <td>None</td>\n",
       "      <td>Douglas Adams</td>\n",
       "      <td>None</td>\n",
       "      <td>item</td>\n",
       "      <td>None</td>\n",
       "    </tr>\n",
       "    <tr>\n",
       "      <th>Q1868</th>\n",
       "      <td>[Paul Marie Ghislain Otlet, Paul Marie Otlet]</td>\n",
       "      <td>[+1868-08-23T00:00:00Z]</td>\n",
       "      <td>[Q31]</td>\n",
       "      <td>[Q6581097]</td>\n",
       "      <td>1380367296</td>\n",
       "      <td>None</td>\n",
       "      <td>None</td>\n",
       "      <td>[Q36180, Q40348, Q182436, Q1265807, Q205375, Q...</td>\n",
       "      <td>None</td>\n",
       "      <td>None</td>\n",
       "      <td>Paul Otlet</td>\n",
       "      <td>None</td>\n",
       "      <td>item</td>\n",
       "      <td>None</td>\n",
       "    </tr>\n",
       "    <tr>\n",
       "      <th>Q207</th>\n",
       "      <td>[George Walker Bush, Bush Jr., Dubya, GWB, Bus...</td>\n",
       "      <td>[+1946-07-06T00:00:00Z]</td>\n",
       "      <td>[Q30]</td>\n",
       "      <td>[Q6581097]</td>\n",
       "      <td>1395142029</td>\n",
       "      <td>None</td>\n",
       "      <td>None</td>\n",
       "      <td>[Q82955, Q15982858, Q18814623, Q1028181, Q1408...</td>\n",
       "      <td>[Q29468]</td>\n",
       "      <td>None</td>\n",
       "      <td>George W. Bush</td>\n",
       "      <td>[Q327959, Q464075, Q3586276, Q4450587]</td>\n",
       "      <td>item</td>\n",
       "      <td>[Q329646, Q682443, Q33203]</td>\n",
       "    </tr>\n",
       "    <tr>\n",
       "      <th>Q297</th>\n",
       "      <td>[Velázquez, Diego Rodríguez de Silva y Velázqu...</td>\n",
       "      <td>[+1599-06-06T00:00:00Z]</td>\n",
       "      <td>[Q29]</td>\n",
       "      <td>[Q6581097]</td>\n",
       "      <td>1391704596</td>\n",
       "      <td>None</td>\n",
       "      <td>None</td>\n",
       "      <td>[Q1028181]</td>\n",
       "      <td>None</td>\n",
       "      <td>None</td>\n",
       "      <td>Diego Velázquez</td>\n",
       "      <td>None</td>\n",
       "      <td>item</td>\n",
       "      <td>None</td>\n",
       "    </tr>\n",
       "  </tbody>\n",
       "</table>\n",
       "</div>"
      ],
      "text/plain": [
       "                                                 aliases  \\\n",
       "id                                                         \n",
       "Q23    [Washington, President Washington, G. Washingt...   \n",
       "Q42    [Douglas Noel Adams, Douglas Noël Adams, Dougl...   \n",
       "Q1868      [Paul Marie Ghislain Otlet, Paul Marie Otlet]   \n",
       "Q207   [George Walker Bush, Bush Jr., Dubya, GWB, Bus...   \n",
       "Q297   [Velázquez, Diego Rodríguez de Silva y Velázqu...   \n",
       "\n",
       "                 date_of_birth     nationality      gender   lastrevid  \\\n",
       "id                                                                       \n",
       "Q23    [+1732-02-22T00:00:00Z]  [Q161885, Q30]  [Q6581097]  1395141751   \n",
       "Q42    [+1952-03-11T00:00:00Z]          [Q145]  [Q6581097]  1395737157   \n",
       "Q1868  [+1868-08-23T00:00:00Z]           [Q31]  [Q6581097]  1380367296   \n",
       "Q207   [+1946-07-06T00:00:00Z]           [Q30]  [Q6581097]  1395142029   \n",
       "Q297   [+1599-06-06T00:00:00Z]           [Q29]  [Q6581097]  1391704596   \n",
       "\n",
       "      ethnic_group US_congress_bio_ID  \\\n",
       "id                                      \n",
       "Q23           None            W000178   \n",
       "Q42     [Q7994501]               None   \n",
       "Q1868         None               None   \n",
       "Q207          None               None   \n",
       "Q297          None               None   \n",
       "\n",
       "                                              occupation      party  \\\n",
       "id                                                                    \n",
       "Q23    [Q82955, Q189290, Q131512, Q1734662, Q294126, ...  [Q327591]   \n",
       "Q42    [Q214917, Q28389, Q6625963, Q4853732, Q1884422...       None   \n",
       "Q1868  [Q36180, Q40348, Q182436, Q1265807, Q205375, Q...       None   \n",
       "Q207   [Q82955, Q15982858, Q18814623, Q1028181, Q1408...   [Q29468]   \n",
       "Q297                                          [Q1028181]       None   \n",
       "\n",
       "      academic_degree              label  \\\n",
       "id                                         \n",
       "Q23              None  George Washington   \n",
       "Q42              None      Douglas Adams   \n",
       "Q1868            None         Paul Otlet   \n",
       "Q207             None     George W. Bush   \n",
       "Q297             None    Diego Velázquez   \n",
       "\n",
       "                                    candidacy  type  \\\n",
       "id                                                    \n",
       "Q23                        [Q698073, Q697949]  item   \n",
       "Q42                                      None  item   \n",
       "Q1868                                    None  item   \n",
       "Q207   [Q327959, Q464075, Q3586276, Q4450587]  item   \n",
       "Q297                                     None  item   \n",
       "\n",
       "                         religion  \n",
       "id                                 \n",
       "Q23                     [Q682443]  \n",
       "Q42                          None  \n",
       "Q1868                        None  \n",
       "Q207   [Q329646, Q682443, Q33203]  \n",
       "Q297                         None  "
      ]
     },
     "execution_count": 6,
     "metadata": {},
     "output_type": "execute_result"
    }
   ],
   "source": [
    "df_wikidata.head()"
   ]
  },
  {
   "cell_type": "code",
   "execution_count": 7,
   "id": "b1ef8a6b",
   "metadata": {},
   "outputs": [],
   "source": [
    "df_wikidata = df_wikidata.dropna(subset=['gender'])"
   ]
  },
  {
   "cell_type": "code",
   "execution_count": 8,
   "id": "d9237ed2",
   "metadata": {},
   "outputs": [],
   "source": [
    "df_wikidata['gender'] = df_wikidata['gender'].apply(lambda x: x[0])"
   ]
  },
  {
   "cell_type": "code",
   "execution_count": 9,
   "id": "00187c4e",
   "metadata": {},
   "outputs": [
    {
     "data": {
      "text/plain": [
       "array(['Q6581097', 'Q6581072', 'Q1052281', 'Q2449503', 'Q48270',\n",
       "       'Q1097630', 'Q12964198', 'Q189125', 'Q15145779', 'Q301702',\n",
       "       'Q179294', 'Q27679766', 'Q18116794', 'Q859614', 'Q44148',\n",
       "       'Q1289754', 'Q106299064', 'Q27679684', 'Q15145778', 'Q52261234',\n",
       "       'Q207959', 'Q43445', 'Q505371', 'Q7130936', 'Q96000630',\n",
       "       'Q1984232', 'Q93954933', 'Q746411', 'Q48279', 'Q3177577',\n",
       "       'Q1775415', 'Q6636'], dtype=object)"
      ]
     },
     "execution_count": 9,
     "metadata": {},
     "output_type": "execute_result"
    }
   ],
   "source": [
    "df_wikidata['gender'].unique()"
   ]
  },
  {
   "cell_type": "code",
   "execution_count": 10,
   "id": "601a1b93",
   "metadata": {},
   "outputs": [
    {
     "data": {
      "text/plain": [
       "{'Q6581097': 'male',\n",
       " 'Q6581072': 'female',\n",
       " 'Q1052281': 'transgender female',\n",
       " 'Q2449503': 'transgender male',\n",
       " 'Q48270': 'non-binary',\n",
       " 'Q1097630': 'intersex',\n",
       " 'Q12964198': 'genderqueer',\n",
       " 'Q189125': 'transgender person',\n",
       " 'Q15145779': 'cisgender female',\n",
       " 'Q301702': 'two-spirit',\n",
       " 'Q179294': 'eunuch',\n",
       " 'Q27679766': 'transmasculine',\n",
       " 'Q18116794': 'genderfluid',\n",
       " 'Q859614': 'bigender',\n",
       " 'Q44148': 'male organism',\n",
       " 'Q1289754': 'neutrois',\n",
       " 'Q106299064': 'Erkek',\n",
       " 'Q27679684': 'transfeminine',\n",
       " 'Q15145778': 'cisgender male',\n",
       " 'Q52261234': 'neutral sex',\n",
       " 'Q207959': 'androgyny',\n",
       " 'Q43445': 'female organism',\n",
       " 'Q505371': 'agender',\n",
       " 'Q7130936': 'pangender',\n",
       " 'Q96000630': 'X-gender',\n",
       " 'Q1984232': 'shemale',\n",
       " 'Q93954933': 'demiboy',\n",
       " 'Q746411': 'kathoey',\n",
       " 'Q48279': 'third gender',\n",
       " 'Q3177577': 'muxe',\n",
       " 'Q1775415': 'feminine',\n",
       " 'Q6636': 'homosexuality'}"
      ]
     },
     "execution_count": 10,
     "metadata": {},
     "output_type": "execute_result"
    }
   ],
   "source": [
    "client = Client()\n",
    "qid_to_gender = dict()\n",
    "for qid in df_wikidata['gender'].unique():\n",
    "    if qid is not None:\n",
    "        entity = client.get(qid, load=True)\n",
    "        try:\n",
    "            qid_to_gender[qid] = entity.data['labels']['en']['value']\n",
    "        except:\n",
    "            print(qid)\n",
    "qid_to_gender"
   ]
  },
  {
   "cell_type": "markdown",
   "id": "12dfdebb",
   "metadata": {},
   "source": [
    "In the following, we decided to keep male and female, and summarize other genders with a 'diverse' label. We so apply this to our dataframe of wikipedia properties."
   ]
  },
  {
   "cell_type": "code",
   "execution_count": 11,
   "id": "e23355e0",
   "metadata": {},
   "outputs": [],
   "source": [
    "df_wikidata['gender'] = df_wikidata['gender'].apply(lambda x: 'male' if x == 'Q6581097' else 'female' if x == 'Q6581072' else 'diverse')"
   ]
  },
  {
   "cell_type": "markdown",
   "id": "7917d200",
   "metadata": {},
   "source": [
    "To further investigate, we create a dataframe to map our shared_IDs with their gender. We give these shared_IDs to a set of qids referring to the same person (e.g. Donald Trump, President Trump, etc.). To get the gender, we decided to check all qids and stop after the first match (assuming that each article gives the same gender to a person, if any). "
   ]
  },
  {
   "cell_type": "code",
   "execution_count": 12,
   "id": "5ab300d8",
   "metadata": {},
   "outputs": [
    {
     "data": {
      "text/html": [
       "<div>\n",
       "<style scoped>\n",
       "    .dataframe tbody tr th:only-of-type {\n",
       "        vertical-align: middle;\n",
       "    }\n",
       "\n",
       "    .dataframe tbody tr th {\n",
       "        vertical-align: top;\n",
       "    }\n",
       "\n",
       "    .dataframe thead th {\n",
       "        text-align: right;\n",
       "    }\n",
       "</style>\n",
       "<table border=\"1\" class=\"dataframe\">\n",
       "  <thead>\n",
       "    <tr style=\"text-align: right;\">\n",
       "      <th></th>\n",
       "      <th>shared_ID</th>\n",
       "      <th>qids</th>\n",
       "    </tr>\n",
       "  </thead>\n",
       "  <tbody>\n",
       "    <tr>\n",
       "      <th>0</th>\n",
       "      <td>1751</td>\n",
       "      <td>[Q16843606]</td>\n",
       "    </tr>\n",
       "    <tr>\n",
       "      <th>1</th>\n",
       "      <td>6724</td>\n",
       "      <td>[Q38222, Q1507803]</td>\n",
       "    </tr>\n",
       "    <tr>\n",
       "      <th>2</th>\n",
       "      <td>692</td>\n",
       "      <td>[Q1373440, Q7436227, Q7436228, Q7436226, Q1619...</td>\n",
       "    </tr>\n",
       "    <tr>\n",
       "      <th>3</th>\n",
       "      <td>2394</td>\n",
       "      <td>[Q188137]</td>\n",
       "    </tr>\n",
       "    <tr>\n",
       "      <th>4</th>\n",
       "      <td>8789</td>\n",
       "      <td>[Q515161]</td>\n",
       "    </tr>\n",
       "  </tbody>\n",
       "</table>\n",
       "</div>"
      ],
      "text/plain": [
       "   shared_ID                                               qids\n",
       "0       1751                                        [Q16843606]\n",
       "1       6724                                 [Q38222, Q1507803]\n",
       "2        692  [Q1373440, Q7436227, Q7436228, Q7436226, Q1619...\n",
       "3       2394                                          [Q188137]\n",
       "4       8789                                          [Q515161]"
      ]
     },
     "execution_count": 12,
     "metadata": {},
     "output_type": "execute_result"
    }
   ],
   "source": [
    "map_gender = df_quotes[['shared_ID', 'qids']].drop_duplicates(subset=['shared_ID'])\n",
    "map_gender.head()"
   ]
  },
  {
   "cell_type": "code",
   "execution_count": 13,
   "id": "109f5189",
   "metadata": {},
   "outputs": [
    {
     "data": {
      "text/plain": [
       "(13440, 2)"
      ]
     },
     "execution_count": 13,
     "metadata": {},
     "output_type": "execute_result"
    }
   ],
   "source": [
    "map_gender.shape"
   ]
  },
  {
   "cell_type": "code",
   "execution_count": 14,
   "id": "a7e3ee6e",
   "metadata": {},
   "outputs": [],
   "source": [
    "def get_gender(row):\n",
    "    for qid in row['qids']:\n",
    "        try:\n",
    "            gender = df_wikidata.loc[qid, 'gender']\n",
    "            row['gender'] = gender\n",
    "            return row\n",
    "        except KeyError:\n",
    "            continue\n",
    "    row['gender'] = None\n",
    "    return row\n",
    "map_gender = map_gender.apply(get_gender, axis=1)"
   ]
  },
  {
   "cell_type": "code",
   "execution_count": 15,
   "id": "895d4f5c",
   "metadata": {},
   "outputs": [
    {
     "data": {
      "text/plain": [
       "male       10639\n",
       "female      2555\n",
       "diverse       35\n",
       "Name: gender, dtype: int64"
      ]
     },
     "execution_count": 15,
     "metadata": {},
     "output_type": "execute_result"
    }
   ],
   "source": [
    "map_gender['gender'].value_counts()"
   ]
  },
  {
   "cell_type": "code",
   "execution_count": 16,
   "id": "2749ceff",
   "metadata": {},
   "outputs": [],
   "source": [
    "map_gender = map_gender.set_index('shared_ID')"
   ]
  },
  {
   "cell_type": "code",
   "execution_count": 17,
   "id": "f0a0a4fb",
   "metadata": {},
   "outputs": [
    {
     "data": {
      "text/html": [
       "<div>\n",
       "<style scoped>\n",
       "    .dataframe tbody tr th:only-of-type {\n",
       "        vertical-align: middle;\n",
       "    }\n",
       "\n",
       "    .dataframe tbody tr th {\n",
       "        vertical-align: top;\n",
       "    }\n",
       "\n",
       "    .dataframe thead th {\n",
       "        text-align: right;\n",
       "    }\n",
       "</style>\n",
       "<table border=\"1\" class=\"dataframe\">\n",
       "  <thead>\n",
       "    <tr style=\"text-align: right;\">\n",
       "      <th></th>\n",
       "      <th>quotation</th>\n",
       "      <th>speaker</th>\n",
       "      <th>qids_x</th>\n",
       "      <th>date</th>\n",
       "      <th>numOccurrences</th>\n",
       "      <th>probas</th>\n",
       "      <th>urls</th>\n",
       "      <th>movie</th>\n",
       "      <th>shared_ID</th>\n",
       "      <th>AFINN_label</th>\n",
       "      <th>AFINN_score</th>\n",
       "      <th>VADER_label</th>\n",
       "      <th>VADER_score</th>\n",
       "      <th>BERT_label</th>\n",
       "      <th>BERT_score</th>\n",
       "      <th>positive_BERT_score</th>\n",
       "      <th>scaledReverted_BERT_score</th>\n",
       "      <th>qids_y</th>\n",
       "      <th>gender</th>\n",
       "    </tr>\n",
       "  </thead>\n",
       "  <tbody>\n",
       "    <tr>\n",
       "      <th>0</th>\n",
       "      <td>Is Ferguson like Mockingjay?</td>\n",
       "      <td>Laci Green</td>\n",
       "      <td>[Q16843606]</td>\n",
       "      <td>2015-11-15</td>\n",
       "      <td>1</td>\n",
       "      <td>[[Laci Green, 0.9013], [None, 0.0987]]</td>\n",
       "      <td>[http://www.dailykos.com/story/2015/11/15/1450...</td>\n",
       "      <td>The Hunger Games: Mockingjay - Part 2</td>\n",
       "      <td>1751</td>\n",
       "      <td>POSITIVE</td>\n",
       "      <td>0.500000</td>\n",
       "      <td>POSITIVE</td>\n",
       "      <td>0.3612</td>\n",
       "      <td>NEGATIVE</td>\n",
       "      <td>0.989802</td>\n",
       "      <td>0.010198</td>\n",
       "      <td>-0.541032</td>\n",
       "      <td>[Q16843606]</td>\n",
       "      <td>female</td>\n",
       "    </tr>\n",
       "    <tr>\n",
       "      <th>1</th>\n",
       "      <td>I want to clarify my interview on the `Charlie...</td>\n",
       "      <td>George Lucas</td>\n",
       "      <td>[Q38222, Q1507803]</td>\n",
       "      <td>2015-12-31</td>\n",
       "      <td>7</td>\n",
       "      <td>[[George Lucas, 0.5327], [None, 0.4248], [Char...</td>\n",
       "      <td>[http://www.escapistmagazine.com/news/view/165...</td>\n",
       "      <td>Star Wars: Episode VII - The Force Awakens</td>\n",
       "      <td>6724</td>\n",
       "      <td>POSITIVE</td>\n",
       "      <td>0.165563</td>\n",
       "      <td>POSITIVE</td>\n",
       "      <td>0.9910</td>\n",
       "      <td>POSITIVE</td>\n",
       "      <td>0.999293</td>\n",
       "      <td>0.999293</td>\n",
       "      <td>0.787788</td>\n",
       "      <td>[Q38222, Q1507803]</td>\n",
       "      <td>male</td>\n",
       "    </tr>\n",
       "    <tr>\n",
       "      <th>2</th>\n",
       "      <td>Is Daredevil joining the Avengers for Infinity...</td>\n",
       "      <td>Scott Davis</td>\n",
       "      <td>[Q1373440, Q7436227, Q7436228, Q7436226, Q1619...</td>\n",
       "      <td>2015-12-10</td>\n",
       "      <td>2</td>\n",
       "      <td>[[None, 0.4806], [Scott Davis, 0.4017], [Antho...</td>\n",
       "      <td>[http://www.flickeringmyth.com/2015/12/is-dare...</td>\n",
       "      <td>Avengers: Age of Ultron</td>\n",
       "      <td>692</td>\n",
       "      <td>NEGATIVE</td>\n",
       "      <td>-0.153846</td>\n",
       "      <td>NEGATIVE</td>\n",
       "      <td>-0.6369</td>\n",
       "      <td>NEGATIVE</td>\n",
       "      <td>0.833872</td>\n",
       "      <td>0.166128</td>\n",
       "      <td>-0.208302</td>\n",
       "      <td>[Q1373440, Q7436227, Q7436228, Q7436226, Q1619...</td>\n",
       "      <td>male</td>\n",
       "    </tr>\n",
       "    <tr>\n",
       "      <th>3</th>\n",
       "      <td>They were saying, `Well, since when has Star W...</td>\n",
       "      <td>J.J. Abrams</td>\n",
       "      <td>[Q188137]</td>\n",
       "      <td>2015-12-21</td>\n",
       "      <td>1</td>\n",
       "      <td>[[J.J. Abrams, 0.5868], [None, 0.2584], [Lupit...</td>\n",
       "      <td>[http://rssfeeds.usatoday.com/~/129385923/0/us...</td>\n",
       "      <td>Star Wars: Episode VII - The Force Awakens</td>\n",
       "      <td>2394</td>\n",
       "      <td>POSITIVE</td>\n",
       "      <td>0.000000</td>\n",
       "      <td>NEGATIVE</td>\n",
       "      <td>-0.3612</td>\n",
       "      <td>NEGATIVE</td>\n",
       "      <td>0.991336</td>\n",
       "      <td>0.008664</td>\n",
       "      <td>-0.559515</td>\n",
       "      <td>[Q188137]</td>\n",
       "      <td>male</td>\n",
       "    </tr>\n",
       "    <tr>\n",
       "      <th>4</th>\n",
       "      <td>You meet new characters and you learn about Ha...</td>\n",
       "      <td>Kevin Feige</td>\n",
       "      <td>[Q515161]</td>\n",
       "      <td>2015-05-06</td>\n",
       "      <td>1</td>\n",
       "      <td>[[Kevin Feige, 0.9108], [None, 0.0782], [Scott...</td>\n",
       "      <td>[http://www.digitaltrends.com/movies/ant-man-m...</td>\n",
       "      <td>Avengers: Age of Ultron</td>\n",
       "      <td>8789</td>\n",
       "      <td>NEGATIVE</td>\n",
       "      <td>-0.011111</td>\n",
       "      <td>POSITIVE</td>\n",
       "      <td>0.1901</td>\n",
       "      <td>POSITIVE</td>\n",
       "      <td>0.999218</td>\n",
       "      <td>0.999218</td>\n",
       "      <td>0.776419</td>\n",
       "      <td>[Q515161]</td>\n",
       "      <td>male</td>\n",
       "    </tr>\n",
       "  </tbody>\n",
       "</table>\n",
       "</div>"
      ],
      "text/plain": [
       "                                           quotation       speaker  \\\n",
       "0                       Is Ferguson like Mockingjay?    Laci Green   \n",
       "1  I want to clarify my interview on the `Charlie...  George Lucas   \n",
       "2  Is Daredevil joining the Avengers for Infinity...   Scott Davis   \n",
       "3  They were saying, `Well, since when has Star W...   J.J. Abrams   \n",
       "4  You meet new characters and you learn about Ha...   Kevin Feige   \n",
       "\n",
       "                                              qids_x        date  \\\n",
       "0                                        [Q16843606]  2015-11-15   \n",
       "1                                 [Q38222, Q1507803]  2015-12-31   \n",
       "2  [Q1373440, Q7436227, Q7436228, Q7436226, Q1619...  2015-12-10   \n",
       "3                                          [Q188137]  2015-12-21   \n",
       "4                                          [Q515161]  2015-05-06   \n",
       "\n",
       "   numOccurrences                                             probas  \\\n",
       "0               1             [[Laci Green, 0.9013], [None, 0.0987]]   \n",
       "1               7  [[George Lucas, 0.5327], [None, 0.4248], [Char...   \n",
       "2               2  [[None, 0.4806], [Scott Davis, 0.4017], [Antho...   \n",
       "3               1  [[J.J. Abrams, 0.5868], [None, 0.2584], [Lupit...   \n",
       "4               1  [[Kevin Feige, 0.9108], [None, 0.0782], [Scott...   \n",
       "\n",
       "                                                urls  \\\n",
       "0  [http://www.dailykos.com/story/2015/11/15/1450...   \n",
       "1  [http://www.escapistmagazine.com/news/view/165...   \n",
       "2  [http://www.flickeringmyth.com/2015/12/is-dare...   \n",
       "3  [http://rssfeeds.usatoday.com/~/129385923/0/us...   \n",
       "4  [http://www.digitaltrends.com/movies/ant-man-m...   \n",
       "\n",
       "                                        movie  shared_ID AFINN_label  \\\n",
       "0       The Hunger Games: Mockingjay - Part 2       1751    POSITIVE   \n",
       "1  Star Wars: Episode VII - The Force Awakens       6724    POSITIVE   \n",
       "2                     Avengers: Age of Ultron        692    NEGATIVE   \n",
       "3  Star Wars: Episode VII - The Force Awakens       2394    POSITIVE   \n",
       "4                     Avengers: Age of Ultron       8789    NEGATIVE   \n",
       "\n",
       "   AFINN_score VADER_label  VADER_score BERT_label  BERT_score  \\\n",
       "0     0.500000    POSITIVE       0.3612   NEGATIVE    0.989802   \n",
       "1     0.165563    POSITIVE       0.9910   POSITIVE    0.999293   \n",
       "2    -0.153846    NEGATIVE      -0.6369   NEGATIVE    0.833872   \n",
       "3     0.000000    NEGATIVE      -0.3612   NEGATIVE    0.991336   \n",
       "4    -0.011111    POSITIVE       0.1901   POSITIVE    0.999218   \n",
       "\n",
       "   positive_BERT_score  scaledReverted_BERT_score  \\\n",
       "0             0.010198                  -0.541032   \n",
       "1             0.999293                   0.787788   \n",
       "2             0.166128                  -0.208302   \n",
       "3             0.008664                  -0.559515   \n",
       "4             0.999218                   0.776419   \n",
       "\n",
       "                                              qids_y  gender  \n",
       "0                                        [Q16843606]  female  \n",
       "1                                 [Q38222, Q1507803]    male  \n",
       "2  [Q1373440, Q7436227, Q7436228, Q7436226, Q1619...    male  \n",
       "3                                          [Q188137]    male  \n",
       "4                                          [Q515161]    male  "
      ]
     },
     "execution_count": 17,
     "metadata": {},
     "output_type": "execute_result"
    }
   ],
   "source": [
    "df_quotes = df_quotes.merge(map_gender, how='left', left_on='shared_ID', right_index=True)\n",
    "df_quotes.head()"
   ]
  },
  {
   "cell_type": "code",
   "execution_count": 18,
   "id": "aa54b9d4",
   "metadata": {},
   "outputs": [
    {
     "data": {
      "text/plain": [
       "male       57332\n",
       "female     12176\n",
       "diverse      127\n",
       "Name: gender, dtype: int64"
      ]
     },
     "execution_count": 18,
     "metadata": {},
     "output_type": "execute_result"
    }
   ],
   "source": [
    "df_quotes['gender'].value_counts()"
   ]
  },
  {
   "cell_type": "code",
   "execution_count": 19,
   "id": "2101139a",
   "metadata": {},
   "outputs": [
    {
     "data": {
      "text/plain": [
       "<AxesSubplot:ylabel='gender'>"
      ]
     },
     "execution_count": 19,
     "metadata": {},
     "output_type": "execute_result"
    },
    {
     "data": {
      "image/png": "[encoded data removed]",
      "text/plain": [
       "<Figure size 432x288 with 1 Axes>"
      ]
     },
     "metadata": {},
     "output_type": "display_data"
    }
   ],
   "source": [
    "df_quotes['gender'].value_counts().plot.pie()"
   ]
  },
  {
   "cell_type": "code",
   "execution_count": 20,
   "id": "285f3425",
   "metadata": {},
   "outputs": [
    {
     "data": {
      "text/plain": [
       "male       10639\n",
       "female      2555\n",
       "diverse       35\n",
       "Name: gender, dtype: int64"
      ]
     },
     "execution_count": 20,
     "metadata": {},
     "output_type": "execute_result"
    }
   ],
   "source": [
    "df_quotes.drop_duplicates('shared_ID')['gender'].value_counts()"
   ]
  },
  {
   "cell_type": "code",
   "execution_count": 21,
   "id": "4717ee34",
   "metadata": {},
   "outputs": [
    {
     "data": {
      "text/plain": [
       "<AxesSubplot:ylabel='gender'>"
      ]
     },
     "execution_count": 21,
     "metadata": {},
     "output_type": "execute_result"
    },
    {
     "data": {
      "image/png": "[encoded data removed]",
      "text/plain": [
       "<Figure size 432x288 with 1 Axes>"
      ]
     },
     "metadata": {},
     "output_type": "display_data"
    }
   ],
   "source": [
    "df_quotes.drop_duplicates('shared_ID')['gender'].value_counts().plot.pie()"
   ]
  },
  {
   "cell_type": "markdown",
   "id": "76759abc",
   "metadata": {},
   "source": [
    "First interesting finding: A HUGE majority of quotes come from speakers who identify as male, nearly 5 times as much as from women. Other genders are a very small minority. This is pretty outstanding, as one would rather expect male and female to be at about 50 % each. As about 1.2 million of a total of 300 million Americans identify as non-binary (https://williamsinstitute.law.ucla.edu/publications/nonbinary-lgbtq-adults-us/), we would assume the same about 0.4 % of non-binary people, while here we get only 0.1 % of quotes from people identifying as non-binary. We would conclude that mostly women might be underrepresented. \n",
    "The same holds for the number of unique speakers. Only 35 are diverse, and there are about 4 times as much women as men."
   ]
  },
  {
   "cell_type": "markdown",
   "id": "08cbaa3c",
   "metadata": {},
   "source": [
    "Another interesting point to check is whether women or men (as the number of diverse quotes and speakers were so low, we continue our investigation on male and female only) tend to be more positive or negative. For this, we first look at the distribution of BERT_scores (the ones used earlier for sentiment analysis), and then check whether these distributions differ. "
   ]
  },
  {
   "cell_type": "code",
   "execution_count": 22,
   "id": "8a2caa04",
   "metadata": {},
   "outputs": [
    {
     "data": {
      "image/png": "[encoded data removed]",
      "text/plain": [
       "<Figure size 1080x360 with 3 Axes>"
      ]
     },
     "metadata": {
      "needs_background": "light"
     },
     "output_type": "display_data"
    }
   ],
   "source": [
    "axs = sns.displot(df_quotes, x=\"positive_BERT_score\", col=\"gender\")"
   ]
  },
  {
   "cell_type": "code",
   "execution_count": 23,
   "id": "17b41ad9",
   "metadata": {},
   "outputs": [
    {
     "data": {
      "text/plain": [
       "0.6407852775468535"
      ]
     },
     "execution_count": 23,
     "metadata": {},
     "output_type": "execute_result"
    }
   ],
   "source": [
    "df_quotes[df_quotes['gender'] == 'male']['positive_BERT_score'].mean()"
   ]
  },
  {
   "cell_type": "code",
   "execution_count": 24,
   "id": "d94843f0",
   "metadata": {},
   "outputs": [
    {
     "data": {
      "text/plain": [
       "0.6820884670783202"
      ]
     },
     "execution_count": 24,
     "metadata": {},
     "output_type": "execute_result"
    }
   ],
   "source": [
    "df_quotes[df_quotes['gender'] == 'female']['positive_BERT_score'].mean()"
   ]
  },
  {
   "cell_type": "code",
   "execution_count": 25,
   "id": "4569866e",
   "metadata": {},
   "outputs": [
    {
     "data": {
      "text/plain": [
       "0.9854506254196167"
      ]
     },
     "execution_count": 25,
     "metadata": {},
     "output_type": "execute_result"
    }
   ],
   "source": [
    "df_quotes[df_quotes['gender'] == 'male']['positive_BERT_score'].median()"
   ]
  },
  {
   "cell_type": "code",
   "execution_count": 26,
   "id": "bd08f03e",
   "metadata": {},
   "outputs": [
    {
     "data": {
      "text/plain": [
       "0.9932129383087158"
      ]
     },
     "execution_count": 26,
     "metadata": {},
     "output_type": "execute_result"
    }
   ],
   "source": [
    "df_quotes[df_quotes['gender'] == 'female']['positive_BERT_score'].median()"
   ]
  },
  {
   "cell_type": "code",
   "execution_count": 27,
   "id": "be2abb5b",
   "metadata": {},
   "outputs": [
    {
     "data": {
      "text/plain": [
       "KstestResult(statistic=0.06161109192436376, pvalue=1.39040289512341e-33)"
      ]
     },
     "execution_count": 27,
     "metadata": {},
     "output_type": "execute_result"
    }
   ],
   "source": [
    "male_scores = df_quotes[df_quotes['gender'] == 'male']['positive_BERT_score']\n",
    "female_scores = df_quotes[df_quotes['gender'] == 'female']['positive_BERT_score']\n",
    "kstest(male_scores, female_scores, alternative='two-sided')"
   ]
  },
  {
   "cell_type": "markdown",
   "id": "e6f9dee5",
   "metadata": {},
   "source": [
    "We decided for the Kolmogorov-Smirnoff two-sided test to compare the distributions of male and female sentiments. Given our p-value, we can reject the null hypothesis that both distributions are the same. From the higher mean and median of female sentiments, we would deduce that women tend to talk slightly more positive about movies than men do. "
   ]
  },
  {
   "cell_type": "code",
   "execution_count": 28,
   "id": "9d92e151",
   "metadata": {},
   "outputs": [
    {
     "data": {
      "text/html": [
       "<div>\n",
       "<style scoped>\n",
       "    .dataframe tbody tr th:only-of-type {\n",
       "        vertical-align: middle;\n",
       "    }\n",
       "\n",
       "    .dataframe tbody tr th {\n",
       "        vertical-align: top;\n",
       "    }\n",
       "\n",
       "    .dataframe thead th {\n",
       "        text-align: right;\n",
       "    }\n",
       "</style>\n",
       "<table border=\"1\" class=\"dataframe\">\n",
       "  <thead>\n",
       "    <tr style=\"text-align: right;\">\n",
       "      <th></th>\n",
       "      <th>median_sentiment</th>\n",
       "      <th>no_of_quotes</th>\n",
       "    </tr>\n",
       "    <tr>\n",
       "      <th>movie</th>\n",
       "      <th></th>\n",
       "      <th></th>\n",
       "    </tr>\n",
       "  </thead>\n",
       "  <tbody>\n",
       "    <tr>\n",
       "      <th>Fantastic Beasts and Where to Find Them</th>\n",
       "      <td>0.999506</td>\n",
       "      <td>42</td>\n",
       "    </tr>\n",
       "    <tr>\n",
       "      <th>Incredibles 2</th>\n",
       "      <td>0.999257</td>\n",
       "      <td>105</td>\n",
       "    </tr>\n",
       "    <tr>\n",
       "      <th>Fast &amp; Furious 7</th>\n",
       "      <td>0.998885</td>\n",
       "      <td>21</td>\n",
       "    </tr>\n",
       "    <tr>\n",
       "      <th>Fantastic Beasts: The Crimes of Grindelwald</th>\n",
       "      <td>0.998581</td>\n",
       "      <td>193</td>\n",
       "    </tr>\n",
       "    <tr>\n",
       "      <th>Frozen II</th>\n",
       "      <td>0.998165</td>\n",
       "      <td>32</td>\n",
       "    </tr>\n",
       "  </tbody>\n",
       "</table>\n",
       "</div>"
      ],
      "text/plain": [
       "                                             median_sentiment  no_of_quotes\n",
       "movie                                                                      \n",
       "Fantastic Beasts and Where to Find Them              0.999506            42\n",
       "Incredibles 2                                        0.999257           105\n",
       "Fast & Furious 7                                     0.998885            21\n",
       "Fantastic Beasts: The Crimes of Grindelwald          0.998581           193\n",
       "Frozen II                                            0.998165            32"
      ]
     },
     "execution_count": 28,
     "metadata": {},
     "output_type": "execute_result"
    }
   ],
   "source": [
    "male_movies = df_quotes[df_quotes['gender'] == 'male'].groupby('movie').agg({'positive_BERT_score': 'median', 'quotation': 'count'}).sort_values('positive_BERT_score', ascending=False).rename(columns={'positive_BERT_score': 'median_sentiment', 'quotation': 'no_of_quotes'})\n",
    "male_medians = male_movies['median_sentiment']\n",
    "male_movies.head(5)"
   ]
  },
  {
   "cell_type": "code",
   "execution_count": 29,
   "id": "ef97ab3e",
   "metadata": {},
   "outputs": [
    {
     "data": {
      "text/html": [
       "<div>\n",
       "<style scoped>\n",
       "    .dataframe tbody tr th:only-of-type {\n",
       "        vertical-align: middle;\n",
       "    }\n",
       "\n",
       "    .dataframe tbody tr th {\n",
       "        vertical-align: top;\n",
       "    }\n",
       "\n",
       "    .dataframe thead th {\n",
       "        text-align: right;\n",
       "    }\n",
       "</style>\n",
       "<table border=\"1\" class=\"dataframe\">\n",
       "  <thead>\n",
       "    <tr style=\"text-align: right;\">\n",
       "      <th></th>\n",
       "      <th>median_sentiment</th>\n",
       "      <th>no_of_quotes</th>\n",
       "    </tr>\n",
       "    <tr>\n",
       "      <th>movie</th>\n",
       "      <th></th>\n",
       "      <th></th>\n",
       "    </tr>\n",
       "  </thead>\n",
       "  <tbody>\n",
       "    <tr>\n",
       "      <th>Onward</th>\n",
       "      <td>0.999014</td>\n",
       "      <td>24</td>\n",
       "    </tr>\n",
       "    <tr>\n",
       "      <th>Fast &amp; Furious 7</th>\n",
       "      <td>0.998901</td>\n",
       "      <td>2</td>\n",
       "    </tr>\n",
       "    <tr>\n",
       "      <th>Incredibles 2</th>\n",
       "      <td>0.998805</td>\n",
       "      <td>20</td>\n",
       "    </tr>\n",
       "    <tr>\n",
       "      <th>The Fate of the Furious</th>\n",
       "      <td>0.998448</td>\n",
       "      <td>8</td>\n",
       "    </tr>\n",
       "    <tr>\n",
       "      <th>Beauty and the Beast</th>\n",
       "      <td>0.998290</td>\n",
       "      <td>200</td>\n",
       "    </tr>\n",
       "  </tbody>\n",
       "</table>\n",
       "</div>"
      ],
      "text/plain": [
       "                         median_sentiment  no_of_quotes\n",
       "movie                                                  \n",
       "Onward                           0.999014            24\n",
       "Fast & Furious 7                 0.998901             2\n",
       "Incredibles 2                    0.998805            20\n",
       "The Fate of the Furious          0.998448             8\n",
       "Beauty and the Beast             0.998290           200"
      ]
     },
     "execution_count": 29,
     "metadata": {},
     "output_type": "execute_result"
    }
   ],
   "source": [
    "female_movies = df_quotes[df_quotes['gender'] == 'female'].groupby('movie').agg({'positive_BERT_score': 'median', 'quotation': 'count'}).sort_values('positive_BERT_score', ascending=False).rename(columns={'positive_BERT_score': 'median_sentiment', 'quotation': 'no_of_quotes'})\n",
    "female_medians = female_movies['median_sentiment']\n",
    "female_movies.head(5)"
   ]
  },
  {
   "cell_type": "code",
   "execution_count": 30,
   "id": "34af8edd",
   "metadata": {},
   "outputs": [
    {
     "data": {
      "text/html": [
       "<div>\n",
       "<style scoped>\n",
       "    .dataframe tbody tr th:only-of-type {\n",
       "        vertical-align: middle;\n",
       "    }\n",
       "\n",
       "    .dataframe tbody tr th {\n",
       "        vertical-align: top;\n",
       "    }\n",
       "\n",
       "    .dataframe thead th {\n",
       "        text-align: right;\n",
       "    }\n",
       "</style>\n",
       "<table border=\"1\" class=\"dataframe\">\n",
       "  <thead>\n",
       "    <tr style=\"text-align: right;\">\n",
       "      <th></th>\n",
       "      <th>median_sentiment</th>\n",
       "      <th>no_of_quotes</th>\n",
       "    </tr>\n",
       "    <tr>\n",
       "      <th>movie</th>\n",
       "      <th></th>\n",
       "      <th></th>\n",
       "    </tr>\n",
       "  </thead>\n",
       "  <tbody>\n",
       "    <tr>\n",
       "      <th>Star Wars: Episode VIII - The Last Jedi</th>\n",
       "      <td>0.985657</td>\n",
       "      <td>6818</td>\n",
       "    </tr>\n",
       "    <tr>\n",
       "      <th>Star Wars: Episode VII - The Force Awakens</th>\n",
       "      <td>0.992226</td>\n",
       "      <td>6337</td>\n",
       "    </tr>\n",
       "    <tr>\n",
       "      <th>Thor: Ragnarok</th>\n",
       "      <td>0.992318</td>\n",
       "      <td>5918</td>\n",
       "    </tr>\n",
       "    <tr>\n",
       "      <th>Avengers: Infinity War</th>\n",
       "      <td>0.929187</td>\n",
       "      <td>5212</td>\n",
       "    </tr>\n",
       "    <tr>\n",
       "      <th>Captain America: Civil War</th>\n",
       "      <td>0.911468</td>\n",
       "      <td>4181</td>\n",
       "    </tr>\n",
       "  </tbody>\n",
       "</table>\n",
       "</div>"
      ],
      "text/plain": [
       "                                            median_sentiment  no_of_quotes\n",
       "movie                                                                     \n",
       "Star Wars: Episode VIII - The Last Jedi             0.985657          6818\n",
       "Star Wars: Episode VII - The Force Awakens          0.992226          6337\n",
       "Thor: Ragnarok                                      0.992318          5918\n",
       "Avengers: Infinity War                              0.929187          5212\n",
       "Captain America: Civil War                          0.911468          4181"
      ]
     },
     "execution_count": 30,
     "metadata": {},
     "output_type": "execute_result"
    }
   ],
   "source": [
    "male_movies.sort_values('no_of_quotes', ascending=False).head()"
   ]
  },
  {
   "cell_type": "code",
   "execution_count": 31,
   "id": "f7b2be3d",
   "metadata": {},
   "outputs": [
    {
     "data": {
      "text/html": [
       "<div>\n",
       "<style scoped>\n",
       "    .dataframe tbody tr th:only-of-type {\n",
       "        vertical-align: middle;\n",
       "    }\n",
       "\n",
       "    .dataframe tbody tr th {\n",
       "        vertical-align: top;\n",
       "    }\n",
       "\n",
       "    .dataframe thead th {\n",
       "        text-align: right;\n",
       "    }\n",
       "</style>\n",
       "<table border=\"1\" class=\"dataframe\">\n",
       "  <thead>\n",
       "    <tr style=\"text-align: right;\">\n",
       "      <th></th>\n",
       "      <th>median_sentiment</th>\n",
       "      <th>no_of_quotes</th>\n",
       "    </tr>\n",
       "    <tr>\n",
       "      <th>movie</th>\n",
       "      <th></th>\n",
       "      <th></th>\n",
       "    </tr>\n",
       "  </thead>\n",
       "  <tbody>\n",
       "    <tr>\n",
       "      <th>Wonder Woman</th>\n",
       "      <td>0.998275</td>\n",
       "      <td>2082</td>\n",
       "    </tr>\n",
       "    <tr>\n",
       "      <th>Star Wars: Episode VIII - The Last Jedi</th>\n",
       "      <td>0.993809</td>\n",
       "      <td>1466</td>\n",
       "    </tr>\n",
       "    <tr>\n",
       "      <th>Star Wars: Episode VII - The Force Awakens</th>\n",
       "      <td>0.993798</td>\n",
       "      <td>1391</td>\n",
       "    </tr>\n",
       "    <tr>\n",
       "      <th>Thor: Ragnarok</th>\n",
       "      <td>0.991732</td>\n",
       "      <td>857</td>\n",
       "    </tr>\n",
       "    <tr>\n",
       "      <th>Black Panther</th>\n",
       "      <td>0.995702</td>\n",
       "      <td>814</td>\n",
       "    </tr>\n",
       "  </tbody>\n",
       "</table>\n",
       "</div>"
      ],
      "text/plain": [
       "                                            median_sentiment  no_of_quotes\n",
       "movie                                                                     \n",
       "Wonder Woman                                        0.998275          2082\n",
       "Star Wars: Episode VIII - The Last Jedi             0.993809          1466\n",
       "Star Wars: Episode VII - The Force Awakens          0.993798          1391\n",
       "Thor: Ragnarok                                      0.991732           857\n",
       "Black Panther                                       0.995702           814"
      ]
     },
     "execution_count": 31,
     "metadata": {},
     "output_type": "execute_result"
    }
   ],
   "source": [
    "female_movies.sort_values('no_of_quotes', ascending=False).head()"
   ]
  },
  {
   "cell_type": "markdown",
   "id": "d74c5792",
   "metadata": {},
   "source": [
    "Also, we can see that the movies that more than half of all quotes were positively speaking about deviate quite between men and women, with Fast & Furious 7 and Incredibles 2 being the only movies that appear in both top-5 collections. We are now interested in movies where men and women actually disagree, where majorities are positive for one and negative for the other group. "
   ]
  },
  {
   "cell_type": "code",
   "execution_count": 32,
   "id": "558ad4a0",
   "metadata": {},
   "outputs": [
    {
     "data": {
      "text/plain": [
       "movie\n",
       "Deadpool          0.800372\n",
       "Minions           0.197646\n",
       "Venom             0.193294\n",
       "Suicide Squad     0.182252\n",
       "Jurassic World    0.045584\n",
       "Name: median_sentiment, dtype: float64"
      ]
     },
     "execution_count": 32,
     "metadata": {},
     "output_type": "execute_result"
    }
   ],
   "source": [
    "diffs = (male_medians - female_medians).dropna().sort_values(ascending=False)\n",
    "diffs.head(5)"
   ]
  },
  {
   "cell_type": "code",
   "execution_count": 33,
   "id": "36a0712e",
   "metadata": {},
   "outputs": [
    {
     "data": {
      "text/plain": [
       "movie\n",
       "Birds of Prey: And the Fantabulous Emancipation of One Harley Quinn   -0.127122\n",
       "Mission: Impossible - Fallout                                         -0.170463\n",
       "Rogue One                                                             -0.306896\n",
       "Zootopia                                                              -0.630630\n",
       "Despicable Me 3                                                       -0.878912\n",
       "Name: median_sentiment, dtype: float64"
      ]
     },
     "execution_count": 33,
     "metadata": {},
     "output_type": "execute_result"
    }
   ],
   "source": [
    "diffs.tail(5)"
   ]
  },
  {
   "cell_type": "markdown",
   "id": "f3b6be0e",
   "metadata": {},
   "source": [
    "In this case, a very high (positive) difference of more than 0.5 means that more than 50 % of male quotes were positive, and more than 50 % of female quotes were negative, which apparently is the case for Deadpool. Accordingly, high negative differences that more than 50 % of female quotes were negative, and more than 50 % of female quotes were positive, which is the case for Despicable Me 3 and Zootopia. "
   ]
  },
  {
   "cell_type": "markdown",
   "id": "45fa9af9",
   "metadata": {},
   "source": [
    "Let's investigate those two extreme movies (Deadpool and Despicable Me 3) a bit further to see what happens there."
   ]
  },
  {
   "cell_type": "code",
   "execution_count": 34,
   "id": "831d171e",
   "metadata": {},
   "outputs": [
    {
     "data": {
      "text/html": [
       "<div>\n",
       "<style scoped>\n",
       "    .dataframe tbody tr th:only-of-type {\n",
       "        vertical-align: middle;\n",
       "    }\n",
       "\n",
       "    .dataframe tbody tr th {\n",
       "        vertical-align: top;\n",
       "    }\n",
       "\n",
       "    .dataframe thead th {\n",
       "        text-align: right;\n",
       "    }\n",
       "</style>\n",
       "<table border=\"1\" class=\"dataframe\">\n",
       "  <thead>\n",
       "    <tr style=\"text-align: right;\">\n",
       "      <th></th>\n",
       "      <th>median_sentiment</th>\n",
       "      <th>no_of_quotes</th>\n",
       "    </tr>\n",
       "    <tr>\n",
       "      <th>movie</th>\n",
       "      <th></th>\n",
       "      <th></th>\n",
       "    </tr>\n",
       "  </thead>\n",
       "  <tbody>\n",
       "    <tr>\n",
       "      <th>Deadpool</th>\n",
       "      <td>0.910349</td>\n",
       "      <td>1401</td>\n",
       "    </tr>\n",
       "    <tr>\n",
       "      <th>Despicable Me 3</th>\n",
       "      <td>0.114602</td>\n",
       "      <td>26</td>\n",
       "    </tr>\n",
       "  </tbody>\n",
       "</table>\n",
       "</div>"
      ],
      "text/plain": [
       "                 median_sentiment  no_of_quotes\n",
       "movie                                          \n",
       "Deadpool                 0.910349          1401\n",
       "Despicable Me 3          0.114602            26"
      ]
     },
     "execution_count": 34,
     "metadata": {},
     "output_type": "execute_result"
    }
   ],
   "source": [
    "df_quotes[(df_quotes['gender'] == 'male') & (df_quotes['movie'].isin(['Deadpool', 'Despicable Me 3']))].groupby('movie').agg({'positive_BERT_score': 'median', 'quotation': 'count'}).sort_values('positive_BERT_score', ascending=False).rename(columns={'positive_BERT_score': 'median_sentiment', 'quotation': 'no_of_quotes'})"
   ]
  },
  {
   "cell_type": "code",
   "execution_count": 35,
   "id": "f361bea6",
   "metadata": {},
   "outputs": [
    {
     "data": {
      "text/html": [
       "<div>\n",
       "<style scoped>\n",
       "    .dataframe tbody tr th:only-of-type {\n",
       "        vertical-align: middle;\n",
       "    }\n",
       "\n",
       "    .dataframe tbody tr th {\n",
       "        vertical-align: top;\n",
       "    }\n",
       "\n",
       "    .dataframe thead th {\n",
       "        text-align: right;\n",
       "    }\n",
       "</style>\n",
       "<table border=\"1\" class=\"dataframe\">\n",
       "  <thead>\n",
       "    <tr style=\"text-align: right;\">\n",
       "      <th></th>\n",
       "      <th>median_sentiment</th>\n",
       "      <th>no_of_quotes</th>\n",
       "    </tr>\n",
       "    <tr>\n",
       "      <th>movie</th>\n",
       "      <th></th>\n",
       "      <th></th>\n",
       "    </tr>\n",
       "  </thead>\n",
       "  <tbody>\n",
       "    <tr>\n",
       "      <th>Despicable Me 3</th>\n",
       "      <td>0.993513</td>\n",
       "      <td>5</td>\n",
       "    </tr>\n",
       "    <tr>\n",
       "      <th>Deadpool</th>\n",
       "      <td>0.109977</td>\n",
       "      <td>110</td>\n",
       "    </tr>\n",
       "  </tbody>\n",
       "</table>\n",
       "</div>"
      ],
      "text/plain": [
       "                 median_sentiment  no_of_quotes\n",
       "movie                                          \n",
       "Despicable Me 3          0.993513             5\n",
       "Deadpool                 0.109977           110"
      ]
     },
     "execution_count": 35,
     "metadata": {},
     "output_type": "execute_result"
    }
   ],
   "source": [
    "df_quotes[(df_quotes['gender'] == 'female') & (df_quotes['movie'].isin(['Deadpool', 'Despicable Me 3']))].groupby('movie').agg({'positive_BERT_score': 'median', 'quotation': 'count'}).sort_values('positive_BERT_score', ascending=False).rename(columns={'positive_BERT_score': 'median_sentiment', 'quotation': 'no_of_quotes'})"
   ]
  },
  {
   "cell_type": "code",
   "execution_count": 36,
   "id": "a860a354",
   "metadata": {},
   "outputs": [
    {
     "data": {
      "text/plain": [
       "<AxesSubplot:ylabel='Frequency'>"
      ]
     },
     "execution_count": 36,
     "metadata": {},
     "output_type": "execute_result"
    },
    {
     "data": {
      "image/png": "[encoded data removed]",
      "text/plain": [
       "<Figure size 432x288 with 1 Axes>"
      ]
     },
     "metadata": {
      "needs_background": "light"
     },
     "output_type": "display_data"
    }
   ],
   "source": [
    "df_quotes[(df_quotes['gender'] == 'male') & (df_quotes['movie'] == 'Deadpool')]['positive_BERT_score'].plot.hist()"
   ]
  },
  {
   "cell_type": "code",
   "execution_count": 37,
   "id": "20a7c5ab",
   "metadata": {},
   "outputs": [
    {
     "data": {
      "text/plain": [
       "<AxesSubplot:ylabel='Frequency'>"
      ]
     },
     "execution_count": 37,
     "metadata": {},
     "output_type": "execute_result"
    },
    {
     "data": {
      "image/png": "[encoded data removed]",
      "text/plain": [
       "<Figure size 432x288 with 1 Axes>"
      ]
     },
     "metadata": {
      "needs_background": "light"
     },
     "output_type": "display_data"
    }
   ],
   "source": [
    "df_quotes[(df_quotes['gender'] == 'female') & (df_quotes['movie'] == 'Deadpool')]['positive_BERT_score'].plot.hist()"
   ]
  },
  {
   "cell_type": "code",
   "execution_count": 38,
   "id": "e21440e0",
   "metadata": {},
   "outputs": [
    {
     "data": {
      "text/plain": [
       "<AxesSubplot:ylabel='Frequency'>"
      ]
     },
     "execution_count": 38,
     "metadata": {},
     "output_type": "execute_result"
    },
    {
     "data": {
      "image/png": "[encoded data removed]",
      "text/plain": [
       "<Figure size 432x288 with 1 Axes>"
      ]
     },
     "metadata": {
      "needs_background": "light"
     },
     "output_type": "display_data"
    }
   ],
   "source": [
    "df_quotes[(df_quotes['gender'] == 'male') & (df_quotes['movie'] == 'Despicable Me 3')]['positive_BERT_score'].plot.hist()"
   ]
  },
  {
   "cell_type": "code",
   "execution_count": 39,
   "id": "f58faacc",
   "metadata": {},
   "outputs": [
    {
     "data": {
      "text/plain": [
       "<AxesSubplot:ylabel='Frequency'>"
      ]
     },
     "execution_count": 39,
     "metadata": {},
     "output_type": "execute_result"
    },
    {
     "data": {
      "image/png": "[encoded data removed]",
      "text/plain": [
       "<Figure size 432x288 with 1 Axes>"
      ]
     },
     "metadata": {
      "needs_background": "light"
     },
     "output_type": "display_data"
    }
   ],
   "source": [
    "df_quotes[(df_quotes['gender'] == 'female') & (df_quotes['movie'] == 'Despicable Me 3')]['positive_BERT_score'].plot.hist()"
   ]
  },
  {
   "cell_type": "code",
   "execution_count": 40,
   "id": "86223da0",
   "metadata": {},
   "outputs": [
    {
     "data": {
      "text/html": [
       "<div>\n",
       "<style scoped>\n",
       "    .dataframe tbody tr th:only-of-type {\n",
       "        vertical-align: middle;\n",
       "    }\n",
       "\n",
       "    .dataframe tbody tr th {\n",
       "        vertical-align: top;\n",
       "    }\n",
       "\n",
       "    .dataframe thead th {\n",
       "        text-align: right;\n",
       "    }\n",
       "</style>\n",
       "<table border=\"1\" class=\"dataframe\">\n",
       "  <thead>\n",
       "    <tr style=\"text-align: right;\">\n",
       "      <th></th>\n",
       "      <th>median_sentiment</th>\n",
       "      <th>no_of_quotes</th>\n",
       "    </tr>\n",
       "    <tr>\n",
       "      <th>movie</th>\n",
       "      <th></th>\n",
       "      <th></th>\n",
       "    </tr>\n",
       "  </thead>\n",
       "  <tbody>\n",
       "    <tr>\n",
       "      <th>Deadpool</th>\n",
       "      <td>0.878795</td>\n",
       "      <td>1516</td>\n",
       "    </tr>\n",
       "    <tr>\n",
       "      <th>Despicable Me 3</th>\n",
       "      <td>0.168556</td>\n",
       "      <td>31</td>\n",
       "    </tr>\n",
       "  </tbody>\n",
       "</table>\n",
       "</div>"
      ],
      "text/plain": [
       "                 median_sentiment  no_of_quotes\n",
       "movie                                          \n",
       "Deadpool                 0.878795          1516\n",
       "Despicable Me 3          0.168556            31"
      ]
     },
     "execution_count": 40,
     "metadata": {},
     "output_type": "execute_result"
    }
   ],
   "source": [
    "df_quotes[df_quotes['movie'].isin(['Deadpool', 'Despicable Me 3'])].groupby('movie').agg({'positive_BERT_score': 'median', 'quotation': 'count'}).sort_values('positive_BERT_score', ascending=False).rename(columns={'positive_BERT_score': 'median_sentiment', 'quotation': 'no_of_quotes'})"
   ]
  },
  {
   "cell_type": "markdown",
   "id": "1f6227e8",
   "metadata": {},
   "source": [
    "We deduce the following: It is actually the case that in both movies, a majority of male/female voters, respectively, are positive, while the opposite group is primarily negative towards the movie. Interestingly, when taking the overall median, would rather follow the male sentiment. This is of course due to the relative high number of male voters when compared to the number of female voters."
   ]
  },
  {
   "cell_type": "markdown",
   "id": "be84abfa",
   "metadata": {},
   "source": [
    "### Nationality of Speakers"
   ]
  },
  {
   "cell_type": "markdown",
   "id": "7b6f17b9",
   "metadata": {},
   "source": [
    "Another interesting thing to check is where the speakers of the quotes come from. Do they match the distribution of the world population? Or are there biases towards specific countries?\n",
    "For this, we again start from the mapping between shared IDs for several Qids of a speaker, and then map those qids to the nationalities given in the wikidata. "
   ]
  },
  {
   "cell_type": "code",
   "execution_count": 41,
   "id": "6b9578dc",
   "metadata": {},
   "outputs": [
    {
     "data": {
      "text/html": [
       "<div>\n",
       "<style scoped>\n",
       "    .dataframe tbody tr th:only-of-type {\n",
       "        vertical-align: middle;\n",
       "    }\n",
       "\n",
       "    .dataframe tbody tr th {\n",
       "        vertical-align: top;\n",
       "    }\n",
       "\n",
       "    .dataframe thead th {\n",
       "        text-align: right;\n",
       "    }\n",
       "</style>\n",
       "<table border=\"1\" class=\"dataframe\">\n",
       "  <thead>\n",
       "    <tr style=\"text-align: right;\">\n",
       "      <th></th>\n",
       "      <th>shared_ID</th>\n",
       "      <th>qids_x</th>\n",
       "    </tr>\n",
       "  </thead>\n",
       "  <tbody>\n",
       "    <tr>\n",
       "      <th>0</th>\n",
       "      <td>1751</td>\n",
       "      <td>[Q16843606]</td>\n",
       "    </tr>\n",
       "    <tr>\n",
       "      <th>1</th>\n",
       "      <td>6724</td>\n",
       "      <td>[Q38222, Q1507803]</td>\n",
       "    </tr>\n",
       "    <tr>\n",
       "      <th>2</th>\n",
       "      <td>692</td>\n",
       "      <td>[Q1373440, Q7436227, Q7436228, Q7436226, Q1619...</td>\n",
       "    </tr>\n",
       "    <tr>\n",
       "      <th>3</th>\n",
       "      <td>2394</td>\n",
       "      <td>[Q188137]</td>\n",
       "    </tr>\n",
       "    <tr>\n",
       "      <th>4</th>\n",
       "      <td>8789</td>\n",
       "      <td>[Q515161]</td>\n",
       "    </tr>\n",
       "  </tbody>\n",
       "</table>\n",
       "</div>"
      ],
      "text/plain": [
       "   shared_ID                                             qids_x\n",
       "0       1751                                        [Q16843606]\n",
       "1       6724                                 [Q38222, Q1507803]\n",
       "2        692  [Q1373440, Q7436227, Q7436228, Q7436226, Q1619...\n",
       "3       2394                                          [Q188137]\n",
       "4       8789                                          [Q515161]"
      ]
     },
     "execution_count": 41,
     "metadata": {},
     "output_type": "execute_result"
    }
   ],
   "source": [
    "map_nationality = df_quotes[['shared_ID', 'qids_x']].drop_duplicates(subset=['shared_ID'])\n",
    "map_nationality.head()"
   ]
  },
  {
   "cell_type": "code",
   "execution_count": 42,
   "id": "f4f6b4d1",
   "metadata": {},
   "outputs": [
    {
     "data": {
      "text/html": [
       "<div>\n",
       "<style scoped>\n",
       "    .dataframe tbody tr th:only-of-type {\n",
       "        vertical-align: middle;\n",
       "    }\n",
       "\n",
       "    .dataframe tbody tr th {\n",
       "        vertical-align: top;\n",
       "    }\n",
       "\n",
       "    .dataframe thead th {\n",
       "        text-align: right;\n",
       "    }\n",
       "</style>\n",
       "<table border=\"1\" class=\"dataframe\">\n",
       "  <thead>\n",
       "    <tr style=\"text-align: right;\">\n",
       "      <th></th>\n",
       "      <th>nationality_0</th>\n",
       "      <th>nationality_1</th>\n",
       "      <th>nationality_2</th>\n",
       "      <th>nationality_3</th>\n",
       "      <th>nationality_4</th>\n",
       "      <th>qids_x</th>\n",
       "      <th>shared_ID</th>\n",
       "    </tr>\n",
       "  </thead>\n",
       "  <tbody>\n",
       "    <tr>\n",
       "      <th>0</th>\n",
       "      <td>Q30</td>\n",
       "      <td>NaN</td>\n",
       "      <td>NaN</td>\n",
       "      <td>NaN</td>\n",
       "      <td>NaN</td>\n",
       "      <td>[Q16843606]</td>\n",
       "      <td>1751</td>\n",
       "    </tr>\n",
       "    <tr>\n",
       "      <th>1</th>\n",
       "      <td>Q30</td>\n",
       "      <td>NaN</td>\n",
       "      <td>NaN</td>\n",
       "      <td>NaN</td>\n",
       "      <td>NaN</td>\n",
       "      <td>[Q38222, Q1507803]</td>\n",
       "      <td>6724</td>\n",
       "    </tr>\n",
       "    <tr>\n",
       "      <th>2</th>\n",
       "      <td>Q30</td>\n",
       "      <td>NaN</td>\n",
       "      <td>NaN</td>\n",
       "      <td>NaN</td>\n",
       "      <td>NaN</td>\n",
       "      <td>[Q1373440, Q7436227, Q7436228, Q7436226, Q1619...</td>\n",
       "      <td>692</td>\n",
       "    </tr>\n",
       "    <tr>\n",
       "      <th>3</th>\n",
       "      <td>Q30</td>\n",
       "      <td>NaN</td>\n",
       "      <td>NaN</td>\n",
       "      <td>NaN</td>\n",
       "      <td>NaN</td>\n",
       "      <td>[Q188137]</td>\n",
       "      <td>2394</td>\n",
       "    </tr>\n",
       "    <tr>\n",
       "      <th>4</th>\n",
       "      <td>Q30</td>\n",
       "      <td>NaN</td>\n",
       "      <td>NaN</td>\n",
       "      <td>NaN</td>\n",
       "      <td>NaN</td>\n",
       "      <td>[Q515161]</td>\n",
       "      <td>8789</td>\n",
       "    </tr>\n",
       "  </tbody>\n",
       "</table>\n",
       "</div>"
      ],
      "text/plain": [
       "  nationality_0 nationality_1 nationality_2 nationality_3 nationality_4  \\\n",
       "0           Q30           NaN           NaN           NaN           NaN   \n",
       "1           Q30           NaN           NaN           NaN           NaN   \n",
       "2           Q30           NaN           NaN           NaN           NaN   \n",
       "3           Q30           NaN           NaN           NaN           NaN   \n",
       "4           Q30           NaN           NaN           NaN           NaN   \n",
       "\n",
       "                                              qids_x  shared_ID  \n",
       "0                                        [Q16843606]       1751  \n",
       "1                                 [Q38222, Q1507803]       6724  \n",
       "2  [Q1373440, Q7436227, Q7436228, Q7436226, Q1619...        692  \n",
       "3                                          [Q188137]       2394  \n",
       "4                                          [Q515161]       8789  "
      ]
     },
     "execution_count": 42,
     "metadata": {},
     "output_type": "execute_result"
    }
   ],
   "source": [
    "def get_citizenship(row):\n",
    "    for qid in row['qids_x']:\n",
    "        try:\n",
    "            citizenships = df_wikidata.loc[qid, 'nationality']\n",
    "            j = 0\n",
    "            if citizenships is not None:\n",
    "                for i in range(len(citizenships)):\n",
    "                    citizenship = citizenships[i]\n",
    "                    if citizenship is not None:\n",
    "                        row['nationality_' + str(j)] = citizenship\n",
    "                        j += 1\n",
    "                return row\n",
    "        except KeyError:\n",
    "            continue\n",
    "    return row\n",
    "map_nationality = map_nationality.apply(get_citizenship, axis=1)\n",
    "map_nationality.head()"
   ]
  },
  {
   "cell_type": "markdown",
   "id": "2e93f9b3",
   "metadata": {},
   "source": [
    "We put all nationalities in a single column for the case that someone has more than one (or even 5). We then try to match them to the respective Wikipedia entry, to get the country in a readable form. "
   ]
  },
  {
   "cell_type": "code",
   "execution_count": 43,
   "id": "12d4b603",
   "metadata": {},
   "outputs": [
    {
     "data": {
      "text/html": [
       "<div>\n",
       "<style scoped>\n",
       "    .dataframe tbody tr th:only-of-type {\n",
       "        vertical-align: middle;\n",
       "    }\n",
       "\n",
       "    .dataframe tbody tr th {\n",
       "        vertical-align: top;\n",
       "    }\n",
       "\n",
       "    .dataframe thead th {\n",
       "        text-align: right;\n",
       "    }\n",
       "</style>\n",
       "<table border=\"1\" class=\"dataframe\">\n",
       "  <thead>\n",
       "    <tr style=\"text-align: right;\">\n",
       "      <th></th>\n",
       "      <th>nationality_0</th>\n",
       "      <th>nationality_1</th>\n",
       "      <th>nationality_2</th>\n",
       "      <th>nationality_3</th>\n",
       "      <th>nationality_4</th>\n",
       "      <th>qids_x</th>\n",
       "      <th>shared_ID</th>\n",
       "    </tr>\n",
       "  </thead>\n",
       "  <tbody>\n",
       "    <tr>\n",
       "      <th>0</th>\n",
       "      <td>United States of America</td>\n",
       "      <td>NaN</td>\n",
       "      <td>NaN</td>\n",
       "      <td>NaN</td>\n",
       "      <td>NaN</td>\n",
       "      <td>[Q16843606]</td>\n",
       "      <td>1751</td>\n",
       "    </tr>\n",
       "    <tr>\n",
       "      <th>1</th>\n",
       "      <td>United States of America</td>\n",
       "      <td>NaN</td>\n",
       "      <td>NaN</td>\n",
       "      <td>NaN</td>\n",
       "      <td>NaN</td>\n",
       "      <td>[Q38222, Q1507803]</td>\n",
       "      <td>6724</td>\n",
       "    </tr>\n",
       "    <tr>\n",
       "      <th>2</th>\n",
       "      <td>United States of America</td>\n",
       "      <td>NaN</td>\n",
       "      <td>NaN</td>\n",
       "      <td>NaN</td>\n",
       "      <td>NaN</td>\n",
       "      <td>[Q1373440, Q7436227, Q7436228, Q7436226, Q1619...</td>\n",
       "      <td>692</td>\n",
       "    </tr>\n",
       "    <tr>\n",
       "      <th>3</th>\n",
       "      <td>United States of America</td>\n",
       "      <td>NaN</td>\n",
       "      <td>NaN</td>\n",
       "      <td>NaN</td>\n",
       "      <td>NaN</td>\n",
       "      <td>[Q188137]</td>\n",
       "      <td>2394</td>\n",
       "    </tr>\n",
       "    <tr>\n",
       "      <th>4</th>\n",
       "      <td>United States of America</td>\n",
       "      <td>NaN</td>\n",
       "      <td>NaN</td>\n",
       "      <td>NaN</td>\n",
       "      <td>NaN</td>\n",
       "      <td>[Q515161]</td>\n",
       "      <td>8789</td>\n",
       "    </tr>\n",
       "  </tbody>\n",
       "</table>\n",
       "</div>"
      ],
      "text/plain": [
       "              nationality_0 nationality_1 nationality_2 nationality_3  \\\n",
       "0  United States of America           NaN           NaN           NaN   \n",
       "1  United States of America           NaN           NaN           NaN   \n",
       "2  United States of America           NaN           NaN           NaN   \n",
       "3  United States of America           NaN           NaN           NaN   \n",
       "4  United States of America           NaN           NaN           NaN   \n",
       "\n",
       "  nationality_4                                             qids_x  shared_ID  \n",
       "0           NaN                                        [Q16843606]       1751  \n",
       "1           NaN                                 [Q38222, Q1507803]       6724  \n",
       "2           NaN  [Q1373440, Q7436227, Q7436228, Q7436226, Q1619...        692  \n",
       "3           NaN                                          [Q188137]       2394  \n",
       "4           NaN                                          [Q515161]       8789  "
      ]
     },
     "execution_count": 43,
     "metadata": {},
     "output_type": "execute_result"
    }
   ],
   "source": [
    "from wikidata.client import Client\n",
    "client = Client()\n",
    "nationality_cols = [x for x in map_nationality.columns if 'nationality_' in x]\n",
    "for col in nationality_cols:\n",
    "    for qid in map_nationality[col].unique():\n",
    "        if qid is not None:\n",
    "            entity = client.get(qid, load=True)\n",
    "            try:\n",
    "                citizenship = entity.data['labels']['en']['value']\n",
    "            except KeyError:\n",
    "                #print(entity.data)\n",
    "                citizenship = None\n",
    "            except TypeError:\n",
    "                #print(entity.data)\n",
    "                citizenship = None\n",
    "            map_nationality.loc[map_nationality[col] == qid, col] = citizenship\n",
    "map_nationality.head()"
   ]
  },
  {
   "cell_type": "code",
   "execution_count": 44,
   "id": "f3120a83",
   "metadata": {},
   "outputs": [],
   "source": [
    "map_nationality = map_nationality.set_index('shared_ID')"
   ]
  },
  {
   "cell_type": "code",
   "execution_count": 45,
   "id": "31a69fbd",
   "metadata": {},
   "outputs": [
    {
     "data": {
      "text/html": [
       "<div>\n",
       "<style scoped>\n",
       "    .dataframe tbody tr th:only-of-type {\n",
       "        vertical-align: middle;\n",
       "    }\n",
       "\n",
       "    .dataframe tbody tr th {\n",
       "        vertical-align: top;\n",
       "    }\n",
       "\n",
       "    .dataframe thead th {\n",
       "        text-align: right;\n",
       "    }\n",
       "</style>\n",
       "<table border=\"1\" class=\"dataframe\">\n",
       "  <thead>\n",
       "    <tr style=\"text-align: right;\">\n",
       "      <th></th>\n",
       "      <th>quotation</th>\n",
       "      <th>speaker</th>\n",
       "      <th>qids_x_x</th>\n",
       "      <th>date</th>\n",
       "      <th>numOccurrences</th>\n",
       "      <th>probas</th>\n",
       "      <th>urls</th>\n",
       "      <th>movie</th>\n",
       "      <th>shared_ID</th>\n",
       "      <th>AFINN_label</th>\n",
       "      <th>...</th>\n",
       "      <th>positive_BERT_score</th>\n",
       "      <th>scaledReverted_BERT_score</th>\n",
       "      <th>qids_y</th>\n",
       "      <th>gender</th>\n",
       "      <th>nationality_0</th>\n",
       "      <th>nationality_1</th>\n",
       "      <th>nationality_2</th>\n",
       "      <th>nationality_3</th>\n",
       "      <th>nationality_4</th>\n",
       "      <th>qids_x_y</th>\n",
       "    </tr>\n",
       "  </thead>\n",
       "  <tbody>\n",
       "    <tr>\n",
       "      <th>0</th>\n",
       "      <td>Is Ferguson like Mockingjay?</td>\n",
       "      <td>Laci Green</td>\n",
       "      <td>[Q16843606]</td>\n",
       "      <td>2015-11-15</td>\n",
       "      <td>1</td>\n",
       "      <td>[[Laci Green, 0.9013], [None, 0.0987]]</td>\n",
       "      <td>[http://www.dailykos.com/story/2015/11/15/1450...</td>\n",
       "      <td>The Hunger Games: Mockingjay - Part 2</td>\n",
       "      <td>1751</td>\n",
       "      <td>POSITIVE</td>\n",
       "      <td>...</td>\n",
       "      <td>0.010198</td>\n",
       "      <td>-0.541032</td>\n",
       "      <td>[Q16843606]</td>\n",
       "      <td>female</td>\n",
       "      <td>United States of America</td>\n",
       "      <td>NaN</td>\n",
       "      <td>NaN</td>\n",
       "      <td>NaN</td>\n",
       "      <td>NaN</td>\n",
       "      <td>[Q16843606]</td>\n",
       "    </tr>\n",
       "    <tr>\n",
       "      <th>1</th>\n",
       "      <td>I want to clarify my interview on the `Charlie...</td>\n",
       "      <td>George Lucas</td>\n",
       "      <td>[Q38222, Q1507803]</td>\n",
       "      <td>2015-12-31</td>\n",
       "      <td>7</td>\n",
       "      <td>[[George Lucas, 0.5327], [None, 0.4248], [Char...</td>\n",
       "      <td>[http://www.escapistmagazine.com/news/view/165...</td>\n",
       "      <td>Star Wars: Episode VII - The Force Awakens</td>\n",
       "      <td>6724</td>\n",
       "      <td>POSITIVE</td>\n",
       "      <td>...</td>\n",
       "      <td>0.999293</td>\n",
       "      <td>0.787788</td>\n",
       "      <td>[Q38222, Q1507803]</td>\n",
       "      <td>male</td>\n",
       "      <td>United States of America</td>\n",
       "      <td>NaN</td>\n",
       "      <td>NaN</td>\n",
       "      <td>NaN</td>\n",
       "      <td>NaN</td>\n",
       "      <td>[Q38222, Q1507803]</td>\n",
       "    </tr>\n",
       "    <tr>\n",
       "      <th>2</th>\n",
       "      <td>Is Daredevil joining the Avengers for Infinity...</td>\n",
       "      <td>Scott Davis</td>\n",
       "      <td>[Q1373440, Q7436227, Q7436228, Q7436226, Q1619...</td>\n",
       "      <td>2015-12-10</td>\n",
       "      <td>2</td>\n",
       "      <td>[[None, 0.4806], [Scott Davis, 0.4017], [Antho...</td>\n",
       "      <td>[http://www.flickeringmyth.com/2015/12/is-dare...</td>\n",
       "      <td>Avengers: Age of Ultron</td>\n",
       "      <td>692</td>\n",
       "      <td>NEGATIVE</td>\n",
       "      <td>...</td>\n",
       "      <td>0.166128</td>\n",
       "      <td>-0.208302</td>\n",
       "      <td>[Q1373440, Q7436227, Q7436228, Q7436226, Q1619...</td>\n",
       "      <td>male</td>\n",
       "      <td>United States of America</td>\n",
       "      <td>NaN</td>\n",
       "      <td>NaN</td>\n",
       "      <td>NaN</td>\n",
       "      <td>NaN</td>\n",
       "      <td>[Q1373440, Q7436227, Q7436228, Q7436226, Q1619...</td>\n",
       "    </tr>\n",
       "    <tr>\n",
       "      <th>3</th>\n",
       "      <td>They were saying, `Well, since when has Star W...</td>\n",
       "      <td>J.J. Abrams</td>\n",
       "      <td>[Q188137]</td>\n",
       "      <td>2015-12-21</td>\n",
       "      <td>1</td>\n",
       "      <td>[[J.J. Abrams, 0.5868], [None, 0.2584], [Lupit...</td>\n",
       "      <td>[http://rssfeeds.usatoday.com/~/129385923/0/us...</td>\n",
       "      <td>Star Wars: Episode VII - The Force Awakens</td>\n",
       "      <td>2394</td>\n",
       "      <td>POSITIVE</td>\n",
       "      <td>...</td>\n",
       "      <td>0.008664</td>\n",
       "      <td>-0.559515</td>\n",
       "      <td>[Q188137]</td>\n",
       "      <td>male</td>\n",
       "      <td>United States of America</td>\n",
       "      <td>NaN</td>\n",
       "      <td>NaN</td>\n",
       "      <td>NaN</td>\n",
       "      <td>NaN</td>\n",
       "      <td>[Q188137]</td>\n",
       "    </tr>\n",
       "    <tr>\n",
       "      <th>4</th>\n",
       "      <td>You meet new characters and you learn about Ha...</td>\n",
       "      <td>Kevin Feige</td>\n",
       "      <td>[Q515161]</td>\n",
       "      <td>2015-05-06</td>\n",
       "      <td>1</td>\n",
       "      <td>[[Kevin Feige, 0.9108], [None, 0.0782], [Scott...</td>\n",
       "      <td>[http://www.digitaltrends.com/movies/ant-man-m...</td>\n",
       "      <td>Avengers: Age of Ultron</td>\n",
       "      <td>8789</td>\n",
       "      <td>NEGATIVE</td>\n",
       "      <td>...</td>\n",
       "      <td>0.999218</td>\n",
       "      <td>0.776419</td>\n",
       "      <td>[Q515161]</td>\n",
       "      <td>male</td>\n",
       "      <td>United States of America</td>\n",
       "      <td>NaN</td>\n",
       "      <td>NaN</td>\n",
       "      <td>NaN</td>\n",
       "      <td>NaN</td>\n",
       "      <td>[Q515161]</td>\n",
       "    </tr>\n",
       "  </tbody>\n",
       "</table>\n",
       "<p>5 rows × 25 columns</p>\n",
       "</div>"
      ],
      "text/plain": [
       "                                           quotation       speaker  \\\n",
       "0                       Is Ferguson like Mockingjay?    Laci Green   \n",
       "1  I want to clarify my interview on the `Charlie...  George Lucas   \n",
       "2  Is Daredevil joining the Avengers for Infinity...   Scott Davis   \n",
       "3  They were saying, `Well, since when has Star W...   J.J. Abrams   \n",
       "4  You meet new characters and you learn about Ha...   Kevin Feige   \n",
       "\n",
       "                                            qids_x_x        date  \\\n",
       "0                                        [Q16843606]  2015-11-15   \n",
       "1                                 [Q38222, Q1507803]  2015-12-31   \n",
       "2  [Q1373440, Q7436227, Q7436228, Q7436226, Q1619...  2015-12-10   \n",
       "3                                          [Q188137]  2015-12-21   \n",
       "4                                          [Q515161]  2015-05-06   \n",
       "\n",
       "   numOccurrences                                             probas  \\\n",
       "0               1             [[Laci Green, 0.9013], [None, 0.0987]]   \n",
       "1               7  [[George Lucas, 0.5327], [None, 0.4248], [Char...   \n",
       "2               2  [[None, 0.4806], [Scott Davis, 0.4017], [Antho...   \n",
       "3               1  [[J.J. Abrams, 0.5868], [None, 0.2584], [Lupit...   \n",
       "4               1  [[Kevin Feige, 0.9108], [None, 0.0782], [Scott...   \n",
       "\n",
       "                                                urls  \\\n",
       "0  [http://www.dailykos.com/story/2015/11/15/1450...   \n",
       "1  [http://www.escapistmagazine.com/news/view/165...   \n",
       "2  [http://www.flickeringmyth.com/2015/12/is-dare...   \n",
       "3  [http://rssfeeds.usatoday.com/~/129385923/0/us...   \n",
       "4  [http://www.digitaltrends.com/movies/ant-man-m...   \n",
       "\n",
       "                                        movie  shared_ID AFINN_label  ...  \\\n",
       "0       The Hunger Games: Mockingjay - Part 2       1751    POSITIVE  ...   \n",
       "1  Star Wars: Episode VII - The Force Awakens       6724    POSITIVE  ...   \n",
       "2                     Avengers: Age of Ultron        692    NEGATIVE  ...   \n",
       "3  Star Wars: Episode VII - The Force Awakens       2394    POSITIVE  ...   \n",
       "4                     Avengers: Age of Ultron       8789    NEGATIVE  ...   \n",
       "\n",
       "   positive_BERT_score scaledReverted_BERT_score  \\\n",
       "0             0.010198                 -0.541032   \n",
       "1             0.999293                  0.787788   \n",
       "2             0.166128                 -0.208302   \n",
       "3             0.008664                 -0.559515   \n",
       "4             0.999218                  0.776419   \n",
       "\n",
       "                                              qids_y  gender  \\\n",
       "0                                        [Q16843606]  female   \n",
       "1                                 [Q38222, Q1507803]    male   \n",
       "2  [Q1373440, Q7436227, Q7436228, Q7436226, Q1619...    male   \n",
       "3                                          [Q188137]    male   \n",
       "4                                          [Q515161]    male   \n",
       "\n",
       "              nationality_0  nationality_1  nationality_2 nationality_3  \\\n",
       "0  United States of America            NaN            NaN           NaN   \n",
       "1  United States of America            NaN            NaN           NaN   \n",
       "2  United States of America            NaN            NaN           NaN   \n",
       "3  United States of America            NaN            NaN           NaN   \n",
       "4  United States of America            NaN            NaN           NaN   \n",
       "\n",
       "  nationality_4                                           qids_x_y  \n",
       "0           NaN                                        [Q16843606]  \n",
       "1           NaN                                 [Q38222, Q1507803]  \n",
       "2           NaN  [Q1373440, Q7436227, Q7436228, Q7436226, Q1619...  \n",
       "3           NaN                                          [Q188137]  \n",
       "4           NaN                                          [Q515161]  \n",
       "\n",
       "[5 rows x 25 columns]"
      ]
     },
     "execution_count": 45,
     "metadata": {},
     "output_type": "execute_result"
    }
   ],
   "source": [
    "df_quotes = df_quotes.merge(map_nationality, how='left', left_on='shared_ID', right_index=True)\n",
    "df_quotes.head()"
   ]
  },
  {
   "cell_type": "markdown",
   "id": "01df4c41",
   "metadata": {},
   "source": [
    "We now want to get the number of quotes per citizenship of the speaker. \n",
    "For this, we first repeat the row for a quote according to the number of occurences (to actually count this number in the end). Then, we apply value_counts to each of the columns including nationalities, so we can sum those together and get the total count of nationalities among all 5 columns of nationalities.\n",
    "\n",
    "For reference, we found the way to get the value here: \n",
    "https://stackoverflow.com/questions/32589829/how-to-get-value-counts-for-multiple-columns-at-once-in-pandas-dataframe\n",
    "\n",
    "and the way to repeat the rows in the dataframe here: \n",
    "https://stackoverflow.com/questions/49074021/repeat-rows-in-data-frame-n-times"
   ]
  },
  {
   "cell_type": "code",
   "execution_count": 46,
   "id": "011c46f8",
   "metadata": {},
   "outputs": [
    {
     "data": {
      "text/plain": [
       "United States of America    96963.0\n",
       "United Kingdom              19939.0\n",
       "Australia                    6574.0\n",
       "Canada                       6186.0\n",
       "India                        2180.0\n",
       "England                      2015.0\n",
       "Israel                       1941.0\n",
       "New Zealand                  1671.0\n",
       "Nigeria                      1393.0\n",
       "South Africa                 1218.0\n",
       "dtype: float64"
      ]
     },
     "execution_count": 46,
     "metadata": {},
     "output_type": "execute_result"
    }
   ],
   "source": [
    "quotes_per_country = df_quotes.loc[df_quotes.index.repeat(df_quotes.numOccurrences)]\n",
    "quotes_per_country = quotes_per_country[nationality_cols].apply(pd.Series.value_counts).sum(axis=1).sort_values(ascending=False)\n",
    "quotes_per_country.head(10)"
   ]
  },
  {
   "cell_type": "code",
   "execution_count": 47,
   "id": "f2ea137a",
   "metadata": {},
   "outputs": [
    {
     "data": {
      "text/plain": [
       "<AxesSubplot:>"
      ]
     },
     "execution_count": 47,
     "metadata": {},
     "output_type": "execute_result"
    },
    {
     "data": {
      "image/png": "[encoded data removed]",
      "text/plain": [
       "<Figure size 432x288 with 1 Axes>"
      ]
     },
     "metadata": {
      "needs_background": "light"
     },
     "output_type": "display_data"
    }
   ],
   "source": [
    "quotes_per_country.head(10).plot.bar()"
   ]
  },
  {
   "cell_type": "markdown",
   "id": "6c19950d",
   "metadata": {},
   "source": [
    "It is not surprising that quotes that originate from English news articles are mainly from speakers with citizenships from mainly English speaking countires (USA, UK, Australia, Canada etc.), and other countries are clearly underrepresented (from the number of citizens, one would probably assume China and India in the first two places). However, what really surprises us is the huge number of speakers from the US. The relation between US and UK quotes seems reasonable, as there are about 5 times as much quotes and 5 times as much citizens of the US than the UK. The relation between UK and Australia seems to be a bit in favor of the UK, which would normally be a relation of number of citizens of about 2.5, and is more towards 3 here. Among the first 4 places, Canada is clearly underrepresented, having more citizens than Australia but less quotes. "
   ]
  },
  {
   "cell_type": "markdown",
   "id": "f2a7e0ff",
   "metadata": {},
   "source": [
    "## Bias in Internet Movie Database ratings:\n",
    "\n",
    "We also check the (un)biasedness of our second potentially biased dataset: The ratings from IMDb. Here, we check for a bias both in terms of gender and in terms of age groups. Let's see, how much influence majority groups in both properties might have on the total perception of a movie.\n",
    "\n",
    "For our analysis, we were a bit limited by our dataset. The main problem is, that we only get a mean vote and the number of votes per group (e.g. male/female, age < 18, 18 to 30, ...). We are clearly missing a standard diviation here to make statistically valid statements about these topics in general. However, it is still possible for us to reason on a movie-by-movie basis.\n",
    "\n",
    "We were trying to find other datasets, however, very few datasets (except for Quotebank and the imdb set) give information about the gender, ethnicity, age, etc. of a person. Our strongest candidate was the movielens dataset, but which only covers this information in a dataset with ratings from before 2003. "
   ]
  },
  {
   "cell_type": "code",
   "execution_count": 48,
   "id": "c5a46c44",
   "metadata": {},
   "outputs": [
    {
     "name": "stderr",
     "output_type": "stream",
     "text": [
      "/opt/miniconda3/envs/ada/lib/python3.8/site-packages/IPython/core/interactiveshell.py:3441: DtypeWarning: Columns (3) have mixed types.Specify dtype option on import or set low_memory=False.\n",
      "  exec(code_obj, self.user_global_ns, self.user_ns)\n"
     ]
    }
   ],
   "source": [
    "movies = pd.read_csv('exploratory/data/IMDb/IMDb movies.csv')"
   ]
  },
  {
   "cell_type": "code",
   "execution_count": 49,
   "id": "4b5ca95b",
   "metadata": {},
   "outputs": [],
   "source": [
    "ratings = pd.read_csv('exploratory/data/IMDb/IMDb ratings.csv')"
   ]
  },
  {
   "cell_type": "code",
   "execution_count": 50,
   "id": "1731b1af",
   "metadata": {},
   "outputs": [],
   "source": [
    "def clean_imdb(df):\n",
    "    imdb = df.rename(columns = {'worlwide_gross_income':'worldwide_gross_income'})\n",
    "    imdb = imdb.drop(imdb.index[83917])\n",
    "    imdb['year'] = imdb['year'].astype(int)\n",
    "    imdb = imdb[imdb['year']>2014]\n",
    "    imdb = imdb.dropna()\n",
    "    imdb['budget'] = imdb['budget'].map(lambda x: x.lstrip('$EURCZKNYGBPWILSADMXNJPYOP')).astype(int)\n",
    "    imdb['worldwide_gross_income'] = imdb['worldwide_gross_income'].map(lambda x: x.lstrip('$EURCZKNYGBPWILSADMXNJPYOP')).astype(int)\n",
    "    imdb['usa_gross_income'] = imdb['usa_gross_income'].map(lambda x: x.lstrip('$EURCZKNYGBPWILSADMXNJPYOP')).astype(int)\n",
    "    imdb['date_published'] = pd.to_datetime(imdb['date_published'])\n",
    "    return imdb\n",
    "\n",
    "movies = clean_imdb(movies)"
   ]
  },
  {
   "cell_type": "code",
   "execution_count": 51,
   "id": "65a4e81d",
   "metadata": {},
   "outputs": [],
   "source": [
    "def standardize_col(col):\n",
    "    try:\n",
    "        return (col - col.mean())/col.std()\n",
    "    except:\n",
    "        return col"
   ]
  },
  {
   "cell_type": "code",
   "execution_count": 52,
   "id": "628168ed",
   "metadata": {},
   "outputs": [
    {
     "data": {
      "text/html": [
       "<div>\n",
       "<style scoped>\n",
       "    .dataframe tbody tr th:only-of-type {\n",
       "        vertical-align: middle;\n",
       "    }\n",
       "\n",
       "    .dataframe tbody tr th {\n",
       "        vertical-align: top;\n",
       "    }\n",
       "\n",
       "    .dataframe thead th {\n",
       "        text-align: right;\n",
       "    }\n",
       "</style>\n",
       "<table border=\"1\" class=\"dataframe\">\n",
       "  <thead>\n",
       "    <tr style=\"text-align: right;\">\n",
       "      <th></th>\n",
       "      <th>imdb_title_id</th>\n",
       "      <th>title</th>\n",
       "      <th>original_title</th>\n",
       "      <th>year</th>\n",
       "      <th>date_published</th>\n",
       "      <th>genre</th>\n",
       "      <th>duration</th>\n",
       "      <th>country</th>\n",
       "      <th>language</th>\n",
       "      <th>director</th>\n",
       "      <th>...</th>\n",
       "      <th>actors</th>\n",
       "      <th>description</th>\n",
       "      <th>avg_vote</th>\n",
       "      <th>votes</th>\n",
       "      <th>budget</th>\n",
       "      <th>usa_gross_income</th>\n",
       "      <th>worldwide_gross_income</th>\n",
       "      <th>metascore</th>\n",
       "      <th>reviews_from_users</th>\n",
       "      <th>reviews_from_critics</th>\n",
       "    </tr>\n",
       "  </thead>\n",
       "  <tbody>\n",
       "    <tr>\n",
       "      <th>43822</th>\n",
       "      <td>tt0369610</td>\n",
       "      <td>Jurassic World</td>\n",
       "      <td>Jurassic World</td>\n",
       "      <td>2015</td>\n",
       "      <td>2015-06-11</td>\n",
       "      <td>Action, Adventure, Sci-Fi</td>\n",
       "      <td>124</td>\n",
       "      <td>USA</td>\n",
       "      <td>English</td>\n",
       "      <td>Colin Trevorrow</td>\n",
       "      <td>...</td>\n",
       "      <td>Chris Pratt, Bryce Dallas Howard, Irrfan Khan,...</td>\n",
       "      <td>A new theme park, built on the original site o...</td>\n",
       "      <td>7.0</td>\n",
       "      <td>569512</td>\n",
       "      <td>150000000</td>\n",
       "      <td>652270625</td>\n",
       "      <td>1670401444</td>\n",
       "      <td>59.0</td>\n",
       "      <td>1537.0</td>\n",
       "      <td>698.0</td>\n",
       "    </tr>\n",
       "    <tr>\n",
       "      <th>44619</th>\n",
       "      <td>tt0385887</td>\n",
       "      <td>Motherless Brooklyn - I segreti di una città</td>\n",
       "      <td>Motherless Brooklyn</td>\n",
       "      <td>2019</td>\n",
       "      <td>2019-11-07</td>\n",
       "      <td>Crime, Drama, Mystery</td>\n",
       "      <td>144</td>\n",
       "      <td>USA</td>\n",
       "      <td>English, French</td>\n",
       "      <td>Edward Norton</td>\n",
       "      <td>...</td>\n",
       "      <td>Edward Norton, Gugu Mbatha-Raw, Alec Baldwin, ...</td>\n",
       "      <td>In 1950s New York, a lonely private detective ...</td>\n",
       "      <td>6.8</td>\n",
       "      <td>34759</td>\n",
       "      <td>26000000</td>\n",
       "      <td>9277736</td>\n",
       "      <td>18477736</td>\n",
       "      <td>60.0</td>\n",
       "      <td>319.0</td>\n",
       "      <td>178.0</td>\n",
       "    </tr>\n",
       "    <tr>\n",
       "      <th>46723</th>\n",
       "      <td>tt0437086</td>\n",
       "      <td>Alita - Angelo della battaglia</td>\n",
       "      <td>Alita: Battle Angel</td>\n",
       "      <td>2019</td>\n",
       "      <td>2019-02-14</td>\n",
       "      <td>Action, Adventure, Sci-Fi</td>\n",
       "      <td>122</td>\n",
       "      <td>USA, Japan, Canada</td>\n",
       "      <td>English, Spanish</td>\n",
       "      <td>Robert Rodriguez</td>\n",
       "      <td>...</td>\n",
       "      <td>Rosa Salazar, Christoph Waltz, Jennifer Connel...</td>\n",
       "      <td>A deactivated cyborg is revived, but cannot re...</td>\n",
       "      <td>7.3</td>\n",
       "      <td>217183</td>\n",
       "      <td>170000000</td>\n",
       "      <td>85710210</td>\n",
       "      <td>404852543</td>\n",
       "      <td>53.0</td>\n",
       "      <td>2757.0</td>\n",
       "      <td>368.0</td>\n",
       "    </tr>\n",
       "    <tr>\n",
       "      <th>47132</th>\n",
       "      <td>tt0448115</td>\n",
       "      <td>Shazam!</td>\n",
       "      <td>Shazam!</td>\n",
       "      <td>2019</td>\n",
       "      <td>2019-04-03</td>\n",
       "      <td>Action, Adventure, Comedy</td>\n",
       "      <td>132</td>\n",
       "      <td>USA, Canada</td>\n",
       "      <td>English, Spanish</td>\n",
       "      <td>David F. Sandberg</td>\n",
       "      <td>...</td>\n",
       "      <td>Zachary Levi, Mark Strong, Asher Angel, Jack D...</td>\n",
       "      <td>A newly fostered young boy in search of his mo...</td>\n",
       "      <td>7.1</td>\n",
       "      <td>240858</td>\n",
       "      <td>100000000</td>\n",
       "      <td>140371656</td>\n",
       "      <td>365971656</td>\n",
       "      <td>71.0</td>\n",
       "      <td>2009.0</td>\n",
       "      <td>379.0</td>\n",
       "    </tr>\n",
       "    <tr>\n",
       "      <th>47292</th>\n",
       "      <td>tt0451279</td>\n",
       "      <td>Wonder Woman</td>\n",
       "      <td>Wonder Woman</td>\n",
       "      <td>2017</td>\n",
       "      <td>2017-06-01</td>\n",
       "      <td>Action, Adventure, Fantasy</td>\n",
       "      <td>141</td>\n",
       "      <td>USA, China, Hong Kong</td>\n",
       "      <td>English, German, Dutch, French, Spanish, Chine...</td>\n",
       "      <td>Patty Jenkins</td>\n",
       "      <td>...</td>\n",
       "      <td>Gal Gadot, Chris Pine, Connie Nielsen, Robin W...</td>\n",
       "      <td>When a pilot crashes and tells of conflict in ...</td>\n",
       "      <td>7.4</td>\n",
       "      <td>535903</td>\n",
       "      <td>149000000</td>\n",
       "      <td>412563408</td>\n",
       "      <td>821847012</td>\n",
       "      <td>76.0</td>\n",
       "      <td>2200.0</td>\n",
       "      <td>713.0</td>\n",
       "    </tr>\n",
       "  </tbody>\n",
       "</table>\n",
       "<p>5 rows × 22 columns</p>\n",
       "</div>"
      ],
      "text/plain": [
       "      imdb_title_id                                         title  \\\n",
       "43822     tt0369610                                Jurassic World   \n",
       "44619     tt0385887  Motherless Brooklyn - I segreti di una città   \n",
       "46723     tt0437086                Alita - Angelo della battaglia   \n",
       "47132     tt0448115                                       Shazam!   \n",
       "47292     tt0451279                                  Wonder Woman   \n",
       "\n",
       "            original_title  year date_published                       genre  \\\n",
       "43822       Jurassic World  2015     2015-06-11   Action, Adventure, Sci-Fi   \n",
       "44619  Motherless Brooklyn  2019     2019-11-07       Crime, Drama, Mystery   \n",
       "46723  Alita: Battle Angel  2019     2019-02-14   Action, Adventure, Sci-Fi   \n",
       "47132              Shazam!  2019     2019-04-03   Action, Adventure, Comedy   \n",
       "47292         Wonder Woman  2017     2017-06-01  Action, Adventure, Fantasy   \n",
       "\n",
       "       duration                country  \\\n",
       "43822       124                    USA   \n",
       "44619       144                    USA   \n",
       "46723       122     USA, Japan, Canada   \n",
       "47132       132            USA, Canada   \n",
       "47292       141  USA, China, Hong Kong   \n",
       "\n",
       "                                                language           director  \\\n",
       "43822                                            English    Colin Trevorrow   \n",
       "44619                                    English, French      Edward Norton   \n",
       "46723                                   English, Spanish   Robert Rodriguez   \n",
       "47132                                   English, Spanish  David F. Sandberg   \n",
       "47292  English, German, Dutch, French, Spanish, Chine...      Patty Jenkins   \n",
       "\n",
       "       ...                                             actors  \\\n",
       "43822  ...  Chris Pratt, Bryce Dallas Howard, Irrfan Khan,...   \n",
       "44619  ...  Edward Norton, Gugu Mbatha-Raw, Alec Baldwin, ...   \n",
       "46723  ...  Rosa Salazar, Christoph Waltz, Jennifer Connel...   \n",
       "47132  ...  Zachary Levi, Mark Strong, Asher Angel, Jack D...   \n",
       "47292  ...  Gal Gadot, Chris Pine, Connie Nielsen, Robin W...   \n",
       "\n",
       "                                             description avg_vote   votes  \\\n",
       "43822  A new theme park, built on the original site o...      7.0  569512   \n",
       "44619  In 1950s New York, a lonely private detective ...      6.8   34759   \n",
       "46723  A deactivated cyborg is revived, but cannot re...      7.3  217183   \n",
       "47132  A newly fostered young boy in search of his mo...      7.1  240858   \n",
       "47292  When a pilot crashes and tells of conflict in ...      7.4  535903   \n",
       "\n",
       "          budget  usa_gross_income  worldwide_gross_income  metascore  \\\n",
       "43822  150000000         652270625              1670401444       59.0   \n",
       "44619   26000000           9277736                18477736       60.0   \n",
       "46723  170000000          85710210               404852543       53.0   \n",
       "47132  100000000         140371656               365971656       71.0   \n",
       "47292  149000000         412563408               821847012       76.0   \n",
       "\n",
       "       reviews_from_users  reviews_from_critics  \n",
       "43822              1537.0                 698.0  \n",
       "44619               319.0                 178.0  \n",
       "46723              2757.0                 368.0  \n",
       "47132              2009.0                 379.0  \n",
       "47292              2200.0                 713.0  \n",
       "\n",
       "[5 rows x 22 columns]"
      ]
     },
     "execution_count": 52,
     "metadata": {},
     "output_type": "execute_result"
    }
   ],
   "source": [
    "movies.head()"
   ]
  },
  {
   "cell_type": "code",
   "execution_count": 53,
   "id": "77b90e8a",
   "metadata": {},
   "outputs": [
    {
     "data": {
      "text/html": [
       "<div>\n",
       "<style scoped>\n",
       "    .dataframe tbody tr th:only-of-type {\n",
       "        vertical-align: middle;\n",
       "    }\n",
       "\n",
       "    .dataframe tbody tr th {\n",
       "        vertical-align: top;\n",
       "    }\n",
       "\n",
       "    .dataframe thead th {\n",
       "        text-align: right;\n",
       "    }\n",
       "</style>\n",
       "<table border=\"1\" class=\"dataframe\">\n",
       "  <thead>\n",
       "    <tr style=\"text-align: right;\">\n",
       "      <th></th>\n",
       "      <th>imdb_title_id</th>\n",
       "      <th>weighted_average_vote</th>\n",
       "      <th>total_votes</th>\n",
       "      <th>mean_vote</th>\n",
       "      <th>median_vote</th>\n",
       "      <th>votes_10</th>\n",
       "      <th>votes_9</th>\n",
       "      <th>votes_8</th>\n",
       "      <th>votes_7</th>\n",
       "      <th>votes_6</th>\n",
       "      <th>...</th>\n",
       "      <th>females_30age_avg_vote</th>\n",
       "      <th>females_30age_votes</th>\n",
       "      <th>females_45age_avg_vote</th>\n",
       "      <th>females_45age_votes</th>\n",
       "      <th>top1000_voters_rating</th>\n",
       "      <th>top1000_voters_votes</th>\n",
       "      <th>us_voters_rating</th>\n",
       "      <th>us_voters_votes</th>\n",
       "      <th>non_us_voters_rating</th>\n",
       "      <th>non_us_voters_votes</th>\n",
       "    </tr>\n",
       "  </thead>\n",
       "  <tbody>\n",
       "    <tr>\n",
       "      <th>0</th>\n",
       "      <td>tt0000009</td>\n",
       "      <td>5.9</td>\n",
       "      <td>154</td>\n",
       "      <td>5.9</td>\n",
       "      <td>6.0</td>\n",
       "      <td>12</td>\n",
       "      <td>4</td>\n",
       "      <td>10</td>\n",
       "      <td>43</td>\n",
       "      <td>28</td>\n",
       "      <td>...</td>\n",
       "      <td>5.7</td>\n",
       "      <td>13.0</td>\n",
       "      <td>4.5</td>\n",
       "      <td>4.0</td>\n",
       "      <td>5.7</td>\n",
       "      <td>34.0</td>\n",
       "      <td>6.4</td>\n",
       "      <td>51.0</td>\n",
       "      <td>6.0</td>\n",
       "      <td>70.0</td>\n",
       "    </tr>\n",
       "    <tr>\n",
       "      <th>1</th>\n",
       "      <td>tt0000574</td>\n",
       "      <td>6.1</td>\n",
       "      <td>589</td>\n",
       "      <td>6.3</td>\n",
       "      <td>6.0</td>\n",
       "      <td>57</td>\n",
       "      <td>18</td>\n",
       "      <td>58</td>\n",
       "      <td>137</td>\n",
       "      <td>139</td>\n",
       "      <td>...</td>\n",
       "      <td>6.2</td>\n",
       "      <td>23.0</td>\n",
       "      <td>6.6</td>\n",
       "      <td>14.0</td>\n",
       "      <td>6.4</td>\n",
       "      <td>66.0</td>\n",
       "      <td>6.0</td>\n",
       "      <td>96.0</td>\n",
       "      <td>6.2</td>\n",
       "      <td>331.0</td>\n",
       "    </tr>\n",
       "    <tr>\n",
       "      <th>2</th>\n",
       "      <td>tt0001892</td>\n",
       "      <td>5.8</td>\n",
       "      <td>188</td>\n",
       "      <td>6.0</td>\n",
       "      <td>6.0</td>\n",
       "      <td>6</td>\n",
       "      <td>6</td>\n",
       "      <td>17</td>\n",
       "      <td>44</td>\n",
       "      <td>52</td>\n",
       "      <td>...</td>\n",
       "      <td>5.8</td>\n",
       "      <td>4.0</td>\n",
       "      <td>6.8</td>\n",
       "      <td>7.0</td>\n",
       "      <td>5.4</td>\n",
       "      <td>32.0</td>\n",
       "      <td>6.2</td>\n",
       "      <td>31.0</td>\n",
       "      <td>5.9</td>\n",
       "      <td>123.0</td>\n",
       "    </tr>\n",
       "    <tr>\n",
       "      <th>3</th>\n",
       "      <td>tt0002101</td>\n",
       "      <td>5.2</td>\n",
       "      <td>446</td>\n",
       "      <td>5.3</td>\n",
       "      <td>5.0</td>\n",
       "      <td>15</td>\n",
       "      <td>8</td>\n",
       "      <td>16</td>\n",
       "      <td>62</td>\n",
       "      <td>98</td>\n",
       "      <td>...</td>\n",
       "      <td>5.5</td>\n",
       "      <td>14.0</td>\n",
       "      <td>6.1</td>\n",
       "      <td>21.0</td>\n",
       "      <td>4.9</td>\n",
       "      <td>57.0</td>\n",
       "      <td>5.5</td>\n",
       "      <td>207.0</td>\n",
       "      <td>4.7</td>\n",
       "      <td>105.0</td>\n",
       "    </tr>\n",
       "    <tr>\n",
       "      <th>4</th>\n",
       "      <td>tt0002130</td>\n",
       "      <td>7.0</td>\n",
       "      <td>2237</td>\n",
       "      <td>6.9</td>\n",
       "      <td>7.0</td>\n",
       "      <td>210</td>\n",
       "      <td>225</td>\n",
       "      <td>436</td>\n",
       "      <td>641</td>\n",
       "      <td>344</td>\n",
       "      <td>...</td>\n",
       "      <td>7.3</td>\n",
       "      <td>82.0</td>\n",
       "      <td>7.4</td>\n",
       "      <td>77.0</td>\n",
       "      <td>6.9</td>\n",
       "      <td>139.0</td>\n",
       "      <td>7.0</td>\n",
       "      <td>488.0</td>\n",
       "      <td>7.0</td>\n",
       "      <td>1166.0</td>\n",
       "    </tr>\n",
       "  </tbody>\n",
       "</table>\n",
       "<p>5 rows × 49 columns</p>\n",
       "</div>"
      ],
      "text/plain": [
       "  imdb_title_id  weighted_average_vote  total_votes  mean_vote  median_vote  \\\n",
       "0     tt0000009                    5.9          154        5.9          6.0   \n",
       "1     tt0000574                    6.1          589        6.3          6.0   \n",
       "2     tt0001892                    5.8          188        6.0          6.0   \n",
       "3     tt0002101                    5.2          446        5.3          5.0   \n",
       "4     tt0002130                    7.0         2237        6.9          7.0   \n",
       "\n",
       "   votes_10  votes_9  votes_8  votes_7  votes_6  ...  females_30age_avg_vote  \\\n",
       "0        12        4       10       43       28  ...                     5.7   \n",
       "1        57       18       58      137      139  ...                     6.2   \n",
       "2         6        6       17       44       52  ...                     5.8   \n",
       "3        15        8       16       62       98  ...                     5.5   \n",
       "4       210      225      436      641      344  ...                     7.3   \n",
       "\n",
       "   females_30age_votes  females_45age_avg_vote  females_45age_votes  \\\n",
       "0                 13.0                     4.5                  4.0   \n",
       "1                 23.0                     6.6                 14.0   \n",
       "2                  4.0                     6.8                  7.0   \n",
       "3                 14.0                     6.1                 21.0   \n",
       "4                 82.0                     7.4                 77.0   \n",
       "\n",
       "   top1000_voters_rating  top1000_voters_votes  us_voters_rating  \\\n",
       "0                    5.7                  34.0               6.4   \n",
       "1                    6.4                  66.0               6.0   \n",
       "2                    5.4                  32.0               6.2   \n",
       "3                    4.9                  57.0               5.5   \n",
       "4                    6.9                 139.0               7.0   \n",
       "\n",
       "   us_voters_votes  non_us_voters_rating  non_us_voters_votes  \n",
       "0             51.0                   6.0                 70.0  \n",
       "1             96.0                   6.2                331.0  \n",
       "2             31.0                   5.9                123.0  \n",
       "3            207.0                   4.7                105.0  \n",
       "4            488.0                   7.0               1166.0  \n",
       "\n",
       "[5 rows x 49 columns]"
      ]
     },
     "execution_count": 53,
     "metadata": {},
     "output_type": "execute_result"
    }
   ],
   "source": [
    "ratings.head()"
   ]
  },
  {
   "cell_type": "code",
   "execution_count": 54,
   "id": "302a2b0a",
   "metadata": {},
   "outputs": [
    {
     "data": {
      "text/html": [
       "<div>\n",
       "<style scoped>\n",
       "    .dataframe tbody tr th:only-of-type {\n",
       "        vertical-align: middle;\n",
       "    }\n",
       "\n",
       "    .dataframe tbody tr th {\n",
       "        vertical-align: top;\n",
       "    }\n",
       "\n",
       "    .dataframe thead th {\n",
       "        text-align: right;\n",
       "    }\n",
       "</style>\n",
       "<table border=\"1\" class=\"dataframe\">\n",
       "  <thead>\n",
       "    <tr style=\"text-align: right;\">\n",
       "      <th></th>\n",
       "      <th>imdb_title_id</th>\n",
       "      <th>title</th>\n",
       "      <th>original_title</th>\n",
       "      <th>year</th>\n",
       "      <th>date_published</th>\n",
       "      <th>genre</th>\n",
       "      <th>duration</th>\n",
       "      <th>country</th>\n",
       "      <th>language</th>\n",
       "      <th>director</th>\n",
       "      <th>...</th>\n",
       "      <th>females_30age_avg_vote</th>\n",
       "      <th>females_30age_votes</th>\n",
       "      <th>females_45age_avg_vote</th>\n",
       "      <th>females_45age_votes</th>\n",
       "      <th>top1000_voters_rating</th>\n",
       "      <th>top1000_voters_votes</th>\n",
       "      <th>us_voters_rating</th>\n",
       "      <th>us_voters_votes</th>\n",
       "      <th>non_us_voters_rating</th>\n",
       "      <th>non_us_voters_votes</th>\n",
       "    </tr>\n",
       "  </thead>\n",
       "  <tbody>\n",
       "    <tr>\n",
       "      <th>0</th>\n",
       "      <td>tt0369610</td>\n",
       "      <td>Jurassic World</td>\n",
       "      <td>Jurassic World</td>\n",
       "      <td>2015</td>\n",
       "      <td>2015-06-11</td>\n",
       "      <td>Action, Adventure, Sci-Fi</td>\n",
       "      <td>124</td>\n",
       "      <td>USA</td>\n",
       "      <td>English</td>\n",
       "      <td>Colin Trevorrow</td>\n",
       "      <td>...</td>\n",
       "      <td>7.2</td>\n",
       "      <td>32243.0</td>\n",
       "      <td>7.3</td>\n",
       "      <td>6381.0</td>\n",
       "      <td>6.8</td>\n",
       "      <td>762.0</td>\n",
       "      <td>7.1</td>\n",
       "      <td>72876.0</td>\n",
       "      <td>6.8</td>\n",
       "      <td>217418.0</td>\n",
       "    </tr>\n",
       "    <tr>\n",
       "      <th>1</th>\n",
       "      <td>tt0385887</td>\n",
       "      <td>Motherless Brooklyn - I segreti di una città</td>\n",
       "      <td>Motherless Brooklyn</td>\n",
       "      <td>2019</td>\n",
       "      <td>2019-11-07</td>\n",
       "      <td>Crime, Drama, Mystery</td>\n",
       "      <td>144</td>\n",
       "      <td>USA</td>\n",
       "      <td>English, French</td>\n",
       "      <td>Edward Norton</td>\n",
       "      <td>...</td>\n",
       "      <td>6.8</td>\n",
       "      <td>1632.0</td>\n",
       "      <td>7.1</td>\n",
       "      <td>837.0</td>\n",
       "      <td>6.3</td>\n",
       "      <td>269.0</td>\n",
       "      <td>6.8</td>\n",
       "      <td>5124.0</td>\n",
       "      <td>6.8</td>\n",
       "      <td>14796.0</td>\n",
       "    </tr>\n",
       "    <tr>\n",
       "      <th>2</th>\n",
       "      <td>tt0437086</td>\n",
       "      <td>Alita - Angelo della battaglia</td>\n",
       "      <td>Alita: Battle Angel</td>\n",
       "      <td>2019</td>\n",
       "      <td>2019-02-14</td>\n",
       "      <td>Action, Adventure, Sci-Fi</td>\n",
       "      <td>122</td>\n",
       "      <td>USA, Japan, Canada</td>\n",
       "      <td>English, Spanish</td>\n",
       "      <td>Robert Rodriguez</td>\n",
       "      <td>...</td>\n",
       "      <td>7.2</td>\n",
       "      <td>7651.0</td>\n",
       "      <td>7.5</td>\n",
       "      <td>1843.0</td>\n",
       "      <td>6.8</td>\n",
       "      <td>439.0</td>\n",
       "      <td>7.3</td>\n",
       "      <td>22680.0</td>\n",
       "      <td>7.2</td>\n",
       "      <td>83787.0</td>\n",
       "    </tr>\n",
       "    <tr>\n",
       "      <th>3</th>\n",
       "      <td>tt0448115</td>\n",
       "      <td>Shazam!</td>\n",
       "      <td>Shazam!</td>\n",
       "      <td>2019</td>\n",
       "      <td>2019-04-03</td>\n",
       "      <td>Action, Adventure, Comedy</td>\n",
       "      <td>132</td>\n",
       "      <td>USA, Canada</td>\n",
       "      <td>English, Spanish</td>\n",
       "      <td>David F. Sandberg</td>\n",
       "      <td>...</td>\n",
       "      <td>7.1</td>\n",
       "      <td>8995.0</td>\n",
       "      <td>7.3</td>\n",
       "      <td>2091.0</td>\n",
       "      <td>6.8</td>\n",
       "      <td>525.0</td>\n",
       "      <td>7.3</td>\n",
       "      <td>28394.0</td>\n",
       "      <td>6.9</td>\n",
       "      <td>85782.0</td>\n",
       "    </tr>\n",
       "    <tr>\n",
       "      <th>4</th>\n",
       "      <td>tt0451279</td>\n",
       "      <td>Wonder Woman</td>\n",
       "      <td>Wonder Woman</td>\n",
       "      <td>2017</td>\n",
       "      <td>2017-06-01</td>\n",
       "      <td>Action, Adventure, Fantasy</td>\n",
       "      <td>141</td>\n",
       "      <td>USA, China, Hong Kong</td>\n",
       "      <td>English, German, Dutch, French, Spanish, Chine...</td>\n",
       "      <td>Patty Jenkins</td>\n",
       "      <td>...</td>\n",
       "      <td>7.6</td>\n",
       "      <td>29053.0</td>\n",
       "      <td>7.8</td>\n",
       "      <td>7220.0</td>\n",
       "      <td>7.0</td>\n",
       "      <td>723.0</td>\n",
       "      <td>7.7</td>\n",
       "      <td>67709.0</td>\n",
       "      <td>7.2</td>\n",
       "      <td>190337.0</td>\n",
       "    </tr>\n",
       "  </tbody>\n",
       "</table>\n",
       "<p>5 rows × 70 columns</p>\n",
       "</div>"
      ],
      "text/plain": [
       "  imdb_title_id                                         title  \\\n",
       "0     tt0369610                                Jurassic World   \n",
       "1     tt0385887  Motherless Brooklyn - I segreti di una città   \n",
       "2     tt0437086                Alita - Angelo della battaglia   \n",
       "3     tt0448115                                       Shazam!   \n",
       "4     tt0451279                                  Wonder Woman   \n",
       "\n",
       "        original_title  year date_published                       genre  \\\n",
       "0       Jurassic World  2015     2015-06-11   Action, Adventure, Sci-Fi   \n",
       "1  Motherless Brooklyn  2019     2019-11-07       Crime, Drama, Mystery   \n",
       "2  Alita: Battle Angel  2019     2019-02-14   Action, Adventure, Sci-Fi   \n",
       "3              Shazam!  2019     2019-04-03   Action, Adventure, Comedy   \n",
       "4         Wonder Woman  2017     2017-06-01  Action, Adventure, Fantasy   \n",
       "\n",
       "   duration                country  \\\n",
       "0       124                    USA   \n",
       "1       144                    USA   \n",
       "2       122     USA, Japan, Canada   \n",
       "3       132            USA, Canada   \n",
       "4       141  USA, China, Hong Kong   \n",
       "\n",
       "                                            language           director  ...  \\\n",
       "0                                            English    Colin Trevorrow  ...   \n",
       "1                                    English, French      Edward Norton  ...   \n",
       "2                                   English, Spanish   Robert Rodriguez  ...   \n",
       "3                                   English, Spanish  David F. Sandberg  ...   \n",
       "4  English, German, Dutch, French, Spanish, Chine...      Patty Jenkins  ...   \n",
       "\n",
       "  females_30age_avg_vote females_30age_votes females_45age_avg_vote  \\\n",
       "0                    7.2             32243.0                    7.3   \n",
       "1                    6.8              1632.0                    7.1   \n",
       "2                    7.2              7651.0                    7.5   \n",
       "3                    7.1              8995.0                    7.3   \n",
       "4                    7.6             29053.0                    7.8   \n",
       "\n",
       "  females_45age_votes  top1000_voters_rating  top1000_voters_votes  \\\n",
       "0              6381.0                    6.8                 762.0   \n",
       "1               837.0                    6.3                 269.0   \n",
       "2              1843.0                    6.8                 439.0   \n",
       "3              2091.0                    6.8                 525.0   \n",
       "4              7220.0                    7.0                 723.0   \n",
       "\n",
       "   us_voters_rating  us_voters_votes  non_us_voters_rating  \\\n",
       "0               7.1          72876.0                   6.8   \n",
       "1               6.8           5124.0                   6.8   \n",
       "2               7.3          22680.0                   7.2   \n",
       "3               7.3          28394.0                   6.9   \n",
       "4               7.7          67709.0                   7.2   \n",
       "\n",
       "   non_us_voters_votes  \n",
       "0             217418.0  \n",
       "1              14796.0  \n",
       "2              83787.0  \n",
       "3              85782.0  \n",
       "4             190337.0  \n",
       "\n",
       "[5 rows x 70 columns]"
      ]
     },
     "execution_count": 54,
     "metadata": {},
     "output_type": "execute_result"
    }
   ],
   "source": [
    "imdb = movies.merge(ratings, on='imdb_title_id')\n",
    "imdb.head()"
   ]
  },
  {
   "cell_type": "code",
   "execution_count": 55,
   "id": "16bf1596",
   "metadata": {},
   "outputs": [
    {
     "data": {
      "text/html": [
       "<div>\n",
       "<style scoped>\n",
       "    .dataframe tbody tr th:only-of-type {\n",
       "        vertical-align: middle;\n",
       "    }\n",
       "\n",
       "    .dataframe tbody tr th {\n",
       "        vertical-align: top;\n",
       "    }\n",
       "\n",
       "    .dataframe thead th {\n",
       "        text-align: right;\n",
       "    }\n",
       "</style>\n",
       "<table border=\"1\" class=\"dataframe\">\n",
       "  <thead>\n",
       "    <tr style=\"text-align: right;\">\n",
       "      <th></th>\n",
       "      <th>imdb_title_id</th>\n",
       "      <th>title</th>\n",
       "      <th>original_title</th>\n",
       "      <th>year</th>\n",
       "      <th>date_published</th>\n",
       "      <th>genre</th>\n",
       "      <th>duration</th>\n",
       "      <th>country</th>\n",
       "      <th>language</th>\n",
       "      <th>director</th>\n",
       "      <th>...</th>\n",
       "      <th>females_30age_avg_vote</th>\n",
       "      <th>females_30age_votes</th>\n",
       "      <th>females_45age_avg_vote</th>\n",
       "      <th>females_45age_votes</th>\n",
       "      <th>top1000_voters_rating</th>\n",
       "      <th>top1000_voters_votes</th>\n",
       "      <th>us_voters_rating</th>\n",
       "      <th>us_voters_votes</th>\n",
       "      <th>non_us_voters_rating</th>\n",
       "      <th>non_us_voters_votes</th>\n",
       "    </tr>\n",
       "  </thead>\n",
       "  <tbody>\n",
       "    <tr>\n",
       "      <th>0</th>\n",
       "      <td>tt0369610</td>\n",
       "      <td>Jurassic World</td>\n",
       "      <td>Jurassic World</td>\n",
       "      <td>2015</td>\n",
       "      <td>2015-06-11</td>\n",
       "      <td>Action, Adventure, Sci-Fi</td>\n",
       "      <td>124</td>\n",
       "      <td>USA</td>\n",
       "      <td>English</td>\n",
       "      <td>Colin Trevorrow</td>\n",
       "      <td>...</td>\n",
       "      <td>7.2</td>\n",
       "      <td>32243.0</td>\n",
       "      <td>7.3</td>\n",
       "      <td>6381.0</td>\n",
       "      <td>6.8</td>\n",
       "      <td>762.0</td>\n",
       "      <td>7.1</td>\n",
       "      <td>72876.0</td>\n",
       "      <td>6.8</td>\n",
       "      <td>217418.0</td>\n",
       "    </tr>\n",
       "    <tr>\n",
       "      <th>1</th>\n",
       "      <td>tt0385887</td>\n",
       "      <td>Motherless Brooklyn - I segreti di una città</td>\n",
       "      <td>Motherless Brooklyn</td>\n",
       "      <td>2019</td>\n",
       "      <td>2019-11-07</td>\n",
       "      <td>Crime, Drama, Mystery</td>\n",
       "      <td>144</td>\n",
       "      <td>USA</td>\n",
       "      <td>English, French</td>\n",
       "      <td>Edward Norton</td>\n",
       "      <td>...</td>\n",
       "      <td>6.8</td>\n",
       "      <td>1632.0</td>\n",
       "      <td>7.1</td>\n",
       "      <td>837.0</td>\n",
       "      <td>6.3</td>\n",
       "      <td>269.0</td>\n",
       "      <td>6.8</td>\n",
       "      <td>5124.0</td>\n",
       "      <td>6.8</td>\n",
       "      <td>14796.0</td>\n",
       "    </tr>\n",
       "    <tr>\n",
       "      <th>2</th>\n",
       "      <td>tt0437086</td>\n",
       "      <td>Alita - Angelo della battaglia</td>\n",
       "      <td>Alita: Battle Angel</td>\n",
       "      <td>2019</td>\n",
       "      <td>2019-02-14</td>\n",
       "      <td>Action, Adventure, Sci-Fi</td>\n",
       "      <td>122</td>\n",
       "      <td>USA, Japan, Canada</td>\n",
       "      <td>English, Spanish</td>\n",
       "      <td>Robert Rodriguez</td>\n",
       "      <td>...</td>\n",
       "      <td>7.2</td>\n",
       "      <td>7651.0</td>\n",
       "      <td>7.5</td>\n",
       "      <td>1843.0</td>\n",
       "      <td>6.8</td>\n",
       "      <td>439.0</td>\n",
       "      <td>7.3</td>\n",
       "      <td>22680.0</td>\n",
       "      <td>7.2</td>\n",
       "      <td>83787.0</td>\n",
       "    </tr>\n",
       "    <tr>\n",
       "      <th>3</th>\n",
       "      <td>tt0448115</td>\n",
       "      <td>Shazam!</td>\n",
       "      <td>Shazam!</td>\n",
       "      <td>2019</td>\n",
       "      <td>2019-04-03</td>\n",
       "      <td>Action, Adventure, Comedy</td>\n",
       "      <td>132</td>\n",
       "      <td>USA, Canada</td>\n",
       "      <td>English, Spanish</td>\n",
       "      <td>David F. Sandberg</td>\n",
       "      <td>...</td>\n",
       "      <td>7.1</td>\n",
       "      <td>8995.0</td>\n",
       "      <td>7.3</td>\n",
       "      <td>2091.0</td>\n",
       "      <td>6.8</td>\n",
       "      <td>525.0</td>\n",
       "      <td>7.3</td>\n",
       "      <td>28394.0</td>\n",
       "      <td>6.9</td>\n",
       "      <td>85782.0</td>\n",
       "    </tr>\n",
       "    <tr>\n",
       "      <th>4</th>\n",
       "      <td>tt0451279</td>\n",
       "      <td>Wonder Woman</td>\n",
       "      <td>Wonder Woman</td>\n",
       "      <td>2017</td>\n",
       "      <td>2017-06-01</td>\n",
       "      <td>Action, Adventure, Fantasy</td>\n",
       "      <td>141</td>\n",
       "      <td>USA, China, Hong Kong</td>\n",
       "      <td>English, German, Dutch, French, Spanish, Chine...</td>\n",
       "      <td>Patty Jenkins</td>\n",
       "      <td>...</td>\n",
       "      <td>7.6</td>\n",
       "      <td>29053.0</td>\n",
       "      <td>7.8</td>\n",
       "      <td>7220.0</td>\n",
       "      <td>7.0</td>\n",
       "      <td>723.0</td>\n",
       "      <td>7.7</td>\n",
       "      <td>67709.0</td>\n",
       "      <td>7.2</td>\n",
       "      <td>190337.0</td>\n",
       "    </tr>\n",
       "  </tbody>\n",
       "</table>\n",
       "<p>5 rows × 70 columns</p>\n",
       "</div>"
      ],
      "text/plain": [
       "  imdb_title_id                                         title  \\\n",
       "0     tt0369610                                Jurassic World   \n",
       "1     tt0385887  Motherless Brooklyn - I segreti di una città   \n",
       "2     tt0437086                Alita - Angelo della battaglia   \n",
       "3     tt0448115                                       Shazam!   \n",
       "4     tt0451279                                  Wonder Woman   \n",
       "\n",
       "        original_title  year date_published                       genre  \\\n",
       "0       Jurassic World  2015     2015-06-11   Action, Adventure, Sci-Fi   \n",
       "1  Motherless Brooklyn  2019     2019-11-07       Crime, Drama, Mystery   \n",
       "2  Alita: Battle Angel  2019     2019-02-14   Action, Adventure, Sci-Fi   \n",
       "3              Shazam!  2019     2019-04-03   Action, Adventure, Comedy   \n",
       "4         Wonder Woman  2017     2017-06-01  Action, Adventure, Fantasy   \n",
       "\n",
       "   duration                country  \\\n",
       "0       124                    USA   \n",
       "1       144                    USA   \n",
       "2       122     USA, Japan, Canada   \n",
       "3       132            USA, Canada   \n",
       "4       141  USA, China, Hong Kong   \n",
       "\n",
       "                                            language           director  ...  \\\n",
       "0                                            English    Colin Trevorrow  ...   \n",
       "1                                    English, French      Edward Norton  ...   \n",
       "2                                   English, Spanish   Robert Rodriguez  ...   \n",
       "3                                   English, Spanish  David F. Sandberg  ...   \n",
       "4  English, German, Dutch, French, Spanish, Chine...      Patty Jenkins  ...   \n",
       "\n",
       "  females_30age_avg_vote females_30age_votes females_45age_avg_vote  \\\n",
       "0                    7.2             32243.0                    7.3   \n",
       "1                    6.8              1632.0                    7.1   \n",
       "2                    7.2              7651.0                    7.5   \n",
       "3                    7.1              8995.0                    7.3   \n",
       "4                    7.6             29053.0                    7.8   \n",
       "\n",
       "  females_45age_votes  top1000_voters_rating  top1000_voters_votes  \\\n",
       "0              6381.0                    6.8                 762.0   \n",
       "1               837.0                    6.3                 269.0   \n",
       "2              1843.0                    6.8                 439.0   \n",
       "3              2091.0                    6.8                 525.0   \n",
       "4              7220.0                    7.0                 723.0   \n",
       "\n",
       "   us_voters_rating  us_voters_votes  non_us_voters_rating  \\\n",
       "0               7.1          72876.0                   6.8   \n",
       "1               6.8           5124.0                   6.8   \n",
       "2               7.3          22680.0                   7.2   \n",
       "3               7.3          28394.0                   6.9   \n",
       "4               7.7          67709.0                   7.2   \n",
       "\n",
       "   non_us_voters_votes  \n",
       "0             217418.0  \n",
       "1              14796.0  \n",
       "2              83787.0  \n",
       "3              85782.0  \n",
       "4             190337.0  \n",
       "\n",
       "[5 rows x 70 columns]"
      ]
     },
     "execution_count": 55,
     "metadata": {},
     "output_type": "execute_result"
    }
   ],
   "source": [
    "relevant_years = imdb[imdb['year'].isin(list(range(2015, 2021)))]\n",
    "relevant_years.head()"
   ]
  },
  {
   "cell_type": "code",
   "execution_count": 56,
   "id": "2ab714fe",
   "metadata": {},
   "outputs": [
    {
     "data": {
      "text/html": [
       "<div>\n",
       "<style scoped>\n",
       "    .dataframe tbody tr th:only-of-type {\n",
       "        vertical-align: middle;\n",
       "    }\n",
       "\n",
       "    .dataframe tbody tr th {\n",
       "        vertical-align: top;\n",
       "    }\n",
       "\n",
       "    .dataframe thead th {\n",
       "        text-align: right;\n",
       "    }\n",
       "</style>\n",
       "<table border=\"1\" class=\"dataframe\">\n",
       "  <thead>\n",
       "    <tr style=\"text-align: right;\">\n",
       "      <th></th>\n",
       "      <th>imdb_title_id</th>\n",
       "      <th>title</th>\n",
       "      <th>original_title</th>\n",
       "      <th>year</th>\n",
       "      <th>date_published</th>\n",
       "      <th>genre</th>\n",
       "      <th>duration</th>\n",
       "      <th>country</th>\n",
       "      <th>language</th>\n",
       "      <th>director</th>\n",
       "      <th>...</th>\n",
       "      <th>females_30age_avg_vote</th>\n",
       "      <th>females_30age_votes</th>\n",
       "      <th>females_45age_avg_vote</th>\n",
       "      <th>females_45age_votes</th>\n",
       "      <th>top1000_voters_rating</th>\n",
       "      <th>top1000_voters_votes</th>\n",
       "      <th>us_voters_rating</th>\n",
       "      <th>us_voters_votes</th>\n",
       "      <th>non_us_voters_rating</th>\n",
       "      <th>non_us_voters_votes</th>\n",
       "    </tr>\n",
       "  </thead>\n",
       "  <tbody>\n",
       "    <tr>\n",
       "      <th>0</th>\n",
       "      <td>tt0369610</td>\n",
       "      <td>Jurassic World</td>\n",
       "      <td>Jurassic World</td>\n",
       "      <td>-1.294172</td>\n",
       "      <td>-1.536841</td>\n",
       "      <td>Action, Adventure, Sci-Fi</td>\n",
       "      <td>0.825079</td>\n",
       "      <td>USA</td>\n",
       "      <td>English</td>\n",
       "      <td>Colin Trevorrow</td>\n",
       "      <td>...</td>\n",
       "      <td>0.790351</td>\n",
       "      <td>4.058516</td>\n",
       "      <td>0.775531</td>\n",
       "      <td>3.418174</td>\n",
       "      <td>1.123500</td>\n",
       "      <td>2.733679</td>\n",
       "      <td>0.702649</td>\n",
       "      <td>4.208965</td>\n",
       "      <td>0.515443</td>\n",
       "      <td>3.712219</td>\n",
       "    </tr>\n",
       "    <tr>\n",
       "      <th>1</th>\n",
       "      <td>tt0385887</td>\n",
       "      <td>Motherless Brooklyn - I segreti di una città</td>\n",
       "      <td>Motherless Brooklyn</td>\n",
       "      <td>1.466543</td>\n",
       "      <td>1.511622</td>\n",
       "      <td>Crime, Drama, Mystery</td>\n",
       "      <td>2.011445</td>\n",
       "      <td>USA</td>\n",
       "      <td>English, French</td>\n",
       "      <td>Edward Norton</td>\n",
       "      <td>...</td>\n",
       "      <td>0.330721</td>\n",
       "      <td>-0.544581</td>\n",
       "      <td>0.545030</td>\n",
       "      <td>-0.317413</td>\n",
       "      <td>0.574413</td>\n",
       "      <td>-0.194279</td>\n",
       "      <td>0.381114</td>\n",
       "      <td>-0.396925</td>\n",
       "      <td>0.515443</td>\n",
       "      <td>-0.444035</td>\n",
       "    </tr>\n",
       "    <tr>\n",
       "      <th>2</th>\n",
       "      <td>tt0437086</td>\n",
       "      <td>Alita - Angelo della battaglia</td>\n",
       "      <td>Alita: Battle Angel</td>\n",
       "      <td>1.466543</td>\n",
       "      <td>1.007963</td>\n",
       "      <td>Action, Adventure, Sci-Fi</td>\n",
       "      <td>0.706443</td>\n",
       "      <td>USA, Japan, Canada</td>\n",
       "      <td>English, Spanish</td>\n",
       "      <td>Robert Rodriguez</td>\n",
       "      <td>...</td>\n",
       "      <td>0.790351</td>\n",
       "      <td>0.360520</td>\n",
       "      <td>1.006031</td>\n",
       "      <td>0.360437</td>\n",
       "      <td>1.123500</td>\n",
       "      <td>0.815362</td>\n",
       "      <td>0.917006</td>\n",
       "      <td>0.796560</td>\n",
       "      <td>0.951976</td>\n",
       "      <td>0.971133</td>\n",
       "    </tr>\n",
       "    <tr>\n",
       "      <th>3</th>\n",
       "      <td>tt0448115</td>\n",
       "      <td>Shazam!</td>\n",
       "      <td>Shazam!</td>\n",
       "      <td>1.466543</td>\n",
       "      <td>1.098849</td>\n",
       "      <td>Action, Adventure, Comedy</td>\n",
       "      <td>1.299625</td>\n",
       "      <td>USA, Canada</td>\n",
       "      <td>English, Spanish</td>\n",
       "      <td>David F. Sandberg</td>\n",
       "      <td>...</td>\n",
       "      <td>0.675443</td>\n",
       "      <td>0.562623</td>\n",
       "      <td>0.775531</td>\n",
       "      <td>0.527541</td>\n",
       "      <td>1.123500</td>\n",
       "      <td>1.326121</td>\n",
       "      <td>0.917006</td>\n",
       "      <td>1.185007</td>\n",
       "      <td>0.624576</td>\n",
       "      <td>1.012055</td>\n",
       "    </tr>\n",
       "    <tr>\n",
       "      <th>4</th>\n",
       "      <td>tt0451279</td>\n",
       "      <td>Wonder Woman</td>\n",
       "      <td>Wonder Woman</td>\n",
       "      <td>0.086185</td>\n",
       "      <td>-0.171660</td>\n",
       "      <td>Action, Adventure, Fantasy</td>\n",
       "      <td>1.833490</td>\n",
       "      <td>USA, China, Hong Kong</td>\n",
       "      <td>English, German, Dutch, French, Spanish, Chine...</td>\n",
       "      <td>Patty Jenkins</td>\n",
       "      <td>...</td>\n",
       "      <td>1.249981</td>\n",
       "      <td>3.578824</td>\n",
       "      <td>1.351782</td>\n",
       "      <td>3.983498</td>\n",
       "      <td>1.343135</td>\n",
       "      <td>2.502056</td>\n",
       "      <td>1.345719</td>\n",
       "      <td>3.857704</td>\n",
       "      <td>0.951976</td>\n",
       "      <td>3.156724</td>\n",
       "    </tr>\n",
       "  </tbody>\n",
       "</table>\n",
       "<p>5 rows × 70 columns</p>\n",
       "</div>"
      ],
      "text/plain": [
       "  imdb_title_id                                         title  \\\n",
       "0     tt0369610                                Jurassic World   \n",
       "1     tt0385887  Motherless Brooklyn - I segreti di una città   \n",
       "2     tt0437086                Alita - Angelo della battaglia   \n",
       "3     tt0448115                                       Shazam!   \n",
       "4     tt0451279                                  Wonder Woman   \n",
       "\n",
       "        original_title      year  date_published                       genre  \\\n",
       "0       Jurassic World -1.294172       -1.536841   Action, Adventure, Sci-Fi   \n",
       "1  Motherless Brooklyn  1.466543        1.511622       Crime, Drama, Mystery   \n",
       "2  Alita: Battle Angel  1.466543        1.007963   Action, Adventure, Sci-Fi   \n",
       "3              Shazam!  1.466543        1.098849   Action, Adventure, Comedy   \n",
       "4         Wonder Woman  0.086185       -0.171660  Action, Adventure, Fantasy   \n",
       "\n",
       "   duration                country  \\\n",
       "0  0.825079                    USA   \n",
       "1  2.011445                    USA   \n",
       "2  0.706443     USA, Japan, Canada   \n",
       "3  1.299625            USA, Canada   \n",
       "4  1.833490  USA, China, Hong Kong   \n",
       "\n",
       "                                            language           director  ...  \\\n",
       "0                                            English    Colin Trevorrow  ...   \n",
       "1                                    English, French      Edward Norton  ...   \n",
       "2                                   English, Spanish   Robert Rodriguez  ...   \n",
       "3                                   English, Spanish  David F. Sandberg  ...   \n",
       "4  English, German, Dutch, French, Spanish, Chine...      Patty Jenkins  ...   \n",
       "\n",
       "  females_30age_avg_vote females_30age_votes females_45age_avg_vote  \\\n",
       "0               0.790351            4.058516               0.775531   \n",
       "1               0.330721           -0.544581               0.545030   \n",
       "2               0.790351            0.360520               1.006031   \n",
       "3               0.675443            0.562623               0.775531   \n",
       "4               1.249981            3.578824               1.351782   \n",
       "\n",
       "  females_45age_votes  top1000_voters_rating  top1000_voters_votes  \\\n",
       "0            3.418174               1.123500              2.733679   \n",
       "1           -0.317413               0.574413             -0.194279   \n",
       "2            0.360437               1.123500              0.815362   \n",
       "3            0.527541               1.123500              1.326121   \n",
       "4            3.983498               1.343135              2.502056   \n",
       "\n",
       "   us_voters_rating  us_voters_votes  non_us_voters_rating  \\\n",
       "0          0.702649         4.208965              0.515443   \n",
       "1          0.381114        -0.396925              0.515443   \n",
       "2          0.917006         0.796560              0.951976   \n",
       "3          0.917006         1.185007              0.624576   \n",
       "4          1.345719         3.857704              0.951976   \n",
       "\n",
       "   non_us_voters_votes  \n",
       "0             3.712219  \n",
       "1            -0.444035  \n",
       "2             0.971133  \n",
       "3             1.012055  \n",
       "4             3.156724  \n",
       "\n",
       "[5 rows x 70 columns]"
      ]
     },
     "execution_count": 56,
     "metadata": {},
     "output_type": "execute_result"
    }
   ],
   "source": [
    "relevant_years_stdz = relevant_years.apply(standardize_col, axis=0)\n",
    "relevant_years_stdz.head()"
   ]
  },
  {
   "cell_type": "markdown",
   "id": "93ed69c7",
   "metadata": {},
   "source": [
    "First, we check the distribution among mean percentages of male voters per movie. "
   ]
  },
  {
   "cell_type": "code",
   "execution_count": 57,
   "id": "e5d3713a",
   "metadata": {},
   "outputs": [
    {
     "data": {
      "text/plain": [
       "0.5802392635264324"
      ]
     },
     "execution_count": 57,
     "metadata": {},
     "output_type": "execute_result"
    },
    {
     "data": {
      "image/png": "[encoded data removed]",
      "text/plain": [
       "<Figure size 432x288 with 1 Axes>"
      ]
     },
     "metadata": {
      "needs_background": "light"
     },
     "output_type": "display_data"
    }
   ],
   "source": [
    "relevant_years['males_percentage_votes'] = relevant_years['males_allages_votes'] / relevant_years['votes']\n",
    "#relevant_years['males_percentage_votes'].plot.hist(bins=50)\n",
    "sns.histplot(data=relevant_years, x='males_percentage_votes')\n",
    "plt.axvline(x=relevant_years['males_percentage_votes'].mean(),\n",
    "            color='red')\n",
    "relevant_years['males_percentage_votes'].mean()"
   ]
  },
  {
   "cell_type": "markdown",
   "id": "9b88ca73",
   "metadata": {},
   "source": [
    "We observe a slightly left-skewed distribution, with a mean of .58, while we would expect a mean of 0.5. \n",
    "We can therefore test whether the mean of 0.58 is significantly different from 0.5, which we consider the distribution of male and females in the world (our population). For this, the two-sided 1-sample ttest is a perfect match."
   ]
  },
  {
   "cell_type": "code",
   "execution_count": 58,
   "id": "b4704f4e",
   "metadata": {},
   "outputs": [
    {
     "data": {
      "text/plain": [
       "Ttest_1sampResult(statistic=30.859035907939063, pvalue=4.013537684447491e-147)"
      ]
     },
     "execution_count": 58,
     "metadata": {},
     "output_type": "execute_result"
    }
   ],
   "source": [
    "ttest_1samp(relevant_years['males_percentage_votes'], 0.5)"
   ]
  },
  {
   "cell_type": "markdown",
   "id": "09f4343e",
   "metadata": {},
   "source": [
    "The p value let's us reject the Null Hypothesis that females and males are equally (50 % each) in the number of ratings. Hence, the averages tend to cover more male reviewers than female reviewers. We would derive from this result that average scores might be biased towards male opinions. "
   ]
  },
  {
   "cell_type": "markdown",
   "id": "592d07d1",
   "metadata": {},
   "source": [
    "Let's have a look at the left and right extremes, just to see what kinds of movies that might be. It looks like there are 3 movies with very low male percentage and 1-5 with a very high. So, we just have a look at the 5 highest and lowest percentage of male votes."
   ]
  },
  {
   "cell_type": "code",
   "execution_count": 59,
   "id": "267bb853",
   "metadata": {},
   "outputs": [
    {
     "data": {
      "text/html": [
       "<div>\n",
       "<style scoped>\n",
       "    .dataframe tbody tr th:only-of-type {\n",
       "        vertical-align: middle;\n",
       "    }\n",
       "\n",
       "    .dataframe tbody tr th {\n",
       "        vertical-align: top;\n",
       "    }\n",
       "\n",
       "    .dataframe thead th {\n",
       "        text-align: right;\n",
       "    }\n",
       "</style>\n",
       "<table border=\"1\" class=\"dataframe\">\n",
       "  <thead>\n",
       "    <tr style=\"text-align: right;\">\n",
       "      <th></th>\n",
       "      <th>original_title</th>\n",
       "      <th>males_percentage_votes</th>\n",
       "    </tr>\n",
       "  </thead>\n",
       "  <tbody>\n",
       "    <tr>\n",
       "      <th>566</th>\n",
       "      <td>Meet the Blacks</td>\n",
       "      <td>0.137320</td>\n",
       "    </tr>\n",
       "    <tr>\n",
       "      <th>552</th>\n",
       "      <td>After</td>\n",
       "      <td>0.215840</td>\n",
       "    </tr>\n",
       "    <tr>\n",
       "      <th>706</th>\n",
       "      <td>Everything, Everything</td>\n",
       "      <td>0.278886</td>\n",
       "    </tr>\n",
       "    <tr>\n",
       "      <th>548</th>\n",
       "      <td>Forever My Girl</td>\n",
       "      <td>0.327401</td>\n",
       "    </tr>\n",
       "    <tr>\n",
       "      <th>855</th>\n",
       "      <td>The Sun Is Also a Star</td>\n",
       "      <td>0.328246</td>\n",
       "    </tr>\n",
       "  </tbody>\n",
       "</table>\n",
       "</div>"
      ],
      "text/plain": [
       "             original_title  males_percentage_votes\n",
       "566         Meet the Blacks                0.137320\n",
       "552                   After                0.215840\n",
       "706  Everything, Everything                0.278886\n",
       "548         Forever My Girl                0.327401\n",
       "855  The Sun Is Also a Star                0.328246"
      ]
     },
     "execution_count": 59,
     "metadata": {},
     "output_type": "execute_result"
    }
   ],
   "source": [
    "relevant_years[['original_title','males_percentage_votes']].sort_values('males_percentage_votes').head(5)"
   ]
  },
  {
   "cell_type": "code",
   "execution_count": 60,
   "id": "0d6f0aee",
   "metadata": {},
   "outputs": [
    {
     "data": {
      "text/html": [
       "<div>\n",
       "<style scoped>\n",
       "    .dataframe tbody tr th:only-of-type {\n",
       "        vertical-align: middle;\n",
       "    }\n",
       "\n",
       "    .dataframe tbody tr th {\n",
       "        vertical-align: top;\n",
       "    }\n",
       "\n",
       "    .dataframe thead th {\n",
       "        text-align: right;\n",
       "    }\n",
       "</style>\n",
       "<table border=\"1\" class=\"dataframe\">\n",
       "  <thead>\n",
       "    <tr style=\"text-align: right;\">\n",
       "      <th></th>\n",
       "      <th>original_title</th>\n",
       "      <th>males_percentage_votes</th>\n",
       "    </tr>\n",
       "  </thead>\n",
       "  <tbody>\n",
       "    <tr>\n",
       "      <th>500</th>\n",
       "      <td>Mai sing</td>\n",
       "      <td>0.777633</td>\n",
       "    </tr>\n",
       "    <tr>\n",
       "      <th>279</th>\n",
       "      <td>The Gunman</td>\n",
       "      <td>0.748229</td>\n",
       "    </tr>\n",
       "    <tr>\n",
       "      <th>466</th>\n",
       "      <td>Turbo Kid</td>\n",
       "      <td>0.746878</td>\n",
       "    </tr>\n",
       "    <tr>\n",
       "      <th>730</th>\n",
       "      <td>Kickboxer: Retaliation</td>\n",
       "      <td>0.739533</td>\n",
       "    </tr>\n",
       "    <tr>\n",
       "      <th>502</th>\n",
       "      <td>Cop Car</td>\n",
       "      <td>0.736558</td>\n",
       "    </tr>\n",
       "  </tbody>\n",
       "</table>\n",
       "</div>"
      ],
      "text/plain": [
       "             original_title  males_percentage_votes\n",
       "500                Mai sing                0.777633\n",
       "279              The Gunman                0.748229\n",
       "466               Turbo Kid                0.746878\n",
       "730  Kickboxer: Retaliation                0.739533\n",
       "502                 Cop Car                0.736558"
      ]
     },
     "execution_count": 60,
     "metadata": {},
     "output_type": "execute_result"
    }
   ],
   "source": [
    "relevant_years[['original_title','males_percentage_votes']].sort_values('males_percentage_votes', ascending=False).head(5)"
   ]
  },
  {
   "cell_type": "markdown",
   "id": "6e10032e",
   "metadata": {},
   "source": [
    "## How successful are movies liked by men/women?"
   ]
  },
  {
   "cell_type": "markdown",
   "id": "af69ee43",
   "metadata": {},
   "source": [
    "As a first step, we analyze the influence of the average vote by men and women on the total mean. For this, we fit an OLS model to predict the total mean and have a look at the coefficients. "
   ]
  },
  {
   "cell_type": "code",
   "execution_count": 61,
   "id": "b8f77478",
   "metadata": {},
   "outputs": [
    {
     "name": "stdout",
     "output_type": "stream",
     "text": [
      "                            OLS Regression Results                            \n",
      "==============================================================================\n",
      "Dep. Variable:              mean_vote   R-squared:                       0.944\n",
      "Model:                            OLS   Adj. R-squared:                  0.944\n",
      "Method:                 Least Squares   F-statistic:                     8391.\n",
      "Date:                Fri, 17 Dec 2021   Prob (F-statistic):               0.00\n",
      "Time:                        01:16:48   Log-Likelihood:                 25.248\n",
      "No. Observations:                 993   AIC:                            -44.50\n",
      "Df Residuals:                     990   BIC:                            -29.79\n",
      "Df Model:                           2                                         \n",
      "Covariance Type:            nonrobust                                         \n",
      "============================================================================================\n",
      "                               coef    std err          t      P>|t|      [0.025      0.975]\n",
      "--------------------------------------------------------------------------------------------\n",
      "Intercept                -4.451e-15      0.007  -5.94e-13      1.000      -0.015       0.015\n",
      "females_allages_avg_vote     0.4630      0.020     23.254      0.000       0.424       0.502\n",
      "males_allages_avg_vote       0.5271      0.020     26.475      0.000       0.488       0.566\n",
      "==============================================================================\n",
      "Omnibus:                     1352.169   Durbin-Watson:                   2.013\n",
      "Prob(Omnibus):                  0.000   Jarque-Bera (JB):           536634.166\n",
      "Skew:                           7.061   Prob(JB):                         0.00\n",
      "Kurtosis:                     116.007   Cond. No.                         5.11\n",
      "==============================================================================\n",
      "\n",
      "Notes:\n",
      "[1] Standard Errors assume that the covariance matrix of the errors is correctly specified.\n"
     ]
    }
   ],
   "source": [
    "mod = smf.ols(formula='mean_vote ~ females_allages_avg_vote + males_allages_avg_vote', data=relevant_years_stdz)\n",
    "res = mod.fit()\n",
    "print(res.summary())"
   ]
  },
  {
   "cell_type": "markdown",
   "id": "03ffc1c4",
   "metadata": {},
   "source": [
    "In this case, we see a strong influence of both averages. We would deduce that both averages have significant influence on the total mean of votes for a movie. "
   ]
  },
  {
   "cell_type": "code",
   "execution_count": 62,
   "id": "b7aa72fc",
   "metadata": {},
   "outputs": [
    {
     "data": {
      "text/plain": [
       "(0.9512413209555082, 0.0)"
      ]
     },
     "execution_count": 62,
     "metadata": {},
     "output_type": "execute_result"
    }
   ],
   "source": [
    "pearsonr(relevant_years['females_allages_avg_vote'], relevant_years['mean_vote'])"
   ]
  },
  {
   "cell_type": "code",
   "execution_count": 63,
   "id": "0c4e39ea",
   "metadata": {},
   "outputs": [
    {
     "data": {
      "text/plain": [
       "(0.9559658322414973, 0.0)"
      ]
     },
     "execution_count": 63,
     "metadata": {},
     "output_type": "execute_result"
    }
   ],
   "source": [
    "pearsonr(relevant_years['males_allages_avg_vote'], relevant_years['mean_vote'])"
   ]
  },
  {
   "cell_type": "code",
   "execution_count": 64,
   "id": "f3c7a190",
   "metadata": {},
   "outputs": [
    {
     "data": {
      "image/png": "[encoded data removed]",
      "text/plain": [
       "<Figure size 432x288 with 1 Axes>"
      ]
     },
     "metadata": {
      "needs_background": "light"
     },
     "output_type": "display_data"
    }
   ],
   "source": [
    "ax = sns.scatterplot(x='mean_vote', y='worldwide_gross_income', data=relevant_years)\n",
    "ax.set(yscale='log');"
   ]
  },
  {
   "cell_type": "markdown",
   "id": "eab07e82",
   "metadata": {},
   "source": [
    "From this plot, we see no direct correlation between the mean vote of a movie and its success in terms of income (a shame...). We would therefore argue that the income of a movie is also independent of the average vote by male and female reviewers. For completeness, we also add the two plots with male and female average votes, underlying our hypothesis:"
   ]
  },
  {
   "cell_type": "code",
   "execution_count": 65,
   "id": "bd844237",
   "metadata": {},
   "outputs": [
    {
     "data": {
      "image/png": "[encoded data removed]",
      "text/plain": [
       "<Figure size 432x288 with 1 Axes>"
      ]
     },
     "metadata": {
      "needs_background": "light"
     },
     "output_type": "display_data"
    }
   ],
   "source": [
    "ax = sns.scatterplot(x='males_allages_avg_vote', y='worldwide_gross_income', data=relevant_years)\n",
    "ax.set(yscale='log');"
   ]
  },
  {
   "cell_type": "code",
   "execution_count": 66,
   "id": "0320cf73",
   "metadata": {},
   "outputs": [
    {
     "data": {
      "image/png": "[encoded data removed]",
      "text/plain": [
       "<Figure size 432x288 with 1 Axes>"
      ]
     },
     "metadata": {
      "needs_background": "light"
     },
     "output_type": "display_data"
    }
   ],
   "source": [
    "ax = sns.scatterplot(x='females_allages_avg_vote', y='worldwide_gross_income', data=relevant_years)\n",
    "ax.set(yscale='log');"
   ]
  },
  {
   "cell_type": "markdown",
   "id": "780e2525",
   "metadata": {},
   "source": [
    "## Average vote by men?\n",
    "\n",
    "Let's see if the trend from the quotebank data is agreed on here: That men are on average giving lower scores than women. The distribution of average votes on movies by men or women might indicate so. "
   ]
  },
  {
   "cell_type": "markdown",
   "id": "9d925e86",
   "metadata": {},
   "source": [
    "Let us be very clear with the hypothesis to check here: We want to check whether the mean rating score on a movie is significantlly different between female and male voters. "
   ]
  },
  {
   "cell_type": "code",
   "execution_count": 67,
   "id": "57c0b43d",
   "metadata": {},
   "outputs": [
    {
     "data": {
      "text/plain": [
       "5.817172176019604"
      ]
     },
     "execution_count": 67,
     "metadata": {},
     "output_type": "execute_result"
    }
   ],
   "source": [
    "ratings['males_allages_avg_vote'].mean()"
   ]
  },
  {
   "cell_type": "code",
   "execution_count": 68,
   "id": "ba7d0631",
   "metadata": {},
   "outputs": [
    {
     "data": {
      "text/plain": [
       "6.0394082122788"
      ]
     },
     "execution_count": 68,
     "metadata": {},
     "output_type": "execute_result"
    }
   ],
   "source": [
    "ratings['females_allages_avg_vote'].mean()"
   ]
  },
  {
   "cell_type": "code",
   "execution_count": 69,
   "id": "604af376",
   "metadata": {},
   "outputs": [
    {
     "data": {
      "text/plain": [
       "<AxesSubplot:ylabel='Frequency'>"
      ]
     },
     "execution_count": 69,
     "metadata": {},
     "output_type": "execute_result"
    },
    {
     "data": {
      "image/png": "[encoded data removed]",
      "text/plain": [
       "<Figure size 432x288 with 1 Axes>"
      ]
     },
     "metadata": {
      "needs_background": "light"
     },
     "output_type": "display_data"
    }
   ],
   "source": [
    "ratings['males_allages_avg_vote'].plot.hist()"
   ]
  },
  {
   "cell_type": "code",
   "execution_count": 70,
   "id": "b2c83c77",
   "metadata": {},
   "outputs": [
    {
     "data": {
      "text/plain": [
       "<AxesSubplot:ylabel='Frequency'>"
      ]
     },
     "execution_count": 70,
     "metadata": {},
     "output_type": "execute_result"
    },
    {
     "data": {
      "image/png": "[encoded data removed]",
      "text/plain": [
       "<Figure size 432x288 with 1 Axes>"
      ]
     },
     "metadata": {
      "needs_background": "light"
     },
     "output_type": "display_data"
    }
   ],
   "source": [
    "ratings['females_allages_avg_vote'].plot.hist()"
   ]
  },
  {
   "cell_type": "code",
   "execution_count": 71,
   "id": "4c112497",
   "metadata": {},
   "outputs": [
    {
     "data": {
      "text/plain": [
       "6.355991943605238"
      ]
     },
     "execution_count": 71,
     "metadata": {},
     "output_type": "execute_result"
    },
    {
     "data": {
      "image/png": "[encoded data removed]",
      "text/plain": [
       "<Figure size 432x288 with 1 Axes>"
      ]
     },
     "metadata": {
      "needs_background": "light"
     },
     "output_type": "display_data"
    }
   ],
   "source": [
    "sns.histplot(data=relevant_years, x='males_allages_avg_vote')\n",
    "plt.axvline(x=relevant_years['males_allages_avg_vote'].mean(),\n",
    "            color='red')\n",
    "relevant_years['males_allages_avg_vote'].mean()"
   ]
  },
  {
   "cell_type": "code",
   "execution_count": 72,
   "id": "81247d22",
   "metadata": {},
   "outputs": [
    {
     "data": {
      "text/plain": [
       "6.598791540785492"
      ]
     },
     "execution_count": 72,
     "metadata": {},
     "output_type": "execute_result"
    },
    {
     "data": {
      "image/png": "[encoded data removed]",
      "text/plain": [
       "<Figure size 432x288 with 1 Axes>"
      ]
     },
     "metadata": {
      "needs_background": "light"
     },
     "output_type": "display_data"
    }
   ],
   "source": [
    "sns.histplot(data=relevant_years, x='females_allages_avg_vote')\n",
    "plt.axvline(x=relevant_years['females_allages_avg_vote'].mean(),\n",
    "            color='red')\n",
    "relevant_years['females_allages_avg_vote'].mean()"
   ]
  },
  {
   "cell_type": "markdown",
   "id": "c0d1199f",
   "metadata": {},
   "source": [
    "Set equal_var to False to not assume that both distributions have an equal variance."
   ]
  },
  {
   "cell_type": "code",
   "execution_count": 73,
   "id": "51056f25",
   "metadata": {},
   "outputs": [
    {
     "data": {
      "text/plain": [
       "Ttest_indResult(statistic=-6.004186697377894, pvalue=2.282261102655337e-09)"
      ]
     },
     "execution_count": 73,
     "metadata": {},
     "output_type": "execute_result"
    }
   ],
   "source": [
    "ttest_ind(relevant_years['males_allages_avg_vote'], relevant_years['females_allages_avg_vote'], equal_var=False)"
   ]
  },
  {
   "cell_type": "markdown",
   "id": "03dc1ec4",
   "metadata": {},
   "source": [
    "Our test shows us that with high probability, we can reject the null hypothesis that the avg votes of male and female voters per movie are on expectation the same. Hence, we conclude that they the average vote per movie by men is on average lower than by women. N.b. that this does not say anything about single votes, just about this summary statistic of groups of votes. "
   ]
  },
  {
   "cell_type": "markdown",
   "id": "5e1d45f4",
   "metadata": {},
   "source": [
    "## Young vs old generation? Which generation influences movie success the most?\n",
    "\n",
    "As last, we assess if there are age groups that have more influence on the topic than others. We first check the influence of these on the total mean per movie by fitting linear regression and checking the coefficients.\n",
    "We see that among all voters, people between 18 and 30 (allgenders_18age_votes) and people between 30 and 45 (allgenders_30age_votes) make up for the majority of voters in total. Also, as seen from all histograms over all movies, we can see that for a big number of movies, the groups of 18-30 or 30-45 years old are the majority of voters."
   ]
  },
  {
   "cell_type": "code",
   "execution_count": 74,
   "id": "d5ce7070",
   "metadata": {},
   "outputs": [],
   "source": [
    "relevant_years = relevant_years.dropna(subset=['allgenders_0age_votes','allgenders_18age_votes','allgenders_30age_votes','allgenders_45age_votes'])"
   ]
  },
  {
   "cell_type": "code",
   "execution_count": 75,
   "id": "2f0f3004",
   "metadata": {},
   "outputs": [
    {
     "name": "stdout",
     "output_type": "stream",
     "text": [
      "allgenders_0age_votes: 128347.0\n",
      "allgenders_18age_votes: 20265886.0\n",
      "allgenders_30age_votes: 31377048.0\n",
      "allgenders_45age_votes: 8367419.0\n"
     ]
    }
   ],
   "source": [
    "for col_name in ['allgenders_0age_votes','allgenders_18age_votes','allgenders_30age_votes','allgenders_45age_votes']:\n",
    "    print('{}: {}'.format(col_name, sum(relevant_years[col_name])))"
   ]
  },
  {
   "cell_type": "code",
   "execution_count": 76,
   "id": "3b472f37",
   "metadata": {},
   "outputs": [
    {
     "data": {
      "image/png": "[encoded data removed]",
      "text/plain": [
       "<Figure size 432x288 with 1 Axes>"
      ]
     },
     "metadata": {
      "needs_background": "light"
     },
     "output_type": "display_data"
    }
   ],
   "source": [
    "col_names = ['allgenders_0age_votes','allgenders_18age_votes','allgenders_30age_votes','allgenders_45age_votes']\n",
    "plt.hist([relevant_years[col_name] for col_name in col_names], color=['r','b', 'g', 'y'], log=True, label=col_names)\n",
    "plt.legend()\n",
    "plt.ylabel('count')\n",
    "plt.xlabel('no. of votes per agegroup for the resp. movie');"
   ]
  },
  {
   "cell_type": "code",
   "execution_count": 77,
   "id": "a3756e29",
   "metadata": {},
   "outputs": [
    {
     "name": "stdout",
     "output_type": "stream",
     "text": [
      "                            OLS Regression Results                            \n",
      "==============================================================================\n",
      "Dep. Variable:              mean_vote   R-squared:                       0.938\n",
      "Model:                            OLS   Adj. R-squared:                  0.938\n",
      "Method:                 Least Squares   F-statistic:                     3641.\n",
      "Date:                Fri, 17 Dec 2021   Prob (F-statistic):               0.00\n",
      "Time:                        01:16:51   Log-Likelihood:                -23.888\n",
      "No. Observations:                 969   AIC:                             57.78\n",
      "Df Residuals:                     964   BIC:                             82.16\n",
      "Df Model:                           4                                         \n",
      "Covariance Type:            nonrobust                                         \n",
      "=============================================================================================\n",
      "                                coef    std err          t      P>|t|      [0.025      0.975]\n",
      "---------------------------------------------------------------------------------------------\n",
      "Intercept                    -0.0026      0.008     -0.322      0.747      -0.018       0.013\n",
      "allgenders_0age_avg_vote      0.0276      0.014      2.026      0.043       0.001       0.054\n",
      "allgenders_18age_avg_vote     0.5262      0.048     11.036      0.000       0.433       0.620\n",
      "allgenders_30age_avg_vote     0.0866      0.066      1.321      0.187      -0.042       0.215\n",
      "allgenders_45age_avg_vote     0.3469      0.034     10.131      0.000       0.280       0.414\n",
      "==============================================================================\n",
      "Omnibus:                     1252.629   Durbin-Watson:                   1.960\n",
      "Prob(Omnibus):                  0.000   Jarque-Bera (JB):           345594.145\n",
      "Skew:                           6.506   Prob(JB):                         0.00\n",
      "Kurtosis:                      94.598   Cond. No.                         19.4\n",
      "==============================================================================\n",
      "\n",
      "Notes:\n",
      "[1] Standard Errors assume that the covariance matrix of the errors is correctly specified.\n"
     ]
    }
   ],
   "source": [
    "mod = smf.ols(formula='mean_vote ~ allgenders_0age_avg_vote + allgenders_18age_avg_vote + allgenders_30age_avg_vote + allgenders_45age_avg_vote', data=relevant_years_stdz)\n",
    "res = mod.fit()\n",
    "print(res.summary())"
   ]
  },
  {
   "cell_type": "markdown",
   "id": "92128a3d",
   "metadata": {},
   "source": [
    "However, when taking a look at the linear regression model to predict the total mean of votes from the mean in each agegroup, it turns out that only 18-30 years old and 45 and older have a significant influence on the mean of all votes. While we would expect such a result for the (highly underrepresented, only 40k Votes in total) group of < 18 years old, we are very surprised that the group of 30-45 years old has no significant influence on the overall rating of the movie. "
   ]
  },
  {
   "cell_type": "code",
   "execution_count": 78,
   "id": "3e6d9098",
   "metadata": {},
   "outputs": [
    {
     "data": {
      "text/plain": [
       "<AxesSubplot:xlabel='allgenders_30age_avg_vote', ylabel='mean_vote'>"
      ]
     },
     "execution_count": 78,
     "metadata": {},
     "output_type": "execute_result"
    },
    {
     "data": {
      "image/png": "[encoded data removed]",
      "text/plain": [
       "<Figure size 432x288 with 1 Axes>"
      ]
     },
     "metadata": {
      "needs_background": "light"
     },
     "output_type": "display_data"
    }
   ],
   "source": [
    "sns.scatterplot(x='allgenders_30age_avg_vote', y='mean_vote', data=relevant_years)"
   ]
  },
  {
   "cell_type": "code",
   "execution_count": 79,
   "id": "cad9e525",
   "metadata": {},
   "outputs": [
    {
     "data": {
      "text/plain": [
       "<AxesSubplot:xlabel='allgenders_0age_avg_vote', ylabel='mean_vote'>"
      ]
     },
     "execution_count": 79,
     "metadata": {},
     "output_type": "execute_result"
    },
    {
     "data": {
      "image/png": "[encoded data removed]",
      "text/plain": [
       "<Figure size 432x288 with 1 Axes>"
      ]
     },
     "metadata": {
      "needs_background": "light"
     },
     "output_type": "display_data"
    }
   ],
   "source": [
    "sns.scatterplot(x='allgenders_0age_avg_vote', y='mean_vote', data=relevant_years)"
   ]
  },
  {
   "cell_type": "code",
   "execution_count": 80,
   "id": "af953b88",
   "metadata": {},
   "outputs": [
    {
     "data": {
      "text/plain": [
       "(0.9622909030010768, 0.0)"
      ]
     },
     "execution_count": 80,
     "metadata": {},
     "output_type": "execute_result"
    }
   ],
   "source": [
    "pearsonr(relevant_years['allgenders_30age_avg_vote'], relevant_years['mean_vote'])"
   ]
  },
  {
   "cell_type": "code",
   "execution_count": 81,
   "id": "1b95de21",
   "metadata": {},
   "outputs": [
    {
     "data": {
      "text/plain": [
       "(0.7848627334906555, 3.411836972143402e-203)"
      ]
     },
     "execution_count": 81,
     "metadata": {},
     "output_type": "execute_result"
    }
   ],
   "source": [
    "pearsonr(relevant_years['allgenders_0age_avg_vote'].fillna(0), relevant_years['mean_vote'])"
   ]
  },
  {
   "cell_type": "markdown",
   "id": "68291b1b",
   "metadata": {},
   "source": [
    "For these two groups, we further investigate their influence on the mean. For both, we get high values of pearson r, with a nearly 1 value for the group between 30 and 45. We might deduce the following: The group of 30-45 seems to be closely following the average vote, being about on the same level. However, high average means are only achieved when either 18-30 or 45+ ages vote good on movies, at least on average for single movies. "
   ]
  }
 ],
 "metadata": {
  "kernelspec": {
   "display_name": "Python 3 (ipykernel)",
   "language": "python",
   "name": "python3"
  },
  "language_info": {
   "codemirror_mode": {
    "name": "ipython",
    "version": 3
   },
   "file_extension": ".py",
   "mimetype": "text/x-python",
   "name": "python",
   "nbconvert_exporter": "python",
   "pygments_lexer": "ipython3",
   "version": "3.8.11"
  }
 },
 "nbformat": 4,
 "nbformat_minor": 5
}
