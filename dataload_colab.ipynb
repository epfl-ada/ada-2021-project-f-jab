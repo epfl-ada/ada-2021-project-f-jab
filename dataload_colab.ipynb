{
  "nbformat": 4,
  "nbformat_minor": 0,
  "metadata": {
    "colab": {
      "name": "dataLoad.ipynb",
      "provenance": [],
      "collapsed_sections": []
    },
    "kernelspec": {
      "name": "python3",
      "display_name": "Python 3"
    },
    "language_info": {
      "name": "python"
    }
  },
  "cells": [
    {
      "cell_type": "code",
      "metadata": {
        "id": "bnCx1gpr2-B9"
      },
      "source": [
        "from google.colab import drive\n",
        "drive.mount('/content/drive')"
      ],
      "execution_count": null,
      "outputs": []
    },
    {
      "cell_type": "code",
      "metadata": {
        "id": "1PZCrrEa4Vgs"
      },
      "source": [
        "def useless_filter(instance):\n",
        "  return True"
      ],
      "execution_count": null,
      "outputs": []
    },
    {
      "cell_type": "code",
      "metadata": {
        "id": "q2Q85JGu4KoD"
      },
      "source": [
        "import bz2\n",
        "import json\n",
        "import pandas as pd\n",
        "from tqdm import tqdm\n",
        "\n",
        "path_to_file = '/content/drive/MyDrive/Quotebank/quotes-2020.json.bz2' \n",
        "\n",
        "dict_df = {}\n",
        "with bz2.open(path_to_file, 'rb') as s_file:\n",
        "  with bz2.open(path_to_file, 'rb') as d_file:\n",
        "    i = 0\n",
        "    for instance in tqdm(s_file):\n",
        "      instance = json.loads(instance)  # loading line-by-line from json file\n",
        "      satisfy_filtering = useless_filter(instance)   # condition from filtering\n",
        "\n",
        "\n",
        "      # Writing to new file if filter is satisfied\n",
        "      if satisfy_filtering:\n",
        "        d_file.write((json.dumps(instance)+'\\n').encode('utf-8')) # writing in the new file\n",
        "\n"
      ],
      "execution_count": null,
      "outputs": []
    },
    {
      "cell_type": "code",
      "metadata": {
        "id": "TuxHhtDA4Kum"
      },
      "source": [
        ""
      ],
      "execution_count": null,
      "outputs": []
    }
  ]
}