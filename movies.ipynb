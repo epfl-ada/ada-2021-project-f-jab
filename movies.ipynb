{
 "cells": [
  {
   "cell_type": "code",
   "execution_count": 1,
   "source": [
    "import pandas as pd\n",
    "import matplotlib.pyplot as plt\n",
    "import seaborn as sns\n",
    "import numpy as np"
   ],
   "outputs": [],
   "metadata": {}
  },
  {
   "cell_type": "code",
   "execution_count": 2,
   "source": [
    "#Reading the IMDb data with pandas\n",
    "df = pd.read_csv('./data/IMDb_movies.csv')"
   ],
   "outputs": [
    {
     "output_type": "stream",
     "name": "stderr",
     "text": [
      "/home/ubuntu/.local/lib/python3.8/site-packages/IPython/core/interactiveshell.py:3441: DtypeWarning: Columns (3) have mixed types.Specify dtype option on import or set low_memory=False.\n",
      "  exec(code_obj, self.user_global_ns, self.user_ns)\n"
     ]
    }
   ],
   "metadata": {}
  },
  {
   "cell_type": "markdown",
   "source": [
    "Cleaning the IMDb data. First we fix some typo in the **'worldwide_gross_income'** column, transform the **'year'** attribute into integers, filter the data in the desired range, transform all attributes representing money to integers and remove the currencies (**'budget'**, **'worldwide_gross_income'** nad **'usa_gross_income'**). Finally we deal with tha dates, by changing the strings to datetime objects."
   ],
   "metadata": {}
  },
  {
   "cell_type": "code",
   "execution_count": 74,
   "source": [
    "def clean_imdb(df):\n",
    "    imdb = df.rename(columns = {'worlwide_gross_income':'worldwide_gross_income'})\n",
    "    imdb = imdb.drop(imdb.index[83917])\n",
    "    imdb['year'] = imdb['year'].astype(int)\n",
    "    imdb = imdb[imdb['year']>2014]\n",
    "    imdb = imdb.dropna()\n",
    "    imdb['budget'] = imdb['budget'].map(lambda x: x.lstrip('$EURCZKNYGBPWILSADMXNJPYOP')).astype(int)\n",
    "    imdb['worldwide_gross_income'] = imdb['worldwide_gross_income'].map(lambda x: x.lstrip('$EURCZKNYGBPWILSADMXNJPYOP')).astype(int)\n",
    "    imdb['usa_gross_income'] = imdb['usa_gross_income'].map(lambda x: x.lstrip('$EURCZKNYGBPWILSADMXNJPYOP')).astype(int)\n",
    "    imdb['date_published'] = pd.to_datetime(imdb['date_published'])\n",
    "    return imdb\n",
    "\n",
    "imdb = clean_imdb(df)"
   ],
   "outputs": [],
   "metadata": {}
  },
  {
   "cell_type": "markdown",
   "source": [
    "We decided to work with the ten most successful movies in terms of usa gross income from 2015 to 2020"
   ],
   "metadata": {}
  },
  {
   "cell_type": "code",
   "execution_count": 75,
   "source": [
    "movies = imdb.sort_values(['usa_gross_income'], ascending=False).groupby('year').head(10)\n",
    "movies.shape"
   ],
   "outputs": [
    {
     "output_type": "execute_result",
     "data": {
      "text/plain": [
       "(60, 22)"
      ]
     },
     "metadata": {},
     "execution_count": 75
    }
   ],
   "metadata": {}
  },
  {
   "cell_type": "code",
   "execution_count": 5,
   "source": [
    "movies.columns"
   ],
   "outputs": [
    {
     "output_type": "execute_result",
     "data": {
      "text/plain": [
       "Index(['imdb_title_id', 'title', 'original_title', 'year', 'date_published',\n",
       "       'genre', 'duration', 'country', 'language', 'director', 'writer',\n",
       "       'production_company', 'actors', 'description', 'avg_vote', 'votes',\n",
       "       'budget', 'usa_gross_income', 'worldwide_gross_income', 'metascore',\n",
       "       'reviews_from_users', 'reviews_from_critics'],\n",
       "      dtype='object')"
      ]
     },
     "metadata": {},
     "execution_count": 5
    }
   ],
   "metadata": {}
  },
  {
   "cell_type": "code",
   "execution_count": 6,
   "source": [
    "movies.describe()"
   ],
   "outputs": [
    {
     "output_type": "execute_result",
     "data": {
      "text/html": [
       "<div>\n",
       "<style scoped>\n",
       "    .dataframe tbody tr th:only-of-type {\n",
       "        vertical-align: middle;\n",
       "    }\n",
       "\n",
       "    .dataframe tbody tr th {\n",
       "        vertical-align: top;\n",
       "    }\n",
       "\n",
       "    .dataframe thead th {\n",
       "        text-align: right;\n",
       "    }\n",
       "</style>\n",
       "<table border=\"1\" class=\"dataframe\">\n",
       "  <thead>\n",
       "    <tr style=\"text-align: right;\">\n",
       "      <th></th>\n",
       "      <th>year</th>\n",
       "      <th>duration</th>\n",
       "      <th>avg_vote</th>\n",
       "      <th>votes</th>\n",
       "      <th>budget</th>\n",
       "      <th>usa_gross_income</th>\n",
       "      <th>worldwide_gross_income</th>\n",
       "      <th>metascore</th>\n",
       "      <th>reviews_from_users</th>\n",
       "      <th>reviews_from_critics</th>\n",
       "    </tr>\n",
       "  </thead>\n",
       "  <tbody>\n",
       "    <tr>\n",
       "      <th>count</th>\n",
       "      <td>60.000000</td>\n",
       "      <td>60.000000</td>\n",
       "      <td>60.000000</td>\n",
       "      <td>60.000000</td>\n",
       "      <td>6.000000e+01</td>\n",
       "      <td>6.000000e+01</td>\n",
       "      <td>6.000000e+01</td>\n",
       "      <td>60.000000</td>\n",
       "      <td>60.000000</td>\n",
       "      <td>60.000000</td>\n",
       "    </tr>\n",
       "    <tr>\n",
       "      <th>mean</th>\n",
       "      <td>2017.500000</td>\n",
       "      <td>121.950000</td>\n",
       "      <td>7.023333</td>\n",
       "      <td>357702.116667</td>\n",
       "      <td>1.537917e+08</td>\n",
       "      <td>3.494225e+08</td>\n",
       "      <td>9.245040e+08</td>\n",
       "      <td>63.000000</td>\n",
       "      <td>2021.400000</td>\n",
       "      <td>461.983333</td>\n",
       "    </tr>\n",
       "    <tr>\n",
       "      <th>std</th>\n",
       "      <td>1.722237</td>\n",
       "      <td>19.915436</td>\n",
       "      <td>0.828797</td>\n",
       "      <td>241041.596783</td>\n",
       "      <td>8.179124e+07</td>\n",
       "      <td>1.942177e+08</td>\n",
       "      <td>5.219527e+08</td>\n",
       "      <td>14.397504</td>\n",
       "      <td>2165.603616</td>\n",
       "      <td>187.490700</td>\n",
       "    </tr>\n",
       "    <tr>\n",
       "      <th>min</th>\n",
       "      <td>2015.000000</td>\n",
       "      <td>85.000000</td>\n",
       "      <td>4.200000</td>\n",
       "      <td>2646.000000</td>\n",
       "      <td>7.000000e+06</td>\n",
       "      <td>1.729108e+07</td>\n",
       "      <td>2.069078e+07</td>\n",
       "      <td>22.000000</td>\n",
       "      <td>80.000000</td>\n",
       "      <td>63.000000</td>\n",
       "    </tr>\n",
       "    <tr>\n",
       "      <th>25%</th>\n",
       "      <td>2016.000000</td>\n",
       "      <td>106.000000</td>\n",
       "      <td>6.500000</td>\n",
       "      <td>165434.750000</td>\n",
       "      <td>8.487500e+07</td>\n",
       "      <td>2.263650e+08</td>\n",
       "      <td>6.522968e+08</td>\n",
       "      <td>54.500000</td>\n",
       "      <td>736.500000</td>\n",
       "      <td>332.750000</td>\n",
       "    </tr>\n",
       "    <tr>\n",
       "      <th>50%</th>\n",
       "      <td>2017.500000</td>\n",
       "      <td>123.000000</td>\n",
       "      <td>7.050000</td>\n",
       "      <td>306714.500000</td>\n",
       "      <td>1.600000e+08</td>\n",
       "      <td>3.357485e+08</td>\n",
       "      <td>8.804208e+08</td>\n",
       "      <td>64.500000</td>\n",
       "      <td>1307.500000</td>\n",
       "      <td>457.500000</td>\n",
       "    </tr>\n",
       "    <tr>\n",
       "      <th>75%</th>\n",
       "      <td>2019.000000</td>\n",
       "      <td>136.250000</td>\n",
       "      <td>7.625000</td>\n",
       "      <td>548393.250000</td>\n",
       "      <td>2.000000e+08</td>\n",
       "      <td>4.286319e+08</td>\n",
       "      <td>1.149697e+09</td>\n",
       "      <td>73.250000</td>\n",
       "      <td>2205.500000</td>\n",
       "      <td>615.250000</td>\n",
       "    </tr>\n",
       "    <tr>\n",
       "      <th>max</th>\n",
       "      <td>2020.000000</td>\n",
       "      <td>181.000000</td>\n",
       "      <td>8.500000</td>\n",
       "      <td>882037.000000</td>\n",
       "      <td>3.560000e+08</td>\n",
       "      <td>9.366622e+08</td>\n",
       "      <td>2.797801e+09</td>\n",
       "      <td>94.000000</td>\n",
       "      <td>10472.000000</td>\n",
       "      <td>909.000000</td>\n",
       "    </tr>\n",
       "  </tbody>\n",
       "</table>\n",
       "</div>"
      ],
      "text/plain": [
       "              year    duration   avg_vote          votes        budget  \\\n",
       "count    60.000000   60.000000  60.000000      60.000000  6.000000e+01   \n",
       "mean   2017.500000  121.950000   7.023333  357702.116667  1.537917e+08   \n",
       "std       1.722237   19.915436   0.828797  241041.596783  8.179124e+07   \n",
       "min    2015.000000   85.000000   4.200000    2646.000000  7.000000e+06   \n",
       "25%    2016.000000  106.000000   6.500000  165434.750000  8.487500e+07   \n",
       "50%    2017.500000  123.000000   7.050000  306714.500000  1.600000e+08   \n",
       "75%    2019.000000  136.250000   7.625000  548393.250000  2.000000e+08   \n",
       "max    2020.000000  181.000000   8.500000  882037.000000  3.560000e+08   \n",
       "\n",
       "       usa_gross_income  worldwide_gross_income  metascore  \\\n",
       "count      6.000000e+01            6.000000e+01  60.000000   \n",
       "mean       3.494225e+08            9.245040e+08  63.000000   \n",
       "std        1.942177e+08            5.219527e+08  14.397504   \n",
       "min        1.729108e+07            2.069078e+07  22.000000   \n",
       "25%        2.263650e+08            6.522968e+08  54.500000   \n",
       "50%        3.357485e+08            8.804208e+08  64.500000   \n",
       "75%        4.286319e+08            1.149697e+09  73.250000   \n",
       "max        9.366622e+08            2.797801e+09  94.000000   \n",
       "\n",
       "       reviews_from_users  reviews_from_critics  \n",
       "count           60.000000             60.000000  \n",
       "mean          2021.400000            461.983333  \n",
       "std           2165.603616            187.490700  \n",
       "min             80.000000             63.000000  \n",
       "25%            736.500000            332.750000  \n",
       "50%           1307.500000            457.500000  \n",
       "75%           2205.500000            615.250000  \n",
       "max          10472.000000            909.000000  "
      ]
     },
     "metadata": {},
     "execution_count": 6
    }
   ],
   "metadata": {}
  },
  {
   "cell_type": "markdown",
   "source": [
    "let's check the genres of the selected movies"
   ],
   "metadata": {}
  },
  {
   "cell_type": "code",
   "execution_count": 7,
   "source": [
    "from collections import Counter\n",
    "genres = [genres.split() for genres in movies['genre'].tolist()]\n",
    "labels, values = zip(*Counter([genre.replace(',', '') for genre_list in genres for genre in genre_list]).items())\n",
    "plt.figure(figsize = (10,6))\n",
    "plt.title('Genres')\n",
    "plt.xticks(rotation=90)\n",
    "plt.bar(labels, values)"
   ],
   "outputs": [
    {
     "output_type": "execute_result",
     "data": {
      "text/plain": [
       "<BarContainer object of 16 artists>"
      ]
     },
     "metadata": {},
     "execution_count": 7
    },
    {
     "output_type": "display_data",
     "data": {
      "image/png": "[encoded data removed]",
      "text/plain": [
       "<Figure size 720x432 with 1 Axes>"
      ]
     },
     "metadata": {
      "needs_background": "light"
     }
    }
   ],
   "metadata": {}
  },
  {
   "cell_type": "markdown",
   "source": [
    "Now let's visualize the IMDb ratings as well, we scatter the critics' ratings (metascore) against the users' raatings (avg_vote)"
   ],
   "metadata": {}
  },
  {
   "cell_type": "code",
   "execution_count": 8,
   "source": [
    "plt.figure(figsize = (10,10))\n",
    "plt.title('Ratings')\n",
    "sns.scatterplot(data=movies, x=\"avg_vote\", y=\"metascore\", hue='year', palette='tab10', s=100)"
   ],
   "outputs": [
    {
     "output_type": "execute_result",
     "data": {
      "text/plain": [
       "<AxesSubplot:title={'center':'Ratings'}, xlabel='avg_vote', ylabel='metascore'>"
      ]
     },
     "metadata": {},
     "execution_count": 8
    },
    {
     "output_type": "display_data",
     "data": {
      "image/png": "[encoded data removed]",
      "text/plain": [
       "<Figure size 720x720 with 1 Axes>"
      ]
     },
     "metadata": {
      "needs_background": "light"
     }
    }
   ],
   "metadata": {}
  },
  {
   "cell_type": "markdown",
   "source": [
    "We could also scatter the budget against the box office, it looks like in 2020 producers spent less money on movies and also less people went to the cinama. This has something to do with COVID-19, looks like we have a confounder. So we should keep this in mind in our project later!"
   ],
   "metadata": {}
  },
  {
   "cell_type": "code",
   "execution_count": 9,
   "source": [
    "plt.figure(figsize = (10,10))\n",
    "plt.title('Ratings')\n",
    "sns.scatterplot(data=movies, x='budget', y='usa_gross_income', hue='year', palette='tab10', s=100)"
   ],
   "outputs": [
    {
     "output_type": "execute_result",
     "data": {
      "text/plain": [
       "<AxesSubplot:title={'center':'Ratings'}, xlabel='budget', ylabel='usa_gross_income'>"
      ]
     },
     "metadata": {},
     "execution_count": 9
    },
    {
     "output_type": "display_data",
     "data": {
      "image/png": "[encoded data removed]",
      "text/plain": [
       "<Figure size 720x720 with 1 Axes>"
      ]
     },
     "metadata": {
      "needs_background": "light"
     }
    }
   ],
   "metadata": {}
  },
  {
   "cell_type": "markdown",
   "source": [
    "Now we take a look at the distribution of the votes and total incomes, we denote the median with red dotted line"
   ],
   "metadata": {}
  },
  {
   "cell_type": "code",
   "execution_count": 10,
   "source": [
    "mean = movies['avg_vote'].median()\n",
    "std = movies['avg_vote'].std()\n",
    "print(f'       mean        of movie rating: {\"{:.2f}\".format(mean)}')\n",
    "print(f'standard deviation of movie rating: {\"{:.2f}\".format(std)}')"
   ],
   "outputs": [
    {
     "output_type": "stream",
     "name": "stdout",
     "text": [
      "       mean        of movie rating: 7.05\n",
      "standard deviation of movie rating: 0.83\n"
     ]
    }
   ],
   "metadata": {}
  },
  {
   "cell_type": "code",
   "execution_count": 11,
   "source": [
    "plt.figure(figsize = (10,6))\n",
    "plt.title('IMDb rating')\n",
    "plt.axvline(mean, color='r', linestyle='dashed', linewidth=2)\n",
    "sns.histplot(data = movies['avg_vote'], bins=30)"
   ],
   "outputs": [
    {
     "output_type": "execute_result",
     "data": {
      "text/plain": [
       "<AxesSubplot:title={'center':'IMDb rating'}, xlabel='avg_vote', ylabel='Count'>"
      ]
     },
     "metadata": {},
     "execution_count": 11
    },
    {
     "output_type": "display_data",
     "data": {
      "image/png": "[encoded data removed]",
      "text/plain": [
       "<Figure size 720x432 with 1 Axes>"
      ]
     },
     "metadata": {
      "needs_background": "light"
     }
    }
   ],
   "metadata": {}
  },
  {
   "cell_type": "code",
   "execution_count": 12,
   "source": [
    "median = movies['usa_gross_income'].median()\n",
    "std = movies['usa_gross_income'].std()\n",
    "print(f'      median       of usa gross income: $ {\"{:.2f}\".format(median)}')\n",
    "print(f'standard deviation of usa gross income: $ {\"{:.2f}\".format(std)}')"
   ],
   "outputs": [
    {
     "output_type": "stream",
     "name": "stdout",
     "text": [
      "      median       of usa gross income: $ 335748540.50\n",
      "standard deviation of usa gross income: $ 194217686.55\n"
     ]
    }
   ],
   "metadata": {}
  },
  {
   "cell_type": "code",
   "execution_count": 15,
   "source": [
    "plt.figure(figsize = (10,6))\n",
    "plt.title('Box office log scale')\n",
    "plt.axvline(movies['usa_gross_income'].median(), color='r', linestyle='dashed', linewidth=2)\n",
    "sns.histplot(data = movies['usa_gross_income'], bins=30)"
   ],
   "outputs": [
    {
     "output_type": "execute_result",
     "data": {
      "text/plain": [
       "<AxesSubplot:title={'center':'Box office log scale'}, xlabel='usa_gross_income', ylabel='Count'>"
      ]
     },
     "metadata": {},
     "execution_count": 15
    },
    {
     "output_type": "display_data",
     "data": {
      "image/png": "[encoded data removed]",
      "text/plain": [
       "<Figure size 720x432 with 1 Axes>"
      ]
     },
     "metadata": {
      "needs_background": "light"
     }
    }
   ],
   "metadata": {}
  },
  {
   "cell_type": "markdown",
   "source": [
    "Now we filter the Quotebank data based and look for quotes on the above mentioned movies. We search for the title of the movie in the **'quotation'** field of the Quotebank data. "
   ],
   "metadata": {}
  },
  {
   "cell_type": "code",
   "execution_count": 17,
   "source": [
    "#TODO: here we shoul include the data processing code snippet"
   ],
   "outputs": [],
   "metadata": {}
  },
  {
   "cell_type": "code",
   "execution_count": 30,
   "source": [
    "quotes_2015 = pd.read_json('./data/Quotebank/quotes-2015-movies.json.bz2', lines=True)\n",
    "quotes_2016 = pd.read_json('./data/Quotebank/quotes-2016-movies.json.bz2', lines=True)\n",
    "quotes_2017 = pd.read_json('./data/Quotebank/quotes-2017-movies.json.bz2', lines=True)\n",
    "quotes_2018 = pd.read_json('./data/Quotebank/quotes-2018-movies.json.bz2', lines=True)\n",
    "quotes_2019 = pd.read_json('./data/Quotebank/quotes-2019-movies.json.bz2', lines=True)\n",
    "quotes_2020 = pd.read_json('./data/Quotebank/quotes-2020-movies.json.bz2', lines=True) "
   ],
   "outputs": [],
   "metadata": {}
  },
  {
   "cell_type": "markdown",
   "source": [
    "We can count the number of quotes found in a movie in the year of release, although it does not tell the full story, let us consider the number of occurances as well"
   ],
   "metadata": {}
  },
  {
   "cell_type": "code",
   "execution_count": 35,
   "source": [
    "quotes_2019.groupby('movie').count()['quotation'].sort_values(ascending=False)"
   ],
   "outputs": [
    {
     "output_type": "execute_result",
     "data": {
      "text/plain": [
       "movie\n",
       "Onward                                                                 261\n",
       "Birds of Prey: And the Fantabulous Emancipation of One Harley Quinn     97\n",
       "Tenet                                                                   70\n",
       "Sonic the Hedgehog                                                      53\n",
       "Dolittle                                                                41\n",
       "The Invisible Man                                                       39\n",
       "Bad Boys for Life                                                       10\n",
       "The Call of the Wild                                                     3\n",
       "Name: quotation, dtype: int64"
      ]
     },
     "metadata": {},
     "execution_count": 35
    }
   ],
   "metadata": {}
  },
  {
   "cell_type": "markdown",
   "source": [
    "One thing we can spot is that frozen only has 71 quotes which seems unreasonably few. We can explain this by looking the release dates of the movies. Frozen was released at the end of November, so the movie did not really have the time to accumulate the quotes. On the other hand, movies like Star Wars or Joker did receive a lot of quotations. A possibility would be to look for quotes on these movies in other years as well."
   ],
   "metadata": {}
  },
  {
   "cell_type": "code",
   "execution_count": 47,
   "source": [
    "quotes_2019"
   ],
   "outputs": [
    {
     "output_type": "execute_result",
     "data": {
      "text/html": [
       "<div>\n",
       "<style scoped>\n",
       "    .dataframe tbody tr th:only-of-type {\n",
       "        vertical-align: middle;\n",
       "    }\n",
       "\n",
       "    .dataframe tbody tr th {\n",
       "        vertical-align: top;\n",
       "    }\n",
       "\n",
       "    .dataframe thead th {\n",
       "        text-align: right;\n",
       "    }\n",
       "</style>\n",
       "<table border=\"1\" class=\"dataframe\">\n",
       "  <thead>\n",
       "    <tr style=\"text-align: right;\">\n",
       "      <th></th>\n",
       "      <th>quoteID</th>\n",
       "      <th>quotation</th>\n",
       "      <th>speaker</th>\n",
       "      <th>qids</th>\n",
       "      <th>date</th>\n",
       "      <th>numOccurrences</th>\n",
       "      <th>probas</th>\n",
       "      <th>urls</th>\n",
       "      <th>phase</th>\n",
       "      <th>movie</th>\n",
       "    </tr>\n",
       "  </thead>\n",
       "  <tbody>\n",
       "    <tr>\n",
       "      <th>0</th>\n",
       "      <td>2019-02-03-035259</td>\n",
       "      <td>Onwards and upwards, we've got to look at it p...</td>\n",
       "      <td>David Drew</td>\n",
       "      <td>[Q15457830, Q5233072, Q56427827, Q728653]</td>\n",
       "      <td>2019-02-03 07:32:34</td>\n",
       "      <td>7</td>\n",
       "      <td>[[David Drew, 0.9465], [None, 0.0495], [Erin B...</td>\n",
       "      <td>[http://www.brisbanetimes.com.au/sport/cricket...</td>\n",
       "      <td>E</td>\n",
       "      <td>Onward</td>\n",
       "    </tr>\n",
       "    <tr>\n",
       "      <th>1</th>\n",
       "      <td>2019-05-24-017082</td>\n",
       "      <td>Dimple Kapadia and Clemence Poesy, the French ...</td>\n",
       "      <td>Dimple Kapadia</td>\n",
       "      <td>[Q158558]</td>\n",
       "      <td>2019-05-24 19:19:22</td>\n",
       "      <td>1</td>\n",
       "      <td>[[Dimple Kapadia, 0.749], [None, 0.1498], [Chr...</td>\n",
       "      <td>[https://www.bollywoodmantra.com/news/dimple-k...</td>\n",
       "      <td>E</td>\n",
       "      <td>Tenet</td>\n",
       "    </tr>\n",
       "    <tr>\n",
       "      <th>2</th>\n",
       "      <td>2019-12-09-045724</td>\n",
       "      <td>It's more of an origin story for the Birds of ...</td>\n",
       "      <td>Margot Robbie</td>\n",
       "      <td>[Q1924847]</td>\n",
       "      <td>2019-12-09 17:00:00</td>\n",
       "      <td>9</td>\n",
       "      <td>[[Margot Robbie, 0.8018], [None, 0.1872], [Ewa...</td>\n",
       "      <td>[https://comicbook.com/dc/2019/12/09/how-birds...</td>\n",
       "      <td>E</td>\n",
       "      <td>Birds of Prey: And the Fantabulous Emancipatio...</td>\n",
       "    </tr>\n",
       "    <tr>\n",
       "      <th>3</th>\n",
       "      <td>2019-09-18-023933</td>\n",
       "      <td>Harley Quinn... and the Birds of Prey.</td>\n",
       "      <td>None</td>\n",
       "      <td>[]</td>\n",
       "      <td>2019-09-18 12:52:00</td>\n",
       "      <td>4</td>\n",
       "      <td>[[None, 0.5105], [Christina Hodson, 0.3948], [...</td>\n",
       "      <td>[https://www.comicbookmovie.com/birds_of_prey/...</td>\n",
       "      <td>E</td>\n",
       "      <td>Birds of Prey: And the Fantabulous Emancipatio...</td>\n",
       "    </tr>\n",
       "    <tr>\n",
       "      <th>4</th>\n",
       "      <td>2019-08-26-013468</td>\n",
       "      <td>Dr. West brings significant healthcare experie...</td>\n",
       "      <td>None</td>\n",
       "      <td>[]</td>\n",
       "      <td>2019-08-26 21:00:22</td>\n",
       "      <td>1</td>\n",
       "      <td>[[None, 0.8808], [Edward A. Kangas, 0.1192]]</td>\n",
       "      <td>[https://healthcare.dmagazine.com/2019/08/26/t...</td>\n",
       "      <td>E</td>\n",
       "      <td>Tenet</td>\n",
       "    </tr>\n",
       "    <tr>\n",
       "      <th>...</th>\n",
       "      <td>...</td>\n",
       "      <td>...</td>\n",
       "      <td>...</td>\n",
       "      <td>...</td>\n",
       "      <td>...</td>\n",
       "      <td>...</td>\n",
       "      <td>...</td>\n",
       "      <td>...</td>\n",
       "      <td>...</td>\n",
       "      <td>...</td>\n",
       "    </tr>\n",
       "    <tr>\n",
       "      <th>569</th>\n",
       "      <td>2019-04-18-049891</td>\n",
       "      <td>There was a Sonic the Hedgehog/Genie frog. Eve...</td>\n",
       "      <td>Will Smith</td>\n",
       "      <td>[Q16981006, Q20727796, Q24678701, Q3568301, Q3...</td>\n",
       "      <td>2019-04-18 22:00:40</td>\n",
       "      <td>1</td>\n",
       "      <td>[[Will Smith, 0.9327], [None, 0.0594], [Aretha...</td>\n",
       "      <td>[https://www.msn.com/en-us/movies/news/aladdin...</td>\n",
       "      <td>E</td>\n",
       "      <td>Sonic the Hedgehog</td>\n",
       "    </tr>\n",
       "    <tr>\n",
       "      <th>570</th>\n",
       "      <td>2019-11-06-091040</td>\n",
       "      <td>The image of the Invisible Man in the floating...</td>\n",
       "      <td>Leigh Whannell</td>\n",
       "      <td>[Q471215]</td>\n",
       "      <td>2019-11-06 22:03:36</td>\n",
       "      <td>2</td>\n",
       "      <td>[[Leigh Whannell, 0.9128], [None, 0.0737], [El...</td>\n",
       "      <td>[https://sciencefiction.com/2019/11/06/elisabe...</td>\n",
       "      <td>E</td>\n",
       "      <td>The Invisible Man</td>\n",
       "    </tr>\n",
       "    <tr>\n",
       "      <th>571</th>\n",
       "      <td>2019-06-07-023902</td>\n",
       "      <td>Having Tenet move their corporate headquarters...</td>\n",
       "      <td>None</td>\n",
       "      <td>[]</td>\n",
       "      <td>2019-06-07 16:43:00</td>\n",
       "      <td>2</td>\n",
       "      <td>[[None, 0.5753], [Andrew Lam, 0.394], [Chris T...</td>\n",
       "      <td>[https://www.dallasnews.com/business/real-esta...</td>\n",
       "      <td>E</td>\n",
       "      <td>Tenet</td>\n",
       "    </tr>\n",
       "    <tr>\n",
       "      <th>572</th>\n",
       "      <td>2019-07-19-014740</td>\n",
       "      <td>God has elevated you so much. Everything you t...</td>\n",
       "      <td>None</td>\n",
       "      <td>[]</td>\n",
       "      <td>2019-07-19 10:53:01</td>\n",
       "      <td>1</td>\n",
       "      <td>[[None, 0.7424], [Khaya Mthethwa, 0.2576]]</td>\n",
       "      <td>[https://citizen.co.za/lifestyle/your-life-ent...</td>\n",
       "      <td>E</td>\n",
       "      <td>Onward</td>\n",
       "    </tr>\n",
       "    <tr>\n",
       "      <th>573</th>\n",
       "      <td>2019-11-18-002534</td>\n",
       "      <td>A weekend winds down, respite spent with famil...</td>\n",
       "      <td>Dan Rather</td>\n",
       "      <td>[Q733027]</td>\n",
       "      <td>2019-11-18 12:49:59</td>\n",
       "      <td>1</td>\n",
       "      <td>[[Dan Rather, 0.9142], [None, 0.0795], [Freder...</td>\n",
       "      <td>[https://www.poynter.org/newsletters/2019/cynt...</td>\n",
       "      <td>E</td>\n",
       "      <td>Onward</td>\n",
       "    </tr>\n",
       "  </tbody>\n",
       "</table>\n",
       "<p>574 rows × 10 columns</p>\n",
       "</div>"
      ],
      "text/plain": [
       "               quoteID                                          quotation  \\\n",
       "0    2019-02-03-035259  Onwards and upwards, we've got to look at it p...   \n",
       "1    2019-05-24-017082  Dimple Kapadia and Clemence Poesy, the French ...   \n",
       "2    2019-12-09-045724  It's more of an origin story for the Birds of ...   \n",
       "3    2019-09-18-023933             Harley Quinn... and the Birds of Prey.   \n",
       "4    2019-08-26-013468  Dr. West brings significant healthcare experie...   \n",
       "..                 ...                                                ...   \n",
       "569  2019-04-18-049891  There was a Sonic the Hedgehog/Genie frog. Eve...   \n",
       "570  2019-11-06-091040  The image of the Invisible Man in the floating...   \n",
       "571  2019-06-07-023902  Having Tenet move their corporate headquarters...   \n",
       "572  2019-07-19-014740  God has elevated you so much. Everything you t...   \n",
       "573  2019-11-18-002534  A weekend winds down, respite spent with famil...   \n",
       "\n",
       "            speaker                                               qids  \\\n",
       "0        David Drew          [Q15457830, Q5233072, Q56427827, Q728653]   \n",
       "1    Dimple Kapadia                                          [Q158558]   \n",
       "2     Margot Robbie                                         [Q1924847]   \n",
       "3              None                                                 []   \n",
       "4              None                                                 []   \n",
       "..              ...                                                ...   \n",
       "569      Will Smith  [Q16981006, Q20727796, Q24678701, Q3568301, Q3...   \n",
       "570  Leigh Whannell                                          [Q471215]   \n",
       "571            None                                                 []   \n",
       "572            None                                                 []   \n",
       "573      Dan Rather                                          [Q733027]   \n",
       "\n",
       "                   date  numOccurrences  \\\n",
       "0   2019-02-03 07:32:34               7   \n",
       "1   2019-05-24 19:19:22               1   \n",
       "2   2019-12-09 17:00:00               9   \n",
       "3   2019-09-18 12:52:00               4   \n",
       "4   2019-08-26 21:00:22               1   \n",
       "..                  ...             ...   \n",
       "569 2019-04-18 22:00:40               1   \n",
       "570 2019-11-06 22:03:36               2   \n",
       "571 2019-06-07 16:43:00               2   \n",
       "572 2019-07-19 10:53:01               1   \n",
       "573 2019-11-18 12:49:59               1   \n",
       "\n",
       "                                                probas  \\\n",
       "0    [[David Drew, 0.9465], [None, 0.0495], [Erin B...   \n",
       "1    [[Dimple Kapadia, 0.749], [None, 0.1498], [Chr...   \n",
       "2    [[Margot Robbie, 0.8018], [None, 0.1872], [Ewa...   \n",
       "3    [[None, 0.5105], [Christina Hodson, 0.3948], [...   \n",
       "4         [[None, 0.8808], [Edward A. Kangas, 0.1192]]   \n",
       "..                                                 ...   \n",
       "569  [[Will Smith, 0.9327], [None, 0.0594], [Aretha...   \n",
       "570  [[Leigh Whannell, 0.9128], [None, 0.0737], [El...   \n",
       "571  [[None, 0.5753], [Andrew Lam, 0.394], [Chris T...   \n",
       "572         [[None, 0.7424], [Khaya Mthethwa, 0.2576]]   \n",
       "573  [[Dan Rather, 0.9142], [None, 0.0795], [Freder...   \n",
       "\n",
       "                                                  urls phase  \\\n",
       "0    [http://www.brisbanetimes.com.au/sport/cricket...     E   \n",
       "1    [https://www.bollywoodmantra.com/news/dimple-k...     E   \n",
       "2    [https://comicbook.com/dc/2019/12/09/how-birds...     E   \n",
       "3    [https://www.comicbookmovie.com/birds_of_prey/...     E   \n",
       "4    [https://healthcare.dmagazine.com/2019/08/26/t...     E   \n",
       "..                                                 ...   ...   \n",
       "569  [https://www.msn.com/en-us/movies/news/aladdin...     E   \n",
       "570  [https://sciencefiction.com/2019/11/06/elisabe...     E   \n",
       "571  [https://www.dallasnews.com/business/real-esta...     E   \n",
       "572  [https://citizen.co.za/lifestyle/your-life-ent...     E   \n",
       "573  [https://www.poynter.org/newsletters/2019/cynt...     E   \n",
       "\n",
       "                                                 movie  \n",
       "0                                               Onward  \n",
       "1                                                Tenet  \n",
       "2    Birds of Prey: And the Fantabulous Emancipatio...  \n",
       "3    Birds of Prey: And the Fantabulous Emancipatio...  \n",
       "4                                                Tenet  \n",
       "..                                                 ...  \n",
       "569                                 Sonic the Hedgehog  \n",
       "570                                  The Invisible Man  \n",
       "571                                              Tenet  \n",
       "572                                             Onward  \n",
       "573                                             Onward  \n",
       "\n",
       "[574 rows x 10 columns]"
      ]
     },
     "metadata": {},
     "execution_count": 47
    }
   ],
   "metadata": {}
  },
  {
   "cell_type": "code",
   "execution_count": 48,
   "source": [
    "quotes_2019.groupby('movie').sum()['numOccurrences'].sort_values(ascending=False)\n"
   ],
   "outputs": [
    {
     "output_type": "execute_result",
     "data": {
      "text/plain": [
       "movie\n",
       "Onward                                                                 715\n",
       "Birds of Prey: And the Fantabulous Emancipation of One Harley Quinn    212\n",
       "Sonic the Hedgehog                                                     145\n",
       "Tenet                                                                  116\n",
       "The Invisible Man                                                       88\n",
       "Dolittle                                                                82\n",
       "Bad Boys for Life                                                       17\n",
       "The Call of the Wild                                                     9\n",
       "Name: numOccurrences, dtype: int64"
      ]
     },
     "metadata": {},
     "execution_count": 48
    }
   ],
   "metadata": {}
  },
  {
   "cell_type": "code",
   "execution_count": 49,
   "source": [
    "movies[movies['year'] == 2019][['original_title', 'date_published']].sort_values(by='date_published')"
   ],
   "outputs": [
    {
     "output_type": "execute_result",
     "data": {
      "text/html": [
       "<div>\n",
       "<style scoped>\n",
       "    .dataframe tbody tr th:only-of-type {\n",
       "        vertical-align: middle;\n",
       "    }\n",
       "\n",
       "    .dataframe tbody tr th {\n",
       "        vertical-align: top;\n",
       "    }\n",
       "\n",
       "    .dataframe thead th {\n",
       "        text-align: right;\n",
       "    }\n",
       "</style>\n",
       "<table border=\"1\" class=\"dataframe\">\n",
       "  <thead>\n",
       "    <tr style=\"text-align: right;\">\n",
       "      <th></th>\n",
       "      <th>original_title</th>\n",
       "      <th>date_published</th>\n",
       "    </tr>\n",
       "  </thead>\n",
       "  <tbody>\n",
       "    <tr>\n",
       "      <th>73863</th>\n",
       "      <td>Captain Marvel</td>\n",
       "      <td>2019-03-06</td>\n",
       "    </tr>\n",
       "    <tr>\n",
       "      <th>73865</th>\n",
       "      <td>Avengers: Endgame</td>\n",
       "      <td>2019-04-24</td>\n",
       "    </tr>\n",
       "    <tr>\n",
       "      <th>79742</th>\n",
       "      <td>Aladdin</td>\n",
       "      <td>2019-05-22</td>\n",
       "    </tr>\n",
       "    <tr>\n",
       "      <th>63599</th>\n",
       "      <td>Toy Story 4</td>\n",
       "      <td>2019-06-26</td>\n",
       "    </tr>\n",
       "    <tr>\n",
       "      <th>80305</th>\n",
       "      <td>Spider-Man: Far from Home</td>\n",
       "      <td>2019-07-10</td>\n",
       "    </tr>\n",
       "    <tr>\n",
       "      <th>79633</th>\n",
       "      <td>The Lion King</td>\n",
       "      <td>2019-08-21</td>\n",
       "    </tr>\n",
       "    <tr>\n",
       "      <th>82239</th>\n",
       "      <td>Joker</td>\n",
       "      <td>2019-10-03</td>\n",
       "    </tr>\n",
       "    <tr>\n",
       "      <th>67677</th>\n",
       "      <td>Star Wars: Episode IX - The Rise of Skywalker</td>\n",
       "      <td>2019-12-18</td>\n",
       "    </tr>\n",
       "    <tr>\n",
       "      <th>83528</th>\n",
       "      <td>Jumanji: The Next Level</td>\n",
       "      <td>2019-12-25</td>\n",
       "    </tr>\n",
       "  </tbody>\n",
       "</table>\n",
       "</div>"
      ],
      "text/plain": [
       "                                      original_title date_published\n",
       "73863                                 Captain Marvel     2019-03-06\n",
       "73865                              Avengers: Endgame     2019-04-24\n",
       "79742                                        Aladdin     2019-05-22\n",
       "63599                                    Toy Story 4     2019-06-26\n",
       "80305                      Spider-Man: Far from Home     2019-07-10\n",
       "79633                                  The Lion King     2019-08-21\n",
       "82239                                          Joker     2019-10-03\n",
       "67677  Star Wars: Episode IX - The Rise of Skywalker     2019-12-18\n",
       "83528                        Jumanji: The Next Level     2019-12-25"
      ]
     },
     "metadata": {},
     "execution_count": 49
    }
   ],
   "metadata": {}
  },
  {
   "cell_type": "markdown",
   "source": [
    "Let's sum all the occurrences of the movies and merge teh results with our **movies** dataframe.\n",
    "\n",
    "<span style=\"color:red\"> WARNING: for some reason my filtering is not the same as yours Julian</span>"
   ],
   "metadata": {}
  },
  {
   "cell_type": "code",
   "execution_count": 76,
   "source": [
    "occ15 = quotes_2015.groupby('movie').sum()['numOccurrences']\n",
    "occ16 = quotes_2016.groupby('movie').sum()['numOccurrences']\n",
    "occ17 = quotes_2017.groupby('movie').sum()['numOccurrences']\n",
    "occ18 = quotes_2018.groupby('movie').sum()['numOccurrences']\n",
    "occ19 = quotes_2019.groupby('movie').sum()['numOccurrences']\n",
    "occ20 = quotes_2020.groupby('movie').sum()['numOccurrences']\n",
    "\n",
    "all_occurrences = pd.concat([occ15, occ16, occ17, occ18, occ19, occ20])\n",
    "movies = movies.merge(all_occurrences,left_on='original_title', right_index=True)"
   ],
   "outputs": [],
   "metadata": {}
  },
  {
   "cell_type": "code",
   "execution_count": 103,
   "source": [
    "all_quotes = pd.concat([quotes_2015, quotes_2016, quotes_2017, quotes_2018, quotes_2019, quotes_2020])\n",
    "movies.head(10)"
   ],
   "outputs": [
    {
     "output_type": "execute_result",
     "data": {
      "text/html": [
       "<div>\n",
       "<style scoped>\n",
       "    .dataframe tbody tr th:only-of-type {\n",
       "        vertical-align: middle;\n",
       "    }\n",
       "\n",
       "    .dataframe tbody tr th {\n",
       "        vertical-align: top;\n",
       "    }\n",
       "\n",
       "    .dataframe thead th {\n",
       "        text-align: right;\n",
       "    }\n",
       "</style>\n",
       "<table border=\"1\" class=\"dataframe\">\n",
       "  <thead>\n",
       "    <tr style=\"text-align: right;\">\n",
       "      <th></th>\n",
       "      <th>imdb_title_id</th>\n",
       "      <th>title</th>\n",
       "      <th>original_title</th>\n",
       "      <th>year</th>\n",
       "      <th>date_published</th>\n",
       "      <th>genre</th>\n",
       "      <th>duration</th>\n",
       "      <th>country</th>\n",
       "      <th>language</th>\n",
       "      <th>director</th>\n",
       "      <th>...</th>\n",
       "      <th>description</th>\n",
       "      <th>avg_vote</th>\n",
       "      <th>votes</th>\n",
       "      <th>budget</th>\n",
       "      <th>usa_gross_income</th>\n",
       "      <th>worldwide_gross_income</th>\n",
       "      <th>metascore</th>\n",
       "      <th>reviews_from_users</th>\n",
       "      <th>reviews_from_critics</th>\n",
       "      <th>numOccurrences</th>\n",
       "    </tr>\n",
       "  </thead>\n",
       "  <tbody>\n",
       "    <tr>\n",
       "      <th>67523</th>\n",
       "      <td>tt2488496</td>\n",
       "      <td>Star Wars - Il risveglio della Forza</td>\n",
       "      <td>Star Wars: Episode VII - The Force Awakens</td>\n",
       "      <td>2015</td>\n",
       "      <td>2015-12-16</td>\n",
       "      <td>Action, Adventure, Sci-Fi</td>\n",
       "      <td>138</td>\n",
       "      <td>USA</td>\n",
       "      <td>English</td>\n",
       "      <td>J.J. Abrams</td>\n",
       "      <td>...</td>\n",
       "      <td>As a new threat to the galaxy rises, Rey, a de...</td>\n",
       "      <td>7.9</td>\n",
       "      <td>845102</td>\n",
       "      <td>245000000</td>\n",
       "      <td>936662225</td>\n",
       "      <td>2068224036</td>\n",
       "      <td>80.0</td>\n",
       "      <td>4822.0</td>\n",
       "      <td>909.0</td>\n",
       "      <td>55454</td>\n",
       "    </tr>\n",
       "    <tr>\n",
       "      <th>73865</th>\n",
       "      <td>tt4154796</td>\n",
       "      <td>Avengers: Endgame</td>\n",
       "      <td>Avengers: Endgame</td>\n",
       "      <td>2019</td>\n",
       "      <td>2019-04-24</td>\n",
       "      <td>Action, Adventure, Drama</td>\n",
       "      <td>181</td>\n",
       "      <td>USA</td>\n",
       "      <td>English, Japanese, Xhosa, German</td>\n",
       "      <td>Anthony Russo, Joe Russo</td>\n",
       "      <td>...</td>\n",
       "      <td>After the devastating events of</td>\n",
       "      <td>8.4</td>\n",
       "      <td>754786</td>\n",
       "      <td>356000000</td>\n",
       "      <td>858373000</td>\n",
       "      <td>2797800564</td>\n",
       "      <td>78.0</td>\n",
       "      <td>8869.0</td>\n",
       "      <td>557.0</td>\n",
       "      <td>11669</td>\n",
       "    </tr>\n",
       "    <tr>\n",
       "      <th>73865</th>\n",
       "      <td>tt4154796</td>\n",
       "      <td>Avengers: Endgame</td>\n",
       "      <td>Avengers: Endgame</td>\n",
       "      <td>2019</td>\n",
       "      <td>2019-04-24</td>\n",
       "      <td>Action, Adventure, Drama</td>\n",
       "      <td>181</td>\n",
       "      <td>USA</td>\n",
       "      <td>English, Japanese, Xhosa, German</td>\n",
       "      <td>Anthony Russo, Joe Russo</td>\n",
       "      <td>...</td>\n",
       "      <td>After the devastating events of</td>\n",
       "      <td>8.4</td>\n",
       "      <td>754786</td>\n",
       "      <td>356000000</td>\n",
       "      <td>858373000</td>\n",
       "      <td>2797800564</td>\n",
       "      <td>78.0</td>\n",
       "      <td>8869.0</td>\n",
       "      <td>557.0</td>\n",
       "      <td>41</td>\n",
       "    </tr>\n",
       "    <tr>\n",
       "      <th>62334</th>\n",
       "      <td>tt1825683</td>\n",
       "      <td>Black Panther</td>\n",
       "      <td>Black Panther</td>\n",
       "      <td>2018</td>\n",
       "      <td>2018-02-14</td>\n",
       "      <td>Action, Adventure, Sci-Fi</td>\n",
       "      <td>134</td>\n",
       "      <td>USA</td>\n",
       "      <td>English, Swahili, Nama, Xhosa, Korean</td>\n",
       "      <td>Ryan Coogler</td>\n",
       "      <td>...</td>\n",
       "      <td>T'Challa, heir to the hidden but advanced king...</td>\n",
       "      <td>7.3</td>\n",
       "      <td>597058</td>\n",
       "      <td>200000000</td>\n",
       "      <td>700426566</td>\n",
       "      <td>1347280838</td>\n",
       "      <td>88.0</td>\n",
       "      <td>3243.0</td>\n",
       "      <td>685.0</td>\n",
       "      <td>2064</td>\n",
       "    </tr>\n",
       "    <tr>\n",
       "      <th>73864</th>\n",
       "      <td>tt4154756</td>\n",
       "      <td>Avengers: Infinity War</td>\n",
       "      <td>Avengers: Infinity War</td>\n",
       "      <td>2018</td>\n",
       "      <td>2018-04-25</td>\n",
       "      <td>Action, Adventure, Sci-Fi</td>\n",
       "      <td>149</td>\n",
       "      <td>USA</td>\n",
       "      <td>English</td>\n",
       "      <td>Anthony Russo, Joe Russo</td>\n",
       "      <td>...</td>\n",
       "      <td>The Avengers and their allies must be willing ...</td>\n",
       "      <td>8.4</td>\n",
       "      <td>796486</td>\n",
       "      <td>321000000</td>\n",
       "      <td>678815482</td>\n",
       "      <td>2048359754</td>\n",
       "      <td>68.0</td>\n",
       "      <td>4273.0</td>\n",
       "      <td>611.0</td>\n",
       "      <td>59456</td>\n",
       "    </tr>\n",
       "    <tr>\n",
       "      <th>43822</th>\n",
       "      <td>tt0369610</td>\n",
       "      <td>Jurassic World</td>\n",
       "      <td>Jurassic World</td>\n",
       "      <td>2015</td>\n",
       "      <td>2015-06-11</td>\n",
       "      <td>Action, Adventure, Sci-Fi</td>\n",
       "      <td>124</td>\n",
       "      <td>USA</td>\n",
       "      <td>English</td>\n",
       "      <td>Colin Trevorrow</td>\n",
       "      <td>...</td>\n",
       "      <td>A new theme park, built on the original site o...</td>\n",
       "      <td>7.0</td>\n",
       "      <td>569512</td>\n",
       "      <td>150000000</td>\n",
       "      <td>652270625</td>\n",
       "      <td>1670401444</td>\n",
       "      <td>59.0</td>\n",
       "      <td>1537.0</td>\n",
       "      <td>698.0</td>\n",
       "      <td>1480</td>\n",
       "    </tr>\n",
       "    <tr>\n",
       "      <th>67676</th>\n",
       "      <td>tt2527336</td>\n",
       "      <td>Star Wars - Gli ultimi Jedi</td>\n",
       "      <td>Star Wars: Episode VIII - The Last Jedi</td>\n",
       "      <td>2017</td>\n",
       "      <td>2017-12-13</td>\n",
       "      <td>Action, Adventure, Fantasy</td>\n",
       "      <td>152</td>\n",
       "      <td>USA</td>\n",
       "      <td>English</td>\n",
       "      <td>Rian Johnson</td>\n",
       "      <td>...</td>\n",
       "      <td>Rey develops her newly discovered abilities wi...</td>\n",
       "      <td>7.0</td>\n",
       "      <td>547797</td>\n",
       "      <td>317000000</td>\n",
       "      <td>620181382</td>\n",
       "      <td>1332540187</td>\n",
       "      <td>84.0</td>\n",
       "      <td>6718.0</td>\n",
       "      <td>717.0</td>\n",
       "      <td>13454</td>\n",
       "    </tr>\n",
       "    <tr>\n",
       "      <th>71919</th>\n",
       "      <td>tt3606756</td>\n",
       "      <td>Gli Incredibili 2</td>\n",
       "      <td>Incredibles 2</td>\n",
       "      <td>2018</td>\n",
       "      <td>2018-09-19</td>\n",
       "      <td>Animation, Action, Adventure</td>\n",
       "      <td>118</td>\n",
       "      <td>USA</td>\n",
       "      <td>English</td>\n",
       "      <td>Brad Bird</td>\n",
       "      <td>...</td>\n",
       "      <td>The Incredibles hero family takes on a new mis...</td>\n",
       "      <td>7.6</td>\n",
       "      <td>239495</td>\n",
       "      <td>200000000</td>\n",
       "      <td>608581744</td>\n",
       "      <td>1242805359</td>\n",
       "      <td>80.0</td>\n",
       "      <td>1074.0</td>\n",
       "      <td>395.0</td>\n",
       "      <td>79</td>\n",
       "    </tr>\n",
       "    <tr>\n",
       "      <th>79633</th>\n",
       "      <td>tt6105098</td>\n",
       "      <td>Il Re Leone</td>\n",
       "      <td>The Lion King</td>\n",
       "      <td>2019</td>\n",
       "      <td>2019-08-21</td>\n",
       "      <td>Animation, Adventure, Drama</td>\n",
       "      <td>118</td>\n",
       "      <td>USA, UK, South Africa</td>\n",
       "      <td>English, Xhosa, Zulu, French, Spanish</td>\n",
       "      <td>Jon Favreau</td>\n",
       "      <td>...</td>\n",
       "      <td>After the murder of his father, a young lion p...</td>\n",
       "      <td>6.9</td>\n",
       "      <td>199521</td>\n",
       "      <td>260000000</td>\n",
       "      <td>543638043</td>\n",
       "      <td>1656963790</td>\n",
       "      <td>55.0</td>\n",
       "      <td>2898.0</td>\n",
       "      <td>370.0</td>\n",
       "      <td>783</td>\n",
       "    </tr>\n",
       "    <tr>\n",
       "      <th>79633</th>\n",
       "      <td>tt6105098</td>\n",
       "      <td>Il Re Leone</td>\n",
       "      <td>The Lion King</td>\n",
       "      <td>2019</td>\n",
       "      <td>2019-08-21</td>\n",
       "      <td>Animation, Adventure, Drama</td>\n",
       "      <td>118</td>\n",
       "      <td>USA, UK, South Africa</td>\n",
       "      <td>English, Xhosa, Zulu, French, Spanish</td>\n",
       "      <td>Jon Favreau</td>\n",
       "      <td>...</td>\n",
       "      <td>After the murder of his father, a young lion p...</td>\n",
       "      <td>6.9</td>\n",
       "      <td>199521</td>\n",
       "      <td>260000000</td>\n",
       "      <td>543638043</td>\n",
       "      <td>1656963790</td>\n",
       "      <td>55.0</td>\n",
       "      <td>2898.0</td>\n",
       "      <td>370.0</td>\n",
       "      <td>4</td>\n",
       "    </tr>\n",
       "  </tbody>\n",
       "</table>\n",
       "<p>10 rows × 23 columns</p>\n",
       "</div>"
      ],
      "text/plain": [
       "      imdb_title_id                                 title  \\\n",
       "67523     tt2488496  Star Wars - Il risveglio della Forza   \n",
       "73865     tt4154796                     Avengers: Endgame   \n",
       "73865     tt4154796                     Avengers: Endgame   \n",
       "62334     tt1825683                         Black Panther   \n",
       "73864     tt4154756                Avengers: Infinity War   \n",
       "43822     tt0369610                        Jurassic World   \n",
       "67676     tt2527336           Star Wars - Gli ultimi Jedi   \n",
       "71919     tt3606756                     Gli Incredibili 2   \n",
       "79633     tt6105098                           Il Re Leone   \n",
       "79633     tt6105098                           Il Re Leone   \n",
       "\n",
       "                                   original_title  year date_published  \\\n",
       "67523  Star Wars: Episode VII - The Force Awakens  2015     2015-12-16   \n",
       "73865                           Avengers: Endgame  2019     2019-04-24   \n",
       "73865                           Avengers: Endgame  2019     2019-04-24   \n",
       "62334                               Black Panther  2018     2018-02-14   \n",
       "73864                      Avengers: Infinity War  2018     2018-04-25   \n",
       "43822                              Jurassic World  2015     2015-06-11   \n",
       "67676     Star Wars: Episode VIII - The Last Jedi  2017     2017-12-13   \n",
       "71919                               Incredibles 2  2018     2018-09-19   \n",
       "79633                               The Lion King  2019     2019-08-21   \n",
       "79633                               The Lion King  2019     2019-08-21   \n",
       "\n",
       "                              genre  duration                country  \\\n",
       "67523     Action, Adventure, Sci-Fi       138                    USA   \n",
       "73865      Action, Adventure, Drama       181                    USA   \n",
       "73865      Action, Adventure, Drama       181                    USA   \n",
       "62334     Action, Adventure, Sci-Fi       134                    USA   \n",
       "73864     Action, Adventure, Sci-Fi       149                    USA   \n",
       "43822     Action, Adventure, Sci-Fi       124                    USA   \n",
       "67676    Action, Adventure, Fantasy       152                    USA   \n",
       "71919  Animation, Action, Adventure       118                    USA   \n",
       "79633   Animation, Adventure, Drama       118  USA, UK, South Africa   \n",
       "79633   Animation, Adventure, Drama       118  USA, UK, South Africa   \n",
       "\n",
       "                                    language                  director  ...  \\\n",
       "67523                                English               J.J. Abrams  ...   \n",
       "73865       English, Japanese, Xhosa, German  Anthony Russo, Joe Russo  ...   \n",
       "73865       English, Japanese, Xhosa, German  Anthony Russo, Joe Russo  ...   \n",
       "62334  English, Swahili, Nama, Xhosa, Korean              Ryan Coogler  ...   \n",
       "73864                                English  Anthony Russo, Joe Russo  ...   \n",
       "43822                                English           Colin Trevorrow  ...   \n",
       "67676                                English              Rian Johnson  ...   \n",
       "71919                                English                 Brad Bird  ...   \n",
       "79633  English, Xhosa, Zulu, French, Spanish               Jon Favreau  ...   \n",
       "79633  English, Xhosa, Zulu, French, Spanish               Jon Favreau  ...   \n",
       "\n",
       "                                             description avg_vote   votes  \\\n",
       "67523  As a new threat to the galaxy rises, Rey, a de...      7.9  845102   \n",
       "73865                    After the devastating events of      8.4  754786   \n",
       "73865                    After the devastating events of      8.4  754786   \n",
       "62334  T'Challa, heir to the hidden but advanced king...      7.3  597058   \n",
       "73864  The Avengers and their allies must be willing ...      8.4  796486   \n",
       "43822  A new theme park, built on the original site o...      7.0  569512   \n",
       "67676  Rey develops her newly discovered abilities wi...      7.0  547797   \n",
       "71919  The Incredibles hero family takes on a new mis...      7.6  239495   \n",
       "79633  After the murder of his father, a young lion p...      6.9  199521   \n",
       "79633  After the murder of his father, a young lion p...      6.9  199521   \n",
       "\n",
       "          budget  usa_gross_income  worldwide_gross_income  metascore  \\\n",
       "67523  245000000         936662225              2068224036       80.0   \n",
       "73865  356000000         858373000              2797800564       78.0   \n",
       "73865  356000000         858373000              2797800564       78.0   \n",
       "62334  200000000         700426566              1347280838       88.0   \n",
       "73864  321000000         678815482              2048359754       68.0   \n",
       "43822  150000000         652270625              1670401444       59.0   \n",
       "67676  317000000         620181382              1332540187       84.0   \n",
       "71919  200000000         608581744              1242805359       80.0   \n",
       "79633  260000000         543638043              1656963790       55.0   \n",
       "79633  260000000         543638043              1656963790       55.0   \n",
       "\n",
       "       reviews_from_users  reviews_from_critics  numOccurrences  \n",
       "67523              4822.0                 909.0           55454  \n",
       "73865              8869.0                 557.0           11669  \n",
       "73865              8869.0                 557.0              41  \n",
       "62334              3243.0                 685.0            2064  \n",
       "73864              4273.0                 611.0           59456  \n",
       "43822              1537.0                 698.0            1480  \n",
       "67676              6718.0                 717.0           13454  \n",
       "71919              1074.0                 395.0              79  \n",
       "79633              2898.0                 370.0             783  \n",
       "79633              2898.0                 370.0               4  \n",
       "\n",
       "[10 rows x 23 columns]"
      ]
     },
     "metadata": {},
     "execution_count": 103
    }
   ],
   "metadata": {}
  },
  {
   "cell_type": "markdown",
   "source": [
    "Now we are ready to scatter the number of occurences on a certain movie against the box office\n"
   ],
   "metadata": {}
  },
  {
   "cell_type": "code",
   "execution_count": 78,
   "source": [
    "plt.figure(figsize = (10,6))\n",
    "plt.title('Quotes vs box office')\n",
    "sns.scatterplot(data=movies, x='numOccurrences', y='usa_gross_income', hue='year', palette='tab10', s=100)"
   ],
   "outputs": [
    {
     "output_type": "execute_result",
     "data": {
      "text/plain": [
       "<AxesSubplot:title={'center':'Quotes vs box office'}, xlabel='numOccurrences', ylabel='usa_gross_income'>"
      ]
     },
     "metadata": {},
     "execution_count": 78
    },
    {
     "output_type": "display_data",
     "data": {
      "image/png": "[encoded data removed]",
      "text/plain": [
       "<Figure size 720x432 with 1 Axes>"
      ]
     },
     "metadata": {
      "needs_background": "light"
     }
    }
   ],
   "metadata": {}
  },
  {
   "cell_type": "markdown",
   "source": [
    "Check what are the outliers, we have one in 2015, 2018 and 2019"
   ],
   "metadata": {}
  },
  {
   "cell_type": "code",
   "execution_count": 80,
   "source": [
    "outliers = pd.concat([\n",
    "movies[movies['year']==2015].sort_values('numOccurrences').nlargest(1, columns=['numOccurrences']),\n",
    "movies[movies['year']==2018].sort_values('numOccurrences').nlargest(2, columns=['numOccurrences']),\n",
    "movies[movies['year']==2019].sort_values('numOccurrences').nlargest(1, columns=['numOccurrences'])])\n",
    "outliers['original_title']"
   ],
   "outputs": [
    {
     "output_type": "execute_result",
     "data": {
      "text/plain": [
       "67523       Star Wars: Episode VII - The Force Awakens\n",
       "73864                           Avengers: Infinity War\n",
       "76126                    Mission: Impossible - Fallout\n",
       "67677    Star Wars: Episode IX - The Rise of Skywalker\n",
       "Name: original_title, dtype: object"
      ]
     },
     "metadata": {},
     "execution_count": 80
    }
   ],
   "metadata": {}
  },
  {
   "cell_type": "code",
   "execution_count": 81,
   "source": [
    "plt.figure(figsize = (10,6))\n",
    "plt.title('Quotes vs box office')\n",
    "sns.scatterplot(data=movies.drop(index=outliers.index), x='numOccurrences', y='usa_gross_income', hue='year', palette='tab10', s=100)"
   ],
   "outputs": [
    {
     "output_type": "execute_result",
     "data": {
      "text/plain": [
       "<AxesSubplot:title={'center':'Quotes vs box office'}, xlabel='numOccurrences', ylabel='usa_gross_income'>"
      ]
     },
     "metadata": {},
     "execution_count": 81
    },
    {
     "output_type": "display_data",
     "data": {
      "image/png": "[encoded data removed]",
      "text/plain": [
       "<Figure size 720x432 with 1 Axes>"
      ]
     },
     "metadata": {
      "needs_background": "light"
     }
    }
   ],
   "metadata": {}
  },
  {
   "cell_type": "markdown",
   "source": [
    "Maybe log-log scale?"
   ],
   "metadata": {}
  },
  {
   "cell_type": "code",
   "execution_count": 86,
   "source": [
    "plt.figure(figsize = (10,6))\n",
    "plt.title('Quotes vs box office')\n",
    "g = sns.scatterplot(data=movies, x='numOccurrences', y='usa_gross_income', hue='year', palette='tab10', s=100)\n",
    "g.set_xscale('log')\n",
    "g.set_yscale('log')"
   ],
   "outputs": [
    {
     "output_type": "display_data",
     "data": {
      "image/png": "[encoded data removed]",
      "text/plain": [
       "<Figure size 720x432 with 1 Axes>"
      ]
     },
     "metadata": {
      "needs_background": "light"
     }
    }
   ],
   "metadata": {}
  },
  {
   "cell_type": "code",
   "execution_count": 87,
   "source": [
    "all_quotes[all_quotes['speaker'] != 'None'].groupby(['speaker', 'movie']).sum()['numOccurrences'].sort_values(ascending=False).head(20)"
   ],
   "outputs": [
    {
     "output_type": "execute_result",
     "data": {
      "text/plain": [
       "speaker                     movie                                        \n",
       "Meghan , Duchess of Sussex  Mission: Impossible - Fallout                    11000\n",
       "Kathleen Kennedy            Star Wars: Episode IX - The Rise of Skywalker     1219\n",
       "J.J. Abrams                 Star Wars: Episode VII - The Force Awakens        1160\n",
       "Kevin Feige                 Avengers: Infinity War                            1119\n",
       "Kathleen Kennedy            Star Wars: Episode VII - The Force Awakens        1067\n",
       "J.J. Abrams                 Star Wars: Episode IX - The Rise of Skywalker      878\n",
       "Peter Parker                Avengers: Infinity War                             875\n",
       "Carlos Gabriel              Mission: Impossible - Fallout                      817\n",
       "Kevin Feige                 Avengers: Endgame                                  814\n",
       "Tom Holland                 Spider-Man: Homecoming                             791\n",
       "Jon Favreau                 Star Wars: Episode IX - The Rise of Skywalker      730\n",
       "Gareth Edwards              Star Wars: Episode VIII - The Last Jedi            721\n",
       "Kevin Feige                 Captain Marvel                                     707\n",
       "George Lucas                Star Wars: Episode VII - The Force Awakens         691\n",
       "Joe Russo                   Avengers: Endgame                                  631\n",
       "Bob Iger                    Star Wars: Episode VII - The Force Awakens         611\n",
       "John Boyega                 Star Wars: Episode VII - The Force Awakens         591\n",
       "Amy Hennig                  Star Wars: Episode IX - The Rise of Skywalker      585\n",
       "Michael Condrey             Avengers: Infinity War                             512\n",
       "Todd Howard                 Mission: Impossible - Fallout                      512\n",
       "Name: numOccurrences, dtype: int64"
      ]
     },
     "metadata": {},
     "execution_count": 87
    }
   ],
   "metadata": {}
  },
  {
   "cell_type": "markdown",
   "source": [
    "Let's focus on a spesific movie, Star Wars: Episode VII - The Force Awakens"
   ],
   "metadata": {}
  },
  {
   "cell_type": "code",
   "execution_count": 88,
   "source": [
    "all_quotes[(all_quotes['movie']=='Star Wars: Episode VII - The Force Awakens') & (all_quotes['speaker'] != 'None')].groupby('speaker').sum()['numOccurrences'].sort_values(ascending=False).head(20)"
   ],
   "outputs": [
    {
     "output_type": "execute_result",
     "data": {
      "text/plain": [
       "speaker\n",
       "J.J. Abrams               1160\n",
       "Kathleen Kennedy          1067\n",
       "George Lucas               691\n",
       "Bob Iger                   611\n",
       "John Boyega                591\n",
       "President Barack Obama     320\n",
       "Steve Sansweet             304\n",
       "Lawrence Kasdan            241\n",
       "Mark Zuckerberg            237\n",
       "JJ Abrams                  237\n",
       "Ava DuVernay               189\n",
       "Steven Spielberg           184\n",
       "Tan Le                     182\n",
       "Carrie Fisher              170\n",
       "Chris Pratt                142\n",
       "Mark Hamill                138\n",
       "Patton Oswalt              138\n",
       "Kate Muir                  136\n",
       "Gary Grant                 131\n",
       "Bart Simpson               129\n",
       "Name: numOccurrences, dtype: int64"
      ]
     },
     "metadata": {},
     "execution_count": 88
    }
   ],
   "metadata": {}
  },
  {
   "cell_type": "markdown",
   "source": [
    "We plot the distribution of quotes in time and mark the premier of a the movie with a red line. Also we can observe a spike in the middle of April. It corresponds to the release date of the second teaser trailer on April 16.\n",
    "\n",
    "<span style=\"color:red\"> This plot does not really work if on the y axis I plot the number of occurences, because the movie title alone is an outlier </span>"
   ],
   "metadata": {}
  },
  {
   "cell_type": "code",
   "execution_count": 107,
   "source": [
    "import datetime as dt\n",
    "plt.figure(figsize = (10,6))\n",
    "plt.title('Distributions of quotes in time')\n",
    "title = 'Star Wars: Episode VII - The Force Awakens'\n",
    "star_wars = all_quotes[all_quotes['movie']==title]\n",
    "plt.axvline(dt.date(2015, 4, 16), color='b', linestyle='dashed', linewidth=2)\n",
    "plt.axvline(movies[movies['original_title'] == title]['date_published'], color='r', linestyle='dashed', linewidth=2)\n",
    "sns.histplot(data=star_wars['date'], bins=50)"
   ],
   "outputs": [
    {
     "output_type": "execute_result",
     "data": {
      "text/plain": [
       "<AxesSubplot:title={'center':'Distributions of quotes in time'}, xlabel='date', ylabel='Count'>"
      ]
     },
     "metadata": {},
     "execution_count": 107
    },
    {
     "output_type": "display_data",
     "data": {
      "image/png": "[encoded data removed]",
      "text/plain": [
       "<Figure size 720x432 with 1 Axes>"
      ]
     },
     "metadata": {
      "needs_background": "light"
     }
    }
   ],
   "metadata": {}
  },
  {
   "cell_type": "markdown",
   "source": [
    "Again there are clearly spikes when a trailer is released for the movie: 2019 April 12, 2019 Oct 22, 2019 Aug 26"
   ],
   "metadata": {}
  },
  {
   "cell_type": "code",
   "execution_count": 110,
   "source": [
    "plt.figure(figsize = (10,6))\n",
    "plt.title('Distributions of quotes in time')\n",
    "title = 'Star Wars: Episode IX - The Rise of Skywalker'\n",
    "star_wars = all_quotes[all_quotes['movie']==title]\n",
    "#plt.axvline(dt.date(2015, 4, 16), color='b', linestyle='dashed', linewidth=2)\n",
    "#plt.axvline(movies[movies['original_title'] == title]['date_published'], color='r', linestyle='dashed', linewidth=2)\n",
    "sns.histplot(data=star_wars['date'], bins=50)"
   ],
   "outputs": [
    {
     "output_type": "execute_result",
     "data": {
      "text/plain": [
       "<AxesSubplot:title={'center':'Distributions of quotes in time'}, xlabel='date', ylabel='Count'>"
      ]
     },
     "metadata": {},
     "execution_count": 110
    },
    {
     "output_type": "display_data",
     "data": {
      "image/png": "[encoded data removed]",
      "text/plain": [
       "<Figure size 720x432 with 1 Axes>"
      ]
     },
     "metadata": {
      "needs_background": "light"
     }
    }
   ],
   "metadata": {}
  },
  {
   "cell_type": "code",
   "execution_count": 112,
   "source": [
    "plt.figure(figsize = (10,6))\n",
    "plt.title('Avengers Infinity War')\n",
    "title = 'Avengers: Infinity War'\n",
    "avengers = all_quotes[all_quotes['movie']==title]\n",
    "plt.axvline(movies[movies['original_title'] == title]['date_published'], color='r', linestyle='dashed', linewidth=2)\n",
    "sns.histplot(data=avengers['date'], bins=100)"
   ],
   "outputs": [
    {
     "output_type": "execute_result",
     "data": {
      "text/plain": [
       "<AxesSubplot:title={'center':'Avengers Infinity War'}, xlabel='date', ylabel='Count'>"
      ]
     },
     "metadata": {},
     "execution_count": 112
    },
    {
     "output_type": "display_data",
     "data": {
      "image/png": "[encoded data removed]",
      "text/plain": [
       "<Figure size 720x432 with 1 Axes>"
      ]
     },
     "metadata": {
      "needs_background": "light"
     }
    }
   ],
   "metadata": {}
  },
  {
   "cell_type": "code",
   "execution_count": 258,
   "source": [
    "#TODO check correlation between box office and quotes\n",
    "box_office = pd.read_csv('./data/time_series_box_office_data/Avengers_Infinity_War___Box_Office_Mojo.csv')\n",
    "np.array(avengers.groupby('date').count()['quotation'])"
   ],
   "outputs": [
    {
     "output_type": "execute_result",
     "data": {
      "text/plain": [
       "array([  6,   6,   9,   6,   1,   5,  16,   7,   8,   4,  19,   9,   4,\n",
       "         1,   8,  13,   9,  11,   4,   2,   7,   3,   2,  10,   4,  12,\n",
       "         1,   5,   2,  11,   4,   4,  10,   7,   4,   4,   8,   8,   8,\n",
       "         4,   7,   3,   1,   9,   2,  15,  10,   4,   1,   2,  10,   1,\n",
       "         5,   3,   4,   3,   6,   9,   3,  11,  10,   6,   1,   5,   5,\n",
       "         9,  13,  20,   4,   3,   7,  16,   3,  26,  33,  27,  10,  27,\n",
       "        16,  19,  21,  18,   4,   6,  42,   8,  15,   5,   7,   9,  13,\n",
       "         9,  18,   9,  11,  15,   8,   7,  10,  29,  11,   8,  15,  13,\n",
       "        13,  25,  23,  16,  24,  20,  16,  17,  77, 100,  68,  50,  58,\n",
       "        25,  17,  68,  43,  46,  32,  34,  15,  13,  45,  40,  39,  32,\n",
       "        27,   9,  18,  12,  16,  26,  14,   5,   6,   3,   5,  11,   6,\n",
       "         3,  10,   5,   8,   4,   6,  12,  10,  11,   5,  11,   8,   8,\n",
       "         8,   9,  13,   5,   8,  11,   7,  20,  21,  16,   4,   2,  16,\n",
       "         9,   6,   7,  11,  17,  30,  18,  19,   8,  30,   8,  10,  12,\n",
       "        27,   2,   9,  27,   6,   6,  16,   9,   3,   5,   5,   1,   3,\n",
       "        14,   5,   9,  11,   8,  10,   9,   8,   7,  15,   3,   8,  16,\n",
       "        10,   7,   4,  14,  12,  12,   9,   3,   2,   3,   7,   7,   2,\n",
       "         8,   6,  10,  15,  10,  12,  12,   6,   2,   4,   5,   9,   8,\n",
       "         2,   7,   1,   5,   8,   1,   3,  18,  10,   8,   1,   8,   8,\n",
       "         3,  12,  11,  11,  10,  10,   7,   4,   6,   4,   4,   5,   9,\n",
       "        11,   5,   7,   4,   8,  11,  14,  12,   4,  12,   9,   2,   6,\n",
       "         9,   3,  11,   9,   8,   4,   7,   8,   3,  13,  14,   8,  12,\n",
       "        22,   9,   6,   4,  13,   2,  15,   2,   4,   1,  15,  12,   1,\n",
       "         7,   7,   5,   6,   3,   3,   5,   1,   6,   9,   9,  15,  20,\n",
       "         5,   1,  22,  19,  20,   6,   7,   4,   1,  12,   3,   5,   2,\n",
       "         5,   9,   2,  10,   8,  12,  21,   5,   5,   4,   7,  13,   9,\n",
       "         9,  26,  18,  10,  22,   8,   8,   7,   4,   8,   1,  11,  10,\n",
       "         9,   3,   3,   9,   6,   6,   7,   4,   6,  20,   5,   1,   6])"
      ]
     },
     "metadata": {},
     "execution_count": 258
    }
   ],
   "metadata": {}
  },
  {
   "cell_type": "code",
   "execution_count": null,
   "source": [],
   "outputs": [],
   "metadata": {}
  }
 ],
 "metadata": {
  "orig_nbformat": 4,
  "language_info": {
   "name": "python",
   "version": "3.8.10",
   "mimetype": "text/x-python",
   "codemirror_mode": {
    "name": "ipython",
    "version": 3
   },
   "pygments_lexer": "ipython3",
   "nbconvert_exporter": "python",
   "file_extension": ".py"
  },
  "kernelspec": {
   "name": "python3",
   "display_name": "Python 3.8.10 64-bit"
  },
  "interpreter": {
   "hash": "916dbcbb3f70747c44a77c7bcd40155683ae19c65e1c03b4aa3499c5328201f1"
  }
 },
 "nbformat": 4,
 "nbformat_minor": 2
}