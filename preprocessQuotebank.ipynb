{
 "cells": [
  {
   "cell_type": "code",
   "execution_count": 1,
   "id": "1e78760a",
   "metadata": {},
   "outputs": [],
   "source": [
    "import os\n",
    "import glob\n",
    "import bz2\n",
    "import pandas as pd\n",
    "import numpy as np\n",
    "from tqdm.notebook import tqdm\n",
    "import matplotlib.pyplot as plt\n",
    "from collections import defaultdict"
   ]
  },
  {
   "cell_type": "code",
   "execution_count": 2,
   "id": "15358ce4",
   "metadata": {},
   "outputs": [],
   "source": [
    "# Specifying filename and directory\n",
    "data_dir = os.getcwd() + '\\data'\n",
    "quotebank_dir = data_dir + \"\\Quotebank\"\n",
    "quotebank_bz2 = os.listdir(quotebank_dir)\n",
    "\n",
    "# Change directory\n",
    "os.chdir(quotebank_dir)"
   ]
  },
  {
   "cell_type": "code",
   "execution_count": 3,
   "id": "81a148e0",
   "metadata": {},
   "outputs": [
    {
     "data": {
      "application/vnd.jupyter.widget-view+json": {
       "model_id": "ee0d323f9cb3444eb91f169cc8c55590",
       "version_major": 2,
       "version_minor": 0
      },
      "text/plain": [
       "  0%|          | 0/6 [00:00<?, ?it/s]"
      ]
     },
     "metadata": {},
     "output_type": "display_data"
    },
    {
     "data": {
      "text/plain": [
       "(42311, 10)"
      ]
     },
     "execution_count": 3,
     "metadata": {},
     "output_type": "execute_result"
    }
   ],
   "source": [
    "df = pd.DataFrame()\n",
    "for year_file in tqdm(quotebank_bz2):\n",
    "    temp =  pd.read_json(year_file, lines=True, compression='bz2')\n",
    "    df = pd.concat([df, temp], ignore_index = True)\n",
    "        \n",
    "df.shape"
   ]
  },
  {
   "cell_type": "code",
   "execution_count": 4,
   "id": "82acbee3",
   "metadata": {},
   "outputs": [
    {
     "data": {
      "text/html": [
       "<div>\n",
       "<style scoped>\n",
       "    .dataframe tbody tr th:only-of-type {\n",
       "        vertical-align: middle;\n",
       "    }\n",
       "\n",
       "    .dataframe tbody tr th {\n",
       "        vertical-align: top;\n",
       "    }\n",
       "\n",
       "    .dataframe thead th {\n",
       "        text-align: right;\n",
       "    }\n",
       "</style>\n",
       "<table border=\"1\" class=\"dataframe\">\n",
       "  <thead>\n",
       "    <tr style=\"text-align: right;\">\n",
       "      <th></th>\n",
       "      <th>quoteID</th>\n",
       "      <th>quotation</th>\n",
       "      <th>speaker</th>\n",
       "      <th>qids</th>\n",
       "      <th>date</th>\n",
       "      <th>numOccurrences</th>\n",
       "      <th>probas</th>\n",
       "      <th>urls</th>\n",
       "      <th>phase</th>\n",
       "      <th>movie</th>\n",
       "    </tr>\n",
       "  </thead>\n",
       "  <tbody>\n",
       "    <tr>\n",
       "      <th>0</th>\n",
       "      <td>2015-02-14-007911</td>\n",
       "      <td>For fans of the book they know that Effie's ro...</td>\n",
       "      <td>None</td>\n",
       "      <td>[]</td>\n",
       "      <td>2015-02-14 00:47:05</td>\n",
       "      <td>1</td>\n",
       "      <td>[[None, 0.8008], [Francis Lawrence, 0.1299], [...</td>\n",
       "      <td>[http://www.buzzfeed.com/kristinharris/secrets...</td>\n",
       "      <td>E</td>\n",
       "      <td>The Hunger Games: Mockingjay - Part 2</td>\n",
       "    </tr>\n",
       "    <tr>\n",
       "      <th>1</th>\n",
       "      <td>2015-11-15-027947</td>\n",
       "      <td>Is Ferguson like Mockingjay?</td>\n",
       "      <td>Laci Green</td>\n",
       "      <td>[Q16843606]</td>\n",
       "      <td>2015-11-15 03:15:53</td>\n",
       "      <td>1</td>\n",
       "      <td>[[Laci Green, 0.9013], [None, 0.0987]]</td>\n",
       "      <td>[http://www.dailykos.com/story/2015/11/15/1450...</td>\n",
       "      <td>E</td>\n",
       "      <td>The Hunger Games: Mockingjay - Part 2</td>\n",
       "    </tr>\n",
       "    <tr>\n",
       "      <th>2</th>\n",
       "      <td>2015-04-26-028061</td>\n",
       "      <td>It's pretty exciting-I have to say. I saw the ...</td>\n",
       "      <td>None</td>\n",
       "      <td>[]</td>\n",
       "      <td>2015-04-26 11:56:10</td>\n",
       "      <td>2</td>\n",
       "      <td>[[None, 0.8589], [Jared Leto, 0.0772], [Joss W...</td>\n",
       "      <td>[http://ign.com/articles/2015/04/24/joss-whedo...</td>\n",
       "      <td>E</td>\n",
       "      <td>Star Wars: Episode VII - The Force Awakens</td>\n",
       "    </tr>\n",
       "    <tr>\n",
       "      <th>3</th>\n",
       "      <td>2015-12-31-028469</td>\n",
       "      <td>I want to clarify my interview on the `Charlie...</td>\n",
       "      <td>George Lucas</td>\n",
       "      <td>[Q1507803, Q38222]</td>\n",
       "      <td>2015-12-31 16:48:00</td>\n",
       "      <td>7</td>\n",
       "      <td>[[George Lucas, 0.5327], [None, 0.4248], [Char...</td>\n",
       "      <td>[http://www.escapistmagazine.com/news/view/165...</td>\n",
       "      <td>E</td>\n",
       "      <td>Star Wars: Episode VII - The Force Awakens</td>\n",
       "    </tr>\n",
       "    <tr>\n",
       "      <th>4</th>\n",
       "      <td>2015-12-10-059754</td>\n",
       "      <td>Is Daredevil joining the Avengers for Infinity...</td>\n",
       "      <td>None</td>\n",
       "      <td>[]</td>\n",
       "      <td>2015-12-10 23:18:29</td>\n",
       "      <td>2</td>\n",
       "      <td>[[None, 0.4806], [Scott Davis, 0.4017], [Antho...</td>\n",
       "      <td>[http://www.flickeringmyth.com/2015/12/is-dare...</td>\n",
       "      <td>E</td>\n",
       "      <td>Avengers: Age of Ultron</td>\n",
       "    </tr>\n",
       "  </tbody>\n",
       "</table>\n",
       "</div>"
      ],
      "text/plain": [
       "             quoteID                                          quotation  \\\n",
       "0  2015-02-14-007911  For fans of the book they know that Effie's ro...   \n",
       "1  2015-11-15-027947                       Is Ferguson like Mockingjay?   \n",
       "2  2015-04-26-028061  It's pretty exciting-I have to say. I saw the ...   \n",
       "3  2015-12-31-028469  I want to clarify my interview on the `Charlie...   \n",
       "4  2015-12-10-059754  Is Daredevil joining the Avengers for Infinity...   \n",
       "\n",
       "        speaker                qids                date  numOccurrences  \\\n",
       "0          None                  [] 2015-02-14 00:47:05               1   \n",
       "1    Laci Green         [Q16843606] 2015-11-15 03:15:53               1   \n",
       "2          None                  [] 2015-04-26 11:56:10               2   \n",
       "3  George Lucas  [Q1507803, Q38222] 2015-12-31 16:48:00               7   \n",
       "4          None                  [] 2015-12-10 23:18:29               2   \n",
       "\n",
       "                                              probas  \\\n",
       "0  [[None, 0.8008], [Francis Lawrence, 0.1299], [...   \n",
       "1             [[Laci Green, 0.9013], [None, 0.0987]]   \n",
       "2  [[None, 0.8589], [Jared Leto, 0.0772], [Joss W...   \n",
       "3  [[George Lucas, 0.5327], [None, 0.4248], [Char...   \n",
       "4  [[None, 0.4806], [Scott Davis, 0.4017], [Antho...   \n",
       "\n",
       "                                                urls phase  \\\n",
       "0  [http://www.buzzfeed.com/kristinharris/secrets...     E   \n",
       "1  [http://www.dailykos.com/story/2015/11/15/1450...     E   \n",
       "2  [http://ign.com/articles/2015/04/24/joss-whedo...     E   \n",
       "3  [http://www.escapistmagazine.com/news/view/165...     E   \n",
       "4  [http://www.flickeringmyth.com/2015/12/is-dare...     E   \n",
       "\n",
       "                                        movie  \n",
       "0       The Hunger Games: Mockingjay - Part 2  \n",
       "1       The Hunger Games: Mockingjay - Part 2  \n",
       "2  Star Wars: Episode VII - The Force Awakens  \n",
       "3  Star Wars: Episode VII - The Force Awakens  \n",
       "4                     Avengers: Age of Ultron  "
      ]
     },
     "execution_count": 4,
     "metadata": {},
     "output_type": "execute_result"
    }
   ],
   "source": [
    "df.head()"
   ]
  },
  {
   "cell_type": "markdown",
   "id": "aff376b7",
   "metadata": {},
   "source": [
    "Removing NaN-values. We see that these only occur in the `movie` attribute which right now is due to an issue in the data filtering. "
   ]
  },
  {
   "cell_type": "code",
   "execution_count": 5,
   "id": "f048781e",
   "metadata": {},
   "outputs": [
    {
     "data": {
      "text/plain": [
       "quoteID           False\n",
       "quotation         False\n",
       "speaker           False\n",
       "qids              False\n",
       "date              False\n",
       "numOccurrences    False\n",
       "probas            False\n",
       "urls              False\n",
       "phase             False\n",
       "movie             False\n",
       "dtype: bool"
      ]
     },
     "execution_count": 5,
     "metadata": {},
     "output_type": "execute_result"
    }
   ],
   "source": [
    "df.isnull().any()"
   ]
  },
  {
   "cell_type": "code",
   "execution_count": 6,
   "id": "e4f6c539",
   "metadata": {},
   "outputs": [],
   "source": [
    "df = df.loc[-df.isnull().any(axis=1)]"
   ]
  },
  {
   "cell_type": "code",
   "execution_count": 7,
   "id": "6fd39448",
   "metadata": {},
   "outputs": [
    {
     "data": {
      "text/plain": [
       "(42311, 10)"
      ]
     },
     "execution_count": 7,
     "metadata": {},
     "output_type": "execute_result"
    }
   ],
   "source": [
    "df.shape"
   ]
  },
  {
   "cell_type": "markdown",
   "id": "5b1da6d9",
   "metadata": {},
   "source": [
    "### Dealing with the speakers"
   ]
  },
  {
   "cell_type": "markdown",
   "id": "1ba81781",
   "metadata": {},
   "source": [
    "We investigate how many quotes does not have an obvious speaker and is denoted by 'None'. Turns out that it is approximately 38%."
   ]
  },
  {
   "cell_type": "code",
   "execution_count": 8,
   "id": "2117c2e0",
   "metadata": {},
   "outputs": [
    {
     "name": "stdout",
     "output_type": "stream",
     "text": [
      "'None'-speakers: 16323\n",
      "Total fraction of 'None'-speakers: 0.38578620216964854\n"
     ]
    }
   ],
   "source": [
    "number_none_speakers = len(df[df.speaker == 'None'])\n",
    "\n",
    "print(f\"'None'-speakers: {number_none_speakers}\")\n",
    "print(f\"Total fraction of 'None'-speakers: {number_none_speakers / len(df)}\")"
   ]
  },
  {
   "cell_type": "markdown",
   "id": "b4ab09fa",
   "metadata": {},
   "source": [
    "Even though the single speakers are not really important for answering our research questions, we choose to clean the data by chaning 'None'-speakers to the speaker with second highest probability from the `df.probas` attribute. \n",
    "<span style=\"color:red\"> *TODO*: THIS MIGHT NEED RE-ENGENEERING TO A MORE EXCLUSIVE THING. right now trump gets assigned to a lot. </span>"
   ]
  },
  {
   "cell_type": "code",
   "execution_count": 9,
   "id": "65d1780e",
   "metadata": {},
   "outputs": [
    {
     "data": {
      "application/vnd.jupyter.widget-view+json": {
       "model_id": "80faf3d23a27433db507eccc76351f5a",
       "version_major": 2,
       "version_minor": 0
      },
      "text/plain": [
       "  0%|          | 0/42311 [00:00<?, ?it/s]"
      ]
     },
     "metadata": {},
     "output_type": "display_data"
    }
   ],
   "source": [
    "# Removes speaker as being None to being the second most likely in case speaker is 'None'\n",
    "proba_threshhold = 0.15\n",
    "\n",
    "secondary_speaker = [df['probas'][i][1][0] if (speaker == 'None') and (float(df['probas'][i][1][1]) > proba_threshhold) else speaker for i, speaker in enumerate(tqdm(df['speaker']))]\n",
    "df['speaker'] = secondary_speaker"
   ]
  },
  {
   "cell_type": "code",
   "execution_count": 10,
   "id": "9857f5af",
   "metadata": {},
   "outputs": [
    {
     "name": "stdout",
     "output_type": "stream",
     "text": [
      "'None'-speakers: 6273\n",
      "Total fraction of 'None'-speakers: 0.14825931790787267\n"
     ]
    }
   ],
   "source": [
    "number_none_speakers = len(df[df.speaker == 'None'])\n",
    "\n",
    "print(f\"'None'-speakers: {number_none_speakers}\")\n",
    "print(f\"Total fraction of 'None'-speakers: {number_none_speakers / len(df)}\")"
   ]
  },
  {
   "cell_type": "code",
   "execution_count": 11,
   "id": "6ab742b5",
   "metadata": {},
   "outputs": [
    {
     "data": {
      "text/html": [
       "<div>\n",
       "<style scoped>\n",
       "    .dataframe tbody tr th:only-of-type {\n",
       "        vertical-align: middle;\n",
       "    }\n",
       "\n",
       "    .dataframe tbody tr th {\n",
       "        vertical-align: top;\n",
       "    }\n",
       "\n",
       "    .dataframe thead th {\n",
       "        text-align: right;\n",
       "    }\n",
       "</style>\n",
       "<table border=\"1\" class=\"dataframe\">\n",
       "  <thead>\n",
       "    <tr style=\"text-align: right;\">\n",
       "      <th></th>\n",
       "      <th>quoteID</th>\n",
       "      <th>quotation</th>\n",
       "      <th>speaker</th>\n",
       "      <th>qids</th>\n",
       "      <th>date</th>\n",
       "      <th>numOccurrences</th>\n",
       "      <th>probas</th>\n",
       "      <th>urls</th>\n",
       "      <th>phase</th>\n",
       "      <th>movie</th>\n",
       "    </tr>\n",
       "  </thead>\n",
       "  <tbody>\n",
       "    <tr>\n",
       "      <th>0</th>\n",
       "      <td>2015-02-14-007911</td>\n",
       "      <td>For fans of the book they know that Effie's ro...</td>\n",
       "      <td>None</td>\n",
       "      <td>[]</td>\n",
       "      <td>2015-02-14 00:47:05</td>\n",
       "      <td>1</td>\n",
       "      <td>[[None, 0.8008], [Francis Lawrence, 0.1299], [...</td>\n",
       "      <td>[http://www.buzzfeed.com/kristinharris/secrets...</td>\n",
       "      <td>E</td>\n",
       "      <td>The Hunger Games: Mockingjay - Part 2</td>\n",
       "    </tr>\n",
       "    <tr>\n",
       "      <th>1</th>\n",
       "      <td>2015-11-15-027947</td>\n",
       "      <td>Is Ferguson like Mockingjay?</td>\n",
       "      <td>Laci Green</td>\n",
       "      <td>[Q16843606]</td>\n",
       "      <td>2015-11-15 03:15:53</td>\n",
       "      <td>1</td>\n",
       "      <td>[[Laci Green, 0.9013], [None, 0.0987]]</td>\n",
       "      <td>[http://www.dailykos.com/story/2015/11/15/1450...</td>\n",
       "      <td>E</td>\n",
       "      <td>The Hunger Games: Mockingjay - Part 2</td>\n",
       "    </tr>\n",
       "    <tr>\n",
       "      <th>2</th>\n",
       "      <td>2015-04-26-028061</td>\n",
       "      <td>It's pretty exciting-I have to say. I saw the ...</td>\n",
       "      <td>None</td>\n",
       "      <td>[]</td>\n",
       "      <td>2015-04-26 11:56:10</td>\n",
       "      <td>2</td>\n",
       "      <td>[[None, 0.8589], [Jared Leto, 0.0772], [Joss W...</td>\n",
       "      <td>[http://ign.com/articles/2015/04/24/joss-whedo...</td>\n",
       "      <td>E</td>\n",
       "      <td>Star Wars: Episode VII - The Force Awakens</td>\n",
       "    </tr>\n",
       "    <tr>\n",
       "      <th>3</th>\n",
       "      <td>2015-12-31-028469</td>\n",
       "      <td>I want to clarify my interview on the `Charlie...</td>\n",
       "      <td>George Lucas</td>\n",
       "      <td>[Q1507803, Q38222]</td>\n",
       "      <td>2015-12-31 16:48:00</td>\n",
       "      <td>7</td>\n",
       "      <td>[[George Lucas, 0.5327], [None, 0.4248], [Char...</td>\n",
       "      <td>[http://www.escapistmagazine.com/news/view/165...</td>\n",
       "      <td>E</td>\n",
       "      <td>Star Wars: Episode VII - The Force Awakens</td>\n",
       "    </tr>\n",
       "    <tr>\n",
       "      <th>4</th>\n",
       "      <td>2015-12-10-059754</td>\n",
       "      <td>Is Daredevil joining the Avengers for Infinity...</td>\n",
       "      <td>Scott Davis</td>\n",
       "      <td>[]</td>\n",
       "      <td>2015-12-10 23:18:29</td>\n",
       "      <td>2</td>\n",
       "      <td>[[None, 0.4806], [Scott Davis, 0.4017], [Antho...</td>\n",
       "      <td>[http://www.flickeringmyth.com/2015/12/is-dare...</td>\n",
       "      <td>E</td>\n",
       "      <td>Avengers: Age of Ultron</td>\n",
       "    </tr>\n",
       "  </tbody>\n",
       "</table>\n",
       "</div>"
      ],
      "text/plain": [
       "             quoteID                                          quotation  \\\n",
       "0  2015-02-14-007911  For fans of the book they know that Effie's ro...   \n",
       "1  2015-11-15-027947                       Is Ferguson like Mockingjay?   \n",
       "2  2015-04-26-028061  It's pretty exciting-I have to say. I saw the ...   \n",
       "3  2015-12-31-028469  I want to clarify my interview on the `Charlie...   \n",
       "4  2015-12-10-059754  Is Daredevil joining the Avengers for Infinity...   \n",
       "\n",
       "        speaker                qids                date  numOccurrences  \\\n",
       "0          None                  [] 2015-02-14 00:47:05               1   \n",
       "1    Laci Green         [Q16843606] 2015-11-15 03:15:53               1   \n",
       "2          None                  [] 2015-04-26 11:56:10               2   \n",
       "3  George Lucas  [Q1507803, Q38222] 2015-12-31 16:48:00               7   \n",
       "4   Scott Davis                  [] 2015-12-10 23:18:29               2   \n",
       "\n",
       "                                              probas  \\\n",
       "0  [[None, 0.8008], [Francis Lawrence, 0.1299], [...   \n",
       "1             [[Laci Green, 0.9013], [None, 0.0987]]   \n",
       "2  [[None, 0.8589], [Jared Leto, 0.0772], [Joss W...   \n",
       "3  [[George Lucas, 0.5327], [None, 0.4248], [Char...   \n",
       "4  [[None, 0.4806], [Scott Davis, 0.4017], [Antho...   \n",
       "\n",
       "                                                urls phase  \\\n",
       "0  [http://www.buzzfeed.com/kristinharris/secrets...     E   \n",
       "1  [http://www.dailykos.com/story/2015/11/15/1450...     E   \n",
       "2  [http://ign.com/articles/2015/04/24/joss-whedo...     E   \n",
       "3  [http://www.escapistmagazine.com/news/view/165...     E   \n",
       "4  [http://www.flickeringmyth.com/2015/12/is-dare...     E   \n",
       "\n",
       "                                        movie  \n",
       "0       The Hunger Games: Mockingjay - Part 2  \n",
       "1       The Hunger Games: Mockingjay - Part 2  \n",
       "2  Star Wars: Episode VII - The Force Awakens  \n",
       "3  Star Wars: Episode VII - The Force Awakens  \n",
       "4                     Avengers: Age of Ultron  "
      ]
     },
     "execution_count": 11,
     "metadata": {},
     "output_type": "execute_result"
    }
   ],
   "source": [
    "df.head()"
   ]
  },
  {
   "cell_type": "markdown",
   "id": "865b6c11",
   "metadata": {},
   "source": [
    "Furthermore, we realize that there is a super specific timestamp on the `date` attribute. Later on we will match daily box office sales with the Quotebank data, so we strip the timestamps from the specific time of the date and focus solely on the date."
   ]
  },
  {
   "cell_type": "code",
   "execution_count": 12,
   "id": "bcc03175",
   "metadata": {},
   "outputs": [
    {
     "data": {
      "application/vnd.jupyter.widget-view+json": {
       "model_id": "3801ecda42314819897acc2bc01cacfe",
       "version_major": 2,
       "version_minor": 0
      },
      "text/plain": [
       "  0%|          | 0/42311 [00:00<?, ?it/s]"
      ]
     },
     "metadata": {},
     "output_type": "display_data"
    }
   ],
   "source": [
    "# Remove last part of date from the quoteID date string to be able to have an average daily sentiment score\n",
    "reduced_dates = [(\"-\").join(date.split(\"-\")[:3]) for date in tqdm(df.quoteID)]\n",
    "df['date'] = reduced_dates"
   ]
  },
  {
   "cell_type": "code",
   "execution_count": 13,
   "id": "d7bf83d0",
   "metadata": {},
   "outputs": [
    {
     "data": {
      "text/html": [
       "<div>\n",
       "<style scoped>\n",
       "    .dataframe tbody tr th:only-of-type {\n",
       "        vertical-align: middle;\n",
       "    }\n",
       "\n",
       "    .dataframe tbody tr th {\n",
       "        vertical-align: top;\n",
       "    }\n",
       "\n",
       "    .dataframe thead th {\n",
       "        text-align: right;\n",
       "    }\n",
       "</style>\n",
       "<table border=\"1\" class=\"dataframe\">\n",
       "  <thead>\n",
       "    <tr style=\"text-align: right;\">\n",
       "      <th></th>\n",
       "      <th>quoteID</th>\n",
       "      <th>quotation</th>\n",
       "      <th>speaker</th>\n",
       "      <th>qids</th>\n",
       "      <th>date</th>\n",
       "      <th>numOccurrences</th>\n",
       "      <th>probas</th>\n",
       "      <th>urls</th>\n",
       "      <th>phase</th>\n",
       "      <th>movie</th>\n",
       "    </tr>\n",
       "  </thead>\n",
       "  <tbody>\n",
       "    <tr>\n",
       "      <th>0</th>\n",
       "      <td>2015-02-14-007911</td>\n",
       "      <td>For fans of the book they know that Effie's ro...</td>\n",
       "      <td>None</td>\n",
       "      <td>[]</td>\n",
       "      <td>2015-02-14</td>\n",
       "      <td>1</td>\n",
       "      <td>[[None, 0.8008], [Francis Lawrence, 0.1299], [...</td>\n",
       "      <td>[http://www.buzzfeed.com/kristinharris/secrets...</td>\n",
       "      <td>E</td>\n",
       "      <td>The Hunger Games: Mockingjay - Part 2</td>\n",
       "    </tr>\n",
       "    <tr>\n",
       "      <th>1</th>\n",
       "      <td>2015-11-15-027947</td>\n",
       "      <td>Is Ferguson like Mockingjay?</td>\n",
       "      <td>Laci Green</td>\n",
       "      <td>[Q16843606]</td>\n",
       "      <td>2015-11-15</td>\n",
       "      <td>1</td>\n",
       "      <td>[[Laci Green, 0.9013], [None, 0.0987]]</td>\n",
       "      <td>[http://www.dailykos.com/story/2015/11/15/1450...</td>\n",
       "      <td>E</td>\n",
       "      <td>The Hunger Games: Mockingjay - Part 2</td>\n",
       "    </tr>\n",
       "    <tr>\n",
       "      <th>2</th>\n",
       "      <td>2015-04-26-028061</td>\n",
       "      <td>It's pretty exciting-I have to say. I saw the ...</td>\n",
       "      <td>None</td>\n",
       "      <td>[]</td>\n",
       "      <td>2015-04-26</td>\n",
       "      <td>2</td>\n",
       "      <td>[[None, 0.8589], [Jared Leto, 0.0772], [Joss W...</td>\n",
       "      <td>[http://ign.com/articles/2015/04/24/joss-whedo...</td>\n",
       "      <td>E</td>\n",
       "      <td>Star Wars: Episode VII - The Force Awakens</td>\n",
       "    </tr>\n",
       "    <tr>\n",
       "      <th>3</th>\n",
       "      <td>2015-12-31-028469</td>\n",
       "      <td>I want to clarify my interview on the `Charlie...</td>\n",
       "      <td>George Lucas</td>\n",
       "      <td>[Q1507803, Q38222]</td>\n",
       "      <td>2015-12-31</td>\n",
       "      <td>7</td>\n",
       "      <td>[[George Lucas, 0.5327], [None, 0.4248], [Char...</td>\n",
       "      <td>[http://www.escapistmagazine.com/news/view/165...</td>\n",
       "      <td>E</td>\n",
       "      <td>Star Wars: Episode VII - The Force Awakens</td>\n",
       "    </tr>\n",
       "    <tr>\n",
       "      <th>4</th>\n",
       "      <td>2015-12-10-059754</td>\n",
       "      <td>Is Daredevil joining the Avengers for Infinity...</td>\n",
       "      <td>Scott Davis</td>\n",
       "      <td>[]</td>\n",
       "      <td>2015-12-10</td>\n",
       "      <td>2</td>\n",
       "      <td>[[None, 0.4806], [Scott Davis, 0.4017], [Antho...</td>\n",
       "      <td>[http://www.flickeringmyth.com/2015/12/is-dare...</td>\n",
       "      <td>E</td>\n",
       "      <td>Avengers: Age of Ultron</td>\n",
       "    </tr>\n",
       "  </tbody>\n",
       "</table>\n",
       "</div>"
      ],
      "text/plain": [
       "             quoteID                                          quotation  \\\n",
       "0  2015-02-14-007911  For fans of the book they know that Effie's ro...   \n",
       "1  2015-11-15-027947                       Is Ferguson like Mockingjay?   \n",
       "2  2015-04-26-028061  It's pretty exciting-I have to say. I saw the ...   \n",
       "3  2015-12-31-028469  I want to clarify my interview on the `Charlie...   \n",
       "4  2015-12-10-059754  Is Daredevil joining the Avengers for Infinity...   \n",
       "\n",
       "        speaker                qids        date  numOccurrences  \\\n",
       "0          None                  []  2015-02-14               1   \n",
       "1    Laci Green         [Q16843606]  2015-11-15               1   \n",
       "2          None                  []  2015-04-26               2   \n",
       "3  George Lucas  [Q1507803, Q38222]  2015-12-31               7   \n",
       "4   Scott Davis                  []  2015-12-10               2   \n",
       "\n",
       "                                              probas  \\\n",
       "0  [[None, 0.8008], [Francis Lawrence, 0.1299], [...   \n",
       "1             [[Laci Green, 0.9013], [None, 0.0987]]   \n",
       "2  [[None, 0.8589], [Jared Leto, 0.0772], [Joss W...   \n",
       "3  [[George Lucas, 0.5327], [None, 0.4248], [Char...   \n",
       "4  [[None, 0.4806], [Scott Davis, 0.4017], [Antho...   \n",
       "\n",
       "                                                urls phase  \\\n",
       "0  [http://www.buzzfeed.com/kristinharris/secrets...     E   \n",
       "1  [http://www.dailykos.com/story/2015/11/15/1450...     E   \n",
       "2  [http://ign.com/articles/2015/04/24/joss-whedo...     E   \n",
       "3  [http://www.escapistmagazine.com/news/view/165...     E   \n",
       "4  [http://www.flickeringmyth.com/2015/12/is-dare...     E   \n",
       "\n",
       "                                        movie  \n",
       "0       The Hunger Games: Mockingjay - Part 2  \n",
       "1       The Hunger Games: Mockingjay - Part 2  \n",
       "2  Star Wars: Episode VII - The Force Awakens  \n",
       "3  Star Wars: Episode VII - The Force Awakens  \n",
       "4                     Avengers: Age of Ultron  "
      ]
     },
     "execution_count": 13,
     "metadata": {},
     "output_type": "execute_result"
    }
   ],
   "source": [
    "df.head()"
   ]
  },
  {
   "cell_type": "markdown",
   "id": "93fb57af",
   "metadata": {},
   "source": [
    "The attribute `phase` seem to mostly take the values 'E'. The investigation below shows that all of the entries are in fact 'E' so we decide to remove it from the dataframe. From the documentation of the data we also do not find it relevant for our case. Also we won't be using the `quoteID` attribute but instead the WikiData compatible `qids`."
   ]
  },
  {
   "cell_type": "code",
   "execution_count": 14,
   "id": "d4fa92ff",
   "metadata": {},
   "outputs": [],
   "source": [
    "np.unique(df.phase, return_counts=True)\n",
    "df = df.drop(['phase', 'quoteID'], axis=1)"
   ]
  },
  {
   "cell_type": "markdown",
   "id": "7a46561a",
   "metadata": {},
   "source": [
    "### Handling outliers in the numOccurrences"
   ]
  },
  {
   "cell_type": "markdown",
   "id": "03908f39",
   "metadata": {},
   "source": [
    "We want to check for outliers in the number of occurrences as it is the only numercal attribute left. By a first descriptive analysis of the variable we suspect something fishy as the maximum number is quite high. We note that there are no weird values on the other side as the minimum value of occurrences is 1."
   ]
  },
  {
   "cell_type": "code",
   "execution_count": 15,
   "id": "eca1c71f",
   "metadata": {},
   "outputs": [
    {
     "data": {
      "text/plain": [
       "count    42311.000000\n",
       "mean         6.967361\n",
       "std        282.462120\n",
       "min          1.000000\n",
       "25%          1.000000\n",
       "50%          1.000000\n",
       "75%          2.000000\n",
       "max      48886.000000\n",
       "Name: numOccurrences, dtype: float64"
      ]
     },
     "execution_count": 15,
     "metadata": {},
     "output_type": "execute_result"
    }
   ],
   "source": [
    "df.numOccurrences.describe()"
   ]
  },
  {
   "cell_type": "markdown",
   "id": "bb6ff7a0",
   "metadata": {},
   "source": [
    "We also want to see if this seems unfeasible when looking at the plots. The boxplot reveals that there is a need to investigate outliers and the plot of the occurences reveal that the distribution seem to follow a strong power law. We will have to deal with outliers to get anything meaningful from the data."
   ]
  },
  {
   "cell_type": "code",
   "execution_count": 16,
   "id": "61a8850c",
   "metadata": {},
   "outputs": [
    {
     "data": {
      "image/png": "[encoded data removed]",
      "text/plain": [
       "<Figure size 432x288 with 1 Axes>"
      ]
     },
     "metadata": {
      "needs_background": "light"
     },
     "output_type": "display_data"
    },
    {
     "data": {
      "image/png": "[encoded data removed]",
      "text/plain": [
       "<Figure size 432x288 with 1 Axes>"
      ]
     },
     "metadata": {
      "needs_background": "light"
     },
     "output_type": "display_data"
    }
   ],
   "source": [
    "plt.boxplot(df.numOccurrences)\n",
    "plt.ylabel(\"Number of Occurrences\")\n",
    "plt.title(\"With outliers\")\n",
    "plt.show()\n",
    "\n",
    "plt.hist(df.numOccurrences, bins=50)\n",
    "plt.ylabel(\"Number of Occurrences\")\n",
    "plt.title(\"Histogram with outliers\")\n",
    "plt.show()"
   ]
  },
  {
   "cell_type": "markdown",
   "id": "5f7b7e90",
   "metadata": {},
   "source": [
    "As a start we will investigate whether the IQR outlier removal approach is feasible for our data. The code is taken and re-written from our homework 1 hand-in.\n"
   ]
  },
  {
   "cell_type": "code",
   "execution_count": 17,
   "id": "b008a857",
   "metadata": {},
   "outputs": [],
   "source": [
    "def get_outliers(data):\n",
    "    \"\"\" Filters out outliers that is more than 1.5 times lower than the 25% quantile and above 1.5 times higher than the \n",
    "    75% quantile.\n",
    "    \n",
    "    Input is the sub-dataframe consisting of the columns assosiacted with kilometrage data.\n",
    "    returns the indeces for rows that contains outliers.\n",
    "    \n",
    "    Function idea is taken from our implementation in Homework 1\n",
    "    \n",
    "    \"\"\"\n",
    "    \n",
    "    series = pd.Series(data)\n",
    "    \n",
    "    IQR = (series.quantile(0.75) - series.quantile(0.25)) \n",
    "    outlier_threshold = IQR * 1.5\n",
    "\n",
    "    # calculating decision boundaries\n",
    "    lower = series.quantile(0.25)-outlier_threshold\n",
    "    upper = series.quantile(0.75)+outlier_threshold\n",
    "\n",
    "    # Finds the union of outlier indeces from the previous column and the current column\n",
    "    outlier_indeces = np.union1d(series.index[series < lower], series.index[series > upper])\n",
    "\n",
    "    return np.array([int(x) for x in outlier_indeces])"
   ]
  },
  {
   "cell_type": "code",
   "execution_count": 18,
   "id": "5d939daf",
   "metadata": {},
   "outputs": [
    {
     "name": "stdout",
     "output_type": "stream",
     "text": [
      "Number of IQR outliers: 6734\n",
      "Ratio of IQR outliers in original data: 0.15915482971331332\n"
     ]
    }
   ],
   "source": [
    "outlier_ids = get_outliers(df.numOccurrences)\n",
    "print(f\"Number of IQR outliers: {len(outlier_ids)}\")\n",
    "print(f\"Ratio of IQR outliers in original data: {len(outlier_ids)/len(df)}\")"
   ]
  },
  {
   "cell_type": "code",
   "execution_count": 19,
   "id": "7efd04fb",
   "metadata": {},
   "outputs": [
    {
     "data": {
      "text/plain": [
       "(35577, 8)"
      ]
     },
     "execution_count": 19,
     "metadata": {},
     "output_type": "execute_result"
    }
   ],
   "source": [
    "df = df.drop(outlier_ids)\n",
    "df.index = np.arange(len(df))\n",
    "df.shape"
   ]
  },
  {
   "cell_type": "markdown",
   "id": "7bad7644",
   "metadata": {},
   "source": [
    "So 15% of the data was determined to be outliers based on the IQR range. We visualize the new distribution in the following. "
   ]
  },
  {
   "cell_type": "code",
   "execution_count": 20,
   "id": "088c81dd",
   "metadata": {},
   "outputs": [
    {
     "data": {
      "text/html": [
       "<div>\n",
       "<style scoped>\n",
       "    .dataframe tbody tr th:only-of-type {\n",
       "        vertical-align: middle;\n",
       "    }\n",
       "\n",
       "    .dataframe tbody tr th {\n",
       "        vertical-align: top;\n",
       "    }\n",
       "\n",
       "    .dataframe thead th {\n",
       "        text-align: right;\n",
       "    }\n",
       "</style>\n",
       "<table border=\"1\" class=\"dataframe\">\n",
       "  <thead>\n",
       "    <tr style=\"text-align: right;\">\n",
       "      <th></th>\n",
       "      <th>numOccurrences</th>\n",
       "    </tr>\n",
       "  </thead>\n",
       "  <tbody>\n",
       "    <tr>\n",
       "      <th>count</th>\n",
       "      <td>35577.000000</td>\n",
       "    </tr>\n",
       "    <tr>\n",
       "      <th>mean</th>\n",
       "      <td>1.364674</td>\n",
       "    </tr>\n",
       "    <tr>\n",
       "      <th>std</th>\n",
       "      <td>0.626255</td>\n",
       "    </tr>\n",
       "    <tr>\n",
       "      <th>min</th>\n",
       "      <td>1.000000</td>\n",
       "    </tr>\n",
       "    <tr>\n",
       "      <th>25%</th>\n",
       "      <td>1.000000</td>\n",
       "    </tr>\n",
       "    <tr>\n",
       "      <th>50%</th>\n",
       "      <td>1.000000</td>\n",
       "    </tr>\n",
       "    <tr>\n",
       "      <th>75%</th>\n",
       "      <td>2.000000</td>\n",
       "    </tr>\n",
       "    <tr>\n",
       "      <th>max</th>\n",
       "      <td>3.000000</td>\n",
       "    </tr>\n",
       "  </tbody>\n",
       "</table>\n",
       "</div>"
      ],
      "text/plain": [
       "       numOccurrences\n",
       "count    35577.000000\n",
       "mean         1.364674\n",
       "std          0.626255\n",
       "min          1.000000\n",
       "25%          1.000000\n",
       "50%          1.000000\n",
       "75%          2.000000\n",
       "max          3.000000"
      ]
     },
     "execution_count": 20,
     "metadata": {},
     "output_type": "execute_result"
    }
   ],
   "source": [
    "df.describe()"
   ]
  },
  {
   "cell_type": "code",
   "execution_count": 21,
   "id": "06f4693b",
   "metadata": {},
   "outputs": [
    {
     "data": {
      "image/png": "[encoded data removed]",
      "text/plain": [
       "<Figure size 432x288 with 1 Axes>"
      ]
     },
     "metadata": {
      "needs_background": "light"
     },
     "output_type": "display_data"
    },
    {
     "data": {
      "image/png": "[encoded data removed]",
      "text/plain": [
       "<Figure size 432x288 with 1 Axes>"
      ]
     },
     "metadata": {
      "needs_background": "light"
     },
     "output_type": "display_data"
    }
   ],
   "source": [
    "plt.boxplot(df.numOccurrences)\n",
    "plt.ylabel(\"Number of Occurrences for ID's\")\n",
    "plt.title(\"Without IQR outliers\")\n",
    "plt.show()\n",
    "\n",
    "plt.hist(df.numOccurrences)\n",
    "plt.ylabel(\"Number of Occurrences for ID's\")\n",
    "plt.title(\"Histogram Without IQR outliers\")\n",
    "plt.show()"
   ]
  },
  {
   "cell_type": "code",
   "execution_count": 22,
   "id": "6a674aab",
   "metadata": {},
   "outputs": [
    {
     "data": {
      "text/html": [
       "<div>\n",
       "<style scoped>\n",
       "    .dataframe tbody tr th:only-of-type {\n",
       "        vertical-align: middle;\n",
       "    }\n",
       "\n",
       "    .dataframe tbody tr th {\n",
       "        vertical-align: top;\n",
       "    }\n",
       "\n",
       "    .dataframe thead th {\n",
       "        text-align: right;\n",
       "    }\n",
       "</style>\n",
       "<table border=\"1\" class=\"dataframe\">\n",
       "  <thead>\n",
       "    <tr style=\"text-align: right;\">\n",
       "      <th></th>\n",
       "      <th>quotation</th>\n",
       "      <th>speaker</th>\n",
       "      <th>qids</th>\n",
       "      <th>date</th>\n",
       "      <th>numOccurrences</th>\n",
       "      <th>probas</th>\n",
       "      <th>urls</th>\n",
       "      <th>movie</th>\n",
       "    </tr>\n",
       "  </thead>\n",
       "  <tbody>\n",
       "    <tr>\n",
       "      <th>0</th>\n",
       "      <td>For fans of the book they know that Effie's ro...</td>\n",
       "      <td>None</td>\n",
       "      <td>[]</td>\n",
       "      <td>2015-02-14</td>\n",
       "      <td>1</td>\n",
       "      <td>[[None, 0.8008], [Francis Lawrence, 0.1299], [...</td>\n",
       "      <td>[http://www.buzzfeed.com/kristinharris/secrets...</td>\n",
       "      <td>The Hunger Games: Mockingjay - Part 2</td>\n",
       "    </tr>\n",
       "    <tr>\n",
       "      <th>1</th>\n",
       "      <td>Is Ferguson like Mockingjay?</td>\n",
       "      <td>Laci Green</td>\n",
       "      <td>[Q16843606]</td>\n",
       "      <td>2015-11-15</td>\n",
       "      <td>1</td>\n",
       "      <td>[[Laci Green, 0.9013], [None, 0.0987]]</td>\n",
       "      <td>[http://www.dailykos.com/story/2015/11/15/1450...</td>\n",
       "      <td>The Hunger Games: Mockingjay - Part 2</td>\n",
       "    </tr>\n",
       "    <tr>\n",
       "      <th>2</th>\n",
       "      <td>It's pretty exciting-I have to say. I saw the ...</td>\n",
       "      <td>None</td>\n",
       "      <td>[]</td>\n",
       "      <td>2015-04-26</td>\n",
       "      <td>2</td>\n",
       "      <td>[[None, 0.8589], [Jared Leto, 0.0772], [Joss W...</td>\n",
       "      <td>[http://ign.com/articles/2015/04/24/joss-whedo...</td>\n",
       "      <td>Star Wars: Episode VII - The Force Awakens</td>\n",
       "    </tr>\n",
       "    <tr>\n",
       "      <th>3</th>\n",
       "      <td>Is Daredevil joining the Avengers for Infinity...</td>\n",
       "      <td>Scott Davis</td>\n",
       "      <td>[]</td>\n",
       "      <td>2015-12-10</td>\n",
       "      <td>2</td>\n",
       "      <td>[[None, 0.4806], [Scott Davis, 0.4017], [Antho...</td>\n",
       "      <td>[http://www.flickeringmyth.com/2015/12/is-dare...</td>\n",
       "      <td>Avengers: Age of Ultron</td>\n",
       "    </tr>\n",
       "    <tr>\n",
       "      <th>4</th>\n",
       "      <td>It's the dawn of a new Star Wars era,</td>\n",
       "      <td>None</td>\n",
       "      <td>[]</td>\n",
       "      <td>2015-12-18</td>\n",
       "      <td>1</td>\n",
       "      <td>[[None, 0.9462], [george lucas, 0.0538]]</td>\n",
       "      <td>[http://carbonated.tv/viral/australian-couple-...</td>\n",
       "      <td>Star Wars: Episode VII - The Force Awakens</td>\n",
       "    </tr>\n",
       "  </tbody>\n",
       "</table>\n",
       "</div>"
      ],
      "text/plain": [
       "                                           quotation      speaker  \\\n",
       "0  For fans of the book they know that Effie's ro...         None   \n",
       "1                       Is Ferguson like Mockingjay?   Laci Green   \n",
       "2  It's pretty exciting-I have to say. I saw the ...         None   \n",
       "3  Is Daredevil joining the Avengers for Infinity...  Scott Davis   \n",
       "4              It's the dawn of a new Star Wars era,         None   \n",
       "\n",
       "          qids        date  numOccurrences  \\\n",
       "0           []  2015-02-14               1   \n",
       "1  [Q16843606]  2015-11-15               1   \n",
       "2           []  2015-04-26               2   \n",
       "3           []  2015-12-10               2   \n",
       "4           []  2015-12-18               1   \n",
       "\n",
       "                                              probas  \\\n",
       "0  [[None, 0.8008], [Francis Lawrence, 0.1299], [...   \n",
       "1             [[Laci Green, 0.9013], [None, 0.0987]]   \n",
       "2  [[None, 0.8589], [Jared Leto, 0.0772], [Joss W...   \n",
       "3  [[None, 0.4806], [Scott Davis, 0.4017], [Antho...   \n",
       "4           [[None, 0.9462], [george lucas, 0.0538]]   \n",
       "\n",
       "                                                urls  \\\n",
       "0  [http://www.buzzfeed.com/kristinharris/secrets...   \n",
       "1  [http://www.dailykos.com/story/2015/11/15/1450...   \n",
       "2  [http://ign.com/articles/2015/04/24/joss-whedo...   \n",
       "3  [http://www.flickeringmyth.com/2015/12/is-dare...   \n",
       "4  [http://carbonated.tv/viral/australian-couple-...   \n",
       "\n",
       "                                        movie  \n",
       "0       The Hunger Games: Mockingjay - Part 2  \n",
       "1       The Hunger Games: Mockingjay - Part 2  \n",
       "2  Star Wars: Episode VII - The Force Awakens  \n",
       "3                     Avengers: Age of Ultron  \n",
       "4  Star Wars: Episode VII - The Force Awakens  "
      ]
     },
     "execution_count": 22,
     "metadata": {},
     "output_type": "execute_result"
    }
   ],
   "source": [
    "df.head()"
   ]
  },
  {
   "cell_type": "markdown",
   "id": "ba75c479",
   "metadata": {},
   "source": [
    "### Dealing with the quoter-IDs"
   ]
  },
  {
   "cell_type": "markdown",
   "id": "d1d68087",
   "metadata": {},
   "source": [
    "Furthermore, we see that the `qids` might need some engineering. In the initial analyses on the 2019 NYT data we saw that some individuals are quoted differently even though it's in fact the same speaker. For instance this was the case for the speaker \"Donald Trump\" and \"President Trump\". In this case these two denotations share a common qID for which reason we would want to be able to get all quotes from Donald Trump and President Trump when searching for them independently. Even though it might not be as important with movies, we deem it good practice to regulate this behaviour. We start by engineering empty quoteID-lists as an unknown token."
   ]
  },
  {
   "cell_type": "code",
   "execution_count": 23,
   "id": "7cbda834",
   "metadata": {},
   "outputs": [
    {
     "name": "stdout",
     "output_type": "stream",
     "text": [
      "Number of currently unknown qids: 13599\n"
     ]
    }
   ],
   "source": [
    "empty = np.array([entry for entry, qID_list in enumerate(df.qids) if len(qID_list) == 0])\n",
    "print(f\"Number of currently unknown qids: {len(empty)}\")"
   ]
  },
  {
   "cell_type": "code",
   "execution_count": 24,
   "id": "105fb567",
   "metadata": {},
   "outputs": [
    {
     "data": {
      "text/plain": [
       "0        [<UNK>]\n",
       "1    [Q16843606]\n",
       "2        [<UNK>]\n",
       "3        [<UNK>]\n",
       "4        [<UNK>]\n",
       "Name: qids, dtype: object"
      ]
     },
     "execution_count": 24,
     "metadata": {},
     "output_type": "execute_result"
    }
   ],
   "source": [
    "pd.options.mode.chained_assignment = None\n",
    "df['qids'][empty] = [['<UNK>']] * len(empty)\n",
    "\n",
    "df.qids.head()"
   ]
  },
  {
   "cell_type": "markdown",
   "id": "b1c5672e",
   "metadata": {},
   "source": [
    "Using this '\\<UNK>' token we are able to search the df to replace this token with a qID if the speaker occurs with a qID another place in the data. In this manner all qIDs of a specified speaker will be the full list of qIDs associated with that speaker."
   ]
  },
  {
   "cell_type": "markdown",
   "id": "0f7f7c3f",
   "metadata": {},
   "source": [
    "    "
   ]
  },
  {
   "cell_type": "code",
   "execution_count": 25,
   "id": "fdf210cf",
   "metadata": {},
   "outputs": [],
   "source": [
    "def set_qID(speaker, df):\n",
    "    #Extract qID's of a speaker\n",
    "    qIDs = {speaker: list({quote_ID for quote_IDlist in df.qids[df['speaker'] == speaker] for quote_ID in quote_IDlist})}\n",
    "    \n",
    "    # Conditions for removing the <UNK> token.\n",
    "    if len(qIDs[speaker]) > 1 and '<UNK>' in qIDs[speaker]:\n",
    "        qIDs[speaker].remove('<UNK>')\n",
    "    \n",
    "    # Creating new qIDs for replacing in original dataframe\n",
    "    speaker_indeces = np.where(df.speaker == speaker)[0]\n",
    "    replacement = pd.Series([qIDs[speaker]] * (sum(df['speaker'] == speaker)), index=speaker_indeces)\n",
    "    \n",
    "    # Replace\n",
    "    df.qids[df['speaker'] == speaker] = replacement"
   ]
  },
  {
   "cell_type": "markdown",
   "id": "84a1190b",
   "metadata": {},
   "source": [
    "This now works, which can be seen on the speaker George Lucas in the following cells."
   ]
  },
  {
   "cell_type": "code",
   "execution_count": 26,
   "id": "bb5f6d3a",
   "metadata": {},
   "outputs": [
    {
     "data": {
      "text/html": [
       "<div>\n",
       "<style scoped>\n",
       "    .dataframe tbody tr th:only-of-type {\n",
       "        vertical-align: middle;\n",
       "    }\n",
       "\n",
       "    .dataframe tbody tr th {\n",
       "        vertical-align: top;\n",
       "    }\n",
       "\n",
       "    .dataframe thead th {\n",
       "        text-align: right;\n",
       "    }\n",
       "</style>\n",
       "<table border=\"1\" class=\"dataframe\">\n",
       "  <thead>\n",
       "    <tr style=\"text-align: right;\">\n",
       "      <th></th>\n",
       "      <th>quotation</th>\n",
       "      <th>speaker</th>\n",
       "      <th>qids</th>\n",
       "      <th>date</th>\n",
       "      <th>numOccurrences</th>\n",
       "      <th>probas</th>\n",
       "      <th>urls</th>\n",
       "      <th>movie</th>\n",
       "    </tr>\n",
       "  </thead>\n",
       "  <tbody>\n",
       "    <tr>\n",
       "      <th>17</th>\n",
       "      <td>When I started to go into Star Wars, [ my frie...</td>\n",
       "      <td>George Lucas</td>\n",
       "      <td>[Q1507803, Q38222]</td>\n",
       "      <td>2015-12-31</td>\n",
       "      <td>1</td>\n",
       "      <td>[[George Lucas, 0.7612], [Colin Trevorrow, 0.1...</td>\n",
       "      <td>[http://theindianrepublic.com/i-sold-star-wars...</td>\n",
       "      <td>Star Wars: Episode VII - The Force Awakens</td>\n",
       "    </tr>\n",
       "    <tr>\n",
       "      <th>31</th>\n",
       "      <td>After `Star Wars,' I went back to Warner Bros....</td>\n",
       "      <td>George Lucas</td>\n",
       "      <td>[Q1507803, Q38222]</td>\n",
       "      <td>2015-04-19</td>\n",
       "      <td>1</td>\n",
       "      <td>[[George Lucas, 0.6949], [None, 0.1538], [Step...</td>\n",
       "      <td>[http://sfgate.com/technology/businessinsider/...</td>\n",
       "      <td>Star Wars: Episode VII - The Force Awakens</td>\n",
       "    </tr>\n",
       "    <tr>\n",
       "      <th>54</th>\n",
       "      <td>a Star Wars for girls</td>\n",
       "      <td>George Lucas</td>\n",
       "      <td>[&lt;UNK&gt;]</td>\n",
       "      <td>2015-01-27</td>\n",
       "      <td>1</td>\n",
       "      <td>[[None, 0.5037], [George Lucas, 0.4963]]</td>\n",
       "      <td>[http://www.comicmix.com/2015/01/27/box-office...</td>\n",
       "      <td>Star Wars: Episode VII - The Force Awakens</td>\n",
       "    </tr>\n",
       "    <tr>\n",
       "      <th>68</th>\n",
       "      <td>We became friends and then we started dating a...</td>\n",
       "      <td>George Lucas</td>\n",
       "      <td>[Q1507803, Q38222]</td>\n",
       "      <td>2015-12-19</td>\n",
       "      <td>2</td>\n",
       "      <td>[[George Lucas, 0.5894], [None, 0.4106]]</td>\n",
       "      <td>[http://feeds.businessinsider.com.au/~/1290472...</td>\n",
       "      <td>Star Wars: Episode VII - The Force Awakens</td>\n",
       "    </tr>\n",
       "    <tr>\n",
       "      <th>85</th>\n",
       "      <td>I might use the lightsaber instead of a torch ...</td>\n",
       "      <td>George Lucas</td>\n",
       "      <td>[&lt;UNK&gt;]</td>\n",
       "      <td>2015-10-30</td>\n",
       "      <td>2</td>\n",
       "      <td>[[None, 0.8296], [George Lucas, 0.1704]]</td>\n",
       "      <td>[http://dailyliberal.com.au/story/3459543/movi...</td>\n",
       "      <td>Star Wars: Episode VII - The Force Awakens</td>\n",
       "    </tr>\n",
       "  </tbody>\n",
       "</table>\n",
       "</div>"
      ],
      "text/plain": [
       "                                            quotation       speaker  \\\n",
       "17  When I started to go into Star Wars, [ my frie...  George Lucas   \n",
       "31  After `Star Wars,' I went back to Warner Bros....  George Lucas   \n",
       "54                              a Star Wars for girls  George Lucas   \n",
       "68  We became friends and then we started dating a...  George Lucas   \n",
       "85  I might use the lightsaber instead of a torch ...  George Lucas   \n",
       "\n",
       "                  qids        date  numOccurrences  \\\n",
       "17  [Q1507803, Q38222]  2015-12-31               1   \n",
       "31  [Q1507803, Q38222]  2015-04-19               1   \n",
       "54             [<UNK>]  2015-01-27               1   \n",
       "68  [Q1507803, Q38222]  2015-12-19               2   \n",
       "85             [<UNK>]  2015-10-30               2   \n",
       "\n",
       "                                               probas  \\\n",
       "17  [[George Lucas, 0.7612], [Colin Trevorrow, 0.1...   \n",
       "31  [[George Lucas, 0.6949], [None, 0.1538], [Step...   \n",
       "54           [[None, 0.5037], [George Lucas, 0.4963]]   \n",
       "68           [[George Lucas, 0.5894], [None, 0.4106]]   \n",
       "85           [[None, 0.8296], [George Lucas, 0.1704]]   \n",
       "\n",
       "                                                 urls  \\\n",
       "17  [http://theindianrepublic.com/i-sold-star-wars...   \n",
       "31  [http://sfgate.com/technology/businessinsider/...   \n",
       "54  [http://www.comicmix.com/2015/01/27/box-office...   \n",
       "68  [http://feeds.businessinsider.com.au/~/1290472...   \n",
       "85  [http://dailyliberal.com.au/story/3459543/movi...   \n",
       "\n",
       "                                         movie  \n",
       "17  Star Wars: Episode VII - The Force Awakens  \n",
       "31  Star Wars: Episode VII - The Force Awakens  \n",
       "54  Star Wars: Episode VII - The Force Awakens  \n",
       "68  Star Wars: Episode VII - The Force Awakens  \n",
       "85  Star Wars: Episode VII - The Force Awakens  "
      ]
     },
     "execution_count": 26,
     "metadata": {},
     "output_type": "execute_result"
    }
   ],
   "source": [
    "df[df.speaker == 'George Lucas'].head()"
   ]
  },
  {
   "cell_type": "code",
   "execution_count": 27,
   "id": "308d8ea2",
   "metadata": {},
   "outputs": [
    {
     "data": {
      "text/html": [
       "<div>\n",
       "<style scoped>\n",
       "    .dataframe tbody tr th:only-of-type {\n",
       "        vertical-align: middle;\n",
       "    }\n",
       "\n",
       "    .dataframe tbody tr th {\n",
       "        vertical-align: top;\n",
       "    }\n",
       "\n",
       "    .dataframe thead th {\n",
       "        text-align: right;\n",
       "    }\n",
       "</style>\n",
       "<table border=\"1\" class=\"dataframe\">\n",
       "  <thead>\n",
       "    <tr style=\"text-align: right;\">\n",
       "      <th></th>\n",
       "      <th>quotation</th>\n",
       "      <th>speaker</th>\n",
       "      <th>qids</th>\n",
       "      <th>date</th>\n",
       "      <th>numOccurrences</th>\n",
       "      <th>probas</th>\n",
       "      <th>urls</th>\n",
       "      <th>movie</th>\n",
       "    </tr>\n",
       "  </thead>\n",
       "  <tbody>\n",
       "    <tr>\n",
       "      <th>17</th>\n",
       "      <td>When I started to go into Star Wars, [ my frie...</td>\n",
       "      <td>George Lucas</td>\n",
       "      <td>[Q1507803, Q38222]</td>\n",
       "      <td>2015-12-31</td>\n",
       "      <td>1</td>\n",
       "      <td>[[George Lucas, 0.7612], [Colin Trevorrow, 0.1...</td>\n",
       "      <td>[http://theindianrepublic.com/i-sold-star-wars...</td>\n",
       "      <td>Star Wars: Episode VII - The Force Awakens</td>\n",
       "    </tr>\n",
       "    <tr>\n",
       "      <th>31</th>\n",
       "      <td>After `Star Wars,' I went back to Warner Bros....</td>\n",
       "      <td>George Lucas</td>\n",
       "      <td>[Q1507803, Q38222]</td>\n",
       "      <td>2015-04-19</td>\n",
       "      <td>1</td>\n",
       "      <td>[[George Lucas, 0.6949], [None, 0.1538], [Step...</td>\n",
       "      <td>[http://sfgate.com/technology/businessinsider/...</td>\n",
       "      <td>Star Wars: Episode VII - The Force Awakens</td>\n",
       "    </tr>\n",
       "    <tr>\n",
       "      <th>54</th>\n",
       "      <td>a Star Wars for girls</td>\n",
       "      <td>George Lucas</td>\n",
       "      <td>[Q1507803, Q38222]</td>\n",
       "      <td>2015-01-27</td>\n",
       "      <td>1</td>\n",
       "      <td>[[None, 0.5037], [George Lucas, 0.4963]]</td>\n",
       "      <td>[http://www.comicmix.com/2015/01/27/box-office...</td>\n",
       "      <td>Star Wars: Episode VII - The Force Awakens</td>\n",
       "    </tr>\n",
       "    <tr>\n",
       "      <th>68</th>\n",
       "      <td>We became friends and then we started dating a...</td>\n",
       "      <td>George Lucas</td>\n",
       "      <td>[Q1507803, Q38222]</td>\n",
       "      <td>2015-12-19</td>\n",
       "      <td>2</td>\n",
       "      <td>[[George Lucas, 0.5894], [None, 0.4106]]</td>\n",
       "      <td>[http://feeds.businessinsider.com.au/~/1290472...</td>\n",
       "      <td>Star Wars: Episode VII - The Force Awakens</td>\n",
       "    </tr>\n",
       "    <tr>\n",
       "      <th>85</th>\n",
       "      <td>I might use the lightsaber instead of a torch ...</td>\n",
       "      <td>George Lucas</td>\n",
       "      <td>[Q1507803, Q38222]</td>\n",
       "      <td>2015-10-30</td>\n",
       "      <td>2</td>\n",
       "      <td>[[None, 0.8296], [George Lucas, 0.1704]]</td>\n",
       "      <td>[http://dailyliberal.com.au/story/3459543/movi...</td>\n",
       "      <td>Star Wars: Episode VII - The Force Awakens</td>\n",
       "    </tr>\n",
       "  </tbody>\n",
       "</table>\n",
       "</div>"
      ],
      "text/plain": [
       "                                            quotation       speaker  \\\n",
       "17  When I started to go into Star Wars, [ my frie...  George Lucas   \n",
       "31  After `Star Wars,' I went back to Warner Bros....  George Lucas   \n",
       "54                              a Star Wars for girls  George Lucas   \n",
       "68  We became friends and then we started dating a...  George Lucas   \n",
       "85  I might use the lightsaber instead of a torch ...  George Lucas   \n",
       "\n",
       "                  qids        date  numOccurrences  \\\n",
       "17  [Q1507803, Q38222]  2015-12-31               1   \n",
       "31  [Q1507803, Q38222]  2015-04-19               1   \n",
       "54  [Q1507803, Q38222]  2015-01-27               1   \n",
       "68  [Q1507803, Q38222]  2015-12-19               2   \n",
       "85  [Q1507803, Q38222]  2015-10-30               2   \n",
       "\n",
       "                                               probas  \\\n",
       "17  [[George Lucas, 0.7612], [Colin Trevorrow, 0.1...   \n",
       "31  [[George Lucas, 0.6949], [None, 0.1538], [Step...   \n",
       "54           [[None, 0.5037], [George Lucas, 0.4963]]   \n",
       "68           [[George Lucas, 0.5894], [None, 0.4106]]   \n",
       "85           [[None, 0.8296], [George Lucas, 0.1704]]   \n",
       "\n",
       "                                                 urls  \\\n",
       "17  [http://theindianrepublic.com/i-sold-star-wars...   \n",
       "31  [http://sfgate.com/technology/businessinsider/...   \n",
       "54  [http://www.comicmix.com/2015/01/27/box-office...   \n",
       "68  [http://feeds.businessinsider.com.au/~/1290472...   \n",
       "85  [http://dailyliberal.com.au/story/3459543/movi...   \n",
       "\n",
       "                                         movie  \n",
       "17  Star Wars: Episode VII - The Force Awakens  \n",
       "31  Star Wars: Episode VII - The Force Awakens  \n",
       "54  Star Wars: Episode VII - The Force Awakens  \n",
       "68  Star Wars: Episode VII - The Force Awakens  \n",
       "85  Star Wars: Episode VII - The Force Awakens  "
      ]
     },
     "execution_count": 27,
     "metadata": {},
     "output_type": "execute_result"
    }
   ],
   "source": [
    "# Calling the function\n",
    "set_qID('George Lucas', df)\n",
    "\n",
    "df[df.speaker == 'George Lucas'].head()"
   ]
  },
  {
   "cell_type": "markdown",
   "id": "1fcf4170",
   "metadata": {},
   "source": [
    "We want to apply this functionality to the full dataframe (meaning all individual speakers) for which reason we extract the individual speaker names and how frequently quoted they are. We calculate the number of unique quotes for each speaker even though we find it more relevant to do outlier detection based on total number of occurences (`numOccurrences` attribute). This will be done later in the pipeline."
   ]
  },
  {
   "cell_type": "code",
   "execution_count": 28,
   "id": "efe47663",
   "metadata": {},
   "outputs": [
    {
     "name": "stdout",
     "output_type": "stream",
     "text": [
      "Top 10 quoted speakers (w/o numOccurences): \n"
     ]
    },
    {
     "data": {
      "text/plain": [
       "[('None', '5119'),\n",
       " ('Kevin Feige', '691'),\n",
       " ('Captain Marvel', '557'),\n",
       " ('George Lucas', '368'),\n",
       " ('J.J. Abrams', '356'),\n",
       " ('Kathleen Kennedy', '258'),\n",
       " ('Joe Russo', '255'),\n",
       " ('Peter Parker', '246'),\n",
       " ('Bob Iger', '237'),\n",
       " ('Mark Hamill', '229')]"
      ]
     },
     "execution_count": 28,
     "metadata": {},
     "output_type": "execute_result"
    }
   ],
   "source": [
    "speakers, freq_unsorted = np.unique(df.speaker, return_counts=True)\n",
    "freq, speakers = np.array(list(zip(*sorted(zip(freq_unsorted, speakers), reverse=True))))\n",
    "\n",
    "print(\"Top 10 quoted speakers (w/o numOccurences): \")\n",
    "list(zip(speakers[:10], freq[:10]))"
   ]
  },
  {
   "cell_type": "code",
   "execution_count": 29,
   "id": "f40d7a18",
   "metadata": {},
   "outputs": [
    {
     "data": {
      "application/vnd.jupyter.widget-view+json": {
       "model_id": "9ceb32495c6349539bd1995c869d0e2c",
       "version_major": 2,
       "version_minor": 0
      },
      "text/plain": [
       "  0%|          | 0/10224 [00:00<?, ?it/s]"
      ]
     },
     "metadata": {},
     "output_type": "display_data"
    }
   ],
   "source": [
    "for speaker in tqdm(speakers):\n",
    "    set_qID(speaker, df=df)"
   ]
  },
  {
   "cell_type": "markdown",
   "id": "88e672f0",
   "metadata": {},
   "source": [
    "Now, the only way there would be qID's of the name '\\<UNK>' would be if the assignment of the predicted speaker is less than 15% percent certain (see `proba_threshhold` in the removal of None-type speakers) and if that same speaker does not have a qID throughout all of the dataframe. In this case we find evidence for deleting the rows."
   ]
  },
  {
   "cell_type": "code",
   "execution_count": 30,
   "id": "2ec8546b",
   "metadata": {},
   "outputs": [
    {
     "data": {
      "application/vnd.jupyter.widget-view+json": {
       "model_id": "5c6477310a654b13b33e920b43b2fea4",
       "version_major": 2,
       "version_minor": 0
      },
      "text/plain": [
       "  0%|          | 0/35577 [00:00<?, ?it/s]"
      ]
     },
     "metadata": {},
     "output_type": "display_data"
    }
   ],
   "source": [
    "UNK_idxs = np.array([], dtype=int)\n",
    "for i, qID in enumerate(tqdm(df.qids)):\n",
    "    if '<UNK>' in qID:\n",
    "        UNK_idxs = np.append(UNK_idxs, i)"
   ]
  },
  {
   "cell_type": "code",
   "execution_count": 31,
   "id": "ca06a959",
   "metadata": {},
   "outputs": [
    {
     "data": {
      "text/plain": [
       "(27597, 8)"
      ]
     },
     "execution_count": 31,
     "metadata": {},
     "output_type": "execute_result"
    }
   ],
   "source": [
    "df = df.drop(UNK_idxs)\n",
    "df.index = np.arange(len(df))\n",
    "df.shape"
   ]
  },
  {
   "cell_type": "markdown",
   "id": "de377691",
   "metadata": {},
   "source": [
    "The following function then concatenates the qID's of speakers if they have more than one qID in common, such that we get exactly the basis for a shared ID if two speakers (like Donald Trump and President Trump) are in fact the same."
   ]
  },
  {
   "cell_type": "code",
   "execution_count": 32,
   "id": "ceb455a6",
   "metadata": {},
   "outputs": [],
   "source": [
    "def mergeQuoteIDs(df):\n",
    "    qID_dict = defaultdict(dict)\n",
    "    print(\"Creating qID dictionary...\")\n",
    "    for document_number, qid_list in enumerate(tqdm(df.qids)):\n",
    "        for qid in qid_list:\n",
    "            if qid in qID_dict:\n",
    "                qID_dict[qid].append(document_number)\n",
    "            else:\n",
    "                qID_dict[qid] = [document_number]\n",
    "    \n",
    "    print(\"Gathering qIDs across documents...\")\n",
    "    new_column = {}\n",
    "    for document_number, qid_list in enumerate(tqdm(df.qids)):\n",
    "        document_IDs = []\n",
    "        for qid in qid_list:\n",
    "            document_IDs.append(qID_dict[qid])\n",
    "\n",
    "        related_docs = set(np.concatenate(document_IDs))\n",
    "        new_qids = list(set(np.concatenate(list(df.qids[related_docs]))))\n",
    "\n",
    "        new_column[document_number] = new_qids\n",
    "\n",
    "    df['qids'] = pd.Series(new_column)"
   ]
  },
  {
   "cell_type": "code",
   "execution_count": 33,
   "id": "b2c32215",
   "metadata": {},
   "outputs": [
    {
     "name": "stdout",
     "output_type": "stream",
     "text": [
      "Creating qID dictionary...\n"
     ]
    },
    {
     "data": {
      "application/vnd.jupyter.widget-view+json": {
       "model_id": "4c13c75c13e7402286c2e0996bfd8c7f",
       "version_major": 2,
       "version_minor": 0
      },
      "text/plain": [
       "  0%|          | 0/27597 [00:00<?, ?it/s]"
      ]
     },
     "metadata": {},
     "output_type": "display_data"
    },
    {
     "name": "stdout",
     "output_type": "stream",
     "text": [
      "Gathering qIDs across documents...\n"
     ]
    },
    {
     "data": {
      "application/vnd.jupyter.widget-view+json": {
       "model_id": "1e6c57b5c81f43039dc1713e95e70392",
       "version_major": 2,
       "version_minor": 0
      },
      "text/plain": [
       "  0%|          | 0/27597 [00:00<?, ?it/s]"
      ]
     },
     "metadata": {},
     "output_type": "display_data"
    },
    {
     "data": {
      "text/html": [
       "<div>\n",
       "<style scoped>\n",
       "    .dataframe tbody tr th:only-of-type {\n",
       "        vertical-align: middle;\n",
       "    }\n",
       "\n",
       "    .dataframe tbody tr th {\n",
       "        vertical-align: top;\n",
       "    }\n",
       "\n",
       "    .dataframe thead th {\n",
       "        text-align: right;\n",
       "    }\n",
       "</style>\n",
       "<table border=\"1\" class=\"dataframe\">\n",
       "  <thead>\n",
       "    <tr style=\"text-align: right;\">\n",
       "      <th></th>\n",
       "      <th>quotation</th>\n",
       "      <th>speaker</th>\n",
       "      <th>qids</th>\n",
       "      <th>date</th>\n",
       "      <th>numOccurrences</th>\n",
       "      <th>probas</th>\n",
       "      <th>urls</th>\n",
       "      <th>movie</th>\n",
       "    </tr>\n",
       "  </thead>\n",
       "  <tbody>\n",
       "    <tr>\n",
       "      <th>0</th>\n",
       "      <td>Is Ferguson like Mockingjay?</td>\n",
       "      <td>Laci Green</td>\n",
       "      <td>[Q16843606]</td>\n",
       "      <td>2015-11-15</td>\n",
       "      <td>1</td>\n",
       "      <td>[[Laci Green, 0.9013], [None, 0.0987]]</td>\n",
       "      <td>[http://www.dailykos.com/story/2015/11/15/1450...</td>\n",
       "      <td>The Hunger Games: Mockingjay - Part 2</td>\n",
       "    </tr>\n",
       "    <tr>\n",
       "      <th>1</th>\n",
       "      <td>Is Daredevil joining the Avengers for Infinity...</td>\n",
       "      <td>Scott Davis</td>\n",
       "      <td>[Q24005690, Q7436227, Q7436228, Q7436225, Q182...</td>\n",
       "      <td>2015-12-10</td>\n",
       "      <td>2</td>\n",
       "      <td>[[None, 0.4806], [Scott Davis, 0.4017], [Antho...</td>\n",
       "      <td>[http://www.flickeringmyth.com/2015/12/is-dare...</td>\n",
       "      <td>Avengers: Age of Ultron</td>\n",
       "    </tr>\n",
       "    <tr>\n",
       "      <th>2</th>\n",
       "      <td>They were saying, `Well, since when has Star W...</td>\n",
       "      <td>J.J. Abrams</td>\n",
       "      <td>[Q188137]</td>\n",
       "      <td>2015-12-21</td>\n",
       "      <td>1</td>\n",
       "      <td>[[J.J. Abrams, 0.5868], [None, 0.2584], [Lupit...</td>\n",
       "      <td>[http://rssfeeds.usatoday.com/~/129385923/0/us...</td>\n",
       "      <td>Star Wars: Episode VII - The Force Awakens</td>\n",
       "    </tr>\n",
       "    <tr>\n",
       "      <th>3</th>\n",
       "      <td>You meet new characters and you learn about Ha...</td>\n",
       "      <td>Kevin Feige</td>\n",
       "      <td>[Q515161]</td>\n",
       "      <td>2015-05-06</td>\n",
       "      <td>1</td>\n",
       "      <td>[[Kevin Feige, 0.9108], [None, 0.0782], [Scott...</td>\n",
       "      <td>[http://www.digitaltrends.com/movies/ant-man-m...</td>\n",
       "      <td>Avengers: Age of Ultron</td>\n",
       "    </tr>\n",
       "    <tr>\n",
       "      <th>4</th>\n",
       "      <td>Almost A Mensch Part 2: The Pathway to Menschh...</td>\n",
       "      <td>David Gottlieb</td>\n",
       "      <td>[Q1174573]</td>\n",
       "      <td>2015-01-30</td>\n",
       "      <td>2</td>\n",
       "      <td>[[David Gottlieb, 0.7216], [None, 0.2785]]</td>\n",
       "      <td>[http://benzinga.com/pressreleases/15/01/p5197...</td>\n",
       "      <td>The Hunger Games: Mockingjay - Part 2</td>\n",
       "    </tr>\n",
       "  </tbody>\n",
       "</table>\n",
       "</div>"
      ],
      "text/plain": [
       "                                           quotation         speaker  \\\n",
       "0                       Is Ferguson like Mockingjay?      Laci Green   \n",
       "1  Is Daredevil joining the Avengers for Infinity...     Scott Davis   \n",
       "2  They were saying, `Well, since when has Star W...     J.J. Abrams   \n",
       "3  You meet new characters and you learn about Ha...     Kevin Feige   \n",
       "4  Almost A Mensch Part 2: The Pathway to Menschh...  David Gottlieb   \n",
       "\n",
       "                                                qids        date  \\\n",
       "0                                        [Q16843606]  2015-11-15   \n",
       "1  [Q24005690, Q7436227, Q7436228, Q7436225, Q182...  2015-12-10   \n",
       "2                                          [Q188137]  2015-12-21   \n",
       "3                                          [Q515161]  2015-05-06   \n",
       "4                                         [Q1174573]  2015-01-30   \n",
       "\n",
       "   numOccurrences                                             probas  \\\n",
       "0               1             [[Laci Green, 0.9013], [None, 0.0987]]   \n",
       "1               2  [[None, 0.4806], [Scott Davis, 0.4017], [Antho...   \n",
       "2               1  [[J.J. Abrams, 0.5868], [None, 0.2584], [Lupit...   \n",
       "3               1  [[Kevin Feige, 0.9108], [None, 0.0782], [Scott...   \n",
       "4               2         [[David Gottlieb, 0.7216], [None, 0.2785]]   \n",
       "\n",
       "                                                urls  \\\n",
       "0  [http://www.dailykos.com/story/2015/11/15/1450...   \n",
       "1  [http://www.flickeringmyth.com/2015/12/is-dare...   \n",
       "2  [http://rssfeeds.usatoday.com/~/129385923/0/us...   \n",
       "3  [http://www.digitaltrends.com/movies/ant-man-m...   \n",
       "4  [http://benzinga.com/pressreleases/15/01/p5197...   \n",
       "\n",
       "                                        movie  \n",
       "0       The Hunger Games: Mockingjay - Part 2  \n",
       "1                     Avengers: Age of Ultron  \n",
       "2  Star Wars: Episode VII - The Force Awakens  \n",
       "3                     Avengers: Age of Ultron  \n",
       "4       The Hunger Games: Mockingjay - Part 2  "
      ]
     },
     "execution_count": 33,
     "metadata": {},
     "output_type": "execute_result"
    }
   ],
   "source": [
    "mergeQuoteIDs(df)\n",
    "df.head()"
   ]
  },
  {
   "cell_type": "markdown",
   "id": "30416f0d",
   "metadata": {},
   "source": [
    "And then we create a new ID for each unique list of qID's."
   ]
  },
  {
   "cell_type": "code",
   "execution_count": 34,
   "id": "5e4ea0e7",
   "metadata": {},
   "outputs": [],
   "source": [
    "def newID(df):\n",
    "    unique_IDlists = np.unique(df['qids'])\n",
    "    newIDs = []\n",
    "    \n",
    "    for row_qIDlist in tqdm(df.qids):\n",
    "        for newID, unique_list in enumerate(unique_IDlists):\n",
    "            if unique_list == row_qIDlist:\n",
    "                newIDs.append(newID)\n",
    "    df['shared_ID'] = newIDs\n",
    "    \n",
    "    return newIDs"
   ]
  },
  {
   "cell_type": "code",
   "execution_count": 35,
   "id": "81b71191",
   "metadata": {},
   "outputs": [
    {
     "data": {
      "application/vnd.jupyter.widget-view+json": {
       "model_id": "4a6e35c6a2b8465ea2916d502c2f86f8",
       "version_major": 2,
       "version_minor": 0
      },
      "text/plain": [
       "  0%|          | 0/27597 [00:00<?, ?it/s]"
      ]
     },
     "metadata": {},
     "output_type": "display_data"
    }
   ],
   "source": [
    "newIDs = newID(df)"
   ]
  },
  {
   "cell_type": "code",
   "execution_count": 36,
   "id": "740c6582",
   "metadata": {},
   "outputs": [
    {
     "data": {
      "text/html": [
       "<div>\n",
       "<style scoped>\n",
       "    .dataframe tbody tr th:only-of-type {\n",
       "        vertical-align: middle;\n",
       "    }\n",
       "\n",
       "    .dataframe tbody tr th {\n",
       "        vertical-align: top;\n",
       "    }\n",
       "\n",
       "    .dataframe thead th {\n",
       "        text-align: right;\n",
       "    }\n",
       "</style>\n",
       "<table border=\"1\" class=\"dataframe\">\n",
       "  <thead>\n",
       "    <tr style=\"text-align: right;\">\n",
       "      <th></th>\n",
       "      <th>quotation</th>\n",
       "      <th>speaker</th>\n",
       "      <th>qids</th>\n",
       "      <th>date</th>\n",
       "      <th>numOccurrences</th>\n",
       "      <th>probas</th>\n",
       "      <th>urls</th>\n",
       "      <th>movie</th>\n",
       "      <th>shared_ID</th>\n",
       "    </tr>\n",
       "  </thead>\n",
       "  <tbody>\n",
       "    <tr>\n",
       "      <th>0</th>\n",
       "      <td>Is Ferguson like Mockingjay?</td>\n",
       "      <td>Laci Green</td>\n",
       "      <td>[Q16843606]</td>\n",
       "      <td>2015-11-15</td>\n",
       "      <td>1</td>\n",
       "      <td>[[Laci Green, 0.9013], [None, 0.0987]]</td>\n",
       "      <td>[http://www.dailykos.com/story/2015/11/15/1450...</td>\n",
       "      <td>The Hunger Games: Mockingjay - Part 2</td>\n",
       "      <td>997</td>\n",
       "    </tr>\n",
       "    <tr>\n",
       "      <th>1</th>\n",
       "      <td>Is Daredevil joining the Avengers for Infinity...</td>\n",
       "      <td>Scott Davis</td>\n",
       "      <td>[Q24005690, Q7436227, Q7436228, Q7436225, Q182...</td>\n",
       "      <td>2015-12-10</td>\n",
       "      <td>2</td>\n",
       "      <td>[[None, 0.4806], [Scott Davis, 0.4017], [Antho...</td>\n",
       "      <td>[http://www.flickeringmyth.com/2015/12/is-dare...</td>\n",
       "      <td>Avengers: Age of Ultron</td>\n",
       "      <td>2284</td>\n",
       "    </tr>\n",
       "    <tr>\n",
       "      <th>2</th>\n",
       "      <td>They were saying, `Well, since when has Star W...</td>\n",
       "      <td>J.J. Abrams</td>\n",
       "      <td>[Q188137]</td>\n",
       "      <td>2015-12-21</td>\n",
       "      <td>1</td>\n",
       "      <td>[[J.J. Abrams, 0.5868], [None, 0.2584], [Lupit...</td>\n",
       "      <td>[http://rssfeeds.usatoday.com/~/129385923/0/us...</td>\n",
       "      <td>Star Wars: Episode VII - The Force Awakens</td>\n",
       "      <td>1368</td>\n",
       "    </tr>\n",
       "    <tr>\n",
       "      <th>3</th>\n",
       "      <td>You meet new characters and you learn about Ha...</td>\n",
       "      <td>Kevin Feige</td>\n",
       "      <td>[Q515161]</td>\n",
       "      <td>2015-05-06</td>\n",
       "      <td>1</td>\n",
       "      <td>[[Kevin Feige, 0.9108], [None, 0.0782], [Scott...</td>\n",
       "      <td>[http://www.digitaltrends.com/movies/ant-man-m...</td>\n",
       "      <td>Avengers: Age of Ultron</td>\n",
       "      <td>4897</td>\n",
       "    </tr>\n",
       "    <tr>\n",
       "      <th>4</th>\n",
       "      <td>Almost A Mensch Part 2: The Pathway to Menschh...</td>\n",
       "      <td>David Gottlieb</td>\n",
       "      <td>[Q1174573]</td>\n",
       "      <td>2015-01-30</td>\n",
       "      <td>2</td>\n",
       "      <td>[[David Gottlieb, 0.7216], [None, 0.2785]]</td>\n",
       "      <td>[http://benzinga.com/pressreleases/15/01/p5197...</td>\n",
       "      <td>The Hunger Games: Mockingjay - Part 2</td>\n",
       "      <td>183</td>\n",
       "    </tr>\n",
       "  </tbody>\n",
       "</table>\n",
       "</div>"
      ],
      "text/plain": [
       "                                           quotation         speaker  \\\n",
       "0                       Is Ferguson like Mockingjay?      Laci Green   \n",
       "1  Is Daredevil joining the Avengers for Infinity...     Scott Davis   \n",
       "2  They were saying, `Well, since when has Star W...     J.J. Abrams   \n",
       "3  You meet new characters and you learn about Ha...     Kevin Feige   \n",
       "4  Almost A Mensch Part 2: The Pathway to Menschh...  David Gottlieb   \n",
       "\n",
       "                                                qids        date  \\\n",
       "0                                        [Q16843606]  2015-11-15   \n",
       "1  [Q24005690, Q7436227, Q7436228, Q7436225, Q182...  2015-12-10   \n",
       "2                                          [Q188137]  2015-12-21   \n",
       "3                                          [Q515161]  2015-05-06   \n",
       "4                                         [Q1174573]  2015-01-30   \n",
       "\n",
       "   numOccurrences                                             probas  \\\n",
       "0               1             [[Laci Green, 0.9013], [None, 0.0987]]   \n",
       "1               2  [[None, 0.4806], [Scott Davis, 0.4017], [Antho...   \n",
       "2               1  [[J.J. Abrams, 0.5868], [None, 0.2584], [Lupit...   \n",
       "3               1  [[Kevin Feige, 0.9108], [None, 0.0782], [Scott...   \n",
       "4               2         [[David Gottlieb, 0.7216], [None, 0.2785]]   \n",
       "\n",
       "                                                urls  \\\n",
       "0  [http://www.dailykos.com/story/2015/11/15/1450...   \n",
       "1  [http://www.flickeringmyth.com/2015/12/is-dare...   \n",
       "2  [http://rssfeeds.usatoday.com/~/129385923/0/us...   \n",
       "3  [http://www.digitaltrends.com/movies/ant-man-m...   \n",
       "4  [http://benzinga.com/pressreleases/15/01/p5197...   \n",
       "\n",
       "                                        movie  shared_ID  \n",
       "0       The Hunger Games: Mockingjay - Part 2        997  \n",
       "1                     Avengers: Age of Ultron       2284  \n",
       "2  Star Wars: Episode VII - The Force Awakens       1368  \n",
       "3                     Avengers: Age of Ultron       4897  \n",
       "4       The Hunger Games: Mockingjay - Part 2        183  "
      ]
     },
     "execution_count": 36,
     "metadata": {},
     "output_type": "execute_result"
    }
   ],
   "source": [
    "df.head()"
   ]
  },
  {
   "cell_type": "markdown",
   "id": "b4d91134",
   "metadata": {},
   "source": [
    "### Investigating the new ID's"
   ]
  },
  {
   "cell_type": "markdown",
   "id": "cbf4bb84",
   "metadata": {},
   "source": [
    "We will now investigate how different ID's (the shared one) are distributed across quotes. We calculate the frequency with which ID is associated, meaning the total number of occurences for each ID."
   ]
  },
  {
   "cell_type": "code",
   "execution_count": 37,
   "id": "3fdd2a5d",
   "metadata": {},
   "outputs": [
    {
     "name": "stdout",
     "output_type": "stream",
     "text": [
      "Number of unique IDs: 7558\n"
     ]
    }
   ],
   "source": [
    "print(f\"Number of unique IDs: {np.max(df.shared_ID)}\")"
   ]
  },
  {
   "cell_type": "code",
   "execution_count": 38,
   "id": "6dc932f1",
   "metadata": {},
   "outputs": [
    {
     "data": {
      "application/vnd.jupyter.widget-view+json": {
       "model_id": "5a39797baa35459bab3f08da9f67678f",
       "version_major": 2,
       "version_minor": 0
      },
      "text/plain": [
       "  0%|          | 0/27597 [00:00<?, ?it/s]"
      ]
     },
     "metadata": {},
     "output_type": "display_data"
    }
   ],
   "source": [
    "freq_occurences = defaultdict(dict)\n",
    "\n",
    "for ID in tqdm(newIDs):\n",
    "    freq_occurences[ID] = sum(df[df['shared_ID'] == ID].numOccurrences)"
   ]
  },
  {
   "cell_type": "code",
   "execution_count": 39,
   "id": "f0554dc5",
   "metadata": {},
   "outputs": [],
   "source": [
    "freq_list = [(ID, count) for ID, count in sorted(freq_occurences.items(), key=lambda item: item[1], reverse=True)]\n",
    "ID, freq = list(zip(*freq_list))\n",
    "ID, freq = np.array(ID), np.array(freq)"
   ]
  },
  {
   "cell_type": "markdown",
   "id": "b54771fe",
   "metadata": {},
   "source": [
    "Using a boxplot we also see that these ones seem to be full of outliers and by plotting the amount of occurrences with the speakers sorted in a descending manner, we see that the distribution looks like a strong power law."
   ]
  },
  {
   "cell_type": "code",
   "execution_count": 40,
   "id": "ae8957dc",
   "metadata": {},
   "outputs": [
    {
     "data": {
      "image/png": "[encoded data removed]",
      "text/plain": [
       "<Figure size 432x288 with 1 Axes>"
      ]
     },
     "metadata": {
      "needs_background": "light"
     },
     "output_type": "display_data"
    }
   ],
   "source": [
    "plt.boxplot(freq)\n",
    "plt.ylabel(\"NumOccurrences\")\n",
    "plt.show()"
   ]
  },
  {
   "cell_type": "code",
   "execution_count": 41,
   "id": "618b052b",
   "metadata": {},
   "outputs": [
    {
     "data": {
      "image/png": "[encoded data removed]",
      "text/plain": [
       "<Figure size 432x288 with 1 Axes>"
      ]
     },
     "metadata": {
      "needs_background": "light"
     },
     "output_type": "display_data"
    }
   ],
   "source": [
    "plt.plot(np.arange(len(freq)), freq)\n",
    "plt.xlabel(\"Ordered speakers (based on shared ID)\")\n",
    "plt.ylabel(\"NumOccurrences\")\n",
    "plt.show()"
   ]
  },
  {
   "cell_type": "markdown",
   "id": "d56ceb5f",
   "metadata": {},
   "source": [
    "We do not regard this as a problem, since it seems reasonable that this depicts the real-world scenario where some people - like star directors and movie stars - have more to say than actors that are not playing in movies at the current time but still gets quoted once in a while."
   ]
  },
  {
   "cell_type": "markdown",
   "id": "48b4b0f1",
   "metadata": {},
   "source": [
    "By looking at the shared_ID, we now see that the ambiguity of speakers is now reduced - which will be useful in further analyses - as the new `shared_ID` attribute captures identical speaker denoted by different names."
   ]
  },
  {
   "cell_type": "code",
   "execution_count": 42,
   "id": "2cc59e0c",
   "metadata": {},
   "outputs": [
    {
     "name": "stdout",
     "output_type": "stream",
     "text": [
      "Most quoted ID's: \n",
      " (shared_ID, total numOccurrences, associated speakers)\n",
      "\n",
      "1) (4897, 1011, ['Kevin Feige', 'KEVIN FEIGE'])\n",
      "\n",
      "2) (3927, 767, ['Captain Marvel', 'CAPTAIN MARVEL'])\n",
      "\n",
      "3) (1368, 659, ['J.J. Abrams', 'JJ Abrams', 'J. J. Abrams', 'jj abrams', 'J J Abrams', 'J.J. ABRAMS'])\n",
      "\n",
      "4) (520, 523, ['George Lucas', 'GEORGE LUCAS'])\n",
      "\n",
      "5) (5179, 411, ['Bob Iger', 'Robert Iger', 'Robert A. Iger'])\n",
      "\n",
      "6) (2405, 386, ['Joe Russo', 'Joseph Russo'])\n",
      "\n",
      "7) (2212, 345, ['Kathleen Kennedy'])\n",
      "\n",
      "8) (1785, 316, ['Mark Hamill'])\n",
      "\n",
      "9) (5571, 307, ['Peter Parker'])\n",
      "\n",
      "10) (911, 291, ['Robert Downey', 'Robert Downey Jr. .'])\n",
      "\n",
      "11) (257, 279, ['Tom Holland'])\n",
      "\n",
      "12) (2373, 271, ['Gareth Edwards'])\n",
      "\n",
      "13) (1041, 270, ['John Boyega', 'JOHN BOYEGA'])\n",
      "\n",
      "14) (6101, 246, ['Rian Johnson'])\n",
      "\n",
      "15) (1896, 234, ['Chris Evans', 'CHRIS EVANS'])\n",
      "\n",
      "16) (146, 229, ['James Gunn', 'JAMES GUNN'])\n",
      "\n",
      "17) (3276, 217, ['Jason Momoa', 'JASON MOMOA'])\n",
      "\n",
      "18) (5292, 213, ['Chris Hemsworth', 'chris hemsworth', 'CHRIS HEMSWORTH'])\n",
      "\n",
      "19) (3061, 192, ['Joss Whedon', 'joss whedon'])\n",
      "\n",
      "20) (1242, 192, ['Stan Lee'])\n",
      "\n",
      "21) (92, 184, ['Carrie Fisher'])\n",
      "\n",
      "22) (4836, 176, ['Chris Pratt', 'CHRIS PRATT'])\n",
      "\n",
      "23) (824, 164, ['John Williams', 'JOHN WILLIAMS'])\n",
      "\n",
      "24) (3928, 162, ['Mark Ruffalo'])\n",
      "\n",
      "25) (69, 151, ['Dwayne Johnson', 'DWAYNE JOHNSON'])\n",
      "\n"
     ]
    }
   ],
   "source": [
    "N = 25\n",
    "topN = []\n",
    "\n",
    "print(f\"Most quoted ID's: \\n (shared_ID, total numOccurrences, associated speakers)\\n\")\n",
    "for n in range(N):\n",
    "    \n",
    "    idxs = [i for (i, shared) in enumerate(df.shared_ID) if shared == ID[n]]\n",
    "    associated_speakers = df.iloc[idxs, :].speaker.unique()\n",
    "    \n",
    "    info_tuple = (ID[n], freq[n], list(associated_speakers))\n",
    "    topN.append(info_tuple)\n",
    "    \n",
    "    print(f\"{n+1}) {topN[n]}\\n\")"
   ]
  },
  {
   "cell_type": "markdown",
   "id": "9872bc70",
   "metadata": {},
   "source": [
    "### Add sentiment of quotes"
   ]
  },
  {
   "cell_type": "markdown",
   "id": "2aab0276",
   "metadata": {},
   "source": [
    "We use the `Afinn` sentiment lexicon for mapping a sentiment score to each quote in the preprocessed Quotebank data."
   ]
  },
  {
   "cell_type": "code",
   "execution_count": 43,
   "id": "149a870c",
   "metadata": {},
   "outputs": [
    {
     "name": "stdout",
     "output_type": "stream",
     "text": [
      "Requirement already satisfied: Afinn in c:\\programdata\\anaconda3\\lib\\site-packages (0.1)\n"
     ]
    }
   ],
   "source": [
    "!pip install Afinn\n",
    "from afinn import Afinn"
   ]
  },
  {
   "cell_type": "code",
   "execution_count": 44,
   "id": "9588a5c6",
   "metadata": {},
   "outputs": [
    {
     "data": {
      "application/vnd.jupyter.widget-view+json": {
       "model_id": "95130239fb864785a33679af04efcf56",
       "version_major": 2,
       "version_minor": 0
      },
      "text/plain": [
       "  0%|          | 0/27597 [00:00<?, ?it/s]"
      ]
     },
     "metadata": {},
     "output_type": "display_data"
    }
   ],
   "source": [
    "afn = Afinn()\n",
    "sentiments = [afn.score(quote) for quote in tqdm(df.quotation)]\n",
    "df['sentiment'] = sentiments"
   ]
  },
  {
   "cell_type": "markdown",
   "id": "ddb3c7aa",
   "metadata": {},
   "source": [
    "And now we see the average, max, min, etc. of the attribute."
   ]
  },
  {
   "cell_type": "code",
   "execution_count": 45,
   "id": "04900915",
   "metadata": {},
   "outputs": [
    {
     "data": {
      "text/plain": [
       "count    27597.000000\n",
       "mean         2.475776\n",
       "std          5.605234\n",
       "min        -39.000000\n",
       "25%          0.000000\n",
       "50%          1.000000\n",
       "75%          5.000000\n",
       "max         89.000000\n",
       "Name: sentiment, dtype: float64"
      ]
     },
     "execution_count": 45,
     "metadata": {},
     "output_type": "execute_result"
    }
   ],
   "source": [
    "df.sentiment.describe()"
   ]
  },
  {
   "cell_type": "markdown",
   "id": "5ceada07",
   "metadata": {},
   "source": [
    "The dataframe is saved as a pickle and we investigate the sentiment further in the `sentiment.ipynb` file."
   ]
  },
  {
   "cell_type": "code",
   "execution_count": 46,
   "id": "ffc21437",
   "metadata": {},
   "outputs": [
    {
     "name": "stdout",
     "output_type": "stream",
     "text": [
      "Dataframe was pickled and saved to directory:\n",
      "C:\\Users\\Albert Kjøller\\Documents\\EPFL\\Courses\\CS-401_ADA\\ada-2021-project-f-jab\\data\n"
     ]
    }
   ],
   "source": [
    "# Save loaded DataFrame as pickle for faster loading time in the future\n",
    "df.to_pickle(rf\"{data_dir}\\Quotebank_wSentiment.pkl\")\n",
    "print(f\"Dataframe was pickled and saved to directory:\\n\" + data_dir)"
   ]
  },
  {
   "cell_type": "code",
   "execution_count": null,
   "id": "d1e5a6e7",
   "metadata": {},
   "outputs": [
    {
     "name": "stdout",
     "output_type": "stream",
     "text": [
      "Most quoted ID's: \n",
      " (shared_ID, total numOccurrences, associated speakers)\n",
      "\n",
      "1) (4897, 1011, ['Kevin Feige', 'KEVIN FEIGE'])\n",
      "\n",
      "2) (3927, 767, ['Captain Marvel', 'CAPTAIN MARVEL'])\n",
      "\n",
      "3) (1368, 659, ['J.J. Abrams', 'JJ Abrams', 'J. J. Abrams', 'jj abrams', 'J J Abrams', 'J.J. ABRAMS'])\n",
      "\n",
      "4) (520, 523, ['George Lucas', 'GEORGE LUCAS'])\n",
      "\n",
      "5) (5179, 411, ['Bob Iger', 'Robert Iger', 'Robert A. Iger'])\n",
      "\n",
      "6) (2405, 386, ['Joe Russo', 'Joseph Russo'])\n",
      "\n",
      "7) (2212, 345, ['Kathleen Kennedy'])\n",
      "\n",
      "8) (1785, 316, ['Mark Hamill'])\n",
      "\n",
      "9) (5571, 307, ['Peter Parker'])\n",
      "\n",
      "10) (911, 291, ['Robert Downey', 'Robert Downey Jr. .'])\n",
      "\n",
      "11) (257, 279, ['Tom Holland'])\n",
      "\n",
      "12) (2373, 271, ['Gareth Edwards'])\n",
      "\n",
      "13) (1041, 270, ['John Boyega', 'JOHN BOYEGA'])\n",
      "\n",
      "14) (6101, 246, ['Rian Johnson'])\n",
      "\n",
      "15) (1896, 234, ['Chris Evans', 'CHRIS EVANS'])\n",
      "\n",
      "16) (146, 229, ['James Gunn', 'JAMES GUNN'])\n",
      "\n",
      "17) (3276, 217, ['Jason Momoa', 'JASON MOMOA'])\n",
      "\n",
      "18) (5292, 213, ['Chris Hemsworth', 'chris hemsworth', 'CHRIS HEMSWORTH'])\n",
      "\n",
      "19) (3061, 192, ['Joss Whedon', 'joss whedon'])\n",
      "\n",
      "20) (1242, 192, ['Stan Lee'])\n",
      "\n",
      "21) (92, 184, ['Carrie Fisher'])\n",
      "\n",
      "22) (4836, 176, ['Chris Pratt', 'CHRIS PRATT'])\n",
      "\n",
      "23) (824, 164, ['John Williams', 'JOHN WILLIAMS'])\n",
      "\n",
      "24) (3928, 162, ['Mark Ruffalo'])\n",
      "\n",
      "25) (69, 151, ['Dwayne Johnson', 'DWAYNE JOHNSON'])\n",
      "\n",
      "26) (765, 148, ['Todd Howard'])\n",
      "\n",
      "27) (4894, 144, ['Colin Trevorrow'])\n",
      "\n",
      "28) (2481, 143, ['Dave Filoni'])\n",
      "\n",
      "29) (1193, 135, ['Anthony Russo'])\n",
      "\n",
      "30) (3714, 120, ['Tom Cruise', 'TOM Cruise'])\n",
      "\n",
      "31) (6308, 118, ['Kevin Smith'])\n",
      "\n",
      "32) (1556, 117, ['Ron Howard'])\n",
      "\n",
      "33) (3804, 113, [\"Lupita Nyong ' o\"])\n",
      "\n",
      "34) (4110, 109, ['Dave Bautista'])\n",
      "\n",
      "35) (2301, 106, ['Lawrence Kasdan'])\n",
      "\n",
      "36) (53, 105, ['Narendra Modi', 'narendra modi'])\n",
      "\n",
      "37) (7367, 101, ['Harrison Ford'])\n",
      "\n",
      "38) (3468, 101, ['Christopher McQuarrie'])\n",
      "\n",
      "39) (642, 100, ['Evangeline Lilly'])\n",
      "\n",
      "40) (1840, 100, ['Roger Ebert'])\n",
      "\n",
      "41) (2786, 94, ['Donald Trump', 'President Trump', 'president Donald Trump', 'President Donald Trump', 'Donald J Trump'])\n",
      "\n",
      "42) (3925, 90, ['Josh Brolin'])\n",
      "\n",
      "43) (2239, 89, ['Simon Pegg', 'SIMON PEGG'])\n",
      "\n",
      "44) (414, 89, ['Geoff Johns'])\n",
      "\n",
      "45) (4766, 87, ['Chadwick Boseman'])\n",
      "\n",
      "46) (2340, 86, ['Paul Bettany', 'PAUL BETTANY'])\n",
      "\n",
      "47) (3033, 86, ['Tom Hiddleston'])\n",
      "\n",
      "48) (4211, 85, ['Patty Jenkins'])\n",
      "\n"
     ]
    }
   ],
   "source": [
    "N = len(df)-1\n",
    "topN = []\n",
    "\n",
    "print(f\"Most quoted ID's: \\n (shared_ID, total numOccurrences, associated speakers)\\n\")\n",
    "for n in range(N):\n",
    "    \n",
    "    idxs = [i for (i, shared) in enumerate(df.shared_ID) if shared == ID[n]]\n",
    "    associated_speakers = df.iloc[idxs, :].speaker.unique()\n",
    "    \n",
    "    info_tuple = (ID[n], freq[n], list(associated_speakers))\n",
    "    topN.append(info_tuple)\n",
    "    \n",
    "    print(f\"{n+1}) {topN[n]}\\n\")"
   ]
  },
  {
   "cell_type": "code",
   "execution_count": null,
   "id": "23741e6a",
   "metadata": {},
   "outputs": [],
   "source": []
  }
 ],
 "metadata": {
  "kernelspec": {
   "display_name": "Python 3",
   "language": "python",
   "name": "python3"
  },
  "language_info": {
   "codemirror_mode": {
    "name": "ipython",
    "version": 3
   },
   "file_extension": ".py",
   "mimetype": "text/x-python",
   "name": "python",
   "nbconvert_exporter": "python",
   "pygments_lexer": "ipython3",
   "version": "3.8.8"
  }
 },
 "nbformat": 4,
 "nbformat_minor": 5
}
