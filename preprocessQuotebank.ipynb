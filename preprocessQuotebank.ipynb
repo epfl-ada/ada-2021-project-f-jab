{
 "cells": [
  {
   "cell_type": "code",
   "execution_count": 1,
   "id": "1e78760a",
   "metadata": {},
   "outputs": [],
   "source": [
    "import os\n",
    "import glob\n",
    "import bz2\n",
    "import pandas as pd\n",
    "import numpy as np\n",
    "from tqdm import tqdm\n",
    "import matplotlib.pyplot as plt\n",
    "from collections import defaultdict"
   ]
  },
  {
   "cell_type": "code",
   "execution_count": 2,
   "id": "15358ce4",
   "metadata": {},
   "outputs": [],
   "source": [
    "# Specifying filename and directory\n",
    "data_dir = os.getcwd() + '\\data'\n",
    "quotebank_dir = data_dir + \"\\Quotebank\"\n",
    "quotebank_bz2 = os.listdir(quotebank_dir)\n",
    "\n",
    "# Change directory\n",
    "os.chdir(quotebank_dir)"
   ]
  },
  {
   "cell_type": "code",
   "execution_count": 3,
   "id": "81a148e0",
   "metadata": {},
   "outputs": [
    {
     "name": "stderr",
     "output_type": "stream",
     "text": [
      "100%|████████████████████████████████████████████████████████████████████████████████████| 5/5 [00:03<00:00,  1.57it/s]\n"
     ]
    },
    {
     "data": {
      "text/plain": [
       "(52491, 10)"
      ]
     },
     "execution_count": 3,
     "metadata": {},
     "output_type": "execute_result"
    }
   ],
   "source": [
    "df = pd.DataFrame()\n",
    "for year_file in tqdm(quotebank_bz2):\n",
    "    temp =  pd.read_json(year_file, lines=True, compression='bz2')\n",
    "    df = pd.concat([df, temp], ignore_index = True)\n",
    "        \n",
    "df.shape"
   ]
  },
  {
   "cell_type": "code",
   "execution_count": 4,
   "id": "82acbee3",
   "metadata": {},
   "outputs": [
    {
     "data": {
      "text/html": [
       "<div>\n",
       "<style scoped>\n",
       "    .dataframe tbody tr th:only-of-type {\n",
       "        vertical-align: middle;\n",
       "    }\n",
       "\n",
       "    .dataframe tbody tr th {\n",
       "        vertical-align: top;\n",
       "    }\n",
       "\n",
       "    .dataframe thead th {\n",
       "        text-align: right;\n",
       "    }\n",
       "</style>\n",
       "<table border=\"1\" class=\"dataframe\">\n",
       "  <thead>\n",
       "    <tr style=\"text-align: right;\">\n",
       "      <th></th>\n",
       "      <th>quoteID</th>\n",
       "      <th>quotation</th>\n",
       "      <th>speaker</th>\n",
       "      <th>qids</th>\n",
       "      <th>date</th>\n",
       "      <th>numOccurrences</th>\n",
       "      <th>probas</th>\n",
       "      <th>urls</th>\n",
       "      <th>phase</th>\n",
       "      <th>movie</th>\n",
       "    </tr>\n",
       "  </thead>\n",
       "  <tbody>\n",
       "    <tr>\n",
       "      <th>0</th>\n",
       "      <td>2015-02-14-007911</td>\n",
       "      <td>For fans of the book they know that Effie's ro...</td>\n",
       "      <td>None</td>\n",
       "      <td>[]</td>\n",
       "      <td>2015-02-14 00:47:05</td>\n",
       "      <td>1</td>\n",
       "      <td>[[None, 0.8008], [Francis Lawrence, 0.1299], [...</td>\n",
       "      <td>[http://www.buzzfeed.com/kristinharris/secrets...</td>\n",
       "      <td>E</td>\n",
       "      <td>The Hunger Games: Mockingjay - Part 2</td>\n",
       "    </tr>\n",
       "    <tr>\n",
       "      <th>1</th>\n",
       "      <td>2015-11-15-027947</td>\n",
       "      <td>Is Ferguson like Mockingjay?</td>\n",
       "      <td>Laci Green</td>\n",
       "      <td>[Q16843606]</td>\n",
       "      <td>2015-11-15 03:15:53</td>\n",
       "      <td>1</td>\n",
       "      <td>[[Laci Green, 0.9013], [None, 0.0987]]</td>\n",
       "      <td>[http://www.dailykos.com/story/2015/11/15/1450...</td>\n",
       "      <td>E</td>\n",
       "      <td>The Hunger Games: Mockingjay - Part 2</td>\n",
       "    </tr>\n",
       "    <tr>\n",
       "      <th>2</th>\n",
       "      <td>2015-04-26-028061</td>\n",
       "      <td>It's pretty exciting-I have to say. I saw the ...</td>\n",
       "      <td>None</td>\n",
       "      <td>[]</td>\n",
       "      <td>2015-04-26 11:56:10</td>\n",
       "      <td>2</td>\n",
       "      <td>[[None, 0.8589], [Jared Leto, 0.0772], [Joss W...</td>\n",
       "      <td>[http://ign.com/articles/2015/04/24/joss-whedo...</td>\n",
       "      <td>E</td>\n",
       "      <td>Star Wars: Episode VII - The Force Awakens</td>\n",
       "    </tr>\n",
       "    <tr>\n",
       "      <th>3</th>\n",
       "      <td>2015-12-31-028469</td>\n",
       "      <td>I want to clarify my interview on the `Charlie...</td>\n",
       "      <td>George Lucas</td>\n",
       "      <td>[Q1507803, Q38222]</td>\n",
       "      <td>2015-12-31 16:48:00</td>\n",
       "      <td>7</td>\n",
       "      <td>[[George Lucas, 0.5327], [None, 0.4248], [Char...</td>\n",
       "      <td>[http://www.escapistmagazine.com/news/view/165...</td>\n",
       "      <td>E</td>\n",
       "      <td>Star Wars: Episode VII - The Force Awakens</td>\n",
       "    </tr>\n",
       "    <tr>\n",
       "      <th>4</th>\n",
       "      <td>2015-10-07-077176</td>\n",
       "      <td>One area where we saw continued problems is Os...</td>\n",
       "      <td>Rachel Gordon</td>\n",
       "      <td>[Q7279255]</td>\n",
       "      <td>2015-10-07 14:30:43</td>\n",
       "      <td>1</td>\n",
       "      <td>[[Rachel Gordon, 0.7129], [None, 0.2673], [Mar...</td>\n",
       "      <td>[http://missionlocal.org/2015/10/sf-gets-more-...</td>\n",
       "      <td>E</td>\n",
       "      <td>Mission: Impossible - Rogue Nation</td>\n",
       "    </tr>\n",
       "  </tbody>\n",
       "</table>\n",
       "</div>"
      ],
      "text/plain": [
       "             quoteID                                          quotation  \\\n",
       "0  2015-02-14-007911  For fans of the book they know that Effie's ro...   \n",
       "1  2015-11-15-027947                       Is Ferguson like Mockingjay?   \n",
       "2  2015-04-26-028061  It's pretty exciting-I have to say. I saw the ...   \n",
       "3  2015-12-31-028469  I want to clarify my interview on the `Charlie...   \n",
       "4  2015-10-07-077176  One area where we saw continued problems is Os...   \n",
       "\n",
       "         speaker                qids                date  numOccurrences  \\\n",
       "0           None                  [] 2015-02-14 00:47:05               1   \n",
       "1     Laci Green         [Q16843606] 2015-11-15 03:15:53               1   \n",
       "2           None                  [] 2015-04-26 11:56:10               2   \n",
       "3   George Lucas  [Q1507803, Q38222] 2015-12-31 16:48:00               7   \n",
       "4  Rachel Gordon          [Q7279255] 2015-10-07 14:30:43               1   \n",
       "\n",
       "                                              probas  \\\n",
       "0  [[None, 0.8008], [Francis Lawrence, 0.1299], [...   \n",
       "1             [[Laci Green, 0.9013], [None, 0.0987]]   \n",
       "2  [[None, 0.8589], [Jared Leto, 0.0772], [Joss W...   \n",
       "3  [[George Lucas, 0.5327], [None, 0.4248], [Char...   \n",
       "4  [[Rachel Gordon, 0.7129], [None, 0.2673], [Mar...   \n",
       "\n",
       "                                                urls phase  \\\n",
       "0  [http://www.buzzfeed.com/kristinharris/secrets...     E   \n",
       "1  [http://www.dailykos.com/story/2015/11/15/1450...     E   \n",
       "2  [http://ign.com/articles/2015/04/24/joss-whedo...     E   \n",
       "3  [http://www.escapistmagazine.com/news/view/165...     E   \n",
       "4  [http://missionlocal.org/2015/10/sf-gets-more-...     E   \n",
       "\n",
       "                                        movie  \n",
       "0       The Hunger Games: Mockingjay - Part 2  \n",
       "1       The Hunger Games: Mockingjay - Part 2  \n",
       "2  Star Wars: Episode VII - The Force Awakens  \n",
       "3  Star Wars: Episode VII - The Force Awakens  \n",
       "4          Mission: Impossible - Rogue Nation  "
      ]
     },
     "execution_count": 4,
     "metadata": {},
     "output_type": "execute_result"
    }
   ],
   "source": [
    "df.head()"
   ]
  },
  {
   "cell_type": "markdown",
   "id": "aff376b7",
   "metadata": {},
   "source": [
    "Removing NaN-values. We see that these only occur in the `movie` attribute which right now is due to an issue in the data filtering. "
   ]
  },
  {
   "cell_type": "code",
   "execution_count": 5,
   "id": "f048781e",
   "metadata": {},
   "outputs": [
    {
     "data": {
      "text/plain": [
       "quoteID           False\n",
       "quotation         False\n",
       "speaker           False\n",
       "qids              False\n",
       "date              False\n",
       "numOccurrences    False\n",
       "probas            False\n",
       "urls              False\n",
       "phase             False\n",
       "movie              True\n",
       "dtype: bool"
      ]
     },
     "execution_count": 5,
     "metadata": {},
     "output_type": "execute_result"
    }
   ],
   "source": [
    "df.isnull().any()"
   ]
  },
  {
   "cell_type": "code",
   "execution_count": 6,
   "id": "e4f6c539",
   "metadata": {},
   "outputs": [],
   "source": [
    "df = df.loc[-df.isnull().any(axis=1)]"
   ]
  },
  {
   "cell_type": "code",
   "execution_count": 7,
   "id": "6fd39448",
   "metadata": {},
   "outputs": [
    {
     "data": {
      "text/plain": [
       "(51993, 10)"
      ]
     },
     "execution_count": 7,
     "metadata": {},
     "output_type": "execute_result"
    }
   ],
   "source": [
    "df.shape"
   ]
  },
  {
   "cell_type": "markdown",
   "id": "5b1da6d9",
   "metadata": {},
   "source": [
    "### Dealing with the speakers"
   ]
  },
  {
   "cell_type": "markdown",
   "id": "1ba81781",
   "metadata": {},
   "source": [
    "We investigate how many quotes does not have an obvious speaker and is denoted by 'None'. Turns out that it is approximately 38%."
   ]
  },
  {
   "cell_type": "code",
   "execution_count": 8,
   "id": "2117c2e0",
   "metadata": {},
   "outputs": [
    {
     "name": "stdout",
     "output_type": "stream",
     "text": [
      "'None'-speakers: 19574\n",
      "Total fraction of 'None'-speakers: 0.37647375608254957\n"
     ]
    }
   ],
   "source": [
    "number_none_speakers = len(df[df.speaker == 'None'])\n",
    "\n",
    "print(f\"'None'-speakers: {number_none_speakers}\")\n",
    "print(f\"Total fraction of 'None'-speakers: {number_none_speakers / len(df)}\")"
   ]
  },
  {
   "cell_type": "markdown",
   "id": "b4ab09fa",
   "metadata": {},
   "source": [
    "Even though the single speakers are not really important for answering our research questions, we choose to clean the data by chaning 'None'-speakers to the speaker with second highest probability from the `df.probas` attribute. \n",
    "<span style=\"color:red\"> *TODO*: THIS MIGHT NEED RE-ENGENEERING TO A MORE EXCLUSIVE THING. right now trump gets assigned to a lot. </span>"
   ]
  },
  {
   "cell_type": "code",
   "execution_count": 9,
   "id": "65d1780e",
   "metadata": {},
   "outputs": [
    {
     "name": "stderr",
     "output_type": "stream",
     "text": [
      "100%|████████████████████████████████████████████████████████████████████████| 51993/51993 [00:00<00:00, 126370.30it/s]\n"
     ]
    }
   ],
   "source": [
    "# Removes speaker as being None to being the second most likely in case speaker is 'None'\n",
    "proba_threshhold = 0.15\n",
    "\n",
    "secondary_speaker = [df['probas'][i][1][0] if (speaker == 'None') and (float(df['probas'][i][1][1]) > proba_threshhold) else speaker for i, speaker in enumerate(tqdm(df['speaker']))]\n",
    "df['speaker'] = secondary_speaker"
   ]
  },
  {
   "cell_type": "code",
   "execution_count": 10,
   "id": "9857f5af",
   "metadata": {},
   "outputs": [
    {
     "name": "stdout",
     "output_type": "stream",
     "text": [
      "'None'-speakers: 7696\n",
      "Total fraction of 'None'-speakers: 0.1480199257592368\n"
     ]
    }
   ],
   "source": [
    "number_none_speakers = len(df[df.speaker == 'None'])\n",
    "\n",
    "print(f\"'None'-speakers: {number_none_speakers}\")\n",
    "print(f\"Total fraction of 'None'-speakers: {number_none_speakers / len(df)}\")"
   ]
  },
  {
   "cell_type": "code",
   "execution_count": 11,
   "id": "6ab742b5",
   "metadata": {},
   "outputs": [
    {
     "data": {
      "text/html": [
       "<div>\n",
       "<style scoped>\n",
       "    .dataframe tbody tr th:only-of-type {\n",
       "        vertical-align: middle;\n",
       "    }\n",
       "\n",
       "    .dataframe tbody tr th {\n",
       "        vertical-align: top;\n",
       "    }\n",
       "\n",
       "    .dataframe thead th {\n",
       "        text-align: right;\n",
       "    }\n",
       "</style>\n",
       "<table border=\"1\" class=\"dataframe\">\n",
       "  <thead>\n",
       "    <tr style=\"text-align: right;\">\n",
       "      <th></th>\n",
       "      <th>quoteID</th>\n",
       "      <th>quotation</th>\n",
       "      <th>speaker</th>\n",
       "      <th>qids</th>\n",
       "      <th>date</th>\n",
       "      <th>numOccurrences</th>\n",
       "      <th>probas</th>\n",
       "      <th>urls</th>\n",
       "      <th>phase</th>\n",
       "      <th>movie</th>\n",
       "    </tr>\n",
       "  </thead>\n",
       "  <tbody>\n",
       "    <tr>\n",
       "      <th>0</th>\n",
       "      <td>2015-02-14-007911</td>\n",
       "      <td>For fans of the book they know that Effie's ro...</td>\n",
       "      <td>None</td>\n",
       "      <td>[]</td>\n",
       "      <td>2015-02-14 00:47:05</td>\n",
       "      <td>1</td>\n",
       "      <td>[[None, 0.8008], [Francis Lawrence, 0.1299], [...</td>\n",
       "      <td>[http://www.buzzfeed.com/kristinharris/secrets...</td>\n",
       "      <td>E</td>\n",
       "      <td>The Hunger Games: Mockingjay - Part 2</td>\n",
       "    </tr>\n",
       "    <tr>\n",
       "      <th>1</th>\n",
       "      <td>2015-11-15-027947</td>\n",
       "      <td>Is Ferguson like Mockingjay?</td>\n",
       "      <td>Laci Green</td>\n",
       "      <td>[Q16843606]</td>\n",
       "      <td>2015-11-15 03:15:53</td>\n",
       "      <td>1</td>\n",
       "      <td>[[Laci Green, 0.9013], [None, 0.0987]]</td>\n",
       "      <td>[http://www.dailykos.com/story/2015/11/15/1450...</td>\n",
       "      <td>E</td>\n",
       "      <td>The Hunger Games: Mockingjay - Part 2</td>\n",
       "    </tr>\n",
       "    <tr>\n",
       "      <th>2</th>\n",
       "      <td>2015-04-26-028061</td>\n",
       "      <td>It's pretty exciting-I have to say. I saw the ...</td>\n",
       "      <td>None</td>\n",
       "      <td>[]</td>\n",
       "      <td>2015-04-26 11:56:10</td>\n",
       "      <td>2</td>\n",
       "      <td>[[None, 0.8589], [Jared Leto, 0.0772], [Joss W...</td>\n",
       "      <td>[http://ign.com/articles/2015/04/24/joss-whedo...</td>\n",
       "      <td>E</td>\n",
       "      <td>Star Wars: Episode VII - The Force Awakens</td>\n",
       "    </tr>\n",
       "    <tr>\n",
       "      <th>3</th>\n",
       "      <td>2015-12-31-028469</td>\n",
       "      <td>I want to clarify my interview on the `Charlie...</td>\n",
       "      <td>George Lucas</td>\n",
       "      <td>[Q1507803, Q38222]</td>\n",
       "      <td>2015-12-31 16:48:00</td>\n",
       "      <td>7</td>\n",
       "      <td>[[George Lucas, 0.5327], [None, 0.4248], [Char...</td>\n",
       "      <td>[http://www.escapistmagazine.com/news/view/165...</td>\n",
       "      <td>E</td>\n",
       "      <td>Star Wars: Episode VII - The Force Awakens</td>\n",
       "    </tr>\n",
       "    <tr>\n",
       "      <th>4</th>\n",
       "      <td>2015-10-07-077176</td>\n",
       "      <td>One area where we saw continued problems is Os...</td>\n",
       "      <td>Rachel Gordon</td>\n",
       "      <td>[Q7279255]</td>\n",
       "      <td>2015-10-07 14:30:43</td>\n",
       "      <td>1</td>\n",
       "      <td>[[Rachel Gordon, 0.7129], [None, 0.2673], [Mar...</td>\n",
       "      <td>[http://missionlocal.org/2015/10/sf-gets-more-...</td>\n",
       "      <td>E</td>\n",
       "      <td>Mission: Impossible - Rogue Nation</td>\n",
       "    </tr>\n",
       "  </tbody>\n",
       "</table>\n",
       "</div>"
      ],
      "text/plain": [
       "             quoteID                                          quotation  \\\n",
       "0  2015-02-14-007911  For fans of the book they know that Effie's ro...   \n",
       "1  2015-11-15-027947                       Is Ferguson like Mockingjay?   \n",
       "2  2015-04-26-028061  It's pretty exciting-I have to say. I saw the ...   \n",
       "3  2015-12-31-028469  I want to clarify my interview on the `Charlie...   \n",
       "4  2015-10-07-077176  One area where we saw continued problems is Os...   \n",
       "\n",
       "         speaker                qids                date  numOccurrences  \\\n",
       "0           None                  [] 2015-02-14 00:47:05               1   \n",
       "1     Laci Green         [Q16843606] 2015-11-15 03:15:53               1   \n",
       "2           None                  [] 2015-04-26 11:56:10               2   \n",
       "3   George Lucas  [Q1507803, Q38222] 2015-12-31 16:48:00               7   \n",
       "4  Rachel Gordon          [Q7279255] 2015-10-07 14:30:43               1   \n",
       "\n",
       "                                              probas  \\\n",
       "0  [[None, 0.8008], [Francis Lawrence, 0.1299], [...   \n",
       "1             [[Laci Green, 0.9013], [None, 0.0987]]   \n",
       "2  [[None, 0.8589], [Jared Leto, 0.0772], [Joss W...   \n",
       "3  [[George Lucas, 0.5327], [None, 0.4248], [Char...   \n",
       "4  [[Rachel Gordon, 0.7129], [None, 0.2673], [Mar...   \n",
       "\n",
       "                                                urls phase  \\\n",
       "0  [http://www.buzzfeed.com/kristinharris/secrets...     E   \n",
       "1  [http://www.dailykos.com/story/2015/11/15/1450...     E   \n",
       "2  [http://ign.com/articles/2015/04/24/joss-whedo...     E   \n",
       "3  [http://www.escapistmagazine.com/news/view/165...     E   \n",
       "4  [http://missionlocal.org/2015/10/sf-gets-more-...     E   \n",
       "\n",
       "                                        movie  \n",
       "0       The Hunger Games: Mockingjay - Part 2  \n",
       "1       The Hunger Games: Mockingjay - Part 2  \n",
       "2  Star Wars: Episode VII - The Force Awakens  \n",
       "3  Star Wars: Episode VII - The Force Awakens  \n",
       "4          Mission: Impossible - Rogue Nation  "
      ]
     },
     "execution_count": 11,
     "metadata": {},
     "output_type": "execute_result"
    }
   ],
   "source": [
    "df.head()"
   ]
  },
  {
   "cell_type": "markdown",
   "id": "865b6c11",
   "metadata": {},
   "source": [
    "Furthermore, we realize that there is a super specific timestamp on the `date` attribute. Later on we will match daily box office sales with the Quotebank data, so we strip the timestamps from the specific time of the date and focus solely on the date."
   ]
  },
  {
   "cell_type": "code",
   "execution_count": 12,
   "id": "bcc03175",
   "metadata": {},
   "outputs": [
    {
     "name": "stderr",
     "output_type": "stream",
     "text": [
      "100%|████████████████████████████████████████████████████████████████████████| 51993/51993 [00:00<00:00, 469524.58it/s]\n"
     ]
    }
   ],
   "source": [
    "# Remove last part of date from the quoteID date string to be able to have an average daily sentiment score\n",
    "reduced_dates = [(\"-\").join(date.split(\"-\")[:3]) for date in tqdm(df.quoteID)]\n",
    "df['date'] = reduced_dates"
   ]
  },
  {
   "cell_type": "code",
   "execution_count": 13,
   "id": "d7bf83d0",
   "metadata": {},
   "outputs": [
    {
     "data": {
      "text/html": [
       "<div>\n",
       "<style scoped>\n",
       "    .dataframe tbody tr th:only-of-type {\n",
       "        vertical-align: middle;\n",
       "    }\n",
       "\n",
       "    .dataframe tbody tr th {\n",
       "        vertical-align: top;\n",
       "    }\n",
       "\n",
       "    .dataframe thead th {\n",
       "        text-align: right;\n",
       "    }\n",
       "</style>\n",
       "<table border=\"1\" class=\"dataframe\">\n",
       "  <thead>\n",
       "    <tr style=\"text-align: right;\">\n",
       "      <th></th>\n",
       "      <th>quoteID</th>\n",
       "      <th>quotation</th>\n",
       "      <th>speaker</th>\n",
       "      <th>qids</th>\n",
       "      <th>date</th>\n",
       "      <th>numOccurrences</th>\n",
       "      <th>probas</th>\n",
       "      <th>urls</th>\n",
       "      <th>phase</th>\n",
       "      <th>movie</th>\n",
       "    </tr>\n",
       "  </thead>\n",
       "  <tbody>\n",
       "    <tr>\n",
       "      <th>0</th>\n",
       "      <td>2015-02-14-007911</td>\n",
       "      <td>For fans of the book they know that Effie's ro...</td>\n",
       "      <td>None</td>\n",
       "      <td>[]</td>\n",
       "      <td>2015-02-14</td>\n",
       "      <td>1</td>\n",
       "      <td>[[None, 0.8008], [Francis Lawrence, 0.1299], [...</td>\n",
       "      <td>[http://www.buzzfeed.com/kristinharris/secrets...</td>\n",
       "      <td>E</td>\n",
       "      <td>The Hunger Games: Mockingjay - Part 2</td>\n",
       "    </tr>\n",
       "    <tr>\n",
       "      <th>1</th>\n",
       "      <td>2015-11-15-027947</td>\n",
       "      <td>Is Ferguson like Mockingjay?</td>\n",
       "      <td>Laci Green</td>\n",
       "      <td>[Q16843606]</td>\n",
       "      <td>2015-11-15</td>\n",
       "      <td>1</td>\n",
       "      <td>[[Laci Green, 0.9013], [None, 0.0987]]</td>\n",
       "      <td>[http://www.dailykos.com/story/2015/11/15/1450...</td>\n",
       "      <td>E</td>\n",
       "      <td>The Hunger Games: Mockingjay - Part 2</td>\n",
       "    </tr>\n",
       "    <tr>\n",
       "      <th>2</th>\n",
       "      <td>2015-04-26-028061</td>\n",
       "      <td>It's pretty exciting-I have to say. I saw the ...</td>\n",
       "      <td>None</td>\n",
       "      <td>[]</td>\n",
       "      <td>2015-04-26</td>\n",
       "      <td>2</td>\n",
       "      <td>[[None, 0.8589], [Jared Leto, 0.0772], [Joss W...</td>\n",
       "      <td>[http://ign.com/articles/2015/04/24/joss-whedo...</td>\n",
       "      <td>E</td>\n",
       "      <td>Star Wars: Episode VII - The Force Awakens</td>\n",
       "    </tr>\n",
       "    <tr>\n",
       "      <th>3</th>\n",
       "      <td>2015-12-31-028469</td>\n",
       "      <td>I want to clarify my interview on the `Charlie...</td>\n",
       "      <td>George Lucas</td>\n",
       "      <td>[Q1507803, Q38222]</td>\n",
       "      <td>2015-12-31</td>\n",
       "      <td>7</td>\n",
       "      <td>[[George Lucas, 0.5327], [None, 0.4248], [Char...</td>\n",
       "      <td>[http://www.escapistmagazine.com/news/view/165...</td>\n",
       "      <td>E</td>\n",
       "      <td>Star Wars: Episode VII - The Force Awakens</td>\n",
       "    </tr>\n",
       "    <tr>\n",
       "      <th>4</th>\n",
       "      <td>2015-10-07-077176</td>\n",
       "      <td>One area where we saw continued problems is Os...</td>\n",
       "      <td>Rachel Gordon</td>\n",
       "      <td>[Q7279255]</td>\n",
       "      <td>2015-10-07</td>\n",
       "      <td>1</td>\n",
       "      <td>[[Rachel Gordon, 0.7129], [None, 0.2673], [Mar...</td>\n",
       "      <td>[http://missionlocal.org/2015/10/sf-gets-more-...</td>\n",
       "      <td>E</td>\n",
       "      <td>Mission: Impossible - Rogue Nation</td>\n",
       "    </tr>\n",
       "  </tbody>\n",
       "</table>\n",
       "</div>"
      ],
      "text/plain": [
       "             quoteID                                          quotation  \\\n",
       "0  2015-02-14-007911  For fans of the book they know that Effie's ro...   \n",
       "1  2015-11-15-027947                       Is Ferguson like Mockingjay?   \n",
       "2  2015-04-26-028061  It's pretty exciting-I have to say. I saw the ...   \n",
       "3  2015-12-31-028469  I want to clarify my interview on the `Charlie...   \n",
       "4  2015-10-07-077176  One area where we saw continued problems is Os...   \n",
       "\n",
       "         speaker                qids        date  numOccurrences  \\\n",
       "0           None                  []  2015-02-14               1   \n",
       "1     Laci Green         [Q16843606]  2015-11-15               1   \n",
       "2           None                  []  2015-04-26               2   \n",
       "3   George Lucas  [Q1507803, Q38222]  2015-12-31               7   \n",
       "4  Rachel Gordon          [Q7279255]  2015-10-07               1   \n",
       "\n",
       "                                              probas  \\\n",
       "0  [[None, 0.8008], [Francis Lawrence, 0.1299], [...   \n",
       "1             [[Laci Green, 0.9013], [None, 0.0987]]   \n",
       "2  [[None, 0.8589], [Jared Leto, 0.0772], [Joss W...   \n",
       "3  [[George Lucas, 0.5327], [None, 0.4248], [Char...   \n",
       "4  [[Rachel Gordon, 0.7129], [None, 0.2673], [Mar...   \n",
       "\n",
       "                                                urls phase  \\\n",
       "0  [http://www.buzzfeed.com/kristinharris/secrets...     E   \n",
       "1  [http://www.dailykos.com/story/2015/11/15/1450...     E   \n",
       "2  [http://ign.com/articles/2015/04/24/joss-whedo...     E   \n",
       "3  [http://www.escapistmagazine.com/news/view/165...     E   \n",
       "4  [http://missionlocal.org/2015/10/sf-gets-more-...     E   \n",
       "\n",
       "                                        movie  \n",
       "0       The Hunger Games: Mockingjay - Part 2  \n",
       "1       The Hunger Games: Mockingjay - Part 2  \n",
       "2  Star Wars: Episode VII - The Force Awakens  \n",
       "3  Star Wars: Episode VII - The Force Awakens  \n",
       "4          Mission: Impossible - Rogue Nation  "
      ]
     },
     "execution_count": 13,
     "metadata": {},
     "output_type": "execute_result"
    }
   ],
   "source": [
    "df.head()"
   ]
  },
  {
   "cell_type": "markdown",
   "id": "93fb57af",
   "metadata": {},
   "source": [
    "The attribute `phase` seem to mostly take the values 'E'. The investigation below shows that all of the entries are in fact 'E' so we decide to remove it from the dataframe. From the documentation of the data we also do not find it relevant for our case. Also we won't be using the `quoteID` attribute but instead the WikiData compatible `qids`."
   ]
  },
  {
   "cell_type": "code",
   "execution_count": 14,
   "id": "d4fa92ff",
   "metadata": {},
   "outputs": [],
   "source": [
    "np.unique(df.phase, return_counts=True)\n",
    "df = df.drop(['phase', 'quoteID'], axis=1)"
   ]
  },
  {
   "cell_type": "markdown",
   "id": "7a46561a",
   "metadata": {},
   "source": [
    "### Handling outliers in the numOccurrences"
   ]
  },
  {
   "cell_type": "markdown",
   "id": "03908f39",
   "metadata": {},
   "source": [
    "We want to check for outliers in the number of occurrences as it is the only numercal attribute left. By a first descriptive analysis of the variable we suspect something fishy as the maximum number is quite high. We note that there are no weird values on the other side as the minimum value of occurrences is 1."
   ]
  },
  {
   "cell_type": "code",
   "execution_count": 15,
   "id": "eca1c71f",
   "metadata": {},
   "outputs": [
    {
     "data": {
      "text/plain": [
       "count    51993.000000\n",
       "mean         4.648337\n",
       "std        123.223533\n",
       "min          1.000000\n",
       "25%          1.000000\n",
       "50%          1.000000\n",
       "75%          2.000000\n",
       "max      22903.000000\n",
       "Name: numOccurrences, dtype: float64"
      ]
     },
     "execution_count": 15,
     "metadata": {},
     "output_type": "execute_result"
    }
   ],
   "source": [
    "df.numOccurrences.describe()"
   ]
  },
  {
   "cell_type": "markdown",
   "id": "bb6ff7a0",
   "metadata": {},
   "source": [
    "We also want to see if this seems unfeasible when looking at the plots. The boxplot reveals that there is a need to investigate outliers and the plot of the occurences reveal that the distribution seem to follow a strong power law. We will have to deal with outliers to get anything meaningful from the data."
   ]
  },
  {
   "cell_type": "code",
   "execution_count": 16,
   "id": "61a8850c",
   "metadata": {},
   "outputs": [
    {
     "data": {
      "image/png": "[encoded data removed]",
      "text/plain": [
       "<Figure size 432x288 with 1 Axes>"
      ]
     },
     "metadata": {
      "needs_background": "light"
     },
     "output_type": "display_data"
    },
    {
     "data": {
      "image/png": "[encoded data removed]",
      "text/plain": [
       "<Figure size 432x288 with 1 Axes>"
      ]
     },
     "metadata": {
      "needs_background": "light"
     },
     "output_type": "display_data"
    }
   ],
   "source": [
    "plt.boxplot(df.numOccurrences)\n",
    "plt.ylabel(\"Number of Occurrences\")\n",
    "plt.title(\"With outliers\")\n",
    "plt.show()\n",
    "\n",
    "plt.hist(df.numOccurrences, bins=50)\n",
    "plt.ylabel(\"Number of Occurrences\")\n",
    "plt.title(\"Histogram with outliers\")\n",
    "plt.show()"
   ]
  },
  {
   "cell_type": "markdown",
   "id": "5f7b7e90",
   "metadata": {},
   "source": [
    "As a start we will investigate whether the IQR outlier removal approach is feasible for our data. The code is taken and re-written from our homework 1 hand-in.\n"
   ]
  },
  {
   "cell_type": "code",
   "execution_count": 17,
   "id": "b008a857",
   "metadata": {},
   "outputs": [],
   "source": [
    "def get_outliers(data):\n",
    "    \"\"\" Filters out outliers that is more than 1.5 times lower than the 25% quantile and above 1.5 times higher than the \n",
    "    75% quantile.\n",
    "    \n",
    "    Input is the sub-dataframe consisting of the columns assosiacted with kilometrage data.\n",
    "    returns the indeces for rows that contains outliers.\n",
    "    \n",
    "    Function idea is taken from our implementation in Homework 1\n",
    "    \n",
    "    \"\"\"\n",
    "    \n",
    "    series = pd.Series(data)\n",
    "    \n",
    "    IQR = (series.quantile(0.75) - series.quantile(0.25)) \n",
    "    outlier_threshold = IQR * 1.5\n",
    "\n",
    "    # calculating decision boundaries\n",
    "    lower = series.quantile(0.25)-outlier_threshold\n",
    "    upper = series.quantile(0.75)+outlier_threshold\n",
    "\n",
    "    # Finds the union of outlier indeces from the previous column and the current column\n",
    "    outlier_indeces = np.union1d(series.index[series < lower], series.index[series > upper])\n",
    "\n",
    "    return np.array([int(x) for x in outlier_indeces])"
   ]
  },
  {
   "cell_type": "code",
   "execution_count": 18,
   "id": "5d939daf",
   "metadata": {},
   "outputs": [
    {
     "name": "stdout",
     "output_type": "stream",
     "text": [
      "Number of IQR outliers: 7830\n",
      "Ratio of IQR outliers in original data: 0.1505971957763545\n"
     ]
    }
   ],
   "source": [
    "outlier_ids = get_outliers(df.numOccurrences)\n",
    "print(f\"Number of IQR outliers: {len(outlier_ids)}\")\n",
    "print(f\"Ratio of IQR outliers in original data: {len(outlier_ids)/len(df)}\")"
   ]
  },
  {
   "cell_type": "code",
   "execution_count": 19,
   "id": "7efd04fb",
   "metadata": {},
   "outputs": [
    {
     "data": {
      "text/plain": [
       "(44163, 8)"
      ]
     },
     "execution_count": 19,
     "metadata": {},
     "output_type": "execute_result"
    }
   ],
   "source": [
    "df = df.drop(outlier_ids)\n",
    "df.index = np.arange(len(df))\n",
    "df.shape"
   ]
  },
  {
   "cell_type": "markdown",
   "id": "7bad7644",
   "metadata": {},
   "source": [
    "So 15% of the data was determined to be outliers based on the IQR range. We visualize the new distribution in the following. "
   ]
  },
  {
   "cell_type": "code",
   "execution_count": 20,
   "id": "088c81dd",
   "metadata": {},
   "outputs": [
    {
     "data": {
      "text/html": [
       "<div>\n",
       "<style scoped>\n",
       "    .dataframe tbody tr th:only-of-type {\n",
       "        vertical-align: middle;\n",
       "    }\n",
       "\n",
       "    .dataframe tbody tr th {\n",
       "        vertical-align: top;\n",
       "    }\n",
       "\n",
       "    .dataframe thead th {\n",
       "        text-align: right;\n",
       "    }\n",
       "</style>\n",
       "<table border=\"1\" class=\"dataframe\">\n",
       "  <thead>\n",
       "    <tr style=\"text-align: right;\">\n",
       "      <th></th>\n",
       "      <th>numOccurrences</th>\n",
       "    </tr>\n",
       "  </thead>\n",
       "  <tbody>\n",
       "    <tr>\n",
       "      <th>count</th>\n",
       "      <td>44163.000000</td>\n",
       "    </tr>\n",
       "    <tr>\n",
       "      <th>mean</th>\n",
       "      <td>1.357788</td>\n",
       "    </tr>\n",
       "    <tr>\n",
       "      <th>std</th>\n",
       "      <td>0.621381</td>\n",
       "    </tr>\n",
       "    <tr>\n",
       "      <th>min</th>\n",
       "      <td>1.000000</td>\n",
       "    </tr>\n",
       "    <tr>\n",
       "      <th>25%</th>\n",
       "      <td>1.000000</td>\n",
       "    </tr>\n",
       "    <tr>\n",
       "      <th>50%</th>\n",
       "      <td>1.000000</td>\n",
       "    </tr>\n",
       "    <tr>\n",
       "      <th>75%</th>\n",
       "      <td>2.000000</td>\n",
       "    </tr>\n",
       "    <tr>\n",
       "      <th>max</th>\n",
       "      <td>3.000000</td>\n",
       "    </tr>\n",
       "  </tbody>\n",
       "</table>\n",
       "</div>"
      ],
      "text/plain": [
       "       numOccurrences\n",
       "count    44163.000000\n",
       "mean         1.357788\n",
       "std          0.621381\n",
       "min          1.000000\n",
       "25%          1.000000\n",
       "50%          1.000000\n",
       "75%          2.000000\n",
       "max          3.000000"
      ]
     },
     "execution_count": 20,
     "metadata": {},
     "output_type": "execute_result"
    }
   ],
   "source": [
    "df.describe()"
   ]
  },
  {
   "cell_type": "code",
   "execution_count": 21,
   "id": "06f4693b",
   "metadata": {},
   "outputs": [
    {
     "data": {
      "image/png": "[encoded data removed]",
      "text/plain": [
       "<Figure size 432x288 with 1 Axes>"
      ]
     },
     "metadata": {
      "needs_background": "light"
     },
     "output_type": "display_data"
    },
    {
     "data": {
      "image/png": "[encoded data removed]",
      "text/plain": [
       "<Figure size 432x288 with 1 Axes>"
      ]
     },
     "metadata": {
      "needs_background": "light"
     },
     "output_type": "display_data"
    }
   ],
   "source": [
    "plt.boxplot(df.numOccurrences)\n",
    "plt.ylabel(\"Number of Occurrences for ID's\")\n",
    "plt.title(\"Without IQR outliers\")\n",
    "plt.show()\n",
    "\n",
    "plt.hist(df.numOccurrences)\n",
    "plt.ylabel(\"Number of Occurrences for ID's\")\n",
    "plt.title(\"Histogram Without IQR outliers\")\n",
    "plt.show()"
   ]
  },
  {
   "cell_type": "code",
   "execution_count": 22,
   "id": "6a674aab",
   "metadata": {},
   "outputs": [
    {
     "data": {
      "text/html": [
       "<div>\n",
       "<style scoped>\n",
       "    .dataframe tbody tr th:only-of-type {\n",
       "        vertical-align: middle;\n",
       "    }\n",
       "\n",
       "    .dataframe tbody tr th {\n",
       "        vertical-align: top;\n",
       "    }\n",
       "\n",
       "    .dataframe thead th {\n",
       "        text-align: right;\n",
       "    }\n",
       "</style>\n",
       "<table border=\"1\" class=\"dataframe\">\n",
       "  <thead>\n",
       "    <tr style=\"text-align: right;\">\n",
       "      <th></th>\n",
       "      <th>quotation</th>\n",
       "      <th>speaker</th>\n",
       "      <th>qids</th>\n",
       "      <th>date</th>\n",
       "      <th>numOccurrences</th>\n",
       "      <th>probas</th>\n",
       "      <th>urls</th>\n",
       "      <th>movie</th>\n",
       "    </tr>\n",
       "  </thead>\n",
       "  <tbody>\n",
       "    <tr>\n",
       "      <th>0</th>\n",
       "      <td>For fans of the book they know that Effie's ro...</td>\n",
       "      <td>None</td>\n",
       "      <td>[]</td>\n",
       "      <td>2015-02-14</td>\n",
       "      <td>1</td>\n",
       "      <td>[[None, 0.8008], [Francis Lawrence, 0.1299], [...</td>\n",
       "      <td>[http://www.buzzfeed.com/kristinharris/secrets...</td>\n",
       "      <td>The Hunger Games: Mockingjay - Part 2</td>\n",
       "    </tr>\n",
       "    <tr>\n",
       "      <th>1</th>\n",
       "      <td>Is Ferguson like Mockingjay?</td>\n",
       "      <td>Laci Green</td>\n",
       "      <td>[Q16843606]</td>\n",
       "      <td>2015-11-15</td>\n",
       "      <td>1</td>\n",
       "      <td>[[Laci Green, 0.9013], [None, 0.0987]]</td>\n",
       "      <td>[http://www.dailykos.com/story/2015/11/15/1450...</td>\n",
       "      <td>The Hunger Games: Mockingjay - Part 2</td>\n",
       "    </tr>\n",
       "    <tr>\n",
       "      <th>2</th>\n",
       "      <td>It's pretty exciting-I have to say. I saw the ...</td>\n",
       "      <td>None</td>\n",
       "      <td>[]</td>\n",
       "      <td>2015-04-26</td>\n",
       "      <td>2</td>\n",
       "      <td>[[None, 0.8589], [Jared Leto, 0.0772], [Joss W...</td>\n",
       "      <td>[http://ign.com/articles/2015/04/24/joss-whedo...</td>\n",
       "      <td>Star Wars: Episode VII - The Force Awakens</td>\n",
       "    </tr>\n",
       "    <tr>\n",
       "      <th>3</th>\n",
       "      <td>One area where we saw continued problems is Os...</td>\n",
       "      <td>Rachel Gordon</td>\n",
       "      <td>[Q7279255]</td>\n",
       "      <td>2015-10-07</td>\n",
       "      <td>1</td>\n",
       "      <td>[[Rachel Gordon, 0.7129], [None, 0.2673], [Mar...</td>\n",
       "      <td>[http://missionlocal.org/2015/10/sf-gets-more-...</td>\n",
       "      <td>Mission: Impossible - Rogue Nation</td>\n",
       "    </tr>\n",
       "    <tr>\n",
       "      <th>4</th>\n",
       "      <td>Is Daredevil joining the Avengers for Infinity...</td>\n",
       "      <td>Scott Davis</td>\n",
       "      <td>[]</td>\n",
       "      <td>2015-12-10</td>\n",
       "      <td>2</td>\n",
       "      <td>[[None, 0.4806], [Scott Davis, 0.4017], [Antho...</td>\n",
       "      <td>[http://www.flickeringmyth.com/2015/12/is-dare...</td>\n",
       "      <td>Avengers: Age of Ultron</td>\n",
       "    </tr>\n",
       "  </tbody>\n",
       "</table>\n",
       "</div>"
      ],
      "text/plain": [
       "                                           quotation        speaker  \\\n",
       "0  For fans of the book they know that Effie's ro...           None   \n",
       "1                       Is Ferguson like Mockingjay?     Laci Green   \n",
       "2  It's pretty exciting-I have to say. I saw the ...           None   \n",
       "3  One area where we saw continued problems is Os...  Rachel Gordon   \n",
       "4  Is Daredevil joining the Avengers for Infinity...    Scott Davis   \n",
       "\n",
       "          qids        date  numOccurrences  \\\n",
       "0           []  2015-02-14               1   \n",
       "1  [Q16843606]  2015-11-15               1   \n",
       "2           []  2015-04-26               2   \n",
       "3   [Q7279255]  2015-10-07               1   \n",
       "4           []  2015-12-10               2   \n",
       "\n",
       "                                              probas  \\\n",
       "0  [[None, 0.8008], [Francis Lawrence, 0.1299], [...   \n",
       "1             [[Laci Green, 0.9013], [None, 0.0987]]   \n",
       "2  [[None, 0.8589], [Jared Leto, 0.0772], [Joss W...   \n",
       "3  [[Rachel Gordon, 0.7129], [None, 0.2673], [Mar...   \n",
       "4  [[None, 0.4806], [Scott Davis, 0.4017], [Antho...   \n",
       "\n",
       "                                                urls  \\\n",
       "0  [http://www.buzzfeed.com/kristinharris/secrets...   \n",
       "1  [http://www.dailykos.com/story/2015/11/15/1450...   \n",
       "2  [http://ign.com/articles/2015/04/24/joss-whedo...   \n",
       "3  [http://missionlocal.org/2015/10/sf-gets-more-...   \n",
       "4  [http://www.flickeringmyth.com/2015/12/is-dare...   \n",
       "\n",
       "                                        movie  \n",
       "0       The Hunger Games: Mockingjay - Part 2  \n",
       "1       The Hunger Games: Mockingjay - Part 2  \n",
       "2  Star Wars: Episode VII - The Force Awakens  \n",
       "3          Mission: Impossible - Rogue Nation  \n",
       "4                     Avengers: Age of Ultron  "
      ]
     },
     "execution_count": 22,
     "metadata": {},
     "output_type": "execute_result"
    }
   ],
   "source": [
    "df.head()"
   ]
  },
  {
   "cell_type": "markdown",
   "id": "ba75c479",
   "metadata": {},
   "source": [
    "### Dealing with the quoter-IDs"
   ]
  },
  {
   "cell_type": "markdown",
   "id": "d1d68087",
   "metadata": {},
   "source": [
    "Furthermore, we see that the `qids` might need some engineering. In the initial analyses on the 2019 NYT data we saw that some individuals are quoted differently even though it's in fact the same speaker. For instance this was the case for the speaker \"Donald Trump\" and \"President Trump\". In this case these two denotations share a common qID for which reason we would want to be able to get all quotes from Donald Trump and President Trump when searching for them independently. Even though it might not be as important with movies, we deem it good practice to regulate this behaviour. We start by engineering empty quoteID-lists as an unknown token."
   ]
  },
  {
   "cell_type": "code",
   "execution_count": 23,
   "id": "7cbda834",
   "metadata": {},
   "outputs": [
    {
     "name": "stdout",
     "output_type": "stream",
     "text": [
      "Number of currently unknown qids: 16487\n"
     ]
    }
   ],
   "source": [
    "empty = np.array([entry for entry, qID_list in enumerate(df.qids) if len(qID_list) == 0])\n",
    "print(f\"Number of currently unknown qids: {len(empty)}\")"
   ]
  },
  {
   "cell_type": "code",
   "execution_count": 25,
   "id": "105fb567",
   "metadata": {},
   "outputs": [
    {
     "data": {
      "text/plain": [
       "0        [<UNK>]\n",
       "1    [Q16843606]\n",
       "2        [<UNK>]\n",
       "3     [Q7279255]\n",
       "4        [<UNK>]\n",
       "Name: qids, dtype: object"
      ]
     },
     "execution_count": 25,
     "metadata": {},
     "output_type": "execute_result"
    }
   ],
   "source": [
    "pd.options.mode.chained_assignment = None\n",
    "df.iloc[empty]['qids'] = [['<UNK>']] * len(empty)\n",
    "\n",
    "df.qids.head()"
   ]
  },
  {
   "cell_type": "markdown",
   "id": "b1c5672e",
   "metadata": {},
   "source": [
    "Using this '\\<UNK>' token we are able to search the df to replace this token with a qID if the speaker occurs with a qID another place in the data. In this manner all qIDs of a specified speaker will be the full list of qIDs associated with that speaker."
   ]
  },
  {
   "cell_type": "markdown",
   "id": "0f7f7c3f",
   "metadata": {},
   "source": [
    "    "
   ]
  },
  {
   "cell_type": "code",
   "execution_count": 26,
   "id": "fdf210cf",
   "metadata": {},
   "outputs": [],
   "source": [
    "def set_qID(speaker, df):\n",
    "    #Extract qID's of a speaker\n",
    "    qIDs = {speaker: list({quote_ID for quote_IDlist in df.qids[df['speaker'] == speaker] for quote_ID in quote_IDlist})}\n",
    "    \n",
    "    # Conditions for removing the <UNK> token.\n",
    "    if len(qIDs[speaker]) > 1 and '<UNK>' in qIDs[speaker]:\n",
    "        qIDs[speaker].remove('<UNK>')\n",
    "    \n",
    "    # Creating new qIDs for replacing in original dataframe\n",
    "    speaker_indeces = np.where(df.speaker == speaker)[0]\n",
    "    replacement = pd.Series([qIDs[speaker]] * (sum(df['speaker'] == speaker)), index=speaker_indeces)\n",
    "    \n",
    "    # Replace\n",
    "    df.qids[df['speaker'] == speaker] = replacement"
   ]
  },
  {
   "cell_type": "markdown",
   "id": "84a1190b",
   "metadata": {},
   "source": [
    "This now works, which can be seen on the speaker George Lucas in the following cells."
   ]
  },
  {
   "cell_type": "code",
   "execution_count": 27,
   "id": "bb5f6d3a",
   "metadata": {},
   "outputs": [
    {
     "data": {
      "text/html": [
       "<div>\n",
       "<style scoped>\n",
       "    .dataframe tbody tr th:only-of-type {\n",
       "        vertical-align: middle;\n",
       "    }\n",
       "\n",
       "    .dataframe tbody tr th {\n",
       "        vertical-align: top;\n",
       "    }\n",
       "\n",
       "    .dataframe thead th {\n",
       "        text-align: right;\n",
       "    }\n",
       "</style>\n",
       "<table border=\"1\" class=\"dataframe\">\n",
       "  <thead>\n",
       "    <tr style=\"text-align: right;\">\n",
       "      <th></th>\n",
       "      <th>quotation</th>\n",
       "      <th>speaker</th>\n",
       "      <th>qids</th>\n",
       "      <th>date</th>\n",
       "      <th>numOccurrences</th>\n",
       "      <th>probas</th>\n",
       "      <th>urls</th>\n",
       "      <th>movie</th>\n",
       "    </tr>\n",
       "  </thead>\n",
       "  <tbody>\n",
       "    <tr>\n",
       "      <th>22</th>\n",
       "      <td>When I started to go into Star Wars, [ my frie...</td>\n",
       "      <td>George Lucas</td>\n",
       "      <td>[Q1507803, Q38222]</td>\n",
       "      <td>2015-12-31</td>\n",
       "      <td>1</td>\n",
       "      <td>[[George Lucas, 0.7612], [Colin Trevorrow, 0.1...</td>\n",
       "      <td>[http://theindianrepublic.com/i-sold-star-wars...</td>\n",
       "      <td>Star Wars: Episode VII - The Force Awakens</td>\n",
       "    </tr>\n",
       "    <tr>\n",
       "      <th>39</th>\n",
       "      <td>After `Star Wars,' I went back to Warner Bros....</td>\n",
       "      <td>George Lucas</td>\n",
       "      <td>[Q1507803, Q38222]</td>\n",
       "      <td>2015-04-19</td>\n",
       "      <td>1</td>\n",
       "      <td>[[George Lucas, 0.6949], [None, 0.1538], [Step...</td>\n",
       "      <td>[http://sfgate.com/technology/businessinsider/...</td>\n",
       "      <td>Star Wars: Episode VII - The Force Awakens</td>\n",
       "    </tr>\n",
       "    <tr>\n",
       "      <th>67</th>\n",
       "      <td>a Star Wars for girls</td>\n",
       "      <td>George Lucas</td>\n",
       "      <td>[&lt;UNK&gt;]</td>\n",
       "      <td>2015-01-27</td>\n",
       "      <td>1</td>\n",
       "      <td>[[None, 0.5037], [George Lucas, 0.4963]]</td>\n",
       "      <td>[http://www.comicmix.com/2015/01/27/box-office...</td>\n",
       "      <td>Star Wars: Episode VII - The Force Awakens</td>\n",
       "    </tr>\n",
       "    <tr>\n",
       "      <th>90</th>\n",
       "      <td>We became friends and then we started dating a...</td>\n",
       "      <td>George Lucas</td>\n",
       "      <td>[Q1507803, Q38222]</td>\n",
       "      <td>2015-12-19</td>\n",
       "      <td>2</td>\n",
       "      <td>[[George Lucas, 0.5894], [None, 0.4106]]</td>\n",
       "      <td>[http://feeds.businessinsider.com.au/~/1290472...</td>\n",
       "      <td>Star Wars: Episode VII - The Force Awakens</td>\n",
       "    </tr>\n",
       "    <tr>\n",
       "      <th>113</th>\n",
       "      <td>I might use the lightsaber instead of a torch ...</td>\n",
       "      <td>George Lucas</td>\n",
       "      <td>[&lt;UNK&gt;]</td>\n",
       "      <td>2015-10-30</td>\n",
       "      <td>2</td>\n",
       "      <td>[[None, 0.8296], [George Lucas, 0.1704]]</td>\n",
       "      <td>[http://dailyliberal.com.au/story/3459543/movi...</td>\n",
       "      <td>Star Wars: Episode VII - The Force Awakens</td>\n",
       "    </tr>\n",
       "  </tbody>\n",
       "</table>\n",
       "</div>"
      ],
      "text/plain": [
       "                                             quotation       speaker  \\\n",
       "22   When I started to go into Star Wars, [ my frie...  George Lucas   \n",
       "39   After `Star Wars,' I went back to Warner Bros....  George Lucas   \n",
       "67                               a Star Wars for girls  George Lucas   \n",
       "90   We became friends and then we started dating a...  George Lucas   \n",
       "113  I might use the lightsaber instead of a torch ...  George Lucas   \n",
       "\n",
       "                   qids        date  numOccurrences  \\\n",
       "22   [Q1507803, Q38222]  2015-12-31               1   \n",
       "39   [Q1507803, Q38222]  2015-04-19               1   \n",
       "67              [<UNK>]  2015-01-27               1   \n",
       "90   [Q1507803, Q38222]  2015-12-19               2   \n",
       "113             [<UNK>]  2015-10-30               2   \n",
       "\n",
       "                                                probas  \\\n",
       "22   [[George Lucas, 0.7612], [Colin Trevorrow, 0.1...   \n",
       "39   [[George Lucas, 0.6949], [None, 0.1538], [Step...   \n",
       "67            [[None, 0.5037], [George Lucas, 0.4963]]   \n",
       "90            [[George Lucas, 0.5894], [None, 0.4106]]   \n",
       "113           [[None, 0.8296], [George Lucas, 0.1704]]   \n",
       "\n",
       "                                                  urls  \\\n",
       "22   [http://theindianrepublic.com/i-sold-star-wars...   \n",
       "39   [http://sfgate.com/technology/businessinsider/...   \n",
       "67   [http://www.comicmix.com/2015/01/27/box-office...   \n",
       "90   [http://feeds.businessinsider.com.au/~/1290472...   \n",
       "113  [http://dailyliberal.com.au/story/3459543/movi...   \n",
       "\n",
       "                                          movie  \n",
       "22   Star Wars: Episode VII - The Force Awakens  \n",
       "39   Star Wars: Episode VII - The Force Awakens  \n",
       "67   Star Wars: Episode VII - The Force Awakens  \n",
       "90   Star Wars: Episode VII - The Force Awakens  \n",
       "113  Star Wars: Episode VII - The Force Awakens  "
      ]
     },
     "execution_count": 27,
     "metadata": {},
     "output_type": "execute_result"
    }
   ],
   "source": [
    "df[df.speaker == 'George Lucas'].head()"
   ]
  },
  {
   "cell_type": "code",
   "execution_count": 28,
   "id": "308d8ea2",
   "metadata": {},
   "outputs": [
    {
     "data": {
      "text/html": [
       "<div>\n",
       "<style scoped>\n",
       "    .dataframe tbody tr th:only-of-type {\n",
       "        vertical-align: middle;\n",
       "    }\n",
       "\n",
       "    .dataframe tbody tr th {\n",
       "        vertical-align: top;\n",
       "    }\n",
       "\n",
       "    .dataframe thead th {\n",
       "        text-align: right;\n",
       "    }\n",
       "</style>\n",
       "<table border=\"1\" class=\"dataframe\">\n",
       "  <thead>\n",
       "    <tr style=\"text-align: right;\">\n",
       "      <th></th>\n",
       "      <th>quotation</th>\n",
       "      <th>speaker</th>\n",
       "      <th>qids</th>\n",
       "      <th>date</th>\n",
       "      <th>numOccurrences</th>\n",
       "      <th>probas</th>\n",
       "      <th>urls</th>\n",
       "      <th>movie</th>\n",
       "    </tr>\n",
       "  </thead>\n",
       "  <tbody>\n",
       "    <tr>\n",
       "      <th>22</th>\n",
       "      <td>When I started to go into Star Wars, [ my frie...</td>\n",
       "      <td>George Lucas</td>\n",
       "      <td>[Q1507803, Q38222]</td>\n",
       "      <td>2015-12-31</td>\n",
       "      <td>1</td>\n",
       "      <td>[[George Lucas, 0.7612], [Colin Trevorrow, 0.1...</td>\n",
       "      <td>[http://theindianrepublic.com/i-sold-star-wars...</td>\n",
       "      <td>Star Wars: Episode VII - The Force Awakens</td>\n",
       "    </tr>\n",
       "    <tr>\n",
       "      <th>39</th>\n",
       "      <td>After `Star Wars,' I went back to Warner Bros....</td>\n",
       "      <td>George Lucas</td>\n",
       "      <td>[Q1507803, Q38222]</td>\n",
       "      <td>2015-04-19</td>\n",
       "      <td>1</td>\n",
       "      <td>[[George Lucas, 0.6949], [None, 0.1538], [Step...</td>\n",
       "      <td>[http://sfgate.com/technology/businessinsider/...</td>\n",
       "      <td>Star Wars: Episode VII - The Force Awakens</td>\n",
       "    </tr>\n",
       "    <tr>\n",
       "      <th>67</th>\n",
       "      <td>a Star Wars for girls</td>\n",
       "      <td>George Lucas</td>\n",
       "      <td>[Q1507803, Q38222]</td>\n",
       "      <td>2015-01-27</td>\n",
       "      <td>1</td>\n",
       "      <td>[[None, 0.5037], [George Lucas, 0.4963]]</td>\n",
       "      <td>[http://www.comicmix.com/2015/01/27/box-office...</td>\n",
       "      <td>Star Wars: Episode VII - The Force Awakens</td>\n",
       "    </tr>\n",
       "    <tr>\n",
       "      <th>90</th>\n",
       "      <td>We became friends and then we started dating a...</td>\n",
       "      <td>George Lucas</td>\n",
       "      <td>[Q1507803, Q38222]</td>\n",
       "      <td>2015-12-19</td>\n",
       "      <td>2</td>\n",
       "      <td>[[George Lucas, 0.5894], [None, 0.4106]]</td>\n",
       "      <td>[http://feeds.businessinsider.com.au/~/1290472...</td>\n",
       "      <td>Star Wars: Episode VII - The Force Awakens</td>\n",
       "    </tr>\n",
       "    <tr>\n",
       "      <th>113</th>\n",
       "      <td>I might use the lightsaber instead of a torch ...</td>\n",
       "      <td>George Lucas</td>\n",
       "      <td>[Q1507803, Q38222]</td>\n",
       "      <td>2015-10-30</td>\n",
       "      <td>2</td>\n",
       "      <td>[[None, 0.8296], [George Lucas, 0.1704]]</td>\n",
       "      <td>[http://dailyliberal.com.au/story/3459543/movi...</td>\n",
       "      <td>Star Wars: Episode VII - The Force Awakens</td>\n",
       "    </tr>\n",
       "  </tbody>\n",
       "</table>\n",
       "</div>"
      ],
      "text/plain": [
       "                                             quotation       speaker  \\\n",
       "22   When I started to go into Star Wars, [ my frie...  George Lucas   \n",
       "39   After `Star Wars,' I went back to Warner Bros....  George Lucas   \n",
       "67                               a Star Wars for girls  George Lucas   \n",
       "90   We became friends and then we started dating a...  George Lucas   \n",
       "113  I might use the lightsaber instead of a torch ...  George Lucas   \n",
       "\n",
       "                   qids        date  numOccurrences  \\\n",
       "22   [Q1507803, Q38222]  2015-12-31               1   \n",
       "39   [Q1507803, Q38222]  2015-04-19               1   \n",
       "67   [Q1507803, Q38222]  2015-01-27               1   \n",
       "90   [Q1507803, Q38222]  2015-12-19               2   \n",
       "113  [Q1507803, Q38222]  2015-10-30               2   \n",
       "\n",
       "                                                probas  \\\n",
       "22   [[George Lucas, 0.7612], [Colin Trevorrow, 0.1...   \n",
       "39   [[George Lucas, 0.6949], [None, 0.1538], [Step...   \n",
       "67            [[None, 0.5037], [George Lucas, 0.4963]]   \n",
       "90            [[George Lucas, 0.5894], [None, 0.4106]]   \n",
       "113           [[None, 0.8296], [George Lucas, 0.1704]]   \n",
       "\n",
       "                                                  urls  \\\n",
       "22   [http://theindianrepublic.com/i-sold-star-wars...   \n",
       "39   [http://sfgate.com/technology/businessinsider/...   \n",
       "67   [http://www.comicmix.com/2015/01/27/box-office...   \n",
       "90   [http://feeds.businessinsider.com.au/~/1290472...   \n",
       "113  [http://dailyliberal.com.au/story/3459543/movi...   \n",
       "\n",
       "                                          movie  \n",
       "22   Star Wars: Episode VII - The Force Awakens  \n",
       "39   Star Wars: Episode VII - The Force Awakens  \n",
       "67   Star Wars: Episode VII - The Force Awakens  \n",
       "90   Star Wars: Episode VII - The Force Awakens  \n",
       "113  Star Wars: Episode VII - The Force Awakens  "
      ]
     },
     "execution_count": 28,
     "metadata": {},
     "output_type": "execute_result"
    }
   ],
   "source": [
    "# Calling the function\n",
    "set_qID('George Lucas', df)\n",
    "\n",
    "df[df.speaker == 'George Lucas'].head()"
   ]
  },
  {
   "cell_type": "markdown",
   "id": "1fcf4170",
   "metadata": {},
   "source": [
    "We want to apply this functionality to the full dataframe (meaning all individual speakers) for which reason we extract the individual speaker names and how frequently quoted they are. We calculate the number of unique quotes for each speaker even though we find it more relevant to do outlier detection based on total number of occurences (`numOccurrences` attribute). This will be done later in the pipeline."
   ]
  },
  {
   "cell_type": "code",
   "execution_count": 29,
   "id": "efe47663",
   "metadata": {},
   "outputs": [
    {
     "name": "stdout",
     "output_type": "stream",
     "text": [
      "Top 10 quoted speakers (w/o numOccurences): \n"
     ]
    },
    {
     "data": {
      "text/plain": [
       "[('None', '6347'),\n",
       " ('Kevin Feige', '932'),\n",
       " ('Captain Marvel', '799'),\n",
       " ('Joe Russo', '506'),\n",
       " ('J.J. Abrams', '479'),\n",
       " ('Bob Iger', '356'),\n",
       " ('Tom Holland', '312'),\n",
       " ('Kathleen Kennedy', '312'),\n",
       " ('George Lucas', '288'),\n",
       " ('Ryan Reynolds', '278')]"
      ]
     },
     "execution_count": 29,
     "metadata": {},
     "output_type": "execute_result"
    }
   ],
   "source": [
    "speakers, freq_unsorted = np.unique(df.speaker, return_counts=True)\n",
    "freq, speakers = np.array(list(zip(*sorted(zip(freq_unsorted, speakers), reverse=True))))\n",
    "\n",
    "print(\"Top 10 quoted speakers (w/o numOccurences): \")\n",
    "list(zip(speakers[:10], freq[:10]))"
   ]
  },
  {
   "cell_type": "code",
   "execution_count": 30,
   "id": "f40d7a18",
   "metadata": {},
   "outputs": [
    {
     "name": "stderr",
     "output_type": "stream",
     "text": [
      "100%|████████████████████████████████████████████████████████████████████████████| 11536/11536 [10:04<00:00, 19.09it/s]\n"
     ]
    }
   ],
   "source": [
    "for speaker in tqdm(speakers):\n",
    "    set_qID(speaker, df=df)"
   ]
  },
  {
   "cell_type": "markdown",
   "id": "88e672f0",
   "metadata": {},
   "source": [
    "Now, the only way there would be qID's of the name '\\<UNK>' would be if the assignment of the predicted speaker is less than 15% percent certain (see `proba_threshhold` in the removal of None-type speakers) and if that same speaker does not have a qID throughout all of the dataframe. In this case we find evidence for deleting the rows."
   ]
  },
  {
   "cell_type": "code",
   "execution_count": 32,
   "id": "2ec8546b",
   "metadata": {},
   "outputs": [
    {
     "name": "stderr",
     "output_type": "stream",
     "text": [
      "100%|████████████████████████████████████████████████████████████████████████| 44163/44163 [00:00<00:00, 216597.44it/s]\n"
     ]
    }
   ],
   "source": [
    "UNK_idxs = np.array([], dtype=int)\n",
    "for i, qID in enumerate(tqdm(df.qids)):\n",
    "    if '<UNK>' in qID:\n",
    "        UNK_idxs = np.append(UNK_idxs, i)"
   ]
  },
  {
   "cell_type": "code",
   "execution_count": 33,
   "id": "ca06a959",
   "metadata": {},
   "outputs": [
    {
     "data": {
      "text/plain": [
       "(34699, 8)"
      ]
     },
     "execution_count": 33,
     "metadata": {},
     "output_type": "execute_result"
    }
   ],
   "source": [
    "df = df.drop(UNK_idxs)\n",
    "df.index = np.arange(len(df))\n",
    "df.shape"
   ]
  },
  {
   "cell_type": "markdown",
   "id": "de377691",
   "metadata": {},
   "source": [
    "The following function then concatenates the qID's of speakers if they have more than one qID in common, such that we get exactly the basis for a shared ID if two speakers (like Donald Trump and President Trump) are in fact the same."
   ]
  },
  {
   "cell_type": "code",
   "execution_count": 34,
   "id": "ceb455a6",
   "metadata": {},
   "outputs": [],
   "source": [
    "def mergeQuoteIDs(df):\n",
    "    pass"
   ]
  },
  {
   "cell_type": "markdown",
   "id": "30416f0d",
   "metadata": {},
   "source": [
    "And then we create a new ID for each unique list of qID's which we use for outlier detection. "
   ]
  },
  {
   "cell_type": "code",
   "execution_count": 35,
   "id": "5e4ea0e7",
   "metadata": {},
   "outputs": [],
   "source": [
    "def newID(df):\n",
    "    unique_IDlists = np.unique(df['qids'])\n",
    "    newIDs = []\n",
    "    \n",
    "    for row_qIDlist in tqdm(df.qids):\n",
    "        for newID, unique_list in enumerate(unique_IDlists):\n",
    "            if unique_list == row_qIDlist:\n",
    "                newIDs.append(newID)\n",
    "    df['shared_ID'] = newIDs\n",
    "    \n",
    "    return newIDs"
   ]
  },
  {
   "cell_type": "code",
   "execution_count": 36,
   "id": "81b71191",
   "metadata": {},
   "outputs": [
    {
     "name": "stderr",
     "output_type": "stream",
     "text": [
      "100%|███████████████████████████████████████████████████████████████████████████| 34699/34699 [01:02<00:00, 555.44it/s]\n"
     ]
    }
   ],
   "source": [
    "newIDs = newID(df)"
   ]
  },
  {
   "cell_type": "code",
   "execution_count": 37,
   "id": "740c6582",
   "metadata": {},
   "outputs": [
    {
     "data": {
      "text/html": [
       "<div>\n",
       "<style scoped>\n",
       "    .dataframe tbody tr th:only-of-type {\n",
       "        vertical-align: middle;\n",
       "    }\n",
       "\n",
       "    .dataframe tbody tr th {\n",
       "        vertical-align: top;\n",
       "    }\n",
       "\n",
       "    .dataframe thead th {\n",
       "        text-align: right;\n",
       "    }\n",
       "</style>\n",
       "<table border=\"1\" class=\"dataframe\">\n",
       "  <thead>\n",
       "    <tr style=\"text-align: right;\">\n",
       "      <th></th>\n",
       "      <th>quotation</th>\n",
       "      <th>speaker</th>\n",
       "      <th>qids</th>\n",
       "      <th>date</th>\n",
       "      <th>numOccurrences</th>\n",
       "      <th>probas</th>\n",
       "      <th>urls</th>\n",
       "      <th>movie</th>\n",
       "      <th>shared_ID</th>\n",
       "    </tr>\n",
       "  </thead>\n",
       "  <tbody>\n",
       "    <tr>\n",
       "      <th>0</th>\n",
       "      <td>Is Ferguson like Mockingjay?</td>\n",
       "      <td>Laci Green</td>\n",
       "      <td>[Q16843606]</td>\n",
       "      <td>2015-11-15</td>\n",
       "      <td>1</td>\n",
       "      <td>[[Laci Green, 0.9013], [None, 0.0987]]</td>\n",
       "      <td>[http://www.dailykos.com/story/2015/11/15/1450...</td>\n",
       "      <td>The Hunger Games: Mockingjay - Part 2</td>\n",
       "      <td>1141</td>\n",
       "    </tr>\n",
       "    <tr>\n",
       "      <th>1</th>\n",
       "      <td>One area where we saw continued problems is Os...</td>\n",
       "      <td>Rachel Gordon</td>\n",
       "      <td>[Q7279255]</td>\n",
       "      <td>2015-10-07</td>\n",
       "      <td>1</td>\n",
       "      <td>[[Rachel Gordon, 0.7129], [None, 0.2673], [Mar...</td>\n",
       "      <td>[http://missionlocal.org/2015/10/sf-gets-more-...</td>\n",
       "      <td>Mission: Impossible - Rogue Nation</td>\n",
       "      <td>7882</td>\n",
       "    </tr>\n",
       "    <tr>\n",
       "      <th>2</th>\n",
       "      <td>Is Daredevil joining the Avengers for Infinity...</td>\n",
       "      <td>Scott Davis</td>\n",
       "      <td>[Q1259234, Q16195496, Q24005690, Q7436228, Q13...</td>\n",
       "      <td>2015-12-10</td>\n",
       "      <td>2</td>\n",
       "      <td>[[None, 0.4806], [Scott Davis, 0.4017], [Antho...</td>\n",
       "      <td>[http://www.flickeringmyth.com/2015/12/is-dare...</td>\n",
       "      <td>Avengers: Age of Ultron</td>\n",
       "      <td>300</td>\n",
       "    </tr>\n",
       "    <tr>\n",
       "      <th>3</th>\n",
       "      <td>Part 2: Solutions to Problems Facing The Afric...</td>\n",
       "      <td>David Cameron</td>\n",
       "      <td>[Q5232111, Q18719363, Q192, Q1173911, Q4734554...</td>\n",
       "      <td>2015-10-03</td>\n",
       "      <td>2</td>\n",
       "      <td>[[None, 0.7792], [David Cameron, 0.1805], [Eri...</td>\n",
       "      <td>[http://www.blogtalkradio.com/theafricanhistor...</td>\n",
       "      <td>The Hunger Games: Mockingjay - Part 2</td>\n",
       "      <td>5736</td>\n",
       "    </tr>\n",
       "    <tr>\n",
       "      <th>4</th>\n",
       "      <td>They were saying, `Well, since when has Star W...</td>\n",
       "      <td>J.J. Abrams</td>\n",
       "      <td>[Q188137]</td>\n",
       "      <td>2015-12-21</td>\n",
       "      <td>1</td>\n",
       "      <td>[[J.J. Abrams, 0.5868], [None, 0.2584], [Lupit...</td>\n",
       "      <td>[http://rssfeeds.usatoday.com/~/129385923/0/us...</td>\n",
       "      <td>Star Wars: Episode VII - The Force Awakens</td>\n",
       "      <td>1559</td>\n",
       "    </tr>\n",
       "  </tbody>\n",
       "</table>\n",
       "</div>"
      ],
      "text/plain": [
       "                                           quotation        speaker  \\\n",
       "0                       Is Ferguson like Mockingjay?     Laci Green   \n",
       "1  One area where we saw continued problems is Os...  Rachel Gordon   \n",
       "2  Is Daredevil joining the Avengers for Infinity...    Scott Davis   \n",
       "3  Part 2: Solutions to Problems Facing The Afric...  David Cameron   \n",
       "4  They were saying, `Well, since when has Star W...    J.J. Abrams   \n",
       "\n",
       "                                                qids        date  \\\n",
       "0                                        [Q16843606]  2015-11-15   \n",
       "1                                         [Q7279255]  2015-10-07   \n",
       "2  [Q1259234, Q16195496, Q24005690, Q7436228, Q13...  2015-12-10   \n",
       "3  [Q5232111, Q18719363, Q192, Q1173911, Q4734554...  2015-10-03   \n",
       "4                                          [Q188137]  2015-12-21   \n",
       "\n",
       "   numOccurrences                                             probas  \\\n",
       "0               1             [[Laci Green, 0.9013], [None, 0.0987]]   \n",
       "1               1  [[Rachel Gordon, 0.7129], [None, 0.2673], [Mar...   \n",
       "2               2  [[None, 0.4806], [Scott Davis, 0.4017], [Antho...   \n",
       "3               2  [[None, 0.7792], [David Cameron, 0.1805], [Eri...   \n",
       "4               1  [[J.J. Abrams, 0.5868], [None, 0.2584], [Lupit...   \n",
       "\n",
       "                                                urls  \\\n",
       "0  [http://www.dailykos.com/story/2015/11/15/1450...   \n",
       "1  [http://missionlocal.org/2015/10/sf-gets-more-...   \n",
       "2  [http://www.flickeringmyth.com/2015/12/is-dare...   \n",
       "3  [http://www.blogtalkradio.com/theafricanhistor...   \n",
       "4  [http://rssfeeds.usatoday.com/~/129385923/0/us...   \n",
       "\n",
       "                                        movie  shared_ID  \n",
       "0       The Hunger Games: Mockingjay - Part 2       1141  \n",
       "1          Mission: Impossible - Rogue Nation       7882  \n",
       "2                     Avengers: Age of Ultron        300  \n",
       "3       The Hunger Games: Mockingjay - Part 2       5736  \n",
       "4  Star Wars: Episode VII - The Force Awakens       1559  "
      ]
     },
     "execution_count": 37,
     "metadata": {},
     "output_type": "execute_result"
    }
   ],
   "source": [
    "df.head()"
   ]
  },
  {
   "cell_type": "markdown",
   "id": "b4d91134",
   "metadata": {},
   "source": [
    "### Investigating the new ID's"
   ]
  },
  {
   "cell_type": "markdown",
   "id": "cbf4bb84",
   "metadata": {},
   "source": [
    "We will now investigate how different ID's (the shared one) are distributed across quotes. We calculate the frequency with which ID is associated, meaning the total number of occurences for each ID."
   ]
  },
  {
   "cell_type": "code",
   "execution_count": 38,
   "id": "6dc932f1",
   "metadata": {},
   "outputs": [
    {
     "name": "stderr",
     "output_type": "stream",
     "text": [
      "100%|███████████████████████████████████████████████████████████████████████████| 34699/34699 [00:52<00:00, 661.30it/s]\n"
     ]
    }
   ],
   "source": [
    "freq_occurences = defaultdict(dict)\n",
    "\n",
    "for ID in tqdm(newIDs):\n",
    "    freq_occurences[ID] = sum(df[df['shared_ID'] == ID].numOccurrences)"
   ]
  },
  {
   "cell_type": "code",
   "execution_count": 40,
   "id": "f0554dc5",
   "metadata": {},
   "outputs": [],
   "source": [
    "freq_list = [(ID, count) for ID, count in sorted(freq_occurences.items(), key=lambda item: item[1], reverse=True)]\n",
    "ID, freq = list(zip(*freq_list))\n",
    "ID, freq = np.array(ID), np.array(freq)"
   ]
  },
  {
   "cell_type": "markdown",
   "id": "b54771fe",
   "metadata": {},
   "source": [
    "Using a boxplot we also see that these ones seem to be full of outliers and by plotting the amount of occurrences with the speakers sorted in a descending manner, we see that the distribution looks like a strong power law."
   ]
  },
  {
   "cell_type": "code",
   "execution_count": 58,
   "id": "ae8957dc",
   "metadata": {},
   "outputs": [
    {
     "data": {
      "image/png": "[encoded data removed]",
      "text/plain": [
       "<Figure size 432x288 with 1 Axes>"
      ]
     },
     "metadata": {
      "needs_background": "light"
     },
     "output_type": "display_data"
    }
   ],
   "source": [
    "plt.boxplot(freq)\n",
    "plt.ylabel(\"NumOccurrences\")\n",
    "plt.show()"
   ]
  },
  {
   "cell_type": "code",
   "execution_count": 59,
   "id": "618b052b",
   "metadata": {},
   "outputs": [
    {
     "data": {
      "image/png": "[encoded data removed]",
      "text/plain": [
       "<Figure size 432x288 with 1 Axes>"
      ]
     },
     "metadata": {
      "needs_background": "light"
     },
     "output_type": "display_data"
    }
   ],
   "source": [
    "plt.plot(np.arange(len(freq)), freq)\n",
    "plt.xlabel(\"Ordered speakers (based on shared ID)\")\n",
    "plt.ylabel(\"NumOccurrences\")\n",
    "plt.show()"
   ]
  },
  {
   "cell_type": "markdown",
   "id": "d56ceb5f",
   "metadata": {},
   "source": [
    "We do not regard this as a problem, since it seems reasonable that this depicts the real-world scenario where some people - like star directors and movie stars - have more to say than actors that are not playing in movies at the current time but still gets quoted once in a while."
   ]
  },
  {
   "cell_type": "markdown",
   "id": "48b4b0f1",
   "metadata": {},
   "source": [
    "By looking at the shared_ID, we now see that the ambiguity of speakers is now reduced - which will be useful in further analyses - as the new `shared_ID` attribute captures identical speaker denoted by different names."
   ]
  },
  {
   "cell_type": "code",
   "execution_count": 92,
   "id": "2cc59e0c",
   "metadata": {},
   "outputs": [
    {
     "name": "stdout",
     "output_type": "stream",
     "text": [
      "Most quoted ID's: \n",
      " (shared_ID, total numOccurrences, associated speakers)\n",
      "\n",
      "1) (5574, 1343, ['Kevin Feige', 'KEVIN FEIGE'])\n",
      "\n",
      "2) (4462, 1059, ['Captain Marvel'])\n",
      "\n",
      "3) (1559, 860, ['J.J. Abrams', 'JJ Abrams', 'J. J. Abrams', 'jj abrams', 'J J Abrams', 'J.J. ABRAMS'])\n",
      "\n",
      "4) (1179, 728, ['Joe Russo', 'joe russo'])\n",
      "\n",
      "5) (5927, 590, ['Bob Iger', 'Robert Iger', 'Robert A. Iger', 'BOB IGER'])\n",
      "\n",
      "6) (278, 425, ['Tom Holland', 'TOM HOLLAND'])\n",
      "\n",
      "7) (2523, 406, ['Kathleen Kennedy'])\n",
      "\n",
      "8) (1616, 400, ['Ryan Reynolds'])\n",
      "\n",
      "9) (573, 385, ['George Lucas', 'GEORGE LUCAS'])\n",
      "\n",
      "10) (1023, 358, ['Robert Downey', 'Robert Downey Jr. .'])\n",
      "\n",
      "11) (4168, 350, ['Todd Phillips'])\n",
      "\n",
      "12) (3447, 349, ['Jon Favreau'])\n",
      "\n",
      "13) (1381, 331, ['Anthony Russo'])\n",
      "\n",
      "14) (3463, 271, ['Chris Evans'])\n",
      "\n",
      "15) (3398, 261, ['Brie Larson', 'brie larson'])\n",
      "\n",
      "16) (1198, 253, ['John Boyega'])\n",
      "\n",
      "17) (59, 234, ['Narendra Modi', 'narendra modi'])\n",
      "\n",
      "18) (8391, 224, ['Tom Hardy'])\n",
      "\n",
      "19) (4262, 220, ['James Wan', 'James wan'])\n",
      "\n",
      "20) (6724, 220, ['Stephen McFeely'])\n",
      "\n",
      "21) (6048, 210, ['Chris Hemsworth', 'chris hemsworth', 'CHRIS HEMSWORTH'])\n",
      "\n",
      "22) (2033, 208, ['Mark Hamill'])\n",
      "\n",
      "23) (5418, 207, ['Chadwick Boseman'])\n",
      "\n",
      "24) (2706, 193, ['Will Smith', 'WILL Smith'])\n",
      "\n",
      "25) (1476, 192, ['Joaquin Phoenix', 'JOAQUIN PHOENIX'])\n",
      "\n"
     ]
    }
   ],
   "source": [
    "N = 25\n",
    "topN = []\n",
    "\n",
    "print(f\"Most quoted ID's: \\n (shared_ID, total numOccurrences, associated speakers)\\n\")\n",
    "for n in range(N):\n",
    "    \n",
    "    idxs = [i for (i, shared) in enumerate(df.shared_ID) if shared == ID[n]]\n",
    "    associated_speakers = df.iloc[idxs, :].speaker.unique()\n",
    "    \n",
    "    info_tuple = (ID[n], freq[n], list(associated_speakers))\n",
    "    topN.append(info_tuple)\n",
    "    \n",
    "    print(f\"{n+1}) {topN[n]}\\n\")"
   ]
  },
  {
   "cell_type": "markdown",
   "id": "9872bc70",
   "metadata": {},
   "source": [
    "### Add sentiment of quotes"
   ]
  },
  {
   "cell_type": "markdown",
   "id": "2aab0276",
   "metadata": {},
   "source": [
    "We use the `Afinn` sentiment lexicon for mapping a sentiment score to each quote in the preprocessed Quotebank data."
   ]
  },
  {
   "cell_type": "code",
   "execution_count": 95,
   "id": "149a870c",
   "metadata": {},
   "outputs": [
    {
     "name": "stdout",
     "output_type": "stream",
     "text": [
      "Requirement already satisfied: Afinn in c:\\programdata\\anaconda3\\lib\\site-packages (0.1)\n"
     ]
    }
   ],
   "source": [
    "!pip install Afinn\n",
    "from afinn import Afinn"
   ]
  },
  {
   "cell_type": "code",
   "execution_count": 97,
   "id": "9588a5c6",
   "metadata": {},
   "outputs": [
    {
     "name": "stderr",
     "output_type": "stream",
     "text": [
      "100%|███████████████████████████████████████████████████████████████████████████| 34699/34699 [00:46<00:00, 741.93it/s]\n"
     ]
    }
   ],
   "source": [
    "afn = Afinn()\n",
    "sentiments = [afn.score(quote) for quote in tqdm(df.quotation)]\n",
    "df['sentiment'] = sentiments"
   ]
  },
  {
   "cell_type": "markdown",
   "id": "ddb3c7aa",
   "metadata": {},
   "source": [
    "And now we see the average, max, min, etc. of the attribute."
   ]
  },
  {
   "cell_type": "code",
   "execution_count": 99,
   "id": "04900915",
   "metadata": {},
   "outputs": [
    {
     "data": {
      "text/plain": [
       "count    34699.000000\n",
       "mean         2.266117\n",
       "std          5.411369\n",
       "min        -45.000000\n",
       "25%          0.000000\n",
       "50%          1.000000\n",
       "75%          4.000000\n",
       "max         89.000000\n",
       "Name: sentiment, dtype: float64"
      ]
     },
     "execution_count": 99,
     "metadata": {},
     "output_type": "execute_result"
    }
   ],
   "source": [
    "df.sentiment.describe()"
   ]
  },
  {
   "cell_type": "markdown",
   "id": "5ceada07",
   "metadata": {},
   "source": [
    "The dataframe is saved as a pickle and we investigate the sentiment further in the `sentiment.ipynb` file."
   ]
  },
  {
   "cell_type": "code",
   "execution_count": 112,
   "id": "ffc21437",
   "metadata": {},
   "outputs": [
    {
     "name": "stdout",
     "output_type": "stream",
     "text": [
      "Dataframe was pickled and saved to directory:\n",
      "C:\\Users\\Albert Kjøller\\Documents\\EPFL\\Courses\\CS-401_ADA\\ada-2021-project-f-jab\\data\\Quotebank\n"
     ]
    }
   ],
   "source": [
    "# Save loaded DataFrame as pickle for faster loading time in the future\n",
    "df.to_pickle(rf\"{data_dir}\\Quotebank_wSentiment.pkl\")\n",
    "print(f\"Dataframe was pickled and saved to directory:\\n\" + data_dir)"
   ]
  },
  {
   "cell_type": "code",
   "execution_count": null,
   "id": "e90aba32",
   "metadata": {},
   "outputs": [],
   "source": []
  }
 ],
 "metadata": {
  "kernelspec": {
   "display_name": "Python 3",
   "language": "python",
   "name": "python3"
  },
  "language_info": {
   "codemirror_mode": {
    "name": "ipython",
    "version": 3
   },
   "file_extension": ".py",
   "mimetype": "text/x-python",
   "name": "python",
   "nbconvert_exporter": "python",
   "pygments_lexer": "ipython3",
   "version": "3.8.8"
  }
 },
 "nbformat": 4,
 "nbformat_minor": 5
}
