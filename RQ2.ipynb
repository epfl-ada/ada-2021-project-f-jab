{
 "cells": [
  {
   "cell_type": "markdown",
   "id": "199a7af9",
   "metadata": {},
   "source": [
    "# Research Question 2 - sentiment, ratings and box office  \n",
    "\n",
    "This notebook does the ground work for answering the two subquestions related to research question 2 (stated in the ReadME). The problem and subquestions we aim at adressing are:      \n",
    "    \n",
    "    Sentiment analysis in quotes about movies over time. Additionaly relate sentiment to Box Office sales and see if positive/negative media coverage affect the sale of tickets.    \n",
    "    \n",
    "    - RQ2.1: Does the media/quoters opinion on a certain movie affect the amount of sold tickets?     \n",
    "    - RQ2.2: Does the sentiment seen in quotes relate to the rating on IMDB? \n",
    "    \n",
    "Conclusions will be drawn here and also used in the `milestone3` file in the main directory of the repo."
   ]
  },
  {
   "cell_type": "code",
   "execution_count": 1,
   "id": "ef11a081",
   "metadata": {},
   "outputs": [],
   "source": [
    "import os\n",
    "import pandas as pd\n",
    "import numpy as np\n",
    "import matplotlib.pyplot as plt\n",
    "from tqdm.notebook import tqdm\n",
    "import plotly.express as px\n",
    "import plotly\n",
    "import re\n",
    "import statsmodels.formula.api as smf\n",
    "import seaborn as sns"
   ]
  },
  {
   "cell_type": "markdown",
   "id": "622221f3",
   "metadata": {},
   "source": [
    "### Load Box Office, IMDb and Quotebank\n",
    "\n",
    "We start by loading the three regarded data sets from their respective pickles / csv-files that are investigated in the exploratory notebooks. We choose to load the Quotebank data with associated sentiment scores as it will be relevant to adress this RQ."
   ]
  },
  {
   "cell_type": "code",
   "execution_count": 2,
   "id": "b15239cb",
   "metadata": {},
   "outputs": [],
   "source": [
    "data_dir = os.getcwd() + os.sep + f'exploratory{os.sep}data'\n",
    "\n",
    "# load pickled data\n",
    "df_Quotebank = pd.read_pickle(rf\"{data_dir}{os.sep}Quotebank_sentiment.pkl\") \n",
    "df_boxOffice = pd.read_pickle(rf\"{data_dir}{os.sep}boxOffice.pkl\")   \n",
    "\n",
    "# load IMDb csv-files and merge\n",
    "movies = pd.read_csv(rf\"{data_dir}{os.sep}IMDb{os.sep}IMDB movies.csv\", low_memory=False)\n",
    "ratings = pd.read_csv(rf\"{data_dir}{os.sep}IMDb{os.sep}IMDB ratings.csv\")    \n",
    "df_imdb = movies.merge(ratings, on='imdb_title_id')\n"
   ]
  },
  {
   "cell_type": "markdown",
   "id": "ca2bcccd",
   "metadata": {},
   "source": [
    "We check that these were correctly loaded by looking at the head of the dataframes."
   ]
  },
  {
   "cell_type": "code",
   "execution_count": 3,
   "id": "7a4e4040",
   "metadata": {},
   "outputs": [
    {
     "data": {
      "text/html": [
       "<div>\n",
       "<style scoped>\n",
       "    .dataframe tbody tr th:only-of-type {\n",
       "        vertical-align: middle;\n",
       "    }\n",
       "\n",
       "    .dataframe tbody tr th {\n",
       "        vertical-align: top;\n",
       "    }\n",
       "\n",
       "    .dataframe thead th {\n",
       "        text-align: right;\n",
       "    }\n",
       "</style>\n",
       "<table border=\"1\" class=\"dataframe\">\n",
       "  <thead>\n",
       "    <tr style=\"text-align: right;\">\n",
       "      <th></th>\n",
       "      <th>quotation</th>\n",
       "      <th>speaker</th>\n",
       "      <th>qids</th>\n",
       "      <th>date</th>\n",
       "      <th>numOccurrences</th>\n",
       "      <th>probas</th>\n",
       "      <th>urls</th>\n",
       "      <th>movie</th>\n",
       "      <th>shared_ID</th>\n",
       "      <th>AFINN_label</th>\n",
       "      <th>AFINN_score</th>\n",
       "      <th>VADER_label</th>\n",
       "      <th>VADER_score</th>\n",
       "      <th>BERT_label</th>\n",
       "      <th>BERT_score</th>\n",
       "      <th>positive_BERT_score</th>\n",
       "      <th>scaledReverted_BERT_score</th>\n",
       "    </tr>\n",
       "  </thead>\n",
       "  <tbody>\n",
       "    <tr>\n",
       "      <th>0</th>\n",
       "      <td>Is Ferguson like Mockingjay?</td>\n",
       "      <td>Laci Green</td>\n",
       "      <td>[Q16843606]</td>\n",
       "      <td>2015-11-15</td>\n",
       "      <td>1</td>\n",
       "      <td>[[Laci Green, 0.9013], [None, 0.0987]]</td>\n",
       "      <td>[http://www.dailykos.com/story/2015/11/15/1450...</td>\n",
       "      <td>The Hunger Games: Mockingjay - Part 2</td>\n",
       "      <td>1751</td>\n",
       "      <td>POSITIVE</td>\n",
       "      <td>0.500000</td>\n",
       "      <td>POSITIVE</td>\n",
       "      <td>0.3612</td>\n",
       "      <td>NEGATIVE</td>\n",
       "      <td>0.989802</td>\n",
       "      <td>0.010198</td>\n",
       "      <td>-0.541032</td>\n",
       "    </tr>\n",
       "    <tr>\n",
       "      <th>1</th>\n",
       "      <td>I want to clarify my interview on the `Charlie...</td>\n",
       "      <td>George Lucas</td>\n",
       "      <td>[Q38222, Q1507803]</td>\n",
       "      <td>2015-12-31</td>\n",
       "      <td>7</td>\n",
       "      <td>[[George Lucas, 0.5327], [None, 0.4248], [Char...</td>\n",
       "      <td>[http://www.escapistmagazine.com/news/view/165...</td>\n",
       "      <td>Star Wars: Episode VII - The Force Awakens</td>\n",
       "      <td>6724</td>\n",
       "      <td>POSITIVE</td>\n",
       "      <td>0.165563</td>\n",
       "      <td>POSITIVE</td>\n",
       "      <td>0.9910</td>\n",
       "      <td>POSITIVE</td>\n",
       "      <td>0.999293</td>\n",
       "      <td>0.999293</td>\n",
       "      <td>0.787788</td>\n",
       "    </tr>\n",
       "    <tr>\n",
       "      <th>2</th>\n",
       "      <td>Is Daredevil joining the Avengers for Infinity...</td>\n",
       "      <td>Scott Davis</td>\n",
       "      <td>[Q1373440, Q7436227, Q7436228, Q7436226, Q1619...</td>\n",
       "      <td>2015-12-10</td>\n",
       "      <td>2</td>\n",
       "      <td>[[None, 0.4806], [Scott Davis, 0.4017], [Antho...</td>\n",
       "      <td>[http://www.flickeringmyth.com/2015/12/is-dare...</td>\n",
       "      <td>Avengers: Age of Ultron</td>\n",
       "      <td>692</td>\n",
       "      <td>NEGATIVE</td>\n",
       "      <td>-0.153846</td>\n",
       "      <td>NEGATIVE</td>\n",
       "      <td>-0.6369</td>\n",
       "      <td>NEGATIVE</td>\n",
       "      <td>0.833872</td>\n",
       "      <td>0.166128</td>\n",
       "      <td>-0.208302</td>\n",
       "    </tr>\n",
       "  </tbody>\n",
       "</table>\n",
       "</div>"
      ],
      "text/plain": [
       "                                           quotation       speaker  \\\n",
       "0                       Is Ferguson like Mockingjay?    Laci Green   \n",
       "1  I want to clarify my interview on the `Charlie...  George Lucas   \n",
       "2  Is Daredevil joining the Avengers for Infinity...   Scott Davis   \n",
       "\n",
       "                                                qids        date  \\\n",
       "0                                        [Q16843606]  2015-11-15   \n",
       "1                                 [Q38222, Q1507803]  2015-12-31   \n",
       "2  [Q1373440, Q7436227, Q7436228, Q7436226, Q1619...  2015-12-10   \n",
       "\n",
       "   numOccurrences                                             probas  \\\n",
       "0               1             [[Laci Green, 0.9013], [None, 0.0987]]   \n",
       "1               7  [[George Lucas, 0.5327], [None, 0.4248], [Char...   \n",
       "2               2  [[None, 0.4806], [Scott Davis, 0.4017], [Antho...   \n",
       "\n",
       "                                                urls  \\\n",
       "0  [http://www.dailykos.com/story/2015/11/15/1450...   \n",
       "1  [http://www.escapistmagazine.com/news/view/165...   \n",
       "2  [http://www.flickeringmyth.com/2015/12/is-dare...   \n",
       "\n",
       "                                        movie  shared_ID AFINN_label  \\\n",
       "0       The Hunger Games: Mockingjay - Part 2       1751    POSITIVE   \n",
       "1  Star Wars: Episode VII - The Force Awakens       6724    POSITIVE   \n",
       "2                     Avengers: Age of Ultron        692    NEGATIVE   \n",
       "\n",
       "   AFINN_score VADER_label  VADER_score BERT_label  BERT_score  \\\n",
       "0     0.500000    POSITIVE       0.3612   NEGATIVE    0.989802   \n",
       "1     0.165563    POSITIVE       0.9910   POSITIVE    0.999293   \n",
       "2    -0.153846    NEGATIVE      -0.6369   NEGATIVE    0.833872   \n",
       "\n",
       "   positive_BERT_score  scaledReverted_BERT_score  \n",
       "0             0.010198                  -0.541032  \n",
       "1             0.999293                   0.787788  \n",
       "2             0.166128                  -0.208302  "
      ]
     },
     "execution_count": 3,
     "metadata": {},
     "output_type": "execute_result"
    }
   ],
   "source": [
    "df_Quotebank.head(3)"
   ]
  },
  {
   "cell_type": "code",
   "execution_count": 4,
   "id": "14a5b8a0",
   "metadata": {},
   "outputs": [
    {
     "data": {
      "text/html": [
       "<div>\n",
       "<style scoped>\n",
       "    .dataframe tbody tr th:only-of-type {\n",
       "        vertical-align: middle;\n",
       "    }\n",
       "\n",
       "    .dataframe tbody tr th {\n",
       "        vertical-align: top;\n",
       "    }\n",
       "\n",
       "    .dataframe thead th {\n",
       "        text-align: right;\n",
       "    }\n",
       "</style>\n",
       "<table border=\"1\" class=\"dataframe\">\n",
       "  <thead>\n",
       "    <tr style=\"text-align: right;\">\n",
       "      <th></th>\n",
       "      <th>days</th>\n",
       "      <th>dow</th>\n",
       "      <th>rank</th>\n",
       "      <th>daily</th>\n",
       "      <th>theaters</th>\n",
       "      <th>special events</th>\n",
       "      <th>movie</th>\n",
       "    </tr>\n",
       "  </thead>\n",
       "  <tbody>\n",
       "    <tr>\n",
       "      <th>0</th>\n",
       "      <td>2019-05-24</td>\n",
       "      <td>Friday</td>\n",
       "      <td>1</td>\n",
       "      <td>31358935.0</td>\n",
       "      <td>4476</td>\n",
       "      <td>NaN</td>\n",
       "      <td>Aladdin</td>\n",
       "    </tr>\n",
       "    <tr>\n",
       "      <th>1</th>\n",
       "      <td>2019-05-25</td>\n",
       "      <td>Saturday</td>\n",
       "      <td>1</td>\n",
       "      <td>30013295.0</td>\n",
       "      <td>4476</td>\n",
       "      <td>NaN</td>\n",
       "      <td>Aladdin</td>\n",
       "    </tr>\n",
       "    <tr>\n",
       "      <th>2</th>\n",
       "      <td>2019-05-26</td>\n",
       "      <td>Sunday</td>\n",
       "      <td>1</td>\n",
       "      <td>30128699.0</td>\n",
       "      <td>4476</td>\n",
       "      <td>NaN</td>\n",
       "      <td>Aladdin</td>\n",
       "    </tr>\n",
       "    <tr>\n",
       "      <th>3</th>\n",
       "      <td>2019-05-27</td>\n",
       "      <td>Monday</td>\n",
       "      <td>1</td>\n",
       "      <td>25305033.0</td>\n",
       "      <td>4476</td>\n",
       "      <td>Memorial Day</td>\n",
       "      <td>Aladdin</td>\n",
       "    </tr>\n",
       "    <tr>\n",
       "      <th>4</th>\n",
       "      <td>2019-05-28</td>\n",
       "      <td>Tuesday</td>\n",
       "      <td>1</td>\n",
       "      <td>12014982.0</td>\n",
       "      <td>4476</td>\n",
       "      <td>NaN</td>\n",
       "      <td>Aladdin</td>\n",
       "    </tr>\n",
       "  </tbody>\n",
       "</table>\n",
       "</div>"
      ],
      "text/plain": [
       "         days       dow  rank       daily  theaters special events    movie\n",
       "0  2019-05-24    Friday     1  31358935.0      4476            NaN  Aladdin\n",
       "1  2019-05-25  Saturday     1  30013295.0      4476            NaN  Aladdin\n",
       "2  2019-05-26    Sunday     1  30128699.0      4476            NaN  Aladdin\n",
       "3  2019-05-27    Monday     1  25305033.0      4476   Memorial Day  Aladdin\n",
       "4  2019-05-28   Tuesday     1  12014982.0      4476            NaN  Aladdin"
      ]
     },
     "execution_count": 4,
     "metadata": {},
     "output_type": "execute_result"
    }
   ],
   "source": [
    "df_boxOffice.head()"
   ]
  },
  {
   "cell_type": "code",
   "execution_count": 5,
   "id": "fa598f59",
   "metadata": {},
   "outputs": [
    {
     "data": {
      "text/html": [
       "<div>\n",
       "<style scoped>\n",
       "    .dataframe tbody tr th:only-of-type {\n",
       "        vertical-align: middle;\n",
       "    }\n",
       "\n",
       "    .dataframe tbody tr th {\n",
       "        vertical-align: top;\n",
       "    }\n",
       "\n",
       "    .dataframe thead th {\n",
       "        text-align: right;\n",
       "    }\n",
       "</style>\n",
       "<table border=\"1\" class=\"dataframe\">\n",
       "  <thead>\n",
       "    <tr style=\"text-align: right;\">\n",
       "      <th></th>\n",
       "      <th>imdb_title_id</th>\n",
       "      <th>title</th>\n",
       "      <th>original_title</th>\n",
       "      <th>year</th>\n",
       "      <th>date_published</th>\n",
       "      <th>genre</th>\n",
       "      <th>duration</th>\n",
       "      <th>country</th>\n",
       "      <th>language</th>\n",
       "      <th>director</th>\n",
       "      <th>...</th>\n",
       "      <th>females_30age_avg_vote</th>\n",
       "      <th>females_30age_votes</th>\n",
       "      <th>females_45age_avg_vote</th>\n",
       "      <th>females_45age_votes</th>\n",
       "      <th>top1000_voters_rating</th>\n",
       "      <th>top1000_voters_votes</th>\n",
       "      <th>us_voters_rating</th>\n",
       "      <th>us_voters_votes</th>\n",
       "      <th>non_us_voters_rating</th>\n",
       "      <th>non_us_voters_votes</th>\n",
       "    </tr>\n",
       "  </thead>\n",
       "  <tbody>\n",
       "    <tr>\n",
       "      <th>0</th>\n",
       "      <td>tt0000009</td>\n",
       "      <td>Miss Jerry</td>\n",
       "      <td>Miss Jerry</td>\n",
       "      <td>1894</td>\n",
       "      <td>1894-10-09</td>\n",
       "      <td>Romance</td>\n",
       "      <td>45</td>\n",
       "      <td>USA</td>\n",
       "      <td>None</td>\n",
       "      <td>Alexander Black</td>\n",
       "      <td>...</td>\n",
       "      <td>5.7</td>\n",
       "      <td>13.0</td>\n",
       "      <td>4.5</td>\n",
       "      <td>4.0</td>\n",
       "      <td>5.7</td>\n",
       "      <td>34.0</td>\n",
       "      <td>6.4</td>\n",
       "      <td>51.0</td>\n",
       "      <td>6.0</td>\n",
       "      <td>70.0</td>\n",
       "    </tr>\n",
       "    <tr>\n",
       "      <th>1</th>\n",
       "      <td>tt0000574</td>\n",
       "      <td>The Story of the Kelly Gang</td>\n",
       "      <td>The Story of the Kelly Gang</td>\n",
       "      <td>1906</td>\n",
       "      <td>1906-12-26</td>\n",
       "      <td>Biography, Crime, Drama</td>\n",
       "      <td>70</td>\n",
       "      <td>Australia</td>\n",
       "      <td>None</td>\n",
       "      <td>Charles Tait</td>\n",
       "      <td>...</td>\n",
       "      <td>6.2</td>\n",
       "      <td>23.0</td>\n",
       "      <td>6.6</td>\n",
       "      <td>14.0</td>\n",
       "      <td>6.4</td>\n",
       "      <td>66.0</td>\n",
       "      <td>6.0</td>\n",
       "      <td>96.0</td>\n",
       "      <td>6.2</td>\n",
       "      <td>331.0</td>\n",
       "    </tr>\n",
       "    <tr>\n",
       "      <th>2</th>\n",
       "      <td>tt0001892</td>\n",
       "      <td>Den sorte drøm</td>\n",
       "      <td>Den sorte drøm</td>\n",
       "      <td>1911</td>\n",
       "      <td>1911-08-19</td>\n",
       "      <td>Drama</td>\n",
       "      <td>53</td>\n",
       "      <td>Germany, Denmark</td>\n",
       "      <td>NaN</td>\n",
       "      <td>Urban Gad</td>\n",
       "      <td>...</td>\n",
       "      <td>5.8</td>\n",
       "      <td>4.0</td>\n",
       "      <td>6.8</td>\n",
       "      <td>7.0</td>\n",
       "      <td>5.4</td>\n",
       "      <td>32.0</td>\n",
       "      <td>6.2</td>\n",
       "      <td>31.0</td>\n",
       "      <td>5.9</td>\n",
       "      <td>123.0</td>\n",
       "    </tr>\n",
       "    <tr>\n",
       "      <th>3</th>\n",
       "      <td>tt0002101</td>\n",
       "      <td>Cleopatra</td>\n",
       "      <td>Cleopatra</td>\n",
       "      <td>1912</td>\n",
       "      <td>1912-11-13</td>\n",
       "      <td>Drama, History</td>\n",
       "      <td>100</td>\n",
       "      <td>USA</td>\n",
       "      <td>English</td>\n",
       "      <td>Charles L. Gaskill</td>\n",
       "      <td>...</td>\n",
       "      <td>5.5</td>\n",
       "      <td>14.0</td>\n",
       "      <td>6.1</td>\n",
       "      <td>21.0</td>\n",
       "      <td>4.9</td>\n",
       "      <td>57.0</td>\n",
       "      <td>5.5</td>\n",
       "      <td>207.0</td>\n",
       "      <td>4.7</td>\n",
       "      <td>105.0</td>\n",
       "    </tr>\n",
       "    <tr>\n",
       "      <th>4</th>\n",
       "      <td>tt0002130</td>\n",
       "      <td>L'Inferno</td>\n",
       "      <td>L'Inferno</td>\n",
       "      <td>1911</td>\n",
       "      <td>1911-03-06</td>\n",
       "      <td>Adventure, Drama, Fantasy</td>\n",
       "      <td>68</td>\n",
       "      <td>Italy</td>\n",
       "      <td>Italian</td>\n",
       "      <td>Francesco Bertolini, Adolfo Padovan</td>\n",
       "      <td>...</td>\n",
       "      <td>7.3</td>\n",
       "      <td>82.0</td>\n",
       "      <td>7.4</td>\n",
       "      <td>77.0</td>\n",
       "      <td>6.9</td>\n",
       "      <td>139.0</td>\n",
       "      <td>7.0</td>\n",
       "      <td>488.0</td>\n",
       "      <td>7.0</td>\n",
       "      <td>1166.0</td>\n",
       "    </tr>\n",
       "  </tbody>\n",
       "</table>\n",
       "<p>5 rows × 70 columns</p>\n",
       "</div>"
      ],
      "text/plain": [
       "  imdb_title_id                        title               original_title  \\\n",
       "0     tt0000009                   Miss Jerry                   Miss Jerry   \n",
       "1     tt0000574  The Story of the Kelly Gang  The Story of the Kelly Gang   \n",
       "2     tt0001892               Den sorte drøm               Den sorte drøm   \n",
       "3     tt0002101                    Cleopatra                    Cleopatra   \n",
       "4     tt0002130                    L'Inferno                    L'Inferno   \n",
       "\n",
       "   year date_published                      genre  duration           country  \\\n",
       "0  1894     1894-10-09                    Romance        45               USA   \n",
       "1  1906     1906-12-26    Biography, Crime, Drama        70         Australia   \n",
       "2  1911     1911-08-19                      Drama        53  Germany, Denmark   \n",
       "3  1912     1912-11-13             Drama, History       100               USA   \n",
       "4  1911     1911-03-06  Adventure, Drama, Fantasy        68             Italy   \n",
       "\n",
       "  language                             director  ... females_30age_avg_vote  \\\n",
       "0     None                      Alexander Black  ...                    5.7   \n",
       "1     None                         Charles Tait  ...                    6.2   \n",
       "2      NaN                            Urban Gad  ...                    5.8   \n",
       "3  English                   Charles L. Gaskill  ...                    5.5   \n",
       "4  Italian  Francesco Bertolini, Adolfo Padovan  ...                    7.3   \n",
       "\n",
       "  females_30age_votes females_45age_avg_vote females_45age_votes  \\\n",
       "0                13.0                    4.5                 4.0   \n",
       "1                23.0                    6.6                14.0   \n",
       "2                 4.0                    6.8                 7.0   \n",
       "3                14.0                    6.1                21.0   \n",
       "4                82.0                    7.4                77.0   \n",
       "\n",
       "   top1000_voters_rating  top1000_voters_votes us_voters_rating  \\\n",
       "0                    5.7                  34.0              6.4   \n",
       "1                    6.4                  66.0              6.0   \n",
       "2                    5.4                  32.0              6.2   \n",
       "3                    4.9                  57.0              5.5   \n",
       "4                    6.9                 139.0              7.0   \n",
       "\n",
       "  us_voters_votes non_us_voters_rating  non_us_voters_votes  \n",
       "0            51.0                  6.0                 70.0  \n",
       "1            96.0                  6.2                331.0  \n",
       "2            31.0                  5.9                123.0  \n",
       "3           207.0                  4.7                105.0  \n",
       "4           488.0                  7.0               1166.0  \n",
       "\n",
       "[5 rows x 70 columns]"
      ]
     },
     "execution_count": 5,
     "metadata": {},
     "output_type": "execute_result"
    }
   ],
   "source": [
    "df_imdb.head()"
   ]
  },
  {
   "cell_type": "code",
   "execution_count": 6,
   "id": "7555f641",
   "metadata": {},
   "outputs": [
    {
     "name": "stdout",
     "output_type": "stream",
     "text": [
      "['Aladdin' 'Aquaman' 'Avengers: Age of Ultron' 'Avengers: Endgame'\n",
      " 'Avengers: Infinity War' 'Bad Boys for Life'\n",
      " 'Batman v Superman: Dawn of Justice' 'Beauty and the Beast'\n",
      " 'Birds of Prey: And the Fantabulous Emancipation of One Harley Quinn'\n",
      " 'Black Panther' 'Bohemian Rhapsody' 'Captain America: Civil War'\n",
      " 'Captain Marvel' 'Deadpool' 'Deadpool 2' 'Despicable Me 3' 'Dolittle'\n",
      " 'Fantastic Beasts and Where to Find Them'\n",
      " 'Fantastic Beasts: The Crimes of Grindelwald' 'Fast & Furious 7'\n",
      " 'Finding Dory' 'Frozen II' 'Guardians of the Galaxy Vol. 2'\n",
      " 'Incredibles 2' 'Inside Out' 'Joker' 'Jumanji: The Next Level'\n",
      " 'Jumanji: Welcome to the Jungle' 'Jurassic World'\n",
      " 'Jurassic World: Fallen Kingdom' 'Minions'\n",
      " 'Mission: Impossible - Fallout' 'Mission: Impossible - Rogue Nation'\n",
      " 'Onward' 'Rogue One' 'Sonic the Hedgehog' 'Spectre'\n",
      " 'Spider-Man: Far from Home' 'Spider-Man: Homecoming'\n",
      " 'Star Wars: Episode IX - The Rise of Skywalker'\n",
      " 'Star Wars: Episode VII - The Force Awakens'\n",
      " 'Star Wars: Episode VIII - The Last Jedi' 'Suicide Squad' 'Tenet'\n",
      " 'The Fate of the Furious' 'The Hunger Games: Mockingjay - Part 2'\n",
      " 'The Invisible Man' 'The Jungle Book' 'The Lion King' 'The Martian'\n",
      " 'The Secret Life of Pets' 'Thor: Ragnarok' 'Toy Story 4' 'Venom'\n",
      " 'Wonder Woman' 'Zootopia']\n",
      "\n",
      "size of overlap of movie titles: 56\n"
     ]
    }
   ],
   "source": [
    "overlap = np.intersect1d(df_imdb.original_title.unique(), df_Quotebank.movie.unique())\n",
    "print(overlap)\n",
    "print(f\"\\nsize of overlap of movie titles: {overlap.__len__()}\")"
   ]
  },
  {
   "cell_type": "markdown",
   "id": "de2f4ba0",
   "metadata": {},
   "source": [
    "We only make use of the movies that we restricted ourselves to in the Quotebank data. This is done below."
   ]
  },
  {
   "cell_type": "code",
   "execution_count": 7,
   "id": "399e67d1",
   "metadata": {},
   "outputs": [],
   "source": [
    "# choose movies\n",
    "df_imdb = df_imdb[np.isin(df_imdb.original_title, overlap)]\n",
    "\n",
    "# choose years\n",
    "Quotebank_years = pd.Series([date.split(\"-\")[0] for date in df_Quotebank.date.unique()]).unique()\n",
    "df_imdb = df_imdb[np.isin(df_imdb.year, Quotebank_years)]\n",
    "\n",
    "# update indeces\n",
    "df_imdb.index = np.arange(len(df_imdb))"
   ]
  },
  {
   "cell_type": "code",
   "execution_count": 8,
   "id": "7f15b9f8",
   "metadata": {},
   "outputs": [
    {
     "name": "stdout",
     "output_type": "stream",
     "text": [
      "Shape of dataframe: (58, 70)\n"
     ]
    },
    {
     "data": {
      "text/html": [
       "<div>\n",
       "<style scoped>\n",
       "    .dataframe tbody tr th:only-of-type {\n",
       "        vertical-align: middle;\n",
       "    }\n",
       "\n",
       "    .dataframe tbody tr th {\n",
       "        vertical-align: top;\n",
       "    }\n",
       "\n",
       "    .dataframe thead th {\n",
       "        text-align: right;\n",
       "    }\n",
       "</style>\n",
       "<table border=\"1\" class=\"dataframe\">\n",
       "  <thead>\n",
       "    <tr style=\"text-align: right;\">\n",
       "      <th></th>\n",
       "      <th>imdb_title_id</th>\n",
       "      <th>title</th>\n",
       "      <th>original_title</th>\n",
       "      <th>year</th>\n",
       "      <th>date_published</th>\n",
       "      <th>genre</th>\n",
       "      <th>duration</th>\n",
       "      <th>country</th>\n",
       "      <th>language</th>\n",
       "      <th>director</th>\n",
       "      <th>...</th>\n",
       "      <th>females_30age_avg_vote</th>\n",
       "      <th>females_30age_votes</th>\n",
       "      <th>females_45age_avg_vote</th>\n",
       "      <th>females_45age_votes</th>\n",
       "      <th>top1000_voters_rating</th>\n",
       "      <th>top1000_voters_votes</th>\n",
       "      <th>us_voters_rating</th>\n",
       "      <th>us_voters_votes</th>\n",
       "      <th>non_us_voters_rating</th>\n",
       "      <th>non_us_voters_votes</th>\n",
       "    </tr>\n",
       "  </thead>\n",
       "  <tbody>\n",
       "    <tr>\n",
       "      <th>0</th>\n",
       "      <td>tt0369610</td>\n",
       "      <td>Jurassic World</td>\n",
       "      <td>Jurassic World</td>\n",
       "      <td>2015</td>\n",
       "      <td>2015-06-11</td>\n",
       "      <td>Action, Adventure, Sci-Fi</td>\n",
       "      <td>124</td>\n",
       "      <td>USA</td>\n",
       "      <td>English</td>\n",
       "      <td>Colin Trevorrow</td>\n",
       "      <td>...</td>\n",
       "      <td>7.2</td>\n",
       "      <td>32243.0</td>\n",
       "      <td>7.3</td>\n",
       "      <td>6381.0</td>\n",
       "      <td>6.8</td>\n",
       "      <td>762.0</td>\n",
       "      <td>7.1</td>\n",
       "      <td>72876.0</td>\n",
       "      <td>6.8</td>\n",
       "      <td>217418.0</td>\n",
       "    </tr>\n",
       "    <tr>\n",
       "      <th>1</th>\n",
       "      <td>tt0451279</td>\n",
       "      <td>Wonder Woman</td>\n",
       "      <td>Wonder Woman</td>\n",
       "      <td>2017</td>\n",
       "      <td>2017-06-01</td>\n",
       "      <td>Action, Adventure, Fantasy</td>\n",
       "      <td>141</td>\n",
       "      <td>USA, China, Hong Kong</td>\n",
       "      <td>English, German, Dutch, French, Spanish, Chine...</td>\n",
       "      <td>Patty Jenkins</td>\n",
       "      <td>...</td>\n",
       "      <td>7.6</td>\n",
       "      <td>29053.0</td>\n",
       "      <td>7.8</td>\n",
       "      <td>7220.0</td>\n",
       "      <td>7.0</td>\n",
       "      <td>723.0</td>\n",
       "      <td>7.7</td>\n",
       "      <td>67709.0</td>\n",
       "      <td>7.2</td>\n",
       "      <td>190337.0</td>\n",
       "    </tr>\n",
       "    <tr>\n",
       "      <th>2</th>\n",
       "      <td>tt1051906</td>\n",
       "      <td>L'uomo invisibile</td>\n",
       "      <td>The Invisible Man</td>\n",
       "      <td>2020</td>\n",
       "      <td>2020-03-27</td>\n",
       "      <td>Horror, Mystery, Sci-Fi</td>\n",
       "      <td>124</td>\n",
       "      <td>Canada, Australia, USA</td>\n",
       "      <td>English</td>\n",
       "      <td>Leigh Whannell</td>\n",
       "      <td>...</td>\n",
       "      <td>7.1</td>\n",
       "      <td>6778.0</td>\n",
       "      <td>7.2</td>\n",
       "      <td>1603.0</td>\n",
       "      <td>6.9</td>\n",
       "      <td>373.0</td>\n",
       "      <td>7.2</td>\n",
       "      <td>15568.0</td>\n",
       "      <td>7.0</td>\n",
       "      <td>49787.0</td>\n",
       "    </tr>\n",
       "    <tr>\n",
       "      <th>3</th>\n",
       "      <td>tt1270797</td>\n",
       "      <td>Venom</td>\n",
       "      <td>Venom</td>\n",
       "      <td>2018</td>\n",
       "      <td>2018-10-04</td>\n",
       "      <td>Action, Adventure, Sci-Fi</td>\n",
       "      <td>112</td>\n",
       "      <td>China, USA</td>\n",
       "      <td>English, Mandarin, Malay</td>\n",
       "      <td>Ruben Fleischer</td>\n",
       "      <td>...</td>\n",
       "      <td>7.0</td>\n",
       "      <td>14589.0</td>\n",
       "      <td>7.2</td>\n",
       "      <td>3063.0</td>\n",
       "      <td>6.3</td>\n",
       "      <td>556.0</td>\n",
       "      <td>6.6</td>\n",
       "      <td>35509.0</td>\n",
       "      <td>6.6</td>\n",
       "      <td>125428.0</td>\n",
       "    </tr>\n",
       "    <tr>\n",
       "      <th>4</th>\n",
       "      <td>tt1386697</td>\n",
       "      <td>Suicide Squad</td>\n",
       "      <td>Suicide Squad</td>\n",
       "      <td>2016</td>\n",
       "      <td>2016-08-13</td>\n",
       "      <td>Action, Adventure, Fantasy</td>\n",
       "      <td>123</td>\n",
       "      <td>USA</td>\n",
       "      <td>English, Japanese, Spanish</td>\n",
       "      <td>David Ayer</td>\n",
       "      <td>...</td>\n",
       "      <td>6.2</td>\n",
       "      <td>27359.0</td>\n",
       "      <td>6.4</td>\n",
       "      <td>4816.0</td>\n",
       "      <td>5.7</td>\n",
       "      <td>740.0</td>\n",
       "      <td>5.9</td>\n",
       "      <td>60869.0</td>\n",
       "      <td>5.9</td>\n",
       "      <td>203451.0</td>\n",
       "    </tr>\n",
       "  </tbody>\n",
       "</table>\n",
       "<p>5 rows × 70 columns</p>\n",
       "</div>"
      ],
      "text/plain": [
       "  imdb_title_id              title     original_title  year date_published  \\\n",
       "0     tt0369610     Jurassic World     Jurassic World  2015     2015-06-11   \n",
       "1     tt0451279       Wonder Woman       Wonder Woman  2017     2017-06-01   \n",
       "2     tt1051906  L'uomo invisibile  The Invisible Man  2020     2020-03-27   \n",
       "3     tt1270797              Venom              Venom  2018     2018-10-04   \n",
       "4     tt1386697      Suicide Squad      Suicide Squad  2016     2016-08-13   \n",
       "\n",
       "                        genre  duration                 country  \\\n",
       "0   Action, Adventure, Sci-Fi       124                     USA   \n",
       "1  Action, Adventure, Fantasy       141   USA, China, Hong Kong   \n",
       "2     Horror, Mystery, Sci-Fi       124  Canada, Australia, USA   \n",
       "3   Action, Adventure, Sci-Fi       112              China, USA   \n",
       "4  Action, Adventure, Fantasy       123                     USA   \n",
       "\n",
       "                                            language         director  ...  \\\n",
       "0                                            English  Colin Trevorrow  ...   \n",
       "1  English, German, Dutch, French, Spanish, Chine...    Patty Jenkins  ...   \n",
       "2                                            English   Leigh Whannell  ...   \n",
       "3                           English, Mandarin, Malay  Ruben Fleischer  ...   \n",
       "4                         English, Japanese, Spanish       David Ayer  ...   \n",
       "\n",
       "  females_30age_avg_vote females_30age_votes females_45age_avg_vote  \\\n",
       "0                    7.2             32243.0                    7.3   \n",
       "1                    7.6             29053.0                    7.8   \n",
       "2                    7.1              6778.0                    7.2   \n",
       "3                    7.0             14589.0                    7.2   \n",
       "4                    6.2             27359.0                    6.4   \n",
       "\n",
       "  females_45age_votes  top1000_voters_rating  top1000_voters_votes  \\\n",
       "0              6381.0                    6.8                 762.0   \n",
       "1              7220.0                    7.0                 723.0   \n",
       "2              1603.0                    6.9                 373.0   \n",
       "3              3063.0                    6.3                 556.0   \n",
       "4              4816.0                    5.7                 740.0   \n",
       "\n",
       "  us_voters_rating us_voters_votes non_us_voters_rating  non_us_voters_votes  \n",
       "0              7.1         72876.0                  6.8             217418.0  \n",
       "1              7.7         67709.0                  7.2             190337.0  \n",
       "2              7.2         15568.0                  7.0              49787.0  \n",
       "3              6.6         35509.0                  6.6             125428.0  \n",
       "4              5.9         60869.0                  5.9             203451.0  \n",
       "\n",
       "[5 rows x 70 columns]"
      ]
     },
     "execution_count": 8,
     "metadata": {},
     "output_type": "execute_result"
    }
   ],
   "source": [
    "print(f\"Shape of dataframe: {df_imdb.shape}\")\n",
    "df_imdb.head()"
   ]
  },
  {
   "cell_type": "markdown",
   "id": "104296a1",
   "metadata": {},
   "source": [
    "We are only supposed to have 56 movies in the frame. Let's find out which ones are duplicated."
   ]
  },
  {
   "cell_type": "code",
   "execution_count": 9,
   "id": "e24c10a1",
   "metadata": {},
   "outputs": [
    {
     "data": {
      "text/plain": [
       "array(['Joker', 'The Invisible Man'], dtype=object)"
      ]
     },
     "execution_count": 9,
     "metadata": {},
     "output_type": "execute_result"
    }
   ],
   "source": [
    "movies, freq = np.unique(df_imdb.original_title, return_counts=True)\n",
    "movies[freq > 1]"
   ]
  },
  {
   "cell_type": "markdown",
   "id": "950afb30",
   "metadata": {},
   "source": [
    "Let's investigate these and see which duplicate is the false one. Then we outfilter these ones."
   ]
  },
  {
   "cell_type": "code",
   "execution_count": 10,
   "id": "8857db4e",
   "metadata": {},
   "outputs": [
    {
     "data": {
      "text/html": [
       "<div>\n",
       "<style scoped>\n",
       "    .dataframe tbody tr th:only-of-type {\n",
       "        vertical-align: middle;\n",
       "    }\n",
       "\n",
       "    .dataframe tbody tr th {\n",
       "        vertical-align: top;\n",
       "    }\n",
       "\n",
       "    .dataframe thead th {\n",
       "        text-align: right;\n",
       "    }\n",
       "</style>\n",
       "<table border=\"1\" class=\"dataframe\">\n",
       "  <thead>\n",
       "    <tr style=\"text-align: right;\">\n",
       "      <th></th>\n",
       "      <th>imdb_title_id</th>\n",
       "      <th>title</th>\n",
       "      <th>original_title</th>\n",
       "      <th>year</th>\n",
       "      <th>date_published</th>\n",
       "      <th>genre</th>\n",
       "      <th>duration</th>\n",
       "      <th>country</th>\n",
       "      <th>language</th>\n",
       "      <th>director</th>\n",
       "      <th>...</th>\n",
       "      <th>females_30age_avg_vote</th>\n",
       "      <th>females_30age_votes</th>\n",
       "      <th>females_45age_avg_vote</th>\n",
       "      <th>females_45age_votes</th>\n",
       "      <th>top1000_voters_rating</th>\n",
       "      <th>top1000_voters_votes</th>\n",
       "      <th>us_voters_rating</th>\n",
       "      <th>us_voters_votes</th>\n",
       "      <th>non_us_voters_rating</th>\n",
       "      <th>non_us_voters_votes</th>\n",
       "    </tr>\n",
       "  </thead>\n",
       "  <tbody>\n",
       "    <tr>\n",
       "      <th>47</th>\n",
       "      <td>tt5611648</td>\n",
       "      <td>Joker</td>\n",
       "      <td>Joker</td>\n",
       "      <td>2016</td>\n",
       "      <td>2016-08-12</td>\n",
       "      <td>Comedy, Drama</td>\n",
       "      <td>130</td>\n",
       "      <td>India</td>\n",
       "      <td>Tamil</td>\n",
       "      <td>Raju Murugan, Raju Saravanan</td>\n",
       "      <td>...</td>\n",
       "      <td>8.1</td>\n",
       "      <td>22.0</td>\n",
       "      <td>8.0</td>\n",
       "      <td>2.0</td>\n",
       "      <td>6.6</td>\n",
       "      <td>19.0</td>\n",
       "      <td>8.1</td>\n",
       "      <td>171.0</td>\n",
       "      <td>8.2</td>\n",
       "      <td>870.0</td>\n",
       "    </tr>\n",
       "    <tr>\n",
       "      <th>54</th>\n",
       "      <td>tt7286456</td>\n",
       "      <td>Joker</td>\n",
       "      <td>Joker</td>\n",
       "      <td>2019</td>\n",
       "      <td>2019-10-03</td>\n",
       "      <td>Crime, Drama, Thriller</td>\n",
       "      <td>122</td>\n",
       "      <td>USA, Canada</td>\n",
       "      <td>English</td>\n",
       "      <td>Todd Phillips</td>\n",
       "      <td>...</td>\n",
       "      <td>8.4</td>\n",
       "      <td>35220.0</td>\n",
       "      <td>8.3</td>\n",
       "      <td>7620.0</td>\n",
       "      <td>7.9</td>\n",
       "      <td>630.0</td>\n",
       "      <td>8.2</td>\n",
       "      <td>77947.0</td>\n",
       "      <td>8.4</td>\n",
       "      <td>281183.0</td>\n",
       "    </tr>\n",
       "  </tbody>\n",
       "</table>\n",
       "<p>2 rows × 70 columns</p>\n",
       "</div>"
      ],
      "text/plain": [
       "   imdb_title_id  title original_title  year date_published  \\\n",
       "47     tt5611648  Joker          Joker  2016     2016-08-12   \n",
       "54     tt7286456  Joker          Joker  2019     2019-10-03   \n",
       "\n",
       "                     genre  duration      country language  \\\n",
       "47           Comedy, Drama       130        India    Tamil   \n",
       "54  Crime, Drama, Thriller       122  USA, Canada  English   \n",
       "\n",
       "                        director  ... females_30age_avg_vote  \\\n",
       "47  Raju Murugan, Raju Saravanan  ...                    8.1   \n",
       "54                 Todd Phillips  ...                    8.4   \n",
       "\n",
       "   females_30age_votes females_45age_avg_vote females_45age_votes  \\\n",
       "47                22.0                    8.0                 2.0   \n",
       "54             35220.0                    8.3              7620.0   \n",
       "\n",
       "    top1000_voters_rating  top1000_voters_votes us_voters_rating  \\\n",
       "47                    6.6                  19.0              8.1   \n",
       "54                    7.9                 630.0              8.2   \n",
       "\n",
       "   us_voters_votes non_us_voters_rating  non_us_voters_votes  \n",
       "47           171.0                  8.2                870.0  \n",
       "54         77947.0                  8.4             281183.0  \n",
       "\n",
       "[2 rows x 70 columns]"
      ]
     },
     "execution_count": 10,
     "metadata": {},
     "output_type": "execute_result"
    }
   ],
   "source": [
    "df_imdb[df_imdb.original_title == 'Joker']"
   ]
  },
  {
   "cell_type": "code",
   "execution_count": 11,
   "id": "66065ceb",
   "metadata": {},
   "outputs": [
    {
     "data": {
      "text/html": [
       "<div>\n",
       "<style scoped>\n",
       "    .dataframe tbody tr th:only-of-type {\n",
       "        vertical-align: middle;\n",
       "    }\n",
       "\n",
       "    .dataframe tbody tr th {\n",
       "        vertical-align: top;\n",
       "    }\n",
       "\n",
       "    .dataframe thead th {\n",
       "        text-align: right;\n",
       "    }\n",
       "</style>\n",
       "<table border=\"1\" class=\"dataframe\">\n",
       "  <thead>\n",
       "    <tr style=\"text-align: right;\">\n",
       "      <th></th>\n",
       "      <th>imdb_title_id</th>\n",
       "      <th>title</th>\n",
       "      <th>original_title</th>\n",
       "      <th>year</th>\n",
       "      <th>date_published</th>\n",
       "      <th>genre</th>\n",
       "      <th>duration</th>\n",
       "      <th>country</th>\n",
       "      <th>language</th>\n",
       "      <th>director</th>\n",
       "      <th>...</th>\n",
       "      <th>females_30age_avg_vote</th>\n",
       "      <th>females_30age_votes</th>\n",
       "      <th>females_45age_avg_vote</th>\n",
       "      <th>females_45age_votes</th>\n",
       "      <th>top1000_voters_rating</th>\n",
       "      <th>top1000_voters_votes</th>\n",
       "      <th>us_voters_rating</th>\n",
       "      <th>us_voters_votes</th>\n",
       "      <th>non_us_voters_rating</th>\n",
       "      <th>non_us_voters_votes</th>\n",
       "    </tr>\n",
       "  </thead>\n",
       "  <tbody>\n",
       "    <tr>\n",
       "      <th>2</th>\n",
       "      <td>tt1051906</td>\n",
       "      <td>L'uomo invisibile</td>\n",
       "      <td>The Invisible Man</td>\n",
       "      <td>2020</td>\n",
       "      <td>2020-03-27</td>\n",
       "      <td>Horror, Mystery, Sci-Fi</td>\n",
       "      <td>124</td>\n",
       "      <td>Canada, Australia, USA</td>\n",
       "      <td>English</td>\n",
       "      <td>Leigh Whannell</td>\n",
       "      <td>...</td>\n",
       "      <td>7.1</td>\n",
       "      <td>6778.0</td>\n",
       "      <td>7.2</td>\n",
       "      <td>1603.0</td>\n",
       "      <td>6.9</td>\n",
       "      <td>373.0</td>\n",
       "      <td>7.2</td>\n",
       "      <td>15568.0</td>\n",
       "      <td>7.0</td>\n",
       "      <td>49787.0</td>\n",
       "    </tr>\n",
       "    <tr>\n",
       "      <th>55</th>\n",
       "      <td>tt7651078</td>\n",
       "      <td>The Invisible Man</td>\n",
       "      <td>The Invisible Man</td>\n",
       "      <td>2017</td>\n",
       "      <td>2018-02-04</td>\n",
       "      <td>Sci-Fi</td>\n",
       "      <td>88</td>\n",
       "      <td>USA</td>\n",
       "      <td>English</td>\n",
       "      <td>Khian Bartlett, Carol Damgen</td>\n",
       "      <td>...</td>\n",
       "      <td>4.7</td>\n",
       "      <td>6.0</td>\n",
       "      <td>4.0</td>\n",
       "      <td>7.0</td>\n",
       "      <td>4.0</td>\n",
       "      <td>10.0</td>\n",
       "      <td>3.5</td>\n",
       "      <td>57.0</td>\n",
       "      <td>3.2</td>\n",
       "      <td>35.0</td>\n",
       "    </tr>\n",
       "  </tbody>\n",
       "</table>\n",
       "<p>2 rows × 70 columns</p>\n",
       "</div>"
      ],
      "text/plain": [
       "   imdb_title_id              title     original_title  year date_published  \\\n",
       "2      tt1051906  L'uomo invisibile  The Invisible Man  2020     2020-03-27   \n",
       "55     tt7651078  The Invisible Man  The Invisible Man  2017     2018-02-04   \n",
       "\n",
       "                      genre  duration                 country language  \\\n",
       "2   Horror, Mystery, Sci-Fi       124  Canada, Australia, USA  English   \n",
       "55                   Sci-Fi        88                     USA  English   \n",
       "\n",
       "                        director  ... females_30age_avg_vote  \\\n",
       "2                 Leigh Whannell  ...                    7.1   \n",
       "55  Khian Bartlett, Carol Damgen  ...                    4.7   \n",
       "\n",
       "   females_30age_votes females_45age_avg_vote females_45age_votes  \\\n",
       "2               6778.0                    7.2              1603.0   \n",
       "55                 6.0                    4.0                 7.0   \n",
       "\n",
       "    top1000_voters_rating  top1000_voters_votes us_voters_rating  \\\n",
       "2                     6.9                 373.0              7.2   \n",
       "55                    4.0                  10.0              3.5   \n",
       "\n",
       "   us_voters_votes non_us_voters_rating  non_us_voters_votes  \n",
       "2          15568.0                  7.0              49787.0  \n",
       "55            57.0                  3.2                 35.0  \n",
       "\n",
       "[2 rows x 70 columns]"
      ]
     },
     "execution_count": 11,
     "metadata": {},
     "output_type": "execute_result"
    }
   ],
   "source": [
    "df_imdb[df_imdb.original_title == 'The Invisible Man']"
   ]
  },
  {
   "cell_type": "markdown",
   "id": "cece56a9",
   "metadata": {},
   "source": [
    "The rows to be removed are 47 and 55 - this can also be seen by the number of votes on the IMDb ratings."
   ]
  },
  {
   "cell_type": "code",
   "execution_count": 12,
   "id": "430eca17",
   "metadata": {},
   "outputs": [
    {
     "name": "stdout",
     "output_type": "stream",
     "text": [
      "Shape of dataframe: (56, 70)\n"
     ]
    }
   ],
   "source": [
    "df_imdb = df_imdb.drop([47, 55])\n",
    "df_imdb.index = np.arange(len(df_imdb))\n",
    "print(f\"Shape of dataframe: {df_imdb.shape}\")"
   ]
  },
  {
   "cell_type": "code",
   "execution_count": 13,
   "id": "9a838fae",
   "metadata": {},
   "outputs": [
    {
     "data": {
      "text/html": [
       "<div>\n",
       "<style scoped>\n",
       "    .dataframe tbody tr th:only-of-type {\n",
       "        vertical-align: middle;\n",
       "    }\n",
       "\n",
       "    .dataframe tbody tr th {\n",
       "        vertical-align: top;\n",
       "    }\n",
       "\n",
       "    .dataframe thead th {\n",
       "        text-align: right;\n",
       "    }\n",
       "</style>\n",
       "<table border=\"1\" class=\"dataframe\">\n",
       "  <thead>\n",
       "    <tr style=\"text-align: right;\">\n",
       "      <th></th>\n",
       "      <th>imdb_title_id</th>\n",
       "      <th>title</th>\n",
       "      <th>original_title</th>\n",
       "      <th>year</th>\n",
       "      <th>date_published</th>\n",
       "      <th>genre</th>\n",
       "      <th>duration</th>\n",
       "      <th>country</th>\n",
       "      <th>language</th>\n",
       "      <th>director</th>\n",
       "      <th>...</th>\n",
       "      <th>females_30age_avg_vote</th>\n",
       "      <th>females_30age_votes</th>\n",
       "      <th>females_45age_avg_vote</th>\n",
       "      <th>females_45age_votes</th>\n",
       "      <th>top1000_voters_rating</th>\n",
       "      <th>top1000_voters_votes</th>\n",
       "      <th>us_voters_rating</th>\n",
       "      <th>us_voters_votes</th>\n",
       "      <th>non_us_voters_rating</th>\n",
       "      <th>non_us_voters_votes</th>\n",
       "    </tr>\n",
       "  </thead>\n",
       "  <tbody>\n",
       "    <tr>\n",
       "      <th>0</th>\n",
       "      <td>tt0369610</td>\n",
       "      <td>Jurassic World</td>\n",
       "      <td>Jurassic World</td>\n",
       "      <td>2015</td>\n",
       "      <td>2015-06-11</td>\n",
       "      <td>Action, Adventure, Sci-Fi</td>\n",
       "      <td>124</td>\n",
       "      <td>USA</td>\n",
       "      <td>English</td>\n",
       "      <td>Colin Trevorrow</td>\n",
       "      <td>...</td>\n",
       "      <td>7.2</td>\n",
       "      <td>32243.0</td>\n",
       "      <td>7.3</td>\n",
       "      <td>6381.0</td>\n",
       "      <td>6.8</td>\n",
       "      <td>762.0</td>\n",
       "      <td>7.1</td>\n",
       "      <td>72876.0</td>\n",
       "      <td>6.8</td>\n",
       "      <td>217418.0</td>\n",
       "    </tr>\n",
       "    <tr>\n",
       "      <th>1</th>\n",
       "      <td>tt0451279</td>\n",
       "      <td>Wonder Woman</td>\n",
       "      <td>Wonder Woman</td>\n",
       "      <td>2017</td>\n",
       "      <td>2017-06-01</td>\n",
       "      <td>Action, Adventure, Fantasy</td>\n",
       "      <td>141</td>\n",
       "      <td>USA, China, Hong Kong</td>\n",
       "      <td>English, German, Dutch, French, Spanish, Chine...</td>\n",
       "      <td>Patty Jenkins</td>\n",
       "      <td>...</td>\n",
       "      <td>7.6</td>\n",
       "      <td>29053.0</td>\n",
       "      <td>7.8</td>\n",
       "      <td>7220.0</td>\n",
       "      <td>7.0</td>\n",
       "      <td>723.0</td>\n",
       "      <td>7.7</td>\n",
       "      <td>67709.0</td>\n",
       "      <td>7.2</td>\n",
       "      <td>190337.0</td>\n",
       "    </tr>\n",
       "    <tr>\n",
       "      <th>2</th>\n",
       "      <td>tt1051906</td>\n",
       "      <td>L'uomo invisibile</td>\n",
       "      <td>The Invisible Man</td>\n",
       "      <td>2020</td>\n",
       "      <td>2020-03-27</td>\n",
       "      <td>Horror, Mystery, Sci-Fi</td>\n",
       "      <td>124</td>\n",
       "      <td>Canada, Australia, USA</td>\n",
       "      <td>English</td>\n",
       "      <td>Leigh Whannell</td>\n",
       "      <td>...</td>\n",
       "      <td>7.1</td>\n",
       "      <td>6778.0</td>\n",
       "      <td>7.2</td>\n",
       "      <td>1603.0</td>\n",
       "      <td>6.9</td>\n",
       "      <td>373.0</td>\n",
       "      <td>7.2</td>\n",
       "      <td>15568.0</td>\n",
       "      <td>7.0</td>\n",
       "      <td>49787.0</td>\n",
       "    </tr>\n",
       "    <tr>\n",
       "      <th>3</th>\n",
       "      <td>tt1270797</td>\n",
       "      <td>Venom</td>\n",
       "      <td>Venom</td>\n",
       "      <td>2018</td>\n",
       "      <td>2018-10-04</td>\n",
       "      <td>Action, Adventure, Sci-Fi</td>\n",
       "      <td>112</td>\n",
       "      <td>China, USA</td>\n",
       "      <td>English, Mandarin, Malay</td>\n",
       "      <td>Ruben Fleischer</td>\n",
       "      <td>...</td>\n",
       "      <td>7.0</td>\n",
       "      <td>14589.0</td>\n",
       "      <td>7.2</td>\n",
       "      <td>3063.0</td>\n",
       "      <td>6.3</td>\n",
       "      <td>556.0</td>\n",
       "      <td>6.6</td>\n",
       "      <td>35509.0</td>\n",
       "      <td>6.6</td>\n",
       "      <td>125428.0</td>\n",
       "    </tr>\n",
       "    <tr>\n",
       "      <th>4</th>\n",
       "      <td>tt1386697</td>\n",
       "      <td>Suicide Squad</td>\n",
       "      <td>Suicide Squad</td>\n",
       "      <td>2016</td>\n",
       "      <td>2016-08-13</td>\n",
       "      <td>Action, Adventure, Fantasy</td>\n",
       "      <td>123</td>\n",
       "      <td>USA</td>\n",
       "      <td>English, Japanese, Spanish</td>\n",
       "      <td>David Ayer</td>\n",
       "      <td>...</td>\n",
       "      <td>6.2</td>\n",
       "      <td>27359.0</td>\n",
       "      <td>6.4</td>\n",
       "      <td>4816.0</td>\n",
       "      <td>5.7</td>\n",
       "      <td>740.0</td>\n",
       "      <td>5.9</td>\n",
       "      <td>60869.0</td>\n",
       "      <td>5.9</td>\n",
       "      <td>203451.0</td>\n",
       "    </tr>\n",
       "    <tr>\n",
       "      <th>5</th>\n",
       "      <td>tt1431045</td>\n",
       "      <td>Deadpool</td>\n",
       "      <td>Deadpool</td>\n",
       "      <td>2016</td>\n",
       "      <td>2016-02-18</td>\n",
       "      <td>Action, Adventure, Comedy</td>\n",
       "      <td>108</td>\n",
       "      <td>USA</td>\n",
       "      <td>English</td>\n",
       "      <td>Tim Miller</td>\n",
       "      <td>...</td>\n",
       "      <td>7.9</td>\n",
       "      <td>41239.0</td>\n",
       "      <td>7.9</td>\n",
       "      <td>7845.0</td>\n",
       "      <td>7.5</td>\n",
       "      <td>804.0</td>\n",
       "      <td>8.1</td>\n",
       "      <td>91566.0</td>\n",
       "      <td>7.8</td>\n",
       "      <td>309504.0</td>\n",
       "    </tr>\n",
       "    <tr>\n",
       "      <th>6</th>\n",
       "      <td>tt1477834</td>\n",
       "      <td>Aquaman</td>\n",
       "      <td>Aquaman</td>\n",
       "      <td>2018</td>\n",
       "      <td>2019-01-01</td>\n",
       "      <td>Action, Adventure, Fantasy</td>\n",
       "      <td>143</td>\n",
       "      <td>USA, Australia</td>\n",
       "      <td>English, Russian, Maori, Italian</td>\n",
       "      <td>James Wan</td>\n",
       "      <td>...</td>\n",
       "      <td>6.9</td>\n",
       "      <td>16691.0</td>\n",
       "      <td>7.1</td>\n",
       "      <td>4411.0</td>\n",
       "      <td>6.6</td>\n",
       "      <td>594.0</td>\n",
       "      <td>6.9</td>\n",
       "      <td>38872.0</td>\n",
       "      <td>6.8</td>\n",
       "      <td>121047.0</td>\n",
       "    </tr>\n",
       "    <tr>\n",
       "      <th>7</th>\n",
       "      <td>tt1502397</td>\n",
       "      <td>Bad Boys for Life</td>\n",
       "      <td>Bad Boys for Life</td>\n",
       "      <td>2020</td>\n",
       "      <td>2020-02-20</td>\n",
       "      <td>Action, Comedy, Crime</td>\n",
       "      <td>124</td>\n",
       "      <td>USA, Mexico</td>\n",
       "      <td>English, Spanish</td>\n",
       "      <td>Adil El Arbi, Bilall Fallah</td>\n",
       "      <td>...</td>\n",
       "      <td>6.8</td>\n",
       "      <td>4338.0</td>\n",
       "      <td>6.8</td>\n",
       "      <td>1149.0</td>\n",
       "      <td>6.1</td>\n",
       "      <td>315.0</td>\n",
       "      <td>6.7</td>\n",
       "      <td>12297.0</td>\n",
       "      <td>6.5</td>\n",
       "      <td>42309.0</td>\n",
       "    </tr>\n",
       "    <tr>\n",
       "      <th>8</th>\n",
       "      <td>tt1727824</td>\n",
       "      <td>Bohemian Rhapsody</td>\n",
       "      <td>Bohemian Rhapsody</td>\n",
       "      <td>2018</td>\n",
       "      <td>2018-11-29</td>\n",
       "      <td>Biography, Drama, Music</td>\n",
       "      <td>134</td>\n",
       "      <td>UK, USA</td>\n",
       "      <td>English, British Sign Language</td>\n",
       "      <td>Bryan Singer</td>\n",
       "      <td>...</td>\n",
       "      <td>8.3</td>\n",
       "      <td>29897.0</td>\n",
       "      <td>8.6</td>\n",
       "      <td>9605.0</td>\n",
       "      <td>7.2</td>\n",
       "      <td>609.0</td>\n",
       "      <td>7.8</td>\n",
       "      <td>45282.0</td>\n",
       "      <td>7.9</td>\n",
       "      <td>161478.0</td>\n",
       "    </tr>\n",
       "    <tr>\n",
       "      <th>9</th>\n",
       "      <td>tt1825683</td>\n",
       "      <td>Black Panther</td>\n",
       "      <td>Black Panther</td>\n",
       "      <td>2018</td>\n",
       "      <td>2018-02-14</td>\n",
       "      <td>Action, Adventure, Sci-Fi</td>\n",
       "      <td>134</td>\n",
       "      <td>USA</td>\n",
       "      <td>English, Swahili, Nama, Xhosa, Korean</td>\n",
       "      <td>Ryan Coogler</td>\n",
       "      <td>...</td>\n",
       "      <td>7.6</td>\n",
       "      <td>28085.0</td>\n",
       "      <td>7.8</td>\n",
       "      <td>7494.0</td>\n",
       "      <td>6.8</td>\n",
       "      <td>679.0</td>\n",
       "      <td>7.6</td>\n",
       "      <td>78364.0</td>\n",
       "      <td>7.0</td>\n",
       "      <td>196556.0</td>\n",
       "    </tr>\n",
       "    <tr>\n",
       "      <th>10</th>\n",
       "      <td>tt1951266</td>\n",
       "      <td>Hunger Games: Il canto della rivolta - Parte 2</td>\n",
       "      <td>The Hunger Games: Mockingjay - Part 2</td>\n",
       "      <td>2015</td>\n",
       "      <td>2015-11-19</td>\n",
       "      <td>Action, Adventure, Sci-Fi</td>\n",
       "      <td>137</td>\n",
       "      <td>USA, Germany, Canada, France</td>\n",
       "      <td>English</td>\n",
       "      <td>Francis Lawrence</td>\n",
       "      <td>...</td>\n",
       "      <td>6.9</td>\n",
       "      <td>19887.0</td>\n",
       "      <td>7.0</td>\n",
       "      <td>3472.0</td>\n",
       "      <td>6.0</td>\n",
       "      <td>567.0</td>\n",
       "      <td>6.7</td>\n",
       "      <td>30834.0</td>\n",
       "      <td>6.4</td>\n",
       "      <td>111903.0</td>\n",
       "    </tr>\n",
       "    <tr>\n",
       "      <th>11</th>\n",
       "      <td>tt1979376</td>\n",
       "      <td>Toy Story 4</td>\n",
       "      <td>Toy Story 4</td>\n",
       "      <td>2019</td>\n",
       "      <td>2019-06-26</td>\n",
       "      <td>Animation, Adventure, Comedy</td>\n",
       "      <td>100</td>\n",
       "      <td>USA</td>\n",
       "      <td>English</td>\n",
       "      <td>Josh Cooley</td>\n",
       "      <td>...</td>\n",
       "      <td>7.7</td>\n",
       "      <td>8648.0</td>\n",
       "      <td>7.8</td>\n",
       "      <td>1761.0</td>\n",
       "      <td>7.5</td>\n",
       "      <td>440.0</td>\n",
       "      <td>7.8</td>\n",
       "      <td>24115.0</td>\n",
       "      <td>7.7</td>\n",
       "      <td>66326.0</td>\n",
       "    </tr>\n",
       "    <tr>\n",
       "      <th>12</th>\n",
       "      <td>tt2096673</td>\n",
       "      <td>Inside Out</td>\n",
       "      <td>Inside Out</td>\n",
       "      <td>2015</td>\n",
       "      <td>2015-09-16</td>\n",
       "      <td>Animation, Adventure, Comedy</td>\n",
       "      <td>95</td>\n",
       "      <td>USA</td>\n",
       "      <td>English</td>\n",
       "      <td>Pete Docter, Ronnie Del Carmen</td>\n",
       "      <td>...</td>\n",
       "      <td>8.2</td>\n",
       "      <td>39749.0</td>\n",
       "      <td>7.9</td>\n",
       "      <td>6032.0</td>\n",
       "      <td>7.6</td>\n",
       "      <td>679.0</td>\n",
       "      <td>8.2</td>\n",
       "      <td>63305.0</td>\n",
       "      <td>8.1</td>\n",
       "      <td>224653.0</td>\n",
       "    </tr>\n",
       "    <tr>\n",
       "      <th>13</th>\n",
       "      <td>tt2250912</td>\n",
       "      <td>Spider-Man: Homecoming</td>\n",
       "      <td>Spider-Man: Homecoming</td>\n",
       "      <td>2017</td>\n",
       "      <td>2017-07-06</td>\n",
       "      <td>Action, Adventure, Sci-Fi</td>\n",
       "      <td>133</td>\n",
       "      <td>USA</td>\n",
       "      <td>English, Spanish</td>\n",
       "      <td>Jon Watts</td>\n",
       "      <td>...</td>\n",
       "      <td>7.4</td>\n",
       "      <td>18078.0</td>\n",
       "      <td>7.4</td>\n",
       "      <td>3649.0</td>\n",
       "      <td>7.0</td>\n",
       "      <td>692.0</td>\n",
       "      <td>7.6</td>\n",
       "      <td>57625.0</td>\n",
       "      <td>7.3</td>\n",
       "      <td>172006.0</td>\n",
       "    </tr>\n",
       "    <tr>\n",
       "      <th>14</th>\n",
       "      <td>tt2277860</td>\n",
       "      <td>Alla ricerca di Dory</td>\n",
       "      <td>Finding Dory</td>\n",
       "      <td>2016</td>\n",
       "      <td>2016-09-15</td>\n",
       "      <td>Animation, Adventure, Comedy</td>\n",
       "      <td>97</td>\n",
       "      <td>USA</td>\n",
       "      <td>English, Indonesian</td>\n",
       "      <td>Andrew Stanton, Angus MacLane</td>\n",
       "      <td>...</td>\n",
       "      <td>7.5</td>\n",
       "      <td>16235.0</td>\n",
       "      <td>7.5</td>\n",
       "      <td>2806.0</td>\n",
       "      <td>7.0</td>\n",
       "      <td>542.0</td>\n",
       "      <td>7.4</td>\n",
       "      <td>30956.0</td>\n",
       "      <td>7.2</td>\n",
       "      <td>87787.0</td>\n",
       "    </tr>\n",
       "    <tr>\n",
       "      <th>15</th>\n",
       "      <td>tt2283362</td>\n",
       "      <td>Jumanji - Benvenuti nella giungla</td>\n",
       "      <td>Jumanji: Welcome to the Jungle</td>\n",
       "      <td>2017</td>\n",
       "      <td>2018-01-01</td>\n",
       "      <td>Action, Adventure, Comedy</td>\n",
       "      <td>119</td>\n",
       "      <td>USA, India, Canada, UK, Australia, Germany</td>\n",
       "      <td>English</td>\n",
       "      <td>Jake Kasdan</td>\n",
       "      <td>...</td>\n",
       "      <td>7.2</td>\n",
       "      <td>17361.0</td>\n",
       "      <td>7.5</td>\n",
       "      <td>4739.0</td>\n",
       "      <td>6.6</td>\n",
       "      <td>581.0</td>\n",
       "      <td>7.1</td>\n",
       "      <td>39089.0</td>\n",
       "      <td>6.8</td>\n",
       "      <td>115107.0</td>\n",
       "    </tr>\n",
       "    <tr>\n",
       "      <th>16</th>\n",
       "      <td>tt2293640</td>\n",
       "      <td>Minions</td>\n",
       "      <td>Minions</td>\n",
       "      <td>2015</td>\n",
       "      <td>2015-08-27</td>\n",
       "      <td>Animation, Adventure, Comedy</td>\n",
       "      <td>91</td>\n",
       "      <td>USA</td>\n",
       "      <td>English, Spanish</td>\n",
       "      <td>Kyle Balda, Pierre Coffin</td>\n",
       "      <td>...</td>\n",
       "      <td>6.5</td>\n",
       "      <td>15259.0</td>\n",
       "      <td>6.8</td>\n",
       "      <td>2523.0</td>\n",
       "      <td>6.2</td>\n",
       "      <td>495.0</td>\n",
       "      <td>6.2</td>\n",
       "      <td>20534.0</td>\n",
       "      <td>6.4</td>\n",
       "      <td>86264.0</td>\n",
       "    </tr>\n",
       "    <tr>\n",
       "      <th>17</th>\n",
       "      <td>tt2379713</td>\n",
       "      <td>Spectre</td>\n",
       "      <td>Spectre</td>\n",
       "      <td>2015</td>\n",
       "      <td>2015-11-05</td>\n",
       "      <td>Action, Adventure, Thriller</td>\n",
       "      <td>148</td>\n",
       "      <td>UK, USA, Austria, Mexico, Italy, Morocco</td>\n",
       "      <td>English, Spanish, Italian, German, French</td>\n",
       "      <td>Sam Mendes</td>\n",
       "      <td>...</td>\n",
       "      <td>6.7</td>\n",
       "      <td>15754.0</td>\n",
       "      <td>6.9</td>\n",
       "      <td>4119.0</td>\n",
       "      <td>6.7</td>\n",
       "      <td>669.0</td>\n",
       "      <td>6.8</td>\n",
       "      <td>39158.0</td>\n",
       "      <td>6.7</td>\n",
       "      <td>165475.0</td>\n",
       "    </tr>\n",
       "    <tr>\n",
       "      <th>18</th>\n",
       "      <td>tt2381249</td>\n",
       "      <td>Mission: Impossible - Rogue Nation</td>\n",
       "      <td>Mission: Impossible - Rogue Nation</td>\n",
       "      <td>2015</td>\n",
       "      <td>2015-08-19</td>\n",
       "      <td>Action, Adventure, Thriller</td>\n",
       "      <td>131</td>\n",
       "      <td>USA, China, Hong Kong, Austria, UK, Morocco</td>\n",
       "      <td>English, Swedish, German, Russian</td>\n",
       "      <td>Christopher McQuarrie</td>\n",
       "      <td>...</td>\n",
       "      <td>7.3</td>\n",
       "      <td>12934.0</td>\n",
       "      <td>7.5</td>\n",
       "      <td>3721.0</td>\n",
       "      <td>7.2</td>\n",
       "      <td>683.0</td>\n",
       "      <td>7.6</td>\n",
       "      <td>38702.0</td>\n",
       "      <td>7.3</td>\n",
       "      <td>143138.0</td>\n",
       "    </tr>\n",
       "    <tr>\n",
       "      <th>19</th>\n",
       "      <td>tt2395427</td>\n",
       "      <td>Avengers: Age of Ultron</td>\n",
       "      <td>Avengers: Age of Ultron</td>\n",
       "      <td>2015</td>\n",
       "      <td>2015-04-22</td>\n",
       "      <td>Action, Adventure, Sci-Fi</td>\n",
       "      <td>141</td>\n",
       "      <td>USA</td>\n",
       "      <td>English, Korean</td>\n",
       "      <td>Joss Whedon</td>\n",
       "      <td>...</td>\n",
       "      <td>7.5</td>\n",
       "      <td>32098.0</td>\n",
       "      <td>7.6</td>\n",
       "      <td>6703.0</td>\n",
       "      <td>7.0</td>\n",
       "      <td>754.0</td>\n",
       "      <td>7.4</td>\n",
       "      <td>82079.0</td>\n",
       "      <td>7.2</td>\n",
       "      <td>255220.0</td>\n",
       "    </tr>\n",
       "    <tr>\n",
       "      <th>20</th>\n",
       "      <td>tt2488496</td>\n",
       "      <td>Star Wars - Il risveglio della Forza</td>\n",
       "      <td>Star Wars: Episode VII - The Force Awakens</td>\n",
       "      <td>2015</td>\n",
       "      <td>2015-12-16</td>\n",
       "      <td>Action, Adventure, Sci-Fi</td>\n",
       "      <td>138</td>\n",
       "      <td>USA</td>\n",
       "      <td>English</td>\n",
       "      <td>J.J. Abrams</td>\n",
       "      <td>...</td>\n",
       "      <td>8.1</td>\n",
       "      <td>35131.0</td>\n",
       "      <td>8.1</td>\n",
       "      <td>9338.0</td>\n",
       "      <td>7.5</td>\n",
       "      <td>799.0</td>\n",
       "      <td>8.0</td>\n",
       "      <td>104488.0</td>\n",
       "      <td>7.8</td>\n",
       "      <td>297162.0</td>\n",
       "    </tr>\n",
       "    <tr>\n",
       "      <th>21</th>\n",
       "      <td>tt2527336</td>\n",
       "      <td>Star Wars - Gli ultimi Jedi</td>\n",
       "      <td>Star Wars: Episode VIII - The Last Jedi</td>\n",
       "      <td>2017</td>\n",
       "      <td>2017-12-13</td>\n",
       "      <td>Action, Adventure, Fantasy</td>\n",
       "      <td>152</td>\n",
       "      <td>USA</td>\n",
       "      <td>English</td>\n",
       "      <td>Rian Johnson</td>\n",
       "      <td>...</td>\n",
       "      <td>7.4</td>\n",
       "      <td>19903.0</td>\n",
       "      <td>7.5</td>\n",
       "      <td>5590.0</td>\n",
       "      <td>6.8</td>\n",
       "      <td>706.0</td>\n",
       "      <td>7.1</td>\n",
       "      <td>74268.0</td>\n",
       "      <td>6.9</td>\n",
       "      <td>192305.0</td>\n",
       "    </tr>\n",
       "    <tr>\n",
       "      <th>22</th>\n",
       "      <td>tt2527338</td>\n",
       "      <td>Star Wars: L'ascesa di Skywalker</td>\n",
       "      <td>Star Wars: Episode IX - The Rise of Skywalker</td>\n",
       "      <td>2019</td>\n",
       "      <td>2019-12-18</td>\n",
       "      <td>Action, Adventure, Fantasy</td>\n",
       "      <td>141</td>\n",
       "      <td>USA</td>\n",
       "      <td>English</td>\n",
       "      <td>J.J. Abrams</td>\n",
       "      <td>...</td>\n",
       "      <td>7.2</td>\n",
       "      <td>12386.0</td>\n",
       "      <td>7.5</td>\n",
       "      <td>3937.0</td>\n",
       "      <td>6.3</td>\n",
       "      <td>513.0</td>\n",
       "      <td>6.8</td>\n",
       "      <td>45520.0</td>\n",
       "      <td>6.5</td>\n",
       "      <td>118399.0</td>\n",
       "    </tr>\n",
       "    <tr>\n",
       "      <th>23</th>\n",
       "      <td>tt2709768</td>\n",
       "      <td>Pets - Vita da animali</td>\n",
       "      <td>The Secret Life of Pets</td>\n",
       "      <td>2016</td>\n",
       "      <td>2016-10-06</td>\n",
       "      <td>Animation, Adventure, Comedy</td>\n",
       "      <td>87</td>\n",
       "      <td>USA, France, Japan</td>\n",
       "      <td>English</td>\n",
       "      <td>Chris Renaud, Yarrow Cheney</td>\n",
       "      <td>...</td>\n",
       "      <td>6.7</td>\n",
       "      <td>16073.0</td>\n",
       "      <td>6.9</td>\n",
       "      <td>2913.0</td>\n",
       "      <td>6.3</td>\n",
       "      <td>480.0</td>\n",
       "      <td>6.5</td>\n",
       "      <td>22123.0</td>\n",
       "      <td>6.5</td>\n",
       "      <td>70300.0</td>\n",
       "    </tr>\n",
       "    <tr>\n",
       "      <th>24</th>\n",
       "      <td>tt2771200</td>\n",
       "      <td>La bella e la bestia</td>\n",
       "      <td>Beauty and the Beast</td>\n",
       "      <td>2017</td>\n",
       "      <td>2017-03-16</td>\n",
       "      <td>Family, Fantasy, Musical</td>\n",
       "      <td>129</td>\n",
       "      <td>USA</td>\n",
       "      <td>English</td>\n",
       "      <td>Bill Condon</td>\n",
       "      <td>...</td>\n",
       "      <td>7.5</td>\n",
       "      <td>27857.0</td>\n",
       "      <td>7.7</td>\n",
       "      <td>4978.0</td>\n",
       "      <td>6.4</td>\n",
       "      <td>521.0</td>\n",
       "      <td>7.2</td>\n",
       "      <td>34926.0</td>\n",
       "      <td>7.0</td>\n",
       "      <td>93811.0</td>\n",
       "    </tr>\n",
       "    <tr>\n",
       "      <th>25</th>\n",
       "      <td>tt2820852</td>\n",
       "      <td>Fast &amp; Furious 7</td>\n",
       "      <td>Fast &amp; Furious 7</td>\n",
       "      <td>2015</td>\n",
       "      <td>2015-04-02</td>\n",
       "      <td>Action, Adventure, Thriller</td>\n",
       "      <td>137</td>\n",
       "      <td>USA, China, Japan, Canada, United Arab Emirates</td>\n",
       "      <td>English, Thai, Arabic, Spanish</td>\n",
       "      <td>James Wan</td>\n",
       "      <td>...</td>\n",
       "      <td>7.4</td>\n",
       "      <td>14055.0</td>\n",
       "      <td>7.5</td>\n",
       "      <td>2554.0</td>\n",
       "      <td>6.3</td>\n",
       "      <td>582.0</td>\n",
       "      <td>7.2</td>\n",
       "      <td>33404.0</td>\n",
       "      <td>6.9</td>\n",
       "      <td>134603.0</td>\n",
       "    </tr>\n",
       "    <tr>\n",
       "      <th>26</th>\n",
       "      <td>tt2948356</td>\n",
       "      <td>Zootropolis</td>\n",
       "      <td>Zootopia</td>\n",
       "      <td>2016</td>\n",
       "      <td>2016-02-18</td>\n",
       "      <td>Animation, Adventure, Comedy</td>\n",
       "      <td>108</td>\n",
       "      <td>USA</td>\n",
       "      <td>English</td>\n",
       "      <td>Byron Howard, Rich Moore</td>\n",
       "      <td>...</td>\n",
       "      <td>8.1</td>\n",
       "      <td>26346.0</td>\n",
       "      <td>8.0</td>\n",
       "      <td>3864.0</td>\n",
       "      <td>7.7</td>\n",
       "      <td>644.0</td>\n",
       "      <td>8.0</td>\n",
       "      <td>47221.0</td>\n",
       "      <td>7.9</td>\n",
       "      <td>158258.0</td>\n",
       "    </tr>\n",
       "    <tr>\n",
       "      <th>27</th>\n",
       "      <td>tt2975590</td>\n",
       "      <td>Batman v Superman: Dawn of Justice</td>\n",
       "      <td>Batman v Superman: Dawn of Justice</td>\n",
       "      <td>2016</td>\n",
       "      <td>2016-03-23</td>\n",
       "      <td>Action, Adventure, Sci-Fi</td>\n",
       "      <td>152</td>\n",
       "      <td>USA</td>\n",
       "      <td>English</td>\n",
       "      <td>Zack Snyder</td>\n",
       "      <td>...</td>\n",
       "      <td>6.2</td>\n",
       "      <td>21430.0</td>\n",
       "      <td>6.2</td>\n",
       "      <td>4196.0</td>\n",
       "      <td>6.0</td>\n",
       "      <td>722.0</td>\n",
       "      <td>6.3</td>\n",
       "      <td>64578.0</td>\n",
       "      <td>6.4</td>\n",
       "      <td>205263.0</td>\n",
       "    </tr>\n",
       "    <tr>\n",
       "      <th>28</th>\n",
       "      <td>tt3040964</td>\n",
       "      <td>Il libro della giungla</td>\n",
       "      <td>The Jungle Book</td>\n",
       "      <td>2016</td>\n",
       "      <td>2016-04-14</td>\n",
       "      <td>Adventure, Drama, Family</td>\n",
       "      <td>106</td>\n",
       "      <td>UK, USA</td>\n",
       "      <td>English</td>\n",
       "      <td>Jon Favreau</td>\n",
       "      <td>...</td>\n",
       "      <td>7.4</td>\n",
       "      <td>15153.0</td>\n",
       "      <td>7.7</td>\n",
       "      <td>2890.0</td>\n",
       "      <td>7.1</td>\n",
       "      <td>581.0</td>\n",
       "      <td>7.5</td>\n",
       "      <td>29186.0</td>\n",
       "      <td>7.3</td>\n",
       "      <td>104694.0</td>\n",
       "    </tr>\n",
       "    <tr>\n",
       "      <th>29</th>\n",
       "      <td>tt3183660</td>\n",
       "      <td>Animali fantastici e dove trovarli</td>\n",
       "      <td>Fantastic Beasts and Where to Find Them</td>\n",
       "      <td>2016</td>\n",
       "      <td>2016-11-17</td>\n",
       "      <td>Adventure, Family, Fantasy</td>\n",
       "      <td>132</td>\n",
       "      <td>UK, USA</td>\n",
       "      <td>English, Khmer</td>\n",
       "      <td>David Yates</td>\n",
       "      <td>...</td>\n",
       "      <td>7.6</td>\n",
       "      <td>27685.0</td>\n",
       "      <td>7.7</td>\n",
       "      <td>5345.0</td>\n",
       "      <td>6.8</td>\n",
       "      <td>653.0</td>\n",
       "      <td>7.3</td>\n",
       "      <td>40339.0</td>\n",
       "      <td>7.2</td>\n",
       "      <td>157146.0</td>\n",
       "    </tr>\n",
       "    <tr>\n",
       "      <th>30</th>\n",
       "      <td>tt3469046</td>\n",
       "      <td>Cattivissimo me 3</td>\n",
       "      <td>Despicable Me 3</td>\n",
       "      <td>2017</td>\n",
       "      <td>2017-08-24</td>\n",
       "      <td>Animation, Adventure, Comedy</td>\n",
       "      <td>89</td>\n",
       "      <td>USA</td>\n",
       "      <td>English</td>\n",
       "      <td>Kyle Balda, Pierre Coffin</td>\n",
       "      <td>...</td>\n",
       "      <td>6.4</td>\n",
       "      <td>7170.0</td>\n",
       "      <td>6.7</td>\n",
       "      <td>1322.0</td>\n",
       "      <td>6.1</td>\n",
       "      <td>403.0</td>\n",
       "      <td>6.3</td>\n",
       "      <td>11152.0</td>\n",
       "      <td>6.2</td>\n",
       "      <td>43985.0</td>\n",
       "    </tr>\n",
       "    <tr>\n",
       "      <th>31</th>\n",
       "      <td>tt3498820</td>\n",
       "      <td>Captain America: Civil War</td>\n",
       "      <td>Captain America: Civil War</td>\n",
       "      <td>2016</td>\n",
       "      <td>2016-05-04</td>\n",
       "      <td>Action, Adventure, Sci-Fi</td>\n",
       "      <td>147</td>\n",
       "      <td>USA</td>\n",
       "      <td>English, German, Xhosa, Russian, Romanian, Hindi</td>\n",
       "      <td>Anthony Russo, Joe Russo</td>\n",
       "      <td>...</td>\n",
       "      <td>7.7</td>\n",
       "      <td>25067.0</td>\n",
       "      <td>7.8</td>\n",
       "      <td>5251.0</td>\n",
       "      <td>7.5</td>\n",
       "      <td>740.0</td>\n",
       "      <td>8.0</td>\n",
       "      <td>71823.0</td>\n",
       "      <td>7.6</td>\n",
       "      <td>215528.0</td>\n",
       "    </tr>\n",
       "    <tr>\n",
       "      <th>32</th>\n",
       "      <td>tt3501632</td>\n",
       "      <td>Thor: Ragnarok</td>\n",
       "      <td>Thor: Ragnarok</td>\n",
       "      <td>2017</td>\n",
       "      <td>2017-10-25</td>\n",
       "      <td>Action, Adventure, Comedy</td>\n",
       "      <td>130</td>\n",
       "      <td>USA</td>\n",
       "      <td>English</td>\n",
       "      <td>Taika Waititi</td>\n",
       "      <td>...</td>\n",
       "      <td>8.0</td>\n",
       "      <td>26007.0</td>\n",
       "      <td>8.1</td>\n",
       "      <td>5813.0</td>\n",
       "      <td>7.4</td>\n",
       "      <td>708.0</td>\n",
       "      <td>8.0</td>\n",
       "      <td>66630.0</td>\n",
       "      <td>7.7</td>\n",
       "      <td>193545.0</td>\n",
       "    </tr>\n",
       "    <tr>\n",
       "      <th>33</th>\n",
       "      <td>tt3606756</td>\n",
       "      <td>Gli Incredibili 2</td>\n",
       "      <td>Incredibles 2</td>\n",
       "      <td>2018</td>\n",
       "      <td>2018-09-19</td>\n",
       "      <td>Animation, Action, Adventure</td>\n",
       "      <td>118</td>\n",
       "      <td>USA</td>\n",
       "      <td>English</td>\n",
       "      <td>Brad Bird</td>\n",
       "      <td>...</td>\n",
       "      <td>7.6</td>\n",
       "      <td>9953.0</td>\n",
       "      <td>7.8</td>\n",
       "      <td>2379.0</td>\n",
       "      <td>7.3</td>\n",
       "      <td>503.0</td>\n",
       "      <td>7.8</td>\n",
       "      <td>34271.0</td>\n",
       "      <td>7.5</td>\n",
       "      <td>81582.0</td>\n",
       "    </tr>\n",
       "    <tr>\n",
       "      <th>34</th>\n",
       "      <td>tt3659388</td>\n",
       "      <td>Sopravvissuto - The Martian</td>\n",
       "      <td>The Martian</td>\n",
       "      <td>2015</td>\n",
       "      <td>2015-10-01</td>\n",
       "      <td>Adventure, Drama, Sci-Fi</td>\n",
       "      <td>144</td>\n",
       "      <td>UK, USA, Hungary, Jordan</td>\n",
       "      <td>English, Mandarin</td>\n",
       "      <td>Ridley Scott</td>\n",
       "      <td>...</td>\n",
       "      <td>7.9</td>\n",
       "      <td>38749.0</td>\n",
       "      <td>8.1</td>\n",
       "      <td>8925.0</td>\n",
       "      <td>7.8</td>\n",
       "      <td>779.0</td>\n",
       "      <td>8.1</td>\n",
       "      <td>77218.0</td>\n",
       "      <td>7.9</td>\n",
       "      <td>292874.0</td>\n",
       "    </tr>\n",
       "    <tr>\n",
       "      <th>35</th>\n",
       "      <td>tt3748528</td>\n",
       "      <td>Rogue One: A Star Wars Story</td>\n",
       "      <td>Rogue One</td>\n",
       "      <td>2016</td>\n",
       "      <td>2016-12-15</td>\n",
       "      <td>Action, Adventure, Sci-Fi</td>\n",
       "      <td>133</td>\n",
       "      <td>USA</td>\n",
       "      <td>English</td>\n",
       "      <td>Gareth Edwards</td>\n",
       "      <td>...</td>\n",
       "      <td>7.7</td>\n",
       "      <td>20879.0</td>\n",
       "      <td>7.7</td>\n",
       "      <td>5387.0</td>\n",
       "      <td>7.5</td>\n",
       "      <td>746.0</td>\n",
       "      <td>7.9</td>\n",
       "      <td>70466.0</td>\n",
       "      <td>7.6</td>\n",
       "      <td>198632.0</td>\n",
       "    </tr>\n",
       "    <tr>\n",
       "      <th>36</th>\n",
       "      <td>tt3794354</td>\n",
       "      <td>Sonic - Il film</td>\n",
       "      <td>Sonic the Hedgehog</td>\n",
       "      <td>2020</td>\n",
       "      <td>2020-02-13</td>\n",
       "      <td>Action, Adventure, Comedy</td>\n",
       "      <td>99</td>\n",
       "      <td>USA, Japan, Canada</td>\n",
       "      <td>English, French</td>\n",
       "      <td>Jeff Fowler</td>\n",
       "      <td>...</td>\n",
       "      <td>6.7</td>\n",
       "      <td>2647.0</td>\n",
       "      <td>6.6</td>\n",
       "      <td>446.0</td>\n",
       "      <td>6.1</td>\n",
       "      <td>277.0</td>\n",
       "      <td>6.5</td>\n",
       "      <td>8916.0</td>\n",
       "      <td>6.4</td>\n",
       "      <td>26723.0</td>\n",
       "    </tr>\n",
       "    <tr>\n",
       "      <th>37</th>\n",
       "      <td>tt3896198</td>\n",
       "      <td>Guardiani della Galassia Vol. 2</td>\n",
       "      <td>Guardians of the Galaxy Vol. 2</td>\n",
       "      <td>2017</td>\n",
       "      <td>2017-04-25</td>\n",
       "      <td>Action, Adventure, Comedy</td>\n",
       "      <td>136</td>\n",
       "      <td>USA</td>\n",
       "      <td>English</td>\n",
       "      <td>James Gunn</td>\n",
       "      <td>...</td>\n",
       "      <td>7.8</td>\n",
       "      <td>25322.0</td>\n",
       "      <td>7.9</td>\n",
       "      <td>5833.0</td>\n",
       "      <td>7.4</td>\n",
       "      <td>699.0</td>\n",
       "      <td>7.7</td>\n",
       "      <td>66182.0</td>\n",
       "      <td>7.5</td>\n",
       "      <td>194686.0</td>\n",
       "    </tr>\n",
       "    <tr>\n",
       "      <th>38</th>\n",
       "      <td>tt4123430</td>\n",
       "      <td>Animali fantastici: I crimini di Grindelwald</td>\n",
       "      <td>Fantastic Beasts: The Crimes of Grindelwald</td>\n",
       "      <td>2018</td>\n",
       "      <td>2018-11-15</td>\n",
       "      <td>Adventure, Family, Fantasy</td>\n",
       "      <td>134</td>\n",
       "      <td>UK, USA</td>\n",
       "      <td>English, French</td>\n",
       "      <td>David Yates</td>\n",
       "      <td>...</td>\n",
       "      <td>6.9</td>\n",
       "      <td>13086.0</td>\n",
       "      <td>7.0</td>\n",
       "      <td>2614.0</td>\n",
       "      <td>6.0</td>\n",
       "      <td>456.0</td>\n",
       "      <td>6.5</td>\n",
       "      <td>20281.0</td>\n",
       "      <td>6.5</td>\n",
       "      <td>80838.0</td>\n",
       "    </tr>\n",
       "    <tr>\n",
       "      <th>39</th>\n",
       "      <td>tt4154664</td>\n",
       "      <td>Captain Marvel</td>\n",
       "      <td>Captain Marvel</td>\n",
       "      <td>2019</td>\n",
       "      <td>2019-03-06</td>\n",
       "      <td>Action, Adventure, Sci-Fi</td>\n",
       "      <td>123</td>\n",
       "      <td>USA, Australia</td>\n",
       "      <td>English</td>\n",
       "      <td>Anna Boden, Ryan Fleck</td>\n",
       "      <td>...</td>\n",
       "      <td>7.4</td>\n",
       "      <td>18355.0</td>\n",
       "      <td>7.6</td>\n",
       "      <td>4238.0</td>\n",
       "      <td>6.7</td>\n",
       "      <td>584.0</td>\n",
       "      <td>7.0</td>\n",
       "      <td>50209.0</td>\n",
       "      <td>6.8</td>\n",
       "      <td>139821.0</td>\n",
       "    </tr>\n",
       "    <tr>\n",
       "      <th>40</th>\n",
       "      <td>tt4154756</td>\n",
       "      <td>Avengers: Infinity War</td>\n",
       "      <td>Avengers: Infinity War</td>\n",
       "      <td>2018</td>\n",
       "      <td>2018-04-25</td>\n",
       "      <td>Action, Adventure, Sci-Fi</td>\n",
       "      <td>149</td>\n",
       "      <td>USA</td>\n",
       "      <td>English</td>\n",
       "      <td>Anthony Russo, Joe Russo</td>\n",
       "      <td>...</td>\n",
       "      <td>8.3</td>\n",
       "      <td>28096.0</td>\n",
       "      <td>8.2</td>\n",
       "      <td>6400.0</td>\n",
       "      <td>7.8</td>\n",
       "      <td>695.0</td>\n",
       "      <td>8.5</td>\n",
       "      <td>86997.0</td>\n",
       "      <td>8.3</td>\n",
       "      <td>255980.0</td>\n",
       "    </tr>\n",
       "    <tr>\n",
       "      <th>41</th>\n",
       "      <td>tt4154796</td>\n",
       "      <td>Avengers: Endgame</td>\n",
       "      <td>Avengers: Endgame</td>\n",
       "      <td>2019</td>\n",
       "      <td>2019-04-24</td>\n",
       "      <td>Action, Adventure, Drama</td>\n",
       "      <td>181</td>\n",
       "      <td>USA</td>\n",
       "      <td>English, Japanese, Xhosa, German</td>\n",
       "      <td>Anthony Russo, Joe Russo</td>\n",
       "      <td>...</td>\n",
       "      <td>8.4</td>\n",
       "      <td>26757.0</td>\n",
       "      <td>8.4</td>\n",
       "      <td>6589.0</td>\n",
       "      <td>7.7</td>\n",
       "      <td>657.0</td>\n",
       "      <td>8.5</td>\n",
       "      <td>79050.0</td>\n",
       "      <td>8.2</td>\n",
       "      <td>229246.0</td>\n",
       "    </tr>\n",
       "    <tr>\n",
       "      <th>42</th>\n",
       "      <td>tt4520988</td>\n",
       "      <td>Frozen II - Il segreto di Arendelle</td>\n",
       "      <td>Frozen II</td>\n",
       "      <td>2019</td>\n",
       "      <td>2019-11-27</td>\n",
       "      <td>Animation, Adventure, Comedy</td>\n",
       "      <td>103</td>\n",
       "      <td>USA</td>\n",
       "      <td>English</td>\n",
       "      <td>Chris Buck, Jennifer Lee</td>\n",
       "      <td>...</td>\n",
       "      <td>7.3</td>\n",
       "      <td>9189.0</td>\n",
       "      <td>7.3</td>\n",
       "      <td>1606.0</td>\n",
       "      <td>6.2</td>\n",
       "      <td>330.0</td>\n",
       "      <td>6.9</td>\n",
       "      <td>16804.0</td>\n",
       "      <td>6.8</td>\n",
       "      <td>39962.0</td>\n",
       "    </tr>\n",
       "    <tr>\n",
       "      <th>43</th>\n",
       "      <td>tt4630562</td>\n",
       "      <td>Fast &amp; Furious 8</td>\n",
       "      <td>The Fate of the Furious</td>\n",
       "      <td>2017</td>\n",
       "      <td>2017-04-13</td>\n",
       "      <td>Action, Adventure, Crime</td>\n",
       "      <td>136</td>\n",
       "      <td>China, USA, Japan</td>\n",
       "      <td>English, Russian, Spanish</td>\n",
       "      <td>F. Gary Gray</td>\n",
       "      <td>...</td>\n",
       "      <td>7.0</td>\n",
       "      <td>6914.0</td>\n",
       "      <td>7.1</td>\n",
       "      <td>1382.0</td>\n",
       "      <td>6.2</td>\n",
       "      <td>504.0</td>\n",
       "      <td>6.7</td>\n",
       "      <td>20021.0</td>\n",
       "      <td>6.5</td>\n",
       "      <td>78660.0</td>\n",
       "    </tr>\n",
       "    <tr>\n",
       "      <th>44</th>\n",
       "      <td>tt4881806</td>\n",
       "      <td>Jurassic World - Il regno distrutto</td>\n",
       "      <td>Jurassic World: Fallen Kingdom</td>\n",
       "      <td>2018</td>\n",
       "      <td>2018-06-07</td>\n",
       "      <td>Action, Adventure, Sci-Fi</td>\n",
       "      <td>128</td>\n",
       "      <td>USA</td>\n",
       "      <td>English, Russian</td>\n",
       "      <td>J.A. Bayona</td>\n",
       "      <td>...</td>\n",
       "      <td>6.5</td>\n",
       "      <td>12893.0</td>\n",
       "      <td>6.7</td>\n",
       "      <td>3060.0</td>\n",
       "      <td>6.0</td>\n",
       "      <td>568.0</td>\n",
       "      <td>6.1</td>\n",
       "      <td>32634.0</td>\n",
       "      <td>6.1</td>\n",
       "      <td>97975.0</td>\n",
       "    </tr>\n",
       "    <tr>\n",
       "      <th>45</th>\n",
       "      <td>tt4912910</td>\n",
       "      <td>Mission: Impossible - Fallout</td>\n",
       "      <td>Mission: Impossible - Fallout</td>\n",
       "      <td>2018</td>\n",
       "      <td>2018-08-29</td>\n",
       "      <td>Action, Adventure, Thriller</td>\n",
       "      <td>147</td>\n",
       "      <td>USA, China, France, Norway, UK</td>\n",
       "      <td>English, French</td>\n",
       "      <td>Christopher McQuarrie</td>\n",
       "      <td>...</td>\n",
       "      <td>7.4</td>\n",
       "      <td>9381.0</td>\n",
       "      <td>7.6</td>\n",
       "      <td>3077.0</td>\n",
       "      <td>7.4</td>\n",
       "      <td>579.0</td>\n",
       "      <td>7.9</td>\n",
       "      <td>33169.0</td>\n",
       "      <td>7.6</td>\n",
       "      <td>111894.0</td>\n",
       "    </tr>\n",
       "    <tr>\n",
       "      <th>46</th>\n",
       "      <td>tt5463162</td>\n",
       "      <td>Deadpool 2</td>\n",
       "      <td>Deadpool 2</td>\n",
       "      <td>2018</td>\n",
       "      <td>2018-05-15</td>\n",
       "      <td>Action, Adventure, Comedy</td>\n",
       "      <td>119</td>\n",
       "      <td>USA</td>\n",
       "      <td>English, Cantonese, Spanish, Russian</td>\n",
       "      <td>David Leitch</td>\n",
       "      <td>...</td>\n",
       "      <td>7.7</td>\n",
       "      <td>19224.0</td>\n",
       "      <td>7.8</td>\n",
       "      <td>4035.0</td>\n",
       "      <td>7.5</td>\n",
       "      <td>627.0</td>\n",
       "      <td>7.8</td>\n",
       "      <td>51836.0</td>\n",
       "      <td>7.6</td>\n",
       "      <td>167149.0</td>\n",
       "    </tr>\n",
       "    <tr>\n",
       "      <th>47</th>\n",
       "      <td>tt6105098</td>\n",
       "      <td>Il Re Leone</td>\n",
       "      <td>The Lion King</td>\n",
       "      <td>2019</td>\n",
       "      <td>2019-08-21</td>\n",
       "      <td>Animation, Adventure, Drama</td>\n",
       "      <td>118</td>\n",
       "      <td>USA, UK, South Africa</td>\n",
       "      <td>English, Xhosa, Zulu, French, Spanish</td>\n",
       "      <td>Jon Favreau</td>\n",
       "      <td>...</td>\n",
       "      <td>7.3</td>\n",
       "      <td>11521.0</td>\n",
       "      <td>7.5</td>\n",
       "      <td>2281.0</td>\n",
       "      <td>6.1</td>\n",
       "      <td>392.0</td>\n",
       "      <td>6.6</td>\n",
       "      <td>22006.0</td>\n",
       "      <td>6.9</td>\n",
       "      <td>68771.0</td>\n",
       "    </tr>\n",
       "    <tr>\n",
       "      <th>48</th>\n",
       "      <td>tt6139732</td>\n",
       "      <td>Aladdin</td>\n",
       "      <td>Aladdin</td>\n",
       "      <td>2019</td>\n",
       "      <td>2019-05-22</td>\n",
       "      <td>Adventure, Family, Fantasy</td>\n",
       "      <td>128</td>\n",
       "      <td>UK, USA, Australia</td>\n",
       "      <td>English, Arabic</td>\n",
       "      <td>Guy Ritchie</td>\n",
       "      <td>...</td>\n",
       "      <td>7.3</td>\n",
       "      <td>14462.0</td>\n",
       "      <td>7.4</td>\n",
       "      <td>2327.0</td>\n",
       "      <td>6.1</td>\n",
       "      <td>429.0</td>\n",
       "      <td>6.9</td>\n",
       "      <td>24082.0</td>\n",
       "      <td>6.9</td>\n",
       "      <td>75263.0</td>\n",
       "    </tr>\n",
       "    <tr>\n",
       "      <th>49</th>\n",
       "      <td>tt6320628</td>\n",
       "      <td>Spider-Man: Far from Home</td>\n",
       "      <td>Spider-Man: Far from Home</td>\n",
       "      <td>2019</td>\n",
       "      <td>2019-07-10</td>\n",
       "      <td>Action, Adventure, Sci-Fi</td>\n",
       "      <td>129</td>\n",
       "      <td>USA</td>\n",
       "      <td>English, Italian, Czech</td>\n",
       "      <td>Jon Watts</td>\n",
       "      <td>...</td>\n",
       "      <td>7.6</td>\n",
       "      <td>10521.0</td>\n",
       "      <td>7.6</td>\n",
       "      <td>2264.0</td>\n",
       "      <td>7.1</td>\n",
       "      <td>550.0</td>\n",
       "      <td>7.7</td>\n",
       "      <td>34541.0</td>\n",
       "      <td>7.3</td>\n",
       "      <td>105610.0</td>\n",
       "    </tr>\n",
       "    <tr>\n",
       "      <th>50</th>\n",
       "      <td>tt6673612</td>\n",
       "      <td>Dolittle</td>\n",
       "      <td>Dolittle</td>\n",
       "      <td>2020</td>\n",
       "      <td>2020-01-30</td>\n",
       "      <td>Adventure, Comedy, Family</td>\n",
       "      <td>101</td>\n",
       "      <td>USA, China, UK, Japan</td>\n",
       "      <td>English, French</td>\n",
       "      <td>Stephen Gaghan</td>\n",
       "      <td>...</td>\n",
       "      <td>6.1</td>\n",
       "      <td>2451.0</td>\n",
       "      <td>6.3</td>\n",
       "      <td>862.0</td>\n",
       "      <td>4.9</td>\n",
       "      <td>212.0</td>\n",
       "      <td>5.3</td>\n",
       "      <td>4368.0</td>\n",
       "      <td>5.5</td>\n",
       "      <td>14202.0</td>\n",
       "    </tr>\n",
       "    <tr>\n",
       "      <th>51</th>\n",
       "      <td>tt6723592</td>\n",
       "      <td>Tenet</td>\n",
       "      <td>Tenet</td>\n",
       "      <td>2020</td>\n",
       "      <td>2020-08-26</td>\n",
       "      <td>Action, Sci-Fi</td>\n",
       "      <td>150</td>\n",
       "      <td>UK, USA</td>\n",
       "      <td>English, Russian, Ukrainian, Estonian</td>\n",
       "      <td>Christopher Nolan</td>\n",
       "      <td>...</td>\n",
       "      <td>7.7</td>\n",
       "      <td>1608.0</td>\n",
       "      <td>7.7</td>\n",
       "      <td>278.0</td>\n",
       "      <td>7.5</td>\n",
       "      <td>77.0</td>\n",
       "      <td>8.0</td>\n",
       "      <td>2670.0</td>\n",
       "      <td>7.8</td>\n",
       "      <td>25130.0</td>\n",
       "    </tr>\n",
       "    <tr>\n",
       "      <th>52</th>\n",
       "      <td>tt7146812</td>\n",
       "      <td>Onward - Oltre la magia</td>\n",
       "      <td>Onward</td>\n",
       "      <td>2020</td>\n",
       "      <td>2020-08-19</td>\n",
       "      <td>Animation, Adventure, Comedy</td>\n",
       "      <td>102</td>\n",
       "      <td>USA</td>\n",
       "      <td>English</td>\n",
       "      <td>Dan Scanlon</td>\n",
       "      <td>...</td>\n",
       "      <td>7.6</td>\n",
       "      <td>4173.0</td>\n",
       "      <td>7.6</td>\n",
       "      <td>814.0</td>\n",
       "      <td>6.8</td>\n",
       "      <td>285.0</td>\n",
       "      <td>7.5</td>\n",
       "      <td>12884.0</td>\n",
       "      <td>7.3</td>\n",
       "      <td>25321.0</td>\n",
       "    </tr>\n",
       "    <tr>\n",
       "      <th>53</th>\n",
       "      <td>tt7286456</td>\n",
       "      <td>Joker</td>\n",
       "      <td>Joker</td>\n",
       "      <td>2019</td>\n",
       "      <td>2019-10-03</td>\n",
       "      <td>Crime, Drama, Thriller</td>\n",
       "      <td>122</td>\n",
       "      <td>USA, Canada</td>\n",
       "      <td>English</td>\n",
       "      <td>Todd Phillips</td>\n",
       "      <td>...</td>\n",
       "      <td>8.4</td>\n",
       "      <td>35220.0</td>\n",
       "      <td>8.3</td>\n",
       "      <td>7620.0</td>\n",
       "      <td>7.9</td>\n",
       "      <td>630.0</td>\n",
       "      <td>8.2</td>\n",
       "      <td>77947.0</td>\n",
       "      <td>8.4</td>\n",
       "      <td>281183.0</td>\n",
       "    </tr>\n",
       "    <tr>\n",
       "      <th>54</th>\n",
       "      <td>tt7713068</td>\n",
       "      <td>Birds of Prey e la fantasmagorica rinascita di...</td>\n",
       "      <td>Birds of Prey: And the Fantabulous Emancipatio...</td>\n",
       "      <td>2020</td>\n",
       "      <td>2020-02-06</td>\n",
       "      <td>Action, Adventure, Crime</td>\n",
       "      <td>109</td>\n",
       "      <td>USA</td>\n",
       "      <td>English, Chinese</td>\n",
       "      <td>Cathy Yan</td>\n",
       "      <td>...</td>\n",
       "      <td>6.6</td>\n",
       "      <td>6019.0</td>\n",
       "      <td>6.3</td>\n",
       "      <td>1212.0</td>\n",
       "      <td>5.7</td>\n",
       "      <td>386.0</td>\n",
       "      <td>6.3</td>\n",
       "      <td>16984.0</td>\n",
       "      <td>6.0</td>\n",
       "      <td>47711.0</td>\n",
       "    </tr>\n",
       "    <tr>\n",
       "      <th>55</th>\n",
       "      <td>tt7975244</td>\n",
       "      <td>Jumanji - The Next Level</td>\n",
       "      <td>Jumanji: The Next Level</td>\n",
       "      <td>2019</td>\n",
       "      <td>2019-12-25</td>\n",
       "      <td>Action, Adventure, Comedy</td>\n",
       "      <td>123</td>\n",
       "      <td>USA</td>\n",
       "      <td>English</td>\n",
       "      <td>Jake Kasdan</td>\n",
       "      <td>...</td>\n",
       "      <td>6.9</td>\n",
       "      <td>10037.0</td>\n",
       "      <td>7.1</td>\n",
       "      <td>4394.0</td>\n",
       "      <td>6.3</td>\n",
       "      <td>364.0</td>\n",
       "      <td>6.8</td>\n",
       "      <td>21870.0</td>\n",
       "      <td>6.5</td>\n",
       "      <td>66318.0</td>\n",
       "    </tr>\n",
       "  </tbody>\n",
       "</table>\n",
       "<p>56 rows × 70 columns</p>\n",
       "</div>"
      ],
      "text/plain": [
       "   imdb_title_id                                              title  \\\n",
       "0      tt0369610                                     Jurassic World   \n",
       "1      tt0451279                                       Wonder Woman   \n",
       "2      tt1051906                                  L'uomo invisibile   \n",
       "3      tt1270797                                              Venom   \n",
       "4      tt1386697                                      Suicide Squad   \n",
       "5      tt1431045                                           Deadpool   \n",
       "6      tt1477834                                            Aquaman   \n",
       "7      tt1502397                                  Bad Boys for Life   \n",
       "8      tt1727824                                  Bohemian Rhapsody   \n",
       "9      tt1825683                                      Black Panther   \n",
       "10     tt1951266     Hunger Games: Il canto della rivolta - Parte 2   \n",
       "11     tt1979376                                        Toy Story 4   \n",
       "12     tt2096673                                         Inside Out   \n",
       "13     tt2250912                             Spider-Man: Homecoming   \n",
       "14     tt2277860                               Alla ricerca di Dory   \n",
       "15     tt2283362                  Jumanji - Benvenuti nella giungla   \n",
       "16     tt2293640                                            Minions   \n",
       "17     tt2379713                                            Spectre   \n",
       "18     tt2381249                 Mission: Impossible - Rogue Nation   \n",
       "19     tt2395427                            Avengers: Age of Ultron   \n",
       "20     tt2488496               Star Wars - Il risveglio della Forza   \n",
       "21     tt2527336                        Star Wars - Gli ultimi Jedi   \n",
       "22     tt2527338                   Star Wars: L'ascesa di Skywalker   \n",
       "23     tt2709768                             Pets - Vita da animali   \n",
       "24     tt2771200                               La bella e la bestia   \n",
       "25     tt2820852                                   Fast & Furious 7   \n",
       "26     tt2948356                                        Zootropolis   \n",
       "27     tt2975590                 Batman v Superman: Dawn of Justice   \n",
       "28     tt3040964                             Il libro della giungla   \n",
       "29     tt3183660                 Animali fantastici e dove trovarli   \n",
       "30     tt3469046                                  Cattivissimo me 3   \n",
       "31     tt3498820                         Captain America: Civil War   \n",
       "32     tt3501632                                     Thor: Ragnarok   \n",
       "33     tt3606756                                  Gli Incredibili 2   \n",
       "34     tt3659388                        Sopravvissuto - The Martian   \n",
       "35     tt3748528                       Rogue One: A Star Wars Story   \n",
       "36     tt3794354                                    Sonic - Il film   \n",
       "37     tt3896198                    Guardiani della Galassia Vol. 2   \n",
       "38     tt4123430       Animali fantastici: I crimini di Grindelwald   \n",
       "39     tt4154664                                     Captain Marvel   \n",
       "40     tt4154756                             Avengers: Infinity War   \n",
       "41     tt4154796                                  Avengers: Endgame   \n",
       "42     tt4520988                Frozen II - Il segreto di Arendelle   \n",
       "43     tt4630562                                   Fast & Furious 8   \n",
       "44     tt4881806                Jurassic World - Il regno distrutto   \n",
       "45     tt4912910                      Mission: Impossible - Fallout   \n",
       "46     tt5463162                                         Deadpool 2   \n",
       "47     tt6105098                                        Il Re Leone   \n",
       "48     tt6139732                                            Aladdin   \n",
       "49     tt6320628                          Spider-Man: Far from Home   \n",
       "50     tt6673612                                           Dolittle   \n",
       "51     tt6723592                                              Tenet   \n",
       "52     tt7146812                            Onward - Oltre la magia   \n",
       "53     tt7286456                                              Joker   \n",
       "54     tt7713068  Birds of Prey e la fantasmagorica rinascita di...   \n",
       "55     tt7975244                           Jumanji - The Next Level   \n",
       "\n",
       "                                       original_title  year date_published  \\\n",
       "0                                      Jurassic World  2015     2015-06-11   \n",
       "1                                        Wonder Woman  2017     2017-06-01   \n",
       "2                                   The Invisible Man  2020     2020-03-27   \n",
       "3                                               Venom  2018     2018-10-04   \n",
       "4                                       Suicide Squad  2016     2016-08-13   \n",
       "5                                            Deadpool  2016     2016-02-18   \n",
       "6                                             Aquaman  2018     2019-01-01   \n",
       "7                                   Bad Boys for Life  2020     2020-02-20   \n",
       "8                                   Bohemian Rhapsody  2018     2018-11-29   \n",
       "9                                       Black Panther  2018     2018-02-14   \n",
       "10              The Hunger Games: Mockingjay - Part 2  2015     2015-11-19   \n",
       "11                                        Toy Story 4  2019     2019-06-26   \n",
       "12                                         Inside Out  2015     2015-09-16   \n",
       "13                             Spider-Man: Homecoming  2017     2017-07-06   \n",
       "14                                       Finding Dory  2016     2016-09-15   \n",
       "15                     Jumanji: Welcome to the Jungle  2017     2018-01-01   \n",
       "16                                            Minions  2015     2015-08-27   \n",
       "17                                            Spectre  2015     2015-11-05   \n",
       "18                 Mission: Impossible - Rogue Nation  2015     2015-08-19   \n",
       "19                            Avengers: Age of Ultron  2015     2015-04-22   \n",
       "20         Star Wars: Episode VII - The Force Awakens  2015     2015-12-16   \n",
       "21            Star Wars: Episode VIII - The Last Jedi  2017     2017-12-13   \n",
       "22      Star Wars: Episode IX - The Rise of Skywalker  2019     2019-12-18   \n",
       "23                            The Secret Life of Pets  2016     2016-10-06   \n",
       "24                               Beauty and the Beast  2017     2017-03-16   \n",
       "25                                   Fast & Furious 7  2015     2015-04-02   \n",
       "26                                           Zootopia  2016     2016-02-18   \n",
       "27                 Batman v Superman: Dawn of Justice  2016     2016-03-23   \n",
       "28                                    The Jungle Book  2016     2016-04-14   \n",
       "29            Fantastic Beasts and Where to Find Them  2016     2016-11-17   \n",
       "30                                    Despicable Me 3  2017     2017-08-24   \n",
       "31                         Captain America: Civil War  2016     2016-05-04   \n",
       "32                                     Thor: Ragnarok  2017     2017-10-25   \n",
       "33                                      Incredibles 2  2018     2018-09-19   \n",
       "34                                        The Martian  2015     2015-10-01   \n",
       "35                                          Rogue One  2016     2016-12-15   \n",
       "36                                 Sonic the Hedgehog  2020     2020-02-13   \n",
       "37                     Guardians of the Galaxy Vol. 2  2017     2017-04-25   \n",
       "38        Fantastic Beasts: The Crimes of Grindelwald  2018     2018-11-15   \n",
       "39                                     Captain Marvel  2019     2019-03-06   \n",
       "40                             Avengers: Infinity War  2018     2018-04-25   \n",
       "41                                  Avengers: Endgame  2019     2019-04-24   \n",
       "42                                          Frozen II  2019     2019-11-27   \n",
       "43                            The Fate of the Furious  2017     2017-04-13   \n",
       "44                     Jurassic World: Fallen Kingdom  2018     2018-06-07   \n",
       "45                      Mission: Impossible - Fallout  2018     2018-08-29   \n",
       "46                                         Deadpool 2  2018     2018-05-15   \n",
       "47                                      The Lion King  2019     2019-08-21   \n",
       "48                                            Aladdin  2019     2019-05-22   \n",
       "49                          Spider-Man: Far from Home  2019     2019-07-10   \n",
       "50                                           Dolittle  2020     2020-01-30   \n",
       "51                                              Tenet  2020     2020-08-26   \n",
       "52                                             Onward  2020     2020-08-19   \n",
       "53                                              Joker  2019     2019-10-03   \n",
       "54  Birds of Prey: And the Fantabulous Emancipatio...  2020     2020-02-06   \n",
       "55                            Jumanji: The Next Level  2019     2019-12-25   \n",
       "\n",
       "                           genre  duration  \\\n",
       "0      Action, Adventure, Sci-Fi       124   \n",
       "1     Action, Adventure, Fantasy       141   \n",
       "2        Horror, Mystery, Sci-Fi       124   \n",
       "3      Action, Adventure, Sci-Fi       112   \n",
       "4     Action, Adventure, Fantasy       123   \n",
       "5      Action, Adventure, Comedy       108   \n",
       "6     Action, Adventure, Fantasy       143   \n",
       "7          Action, Comedy, Crime       124   \n",
       "8        Biography, Drama, Music       134   \n",
       "9      Action, Adventure, Sci-Fi       134   \n",
       "10     Action, Adventure, Sci-Fi       137   \n",
       "11  Animation, Adventure, Comedy       100   \n",
       "12  Animation, Adventure, Comedy        95   \n",
       "13     Action, Adventure, Sci-Fi       133   \n",
       "14  Animation, Adventure, Comedy        97   \n",
       "15     Action, Adventure, Comedy       119   \n",
       "16  Animation, Adventure, Comedy        91   \n",
       "17   Action, Adventure, Thriller       148   \n",
       "18   Action, Adventure, Thriller       131   \n",
       "19     Action, Adventure, Sci-Fi       141   \n",
       "20     Action, Adventure, Sci-Fi       138   \n",
       "21    Action, Adventure, Fantasy       152   \n",
       "22    Action, Adventure, Fantasy       141   \n",
       "23  Animation, Adventure, Comedy        87   \n",
       "24      Family, Fantasy, Musical       129   \n",
       "25   Action, Adventure, Thriller       137   \n",
       "26  Animation, Adventure, Comedy       108   \n",
       "27     Action, Adventure, Sci-Fi       152   \n",
       "28      Adventure, Drama, Family       106   \n",
       "29    Adventure, Family, Fantasy       132   \n",
       "30  Animation, Adventure, Comedy        89   \n",
       "31     Action, Adventure, Sci-Fi       147   \n",
       "32     Action, Adventure, Comedy       130   \n",
       "33  Animation, Action, Adventure       118   \n",
       "34      Adventure, Drama, Sci-Fi       144   \n",
       "35     Action, Adventure, Sci-Fi       133   \n",
       "36     Action, Adventure, Comedy        99   \n",
       "37     Action, Adventure, Comedy       136   \n",
       "38    Adventure, Family, Fantasy       134   \n",
       "39     Action, Adventure, Sci-Fi       123   \n",
       "40     Action, Adventure, Sci-Fi       149   \n",
       "41      Action, Adventure, Drama       181   \n",
       "42  Animation, Adventure, Comedy       103   \n",
       "43      Action, Adventure, Crime       136   \n",
       "44     Action, Adventure, Sci-Fi       128   \n",
       "45   Action, Adventure, Thriller       147   \n",
       "46     Action, Adventure, Comedy       119   \n",
       "47   Animation, Adventure, Drama       118   \n",
       "48    Adventure, Family, Fantasy       128   \n",
       "49     Action, Adventure, Sci-Fi       129   \n",
       "50     Adventure, Comedy, Family       101   \n",
       "51                Action, Sci-Fi       150   \n",
       "52  Animation, Adventure, Comedy       102   \n",
       "53        Crime, Drama, Thriller       122   \n",
       "54      Action, Adventure, Crime       109   \n",
       "55     Action, Adventure, Comedy       123   \n",
       "\n",
       "                                            country  \\\n",
       "0                                               USA   \n",
       "1                             USA, China, Hong Kong   \n",
       "2                            Canada, Australia, USA   \n",
       "3                                        China, USA   \n",
       "4                                               USA   \n",
       "5                                               USA   \n",
       "6                                    USA, Australia   \n",
       "7                                       USA, Mexico   \n",
       "8                                           UK, USA   \n",
       "9                                               USA   \n",
       "10                     USA, Germany, Canada, France   \n",
       "11                                              USA   \n",
       "12                                              USA   \n",
       "13                                              USA   \n",
       "14                                              USA   \n",
       "15       USA, India, Canada, UK, Australia, Germany   \n",
       "16                                              USA   \n",
       "17         UK, USA, Austria, Mexico, Italy, Morocco   \n",
       "18      USA, China, Hong Kong, Austria, UK, Morocco   \n",
       "19                                              USA   \n",
       "20                                              USA   \n",
       "21                                              USA   \n",
       "22                                              USA   \n",
       "23                               USA, France, Japan   \n",
       "24                                              USA   \n",
       "25  USA, China, Japan, Canada, United Arab Emirates   \n",
       "26                                              USA   \n",
       "27                                              USA   \n",
       "28                                          UK, USA   \n",
       "29                                          UK, USA   \n",
       "30                                              USA   \n",
       "31                                              USA   \n",
       "32                                              USA   \n",
       "33                                              USA   \n",
       "34                         UK, USA, Hungary, Jordan   \n",
       "35                                              USA   \n",
       "36                               USA, Japan, Canada   \n",
       "37                                              USA   \n",
       "38                                          UK, USA   \n",
       "39                                   USA, Australia   \n",
       "40                                              USA   \n",
       "41                                              USA   \n",
       "42                                              USA   \n",
       "43                                China, USA, Japan   \n",
       "44                                              USA   \n",
       "45                   USA, China, France, Norway, UK   \n",
       "46                                              USA   \n",
       "47                            USA, UK, South Africa   \n",
       "48                               UK, USA, Australia   \n",
       "49                                              USA   \n",
       "50                            USA, China, UK, Japan   \n",
       "51                                          UK, USA   \n",
       "52                                              USA   \n",
       "53                                      USA, Canada   \n",
       "54                                              USA   \n",
       "55                                              USA   \n",
       "\n",
       "                                             language  \\\n",
       "0                                             English   \n",
       "1   English, German, Dutch, French, Spanish, Chine...   \n",
       "2                                             English   \n",
       "3                            English, Mandarin, Malay   \n",
       "4                          English, Japanese, Spanish   \n",
       "5                                             English   \n",
       "6                    English, Russian, Maori, Italian   \n",
       "7                                    English, Spanish   \n",
       "8                      English, British Sign Language   \n",
       "9               English, Swahili, Nama, Xhosa, Korean   \n",
       "10                                            English   \n",
       "11                                            English   \n",
       "12                                            English   \n",
       "13                                   English, Spanish   \n",
       "14                                English, Indonesian   \n",
       "15                                            English   \n",
       "16                                   English, Spanish   \n",
       "17          English, Spanish, Italian, German, French   \n",
       "18                  English, Swedish, German, Russian   \n",
       "19                                    English, Korean   \n",
       "20                                            English   \n",
       "21                                            English   \n",
       "22                                            English   \n",
       "23                                            English   \n",
       "24                                            English   \n",
       "25                     English, Thai, Arabic, Spanish   \n",
       "26                                            English   \n",
       "27                                            English   \n",
       "28                                            English   \n",
       "29                                     English, Khmer   \n",
       "30                                            English   \n",
       "31   English, German, Xhosa, Russian, Romanian, Hindi   \n",
       "32                                            English   \n",
       "33                                            English   \n",
       "34                                  English, Mandarin   \n",
       "35                                            English   \n",
       "36                                    English, French   \n",
       "37                                            English   \n",
       "38                                    English, French   \n",
       "39                                            English   \n",
       "40                                            English   \n",
       "41                   English, Japanese, Xhosa, German   \n",
       "42                                            English   \n",
       "43                          English, Russian, Spanish   \n",
       "44                                   English, Russian   \n",
       "45                                    English, French   \n",
       "46               English, Cantonese, Spanish, Russian   \n",
       "47              English, Xhosa, Zulu, French, Spanish   \n",
       "48                                    English, Arabic   \n",
       "49                            English, Italian, Czech   \n",
       "50                                    English, French   \n",
       "51              English, Russian, Ukrainian, Estonian   \n",
       "52                                            English   \n",
       "53                                            English   \n",
       "54                                   English, Chinese   \n",
       "55                                            English   \n",
       "\n",
       "                          director  ... females_30age_avg_vote  \\\n",
       "0                  Colin Trevorrow  ...                    7.2   \n",
       "1                    Patty Jenkins  ...                    7.6   \n",
       "2                   Leigh Whannell  ...                    7.1   \n",
       "3                  Ruben Fleischer  ...                    7.0   \n",
       "4                       David Ayer  ...                    6.2   \n",
       "5                       Tim Miller  ...                    7.9   \n",
       "6                        James Wan  ...                    6.9   \n",
       "7      Adil El Arbi, Bilall Fallah  ...                    6.8   \n",
       "8                     Bryan Singer  ...                    8.3   \n",
       "9                     Ryan Coogler  ...                    7.6   \n",
       "10                Francis Lawrence  ...                    6.9   \n",
       "11                     Josh Cooley  ...                    7.7   \n",
       "12  Pete Docter, Ronnie Del Carmen  ...                    8.2   \n",
       "13                       Jon Watts  ...                    7.4   \n",
       "14   Andrew Stanton, Angus MacLane  ...                    7.5   \n",
       "15                     Jake Kasdan  ...                    7.2   \n",
       "16       Kyle Balda, Pierre Coffin  ...                    6.5   \n",
       "17                      Sam Mendes  ...                    6.7   \n",
       "18           Christopher McQuarrie  ...                    7.3   \n",
       "19                     Joss Whedon  ...                    7.5   \n",
       "20                     J.J. Abrams  ...                    8.1   \n",
       "21                    Rian Johnson  ...                    7.4   \n",
       "22                     J.J. Abrams  ...                    7.2   \n",
       "23     Chris Renaud, Yarrow Cheney  ...                    6.7   \n",
       "24                     Bill Condon  ...                    7.5   \n",
       "25                       James Wan  ...                    7.4   \n",
       "26        Byron Howard, Rich Moore  ...                    8.1   \n",
       "27                     Zack Snyder  ...                    6.2   \n",
       "28                     Jon Favreau  ...                    7.4   \n",
       "29                     David Yates  ...                    7.6   \n",
       "30       Kyle Balda, Pierre Coffin  ...                    6.4   \n",
       "31        Anthony Russo, Joe Russo  ...                    7.7   \n",
       "32                   Taika Waititi  ...                    8.0   \n",
       "33                       Brad Bird  ...                    7.6   \n",
       "34                    Ridley Scott  ...                    7.9   \n",
       "35                  Gareth Edwards  ...                    7.7   \n",
       "36                     Jeff Fowler  ...                    6.7   \n",
       "37                      James Gunn  ...                    7.8   \n",
       "38                     David Yates  ...                    6.9   \n",
       "39          Anna Boden, Ryan Fleck  ...                    7.4   \n",
       "40        Anthony Russo, Joe Russo  ...                    8.3   \n",
       "41        Anthony Russo, Joe Russo  ...                    8.4   \n",
       "42        Chris Buck, Jennifer Lee  ...                    7.3   \n",
       "43                    F. Gary Gray  ...                    7.0   \n",
       "44                     J.A. Bayona  ...                    6.5   \n",
       "45           Christopher McQuarrie  ...                    7.4   \n",
       "46                    David Leitch  ...                    7.7   \n",
       "47                     Jon Favreau  ...                    7.3   \n",
       "48                     Guy Ritchie  ...                    7.3   \n",
       "49                       Jon Watts  ...                    7.6   \n",
       "50                  Stephen Gaghan  ...                    6.1   \n",
       "51               Christopher Nolan  ...                    7.7   \n",
       "52                     Dan Scanlon  ...                    7.6   \n",
       "53                   Todd Phillips  ...                    8.4   \n",
       "54                       Cathy Yan  ...                    6.6   \n",
       "55                     Jake Kasdan  ...                    6.9   \n",
       "\n",
       "   females_30age_votes females_45age_avg_vote females_45age_votes  \\\n",
       "0              32243.0                    7.3              6381.0   \n",
       "1              29053.0                    7.8              7220.0   \n",
       "2               6778.0                    7.2              1603.0   \n",
       "3              14589.0                    7.2              3063.0   \n",
       "4              27359.0                    6.4              4816.0   \n",
       "5              41239.0                    7.9              7845.0   \n",
       "6              16691.0                    7.1              4411.0   \n",
       "7               4338.0                    6.8              1149.0   \n",
       "8              29897.0                    8.6              9605.0   \n",
       "9              28085.0                    7.8              7494.0   \n",
       "10             19887.0                    7.0              3472.0   \n",
       "11              8648.0                    7.8              1761.0   \n",
       "12             39749.0                    7.9              6032.0   \n",
       "13             18078.0                    7.4              3649.0   \n",
       "14             16235.0                    7.5              2806.0   \n",
       "15             17361.0                    7.5              4739.0   \n",
       "16             15259.0                    6.8              2523.0   \n",
       "17             15754.0                    6.9              4119.0   \n",
       "18             12934.0                    7.5              3721.0   \n",
       "19             32098.0                    7.6              6703.0   \n",
       "20             35131.0                    8.1              9338.0   \n",
       "21             19903.0                    7.5              5590.0   \n",
       "22             12386.0                    7.5              3937.0   \n",
       "23             16073.0                    6.9              2913.0   \n",
       "24             27857.0                    7.7              4978.0   \n",
       "25             14055.0                    7.5              2554.0   \n",
       "26             26346.0                    8.0              3864.0   \n",
       "27             21430.0                    6.2              4196.0   \n",
       "28             15153.0                    7.7              2890.0   \n",
       "29             27685.0                    7.7              5345.0   \n",
       "30              7170.0                    6.7              1322.0   \n",
       "31             25067.0                    7.8              5251.0   \n",
       "32             26007.0                    8.1              5813.0   \n",
       "33              9953.0                    7.8              2379.0   \n",
       "34             38749.0                    8.1              8925.0   \n",
       "35             20879.0                    7.7              5387.0   \n",
       "36              2647.0                    6.6               446.0   \n",
       "37             25322.0                    7.9              5833.0   \n",
       "38             13086.0                    7.0              2614.0   \n",
       "39             18355.0                    7.6              4238.0   \n",
       "40             28096.0                    8.2              6400.0   \n",
       "41             26757.0                    8.4              6589.0   \n",
       "42              9189.0                    7.3              1606.0   \n",
       "43              6914.0                    7.1              1382.0   \n",
       "44             12893.0                    6.7              3060.0   \n",
       "45              9381.0                    7.6              3077.0   \n",
       "46             19224.0                    7.8              4035.0   \n",
       "47             11521.0                    7.5              2281.0   \n",
       "48             14462.0                    7.4              2327.0   \n",
       "49             10521.0                    7.6              2264.0   \n",
       "50              2451.0                    6.3               862.0   \n",
       "51              1608.0                    7.7               278.0   \n",
       "52              4173.0                    7.6               814.0   \n",
       "53             35220.0                    8.3              7620.0   \n",
       "54              6019.0                    6.3              1212.0   \n",
       "55             10037.0                    7.1              4394.0   \n",
       "\n",
       "    top1000_voters_rating  top1000_voters_votes us_voters_rating  \\\n",
       "0                     6.8                 762.0              7.1   \n",
       "1                     7.0                 723.0              7.7   \n",
       "2                     6.9                 373.0              7.2   \n",
       "3                     6.3                 556.0              6.6   \n",
       "4                     5.7                 740.0              5.9   \n",
       "5                     7.5                 804.0              8.1   \n",
       "6                     6.6                 594.0              6.9   \n",
       "7                     6.1                 315.0              6.7   \n",
       "8                     7.2                 609.0              7.8   \n",
       "9                     6.8                 679.0              7.6   \n",
       "10                    6.0                 567.0              6.7   \n",
       "11                    7.5                 440.0              7.8   \n",
       "12                    7.6                 679.0              8.2   \n",
       "13                    7.0                 692.0              7.6   \n",
       "14                    7.0                 542.0              7.4   \n",
       "15                    6.6                 581.0              7.1   \n",
       "16                    6.2                 495.0              6.2   \n",
       "17                    6.7                 669.0              6.8   \n",
       "18                    7.2                 683.0              7.6   \n",
       "19                    7.0                 754.0              7.4   \n",
       "20                    7.5                 799.0              8.0   \n",
       "21                    6.8                 706.0              7.1   \n",
       "22                    6.3                 513.0              6.8   \n",
       "23                    6.3                 480.0              6.5   \n",
       "24                    6.4                 521.0              7.2   \n",
       "25                    6.3                 582.0              7.2   \n",
       "26                    7.7                 644.0              8.0   \n",
       "27                    6.0                 722.0              6.3   \n",
       "28                    7.1                 581.0              7.5   \n",
       "29                    6.8                 653.0              7.3   \n",
       "30                    6.1                 403.0              6.3   \n",
       "31                    7.5                 740.0              8.0   \n",
       "32                    7.4                 708.0              8.0   \n",
       "33                    7.3                 503.0              7.8   \n",
       "34                    7.8                 779.0              8.1   \n",
       "35                    7.5                 746.0              7.9   \n",
       "36                    6.1                 277.0              6.5   \n",
       "37                    7.4                 699.0              7.7   \n",
       "38                    6.0                 456.0              6.5   \n",
       "39                    6.7                 584.0              7.0   \n",
       "40                    7.8                 695.0              8.5   \n",
       "41                    7.7                 657.0              8.5   \n",
       "42                    6.2                 330.0              6.9   \n",
       "43                    6.2                 504.0              6.7   \n",
       "44                    6.0                 568.0              6.1   \n",
       "45                    7.4                 579.0              7.9   \n",
       "46                    7.5                 627.0              7.8   \n",
       "47                    6.1                 392.0              6.6   \n",
       "48                    6.1                 429.0              6.9   \n",
       "49                    7.1                 550.0              7.7   \n",
       "50                    4.9                 212.0              5.3   \n",
       "51                    7.5                  77.0              8.0   \n",
       "52                    6.8                 285.0              7.5   \n",
       "53                    7.9                 630.0              8.2   \n",
       "54                    5.7                 386.0              6.3   \n",
       "55                    6.3                 364.0              6.8   \n",
       "\n",
       "   us_voters_votes non_us_voters_rating  non_us_voters_votes  \n",
       "0          72876.0                  6.8             217418.0  \n",
       "1          67709.0                  7.2             190337.0  \n",
       "2          15568.0                  7.0              49787.0  \n",
       "3          35509.0                  6.6             125428.0  \n",
       "4          60869.0                  5.9             203451.0  \n",
       "5          91566.0                  7.8             309504.0  \n",
       "6          38872.0                  6.8             121047.0  \n",
       "7          12297.0                  6.5              42309.0  \n",
       "8          45282.0                  7.9             161478.0  \n",
       "9          78364.0                  7.0             196556.0  \n",
       "10         30834.0                  6.4             111903.0  \n",
       "11         24115.0                  7.7              66326.0  \n",
       "12         63305.0                  8.1             224653.0  \n",
       "13         57625.0                  7.3             172006.0  \n",
       "14         30956.0                  7.2              87787.0  \n",
       "15         39089.0                  6.8             115107.0  \n",
       "16         20534.0                  6.4              86264.0  \n",
       "17         39158.0                  6.7             165475.0  \n",
       "18         38702.0                  7.3             143138.0  \n",
       "19         82079.0                  7.2             255220.0  \n",
       "20        104488.0                  7.8             297162.0  \n",
       "21         74268.0                  6.9             192305.0  \n",
       "22         45520.0                  6.5             118399.0  \n",
       "23         22123.0                  6.5              70300.0  \n",
       "24         34926.0                  7.0              93811.0  \n",
       "25         33404.0                  6.9             134603.0  \n",
       "26         47221.0                  7.9             158258.0  \n",
       "27         64578.0                  6.4             205263.0  \n",
       "28         29186.0                  7.3             104694.0  \n",
       "29         40339.0                  7.2             157146.0  \n",
       "30         11152.0                  6.2              43985.0  \n",
       "31         71823.0                  7.6             215528.0  \n",
       "32         66630.0                  7.7             193545.0  \n",
       "33         34271.0                  7.5              81582.0  \n",
       "34         77218.0                  7.9             292874.0  \n",
       "35         70466.0                  7.6             198632.0  \n",
       "36          8916.0                  6.4              26723.0  \n",
       "37         66182.0                  7.5             194686.0  \n",
       "38         20281.0                  6.5              80838.0  \n",
       "39         50209.0                  6.8             139821.0  \n",
       "40         86997.0                  8.3             255980.0  \n",
       "41         79050.0                  8.2             229246.0  \n",
       "42         16804.0                  6.8              39962.0  \n",
       "43         20021.0                  6.5              78660.0  \n",
       "44         32634.0                  6.1              97975.0  \n",
       "45         33169.0                  7.6             111894.0  \n",
       "46         51836.0                  7.6             167149.0  \n",
       "47         22006.0                  6.9              68771.0  \n",
       "48         24082.0                  6.9              75263.0  \n",
       "49         34541.0                  7.3             105610.0  \n",
       "50          4368.0                  5.5              14202.0  \n",
       "51          2670.0                  7.8              25130.0  \n",
       "52         12884.0                  7.3              25321.0  \n",
       "53         77947.0                  8.4             281183.0  \n",
       "54         16984.0                  6.0              47711.0  \n",
       "55         21870.0                  6.5              66318.0  \n",
       "\n",
       "[56 rows x 70 columns]"
      ]
     },
     "execution_count": 13,
     "metadata": {},
     "output_type": "execute_result"
    }
   ],
   "source": [
    "df_imdb"
   ]
  },
  {
   "cell_type": "code",
   "execution_count": null,
   "id": "0df3beb1",
   "metadata": {},
   "outputs": [],
   "source": []
  },
  {
   "cell_type": "markdown",
   "id": "40a4954f",
   "metadata": {},
   "source": [
    "## RQ 2.1: Sentiment and Box Office\n",
    "\n",
    "We aim at investigating whether the sentiment related to movies can be seen as correlated to the Box Office revenue related to movies. To do this we first need to account for consistency between the Box Office and the Quotebank data sets. Below we change the days/date attribute to be consistent. Furthermore, as explained in the `Quotebank_sentiment.ipynb` notebook we will use the transformer based (BERT) sentiment score from `HuggingFace`. This score was saved in the Quotebank dataframe as the probability of being positive between 0 and 1 - this is now reexpressed on a scale between -1 and 1 for being able to express negative Quotes and have a better and more intuitive representation of negative sentiment."
   ]
  },
  {
   "cell_type": "code",
   "execution_count": 14,
   "id": "6b660c0f",
   "metadata": {},
   "outputs": [],
   "source": [
    "# rename for consistency between data sets\n",
    "df_Quotebank = df_Quotebank.rename(columns={'date': 'days'})\n",
    "\n",
    "# re-express positive bert score for intuition of negative values\n",
    "df_Quotebank['positive_BERT_score'] = 2 * (df_Quotebank.positive_BERT_score - 0.5)\n",
    "df_Quotebank.positive_BERT_score\n",
    "\n",
    "# attributes of interest\n",
    "aoi = ['movie', 'days', 'BERT_label', 'multiplied_BERT', 'VADER_label', 'multiplied_VADER']"
   ]
  },
  {
   "cell_type": "markdown",
   "id": "6c401f67",
   "metadata": {},
   "source": [
    "### Multiplied daily sentiment\n",
    "As the Box Office sales are the total revenue for the movie across all movie theaters we will follow a similar approach when considering the sentiment of quotes for this research sub-question. Thus, we will multiply the daily sentiment of a quote about a movie with its number of occurrences and sum this multiplied sentiment for all quotes occuring at each date related to a movie. This approach is similar to the Box Office for which reason we find them comparable. In research (sub)question 2.2 we will use a different approach that is better related to the IMDb data set."
   ]
  },
  {
   "cell_type": "code",
   "execution_count": 15,
   "id": "ae9789dc",
   "metadata": {},
   "outputs": [],
   "source": [
    "df_Quotebank['multiplied_VADER'] = df_Quotebank.numOccurrences * df_Quotebank.VADER_score\n",
    "df_Quotebank['multiplied_BERT'] = df_Quotebank.numOccurrences * df_Quotebank.positive_BERT_score"
   ]
  },
  {
   "cell_type": "code",
   "execution_count": 16,
   "id": "24627e53",
   "metadata": {},
   "outputs": [
    {
     "data": {
      "text/html": [
       "<div>\n",
       "<style scoped>\n",
       "    .dataframe tbody tr th:only-of-type {\n",
       "        vertical-align: middle;\n",
       "    }\n",
       "\n",
       "    .dataframe tbody tr th {\n",
       "        vertical-align: top;\n",
       "    }\n",
       "\n",
       "    .dataframe thead th {\n",
       "        text-align: right;\n",
       "    }\n",
       "</style>\n",
       "<table border=\"1\" class=\"dataframe\">\n",
       "  <thead>\n",
       "    <tr style=\"text-align: right;\">\n",
       "      <th></th>\n",
       "      <th>multiplied_BERT</th>\n",
       "      <th>multiplied_VADER</th>\n",
       "    </tr>\n",
       "  </thead>\n",
       "  <tbody>\n",
       "    <tr>\n",
       "      <th>count</th>\n",
       "      <td>12717.000000</td>\n",
       "      <td>12717.000000</td>\n",
       "    </tr>\n",
       "    <tr>\n",
       "      <th>mean</th>\n",
       "      <td>3.710182</td>\n",
       "      <td>1.582479</td>\n",
       "    </tr>\n",
       "    <tr>\n",
       "      <th>std</th>\n",
       "      <td>12.279737</td>\n",
       "      <td>7.717111</td>\n",
       "    </tr>\n",
       "    <tr>\n",
       "      <th>min</th>\n",
       "      <td>-158.377222</td>\n",
       "      <td>-187.232100</td>\n",
       "    </tr>\n",
       "    <tr>\n",
       "      <th>25%</th>\n",
       "      <td>-0.930393</td>\n",
       "      <td>-0.273200</td>\n",
       "    </tr>\n",
       "    <tr>\n",
       "      <th>50%</th>\n",
       "      <td>0.999746</td>\n",
       "      <td>0.773400</td>\n",
       "    </tr>\n",
       "    <tr>\n",
       "      <th>75%</th>\n",
       "      <td>4.982895</td>\n",
       "      <td>2.752100</td>\n",
       "    </tr>\n",
       "    <tr>\n",
       "      <th>max</th>\n",
       "      <td>430.519033</td>\n",
       "      <td>128.797100</td>\n",
       "    </tr>\n",
       "  </tbody>\n",
       "</table>\n",
       "</div>"
      ],
      "text/plain": [
       "       multiplied_BERT  multiplied_VADER\n",
       "count     12717.000000      12717.000000\n",
       "mean          3.710182          1.582479\n",
       "std          12.279737          7.717111\n",
       "min        -158.377222       -187.232100\n",
       "25%          -0.930393         -0.273200\n",
       "50%           0.999746          0.773400\n",
       "75%           4.982895          2.752100\n",
       "max         430.519033        128.797100"
      ]
     },
     "execution_count": 16,
     "metadata": {},
     "output_type": "execute_result"
    }
   ],
   "source": [
    "multSum_per_day = df_Quotebank[aoi].groupby(['movie', 'days']).sum()\n",
    "multSum_per_day.describe()"
   ]
  },
  {
   "cell_type": "code",
   "execution_count": 17,
   "id": "2f74a542",
   "metadata": {},
   "outputs": [
    {
     "data": {
      "text/html": [
       "<div>\n",
       "<style scoped>\n",
       "    .dataframe tbody tr th:only-of-type {\n",
       "        vertical-align: middle;\n",
       "    }\n",
       "\n",
       "    .dataframe tbody tr th {\n",
       "        vertical-align: top;\n",
       "    }\n",
       "\n",
       "    .dataframe thead th {\n",
       "        text-align: right;\n",
       "    }\n",
       "</style>\n",
       "<table border=\"1\" class=\"dataframe\">\n",
       "  <thead>\n",
       "    <tr style=\"text-align: right;\">\n",
       "      <th></th>\n",
       "      <th></th>\n",
       "      <th>multiplied_BERT</th>\n",
       "      <th>multiplied_VADER</th>\n",
       "    </tr>\n",
       "    <tr>\n",
       "      <th>movie</th>\n",
       "      <th>days</th>\n",
       "      <th></th>\n",
       "      <th></th>\n",
       "    </tr>\n",
       "  </thead>\n",
       "  <tbody>\n",
       "    <tr>\n",
       "      <th rowspan=\"5\" valign=\"top\">Aladdin</th>\n",
       "      <th>2019-01-02</th>\n",
       "      <td>0.998775</td>\n",
       "      <td>0.9929</td>\n",
       "    </tr>\n",
       "    <tr>\n",
       "      <th>2019-01-03</th>\n",
       "      <td>1.353582</td>\n",
       "      <td>0.2732</td>\n",
       "    </tr>\n",
       "    <tr>\n",
       "      <th>2019-01-08</th>\n",
       "      <td>0.169957</td>\n",
       "      <td>0.5464</td>\n",
       "    </tr>\n",
       "    <tr>\n",
       "      <th>2019-01-13</th>\n",
       "      <td>0.999398</td>\n",
       "      <td>0.8720</td>\n",
       "    </tr>\n",
       "    <tr>\n",
       "      <th>2019-01-15</th>\n",
       "      <td>1.994038</td>\n",
       "      <td>0.9725</td>\n",
       "    </tr>\n",
       "    <tr>\n",
       "      <th>...</th>\n",
       "      <th>...</th>\n",
       "      <td>...</td>\n",
       "      <td>...</td>\n",
       "    </tr>\n",
       "    <tr>\n",
       "      <th rowspan=\"5\" valign=\"top\">Zootopia</th>\n",
       "      <th>2017-11-13</th>\n",
       "      <td>-0.965401</td>\n",
       "      <td>0.0000</td>\n",
       "    </tr>\n",
       "    <tr>\n",
       "      <th>2017-12-07</th>\n",
       "      <td>-0.034033</td>\n",
       "      <td>0.0000</td>\n",
       "    </tr>\n",
       "    <tr>\n",
       "      <th>2017-12-20</th>\n",
       "      <td>0.997421</td>\n",
       "      <td>0.6808</td>\n",
       "    </tr>\n",
       "    <tr>\n",
       "      <th>2017-12-26</th>\n",
       "      <td>0.727826</td>\n",
       "      <td>0.4404</td>\n",
       "    </tr>\n",
       "    <tr>\n",
       "      <th>2017-12-27</th>\n",
       "      <td>-0.997922</td>\n",
       "      <td>0.6880</td>\n",
       "    </tr>\n",
       "  </tbody>\n",
       "</table>\n",
       "<p>12717 rows × 2 columns</p>\n",
       "</div>"
      ],
      "text/plain": [
       "                     multiplied_BERT  multiplied_VADER\n",
       "movie    days                                         \n",
       "Aladdin  2019-01-02         0.998775            0.9929\n",
       "         2019-01-03         1.353582            0.2732\n",
       "         2019-01-08         0.169957            0.5464\n",
       "         2019-01-13         0.999398            0.8720\n",
       "         2019-01-15         1.994038            0.9725\n",
       "...                              ...               ...\n",
       "Zootopia 2017-11-13        -0.965401            0.0000\n",
       "         2017-12-07        -0.034033            0.0000\n",
       "         2017-12-20         0.997421            0.6808\n",
       "         2017-12-26         0.727826            0.4404\n",
       "         2017-12-27        -0.997922            0.6880\n",
       "\n",
       "[12717 rows x 2 columns]"
      ]
     },
     "execution_count": 17,
     "metadata": {},
     "output_type": "execute_result"
    }
   ],
   "source": [
    "multSum_per_day"
   ]
  },
  {
   "cell_type": "markdown",
   "id": "bf0a1ec8",
   "metadata": {},
   "source": [
    "We see that the summations seems to be correctly made but realize that there is much more data in the quotebank data than in the box office data. As we investigate whether the relation between sentiment of quotes correlate with the box office sales we restrict ourselves to the period for a movie determine by the airing time in the cinemas, such that we use all of the dates from the box office data but disregard quotes appearing after the movie was taken of the screen. We do this by creating a merged data frame."
   ]
  },
  {
   "cell_type": "code",
   "execution_count": 23,
   "id": "d0228d9c",
   "metadata": {},
   "outputs": [
    {
     "data": {
      "text/html": [
       "<div>\n",
       "<style scoped>\n",
       "    .dataframe tbody tr th:only-of-type {\n",
       "        vertical-align: middle;\n",
       "    }\n",
       "\n",
       "    .dataframe tbody tr th {\n",
       "        vertical-align: top;\n",
       "    }\n",
       "\n",
       "    .dataframe thead th {\n",
       "        text-align: right;\n",
       "    }\n",
       "</style>\n",
       "<table border=\"1\" class=\"dataframe\">\n",
       "  <thead>\n",
       "    <tr style=\"text-align: right;\">\n",
       "      <th></th>\n",
       "      <th>days</th>\n",
       "      <th>dow</th>\n",
       "      <th>rank</th>\n",
       "      <th>daily</th>\n",
       "      <th>theaters</th>\n",
       "      <th>movie</th>\n",
       "      <th>multiplied_BERT</th>\n",
       "      <th>multiplied_VADER</th>\n",
       "    </tr>\n",
       "  </thead>\n",
       "  <tbody>\n",
       "    <tr>\n",
       "      <th>0</th>\n",
       "      <td>2019-05-24</td>\n",
       "      <td>Friday</td>\n",
       "      <td>1</td>\n",
       "      <td>31358935.0</td>\n",
       "      <td>4476</td>\n",
       "      <td>Aladdin</td>\n",
       "      <td>21.811739</td>\n",
       "      <td>16.0772</td>\n",
       "    </tr>\n",
       "    <tr>\n",
       "      <th>1</th>\n",
       "      <td>2019-05-25</td>\n",
       "      <td>Saturday</td>\n",
       "      <td>1</td>\n",
       "      <td>30013295.0</td>\n",
       "      <td>4476</td>\n",
       "      <td>Aladdin</td>\n",
       "      <td>3.891365</td>\n",
       "      <td>3.1421</td>\n",
       "    </tr>\n",
       "    <tr>\n",
       "      <th>2</th>\n",
       "      <td>2019-05-26</td>\n",
       "      <td>Sunday</td>\n",
       "      <td>1</td>\n",
       "      <td>30128699.0</td>\n",
       "      <td>4476</td>\n",
       "      <td>Aladdin</td>\n",
       "      <td>3.029213</td>\n",
       "      <td>0.7860</td>\n",
       "    </tr>\n",
       "    <tr>\n",
       "      <th>3</th>\n",
       "      <td>2019-05-27</td>\n",
       "      <td>Monday</td>\n",
       "      <td>1</td>\n",
       "      <td>25305033.0</td>\n",
       "      <td>4476</td>\n",
       "      <td>Aladdin</td>\n",
       "      <td>4.431028</td>\n",
       "      <td>-0.5205</td>\n",
       "    </tr>\n",
       "    <tr>\n",
       "      <th>4</th>\n",
       "      <td>2019-05-28</td>\n",
       "      <td>Tuesday</td>\n",
       "      <td>1</td>\n",
       "      <td>12014982.0</td>\n",
       "      <td>4476</td>\n",
       "      <td>Aladdin</td>\n",
       "      <td>19.273443</td>\n",
       "      <td>-6.4471</td>\n",
       "    </tr>\n",
       "    <tr>\n",
       "      <th>...</th>\n",
       "      <td>...</td>\n",
       "      <td>...</td>\n",
       "      <td>...</td>\n",
       "      <td>...</td>\n",
       "      <td>...</td>\n",
       "      <td>...</td>\n",
       "      <td>...</td>\n",
       "      <td>...</td>\n",
       "    </tr>\n",
       "    <tr>\n",
       "      <th>6900</th>\n",
       "      <td>2016-07-31</td>\n",
       "      <td>Sunday</td>\n",
       "      <td>43</td>\n",
       "      <td>2144.0</td>\n",
       "      <td>24</td>\n",
       "      <td>Zootopia</td>\n",
       "      <td>NaN</td>\n",
       "      <td>NaN</td>\n",
       "    </tr>\n",
       "    <tr>\n",
       "      <th>6901</th>\n",
       "      <td>2016-08-01</td>\n",
       "      <td>Monday</td>\n",
       "      <td>43</td>\n",
       "      <td>845.0</td>\n",
       "      <td>24</td>\n",
       "      <td>Zootopia</td>\n",
       "      <td>NaN</td>\n",
       "      <td>NaN</td>\n",
       "    </tr>\n",
       "    <tr>\n",
       "      <th>6902</th>\n",
       "      <td>2016-08-02</td>\n",
       "      <td>Tuesday</td>\n",
       "      <td>43</td>\n",
       "      <td>904.0</td>\n",
       "      <td>24</td>\n",
       "      <td>Zootopia</td>\n",
       "      <td>0.986622</td>\n",
       "      <td>0.7964</td>\n",
       "    </tr>\n",
       "    <tr>\n",
       "      <th>6903</th>\n",
       "      <td>2016-08-03</td>\n",
       "      <td>Wednesday</td>\n",
       "      <td>45</td>\n",
       "      <td>865.0</td>\n",
       "      <td>24</td>\n",
       "      <td>Zootopia</td>\n",
       "      <td>NaN</td>\n",
       "      <td>NaN</td>\n",
       "    </tr>\n",
       "    <tr>\n",
       "      <th>6904</th>\n",
       "      <td>2016-08-04</td>\n",
       "      <td>Thursday</td>\n",
       "      <td>43</td>\n",
       "      <td>1622.0</td>\n",
       "      <td>24</td>\n",
       "      <td>Zootopia</td>\n",
       "      <td>NaN</td>\n",
       "      <td>NaN</td>\n",
       "    </tr>\n",
       "  </tbody>\n",
       "</table>\n",
       "<p>6905 rows × 8 columns</p>\n",
       "</div>"
      ],
      "text/plain": [
       "            days        dow  rank       daily  theaters     movie  \\\n",
       "0     2019-05-24     Friday     1  31358935.0      4476   Aladdin   \n",
       "1     2019-05-25   Saturday     1  30013295.0      4476   Aladdin   \n",
       "2     2019-05-26     Sunday     1  30128699.0      4476   Aladdin   \n",
       "3     2019-05-27     Monday     1  25305033.0      4476   Aladdin   \n",
       "4     2019-05-28    Tuesday     1  12014982.0      4476   Aladdin   \n",
       "...          ...        ...   ...         ...       ...       ...   \n",
       "6900  2016-07-31     Sunday    43      2144.0        24  Zootopia   \n",
       "6901  2016-08-01     Monday    43       845.0        24  Zootopia   \n",
       "6902  2016-08-02    Tuesday    43       904.0        24  Zootopia   \n",
       "6903  2016-08-03  Wednesday    45       865.0        24  Zootopia   \n",
       "6904  2016-08-04   Thursday    43      1622.0        24  Zootopia   \n",
       "\n",
       "      multiplied_BERT  multiplied_VADER  \n",
       "0           21.811739           16.0772  \n",
       "1            3.891365            3.1421  \n",
       "2            3.029213            0.7860  \n",
       "3            4.431028           -0.5205  \n",
       "4           19.273443           -6.4471  \n",
       "...               ...               ...  \n",
       "6900              NaN               NaN  \n",
       "6901              NaN               NaN  \n",
       "6902         0.986622            0.7964  \n",
       "6903              NaN               NaN  \n",
       "6904              NaN               NaN  \n",
       "\n",
       "[6905 rows x 8 columns]"
      ]
     },
     "execution_count": 23,
     "metadata": {},
     "output_type": "execute_result"
    }
   ],
   "source": [
    "merged_df = df_boxOffice.drop('special events', axis=1).merge(multSum_per_day, on=['movie', 'days'], how='left')\n",
    "merged_df"
   ]
  },
  {
   "cell_type": "code",
   "execution_count": 29,
   "id": "05ac749c",
   "metadata": {},
   "outputs": [
    {
     "data": {
      "text/plain": [
       "days                False\n",
       "dow                 False\n",
       "rank                False\n",
       "daily               False\n",
       "theaters            False\n",
       "movie               False\n",
       "multiplied_BERT      True\n",
       "multiplied_VADER     True\n",
       "dtype: bool"
      ]
     },
     "execution_count": 29,
     "metadata": {},
     "output_type": "execute_result"
    }
   ],
   "source": [
    "merged_df.isnull().any()"
   ]
  },
  {
   "cell_type": "markdown",
   "id": "e38bb080",
   "metadata": {},
   "source": [
    "So this reveals that some of the days for which box office data is available does not have an associated sentiment score, meaning that no quotes about the movie occured this day. We do not regard these as outliers and choose to apply a neutral sentiment score (equal to zero) to these days having a `NaN`-value as sentiment."
   ]
  },
  {
   "cell_type": "code",
   "execution_count": 30,
   "id": "21ba9b64",
   "metadata": {},
   "outputs": [
    {
     "data": {
      "text/html": [
       "<div>\n",
       "<style scoped>\n",
       "    .dataframe tbody tr th:only-of-type {\n",
       "        vertical-align: middle;\n",
       "    }\n",
       "\n",
       "    .dataframe tbody tr th {\n",
       "        vertical-align: top;\n",
       "    }\n",
       "\n",
       "    .dataframe thead th {\n",
       "        text-align: right;\n",
       "    }\n",
       "</style>\n",
       "<table border=\"1\" class=\"dataframe\">\n",
       "  <thead>\n",
       "    <tr style=\"text-align: right;\">\n",
       "      <th></th>\n",
       "      <th>days</th>\n",
       "      <th>dow</th>\n",
       "      <th>rank</th>\n",
       "      <th>daily</th>\n",
       "      <th>theaters</th>\n",
       "      <th>movie</th>\n",
       "      <th>multiplied_BERT</th>\n",
       "      <th>multiplied_VADER</th>\n",
       "    </tr>\n",
       "  </thead>\n",
       "  <tbody>\n",
       "    <tr>\n",
       "      <th>0</th>\n",
       "      <td>2019-05-24</td>\n",
       "      <td>Friday</td>\n",
       "      <td>1</td>\n",
       "      <td>31358935.0</td>\n",
       "      <td>4476</td>\n",
       "      <td>Aladdin</td>\n",
       "      <td>21.811739</td>\n",
       "      <td>16.0772</td>\n",
       "    </tr>\n",
       "    <tr>\n",
       "      <th>1</th>\n",
       "      <td>2019-05-25</td>\n",
       "      <td>Saturday</td>\n",
       "      <td>1</td>\n",
       "      <td>30013295.0</td>\n",
       "      <td>4476</td>\n",
       "      <td>Aladdin</td>\n",
       "      <td>3.891365</td>\n",
       "      <td>3.1421</td>\n",
       "    </tr>\n",
       "    <tr>\n",
       "      <th>2</th>\n",
       "      <td>2019-05-26</td>\n",
       "      <td>Sunday</td>\n",
       "      <td>1</td>\n",
       "      <td>30128699.0</td>\n",
       "      <td>4476</td>\n",
       "      <td>Aladdin</td>\n",
       "      <td>3.029213</td>\n",
       "      <td>0.7860</td>\n",
       "    </tr>\n",
       "    <tr>\n",
       "      <th>3</th>\n",
       "      <td>2019-05-27</td>\n",
       "      <td>Monday</td>\n",
       "      <td>1</td>\n",
       "      <td>25305033.0</td>\n",
       "      <td>4476</td>\n",
       "      <td>Aladdin</td>\n",
       "      <td>4.431028</td>\n",
       "      <td>-0.5205</td>\n",
       "    </tr>\n",
       "    <tr>\n",
       "      <th>4</th>\n",
       "      <td>2019-05-28</td>\n",
       "      <td>Tuesday</td>\n",
       "      <td>1</td>\n",
       "      <td>12014982.0</td>\n",
       "      <td>4476</td>\n",
       "      <td>Aladdin</td>\n",
       "      <td>19.273443</td>\n",
       "      <td>-6.4471</td>\n",
       "    </tr>\n",
       "    <tr>\n",
       "      <th>...</th>\n",
       "      <td>...</td>\n",
       "      <td>...</td>\n",
       "      <td>...</td>\n",
       "      <td>...</td>\n",
       "      <td>...</td>\n",
       "      <td>...</td>\n",
       "      <td>...</td>\n",
       "      <td>...</td>\n",
       "    </tr>\n",
       "    <tr>\n",
       "      <th>6900</th>\n",
       "      <td>2016-07-31</td>\n",
       "      <td>Sunday</td>\n",
       "      <td>43</td>\n",
       "      <td>2144.0</td>\n",
       "      <td>24</td>\n",
       "      <td>Zootopia</td>\n",
       "      <td>0.000000</td>\n",
       "      <td>0.0000</td>\n",
       "    </tr>\n",
       "    <tr>\n",
       "      <th>6901</th>\n",
       "      <td>2016-08-01</td>\n",
       "      <td>Monday</td>\n",
       "      <td>43</td>\n",
       "      <td>845.0</td>\n",
       "      <td>24</td>\n",
       "      <td>Zootopia</td>\n",
       "      <td>0.000000</td>\n",
       "      <td>0.0000</td>\n",
       "    </tr>\n",
       "    <tr>\n",
       "      <th>6902</th>\n",
       "      <td>2016-08-02</td>\n",
       "      <td>Tuesday</td>\n",
       "      <td>43</td>\n",
       "      <td>904.0</td>\n",
       "      <td>24</td>\n",
       "      <td>Zootopia</td>\n",
       "      <td>0.986622</td>\n",
       "      <td>0.7964</td>\n",
       "    </tr>\n",
       "    <tr>\n",
       "      <th>6903</th>\n",
       "      <td>2016-08-03</td>\n",
       "      <td>Wednesday</td>\n",
       "      <td>45</td>\n",
       "      <td>865.0</td>\n",
       "      <td>24</td>\n",
       "      <td>Zootopia</td>\n",
       "      <td>0.000000</td>\n",
       "      <td>0.0000</td>\n",
       "    </tr>\n",
       "    <tr>\n",
       "      <th>6904</th>\n",
       "      <td>2016-08-04</td>\n",
       "      <td>Thursday</td>\n",
       "      <td>43</td>\n",
       "      <td>1622.0</td>\n",
       "      <td>24</td>\n",
       "      <td>Zootopia</td>\n",
       "      <td>0.000000</td>\n",
       "      <td>0.0000</td>\n",
       "    </tr>\n",
       "  </tbody>\n",
       "</table>\n",
       "<p>6905 rows × 8 columns</p>\n",
       "</div>"
      ],
      "text/plain": [
       "            days        dow  rank       daily  theaters     movie  \\\n",
       "0     2019-05-24     Friday     1  31358935.0      4476   Aladdin   \n",
       "1     2019-05-25   Saturday     1  30013295.0      4476   Aladdin   \n",
       "2     2019-05-26     Sunday     1  30128699.0      4476   Aladdin   \n",
       "3     2019-05-27     Monday     1  25305033.0      4476   Aladdin   \n",
       "4     2019-05-28    Tuesday     1  12014982.0      4476   Aladdin   \n",
       "...          ...        ...   ...         ...       ...       ...   \n",
       "6900  2016-07-31     Sunday    43      2144.0        24  Zootopia   \n",
       "6901  2016-08-01     Monday    43       845.0        24  Zootopia   \n",
       "6902  2016-08-02    Tuesday    43       904.0        24  Zootopia   \n",
       "6903  2016-08-03  Wednesday    45       865.0        24  Zootopia   \n",
       "6904  2016-08-04   Thursday    43      1622.0        24  Zootopia   \n",
       "\n",
       "      multiplied_BERT  multiplied_VADER  \n",
       "0           21.811739           16.0772  \n",
       "1            3.891365            3.1421  \n",
       "2            3.029213            0.7860  \n",
       "3            4.431028           -0.5205  \n",
       "4           19.273443           -6.4471  \n",
       "...               ...               ...  \n",
       "6900         0.000000            0.0000  \n",
       "6901         0.000000            0.0000  \n",
       "6902         0.986622            0.7964  \n",
       "6903         0.000000            0.0000  \n",
       "6904         0.000000            0.0000  \n",
       "\n",
       "[6905 rows x 8 columns]"
      ]
     },
     "execution_count": 30,
     "metadata": {},
     "output_type": "execute_result"
    }
   ],
   "source": [
    "merged_df.fillna(0, inplace=True)\n",
    "merged_df"
   ]
  },
  {
   "cell_type": "code",
   "execution_count": 31,
   "id": "87d43f9a",
   "metadata": {},
   "outputs": [
    {
     "data": {
      "text/plain": [
       "days                False\n",
       "dow                 False\n",
       "rank                False\n",
       "daily               False\n",
       "theaters            False\n",
       "movie               False\n",
       "multiplied_BERT     False\n",
       "multiplied_VADER    False\n",
       "dtype: bool"
      ]
     },
     "execution_count": 31,
     "metadata": {},
     "output_type": "execute_result"
    }
   ],
   "source": [
    "merged_df.isnull().any()"
   ]
  },
  {
   "cell_type": "markdown",
   "id": "92e07995",
   "metadata": {},
   "source": [
    "As we want to investigate whether the trend of high sentiment of quotes correlating with high box office revenue we sum the sentiment and box office time series data over all dates (of airing time) for each movie. A snippet is seen below."
   ]
  },
  {
   "cell_type": "code",
   "execution_count": 32,
   "id": "adace116",
   "metadata": {},
   "outputs": [
    {
     "data": {
      "text/html": [
       "<div>\n",
       "<style scoped>\n",
       "    .dataframe tbody tr th:only-of-type {\n",
       "        vertical-align: middle;\n",
       "    }\n",
       "\n",
       "    .dataframe tbody tr th {\n",
       "        vertical-align: top;\n",
       "    }\n",
       "\n",
       "    .dataframe thead th {\n",
       "        text-align: right;\n",
       "    }\n",
       "</style>\n",
       "<table border=\"1\" class=\"dataframe\">\n",
       "  <thead>\n",
       "    <tr style=\"text-align: right;\">\n",
       "      <th></th>\n",
       "      <th>rank</th>\n",
       "      <th>daily</th>\n",
       "      <th>theaters</th>\n",
       "      <th>multiplied_BERT</th>\n",
       "      <th>multiplied_VADER</th>\n",
       "    </tr>\n",
       "    <tr>\n",
       "      <th>movie</th>\n",
       "      <th></th>\n",
       "      <th></th>\n",
       "      <th></th>\n",
       "      <th></th>\n",
       "      <th></th>\n",
       "    </tr>\n",
       "  </thead>\n",
       "  <tbody>\n",
       "    <tr>\n",
       "      <th>Aladdin</th>\n",
       "      <td>2485</td>\n",
       "      <td>355559216.0</td>\n",
       "      <td>249321</td>\n",
       "      <td>90.238282</td>\n",
       "      <td>143.4030</td>\n",
       "    </tr>\n",
       "    <tr>\n",
       "      <th>Aquaman</th>\n",
       "      <td>1266</td>\n",
       "      <td>335061807.0</td>\n",
       "      <td>222107</td>\n",
       "      <td>185.882581</td>\n",
       "      <td>229.8329</td>\n",
       "    </tr>\n",
       "    <tr>\n",
       "      <th>Avengers: Age of Ultron</th>\n",
       "      <td>551</td>\n",
       "      <td>455530367.0</td>\n",
       "      <td>196219</td>\n",
       "      <td>79.099213</td>\n",
       "      <td>88.9659</td>\n",
       "    </tr>\n",
       "    <tr>\n",
       "      <th>Avengers: Endgame</th>\n",
       "      <td>2014</td>\n",
       "      <td>858373000.0</td>\n",
       "      <td>264340</td>\n",
       "      <td>177.828269</td>\n",
       "      <td>253.7383</td>\n",
       "    </tr>\n",
       "    <tr>\n",
       "      <th>Avengers: Infinity War</th>\n",
       "      <td>2399</td>\n",
       "      <td>678815482.0</td>\n",
       "      <td>240842</td>\n",
       "      <td>556.993335</td>\n",
       "      <td>323.5690</td>\n",
       "    </tr>\n",
       "  </tbody>\n",
       "</table>\n",
       "</div>"
      ],
      "text/plain": [
       "                         rank        daily  theaters  multiplied_BERT  \\\n",
       "movie                                                                   \n",
       "Aladdin                  2485  355559216.0    249321        90.238282   \n",
       "Aquaman                  1266  335061807.0    222107       185.882581   \n",
       "Avengers: Age of Ultron   551  455530367.0    196219        79.099213   \n",
       "Avengers: Endgame        2014  858373000.0    264340       177.828269   \n",
       "Avengers: Infinity War   2399  678815482.0    240842       556.993335   \n",
       "\n",
       "                         multiplied_VADER  \n",
       "movie                                      \n",
       "Aladdin                          143.4030  \n",
       "Aquaman                          229.8329  \n",
       "Avengers: Age of Ultron           88.9659  \n",
       "Avengers: Endgame                253.7383  \n",
       "Avengers: Infinity War           323.5690  "
      ]
     },
     "execution_count": 32,
     "metadata": {},
     "output_type": "execute_result"
    }
   ],
   "source": [
    "merged_df.groupby('movie').sum().head()"
   ]
  },
  {
   "cell_type": "markdown",
   "id": "3d7f7c19",
   "metadata": {},
   "source": [
    "Similarly to our approach in RQ1 we start by investigating whether there is a tendency on the movie level. We try to model the sum of daily box office income with the predictor being the sum of summed daily sentiment from quotes to see if the sentiment affect the daily income."
   ]
  },
  {
   "cell_type": "code",
   "execution_count": 33,
   "id": "0b81161e",
   "metadata": {},
   "outputs": [
    {
     "name": "stdout",
     "output_type": "stream",
     "text": [
      "                            OLS Regression Results                            \n",
      "==============================================================================\n",
      "Dep. Variable:                  daily   R-squared:                       0.155\n",
      "Model:                            OLS   Adj. R-squared:                  0.139\n",
      "Method:                 Least Squares   F-statistic:                     9.884\n",
      "Date:                Mon, 13 Dec 2021   Prob (F-statistic):            0.00271\n",
      "Time:                        11:46:35   Log-Likelihood:                -1140.6\n",
      "No. Observations:                  56   AIC:                             2285.\n",
      "Df Residuals:                      54   BIC:                             2289.\n",
      "Df Model:                           1                                         \n",
      "Covariance Type:            nonrobust                                         \n",
      "===================================================================================\n",
      "                      coef    std err          t      P>|t|      [0.025      0.975]\n",
      "-----------------------------------------------------------------------------------\n",
      "Intercept        3.298e+08   2.56e+07     12.874      0.000    2.78e+08    3.81e+08\n",
      "multiplied_BERT  1.955e+05   6.22e+04      3.144      0.003    7.08e+04     3.2e+05\n",
      "==============================================================================\n",
      "Omnibus:                        5.575   Durbin-Watson:                   1.590\n",
      "Prob(Omnibus):                  0.062   Jarque-Bera (JB):                4.535\n",
      "Skew:                           0.598   Prob(JB):                        0.104\n",
      "Kurtosis:                       3.717   Cond. No.                         457.\n",
      "==============================================================================\n",
      "\n",
      "Notes:\n",
      "[1] Standard Errors assume that the covariance matrix of the errors is correctly specified.\n"
     ]
    }
   ],
   "source": [
    "mod = smf.ols(formula='daily ~ multiplied_BERT', data=merged_df.groupby('movie').sum())\n",
    "res = mod.fit()\n",
    "print(res.summary())"
   ]
  },
  {
   "cell_type": "markdown",
   "id": "13fc52e4",
   "metadata": {},
   "source": [
    "As we see, the p-value is lower than our significance level of 5% and it can therefore be said that the total sentiment is a significant predictor when it comes to predicting the total box office revenue. From the coefficient we see that there is a positive correlation between the multiplied BERT score and the overall box office sales. However, we see from the R^2 score that the fitted model is not super good, which is also visualized in the figure below."
   ]
  },
  {
   "cell_type": "code",
   "execution_count": 34,
   "id": "f6f9ee48",
   "metadata": {},
   "outputs": [
    {
     "data": {
      "image/png": "[encoded data removed]",
      "text/plain": [
       "<Figure size 720x720 with 1 Axes>"
      ]
     },
     "metadata": {
      "needs_background": "light"
     },
     "output_type": "display_data"
    }
   ],
   "source": [
    "plt.figure(figsize = (10,10))\n",
    "sns.regplot(data=merged_df.groupby('movie').sum(), x='multiplied_BERT', y='daily',\n",
    "            line_kws = {'color': 'C1'},\n",
    "            scatter_kws = {'color': 'C0', 'alpha': 0.3})\n",
    "plt.show()"
   ]
  },
  {
   "cell_type": "markdown",
   "id": "7843b658",
   "metadata": {},
   "source": [
    "As the fitted regression is not super good when not encountering the time-series of the box office and sentiment, we choose to try a different approach (as in RQ1). We will analyze movies independently and instead investigate whether box office can be seen as being Granger causal from the multiplied sentiment scores. An example of the time series (box office and sentimennt) related to Avengers: Endgame is visualized below."
   ]
  },
  {
   "cell_type": "code",
   "execution_count": 35,
   "id": "474b7935",
   "metadata": {},
   "outputs": [
    {
     "data": {
      "image/png": "[encoded data removed]",
      "text/plain": [
       "<Figure size 1440x720 with 2 Axes>"
      ]
     },
     "metadata": {
      "needs_background": "light"
     },
     "output_type": "display_data"
    }
   ],
   "source": [
    "fig, ax = plt.subplots(ncols=1, nrows=2, figsize=(20,10))\n",
    "ax[0].set(title='Tme series distribution of daily box office and sentiment: \"Avengers: Endgame\"')\n",
    "sns.lineplot(x='days', y='multiplied_BERT', data=merged_df[merged_df.movie=='Avengers: Endgame'], ax=ax[0])\n",
    "sns.lineplot(x='days', y='daily', data=merged_df[merged_df.movie=='Avengers: Endgame'], ax=ax[1], color='red')\n",
    "plt.show()"
   ]
  },
  {
   "cell_type": "markdown",
   "id": "86a95137",
   "metadata": {},
   "source": [
    "We will apply the Granger causality test to all the movies to check whether there is a significant relation (that box office can be seen as being caused by sentiment, following granger terms) between box office sales and the sentiment score when analyzing time series on the individual movie level. We use the same code as in RQ1 but adjust the maximum lag to 3 as we are using the test on all movies, where some movies do not have as much time-points as others. In fact, some movies - like \"Spider-Man: Homecoming\" - has no sentiment attached to it for all days where it was airing in the cinemas, for which reason we try out the Granger approach and only compute it for movies that have a sufficient amount of quotes per box office day."
   ]
  },
  {
   "cell_type": "code",
   "execution_count": 107,
   "id": "d0d4bf7c",
   "metadata": {},
   "outputs": [],
   "source": [
    "from statsmodels.tsa.stattools import grangercausalitytests\n",
    "\n",
    "maxlag=3\n",
    "test = 'ssr_chi2test'\n",
    "\n",
    "# code found here: https://towardsdatascience.com/a-quick-introduction-on-granger-causality-testing-for-time-series-analysis-7113dc9420d2\n",
    "\n",
    "def grangers_causation_matrix(data, variables, test='ssr_chi2test', verbose=False):    \n",
    "   \n",
    "    df = pd.DataFrame(np.zeros((len(variables), len(variables))), columns=variables, index=variables)\n",
    "    for c in df.columns:\n",
    "        for r in df.index:\n",
    "            test_result = grangercausalitytests(data[[r, c]], maxlag=maxlag, verbose=False)\n",
    "            p_values = [round(test_result[i+1][0][test][1],4) for i in range(maxlag)]\n",
    "            if verbose: print(f'Y = {r}, X = {c}, P Values = {p_values}')\n",
    "            min_p_value = np.min(p_values)\n",
    "            df.loc[r, c] = min_p_value\n",
    "    df.columns = [var + '_x' for var in variables]\n",
    "    df.index = [var + '_y' for var in variables]\n",
    "    return df"
   ]
  },
  {
   "cell_type": "code",
   "execution_count": 180,
   "id": "afb78dc6",
   "metadata": {},
   "outputs": [
    {
     "name": "stdout",
     "output_type": "stream",
     "text": [
      "\n",
      " Aladdin\n",
      "Y = daily, X = daily, P Values = [1.0, 1.0, 1.0]\n",
      "Y = multiplied_BERT, X = daily, P Values = [0.2173, 0.0472, 0.3145]\n",
      "Y = daily, X = multiplied_BERT, P Values = [0.4509, 0.7732, 0.0007]\n",
      "Y = multiplied_BERT, X = multiplied_BERT, P Values = [1.0, 1.0, 1.0]\n",
      "\n",
      " Aquaman\n",
      "Y = daily, X = daily, P Values = [1.0, 1.0, 1.0]\n",
      "Y = multiplied_BERT, X = daily, P Values = [0.8315, 0.442, 0.342]\n",
      "Y = daily, X = multiplied_BERT, P Values = [0.0054, 0.0026, 0.7936]\n",
      "Y = multiplied_BERT, X = multiplied_BERT, P Values = [1.0, 1.0, 1.0]\n",
      "\n",
      " Avengers: Age of Ultron\n",
      "Y = daily, X = daily, P Values = [1.0, 1.0, 1.0]\n",
      "Y = multiplied_BERT, X = daily, P Values = [0.4434, 0.3391, 0.2897]\n",
      "Y = daily, X = multiplied_BERT, P Values = [0.4547, 0.108, 0.1952]\n",
      "Y = multiplied_BERT, X = multiplied_BERT, P Values = [1.0, 1.0, 1.0]\n",
      "\n",
      " Avengers: Endgame\n",
      "Y = daily, X = daily, P Values = [1.0, 1.0, 1.0]\n",
      "Y = multiplied_BERT, X = daily, P Values = [0.5781, 0.0069, 0.0006]\n",
      "Y = daily, X = multiplied_BERT, P Values = [0.3847, 0.0056, 0.0002]\n",
      "Y = multiplied_BERT, X = multiplied_BERT, P Values = [1.0, 1.0, 1.0]\n",
      "\n",
      " Avengers: Infinity War\n",
      "Y = daily, X = daily, P Values = [1.0, 1.0, 1.0]\n",
      "Y = multiplied_BERT, X = daily, P Values = [0.2128, 0.5558, 0.0237]\n",
      "Y = daily, X = multiplied_BERT, P Values = [0.2364, 0.4645, 0.2322]\n",
      "Y = multiplied_BERT, X = multiplied_BERT, P Values = [1.0, 1.0, 1.0]\n",
      "\n",
      " Bad Boys for Life\n",
      "Y = daily, X = daily, P Values = [1.0, 1.0, 1.0]\n",
      "Y = multiplied_BERT, X = daily, P Values = [0.0008, 0.0, 0.1013]\n",
      "Y = daily, X = multiplied_BERT, P Values = [0.0337, 0.2618, 0.5885]\n",
      "Y = multiplied_BERT, X = multiplied_BERT, P Values = [1.0, 1.0, 1.0]\n",
      "\n",
      " Batman v Superman: Dawn of Justice\n",
      "Y = daily, X = daily, P Values = [1.0, 1.0, 1.0]\n",
      "Y = multiplied_BERT, X = daily, P Values = [0.7117, 0.816, 0.887]\n",
      "Y = daily, X = multiplied_BERT, P Values = [0.8811, 0.938, 0.9595]\n",
      "Y = multiplied_BERT, X = multiplied_BERT, P Values = [1.0, 1.0, 1.0]\n",
      "\n",
      " Beauty and the Beast\n",
      "Y = daily, X = daily, P Values = [1.0, 1.0, 1.0]\n",
      "Y = multiplied_BERT, X = daily, P Values = [0.0005, 0.0003, 0.021]\n",
      "Y = daily, X = multiplied_BERT, P Values = [0.3897, 0.061, 0.0511]\n",
      "Y = multiplied_BERT, X = multiplied_BERT, P Values = [1.0, 1.0, 1.0]\n",
      "\n",
      " Birds of Prey: And the Fantabulous Emancipation of One Harley Quinn\n",
      "Y = daily, X = daily, P Values = [1.0, 1.0, 1.0]\n",
      "Y = multiplied_BERT, X = daily, P Values = [0.1122, 0.2761, 0.3154]\n",
      "Y = daily, X = multiplied_BERT, P Values = [0.4761, 0.9305, 0.8789]\n",
      "Y = multiplied_BERT, X = multiplied_BERT, P Values = [1.0, 1.0, 1.0]\n",
      "\n",
      " Black Panther\n",
      "Y = daily, X = daily, P Values = [1.0, 1.0, 1.0]\n",
      "Y = multiplied_BERT, X = daily, P Values = [0.0, 0.0, 0.0]\n",
      "Y = daily, X = multiplied_BERT, P Values = [0.1349, 0.0, 0.0]\n",
      "Y = multiplied_BERT, X = multiplied_BERT, P Values = [1.0, 1.0, 1.0]\n",
      "\n",
      " Bohemian Rhapsody\n",
      "Y = daily, X = daily, P Values = [1.0, 1.0, 1.0]\n",
      "Y = multiplied_BERT, X = daily, P Values = [0.9688, 0.8499, 0.7419]\n",
      "Y = daily, X = multiplied_BERT, P Values = [0.7116, 0.9022, 0.884]\n",
      "Y = multiplied_BERT, X = multiplied_BERT, P Values = [1.0, 1.0, 1.0]\n",
      "\n",
      " Captain America: Civil War\n",
      "Y = daily, X = daily, P Values = [1.0, 1.0, 1.0]\n",
      "Y = multiplied_BERT, X = daily, P Values = [0.939, 0.4446, 0.5429]\n",
      "Y = daily, X = multiplied_BERT, P Values = [0.0378, 0.3667, 0.0071]\n",
      "Y = multiplied_BERT, X = multiplied_BERT, P Values = [1.0, 1.0, 1.0]\n",
      "\n",
      " Captain Marvel\n",
      "Y = daily, X = daily, P Values = [1.0, 1.0, 1.0]\n",
      "Y = multiplied_BERT, X = daily, P Values = [0.0034, 0.0042, 0.0247]\n",
      "Y = daily, X = multiplied_BERT, P Values = [0.0055, 0.1203, 0.0011]\n",
      "Y = multiplied_BERT, X = multiplied_BERT, P Values = [1.0, 1.0, 1.0]\n",
      "\n",
      " Deadpool 2\n",
      "Y = daily, X = daily, P Values = [1.0, 1.0, 1.0]\n",
      "Y = multiplied_BERT, X = daily, P Values = [0.4475, 0.0002, 0.0004]\n",
      "Y = daily, X = multiplied_BERT, P Values = [0.4244, 0.1773, 0.7753]\n",
      "Y = multiplied_BERT, X = multiplied_BERT, P Values = [1.0, 1.0, 1.0]\n",
      "\n",
      " Deadpool\n",
      "Y = daily, X = daily, P Values = [1.0, 1.0, 1.0]\n",
      "Y = multiplied_BERT, X = daily, P Values = [0.0, 0.0035, 0.0038]\n",
      "Y = daily, X = multiplied_BERT, P Values = [0.871, 0.0, 0.0]\n",
      "Y = multiplied_BERT, X = multiplied_BERT, P Values = [1.0, 1.0, 1.0]\n",
      "\n",
      " Despicable Me 3\n",
      "Y = daily, X = daily, P Values = [1.0, 1.0, 1.0]\n",
      "Y = multiplied_BERT, X = daily, P Values = [0.786, 0.5431, 0.6536]\n",
      "Y = daily, X = multiplied_BERT, P Values = [0.477, 0.7699, 0.9633]\n",
      "Y = multiplied_BERT, X = multiplied_BERT, P Values = [1.0, 1.0, 1.0]\n",
      "\n",
      " Dolittle\n",
      "Y = daily, X = daily, P Values = [1.0, 1.0, 1.0]\n",
      "Y = multiplied_BERT, X = daily, P Values = [0.7037, 0.8452, 0.3002]\n",
      "Y = daily, X = multiplied_BERT, P Values = [0.2337, 0.7049, 0.0424]\n",
      "Y = multiplied_BERT, X = multiplied_BERT, P Values = [1.0, 1.0, 1.0]\n",
      "\n",
      " Fantastic Beasts and Where to Find Them\n",
      "Y = daily, X = daily, P Values = [1.0, 1.0, 1.0]\n",
      "Y = multiplied_BERT, X = daily, P Values = [0.9751, 0.234, 0.3285]\n",
      "Y = daily, X = multiplied_BERT, P Values = [0.9264, 0.9173, 0.5432]\n",
      "Y = multiplied_BERT, X = multiplied_BERT, P Values = [1.0, 1.0, 1.0]\n",
      "\n",
      " Fantastic Beasts: The Crimes of Grindelwald\n",
      "Y = daily, X = daily, P Values = [1.0, 1.0, 1.0]\n",
      "Y = multiplied_BERT, X = daily, P Values = [0.0978, 0.0013, 0.5144]\n",
      "Y = daily, X = multiplied_BERT, P Values = [0.0, 0.0, 0.0]\n",
      "Y = multiplied_BERT, X = multiplied_BERT, P Values = [1.0, 1.0, 1.0]\n",
      "\n",
      " Finding Dory\n",
      "Y = daily, X = daily, P Values = [1.0, 1.0, 1.0]\n",
      "Y = multiplied_BERT, X = daily, P Values = [0.8866, 0.9682, 0.9697]\n",
      "Y = daily, X = multiplied_BERT, P Values = [0.7817, 0.9362, 0.9603]\n",
      "Y = multiplied_BERT, X = multiplied_BERT, P Values = [1.0, 1.0, 1.0]\n",
      "\n",
      " Frozen II\n",
      "Y = daily, X = daily, P Values = [1.0, 1.0, 1.0]\n",
      "Y = multiplied_BERT, X = daily, P Values = [0.9181, 0.4006, 0.5109]\n",
      "Y = daily, X = multiplied_BERT, P Values = [0.7505, 0.9601, 0.9565]\n",
      "Y = multiplied_BERT, X = multiplied_BERT, P Values = [1.0, 1.0, 1.0]\n",
      "\n",
      " Fast & Furious 7\n",
      "Y = daily, X = daily, P Values = [1.0, 1.0, 1.0]\n",
      "Y = multiplied_BERT, X = daily, P Values = [0.0, 0.0001, 0.002]\n",
      "Y = daily, X = multiplied_BERT, P Values = [0.2018, 0.0022, 0.0]\n",
      "Y = multiplied_BERT, X = multiplied_BERT, P Values = [1.0, 1.0, 1.0]\n",
      "\n",
      " Guardians of the Galaxy Vol. 2\n",
      "Y = daily, X = daily, P Values = [1.0, 1.0, 1.0]\n",
      "Y = multiplied_BERT, X = daily, P Values = [0.9338, 0.7208, 0.0092]\n",
      "Y = daily, X = multiplied_BERT, P Values = [0.0011, 0.0286, 0.0182]\n",
      "Y = multiplied_BERT, X = multiplied_BERT, P Values = [1.0, 1.0, 1.0]\n",
      "\n",
      " Incredibles 2\n",
      "Y = daily, X = daily, P Values = [1.0, 1.0, 1.0]\n",
      "Y = multiplied_BERT, X = daily, P Values = [0.5299, 0.0, 0.0]\n",
      "Y = daily, X = multiplied_BERT, P Values = [0.0601, 0.3502, 0.0025]\n",
      "Y = multiplied_BERT, X = multiplied_BERT, P Values = [1.0, 1.0, 1.0]\n",
      "\n",
      " Inside Out\n",
      "Y = daily, X = daily, P Values = [1.0, 1.0, 1.0]\n",
      "Y = multiplied_BERT, X = daily, P Values = [0.7963, 0.6049, 0.8527]\n",
      "Y = daily, X = multiplied_BERT, P Values = [0.2732, 0.9166, 0.001]\n",
      "Y = multiplied_BERT, X = multiplied_BERT, P Values = [1.0, 1.0, 1.0]\n",
      "\n",
      " Joker\n",
      "Y = daily, X = daily, P Values = [1.0, 1.0, 1.0]\n",
      "Y = multiplied_BERT, X = daily, P Values = [0.0009, 0.0778, 0.0014]\n",
      "Y = daily, X = multiplied_BERT, P Values = [0.0801, 0.05, 0.0232]\n",
      "Y = multiplied_BERT, X = multiplied_BERT, P Values = [1.0, 1.0, 1.0]\n",
      "\n",
      " Jumanji: The Next Level\n",
      "Y = daily, X = daily, P Values = [1.0, 1.0, 1.0]\n",
      "Y = multiplied_BERT, X = daily, P Values = [0.0646, 0.5329, 0.0663]\n",
      "Y = daily, X = multiplied_BERT, P Values = [0.1185, 0.1791, 0.0005]\n",
      "Y = multiplied_BERT, X = multiplied_BERT, P Values = [1.0, 1.0, 1.0]\n",
      "\n",
      " Jumanji: Welcome to the Jungle\n",
      "Y = daily, X = daily, P Values = [1.0, 1.0, 1.0]\n",
      "Y = multiplied_BERT, X = daily, P Values = [0.1463, 0.2176, 0.1159]\n",
      "Y = daily, X = multiplied_BERT, P Values = [0.0128, 0.0201, 0.0418]\n",
      "Y = multiplied_BERT, X = multiplied_BERT, P Values = [1.0, 1.0, 1.0]\n",
      "\n",
      " Jurassic World: Fallen Kingdom\n",
      "Y = daily, X = daily, P Values = [1.0, 1.0, 1.0]\n",
      "Y = multiplied_BERT, X = daily, P Values = [0.7732, 0.4133, 0.6368]\n",
      "Y = daily, X = multiplied_BERT, P Values = [0.9853, 0.5818, 0.0286]\n",
      "Y = multiplied_BERT, X = multiplied_BERT, P Values = [1.0, 1.0, 1.0]\n",
      "\n",
      " Jurassic World\n",
      "Y = daily, X = daily, P Values = [1.0, 1.0, 1.0]\n",
      "Y = multiplied_BERT, X = daily, P Values = [0.0301, 0.0176, 0.0882]\n",
      "Y = daily, X = multiplied_BERT, P Values = [0.5873, 0.6566, 0.9258]\n",
      "Y = multiplied_BERT, X = multiplied_BERT, P Values = [1.0, 1.0, 1.0]\n",
      "\n",
      " Minions\n",
      "Y = daily, X = daily, P Values = [1.0, 1.0, 1.0]\n",
      "Y = multiplied_BERT, X = daily, P Values = [0.0144, 0.0013, 0.0]\n",
      "Y = daily, X = multiplied_BERT, P Values = [0.5934, 0.0074, 0.0]\n",
      "Y = multiplied_BERT, X = multiplied_BERT, P Values = [1.0, 1.0, 1.0]\n",
      "\n",
      " Spider-Man: Far from Home\n",
      "Y = daily, X = daily, P Values = [1.0, 1.0, 1.0]\n",
      "\n",
      " Spider-Man: Homecoming\n",
      "Y = daily, X = daily, P Values = [1.0, 1.0, 1.0]\n",
      "\n",
      " Onward\n",
      "Y = daily, X = daily, P Values = [1.0, 1.0, 1.0]\n",
      "Y = multiplied_BERT, X = daily, P Values = [0.0009, 0.2185, 0.0017]\n",
      "Y = daily, X = multiplied_BERT, P Values = [0.6732, 0.0064, 0.0133]\n",
      "Y = multiplied_BERT, X = multiplied_BERT, P Values = [1.0, 1.0, 1.0]\n"
     ]
    },
    {
     "name": "stdout",
     "output_type": "stream",
     "text": [
      "\n",
      " Mission: Impossible - Fallout\n",
      "Y = daily, X = daily, P Values = [1.0, 1.0, 1.0]\n",
      "\n",
      " Sonic the Hedgehog\n",
      "Y = daily, X = daily, P Values = [1.0, 1.0, 1.0]\n",
      "Y = multiplied_BERT, X = daily, P Values = [0.0, 0.1167, 0.0032]\n",
      "Y = daily, X = multiplied_BERT, P Values = [0.0417, 0.0473, 0.0055]\n",
      "Y = multiplied_BERT, X = multiplied_BERT, P Values = [1.0, 1.0, 1.0]\n",
      "\n",
      " Spectre\n",
      "Y = daily, X = daily, P Values = [1.0, 1.0, 1.0]\n",
      "Y = multiplied_BERT, X = daily, P Values = [0.0114, 0.0, 0.0]\n",
      "Y = daily, X = multiplied_BERT, P Values = [0.0031, 0.0, 0.0]\n",
      "Y = multiplied_BERT, X = multiplied_BERT, P Values = [1.0, 1.0, 1.0]\n",
      "\n",
      " Mission: Impossible - Rogue Nation\n",
      "Y = daily, X = daily, P Values = [1.0, 1.0, 1.0]\n",
      "\n",
      " Rogue One\n",
      "Y = daily, X = daily, P Values = [1.0, 1.0, 1.0]\n",
      "Y = multiplied_BERT, X = daily, P Values = [0.8472, 0.9499, 0.9523]\n",
      "Y = daily, X = multiplied_BERT, P Values = [0.9353, 0.9779, 0.995]\n",
      "Y = multiplied_BERT, X = multiplied_BERT, P Values = [1.0, 1.0, 1.0]\n",
      "\n",
      " Star Wars: Episode IX - The Rise of Skywalker\n",
      "Y = daily, X = daily, P Values = [1.0, 1.0, 1.0]\n",
      "Y = multiplied_BERT, X = daily, P Values = [0.0882, 0.0325, 0.0013]\n",
      "Y = daily, X = multiplied_BERT, P Values = [0.7064, 0.0188, 0.0248]\n",
      "Y = multiplied_BERT, X = multiplied_BERT, P Values = [1.0, 1.0, 1.0]\n",
      "\n",
      " Star Wars: Episode VIII - The Last Jedi\n",
      "Y = daily, X = daily, P Values = [1.0, 1.0, 1.0]\n",
      "Y = multiplied_BERT, X = daily, P Values = [0.4549, 0.0822, 0.3189]\n",
      "Y = daily, X = multiplied_BERT, P Values = [0.9872, 0.2639, 0.3482]\n",
      "Y = multiplied_BERT, X = multiplied_BERT, P Values = [1.0, 1.0, 1.0]\n",
      "\n",
      " Star Wars: Episode VII - The Force Awakens\n",
      "Y = daily, X = daily, P Values = [1.0, 1.0, 1.0]\n",
      "Y = multiplied_BERT, X = daily, P Values = [0.0, 0.0008, 0.2121]\n",
      "Y = daily, X = multiplied_BERT, P Values = [0.1188, 0.0373, 0.0]\n",
      "Y = multiplied_BERT, X = multiplied_BERT, P Values = [1.0, 1.0, 1.0]\n",
      "\n",
      " Suicide Squad\n",
      "Y = daily, X = daily, P Values = [1.0, 1.0, 1.0]\n",
      "Y = multiplied_BERT, X = daily, P Values = [0.2624, 0.1198, 0.0]\n",
      "Y = daily, X = multiplied_BERT, P Values = [0.2391, 0.1125, 0.002]\n",
      "Y = multiplied_BERT, X = multiplied_BERT, P Values = [1.0, 1.0, 1.0]\n",
      "\n",
      " Tenet\n",
      "Y = daily, X = daily, P Values = [1.0, 1.0, 1.0]\n",
      "\n",
      " The Fate of the Furious\n",
      "Y = daily, X = daily, P Values = [1.0, 1.0, 1.0]\n",
      "Y = multiplied_BERT, X = daily, P Values = [0.1576, 0.92, 0.9214]\n",
      "Y = daily, X = multiplied_BERT, P Values = [0.929, 0.8914, 0.93]\n",
      "Y = multiplied_BERT, X = multiplied_BERT, P Values = [1.0, 1.0, 1.0]\n",
      "\n",
      " The Hunger Games: Mockingjay - Part 2\n",
      "Y = daily, X = daily, P Values = [1.0, 1.0, 1.0]\n",
      "Y = multiplied_BERT, X = daily, P Values = [0.7848, 0.9664, 0.7005]\n",
      "Y = daily, X = multiplied_BERT, P Values = [0.224, 0.2272, 0.3531]\n",
      "Y = multiplied_BERT, X = multiplied_BERT, P Values = [1.0, 1.0, 1.0]\n",
      "\n",
      " The Invisible Man\n",
      "Y = daily, X = daily, P Values = [1.0, 1.0, 1.0]\n",
      "Y = multiplied_BERT, X = daily, P Values = [0.34, 0.5782, 0.9922]\n",
      "Y = daily, X = multiplied_BERT, P Values = [0.0031, 0.009, 0.0243]\n",
      "Y = multiplied_BERT, X = multiplied_BERT, P Values = [1.0, 1.0, 1.0]\n",
      "\n",
      " The Jungle Book\n",
      "Y = daily, X = daily, P Values = [1.0, 1.0, 1.0]\n",
      "Y = multiplied_BERT, X = daily, P Values = [0.5617, 0.5492, 0.2552]\n",
      "Y = daily, X = multiplied_BERT, P Values = [0.01, 0.0006, 0.003]\n",
      "Y = multiplied_BERT, X = multiplied_BERT, P Values = [1.0, 1.0, 1.0]\n",
      "\n",
      " The Lion King\n",
      "Y = daily, X = daily, P Values = [1.0, 1.0, 1.0]\n",
      "Y = multiplied_BERT, X = daily, P Values = [0.0294, 0.1497, 0.9375]\n",
      "Y = daily, X = multiplied_BERT, P Values = [0.5898, 0.3169, 0.4191]\n",
      "Y = multiplied_BERT, X = multiplied_BERT, P Values = [1.0, 1.0, 1.0]\n",
      "\n",
      " The Martian\n",
      "Y = daily, X = daily, P Values = [1.0, 1.0, 1.0]\n",
      "Y = multiplied_BERT, X = daily, P Values = [0.3308, 0.6142, 0.304]\n",
      "Y = daily, X = multiplied_BERT, P Values = [0.5187, 0.0142, 0.1724]\n",
      "Y = multiplied_BERT, X = multiplied_BERT, P Values = [1.0, 1.0, 1.0]\n",
      "\n",
      " The Secret Life of Pets\n",
      "Y = daily, X = daily, P Values = [1.0, 1.0, 1.0]\n",
      "Y = multiplied_BERT, X = daily, P Values = [0.5313, 0.6532, 0.1102]\n",
      "Y = daily, X = multiplied_BERT, P Values = [0.0958, 0.5177, 0.0189]\n",
      "Y = multiplied_BERT, X = multiplied_BERT, P Values = [1.0, 1.0, 1.0]\n",
      "\n",
      " Thor: Ragnarok\n",
      "Y = daily, X = daily, P Values = [1.0, 1.0, 1.0]\n",
      "Y = multiplied_BERT, X = daily, P Values = [0.0236, 0.5581, 0.1422]\n",
      "Y = daily, X = multiplied_BERT, P Values = [0.141, 0.1485, 0.1499]\n",
      "Y = multiplied_BERT, X = multiplied_BERT, P Values = [1.0, 1.0, 1.0]\n",
      "\n",
      " Toy Story 4\n",
      "Y = daily, X = daily, P Values = [1.0, 1.0, 1.0]\n",
      "Y = multiplied_BERT, X = daily, P Values = [0.0343, 0.0125, 0.0107]\n",
      "Y = daily, X = multiplied_BERT, P Values = [0.0006, 0.0003, 0.0]\n",
      "Y = multiplied_BERT, X = multiplied_BERT, P Values = [1.0, 1.0, 1.0]\n",
      "\n",
      " Venom\n",
      "Y = daily, X = daily, P Values = [1.0, 1.0, 1.0]\n",
      "Y = multiplied_BERT, X = daily, P Values = [0.0004, 0.3728, 0.1766]\n",
      "Y = daily, X = multiplied_BERT, P Values = [0.0107, 0.0023, 0.0011]\n",
      "Y = multiplied_BERT, X = multiplied_BERT, P Values = [1.0, 1.0, 1.0]\n",
      "\n",
      " Wonder Woman\n",
      "Y = daily, X = daily, P Values = [1.0, 1.0, 1.0]\n",
      "Y = multiplied_BERT, X = daily, P Values = [0.0, 0.0, 0.0]\n",
      "Y = daily, X = multiplied_BERT, P Values = [0.0047, 0.0, 0.0]\n",
      "Y = multiplied_BERT, X = multiplied_BERT, P Values = [1.0, 1.0, 1.0]\n",
      "\n",
      " Zootopia\n",
      "Y = daily, X = daily, P Values = [1.0, 1.0, 1.0]\n",
      "Y = multiplied_BERT, X = daily, P Values = [0.6015, 0.8133, 0.8529]\n",
      "Y = daily, X = multiplied_BERT, P Values = [0.7244, 0.8887, 0.9861]\n",
      "Y = multiplied_BERT, X = multiplied_BERT, P Values = [1.0, 1.0, 1.0]\n"
     ]
    }
   ],
   "source": [
    "sent_cause_box = {}\n",
    "#box_cause_sent = {}\n",
    "\n",
    "for i, movie in enumerate(merged_df.movie.unique()): \n",
    "    print(f\"\\n {movie}\")\n",
    "    time_series = merged_df[merged_df.movie == movie].set_index('days')\n",
    "    try:\n",
    "        gcm = grangers_causation_matrix(time_series[['daily', 'multiplied_BERT']], variables = ['daily', 'multiplied_BERT'], verbose=True)\n",
    "\n",
    "        sent_box = gcm.loc['daily_y', 'multiplied_BERT_x']\n",
    "        sent_cause_box[movie] = (sent_box, sent_box < 0.05)\n",
    "        \n",
    "        #box_sent = gcm.loc['multiplied_BERT_y', 'daily_x']\n",
    "        #box_cause_sent[movie] = (box_sent, box_sent < 0.05)\n",
    "        \n",
    "    except:\n",
    "        pass"
   ]
  },
  {
   "cell_type": "code",
   "execution_count": 187,
   "id": "d551ab8f",
   "metadata": {},
   "outputs": [],
   "source": [
    "sent2box = np.array([(movie, p_val, reject) for movie, (p_val, reject) in sent_cause_box.items()])"
   ]
  },
  {
   "cell_type": "markdown",
   "id": "32045ad3",
   "metadata": {},
   "source": [
    "So an example of the p-values are shown below they are summarized in the first coming plot."
   ]
  },
  {
   "cell_type": "code",
   "execution_count": 199,
   "id": "6257dd82",
   "metadata": {},
   "outputs": [
    {
     "data": {
      "text/html": [
       "<div>\n",
       "<style scoped>\n",
       "    .dataframe tbody tr th:only-of-type {\n",
       "        vertical-align: middle;\n",
       "    }\n",
       "\n",
       "    .dataframe tbody tr th {\n",
       "        vertical-align: top;\n",
       "    }\n",
       "\n",
       "    .dataframe thead th {\n",
       "        text-align: right;\n",
       "    }\n",
       "</style>\n",
       "<table border=\"1\" class=\"dataframe\">\n",
       "  <thead>\n",
       "    <tr style=\"text-align: right;\">\n",
       "      <th></th>\n",
       "      <th>movie</th>\n",
       "      <th>p_vals</th>\n",
       "      <th>reject</th>\n",
       "    </tr>\n",
       "  </thead>\n",
       "  <tbody>\n",
       "    <tr>\n",
       "      <th>0</th>\n",
       "      <td>Aladdin</td>\n",
       "      <td>0.0007</td>\n",
       "      <td>True</td>\n",
       "    </tr>\n",
       "    <tr>\n",
       "      <th>1</th>\n",
       "      <td>Aquaman</td>\n",
       "      <td>0.0026</td>\n",
       "      <td>True</td>\n",
       "    </tr>\n",
       "    <tr>\n",
       "      <th>2</th>\n",
       "      <td>Avengers: Age of Ultron</td>\n",
       "      <td>0.108</td>\n",
       "      <td>False</td>\n",
       "    </tr>\n",
       "    <tr>\n",
       "      <th>3</th>\n",
       "      <td>Avengers: Endgame</td>\n",
       "      <td>0.0002</td>\n",
       "      <td>True</td>\n",
       "    </tr>\n",
       "    <tr>\n",
       "      <th>4</th>\n",
       "      <td>Avengers: Infinity War</td>\n",
       "      <td>0.2322</td>\n",
       "      <td>False</td>\n",
       "    </tr>\n",
       "  </tbody>\n",
       "</table>\n",
       "</div>"
      ],
      "text/plain": [
       "                     movie  p_vals reject\n",
       "0                  Aladdin  0.0007   True\n",
       "1                  Aquaman  0.0026   True\n",
       "2  Avengers: Age of Ultron   0.108  False\n",
       "3        Avengers: Endgame  0.0002   True\n",
       "4   Avengers: Infinity War  0.2322  False"
      ]
     },
     "execution_count": 199,
     "metadata": {},
     "output_type": "execute_result"
    }
   ],
   "source": [
    "temp = pd.DataFrame(sent2box).rename(columns={0: 'movie', 1: 'p_vals', 2: 'reject'})\n",
    "temp.head()"
   ]
  },
  {
   "cell_type": "code",
   "execution_count": 222,
   "id": "51270836",
   "metadata": {},
   "outputs": [
    {
     "data": {
      "application/vnd.plotly.v1+json": {
       "config": {
        "plotlyServerURL": "https://plot.ly"
       },
       "data": [
        {
         "alignmentgroup": "True",
         "hovertemplate": "<b>%{hovertext}</b><br><br>color=True<br>based on p-values < 0.05=%{x}<br>count=%{y}<extra></extra>",
         "hovertext": [
          "Aladdin",
          "Aquaman",
          "Avengers: Endgame",
          "Bad Boys for Life",
          "Black Panther",
          "Captain America: Civil War",
          "Captain Marvel",
          "Deadpool",
          "Dolittle",
          "Fantastic Beasts: The Crimes of Grindelwald",
          "Fast & Furious 7",
          "Guardians of the Galaxy Vol. 2",
          "Incredibles 2",
          "Inside Out",
          "Joker",
          "Jumanji: The Next Level",
          "Jumanji: Welcome to the Jungle",
          "Jurassic World: Fallen Kingdom",
          "Minions",
          "Onward",
          "Sonic the Hedgehog",
          "Spectre",
          "Star Wars: Episode IX - The Rise of Skywalker",
          "Star Wars: Episode VII - The Force Awakens",
          "Suicide Squad",
          "The Invisible Man",
          "The Jungle Book",
          "The Martian",
          "The Secret Life of Pets",
          "Toy Story 4",
          "Venom",
          "Wonder Woman"
         ],
         "legendgroup": "True",
         "marker": {
          "color": "#B51F1F",
          "pattern": {
           "shape": ""
          }
         },
         "name": "True",
         "offsetgroup": "True",
         "orientation": "v",
         "showlegend": true,
         "textposition": "auto",
         "type": "bar",
         "x": [
          "True",
          "True",
          "True",
          "True",
          "True",
          "True",
          "True",
          "True",
          "True",
          "True",
          "True",
          "True",
          "True",
          "True",
          "True",
          "True",
          "True",
          "True",
          "True",
          "True",
          "True",
          "True",
          "True",
          "True",
          "True",
          "True",
          "True",
          "True",
          "True",
          "True",
          "True",
          "True"
         ],
         "xaxis": "x",
         "y": [
          1,
          1,
          1,
          1,
          1,
          1,
          1,
          1,
          1,
          1,
          1,
          1,
          1,
          1,
          1,
          1,
          1,
          1,
          1,
          1,
          1,
          1,
          1,
          1,
          1,
          1,
          1,
          1,
          1,
          1,
          1,
          1
         ],
         "yaxis": "y"
        },
        {
         "alignmentgroup": "True",
         "hovertemplate": "<b>%{hovertext}</b><br><br>color=False<br>based on p-values < 0.05=%{x}<br>count=%{y}<extra></extra>",
         "hovertext": [
          "Avengers: Age of Ultron",
          "Avengers: Infinity War",
          "Batman v Superman: Dawn of Justice",
          "Beauty and the Beast",
          "Birds of Prey: And the Fantabulous Emancipation of One Harley Quinn",
          "Bohemian Rhapsody",
          "Deadpool 2",
          "Despicable Me 3",
          "Fantastic Beasts and Where to Find Them",
          "Finding Dory",
          "Frozen II",
          "Jurassic World",
          "Rogue One",
          "Star Wars: Episode VIII - The Last Jedi",
          "The Fate of the Furious",
          "The Hunger Games: Mockingjay - Part 2",
          "The Lion King",
          "Thor: Ragnarok",
          "Zootopia"
         ],
         "legendgroup": "False",
         "marker": {
          "color": "#00A79F",
          "pattern": {
           "shape": ""
          }
         },
         "name": "False",
         "offsetgroup": "False",
         "orientation": "v",
         "showlegend": true,
         "textposition": "auto",
         "type": "bar",
         "x": [
          "False",
          "False",
          "False",
          "False",
          "False",
          "False",
          "False",
          "False",
          "False",
          "False",
          "False",
          "False",
          "False",
          "False",
          "False",
          "False",
          "False",
          "False",
          "False"
         ],
         "xaxis": "x",
         "y": [
          1,
          1,
          1,
          1,
          1,
          1,
          1,
          1,
          1,
          1,
          1,
          1,
          1,
          1,
          1,
          1,
          1,
          1,
          1
         ],
         "yaxis": "y"
        }
       ],
       "layout": {
        "barmode": "relative",
        "legend": {
         "title": {
          "text": "color"
         },
         "tracegroupgap": 0
        },
        "template": {
         "data": {
          "bar": [
           {
            "error_x": {
             "color": "#2a3f5f"
            },
            "error_y": {
             "color": "#2a3f5f"
            },
            "marker": {
             "line": {
              "color": "#E5ECF6",
              "width": 0.5
             },
             "pattern": {
              "fillmode": "overlay",
              "size": 10,
              "solidity": 0.2
             }
            },
            "type": "bar"
           }
          ],
          "barpolar": [
           {
            "marker": {
             "line": {
              "color": "#E5ECF6",
              "width": 0.5
             },
             "pattern": {
              "fillmode": "overlay",
              "size": 10,
              "solidity": 0.2
             }
            },
            "type": "barpolar"
           }
          ],
          "carpet": [
           {
            "aaxis": {
             "endlinecolor": "#2a3f5f",
             "gridcolor": "white",
             "linecolor": "white",
             "minorgridcolor": "white",
             "startlinecolor": "#2a3f5f"
            },
            "baxis": {
             "endlinecolor": "#2a3f5f",
             "gridcolor": "white",
             "linecolor": "white",
             "minorgridcolor": "white",
             "startlinecolor": "#2a3f5f"
            },
            "type": "carpet"
           }
          ],
          "choropleth": [
           {
            "colorbar": {
             "outlinewidth": 0,
             "ticks": ""
            },
            "type": "choropleth"
           }
          ],
          "contour": [
           {
            "colorbar": {
             "outlinewidth": 0,
             "ticks": ""
            },
            "colorscale": [
             [
              0,
              "#0d0887"
             ],
             [
              0.1111111111111111,
              "#46039f"
             ],
             [
              0.2222222222222222,
              "#7201a8"
             ],
             [
              0.3333333333333333,
              "#9c179e"
             ],
             [
              0.4444444444444444,
              "#bd3786"
             ],
             [
              0.5555555555555556,
              "#d8576b"
             ],
             [
              0.6666666666666666,
              "#ed7953"
             ],
             [
              0.7777777777777778,
              "#fb9f3a"
             ],
             [
              0.8888888888888888,
              "#fdca26"
             ],
             [
              1,
              "#f0f921"
             ]
            ],
            "type": "contour"
           }
          ],
          "contourcarpet": [
           {
            "colorbar": {
             "outlinewidth": 0,
             "ticks": ""
            },
            "type": "contourcarpet"
           }
          ],
          "heatmap": [
           {
            "colorbar": {
             "outlinewidth": 0,
             "ticks": ""
            },
            "colorscale": [
             [
              0,
              "#0d0887"
             ],
             [
              0.1111111111111111,
              "#46039f"
             ],
             [
              0.2222222222222222,
              "#7201a8"
             ],
             [
              0.3333333333333333,
              "#9c179e"
             ],
             [
              0.4444444444444444,
              "#bd3786"
             ],
             [
              0.5555555555555556,
              "#d8576b"
             ],
             [
              0.6666666666666666,
              "#ed7953"
             ],
             [
              0.7777777777777778,
              "#fb9f3a"
             ],
             [
              0.8888888888888888,
              "#fdca26"
             ],
             [
              1,
              "#f0f921"
             ]
            ],
            "type": "heatmap"
           }
          ],
          "heatmapgl": [
           {
            "colorbar": {
             "outlinewidth": 0,
             "ticks": ""
            },
            "colorscale": [
             [
              0,
              "#0d0887"
             ],
             [
              0.1111111111111111,
              "#46039f"
             ],
             [
              0.2222222222222222,
              "#7201a8"
             ],
             [
              0.3333333333333333,
              "#9c179e"
             ],
             [
              0.4444444444444444,
              "#bd3786"
             ],
             [
              0.5555555555555556,
              "#d8576b"
             ],
             [
              0.6666666666666666,
              "#ed7953"
             ],
             [
              0.7777777777777778,
              "#fb9f3a"
             ],
             [
              0.8888888888888888,
              "#fdca26"
             ],
             [
              1,
              "#f0f921"
             ]
            ],
            "type": "heatmapgl"
           }
          ],
          "histogram": [
           {
            "marker": {
             "pattern": {
              "fillmode": "overlay",
              "size": 10,
              "solidity": 0.2
             }
            },
            "type": "histogram"
           }
          ],
          "histogram2d": [
           {
            "colorbar": {
             "outlinewidth": 0,
             "ticks": ""
            },
            "colorscale": [
             [
              0,
              "#0d0887"
             ],
             [
              0.1111111111111111,
              "#46039f"
             ],
             [
              0.2222222222222222,
              "#7201a8"
             ],
             [
              0.3333333333333333,
              "#9c179e"
             ],
             [
              0.4444444444444444,
              "#bd3786"
             ],
             [
              0.5555555555555556,
              "#d8576b"
             ],
             [
              0.6666666666666666,
              "#ed7953"
             ],
             [
              0.7777777777777778,
              "#fb9f3a"
             ],
             [
              0.8888888888888888,
              "#fdca26"
             ],
             [
              1,
              "#f0f921"
             ]
            ],
            "type": "histogram2d"
           }
          ],
          "histogram2dcontour": [
           {
            "colorbar": {
             "outlinewidth": 0,
             "ticks": ""
            },
            "colorscale": [
             [
              0,
              "#0d0887"
             ],
             [
              0.1111111111111111,
              "#46039f"
             ],
             [
              0.2222222222222222,
              "#7201a8"
             ],
             [
              0.3333333333333333,
              "#9c179e"
             ],
             [
              0.4444444444444444,
              "#bd3786"
             ],
             [
              0.5555555555555556,
              "#d8576b"
             ],
             [
              0.6666666666666666,
              "#ed7953"
             ],
             [
              0.7777777777777778,
              "#fb9f3a"
             ],
             [
              0.8888888888888888,
              "#fdca26"
             ],
             [
              1,
              "#f0f921"
             ]
            ],
            "type": "histogram2dcontour"
           }
          ],
          "mesh3d": [
           {
            "colorbar": {
             "outlinewidth": 0,
             "ticks": ""
            },
            "type": "mesh3d"
           }
          ],
          "parcoords": [
           {
            "line": {
             "colorbar": {
              "outlinewidth": 0,
              "ticks": ""
             }
            },
            "type": "parcoords"
           }
          ],
          "pie": [
           {
            "automargin": true,
            "type": "pie"
           }
          ],
          "scatter": [
           {
            "marker": {
             "colorbar": {
              "outlinewidth": 0,
              "ticks": ""
             }
            },
            "type": "scatter"
           }
          ],
          "scatter3d": [
           {
            "line": {
             "colorbar": {
              "outlinewidth": 0,
              "ticks": ""
             }
            },
            "marker": {
             "colorbar": {
              "outlinewidth": 0,
              "ticks": ""
             }
            },
            "type": "scatter3d"
           }
          ],
          "scattercarpet": [
           {
            "marker": {
             "colorbar": {
              "outlinewidth": 0,
              "ticks": ""
             }
            },
            "type": "scattercarpet"
           }
          ],
          "scattergeo": [
           {
            "marker": {
             "colorbar": {
              "outlinewidth": 0,
              "ticks": ""
             }
            },
            "type": "scattergeo"
           }
          ],
          "scattergl": [
           {
            "marker": {
             "colorbar": {
              "outlinewidth": 0,
              "ticks": ""
             }
            },
            "type": "scattergl"
           }
          ],
          "scattermapbox": [
           {
            "marker": {
             "colorbar": {
              "outlinewidth": 0,
              "ticks": ""
             }
            },
            "type": "scattermapbox"
           }
          ],
          "scatterpolar": [
           {
            "marker": {
             "colorbar": {
              "outlinewidth": 0,
              "ticks": ""
             }
            },
            "type": "scatterpolar"
           }
          ],
          "scatterpolargl": [
           {
            "marker": {
             "colorbar": {
              "outlinewidth": 0,
              "ticks": ""
             }
            },
            "type": "scatterpolargl"
           }
          ],
          "scatterternary": [
           {
            "marker": {
             "colorbar": {
              "outlinewidth": 0,
              "ticks": ""
             }
            },
            "type": "scatterternary"
           }
          ],
          "surface": [
           {
            "colorbar": {
             "outlinewidth": 0,
             "ticks": ""
            },
            "colorscale": [
             [
              0,
              "#0d0887"
             ],
             [
              0.1111111111111111,
              "#46039f"
             ],
             [
              0.2222222222222222,
              "#7201a8"
             ],
             [
              0.3333333333333333,
              "#9c179e"
             ],
             [
              0.4444444444444444,
              "#bd3786"
             ],
             [
              0.5555555555555556,
              "#d8576b"
             ],
             [
              0.6666666666666666,
              "#ed7953"
             ],
             [
              0.7777777777777778,
              "#fb9f3a"
             ],
             [
              0.8888888888888888,
              "#fdca26"
             ],
             [
              1,
              "#f0f921"
             ]
            ],
            "type": "surface"
           }
          ],
          "table": [
           {
            "cells": {
             "fill": {
              "color": "#EBF0F8"
             },
             "line": {
              "color": "white"
             }
            },
            "header": {
             "fill": {
              "color": "#C8D4E3"
             },
             "line": {
              "color": "white"
             }
            },
            "type": "table"
           }
          ]
         },
         "layout": {
          "annotationdefaults": {
           "arrowcolor": "#2a3f5f",
           "arrowhead": 0,
           "arrowwidth": 1
          },
          "autotypenumbers": "strict",
          "coloraxis": {
           "colorbar": {
            "outlinewidth": 0,
            "ticks": ""
           }
          },
          "colorscale": {
           "diverging": [
            [
             0,
             "#8e0152"
            ],
            [
             0.1,
             "#c51b7d"
            ],
            [
             0.2,
             "#de77ae"
            ],
            [
             0.3,
             "#f1b6da"
            ],
            [
             0.4,
             "#fde0ef"
            ],
            [
             0.5,
             "#f7f7f7"
            ],
            [
             0.6,
             "#e6f5d0"
            ],
            [
             0.7,
             "#b8e186"
            ],
            [
             0.8,
             "#7fbc41"
            ],
            [
             0.9,
             "#4d9221"
            ],
            [
             1,
             "#276419"
            ]
           ],
           "sequential": [
            [
             0,
             "#0d0887"
            ],
            [
             0.1111111111111111,
             "#46039f"
            ],
            [
             0.2222222222222222,
             "#7201a8"
            ],
            [
             0.3333333333333333,
             "#9c179e"
            ],
            [
             0.4444444444444444,
             "#bd3786"
            ],
            [
             0.5555555555555556,
             "#d8576b"
            ],
            [
             0.6666666666666666,
             "#ed7953"
            ],
            [
             0.7777777777777778,
             "#fb9f3a"
            ],
            [
             0.8888888888888888,
             "#fdca26"
            ],
            [
             1,
             "#f0f921"
            ]
           ],
           "sequentialminus": [
            [
             0,
             "#0d0887"
            ],
            [
             0.1111111111111111,
             "#46039f"
            ],
            [
             0.2222222222222222,
             "#7201a8"
            ],
            [
             0.3333333333333333,
             "#9c179e"
            ],
            [
             0.4444444444444444,
             "#bd3786"
            ],
            [
             0.5555555555555556,
             "#d8576b"
            ],
            [
             0.6666666666666666,
             "#ed7953"
            ],
            [
             0.7777777777777778,
             "#fb9f3a"
            ],
            [
             0.8888888888888888,
             "#fdca26"
            ],
            [
             1,
             "#f0f921"
            ]
           ]
          },
          "colorway": [
           "#636efa",
           "#EF553B",
           "#00cc96",
           "#ab63fa",
           "#FFA15A",
           "#19d3f3",
           "#FF6692",
           "#B6E880",
           "#FF97FF",
           "#FECB52"
          ],
          "font": {
           "color": "#2a3f5f"
          },
          "geo": {
           "bgcolor": "white",
           "lakecolor": "white",
           "landcolor": "#E5ECF6",
           "showlakes": true,
           "showland": true,
           "subunitcolor": "white"
          },
          "hoverlabel": {
           "align": "left"
          },
          "hovermode": "closest",
          "mapbox": {
           "style": "light"
          },
          "paper_bgcolor": "white",
          "plot_bgcolor": "#E5ECF6",
          "polar": {
           "angularaxis": {
            "gridcolor": "white",
            "linecolor": "white",
            "ticks": ""
           },
           "bgcolor": "#E5ECF6",
           "radialaxis": {
            "gridcolor": "white",
            "linecolor": "white",
            "ticks": ""
           }
          },
          "scene": {
           "xaxis": {
            "backgroundcolor": "#E5ECF6",
            "gridcolor": "white",
            "gridwidth": 2,
            "linecolor": "white",
            "showbackground": true,
            "ticks": "",
            "zerolinecolor": "white"
           },
           "yaxis": {
            "backgroundcolor": "#E5ECF6",
            "gridcolor": "white",
            "gridwidth": 2,
            "linecolor": "white",
            "showbackground": true,
            "ticks": "",
            "zerolinecolor": "white"
           },
           "zaxis": {
            "backgroundcolor": "#E5ECF6",
            "gridcolor": "white",
            "gridwidth": 2,
            "linecolor": "white",
            "showbackground": true,
            "ticks": "",
            "zerolinecolor": "white"
           }
          },
          "shapedefaults": {
           "line": {
            "color": "#2a3f5f"
           }
          },
          "ternary": {
           "aaxis": {
            "gridcolor": "white",
            "linecolor": "white",
            "ticks": ""
           },
           "baxis": {
            "gridcolor": "white",
            "linecolor": "white",
            "ticks": ""
           },
           "bgcolor": "#E5ECF6",
           "caxis": {
            "gridcolor": "white",
            "linecolor": "white",
            "ticks": ""
           }
          },
          "title": {
           "x": 0.05
          },
          "xaxis": {
           "automargin": true,
           "gridcolor": "white",
           "linecolor": "white",
           "ticks": "",
           "title": {
            "standoff": 15
           },
           "zerolinecolor": "white",
           "zerolinewidth": 2
          },
          "yaxis": {
           "automargin": true,
           "gridcolor": "white",
           "linecolor": "white",
           "ticks": "",
           "title": {
            "standoff": 15
           },
           "zerolinecolor": "white",
           "zerolinewidth": 2
          }
         }
        },
        "title": {
         "text": "Do the daily sentiment influence the daily Box Office sales?"
        },
        "xaxis": {
         "anchor": "y",
         "domain": [
          0,
          1
         ],
         "title": {
          "text": "based on p-values < 0.05"
         }
        },
        "yaxis": {
         "anchor": "x",
         "domain": [
          0,
          1
         ],
         "title": {
          "text": "count"
         }
        }
       }
      },
      "text/html": [
       "<div>                            <div id=\"5e7d0d2a-9360-4700-a4c2-a9f19c46c732\" class=\"plotly-graph-div\" style=\"height:525px; width:100%;\"></div>            <script type=\"text/javascript\">                require([\"plotly\"], function(Plotly) {                    window.PLOTLYENV=window.PLOTLYENV || {};                                    if (document.getElementById(\"5e7d0d2a-9360-4700-a4c2-a9f19c46c732\")) {                    Plotly.newPlot(                        \"5e7d0d2a-9360-4700-a4c2-a9f19c46c732\",                        [{\"alignmentgroup\":\"True\",\"hovertemplate\":\"<b>%{hovertext}</b><br><br>color=True<br>based on p-values < 0.05=%{x}<br>count=%{y}<extra></extra>\",\"hovertext\":[\"Aladdin\",\"Aquaman\",\"Avengers: Endgame\",\"Bad Boys for Life\",\"Black Panther\",\"Captain America: Civil War\",\"Captain Marvel\",\"Deadpool\",\"Dolittle\",\"Fantastic Beasts: The Crimes of Grindelwald\",\"Fast & Furious 7\",\"Guardians of the Galaxy Vol. 2\",\"Incredibles 2\",\"Inside Out\",\"Joker\",\"Jumanji: The Next Level\",\"Jumanji: Welcome to the Jungle\",\"Jurassic World: Fallen Kingdom\",\"Minions\",\"Onward\",\"Sonic the Hedgehog\",\"Spectre\",\"Star Wars: Episode IX - The Rise of Skywalker\",\"Star Wars: Episode VII - The Force Awakens\",\"Suicide Squad\",\"The Invisible Man\",\"The Jungle Book\",\"The Martian\",\"The Secret Life of Pets\",\"Toy Story 4\",\"Venom\",\"Wonder Woman\"],\"legendgroup\":\"True\",\"marker\":{\"color\":\"#B51F1F\",\"pattern\":{\"shape\":\"\"}},\"name\":\"True\",\"offsetgroup\":\"True\",\"orientation\":\"v\",\"showlegend\":true,\"textposition\":\"auto\",\"x\":[\"True\",\"True\",\"True\",\"True\",\"True\",\"True\",\"True\",\"True\",\"True\",\"True\",\"True\",\"True\",\"True\",\"True\",\"True\",\"True\",\"True\",\"True\",\"True\",\"True\",\"True\",\"True\",\"True\",\"True\",\"True\",\"True\",\"True\",\"True\",\"True\",\"True\",\"True\",\"True\"],\"xaxis\":\"x\",\"y\":[1.0,1.0,1.0,1.0,1.0,1.0,1.0,1.0,1.0,1.0,1.0,1.0,1.0,1.0,1.0,1.0,1.0,1.0,1.0,1.0,1.0,1.0,1.0,1.0,1.0,1.0,1.0,1.0,1.0,1.0,1.0,1.0],\"yaxis\":\"y\",\"type\":\"bar\"},{\"alignmentgroup\":\"True\",\"hovertemplate\":\"<b>%{hovertext}</b><br><br>color=False<br>based on p-values < 0.05=%{x}<br>count=%{y}<extra></extra>\",\"hovertext\":[\"Avengers: Age of Ultron\",\"Avengers: Infinity War\",\"Batman v Superman: Dawn of Justice\",\"Beauty and the Beast\",\"Birds of Prey: And the Fantabulous Emancipation of One Harley Quinn\",\"Bohemian Rhapsody\",\"Deadpool 2\",\"Despicable Me 3\",\"Fantastic Beasts and Where to Find Them\",\"Finding Dory\",\"Frozen II\",\"Jurassic World\",\"Rogue One\",\"Star Wars: Episode VIII - The Last Jedi\",\"The Fate of the Furious\",\"The Hunger Games: Mockingjay - Part 2\",\"The Lion King\",\"Thor: Ragnarok\",\"Zootopia\"],\"legendgroup\":\"False\",\"marker\":{\"color\":\"#00A79F\",\"pattern\":{\"shape\":\"\"}},\"name\":\"False\",\"offsetgroup\":\"False\",\"orientation\":\"v\",\"showlegend\":true,\"textposition\":\"auto\",\"x\":[\"False\",\"False\",\"False\",\"False\",\"False\",\"False\",\"False\",\"False\",\"False\",\"False\",\"False\",\"False\",\"False\",\"False\",\"False\",\"False\",\"False\",\"False\",\"False\"],\"xaxis\":\"x\",\"y\":[1.0,1.0,1.0,1.0,1.0,1.0,1.0,1.0,1.0,1.0,1.0,1.0,1.0,1.0,1.0,1.0,1.0,1.0,1.0],\"yaxis\":\"y\",\"type\":\"bar\"}],                        {\"template\":{\"data\":{\"bar\":[{\"error_x\":{\"color\":\"#2a3f5f\"},\"error_y\":{\"color\":\"#2a3f5f\"},\"marker\":{\"line\":{\"color\":\"#E5ECF6\",\"width\":0.5},\"pattern\":{\"fillmode\":\"overlay\",\"size\":10,\"solidity\":0.2}},\"type\":\"bar\"}],\"barpolar\":[{\"marker\":{\"line\":{\"color\":\"#E5ECF6\",\"width\":0.5},\"pattern\":{\"fillmode\":\"overlay\",\"size\":10,\"solidity\":0.2}},\"type\":\"barpolar\"}],\"carpet\":[{\"aaxis\":{\"endlinecolor\":\"#2a3f5f\",\"gridcolor\":\"white\",\"linecolor\":\"white\",\"minorgridcolor\":\"white\",\"startlinecolor\":\"#2a3f5f\"},\"baxis\":{\"endlinecolor\":\"#2a3f5f\",\"gridcolor\":\"white\",\"linecolor\":\"white\",\"minorgridcolor\":\"white\",\"startlinecolor\":\"#2a3f5f\"},\"type\":\"carpet\"}],\"choropleth\":[{\"colorbar\":{\"outlinewidth\":0,\"ticks\":\"\"},\"type\":\"choropleth\"}],\"contour\":[{\"colorbar\":{\"outlinewidth\":0,\"ticks\":\"\"},\"colorscale\":[[0.0,\"#0d0887\"],[0.1111111111111111,\"#46039f\"],[0.2222222222222222,\"#7201a8\"],[0.3333333333333333,\"#9c179e\"],[0.4444444444444444,\"#bd3786\"],[0.5555555555555556,\"#d8576b\"],[0.6666666666666666,\"#ed7953\"],[0.7777777777777778,\"#fb9f3a\"],[0.8888888888888888,\"#fdca26\"],[1.0,\"#f0f921\"]],\"type\":\"contour\"}],\"contourcarpet\":[{\"colorbar\":{\"outlinewidth\":0,\"ticks\":\"\"},\"type\":\"contourcarpet\"}],\"heatmap\":[{\"colorbar\":{\"outlinewidth\":0,\"ticks\":\"\"},\"colorscale\":[[0.0,\"#0d0887\"],[0.1111111111111111,\"#46039f\"],[0.2222222222222222,\"#7201a8\"],[0.3333333333333333,\"#9c179e\"],[0.4444444444444444,\"#bd3786\"],[0.5555555555555556,\"#d8576b\"],[0.6666666666666666,\"#ed7953\"],[0.7777777777777778,\"#fb9f3a\"],[0.8888888888888888,\"#fdca26\"],[1.0,\"#f0f921\"]],\"type\":\"heatmap\"}],\"heatmapgl\":[{\"colorbar\":{\"outlinewidth\":0,\"ticks\":\"\"},\"colorscale\":[[0.0,\"#0d0887\"],[0.1111111111111111,\"#46039f\"],[0.2222222222222222,\"#7201a8\"],[0.3333333333333333,\"#9c179e\"],[0.4444444444444444,\"#bd3786\"],[0.5555555555555556,\"#d8576b\"],[0.6666666666666666,\"#ed7953\"],[0.7777777777777778,\"#fb9f3a\"],[0.8888888888888888,\"#fdca26\"],[1.0,\"#f0f921\"]],\"type\":\"heatmapgl\"}],\"histogram\":[{\"marker\":{\"pattern\":{\"fillmode\":\"overlay\",\"size\":10,\"solidity\":0.2}},\"type\":\"histogram\"}],\"histogram2d\":[{\"colorbar\":{\"outlinewidth\":0,\"ticks\":\"\"},\"colorscale\":[[0.0,\"#0d0887\"],[0.1111111111111111,\"#46039f\"],[0.2222222222222222,\"#7201a8\"],[0.3333333333333333,\"#9c179e\"],[0.4444444444444444,\"#bd3786\"],[0.5555555555555556,\"#d8576b\"],[0.6666666666666666,\"#ed7953\"],[0.7777777777777778,\"#fb9f3a\"],[0.8888888888888888,\"#fdca26\"],[1.0,\"#f0f921\"]],\"type\":\"histogram2d\"}],\"histogram2dcontour\":[{\"colorbar\":{\"outlinewidth\":0,\"ticks\":\"\"},\"colorscale\":[[0.0,\"#0d0887\"],[0.1111111111111111,\"#46039f\"],[0.2222222222222222,\"#7201a8\"],[0.3333333333333333,\"#9c179e\"],[0.4444444444444444,\"#bd3786\"],[0.5555555555555556,\"#d8576b\"],[0.6666666666666666,\"#ed7953\"],[0.7777777777777778,\"#fb9f3a\"],[0.8888888888888888,\"#fdca26\"],[1.0,\"#f0f921\"]],\"type\":\"histogram2dcontour\"}],\"mesh3d\":[{\"colorbar\":{\"outlinewidth\":0,\"ticks\":\"\"},\"type\":\"mesh3d\"}],\"parcoords\":[{\"line\":{\"colorbar\":{\"outlinewidth\":0,\"ticks\":\"\"}},\"type\":\"parcoords\"}],\"pie\":[{\"automargin\":true,\"type\":\"pie\"}],\"scatter\":[{\"marker\":{\"colorbar\":{\"outlinewidth\":0,\"ticks\":\"\"}},\"type\":\"scatter\"}],\"scatter3d\":[{\"line\":{\"colorbar\":{\"outlinewidth\":0,\"ticks\":\"\"}},\"marker\":{\"colorbar\":{\"outlinewidth\":0,\"ticks\":\"\"}},\"type\":\"scatter3d\"}],\"scattercarpet\":[{\"marker\":{\"colorbar\":{\"outlinewidth\":0,\"ticks\":\"\"}},\"type\":\"scattercarpet\"}],\"scattergeo\":[{\"marker\":{\"colorbar\":{\"outlinewidth\":0,\"ticks\":\"\"}},\"type\":\"scattergeo\"}],\"scattergl\":[{\"marker\":{\"colorbar\":{\"outlinewidth\":0,\"ticks\":\"\"}},\"type\":\"scattergl\"}],\"scattermapbox\":[{\"marker\":{\"colorbar\":{\"outlinewidth\":0,\"ticks\":\"\"}},\"type\":\"scattermapbox\"}],\"scatterpolar\":[{\"marker\":{\"colorbar\":{\"outlinewidth\":0,\"ticks\":\"\"}},\"type\":\"scatterpolar\"}],\"scatterpolargl\":[{\"marker\":{\"colorbar\":{\"outlinewidth\":0,\"ticks\":\"\"}},\"type\":\"scatterpolargl\"}],\"scatterternary\":[{\"marker\":{\"colorbar\":{\"outlinewidth\":0,\"ticks\":\"\"}},\"type\":\"scatterternary\"}],\"surface\":[{\"colorbar\":{\"outlinewidth\":0,\"ticks\":\"\"},\"colorscale\":[[0.0,\"#0d0887\"],[0.1111111111111111,\"#46039f\"],[0.2222222222222222,\"#7201a8\"],[0.3333333333333333,\"#9c179e\"],[0.4444444444444444,\"#bd3786\"],[0.5555555555555556,\"#d8576b\"],[0.6666666666666666,\"#ed7953\"],[0.7777777777777778,\"#fb9f3a\"],[0.8888888888888888,\"#fdca26\"],[1.0,\"#f0f921\"]],\"type\":\"surface\"}],\"table\":[{\"cells\":{\"fill\":{\"color\":\"#EBF0F8\"},\"line\":{\"color\":\"white\"}},\"header\":{\"fill\":{\"color\":\"#C8D4E3\"},\"line\":{\"color\":\"white\"}},\"type\":\"table\"}]},\"layout\":{\"annotationdefaults\":{\"arrowcolor\":\"#2a3f5f\",\"arrowhead\":0,\"arrowwidth\":1},\"autotypenumbers\":\"strict\",\"coloraxis\":{\"colorbar\":{\"outlinewidth\":0,\"ticks\":\"\"}},\"colorscale\":{\"diverging\":[[0,\"#8e0152\"],[0.1,\"#c51b7d\"],[0.2,\"#de77ae\"],[0.3,\"#f1b6da\"],[0.4,\"#fde0ef\"],[0.5,\"#f7f7f7\"],[0.6,\"#e6f5d0\"],[0.7,\"#b8e186\"],[0.8,\"#7fbc41\"],[0.9,\"#4d9221\"],[1,\"#276419\"]],\"sequential\":[[0.0,\"#0d0887\"],[0.1111111111111111,\"#46039f\"],[0.2222222222222222,\"#7201a8\"],[0.3333333333333333,\"#9c179e\"],[0.4444444444444444,\"#bd3786\"],[0.5555555555555556,\"#d8576b\"],[0.6666666666666666,\"#ed7953\"],[0.7777777777777778,\"#fb9f3a\"],[0.8888888888888888,\"#fdca26\"],[1.0,\"#f0f921\"]],\"sequentialminus\":[[0.0,\"#0d0887\"],[0.1111111111111111,\"#46039f\"],[0.2222222222222222,\"#7201a8\"],[0.3333333333333333,\"#9c179e\"],[0.4444444444444444,\"#bd3786\"],[0.5555555555555556,\"#d8576b\"],[0.6666666666666666,\"#ed7953\"],[0.7777777777777778,\"#fb9f3a\"],[0.8888888888888888,\"#fdca26\"],[1.0,\"#f0f921\"]]},\"colorway\":[\"#636efa\",\"#EF553B\",\"#00cc96\",\"#ab63fa\",\"#FFA15A\",\"#19d3f3\",\"#FF6692\",\"#B6E880\",\"#FF97FF\",\"#FECB52\"],\"font\":{\"color\":\"#2a3f5f\"},\"geo\":{\"bgcolor\":\"white\",\"lakecolor\":\"white\",\"landcolor\":\"#E5ECF6\",\"showlakes\":true,\"showland\":true,\"subunitcolor\":\"white\"},\"hoverlabel\":{\"align\":\"left\"},\"hovermode\":\"closest\",\"mapbox\":{\"style\":\"light\"},\"paper_bgcolor\":\"white\",\"plot_bgcolor\":\"#E5ECF6\",\"polar\":{\"angularaxis\":{\"gridcolor\":\"white\",\"linecolor\":\"white\",\"ticks\":\"\"},\"bgcolor\":\"#E5ECF6\",\"radialaxis\":{\"gridcolor\":\"white\",\"linecolor\":\"white\",\"ticks\":\"\"}},\"scene\":{\"xaxis\":{\"backgroundcolor\":\"#E5ECF6\",\"gridcolor\":\"white\",\"gridwidth\":2,\"linecolor\":\"white\",\"showbackground\":true,\"ticks\":\"\",\"zerolinecolor\":\"white\"},\"yaxis\":{\"backgroundcolor\":\"#E5ECF6\",\"gridcolor\":\"white\",\"gridwidth\":2,\"linecolor\":\"white\",\"showbackground\":true,\"ticks\":\"\",\"zerolinecolor\":\"white\"},\"zaxis\":{\"backgroundcolor\":\"#E5ECF6\",\"gridcolor\":\"white\",\"gridwidth\":2,\"linecolor\":\"white\",\"showbackground\":true,\"ticks\":\"\",\"zerolinecolor\":\"white\"}},\"shapedefaults\":{\"line\":{\"color\":\"#2a3f5f\"}},\"ternary\":{\"aaxis\":{\"gridcolor\":\"white\",\"linecolor\":\"white\",\"ticks\":\"\"},\"baxis\":{\"gridcolor\":\"white\",\"linecolor\":\"white\",\"ticks\":\"\"},\"bgcolor\":\"#E5ECF6\",\"caxis\":{\"gridcolor\":\"white\",\"linecolor\":\"white\",\"ticks\":\"\"}},\"title\":{\"x\":0.05},\"xaxis\":{\"automargin\":true,\"gridcolor\":\"white\",\"linecolor\":\"white\",\"ticks\":\"\",\"title\":{\"standoff\":15},\"zerolinecolor\":\"white\",\"zerolinewidth\":2},\"yaxis\":{\"automargin\":true,\"gridcolor\":\"white\",\"linecolor\":\"white\",\"ticks\":\"\",\"title\":{\"standoff\":15},\"zerolinecolor\":\"white\",\"zerolinewidth\":2}}},\"xaxis\":{\"anchor\":\"y\",\"domain\":[0.0,1.0],\"title\":{\"text\":\"based on p-values < 0.05\"}},\"yaxis\":{\"anchor\":\"x\",\"domain\":[0.0,1.0],\"title\":{\"text\":\"count\"}},\"legend\":{\"title\":{\"text\":\"color\"},\"tracegroupgap\":0},\"title\":{\"text\":\"Do the daily sentiment influence the daily Box Office sales?\"},\"barmode\":\"relative\"},                        {\"responsive\": true}                    ).then(function(){\n",
       "                            \n",
       "var gd = document.getElementById('5e7d0d2a-9360-4700-a4c2-a9f19c46c732');\n",
       "var x = new MutationObserver(function (mutations, observer) {{\n",
       "        var display = window.getComputedStyle(gd).display;\n",
       "        if (!display || display === 'none') {{\n",
       "            console.log([gd, 'removed!']);\n",
       "            Plotly.purge(gd);\n",
       "            observer.disconnect();\n",
       "        }}\n",
       "}});\n",
       "\n",
       "// Listen for the removal of the full notebook cells\n",
       "var notebookContainer = gd.closest('#notebook-container');\n",
       "if (notebookContainer) {{\n",
       "    x.observe(notebookContainer, {childList: true});\n",
       "}}\n",
       "\n",
       "// Listen for the clearing of the current output cell\n",
       "var outputEl = gd.closest('.output');\n",
       "if (outputEl) {{\n",
       "    x.observe(outputEl, {childList: true});\n",
       "}}\n",
       "\n",
       "                        })                };                });            </script>        </div>"
      ]
     },
     "metadata": {},
     "output_type": "display_data"
    }
   ],
   "source": [
    "import plotly.express as px\n",
    "\n",
    "fig = px.bar(x=temp.reject, y=(np.ones(len(temp.reject))), labels={'x':'based on p-values < 0.05', 'y':'count'},\n",
    "            hover_name =temp.movie,\n",
    "            color=temp.reject, #sent2box[:,0],\n",
    "            color_discrete_sequence=['#B51F1F', '#00A79F'],\n",
    "            title='Do the daily sentiment influence the daily Box Office sales?')\n",
    "fig.show()"
   ]
  },
  {
   "cell_type": "markdown",
   "id": "652df0ff",
   "metadata": {},
   "source": [
    "So there does not seem to be a complete agreeing that the time series sentiment of a movie influence the time series box office of the same movie, but we see that it seems like there's a larger fraction of movies where the Box Office temporal data can be said to be Granger caused by the daily multiplied sentiment of the movie.\n",
    "\n",
    "But wait a minute! This is a multiple comparisons problem as we are investigating several statistical tests at once. Let's first adjust the p-values with the Bonferroni method to account for false-positives before making further conclusions."
   ]
  },
  {
   "cell_type": "code",
   "execution_count": 223,
   "id": "d8bbc5c2",
   "metadata": {},
   "outputs": [],
   "source": [
    "from statsmodels.stats.multitest import multipletests"
   ]
  },
  {
   "cell_type": "code",
   "execution_count": 224,
   "id": "d047edc1",
   "metadata": {},
   "outputs": [],
   "source": [
    "reject_sent2box, adj_pvals_sent2box, _, _ = multipletests(sent2box[:,1].astype(float), alpha=0.05, method='bonferroni')\n",
    "reject_box2sent, adj_pvals_box2sent, _, _ = multipletests(p_vals_box2sent, alpha=0.05, method='bonferroni')"
   ]
  },
  {
   "cell_type": "code",
   "execution_count": 225,
   "id": "aee3ed72",
   "metadata": {},
   "outputs": [
    {
     "data": {
      "text/html": [
       "<div>\n",
       "<style scoped>\n",
       "    .dataframe tbody tr th:only-of-type {\n",
       "        vertical-align: middle;\n",
       "    }\n",
       "\n",
       "    .dataframe tbody tr th {\n",
       "        vertical-align: top;\n",
       "    }\n",
       "\n",
       "    .dataframe thead th {\n",
       "        text-align: right;\n",
       "    }\n",
       "</style>\n",
       "<table border=\"1\" class=\"dataframe\">\n",
       "  <thead>\n",
       "    <tr style=\"text-align: right;\">\n",
       "      <th></th>\n",
       "      <th>reject</th>\n",
       "      <th>p_vals</th>\n",
       "      <th>movie</th>\n",
       "    </tr>\n",
       "  </thead>\n",
       "  <tbody>\n",
       "    <tr>\n",
       "      <th>0</th>\n",
       "      <td>True</td>\n",
       "      <td>0.0357</td>\n",
       "      <td>Aladdin</td>\n",
       "    </tr>\n",
       "    <tr>\n",
       "      <th>1</th>\n",
       "      <td>False</td>\n",
       "      <td>0.1326</td>\n",
       "      <td>Aquaman</td>\n",
       "    </tr>\n",
       "    <tr>\n",
       "      <th>2</th>\n",
       "      <td>False</td>\n",
       "      <td>1.0000</td>\n",
       "      <td>Avengers: Age of Ultron</td>\n",
       "    </tr>\n",
       "    <tr>\n",
       "      <th>3</th>\n",
       "      <td>True</td>\n",
       "      <td>0.0102</td>\n",
       "      <td>Avengers: Endgame</td>\n",
       "    </tr>\n",
       "    <tr>\n",
       "      <th>4</th>\n",
       "      <td>False</td>\n",
       "      <td>1.0000</td>\n",
       "      <td>Avengers: Infinity War</td>\n",
       "    </tr>\n",
       "  </tbody>\n",
       "</table>\n",
       "</div>"
      ],
      "text/plain": [
       "   reject  p_vals                    movie\n",
       "0    True  0.0357                  Aladdin\n",
       "1   False  0.1326                  Aquaman\n",
       "2   False  1.0000  Avengers: Age of Ultron\n",
       "3    True  0.0102        Avengers: Endgame\n",
       "4   False  1.0000   Avengers: Infinity War"
      ]
     },
     "execution_count": 225,
     "metadata": {},
     "output_type": "execute_result"
    }
   ],
   "source": [
    "adj_pvals_df = pd.DataFrame(adj_pvals_sent2box, reject_sent2box)\n",
    "adj_pvals_df['movie'] = sent2box[:,0]\n",
    "adj_pvals_df = adj_pvals_df.reset_index().rename(columns={0: 'p_vals', 'index': 'reject'})\n",
    "adj_pvals_df.head()"
   ]
  },
  {
   "cell_type": "code",
   "execution_count": 226,
   "id": "b263dbae",
   "metadata": {},
   "outputs": [
    {
     "data": {
      "application/vnd.plotly.v1+json": {
       "config": {
        "plotlyServerURL": "https://plot.ly"
       },
       "data": [
        {
         "alignmentgroup": "True",
         "hovertemplate": "<b>%{hovertext}</b><br><br>color=True<br>based on adjusted p-values < 0.05=%{x}<br>count=%{y}<extra></extra>",
         "hovertext": [
          "Aladdin",
          "Avengers: Endgame",
          "Black Panther",
          "Deadpool",
          "Fantastic Beasts: The Crimes of Grindelwald",
          "Fast & Furious 7",
          "Jumanji: The Next Level",
          "Minions",
          "Spectre",
          "Star Wars: Episode VII - The Force Awakens",
          "The Jungle Book",
          "Toy Story 4",
          "Wonder Woman"
         ],
         "legendgroup": "True",
         "marker": {
          "color": "#B51F1F",
          "pattern": {
           "shape": ""
          }
         },
         "name": "True",
         "offsetgroup": "True",
         "orientation": "v",
         "showlegend": true,
         "textposition": "auto",
         "type": "bar",
         "x": [
          true,
          true,
          true,
          true,
          true,
          true,
          true,
          true,
          true,
          true,
          true,
          true,
          true
         ],
         "xaxis": "x",
         "y": [
          1,
          1,
          1,
          1,
          1,
          1,
          1,
          1,
          1,
          1,
          1,
          1,
          1
         ],
         "yaxis": "y"
        },
        {
         "alignmentgroup": "True",
         "hovertemplate": "<b>%{hovertext}</b><br><br>color=False<br>based on adjusted p-values < 0.05=%{x}<br>count=%{y}<extra></extra>",
         "hovertext": [
          "Aquaman",
          "Avengers: Age of Ultron",
          "Avengers: Infinity War",
          "Bad Boys for Life",
          "Batman v Superman: Dawn of Justice",
          "Beauty and the Beast",
          "Birds of Prey: And the Fantabulous Emancipation of One Harley Quinn",
          "Bohemian Rhapsody",
          "Captain America: Civil War",
          "Captain Marvel",
          "Deadpool 2",
          "Despicable Me 3",
          "Dolittle",
          "Fantastic Beasts and Where to Find Them",
          "Finding Dory",
          "Frozen II",
          "Guardians of the Galaxy Vol. 2",
          "Incredibles 2",
          "Inside Out",
          "Joker",
          "Jumanji: Welcome to the Jungle",
          "Jurassic World: Fallen Kingdom",
          "Jurassic World",
          "Onward",
          "Sonic the Hedgehog",
          "Rogue One",
          "Star Wars: Episode IX - The Rise of Skywalker",
          "Star Wars: Episode VIII - The Last Jedi",
          "Suicide Squad",
          "The Fate of the Furious",
          "The Hunger Games: Mockingjay - Part 2",
          "The Invisible Man",
          "The Lion King",
          "The Martian",
          "The Secret Life of Pets",
          "Thor: Ragnarok",
          "Venom",
          "Zootopia"
         ],
         "legendgroup": "False",
         "marker": {
          "color": "#00A79F",
          "pattern": {
           "shape": ""
          }
         },
         "name": "False",
         "offsetgroup": "False",
         "orientation": "v",
         "showlegend": true,
         "textposition": "auto",
         "type": "bar",
         "x": [
          false,
          false,
          false,
          false,
          false,
          false,
          false,
          false,
          false,
          false,
          false,
          false,
          false,
          false,
          false,
          false,
          false,
          false,
          false,
          false,
          false,
          false,
          false,
          false,
          false,
          false,
          false,
          false,
          false,
          false,
          false,
          false,
          false,
          false,
          false,
          false,
          false,
          false
         ],
         "xaxis": "x",
         "y": [
          1,
          1,
          1,
          1,
          1,
          1,
          1,
          1,
          1,
          1,
          1,
          1,
          1,
          1,
          1,
          1,
          1,
          1,
          1,
          1,
          1,
          1,
          1,
          1,
          1,
          1,
          1,
          1,
          1,
          1,
          1,
          1,
          1,
          1,
          1,
          1,
          1,
          1
         ],
         "yaxis": "y"
        }
       ],
       "layout": {
        "barmode": "relative",
        "legend": {
         "title": {
          "text": "color"
         },
         "tracegroupgap": 0
        },
        "template": {
         "data": {
          "bar": [
           {
            "error_x": {
             "color": "#2a3f5f"
            },
            "error_y": {
             "color": "#2a3f5f"
            },
            "marker": {
             "line": {
              "color": "#E5ECF6",
              "width": 0.5
             },
             "pattern": {
              "fillmode": "overlay",
              "size": 10,
              "solidity": 0.2
             }
            },
            "type": "bar"
           }
          ],
          "barpolar": [
           {
            "marker": {
             "line": {
              "color": "#E5ECF6",
              "width": 0.5
             },
             "pattern": {
              "fillmode": "overlay",
              "size": 10,
              "solidity": 0.2
             }
            },
            "type": "barpolar"
           }
          ],
          "carpet": [
           {
            "aaxis": {
             "endlinecolor": "#2a3f5f",
             "gridcolor": "white",
             "linecolor": "white",
             "minorgridcolor": "white",
             "startlinecolor": "#2a3f5f"
            },
            "baxis": {
             "endlinecolor": "#2a3f5f",
             "gridcolor": "white",
             "linecolor": "white",
             "minorgridcolor": "white",
             "startlinecolor": "#2a3f5f"
            },
            "type": "carpet"
           }
          ],
          "choropleth": [
           {
            "colorbar": {
             "outlinewidth": 0,
             "ticks": ""
            },
            "type": "choropleth"
           }
          ],
          "contour": [
           {
            "colorbar": {
             "outlinewidth": 0,
             "ticks": ""
            },
            "colorscale": [
             [
              0,
              "#0d0887"
             ],
             [
              0.1111111111111111,
              "#46039f"
             ],
             [
              0.2222222222222222,
              "#7201a8"
             ],
             [
              0.3333333333333333,
              "#9c179e"
             ],
             [
              0.4444444444444444,
              "#bd3786"
             ],
             [
              0.5555555555555556,
              "#d8576b"
             ],
             [
              0.6666666666666666,
              "#ed7953"
             ],
             [
              0.7777777777777778,
              "#fb9f3a"
             ],
             [
              0.8888888888888888,
              "#fdca26"
             ],
             [
              1,
              "#f0f921"
             ]
            ],
            "type": "contour"
           }
          ],
          "contourcarpet": [
           {
            "colorbar": {
             "outlinewidth": 0,
             "ticks": ""
            },
            "type": "contourcarpet"
           }
          ],
          "heatmap": [
           {
            "colorbar": {
             "outlinewidth": 0,
             "ticks": ""
            },
            "colorscale": [
             [
              0,
              "#0d0887"
             ],
             [
              0.1111111111111111,
              "#46039f"
             ],
             [
              0.2222222222222222,
              "#7201a8"
             ],
             [
              0.3333333333333333,
              "#9c179e"
             ],
             [
              0.4444444444444444,
              "#bd3786"
             ],
             [
              0.5555555555555556,
              "#d8576b"
             ],
             [
              0.6666666666666666,
              "#ed7953"
             ],
             [
              0.7777777777777778,
              "#fb9f3a"
             ],
             [
              0.8888888888888888,
              "#fdca26"
             ],
             [
              1,
              "#f0f921"
             ]
            ],
            "type": "heatmap"
           }
          ],
          "heatmapgl": [
           {
            "colorbar": {
             "outlinewidth": 0,
             "ticks": ""
            },
            "colorscale": [
             [
              0,
              "#0d0887"
             ],
             [
              0.1111111111111111,
              "#46039f"
             ],
             [
              0.2222222222222222,
              "#7201a8"
             ],
             [
              0.3333333333333333,
              "#9c179e"
             ],
             [
              0.4444444444444444,
              "#bd3786"
             ],
             [
              0.5555555555555556,
              "#d8576b"
             ],
             [
              0.6666666666666666,
              "#ed7953"
             ],
             [
              0.7777777777777778,
              "#fb9f3a"
             ],
             [
              0.8888888888888888,
              "#fdca26"
             ],
             [
              1,
              "#f0f921"
             ]
            ],
            "type": "heatmapgl"
           }
          ],
          "histogram": [
           {
            "marker": {
             "pattern": {
              "fillmode": "overlay",
              "size": 10,
              "solidity": 0.2
             }
            },
            "type": "histogram"
           }
          ],
          "histogram2d": [
           {
            "colorbar": {
             "outlinewidth": 0,
             "ticks": ""
            },
            "colorscale": [
             [
              0,
              "#0d0887"
             ],
             [
              0.1111111111111111,
              "#46039f"
             ],
             [
              0.2222222222222222,
              "#7201a8"
             ],
             [
              0.3333333333333333,
              "#9c179e"
             ],
             [
              0.4444444444444444,
              "#bd3786"
             ],
             [
              0.5555555555555556,
              "#d8576b"
             ],
             [
              0.6666666666666666,
              "#ed7953"
             ],
             [
              0.7777777777777778,
              "#fb9f3a"
             ],
             [
              0.8888888888888888,
              "#fdca26"
             ],
             [
              1,
              "#f0f921"
             ]
            ],
            "type": "histogram2d"
           }
          ],
          "histogram2dcontour": [
           {
            "colorbar": {
             "outlinewidth": 0,
             "ticks": ""
            },
            "colorscale": [
             [
              0,
              "#0d0887"
             ],
             [
              0.1111111111111111,
              "#46039f"
             ],
             [
              0.2222222222222222,
              "#7201a8"
             ],
             [
              0.3333333333333333,
              "#9c179e"
             ],
             [
              0.4444444444444444,
              "#bd3786"
             ],
             [
              0.5555555555555556,
              "#d8576b"
             ],
             [
              0.6666666666666666,
              "#ed7953"
             ],
             [
              0.7777777777777778,
              "#fb9f3a"
             ],
             [
              0.8888888888888888,
              "#fdca26"
             ],
             [
              1,
              "#f0f921"
             ]
            ],
            "type": "histogram2dcontour"
           }
          ],
          "mesh3d": [
           {
            "colorbar": {
             "outlinewidth": 0,
             "ticks": ""
            },
            "type": "mesh3d"
           }
          ],
          "parcoords": [
           {
            "line": {
             "colorbar": {
              "outlinewidth": 0,
              "ticks": ""
             }
            },
            "type": "parcoords"
           }
          ],
          "pie": [
           {
            "automargin": true,
            "type": "pie"
           }
          ],
          "scatter": [
           {
            "marker": {
             "colorbar": {
              "outlinewidth": 0,
              "ticks": ""
             }
            },
            "type": "scatter"
           }
          ],
          "scatter3d": [
           {
            "line": {
             "colorbar": {
              "outlinewidth": 0,
              "ticks": ""
             }
            },
            "marker": {
             "colorbar": {
              "outlinewidth": 0,
              "ticks": ""
             }
            },
            "type": "scatter3d"
           }
          ],
          "scattercarpet": [
           {
            "marker": {
             "colorbar": {
              "outlinewidth": 0,
              "ticks": ""
             }
            },
            "type": "scattercarpet"
           }
          ],
          "scattergeo": [
           {
            "marker": {
             "colorbar": {
              "outlinewidth": 0,
              "ticks": ""
             }
            },
            "type": "scattergeo"
           }
          ],
          "scattergl": [
           {
            "marker": {
             "colorbar": {
              "outlinewidth": 0,
              "ticks": ""
             }
            },
            "type": "scattergl"
           }
          ],
          "scattermapbox": [
           {
            "marker": {
             "colorbar": {
              "outlinewidth": 0,
              "ticks": ""
             }
            },
            "type": "scattermapbox"
           }
          ],
          "scatterpolar": [
           {
            "marker": {
             "colorbar": {
              "outlinewidth": 0,
              "ticks": ""
             }
            },
            "type": "scatterpolar"
           }
          ],
          "scatterpolargl": [
           {
            "marker": {
             "colorbar": {
              "outlinewidth": 0,
              "ticks": ""
             }
            },
            "type": "scatterpolargl"
           }
          ],
          "scatterternary": [
           {
            "marker": {
             "colorbar": {
              "outlinewidth": 0,
              "ticks": ""
             }
            },
            "type": "scatterternary"
           }
          ],
          "surface": [
           {
            "colorbar": {
             "outlinewidth": 0,
             "ticks": ""
            },
            "colorscale": [
             [
              0,
              "#0d0887"
             ],
             [
              0.1111111111111111,
              "#46039f"
             ],
             [
              0.2222222222222222,
              "#7201a8"
             ],
             [
              0.3333333333333333,
              "#9c179e"
             ],
             [
              0.4444444444444444,
              "#bd3786"
             ],
             [
              0.5555555555555556,
              "#d8576b"
             ],
             [
              0.6666666666666666,
              "#ed7953"
             ],
             [
              0.7777777777777778,
              "#fb9f3a"
             ],
             [
              0.8888888888888888,
              "#fdca26"
             ],
             [
              1,
              "#f0f921"
             ]
            ],
            "type": "surface"
           }
          ],
          "table": [
           {
            "cells": {
             "fill": {
              "color": "#EBF0F8"
             },
             "line": {
              "color": "white"
             }
            },
            "header": {
             "fill": {
              "color": "#C8D4E3"
             },
             "line": {
              "color": "white"
             }
            },
            "type": "table"
           }
          ]
         },
         "layout": {
          "annotationdefaults": {
           "arrowcolor": "#2a3f5f",
           "arrowhead": 0,
           "arrowwidth": 1
          },
          "autotypenumbers": "strict",
          "coloraxis": {
           "colorbar": {
            "outlinewidth": 0,
            "ticks": ""
           }
          },
          "colorscale": {
           "diverging": [
            [
             0,
             "#8e0152"
            ],
            [
             0.1,
             "#c51b7d"
            ],
            [
             0.2,
             "#de77ae"
            ],
            [
             0.3,
             "#f1b6da"
            ],
            [
             0.4,
             "#fde0ef"
            ],
            [
             0.5,
             "#f7f7f7"
            ],
            [
             0.6,
             "#e6f5d0"
            ],
            [
             0.7,
             "#b8e186"
            ],
            [
             0.8,
             "#7fbc41"
            ],
            [
             0.9,
             "#4d9221"
            ],
            [
             1,
             "#276419"
            ]
           ],
           "sequential": [
            [
             0,
             "#0d0887"
            ],
            [
             0.1111111111111111,
             "#46039f"
            ],
            [
             0.2222222222222222,
             "#7201a8"
            ],
            [
             0.3333333333333333,
             "#9c179e"
            ],
            [
             0.4444444444444444,
             "#bd3786"
            ],
            [
             0.5555555555555556,
             "#d8576b"
            ],
            [
             0.6666666666666666,
             "#ed7953"
            ],
            [
             0.7777777777777778,
             "#fb9f3a"
            ],
            [
             0.8888888888888888,
             "#fdca26"
            ],
            [
             1,
             "#f0f921"
            ]
           ],
           "sequentialminus": [
            [
             0,
             "#0d0887"
            ],
            [
             0.1111111111111111,
             "#46039f"
            ],
            [
             0.2222222222222222,
             "#7201a8"
            ],
            [
             0.3333333333333333,
             "#9c179e"
            ],
            [
             0.4444444444444444,
             "#bd3786"
            ],
            [
             0.5555555555555556,
             "#d8576b"
            ],
            [
             0.6666666666666666,
             "#ed7953"
            ],
            [
             0.7777777777777778,
             "#fb9f3a"
            ],
            [
             0.8888888888888888,
             "#fdca26"
            ],
            [
             1,
             "#f0f921"
            ]
           ]
          },
          "colorway": [
           "#636efa",
           "#EF553B",
           "#00cc96",
           "#ab63fa",
           "#FFA15A",
           "#19d3f3",
           "#FF6692",
           "#B6E880",
           "#FF97FF",
           "#FECB52"
          ],
          "font": {
           "color": "#2a3f5f"
          },
          "geo": {
           "bgcolor": "white",
           "lakecolor": "white",
           "landcolor": "#E5ECF6",
           "showlakes": true,
           "showland": true,
           "subunitcolor": "white"
          },
          "hoverlabel": {
           "align": "left"
          },
          "hovermode": "closest",
          "mapbox": {
           "style": "light"
          },
          "paper_bgcolor": "white",
          "plot_bgcolor": "#E5ECF6",
          "polar": {
           "angularaxis": {
            "gridcolor": "white",
            "linecolor": "white",
            "ticks": ""
           },
           "bgcolor": "#E5ECF6",
           "radialaxis": {
            "gridcolor": "white",
            "linecolor": "white",
            "ticks": ""
           }
          },
          "scene": {
           "xaxis": {
            "backgroundcolor": "#E5ECF6",
            "gridcolor": "white",
            "gridwidth": 2,
            "linecolor": "white",
            "showbackground": true,
            "ticks": "",
            "zerolinecolor": "white"
           },
           "yaxis": {
            "backgroundcolor": "#E5ECF6",
            "gridcolor": "white",
            "gridwidth": 2,
            "linecolor": "white",
            "showbackground": true,
            "ticks": "",
            "zerolinecolor": "white"
           },
           "zaxis": {
            "backgroundcolor": "#E5ECF6",
            "gridcolor": "white",
            "gridwidth": 2,
            "linecolor": "white",
            "showbackground": true,
            "ticks": "",
            "zerolinecolor": "white"
           }
          },
          "shapedefaults": {
           "line": {
            "color": "#2a3f5f"
           }
          },
          "ternary": {
           "aaxis": {
            "gridcolor": "white",
            "linecolor": "white",
            "ticks": ""
           },
           "baxis": {
            "gridcolor": "white",
            "linecolor": "white",
            "ticks": ""
           },
           "bgcolor": "#E5ECF6",
           "caxis": {
            "gridcolor": "white",
            "linecolor": "white",
            "ticks": ""
           }
          },
          "title": {
           "x": 0.05
          },
          "xaxis": {
           "automargin": true,
           "gridcolor": "white",
           "linecolor": "white",
           "ticks": "",
           "title": {
            "standoff": 15
           },
           "zerolinecolor": "white",
           "zerolinewidth": 2
          },
          "yaxis": {
           "automargin": true,
           "gridcolor": "white",
           "linecolor": "white",
           "ticks": "",
           "title": {
            "standoff": 15
           },
           "zerolinecolor": "white",
           "zerolinewidth": 2
          }
         }
        },
        "title": {
         "text": "Do the daily sentiment influence the daily Box Office sales?"
        },
        "xaxis": {
         "anchor": "y",
         "domain": [
          0,
          1
         ],
         "title": {
          "text": "based on adjusted p-values < 0.05"
         }
        },
        "yaxis": {
         "anchor": "x",
         "domain": [
          0,
          1
         ],
         "title": {
          "text": "count"
         }
        }
       }
      },
      "text/html": [
       "<div>                            <div id=\"10ddf7c4-29d1-42bb-86fd-39eca8393f1d\" class=\"plotly-graph-div\" style=\"height:525px; width:100%;\"></div>            <script type=\"text/javascript\">                require([\"plotly\"], function(Plotly) {                    window.PLOTLYENV=window.PLOTLYENV || {};                                    if (document.getElementById(\"10ddf7c4-29d1-42bb-86fd-39eca8393f1d\")) {                    Plotly.newPlot(                        \"10ddf7c4-29d1-42bb-86fd-39eca8393f1d\",                        [{\"alignmentgroup\":\"True\",\"hovertemplate\":\"<b>%{hovertext}</b><br><br>color=True<br>based on adjusted p-values < 0.05=%{x}<br>count=%{y}<extra></extra>\",\"hovertext\":[\"Aladdin\",\"Avengers: Endgame\",\"Black Panther\",\"Deadpool\",\"Fantastic Beasts: The Crimes of Grindelwald\",\"Fast & Furious 7\",\"Jumanji: The Next Level\",\"Minions\",\"Spectre\",\"Star Wars: Episode VII - The Force Awakens\",\"The Jungle Book\",\"Toy Story 4\",\"Wonder Woman\"],\"legendgroup\":\"True\",\"marker\":{\"color\":\"#B51F1F\",\"pattern\":{\"shape\":\"\"}},\"name\":\"True\",\"offsetgroup\":\"True\",\"orientation\":\"v\",\"showlegend\":true,\"textposition\":\"auto\",\"x\":[true,true,true,true,true,true,true,true,true,true,true,true,true],\"xaxis\":\"x\",\"y\":[1.0,1.0,1.0,1.0,1.0,1.0,1.0,1.0,1.0,1.0,1.0,1.0,1.0],\"yaxis\":\"y\",\"type\":\"bar\"},{\"alignmentgroup\":\"True\",\"hovertemplate\":\"<b>%{hovertext}</b><br><br>color=False<br>based on adjusted p-values < 0.05=%{x}<br>count=%{y}<extra></extra>\",\"hovertext\":[\"Aquaman\",\"Avengers: Age of Ultron\",\"Avengers: Infinity War\",\"Bad Boys for Life\",\"Batman v Superman: Dawn of Justice\",\"Beauty and the Beast\",\"Birds of Prey: And the Fantabulous Emancipation of One Harley Quinn\",\"Bohemian Rhapsody\",\"Captain America: Civil War\",\"Captain Marvel\",\"Deadpool 2\",\"Despicable Me 3\",\"Dolittle\",\"Fantastic Beasts and Where to Find Them\",\"Finding Dory\",\"Frozen II\",\"Guardians of the Galaxy Vol. 2\",\"Incredibles 2\",\"Inside Out\",\"Joker\",\"Jumanji: Welcome to the Jungle\",\"Jurassic World: Fallen Kingdom\",\"Jurassic World\",\"Onward\",\"Sonic the Hedgehog\",\"Rogue One\",\"Star Wars: Episode IX - The Rise of Skywalker\",\"Star Wars: Episode VIII - The Last Jedi\",\"Suicide Squad\",\"The Fate of the Furious\",\"The Hunger Games: Mockingjay - Part 2\",\"The Invisible Man\",\"The Lion King\",\"The Martian\",\"The Secret Life of Pets\",\"Thor: Ragnarok\",\"Venom\",\"Zootopia\"],\"legendgroup\":\"False\",\"marker\":{\"color\":\"#00A79F\",\"pattern\":{\"shape\":\"\"}},\"name\":\"False\",\"offsetgroup\":\"False\",\"orientation\":\"v\",\"showlegend\":true,\"textposition\":\"auto\",\"x\":[false,false,false,false,false,false,false,false,false,false,false,false,false,false,false,false,false,false,false,false,false,false,false,false,false,false,false,false,false,false,false,false,false,false,false,false,false,false],\"xaxis\":\"x\",\"y\":[1.0,1.0,1.0,1.0,1.0,1.0,1.0,1.0,1.0,1.0,1.0,1.0,1.0,1.0,1.0,1.0,1.0,1.0,1.0,1.0,1.0,1.0,1.0,1.0,1.0,1.0,1.0,1.0,1.0,1.0,1.0,1.0,1.0,1.0,1.0,1.0,1.0,1.0],\"yaxis\":\"y\",\"type\":\"bar\"}],                        {\"template\":{\"data\":{\"bar\":[{\"error_x\":{\"color\":\"#2a3f5f\"},\"error_y\":{\"color\":\"#2a3f5f\"},\"marker\":{\"line\":{\"color\":\"#E5ECF6\",\"width\":0.5},\"pattern\":{\"fillmode\":\"overlay\",\"size\":10,\"solidity\":0.2}},\"type\":\"bar\"}],\"barpolar\":[{\"marker\":{\"line\":{\"color\":\"#E5ECF6\",\"width\":0.5},\"pattern\":{\"fillmode\":\"overlay\",\"size\":10,\"solidity\":0.2}},\"type\":\"barpolar\"}],\"carpet\":[{\"aaxis\":{\"endlinecolor\":\"#2a3f5f\",\"gridcolor\":\"white\",\"linecolor\":\"white\",\"minorgridcolor\":\"white\",\"startlinecolor\":\"#2a3f5f\"},\"baxis\":{\"endlinecolor\":\"#2a3f5f\",\"gridcolor\":\"white\",\"linecolor\":\"white\",\"minorgridcolor\":\"white\",\"startlinecolor\":\"#2a3f5f\"},\"type\":\"carpet\"}],\"choropleth\":[{\"colorbar\":{\"outlinewidth\":0,\"ticks\":\"\"},\"type\":\"choropleth\"}],\"contour\":[{\"colorbar\":{\"outlinewidth\":0,\"ticks\":\"\"},\"colorscale\":[[0.0,\"#0d0887\"],[0.1111111111111111,\"#46039f\"],[0.2222222222222222,\"#7201a8\"],[0.3333333333333333,\"#9c179e\"],[0.4444444444444444,\"#bd3786\"],[0.5555555555555556,\"#d8576b\"],[0.6666666666666666,\"#ed7953\"],[0.7777777777777778,\"#fb9f3a\"],[0.8888888888888888,\"#fdca26\"],[1.0,\"#f0f921\"]],\"type\":\"contour\"}],\"contourcarpet\":[{\"colorbar\":{\"outlinewidth\":0,\"ticks\":\"\"},\"type\":\"contourcarpet\"}],\"heatmap\":[{\"colorbar\":{\"outlinewidth\":0,\"ticks\":\"\"},\"colorscale\":[[0.0,\"#0d0887\"],[0.1111111111111111,\"#46039f\"],[0.2222222222222222,\"#7201a8\"],[0.3333333333333333,\"#9c179e\"],[0.4444444444444444,\"#bd3786\"],[0.5555555555555556,\"#d8576b\"],[0.6666666666666666,\"#ed7953\"],[0.7777777777777778,\"#fb9f3a\"],[0.8888888888888888,\"#fdca26\"],[1.0,\"#f0f921\"]],\"type\":\"heatmap\"}],\"heatmapgl\":[{\"colorbar\":{\"outlinewidth\":0,\"ticks\":\"\"},\"colorscale\":[[0.0,\"#0d0887\"],[0.1111111111111111,\"#46039f\"],[0.2222222222222222,\"#7201a8\"],[0.3333333333333333,\"#9c179e\"],[0.4444444444444444,\"#bd3786\"],[0.5555555555555556,\"#d8576b\"],[0.6666666666666666,\"#ed7953\"],[0.7777777777777778,\"#fb9f3a\"],[0.8888888888888888,\"#fdca26\"],[1.0,\"#f0f921\"]],\"type\":\"heatmapgl\"}],\"histogram\":[{\"marker\":{\"pattern\":{\"fillmode\":\"overlay\",\"size\":10,\"solidity\":0.2}},\"type\":\"histogram\"}],\"histogram2d\":[{\"colorbar\":{\"outlinewidth\":0,\"ticks\":\"\"},\"colorscale\":[[0.0,\"#0d0887\"],[0.1111111111111111,\"#46039f\"],[0.2222222222222222,\"#7201a8\"],[0.3333333333333333,\"#9c179e\"],[0.4444444444444444,\"#bd3786\"],[0.5555555555555556,\"#d8576b\"],[0.6666666666666666,\"#ed7953\"],[0.7777777777777778,\"#fb9f3a\"],[0.8888888888888888,\"#fdca26\"],[1.0,\"#f0f921\"]],\"type\":\"histogram2d\"}],\"histogram2dcontour\":[{\"colorbar\":{\"outlinewidth\":0,\"ticks\":\"\"},\"colorscale\":[[0.0,\"#0d0887\"],[0.1111111111111111,\"#46039f\"],[0.2222222222222222,\"#7201a8\"],[0.3333333333333333,\"#9c179e\"],[0.4444444444444444,\"#bd3786\"],[0.5555555555555556,\"#d8576b\"],[0.6666666666666666,\"#ed7953\"],[0.7777777777777778,\"#fb9f3a\"],[0.8888888888888888,\"#fdca26\"],[1.0,\"#f0f921\"]],\"type\":\"histogram2dcontour\"}],\"mesh3d\":[{\"colorbar\":{\"outlinewidth\":0,\"ticks\":\"\"},\"type\":\"mesh3d\"}],\"parcoords\":[{\"line\":{\"colorbar\":{\"outlinewidth\":0,\"ticks\":\"\"}},\"type\":\"parcoords\"}],\"pie\":[{\"automargin\":true,\"type\":\"pie\"}],\"scatter\":[{\"marker\":{\"colorbar\":{\"outlinewidth\":0,\"ticks\":\"\"}},\"type\":\"scatter\"}],\"scatter3d\":[{\"line\":{\"colorbar\":{\"outlinewidth\":0,\"ticks\":\"\"}},\"marker\":{\"colorbar\":{\"outlinewidth\":0,\"ticks\":\"\"}},\"type\":\"scatter3d\"}],\"scattercarpet\":[{\"marker\":{\"colorbar\":{\"outlinewidth\":0,\"ticks\":\"\"}},\"type\":\"scattercarpet\"}],\"scattergeo\":[{\"marker\":{\"colorbar\":{\"outlinewidth\":0,\"ticks\":\"\"}},\"type\":\"scattergeo\"}],\"scattergl\":[{\"marker\":{\"colorbar\":{\"outlinewidth\":0,\"ticks\":\"\"}},\"type\":\"scattergl\"}],\"scattermapbox\":[{\"marker\":{\"colorbar\":{\"outlinewidth\":0,\"ticks\":\"\"}},\"type\":\"scattermapbox\"}],\"scatterpolar\":[{\"marker\":{\"colorbar\":{\"outlinewidth\":0,\"ticks\":\"\"}},\"type\":\"scatterpolar\"}],\"scatterpolargl\":[{\"marker\":{\"colorbar\":{\"outlinewidth\":0,\"ticks\":\"\"}},\"type\":\"scatterpolargl\"}],\"scatterternary\":[{\"marker\":{\"colorbar\":{\"outlinewidth\":0,\"ticks\":\"\"}},\"type\":\"scatterternary\"}],\"surface\":[{\"colorbar\":{\"outlinewidth\":0,\"ticks\":\"\"},\"colorscale\":[[0.0,\"#0d0887\"],[0.1111111111111111,\"#46039f\"],[0.2222222222222222,\"#7201a8\"],[0.3333333333333333,\"#9c179e\"],[0.4444444444444444,\"#bd3786\"],[0.5555555555555556,\"#d8576b\"],[0.6666666666666666,\"#ed7953\"],[0.7777777777777778,\"#fb9f3a\"],[0.8888888888888888,\"#fdca26\"],[1.0,\"#f0f921\"]],\"type\":\"surface\"}],\"table\":[{\"cells\":{\"fill\":{\"color\":\"#EBF0F8\"},\"line\":{\"color\":\"white\"}},\"header\":{\"fill\":{\"color\":\"#C8D4E3\"},\"line\":{\"color\":\"white\"}},\"type\":\"table\"}]},\"layout\":{\"annotationdefaults\":{\"arrowcolor\":\"#2a3f5f\",\"arrowhead\":0,\"arrowwidth\":1},\"autotypenumbers\":\"strict\",\"coloraxis\":{\"colorbar\":{\"outlinewidth\":0,\"ticks\":\"\"}},\"colorscale\":{\"diverging\":[[0,\"#8e0152\"],[0.1,\"#c51b7d\"],[0.2,\"#de77ae\"],[0.3,\"#f1b6da\"],[0.4,\"#fde0ef\"],[0.5,\"#f7f7f7\"],[0.6,\"#e6f5d0\"],[0.7,\"#b8e186\"],[0.8,\"#7fbc41\"],[0.9,\"#4d9221\"],[1,\"#276419\"]],\"sequential\":[[0.0,\"#0d0887\"],[0.1111111111111111,\"#46039f\"],[0.2222222222222222,\"#7201a8\"],[0.3333333333333333,\"#9c179e\"],[0.4444444444444444,\"#bd3786\"],[0.5555555555555556,\"#d8576b\"],[0.6666666666666666,\"#ed7953\"],[0.7777777777777778,\"#fb9f3a\"],[0.8888888888888888,\"#fdca26\"],[1.0,\"#f0f921\"]],\"sequentialminus\":[[0.0,\"#0d0887\"],[0.1111111111111111,\"#46039f\"],[0.2222222222222222,\"#7201a8\"],[0.3333333333333333,\"#9c179e\"],[0.4444444444444444,\"#bd3786\"],[0.5555555555555556,\"#d8576b\"],[0.6666666666666666,\"#ed7953\"],[0.7777777777777778,\"#fb9f3a\"],[0.8888888888888888,\"#fdca26\"],[1.0,\"#f0f921\"]]},\"colorway\":[\"#636efa\",\"#EF553B\",\"#00cc96\",\"#ab63fa\",\"#FFA15A\",\"#19d3f3\",\"#FF6692\",\"#B6E880\",\"#FF97FF\",\"#FECB52\"],\"font\":{\"color\":\"#2a3f5f\"},\"geo\":{\"bgcolor\":\"white\",\"lakecolor\":\"white\",\"landcolor\":\"#E5ECF6\",\"showlakes\":true,\"showland\":true,\"subunitcolor\":\"white\"},\"hoverlabel\":{\"align\":\"left\"},\"hovermode\":\"closest\",\"mapbox\":{\"style\":\"light\"},\"paper_bgcolor\":\"white\",\"plot_bgcolor\":\"#E5ECF6\",\"polar\":{\"angularaxis\":{\"gridcolor\":\"white\",\"linecolor\":\"white\",\"ticks\":\"\"},\"bgcolor\":\"#E5ECF6\",\"radialaxis\":{\"gridcolor\":\"white\",\"linecolor\":\"white\",\"ticks\":\"\"}},\"scene\":{\"xaxis\":{\"backgroundcolor\":\"#E5ECF6\",\"gridcolor\":\"white\",\"gridwidth\":2,\"linecolor\":\"white\",\"showbackground\":true,\"ticks\":\"\",\"zerolinecolor\":\"white\"},\"yaxis\":{\"backgroundcolor\":\"#E5ECF6\",\"gridcolor\":\"white\",\"gridwidth\":2,\"linecolor\":\"white\",\"showbackground\":true,\"ticks\":\"\",\"zerolinecolor\":\"white\"},\"zaxis\":{\"backgroundcolor\":\"#E5ECF6\",\"gridcolor\":\"white\",\"gridwidth\":2,\"linecolor\":\"white\",\"showbackground\":true,\"ticks\":\"\",\"zerolinecolor\":\"white\"}},\"shapedefaults\":{\"line\":{\"color\":\"#2a3f5f\"}},\"ternary\":{\"aaxis\":{\"gridcolor\":\"white\",\"linecolor\":\"white\",\"ticks\":\"\"},\"baxis\":{\"gridcolor\":\"white\",\"linecolor\":\"white\",\"ticks\":\"\"},\"bgcolor\":\"#E5ECF6\",\"caxis\":{\"gridcolor\":\"white\",\"linecolor\":\"white\",\"ticks\":\"\"}},\"title\":{\"x\":0.05},\"xaxis\":{\"automargin\":true,\"gridcolor\":\"white\",\"linecolor\":\"white\",\"ticks\":\"\",\"title\":{\"standoff\":15},\"zerolinecolor\":\"white\",\"zerolinewidth\":2},\"yaxis\":{\"automargin\":true,\"gridcolor\":\"white\",\"linecolor\":\"white\",\"ticks\":\"\",\"title\":{\"standoff\":15},\"zerolinecolor\":\"white\",\"zerolinewidth\":2}}},\"xaxis\":{\"anchor\":\"y\",\"domain\":[0.0,1.0],\"title\":{\"text\":\"based on adjusted p-values < 0.05\"}},\"yaxis\":{\"anchor\":\"x\",\"domain\":[0.0,1.0],\"title\":{\"text\":\"count\"}},\"legend\":{\"title\":{\"text\":\"color\"},\"tracegroupgap\":0},\"title\":{\"text\":\"Do the daily sentiment influence the daily Box Office sales?\"},\"barmode\":\"relative\"},                        {\"responsive\": true}                    ).then(function(){\n",
       "                            \n",
       "var gd = document.getElementById('10ddf7c4-29d1-42bb-86fd-39eca8393f1d');\n",
       "var x = new MutationObserver(function (mutations, observer) {{\n",
       "        var display = window.getComputedStyle(gd).display;\n",
       "        if (!display || display === 'none') {{\n",
       "            console.log([gd, 'removed!']);\n",
       "            Plotly.purge(gd);\n",
       "            observer.disconnect();\n",
       "        }}\n",
       "}});\n",
       "\n",
       "// Listen for the removal of the full notebook cells\n",
       "var notebookContainer = gd.closest('#notebook-container');\n",
       "if (notebookContainer) {{\n",
       "    x.observe(notebookContainer, {childList: true});\n",
       "}}\n",
       "\n",
       "// Listen for the clearing of the current output cell\n",
       "var outputEl = gd.closest('.output');\n",
       "if (outputEl) {{\n",
       "    x.observe(outputEl, {childList: true});\n",
       "}}\n",
       "\n",
       "                        })                };                });            </script>        </div>"
      ]
     },
     "metadata": {},
     "output_type": "display_data"
    }
   ],
   "source": [
    "import plotly.express as px\n",
    "\n",
    "fig = px.bar(x=adj_pvals_df.reject, y=(np.ones(len(adj_pvals_df.reject))), labels={'x':'based on adjusted p-values < 0.05', 'y':'count'},\n",
    "            hover_name =adj_pvals_df.movie,\n",
    "            color=adj_pvals_df.reject, #sent2box[:,0],\n",
    "            color_discrete_sequence=['#B51F1F', '#00A79F'],\n",
    "            title='Do the daily sentiment influence the daily Box Office sales?')\n",
    "fig.show()"
   ]
  },
  {
   "cell_type": "markdown",
   "id": "9c9a5091",
   "metadata": {},
   "source": [
    "Indeed we do not see the same tendency in when looking at the statistical results based on the adjusted p-values. These are more valid and hence we conclude that even though the multiplied sentiment scores can be regarded as causing (in the sense of Granger causality) the Box Office sales for some movies, it is not the typical tendency. "
   ]
  },
  {
   "cell_type": "markdown",
   "id": "d89451a2",
   "metadata": {},
   "source": [
    "**Conclusion:** Even though the linear regression between multiplied BERT sentiment and Box Office sales are linearly related when examining the attributes without the temporal, we believe that the fit is too bad for the total sentiment scores for movies to be a good predictor on the total Box Office sales for movies. We furthermore see that the daily box office sales for some movies can be said to be caused (Granger causality) by the daily multiplied BERT sentiment of quotes but that the majority of movies do not have this relation between daily multiplied sentiment and daily box office sales."
   ]
  },
  {
   "cell_type": "code",
   "execution_count": null,
   "id": "3be01fcd",
   "metadata": {},
   "outputs": [],
   "source": []
  },
  {
   "cell_type": "code",
   "execution_count": null,
   "id": "5edb0e5a",
   "metadata": {},
   "outputs": [],
   "source": []
  },
  {
   "cell_type": "code",
   "execution_count": null,
   "id": "6c30d6a5",
   "metadata": {},
   "outputs": [],
   "source": []
  },
  {
   "cell_type": "code",
   "execution_count": null,
   "id": "ac57e370",
   "metadata": {},
   "outputs": [],
   "source": []
  },
  {
   "cell_type": "code",
   "execution_count": null,
   "id": "dd5854fc",
   "metadata": {},
   "outputs": [],
   "source": []
  },
  {
   "cell_type": "markdown",
   "id": "7071d3ff",
   "metadata": {},
   "source": [
    "### Weighted daily average sentiment - (WIP)"
   ]
  },
  {
   "cell_type": "code",
   "execution_count": 227,
   "id": "b579a5d5",
   "metadata": {},
   "outputs": [
    {
     "data": {
      "application/vnd.jupyter.widget-view+json": {
       "model_id": "78d03f7c73df4ab0881b7877be89d3c7",
       "version_major": 2,
       "version_minor": 0
      },
      "text/plain": [
       "  0%|          | 0/12717 [00:00<?, ?it/s]"
      ]
     },
     "metadata": {},
     "output_type": "display_data"
    },
    {
     "data": {
      "text/html": [
       "<div>\n",
       "<style scoped>\n",
       "    .dataframe tbody tr th:only-of-type {\n",
       "        vertical-align: middle;\n",
       "    }\n",
       "\n",
       "    .dataframe tbody tr th {\n",
       "        vertical-align: top;\n",
       "    }\n",
       "\n",
       "    .dataframe thead th {\n",
       "        text-align: right;\n",
       "    }\n",
       "</style>\n",
       "<table border=\"1\" class=\"dataframe\">\n",
       "  <thead>\n",
       "    <tr style=\"text-align: right;\">\n",
       "      <th></th>\n",
       "      <th></th>\n",
       "      <th>weighted_BERT</th>\n",
       "      <th>weighted_VADER</th>\n",
       "    </tr>\n",
       "    <tr>\n",
       "      <th>movie</th>\n",
       "      <th>days</th>\n",
       "      <th></th>\n",
       "      <th></th>\n",
       "    </tr>\n",
       "  </thead>\n",
       "  <tbody>\n",
       "    <tr>\n",
       "      <th rowspan=\"5\" valign=\"top\">Aladdin</th>\n",
       "      <th>2019-01-02</th>\n",
       "      <td>0.998775</td>\n",
       "      <td>0.992900</td>\n",
       "    </tr>\n",
       "    <tr>\n",
       "      <th>2019-01-03</th>\n",
       "      <td>0.676791</td>\n",
       "      <td>0.136600</td>\n",
       "    </tr>\n",
       "    <tr>\n",
       "      <th>2019-01-08</th>\n",
       "      <td>0.056652</td>\n",
       "      <td>0.182133</td>\n",
       "    </tr>\n",
       "    <tr>\n",
       "      <th>2019-01-13</th>\n",
       "      <td>0.999398</td>\n",
       "      <td>0.872000</td>\n",
       "    </tr>\n",
       "    <tr>\n",
       "      <th>2019-01-15</th>\n",
       "      <td>0.997019</td>\n",
       "      <td>0.486250</td>\n",
       "    </tr>\n",
       "    <tr>\n",
       "      <th>...</th>\n",
       "      <th>...</th>\n",
       "      <td>...</td>\n",
       "      <td>...</td>\n",
       "    </tr>\n",
       "    <tr>\n",
       "      <th rowspan=\"5\" valign=\"top\">Zootopia</th>\n",
       "      <th>2017-11-13</th>\n",
       "      <td>-0.965401</td>\n",
       "      <td>0.000000</td>\n",
       "    </tr>\n",
       "    <tr>\n",
       "      <th>2017-12-07</th>\n",
       "      <td>-0.034033</td>\n",
       "      <td>0.000000</td>\n",
       "    </tr>\n",
       "    <tr>\n",
       "      <th>2017-12-20</th>\n",
       "      <td>0.997421</td>\n",
       "      <td>0.680800</td>\n",
       "    </tr>\n",
       "    <tr>\n",
       "      <th>2017-12-26</th>\n",
       "      <td>0.727826</td>\n",
       "      <td>0.440400</td>\n",
       "    </tr>\n",
       "    <tr>\n",
       "      <th>2017-12-27</th>\n",
       "      <td>-0.997922</td>\n",
       "      <td>0.688000</td>\n",
       "    </tr>\n",
       "  </tbody>\n",
       "</table>\n",
       "<p>12717 rows × 2 columns</p>\n",
       "</div>"
      ],
      "text/plain": [
       "                     weighted_BERT  weighted_VADER\n",
       "movie    days                                     \n",
       "Aladdin  2019-01-02       0.998775        0.992900\n",
       "         2019-01-03       0.676791        0.136600\n",
       "         2019-01-08       0.056652        0.182133\n",
       "         2019-01-13       0.999398        0.872000\n",
       "         2019-01-15       0.997019        0.486250\n",
       "...                            ...             ...\n",
       "Zootopia 2017-11-13      -0.965401        0.000000\n",
       "         2017-12-07      -0.034033        0.000000\n",
       "         2017-12-20       0.997421        0.680800\n",
       "         2017-12-26       0.727826        0.440400\n",
       "         2017-12-27      -0.997922        0.688000\n",
       "\n",
       "[12717 rows x 2 columns]"
      ]
     },
     "execution_count": 227,
     "metadata": {},
     "output_type": "execute_result"
    }
   ],
   "source": [
    "temp_BERT = {}\n",
    "temp_VADER = {}\n",
    "\n",
    "for (movie, date), subframe in tqdm(df_Quotebank.groupby(['movie', 'days'])):    \n",
    "    weighted_average_BERT = (subframe.numOccurrences * subframe.positive_BERT_score).sum() / subframe.numOccurrences.sum() \n",
    "    weighted_average_VADER = (subframe.numOccurrences * subframe.VADER_score).sum() / subframe.numOccurrences.sum()\n",
    "    \n",
    "    temp_BERT[(movie, date)] = weighted_average_BERT\n",
    "    temp_VADER[(movie, date)] = weighted_average_VADER\n",
    "    \n",
    "wAvg_per_day = pd.DataFrame([pd.Series(temp_BERT), pd.Series(temp_VADER)]).T\n",
    "wAvg_per_day = wAvg_per_day.rename(columns={0: 'weighted_BERT', 1: 'weighted_VADER'})\n",
    "wAvg_per_day.index.names = ['movie', 'days']\n",
    "wAvg_per_day"
   ]
  },
  {
   "cell_type": "code",
   "execution_count": 234,
   "id": "42f366d4",
   "metadata": {},
   "outputs": [
    {
     "data": {
      "text/html": [
       "<div>\n",
       "<style scoped>\n",
       "    .dataframe tbody tr th:only-of-type {\n",
       "        vertical-align: middle;\n",
       "    }\n",
       "\n",
       "    .dataframe tbody tr th {\n",
       "        vertical-align: top;\n",
       "    }\n",
       "\n",
       "    .dataframe thead th {\n",
       "        text-align: right;\n",
       "    }\n",
       "</style>\n",
       "<table border=\"1\" class=\"dataframe\">\n",
       "  <thead>\n",
       "    <tr style=\"text-align: right;\">\n",
       "      <th></th>\n",
       "      <th>days</th>\n",
       "      <th>dow</th>\n",
       "      <th>rank</th>\n",
       "      <th>daily</th>\n",
       "      <th>theaters</th>\n",
       "      <th>movie</th>\n",
       "      <th>weighted_BERT</th>\n",
       "      <th>weighted_VADER</th>\n",
       "    </tr>\n",
       "  </thead>\n",
       "  <tbody>\n",
       "    <tr>\n",
       "      <th>0</th>\n",
       "      <td>2019-05-24</td>\n",
       "      <td>Friday</td>\n",
       "      <td>1</td>\n",
       "      <td>31358935.0</td>\n",
       "      <td>4476</td>\n",
       "      <td>Aladdin</td>\n",
       "      <td>0.559275</td>\n",
       "      <td>0.412236</td>\n",
       "    </tr>\n",
       "    <tr>\n",
       "      <th>1</th>\n",
       "      <td>2019-05-25</td>\n",
       "      <td>Saturday</td>\n",
       "      <td>1</td>\n",
       "      <td>30013295.0</td>\n",
       "      <td>4476</td>\n",
       "      <td>Aladdin</td>\n",
       "      <td>0.972841</td>\n",
       "      <td>0.785525</td>\n",
       "    </tr>\n",
       "    <tr>\n",
       "      <th>2</th>\n",
       "      <td>2019-05-26</td>\n",
       "      <td>Sunday</td>\n",
       "      <td>1</td>\n",
       "      <td>30128699.0</td>\n",
       "      <td>4476</td>\n",
       "      <td>Aladdin</td>\n",
       "      <td>0.605843</td>\n",
       "      <td>0.157200</td>\n",
       "    </tr>\n",
       "    <tr>\n",
       "      <th>3</th>\n",
       "      <td>2019-05-27</td>\n",
       "      <td>Monday</td>\n",
       "      <td>1</td>\n",
       "      <td>25305033.0</td>\n",
       "      <td>4476</td>\n",
       "      <td>Aladdin</td>\n",
       "      <td>0.553879</td>\n",
       "      <td>-0.065062</td>\n",
       "    </tr>\n",
       "    <tr>\n",
       "      <th>4</th>\n",
       "      <td>2019-05-28</td>\n",
       "      <td>Tuesday</td>\n",
       "      <td>1</td>\n",
       "      <td>12014982.0</td>\n",
       "      <td>4476</td>\n",
       "      <td>Aladdin</td>\n",
       "      <td>0.876066</td>\n",
       "      <td>-0.293050</td>\n",
       "    </tr>\n",
       "  </tbody>\n",
       "</table>\n",
       "</div>"
      ],
      "text/plain": [
       "         days       dow  rank       daily  theaters    movie  weighted_BERT  \\\n",
       "0  2019-05-24    Friday     1  31358935.0      4476  Aladdin       0.559275   \n",
       "1  2019-05-25  Saturday     1  30013295.0      4476  Aladdin       0.972841   \n",
       "2  2019-05-26    Sunday     1  30128699.0      4476  Aladdin       0.605843   \n",
       "3  2019-05-27    Monday     1  25305033.0      4476  Aladdin       0.553879   \n",
       "4  2019-05-28   Tuesday     1  12014982.0      4476  Aladdin       0.876066   \n",
       "\n",
       "   weighted_VADER  \n",
       "0        0.412236  \n",
       "1        0.785525  \n",
       "2        0.157200  \n",
       "3       -0.065062  \n",
       "4       -0.293050  "
      ]
     },
     "execution_count": 234,
     "metadata": {},
     "output_type": "execute_result"
    }
   ],
   "source": [
    "new_merged_df = df_boxOffice.drop('special events', axis=1).merge(wAvg_per_day, on=['movie', 'days'], how='left')\n",
    "new_merged_df.head()"
   ]
  },
  {
   "cell_type": "code",
   "execution_count": 235,
   "id": "f04832e0",
   "metadata": {},
   "outputs": [
    {
     "data": {
      "text/plain": [
       "days              False\n",
       "dow               False\n",
       "rank              False\n",
       "daily             False\n",
       "theaters          False\n",
       "movie             False\n",
       "weighted_BERT      True\n",
       "weighted_VADER     True\n",
       "dtype: bool"
      ]
     },
     "execution_count": 235,
     "metadata": {},
     "output_type": "execute_result"
    }
   ],
   "source": [
    "new_merged_df.isnull().any()"
   ]
  },
  {
   "cell_type": "code",
   "execution_count": 237,
   "id": "0ca66cae",
   "metadata": {},
   "outputs": [
    {
     "data": {
      "text/plain": [
       "days              False\n",
       "dow               False\n",
       "rank              False\n",
       "daily             False\n",
       "theaters          False\n",
       "movie             False\n",
       "weighted_BERT     False\n",
       "weighted_VADER    False\n",
       "dtype: bool"
      ]
     },
     "execution_count": 237,
     "metadata": {},
     "output_type": "execute_result"
    }
   ],
   "source": [
    "new_merged_df.fillna(0, inplace=True)\n",
    "new_merged_df.isnull().any()"
   ]
  },
  {
   "cell_type": "code",
   "execution_count": null,
   "id": "3b8ccdce",
   "metadata": {},
   "outputs": [],
   "source": []
  },
  {
   "cell_type": "code",
   "execution_count": null,
   "id": "d4d5a9ee",
   "metadata": {},
   "outputs": [],
   "source": []
  },
  {
   "cell_type": "code",
   "execution_count": null,
   "id": "53011757",
   "metadata": {},
   "outputs": [],
   "source": []
  },
  {
   "cell_type": "code",
   "execution_count": null,
   "id": "c0c48f19",
   "metadata": {},
   "outputs": [],
   "source": []
  },
  {
   "cell_type": "code",
   "execution_count": null,
   "id": "260f4613",
   "metadata": {},
   "outputs": [],
   "source": []
  },
  {
   "cell_type": "code",
   "execution_count": null,
   "id": "7fb9f661",
   "metadata": {},
   "outputs": [],
   "source": []
  },
  {
   "cell_type": "markdown",
   "id": "31c2e2be",
   "metadata": {},
   "source": [
    "## RQ 2.2: Sentiment and IMDb - (WIP)\n",
    "\n",
    "### Narrowing in the data frame to the use-case\n",
    "\n",
    "We start by cutting down the dataframe to its essence that is related to this research (sub)question. Other than the descriptive information about the movies, we need ratings from users, critics and eventually the distribution of votes across specific ratings. We might want to analyse the description of the movie too. Here are the attributes we keep so far (we might extend the selection later):\n",
    "\n",
    "`original_title` is the movie title agreeing with the Quotebank data.''\n",
    "\n",
    "`genre` is the movie genre.\n",
    "\n",
    "`year` is the year.\n",
    "\n",
    "`date_published` is the release date of the movie.\n",
    "\n",
    "`description` is a description about the movie. \n",
    "\n",
    "`metascore` is a rating of the film based on the world's most respective critics (weighted average). Possible maximum is 100. \n",
    "\n",
    "`weighted_average_vote` is the score IMDb weighted average rating. This is what appears on the IMDb webpage and is based on users votes. Possible maximum is 10.\n",
    "\n",
    "`votes` is the total number of votes.\n",
    "\n",
    "`votes_[1-10]` is number of votes with the specific rating.\n"
   ]
  },
  {
   "cell_type": "code",
   "execution_count": null,
   "id": "d135aca2",
   "metadata": {},
   "outputs": [],
   "source": [
    "votes_n = [f\"votes_{n}\" for n in range(1,11)]\n",
    "print(votes_n)"
   ]
  },
  {
   "cell_type": "code",
   "execution_count": null,
   "id": "c5fefc30",
   "metadata": {},
   "outputs": [],
   "source": [
    "# attributes of interest\n",
    "aoi = np.union1d(votes_n, ['original_title', 'genre', 'year', 'date_published', 'description', 'metascore', 'weighted_average_vote']).tolist()\n",
    "\n",
    "print(\"Attributes to keep:\")\n",
    "aoi"
   ]
  },
  {
   "cell_type": "code",
   "execution_count": null,
   "id": "ef03c7d6",
   "metadata": {},
   "outputs": [],
   "source": [
    "df_imdb = df_imdb[aoi]\n",
    "df_imdb.head()"
   ]
  },
  {
   "cell_type": "markdown",
   "id": "58eab6d6",
   "metadata": {},
   "source": [
    "We then want to calculate a representative sentiment score associated with each movie, that can eventually be scaled and compared with the IMDb ratings by users and critics. \n",
    "\n",
    "What we do now is different than in the box office approach. We still want to account for the importance of the number of occurrences of a quote related to a movie, but since we aim at comparing the sentiment scores for movies to the IMDb rating we cannot multiply and sum the sentiments on a given day, as sentiment scores can possibly be infinite positive or negative with that approach. Instead we calculate a daily sentiment score for each movie as the weighted average of the sentiment scores for all quotes related to the given movie on that day, where the number of occurrences is used as the weighting term. This is done by iterating through the `groupby` object that is created when grouping Quotebank by movie and dates."
   ]
  },
  {
   "cell_type": "code",
   "execution_count": null,
   "id": "ad9f1877",
   "metadata": {},
   "outputs": [],
   "source": [
    "temp_BERT = {}\n",
    "temp_VADER = {}\n",
    "\n",
    "for (movie, date), subframe in tqdm(df_Quotebank.groupby(['movie', 'days'])):    \n",
    "    weighted_average_BERT = (subframe.numOccurrences * subframe.positive_BERT_score).sum() / subframe.numOccurrences.sum() \n",
    "    weighted_average_VADER = (subframe.numOccurrences * subframe.VADER_score).sum() / subframe.numOccurrences.sum()\n",
    "    \n",
    "    temp_BERT[(movie, date)] = weighted_average_BERT\n",
    "    temp_VADER[(movie, date)] = weighted_average_VADER"
   ]
  },
  {
   "cell_type": "code",
   "execution_count": null,
   "id": "5e72be52",
   "metadata": {},
   "outputs": [],
   "source": [
    "wAvg_per_day = pd.DataFrame([pd.Series(temp_BERT), pd.Series(temp_VADER)]).T\n",
    "wAvg_per_day = wAvg_per_day.rename(columns={0: 'weighted_BERT', 1: 'weighted_VADER'})\n",
    "wAvg_per_day.index.names = ['movie', 'days']\n",
    "wAvg_per_day"
   ]
  },
  {
   "cell_type": "markdown",
   "id": "14adf35f",
   "metadata": {},
   "source": [
    "And by using the `describe` method of pandas we clearly see that the max- and minimum range is definetely bounded in the interval [-1, 1] that the re-expressed positive BERT scores also are."
   ]
  },
  {
   "cell_type": "code",
   "execution_count": null,
   "id": "9c9b4895",
   "metadata": {},
   "outputs": [],
   "source": [
    "wAvg_per_day.describe()"
   ]
  },
  {
   "cell_type": "markdown",
   "id": "87601ee6",
   "metadata": {},
   "source": [
    "When investigating the sentiment of quotes' relation to the box office sales we were restricted to the time period in which the movie was airing in the movie theaters. This is however not the case for IMDb as the data set does not contain the IMDb scores as a time series but solely as single values. We therefore find it relevant to use all of the quotes as the IMDb score is based on running votes/ratings and can have been affected by sentiment of quotes at all time points.\n",
    "\n",
    "For this reason we simply average the daily sentiment scores for each movie to obtain the final sentiment score associated with the movies. We provide a snippet below."
   ]
  },
  {
   "cell_type": "code",
   "execution_count": null,
   "id": "b011af8b",
   "metadata": {},
   "outputs": [],
   "source": [
    "sents_movie = wAvg_per_day.groupby('movie').mean()\n",
    "sents_movie.head()"
   ]
  },
  {
   "cell_type": "markdown",
   "id": "160be4cf",
   "metadata": {},
   "source": [
    "As we are interested in changing the scaling of this score to a predefined scaling, we make use of normalization. It resembles the min-max normalization we encountered in the lectures but differ by using our knowledge of the range of the scale that the data is on rather than using the minimum and maximum observed sentiment scores. Thus the formula for rescaling data in the range $[s_{low}, s_{high}]$ to the range $[t_{low}, t_{high}]$ looks as follows to ca:\n",
    "\n",
    "$$\n",
    "(t_{high}-t_{low}) \\frac{x - s_{low}}{s_{high}-s_{low}} + t_{low}\n",
    "$$\n",
    "\n",
    "The sentiment range theoretically lies between [-1, 1] and IMDb scores can theoretically lie between [1, 10] if all quotes or votes, respectively, about a movie are at the extreme values. Thus, the sentiment scores become:"
   ]
  },
  {
   "cell_type": "code",
   "execution_count": null,
   "id": "ef8d1114",
   "metadata": {},
   "outputs": [],
   "source": [
    "sents_movie = np.round((10-1) * (sents_movie + 1) / 2 + 1, 2)\n",
    "sents_movie.head()"
   ]
  },
  {
   "cell_type": "code",
   "execution_count": null,
   "id": "2ee2d7cb",
   "metadata": {},
   "outputs": [],
   "source": [
    "sents_movie.describe()"
   ]
  },
  {
   "cell_type": "markdown",
   "id": "1a46d114",
   "metadata": {},
   "source": [
    "And the sentiment scores are in fact now within that range :-) \n",
    "Let's see if the distribution of sentiment scores resemble the `weighted_average_score` that is based on IMDb users or the `metascore` that are based on critics opinion. We need to rescale `metascore` that has the possible range [0, 100]."
   ]
  },
  {
   "cell_type": "code",
   "execution_count": null,
   "id": "36033688",
   "metadata": {},
   "outputs": [],
   "source": [
    "metascore = (10-1) * df_imdb.metascore / 100 + 1\n",
    "df_imdb.loc[:, 'metascore'] = metascore\n",
    "metascore.head()"
   ]
  },
  {
   "cell_type": "markdown",
   "id": "74c9e0b4",
   "metadata": {},
   "source": [
    "Let's add everything to the imdb dataframe and describe it!"
   ]
  },
  {
   "cell_type": "code",
   "execution_count": null,
   "id": "7c87e5d2",
   "metadata": {},
   "outputs": [],
   "source": [
    "merged_df = df_imdb.merge(sents_movie, how='left', left_on=['original_title'], right_on=['movie']).set_index('original_title')\n",
    "merged_df = merged_df[['weighted_average_vote', 'metascore', 'weighted_BERT', 'weighted_VADER']]\n",
    "merged_df.describe()"
   ]
  },
  {
   "cell_type": "markdown",
   "id": "b987dc9b",
   "metadata": {},
   "source": [
    "So, by looking at the descriptive statistics of the scores neither the weighted BERT nor VADER seem to be that far from modelling the IMDb trends. This is further seen in the plots below."
   ]
  },
  {
   "cell_type": "code",
   "execution_count": null,
   "id": "bde6d59c",
   "metadata": {},
   "outputs": [],
   "source": [
    "merged_df.boxplot(figsize=((16,6)), grid=False)\n",
    "plt.show()"
   ]
  },
  {
   "cell_type": "code",
   "execution_count": null,
   "id": "ef0bedb8",
   "metadata": {},
   "outputs": [],
   "source": [
    "merged_df.hist(bins=11, figsize=((16,6)), grid=False, edgecolor='white', linewidth=1, alpha=0.65, sharex=True)[0]\n",
    "plt.xlabel('score')\n",
    "plt.ylabel('count')\n",
    "plt.show()"
   ]
  },
  {
   "cell_type": "markdown",
   "id": "c43dff2b",
   "metadata": {},
   "source": [
    "But what about more advanced statistics than just examining the distributions and instead looking at how these scores relate together using a statistical test."
   ]
  },
  {
   "cell_type": "code",
   "execution_count": null,
   "id": "a7f5081c",
   "metadata": {},
   "outputs": [],
   "source": [
    "import statsmodels.api as sm"
   ]
  },
  {
   "cell_type": "code",
   "execution_count": null,
   "id": "e235cd96",
   "metadata": {},
   "outputs": [],
   "source": []
  },
  {
   "cell_type": "code",
   "execution_count": null,
   "id": "44faef76",
   "metadata": {},
   "outputs": [],
   "source": []
  },
  {
   "cell_type": "code",
   "execution_count": null,
   "id": "e2430bae",
   "metadata": {},
   "outputs": [],
   "source": []
  },
  {
   "cell_type": "code",
   "execution_count": null,
   "id": "27696532",
   "metadata": {},
   "outputs": [],
   "source": []
  },
  {
   "cell_type": "code",
   "execution_count": null,
   "id": "df7bd3c1",
   "metadata": {},
   "outputs": [],
   "source": [
    "sns.scatterplot(x='weighted_BERT', y='weighted_average_vote', data=merged_df)\n",
    "sns.scatterplot(x='weighted_BERT', y='metascore', data=merged_df)\n",
    "plt.legend()"
   ]
  },
  {
   "cell_type": "code",
   "execution_count": null,
   "id": "1202b559",
   "metadata": {},
   "outputs": [],
   "source": [
    "mod = smf.ols(formula='metascore ~ weighted_BERT', data=merged_df)\n",
    "res = mod.fit()\n",
    "print(res.summary())"
   ]
  },
  {
   "cell_type": "code",
   "execution_count": null,
   "id": "87ae344e",
   "metadata": {},
   "outputs": [],
   "source": [
    "mod = smf.ols(formula='weighted_average_vote ~ weighted_BERT', data=merged_df)\n",
    "res = mod.fit()\n",
    "print(res.summary())"
   ]
  },
  {
   "cell_type": "code",
   "execution_count": null,
   "id": "9abd2f47",
   "metadata": {},
   "outputs": [],
   "source": []
  },
  {
   "cell_type": "code",
   "execution_count": null,
   "id": "32817f89",
   "metadata": {},
   "outputs": [],
   "source": []
  },
  {
   "cell_type": "code",
   "execution_count": null,
   "id": "712854b8",
   "metadata": {},
   "outputs": [],
   "source": []
  },
  {
   "cell_type": "code",
   "execution_count": null,
   "id": "ae6e4b64",
   "metadata": {},
   "outputs": [],
   "source": []
  },
  {
   "cell_type": "code",
   "execution_count": null,
   "id": "a0dd4437",
   "metadata": {},
   "outputs": [],
   "source": []
  },
  {
   "cell_type": "markdown",
   "id": "7581ce9f",
   "metadata": {},
   "source": [
    "Cool idea (too few data?): Supervised learning with IMDb scores as labels and quote sentiment used to model it."
   ]
  },
  {
   "cell_type": "markdown",
   "id": "67096eb7",
   "metadata": {},
   "source": [
    "BIG main question: Does the coverage sentiment influence the revenue? Bad coverage?\n",
    "\n",
    "56 box office (total), 56 sentiment (mean/total)  -  schmirnoff  -linear regression?"
   ]
  },
  {
   "cell_type": "markdown",
   "id": "f291c958",
   "metadata": {},
   "source": [
    "Look at some specific movies!"
   ]
  },
  {
   "cell_type": "code",
   "execution_count": null,
   "id": "589d678a",
   "metadata": {},
   "outputs": [],
   "source": []
  },
  {
   "cell_type": "code",
   "execution_count": null,
   "id": "210beff7",
   "metadata": {},
   "outputs": [],
   "source": []
  },
  {
   "cell_type": "code",
   "execution_count": null,
   "id": "584e9992",
   "metadata": {},
   "outputs": [],
   "source": []
  },
  {
   "cell_type": "code",
   "execution_count": null,
   "id": "a26b3661",
   "metadata": {},
   "outputs": [],
   "source": []
  },
  {
   "cell_type": "code",
   "execution_count": null,
   "id": "7afcc0f7",
   "metadata": {},
   "outputs": [],
   "source": []
  },
  {
   "cell_type": "code",
   "execution_count": null,
   "id": "08486f40",
   "metadata": {},
   "outputs": [],
   "source": []
  },
  {
   "cell_type": "code",
   "execution_count": null,
   "id": "83d68675",
   "metadata": {},
   "outputs": [],
   "source": []
  },
  {
   "cell_type": "code",
   "execution_count": null,
   "id": "515072ce",
   "metadata": {},
   "outputs": [],
   "source": []
  },
  {
   "cell_type": "code",
   "execution_count": null,
   "id": "de35606a",
   "metadata": {},
   "outputs": [],
   "source": []
  },
  {
   "cell_type": "code",
   "execution_count": null,
   "id": "a243d81e",
   "metadata": {},
   "outputs": [],
   "source": []
  },
  {
   "cell_type": "code",
   "execution_count": null,
   "id": "b78b9daa",
   "metadata": {},
   "outputs": [],
   "source": []
  },
  {
   "cell_type": "code",
   "execution_count": null,
   "id": "deaba130",
   "metadata": {},
   "outputs": [],
   "source": [
    "import plotly.express as px\n",
    "\n",
    "movie = 'Star Wars: Episode VII - The Force Awakens'\n",
    "sent_type = 'VADER'\n",
    "\n",
    "fig = px.bar(x=df_combined.days, y=df_combined[f'daily_{sent_type}_movie'], labels={'x':'date', 'y':f'{sent_type} sentiment'},\n",
    "            color=df_combined.movie,\n",
    "             #color_discrete_sequence=['indianred'],\n",
    "            title=f'sentiment for {movie}')\n",
    "\n",
    "fig.show()\n",
    "\n",
    "movie = 'Star Wars: Episode VII - The Force Awakens'\n",
    "sent_type = 'BERT'\n",
    "\n",
    "fig = px.bar(x=df_combined.days, y=df_combined[f'daily_{sent_type}_movie'], labels={'x':'date', 'y':f'{sent_type} sentiment'},\n",
    "            color=df_combined.movie,\n",
    "            #color_discrete_sequence=['indianred'],\n",
    "            title=f'sentiment for {movie}')\n",
    "\n",
    "fig.show()"
   ]
  },
  {
   "cell_type": "code",
   "execution_count": null,
   "id": "7c363b0f",
   "metadata": {},
   "outputs": [],
   "source": [
    "import plotly.express as px\n",
    "\n",
    "movie = 'Star Wars: Episode VII - The Force Awakens'\n",
    "sent_type = 'VADER'\n",
    "\n",
    "fig = px.bar(x=df_combined[df_combined.movie==movie].days, y=df_combined[df_combined.movie==movie][f'daily_{sent_type}_movie'], labels={'x':'date', 'y':f'{sent_type} sentiment'},\n",
    "            color_discrete_sequence=['indianred'],\n",
    "            title=f'sentiment for {movie}')\n",
    "\n",
    "fig.show()\n",
    "\n",
    "movie = 'Star Wars: Episode VII - The Force Awakens'\n",
    "sent_type = 'BERT'\n",
    "\n",
    "fig = px.bar(x=df_combined[df_combined.movie==movie].days, y=df_combined[df_combined.movie==movie][f'daily_{sent_type}_movie'], labels={'x':'date', 'y':f'{sent_type} sentiment'},\n",
    "            color_discrete_sequence=['indianred'],\n",
    "            title=f'sentiment for {movie}')\n",
    "\n",
    "fig.show()"
   ]
  },
  {
   "cell_type": "code",
   "execution_count": null,
   "id": "0daac961",
   "metadata": {},
   "outputs": [],
   "source": []
  },
  {
   "cell_type": "code",
   "execution_count": null,
   "id": "3c7472af",
   "metadata": {},
   "outputs": [],
   "source": []
  },
  {
   "cell_type": "code",
   "execution_count": null,
   "id": "35d16b08",
   "metadata": {},
   "outputs": [],
   "source": []
  },
  {
   "cell_type": "code",
   "execution_count": null,
   "id": "343e51d2",
   "metadata": {},
   "outputs": [],
   "source": []
  },
  {
   "cell_type": "code",
   "execution_count": null,
   "id": "a797c024",
   "metadata": {},
   "outputs": [],
   "source": []
  },
  {
   "cell_type": "code",
   "execution_count": null,
   "id": "e62ad754",
   "metadata": {},
   "outputs": [],
   "source": [
    "# transformer\n",
    "from transformers import pipeline\n",
    "classifier = pipeline(\"sentiment-analysis\")"
   ]
  },
  {
   "cell_type": "code",
   "execution_count": null,
   "id": "a0c61452",
   "metadata": {},
   "outputs": [],
   "source": [
    "sent_description = pd.Series([classifier(description) for description in tqdm(df_imdb['description'])])"
   ]
  },
  {
   "cell_type": "code",
   "execution_count": null,
   "id": "c4915fd2",
   "metadata": {},
   "outputs": [],
   "source": []
  },
  {
   "cell_type": "code",
   "execution_count": null,
   "id": "7559aeb6",
   "metadata": {},
   "outputs": [],
   "source": []
  },
  {
   "cell_type": "code",
   "execution_count": null,
   "id": "8a277a6f",
   "metadata": {},
   "outputs": [],
   "source": []
  },
  {
   "cell_type": "code",
   "execution_count": null,
   "id": "cc61eae1",
   "metadata": {},
   "outputs": [],
   "source": []
  },
  {
   "cell_type": "code",
   "execution_count": null,
   "id": "5bdbad25",
   "metadata": {},
   "outputs": [],
   "source": []
  }
 ],
 "metadata": {
  "kernelspec": {
   "display_name": "Python 3",
   "language": "python",
   "name": "python3"
  },
  "language_info": {
   "codemirror_mode": {
    "name": "ipython",
    "version": 3
   },
   "file_extension": ".py",
   "mimetype": "text/x-python",
   "name": "python",
   "nbconvert_exporter": "python",
   "pygments_lexer": "ipython3",
   "version": "3.8.8"
  }
 },
 "nbformat": 4,
 "nbformat_minor": 5
}
