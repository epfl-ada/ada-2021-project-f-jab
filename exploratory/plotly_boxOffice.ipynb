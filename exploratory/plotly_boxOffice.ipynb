{
 "cells": [
  {
   "cell_type": "markdown",
   "id": "89a2816f",
   "metadata": {},
   "source": [
    "# Box Office visual investigation across time\n",
    "\n",
    "This notebook investigate the box office across time by creating interactive animated plots of accumulated box office revenue with `plotly`.\n",
    "\n",
    "We take inspiration from the way [this article/post](#https://towardsdatascience.com/how-to-produce-an-animated-bar-plot-in-plotly-using-python-2b5b360492f8) uses plotly express to generate animated bar plots that changes based on year. We will however modify it to our approach and start by expressing the approach using auxiliary functions, that are import from the auxiliary python script, `plotly_aux.py`"
   ]
  },
  {
   "cell_type": "code",
   "execution_count": 1,
   "id": "4e0b3b13",
   "metadata": {},
   "outputs": [],
   "source": [
    "import os\n",
    "import pandas as pd\n",
    "\n",
    "from plotly_aux import *\n",
    "from raceplotly.plots import barplot"
   ]
  },
  {
   "cell_type": "markdown",
   "id": "6fb3c651",
   "metadata": {},
   "source": [
    "First we load the box office data frame."
   ]
  },
  {
   "cell_type": "code",
   "execution_count": 2,
   "id": "b30b98c1",
   "metadata": {},
   "outputs": [
    {
     "data": {
      "text/html": [
       "<div>\n",
       "<style scoped>\n",
       "    .dataframe tbody tr th:only-of-type {\n",
       "        vertical-align: middle;\n",
       "    }\n",
       "\n",
       "    .dataframe tbody tr th {\n",
       "        vertical-align: top;\n",
       "    }\n",
       "\n",
       "    .dataframe thead th {\n",
       "        text-align: right;\n",
       "    }\n",
       "</style>\n",
       "<table border=\"1\" class=\"dataframe\">\n",
       "  <thead>\n",
       "    <tr style=\"text-align: right;\">\n",
       "      <th></th>\n",
       "      <th>days</th>\n",
       "      <th>dow</th>\n",
       "      <th>rank</th>\n",
       "      <th>daily</th>\n",
       "      <th>theaters</th>\n",
       "      <th>special events</th>\n",
       "      <th>movie</th>\n",
       "    </tr>\n",
       "  </thead>\n",
       "  <tbody>\n",
       "    <tr>\n",
       "      <th>0</th>\n",
       "      <td>2019-05-24</td>\n",
       "      <td>Friday</td>\n",
       "      <td>1</td>\n",
       "      <td>31358935.0</td>\n",
       "      <td>4476</td>\n",
       "      <td>NaN</td>\n",
       "      <td>Aladdin</td>\n",
       "    </tr>\n",
       "    <tr>\n",
       "      <th>1</th>\n",
       "      <td>2019-05-25</td>\n",
       "      <td>Saturday</td>\n",
       "      <td>1</td>\n",
       "      <td>30013295.0</td>\n",
       "      <td>4476</td>\n",
       "      <td>NaN</td>\n",
       "      <td>Aladdin</td>\n",
       "    </tr>\n",
       "    <tr>\n",
       "      <th>2</th>\n",
       "      <td>2019-05-26</td>\n",
       "      <td>Sunday</td>\n",
       "      <td>1</td>\n",
       "      <td>30128699.0</td>\n",
       "      <td>4476</td>\n",
       "      <td>NaN</td>\n",
       "      <td>Aladdin</td>\n",
       "    </tr>\n",
       "    <tr>\n",
       "      <th>3</th>\n",
       "      <td>2019-05-27</td>\n",
       "      <td>Monday</td>\n",
       "      <td>1</td>\n",
       "      <td>25305033.0</td>\n",
       "      <td>4476</td>\n",
       "      <td>Memorial Day</td>\n",
       "      <td>Aladdin</td>\n",
       "    </tr>\n",
       "    <tr>\n",
       "      <th>4</th>\n",
       "      <td>2019-05-28</td>\n",
       "      <td>Tuesday</td>\n",
       "      <td>1</td>\n",
       "      <td>12014982.0</td>\n",
       "      <td>4476</td>\n",
       "      <td>NaN</td>\n",
       "      <td>Aladdin</td>\n",
       "    </tr>\n",
       "  </tbody>\n",
       "</table>\n",
       "</div>"
      ],
      "text/plain": [
       "         days       dow  rank       daily  theaters special events    movie\n",
       "0  2019-05-24    Friday     1  31358935.0      4476            NaN  Aladdin\n",
       "1  2019-05-25  Saturday     1  30013295.0      4476            NaN  Aladdin\n",
       "2  2019-05-26    Sunday     1  30128699.0      4476            NaN  Aladdin\n",
       "3  2019-05-27    Monday     1  25305033.0      4476   Memorial Day  Aladdin\n",
       "4  2019-05-28   Tuesday     1  12014982.0      4476            NaN  Aladdin"
      ]
     },
     "execution_count": 2,
     "metadata": {},
     "output_type": "execute_result"
    }
   ],
   "source": [
    "data_dir = os.getcwd() + os.sep + 'data'\n",
    "\n",
    "df_boxOffice = pd.read_pickle(rf\"{data_dir}{os.sep}boxOffice.pkl\")    \n",
    "df_boxOffice.head()"
   ]
  },
  {
   "cell_type": "markdown",
   "id": "bc7b26ac",
   "metadata": {},
   "source": [
    "We extract months that are to be used as the time axis on the animated plot and visualize the one of them to see what the time-index looks like."
   ]
  },
  {
   "cell_type": "code",
   "execution_count": 3,
   "id": "2427ef8d",
   "metadata": {},
   "outputs": [
    {
     "data": {
      "text/plain": [
       "'2019-05'"
      ]
     },
     "execution_count": 3,
     "metadata": {},
     "output_type": "execute_result"
    }
   ],
   "source": [
    "df_boxOffice['year-month'] = [(\"-\").join(date.split(\"-\")[:2]) for date in df_boxOffice['days']]\n",
    "df_boxOffice['year-month'].unique()[0]"
   ]
  },
  {
   "cell_type": "markdown",
   "id": "b5aad834",
   "metadata": {},
   "source": [
    "And now we can plot it! We start by visualizing a subsample of 10 random movies."
   ]
  },
  {
   "cell_type": "code",
   "execution_count": 4,
   "id": "fa4b6d23",
   "metadata": {},
   "outputs": [
    {
     "data": {
      "application/vnd.jupyter.widget-view+json": {
       "model_id": "f255da9f9dda45359ef1b740cb019e70",
       "version_major": 2,
       "version_minor": 0
      },
      "text/plain": [
       "  0%|          | 0/9 [00:00<?, ?it/s]"
      ]
     },
     "metadata": {},
     "output_type": "display_data"
    }
   ],
   "source": [
    "# specifying parameters\n",
    "N_samples = 10\n",
    "attribute = 'daily'\n",
    "y_label = 'Box Office revenue'\n",
    "time_attribute = 'year-month'\n",
    "title = f'Top 10 movies in terms of {y_label}'\n",
    "\n",
    "save_fig = False\n",
    "\n",
    "# creating dataframes\n",
    "df_boxOffice_wrangled = wrangleData(df_boxOffice, time_attribute=time_attribute)\n",
    "df_plot, df_sample= createPlotDF(df_boxOffice_wrangled, attribute=attribute, time_attribute=time_attribute, y_label=y_label, N_samples=N_samples)\n",
    "    \n",
    "# plotting figure\n",
    "fig = animatedBarPlot(df_plot, y_label=y_label, time_attribute=time_attribute, speed=0.4, title=title, save_fig=save_fig)"
   ]
  },
  {
   "cell_type": "code",
   "execution_count": 5,
   "id": "47b66bdd",
   "metadata": {},
   "outputs": [
    {
     "data": {
      "text/plain": [
       "movie\n",
       "Bohemian Rhapsody                          216303339.0\n",
       "Fantastic Beasts and Where to Find Them    234037575.0\n",
       "Fast & Furious 7                           351032910.0\n",
       "Incredibles 2                              608581744.0\n",
       "Inside Out                                 353612437.0\n",
       "The Hunger Games: Mockingjay - Part 2      281723902.0\n",
       "The Jungle Book                            364001123.0\n",
       "Thor: Ragnarok                             315058289.0\n",
       "Wonder Woman                               412563408.0\n",
       "Name: daily, dtype: float64"
      ]
     },
     "execution_count": 5,
     "metadata": {},
     "output_type": "execute_result"
    }
   ],
   "source": [
    "df_sample.groupby('movie')[attribute].sum()"
   ]
  },
  {
   "cell_type": "markdown",
   "id": "6aacf16f",
   "metadata": {},
   "source": [
    "And then we visualize it for all movies!"
   ]
  },
  {
   "cell_type": "code",
   "execution_count": 7,
   "id": "47097774",
   "metadata": {},
   "outputs": [
    {
     "data": {
      "application/vnd.jupyter.widget-view+json": {
       "model_id": "1d94c63dc23947cab6b71cbba777335e",
       "version_major": 2,
       "version_minor": 0
      },
      "text/plain": [
       "  0%|          | 0/56 [00:00<?, ?it/s]"
      ]
     },
     "metadata": {},
     "output_type": "display_data"
    },
    {
     "name": "stdout",
     "output_type": "stream",
     "text": [
      "saved html version of plot to: C:\\Users\\Albert Kjøller\\Documents\\EPFL\\Courses\\CS-401_ADA\\ada-2021-project-f-jab\\exploratory\\plotlyplots\n"
     ]
    }
   ],
   "source": [
    "# specifying parameters\n",
    "N_samples = None\n",
    "attribute = 'daily'\n",
    "y_label = 'Box Office revenue'\n",
    "time_attribute = 'year-month'\n",
    "title = ''# f'Top 10 movies in terms of {y_label}'\n",
    "\n",
    "save_fig = True\n",
    "\n",
    "# creating dataframes\n",
    "df_boxOffice_wrangled = wrangleData(df_boxOffice, time_attribute=time_attribute)\n",
    "df_plot, df_sample= createPlotDF(df_boxOffice_wrangled, attribute=attribute, time_attribute=time_attribute, y_label=y_label, N_samples=N_samples)\n",
    "    \n",
    "# plotting figure\n",
    "fig = animatedBarPlot(df_plot, y_label=y_label, time_attribute=time_attribute, speed=0.2, title=title, save_fig=save_fig)"
   ]
  },
  {
   "cell_type": "code",
   "execution_count": 7,
   "id": "1c3e1adf",
   "metadata": {},
   "outputs": [
    {
     "data": {
      "text/plain": [
       "movie\n",
       "Aladdin                                                                355559216.0\n",
       "Aquaman                                                                335061807.0\n",
       "Avengers: Age of Ultron                                                455530367.0\n",
       "Avengers: Endgame                                                      858373000.0\n",
       "Avengers: Infinity War                                                 678815482.0\n",
       "Bad Boys for Life                                                      204417855.0\n",
       "Batman v Superman: Dawn of Justice                                     330360194.0\n",
       "Beauty and the Beast                                                   504014165.0\n",
       "Birds of Prey: And the Fantabulous Emancipation of One Harley Quinn     84158461.0\n",
       "Black Panther                                                          700059566.0\n",
       "Bohemian Rhapsody                                                      216303339.0\n",
       "Captain America: Civil War                                             408084349.0\n",
       "Captain Marvel                                                         426829839.0\n",
       "Deadpool                                                               363042311.0\n",
       "Deadpool 2                                                             318482400.0\n",
       "Despicable Me 3                                                        264624300.0\n",
       "Dolittle                                                                77047065.0\n",
       "Fantastic Beasts and Where to Find Them                                234037575.0\n",
       "Fantastic Beasts: The Crimes of Grindelwald                            159555901.0\n",
       "Fast & Furious 7                                                       351032910.0\n",
       "Finding Dory                                                           486295561.0\n",
       "Frozen II                                                              477373578.0\n",
       "Guardians of the Galaxy Vol. 2                                         389813101.0\n",
       "Incredibles 2                                                          608581744.0\n",
       "Inside Out                                                             353612437.0\n",
       "Joker                                                                  335451311.0\n",
       "Jumanji: The Next Level                                                316831246.0\n",
       "Jumanji: Welcome to the Jungle                                         404515480.0\n",
       "Jurassic World                                                         652197981.0\n",
       "Jurassic World: Fallen Kingdom                                         416769345.0\n",
       "Minions                                                                336045770.0\n",
       "Mission: Impossible - Fallout                                          532177324.0\n",
       "Mission: Impossible - Rogue Nation                                     390532085.0\n",
       "Onward                                                                  61555145.0\n",
       "Rogue One                                                              334201140.0\n",
       "Sonic the Hedgehog                                                     146066470.0\n",
       "Spectre                                                                200074609.0\n",
       "Spider-Man: Far from Home                                              220159104.0\n",
       "Spider-Man: Homecoming                                                 195042377.0\n",
       "Star Wars: Episode IX - The Rise of Skywalker                          515202542.0\n",
       "Star Wars: Episode VII - The Force Awakens                             935644139.0\n",
       "Star Wars: Episode VIII - The Last Jedi                                620181382.0\n",
       "Suicide Squad                                                          325100054.0\n",
       "Tenet                                                                   55069965.0\n",
       "The Fate of the Furious                                                225764765.0\n",
       "The Hunger Games: Mockingjay - Part 2                                  281723902.0\n",
       "The Invisible Man                                                       64914050.0\n",
       "The Jungle Book                                                        364001123.0\n",
       "The Lion King                                                          543638043.0\n",
       "The Martian                                                            228395947.0\n",
       "The Secret Life of Pets                                                368384330.0\n",
       "Thor: Ragnarok                                                         315058289.0\n",
       "Toy Story 4                                                            434038008.0\n",
       "Venom                                                                  213515506.0\n",
       "Wonder Woman                                                           412563408.0\n",
       "Zootopia                                                               341268248.0\n",
       "Name: daily, dtype: float64"
      ]
     },
     "execution_count": 7,
     "metadata": {},
     "output_type": "execute_result"
    }
   ],
   "source": [
    "df_sample.groupby('movie')[attribute].sum()"
   ]
  },
  {
   "cell_type": "markdown",
   "id": "dc5b269d",
   "metadata": {},
   "source": [
    "The approach is also usable with a daily time indexing but has a longer running time and does not look as smooth when animated..."
   ]
  },
  {
   "cell_type": "code",
   "execution_count": 8,
   "id": "5f89cbe0",
   "metadata": {},
   "outputs": [
    {
     "data": {
      "text/plain": [
       "array(['2019-05-24', '2019-05-25', '2019-05-26', ..., '2021-04-13',\n",
       "       '2021-04-14', '2021-04-15'], dtype=object)"
      ]
     },
     "execution_count": 8,
     "metadata": {},
     "output_type": "execute_result"
    }
   ],
   "source": [
    "df_boxOffice.days.unique()"
   ]
  },
  {
   "cell_type": "code",
   "execution_count": 9,
   "id": "357bea40",
   "metadata": {},
   "outputs": [
    {
     "data": {
      "application/vnd.jupyter.widget-view+json": {
       "model_id": "9eecf78e76534325a58ab0ce9c68584d",
       "version_major": 2,
       "version_minor": 0
      },
      "text/plain": [
       "  0%|          | 0/9 [00:00<?, ?it/s]"
      ]
     },
     "metadata": {},
     "output_type": "display_data"
    }
   ],
   "source": [
    "# specifying parameters\n",
    "N_samples = 10\n",
    "attribute = 'daily'\n",
    "y_label = 'Box Office revenue'\n",
    "time_attribute = 'days'\n",
    "title = f'Accumulated {y_label} across {time_attribute}'\n",
    "\n",
    "save_fig = False\n",
    "\n",
    "# creating dataframes\n",
    "df_boxOffice_wrangled = wrangleData(df_boxOffice, time_attribute=time_attribute)\n",
    "df_plot, df_sample= createPlotDF(df_boxOffice_wrangled, attribute=attribute, time_attribute=time_attribute, y_label=y_label, N_samples=N_samples)\n",
    "    \n",
    "# plotting figure\n",
    "fig = animatedBarPlot(df_plot, y_label=y_label, time_attribute=time_attribute, speed=0.9, title=title, save_fig=save_fig)"
   ]
  },
  {
   "cell_type": "code",
   "execution_count": 10,
   "id": "63ceef88",
   "metadata": {},
   "outputs": [
    {
     "data": {
      "text/plain": [
       "movie\n",
       "Avengers: Infinity War                                                 678815482.0\n",
       "Birds of Prey: And the Fantabulous Emancipation of One Harley Quinn     84158461.0\n",
       "Bohemian Rhapsody                                                      216303339.0\n",
       "Fantastic Beasts and Where to Find Them                                234037575.0\n",
       "Fast & Furious 7                                                       351032910.0\n",
       "Jumanji: Welcome to the Jungle                                         404515480.0\n",
       "Spectre                                                                200074609.0\n",
       "The Hunger Games: Mockingjay - Part 2                                  281723902.0\n",
       "The Martian                                                            228395947.0\n",
       "Name: daily, dtype: float64"
      ]
     },
     "execution_count": 10,
     "metadata": {},
     "output_type": "execute_result"
    }
   ],
   "source": [
    "df_sample.groupby('movie')[attribute].sum()"
   ]
  },
  {
   "cell_type": "code",
   "execution_count": null,
   "id": "e37bc80d",
   "metadata": {},
   "outputs": [],
   "source": []
  },
  {
   "cell_type": "code",
   "execution_count": null,
   "id": "0e8b897f",
   "metadata": {},
   "outputs": [],
   "source": []
  }
 ],
 "metadata": {
  "kernelspec": {
   "display_name": "Python 3",
   "language": "python",
   "name": "python3"
  },
  "language_info": {
   "codemirror_mode": {
    "name": "ipython",
    "version": 3
   },
   "file_extension": ".py",
   "mimetype": "text/x-python",
   "name": "python",
   "nbconvert_exporter": "python",
   "pygments_lexer": "ipython3",
   "version": "3.8.8"
  }
 },
 "nbformat": 4,
 "nbformat_minor": 5
}
