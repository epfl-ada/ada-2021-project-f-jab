{
 "cells": [
  {
   "cell_type": "markdown",
   "id": "89a2816f",
   "metadata": {},
   "source": [
    "# Box Office visual investigation across time\n",
    "\n",
    "This notebook investigate the box office across time by creating interactive animated plots of accumulated box office revenue with `plotly`.\n",
    "\n",
    "We take inspiration from the way [this article/post](#https://towardsdatascience.com/how-to-produce-an-animated-bar-plot-in-plotly-using-python-2b5b360492f8) uses plotly express to generate animated bar plots that changes based on year. We will however modify it to our approach and start by expressing the approach using auxiliary functions, that are import from the auxiliary python script, `plotly_aux.py`"
   ]
  },
  {
   "cell_type": "code",
   "execution_count": 2,
   "id": "4e0b3b13",
   "metadata": {},
   "outputs": [],
   "source": [
    "import os\n",
    "import pandas as pd\n",
    "\n",
    "from plotly_aux import *\n",
    "from raceplotly.plots import barplot"
   ]
  },
  {
   "cell_type": "raw",
   "id": "c1594884",
   "metadata": {},
   "source": [
    "First we load the box office data frame."
   ]
  },
  {
   "cell_type": "code",
   "execution_count": 3,
   "id": "b30b98c1",
   "metadata": {},
   "outputs": [
    {
     "data": {
      "text/html": [
       "<div>\n",
       "<style scoped>\n",
       "    .dataframe tbody tr th:only-of-type {\n",
       "        vertical-align: middle;\n",
       "    }\n",
       "\n",
       "    .dataframe tbody tr th {\n",
       "        vertical-align: top;\n",
       "    }\n",
       "\n",
       "    .dataframe thead th {\n",
       "        text-align: right;\n",
       "    }\n",
       "</style>\n",
       "<table border=\"1\" class=\"dataframe\">\n",
       "  <thead>\n",
       "    <tr style=\"text-align: right;\">\n",
       "      <th></th>\n",
       "      <th>days</th>\n",
       "      <th>dow</th>\n",
       "      <th>rank</th>\n",
       "      <th>daily</th>\n",
       "      <th>theaters</th>\n",
       "      <th>special events</th>\n",
       "      <th>movie</th>\n",
       "    </tr>\n",
       "  </thead>\n",
       "  <tbody>\n",
       "    <tr>\n",
       "      <th>0</th>\n",
       "      <td>2019-05-24</td>\n",
       "      <td>Friday</td>\n",
       "      <td>1</td>\n",
       "      <td>31358935.0</td>\n",
       "      <td>4476</td>\n",
       "      <td>NaN</td>\n",
       "      <td>Aladdin</td>\n",
       "    </tr>\n",
       "    <tr>\n",
       "      <th>1</th>\n",
       "      <td>2019-05-25</td>\n",
       "      <td>Saturday</td>\n",
       "      <td>1</td>\n",
       "      <td>30013295.0</td>\n",
       "      <td>4476</td>\n",
       "      <td>NaN</td>\n",
       "      <td>Aladdin</td>\n",
       "    </tr>\n",
       "    <tr>\n",
       "      <th>2</th>\n",
       "      <td>2019-05-26</td>\n",
       "      <td>Sunday</td>\n",
       "      <td>1</td>\n",
       "      <td>30128699.0</td>\n",
       "      <td>4476</td>\n",
       "      <td>NaN</td>\n",
       "      <td>Aladdin</td>\n",
       "    </tr>\n",
       "    <tr>\n",
       "      <th>3</th>\n",
       "      <td>2019-05-27</td>\n",
       "      <td>Monday</td>\n",
       "      <td>1</td>\n",
       "      <td>25305033.0</td>\n",
       "      <td>4476</td>\n",
       "      <td>Memorial Day</td>\n",
       "      <td>Aladdin</td>\n",
       "    </tr>\n",
       "    <tr>\n",
       "      <th>4</th>\n",
       "      <td>2019-05-28</td>\n",
       "      <td>Tuesday</td>\n",
       "      <td>1</td>\n",
       "      <td>12014982.0</td>\n",
       "      <td>4476</td>\n",
       "      <td>NaN</td>\n",
       "      <td>Aladdin</td>\n",
       "    </tr>\n",
       "  </tbody>\n",
       "</table>\n",
       "</div>"
      ],
      "text/plain": [
       "         days       dow  rank       daily  theaters special events    movie\n",
       "0  2019-05-24    Friday     1  31358935.0      4476            NaN  Aladdin\n",
       "1  2019-05-25  Saturday     1  30013295.0      4476            NaN  Aladdin\n",
       "2  2019-05-26    Sunday     1  30128699.0      4476            NaN  Aladdin\n",
       "3  2019-05-27    Monday     1  25305033.0      4476   Memorial Day  Aladdin\n",
       "4  2019-05-28   Tuesday     1  12014982.0      4476            NaN  Aladdin"
      ]
     },
     "execution_count": 3,
     "metadata": {},
     "output_type": "execute_result"
    }
   ],
   "source": [
    "data_dir = os.getcwd() + os.sep + 'data'\n",
    "\n",
    "df_boxOffice = pd.read_pickle(rf\"{data_dir}{os.sep}boxOffice.pkl\")    \n",
    "df_boxOffice.head()"
   ]
  },
  {
   "cell_type": "markdown",
   "id": "bc7b26ac",
   "metadata": {},
   "source": [
    "We extract months that are to be used as the time axis on the animated plot and visualize the one of them to see what the time-index looks like."
   ]
  },
  {
   "cell_type": "code",
   "execution_count": 3,
   "id": "2427ef8d",
   "metadata": {},
   "outputs": [
    {
     "data": {
      "text/plain": [
       "'2019-05'"
      ]
     },
     "execution_count": 3,
     "metadata": {},
     "output_type": "execute_result"
    }
   ],
   "source": [
    "df_boxOffice['year-month'] = [(\"-\").join(date.split(\"-\")[:2]) for date in df_boxOffice['days']]\n",
    "df_boxOffice['year-month'].unique()[0]"
   ]
  },
  {
   "cell_type": "markdown",
   "id": "b5aad834",
   "metadata": {},
   "source": [
    "And now we can plot it! We start by visualizing a subsample of 10 random movies."
   ]
  },
  {
   "cell_type": "code",
   "execution_count": 4,
   "id": "fa4b6d23",
   "metadata": {},
   "outputs": [
    {
     "data": {
      "application/vnd.jupyter.widget-view+json": {
       "model_id": "e70e8cce52564339add096f7b86f2d17",
       "version_major": 2,
       "version_minor": 0
      },
      "text/plain": [
       "  0%|          | 0/10 [00:00<?, ?it/s]"
      ]
     },
     "metadata": {},
     "output_type": "display_data"
    }
   ],
   "source": [
    "# specifying parameters\n",
    "N_samples = 10\n",
    "attribute = 'daily'\n",
    "y_label = 'Box Office revenue'\n",
    "time_attribute = 'year-month'\n",
    "title = f'Top 10 movies in terms of {y_label}'\n",
    "\n",
    "save_fig = False\n",
    "\n",
    "# creating dataframes\n",
    "df_boxOffice_wrangled = wrangleData(df_boxOffice, time_attribute=time_attribute)\n",
    "df_plot, df_sample= createPlotDF(df_boxOffice_wrangled, attribute=attribute, time_attribute=time_attribute, y_label=y_label, N_samples=N_samples)\n",
    "    \n",
    "# plotting figure\n",
    "fig = animatedBarPlot(df_plot, y_label=y_label, time_attribute=time_attribute, speed=0.4, title=title, save_fig=save_fig)"
   ]
  },
  {
   "cell_type": "code",
   "execution_count": 5,
   "id": "47b66bdd",
   "metadata": {},
   "outputs": [
    {
     "data": {
      "text/plain": [
       "movie\n",
       "Aquaman                      335061807.0\n",
       "Captain Marvel               426829839.0\n",
       "Fast & Furious 7             351032910.0\n",
       "Finding Dory                 486295561.0\n",
       "Jumanji: The Next Level      316831246.0\n",
       "Spider-Man: Far from Home    220159104.0\n",
       "Spider-Man: Homecoming       195042377.0\n",
       "The Martian                  228395947.0\n",
       "Thor: Ragnarok               315058289.0\n",
       "Toy Story 4                  434038008.0\n",
       "Name: daily, dtype: float64"
      ]
     },
     "execution_count": 5,
     "metadata": {},
     "output_type": "execute_result"
    }
   ],
   "source": [
    "df_sample.groupby('movie')[attribute].sum()"
   ]
  },
  {
   "cell_type": "markdown",
   "id": "6aacf16f",
   "metadata": {},
   "source": [
    "And then we visualize it for all movies!"
   ]
  },
  {
   "cell_type": "code",
   "execution_count": 6,
   "id": "47097774",
   "metadata": {},
   "outputs": [
    {
     "data": {
      "application/vnd.jupyter.widget-view+json": {
       "model_id": "82759cc401ed47afb0f946a0e7969b7b",
       "version_major": 2,
       "version_minor": 0
      },
      "text/plain": [
       "  0%|          | 0/56 [00:00<?, ?it/s]"
      ]
     },
     "metadata": {},
     "output_type": "display_data"
    },
    {
     "name": "stdout",
     "output_type": "stream",
     "text": [
      "saved html version of plot to: C:\\Users\\Albert Kjøller\\Documents\\EPFL\\Courses\\CS-401_ADA\\ada-2021-project-f-jab\\exploratory\\plotlyplots\n"
     ]
    }
   ],
   "source": [
    "# specifying parameters\n",
    "N_samples = None\n",
    "attribute = 'daily'\n",
    "y_label = 'Box Office revenue'\n",
    "time_attribute = 'year-month'\n",
    "title = ''# f'Top 10 movies in terms of {y_label}'\n",
    "\n",
    "save_fig = True\n",
    "\n",
    "# creating dataframes\n",
    "df_boxOffice_wrangled = wrangleData(df_boxOffice, time_attribute=time_attribute)\n",
    "df_plot, df_sample= createPlotDF(df_boxOffice_wrangled, attribute=attribute, time_attribute=time_attribute, y_label=y_label, N_samples=N_samples)\n",
    "    \n",
    "# plotting figure\n",
    "fig = animatedBarPlot(df_plot, y_label=y_label, time_attribute=time_attribute, speed=0.2, title=title, save_fig=save_fig)"
   ]
  },
  {
   "cell_type": "code",
   "execution_count": 7,
   "id": "1c3e1adf",
   "metadata": {},
   "outputs": [
    {
     "data": {
      "text/plain": [
       "movie\n",
       "Aladdin                                                                355559216.0\n",
       "Aquaman                                                                335061807.0\n",
       "Avengers: Age of Ultron                                                455530367.0\n",
       "Avengers: Endgame                                                      858373000.0\n",
       "Avengers: Infinity War                                                 678815482.0\n",
       "Bad Boys for Life                                                      204417855.0\n",
       "Batman v Superman: Dawn of Justice                                     330360194.0\n",
       "Beauty and the Beast                                                   504014165.0\n",
       "Birds of Prey: And the Fantabulous Emancipation of One Harley Quinn     84158461.0\n",
       "Black Panther                                                          700059566.0\n",
       "Bohemian Rhapsody                                                      216303339.0\n",
       "Captain America: Civil War                                             408084349.0\n",
       "Captain Marvel                                                         426829839.0\n",
       "Deadpool                                                               363042311.0\n",
       "Deadpool 2                                                             318482400.0\n",
       "Despicable Me 3                                                        264624300.0\n",
       "Dolittle                                                                77047065.0\n",
       "Fantastic Beasts and Where to Find Them                                234037575.0\n",
       "Fantastic Beasts: The Crimes of Grindelwald                            159555901.0\n",
       "Fast & Furious 7                                                       351032910.0\n",
       "Finding Dory                                                           486295561.0\n",
       "Frozen II                                                              477373578.0\n",
       "Guardians of the Galaxy Vol. 2                                         389813101.0\n",
       "Incredibles 2                                                          608581744.0\n",
       "Inside Out                                                             353612437.0\n",
       "Joker                                                                  335451311.0\n",
       "Jumanji: The Next Level                                                316831246.0\n",
       "Jumanji: Welcome to the Jungle                                         404515480.0\n",
       "Jurassic World                                                         652197981.0\n",
       "Jurassic World: Fallen Kingdom                                         416769345.0\n",
       "Minions                                                                336045770.0\n",
       "Mission: Impossible - Fallout                                          532177324.0\n",
       "Mission: Impossible - Rogue Nation                                     390532085.0\n",
       "Onward                                                                  61555145.0\n",
       "Rogue One                                                              334201140.0\n",
       "Sonic the Hedgehog                                                     146066470.0\n",
       "Spectre                                                                200074609.0\n",
       "Spider-Man: Far from Home                                              220159104.0\n",
       "Spider-Man: Homecoming                                                 195042377.0\n",
       "Star Wars: Episode IX - The Rise of Skywalker                          515202542.0\n",
       "Star Wars: Episode VII - The Force Awakens                             935644139.0\n",
       "Star Wars: Episode VIII - The Last Jedi                                620181382.0\n",
       "Suicide Squad                                                          325100054.0\n",
       "Tenet                                                                   55069965.0\n",
       "The Fate of the Furious                                                225764765.0\n",
       "The Hunger Games: Mockingjay - Part 2                                  281723902.0\n",
       "The Invisible Man                                                       64914050.0\n",
       "The Jungle Book                                                        364001123.0\n",
       "The Lion King                                                          543638043.0\n",
       "The Martian                                                            228395947.0\n",
       "The Secret Life of Pets                                                368384330.0\n",
       "Thor: Ragnarok                                                         315058289.0\n",
       "Toy Story 4                                                            434038008.0\n",
       "Venom                                                                  213515506.0\n",
       "Wonder Woman                                                           412563408.0\n",
       "Zootopia                                                               341268248.0\n",
       "Name: daily, dtype: float64"
      ]
     },
     "execution_count": 7,
     "metadata": {},
     "output_type": "execute_result"
    }
   ],
   "source": [
    "df_sample.groupby('movie')[attribute].sum()"
   ]
  },
  {
   "cell_type": "markdown",
   "id": "dc5b269d",
   "metadata": {},
   "source": [
    "The approach is also usable with a daily time indexing but has a longer running time and does not look as smooth when animated..."
   ]
  },
  {
   "cell_type": "code",
   "execution_count": 8,
   "id": "5f89cbe0",
   "metadata": {},
   "outputs": [
    {
     "data": {
      "text/plain": [
       "array(['2019-05-24', '2019-05-25', '2019-05-26', ..., '2021-04-13',\n",
       "       '2021-04-14', '2021-04-15'], dtype=object)"
      ]
     },
     "execution_count": 8,
     "metadata": {},
     "output_type": "execute_result"
    }
   ],
   "source": [
    "df_boxOffice.days.unique()"
   ]
  },
  {
   "cell_type": "code",
   "execution_count": 9,
   "id": "357bea40",
   "metadata": {},
   "outputs": [
    {
     "data": {
      "application/vnd.jupyter.widget-view+json": {
       "model_id": "9eecf78e76534325a58ab0ce9c68584d",
       "version_major": 2,
       "version_minor": 0
      },
      "text/plain": [
       "  0%|          | 0/9 [00:00<?, ?it/s]"
      ]
     },
     "metadata": {},
     "output_type": "display_data"
    }
   ],
   "source": [
    "# specifying parameters\n",
    "N_samples = 10\n",
    "attribute = 'daily'\n",
    "y_label = 'Box Office revenue'\n",
    "time_attribute = 'days'\n",
    "title = f'Accumulated {y_label} across {time_attribute}'\n",
    "\n",
    "save_fig = False\n",
    "\n",
    "# creating dataframes\n",
    "df_boxOffice_wrangled = wrangleData(df_boxOffice, time_attribute=time_attribute)\n",
    "df_plot, df_sample= createPlotDF(df_boxOffice_wrangled, attribute=attribute, time_attribute=time_attribute, y_label=y_label, N_samples=N_samples)\n",
    "    \n",
    "# plotting figure\n",
    "fig = animatedBarPlot(df_plot, y_label=y_label, time_attribute=time_attribute, speed=0.9, title=title, save_fig=save_fig)"
   ]
  },
  {
   "cell_type": "code",
   "execution_count": 10,
   "id": "63ceef88",
   "metadata": {},
   "outputs": [
    {
     "data": {
      "text/plain": [
       "movie\n",
       "Avengers: Infinity War                                                 678815482.0\n",
       "Birds of Prey: And the Fantabulous Emancipation of One Harley Quinn     84158461.0\n",
       "Bohemian Rhapsody                                                      216303339.0\n",
       "Fantastic Beasts and Where to Find Them                                234037575.0\n",
       "Fast & Furious 7                                                       351032910.0\n",
       "Jumanji: Welcome to the Jungle                                         404515480.0\n",
       "Spectre                                                                200074609.0\n",
       "The Hunger Games: Mockingjay - Part 2                                  281723902.0\n",
       "The Martian                                                            228395947.0\n",
       "Name: daily, dtype: float64"
      ]
     },
     "execution_count": 10,
     "metadata": {},
     "output_type": "execute_result"
    }
   ],
   "source": [
    "df_sample.groupby('movie')[attribute].sum()"
   ]
  },
  {
   "cell_type": "markdown",
   "id": "588b7e01",
   "metadata": {},
   "source": [
    "# Get plotly plot of relation between total box office and total quotes for movies"
   ]
  },
  {
   "cell_type": "code",
   "execution_count": 32,
   "id": "0e8b897f",
   "metadata": {},
   "outputs": [],
   "source": [
    "data_dir = os.getcwd() + os.sep + 'data'\n",
    "\n",
    "\n",
    "box = pd.read_pickle(rf\"{data_dir}{os.sep}boxOffice.pkl\")\n",
    "quotes = pd.read_pickle(rf\"{data_dir}{os.sep}Quotebank_sentiment.pkl\")"
   ]
  },
  {
   "cell_type": "code",
   "execution_count": 33,
   "id": "2859ac55",
   "metadata": {},
   "outputs": [],
   "source": [
    "box_tot = box.groupby('movie').sum()\n",
    "box_tot = box_tot.sort_values('daily')\n",
    "quotes_tot = quotes.groupby('movie').sum()\n",
    "quotes_tot = quotes_tot.reindex(box_tot.index) #So we get the same order when plotting :)"
   ]
  },
  {
   "cell_type": "code",
   "execution_count": 34,
   "id": "a886323f",
   "metadata": {},
   "outputs": [
    {
     "data": {
      "application/vnd.plotly.v1+json": {
       "config": {
        "plotlyServerURL": "https://plot.ly"
       },
       "data": [
        {
         "hovertemplate": "<b>%{y}</b><br><br>Revenue: $%{x}<br><extra></extra>",
         "marker": {
          "color": "rgb(136, 204, 238)"
         },
         "name": "Box Office revenue (Sorted)",
         "orientation": "h",
         "type": "bar",
         "x": [
          55069965,
          61555145,
          64914050,
          77047065,
          84158461,
          146066470,
          159555901,
          195042377,
          200074609,
          204417855,
          213515506,
          216303339,
          220159104,
          225764765,
          228395947,
          234037575,
          264624300,
          281723902,
          315058289,
          316831246,
          318482400,
          325100054,
          330360194,
          334201140,
          335061807,
          335451311,
          336045770,
          341268248,
          351032910,
          353612437,
          355559216,
          363042311,
          364001123,
          368384330,
          389813101,
          390532085,
          404515480,
          408084349,
          412563408,
          416769345,
          426829839,
          434038008,
          455530367,
          477373578,
          486295561,
          504014165,
          515202542,
          532177324,
          543638043,
          608581744,
          620181382,
          652197981,
          678815482,
          700059566,
          858373000,
          935644139
         ],
         "xaxis": "x",
         "y": [
          "Tenet",
          "Onward",
          "The Invisible Man",
          "Dolittle",
          "Birds of Prey: And the Fantabulous Emancipation of One Harley Quinn",
          "Sonic the Hedgehog",
          "Fantastic Beasts: The Crimes of Grindelwald",
          "Spider-Man: Homecoming",
          "Spectre",
          "Bad Boys for Life",
          "Venom",
          "Bohemian Rhapsody",
          "Spider-Man: Far from Home",
          "The Fate of the Furious",
          "The Martian",
          "Fantastic Beasts and Where to Find Them",
          "Despicable Me 3",
          "The Hunger Games: Mockingjay - Part 2",
          "Thor: Ragnarok",
          "Jumanji: The Next Level",
          "Deadpool 2",
          "Suicide Squad",
          "Batman v Superman: Dawn of Justice",
          "Rogue One",
          "Aquaman",
          "Joker",
          "Minions",
          "Zootopia",
          "Fast & Furious 7",
          "Inside Out",
          "Aladdin",
          "Deadpool",
          "The Jungle Book",
          "The Secret Life of Pets",
          "Guardians of the Galaxy Vol. 2",
          "Mission: Impossible - Rogue Nation",
          "Jumanji: Welcome to the Jungle",
          "Captain America: Civil War",
          "Wonder Woman",
          "Jurassic World: Fallen Kingdom",
          "Captain Marvel",
          "Toy Story 4",
          "Avengers: Age of Ultron",
          "Frozen II",
          "Finding Dory",
          "Beauty and the Beast",
          "Star Wars: Episode IX - The Rise of Skywalker",
          "Mission: Impossible - Fallout",
          "The Lion King",
          "Incredibles 2",
          "Star Wars: Episode VIII - The Last Jedi",
          "Jurassic World",
          "Avengers: Infinity War",
          "Black Panther",
          "Avengers: Endgame",
          "Star Wars: Episode VII - The Force Awakens"
         ],
         "yaxis": "y"
        },
        {
         "hovertemplate": "<b>%{y}</b><br><br>Number of Quotes: %{x}<br><extra></extra>",
         "marker": {
          "color": "rgb(204, 102, 119)"
         },
         "name": "Quotes",
         "orientation": "h",
         "type": "bar",
         "x": [
          16,
          197,
          90,
          114,
          148,
          38,
          522,
          9310,
          980,
          24,
          1947,
          1187,
          3737,
          132,
          476,
          92,
          69,
          1910,
          13606,
          584,
          790,
          1387,
          625,
          886,
          2398,
          3535,
          253,
          237,
          41,
          299,
          1194,
          3673,
          294,
          20,
          385,
          576,
          762,
          9993,
          8459,
          937,
          1924,
          267,
          3640,
          78,
          188,
          1341,
          9170,
          1282,
          789,
          261,
          19428,
          753,
          13399,
          6984,
          2270,
          17236
         ],
         "xaxis": "x2",
         "y": [
          "Tenet",
          "Onward",
          "The Invisible Man",
          "Dolittle",
          "Birds of Prey: And the Fantabulous Emancipation of One Harley Quinn",
          "Sonic the Hedgehog",
          "Fantastic Beasts: The Crimes of Grindelwald",
          "Spider-Man: Homecoming",
          "Spectre",
          "Bad Boys for Life",
          "Venom",
          "Bohemian Rhapsody",
          "Spider-Man: Far from Home",
          "The Fate of the Furious",
          "The Martian",
          "Fantastic Beasts and Where to Find Them",
          "Despicable Me 3",
          "The Hunger Games: Mockingjay - Part 2",
          "Thor: Ragnarok",
          "Jumanji: The Next Level",
          "Deadpool 2",
          "Suicide Squad",
          "Batman v Superman: Dawn of Justice",
          "Rogue One",
          "Aquaman",
          "Joker",
          "Minions",
          "Zootopia",
          "Fast & Furious 7",
          "Inside Out",
          "Aladdin",
          "Deadpool",
          "The Jungle Book",
          "The Secret Life of Pets",
          "Guardians of the Galaxy Vol. 2",
          "Mission: Impossible - Rogue Nation",
          "Jumanji: Welcome to the Jungle",
          "Captain America: Civil War",
          "Wonder Woman",
          "Jurassic World: Fallen Kingdom",
          "Captain Marvel",
          "Toy Story 4",
          "Avengers: Age of Ultron",
          "Frozen II",
          "Finding Dory",
          "Beauty and the Beast",
          "Star Wars: Episode IX - The Rise of Skywalker",
          "Mission: Impossible - Fallout",
          "The Lion King",
          "Incredibles 2",
          "Star Wars: Episode VIII - The Last Jedi",
          "Jurassic World",
          "Avengers: Infinity War",
          "Black Panther",
          "Avengers: Endgame",
          "Star Wars: Episode VII - The Force Awakens"
         ],
         "yaxis": "y2"
        }
       ],
       "layout": {
        "height": 600,
        "template": {
         "data": {
          "bar": [
           {
            "error_x": {
             "color": "#2a3f5f"
            },
            "error_y": {
             "color": "#2a3f5f"
            },
            "marker": {
             "line": {
              "color": "#E5ECF6",
              "width": 0.5
             },
             "pattern": {
              "fillmode": "overlay",
              "size": 10,
              "solidity": 0.2
             }
            },
            "type": "bar"
           }
          ],
          "barpolar": [
           {
            "marker": {
             "line": {
              "color": "#E5ECF6",
              "width": 0.5
             },
             "pattern": {
              "fillmode": "overlay",
              "size": 10,
              "solidity": 0.2
             }
            },
            "type": "barpolar"
           }
          ],
          "carpet": [
           {
            "aaxis": {
             "endlinecolor": "#2a3f5f",
             "gridcolor": "white",
             "linecolor": "white",
             "minorgridcolor": "white",
             "startlinecolor": "#2a3f5f"
            },
            "baxis": {
             "endlinecolor": "#2a3f5f",
             "gridcolor": "white",
             "linecolor": "white",
             "minorgridcolor": "white",
             "startlinecolor": "#2a3f5f"
            },
            "type": "carpet"
           }
          ],
          "choropleth": [
           {
            "colorbar": {
             "outlinewidth": 0,
             "ticks": ""
            },
            "type": "choropleth"
           }
          ],
          "contour": [
           {
            "colorbar": {
             "outlinewidth": 0,
             "ticks": ""
            },
            "colorscale": [
             [
              0,
              "#0d0887"
             ],
             [
              0.1111111111111111,
              "#46039f"
             ],
             [
              0.2222222222222222,
              "#7201a8"
             ],
             [
              0.3333333333333333,
              "#9c179e"
             ],
             [
              0.4444444444444444,
              "#bd3786"
             ],
             [
              0.5555555555555556,
              "#d8576b"
             ],
             [
              0.6666666666666666,
              "#ed7953"
             ],
             [
              0.7777777777777778,
              "#fb9f3a"
             ],
             [
              0.8888888888888888,
              "#fdca26"
             ],
             [
              1,
              "#f0f921"
             ]
            ],
            "type": "contour"
           }
          ],
          "contourcarpet": [
           {
            "colorbar": {
             "outlinewidth": 0,
             "ticks": ""
            },
            "type": "contourcarpet"
           }
          ],
          "heatmap": [
           {
            "colorbar": {
             "outlinewidth": 0,
             "ticks": ""
            },
            "colorscale": [
             [
              0,
              "#0d0887"
             ],
             [
              0.1111111111111111,
              "#46039f"
             ],
             [
              0.2222222222222222,
              "#7201a8"
             ],
             [
              0.3333333333333333,
              "#9c179e"
             ],
             [
              0.4444444444444444,
              "#bd3786"
             ],
             [
              0.5555555555555556,
              "#d8576b"
             ],
             [
              0.6666666666666666,
              "#ed7953"
             ],
             [
              0.7777777777777778,
              "#fb9f3a"
             ],
             [
              0.8888888888888888,
              "#fdca26"
             ],
             [
              1,
              "#f0f921"
             ]
            ],
            "type": "heatmap"
           }
          ],
          "heatmapgl": [
           {
            "colorbar": {
             "outlinewidth": 0,
             "ticks": ""
            },
            "colorscale": [
             [
              0,
              "#0d0887"
             ],
             [
              0.1111111111111111,
              "#46039f"
             ],
             [
              0.2222222222222222,
              "#7201a8"
             ],
             [
              0.3333333333333333,
              "#9c179e"
             ],
             [
              0.4444444444444444,
              "#bd3786"
             ],
             [
              0.5555555555555556,
              "#d8576b"
             ],
             [
              0.6666666666666666,
              "#ed7953"
             ],
             [
              0.7777777777777778,
              "#fb9f3a"
             ],
             [
              0.8888888888888888,
              "#fdca26"
             ],
             [
              1,
              "#f0f921"
             ]
            ],
            "type": "heatmapgl"
           }
          ],
          "histogram": [
           {
            "marker": {
             "pattern": {
              "fillmode": "overlay",
              "size": 10,
              "solidity": 0.2
             }
            },
            "type": "histogram"
           }
          ],
          "histogram2d": [
           {
            "colorbar": {
             "outlinewidth": 0,
             "ticks": ""
            },
            "colorscale": [
             [
              0,
              "#0d0887"
             ],
             [
              0.1111111111111111,
              "#46039f"
             ],
             [
              0.2222222222222222,
              "#7201a8"
             ],
             [
              0.3333333333333333,
              "#9c179e"
             ],
             [
              0.4444444444444444,
              "#bd3786"
             ],
             [
              0.5555555555555556,
              "#d8576b"
             ],
             [
              0.6666666666666666,
              "#ed7953"
             ],
             [
              0.7777777777777778,
              "#fb9f3a"
             ],
             [
              0.8888888888888888,
              "#fdca26"
             ],
             [
              1,
              "#f0f921"
             ]
            ],
            "type": "histogram2d"
           }
          ],
          "histogram2dcontour": [
           {
            "colorbar": {
             "outlinewidth": 0,
             "ticks": ""
            },
            "colorscale": [
             [
              0,
              "#0d0887"
             ],
             [
              0.1111111111111111,
              "#46039f"
             ],
             [
              0.2222222222222222,
              "#7201a8"
             ],
             [
              0.3333333333333333,
              "#9c179e"
             ],
             [
              0.4444444444444444,
              "#bd3786"
             ],
             [
              0.5555555555555556,
              "#d8576b"
             ],
             [
              0.6666666666666666,
              "#ed7953"
             ],
             [
              0.7777777777777778,
              "#fb9f3a"
             ],
             [
              0.8888888888888888,
              "#fdca26"
             ],
             [
              1,
              "#f0f921"
             ]
            ],
            "type": "histogram2dcontour"
           }
          ],
          "mesh3d": [
           {
            "colorbar": {
             "outlinewidth": 0,
             "ticks": ""
            },
            "type": "mesh3d"
           }
          ],
          "parcoords": [
           {
            "line": {
             "colorbar": {
              "outlinewidth": 0,
              "ticks": ""
             }
            },
            "type": "parcoords"
           }
          ],
          "pie": [
           {
            "automargin": true,
            "type": "pie"
           }
          ],
          "scatter": [
           {
            "marker": {
             "colorbar": {
              "outlinewidth": 0,
              "ticks": ""
             }
            },
            "type": "scatter"
           }
          ],
          "scatter3d": [
           {
            "line": {
             "colorbar": {
              "outlinewidth": 0,
              "ticks": ""
             }
            },
            "marker": {
             "colorbar": {
              "outlinewidth": 0,
              "ticks": ""
             }
            },
            "type": "scatter3d"
           }
          ],
          "scattercarpet": [
           {
            "marker": {
             "colorbar": {
              "outlinewidth": 0,
              "ticks": ""
             }
            },
            "type": "scattercarpet"
           }
          ],
          "scattergeo": [
           {
            "marker": {
             "colorbar": {
              "outlinewidth": 0,
              "ticks": ""
             }
            },
            "type": "scattergeo"
           }
          ],
          "scattergl": [
           {
            "marker": {
             "colorbar": {
              "outlinewidth": 0,
              "ticks": ""
             }
            },
            "type": "scattergl"
           }
          ],
          "scattermapbox": [
           {
            "marker": {
             "colorbar": {
              "outlinewidth": 0,
              "ticks": ""
             }
            },
            "type": "scattermapbox"
           }
          ],
          "scatterpolar": [
           {
            "marker": {
             "colorbar": {
              "outlinewidth": 0,
              "ticks": ""
             }
            },
            "type": "scatterpolar"
           }
          ],
          "scatterpolargl": [
           {
            "marker": {
             "colorbar": {
              "outlinewidth": 0,
              "ticks": ""
             }
            },
            "type": "scatterpolargl"
           }
          ],
          "scatterternary": [
           {
            "marker": {
             "colorbar": {
              "outlinewidth": 0,
              "ticks": ""
             }
            },
            "type": "scatterternary"
           }
          ],
          "surface": [
           {
            "colorbar": {
             "outlinewidth": 0,
             "ticks": ""
            },
            "colorscale": [
             [
              0,
              "#0d0887"
             ],
             [
              0.1111111111111111,
              "#46039f"
             ],
             [
              0.2222222222222222,
              "#7201a8"
             ],
             [
              0.3333333333333333,
              "#9c179e"
             ],
             [
              0.4444444444444444,
              "#bd3786"
             ],
             [
              0.5555555555555556,
              "#d8576b"
             ],
             [
              0.6666666666666666,
              "#ed7953"
             ],
             [
              0.7777777777777778,
              "#fb9f3a"
             ],
             [
              0.8888888888888888,
              "#fdca26"
             ],
             [
              1,
              "#f0f921"
             ]
            ],
            "type": "surface"
           }
          ],
          "table": [
           {
            "cells": {
             "fill": {
              "color": "#EBF0F8"
             },
             "line": {
              "color": "white"
             }
            },
            "header": {
             "fill": {
              "color": "#C8D4E3"
             },
             "line": {
              "color": "white"
             }
            },
            "type": "table"
           }
          ]
         },
         "layout": {
          "annotationdefaults": {
           "arrowcolor": "#2a3f5f",
           "arrowhead": 0,
           "arrowwidth": 1
          },
          "autotypenumbers": "strict",
          "coloraxis": {
           "colorbar": {
            "outlinewidth": 0,
            "ticks": ""
           }
          },
          "colorscale": {
           "diverging": [
            [
             0,
             "#8e0152"
            ],
            [
             0.1,
             "#c51b7d"
            ],
            [
             0.2,
             "#de77ae"
            ],
            [
             0.3,
             "#f1b6da"
            ],
            [
             0.4,
             "#fde0ef"
            ],
            [
             0.5,
             "#f7f7f7"
            ],
            [
             0.6,
             "#e6f5d0"
            ],
            [
             0.7,
             "#b8e186"
            ],
            [
             0.8,
             "#7fbc41"
            ],
            [
             0.9,
             "#4d9221"
            ],
            [
             1,
             "#276419"
            ]
           ],
           "sequential": [
            [
             0,
             "#0d0887"
            ],
            [
             0.1111111111111111,
             "#46039f"
            ],
            [
             0.2222222222222222,
             "#7201a8"
            ],
            [
             0.3333333333333333,
             "#9c179e"
            ],
            [
             0.4444444444444444,
             "#bd3786"
            ],
            [
             0.5555555555555556,
             "#d8576b"
            ],
            [
             0.6666666666666666,
             "#ed7953"
            ],
            [
             0.7777777777777778,
             "#fb9f3a"
            ],
            [
             0.8888888888888888,
             "#fdca26"
            ],
            [
             1,
             "#f0f921"
            ]
           ],
           "sequentialminus": [
            [
             0,
             "#0d0887"
            ],
            [
             0.1111111111111111,
             "#46039f"
            ],
            [
             0.2222222222222222,
             "#7201a8"
            ],
            [
             0.3333333333333333,
             "#9c179e"
            ],
            [
             0.4444444444444444,
             "#bd3786"
            ],
            [
             0.5555555555555556,
             "#d8576b"
            ],
            [
             0.6666666666666666,
             "#ed7953"
            ],
            [
             0.7777777777777778,
             "#fb9f3a"
            ],
            [
             0.8888888888888888,
             "#fdca26"
            ],
            [
             1,
             "#f0f921"
            ]
           ]
          },
          "colorway": [
           "#636efa",
           "#EF553B",
           "#00cc96",
           "#ab63fa",
           "#FFA15A",
           "#19d3f3",
           "#FF6692",
           "#B6E880",
           "#FF97FF",
           "#FECB52"
          ],
          "font": {
           "color": "#2a3f5f"
          },
          "geo": {
           "bgcolor": "white",
           "lakecolor": "white",
           "landcolor": "#E5ECF6",
           "showlakes": true,
           "showland": true,
           "subunitcolor": "white"
          },
          "hoverlabel": {
           "align": "left"
          },
          "hovermode": "closest",
          "mapbox": {
           "style": "light"
          },
          "paper_bgcolor": "white",
          "plot_bgcolor": "#E5ECF6",
          "polar": {
           "angularaxis": {
            "gridcolor": "white",
            "linecolor": "white",
            "ticks": ""
           },
           "bgcolor": "#E5ECF6",
           "radialaxis": {
            "gridcolor": "white",
            "linecolor": "white",
            "ticks": ""
           }
          },
          "scene": {
           "xaxis": {
            "backgroundcolor": "#E5ECF6",
            "gridcolor": "white",
            "gridwidth": 2,
            "linecolor": "white",
            "showbackground": true,
            "ticks": "",
            "zerolinecolor": "white"
           },
           "yaxis": {
            "backgroundcolor": "#E5ECF6",
            "gridcolor": "white",
            "gridwidth": 2,
            "linecolor": "white",
            "showbackground": true,
            "ticks": "",
            "zerolinecolor": "white"
           },
           "zaxis": {
            "backgroundcolor": "#E5ECF6",
            "gridcolor": "white",
            "gridwidth": 2,
            "linecolor": "white",
            "showbackground": true,
            "ticks": "",
            "zerolinecolor": "white"
           }
          },
          "shapedefaults": {
           "line": {
            "color": "#2a3f5f"
           }
          },
          "ternary": {
           "aaxis": {
            "gridcolor": "white",
            "linecolor": "white",
            "ticks": ""
           },
           "baxis": {
            "gridcolor": "white",
            "linecolor": "white",
            "ticks": ""
           },
           "bgcolor": "#E5ECF6",
           "caxis": {
            "gridcolor": "white",
            "linecolor": "white",
            "ticks": ""
           }
          },
          "title": {
           "x": 0.05
          },
          "xaxis": {
           "automargin": true,
           "gridcolor": "white",
           "linecolor": "white",
           "ticks": "",
           "title": {
            "standoff": 15
           },
           "zerolinecolor": "white",
           "zerolinewidth": 2
          },
          "yaxis": {
           "automargin": true,
           "gridcolor": "white",
           "linecolor": "white",
           "ticks": "",
           "title": {
            "standoff": 15
           },
           "zerolinecolor": "white",
           "zerolinewidth": 2
          }
         }
        },
        "title": {
         "text": "Movie Revenue and Number of Quotes"
        },
        "width": 800,
        "xaxis": {
         "anchor": "y",
         "domain": [
          0,
          0.45
         ]
        },
        "xaxis2": {
         "anchor": "y2",
         "domain": [
          0.55,
          1
         ]
        },
        "yaxis": {
         "anchor": "x",
         "domain": [
          0,
          1
         ],
         "showticklabels": false
        },
        "yaxis2": {
         "anchor": "x2",
         "domain": [
          0,
          1
         ],
         "showticklabels": false
        }
       }
      },
      "text/html": [
       "<div>                            <div id=\"f784f366-f2a4-42d5-8002-f5072245d386\" class=\"plotly-graph-div\" style=\"height:600px; width:800px;\"></div>            <script type=\"text/javascript\">                require([\"plotly\"], function(Plotly) {                    window.PLOTLYENV=window.PLOTLYENV || {};                                    if (document.getElementById(\"f784f366-f2a4-42d5-8002-f5072245d386\")) {                    Plotly.newPlot(                        \"f784f366-f2a4-42d5-8002-f5072245d386\",                        [{\"hovertemplate\":\"<b>%{y}</b><br><br>Revenue: $%{x}<br><extra></extra>\",\"marker\":{\"color\":\"rgb(136, 204, 238)\"},\"name\":\"Box Office revenue (Sorted)\",\"orientation\":\"h\",\"x\":[55069965.0,61555145.0,64914050.0,77047065.0,84158461.0,146066470.0,159555901.0,195042377.0,200074609.0,204417855.0,213515506.0,216303339.0,220159104.0,225764765.0,228395947.0,234037575.0,264624300.0,281723902.0,315058289.0,316831246.0,318482400.0,325100054.0,330360194.0,334201140.0,335061807.0,335451311.0,336045770.0,341268248.0,351032910.0,353612437.0,355559216.0,363042311.0,364001123.0,368384330.0,389813101.0,390532085.0,404515480.0,408084349.0,412563408.0,416769345.0,426829839.0,434038008.0,455530367.0,477373578.0,486295561.0,504014165.0,515202542.0,532177324.0,543638043.0,608581744.0,620181382.0,652197981.0,678815482.0,700059566.0,858373000.0,935644139.0],\"y\":[\"Tenet\",\"Onward\",\"The Invisible Man\",\"Dolittle\",\"Birds of Prey: And the Fantabulous Emancipation of One Harley Quinn\",\"Sonic the Hedgehog\",\"Fantastic Beasts: The Crimes of Grindelwald\",\"Spider-Man: Homecoming\",\"Spectre\",\"Bad Boys for Life\",\"Venom\",\"Bohemian Rhapsody\",\"Spider-Man: Far from Home\",\"The Fate of the Furious\",\"The Martian\",\"Fantastic Beasts and Where to Find Them\",\"Despicable Me 3\",\"The Hunger Games: Mockingjay - Part 2\",\"Thor: Ragnarok\",\"Jumanji: The Next Level\",\"Deadpool 2\",\"Suicide Squad\",\"Batman v Superman: Dawn of Justice\",\"Rogue One\",\"Aquaman\",\"Joker\",\"Minions\",\"Zootopia\",\"Fast & Furious 7\",\"Inside Out\",\"Aladdin\",\"Deadpool\",\"The Jungle Book\",\"The Secret Life of Pets\",\"Guardians of the Galaxy Vol. 2\",\"Mission: Impossible - Rogue Nation\",\"Jumanji: Welcome to the Jungle\",\"Captain America: Civil War\",\"Wonder Woman\",\"Jurassic World: Fallen Kingdom\",\"Captain Marvel\",\"Toy Story 4\",\"Avengers: Age of Ultron\",\"Frozen II\",\"Finding Dory\",\"Beauty and the Beast\",\"Star Wars: Episode IX - The Rise of Skywalker\",\"Mission: Impossible - Fallout\",\"The Lion King\",\"Incredibles 2\",\"Star Wars: Episode VIII - The Last Jedi\",\"Jurassic World\",\"Avengers: Infinity War\",\"Black Panther\",\"Avengers: Endgame\",\"Star Wars: Episode VII - The Force Awakens\"],\"type\":\"bar\",\"xaxis\":\"x\",\"yaxis\":\"y\"},{\"hovertemplate\":\"<b>%{y}</b><br><br>Number of Quotes: %{x}<br><extra></extra>\",\"marker\":{\"color\":\"rgb(204, 102, 119)\"},\"name\":\"Quotes\",\"orientation\":\"h\",\"x\":[16,197,90,114,148,38,522,9310,980,24,1947,1187,3737,132,476,92,69,1910,13606,584,790,1387,625,886,2398,3535,253,237,41,299,1194,3673,294,20,385,576,762,9993,8459,937,1924,267,3640,78,188,1341,9170,1282,789,261,19428,753,13399,6984,2270,17236],\"y\":[\"Tenet\",\"Onward\",\"The Invisible Man\",\"Dolittle\",\"Birds of Prey: And the Fantabulous Emancipation of One Harley Quinn\",\"Sonic the Hedgehog\",\"Fantastic Beasts: The Crimes of Grindelwald\",\"Spider-Man: Homecoming\",\"Spectre\",\"Bad Boys for Life\",\"Venom\",\"Bohemian Rhapsody\",\"Spider-Man: Far from Home\",\"The Fate of the Furious\",\"The Martian\",\"Fantastic Beasts and Where to Find Them\",\"Despicable Me 3\",\"The Hunger Games: Mockingjay - Part 2\",\"Thor: Ragnarok\",\"Jumanji: The Next Level\",\"Deadpool 2\",\"Suicide Squad\",\"Batman v Superman: Dawn of Justice\",\"Rogue One\",\"Aquaman\",\"Joker\",\"Minions\",\"Zootopia\",\"Fast & Furious 7\",\"Inside Out\",\"Aladdin\",\"Deadpool\",\"The Jungle Book\",\"The Secret Life of Pets\",\"Guardians of the Galaxy Vol. 2\",\"Mission: Impossible - Rogue Nation\",\"Jumanji: Welcome to the Jungle\",\"Captain America: Civil War\",\"Wonder Woman\",\"Jurassic World: Fallen Kingdom\",\"Captain Marvel\",\"Toy Story 4\",\"Avengers: Age of Ultron\",\"Frozen II\",\"Finding Dory\",\"Beauty and the Beast\",\"Star Wars: Episode IX - The Rise of Skywalker\",\"Mission: Impossible - Fallout\",\"The Lion King\",\"Incredibles 2\",\"Star Wars: Episode VIII - The Last Jedi\",\"Jurassic World\",\"Avengers: Infinity War\",\"Black Panther\",\"Avengers: Endgame\",\"Star Wars: Episode VII - The Force Awakens\"],\"type\":\"bar\",\"xaxis\":\"x2\",\"yaxis\":\"y2\"}],                        {\"template\":{\"data\":{\"bar\":[{\"error_x\":{\"color\":\"#2a3f5f\"},\"error_y\":{\"color\":\"#2a3f5f\"},\"marker\":{\"line\":{\"color\":\"#E5ECF6\",\"width\":0.5},\"pattern\":{\"fillmode\":\"overlay\",\"size\":10,\"solidity\":0.2}},\"type\":\"bar\"}],\"barpolar\":[{\"marker\":{\"line\":{\"color\":\"#E5ECF6\",\"width\":0.5},\"pattern\":{\"fillmode\":\"overlay\",\"size\":10,\"solidity\":0.2}},\"type\":\"barpolar\"}],\"carpet\":[{\"aaxis\":{\"endlinecolor\":\"#2a3f5f\",\"gridcolor\":\"white\",\"linecolor\":\"white\",\"minorgridcolor\":\"white\",\"startlinecolor\":\"#2a3f5f\"},\"baxis\":{\"endlinecolor\":\"#2a3f5f\",\"gridcolor\":\"white\",\"linecolor\":\"white\",\"minorgridcolor\":\"white\",\"startlinecolor\":\"#2a3f5f\"},\"type\":\"carpet\"}],\"choropleth\":[{\"colorbar\":{\"outlinewidth\":0,\"ticks\":\"\"},\"type\":\"choropleth\"}],\"contour\":[{\"colorbar\":{\"outlinewidth\":0,\"ticks\":\"\"},\"colorscale\":[[0.0,\"#0d0887\"],[0.1111111111111111,\"#46039f\"],[0.2222222222222222,\"#7201a8\"],[0.3333333333333333,\"#9c179e\"],[0.4444444444444444,\"#bd3786\"],[0.5555555555555556,\"#d8576b\"],[0.6666666666666666,\"#ed7953\"],[0.7777777777777778,\"#fb9f3a\"],[0.8888888888888888,\"#fdca26\"],[1.0,\"#f0f921\"]],\"type\":\"contour\"}],\"contourcarpet\":[{\"colorbar\":{\"outlinewidth\":0,\"ticks\":\"\"},\"type\":\"contourcarpet\"}],\"heatmap\":[{\"colorbar\":{\"outlinewidth\":0,\"ticks\":\"\"},\"colorscale\":[[0.0,\"#0d0887\"],[0.1111111111111111,\"#46039f\"],[0.2222222222222222,\"#7201a8\"],[0.3333333333333333,\"#9c179e\"],[0.4444444444444444,\"#bd3786\"],[0.5555555555555556,\"#d8576b\"],[0.6666666666666666,\"#ed7953\"],[0.7777777777777778,\"#fb9f3a\"],[0.8888888888888888,\"#fdca26\"],[1.0,\"#f0f921\"]],\"type\":\"heatmap\"}],\"heatmapgl\":[{\"colorbar\":{\"outlinewidth\":0,\"ticks\":\"\"},\"colorscale\":[[0.0,\"#0d0887\"],[0.1111111111111111,\"#46039f\"],[0.2222222222222222,\"#7201a8\"],[0.3333333333333333,\"#9c179e\"],[0.4444444444444444,\"#bd3786\"],[0.5555555555555556,\"#d8576b\"],[0.6666666666666666,\"#ed7953\"],[0.7777777777777778,\"#fb9f3a\"],[0.8888888888888888,\"#fdca26\"],[1.0,\"#f0f921\"]],\"type\":\"heatmapgl\"}],\"histogram\":[{\"marker\":{\"pattern\":{\"fillmode\":\"overlay\",\"size\":10,\"solidity\":0.2}},\"type\":\"histogram\"}],\"histogram2d\":[{\"colorbar\":{\"outlinewidth\":0,\"ticks\":\"\"},\"colorscale\":[[0.0,\"#0d0887\"],[0.1111111111111111,\"#46039f\"],[0.2222222222222222,\"#7201a8\"],[0.3333333333333333,\"#9c179e\"],[0.4444444444444444,\"#bd3786\"],[0.5555555555555556,\"#d8576b\"],[0.6666666666666666,\"#ed7953\"],[0.7777777777777778,\"#fb9f3a\"],[0.8888888888888888,\"#fdca26\"],[1.0,\"#f0f921\"]],\"type\":\"histogram2d\"}],\"histogram2dcontour\":[{\"colorbar\":{\"outlinewidth\":0,\"ticks\":\"\"},\"colorscale\":[[0.0,\"#0d0887\"],[0.1111111111111111,\"#46039f\"],[0.2222222222222222,\"#7201a8\"],[0.3333333333333333,\"#9c179e\"],[0.4444444444444444,\"#bd3786\"],[0.5555555555555556,\"#d8576b\"],[0.6666666666666666,\"#ed7953\"],[0.7777777777777778,\"#fb9f3a\"],[0.8888888888888888,\"#fdca26\"],[1.0,\"#f0f921\"]],\"type\":\"histogram2dcontour\"}],\"mesh3d\":[{\"colorbar\":{\"outlinewidth\":0,\"ticks\":\"\"},\"type\":\"mesh3d\"}],\"parcoords\":[{\"line\":{\"colorbar\":{\"outlinewidth\":0,\"ticks\":\"\"}},\"type\":\"parcoords\"}],\"pie\":[{\"automargin\":true,\"type\":\"pie\"}],\"scatter\":[{\"marker\":{\"colorbar\":{\"outlinewidth\":0,\"ticks\":\"\"}},\"type\":\"scatter\"}],\"scatter3d\":[{\"line\":{\"colorbar\":{\"outlinewidth\":0,\"ticks\":\"\"}},\"marker\":{\"colorbar\":{\"outlinewidth\":0,\"ticks\":\"\"}},\"type\":\"scatter3d\"}],\"scattercarpet\":[{\"marker\":{\"colorbar\":{\"outlinewidth\":0,\"ticks\":\"\"}},\"type\":\"scattercarpet\"}],\"scattergeo\":[{\"marker\":{\"colorbar\":{\"outlinewidth\":0,\"ticks\":\"\"}},\"type\":\"scattergeo\"}],\"scattergl\":[{\"marker\":{\"colorbar\":{\"outlinewidth\":0,\"ticks\":\"\"}},\"type\":\"scattergl\"}],\"scattermapbox\":[{\"marker\":{\"colorbar\":{\"outlinewidth\":0,\"ticks\":\"\"}},\"type\":\"scattermapbox\"}],\"scatterpolar\":[{\"marker\":{\"colorbar\":{\"outlinewidth\":0,\"ticks\":\"\"}},\"type\":\"scatterpolar\"}],\"scatterpolargl\":[{\"marker\":{\"colorbar\":{\"outlinewidth\":0,\"ticks\":\"\"}},\"type\":\"scatterpolargl\"}],\"scatterternary\":[{\"marker\":{\"colorbar\":{\"outlinewidth\":0,\"ticks\":\"\"}},\"type\":\"scatterternary\"}],\"surface\":[{\"colorbar\":{\"outlinewidth\":0,\"ticks\":\"\"},\"colorscale\":[[0.0,\"#0d0887\"],[0.1111111111111111,\"#46039f\"],[0.2222222222222222,\"#7201a8\"],[0.3333333333333333,\"#9c179e\"],[0.4444444444444444,\"#bd3786\"],[0.5555555555555556,\"#d8576b\"],[0.6666666666666666,\"#ed7953\"],[0.7777777777777778,\"#fb9f3a\"],[0.8888888888888888,\"#fdca26\"],[1.0,\"#f0f921\"]],\"type\":\"surface\"}],\"table\":[{\"cells\":{\"fill\":{\"color\":\"#EBF0F8\"},\"line\":{\"color\":\"white\"}},\"header\":{\"fill\":{\"color\":\"#C8D4E3\"},\"line\":{\"color\":\"white\"}},\"type\":\"table\"}]},\"layout\":{\"annotationdefaults\":{\"arrowcolor\":\"#2a3f5f\",\"arrowhead\":0,\"arrowwidth\":1},\"autotypenumbers\":\"strict\",\"coloraxis\":{\"colorbar\":{\"outlinewidth\":0,\"ticks\":\"\"}},\"colorscale\":{\"diverging\":[[0,\"#8e0152\"],[0.1,\"#c51b7d\"],[0.2,\"#de77ae\"],[0.3,\"#f1b6da\"],[0.4,\"#fde0ef\"],[0.5,\"#f7f7f7\"],[0.6,\"#e6f5d0\"],[0.7,\"#b8e186\"],[0.8,\"#7fbc41\"],[0.9,\"#4d9221\"],[1,\"#276419\"]],\"sequential\":[[0.0,\"#0d0887\"],[0.1111111111111111,\"#46039f\"],[0.2222222222222222,\"#7201a8\"],[0.3333333333333333,\"#9c179e\"],[0.4444444444444444,\"#bd3786\"],[0.5555555555555556,\"#d8576b\"],[0.6666666666666666,\"#ed7953\"],[0.7777777777777778,\"#fb9f3a\"],[0.8888888888888888,\"#fdca26\"],[1.0,\"#f0f921\"]],\"sequentialminus\":[[0.0,\"#0d0887\"],[0.1111111111111111,\"#46039f\"],[0.2222222222222222,\"#7201a8\"],[0.3333333333333333,\"#9c179e\"],[0.4444444444444444,\"#bd3786\"],[0.5555555555555556,\"#d8576b\"],[0.6666666666666666,\"#ed7953\"],[0.7777777777777778,\"#fb9f3a\"],[0.8888888888888888,\"#fdca26\"],[1.0,\"#f0f921\"]]},\"colorway\":[\"#636efa\",\"#EF553B\",\"#00cc96\",\"#ab63fa\",\"#FFA15A\",\"#19d3f3\",\"#FF6692\",\"#B6E880\",\"#FF97FF\",\"#FECB52\"],\"font\":{\"color\":\"#2a3f5f\"},\"geo\":{\"bgcolor\":\"white\",\"lakecolor\":\"white\",\"landcolor\":\"#E5ECF6\",\"showlakes\":true,\"showland\":true,\"subunitcolor\":\"white\"},\"hoverlabel\":{\"align\":\"left\"},\"hovermode\":\"closest\",\"mapbox\":{\"style\":\"light\"},\"paper_bgcolor\":\"white\",\"plot_bgcolor\":\"#E5ECF6\",\"polar\":{\"angularaxis\":{\"gridcolor\":\"white\",\"linecolor\":\"white\",\"ticks\":\"\"},\"bgcolor\":\"#E5ECF6\",\"radialaxis\":{\"gridcolor\":\"white\",\"linecolor\":\"white\",\"ticks\":\"\"}},\"scene\":{\"xaxis\":{\"backgroundcolor\":\"#E5ECF6\",\"gridcolor\":\"white\",\"gridwidth\":2,\"linecolor\":\"white\",\"showbackground\":true,\"ticks\":\"\",\"zerolinecolor\":\"white\"},\"yaxis\":{\"backgroundcolor\":\"#E5ECF6\",\"gridcolor\":\"white\",\"gridwidth\":2,\"linecolor\":\"white\",\"showbackground\":true,\"ticks\":\"\",\"zerolinecolor\":\"white\"},\"zaxis\":{\"backgroundcolor\":\"#E5ECF6\",\"gridcolor\":\"white\",\"gridwidth\":2,\"linecolor\":\"white\",\"showbackground\":true,\"ticks\":\"\",\"zerolinecolor\":\"white\"}},\"shapedefaults\":{\"line\":{\"color\":\"#2a3f5f\"}},\"ternary\":{\"aaxis\":{\"gridcolor\":\"white\",\"linecolor\":\"white\",\"ticks\":\"\"},\"baxis\":{\"gridcolor\":\"white\",\"linecolor\":\"white\",\"ticks\":\"\"},\"bgcolor\":\"#E5ECF6\",\"caxis\":{\"gridcolor\":\"white\",\"linecolor\":\"white\",\"ticks\":\"\"}},\"title\":{\"x\":0.05},\"xaxis\":{\"automargin\":true,\"gridcolor\":\"white\",\"linecolor\":\"white\",\"ticks\":\"\",\"title\":{\"standoff\":15},\"zerolinecolor\":\"white\",\"zerolinewidth\":2},\"yaxis\":{\"automargin\":true,\"gridcolor\":\"white\",\"linecolor\":\"white\",\"ticks\":\"\",\"title\":{\"standoff\":15},\"zerolinecolor\":\"white\",\"zerolinewidth\":2}}},\"xaxis\":{\"anchor\":\"y\",\"domain\":[0.0,0.45]},\"yaxis\":{\"anchor\":\"x\",\"domain\":[0.0,1.0],\"showticklabels\":false},\"xaxis2\":{\"anchor\":\"y2\",\"domain\":[0.55,1.0]},\"yaxis2\":{\"anchor\":\"x2\",\"domain\":[0.0,1.0],\"showticklabels\":false},\"title\":{\"text\":\"Movie Revenue and Number of Quotes\"},\"height\":600,\"width\":800},                        {\"responsive\": true}                    ).then(function(){\n",
       "                            \n",
       "var gd = document.getElementById('f784f366-f2a4-42d5-8002-f5072245d386');\n",
       "var x = new MutationObserver(function (mutations, observer) {{\n",
       "        var display = window.getComputedStyle(gd).display;\n",
       "        if (!display || display === 'none') {{\n",
       "            console.log([gd, 'removed!']);\n",
       "            Plotly.purge(gd);\n",
       "            observer.disconnect();\n",
       "        }}\n",
       "}});\n",
       "\n",
       "// Listen for the removal of the full notebook cells\n",
       "var notebookContainer = gd.closest('#notebook-container');\n",
       "if (notebookContainer) {{\n",
       "    x.observe(notebookContainer, {childList: true});\n",
       "}}\n",
       "\n",
       "// Listen for the clearing of the current output cell\n",
       "var outputEl = gd.closest('.output');\n",
       "if (outputEl) {{\n",
       "    x.observe(outputEl, {childList: true});\n",
       "}}\n",
       "\n",
       "                        })                };                });            </script>        </div>"
      ]
     },
     "metadata": {},
     "output_type": "display_data"
    }
   ],
   "source": [
    "from plotly.subplots import make_subplots\n",
    "import plotly.graph_objects as go\n",
    "\n",
    "fig = make_subplots(rows=1, cols=2)\n",
    "\n",
    "fig.add_trace(\n",
    "    go.Bar(name = 'Box Office revenue (Sorted)', x=box_tot.daily, y=box_tot.index, orientation='h', \n",
    "           marker_color = px.colors.qualitative.Safe[0],hovertemplate=\n",
    "                        \"<b>%{y}</b><br><br>\" +\n",
    "                        \"Revenue: $%{x}<br>\" +\n",
    "                        \"<extra></extra>\"),row=1, col=1)\n",
    "\n",
    "\n",
    "fig.add_trace(\n",
    "    go.Bar(name='Quotes', x=quotes_tot.numOccurrences, y=quotes_tot.index, orientation='h', \n",
    "           marker_color = px.colors.qualitative.Safe[1],hovertemplate=\"<b>%{y}</b><br><br>\" +\"Number of Quotes: %{x}<br>\" +\"<extra></extra>\"),row=1, col=2)\n",
    "\n",
    "fig.update_yaxes(showticklabels=False)\n",
    "fig.update_layout(height=600, width=800, title_text='Movie Revenue and Number of Quotes')\n",
    "fig.show()"
   ]
  },
  {
   "cell_type": "code",
   "execution_count": 35,
   "id": "580dfb26",
   "metadata": {},
   "outputs": [],
   "source": [
    "fig.write_html(\"plotlyplots/tot_box_quotes.html\")"
   ]
  },
  {
   "cell_type": "markdown",
   "id": "238e3384",
   "metadata": {},
   "source": [
    "# Get Plotly Plot of Total Sentiment and Box Office"
   ]
  },
  {
   "cell_type": "code",
   "execution_count": 36,
   "id": "c3cfaef0",
   "metadata": {},
   "outputs": [],
   "source": [
    "data_dir = os.getcwd() + os.sep + 'data'\n",
    "\n",
    "\n",
    "box = pd.read_pickle(rf\"{data_dir}{os.sep}boxOffice.pkl\")\n",
    "quotes = pd.read_pickle(rf\"{data_dir}{os.sep}Quotebank_sentiment.pkl\")"
   ]
  },
  {
   "cell_type": "code",
   "execution_count": 37,
   "id": "0b57a58d",
   "metadata": {},
   "outputs": [],
   "source": [
    "box_tot = box.groupby('movie').sum()\n",
    "box_tot = box_tot.sort_values('daily')\n",
    "quotes['bertperquote'] = (quotes.positive_BERT_score - 0.5) * 2 * quotes.numOccurrences\n",
    "quotes_tot = quotes.groupby('movie').sum()\n",
    "quotes_tot = quotes_tot.reindex(box_tot.index) #So we get the same order when plotting :)"
   ]
  },
  {
   "cell_type": "code",
   "execution_count": 38,
   "id": "f36581c9",
   "metadata": {},
   "outputs": [
    {
     "data": {
      "application/vnd.plotly.v1+json": {
       "config": {
        "plotlyServerURL": "https://plot.ly"
       },
       "data": [
        {
         "hovertemplate": "<b>%{y}</b><br><br>Revenue: $%{x}<br><extra></extra>",
         "marker": {
          "color": "rgb(136, 204, 238)"
         },
         "name": "Box Office revenue (Sorted)",
         "orientation": "h",
         "type": "bar",
         "x": [
          55069965,
          61555145,
          64914050,
          77047065,
          84158461,
          146066470,
          159555901,
          195042377,
          200074609,
          204417855,
          213515506,
          216303339,
          220159104,
          225764765,
          228395947,
          234037575,
          264624300,
          281723902,
          315058289,
          316831246,
          318482400,
          325100054,
          330360194,
          334201140,
          335061807,
          335451311,
          336045770,
          341268248,
          351032910,
          353612437,
          355559216,
          363042311,
          364001123,
          368384330,
          389813101,
          390532085,
          404515480,
          408084349,
          412563408,
          416769345,
          426829839,
          434038008,
          455530367,
          477373578,
          486295561,
          504014165,
          515202542,
          532177324,
          543638043,
          608581744,
          620181382,
          652197981,
          678815482,
          700059566,
          858373000,
          935644139
         ],
         "xaxis": "x",
         "y": [
          "Tenet",
          "Onward",
          "The Invisible Man",
          "Dolittle",
          "Birds of Prey: And the Fantabulous Emancipation of One Harley Quinn",
          "Sonic the Hedgehog",
          "Fantastic Beasts: The Crimes of Grindelwald",
          "Spider-Man: Homecoming",
          "Spectre",
          "Bad Boys for Life",
          "Venom",
          "Bohemian Rhapsody",
          "Spider-Man: Far from Home",
          "The Fate of the Furious",
          "The Martian",
          "Fantastic Beasts and Where to Find Them",
          "Despicable Me 3",
          "The Hunger Games: Mockingjay - Part 2",
          "Thor: Ragnarok",
          "Jumanji: The Next Level",
          "Deadpool 2",
          "Suicide Squad",
          "Batman v Superman: Dawn of Justice",
          "Rogue One",
          "Aquaman",
          "Joker",
          "Minions",
          "Zootopia",
          "Fast & Furious 7",
          "Inside Out",
          "Aladdin",
          "Deadpool",
          "The Jungle Book",
          "The Secret Life of Pets",
          "Guardians of the Galaxy Vol. 2",
          "Mission: Impossible - Rogue Nation",
          "Jumanji: Welcome to the Jungle",
          "Captain America: Civil War",
          "Wonder Woman",
          "Jurassic World: Fallen Kingdom",
          "Captain Marvel",
          "Toy Story 4",
          "Avengers: Age of Ultron",
          "Frozen II",
          "Finding Dory",
          "Beauty and the Beast",
          "Star Wars: Episode IX - The Rise of Skywalker",
          "Mission: Impossible - Fallout",
          "The Lion King",
          "Incredibles 2",
          "Star Wars: Episode VIII - The Last Jedi",
          "Jurassic World",
          "Avengers: Infinity War",
          "Black Panther",
          "Avengers: Endgame",
          "Star Wars: Episode VII - The Force Awakens"
         ],
         "yaxis": "y"
        },
        {
         "hovertemplate": "<b>%{y}</b><br><br>Sentiment: %{x}<br><extra></extra>",
         "marker": {
          "color": "rgb(204, 102, 119)"
         },
         "name": "Sentiment",
         "orientation": "h",
         "type": "bar",
         "x": [
          0.2221970558166504,
          101.6768890619278,
          13.298078060150146,
          -17.315242886543274,
          45.37998151779175,
          17.89766788482666,
          244.53333604335785,
          3204.9724591970444,
          448.2794408798218,
          17.43077528476715,
          333.126748919487,
          517.3134849071503,
          1223.9157165288925,
          45.39734160900116,
          153.2839127779007,
          83.76100730895996,
          9.1825031042099,
          577.6440635919571,
          4769.9247789382935,
          220.4727839231491,
          127.23636662960052,
          -179.68159127235413,
          6.217294931411743,
          3.074561834335327,
          699.8437728881836,
          451.7957478761673,
          29.94913411140442,
          25.127622604370117,
          36.32342195510864,
          179.7746365070343,
          276.76031267642975,
          437.3849060535431,
          156.71669459342957,
          10.156787872314453,
          76.03508818149567,
          111.40051794052124,
          451.79708337783813,
          1477.308752298355,
          4272.299609780312,
          288.3710243701935,
          832.8875148296356,
          125.25860464572906,
          773.1476207971573,
          47.71542000770569,
          49.03508245944977,
          655.3125306367874,
          3343.8069067001343,
          143.674889087677,
          338.0039938688278,
          194.36542809009552,
          7004.9720294475555,
          246.69340193271637,
          2584.1282613277435,
          2871.2581671476364,
          520.4068292379379,
          6503.428073048592
         ],
         "xaxis": "x2",
         "y": [
          "Tenet",
          "Onward",
          "The Invisible Man",
          "Dolittle",
          "Birds of Prey: And the Fantabulous Emancipation of One Harley Quinn",
          "Sonic the Hedgehog",
          "Fantastic Beasts: The Crimes of Grindelwald",
          "Spider-Man: Homecoming",
          "Spectre",
          "Bad Boys for Life",
          "Venom",
          "Bohemian Rhapsody",
          "Spider-Man: Far from Home",
          "The Fate of the Furious",
          "The Martian",
          "Fantastic Beasts and Where to Find Them",
          "Despicable Me 3",
          "The Hunger Games: Mockingjay - Part 2",
          "Thor: Ragnarok",
          "Jumanji: The Next Level",
          "Deadpool 2",
          "Suicide Squad",
          "Batman v Superman: Dawn of Justice",
          "Rogue One",
          "Aquaman",
          "Joker",
          "Minions",
          "Zootopia",
          "Fast & Furious 7",
          "Inside Out",
          "Aladdin",
          "Deadpool",
          "The Jungle Book",
          "The Secret Life of Pets",
          "Guardians of the Galaxy Vol. 2",
          "Mission: Impossible - Rogue Nation",
          "Jumanji: Welcome to the Jungle",
          "Captain America: Civil War",
          "Wonder Woman",
          "Jurassic World: Fallen Kingdom",
          "Captain Marvel",
          "Toy Story 4",
          "Avengers: Age of Ultron",
          "Frozen II",
          "Finding Dory",
          "Beauty and the Beast",
          "Star Wars: Episode IX - The Rise of Skywalker",
          "Mission: Impossible - Fallout",
          "The Lion King",
          "Incredibles 2",
          "Star Wars: Episode VIII - The Last Jedi",
          "Jurassic World",
          "Avengers: Infinity War",
          "Black Panther",
          "Avengers: Endgame",
          "Star Wars: Episode VII - The Force Awakens"
         ],
         "yaxis": "y2"
        }
       ],
       "layout": {
        "height": 600,
        "template": {
         "data": {
          "bar": [
           {
            "error_x": {
             "color": "#2a3f5f"
            },
            "error_y": {
             "color": "#2a3f5f"
            },
            "marker": {
             "line": {
              "color": "#E5ECF6",
              "width": 0.5
             },
             "pattern": {
              "fillmode": "overlay",
              "size": 10,
              "solidity": 0.2
             }
            },
            "type": "bar"
           }
          ],
          "barpolar": [
           {
            "marker": {
             "line": {
              "color": "#E5ECF6",
              "width": 0.5
             },
             "pattern": {
              "fillmode": "overlay",
              "size": 10,
              "solidity": 0.2
             }
            },
            "type": "barpolar"
           }
          ],
          "carpet": [
           {
            "aaxis": {
             "endlinecolor": "#2a3f5f",
             "gridcolor": "white",
             "linecolor": "white",
             "minorgridcolor": "white",
             "startlinecolor": "#2a3f5f"
            },
            "baxis": {
             "endlinecolor": "#2a3f5f",
             "gridcolor": "white",
             "linecolor": "white",
             "minorgridcolor": "white",
             "startlinecolor": "#2a3f5f"
            },
            "type": "carpet"
           }
          ],
          "choropleth": [
           {
            "colorbar": {
             "outlinewidth": 0,
             "ticks": ""
            },
            "type": "choropleth"
           }
          ],
          "contour": [
           {
            "colorbar": {
             "outlinewidth": 0,
             "ticks": ""
            },
            "colorscale": [
             [
              0,
              "#0d0887"
             ],
             [
              0.1111111111111111,
              "#46039f"
             ],
             [
              0.2222222222222222,
              "#7201a8"
             ],
             [
              0.3333333333333333,
              "#9c179e"
             ],
             [
              0.4444444444444444,
              "#bd3786"
             ],
             [
              0.5555555555555556,
              "#d8576b"
             ],
             [
              0.6666666666666666,
              "#ed7953"
             ],
             [
              0.7777777777777778,
              "#fb9f3a"
             ],
             [
              0.8888888888888888,
              "#fdca26"
             ],
             [
              1,
              "#f0f921"
             ]
            ],
            "type": "contour"
           }
          ],
          "contourcarpet": [
           {
            "colorbar": {
             "outlinewidth": 0,
             "ticks": ""
            },
            "type": "contourcarpet"
           }
          ],
          "heatmap": [
           {
            "colorbar": {
             "outlinewidth": 0,
             "ticks": ""
            },
            "colorscale": [
             [
              0,
              "#0d0887"
             ],
             [
              0.1111111111111111,
              "#46039f"
             ],
             [
              0.2222222222222222,
              "#7201a8"
             ],
             [
              0.3333333333333333,
              "#9c179e"
             ],
             [
              0.4444444444444444,
              "#bd3786"
             ],
             [
              0.5555555555555556,
              "#d8576b"
             ],
             [
              0.6666666666666666,
              "#ed7953"
             ],
             [
              0.7777777777777778,
              "#fb9f3a"
             ],
             [
              0.8888888888888888,
              "#fdca26"
             ],
             [
              1,
              "#f0f921"
             ]
            ],
            "type": "heatmap"
           }
          ],
          "heatmapgl": [
           {
            "colorbar": {
             "outlinewidth": 0,
             "ticks": ""
            },
            "colorscale": [
             [
              0,
              "#0d0887"
             ],
             [
              0.1111111111111111,
              "#46039f"
             ],
             [
              0.2222222222222222,
              "#7201a8"
             ],
             [
              0.3333333333333333,
              "#9c179e"
             ],
             [
              0.4444444444444444,
              "#bd3786"
             ],
             [
              0.5555555555555556,
              "#d8576b"
             ],
             [
              0.6666666666666666,
              "#ed7953"
             ],
             [
              0.7777777777777778,
              "#fb9f3a"
             ],
             [
              0.8888888888888888,
              "#fdca26"
             ],
             [
              1,
              "#f0f921"
             ]
            ],
            "type": "heatmapgl"
           }
          ],
          "histogram": [
           {
            "marker": {
             "pattern": {
              "fillmode": "overlay",
              "size": 10,
              "solidity": 0.2
             }
            },
            "type": "histogram"
           }
          ],
          "histogram2d": [
           {
            "colorbar": {
             "outlinewidth": 0,
             "ticks": ""
            },
            "colorscale": [
             [
              0,
              "#0d0887"
             ],
             [
              0.1111111111111111,
              "#46039f"
             ],
             [
              0.2222222222222222,
              "#7201a8"
             ],
             [
              0.3333333333333333,
              "#9c179e"
             ],
             [
              0.4444444444444444,
              "#bd3786"
             ],
             [
              0.5555555555555556,
              "#d8576b"
             ],
             [
              0.6666666666666666,
              "#ed7953"
             ],
             [
              0.7777777777777778,
              "#fb9f3a"
             ],
             [
              0.8888888888888888,
              "#fdca26"
             ],
             [
              1,
              "#f0f921"
             ]
            ],
            "type": "histogram2d"
           }
          ],
          "histogram2dcontour": [
           {
            "colorbar": {
             "outlinewidth": 0,
             "ticks": ""
            },
            "colorscale": [
             [
              0,
              "#0d0887"
             ],
             [
              0.1111111111111111,
              "#46039f"
             ],
             [
              0.2222222222222222,
              "#7201a8"
             ],
             [
              0.3333333333333333,
              "#9c179e"
             ],
             [
              0.4444444444444444,
              "#bd3786"
             ],
             [
              0.5555555555555556,
              "#d8576b"
             ],
             [
              0.6666666666666666,
              "#ed7953"
             ],
             [
              0.7777777777777778,
              "#fb9f3a"
             ],
             [
              0.8888888888888888,
              "#fdca26"
             ],
             [
              1,
              "#f0f921"
             ]
            ],
            "type": "histogram2dcontour"
           }
          ],
          "mesh3d": [
           {
            "colorbar": {
             "outlinewidth": 0,
             "ticks": ""
            },
            "type": "mesh3d"
           }
          ],
          "parcoords": [
           {
            "line": {
             "colorbar": {
              "outlinewidth": 0,
              "ticks": ""
             }
            },
            "type": "parcoords"
           }
          ],
          "pie": [
           {
            "automargin": true,
            "type": "pie"
           }
          ],
          "scatter": [
           {
            "marker": {
             "colorbar": {
              "outlinewidth": 0,
              "ticks": ""
             }
            },
            "type": "scatter"
           }
          ],
          "scatter3d": [
           {
            "line": {
             "colorbar": {
              "outlinewidth": 0,
              "ticks": ""
             }
            },
            "marker": {
             "colorbar": {
              "outlinewidth": 0,
              "ticks": ""
             }
            },
            "type": "scatter3d"
           }
          ],
          "scattercarpet": [
           {
            "marker": {
             "colorbar": {
              "outlinewidth": 0,
              "ticks": ""
             }
            },
            "type": "scattercarpet"
           }
          ],
          "scattergeo": [
           {
            "marker": {
             "colorbar": {
              "outlinewidth": 0,
              "ticks": ""
             }
            },
            "type": "scattergeo"
           }
          ],
          "scattergl": [
           {
            "marker": {
             "colorbar": {
              "outlinewidth": 0,
              "ticks": ""
             }
            },
            "type": "scattergl"
           }
          ],
          "scattermapbox": [
           {
            "marker": {
             "colorbar": {
              "outlinewidth": 0,
              "ticks": ""
             }
            },
            "type": "scattermapbox"
           }
          ],
          "scatterpolar": [
           {
            "marker": {
             "colorbar": {
              "outlinewidth": 0,
              "ticks": ""
             }
            },
            "type": "scatterpolar"
           }
          ],
          "scatterpolargl": [
           {
            "marker": {
             "colorbar": {
              "outlinewidth": 0,
              "ticks": ""
             }
            },
            "type": "scatterpolargl"
           }
          ],
          "scatterternary": [
           {
            "marker": {
             "colorbar": {
              "outlinewidth": 0,
              "ticks": ""
             }
            },
            "type": "scatterternary"
           }
          ],
          "surface": [
           {
            "colorbar": {
             "outlinewidth": 0,
             "ticks": ""
            },
            "colorscale": [
             [
              0,
              "#0d0887"
             ],
             [
              0.1111111111111111,
              "#46039f"
             ],
             [
              0.2222222222222222,
              "#7201a8"
             ],
             [
              0.3333333333333333,
              "#9c179e"
             ],
             [
              0.4444444444444444,
              "#bd3786"
             ],
             [
              0.5555555555555556,
              "#d8576b"
             ],
             [
              0.6666666666666666,
              "#ed7953"
             ],
             [
              0.7777777777777778,
              "#fb9f3a"
             ],
             [
              0.8888888888888888,
              "#fdca26"
             ],
             [
              1,
              "#f0f921"
             ]
            ],
            "type": "surface"
           }
          ],
          "table": [
           {
            "cells": {
             "fill": {
              "color": "#EBF0F8"
             },
             "line": {
              "color": "white"
             }
            },
            "header": {
             "fill": {
              "color": "#C8D4E3"
             },
             "line": {
              "color": "white"
             }
            },
            "type": "table"
           }
          ]
         },
         "layout": {
          "annotationdefaults": {
           "arrowcolor": "#2a3f5f",
           "arrowhead": 0,
           "arrowwidth": 1
          },
          "autotypenumbers": "strict",
          "coloraxis": {
           "colorbar": {
            "outlinewidth": 0,
            "ticks": ""
           }
          },
          "colorscale": {
           "diverging": [
            [
             0,
             "#8e0152"
            ],
            [
             0.1,
             "#c51b7d"
            ],
            [
             0.2,
             "#de77ae"
            ],
            [
             0.3,
             "#f1b6da"
            ],
            [
             0.4,
             "#fde0ef"
            ],
            [
             0.5,
             "#f7f7f7"
            ],
            [
             0.6,
             "#e6f5d0"
            ],
            [
             0.7,
             "#b8e186"
            ],
            [
             0.8,
             "#7fbc41"
            ],
            [
             0.9,
             "#4d9221"
            ],
            [
             1,
             "#276419"
            ]
           ],
           "sequential": [
            [
             0,
             "#0d0887"
            ],
            [
             0.1111111111111111,
             "#46039f"
            ],
            [
             0.2222222222222222,
             "#7201a8"
            ],
            [
             0.3333333333333333,
             "#9c179e"
            ],
            [
             0.4444444444444444,
             "#bd3786"
            ],
            [
             0.5555555555555556,
             "#d8576b"
            ],
            [
             0.6666666666666666,
             "#ed7953"
            ],
            [
             0.7777777777777778,
             "#fb9f3a"
            ],
            [
             0.8888888888888888,
             "#fdca26"
            ],
            [
             1,
             "#f0f921"
            ]
           ],
           "sequentialminus": [
            [
             0,
             "#0d0887"
            ],
            [
             0.1111111111111111,
             "#46039f"
            ],
            [
             0.2222222222222222,
             "#7201a8"
            ],
            [
             0.3333333333333333,
             "#9c179e"
            ],
            [
             0.4444444444444444,
             "#bd3786"
            ],
            [
             0.5555555555555556,
             "#d8576b"
            ],
            [
             0.6666666666666666,
             "#ed7953"
            ],
            [
             0.7777777777777778,
             "#fb9f3a"
            ],
            [
             0.8888888888888888,
             "#fdca26"
            ],
            [
             1,
             "#f0f921"
            ]
           ]
          },
          "colorway": [
           "#636efa",
           "#EF553B",
           "#00cc96",
           "#ab63fa",
           "#FFA15A",
           "#19d3f3",
           "#FF6692",
           "#B6E880",
           "#FF97FF",
           "#FECB52"
          ],
          "font": {
           "color": "#2a3f5f"
          },
          "geo": {
           "bgcolor": "white",
           "lakecolor": "white",
           "landcolor": "#E5ECF6",
           "showlakes": true,
           "showland": true,
           "subunitcolor": "white"
          },
          "hoverlabel": {
           "align": "left"
          },
          "hovermode": "closest",
          "mapbox": {
           "style": "light"
          },
          "paper_bgcolor": "white",
          "plot_bgcolor": "#E5ECF6",
          "polar": {
           "angularaxis": {
            "gridcolor": "white",
            "linecolor": "white",
            "ticks": ""
           },
           "bgcolor": "#E5ECF6",
           "radialaxis": {
            "gridcolor": "white",
            "linecolor": "white",
            "ticks": ""
           }
          },
          "scene": {
           "xaxis": {
            "backgroundcolor": "#E5ECF6",
            "gridcolor": "white",
            "gridwidth": 2,
            "linecolor": "white",
            "showbackground": true,
            "ticks": "",
            "zerolinecolor": "white"
           },
           "yaxis": {
            "backgroundcolor": "#E5ECF6",
            "gridcolor": "white",
            "gridwidth": 2,
            "linecolor": "white",
            "showbackground": true,
            "ticks": "",
            "zerolinecolor": "white"
           },
           "zaxis": {
            "backgroundcolor": "#E5ECF6",
            "gridcolor": "white",
            "gridwidth": 2,
            "linecolor": "white",
            "showbackground": true,
            "ticks": "",
            "zerolinecolor": "white"
           }
          },
          "shapedefaults": {
           "line": {
            "color": "#2a3f5f"
           }
          },
          "ternary": {
           "aaxis": {
            "gridcolor": "white",
            "linecolor": "white",
            "ticks": ""
           },
           "baxis": {
            "gridcolor": "white",
            "linecolor": "white",
            "ticks": ""
           },
           "bgcolor": "#E5ECF6",
           "caxis": {
            "gridcolor": "white",
            "linecolor": "white",
            "ticks": ""
           }
          },
          "title": {
           "x": 0.05
          },
          "xaxis": {
           "automargin": true,
           "gridcolor": "white",
           "linecolor": "white",
           "ticks": "",
           "title": {
            "standoff": 15
           },
           "zerolinecolor": "white",
           "zerolinewidth": 2
          },
          "yaxis": {
           "automargin": true,
           "gridcolor": "white",
           "linecolor": "white",
           "ticks": "",
           "title": {
            "standoff": 15
           },
           "zerolinecolor": "white",
           "zerolinewidth": 2
          }
         }
        },
        "title": {
         "text": "Movie Revenue and Sentiment"
        },
        "width": 800,
        "xaxis": {
         "anchor": "y",
         "domain": [
          0,
          0.45
         ]
        },
        "xaxis2": {
         "anchor": "y2",
         "domain": [
          0.55,
          1
         ]
        },
        "yaxis": {
         "anchor": "x",
         "domain": [
          0,
          1
         ],
         "showticklabels": false
        },
        "yaxis2": {
         "anchor": "x2",
         "domain": [
          0,
          1
         ],
         "showticklabels": false
        }
       }
      },
      "text/html": [
       "<div>                            <div id=\"f0c49901-5dcb-4e0b-9517-8efecda421e1\" class=\"plotly-graph-div\" style=\"height:600px; width:800px;\"></div>            <script type=\"text/javascript\">                require([\"plotly\"], function(Plotly) {                    window.PLOTLYENV=window.PLOTLYENV || {};                                    if (document.getElementById(\"f0c49901-5dcb-4e0b-9517-8efecda421e1\")) {                    Plotly.newPlot(                        \"f0c49901-5dcb-4e0b-9517-8efecda421e1\",                        [{\"hovertemplate\":\"<b>%{y}</b><br><br>Revenue: $%{x}<br><extra></extra>\",\"marker\":{\"color\":\"rgb(136, 204, 238)\"},\"name\":\"Box Office revenue (Sorted)\",\"orientation\":\"h\",\"x\":[55069965.0,61555145.0,64914050.0,77047065.0,84158461.0,146066470.0,159555901.0,195042377.0,200074609.0,204417855.0,213515506.0,216303339.0,220159104.0,225764765.0,228395947.0,234037575.0,264624300.0,281723902.0,315058289.0,316831246.0,318482400.0,325100054.0,330360194.0,334201140.0,335061807.0,335451311.0,336045770.0,341268248.0,351032910.0,353612437.0,355559216.0,363042311.0,364001123.0,368384330.0,389813101.0,390532085.0,404515480.0,408084349.0,412563408.0,416769345.0,426829839.0,434038008.0,455530367.0,477373578.0,486295561.0,504014165.0,515202542.0,532177324.0,543638043.0,608581744.0,620181382.0,652197981.0,678815482.0,700059566.0,858373000.0,935644139.0],\"y\":[\"Tenet\",\"Onward\",\"The Invisible Man\",\"Dolittle\",\"Birds of Prey: And the Fantabulous Emancipation of One Harley Quinn\",\"Sonic the Hedgehog\",\"Fantastic Beasts: The Crimes of Grindelwald\",\"Spider-Man: Homecoming\",\"Spectre\",\"Bad Boys for Life\",\"Venom\",\"Bohemian Rhapsody\",\"Spider-Man: Far from Home\",\"The Fate of the Furious\",\"The Martian\",\"Fantastic Beasts and Where to Find Them\",\"Despicable Me 3\",\"The Hunger Games: Mockingjay - Part 2\",\"Thor: Ragnarok\",\"Jumanji: The Next Level\",\"Deadpool 2\",\"Suicide Squad\",\"Batman v Superman: Dawn of Justice\",\"Rogue One\",\"Aquaman\",\"Joker\",\"Minions\",\"Zootopia\",\"Fast & Furious 7\",\"Inside Out\",\"Aladdin\",\"Deadpool\",\"The Jungle Book\",\"The Secret Life of Pets\",\"Guardians of the Galaxy Vol. 2\",\"Mission: Impossible - Rogue Nation\",\"Jumanji: Welcome to the Jungle\",\"Captain America: Civil War\",\"Wonder Woman\",\"Jurassic World: Fallen Kingdom\",\"Captain Marvel\",\"Toy Story 4\",\"Avengers: Age of Ultron\",\"Frozen II\",\"Finding Dory\",\"Beauty and the Beast\",\"Star Wars: Episode IX - The Rise of Skywalker\",\"Mission: Impossible - Fallout\",\"The Lion King\",\"Incredibles 2\",\"Star Wars: Episode VIII - The Last Jedi\",\"Jurassic World\",\"Avengers: Infinity War\",\"Black Panther\",\"Avengers: Endgame\",\"Star Wars: Episode VII - The Force Awakens\"],\"type\":\"bar\",\"xaxis\":\"x\",\"yaxis\":\"y\"},{\"hovertemplate\":\"<b>%{y}</b><br><br>Sentiment: %{x}<br><extra></extra>\",\"marker\":{\"color\":\"rgb(204, 102, 119)\"},\"name\":\"Sentiment\",\"orientation\":\"h\",\"x\":[0.2221970558166504,101.6768890619278,13.298078060150146,-17.315242886543274,45.37998151779175,17.89766788482666,244.53333604335785,3204.9724591970444,448.2794408798218,17.43077528476715,333.126748919487,517.3134849071503,1223.9157165288925,45.39734160900116,153.2839127779007,83.76100730895996,9.1825031042099,577.6440635919571,4769.9247789382935,220.4727839231491,127.23636662960052,-179.68159127235413,6.217294931411743,3.074561834335327,699.8437728881836,451.7957478761673,29.94913411140442,25.127622604370117,36.32342195510864,179.7746365070343,276.76031267642975,437.3849060535431,156.71669459342957,10.156787872314453,76.03508818149567,111.40051794052124,451.79708337783813,1477.308752298355,4272.299609780312,288.3710243701935,832.8875148296356,125.25860464572906,773.1476207971573,47.71542000770569,49.03508245944977,655.3125306367874,3343.8069067001343,143.674889087677,338.0039938688278,194.36542809009552,7004.9720294475555,246.69340193271637,2584.1282613277435,2871.2581671476364,520.4068292379379,6503.428073048592],\"y\":[\"Tenet\",\"Onward\",\"The Invisible Man\",\"Dolittle\",\"Birds of Prey: And the Fantabulous Emancipation of One Harley Quinn\",\"Sonic the Hedgehog\",\"Fantastic Beasts: The Crimes of Grindelwald\",\"Spider-Man: Homecoming\",\"Spectre\",\"Bad Boys for Life\",\"Venom\",\"Bohemian Rhapsody\",\"Spider-Man: Far from Home\",\"The Fate of the Furious\",\"The Martian\",\"Fantastic Beasts and Where to Find Them\",\"Despicable Me 3\",\"The Hunger Games: Mockingjay - Part 2\",\"Thor: Ragnarok\",\"Jumanji: The Next Level\",\"Deadpool 2\",\"Suicide Squad\",\"Batman v Superman: Dawn of Justice\",\"Rogue One\",\"Aquaman\",\"Joker\",\"Minions\",\"Zootopia\",\"Fast & Furious 7\",\"Inside Out\",\"Aladdin\",\"Deadpool\",\"The Jungle Book\",\"The Secret Life of Pets\",\"Guardians of the Galaxy Vol. 2\",\"Mission: Impossible - Rogue Nation\",\"Jumanji: Welcome to the Jungle\",\"Captain America: Civil War\",\"Wonder Woman\",\"Jurassic World: Fallen Kingdom\",\"Captain Marvel\",\"Toy Story 4\",\"Avengers: Age of Ultron\",\"Frozen II\",\"Finding Dory\",\"Beauty and the Beast\",\"Star Wars: Episode IX - The Rise of Skywalker\",\"Mission: Impossible - Fallout\",\"The Lion King\",\"Incredibles 2\",\"Star Wars: Episode VIII - The Last Jedi\",\"Jurassic World\",\"Avengers: Infinity War\",\"Black Panther\",\"Avengers: Endgame\",\"Star Wars: Episode VII - The Force Awakens\"],\"type\":\"bar\",\"xaxis\":\"x2\",\"yaxis\":\"y2\"}],                        {\"template\":{\"data\":{\"bar\":[{\"error_x\":{\"color\":\"#2a3f5f\"},\"error_y\":{\"color\":\"#2a3f5f\"},\"marker\":{\"line\":{\"color\":\"#E5ECF6\",\"width\":0.5},\"pattern\":{\"fillmode\":\"overlay\",\"size\":10,\"solidity\":0.2}},\"type\":\"bar\"}],\"barpolar\":[{\"marker\":{\"line\":{\"color\":\"#E5ECF6\",\"width\":0.5},\"pattern\":{\"fillmode\":\"overlay\",\"size\":10,\"solidity\":0.2}},\"type\":\"barpolar\"}],\"carpet\":[{\"aaxis\":{\"endlinecolor\":\"#2a3f5f\",\"gridcolor\":\"white\",\"linecolor\":\"white\",\"minorgridcolor\":\"white\",\"startlinecolor\":\"#2a3f5f\"},\"baxis\":{\"endlinecolor\":\"#2a3f5f\",\"gridcolor\":\"white\",\"linecolor\":\"white\",\"minorgridcolor\":\"white\",\"startlinecolor\":\"#2a3f5f\"},\"type\":\"carpet\"}],\"choropleth\":[{\"colorbar\":{\"outlinewidth\":0,\"ticks\":\"\"},\"type\":\"choropleth\"}],\"contour\":[{\"colorbar\":{\"outlinewidth\":0,\"ticks\":\"\"},\"colorscale\":[[0.0,\"#0d0887\"],[0.1111111111111111,\"#46039f\"],[0.2222222222222222,\"#7201a8\"],[0.3333333333333333,\"#9c179e\"],[0.4444444444444444,\"#bd3786\"],[0.5555555555555556,\"#d8576b\"],[0.6666666666666666,\"#ed7953\"],[0.7777777777777778,\"#fb9f3a\"],[0.8888888888888888,\"#fdca26\"],[1.0,\"#f0f921\"]],\"type\":\"contour\"}],\"contourcarpet\":[{\"colorbar\":{\"outlinewidth\":0,\"ticks\":\"\"},\"type\":\"contourcarpet\"}],\"heatmap\":[{\"colorbar\":{\"outlinewidth\":0,\"ticks\":\"\"},\"colorscale\":[[0.0,\"#0d0887\"],[0.1111111111111111,\"#46039f\"],[0.2222222222222222,\"#7201a8\"],[0.3333333333333333,\"#9c179e\"],[0.4444444444444444,\"#bd3786\"],[0.5555555555555556,\"#d8576b\"],[0.6666666666666666,\"#ed7953\"],[0.7777777777777778,\"#fb9f3a\"],[0.8888888888888888,\"#fdca26\"],[1.0,\"#f0f921\"]],\"type\":\"heatmap\"}],\"heatmapgl\":[{\"colorbar\":{\"outlinewidth\":0,\"ticks\":\"\"},\"colorscale\":[[0.0,\"#0d0887\"],[0.1111111111111111,\"#46039f\"],[0.2222222222222222,\"#7201a8\"],[0.3333333333333333,\"#9c179e\"],[0.4444444444444444,\"#bd3786\"],[0.5555555555555556,\"#d8576b\"],[0.6666666666666666,\"#ed7953\"],[0.7777777777777778,\"#fb9f3a\"],[0.8888888888888888,\"#fdca26\"],[1.0,\"#f0f921\"]],\"type\":\"heatmapgl\"}],\"histogram\":[{\"marker\":{\"pattern\":{\"fillmode\":\"overlay\",\"size\":10,\"solidity\":0.2}},\"type\":\"histogram\"}],\"histogram2d\":[{\"colorbar\":{\"outlinewidth\":0,\"ticks\":\"\"},\"colorscale\":[[0.0,\"#0d0887\"],[0.1111111111111111,\"#46039f\"],[0.2222222222222222,\"#7201a8\"],[0.3333333333333333,\"#9c179e\"],[0.4444444444444444,\"#bd3786\"],[0.5555555555555556,\"#d8576b\"],[0.6666666666666666,\"#ed7953\"],[0.7777777777777778,\"#fb9f3a\"],[0.8888888888888888,\"#fdca26\"],[1.0,\"#f0f921\"]],\"type\":\"histogram2d\"}],\"histogram2dcontour\":[{\"colorbar\":{\"outlinewidth\":0,\"ticks\":\"\"},\"colorscale\":[[0.0,\"#0d0887\"],[0.1111111111111111,\"#46039f\"],[0.2222222222222222,\"#7201a8\"],[0.3333333333333333,\"#9c179e\"],[0.4444444444444444,\"#bd3786\"],[0.5555555555555556,\"#d8576b\"],[0.6666666666666666,\"#ed7953\"],[0.7777777777777778,\"#fb9f3a\"],[0.8888888888888888,\"#fdca26\"],[1.0,\"#f0f921\"]],\"type\":\"histogram2dcontour\"}],\"mesh3d\":[{\"colorbar\":{\"outlinewidth\":0,\"ticks\":\"\"},\"type\":\"mesh3d\"}],\"parcoords\":[{\"line\":{\"colorbar\":{\"outlinewidth\":0,\"ticks\":\"\"}},\"type\":\"parcoords\"}],\"pie\":[{\"automargin\":true,\"type\":\"pie\"}],\"scatter\":[{\"marker\":{\"colorbar\":{\"outlinewidth\":0,\"ticks\":\"\"}},\"type\":\"scatter\"}],\"scatter3d\":[{\"line\":{\"colorbar\":{\"outlinewidth\":0,\"ticks\":\"\"}},\"marker\":{\"colorbar\":{\"outlinewidth\":0,\"ticks\":\"\"}},\"type\":\"scatter3d\"}],\"scattercarpet\":[{\"marker\":{\"colorbar\":{\"outlinewidth\":0,\"ticks\":\"\"}},\"type\":\"scattercarpet\"}],\"scattergeo\":[{\"marker\":{\"colorbar\":{\"outlinewidth\":0,\"ticks\":\"\"}},\"type\":\"scattergeo\"}],\"scattergl\":[{\"marker\":{\"colorbar\":{\"outlinewidth\":0,\"ticks\":\"\"}},\"type\":\"scattergl\"}],\"scattermapbox\":[{\"marker\":{\"colorbar\":{\"outlinewidth\":0,\"ticks\":\"\"}},\"type\":\"scattermapbox\"}],\"scatterpolar\":[{\"marker\":{\"colorbar\":{\"outlinewidth\":0,\"ticks\":\"\"}},\"type\":\"scatterpolar\"}],\"scatterpolargl\":[{\"marker\":{\"colorbar\":{\"outlinewidth\":0,\"ticks\":\"\"}},\"type\":\"scatterpolargl\"}],\"scatterternary\":[{\"marker\":{\"colorbar\":{\"outlinewidth\":0,\"ticks\":\"\"}},\"type\":\"scatterternary\"}],\"surface\":[{\"colorbar\":{\"outlinewidth\":0,\"ticks\":\"\"},\"colorscale\":[[0.0,\"#0d0887\"],[0.1111111111111111,\"#46039f\"],[0.2222222222222222,\"#7201a8\"],[0.3333333333333333,\"#9c179e\"],[0.4444444444444444,\"#bd3786\"],[0.5555555555555556,\"#d8576b\"],[0.6666666666666666,\"#ed7953\"],[0.7777777777777778,\"#fb9f3a\"],[0.8888888888888888,\"#fdca26\"],[1.0,\"#f0f921\"]],\"type\":\"surface\"}],\"table\":[{\"cells\":{\"fill\":{\"color\":\"#EBF0F8\"},\"line\":{\"color\":\"white\"}},\"header\":{\"fill\":{\"color\":\"#C8D4E3\"},\"line\":{\"color\":\"white\"}},\"type\":\"table\"}]},\"layout\":{\"annotationdefaults\":{\"arrowcolor\":\"#2a3f5f\",\"arrowhead\":0,\"arrowwidth\":1},\"autotypenumbers\":\"strict\",\"coloraxis\":{\"colorbar\":{\"outlinewidth\":0,\"ticks\":\"\"}},\"colorscale\":{\"diverging\":[[0,\"#8e0152\"],[0.1,\"#c51b7d\"],[0.2,\"#de77ae\"],[0.3,\"#f1b6da\"],[0.4,\"#fde0ef\"],[0.5,\"#f7f7f7\"],[0.6,\"#e6f5d0\"],[0.7,\"#b8e186\"],[0.8,\"#7fbc41\"],[0.9,\"#4d9221\"],[1,\"#276419\"]],\"sequential\":[[0.0,\"#0d0887\"],[0.1111111111111111,\"#46039f\"],[0.2222222222222222,\"#7201a8\"],[0.3333333333333333,\"#9c179e\"],[0.4444444444444444,\"#bd3786\"],[0.5555555555555556,\"#d8576b\"],[0.6666666666666666,\"#ed7953\"],[0.7777777777777778,\"#fb9f3a\"],[0.8888888888888888,\"#fdca26\"],[1.0,\"#f0f921\"]],\"sequentialminus\":[[0.0,\"#0d0887\"],[0.1111111111111111,\"#46039f\"],[0.2222222222222222,\"#7201a8\"],[0.3333333333333333,\"#9c179e\"],[0.4444444444444444,\"#bd3786\"],[0.5555555555555556,\"#d8576b\"],[0.6666666666666666,\"#ed7953\"],[0.7777777777777778,\"#fb9f3a\"],[0.8888888888888888,\"#fdca26\"],[1.0,\"#f0f921\"]]},\"colorway\":[\"#636efa\",\"#EF553B\",\"#00cc96\",\"#ab63fa\",\"#FFA15A\",\"#19d3f3\",\"#FF6692\",\"#B6E880\",\"#FF97FF\",\"#FECB52\"],\"font\":{\"color\":\"#2a3f5f\"},\"geo\":{\"bgcolor\":\"white\",\"lakecolor\":\"white\",\"landcolor\":\"#E5ECF6\",\"showlakes\":true,\"showland\":true,\"subunitcolor\":\"white\"},\"hoverlabel\":{\"align\":\"left\"},\"hovermode\":\"closest\",\"mapbox\":{\"style\":\"light\"},\"paper_bgcolor\":\"white\",\"plot_bgcolor\":\"#E5ECF6\",\"polar\":{\"angularaxis\":{\"gridcolor\":\"white\",\"linecolor\":\"white\",\"ticks\":\"\"},\"bgcolor\":\"#E5ECF6\",\"radialaxis\":{\"gridcolor\":\"white\",\"linecolor\":\"white\",\"ticks\":\"\"}},\"scene\":{\"xaxis\":{\"backgroundcolor\":\"#E5ECF6\",\"gridcolor\":\"white\",\"gridwidth\":2,\"linecolor\":\"white\",\"showbackground\":true,\"ticks\":\"\",\"zerolinecolor\":\"white\"},\"yaxis\":{\"backgroundcolor\":\"#E5ECF6\",\"gridcolor\":\"white\",\"gridwidth\":2,\"linecolor\":\"white\",\"showbackground\":true,\"ticks\":\"\",\"zerolinecolor\":\"white\"},\"zaxis\":{\"backgroundcolor\":\"#E5ECF6\",\"gridcolor\":\"white\",\"gridwidth\":2,\"linecolor\":\"white\",\"showbackground\":true,\"ticks\":\"\",\"zerolinecolor\":\"white\"}},\"shapedefaults\":{\"line\":{\"color\":\"#2a3f5f\"}},\"ternary\":{\"aaxis\":{\"gridcolor\":\"white\",\"linecolor\":\"white\",\"ticks\":\"\"},\"baxis\":{\"gridcolor\":\"white\",\"linecolor\":\"white\",\"ticks\":\"\"},\"bgcolor\":\"#E5ECF6\",\"caxis\":{\"gridcolor\":\"white\",\"linecolor\":\"white\",\"ticks\":\"\"}},\"title\":{\"x\":0.05},\"xaxis\":{\"automargin\":true,\"gridcolor\":\"white\",\"linecolor\":\"white\",\"ticks\":\"\",\"title\":{\"standoff\":15},\"zerolinecolor\":\"white\",\"zerolinewidth\":2},\"yaxis\":{\"automargin\":true,\"gridcolor\":\"white\",\"linecolor\":\"white\",\"ticks\":\"\",\"title\":{\"standoff\":15},\"zerolinecolor\":\"white\",\"zerolinewidth\":2}}},\"xaxis\":{\"anchor\":\"y\",\"domain\":[0.0,0.45]},\"yaxis\":{\"anchor\":\"x\",\"domain\":[0.0,1.0],\"showticklabels\":false},\"xaxis2\":{\"anchor\":\"y2\",\"domain\":[0.55,1.0]},\"yaxis2\":{\"anchor\":\"x2\",\"domain\":[0.0,1.0],\"showticklabels\":false},\"title\":{\"text\":\"Movie Revenue and Sentiment\"},\"height\":600,\"width\":800},                        {\"responsive\": true}                    ).then(function(){\n",
       "                            \n",
       "var gd = document.getElementById('f0c49901-5dcb-4e0b-9517-8efecda421e1');\n",
       "var x = new MutationObserver(function (mutations, observer) {{\n",
       "        var display = window.getComputedStyle(gd).display;\n",
       "        if (!display || display === 'none') {{\n",
       "            console.log([gd, 'removed!']);\n",
       "            Plotly.purge(gd);\n",
       "            observer.disconnect();\n",
       "        }}\n",
       "}});\n",
       "\n",
       "// Listen for the removal of the full notebook cells\n",
       "var notebookContainer = gd.closest('#notebook-container');\n",
       "if (notebookContainer) {{\n",
       "    x.observe(notebookContainer, {childList: true});\n",
       "}}\n",
       "\n",
       "// Listen for the clearing of the current output cell\n",
       "var outputEl = gd.closest('.output');\n",
       "if (outputEl) {{\n",
       "    x.observe(outputEl, {childList: true});\n",
       "}}\n",
       "\n",
       "                        })                };                });            </script>        </div>"
      ]
     },
     "metadata": {},
     "output_type": "display_data"
    }
   ],
   "source": [
    "from plotly.subplots import make_subplots\n",
    "import plotly.graph_objects as go\n",
    "import plotly.express as px\n",
    "\n",
    "fig = make_subplots(rows=1, cols=2)\n",
    "\n",
    "fig.add_trace(\n",
    "    go.Bar(name = 'Box Office revenue (Sorted)', x=box_tot.daily, y=box_tot.index, orientation='h',\n",
    "           marker_color = px.colors.qualitative.Safe[0],\n",
    "          hovertemplate=\n",
    "                        \"<b>%{y}</b><br><br>\" +\n",
    "                        \"Revenue: $%{x}<br>\" +\n",
    "                        \"<extra></extra>\"),\n",
    "            row=1, col=1)\n",
    "\n",
    "\n",
    "fig.add_trace(\n",
    "    go.Bar(name='Sentiment', x=quotes_tot.bertperquote, y=quotes_tot.index, orientation='h',marker_color = px.colors.qualitative.Safe[1],\n",
    "          hovertemplate=\n",
    "                        \"<b>%{y}</b><br><br>\" +\n",
    "                        \"Sentiment: %{x}<br>\" +\n",
    "                        \"<extra></extra>\"),row=1, col=2)\n",
    "\n",
    "fig.update_yaxes(showticklabels=False)\n",
    "fig.update_layout(height=600, width=800, title_text='Movie Revenue and Sentiment')\n",
    "fig.show()"
   ]
  },
  {
   "cell_type": "code",
   "execution_count": 39,
   "id": "951222f9",
   "metadata": {},
   "outputs": [],
   "source": [
    "fig.write_html(\"plotlyplots/tot_box_sentiment.html\")"
   ]
  },
  {
   "cell_type": "markdown",
   "id": "3b67e674",
   "metadata": {},
   "source": [
    "# Star wars plotting example"
   ]
  },
  {
   "cell_type": "code",
   "execution_count": 40,
   "id": "d72c1c3a",
   "metadata": {},
   "outputs": [],
   "source": [
    "make_subplots\n",
    "import plotly.graph_objects as go\n",
    "#Load in the boxOffice dataset\n",
    "filename = f\"boxOffice\"\n",
    "filename_q = f'Quotebank_sentiment'\n",
    "data_dir = os.getcwd() + os.sep + 'data'\n",
    "\n",
    "df_boxOffice = pd.read_pickle(rf\"{data_dir}{os.sep}{filename}.pkl\")\n",
    "quotes = pd.read_pickle(rf'{data_dir}{os.sep}{filename_q}.pkl')\n",
    "quotes['date'] = pd.to_datetime(quotes['date'])"
   ]
  },
  {
   "cell_type": "code",
   "execution_count": 41,
   "id": "8cdc5e2c",
   "metadata": {},
   "outputs": [],
   "source": [
    "#Get the min and max day for all three films\n",
    "title = 'Star Wars: Episode VII - The Force Awakens'\n",
    "min_day_sw_VII = list(df_boxOffice[df_boxOffice.movie==title].days)[0]\n",
    "max_day_sw_VII = list(df_boxOffice[df_boxOffice.movie==title].days)[30]\n",
    "\n",
    "#Define new dataframes, where we can drop all quotes outside of our scope\n",
    "sw_VII = quotes[quotes.movie==title]\n",
    "\n",
    "#Drop all quotes outside of our time periods:\n",
    "sw_VII=sw_VII[sw_VII.date>=min_day_sw_VII]\n",
    "sw_VII=sw_VII[sw_VII.date<=max_day_sw_VII]"
   ]
  },
  {
   "cell_type": "code",
   "execution_count": 42,
   "id": "534bcb96",
   "metadata": {},
   "outputs": [
    {
     "data": {
      "application/vnd.plotly.v1+json": {
       "config": {
        "plotlyServerURL": "https://plot.ly"
       },
       "data": [
        {
         "hovertemplate": "<b>%{text}</b><br><br>Date: %{x}<br>Made %{y}$ on this day<br><extra></extra>",
         "marker": {
          "color": "rgb(136, 204, 238)"
         },
         "name": "Box Office revenue",
         "text": [
          "Friday",
          "Saturday",
          "Sunday",
          "Monday",
          "Tuesday",
          "Wednesday",
          "Thursday",
          "Friday",
          "Saturday",
          "Sunday",
          "Monday",
          "Tuesday",
          "Wednesday",
          "Thursday",
          "Friday",
          "Saturday",
          "Sunday",
          "Monday",
          "Tuesday",
          "Wednesday",
          "Thursday",
          "Friday",
          "Saturday",
          "Sunday",
          "Monday",
          "Tuesday",
          "Wednesday",
          "Thursday",
          "Friday",
          "Saturday",
          "Sunday",
          "Monday",
          "Tuesday",
          "Wednesday",
          "Thursday",
          "Friday",
          "Saturday",
          "Sunday",
          "Monday",
          "Tuesday",
          "Wednesday",
          "Thursday",
          "Friday",
          "Saturday",
          "Sunday",
          "Monday",
          "Tuesday",
          "Wednesday",
          "Thursday",
          "Friday",
          "Saturday",
          "Sunday",
          "Monday",
          "Tuesday",
          "Wednesday",
          "Thursday",
          "Friday",
          "Saturday",
          "Sunday",
          "Monday",
          "Tuesday",
          "Wednesday",
          "Thursday",
          "Friday",
          "Saturday",
          "Sunday",
          "Monday",
          "Tuesday",
          "Wednesday",
          "Thursday",
          "Friday",
          "Saturday",
          "Sunday",
          "Monday",
          "Tuesday",
          "Wednesday",
          "Thursday",
          "Friday",
          "Saturday",
          "Sunday",
          "Monday",
          "Tuesday",
          "Wednesday",
          "Thursday",
          "Friday",
          "Saturday",
          "Sunday",
          "Monday",
          "Tuesday",
          "Wednesday",
          "Thursday",
          "Friday",
          "Saturday",
          "Sunday",
          "Monday",
          "Tuesday",
          "Wednesday",
          "Thursday",
          "Friday",
          "Saturday",
          "Sunday",
          "Monday",
          "Tuesday",
          "Wednesday",
          "Thursday",
          "Friday",
          "Saturday",
          "Sunday",
          "Monday",
          "Tuesday",
          "Wednesday",
          "Thursday",
          "Friday",
          "Saturday",
          "Sunday",
          "Monday",
          "Tuesday",
          "Wednesday",
          "Thursday",
          "Monday"
         ],
         "texttemplate": " ",
         "type": "bar",
         "x": [
          "2015-12-18",
          "2015-12-19",
          "2015-12-20",
          "2015-12-21",
          "2015-12-22",
          "2015-12-23",
          "2015-12-24",
          "2015-12-25",
          "2015-12-26",
          "2015-12-27",
          "2015-12-28",
          "2015-12-29",
          "2015-12-30",
          "2015-12-31",
          "2016-01-01",
          "2016-01-02",
          "2016-01-03",
          "2016-01-04",
          "2016-01-05",
          "2016-01-06",
          "2016-01-07",
          "2016-01-08",
          "2016-01-09",
          "2016-01-10",
          "2016-01-11",
          "2016-01-12",
          "2016-01-13",
          "2016-01-14",
          "2016-01-15",
          "2016-01-16",
          "2016-01-17",
          "2016-01-18",
          "2016-01-19",
          "2016-01-20",
          "2016-01-21",
          "2016-01-22",
          "2016-01-23",
          "2016-01-24",
          "2016-01-25",
          "2016-01-26",
          "2016-01-27",
          "2016-01-28",
          "2016-01-29",
          "2016-01-30",
          "2016-01-31",
          "2016-02-01",
          "2016-02-02",
          "2016-02-03",
          "2016-02-04",
          "2016-02-05",
          "2016-02-06",
          "2016-02-07",
          "2016-02-08",
          "2016-02-09",
          "2016-02-10",
          "2016-02-11",
          "2016-02-12",
          "2016-02-13",
          "2016-02-14",
          "2016-02-15",
          "2016-02-16",
          "2016-02-17",
          "2016-02-18",
          "2016-02-19",
          "2016-02-20",
          "2016-02-21",
          "2016-02-22",
          "2016-02-23",
          "2016-02-24",
          "2016-02-25",
          "2016-02-26",
          "2016-02-27",
          "2016-02-28",
          "2016-02-29",
          "2016-03-01",
          "2016-03-02",
          "2016-03-03",
          "2016-03-04",
          "2016-03-05",
          "2016-03-06",
          "2016-03-07",
          "2016-03-08",
          "2016-03-09",
          "2016-03-10",
          "2016-03-11",
          "2016-03-12",
          "2016-03-13",
          "2016-03-14",
          "2016-03-15",
          "2016-03-16",
          "2016-03-17",
          "2016-03-18",
          "2016-03-19",
          "2016-03-20",
          "2016-03-21",
          "2016-03-22",
          "2016-03-23",
          "2016-03-24",
          "2016-03-25",
          "2016-03-26",
          "2016-03-27",
          "2016-03-28",
          "2016-03-29",
          "2016-03-30",
          "2016-03-31",
          "2016-04-01",
          "2016-04-02",
          "2016-04-03",
          "2016-04-04",
          "2016-04-05",
          "2016-04-06",
          "2016-04-07",
          "2016-04-08",
          "2016-04-09",
          "2016-04-10",
          "2016-04-11",
          "2016-04-12",
          "2016-04-13",
          "2016-04-14",
          "2016-05-30"
         ],
         "xaxis": "x",
         "y": [
          119119282,
          68294204,
          60553189,
          40109742,
          37361729,
          38022183,
          27395725,
          49325663,
          56731532,
          43145665,
          31362029,
          29528583,
          28085057,
          22932686,
          34394152,
          34368250,
          21479271,
          8021882,
          7967428,
          6210432,
          5972359,
          10744380,
          19204072,
          12405333,
          3108701,
          3844408,
          3114937,
          3129967,
          6328954,
          11028514
         ],
         "yaxis": "y"
        },
        {
         "hovertemplate": "<b>%{text}</b><br><br>Date: %{x}<br>Occured in %{y} article(s)<br><extra></extra>",
         "marker": {
          "color": "rgb(204, 102, 119)"
         },
         "name": "Quotes",
         "text": [
          "I want to clarify my interview on the `Charlie Rose Show.' It was for the Kennedy Center Honors and conducted prior to the premiere of the film. I misspoke and used a very inappropriate analogy and for that I apologize. I have been working with Disney for 40 years and chose them as the custodians of Star Wars because of my great respect for the company and Bob Iger's leadership. Disney is doing an incredible job of taking care of and expanding the franchise. I rarely go out with statements to clarify my feelings but I feel it is important to make it clear that I am thrilled that Disney has the franchise and is moving it in such exciting directions in film, television and the parks. Most of all I'm blown away with the record breaking blockbuster success of the new movie and am very proud of JJ and Kathy.",
          "They were saying, `Well, since when has Star Wars been just for the boys? '",
          "When it became clear what this story was and where `Episode VIII' and `Episode IX' would go, the end of this movie was very much intended to be a cliffhanger.",
          "It's the third one, and I think that's pushing it a bit too far. The plot was unfolding rather well, and I think it was a bit unnecessary. In Star Wars, and Return Of The Jedi, it was a tidy way to end things, with the David And Goliath-style battle, and they've done that again. That was the only thing that stuck in my throat.",
          "When I started to go into Star Wars, [ my friends ] said, `Why are you making a children's film? '",
          "But they are unlikely to match the might of the core Star Wars films at the box office.",
          "Dilwale overseas: Gulf -- biggest-ever opening for a Bollywood film, and the number one film this weekend, higher than Star Wars: The Force Awakens and other films,",
          "Star Wars movies are meant to be a couple of hours of diversion from reality, and we need that. They are optimistic and hopeful stories. But in comparison to what we can do with this [ the hospital ], last night [ the Star Wars premiere ] is very trivial.",
          "We became friends and then we started dating and he didn't freak out at the action figures that I had on my wall. So he sort of knew from the get-go that he was going to have to accept it that I love Star Wars and he became a fan,",
          "I am fan of `Star Wars' . I am excited about the film. I am keen to watch the film. All the best to the team. May the force be with you,",
          "That was really the beginning of the discussion. The answer was the kind of sense of discovery, exhilaration and surprise. The comedy that George Lucas put into Star Wars kind of was, for me, the thing that made me love the movie,",
          "I'm most excited because my dad took me to go see the original Star Wars movie back in 1977. It's the first memory I have,",
          "I made a promise to my friend that I wouldn't see Star Wars until I got home to L.A.. We're going to one of those theaters with the reclining chairs where you can order food. It's going to be a whole deal.",
          "Propelled and inspired all of the cast and crew of the original Star Wars trilogy.",
          "I mean, anything Star Wars has my vote, but the looks that Pat McGrath did and the products that came out of the collaboration are my favorite thing. The dark purple lipstick has a little bit of blue-hued shimmer and it's awesome.",
          "Finn is us. He doesn't have his path handed to him. He doesn't have his destiny spoken of in a distant prophecy. He is the everyman, and it's like, who would everybody really be in a Star Wars movie? People who say Luke Skywalker, they're lying.",
          "I'm hoping everybody cheers as the giant Star Wars opening title rolls on the screen,",
          "means that I can identify the Star Wars Millennium Falcon as the joy-maximizing gift.",
          "Apparently the franchise never got popular in China because the original Star Wars movie came out in 1977, back when Western media was suppressed in China,",
          "I have been working with Disney for 40 years and chose them as the custodians of `Star Wars' because of my great respect for the company and Bob Iger's leadership. Disney is doing an incredible job of taking care of and expanding the franchise.",
          "But in comparison to what we can do with this (the hospital), last night [ the premiere of Star Wars: The Force Awakens ] is very trivial.",
          "I've loved doing the Star Wars films with all their fanfares and flourishes,",
          "Art of `Star Wars: The Force Awakens '",
          "For us and for most people, Star Wars is a global cinematic event, if there ever was one. In many developed markets where Star Wars has been part of the cultural zeitgeist, you just have to tell people when it's coming. Except for a few of us in the cities, not many have grown up on Star Wars culture (in India). Besides, there was such a big time gap,",
          "I don't care about `Star Wars,' I never fucking did... who gives a fuck?",
          "OK everybody, I got to get to `Star Wars.",
          "Indeed, all the spoilers I could throw at you right now -- but I won't, I promise -- would seem familiar, because the whole damn movie seems obsessively and insistently familiar. We have known for months or years that The Force Awakens would be a massive worldwide hit, and that would still be true even if it turned out to be about Jar Jar Binks and the Little Mermaid going on an underwater quest for the essence of Gangnam Style. It's the Citibank of movies, literally too big to fail. But Abrams has grander ambitions than a Michael Bay-style cash grab. His mission is to build a new Star Wars franchise on top of the old one, and the ultimate success of that venture will largely depend on how the series' millions of fans react to the fact that he hasn't just made a movie fueled by nostalgia, or a movie full of mythic echoes. He's made a movie they've already seen, a simulacrum of something that was already a simulacrum of something else.",
          "The Mythology of Star Wars.",
          "Watch our spoiler-full Star Wars: The Force Awakens review",
          "For both the movie industry as a whole and for Star Wars: The Force Awakens, this is a seminal moment in box-office history. With potentially two of the biggest movie-going weekends of all-time occurring back to back, this is a watershed moment with records being broken,",
          "I am a lifelong, hardcore Star Wars fan,",
          "My next movie is a family drama. It's a large-scale family drama set in space, but it's still a family drama.... Star Wars is the only kind of movie where somebody can just yell, `Noooooooo!' and you're with it. So to do a movie that gets to that level of pure, human-heart-ripped-out emotion -- I felt like that was the right thing to do.",
          "There's a way in, a center circle and way out -- like the hero's journey, if we want to follow `Star Wars.",
          "We're telling the story of Christmas from Revelation 12, which is very different than Matthew or Luke. Revelation 12 kind of gives you a glimpse of the cosmic combat behind the stars, and so we're kind of using `Star Wars' as a tie-in to represent that.",
          "These are my kids. All the Star Wars films. I love them, I created them, I'm very intimately involved in them,",
          "There are few movies, if any, in history that can claim to have an iconic status similar to that of Star Wars. Its universal content appeals and entertains fans across ages. As the franchise is new to Indian audiences, we decided to start our marketing and brand associations and activations almost a year in advance. Our Consumer Products team has worked hard to get a record number of brand partners on board for the film. The growing buzz around the movie has helped us get many brands excited about the property,",
          "Star Wars does it very well that every character has their nuances and their differences,",
          "`Star Wars' is the story of a simple farm boy who buys two robots. One looks like a garbage can, the other is programmed to be scared all the time for some reason, I'm not sure why,",
          "' Star Wars' people,",
          "I wound up getting the whole box set and watched the earlier versions of Star Wars, which I tend to appreciate a little more than the newer ones because I just think it was done well,",
          "Star Wars: The Force Awakens review -- listen to the FM Podcast # 07",
          "Talk to Simon Pegg. He obviously knows way more than I do. He's just jealous because he's not in Star Wars. He's got some issue with J.J. I don't know what the f -- k it is. You need to talk to Simon about it.",
          "You see families come into the shop. The grandfather has got his Lego, the dad has got his Lego and then there's the next generation. Lego is top of many children's lists this Christmas. The brand has collaborated with Star Wars with an exciting range of new sets available in branch, including Darth Vader and Naboo Starfighter. The detailed pieces allow creative kids to construct their own distant galaxies.",
          "Star Wars just blew me away,",
          "I wanted to let go of my taking the high road when people might attack on Twitter or social media. Most celebrities do take the high road thanks to their publicist, but I was watching someone like Carrie Fisher recently who addressed how someone made a comment about the way she looks and how she aged in Star Wars, and she came back with the most brilliant response.",
          "I wasn't a fan of Star Wars way back then and never saw the movie. The same goes for now, too, and I'll be so happy when the obsession dies down and I won't have to hear or read about it every day.",
          "There is no limit to the Islamists' sense of victimhood. Now there's victimization through `Star Wars. '",
          "OK, everybody, I've got ta get to `Star Wars. '",
          "There will be a handful of new cast members in Episode VIII,",
          "Start with the fourth episode, go from there, and then go back and watch the prequels. I'm excited about the new one as well. I know George didn't have anything to do with it, but the fact that 40 years later, we're still talking about Star Wars: That's a force.",
          "no more Star Wars -- the saga's over. Happy?",
          "I wasn't much of a Star Wars fan but it was an amazing movie. Best of the year for sure.",
          "Star Wars is fashion forward, all it means is that it's going to become a more accepting environment and less and less female fans are going to be bullied for just being who they are,",
          "I know they don't need the publicity but saw Star Wars last night and super enjoyed it. Loved they had a girl kicking a --.",
          "When I was a kid we didn't have a lot but I remember one Christmas just being surrounded by Star Wars toys,",
          "That is just the tip of the iceberg, since Disney is likely to make as much or more from licensing. `Star Wars,' in fact, is likely to earn more for Disney than all of their previous licensing revenue combined,",
          "a huge day, not just for Star Wars fans, but actually for the British film industry",
          "Unashamed of inanity, The Force Awakens repeats the Millennium Falcon boast of completing the Kessel Run in `under 12 parsecs.' (A parsec is an obscure unit of distance in Astrophysics, equal to 3.26 Light Years. Neither has anything to do with time.)",
          "I guess I felt like I had this great thing in `Star Wars' ... but it all kind of felt a little too handed to me.",
          "A lot of us here at Empire are Star Wars fans and we were trying to honor the movies and the whole tradition of Star Wars,",
          "The emotional attachment that people have to the Star Wars series is very deep,",
          "There are so many adults coming in and buying, often really for themselves, especially Star Wars. You've got the people who grew up with the original Star Wars, the next generation who came to it with the Phantom Menace, and then this new one.",
          "Sure we had to sit and watch a little more of what we had already seen, but its [ SIC ] like we got 2 free movies passes and got to see the new Star Wars 1 & amp; 3/4 time. [ SIC ]",
          "One figure we do know is that a total of 300 million Star Wars figures - that's across all varieties - were sold by 1985,",
          "Axanar is a fan film. Fan films -- whether related to Star Trek, Star Wars, Harry Potter, Lord of the Rings, Power Rangers, Batman or any other franchise -- are labors of love that keep fans engaged, entertained, and keep favorite characters alive in the hearts of fans.",
          "I am a big believer that what generates box office is people going to movies and `Star Wars' has gotten a giant infusion of people into theaters,",
          "I remember watching TV. I was six years old and there was a Star Wars movie promo. Something captured me. The fantasy element, I think. There were these weird characters and robots and aliens, and it was this super space adventure. I remember telling my dad, I have to see this movie. When we finally went to he movie theater, I remember the line going around the block two or three times. That was a bigger-than-life experience for me. It was something unique.",
          "When Star Wars first came out I was 6-years-old and I would take the family Nativity at Christmas and replace the figurines with Star Wars action figures,",
          "It's been so hard to keep this secret! It was such a weird and wonderful experience for our small village to be part of the Star Wars story. We enjoyed evenings of music and dance in our bar with the cast and crew. Mark Hamill even learned how to pull a pint with our barman, Ciaran Kelly!",
          "Clearly, this is not the most important event that's taking place in the White House today. There is a screening of `Star Wars' for Gold Star families and children coming up. So I'll try to be relatively succinct.",
          "Sometimes, too, the adherence to `Star Wars' past grates,",
          "I don't even have to think about it. You have to go the traditional route. You begin with Star Wars, then The Empire Strikes Back, and Return of the Jedi. I grew up watching those films, and I just believe that the order that they were released is the only way to watch them.",
          "HP is delivering an experience that is unmatched on a PC by giving customers exclusive access to rare Star Wars content so they can immerse themselves into the Star Wars universe. We are thrilled to be the only PC vendor collaborating with Disney and Lucasfilm to create a one-of-one-kind notebook for a great Star Wars experience on a PC.",
          "See the brand new Uncharted 4 trailer at the Star Wars: The Force Awakens premiere weekend in select US theaters!",
          "That was really the beginning of the discussion, and the answer was... the sense of discovery, exhilaration, surprise [ and ] comedy that George Lucas put into `Star Wars' ... were the things that made me love the movie. When you look at all the things that he got right... it's stunning.",
          "It's been nearly four decades since the original Star Wars arrived in theaters and showed viewers everywhere the power of the force and the undeniable talents of George Lucas. Two strong sequels and three inferior prequels later, the youthful director J.J. Abrams (Star Trek: Into Darkness) has been tasked with continuing the saga beyond the events of the 1983 installment, Return of the Jedi. Continue it, he does.",
          "Sure JJ, I'll come back for Star Wars. But you got ta kill me off in your first movie!",
          "I've told my family, I've told my friends several times, I definitely think Episode VII is going to break the box office,",
          "It was the movie that should have been made after the first `Star Wars' films! It is so fun and it's got exactly the right note. It has awesome female leads, strong women that we have not seen since Leia. I am going to have to come back and see it again at a time when people aren't cheering at every scene.",
          "I sold Star Wars to white slavers",
          "There is the saying: `If you're doing pantomime, where's your career? It's behind you...' The fact is that panto is competing with the likes of a $200m Star Wars film. You can't go in with a few ropy special effects and expect the audience to be happy with that.",
          "In Star Wars: The Force Awakens, if you were to suck all of a star's energy into your planet, your planet would vaporize,",
          "George Lucas had told me he wanted to do some more Star Wars, but I assumed I wasn't going to be coming back because my story was finished. Then George told me I could return if I wanted to or they would write me out of it. There was no way I was going to turn that chance down.",
          "Beyond its impact on movie marketing and merchandising, Star Wars had a profound effect on the culture. It benefited from the retrenchment of the Carter [ President Jimmy Carter ] years, the march to the center that followed the end of the Vietnam War.",
          "The fulfillment of watching the seventh Star Wars film is bigger than me, it's bigger than the earth, it's bigger than the galaxy actually,",
          "The business is now worth 11.1 billion dollars. So that value has nearly tripled just in that very short space of time. And when you look at the pipeline of the films that they are seeking to produce and obviously the massive merchandising opportunities in the form of toys it is really not actually that surprising that Star Wars is worth quite so much.",
          "We all love the `Star Wars' movies,",
          "This is a fun way to take a fresh look at the greatest story ever told. One of our core values at Liquid is that `church is fun.' It's okay to laugh and celebrate together while talking about Christmas. If that means having Star Wars characters in costume and dancing Stormtroopers, I'm all for it.",
          "I've never been the first in line for any movie, but I decided to take off work for `Star Wars,",
          "And that's Star Wars,",
          "Twentyfive years later that's pretty much all I do! And of course I was collecting Star Wars stuff even before I became an artist. When the movies came out on VHS I had a year when I watched A New Hope every night as I fell asleep in hopes of having Star Wars dreams, but you know it never worked. A couple years later I started to watch Return of the Jedi every night.",
          "I have to get to Star Wars.",
          "I don't care about `Star Wars,' I never fucking did,",
          "I'm honored the folks and Bendon understood why I wanted to work with them and Toys for Tots. Bendon's books have some pretty cool heroes and lessons for all ages like Batman, Superman and Clifford the Big Red Dog to Disney, Peanuts and some of my favorites, Tom Sawyer and Huck Finn. Whether a kid is into Barbie or Star Wars, I hope we've given a bit of fun and inspiration.",
          "That communal power -- that literally is at the centre of what Star Wars is all about: the idea what were all connected somehow and The Force surrounds and binds all of us together.",
          "I'm just a massive fan of Star Wars.",
          "become something of a contentious talking point among Star Wars diehards.",
          "live on in all corners of the Star Wars universe",
          "Both are amazingly talented and both are huge `Star Wars' fans,",
          "On the stage for this year's `Kohaku Uta Gassen,' it's been decided that we will have a joint performance with `Star Wars.' Everyone knows that this is an epic collaboration and so we're very nervous, but we are still going to give it our all! No matter the stage we are on, we always enjoy ourselves. Please watch us!",
          "Anything to do with Star Wars, games consoles, craft making or wellness - such as spiralisers - has been very popular this year.",
          "About last night.... Star Wars was awesome.... I'm a little short for a stormtrooper....",
          "Star Wars: Retribution,",
          "In my research, I found out that, more importantly than girls wanting merchandise, girls were being bullied for liking Star Wars,",
          "Requiem for Star Wars,",
          "Long before we had this title, the idea of `The Force Awakens' was that this would become the evolution of not just a hero, but a villain,",
          "My wife thought it would be cool if we wore a nice t-shirt to the premiere of Star Wars and I said, `That's cute babe, we're wearing the costumes,",
          "OK, I've read this guy's name three times. I don't remember it. I don't care. I don't care about Star Wars!",
          "Everyone who has seen these movies thinks about `I am your father...' and `There is another...' But neither of those things were in [ 1977's original ] Star Wars. Star Wars didn't say Luke was the son of Vader. Star Wars didn't say Leia was the sister of Luke. You didn't understand what these references were: the Empire, dark times, Clone Wars. There were these things that were discussed that don't get explained. George [ Lucas ] dropped you into a story and respected you to infer everything necessary to understand what you need to know... Can this movie actually also hold, `And Rey is this... And Finn is that... And this is where Poe is from...' This is the first of a series. There is a story to be told. And it will be.",
          "You either like Star Wars or you're wrong, that's the only way.",
          "It was one of the better Star Wars films I've seen,",
          "They were the first people we pitched to Lucasfilm - before they knew they were even up for the gig. It's hard to find a better artist than John Cassaday, and... Jason [ is ] a complete master of walking the fine line of action and humor that Star Wars perches perfectly upon.",
          "Good versus evil has formed the essence of all Indian mythological stories. In fact, it's hard to imagine any other movie franchise that could evoke a level of passion, enthusiasm and excitement like Star Wars does.",
          "You may have heard that The Force Awakens baddie Captain Phasma was named after this film, no doubt inspired by the iconic chrome sphere,",
          "We are delighted to see the galaxy embracing The Force Awakens",
          "So, be of good cheer. The Force Awakens will neither nourish nor sate, but it is palatable and fresh, and it won't lay you low for days to come.",
          "Star Wars Toy Commercial -- SNL.",
          "She had `Star Wars' curtains. I walked in there and in my head, I thought: This is awesome, and we will be married.",
          "The new heroes of The Force Awakens are brightly drawn, occasionally surprising, and an endless pleasure to spend time with. There are moments of drama and excitement here that are pure late-Seventies vintage.",
          "I'm tired of pretending, I don't care about it. This guy's face is covered up, `cause he's so embarrassed that he's got ta go see Star Wars.",
          "I love [ the Star Wars movies ], I created them, I'm very intimately involved in them, and I sold them to the white slavers that take these things and...",
          "enhances the Star Wars brand",
          "This guy's face is covered up because he is so embarrassed that he has got to go see Star Wars!",
          "Star Wars had the greatest villain in cinema history. So, how you bring a new villain into that world is a very tricky thing,",
          "I think Star Wars speaks to everybody because it's a classic tale,",
          "Millions of fans will be introduced today to the next generation of Star Wars storytelling, and Disney Infinity 3.0 Edition is the only game where they can step into iconic moments from Star Wars: The Force Awakens film,",
          "I actually went and watched the opening of `Star Wars, '",
          "Do my mind-reading powers from `Heroes' work in the `Star Wars' universe?",
          "Star Wars is 13 hours of brilliant artistic craft, and to come back to it is more than I could've asked for,",
          "Millions of fans will be introduced today to the next generation of Star Wars storytelling, and Disney Infinity 3.0 is the only game where they can step into iconic moments from Star Wars: The Force Awakens film,",
          "Seeing an epic movie like `Star Wars' on the big screen is a fun part of being a kid, and is something everyone deserves to experience. We wanted to give these brave patients and their families a great night out together.",
          "Star Wars The Force Awakens It already made $14 million in limited European showings, and nobody expected that Star Wars: The Force Awakens was going to fizzle on Thursday. '",
          "`Star Wars' really brings a lot of people together,",
          "But neither of those things were in [ 1977's original ] Star Wars. Star Wars didn't say Luke was the son of Vader. Star Wars didn't say Leia was the sister of Luke. You didn't understand what these references were: the Empire, dark times, clone wars. There were these things that were discussed that don't get explained. George [ Lucas ] dropped you into a story and respected you to infer everything necessary to understand what you need to know.",
          "I compared the numbers last week and the possibility for the maximum amount of people we could have for the Star Wars film would have been about 940, and last night, we had sold about 780 tickets for the showings.",
          "We are celebrating the fact that a generous donor came forward to Kids Up Front and they got our youth involved in this and they got to see Star Wars for the first time, so pretty exciting time,",
          "I got to get to Star Wars",
          "Star Wars Journey to the Force Awakens: High Noon on Jakku: Tales From a Galaxy Far, Far Away",
          "To us, this particular protostar system looks like a double-bladed lightsaber, which is timely with all the Star Wars frenzy going on right now, but we are seeing a birth stage of a new star system,",
          "The much-anticipated Star Wars: The Force Awakens continually reprises plots and themes from the first three movies. It tells a well-crafted story; the new characters are invigorating; the old characters are reintroduced tidily. But it is also far too enamoured with the power of its own history. Apparently, anything that costs $4-billion -- that's the price Disney paid for Lucasfilm -- must be mythic.",
          "It's weird how China chose to design their Clone Troopers to look exactly like those on Star Wars. And that Jackie Chan III looks exactly the same as his grandfather.",
          "Star Wars is a phenomenon and a wonderful and rare opportunity for people, in truth, throughout the world, to actually come together for something uplifting and positive.",
          "I've still got all of my original `Star Wars' toys,",
          "I've been a Star Wars fan my entire life,",
          "The thought of the galaxy itself. It's the effects, it's the story, it's just the whole shebang with the hardcore fans. There's so much involved. It's hard to pick just one thing out as to why I like Star Wars so much.",
          "I was impressed, this was a good Star Wars,",
          "many gay men who love Star Wars and fantasise over the characters and the stories.",
          "worst attempt to co-opt Star Wars",
          "No chance... it would be the first `Star Wars' I've ever seen.",
          "`Star Wars' transcends generations,",
          "I would never tell anyone NOT to see it, because in reality, just about everyone will anyway. Bu you should go see The Force Awakens in the next couple of days. I have a very bad feeling about this -- spoilers will start popping up all over the galaxy. It's inevitable.",
          "My dream role is to be in Star Wars, I don't care what I'd be, I'd be Chewbacca's & shy; handbag, darling,",
          "Ok, you're part of a Star Wars premiere?",
          "2015 in Republican politics, as explained by Star Wars,",
          "based on where we think this title is, and based on the marketing beats ahead of us (in particular, the [ launch of Star Wars: The Force Awakens ]) over the next two weeks, we feel very comfortable we're going to hit the guidance that we've given.",
          "of films not called Star Wars",
          "Star Wars -- made me a fortune -- paid off my mortgage -- bought me a car.",
          "With Star Wars: The Force Awakens opening on Friday, the movie's name is everywhere, from toys to toothbrushes. And now, even your produce comes with a Yoda, Han Solo or a little BB-8 droid on the packaging.",
          "The Force Awakens Is Everything You Could Hope for in a Star Wars Movie -- and Less.",
          "It was what you did with Star Wars,",
          "We thought we would show our excitement the only way we know how: by editing footage from the `Star Wars' movies,",
          "Yeah, I love Star Wars.",
          "You didnt age well and u sucked in Star Wars. It was a rest home flick. Want my money back.",
          "As Star Wars fans, we must suspect that the Force was also involved, enhancing our Force-sensitive abilities to detect polyps, despite an overall more hostile luminal environment. Akin to Luke Skywalker's destruction of the Death Star in Star Wars: Episode IV A New Hope, despite being pursued by Darth Vader and TIE fighters, we trusted the Force to guide us through the murky colonic waters to locate and destroy polyps,",
          "Although it was relatively short notice, I think it will take off, especially if, like The Lord of the Rings trilogy, there's a Star Wars movie every Christmas for the next two or three years.",
          "I saw it with my kids on Sunday and I think it's no exaggeration to say, it is as good as any and quite possibly the best [ Star Wars film ]. It's quite a movie.",
          "The fame side of things is a weird twist that I'm not kind of interested in. If I was going to be recognized for anything, `Star Wars' is all right.",
          "clearly Star Wars guys,",
          "Star Wars is a land filled with incredible things that blow [ her ] mind, also similar to Florida.",
          "The farm boy helps kill the bad guy because the bad guy killed his father even though he actually is his father. The whole thing ends with a dance party with a bunch of teddy bears and ghosts. And that's `Star Wars. '",
          "Yes, but the thing is, He wants to see Star Wars real bad first.",
          "And without spoiling it, I can say that [ Star Wars: The Force Awakens ] has the BEST final shot of any Star Wars film. Wow.",
          "Is Luke in `Star Wars?' It's a mystery,",
          "Marketing directors are now the age of true Star Wars fandom so that probably helps get this stuff signed off, but apparently you can get Star Wars oranges in a major supermarket, perhaps a bit too far.",
          "India is a heavily under screened market where we have only two multiplex screens per million people. It is imperative to plan a release around school holidays and overall festive period to give the film its full capacity. Christmas Day is a holiday all over and an ideal time for the release of this epic movie, for all our Indian viewers, which is truly one of the biggest franchises ever. Star Wars has opened to rave reviews and record-shattering box office numbers globally and we are now geared up to give Indian audiences a taste of this modern classic. To add to it we believe the global fervour around the movie will travel to India and will aid in ramping up the demand further by the time we release it in Indian theatres.",
          "Star Wars: The Force Awakens is the movie it was promised to be, with great new characters, a respect for the original trilogy and a strong understanding of what makes this franchise click with fans. The new additions to the Star Wars universe work best, though there is some over-reliance on tying things to and making nods to the classic Star Wars films. Overall, this is a great way to reboot the franchise and open the world up for a new generation of fans.",
          "Thanks, everybody. I got ta get to Star Wars.",
          "There is a screening of Star Wars coming up.... So I'll be relatively succinct.",
          "Star Wars: & # 0010; The Force Awakens.",
          "I'm sorry, I'm tired of pretending! I don't care about it! This guy's face is covered up because he's so embarrassed that he's got ta go see Star Wars.",
          "Has the president seen the new `Star Wars' film?",
          "Not many people know this, but in ’77 when Star Wars came out, George Lucas asked us to introduce these characters,",
          "We're expecting huge numbers and certainly think that more records are set to tumble, with Star Wars: The Force Awakens already becoming the highest grossing film for an opening day, beating the previous record holder Harry Potter and the Deathly Hallows,",
          "Rohit was there for the Star Wars: The Force Awakens premiere in Abu Dhabi on December 16 and he did some more recce after that for the action sequences. I don't know the details, but he found good, interesting locations,",
          "We got ta remember, Star Wars came from nowhere. American Graffiti came from nowhere,",
          "I don't care. I don't care about Star Wars and I never f -- king did. I'm sorry. I'm tired of pretending. I don't care about it.",
          "With numbers like this, it's clear that even casual viewers sought out a premium theatrical experience to see Star Wars: The Force Awakens, and in a weekend of incredible performances across the board, the folks at IMAX pulled out all the stops for a tremendous, record-setting debut for the format that has gone beyond anything we could've hoped,",
          "I'd like the very first screen-used lightsaber that Obi-Wan passes to Luke in Star Wars,",
          "See the first one that was out, and then watch them in order. That way you get the whole experience, just as we earthlings did. I was actually at the very first night of the very first `Star Wars.' We weren't really aware what we were watching. All I remember is seeing that big, huge spacecraft going across the scene, going across the screen. It just kept going and going. It was like the greatest special effect ever. The whole audience was in then.",
          "With final numbers now in, Star Wars: The Force Awakens rose above estimates to post an all-time industry-high $248m (& pound; 166m) domestically, plus $281m (& pound; 188m) internationally for an all-time record global debut of $529m since opening December 16,",
          "#anticipation Getting excited for Star Wars @bad_robot,",
          "It's a little bit crazy. My friend is a little bit more of a Star Wars fanatic than I am but as we've gotten closer it's been really exciting. And I think the world seems really excited about this, everywhere you go, I mean, people seem excited.",
          "We took a real gamble with Star Wars,",
          "That we had Universal with their incredible year and Disney bringing `Star Wars' back at the same time is really remarkable,",
          "And I'm thinking now, if I said, if I did a movie that came out right after Star Wars comes out, you know, maybe a couple of months later, Spaceballs 2: The Search for More Money... I'd have a big weekend, you know, no matter what, even if it fell on its a ** and you know, didn't get that money back.",
          "They're filming Star Wars over the road and all the crew have been coming over to have a look at us. That's the God's honest truth. I was saying to them, `you've got Chewbacca over there, why do you want to see us?' But it's lovely, isn't it? You'd think they'd be looking down their noses at us, but there's a respect there. I do find that there's always this fascination when it comes to EastEnders.",
          "Have you been influenced by Buddhism? Because Star Wars came along just about the time there was this growing interest in America in Eastern religions. I notice in The Phantom Menace, the new Episode i, that they discover this slave child who has an aura about him, and it reminded me of how the Buddhists go out and look for the next Dalai Lama.",
          "And then in' 92, ’93 they came out with the Star Wars Bend-Ems, and then in' 94, ’95 they came out with the figures again, the red-carded figures. And that, just for me, I was working at -- I managed a KB Toys, so for me I was getting this awesome discount, and these toys were coming in. I was just in my glory.",
          "The original plot of Star Wars: The Force Awakens featured the search for Darth Vader and the second Death Star",
          "These guys, when they were kids, `Star Wars' is what they've all said drew them into this business,",
          "Half of all Star Wars fans are women, and the reality is that these items are being made because fans want them,",
          "Everything Wrong With Star Wars Episode I: The Phantom Menace",
          "Star Wars is one of those legendary films that brings people together from all walks of life and of all ages. As The O2 Centre's Vue cinema will be screening the film, we thought it was a great excuse to celebrate.",
          "I'm just thrilled Star Wars is back.",
          "I don't care about `Star Wars,' and I never did!",
          "I did get some contacts through (the media attention) this... some other collectors I didn't know about that have things they'd like to talk about. My network of people to discuss Star Wars with has increased, so I can't complain.",
          "I got my license from Lucas Films to paint Star Wars back in June this year, and lo and behold, my first four painting of Star Wars were immediately purchased and collected by none other than George Lucas,",
          "Here I am, on the brink of `Episode VII,' and who knows, if C-3PO survives, there could be VIII and IX, as well,",
          "Talk to Simon Pegg. He obviously knows way more than I do. He's just jealous because he's not in Star Wars. He's got some issue with J.J. I don't know what the f-it is. You need to talk to Simon about it.",
          "I love Star Wars and they were doing tattoos at a Star Wars convention in Orlando in 2010. My buddy plays in a band and has one. I wanted something cool like Star Wars and that how it came about. It was very spontaneous,",
          "You see families come into the shop. The grandfather has got his Lego, the dad has got his Lego and then there's the next generation. Lego is top of many children's lists this Christmas. The brand has collaborated with Star Wars with an exciting range of new sets available in branch, including their Darth Vader and Naboo Starfighter. The detailed pieces allow creative kids to construct their own distant galaxies.",
          "We have been Star Wars fans our whole lives, we love, we love more than anything, and that's what brings us here",
          "He's really focusing on the Star Wars release and how that's going to go in his life,",
          "If you've seen Rian's work, you know it's not going be like anything that's ever been in `Star Wars.",
          "Of the many unreal opportunities working on The Force Awakens provided, none was more thrilling than collaborating with John Williams. His mastery of his craft has never been more evident than on this soundtrack, which embraces his earlier, classic Star Wars themes while creating soaring, powerful new cues that, amazingly, integrate seamlessly. How he does it, no one will ever know!",
          "The Week in Movies -- Star Wars: The Force Awakens reactions! Tarantino slams Disney! Spider-Man in new Marvel film? and more...",
          "I just rested completely and watched `Star Wars, '",
          "It would have been nice when promoting your new career, to tell people, `Hey, I worked on the Star Wars movie,' but I had to just humbly wait,",
          "Star Wars has magic in it... it's really about family conflicts, and it's Shakespearean... you know, there's commoners and all powerful kings, essentially,",
          "Our contacts at Lucas and Disney were amazing; EA quickly cleared the music rights and we were delivered 10 hours of Star Wars SFX. Going through it was a dream. Being able to hear the original recordings, complete with slates, was a humbling and unique experience that highlighted just how fortunate we were to work with such sacred material.",
          "With Star Wars I consciously set about to re-create myths and the classic mythological motifs. I wanted to use those motifs to deal with issues that exist today. The more research I did, the more I realized that the issues are the same ones that existed 3,000 years ago -- that we haven't come very far emotionally.",
          "I've got ta get to `Star Wars",
          "I'm really hoping `The Force Awakens' awakens the force in all of us,",
          "I was kind of worried about Disney taking on ownership of Star Wars -- but I'm excited about it.",
          "I'm a really big Star Wars fan, so going around looking at that stuff was pretty sweet.",
          "I feel like I'm about to see Star Wars,",
          "The Star Wars movies are my kids... and I sold them off to white slavers.",
          "I want to clarify my interview on the Charlie Rose Show. It was for the Kennedy Center Honors and conducted prior to the premiere of the film. I misspoke and used a very inappropriate analogy and for that I apologize. I have been working with Disney for 40 years and chose them as the custodians of Star Wars because of my great respect for the company and Bob Iger's leadership. Disney is doing an incredible job of taking care of and expanding the franchise. I rarely go out with statements to clarify my feelings but I feel it is important to make it clear that I am thrilled that Disney has the franchise and is moving it in such exciting directions in film, television and the parks. Most of all I'm blown away with the record breaking blockbuster success of the new movie and am very proud of (J.J. Abrams) and (Kathleen Kennedy).",
          "Us nerds don't like to leave the house very often, but something like Star Wars definitely brings us out.",
          "Good afternoon everybody. Clearly, this is not the most important thing that's taking place in the White House today. There's a screening of `Star Wars' for Gold Star families and children coming up. So I'll try to be relatively succinct.",
          "Is anyone out there as excited as Mark Hamilton about Star Wars?",
          "I'm not a Star Wars fan. I just don't care for it. Nick Jonas was trying to get us all together to go see it, and I told that I'm not a Star Wars fan and he said, `What?",
          "It's possible that if I hadn't come across that, I'd still be writing Star Wars today.",
          "Someone started a petition to put me in the next Star Wars movie. I back that hard! Definitely signing it.",
          "I am amazed that almost 40 years after first watching Star Wars, I would be able to participate and even play one of the main characters in the franchise. It's a great honour,",
          "There will be a handful of new cast members in Episode VIII but also all the cast members you see here tonight will be in it as well. We're excited to get back together.",
          "It's hard for me to believe it was entirely accidental because if you think about that particular period right when Star Wars came out, that was right when Japan ruled the world,",
          "For the last 3 Halloweens, we've had a Star Wars theme. So they're pretty much born into this nerdy lifestyle.",
          "It felt more like detective work -- trying to put Star Wars together from clues that George left us, especially in his first three movies. Needless to say, it was not an easy task,",
          "My love for music and my love for Star Wars just collide in a perfect storm,",
          "I want to go see the new `Star Wars: The Force Awakens.' I was a total geek growing up and had `Star Wars' wallpaper in my room,",
          "Why is Lor San Tekka on the same planet as Rey, our new particularly important hero of Star Wars: The Force Awakens?",
          "Star Wars was huge, but it's been an amazing movie year,",
          "But it's weird... Usually I'm very critical and I see things and all I'm thinking is, `Oh I should've, I could've, I would've' . But every once in a while when I'm watching something [ in The Force Awakens ] I sort of get caught up in a performance, because the actor did such an amazing job; or a piece of music, because John Williams is so spectacular - the master-or the way something looks or feels. And it's mostly about celebrating and acknowledging the incredible work this crew and cast have done.",
          "We had in Marvel, stories and characters, great storytelling, and obviously in George Lucas Star Wars and Indiana Jones, by the way, as well, which will be coming, we have great stories.",
          "S tar Wars: The Force Awakens",
          "To me, Laura Jane Grace is the example of a fearless, bold, and determined person -- much like the heroes of Star Wars. When I saw the Twitter community react to the tweet from Star Wars, I realized how perfect it would be for her to be recognized in the franchise for a cameo.",
          "With George, no matter what you thought of his ideas, there was no disputing that it was canon because Star Wars was his creation,",
          "My 3-year-old sits in my lap when we watch `Star Wars: Rebels.' She knows everybody's names,",
          "J.J. Abramshas taken George Lucas' baby and reinvented it for true fans of the early films. They captured the heart, soul, wit, adventure, and wonder of what it is that makes Star Wars such a phenomenon in movie history... He brought back what was great and merged it with compelling and likable new characters who can carry it forward.",
          "All of those Star Wars films use exactly the same underpinning. He recognized what I was trying to do.",
          "I grew up reading graphic novels, which back then were comic books. I've written some. I have kids who, with as much social impact that American Crime or 12 Years A Slave has, they could not care less. They're just at that age. Back in the day, when I was growing up with things like Star Wars and Superman, they were quality work. We've seen really good things that are based on these fantastic universes. And I can't talk much, at all, about it, but when Marvel and ABC approached me about the project, it felt like a good fit.",
          "Knew it would have to happen sooner or later. With the logo/facebook picture change and the sneaky teaser before Star Wars, I think it's pretty obvious something big is coming,",
          "We extend a big congratulations to our friends and long-time partners J.J. Abrams, Kathleen Kennedy, Bryan Burk and all of our friends at Disney and Lucasfilm for this phenomenal achievement. The synergy created by fans of theStar Wars franchise, The IMAX Experience, and the support of our filmmaker, studio and exhibitor partners has manifested itself in a truly phenomenal way -- creating a new cinema paradigm. With stellar reviews, incredibly strong word-of-mouth, and an open runway for many weeks in IMAX, we look forward to the film's continued global success -- especially as it broadens to China on Jan. 9 -- and elsewhere across our network well into February.",
          "I got ta get to Star Wars.",
          "Moviegoers have been looking forward to Star Wars: The Force Awakens for months, and Cinemark is thrilled to bring this incredible experience to our guests this weekend. We're making sure there are numerous daily showtimes for Star Wars available at all of our locations across the country where fans will have many, many options -- including 3D and XD -- for an out-of-this-world adventure.",
          "Dilwale Overseas: Gulf-biggest ever opening for a Bollywood film, and the number one film this weekend, higher than `Star Wars: The Force Awakens' and other films,",
          "In the latest `Star Wars' film, the hero is called Finn, and in northern Germany this has already been one of the most popular names for boys for more than 10 years.",
          "I've always been a big Star Wars fan, and I'm definitely not a big sports fan,",
          "Joseph Campbell once said all the great myths, the ancient great stories, have to be regenerated in every generation. He said that's what you are doing with Star Wars. You are taking these old stories and putting them into the most modern of idioms, the cinema. Are you conscious of doing that? Or are you just setting out to make a good action-movie adventure?",
          "I Don't Care About Star Wars and I Never F -- king Did",
          "This is a movie that the whole family can go to together. This is the Star Wars for comedy,",
          "Star Wars: El Despertar de la Fuerza.",
          "has the best final shot of any Star Wars film,",
          "Star Wars had the greatest villain in cinema history. So, how you bring a new villain into that world is a very tricky thing? We knew we needed to do something f-king bold. The only reason why Kylo Ren has any hope of being a worthy successor is because we lose one of the most beloved characters. Long before we had this title, the idea of The Force Awakens was that this would become the evolution of not just a hero, but a villain - and not a villain who was the finished, ready-made villain, but someone who was in process. As a father, as a friend to people who have children, I know what it's like to see struggle, to be part of struggle. I know how painful it can be. I know how real it is. And this is, of course, an insane extrapolated version. It's this massive tradeoff: how can we possibly do that!? But... if we hadn't done that, the movie wouldn't have any guts at all. It felt very dangerous.",
          "Without spoiling, what's so amazing about `The Force Awakens' is if you grew up with it, there's a ton of stuff for you. If you're new to it, it completely opens the door to the Star Wars world,",
          "Star Wars is scared s -- less,",
          "Now historically, the translation of (Christian) scripture happens every couple of hundred years, for contemporary audiences to understand it better. It's time to do that again, except today, young people are not interested in authoritarian communication. So we decided to take another look at the story, the way we look at Avatar or Star Wars, and streamline the story and place it into a context contemporary audiences would understand.",
          "We're so close to Christmas. You remember Christmas? That thing people used to get excited about before `Star Wars' came back?",
          "Projector at Star Wars midnight 3D show at the Arclight ruined, stopped, then started again towards the end of the movie. The movie was spoiled and everyone in the theatre went crazy,",
          "I love Star Wars, Star Wars is my favourite movie franchise, I've wanted to watch it since it was first announced.",
          "I had a song about Star Wars called The Saga Begins and there was a radio channel in the States called [ Radio Disney ]... It was basically for kids and there was a line in the song, um,' Did you see him hitting on the Queen?' And I guess even saying",
          "Star Wars: the Phenomenon",
          "I went to go see Star Wars with my mother,",
          "It would have been really nice to continue with the Star Wars association.",
          "The Week in Movies -- Star Wars salary details revealed! What's Tarantino's favourite 2015 movie? New Deadpool trailer and more!",
          "`Excuse me, is there a MRS. Dameron?' said my lame Star Wars character, Vicki,",
          "Is that `Star Wars' ?",
          "My task and my challenge was to make it feel friendly and interrelated to the other scores, so that it feels comfortably `Star Wars' - ian, if you can use that word,",
          "Searches for Star Wars toys have increased 200% on Walmart.com and we've tripled our assortment from the same period last year,",
          "I think it is safe to say that Star Wars is forever,",
          "was never a Star Wars fan,",
          "There will be a full moon on Christmas this year. The last time that happened was in 1977, which is also the year the first `Star Wars' movie came out.",
          "Is it too much to say that I think anything Lupita Nyong' o did was a best red carpet moment? But if I had to get specific, I'd say my best are Lupita at the European Star Wars premiere, Sarah Hyland at the Emmys, Kate Winslet at TIFF, and Lady Gaga at the Oscars Vanity Fair after party.",
          "Millions of fans will be introduced today to the next generation of Star Wars storytelling, and Disney Infinity 3.0 Edition is the only game where they can step into iconic moments from: The Force Awakens film",
          "I... love the community that loves Star Wars, like the 501st costume club who does fundraisers and hospital runs to help people and children in need,",
          "Clearly this is not the most important event that's taking place in the White House today: There's a screening of `Star Wars' for Gold Star families and children coming up. So I'll try to be relatively succinct.",
          "Every time you do something like that you're opening the wound again... these were my kids. All of the Star Wars films. I loved them. I created them. I was very intimately involved in them. And I sold them to the white slavers that take these things and...",
          "But I'm proud of the fact that there are a lot of guys who can stand up and say, `Yeah, I love Star Wars.' That's something that's really cool.",
          "We are extremely proud of our contribution to this monumental release, as well as the future Star Wars installments; and we look forward to the continued global success of The Force Awakens throughout the rest of the holiday season and beyond.",
          "It's pretty clear that the [ Star Wars ] franchise is staying alive,",
          "What a spectacular place to watch Star Wars,",
          "This particular protostar system looks like a double-bladed lightsaber, which is timely with all the Star Wars frenzy going on right now,",
          "This holiday season we are excited to be a part of the highly anticipated release of Star Wars: The Force Awakens. At Regal, we are passionate about providing exceptional moviegoing experiences including offering a wide variety of showtimes to meet our guests needs. With the increased demand for Star Wars, we will continue to add showtimes to accommodate the avid fans that have been eagerly awaiting the seventh film in this blockbuster series.",
          "We picked the most popular characters from the Star Wars universe and recorded some of their most famous lines. Every couple of pulls, the Falcon stalls, which we still find hilarious.",
          "I wanted people to feel the magic of what Star Wars was: the sense of romance, the sense of heart, the loyalty, the sweetness, the friendship, the unexpected scenarios, the discoveries the characters make, the sense of impossible scale made possible. I saw the original trilogy and I thought if there was any way to be part of bringing that back, it would be incredible.",
          "Star Wars has been one of the most important and best-selling franchises in our stores, not just in the U.S. but around the world,",
          "With `Star Wars' releasing at the same time this kind of response overseas is great. I never really thought this kind of response will come from international circuit as I always knew `Star Wars' was coming. I think Shah Rukh is very popular overseas or may be the SRK-Kajol chemistry is working in favour of the film,",
          "To test their endurance and devotion to the iconic films, the Alamo Drafthouse Cinema hosted a marathon, challenging participants to watch `The Force Awakens' on repeat as many times as possible - after sitting through the six preceding films,",
          "Whether a kid is into Barbie or Star Wars, I hope we've given a bit of fun and inspiration.",
          "The [ North Vietnamese ] Vietcong in effect became ewoks at the end of the Return of the Jedi and that is the whole lesson of Star Wars - that you could win even if your numbers are small.",
          "in which Star Wars is referred to quite frequently and reverentially.",
          "I love Star Wars so much. When I was a kid, my father gave me many Star Wars toys. He was a big Star Wars fan.",
          "CGI doesn't belong in Star Wars, that's not what it's about",
          "Marvel's relaunched `Star Wars' series did not mess around. With a string of A-list artists and newsworthy reveals, this flagship series delivered 13 issues packed with character moments and action that were intrinsically `Star Wars.' Jason Aaron dumped all the Star Wars toys out of the Lucasfilm toy chest and slammed them together in brilliantly thrilling ways, with John Cassaday and Stuart Immonen proving they're two of the best artists in the galaxy. This is the year that gave us Sana Solo, Leia and Han wielding lightsabers, Luke fighting Boba Fett -- and it all happened in the comics, not on film.",
          "create a role that could live on in all corners of the Star Wars universe -- novels and comic books and video games and so on.",
          "If you read the nerdy story behind Star Wars, it's not light in a lightsaber, it's actually plasma which is contained in a loop that feeds back into itself. We can contain plasmas and it's something we have been doing for decades now.",
          "Star Wars Early Screening Prank",
          "Well, I guess that's it. No more Star Wars movies to be seen again.",
          "Lupita rarely puts a foot wrong, and nails the homage to Star Wars in this fashion statement by Proenza Schouler.",
          "We have got a really good opportunity to talk to fans of Star Wars and ask how they feel about the fact this thing we love has been given a new breath of life,",
          "Watch our spoiler-free Star Wars: The Force Awakens review",
          "I don't care. I don't care about `Star Wars' !",
          "We're excited because it's a whole generation who have never seen a Star Wars movie,",
          "It's been about ten years since a Star Wars movie came out, so I'm extremely excited.",
          "We have created limited edition of Star Wars packaging, a first-of-its-kind e-commerce innovation in India. We will be surprising a lot of our customers with this special packaging when they order with us online over the next few weeks. With our partnership with Disney we have combined the fervour of the movie with the trust and convenience of buying genuine memorabilia online.",
          "I never really saw `Star Wars' in the theater, only at home,",
          "They're doing a marathon of all the movies for Episode VII. What do you think?",
          "We wanted to give customers something special to add on to the excitement. We have created limited edition Star Wars packaging, a first-of-its-kind e-commerce innovation in India.",
          "Put Adele in Star Wars and let's create some buzz!",
          "So many have come out and said, `Thank you. My daughter and I have bonded over Star Wars, and finally, she can be recognized.",
          "My Life In Monsters: Meet The Animator Behind `Star Wars' and `Jurassic Park '",
          "This instalment will be the Star Wars you know and love, cantina bands and screen wipes and all,",
          "I dressed up because I am a huge fan and its just part of the American culture. There is a whole world of Star Wars fans out there.",
          "Star Wars is a US Gimmick.",
          "The more you watch a movie, the more it sticks with you. The more it becomes a memorable part of your life. The more times The Force Awakens is watched by its fans, the more likely it is to become an instant classic.",
          "Let us record all of the children of every executive on both coasts who were involved in `Star Wars, '",
          "One of the reasons I decided to do the New Year show is because I knew Star Wars would be out,",
          "Clearly this is not the most important event that's taking place at the White House today. There is a screening of Star Wars for Gold Star families and children [ of fallen soldiers ] coming up, so I'll try to be relatively succinct.",
          "When I was doing the first Star Wars,",
          "We introduced the kids to Star Wars this year,",
          "You couldn't have three more different people than JJ, Rian, and Colin [ Trevorrow, director of Episode 9 ]. Those movies will have the Star Wars saga as their basis, but everything else will be different.",
          "Spoilers: More cameos revealed in Star Wars: The Force Awakens",
          "He's a huge Star Wars fan, so I knew characters from these amazing films had to be involved with the announcement... [ an attendant ] went off to check with the Star Wars cast and came back saying that they were going to take time out of their lunch to make my dream come true!",
          "I did not see Star Wars (The Force Awakens), although I am a fan,",
          "___ Follow Julie Bykowicz on Twitter at: http://twitter.com/bykowicz and Bill Barrow at http://twitter.com/billbarrowAP Share this: Click to email (Opens in new window) Click to print (Opens in new window) Share on Facebook (Opens in new window) Click to share on Twitter (Opens in new window) Click to share on Google + (Opens in new window) Click to share on LinkedIn (Opens in new window) More Click to share on Pinterest (Opens in new window) Click to send this to your Kindle device (Opens in new window) Click to share on Reddit (Opens in new window) Click to share on Pocket (Opens in new window) Click to share on Tumblr (Opens in new window) Advertisement More Headlines Previous post in this category Overnight hospital fire in Saudi kills 31, injures over 100 World News Next post in this category Syria ready to take part in UN peace talks, minister says World News blog comments powered by Disqus Advertisement Trending on WWLP.com Photo Galleries Photos: Severe weather sweeps across U.S. Photos: I-91 Reconstruction in Springfield 1 killed after car hits crowds on Las Vegas Strip Photos: Miss Universe's big mistake Photos: Week 15: Patriots vs. Titans Photos: New Hampshire Democratic debate Photos: Star Wars costumes at local cinemas Photos: 2016 Rock and Roll Hall of Fame Inductees Photos: Star Wars memorabilia goes high-end Photos: Top National/World stories of 2015 Photos: `Tis the season to be traumatized Current Conditions change location Chicopee 51 & deg; F 0 SE Wind 51 & deg; Dewpoint 99% Humidity 29.89",
          "I have been a `Star Wars' fan for as long as I can remember,",
          "As my partner was trying to tell you, we're part of a special guest premiere for Star Wars.",
          "Oh, that Rian Johnson. How does he follow `The Force Awakens' ? One day at a time, just like we all do.",
          "This is the `Star Wars' for comedy.",
          "While `The Force Awakens' is already getting great reviews and looks to reignite everyone's love of `Star Wars,' you have to wonder if they can keep up the level of quality necessary to sustain it over so many films,",
          "Critics Are Going Too Easy on The Force Awakens",
          "It's `Star Wars.' I just want to live in this moment and not have anything interrupt it.",
          "I still to this day have my original Star Wars action figures that my parents gave to me for Christmas that year,",
          "Because it's Star Wars!",
          "Anyone caught travelling without a valid ticket or Oyster will be told the ending to the new Star Wars [ film ] (and also get a penalty fare)",
          "essentially made a Star Wars movie about the people who are normally extras in a Star Wars movie",
          "The early success of `The Force' bodes extremely well for the [ Disney ] model, in our view, which can further monetize `Star Wars' content through its consumer products, theme park and interactive business lines, as well as through future `Star Wars' film releases,",
          "She's kind of like the Kate Middleton of Star Wars, because everyone had to have that shirt after she wore it.",
          "Who wants to see a live Star Wars concert right now? We only have room for all of you!",
          "This holiday season we are excited to be a part of the highly anticipated release of Star Wars: The Force Awakens",
          "I went back home, and I thought about it. Then I wrote [ J.J. Abrams ] and said, `Okay. I'll do it!' I figured it would be a cameo: I'll come in, do my thing, and maybe it's actually better not to have to sign myself up for three movies. EW's Star Wars: The Force Awakens photos 8 show all EW's Star Wars: The Force Awakens photos 1/8 Fin meets Poe for presumably the first time 2/8 Fin meets Poe once more, the leather jacket having exchanged hands 3/8 Fin, Chewbacca and Han Solo 4/8 Kylo Ren faces Fin and Rey 5/8 A new Star Wars alien 6/8 Harrison Ford as Han Solo 7/8 Stormtroopers 8/8 Princess Leia (except, she's no longer Princess Leia)",
          "even people who had never seen Star Wars before.",
          "`Star Wars' didn't actually change cinema.",
          "OK, everybody, I got ta get to `Star Wars. '",
          "OK, everybody, I've got to get to `Star Wars. '",
          "That's what creates the most value. We had in Pixar, some of the greatest storytellers that existed in motion pictures, certainly the best in animation. We had in Marvel, stories and characters, great storytelling, and obviously in George Lucas' Star Wars, and Indiana Jones, by the way, as well, which will be coming, we have more great stories.",
          "There will be winners this Christmas that aren't named `Star Wars, '",
          "is that Star Wars?",
          "I was an infant when the first movies came out and that was my childhood and (my four kids) were infants when the prequels came out. This is the first time I've been able to take my kids to a `Star Wars' movie, so it's real generational for me.",
          "I am a bit of a Star Wars geek myself, so I had great fun dressing up as Darth Vader in the run-up to the new film. We had an amazing reaction what with Star Wars being so popular at the moment. We're even holding a Jedi training school for kids in February 2016.",
          "I've seen it 10, 12 times. Star Wars is basically my life,",
          "I have read this guy's name three times. I don't remember it. I don't care! I don't care about `Star Wars' and I never f -- king did! I'm tired of pretending! I'm tired of pretending! I don't care about it,",
          "But we just don't know how many repeat viewers and part-time Star Wars fans are going to show up on Sunday",
          "This is the Star Wars movies we were hoping for back then [ prequels ],",
          "Abrams's baldfaced rip-off of the original Star Wars is, by far, the most innovative thing about The Force Awakens",
          "Star Wars brought a group of people together and showed that there's no such thing as evil. It shows that it's all good, that good can triumph and there's good in everyone. That's how people see it in life.",
          "Star Wars had the greatest villain in cinema history. So, how you bring a new villain into that world is a very tricky thing. We knew we needed to do something f -- king bold,",
          "I'm waiting for something to jump out and say `buy me,' but it's hard to go wrong with Star Wars stuff.",
          "You didn't age well and u sucked in Star Wars. It was a rest home flick.",
          "This is a huge cultural phenomenon, it's not just like a movie, it's like a religion for some people. Star Wars is a simple good and evil story. The fight for what's right versus power and selfishness.",
          "There are actually three ways to watch the six movies. One is to watch them according to the `Release Order' which is as they were released. The other way is the `Episode Order' which means you have to watch the films according to how George Lucas (creator of Star Wars series) intended-from Episode I to Episode VI. But this means it ruins one of the best cinematic surprises-spoiler alert for the first-time series watchers-Darth Vader is the father of Luke Skywalker. The third way, the `Machete Order' , is actually the best way to watch the series.",
          "There are several reasons why J.J. Abrams only agreed to do one `Star Wars' film: Directing a film is hard work, especially a blockbuster like this. And especially after losing the battle against filming `The Force Awakens' in England (he didn't want to have to move his family there during filming), he understandably wanted to take a break. Disney wanted to release a `Star Wars' `saga' film every two years, and there was no way Abrams could have handled both projects when the post-production of one overlapped with the pre-production of the other. In fact, the workload for `The Force Awakens' was so heavy, its opening was delayed from `Star War `s' traditional May opening month to December. Abrams has a lot of irons in the the fire, and after having done a `Star Wars' movie, he wanted to move on to one of the other projects he has in development.",
          "Then I walked out to my mate, he's a massive Star Wars fan -- and his face lit up -- he was like, `That's Luke Skywalker!' So I had told Mark Hamill that Princess Leia (Fisher) was a dope! I'm sure he didn't know what it meant though because he's an American!",
          "I wasn't crazy into it. I watched them. I was more of like a `Lord of the Rings' guy and things like that. Star Wars was always OK, but I think it'll be good.",
          "There's a screening of Star Wars.",
          "We fought very hard as a government to get `Star Wars' made in Britain,",
          "Okay, everybody, I got ta get to Star Wars!",
          "I didn't turn down `Star Wars.' But that's the fun history of that. You know, it was pretty fun because George taped it, and I had no idea what I was saying. I'm talking about a Millennium Falcon [ spacecraft ] and however long it took to get from here to there and the Death Star,",
          "to get to Star Wars.",
          "he got to get Star Wars",
          "Star Wars: Episode I-III",
          "The thing that interests me most about Star Wars is, in terms of what was going on, it was very black and white. The good guys were very good, and the bad guys were very bad. But our movie is basically the grey that leads to that polarised event that turns into A New Hope. It's the realities of war -- a complicated, layered, very rich scenario in which to set a movie.",
          "Hey, I'm in Star Wars, too!",
          "Every brand has worked on the Star Wars fanfare in a different way and used it to their own understanding. While I do feel that for certain brands this tie-up wouldn't be that successful, most of them are a profitable deal, in spite of the theme being used over and over again,",
          "I do not know the reason. I think the character of Lando just didn't fit into the story line. I saw the movie and loved it and can see why Lando wasn't in it. If they asked me to come back for Episode VIII I would love to do it but right now I have not been asked and I do not know their plans.",
          "And being in this (Star Wars: The Force Awakens) is not going to convince them otherwise",
          "The Greatest Hits of Star Wars,",
          "doesn't quite grasp the importance of Star Wars,",
          "It turns out `The Force Awakens' is ridiculously rewatchable, too-like, 1977-level rewatchable,",
          "Comics and pop figures were flying off the shelf. We were selling `Star Wars' - related merchandise like it was going out of style. It was busy from Friday all the way through Sunday.",
          "I wish I could get another container of Star Wars Pop Vinyl figures. There's certainly a good buzz around it.",
          "Turns out that rumoured cameo in Star Wars: The Force Awakens is true after all",
          "In the last few weeks of 2015, Daisy Ridley has become the year's biggest breakout red carpet star. She has pulled out hit after hit during the Star Wars promotional tour -- this futuristic one-shouldered gown is no exception.",
          "That's enough Star Wars for me,",
          "The president of Lucasfilm has said that iconic cast members will appear in Episode VIII, as will newcomers John Boyega and Daisy Ridley.",
          "I don't see Star Wars as being profoundly religious. I see Star Wars as taking all of the issues that religion represents and trying to distill them down into a more modern and more easily accessible construct that people can grab on to to accept the fact that there is a greater mystery out there. When I was 10 years old, I asked my mother, I said, Well, if there is only one God, why are there so many religions? And over the years I have been pondering that question ever since. And it would seem to me that the conclusion I have come to is that all of the religions are true; they just see a different part of the elephant. Religion is basically a container for faith. Faith is the glue that holds us together as a society. Faith in our culture, our world -- whatever it is we are trying to hang on to. It is a very important part allowing us to remain stable -- remain balanced.",
          "Live, from Manchester, New Hampshire, this is the third Democratic debate. We know no one is watching because everyone is either at a holiday party or watching the new Star Wars movie, but that's OK! We all know Hillary's going to win anyways. On to opening statements! We will do them alphabetically, because that was the best way we figure out how we could start with Sec. Clinton and make it seem like it was just us being random and fair. Sen. Clinton?",
          "And yet The Force Awakens adds up to something less than the sum of its parts. The early scenes have a relaxed, assured pace. But as the story moves forward, Abrams becomes more mired in the task of keeping the plot mechanics in gear. There's the expected climactic battle between X-wing starfighters and TIE fighters, which is mildly exciting and nothing more -- the fact that it's punctuated with dumb dialogue like `General! Their shields are down!' `Prepare to fire!' and even the classic, `It would take a miracle to save us now,' surely doesn't help. And the movie's big twist, clearly intended to be a moment of Shakespearean grandeur, is handled clumsily: Instead of allowing a significant figure to have his grand moment, Abrams cuts to other characters expressing shock and dismay, as if he didn't trust the audience to know what to feel.",
          "With a movie like Star Wars coming out, it's just massively busy,",
          "Star Wars captured my imagination as a child, and I still love it today. It sounds over-the-top, but Star Wars changed my life. Second, of course, to Jesus Christ!",
          "It's one of those rare things that, when you find out that someone loves `Star Wars' in a similar way that you do, you have that instant connection with that person,",
          "Star Wars had the greatest villain in cinema history. So, how you bring a new villain into that world is a very tricky thing. We knew we needed to do something f ** king bold. The only reason why Kylo Ren has any hope of being a worthy successor is because we lose one of the most beloved characters.",
          "Plus it's part of the [ `Star Wars' ] world we're trying to inhabit. Their bodies and the way they inhabit them physically is very much their world, so it didn't seem so much of a huge undertaking. It's like the vocabulary of this world.",
          "but are usually short lived and don't have the 40-year sustainable income generation that Star Wars is producing.",
          "People in China aren't that familiar with `Star Wars' movies, though they might be familiar with some of the toys. Spoiler alert: the elves don't make them,",
          "Star Wars did excellent business, but the same can't be said of its dubbed versions (Hindi, Tamil and Telugu),",
          "I don't believe there has ever been a pop culture force bigger than `Star Wars,' nor even anything equal to it,",
          "Two Guys from The Raid movies doing Star Wars cosplay in an ill-advised monster sequence",
          "If there is still a tiny clique of cinephiles who would rather see Son of Saul or Phoenix than The Force Awakens -- and you can like both things, for Christ's sake -- and if the mere existence of such people and their continued willingness to raise their artsy-fartsy objections in print invades the safe space of those who long to bask in a uniform golden tide of Lucas-Disney-Big Brother adulation... well, where have we gotten to, anyway?",
          "Check out my app and read how Star Wars brought Kanye and I together lol,",
          "I used to be a huge Star Wars fan, but the prequels and some of the Expanded Universe novels killed my enthusiasm for the franchise -- or so I thought. It was actually just sleeping, and when Kieron Gillen told me the premise for the `Darth Vader' series he was doing with Salvador Larroca, it started to wake up. It's `House of Cards' meets `Star Wars,' and the creators have really delivered on that concept. `Darth Vader' is a fun and exciting series that helped me rediscover my love for the goings on' A Long ago in a galaxy far far away...",
          "They've been helped by a range of factors reigniting shoppers interests in stargazing such as our Man on The Moon TV advert, Star Wars and Tim Peake's visit to space.",
          "I'm thinking now, if I did a movie that came out right after Star Wars comes out-maybe a couple of months later-I'd have a big weekend, you know, No matter what, even if it fell on its ass and didn't get its money back... but that first weekend, the anticipation of seeing `Spaceballs 2' ... I still have Daphne Zuniga and I still have Rick Moranis if he'd do it, and I've still got me,",
          "They wanted to do a retro movie. I don't like that... These are my kids, all the Star Wars films. I loved them. I created them.",
          "It will be Christmas soon so my friends and my family will have bought me Star Wars stuff because it's easy to buy.",
          "Long before we had this title, the idea of The Force Awakens was that this would become the evolution of not just a hero, but a villain. And not a villain who was the finished, ready-made villain, but someone who was in process.",
          "I've got to get to `Star Wars. '",
          "In Star Wars: The Force Awakens the TIE fighters made exactly the same sound in the vacuum of space as in planetary atmospheres.",
          "I have not seen (the new Star Wars movie) yet but Artem (Chigvintsev) has seen it and he told me it is really good. I have seen all of the other Star Wars movies and I am a fan. I'll definitely have to catch up with Billy Dee Williams over the holiday when I am back in L.A. to see what he thinks.",
          "What do you make of the fact that so many people have interpreted Star Wars as being profoundly religious?",
          "We're very excited about the new Star Wars movie, we're all fans up here. And I believe that on the 21st we may get to see that up here on the space station. So a little bit later than everyone else, but what a spectacular place to watch Star Wars.",
          "They are optimistic and hopeful stories. But in comparison to what we can do with this [ the hospital ], last night [ the premiere of Star Wars: The Force Awakens ] is very trivial.",
          "I have been a big fan of the Star Wars franchise since childhood.",
          "I've done it in Los Angeles and New York; predictably the people in LA were way more into it. I'd really love to have a Star Wars Day exhibition in either Germany or Japan, those two countries have long traditions of woodcut printmaking, and have heavily influenced Star Wars in many ways.",
          "To `Star Wars' outsiders, they might not notice the changes; to the followers and fans, a big change.",
          "The Force Awakens successfully recalls the series' former glory while injecting it with renewed energy.",
          "to protect Star Wars and Lucasfilms.",
          "There are several reasons why J.J. Abrams only agreed to do one `Star Wars' film: Directing a film is hard work, especially a blockbuster like this. And especially after losing the battle against filming `The Force Awakens' in England (he didn't want to have to move his family there during filming), he understandably wanted to take a break. Disney wanted to release a `Star Wars' `saga' film every two years, and there was no way Abrams could have handled both projects when the post-production of one overlapped with the pre-production of the other. In fact, the workload for `The Force Awakens' was so heavy, its opening was delayed from `Star War's' traditional May opening month to December. Abrams has a lot of irons in the the fire, and after having done a `Star Wars' movie, he wanted to move on to one of the other projects he has in development.",
          "Awesome, if you're a Star Wars fan. My wife, she was, `Ughhhhh...' She was like ready to go. She was like, `It's 2 1/2 hours, we've got to go. '",
          "I was young when I first saw the original Star Wars movies and I absolutely loved them,",
          "I've got Star Wars on Sunday. Maybe later,",
          "Star Wars in 5 minutes",
          "But the movie can't sustain its playfulness -- or its tension, either. Abrams is too busy trying to roll the original Star Wars and The Empire Strikes Back into one two-hour-and-15-minute movie. He combines the world building (and world destroying) of the first film, its Second World War -- like aerial combat and anti-fascist derring-do, with the psychodynamics of the second one.... Without the careful buildup that Irvin Kershner gave the series-altering revelations in The Empire Strikes Back, the dramaturgy becomes stilted and the dialogue bland, not powerfully archetypal. Nothing can leech the zip from a performer quicker than an overblown lament for a child gone wrong. And nothing can stop a movie dead in its tracks like errant sentimentality. In The Wild Bunch, Pike Bishop [ played by William Holden ] had the sardonic wisdom to declare:' 10,000 [ dollars ] cuts a lot of family ties.' In Star Wars: The Force Awakens, you can kill 10,000 people and be welcomed back into your family as long as you're sorry and you promise to change.",
          "The first week of selling Star Wars, we sold as many pints online as we had sold online in the year previous,",
          "No question, we're a `Star Wars' family for sure.",
          "I haven't got a clue about anything to do with Star Wars.",
          "I've seen Star Wars 4, 5 and 6 again so I'm ready.",
          "The Force Awakens is in touch with the force of action-adventure and fun. My only tiny reservation, which I will get out of the way now, is with a tiny new droid who has a bit of a Scrappy-Doo vibe about him.",
          "Jawa is about the lowest-effort Star Wars costume possible,",
          "Okay, everybody, I've got to get to Star Wars.",
          "I really am chuffed actually, particularly because I really wanted to be in the Star Wars films,",
          "There is no better time, obviously, than the Monday after Star Wars debuted,",
          "Two unsuspecting SW (Star Wars) fans watching the trailer before the movie. Had to interrupt.",
          "Lucas knew that genres and cinematic conventions depend on consensus, the web of shared assumptions that had been sundered in the `60s. He was recreating and reaffirming these values, and Star Wars, with its Manichean moral fundamentalism, its white hats and black hats, restored the luster to threadbare values like heroism and individualism.",
          "When Star Wars came out, everyone said, `Oh it's just a silly movie with a bunch of space battles and stuff. It's not real. There's nothing behind it.' And I said... `There's more to it than that. It's much more complicated than that.' But nobody would listen,",
          "Star Wars or Florida?",
          "I'm looking forward to having a lot more Star Wars movies.",
          "When I came to Penn State, in my screenwriting class, we had to write about our top five favorite films of all time. I just wrote,' Star Wars,' meaning all of the Star Wars films. It's always been a movie history milestone for me.",
          "I did have a meeting with (Star Wars creator-director) George Lucas about that (movie), yes. (I) just didn't feel ready to take that dive. At that point.",
          "She gets my vote for resisting the temptation to wear something futuristic or metallic to a Star Wars premier.",
          "Star Wars is now in exactly the right hands for it to flourish",
          "The Force Awakens Play Set completes the Disney Infinity 3.0 Star Wars experience, allowing fans to play as characters and explore stories from across the entire Star Wars saga.",
          "The dance is tomorrow. She's a cheerleader. You've seen `Star Wars' 27 times. Do the math.",
          "With all love for Harrison Ford, Carrie Fisher, and Mark Hamill, who each got their own warm round of applause when first appearing onscreen during Tuesday night's New York press screening of The Force Awakens, it's the new characters -- especially Rey (Daisy Ridley), Finn (John Boyega), Kylo Ren (Adam Driver), and BB-8 -- who steal the show.",
          "When does the next Star Wars movie come out?,",
          "the feeling of `Star Wars' to come back.",
          "They're predicting the new `Star Wars' film could gross more than $2 billion. The United States just promised $800 million as part of the Paris agreement to fight climate change, which means we're spending more than twice as much to see `Star Wars' as we are to save the actual world.",
          "Good afternoon, everybody. Clearly, this is not the most important event that's taking place in the White House today. There is a screening of Star Wars for Gold Star families and children coming up. So I'll try to be relatively succinct.",
          "Everyone is really, really stoked [ about the release of `Star Wars: The Force Awakens' .",
          "From the very beginning, `Star Wars' for me is a universe that George Lucas created that was very embracing of diversity,",
          "`Star Wars' has been everything Disney had hoped for and more.",
          "Don't get me wrong, I'm excited for the new Star Wars film, but with numerous high-fashion brands giving their literal interpretation of Star Wars-themed fashion, the idea begins to feels a little (forgive the pun) forced. It was a nice change of pace to see some retailers taking a step back from the shop-on-Thanksgiving/Black Friday madness that's been building over the past few years.",
          "It is obvious to me that this decision is based more on [ `The Force Awakens",
          "whenever [ he ] has `Star Wars' anxiety.",
          "Given the incredible current box office trajectory and the overwhelmingly positive response to the film, a expected phenomenal second weekend and with China yet to come in January, if any film has a chance to break into the $2 billion club and have the potential to become the highest grossing film of all-time globally, `Star Wars: The Force Awakens' is that film,",
          "close to `The Force Awakens, '",
          "chubby friend of director who realizes childhood dream of being in a Star Wars movie and forgets to act",
          "This guy's face is covered up because he's so embarrassed that he's got to go see `Star Wars.' He's like, `Hey, man.' I don't know, just... F -- k! I'm so sick of it.",
          "He came in one day and said jokingly that he had just turned down Star Wars. We laughed about it. Five or six months later, he came in and said, `There's a teeny tiny possibility that I am going to reconsider and direct it after all.",
          "When Star Wars succeeds at the box office, I succeed, because I'm now part of the family. Other than that, I feel like there should be options for the audience. I will definitely go see Star Wars, but I'm even more determined to go see Ip Man 3.",
          "It's Star Wars, Star Wars, Star Wars,",
          "I am absolutely ecstatic, I grew up watching Star Wars,",
          "We wanted the music to emulate that of a movie trailer and of course, this had to be something that could sit side by side with the epic music associated with Star Wars. We knew we'd need someone with movie experience so we turned to the very brilliant composer, Daniel Lenz, to create the track for `Hoybot. '",
          "I got ta get to `Star Wars' !",
          "Since everyone is now talking about this movie we don't think the producers will [ lose ] any money [ upon theatrical release ]. We actually think this has created a new type of media hype that is more present in the news, radio and in the papers than Star Wars, and the promotional costs for this were free,",
          "We do have concern, however, that once `Star Wars' is digested, the focus will return to affiliate fees.",
          "Star Wars movies are meant to be a couple of hours of diversion from reality, and we need that. They are optimistic and hopeful stories,",
          "My dream role is to be in Star Wars,",
          "Top 10 Takeaways: `Star Wars: The Force Awakens' Sets Records with Historic Opening; What Other Records Will It Break?",
          "All those Star Wars films... I loved them, I created them, I'm very intimately involved in them, and I sold them to the white slavers that take these things and uh, and... [ laughs ].",
          "The new `Star Wars' film will nourish Disney's studio, theme-park and merchandise businesses for years. Since acquiring creator Lucasfilm for $4 billion in 2012, Burbank, California-based Disney has expanded the merchandise lines, produced new TV shows and mapped plans for themed lands at parks in California and Florida. And the studio has as many as five more `Star Wars' films in the works.",
          "Fan films -- whether related to `Star Trek,' `Star Wars,' `Harry Potter,' `Lord of the Rings,' `Power Rangers,' `Batman' or any other franchise -- are labors of love that keep fans engaged, entertained, and keep favorite characters alive in the hearts of fans. Like other current fan films, Axanar entered production based on a very long history and relationship between fandom and studios. We're not doing anything new here,",
          "Ralph was the first person I hired to help me envision Star Wars.",
          "In my mind, this is how you should see them. Then there's this weird Topher Grace edit of the prequels -- it's genius. He edited the prequels together into one movie, and supposedly it's brilliant. I've seen part of it, but I have to watch the whole thing. If it's great, I'd say, do 4, 5, 6, and then Topher Grace Special Edition. Then watch all of Star Wars Rebels. They're great. I love them more than some of the movies.",
          "Star Wars had the greatest villain in cinema history. So, how you bring a new villain into that world is a very tricky thing? We knew we needed to do something f -- king bold. The only reason why Kylo Ren has any hope of being a worthy successor is because we lose one of the most beloved characters. Long before we had this title, the idea of The Force Awakens was that this would become the evolution of not just a hero, but a villain -- and not a villain who was the finished, ready-made villain, but someone who was in process. As a father, as a friend to people who have children, I know what it's like to see struggle, to be part of struggle. I know how painful it can be. I know how real it is. And this is, of course, an insane extrapolated version. It's this massive tradeoff: how can we possibly do that!? But... if we hadn't done that, the movie wouldn't have any guts at all. It felt very dangerous.",
          "Thus, the fundamental underlying story of `Star Wars' mirrors patterns of existence that are common to all humanity. The hero leaving his surroundings to explore a strange and dangerous new world is akin to children growing up and becoming adults and many other journeys humans embark on in the course of their lives.",
          "It's a strict schedule and we don't have free time to go get in line for Star Wars.",
          "Star Wars: Episode VII The Force Awakens Soundtrack-John Williams",
          "There are so many adults coming in and buying, often really for themselves, especially Star Wars. You've got the people who grew up with the original Star Wars, the next generation who came to it with the Phantom Menace, and then this new one coming to it for the first time now.",
          "He said this morning that he was a `Star Wars' fan,",
          "I think that Star Wars played a big role in reminding people that that indeed could be a really cool source of inspiration.",
          "We always knew the worldwide opening for Star Wars: The Force Awakens was going to be huge, but the film has exceeded our expectations,",
          "Adding Star Wars rides and other attractions to the Disney theme parks could even help Lucas replace ESPN as Disney's crown jewel.",
          "Ever since I was little I enjoyed Star Wars,",
          "I never thought in my wildest dreams would we ever be dealing with Lucasfilm and Disney and the Star Wars franchise,",
          "We love `Star Wars' at our house and it's a lot of fun to share it with our kids and neat for them to see the same things we did when we were young,",
          "but the fact that we were all literate, voracious readers helped. And we were also consumers of popular culture. One of the expeditions we had in' 77, during the period when we were thinking about Zork, was to go see the first showing of Star Wars in Boston. A bunch of us trooped over to see it, because we had seen... I think we had seen a trailer for it on TV, that made it look like it was actually going to be an intelligent science fiction movie, really the first one since 2001: A Space Odyssey.",
          "Okay, everybody, I got to get to Star Wars,",
          "Boxing Day is one of the largest movie-going days for Australian cinemas as it not only sees highly-anticipated awards season and family films open, but also finds many of the biggest films of all time in only their second or third week of release, such as Titanic, Avatar and, this year, Star Wars,",
          "Wearing Star Wars sets a standard new. Shows in pajamas confidence, yes!",
          "For The Force Awakens, when J.J. Abrams asked me if I would be in it, he said, `Do you just want to do the voice?' And I said, `I want to be in the costume, but I want it to be faster.' So what they did was 3D print it. It weighs about the same, I would say, because the plastic is quite heavy, but it allows you to prototype things. So it looks exactly the same, but there are differences to the way it fits together that make it much faster to put on and take off, which is most important. It gets hot in there,",
          "Mr. Smith doubts I'd have any success as a writer without Star Wars,",
          "Basically, it's the story of a little boy who grows up to be bad, has some kids who defeat him, redeem him, and then the galaxy goes back to being good again. That's Star Wars in 10 seconds.",
          "Star Wars Cast Recreates Metropolis?",
          "When I was home sick from school I'd watch (the `Star Wars' movies) each like eight times,",
          "In the toy area, Lego is always a top toy and it never ceases to surprise just how well it does; it's been spectacular and everyone is getting in to the Star Wars theme.",
          "Dilwale Overseas: Gulf -- biggest ever opening for a Bollywood film, and the number one film this weekend, higher than `Star Wars: The Force Awakens' and other films,",
          "Long before we had this title, the idea of The Force Awakens was that this would become the evolution of not just a hero, but a villain. Star Wars had the greatest villain in cinema history. So, how you bring a new villain into that world is a very tricky thing. We knew we needed to do something f * cking bold. The only reason why Kylo Ren has any hope of being a worthy successor is because we lose one of the most beloved characters.",
          "So we thought we would show our excitement the only way we know how: by editing footage of the Star Wars movies to the tune of `Stayin' Alive.' You can clap along, you can dance along!",
          "Can someone do me a favour and tell Neil deGrasse Tyson that Star Wars is a fantasy and is set in a universe with THE FORCE? Dumbass,",
          "I had a great mom. She would rent me Muppets and Star Wars movies,",
          "J.J. was relentless and very persuasive, and in the end, I did design both `Trek' movies with him. So when he asked me to do `Star Wars,' terrifying as it was, I didn't argue.",
          "The movie is yours now and I really hope you enjoyed it and we are so happy to be starting on Episode VIII in a few weeks in London and it is going to be fun,",
          "so we thought we'd show our excitement the only way we know how: by editing footage from the Star Wars movies to the tune of `Stayin' Alive' by the Bee Gees.",
          "I don't care about Star Wars.",
          "In one of the episodes, one of the characters speaks in an ethnic language from Kenya, and we all recognised it and were really, really excited, because we felt like Star Wars is ours now.",
          "The is the first time we've been able to go to the cinema together to see Star Wars",
          "Han doesn't say, `Chewie -- we're home,' in this series, but it's absolutely how Star Wars fans feel reading it. This series strikes a great balance of plucking on nostalgic strings by revisiting the golden era between Episodes IV and V and pitting familiar characters in long-imagined, unseen conflicts, while also unveiling new faces with new adventures that fit the tone just as well. Sana Solo and Grakkus the Hutt might technically be new `Expanded Universe' characters, but they fit so seamlessly with Luke, Leia, Han and the gang you'll swear you saw their action figures a long time ago, in a Darth Vader carrying case far, far away.",
          "It is no overstatement to say that the Star Wars action figures revolutionized the toy market,",
          "We wanted to go watch a movie. What ended up was a `Star Wars' experience of a lifetime that Cooper will never forget,",
          "We have Spotlight. It's a great film, an awards film. Last year, we may have put that in the first week of January. This year we won't because of Star Wars.",
          "I don't think you can overstate the power of Star Wars",
          "I noticed the last few movies that I'd made were costing the company a lot of money and I didn't think that was fair to the people that worked there or the company. So, I made a decision to move ahead on the next Star Wars series and we were starting to do that.",
          "I felt like I had this great thing in `Star Wars' that provided all these opportunities and gave me a career, but it all kind of felt a little too handed to me. I didn't want to go through life feeling like I was just riding a wave.",
          "Much like the figures from ancient legends, the characters in `Star Wars' have a dimension of heroes and villains, and crystallize what is best and worst in human nature. In that sense, they perfectly fit together.",
          "These authentic lands will have two signature attractions, including the ability to take the controls of one of the most recognizable ships in the galaxy, the Millennium Falcon, on a customized secret mission, and an epic Star Wars adventure that puts guests in the middle of a climactic battle,",
          "I feel very strongly about this: They should watch the ’70s trilogy, so it's really Episodes 4, 5 and 6 -- Star Wars, Empire Strikes Back, Return of the Jedi. I'd allow them to skip the whole second three movies. It's fine if you don't see them.",
          "These are all things that you either don't need at all or you'd be slightly better off with a non - `Star Wars' version. And I say that as someone whose wife once gave him an R2-D2 eggcup as a present. Because if you love eggs, and you love `Star Wars' ... you'll still, in general, find yourself using a normal egg cup.",
          "What's so weird about this movie is, I know that it's `Star Wars,' that it's a big investment and there's all this expectation, but it felt more homespun somehow every day making this movie than anything I've worked on,",
          "Hello old timer. The Force Awakens and there's A New Hope.",
          "It was a different type of Star Wars, a little like the old ones with a good modern taste to it. I thought it was pretty good.",
          "Get to `Star Wars '",
          "I didn't hate the middle trilogy as much as many Star Wars fans did-but it wasn't Star Wars. There were some very good things, such as Darth Maul, who was a great villain. Then George Lucas made the same mistake he did with Boba Fett, killing him off unnecessarily, in a really facile way that didn't do the character justice. But there was just so much CGI, and then the absurdly complex back story of the Trade Federation. It was as bad as trying to understand Israel and Palestine; I'm still not all that sure which side I'm on.",
          "These are my kids. All the `Star Wars' films. I loved them, I created them, I'm very intimately involved in them,",
          "In `The Force Awakens' I want to tell a brand new story with new characters,",
          "I think most of my fans like the more original or culturally obscure stuff I do more than the Star Wars images. But the more obsessed fans of Star Wars or comic culture are attracted to the style and graphic impact that my unusual approach to their familiar world represents.",
          "Liberals Just Declared Star Wars `Racist' -- The Reason Why Is Mind-Blowing,",
          "We bought out a showing of Star Wars,",
          "There are trivia contests, the band kids have all learned the Star Wars theme music and play it in the common area at lunchtime. It's just been a fantastic week so far.",
          "You got ta remember, `Star Wars' came from nowhere. `American Graffiti' came from nowhere. There was nothing like it. Now, if you do anything that's not a sequel or not a TV series or doesn't look like one, they won't do it!",
          "The Force Awakens! Before Han Solo, there was a great carpenter named Harrison Ford. And here he is, with his crew, the day he finished building my recording studio back in 1970... Thank you Harrison... may the force be with you...",
          "We start shooting Episode VIII in January, we've been prepping the movie for the last year and (writer and director) Rian Johnson has been doing an amazing job.",
          "I don't care. I don't care about `Star Wars' and I never f *** ing did!",
          "I saw my first `Star Wars' movie when I couldn't even remember,",
          "The White House said that Star Wars: The Force Awakens will be screened on Friday for members of Gold Star families, an organization of family members who lost relatives in military combat.... The president also indicated that he would attend the screening, telling the media at the end of a press conference, `OK everybody, I have to get to Star Wars.",
          "And I'll say that because as much as I desperately love 'Em pire' -- and it's hard to say `Star Wars' over 'Em pire' --'Em pire' is so standing on the shoulders of `Star Wars.' Like if 'Em pire' existed without `Star Wars,' would it have been as strong? I don't know. The whole' I am your father' [ works ] because we got two years of feeling and living and breathing with Darth Vader. So as much as I love that moment -- it's maybe one of the best scenes of all time -- the absolute sheer brilliance of everything George [ Lucas ] did in that first movie is what allowed for 'Em pire' to exist.",
          "I didn't mean that women and girls don't love Star Wars. I've been to enough Comic-Cons to be well aware that Star Wars has a wonderful and enormous female fan base. But a lot of the approach to marketing has been to sell to boys.",
          "... And it's like, my wife knows. She's like, `Ah, it snowed, but it didn't snow two inches so he's not gon na be watching `Star Wars' today.' So of course we had the snow, and my son and I were in here just nerding out. We've got the Tauntaun sleeping bag, that's a Wampa rug. So we'll be all decked out. My wife's just like, (sighs).",
          "I felt like I had this great thing in Star Wars that provided all these opportunities and gave me a career, but it all kind of felt a little too handed to me,",
          "I went to see Star Wars [ Sunday ] night,",
          "Star Wars The Force Awakens Record box offices. Star Wars: The Force Awakens obliterated Harry Potter and The Deathly Hallows Pt. 2's early open record of $43 million with a $57 million Thursday night performance, and now, according to The Hollywood Reporter, The Force Awakens has set another record. Such an outcome would surprise few analysts, but the numbers were nevertheless eye-popping.",
          "licensed Star Wars toymakers Hasbro (NASDAQ: HAS) and Mattel (NASDAQ: MAT), as well as the maker of the Star Wars Battlefront video game, Electronic Arts (NASDAQ: EA) could all also have their stock performances reflect the film's success or failure.",
          "There is a screening of Star Wars for Gold Star families and children [ of fallen soldiers ] coming up, so I'll try to be relatively succinct.",
          "There is a screening of `Star Wars' for Gold Star families and children coming up, so I'll try to be relatively succinct.",
          "Well, guess what, gang? Lots of Oscar voters now were probably members of the academy then. This is an older group. They are gon na go to this `Star Wars' with their grandchildren and they're going to be so nostalgic.",
          "Star Wars is like the gateway to all other nerd things,",
          "going to make some weird thing. If you've seen Rian's work, you know it's not going be like anything that's ever been in Star Wars.",
          "Star Wars had the greatest villain in cinema history. So, how you bring a new villain into that world is a very tricky thing. We knew we needed to do something fucking bold. The only reason why Kylo Ren has any hope of being a worthy successor is because we lose one of the most beloved characters.",
          "With the increased demand for `Star Wars,' we will continue to add showtimes to accommodate the avid fans that have been eagerly awaiting the seventh film in this blockbuster series,",
          "I don't care. I don't care about Star Wars and I never [ expletive ] did!",
          "About last night.... Star Wars was awesome.... I'm the stormtrooper,",
          "Watching Star Wars in style.",
          "He's so great. I even texted him ahead of time when we were thinking about [ the episode ], and I was just like, `Hey, would you be OK going to the Star Wars premiere with the guys, but not being a Star Wars fan and just being completely pro- Star Trek?' I got back a text five seconds later that said, `Yes! I'll absolutely do that!' He was game, and on board, and we love having him back whenever we can get him,",
          "Okay, I've read this guy's name three times, I don't remember it. I don't care. I don't care about `Star Wars.' I never f -- ing did. I'm sorry. I'm tired of pretending. I'm tired of pretending. I don't care about it.",
          "Pastor Tim Lucas was 6 years old when the first Star Wars movie came out, and he remembers, in the Christmases that followed, replacing the tiny figures in his mother's Nativity scene with Han Solo, Princess Leia and R2D2. `I didn't care about the star of Bethlehem,' said Lucas, the lead pastor at Morristown-based Liquid Church. `I cared about the Death Star.' Now, Lucas -- no relation to George, sadly -- is doing the same thing on a wider scale as a new installment of the franchise is about to hit theaters. Services in the coming Sundays at Liquid Churches around New Jersey will weave the Star Wars story together with Biblical theology in what they're calling a `Cosmic Christmas.",
          "the first openly trans person to be featured in the Star Wars franchise",
          "Joseph Campbell once said all the great myths, the ancient stories, have to be regenerated in every generation. He said that's what you are doing with Star Wars. You are taking these old stories and putting them into the most modern of idioms, the cinema. Are you conscious of doing that? Or are you just setting out to make a good action-movie adventure?",
          "Rather than going on TV chat shows I would rather give back somehow by going to hospitals. I want to do more of that. Star Wars movies are meant to be a couple of hours of diversion from reality, and we need that. They are optimistic and hopeful stories. But in comparison to what we can do with this [ the hospital ], last night [ the Star Wars premiere ] is very trivial.",
          "We always believed the worldwide opening for Star Wars: The Force Awakens was going to be strong, but these results have exceeded our expectations,",
          "We were working with a writer [ on another `Star Wars' movie ] -- it wasn't quite working out -- but I was also... you know, I was also stepping away a little bit and turning things over to Kathy Kennedy,",
          "I have tons of shirts, boxers, socks, FunkoPop figures, a The Force Awakens blanket, a BB-8 pillow buddy,",
          "`Star Wars' was awesome, although I have to say, there's an image -- and I'm not going to be a spoiler -- but as someone who grew up, as someone who stood with his dad for three hours to see the opening of `The Empire Strikes Back,' as someone who grew up, as a kid, idolizing Han Solo as perhaps the coolest character in all of cinema, I will say there was an image last night that will scar me forever. I'm not going to spoil what it is, but it was highly traumatic.",
          "Star Wars fans are crazy, aren't they?",
          "unraveled the entire moral superstructure of the Star Wars franchise.",
          "Right now all eyes are turned toward Star Wars and we can leverage this historic pop-culture moment to reach new people and teach them about the birth of Jesus Christ,",
          "Star Wars: The Force Awakens Is a Prime Example of Hollywood's Nostalgia Problem.",
          "Abrams' challenge was in taking this obsession for Star Wars and creating a new story that would deliver for the fans and excite newcomers,",
          "And when I say kids, I really mean adults, too. This is what `Star Wars' is really all about -- taking it to that next level, so that when they go home afterward they really know that they had an experience.",
          "This is the Star Wars movie that the fans have been craving and waiting for and now its here and it's getting the positive reviews and Star Wars is back. This is unlike any other franchise in the history of movies when it comes to the fan base and when it comes to the level of excitement surrounding it",
          "All those Star Wars films... I loved them, I created them, I'm very intimately involved in them, and I sold them to the white slavers that take these things, and...",
          "It was like the bar scene in Star Wars, rewritten by Harold Pinter.",
          "I feel proud that we have done something that, you know, feels like Ample Hills and feels like Star Wars,",
          "Universal Pictures, Steven [ Spielberg ], Frank and Colin [ Trevorrow ] congratulate Star Wars: The Force Awakens on the biggest opening weekend in galactic history.",
          "The DNC timed those democratic debates for the `SNL' weekends and `Star Wars,' who knows?",
          "I guess I felt like I had this great thing in `Star Wars' that provided all these opportunities and gave me a career, but it all kind of felt a little too handed to me. I didn't want to go through life feeling like I was just riding a wave.",
          "Parents are suddenly in a quandary. M in my mind suddenly feels like I would tell my kid they need to be sixteen before they can watch that. Now comes Star Wars which used to be pretty much PG all the way through.",
          "Once knew a girl by the name of Rhoda / Watched `Star Wars' just to see _____.",
          "a nice family comedy to be around [ for ] the holidays. So... Star Wars is scared s *** less.",
          "There's a screening of Star Wars for people who lost a family member in the Iraq war.",
          "Sure, it's still a fun ride -- shootouts, getaways made via hyperspace, wisecracks. But pretending The Force Awakens is anything more than a glib facsimile of A New Hope, the original Star Wars movie, is delusional. It's dull because it is achingly unoriginal. Abrams, at every turn, plays it safe, with multiple `takes me right out of the movie' lapses.",
          "While Star Wars is a huge franchise globally, in India, we treated it as the launch of the franchise. So we started our campaign last year itself. We went to various Comic Cons (comic book conventions) and created awareness about the film. As a result, there was sustained visibility around the film, which has helped us get so many different brands on board. We have brands across categories and merchandise across price points for Star Wars - The Force Awakens,",
          "braved the intimidating weight of `Star Wars: the Phenomenon. '",
          "I'm from Peckham, and I'm in a Star Wars movie.",
          "I'm a crazy fan of `Star Wars' and just entering that world again. It's an amazing world. I just love those entire scenes,",
          "We're out shopping but this year Star Wars is big on my mind. It's kind of eclipsing Christmas,",
          "Who likes Taylor Swift? Who likes `Star Wars?' Who plays football? Who likes animals?",
          "It might seem like a small distinction, because The Empire Strikes Back is a sequel to Star Wars and couldn't exist without it, but it's a critical one. Although Empire is a direct continuation of Star Wars' story, featuring all of the original film's cast, it is its own animal in terms of tone, pacing, structure, and the circumstances behind its development, production, and release.",
          "Craig does make a cameo in Star Wars VII as a stormtrooper, turning up in one of the movie's most memorably nostalgic scenes.",
          "I would play Star Wars in my living room with my siblings. We had this orange-colored carpet, so we would pretend it was the desert in Tatooine.",
          "Oh, what's the big deal, even I knew they'd make another Star Wars eventually.",
          "I still am. I wear my Han Solo costume when I go to `Star Wars' conventions.",
          "`I knew when we purchased Lucasfilm that the No. 1 priority by far was making a great film,' said Mr. Iger, who slipped into a theater in Santa Monica, Calif., to watch The Force Awakens with other moviegoers on Friday. `It wasn't just about storytelling, it was recruiting and engaging new fans in the U.S. and around the world,",
          "I'm a huge Star Wars fan, but here's the good news: This is America and you can see two movies in one weekend,",
          "Even before it opened in theaters today, the new Star Wars was the most talked about movie of the year on Facebook,",
          "Father can't kill son, son can't kill father. So they live again to star in `Star Wars IV.",
          "You are doing a take and then suddenly (Star Wars producer and Lucasfilm head Kathleen) Kennedy is running up and she is fixing your hair.",
          "Oh, that sounds great, but I want to be in Star Wars.",
          "You're not just dealing with fans, but superfans. I was on radio the other day with the guy who runs the Star Wars religion. Ray D'Arcy asked him where he was watching the movie, and without a hint of irony he said he couldn't say, because he didn't want the paparazzi to follow him there. That's who you're dealing with...",
          "Star Wars and Decadence,",
          "He did `Star Wars' rip-off stuff in the wake of all of George Lucas' success. And he needed a kid.",
          "When it became clear what this story was and where `Episode VIII' and `Episode IX' would go, the end of this movie was very much intended to be a cliffhanger. Obviously, the Luke storyline will continue in a very strong way, but it wasn't material for this movie.",
          "It didn't feel like something I would campaign for because I love it so much and it feels like a sacrilege somehow to be involved. `Star Wars' was so big. It was so much its own unreachable, powerful thing.",
          "Paying to watch a new Star Wars movie, in the wake of its predecessors... is like returning to a restaurant that gave you severe food poisoning on your last three visits,",
          "Apart from these, there are other brands like HP India, Subway, Duracell and Amazon. in whose global tie-ups with Star Wars have extended to the Indian market as well. Therefore, we see their visibility here,",
          "One of the things I love about this new movie is that they've dialled down the CGI. The first Star Wars film, from 1977, had better special effects than in the more recent ones, and JJ Abrams has reigned them in to exactly where they should be. It looks like those movies I fell in love with.",
          "We've had some amazing movies-James Bond, Star Wars and Harry Potter. All these blockbusters help generate about & pound; 140m from visitors and over the last couple of years there's been an increase in the number of productions by 35%,",
          "It's Star Wars, you do the wipes!",
          "I have been working with Disney for 40 years and chose them as the custodians of Star Wars because of my great respect for the company and [ Disney CEO Bob Iger ]'s leadership,",
          "Star Wars is the story of a simple farm boy who buys two robots,",
          "The parallels between the Bible and Star Wars are striking. At its core, Star Wars reflects spiritual faith in that it's the battle between good and evil, the light versus the dark. Even the famous phrase `may the force be with you' has roots in Christian theology,",
          "I hate Star Wars,",
          "To put it more simply, Campbell studied Shakespeare to produce The Hero with a Thousand Faces, and Lucas studied Campbell to produce Star Wars.",
          "At the last minute we found out about this Star Wars premiere,",
          "They felt like they couldn't be themselves. They were hiding a big part of who they were. So... I wanted HerUniverse to be a safe community where female fans could step into the spotlight and say, `Hi, I'm Ashley and I'm a Star Wars fan.",
          "I've met so many wonderful people, all over the world. It's a wonderful community of likeminded people with an interest in Star Wars. There is nothing else like it",
          "Over the summer, Star Wars came out, and by September I didn't know what anybody was talking about,",
          "Star Wars movies are meant to be a couple of hours of diversion from reality, and we need that. They are optimistic and hopeful stories. But in comparison to what we can do with this [ the hospital ], last night [ the premiere of Star Wars: The Force Awakens ] is very trivial.",
          "he's 15, and I was a huge Star Wars fan so sharing this with him is just incredible",
          "It's definitely on my bucket list of challenges to take on, and it did not hurt that it was Star Wars.",
          "In Star Wars: The Force Awakens, the energy in a Star is enough to destroy ten-thousand planets, not just a few here & there.",
          "Everybody went out and made spaceship movies and they were all horrible and they all lost tons of money. And you say, there's more to it than that. You just can't go out and do spaceships. Of course, the only way you could really do that [ make money ] is not take chances. Only do something that's proven. You got ta remember, `Star Wars' came from nowhere. `American Graffiti' came from nowhere. There was nothing like it. Now, if you do anything that's not a sequel or not a TV series or doesn't look like one, they won't do it!",
          "Art of `Star Wars: The Force Awakens",
          "2015 in Republican politics, as explained by `Star Wars. '",
          "There's such a high and great joy to see and anticipate in the creative process from a blank canvas to its completion. That's what makes me thrive as an artist. In every piece of art that I do, whether Disney or Star Wars or my own fine art are all special and much love and labor are put to each. My favorites are the ones that catapulted me to a new level when it comes to approach or technique or something new that I learned. Those are the ones that are hard to let go. I am humbled and grateful every single day that I can wake up and do the thing I love, which is to paint,",
          "Fun, fresh-faced leads; a terrifying, three-dimensional villain; a lightsaber battle for the ages. Fear not, Star Wars fans: JJ Abrams has made the sequel of your dreams,",
          "Look, anyone who starts with Episode I will be so bored so fast that they'll have no frigging idea what anyone saw anyone saw in Star Wars. I guess I'd say 4, 5, then flash back to 1, 2, 3, and then finish with the teddy-bear movie (Return of the Jedi). Then on to the new one.",
          "Both Mary Jo and I do other films and projects when we are not working for J.J. Being freelance, we take other projects. Wanting to expand our horizons, we like to do other things. It has worked out till now. I took another film when [ J.J. ] said he wasn't doing Star Wars. I spent a year trying to apologize. I had a long-term relationship with J.J.",
          "Star Wars: Shadow of the Empire",
          "Like a Rembrandt painting, Star Wars will outlive all of us.",
          "After achieving its historic opening weekend at the global box office, Star Wars: The Force Awakens continues to thrill audiences and break records in IMAX theatres worldwide,",
          "This particular protostar system looks like a double-bladed light saber which is timely with all the Star Wars frenzy going on right now but we are seeing a birth stage of a new star system,",
          "This is a movie about a movie about Star Wars,",
          "We started using pop culture last year, we had an 80's theme and brought out a Delorean and KITT. This year we're doing something similar with the Star Wars theme -- we'll have the retro arcade, a mini toycon, Star Wars cosplay and a lot of other opportunities to have fun and remember your childhood.",
          "Not really. [ The Force Awakens ] sets up a lot of stuff. There's a lot of people to deal with. And Rian took on that job and he's going to change it, because he's Rian. And I'm sure Colin will change what Rian does... These movies will all be so different. Rian Johnson is a friend of mine -- he's going to make some weird thing. If you've seen Rian's work, you know it's not going be like anything that's ever been in Star Wars.",
          "Ronald Reagan couldn't have said it better. Star Wars was a Ronald Reagan sort of film.",
          "You put the star in Star Wars,",
          "Basically, this was a side project that me and five other people decided to do, as we love Star Wars and believe kids nowadays need this,",
          "I was just glad to be involved in it, I mean obviously Star Wars has been very, very good to me,",
          "The Star Wars universe is a little like Narnia: even those who have been there can never be sure of getting in again.",
          "Neeeeeeeeed to watch Star Wars ASAP!",
          "Star Wars, Silentó, and the Super Bowl: Engaging Popular Culture.",
          "Daisy Ridley praises Star Wars: Episode VIII script",
          "In our real-world physics, that's the term used for the stored-up power that an object has yet to unleash, and in Star Wars, it's basically the same thing, but applied to people -- the likelihood of a character to rise toward the light or sink into the darkness. Every Star Wars story is a coming-of-age tale.",
          "I was very surprised and heartened at the overwhelming response to the character of Capt. Phasma. J.J.'s (Abrams) been open about the fact that he wanted to respect the origins of the film and celebrate them, but to bring them into the modern day. And confirmation of that seemed to be, to me, in this amazing character of Capt. Phasma, who is Star Wars' first on-screen female villain.",
          "That is the heart, really, of the company. It goes back all the way to 1923 when it was founded by Walt Disney and his brother Roy. It's all about storytelling, that's what creates the most value. In Pixar, we had some of the best storytellers in motion pictures and certainly the best in animation. We had in Marvel stories and characters, great storytelling. And obviously with George Lucas' Star Wars, and Indiana Jones by the way as well, which is coming, we have more great stories. I think in a world where there is far more content and intellectual property and much more choice, great stories still hold their value and actually stand out given all the choice people have.",
          "There is a screening of Star Wars for Gold Star families and children (of US soldiers killed in combat) coming up. So I'll try to be relatively succinct.",
          "Fan films -- whether related to {i: Star Trek, Star Wars, Harry Potter, Lord of the Rings, Power Rangers, Batman} or any other franchise - -- are labors of love that keep fans engaged, entertained, and keep favorite characters alive in the hearts of fans.",
          "I want to clarify my interview on the Charlie Rose Show. It was for the Kennedy Center Honors and conducted prior to the premiere of the film. I misspoke and used a very inappropriate analogy and for that I apologize. I have been working with Disney for 40 years and chose them as the custodians of Star Wars because of my great respect for the company and Bob Iger's leadership. Disney is doing an incredible job of taking care of and expanding the franchise. I rarely go out with statements to clarify my feelings, but I feel it is important to make it clear that I am thrilled that Disney has the franchise and is moving it in such exciting directions in film, television and the parks. Most of all I'm blown away with the record breaking blockbuster success of the new movie and am very proud of JJ [ Abrams ] and Kathy [ Kennedy ].",
          "LIVE Star Wars Nativity Scene,",
          "Well Dana, the DNC timed those democratic debates for the SNL weekends and Star Wars, who knows?",
          "Star Wars had the greatest villain in cinema history. So, how you bring a new villain into that world is a very tricky thing? We knew we needed to do something f -- king bold. The only reason why Kylo Ren has any hope of being a worthy successor is because we lose one of the most beloved characters. Long before we had this title, the idea of The Force Awakens was that this would become the evolution of not just a hero, but a villain - and not a villain who was the finished, ready-made villain, but someone who was in process. As a father, as a friend to people who have children, I know what it's like to see struggle, to be part of struggle. I know how painful it can be. I know how real it is. And this is, of course, an insane extrapolated version. Patricide is not ideal. It's this massive tradeoff: how can we possibly do that!? But... if we hadn't done that, the movie wouldn't have any guts at all. It felt very dangerous.",
          "We're hoping it's not too much that Disney (which owns the rights to Star Wars) gives us a call later,",
          "I Calculated the Mass of a Star Wars Blaster Bolt for You",
          "My friends are telling me I shouldn't abandon my girlfriend on her birthday to see the new Star Wars movie,",
          "Neil deGrasse Tyson Is The Grinch Who Ruined `Star Wars: The Force Awakens,",
          "Dana, the DNC timed those Democratic debates for the NFL weekends and Star Wars, who knows?",
          "I'd say it's `Star Wars' is first, `Harry Potter' is second, and `Twilight' is third,",
          "As an avid `Star Wars' fan and a huge fan of science, I jumped at the chance",
          "Then there is the earning power adding `Star Wars' rides and other attractions to the Disney theme parks. `Star Wars",
          "Commercially speaking, pop culture is in the business of sequels, producing fresh iterations on familiar products. And the value of those sequels is just going to continue to grow, as audiences get richer and as the global audience grows. But it says something deeper too. Critics hope that success is a reflection of quality, but the truer thing is that success in most cultural products is a reflection of familiarity. Every year there are a great many weird albums that sell nothing and brilliant movies make less than $50 million. Star Wars made $50 million before breakfast on Friday, so the deeper reason that franchises work is that people don't like new things as much as we think we do. What we like are old things made new again, and again, and again, and the old made new is `Star Wars' in a nutshell.",
          "Star Wars: Darth Vader, Volume 1",
          "Star Wars: The Forces Awakens.",
          "So we thought we would show our excitement the only way that we know how, but editing footage from the `Star Wars' movies to the tune of `Staying Alive. '",
          "I am told that `Star Wars' will be waiting for us up there,",
          "Rian came over to my house, we talked about `Star Wars' , and I said `This is boring, let's go watch `Sgt. Bilko' ! I put on `The Court Martial' , where Sergeant Bilko accidentally inducts a chimpanzee into the army. It's the funniest half an hour of television. Rian was aware of `Sgt. Bilko' , but I don't think he'd ever seen it. And I thought to myself, this is a big test-if he doesn't think this is funny, I'll have nothing to say to him. Fortunately, he loved it.",
          "A Look At Star Wars' Success",
          "I don't care about Star Wars, I never f ** king did... who gives a f ** k?",
          "The Luke Skywalker lightsaber from the original 1977 film was made from a vintage Graflex camera flash. It had seven plastic grips attached to the handle, and a Texas Instruments Exactra calculator LED bubblestrip. When the lightsaber returns in The Empire Strikes Back, it only has six grips on the handle, and each grip had a notch cut out to accommodate a visible fastener. Additionally, the bubblestrip had been replaced by a vintage computer connector board. The Force Awakens trailer once again features the same lightsaber, still with the correct vintage computer board, and still with the notches cut out of the handle grips -- as we last saw them. However, it is unclear as to whether there are six or seven grips on the handle. Can you please confirm whether The Force Awakens Luke Skywalker lightsaber has six, or seven, grips?",
          "They were mining that expertise, but also cautious to get people who came with recommendations. So there's a real Star Wars bar scene.",
          "But neither of those things were in Star Wars [ A New Hope ]. Star Wars didn't say Luke was the son of Vader. Star Wars didn't say Leia was the sister of Luke. You didn't understand what these references were: the Empire, dark times, Clone Wars. There were these things that were discussed that don't get explained. George [ Lucas ] dropped you into a story and respected you to infer everything necessary to understand what you need to know.",
          "The Week in Star Wars -- The Force Awakens reviews are in, suprise cameos, huge box office opening, Harrison Ford doesn't want to be in the Han Solo movie and more",
          "His tendency to play characters of different backgrounds extends to his new Star Wars character, whom Isaac has described as' non-ethnic.' Notably, he didn't say `white' or `racially ambiguous,' instead referring to his character's absence of ethnicity.",
          "[ Star Wars: The Force Awakens ] is good. Not great. But far better than `not bad' . Solidly, confidently good.",
          "We got a call from [ Lucasfilm president ] Kathy Kennedy saying that they wanted to restore the original chess set from Star Wars, and the problem was that the characters that we had made, you know, close to 40 years ago, were in a horrible state of disintegration.",
          "Preview of Star Wars: Obi-Wan and Anakin # 1",
          "With my son, my plan had always been to show him the films in the order in which they were made. Even though I enjoy the prequels (well, two of them), I wanted him to experience the films the way I did. But I showed him Star Wars (a.k.a. Episode IV, a.k.a.. A New Hope) when he was around 4, and, aside from a couple of scenes, he was bored. So, a few months later, we started again, this time with The Phantom Menace... and he was totally enraptured. He loved Anakin. He loved Qui-gon. He loved Darth Maul. He wanted to see the scene where Anakin met Padme over and over again. He loved the underwater scenes. He loved the speeder race. (Thank the Lord he didn't care at all for Jar Jar.) Who was this strange kid who loved The Phantom Menace so much?! We moved on to Attack of the Clones, and then the first half of Sith. He had become so taken with Anakin -- even grown-up Hayden Christiansen Anakin -- that I didn't have the heart to show him the dark ending of that film. After that, we moved on to Episode IV. After THAT, we showed him the finale of Sith. Then, Empire and Jedi. Ultimately, the prequels had more of an impact on him than the original trilogy... except, oddly enough, Return of the Jedi. All along, I was surprised to discover that he was less interested in the kiddie stuff like Jar Jar and the Ewoks, and more taken with the drama of Anakin and the Dark Side and Luke. If there are two sequences in the whole series that he's probably watched the most, it's the final fight between Anakin and Obi-Wan in Sith, and the one between Vader and Luke in Jedi. But all this was over a year and a half ago, so he doesn't remember it all that well. To prepare him for The Force Awakens, I've shown him Star Wars again (Episode IV), which he enjoyed much more this time around. I haven't decided yet if we'll move on to Empire and Jedi before we leap into The Force Awakens. I kind of don't want him to fall in love with [ SPOILER REDACTION ].",
          "This is new. This is different. But it's wed perfectly with the corpus of what Star Wars is. I've been lucky in my working life, especially with situations like Star Wars. It's been a challenge, and fun and it's been a privilege. I don't think there's anything quite like it in the history of film.",
          "reckless Star Wars schemes.",
          "So fitting for a Star Wars premiere. Where else could you wear a dress that actually looks like it came from outer space?",
          "I am a big Star Wars fan. I play the games,",
          "There were also Star Wars figures, which are popular at the moment.",
          "There's nothing like Star Wars,",
          "First, the original film was both a critical and popular success. The nation has long been fascinated with science fiction and the clash of good guys and bad guys. `Star Wars' had everything needed for success -- plot, interesting characters, special effects, memorable music, and more.",
          "It's going to be a lot of fun, we're looking to capitalize on the significant buzz that is out in the community right now surrounding Star Wars. So although it's loosely based on Star Wars -- it's more of an overall space theme, but we've got a lot of things going on starting at 6 pm all the way until midnight.",
          "Star Wars is a land filled with incredible things that blow my mind, also similar to Florida.",
          "it thought, this could be great counter-programming to what's out there. It seemed like a big opening for a nice family comedy to be released around the holidays. So `Star Wars' is scared sh * tless.",
          "I was in there on `Star Wars' and remember asking George one day, `Do you think you're going to use me or not?' And he said,' I don't know which part I prefer you in. I don't know if I like you as Han and this guy as Skywalker, or this guy as Han and you as Skywalker. I don't know. '",
          "Looks like @USATODAY took a cue from @wilw @BigBang_CBS w / Star Trek showing up on today's Star Wars #frontpage,",
          "In Star Wars: The Force Awakens, BB-8, a smooth rolling metal spherical ball, would have skidded uncontrollably on sand,",
          "`Star Wars' was awesome,",
          "The trouble is, I haven't had time to see Star Wars myself yet, so I don't want to hear any spoilers from the customers!",
          "we're not here to talk about the new Star Wars.",
          "If you're a big fan of Amy Hennig and her style of story, the big thing about her is she's gone to EA and is going to reboot a brand new Star Wars franchise in the style of Uncharted,",
          "Universal Pictures, Steven [ Spielberg ], Frank [ Marshall ] and Colin [ Trevorrow ] congratulate Star Wars: The Force Awakens on the biggest opening weekend in galactic history.",
          "Are there any other Star Wars Movies?",
          "This is the last of the Star Wars stuff so if anyone wants a Millennium Falcon they aren't going to get much more,",
          "It's so epic. I've always loved fantasy and big stories. `Star Wars' was always that for me.",
          "We fought very hard as a government to get Star Wars made in Britain because we knew it would bring jobs and investment, it would mean that we had great opportunities for British actors,",
          "So long as I continue to be involved in creating the main characters and chronicling their amazing adventures, Star Wars never gets old for me,",
          "I never knew it was going to be a lead guy in `Star Wars. '",
          "The thing that drew me in was this idea that there was this young woman out there in this vast universe who, 30 years after `Jedi,' might not know who Luke Skywalker is or might not know that he was real or might not understand that she lives in a `Star Wars' universe,",
          "' Star Wars' is a phenomenon and a wonderful and rare opportunity for people, in truth, throughout the world, to actually come together for something uplifting and positive.",
          "feels like the old `Star Wars. '",
          "They have anti-matter contained in magnetic fields... which is a real thing, but in Star Wars it's just magic and they have wings and there are sound effects in space... The Force is like a ghost or magic.",
          "The real lesson of the Star Wars movies is big government leads to a loss of freedom, whether the government was voted for by the people or seized power through manipulation,",
          "Star Wars: The Force Awakens: The Visual Dictionary.",
          "Daisy Ridley is a great actress! She is the ultimate kick ass heroine and also absolutely stunning in Star Wars #DaisyRidley #Girlpower.",
          "I was a total geek growing up and had `Star Wars' wallpaper in my room. My kids love it, too.",
          "The Wright Stuff has a great selection. If you are looking for a `Star Wars' gift for the `Star Wars' fan in your life this is the spot you want to shop at.",
          "Intergalactic Star Wars Day.",
          "Last year I stumbled into it just being a fan of Star Wars,",
          "But we talk about `Star Wars' stuff every day. It's one of the biggest things we talk about.",
          "`The Force Awakens' has succeeded where it counts most, in creating a cast of characters that viewers can spend the next several years rooting for, especially the spirited, resourceful heroine at its center. Put another way -- and hallelujah for it -- there's not a Binks in the bunch.",
          "Yeah, you know, the only Star Wars I see is when I turn off the lights and watch tape,",
          "I'm a huge Star Wars fan. I can't wait until it starts,",
          "Baker not a fan of new `Star Wars' flicks,",
          "Star Wars has generated more collectible paraphernalia than any other franchise on the planet,",
          "Which `Star Wars' is the best?",
          "This holiday season we are excited to be a part of the highly anticipated release of `Star Wars: The Force Awakens.' At Regal, we are passionate about providing exceptional moviegoing experiences including offering a wide variety of showtimes to meet our guests needs. And there are plenty of tickets available for them all",
          "and to realize that nothing in `Star Wars' would have been imagined if it hadn't been for past heroes written a long time ago, in lands far far away.",
          "(Lucas) did so much when he wrote those to make them last forever. It's something you'll always relate to. It just kind of takes you away -- all the stuff going on in the world, and you can always go back into Star Wars and things are good.",
          "I measure my life in terms of my relationship with Star Wars,",
          "Ever since they announced it. If I'm into anything a lot, it's `Star Wars. '",
          "We had more and more people coming in after they had seen the movie, and for many of the kids it was their first time to see a `Star Wars' movie,",
          "I actually feel as though I am still in the galaxy far, far away. I really never left it, having worked on all of the films. I'm happy to be continuing to be part of the whole fun of doing it. This is new. This is different. But it's wed perfectly with the corpus of what Star Wars is. I've been lucky in my working life, especially with situations like Star Wars. It's been a challenge, and fun and it's been a privilege. I don't think there's anything quite like it in the history of film.",
          "But, `Star Wars' still rules.",
          "I've got to get to Star Wars...",
          "I think Disney and Abrams decided that episode VII had to be a copy of episode IV because it is the backbone of the Star Wars saga. Now that this episode exists, the new trilogy will forever be linked to the original trilogy. They have completely eliminated the risk that people say `This is not Star Wars' , because it is exactly Star Wars.",
          "The fact that this is opening all over the world today, there's going to be no more wars, it's all Star Wars",
          "I came across Campbell's soup that was branded with a Star Wars character,",
          "I have been working with Disney for 40 years and chose them as the custodians of `Star Wars' because of my great respect for the company and Bob Iger's leadership. Disney is doing an incredible job of taking care of and expanding the franchise. I rarely go out with statements to clarify my feelings but I feel it is important to make it clear that I am thrilled that Disney has the franchise and is moving it in such exciting directions in film, television and the parks. Most of all I'm blown away with the record breaking blockbuster success of the new movie and am very proud of JJ and Kathy.",
          "Three weeks and three fire alarms later I am excited to show you my gingerbread Star Wars creation,",
          "Five Star Wars: The Force Awakens Cut Scenes Revealed",
          "We're really excited. The sad thing is three of my staff have never seen Star Wars. So they're going to go see it before all the nerds go!",
          "You played with your Star Wars figure when you're 7, and you still have it when you're 30. You're a nerd and that's OK.",
          "That had been in place for years. When we started talking about when Sheldon and Amy were going to resolve their relationship issues, and we knew that the Star Wars premiere was looming, the pieces started to fall into place.",
          "But then again, Star Wars is no ordinary film franchise. It's less a film than a giant corporate happening -- a film intended to not just sell tickets and DVDs, but to spawn toy lines, theme park rides and television shows.",
          "OK, everybody, I have to get to `Star Wars,",
          "You start with the original Star Wars movie. There is no other way. Maybe it's nostalgia. Or maybe it's not even that. I have no idea why I feel this way, but you should watch them in the order they were released.",
          "About last night... Star Wars was awesome,",
          "I don't care! I don't care about Star Wars and I never f -- ing did. I'm tired of pretending; I don't care about it,",
          "It is also possible that the first commander of the Space Force has real `Star Wars' experience,",
          "We've had a great working relationship over the years with everyone at Star Wars. We asked, they looked at what we were doing and they said yes.",
          "Just being a part of the Star Wars film and the legacy they have... to grow up watching those films and watching their work to now play alongside them, and work on their films, it's been an honour not just for me but for every single person across the company.",
          "Star Wars has been strong this year.",
          "Spoilers: J.J. Abrams talks Rey's backstory in Star Wars: The Force Awakens",
          "50 Amazing Facts About Star Wars",
          "Never saw a `Star Wars' movie and have not seen' 2001.' I don't like science fiction movies.... `Star Trek,' `Star Wars' I can't tell them apart.",
          "My dad gave me a Star Wars spaceship.",
          "Yea, awesome girl's day out to see Star Wars.",
          "I don't care about Star Wars and I never f *** ing did!",
          "Even before it opened in theaters today, the new Star Wars was the most talked-about movie of the year on Facebook,",
          "Rian Johnson is a friend of mine -- he's going to make some weird thing. If you've seen Rian's work, you know it's not going be like anything that's ever been in Star Wars. You couldn't have three more different people than J.J., Rian and [ Star Wars Episode IX director ] Colin [ Trevorrow ],",
          "I wasn't sure I wanted to be involved. And I was a little relieved when they said Michael Arndt had been hired to write `Episode VII,' because whoever writes that episode, I don't know what you do with it. But they said, `Here are these other stories we'd like to do.' And the one that caught my attention was a young Han Solo because that's my favorite character,",
          "The first thing we were able to bond was over `Star Wars,",
          "We extend a big congratulations to our friends and long-time partners J.J. Abrams, Kathleen Kennedy, Bryan Burk and all of our friends at Disney and Lucasfilms for this phenomenal achievement. The synergy created by fans of the Star Wars franchise, The IMAX Experience & reg;, and the support of our filmmaker, studio and exhibitor partners has manifested itself in a truly phenomenal way -- creating a new cinema paradigm. With stellar reviews, incredibly strong word-of-mouth, and an open runway for many weeks in IMAX, we look forward to the film's continued global success -- especially as it broadens to China on Jan. 9 -- and elsewhere across our network well into February.",
          "I think the biggest reason that `Star Wars' has such power is that it is based on powerful human archetypes,",
          "In honor of `Star Wars: The Force Awakens' being released today, I wanted to share these old pics of Kanye and me from years ago!",
          "It [ the original Star Wars ] is a classic movie. I feel like everyone's seen it, especially with the prequels that came out earlier. I think it's going to be cool to see how they continue the story.",
          "They made Carrie Fisher drop all that weight for Star Wars yet the new droid gets to be a fat round ball.",
          "Not really. [ `The Force Awakens' ] sets up a lot of stuff. There's a lot of people to deal with. And Rian took on that job and he's going to change it, because he's Rian. And I'm sure Colin will change what Rian does... These movies will all be so different. Rian Johnson is a friend of mine -- he's going to make some weird thing. If you've seen Rian's work, you know it's not going be like anything that's ever been in `Star Wars. '",
          "In Star Wars: The Force Awakens, once again I felt isolated and inadequate for not understanding Wookiee-speak,",
          "It's appropriate that `Star Wars' debuted this week because this is like a science-fiction movie. This is unbelievable that this is Dec. 23.",
          "There was a lot of action in it but at the same time there a lot of story that related back to the previous Star Wars. So it was really fun to watch,",
          "A big group was just stopped in the middle of an aisle, perfectly still and quiet. I looked up and overhead there was a screen showing part of the first Star Wars film -- the garbage compactor scene. There wasn't a person there who didn't know it by heart, including me. And yet, I, too, stopped, transfixed by it.",
          "I wanted to be able to show people who haven't seen Star Wars yet, like my little brother or my girlfriend, the original Oscar-winning version but I didn't want to have to show it to them in bad quality,",
          "Do you want to draw `Star Wars? '",
          "Susan has grandkids, so she kind of gets the excitement around `Star Wars, '",
          "But `The Force Awakens' is also burdened by casting miscalculations and scenes that are flat and ineffective. Sometimes the Force is with this film, sometimes it decidedly is not.",
          "We start shooting `Episode VIII' in January, we've been prepping the movie for the last year and (writer-and-director) Rian Johnson has been doing an amazing job.",
          "We're like sisters, which made it easy to play sisters in our new movie... Star Wars.",
          "John Williams's Film Music: Jaws, Star Wars, Raiders of the Lost Arc, and the Return of the Classical Hollywood Style Music.",
          "Flickering Myth Review Podcast -- Episode # 159 -- Star Wars: The Force Awakens",
          "The real science inspired by Star Wars",
          "There's no greater recognition that this is what people want than the response that's been had by the Star Wars fans and the audience of this film.",
          "He is a Star Wars fan and he wanted to come see Darth Vader and the Storm Troopers,",
          "focuses on the lead-up to the opening scene of The Force Awakens, which saw Poe seeking out mysterious traveler Lor San Tekka (Max von Sydow) on the planet Jakku for a key to finding the missing Luke Skywalker (Mark Hamill).",
          "But now, we just starting work on `Star Wars VIII,' the next film, so I'm back to keeping secrets again.",
          "He would ask me my opinion and my kneejerk reaction was always, `Why do you care? You tell me.' It's that kind of openness and curiosity and collaborative nature that I think allows him to be open to writing the kind of music that just touches your heart. He makes it look so easy and I can't imagine it ever is. First of all, he's a hero since I was a little kid, before Star Wars came out, listening to his albums. He's the most generous and gentle and sweet and thoughtful person I think I've met. He's really just like a dream human being who doesn't quite act like accomplished anything, meaning his modesty is so true and pure. He talks just like anyone might, but he's also had maybe the biggest imprint or impact on American film than anyone period. He's so sweet and modest and it's so genuine and who he is, it shows you how you can accomplish extraordinary things and not walk around like you've accomplished extraordinary things. That alone is inspiring and of course his music is just otherworldly and preternatural and impossible.",
          "I have been working with Disney for 40 years and chose them as the custodians of Star Wars because of my great respect for the company and Bob Iger's leadership. Disney is doing an incredible job of taking care of and expanding the franchise. I rarely go out with statements to clarify my feelings but I feel it is important to make it clear that I am thrilled that Disney has the franchise and is moving it in such exciting directions in film, television and the parks. Most of all I'm blown away with the record-breaking blockbuster success of the new movie and am very proud of J.J. (director J.J. Abrams) and Kathy (producer Kathleen Kennedy).",
          "Star Wars meets Ocean' s Eleven",
          "These are my kids. All the `Star Wars' films. I love them, I created them, I'm very intimately involved in them. And I sold them to the white slavers that take these things and...?",
          "You put a microphone in front of him, you never know what you're going to get. I love my friend Greg. He's my best friend since Kindergarten. I think that my enthusiasm for VIII is enormous. I think he also might have invented a couple of the quotes that he gave but I am very much excited for and very jealous of anyone, especially Rian, who gets to work so closely with this extraordinary cast and crew. Truly an amazing group, so in that regard, for sure. Honestly, I'm also relieved to have gotten the chance to do a Star Wars movie.",
          "I misspoke and used a very inappropriate analogy, and for that, I apologize. I have been working with Disney for 40 years and chose them as the custodians of Star Wars because of my great respect for the company and Bob Iger's leadership,",
          "And to quote The Force Awakens' Lor San Tekka, `She'll always be royalty to me.",
          "I rarely go out with statements to clarify my feelings but I feel it is important to make it clear that I am thrilled that Disney has the franchise and is moving it in such exciting directions in film, television and the parks. Most of all I'm blown away with the record breaking blockbuster success of the new movie and am very proud of J.J. [ Abrams, The Force Awakens director ] and Kathy [ Kennedy, Lucasfilm president and Star Wars brand manager ].",
          "This may have more to do with how far a larger dominant discourse is willing to `let in' feminism and anti-racism, we get discussions of representation and no more, the point remains the same: Star Wars is future-proofing itself for a new decade where women and people of color must be more than tokens. It also doesn't hurt that installing lead actors of color or women has been shown to actually increase box office earnings, not lower them.",
          "These are my kids... All the Star Wars films. I loved them, I created them, I'm very intimately involved in them. I sold them to the white slavers that take these things.",
          "I have been working with Disney for 40 years and chose them as the custodians of Star Wars because of my great respect for the company and Bob Iger's leadership. Disney is doing an incredible job of taking care of and expanding the franchise. I rarely go out with statements to clarify my feelings but I feel it is important to make it clear that I am thrilled that Disney has the franchise and is moving it in such exciting directions in film, television and the parks.",
          "I saw someone say the tacit social media ban on Star Wars spoilers is the closest we got to world peace in 2015. They're not wrong.",
          "I had a choice, I could either watch the Democratic debate or go see Star Wars,",
          "You got ta remember, Star Wars came from nowhere",
          "One of the complex challenges of depicting Leia in `Star Wars Rebels' is that we have to remind the audience that she is part of the Empire at this point,",
          "The truly impressive part of the box office performance of `Star Wars: The Force Awakens' is the speed at which it is crossing these box office milestones,",
          "`Star Wars: The Force Awakens' probably won't be able to hold off Kevin Hart and Ice Cube `s `Ride Along 2' from taking the No. 1 spot at the box office this weekend.",
          "Make another Star Wars movie that is exactly like the current Star Wars movie, which is exactly like the very first Star Wars movie. Why change? No one seems to notice, right?",
          "But the way the Episode VII galaxy is set up, there are opportunities for new archetypes almost, and the bad guy we're working with is going to feel fresh and cool.",
          "I want to clarify my interview on the Charlie Rose Show. It was for the Kennedy Center Honors and conducted prior to the premiere of the film. I misspoke and used a very inappropriate analogy and for that I apologize. I have been working with Disney for 40 years and chose them as the custodians of Star Wars because of my great respect for the company and Bob Iger's leadership. Disney is doing an incredible job of taking care of and expanding the franchise. I rarely go out with statements to clarify my feelings but I feel it is important to make it clear that I am thrilled that Disney has the franchise and is moving it in such exciting directions in film, television and the parks. Most of all I'm blown away with the record breaking blockbuster success of the new movie and am very proud of J.J. (Abrams) and Kathy (Kennedy).",
          "Sometimes it can feel like the Star Wars universe is so well trodden and so many stories have already been told,",
          "When I did Alex Cross, Morgan Freeman played Cross. He played God. How can you go back? I didn't even want to compare myself to any of that. I just wanted to do the best that I could in that situation. A lot of times I'll just do the best that I can, but for Ninja Turtles, like Star Trek or Star Wars, you've got to know what's going on there so I had to go back and do some research.",
          "Zayn Malik was liberated, The Warriors Patriots Royals and Blackhawks all celebrated. Adele dominated, Star Wars rejuvinated. Jared Fogle was and Bill Cosby may soon be incarcerated. Playboy Playmates eliminated, Rachel Dolezal perpetrated and we obsessed over that damned striped dress whose color fluctuated.",
          "This morning, I was greeted with news that our production company, Axanar Productions and I, personally, am being sued by CBS Studios, Inc. and Paramount Pictures Corporation for copyright infringement of Star Trek. First of all, I was disappointed to learn about this through an article in an industry trade. For several years, I've worked with a number of people at CBS on Star Trek-related projects, and I would have hoped those personal relationships would have warranted a phone call in advance of the filing of a legal complaint. Nevertheless, I know I speak for everyone at Axanar Productions when I say it is our hope that this can be worked out in a fair and amicable manner. Axanar is a fan film. Fan films-whether related to Star Trek, Star Wars, Harry Potter, Lord of the Rings, Power Rangers, Batman or any other franchise - are labors of love that keep fans engaged, entertained, and keep favorite characters alive in the hearts of fans. Like other current fan films, AXANAR entered production based on a very long history and relationship between fandom and studios. We're not doing anything new here. Like all fan films, AXANAR is a love letter to a beloved franchise. For nearly 50 years, Star Trek's devotees have been creating new Star Trek stories to share with fellow fans. That's all we're trying to do here.",
          "But you have to just cut it off and say, `End of ball game, I got ta move on' . Everything in your body says, `Don't, you can't' . These are my kids.... All the Star Wars films. I loved them, I created them.... I'm very intimately involved in them.... I sold them to the white slavers that take these things and...",
          "Intergalactic Finance: Valuing the Star Wars Franchise,",
          "These are my kids. All the Star Wars movies,",
          "and chose them as the custodians of Star Wars because of my great respect for the company and Bob Iger's leadership. I don't like that"
         ],
         "texttemplate": " ",
         "type": "bar",
         "x": [
          "2015-12-31T00:00:00",
          "2015-12-21T00:00:00",
          "2015-12-24T00:00:00",
          "2015-12-18T00:00:00",
          "2015-12-31T00:00:00",
          "2015-12-29T00:00:00",
          "2015-12-22T00:00:00",
          "2015-12-22T00:00:00",
          "2015-12-19T00:00:00",
          "2015-12-24T00:00:00",
          "2015-12-22T00:00:00",
          "2015-12-18T00:00:00",
          "2015-12-20T00:00:00",
          "2015-12-28T00:00:00",
          "2015-12-22T00:00:00",
          "2015-12-27T00:00:00",
          "2015-12-18T00:00:00",
          "2015-12-24T00:00:00",
          "2015-12-20T00:00:00",
          "2015-12-31T00:00:00",
          "2015-12-24T00:00:00",
          "2015-12-18T00:00:00",
          "2015-12-28T00:00:00",
          "2015-12-29T00:00:00",
          "2015-12-18T00:00:00",
          "2015-12-19T00:00:00",
          "2015-12-19T00:00:00",
          "2015-12-30T00:00:00",
          "2015-12-19T00:00:00",
          "2015-12-26T00:00:00",
          "2015-12-18T00:00:00",
          "2015-12-30T00:00:00",
          "2015-12-31T00:00:00",
          "2015-12-20T00:00:00",
          "2015-12-31T00:00:00",
          "2015-12-24T00:00:00",
          "2015-12-21T00:00:00",
          "2015-12-19T00:00:00",
          "2015-12-20T00:00:00",
          "2015-12-18T00:00:00",
          "2015-12-19T00:00:00",
          "2015-12-18T00:00:00",
          "2015-12-20T00:00:00",
          "2015-12-30T00:00:00",
          "2015-12-30T00:00:00",
          "2015-12-20T00:00:00",
          "2015-12-20T00:00:00",
          "2015-12-18T00:00:00",
          "2015-12-25T00:00:00",
          "2015-12-23T00:00:00",
          "2015-12-22T00:00:00",
          "2015-12-18T00:00:00",
          "2015-12-18T00:00:00",
          "2015-12-21T00:00:00",
          "2015-12-18T00:00:00",
          "2015-12-22T00:00:00",
          "2015-12-18T00:00:00",
          "2015-12-21T00:00:00",
          "2015-12-30T00:00:00",
          "2015-12-18T00:00:00",
          "2015-12-21T00:00:00",
          "2015-12-20T00:00:00",
          "2015-12-18T00:00:00",
          "2015-12-25T00:00:00",
          "2015-12-31T00:00:00",
          "2015-12-27T00:00:00",
          "2015-12-18T00:00:00",
          "2015-12-21T00:00:00",
          "2015-12-18T00:00:00",
          "2015-12-18T00:00:00",
          "2015-12-19T00:00:00",
          "2015-12-23T00:00:00",
          "2015-12-24T00:00:00",
          "2015-12-18T00:00:00",
          "2015-12-18T00:00:00",
          "2015-12-18T00:00:00",
          "2015-12-27T00:00:00",
          "2015-12-18T00:00:00",
          "2015-12-24T00:00:00",
          "2015-12-31T00:00:00",
          "2015-12-20T00:00:00",
          "2015-12-21T00:00:00",
          "2015-12-29T00:00:00",
          "2015-12-29T00:00:00",
          "2015-12-18T00:00:00",
          "2015-12-22T00:00:00",
          "2015-12-18T00:00:00",
          "2015-12-21T00:00:00",
          "2015-12-18T00:00:00",
          "2015-12-19T00:00:00",
          "2015-12-21T00:00:00",
          "2015-12-18T00:00:00",
          "2015-12-18T00:00:00",
          "2015-12-21T00:00:00",
          "2015-12-18T00:00:00",
          "2015-12-24T00:00:00",
          "2015-12-31T00:00:00",
          "2015-12-21T00:00:00",
          "2015-12-22T00:00:00",
          "2015-12-28T00:00:00",
          "2015-12-29T00:00:00",
          "2015-12-19T00:00:00",
          "2015-12-18T00:00:00",
          "2015-12-22T00:00:00",
          "2015-12-31T00:00:00",
          "2015-12-21T00:00:00",
          "2015-12-18T00:00:00",
          "2015-12-18T00:00:00",
          "2015-12-20T00:00:00",
          "2015-12-18T00:00:00",
          "2015-12-18T00:00:00",
          "2015-12-22T00:00:00",
          "2015-12-21T00:00:00",
          "2015-12-31T00:00:00",
          "2015-12-24T00:00:00",
          "2015-12-21T00:00:00",
          "2015-12-18T00:00:00",
          "2015-12-29T00:00:00",
          "2015-12-19T00:00:00",
          "2015-12-18T00:00:00",
          "2015-12-31T00:00:00",
          "2015-12-18T00:00:00",
          "2015-12-18T00:00:00",
          "2015-12-23T00:00:00",
          "2015-12-18T00:00:00",
          "2015-12-18T00:00:00",
          "2015-12-20T00:00:00",
          "2015-12-19T00:00:00",
          "2015-12-21T00:00:00",
          "2015-12-18T00:00:00",
          "2015-12-19T00:00:00",
          "2015-12-19T00:00:00",
          "2015-12-19T00:00:00",
          "2015-12-21T00:00:00",
          "2015-12-19T00:00:00",
          "2015-12-20T00:00:00",
          "2015-12-19T00:00:00",
          "2015-12-24T00:00:00",
          "2015-12-18T00:00:00",
          "2015-12-19T00:00:00",
          "2015-12-22T00:00:00",
          "2015-12-21T00:00:00",
          "2015-12-18T00:00:00",
          "2015-12-18T00:00:00",
          "2015-12-18T00:00:00",
          "2015-12-21T00:00:00",
          "2015-12-20T00:00:00",
          "2015-12-18T00:00:00",
          "2015-12-18T00:00:00",
          "2015-12-19T00:00:00",
          "2015-12-18T00:00:00",
          "2015-12-29T00:00:00",
          "2015-12-21T00:00:00",
          "2015-12-18T00:00:00",
          "2015-12-19T00:00:00",
          "2015-12-30T00:00:00",
          "2015-12-21T00:00:00",
          "2015-12-18T00:00:00",
          "2015-12-19T00:00:00",
          "2015-12-18T00:00:00",
          "2015-12-22T00:00:00",
          "2015-12-22T00:00:00",
          "2015-12-30T00:00:00",
          "2015-12-18T00:00:00",
          "2015-12-25T00:00:00",
          "2015-12-21T00:00:00",
          "2015-12-27T00:00:00",
          "2015-12-23T00:00:00",
          "2015-12-24T00:00:00",
          "2015-12-19T00:00:00",
          "2015-12-18T00:00:00",
          "2015-12-18T00:00:00",
          "2015-12-18T00:00:00",
          "2015-12-18T00:00:00",
          "2015-12-24T00:00:00",
          "2015-12-22T00:00:00",
          "2015-12-18T00:00:00",
          "2015-12-18T00:00:00",
          "2015-12-18T00:00:00",
          "2015-12-18T00:00:00",
          "2015-12-21T00:00:00",
          "2015-12-18T00:00:00",
          "2015-12-18T00:00:00",
          "2015-12-23T00:00:00",
          "2015-12-31T00:00:00",
          "2015-12-18T00:00:00",
          "2015-12-23T00:00:00",
          "2015-12-23T00:00:00",
          "2015-12-23T00:00:00",
          "2015-12-22T00:00:00",
          "2015-12-19T00:00:00",
          "2015-12-18T00:00:00",
          "2015-12-18T00:00:00",
          "2015-12-30T00:00:00",
          "2015-12-22T00:00:00",
          "2015-12-31T00:00:00",
          "2015-12-30T00:00:00",
          "2015-12-18T00:00:00",
          "2015-12-21T00:00:00",
          "2015-12-18T00:00:00",
          "2015-12-18T00:00:00",
          "2015-12-18T00:00:00",
          "2015-12-23T00:00:00",
          "2015-12-19T00:00:00",
          "2015-12-18T00:00:00",
          "2015-12-19T00:00:00",
          "2015-12-27T00:00:00",
          "2015-12-18T00:00:00",
          "2015-12-18T00:00:00",
          "2015-12-18T00:00:00",
          "2015-12-20T00:00:00",
          "2015-12-18T00:00:00",
          "2015-12-22T00:00:00",
          "2015-12-24T00:00:00",
          "2015-12-18T00:00:00",
          "2015-12-20T00:00:00",
          "2015-12-22T00:00:00",
          "2015-12-18T00:00:00",
          "2015-12-28T00:00:00",
          "2015-12-18T00:00:00",
          "2015-12-30T00:00:00",
          "2015-12-31T00:00:00",
          "2015-12-18T00:00:00",
          "2015-12-18T00:00:00",
          "2015-12-29T00:00:00",
          "2015-12-18T00:00:00",
          "2015-12-31T00:00:00",
          "2015-12-31T00:00:00",
          "2015-12-30T00:00:00",
          "2015-12-20T00:00:00",
          "2015-12-18T00:00:00",
          "2015-12-20T00:00:00",
          "2015-12-21T00:00:00",
          "2015-12-22T00:00:00",
          "2015-12-20T00:00:00",
          "2015-12-19T00:00:00",
          "2015-12-22T00:00:00",
          "2015-12-18T00:00:00",
          "2015-12-18T00:00:00",
          "2015-12-27T00:00:00",
          "2015-12-23T00:00:00",
          "2015-12-22T00:00:00",
          "2015-12-30T00:00:00",
          "2015-12-20T00:00:00",
          "2015-12-31T00:00:00",
          "2015-12-20T00:00:00",
          "2015-12-24T00:00:00",
          "2015-12-18T00:00:00",
          "2015-12-18T00:00:00",
          "2015-12-18T00:00:00",
          "2015-12-27T00:00:00",
          "2015-12-30T00:00:00",
          "2015-12-30T00:00:00",
          "2015-12-23T00:00:00",
          "2015-12-19T00:00:00",
          "2015-12-18T00:00:00",
          "2015-12-21T00:00:00",
          "2015-12-30T00:00:00",
          "2015-12-22T00:00:00",
          "2015-12-30T00:00:00",
          "2015-12-18T00:00:00",
          "2015-12-27T00:00:00",
          "2015-12-18T00:00:00",
          "2015-12-19T00:00:00",
          "2015-12-22T00:00:00",
          "2015-12-18T00:00:00",
          "2015-12-22T00:00:00",
          "2015-12-20T00:00:00",
          "2015-12-24T00:00:00",
          "2015-12-20T00:00:00",
          "2015-12-18T00:00:00",
          "2015-12-22T00:00:00",
          "2015-12-28T00:00:00",
          "2015-12-18T00:00:00",
          "2015-12-20T00:00:00",
          "2015-12-27T00:00:00",
          "2015-12-23T00:00:00",
          "2015-12-31T00:00:00",
          "2015-12-18T00:00:00",
          "2015-12-18T00:00:00",
          "2015-12-18T00:00:00",
          "2015-12-21T00:00:00",
          "2015-12-21T00:00:00",
          "2015-12-27T00:00:00",
          "2015-12-20T00:00:00",
          "2015-12-18T00:00:00",
          "2015-12-18T00:00:00",
          "2015-12-31T00:00:00",
          "2015-12-23T00:00:00",
          "2015-12-28T00:00:00",
          "2015-12-22T00:00:00",
          "2015-12-18T00:00:00",
          "2015-12-18T00:00:00",
          "2015-12-18T00:00:00",
          "2015-12-18T00:00:00",
          "2015-12-19T00:00:00",
          "2015-12-18T00:00:00",
          "2015-12-22T00:00:00",
          "2015-12-23T00:00:00",
          "2015-12-22T00:00:00",
          "2015-12-25T00:00:00",
          "2015-12-21T00:00:00",
          "2015-12-22T00:00:00",
          "2015-12-22T00:00:00",
          "2015-12-31T00:00:00",
          "2015-12-21T00:00:00",
          "2015-12-18T00:00:00",
          "2015-12-18T00:00:00",
          "2015-12-18T00:00:00",
          "2015-12-22T00:00:00",
          "2015-12-18T00:00:00",
          "2015-12-19T00:00:00",
          "2015-12-18T00:00:00",
          "2015-12-18T00:00:00",
          "2015-12-18T00:00:00",
          "2015-12-24T00:00:00",
          "2015-12-18T00:00:00",
          "2015-12-22T00:00:00",
          "2015-12-21T00:00:00",
          "2015-12-20T00:00:00",
          "2015-12-22T00:00:00",
          "2015-12-23T00:00:00",
          "2015-12-25T00:00:00",
          "2015-12-18T00:00:00",
          "2015-12-20T00:00:00",
          "2015-12-23T00:00:00",
          "2015-12-21T00:00:00",
          "2015-12-30T00:00:00",
          "2015-12-20T00:00:00",
          "2015-12-22T00:00:00",
          "2015-12-18T00:00:00",
          "2015-12-24T00:00:00",
          "2015-12-21T00:00:00",
          "2015-12-20T00:00:00",
          "2015-12-27T00:00:00",
          "2015-12-24T00:00:00",
          "2015-12-18T00:00:00",
          "2015-12-21T00:00:00",
          "2015-12-20T00:00:00",
          "2015-12-28T00:00:00",
          "2015-12-18T00:00:00",
          "2015-12-31T00:00:00",
          "2015-12-18T00:00:00",
          "2015-12-22T00:00:00",
          "2015-12-18T00:00:00",
          "2015-12-26T00:00:00",
          "2015-12-19T00:00:00",
          "2015-12-21T00:00:00",
          "2015-12-22T00:00:00",
          "2015-12-18T00:00:00",
          "2015-12-20T00:00:00",
          "2015-12-22T00:00:00",
          "2015-12-30T00:00:00",
          "2015-12-22T00:00:00",
          "2015-12-20T00:00:00",
          "2015-12-19T00:00:00",
          "2015-12-31T00:00:00",
          "2015-12-21T00:00:00",
          "2015-12-30T00:00:00",
          "2015-12-18T00:00:00",
          "2015-12-22T00:00:00",
          "2015-12-18T00:00:00",
          "2015-12-18T00:00:00",
          "2015-12-20T00:00:00",
          "2015-12-27T00:00:00",
          "2015-12-31T00:00:00",
          "2015-12-18T00:00:00",
          "2015-12-21T00:00:00",
          "2015-12-21T00:00:00",
          "2015-12-31T00:00:00",
          "2015-12-18T00:00:00",
          "2015-12-23T00:00:00",
          "2015-12-30T00:00:00",
          "2015-12-31T00:00:00",
          "2015-12-18T00:00:00",
          "2015-12-18T00:00:00",
          "2015-12-18T00:00:00",
          "2015-12-18T00:00:00",
          "2015-12-22T00:00:00",
          "2015-12-29T00:00:00",
          "2015-12-24T00:00:00",
          "2015-12-30T00:00:00",
          "2015-12-23T00:00:00",
          "2015-12-22T00:00:00",
          "2015-12-24T00:00:00",
          "2015-12-30T00:00:00",
          "2015-12-19T00:00:00",
          "2015-12-21T00:00:00",
          "2015-12-18T00:00:00",
          "2015-12-23T00:00:00",
          "2015-12-23T00:00:00",
          "2015-12-19T00:00:00",
          "2015-12-18T00:00:00",
          "2015-12-22T00:00:00",
          "2015-12-19T00:00:00",
          "2015-12-24T00:00:00",
          "2015-12-30T00:00:00",
          "2015-12-20T00:00:00",
          "2015-12-19T00:00:00",
          "2015-12-30T00:00:00",
          "2015-12-21T00:00:00",
          "2015-12-18T00:00:00",
          "2015-12-22T00:00:00",
          "2015-12-18T00:00:00",
          "2015-12-21T00:00:00",
          "2015-12-19T00:00:00",
          "2015-12-29T00:00:00",
          "2015-12-18T00:00:00",
          "2015-12-20T00:00:00",
          "2015-12-24T00:00:00",
          "2015-12-18T00:00:00",
          "2015-12-31T00:00:00",
          "2015-12-22T00:00:00",
          "2015-12-21T00:00:00",
          "2015-12-31T00:00:00",
          "2015-12-18T00:00:00",
          "2015-12-21T00:00:00",
          "2015-12-30T00:00:00",
          "2015-12-21T00:00:00",
          "2015-12-31T00:00:00",
          "2015-12-30T00:00:00",
          "2015-12-18T00:00:00",
          "2015-12-23T00:00:00",
          "2015-12-25T00:00:00",
          "2015-12-21T00:00:00",
          "2015-12-29T00:00:00",
          "2015-12-19T00:00:00",
          "2015-12-25T00:00:00",
          "2015-12-29T00:00:00",
          "2015-12-21T00:00:00",
          "2015-12-31T00:00:00",
          "2015-12-27T00:00:00",
          "2015-12-22T00:00:00",
          "2015-12-19T00:00:00",
          "2015-12-18T00:00:00",
          "2015-12-19T00:00:00",
          "2015-12-18T00:00:00",
          "2015-12-18T00:00:00",
          "2015-12-18T00:00:00",
          "2015-12-18T00:00:00",
          "2015-12-19T00:00:00",
          "2015-12-21T00:00:00",
          "2015-12-21T00:00:00",
          "2015-12-22T00:00:00",
          "2015-12-29T00:00:00",
          "2015-12-31T00:00:00",
          "2015-12-29T00:00:00",
          "2015-12-18T00:00:00",
          "2015-12-30T00:00:00",
          "2015-12-31T00:00:00",
          "2015-12-22T00:00:00",
          "2015-12-24T00:00:00",
          "2015-12-18T00:00:00",
          "2015-12-24T00:00:00",
          "2015-12-18T00:00:00",
          "2015-12-26T00:00:00",
          "2015-12-18T00:00:00",
          "2015-12-18T00:00:00",
          "2015-12-30T00:00:00",
          "2015-12-18T00:00:00",
          "2015-12-18T00:00:00",
          "2015-12-31T00:00:00",
          "2015-12-23T00:00:00",
          "2015-12-28T00:00:00",
          "2015-12-18T00:00:00",
          "2015-12-23T00:00:00",
          "2015-12-18T00:00:00",
          "2015-12-20T00:00:00",
          "2015-12-18T00:00:00",
          "2015-12-21T00:00:00",
          "2015-12-23T00:00:00",
          "2015-12-21T00:00:00",
          "2015-12-18T00:00:00",
          "2015-12-28T00:00:00",
          "2015-12-18T00:00:00",
          "2015-12-30T00:00:00",
          "2015-12-22T00:00:00",
          "2015-12-24T00:00:00",
          "2015-12-28T00:00:00",
          "2015-12-23T00:00:00",
          "2015-12-31T00:00:00",
          "2015-12-21T00:00:00",
          "2015-12-31T00:00:00",
          "2015-12-28T00:00:00",
          "2015-12-23T00:00:00",
          "2015-12-21T00:00:00",
          "2015-12-27T00:00:00",
          "2015-12-18T00:00:00",
          "2015-12-19T00:00:00",
          "2015-12-20T00:00:00",
          "2015-12-18T00:00:00",
          "2015-12-22T00:00:00",
          "2015-12-22T00:00:00",
          "2015-12-21T00:00:00",
          "2015-12-19T00:00:00",
          "2015-12-18T00:00:00",
          "2015-12-18T00:00:00",
          "2015-12-25T00:00:00",
          "2015-12-18T00:00:00",
          "2015-12-25T00:00:00",
          "2015-12-23T00:00:00",
          "2015-12-19T00:00:00",
          "2015-12-31T00:00:00",
          "2015-12-18T00:00:00",
          "2015-12-31T00:00:00",
          "2015-12-18T00:00:00",
          "2015-12-18T00:00:00",
          "2015-12-21T00:00:00",
          "2015-12-22T00:00:00",
          "2015-12-22T00:00:00",
          "2015-12-22T00:00:00",
          "2015-12-18T00:00:00",
          "2015-12-29T00:00:00",
          "2015-12-21T00:00:00",
          "2015-12-22T00:00:00",
          "2015-12-18T00:00:00",
          "2015-12-22T00:00:00",
          "2015-12-18T00:00:00",
          "2015-12-31T00:00:00",
          "2015-12-18T00:00:00",
          "2015-12-22T00:00:00",
          "2015-12-18T00:00:00",
          "2015-12-23T00:00:00",
          "2015-12-31T00:00:00",
          "2015-12-30T00:00:00",
          "2015-12-30T00:00:00",
          "2015-12-27T00:00:00",
          "2015-12-23T00:00:00",
          "2015-12-21T00:00:00",
          "2015-12-18T00:00:00",
          "2015-12-22T00:00:00",
          "2015-12-27T00:00:00",
          "2015-12-19T00:00:00",
          "2015-12-18T00:00:00",
          "2015-12-31T00:00:00",
          "2015-12-29T00:00:00",
          "2015-12-21T00:00:00",
          "2015-12-21T00:00:00",
          "2015-12-18T00:00:00",
          "2015-12-21T00:00:00",
          "2015-12-30T00:00:00",
          "2015-12-29T00:00:00",
          "2015-12-19T00:00:00",
          "2015-12-18T00:00:00",
          "2015-12-18T00:00:00",
          "2015-12-22T00:00:00",
          "2015-12-29T00:00:00",
          "2015-12-21T00:00:00",
          "2015-12-18T00:00:00",
          "2015-12-29T00:00:00",
          "2015-12-21T00:00:00",
          "2015-12-20T00:00:00",
          "2015-12-21T00:00:00",
          "2015-12-19T00:00:00",
          "2015-12-19T00:00:00",
          "2015-12-21T00:00:00",
          "2015-12-18T00:00:00",
          "2015-12-18T00:00:00",
          "2015-12-21T00:00:00",
          "2015-12-18T00:00:00",
          "2015-12-18T00:00:00",
          "2015-12-18T00:00:00",
          "2015-12-18T00:00:00",
          "2015-12-20T00:00:00",
          "2015-12-18T00:00:00",
          "2015-12-18T00:00:00",
          "2015-12-22T00:00:00",
          "2015-12-30T00:00:00",
          "2015-12-26T00:00:00",
          "2015-12-23T00:00:00",
          "2015-12-31T00:00:00",
          "2015-12-23T00:00:00",
          "2015-12-20T00:00:00",
          "2015-12-18T00:00:00",
          "2015-12-21T00:00:00",
          "2015-12-21T00:00:00",
          "2015-12-31T00:00:00",
          "2015-12-18T00:00:00",
          "2015-12-18T00:00:00",
          "2015-12-18T00:00:00",
          "2015-12-31T00:00:00",
          "2015-12-23T00:00:00",
          "2015-12-18T00:00:00",
          "2015-12-21T00:00:00",
          "2015-12-22T00:00:00",
          "2015-12-30T00:00:00",
          "2015-12-23T00:00:00",
          "2015-12-19T00:00:00",
          "2015-12-24T00:00:00",
          "2015-12-21T00:00:00",
          "2015-12-19T00:00:00",
          "2015-12-21T00:00:00",
          "2015-12-29T00:00:00",
          "2015-12-18T00:00:00",
          "2015-12-25T00:00:00",
          "2015-12-22T00:00:00",
          "2015-12-27T00:00:00",
          "2015-12-19T00:00:00",
          "2015-12-20T00:00:00",
          "2015-12-22T00:00:00",
          "2015-12-22T00:00:00",
          "2015-12-20T00:00:00",
          "2015-12-21T00:00:00",
          "2015-12-19T00:00:00",
          "2015-12-18T00:00:00",
          "2015-12-20T00:00:00",
          "2015-12-23T00:00:00",
          "2015-12-22T00:00:00",
          "2015-12-18T00:00:00",
          "2015-12-31T00:00:00",
          "2015-12-21T00:00:00",
          "2015-12-24T00:00:00",
          "2015-12-18T00:00:00",
          "2015-12-21T00:00:00",
          "2015-12-24T00:00:00",
          "2015-12-18T00:00:00",
          "2015-12-26T00:00:00",
          "2015-12-24T00:00:00",
          "2015-12-31T00:00:00",
          "2015-12-19T00:00:00",
          "2015-12-21T00:00:00",
          "2015-12-22T00:00:00",
          "2015-12-23T00:00:00",
          "2015-12-18T00:00:00",
          "2015-12-22T00:00:00",
          "2015-12-18T00:00:00",
          "2015-12-27T00:00:00",
          "2015-12-22T00:00:00",
          "2015-12-18T00:00:00",
          "2015-12-18T00:00:00",
          "2015-12-21T00:00:00",
          "2015-12-30T00:00:00",
          "2015-12-23T00:00:00",
          "2015-12-20T00:00:00",
          "2015-12-27T00:00:00",
          "2015-12-19T00:00:00",
          "2015-12-23T00:00:00",
          "2015-12-21T00:00:00",
          "2015-12-28T00:00:00",
          "2015-12-23T00:00:00",
          "2015-12-28T00:00:00",
          "2015-12-18T00:00:00",
          "2015-12-23T00:00:00",
          "2015-12-31T00:00:00",
          "2015-12-24T00:00:00",
          "2015-12-24T00:00:00",
          "2015-12-19T00:00:00",
          "2015-12-18T00:00:00",
          "2015-12-18T00:00:00",
          "2015-12-23T00:00:00",
          "2015-12-19T00:00:00",
          "2015-12-22T00:00:00",
          "2015-12-20T00:00:00",
          "2015-12-22T00:00:00",
          "2015-12-18T00:00:00",
          "2015-12-31T00:00:00",
          "2015-12-18T00:00:00",
          "2015-12-31T00:00:00",
          "2015-12-31T00:00:00",
          "2015-12-24T00:00:00",
          "2015-12-23T00:00:00",
          "2015-12-23T00:00:00",
          "2015-12-18T00:00:00",
          "2015-12-21T00:00:00",
          "2015-12-18T00:00:00",
          "2015-12-22T00:00:00",
          "2015-12-22T00:00:00",
          "2015-12-18T00:00:00",
          "2015-12-18T00:00:00",
          "2015-12-22T00:00:00",
          "2015-12-21T00:00:00",
          "2015-12-21T00:00:00",
          "2015-12-18T00:00:00",
          "2015-12-22T00:00:00",
          "2015-12-18T00:00:00",
          "2015-12-20T00:00:00",
          "2015-12-21T00:00:00",
          "2015-12-18T00:00:00",
          "2015-12-18T00:00:00",
          "2015-12-28T00:00:00",
          "2015-12-21T00:00:00",
          "2015-12-20T00:00:00",
          "2015-12-29T00:00:00",
          "2015-12-19T00:00:00",
          "2015-12-21T00:00:00",
          "2015-12-31T00:00:00",
          "2015-12-23T00:00:00",
          "2015-12-18T00:00:00",
          "2015-12-19T00:00:00",
          "2015-12-22T00:00:00",
          "2015-12-18T00:00:00",
          "2015-12-21T00:00:00",
          "2015-12-21T00:00:00",
          "2015-12-18T00:00:00",
          "2015-12-31T00:00:00",
          "2015-12-27T00:00:00",
          "2015-12-23T00:00:00",
          "2015-12-22T00:00:00",
          "2015-12-21T00:00:00",
          "2015-12-21T00:00:00",
          "2015-12-20T00:00:00",
          "2015-12-25T00:00:00",
          "2015-12-22T00:00:00",
          "2015-12-18T00:00:00",
          "2015-12-22T00:00:00",
          "2015-12-29T00:00:00",
          "2015-12-24T00:00:00",
          "2015-12-30T00:00:00",
          "2015-12-18T00:00:00",
          "2015-12-18T00:00:00",
          "2015-12-18T00:00:00",
          "2015-12-18T00:00:00",
          "2015-12-25T00:00:00",
          "2015-12-18T00:00:00",
          "2015-12-28T00:00:00",
          "2015-12-21T00:00:00",
          "2015-12-21T00:00:00",
          "2015-12-21T00:00:00",
          "2015-12-22T00:00:00",
          "2015-12-23T00:00:00",
          "2015-12-29T00:00:00",
          "2015-12-19T00:00:00",
          "2015-12-19T00:00:00",
          "2015-12-18T00:00:00",
          "2015-12-19T00:00:00",
          "2015-12-18T00:00:00",
          "2015-12-18T00:00:00",
          "2015-12-18T00:00:00",
          "2015-12-29T00:00:00",
          "2015-12-19T00:00:00",
          "2015-12-30T00:00:00",
          "2015-12-18T00:00:00",
          "2015-12-23T00:00:00",
          "2015-12-19T00:00:00",
          "2015-12-23T00:00:00",
          "2015-12-18T00:00:00",
          "2015-12-18T00:00:00",
          "2015-12-18T00:00:00",
          "2015-12-26T00:00:00",
          "2015-12-19T00:00:00",
          "2015-12-18T00:00:00",
          "2015-12-31T00:00:00",
          "2015-12-23T00:00:00",
          "2015-12-24T00:00:00",
          "2015-12-18T00:00:00",
          "2015-12-20T00:00:00",
          "2015-12-18T00:00:00",
          "2015-12-21T00:00:00",
          "2015-12-18T00:00:00",
          "2015-12-23T00:00:00",
          "2015-12-18T00:00:00",
          "2015-12-18T00:00:00",
          "2015-12-30T00:00:00",
          "2015-12-18T00:00:00",
          "2015-12-22T00:00:00",
          "2015-12-19T00:00:00",
          "2015-12-21T00:00:00",
          "2015-12-19T00:00:00",
          "2015-12-18T00:00:00",
          "2015-12-25T00:00:00",
          "2015-12-19T00:00:00",
          "2015-12-19T00:00:00",
          "2015-12-19T00:00:00",
          "2015-12-18T00:00:00",
          "2015-12-22T00:00:00",
          "2015-12-18T00:00:00",
          "2015-12-22T00:00:00",
          "2015-12-27T00:00:00",
          "2015-12-18T00:00:00",
          "2015-12-18T00:00:00",
          "2015-12-30T00:00:00",
          "2015-12-22T00:00:00",
          "2015-12-21T00:00:00",
          "2015-12-23T00:00:00",
          "2015-12-18T00:00:00",
          "2015-12-18T00:00:00",
          "2015-12-21T00:00:00",
          "2015-12-22T00:00:00",
          "2015-12-18T00:00:00",
          "2015-12-19T00:00:00",
          "2015-12-18T00:00:00",
          "2015-12-20T00:00:00",
          "2015-12-21T00:00:00",
          "2015-12-20T00:00:00",
          "2015-12-21T00:00:00",
          "2015-12-21T00:00:00",
          "2015-12-19T00:00:00",
          "2016-01-14T00:00:00",
          "2016-01-12T00:00:00",
          "2016-01-13T00:00:00",
          "2016-01-01T00:00:00",
          "2016-01-07T00:00:00",
          "2016-01-01T00:00:00",
          "2016-01-13T00:00:00",
          "2016-01-01T00:00:00",
          "2016-01-11T00:00:00",
          "2016-01-01T00:00:00",
          "2016-01-01T00:00:00",
          "2016-01-01T00:00:00",
          "2016-01-01T00:00:00",
          "2016-01-01T00:00:00",
          "2016-01-01T00:00:00",
          "2016-01-01T00:00:00",
          "2016-01-11T00:00:00",
          "2016-01-06T00:00:00",
          "2016-01-15T00:00:00",
          "2016-01-01T00:00:00",
          "2016-01-14T00:00:00",
          "2016-01-01T00:00:00",
          "2016-01-14T00:00:00",
          "2016-01-17T00:00:00",
          "2016-01-01T00:00:00",
          "2016-01-01T00:00:00",
          "2016-01-01T00:00:00",
          "2016-01-01T00:00:00",
          "2016-01-01T00:00:00",
          "2016-01-01T00:00:00"
         ],
         "xaxis": "x2",
         "y": [
          7,
          1,
          1,
          1,
          1,
          4,
          1,
          1,
          2,
          3,
          1,
          2,
          2,
          1,
          1,
          1,
          1,
          1,
          1,
          16,
          1,
          7,
          4,
          1,
          1,
          9,
          1,
          3,
          2,
          11,
          1,
          1,
          1,
          3,
          3,
          1,
          1,
          1,
          1,
          3,
          2,
          1,
          1,
          3,
          2,
          1,
          1,
          5,
          3,
          1,
          1,
          1,
          1,
          1,
          2,
          1,
          1,
          1,
          2,
          1,
          1,
          1,
          1,
          1,
          1,
          3,
          1,
          1,
          2,
          6,
          1,
          1,
          1,
          2,
          1,
          1,
          1,
          1,
          1,
          1,
          3,
          1,
          1,
          1,
          2,
          5,
          3,
          1,
          1,
          1,
          1,
          3,
          2,
          2,
          3,
          4,
          1,
          1,
          2,
          1,
          1,
          1,
          3,
          2,
          2,
          2,
          1,
          1,
          3,
          1,
          1,
          2,
          1,
          1,
          3,
          1,
          1,
          6,
          1,
          3,
          1,
          1,
          1,
          3,
          1,
          1,
          6,
          1,
          2,
          2,
          1,
          1,
          1,
          4,
          1,
          3,
          11,
          2,
          4,
          1,
          1,
          3,
          1,
          1,
          1,
          3,
          1,
          1,
          3,
          1,
          2,
          1,
          1,
          1,
          1,
          1,
          1,
          1,
          1,
          1,
          2,
          2,
          10,
          1,
          1,
          1,
          2,
          1,
          1,
          3,
          1,
          8,
          1,
          1,
          1,
          1,
          1,
          2,
          1,
          1,
          2,
          2,
          12,
          1,
          1,
          1,
          1,
          1,
          8,
          5,
          1,
          1,
          1,
          1,
          1,
          1,
          2,
          1,
          2,
          1,
          1,
          1,
          2,
          2,
          5,
          1,
          1,
          1,
          1,
          1,
          1,
          1,
          1,
          4,
          3,
          2,
          9,
          2,
          1,
          1,
          2,
          3,
          2,
          1,
          1,
          1,
          11,
          3,
          1,
          1,
          1,
          2,
          1,
          1,
          3,
          1,
          1,
          1,
          2,
          1,
          1,
          1,
          1,
          1,
          2,
          1,
          1,
          2,
          1,
          1,
          2,
          1,
          1,
          1,
          3,
          2,
          10,
          1,
          2,
          1,
          16,
          1,
          3,
          1,
          1,
          1,
          5,
          1,
          1,
          2,
          1,
          1,
          2,
          1,
          1,
          2,
          1,
          7,
          2,
          9,
          4,
          1,
          2,
          2,
          1,
          1,
          5,
          2,
          1,
          4,
          1,
          2,
          4,
          2,
          2,
          2,
          5,
          6,
          1,
          5,
          1,
          1,
          1,
          1,
          1,
          1,
          1,
          1,
          1,
          1,
          2,
          2,
          5,
          1,
          1,
          1,
          2,
          1,
          3,
          2,
          2,
          1,
          1,
          6,
          1,
          2,
          1,
          1,
          2,
          1,
          2,
          1,
          2,
          1,
          4,
          1,
          1,
          1,
          1,
          2,
          1,
          2,
          1,
          1,
          3,
          1,
          1,
          3,
          2,
          1,
          2,
          1,
          1,
          2,
          6,
          11,
          1,
          4,
          6,
          1,
          3,
          2,
          9,
          1,
          1,
          2,
          2,
          1,
          1,
          8,
          1,
          1,
          1,
          2,
          3,
          12,
          2,
          6,
          2,
          4,
          1,
          2,
          1,
          1,
          1,
          1,
          1,
          1,
          1,
          1,
          11,
          4,
          2,
          1,
          1,
          1,
          2,
          1,
          1,
          1,
          1,
          1,
          2,
          2,
          1,
          3,
          1,
          1,
          1,
          5,
          4,
          1,
          1,
          1,
          1,
          2,
          3,
          1,
          1,
          2,
          2,
          3,
          1,
          1,
          1,
          1,
          2,
          1,
          2,
          1,
          1,
          2,
          1,
          1,
          6,
          1,
          1,
          1,
          1,
          1,
          7,
          2,
          1,
          1,
          1,
          2,
          10,
          1,
          1,
          1,
          1,
          1,
          3,
          5,
          1,
          2,
          1,
          1,
          1,
          1,
          1,
          1,
          1,
          2,
          1,
          7,
          1,
          1,
          9,
          1,
          2,
          1,
          3,
          1,
          11,
          2,
          1,
          1,
          2,
          1,
          1,
          1,
          1,
          1,
          1,
          2,
          2,
          1,
          1,
          1,
          1,
          1,
          1,
          2,
          1,
          1,
          2,
          1,
          5,
          1,
          1,
          1,
          5,
          1,
          1,
          5,
          3,
          4,
          1,
          1,
          1,
          1,
          1,
          1,
          4,
          2,
          1,
          1,
          1,
          1,
          1,
          1,
          1,
          4,
          5,
          2,
          1,
          1,
          1,
          1,
          1,
          1,
          2,
          1,
          12,
          1,
          1,
          1,
          1,
          1,
          2,
          1,
          1,
          4,
          2,
          1,
          5,
          1,
          1,
          14,
          1,
          1,
          1,
          3,
          6,
          1,
          1,
          1,
          1,
          8,
          3,
          8,
          6,
          1,
          2,
          1,
          1,
          1,
          1,
          1,
          2,
          2,
          4,
          1,
          1,
          1,
          2,
          1,
          1,
          1,
          1,
          2,
          5,
          1,
          1,
          6,
          2,
          1,
          1,
          2,
          1,
          3,
          2,
          1,
          2,
          1,
          1,
          2,
          2,
          2,
          3,
          1,
          1,
          1,
          3,
          4,
          1,
          1,
          1,
          2,
          1,
          2,
          1,
          1,
          1,
          1,
          3,
          1,
          1,
          1,
          2,
          1,
          1,
          1,
          2,
          8,
          1,
          1,
          1,
          1,
          1,
          2,
          5,
          1,
          1,
          1,
          1,
          1,
          2,
          1,
          4,
          3,
          1,
          1,
          2,
          1,
          1,
          2,
          1,
          1,
          3,
          1,
          2,
          1,
          1,
          1,
          9,
          2,
          3,
          1,
          4,
          1,
          1,
          4,
          1,
          1,
          1,
          1,
          1,
          1,
          2,
          1,
          3,
          1,
          3,
          1,
          1,
          1,
          2,
          1,
          1,
          2,
          2,
          1,
          2,
          2,
          1,
          3,
          1,
          1,
          1,
          1,
          1,
          1,
          1,
          2,
          1,
          3,
          3,
          1,
          5,
          1,
          1,
          1,
          1,
          1,
          1,
          1,
          1,
          2,
          1,
          1,
          1,
          1,
          1,
          1,
          17,
          2,
          1,
          1,
          2,
          1,
          1,
          1,
          1,
          1,
          1,
          1,
          3,
          1,
          2,
          1,
          2,
          1,
          11,
          1,
          1,
          3,
          1,
          1,
          5,
          6,
          1,
          2,
          1,
          2,
          2,
          1,
          2,
          1,
          1,
          2,
          4,
          2,
          1,
          4,
          2,
          1,
          3,
          1,
          1,
          2,
          1,
          1,
          1,
          1,
          1,
          2,
          13,
          3,
          12,
          3,
          1,
          10,
          1,
          1,
          1,
          1,
          1,
          1,
          4,
          2,
          1,
          2,
          4,
          1,
          2,
          1,
          1,
          1,
          2,
          1,
          3,
          1,
          5,
          1,
          1,
          1,
          3,
          8,
          1,
          4,
          1,
          1,
          1,
          1,
          1,
          1,
          1,
          1,
          1,
          1,
          1,
          4,
          1,
          1,
          1
         ],
         "yaxis": "y2"
        }
       ],
       "layout": {
        "template": {
         "data": {
          "bar": [
           {
            "error_x": {
             "color": "#2a3f5f"
            },
            "error_y": {
             "color": "#2a3f5f"
            },
            "marker": {
             "line": {
              "color": "#E5ECF6",
              "width": 0.5
             },
             "pattern": {
              "fillmode": "overlay",
              "size": 10,
              "solidity": 0.2
             }
            },
            "type": "bar"
           }
          ],
          "barpolar": [
           {
            "marker": {
             "line": {
              "color": "#E5ECF6",
              "width": 0.5
             },
             "pattern": {
              "fillmode": "overlay",
              "size": 10,
              "solidity": 0.2
             }
            },
            "type": "barpolar"
           }
          ],
          "carpet": [
           {
            "aaxis": {
             "endlinecolor": "#2a3f5f",
             "gridcolor": "white",
             "linecolor": "white",
             "minorgridcolor": "white",
             "startlinecolor": "#2a3f5f"
            },
            "baxis": {
             "endlinecolor": "#2a3f5f",
             "gridcolor": "white",
             "linecolor": "white",
             "minorgridcolor": "white",
             "startlinecolor": "#2a3f5f"
            },
            "type": "carpet"
           }
          ],
          "choropleth": [
           {
            "colorbar": {
             "outlinewidth": 0,
             "ticks": ""
            },
            "type": "choropleth"
           }
          ],
          "contour": [
           {
            "colorbar": {
             "outlinewidth": 0,
             "ticks": ""
            },
            "colorscale": [
             [
              0,
              "#0d0887"
             ],
             [
              0.1111111111111111,
              "#46039f"
             ],
             [
              0.2222222222222222,
              "#7201a8"
             ],
             [
              0.3333333333333333,
              "#9c179e"
             ],
             [
              0.4444444444444444,
              "#bd3786"
             ],
             [
              0.5555555555555556,
              "#d8576b"
             ],
             [
              0.6666666666666666,
              "#ed7953"
             ],
             [
              0.7777777777777778,
              "#fb9f3a"
             ],
             [
              0.8888888888888888,
              "#fdca26"
             ],
             [
              1,
              "#f0f921"
             ]
            ],
            "type": "contour"
           }
          ],
          "contourcarpet": [
           {
            "colorbar": {
             "outlinewidth": 0,
             "ticks": ""
            },
            "type": "contourcarpet"
           }
          ],
          "heatmap": [
           {
            "colorbar": {
             "outlinewidth": 0,
             "ticks": ""
            },
            "colorscale": [
             [
              0,
              "#0d0887"
             ],
             [
              0.1111111111111111,
              "#46039f"
             ],
             [
              0.2222222222222222,
              "#7201a8"
             ],
             [
              0.3333333333333333,
              "#9c179e"
             ],
             [
              0.4444444444444444,
              "#bd3786"
             ],
             [
              0.5555555555555556,
              "#d8576b"
             ],
             [
              0.6666666666666666,
              "#ed7953"
             ],
             [
              0.7777777777777778,
              "#fb9f3a"
             ],
             [
              0.8888888888888888,
              "#fdca26"
             ],
             [
              1,
              "#f0f921"
             ]
            ],
            "type": "heatmap"
           }
          ],
          "heatmapgl": [
           {
            "colorbar": {
             "outlinewidth": 0,
             "ticks": ""
            },
            "colorscale": [
             [
              0,
              "#0d0887"
             ],
             [
              0.1111111111111111,
              "#46039f"
             ],
             [
              0.2222222222222222,
              "#7201a8"
             ],
             [
              0.3333333333333333,
              "#9c179e"
             ],
             [
              0.4444444444444444,
              "#bd3786"
             ],
             [
              0.5555555555555556,
              "#d8576b"
             ],
             [
              0.6666666666666666,
              "#ed7953"
             ],
             [
              0.7777777777777778,
              "#fb9f3a"
             ],
             [
              0.8888888888888888,
              "#fdca26"
             ],
             [
              1,
              "#f0f921"
             ]
            ],
            "type": "heatmapgl"
           }
          ],
          "histogram": [
           {
            "marker": {
             "pattern": {
              "fillmode": "overlay",
              "size": 10,
              "solidity": 0.2
             }
            },
            "type": "histogram"
           }
          ],
          "histogram2d": [
           {
            "colorbar": {
             "outlinewidth": 0,
             "ticks": ""
            },
            "colorscale": [
             [
              0,
              "#0d0887"
             ],
             [
              0.1111111111111111,
              "#46039f"
             ],
             [
              0.2222222222222222,
              "#7201a8"
             ],
             [
              0.3333333333333333,
              "#9c179e"
             ],
             [
              0.4444444444444444,
              "#bd3786"
             ],
             [
              0.5555555555555556,
              "#d8576b"
             ],
             [
              0.6666666666666666,
              "#ed7953"
             ],
             [
              0.7777777777777778,
              "#fb9f3a"
             ],
             [
              0.8888888888888888,
              "#fdca26"
             ],
             [
              1,
              "#f0f921"
             ]
            ],
            "type": "histogram2d"
           }
          ],
          "histogram2dcontour": [
           {
            "colorbar": {
             "outlinewidth": 0,
             "ticks": ""
            },
            "colorscale": [
             [
              0,
              "#0d0887"
             ],
             [
              0.1111111111111111,
              "#46039f"
             ],
             [
              0.2222222222222222,
              "#7201a8"
             ],
             [
              0.3333333333333333,
              "#9c179e"
             ],
             [
              0.4444444444444444,
              "#bd3786"
             ],
             [
              0.5555555555555556,
              "#d8576b"
             ],
             [
              0.6666666666666666,
              "#ed7953"
             ],
             [
              0.7777777777777778,
              "#fb9f3a"
             ],
             [
              0.8888888888888888,
              "#fdca26"
             ],
             [
              1,
              "#f0f921"
             ]
            ],
            "type": "histogram2dcontour"
           }
          ],
          "mesh3d": [
           {
            "colorbar": {
             "outlinewidth": 0,
             "ticks": ""
            },
            "type": "mesh3d"
           }
          ],
          "parcoords": [
           {
            "line": {
             "colorbar": {
              "outlinewidth": 0,
              "ticks": ""
             }
            },
            "type": "parcoords"
           }
          ],
          "pie": [
           {
            "automargin": true,
            "type": "pie"
           }
          ],
          "scatter": [
           {
            "marker": {
             "colorbar": {
              "outlinewidth": 0,
              "ticks": ""
             }
            },
            "type": "scatter"
           }
          ],
          "scatter3d": [
           {
            "line": {
             "colorbar": {
              "outlinewidth": 0,
              "ticks": ""
             }
            },
            "marker": {
             "colorbar": {
              "outlinewidth": 0,
              "ticks": ""
             }
            },
            "type": "scatter3d"
           }
          ],
          "scattercarpet": [
           {
            "marker": {
             "colorbar": {
              "outlinewidth": 0,
              "ticks": ""
             }
            },
            "type": "scattercarpet"
           }
          ],
          "scattergeo": [
           {
            "marker": {
             "colorbar": {
              "outlinewidth": 0,
              "ticks": ""
             }
            },
            "type": "scattergeo"
           }
          ],
          "scattergl": [
           {
            "marker": {
             "colorbar": {
              "outlinewidth": 0,
              "ticks": ""
             }
            },
            "type": "scattergl"
           }
          ],
          "scattermapbox": [
           {
            "marker": {
             "colorbar": {
              "outlinewidth": 0,
              "ticks": ""
             }
            },
            "type": "scattermapbox"
           }
          ],
          "scatterpolar": [
           {
            "marker": {
             "colorbar": {
              "outlinewidth": 0,
              "ticks": ""
             }
            },
            "type": "scatterpolar"
           }
          ],
          "scatterpolargl": [
           {
            "marker": {
             "colorbar": {
              "outlinewidth": 0,
              "ticks": ""
             }
            },
            "type": "scatterpolargl"
           }
          ],
          "scatterternary": [
           {
            "marker": {
             "colorbar": {
              "outlinewidth": 0,
              "ticks": ""
             }
            },
            "type": "scatterternary"
           }
          ],
          "surface": [
           {
            "colorbar": {
             "outlinewidth": 0,
             "ticks": ""
            },
            "colorscale": [
             [
              0,
              "#0d0887"
             ],
             [
              0.1111111111111111,
              "#46039f"
             ],
             [
              0.2222222222222222,
              "#7201a8"
             ],
             [
              0.3333333333333333,
              "#9c179e"
             ],
             [
              0.4444444444444444,
              "#bd3786"
             ],
             [
              0.5555555555555556,
              "#d8576b"
             ],
             [
              0.6666666666666666,
              "#ed7953"
             ],
             [
              0.7777777777777778,
              "#fb9f3a"
             ],
             [
              0.8888888888888888,
              "#fdca26"
             ],
             [
              1,
              "#f0f921"
             ]
            ],
            "type": "surface"
           }
          ],
          "table": [
           {
            "cells": {
             "fill": {
              "color": "#EBF0F8"
             },
             "line": {
              "color": "white"
             }
            },
            "header": {
             "fill": {
              "color": "#C8D4E3"
             },
             "line": {
              "color": "white"
             }
            },
            "type": "table"
           }
          ]
         },
         "layout": {
          "annotationdefaults": {
           "arrowcolor": "#2a3f5f",
           "arrowhead": 0,
           "arrowwidth": 1
          },
          "autotypenumbers": "strict",
          "coloraxis": {
           "colorbar": {
            "outlinewidth": 0,
            "ticks": ""
           }
          },
          "colorscale": {
           "diverging": [
            [
             0,
             "#8e0152"
            ],
            [
             0.1,
             "#c51b7d"
            ],
            [
             0.2,
             "#de77ae"
            ],
            [
             0.3,
             "#f1b6da"
            ],
            [
             0.4,
             "#fde0ef"
            ],
            [
             0.5,
             "#f7f7f7"
            ],
            [
             0.6,
             "#e6f5d0"
            ],
            [
             0.7,
             "#b8e186"
            ],
            [
             0.8,
             "#7fbc41"
            ],
            [
             0.9,
             "#4d9221"
            ],
            [
             1,
             "#276419"
            ]
           ],
           "sequential": [
            [
             0,
             "#0d0887"
            ],
            [
             0.1111111111111111,
             "#46039f"
            ],
            [
             0.2222222222222222,
             "#7201a8"
            ],
            [
             0.3333333333333333,
             "#9c179e"
            ],
            [
             0.4444444444444444,
             "#bd3786"
            ],
            [
             0.5555555555555556,
             "#d8576b"
            ],
            [
             0.6666666666666666,
             "#ed7953"
            ],
            [
             0.7777777777777778,
             "#fb9f3a"
            ],
            [
             0.8888888888888888,
             "#fdca26"
            ],
            [
             1,
             "#f0f921"
            ]
           ],
           "sequentialminus": [
            [
             0,
             "#0d0887"
            ],
            [
             0.1111111111111111,
             "#46039f"
            ],
            [
             0.2222222222222222,
             "#7201a8"
            ],
            [
             0.3333333333333333,
             "#9c179e"
            ],
            [
             0.4444444444444444,
             "#bd3786"
            ],
            [
             0.5555555555555556,
             "#d8576b"
            ],
            [
             0.6666666666666666,
             "#ed7953"
            ],
            [
             0.7777777777777778,
             "#fb9f3a"
            ],
            [
             0.8888888888888888,
             "#fdca26"
            ],
            [
             1,
             "#f0f921"
            ]
           ]
          },
          "colorway": [
           "#636efa",
           "#EF553B",
           "#00cc96",
           "#ab63fa",
           "#FFA15A",
           "#19d3f3",
           "#FF6692",
           "#B6E880",
           "#FF97FF",
           "#FECB52"
          ],
          "font": {
           "color": "#2a3f5f"
          },
          "geo": {
           "bgcolor": "white",
           "lakecolor": "white",
           "landcolor": "#E5ECF6",
           "showlakes": true,
           "showland": true,
           "subunitcolor": "white"
          },
          "hoverlabel": {
           "align": "left"
          },
          "hovermode": "closest",
          "mapbox": {
           "style": "light"
          },
          "paper_bgcolor": "white",
          "plot_bgcolor": "#E5ECF6",
          "polar": {
           "angularaxis": {
            "gridcolor": "white",
            "linecolor": "white",
            "ticks": ""
           },
           "bgcolor": "#E5ECF6",
           "radialaxis": {
            "gridcolor": "white",
            "linecolor": "white",
            "ticks": ""
           }
          },
          "scene": {
           "xaxis": {
            "backgroundcolor": "#E5ECF6",
            "gridcolor": "white",
            "gridwidth": 2,
            "linecolor": "white",
            "showbackground": true,
            "ticks": "",
            "zerolinecolor": "white"
           },
           "yaxis": {
            "backgroundcolor": "#E5ECF6",
            "gridcolor": "white",
            "gridwidth": 2,
            "linecolor": "white",
            "showbackground": true,
            "ticks": "",
            "zerolinecolor": "white"
           },
           "zaxis": {
            "backgroundcolor": "#E5ECF6",
            "gridcolor": "white",
            "gridwidth": 2,
            "linecolor": "white",
            "showbackground": true,
            "ticks": "",
            "zerolinecolor": "white"
           }
          },
          "shapedefaults": {
           "line": {
            "color": "#2a3f5f"
           }
          },
          "ternary": {
           "aaxis": {
            "gridcolor": "white",
            "linecolor": "white",
            "ticks": ""
           },
           "baxis": {
            "gridcolor": "white",
            "linecolor": "white",
            "ticks": ""
           },
           "bgcolor": "#E5ECF6",
           "caxis": {
            "gridcolor": "white",
            "linecolor": "white",
            "ticks": ""
           }
          },
          "title": {
           "x": 0.05
          },
          "xaxis": {
           "automargin": true,
           "gridcolor": "white",
           "linecolor": "white",
           "ticks": "",
           "title": {
            "standoff": 15
           },
           "zerolinecolor": "white",
           "zerolinewidth": 2
          },
          "yaxis": {
           "automargin": true,
           "gridcolor": "white",
           "linecolor": "white",
           "ticks": "",
           "title": {
            "standoff": 15
           },
           "zerolinecolor": "white",
           "zerolinewidth": 2
          }
         }
        },
        "title": {
         "text": "Daily Box Office and Quotes for Star Wars: Episode VII - The Force Awakens"
        },
        "xaxis": {
         "anchor": "y",
         "domain": [
          0,
          1
         ],
         "matches": "x2",
         "showticklabels": false
        },
        "xaxis2": {
         "anchor": "y2",
         "domain": [
          0,
          1
         ]
        },
        "yaxis": {
         "anchor": "x",
         "domain": [
          0.51,
          1
         ]
        },
        "yaxis2": {
         "anchor": "x2",
         "domain": [
          0,
          0.49
         ]
        }
       }
      },
      "text/html": [
       "<div>                            <div id=\"c045ec2a-a545-4f76-b4e8-de882fceb443\" class=\"plotly-graph-div\" style=\"height:525px; width:100%;\"></div>            <script type=\"text/javascript\">                require([\"plotly\"], function(Plotly) {                    window.PLOTLYENV=window.PLOTLYENV || {};                                    if (document.getElementById(\"c045ec2a-a545-4f76-b4e8-de882fceb443\")) {                    Plotly.newPlot(                        \"c045ec2a-a545-4f76-b4e8-de882fceb443\",                        [{\"hovertemplate\":\"<b>%{text}</b><br><br>Date: %{x}<br>Made %{y}$ on this day<br><extra></extra>\",\"marker\":{\"color\":\"rgb(136, 204, 238)\"},\"name\":\"Box Office revenue\",\"text\":[\"Friday\",\"Saturday\",\"Sunday\",\"Monday\",\"Tuesday\",\"Wednesday\",\"Thursday\",\"Friday\",\"Saturday\",\"Sunday\",\"Monday\",\"Tuesday\",\"Wednesday\",\"Thursday\",\"Friday\",\"Saturday\",\"Sunday\",\"Monday\",\"Tuesday\",\"Wednesday\",\"Thursday\",\"Friday\",\"Saturday\",\"Sunday\",\"Monday\",\"Tuesday\",\"Wednesday\",\"Thursday\",\"Friday\",\"Saturday\",\"Sunday\",\"Monday\",\"Tuesday\",\"Wednesday\",\"Thursday\",\"Friday\",\"Saturday\",\"Sunday\",\"Monday\",\"Tuesday\",\"Wednesday\",\"Thursday\",\"Friday\",\"Saturday\",\"Sunday\",\"Monday\",\"Tuesday\",\"Wednesday\",\"Thursday\",\"Friday\",\"Saturday\",\"Sunday\",\"Monday\",\"Tuesday\",\"Wednesday\",\"Thursday\",\"Friday\",\"Saturday\",\"Sunday\",\"Monday\",\"Tuesday\",\"Wednesday\",\"Thursday\",\"Friday\",\"Saturday\",\"Sunday\",\"Monday\",\"Tuesday\",\"Wednesday\",\"Thursday\",\"Friday\",\"Saturday\",\"Sunday\",\"Monday\",\"Tuesday\",\"Wednesday\",\"Thursday\",\"Friday\",\"Saturday\",\"Sunday\",\"Monday\",\"Tuesday\",\"Wednesday\",\"Thursday\",\"Friday\",\"Saturday\",\"Sunday\",\"Monday\",\"Tuesday\",\"Wednesday\",\"Thursday\",\"Friday\",\"Saturday\",\"Sunday\",\"Monday\",\"Tuesday\",\"Wednesday\",\"Thursday\",\"Friday\",\"Saturday\",\"Sunday\",\"Monday\",\"Tuesday\",\"Wednesday\",\"Thursday\",\"Friday\",\"Saturday\",\"Sunday\",\"Monday\",\"Tuesday\",\"Wednesday\",\"Thursday\",\"Friday\",\"Saturday\",\"Sunday\",\"Monday\",\"Tuesday\",\"Wednesday\",\"Thursday\",\"Monday\"],\"x\":[\"2015-12-18\",\"2015-12-19\",\"2015-12-20\",\"2015-12-21\",\"2015-12-22\",\"2015-12-23\",\"2015-12-24\",\"2015-12-25\",\"2015-12-26\",\"2015-12-27\",\"2015-12-28\",\"2015-12-29\",\"2015-12-30\",\"2015-12-31\",\"2016-01-01\",\"2016-01-02\",\"2016-01-03\",\"2016-01-04\",\"2016-01-05\",\"2016-01-06\",\"2016-01-07\",\"2016-01-08\",\"2016-01-09\",\"2016-01-10\",\"2016-01-11\",\"2016-01-12\",\"2016-01-13\",\"2016-01-14\",\"2016-01-15\",\"2016-01-16\",\"2016-01-17\",\"2016-01-18\",\"2016-01-19\",\"2016-01-20\",\"2016-01-21\",\"2016-01-22\",\"2016-01-23\",\"2016-01-24\",\"2016-01-25\",\"2016-01-26\",\"2016-01-27\",\"2016-01-28\",\"2016-01-29\",\"2016-01-30\",\"2016-01-31\",\"2016-02-01\",\"2016-02-02\",\"2016-02-03\",\"2016-02-04\",\"2016-02-05\",\"2016-02-06\",\"2016-02-07\",\"2016-02-08\",\"2016-02-09\",\"2016-02-10\",\"2016-02-11\",\"2016-02-12\",\"2016-02-13\",\"2016-02-14\",\"2016-02-15\",\"2016-02-16\",\"2016-02-17\",\"2016-02-18\",\"2016-02-19\",\"2016-02-20\",\"2016-02-21\",\"2016-02-22\",\"2016-02-23\",\"2016-02-24\",\"2016-02-25\",\"2016-02-26\",\"2016-02-27\",\"2016-02-28\",\"2016-02-29\",\"2016-03-01\",\"2016-03-02\",\"2016-03-03\",\"2016-03-04\",\"2016-03-05\",\"2016-03-06\",\"2016-03-07\",\"2016-03-08\",\"2016-03-09\",\"2016-03-10\",\"2016-03-11\",\"2016-03-12\",\"2016-03-13\",\"2016-03-14\",\"2016-03-15\",\"2016-03-16\",\"2016-03-17\",\"2016-03-18\",\"2016-03-19\",\"2016-03-20\",\"2016-03-21\",\"2016-03-22\",\"2016-03-23\",\"2016-03-24\",\"2016-03-25\",\"2016-03-26\",\"2016-03-27\",\"2016-03-28\",\"2016-03-29\",\"2016-03-30\",\"2016-03-31\",\"2016-04-01\",\"2016-04-02\",\"2016-04-03\",\"2016-04-04\",\"2016-04-05\",\"2016-04-06\",\"2016-04-07\",\"2016-04-08\",\"2016-04-09\",\"2016-04-10\",\"2016-04-11\",\"2016-04-12\",\"2016-04-13\",\"2016-04-14\",\"2016-05-30\"],\"y\":[119119282.0,68294204.0,60553189.0,40109742.0,37361729.0,38022183.0,27395725.0,49325663.0,56731532.0,43145665.0,31362029.0,29528583.0,28085057.0,22932686.0,34394152.0,34368250.0,21479271.0,8021882.0,7967428.0,6210432.0,5972359.0,10744380.0,19204072.0,12405333.0,3108701.0,3844408.0,3114937.0,3129967.0,6328954.0,11028514.0],\"type\":\"bar\",\"xaxis\":\"x\",\"yaxis\":\"y\",\"texttemplate\":\" \"},{\"hovertemplate\":\"<b>%{text}</b><br><br>Date: %{x}<br>Occured in %{y} article(s)<br><extra></extra>\",\"marker\":{\"color\":\"rgb(204, 102, 119)\"},\"name\":\"Quotes\",\"text\":[\"I want to clarify my interview on the `Charlie Rose Show.' It was for the Kennedy Center Honors and conducted prior to the premiere of the film. I misspoke and used a very inappropriate analogy and for that I apologize. I have been working with Disney for 40 years and chose them as the custodians of Star Wars because of my great respect for the company and Bob Iger's leadership. Disney is doing an incredible job of taking care of and expanding the franchise. I rarely go out with statements to clarify my feelings but I feel it is important to make it clear that I am thrilled that Disney has the franchise and is moving it in such exciting directions in film, television and the parks. Most of all I'm blown away with the record breaking blockbuster success of the new movie and am very proud of JJ and Kathy.\",\"They were saying, `Well, since when has Star Wars been just for the boys? '\",\"When it became clear what this story was and where `Episode VIII' and `Episode IX' would go, the end of this movie was very much intended to be a cliffhanger.\",\"It's the third one, and I think that's pushing it a bit too far. The plot was unfolding rather well, and I think it was a bit unnecessary. In Star Wars, and Return Of The Jedi, it was a tidy way to end things, with the David And Goliath-style battle, and they've done that again. That was the only thing that stuck in my throat.\",\"When I started to go into Star Wars, [ my friends ] said, `Why are you making a children's film? '\",\"But they are unlikely to match the might of the core Star Wars films at the box office.\",\"Dilwale overseas: Gulf -- biggest-ever opening for a Bollywood film, and the number one film this weekend, higher than Star Wars: The Force Awakens and other films,\",\"Star Wars movies are meant to be a couple of hours of diversion from reality, and we need that. They are optimistic and hopeful stories. But in comparison to what we can do with this [ the hospital ], last night [ the Star Wars premiere ] is very trivial.\",\"We became friends and then we started dating and he didn't freak out at the action figures that I had on my wall. So he sort of knew from the get-go that he was going to have to accept it that I love Star Wars and he became a fan,\",\"I am fan of `Star Wars' . I am excited about the film. I am keen to watch the film. All the best to the team. May the force be with you,\",\"That was really the beginning of the discussion. The answer was the kind of sense of discovery, exhilaration and surprise. The comedy that George Lucas put into Star Wars kind of was, for me, the thing that made me love the movie,\",\"I'm most excited because my dad took me to go see the original Star Wars movie back in 1977. It's the first memory I have,\",\"I made a promise to my friend that I wouldn't see Star Wars until I got home to L.A.. We're going to one of those theaters with the reclining chairs where you can order food. It's going to be a whole deal.\",\"Propelled and inspired all of the cast and crew of the original Star Wars trilogy.\",\"I mean, anything Star Wars has my vote, but the looks that Pat McGrath did and the products that came out of the collaboration are my favorite thing. The dark purple lipstick has a little bit of blue-hued shimmer and it's awesome.\",\"Finn is us. He doesn't have his path handed to him. He doesn't have his destiny spoken of in a distant prophecy. He is the everyman, and it's like, who would everybody really be in a Star Wars movie? People who say Luke Skywalker, they're lying.\",\"I'm hoping everybody cheers as the giant Star Wars opening title rolls on the screen,\",\"means that I can identify the Star Wars Millennium Falcon as the joy-maximizing gift.\",\"Apparently the franchise never got popular in China because the original Star Wars movie came out in 1977, back when Western media was suppressed in China,\",\"I have been working with Disney for 40 years and chose them as the custodians of `Star Wars' because of my great respect for the company and Bob Iger's leadership. Disney is doing an incredible job of taking care of and expanding the franchise.\",\"But in comparison to what we can do with this (the hospital), last night [ the premiere of Star Wars: The Force Awakens ] is very trivial.\",\"I've loved doing the Star Wars films with all their fanfares and flourishes,\",\"Art of `Star Wars: The Force Awakens '\",\"For us and for most people, Star Wars is a global cinematic event, if there ever was one. In many developed markets where Star Wars has been part of the cultural zeitgeist, you just have to tell people when it's coming. Except for a few of us in the cities, not many have grown up on Star Wars culture (in India). Besides, there was such a big time gap,\",\"I don't care about `Star Wars,' I never fucking did... who gives a fuck?\",\"OK everybody, I got to get to `Star Wars.\",\"Indeed, all the spoilers I could throw at you right now -- but I won't, I promise -- would seem familiar, because the whole damn movie seems obsessively and insistently familiar. We have known for months or years that The Force Awakens would be a massive worldwide hit, and that would still be true even if it turned out to be about Jar Jar Binks and the Little Mermaid going on an underwater quest for the essence of Gangnam Style. It's the Citibank of movies, literally too big to fail. But Abrams has grander ambitions than a Michael Bay-style cash grab. His mission is to build a new Star Wars franchise on top of the old one, and the ultimate success of that venture will largely depend on how the series' millions of fans react to the fact that he hasn't just made a movie fueled by nostalgia, or a movie full of mythic echoes. He's made a movie they've already seen, a simulacrum of something that was already a simulacrum of something else.\",\"The Mythology of Star Wars.\",\"Watch our spoiler-full Star Wars: The Force Awakens review\",\"For both the movie industry as a whole and for Star Wars: The Force Awakens, this is a seminal moment in box-office history. With potentially two of the biggest movie-going weekends of all-time occurring back to back, this is a watershed moment with records being broken,\",\"I am a lifelong, hardcore Star Wars fan,\",\"My next movie is a family drama. It's a large-scale family drama set in space, but it's still a family drama.... Star Wars is the only kind of movie where somebody can just yell, `Noooooooo!' and you're with it. So to do a movie that gets to that level of pure, human-heart-ripped-out emotion -- I felt like that was the right thing to do.\",\"There's a way in, a center circle and way out -- like the hero's journey, if we want to follow `Star Wars.\",\"We're telling the story of Christmas from Revelation 12, which is very different than Matthew or Luke. Revelation 12 kind of gives you a glimpse of the cosmic combat behind the stars, and so we're kind of using `Star Wars' as a tie-in to represent that.\",\"These are my kids. All the Star Wars films. I love them, I created them, I'm very intimately involved in them,\",\"There are few movies, if any, in history that can claim to have an iconic status similar to that of Star Wars. Its universal content appeals and entertains fans across ages. As the franchise is new to Indian audiences, we decided to start our marketing and brand associations and activations almost a year in advance. Our Consumer Products team has worked hard to get a record number of brand partners on board for the film. The growing buzz around the movie has helped us get many brands excited about the property,\",\"Star Wars does it very well that every character has their nuances and their differences,\",\"`Star Wars' is the story of a simple farm boy who buys two robots. One looks like a garbage can, the other is programmed to be scared all the time for some reason, I'm not sure why,\",\"' Star Wars' people,\",\"I wound up getting the whole box set and watched the earlier versions of Star Wars, which I tend to appreciate a little more than the newer ones because I just think it was done well,\",\"Star Wars: The Force Awakens review -- listen to the FM Podcast # 07\",\"Talk to Simon Pegg. He obviously knows way more than I do. He's just jealous because he's not in Star Wars. He's got some issue with J.J. I don't know what the f -- k it is. You need to talk to Simon about it.\",\"You see families come into the shop. The grandfather has got his Lego, the dad has got his Lego and then there's the next generation. Lego is top of many children's lists this Christmas. The brand has collaborated with Star Wars with an exciting range of new sets available in branch, including Darth Vader and Naboo Starfighter. The detailed pieces allow creative kids to construct their own distant galaxies.\",\"Star Wars just blew me away,\",\"I wanted to let go of my taking the high road when people might attack on Twitter or social media. Most celebrities do take the high road thanks to their publicist, but I was watching someone like Carrie Fisher recently who addressed how someone made a comment about the way she looks and how she aged in Star Wars, and she came back with the most brilliant response.\",\"I wasn't a fan of Star Wars way back then and never saw the movie. The same goes for now, too, and I'll be so happy when the obsession dies down and I won't have to hear or read about it every day.\",\"There is no limit to the Islamists' sense of victimhood. Now there's victimization through `Star Wars. '\",\"OK, everybody, I've got ta get to `Star Wars. '\",\"There will be a handful of new cast members in Episode VIII,\",\"Start with the fourth episode, go from there, and then go back and watch the prequels. I'm excited about the new one as well. I know George didn't have anything to do with it, but the fact that 40 years later, we're still talking about Star Wars: That's a force.\",\"no more Star Wars -- the saga's over. Happy?\",\"I wasn't much of a Star Wars fan but it was an amazing movie. Best of the year for sure.\",\"Star Wars is fashion forward, all it means is that it's going to become a more accepting environment and less and less female fans are going to be bullied for just being who they are,\",\"I know they don't need the publicity but saw Star Wars last night and super enjoyed it. Loved they had a girl kicking a --.\",\"When I was a kid we didn't have a lot but I remember one Christmas just being surrounded by Star Wars toys,\",\"That is just the tip of the iceberg, since Disney is likely to make as much or more from licensing. `Star Wars,' in fact, is likely to earn more for Disney than all of their previous licensing revenue combined,\",\"a huge day, not just for Star Wars fans, but actually for the British film industry\",\"Unashamed of inanity, The Force Awakens repeats the Millennium Falcon boast of completing the Kessel Run in `under 12 parsecs.' (A parsec is an obscure unit of distance in Astrophysics, equal to 3.26 Light Years. Neither has anything to do with time.)\",\"I guess I felt like I had this great thing in `Star Wars' ... but it all kind of felt a little too handed to me.\",\"A lot of us here at Empire are Star Wars fans and we were trying to honor the movies and the whole tradition of Star Wars,\",\"The emotional attachment that people have to the Star Wars series is very deep,\",\"There are so many adults coming in and buying, often really for themselves, especially Star Wars. You've got the people who grew up with the original Star Wars, the next generation who came to it with the Phantom Menace, and then this new one.\",\"Sure we had to sit and watch a little more of what we had already seen, but its [ SIC ] like we got 2 free movies passes and got to see the new Star Wars 1 & amp; 3/4 time. [ SIC ]\",\"One figure we do know is that a total of 300 million Star Wars figures - that's across all varieties - were sold by 1985,\",\"Axanar is a fan film. Fan films -- whether related to Star Trek, Star Wars, Harry Potter, Lord of the Rings, Power Rangers, Batman or any other franchise -- are labors of love that keep fans engaged, entertained, and keep favorite characters alive in the hearts of fans.\",\"I am a big believer that what generates box office is people going to movies and `Star Wars' has gotten a giant infusion of people into theaters,\",\"I remember watching TV. I was six years old and there was a Star Wars movie promo. Something captured me. The fantasy element, I think. There were these weird characters and robots and aliens, and it was this super space adventure. I remember telling my dad, I have to see this movie. When we finally went to he movie theater, I remember the line going around the block two or three times. That was a bigger-than-life experience for me. It was something unique.\",\"When Star Wars first came out I was 6-years-old and I would take the family Nativity at Christmas and replace the figurines with Star Wars action figures,\",\"It's been so hard to keep this secret! It was such a weird and wonderful experience for our small village to be part of the Star Wars story. We enjoyed evenings of music and dance in our bar with the cast and crew. Mark Hamill even learned how to pull a pint with our barman, Ciaran Kelly!\",\"Clearly, this is not the most important event that's taking place in the White House today. There is a screening of `Star Wars' for Gold Star families and children coming up. So I'll try to be relatively succinct.\",\"Sometimes, too, the adherence to `Star Wars' past grates,\",\"I don't even have to think about it. You have to go the traditional route. You begin with Star Wars, then The Empire Strikes Back, and Return of the Jedi. I grew up watching those films, and I just believe that the order that they were released is the only way to watch them.\",\"HP is delivering an experience that is unmatched on a PC by giving customers exclusive access to rare Star Wars content so they can immerse themselves into the Star Wars universe. We are thrilled to be the only PC vendor collaborating with Disney and Lucasfilm to create a one-of-one-kind notebook for a great Star Wars experience on a PC.\",\"See the brand new Uncharted 4 trailer at the Star Wars: The Force Awakens premiere weekend in select US theaters!\",\"That was really the beginning of the discussion, and the answer was... the sense of discovery, exhilaration, surprise [ and ] comedy that George Lucas put into `Star Wars' ... were the things that made me love the movie. When you look at all the things that he got right... it's stunning.\",\"It's been nearly four decades since the original Star Wars arrived in theaters and showed viewers everywhere the power of the force and the undeniable talents of George Lucas. Two strong sequels and three inferior prequels later, the youthful director J.J. Abrams (Star Trek: Into Darkness) has been tasked with continuing the saga beyond the events of the 1983 installment, Return of the Jedi. Continue it, he does.\",\"Sure JJ, I'll come back for Star Wars. But you got ta kill me off in your first movie!\",\"I've told my family, I've told my friends several times, I definitely think Episode VII is going to break the box office,\",\"It was the movie that should have been made after the first `Star Wars' films! It is so fun and it's got exactly the right note. It has awesome female leads, strong women that we have not seen since Leia. I am going to have to come back and see it again at a time when people aren't cheering at every scene.\",\"I sold Star Wars to white slavers\",\"There is the saying: `If you're doing pantomime, where's your career? It's behind you...' The fact is that panto is competing with the likes of a $200m Star Wars film. You can't go in with a few ropy special effects and expect the audience to be happy with that.\",\"In Star Wars: The Force Awakens, if you were to suck all of a star's energy into your planet, your planet would vaporize,\",\"George Lucas had told me he wanted to do some more Star Wars, but I assumed I wasn't going to be coming back because my story was finished. Then George told me I could return if I wanted to or they would write me out of it. There was no way I was going to turn that chance down.\",\"Beyond its impact on movie marketing and merchandising, Star Wars had a profound effect on the culture. It benefited from the retrenchment of the Carter [ President Jimmy Carter ] years, the march to the center that followed the end of the Vietnam War.\",\"The fulfillment of watching the seventh Star Wars film is bigger than me, it's bigger than the earth, it's bigger than the galaxy actually,\",\"The business is now worth 11.1 billion dollars. So that value has nearly tripled just in that very short space of time. And when you look at the pipeline of the films that they are seeking to produce and obviously the massive merchandising opportunities in the form of toys it is really not actually that surprising that Star Wars is worth quite so much.\",\"We all love the `Star Wars' movies,\",\"This is a fun way to take a fresh look at the greatest story ever told. One of our core values at Liquid is that `church is fun.' It's okay to laugh and celebrate together while talking about Christmas. If that means having Star Wars characters in costume and dancing Stormtroopers, I'm all for it.\",\"I've never been the first in line for any movie, but I decided to take off work for `Star Wars,\",\"And that's Star Wars,\",\"Twentyfive years later that's pretty much all I do! And of course I was collecting Star Wars stuff even before I became an artist. When the movies came out on VHS I had a year when I watched A New Hope every night as I fell asleep in hopes of having Star Wars dreams, but you know it never worked. A couple years later I started to watch Return of the Jedi every night.\",\"I have to get to Star Wars.\",\"I don't care about `Star Wars,' I never fucking did,\",\"I'm honored the folks and Bendon understood why I wanted to work with them and Toys for Tots. Bendon's books have some pretty cool heroes and lessons for all ages like Batman, Superman and Clifford the Big Red Dog to Disney, Peanuts and some of my favorites, Tom Sawyer and Huck Finn. Whether a kid is into Barbie or Star Wars, I hope we've given a bit of fun and inspiration.\",\"That communal power -- that literally is at the centre of what Star Wars is all about: the idea what were all connected somehow and The Force surrounds and binds all of us together.\",\"I'm just a massive fan of Star Wars.\",\"become something of a contentious talking point among Star Wars diehards.\",\"live on in all corners of the Star Wars universe\",\"Both are amazingly talented and both are huge `Star Wars' fans,\",\"On the stage for this year's `Kohaku Uta Gassen,' it's been decided that we will have a joint performance with `Star Wars.' Everyone knows that this is an epic collaboration and so we're very nervous, but we are still going to give it our all! No matter the stage we are on, we always enjoy ourselves. Please watch us!\",\"Anything to do with Star Wars, games consoles, craft making or wellness - such as spiralisers - has been very popular this year.\",\"About last night.... Star Wars was awesome.... I'm a little short for a stormtrooper....\",\"Star Wars: Retribution,\",\"In my research, I found out that, more importantly than girls wanting merchandise, girls were being bullied for liking Star Wars,\",\"Requiem for Star Wars,\",\"Long before we had this title, the idea of `The Force Awakens' was that this would become the evolution of not just a hero, but a villain,\",\"My wife thought it would be cool if we wore a nice t-shirt to the premiere of Star Wars and I said, `That's cute babe, we're wearing the costumes,\",\"OK, I've read this guy's name three times. I don't remember it. I don't care. I don't care about Star Wars!\",\"Everyone who has seen these movies thinks about `I am your father...' and `There is another...' But neither of those things were in [ 1977's original ] Star Wars. Star Wars didn't say Luke was the son of Vader. Star Wars didn't say Leia was the sister of Luke. You didn't understand what these references were: the Empire, dark times, Clone Wars. There were these things that were discussed that don't get explained. George [ Lucas ] dropped you into a story and respected you to infer everything necessary to understand what you need to know... Can this movie actually also hold, `And Rey is this... And Finn is that... And this is where Poe is from...' This is the first of a series. There is a story to be told. And it will be.\",\"You either like Star Wars or you're wrong, that's the only way.\",\"It was one of the better Star Wars films I've seen,\",\"They were the first people we pitched to Lucasfilm - before they knew they were even up for the gig. It's hard to find a better artist than John Cassaday, and... Jason [ is ] a complete master of walking the fine line of action and humor that Star Wars perches perfectly upon.\",\"Good versus evil has formed the essence of all Indian mythological stories. In fact, it's hard to imagine any other movie franchise that could evoke a level of passion, enthusiasm and excitement like Star Wars does.\",\"You may have heard that The Force Awakens baddie Captain Phasma was named after this film, no doubt inspired by the iconic chrome sphere,\",\"We are delighted to see the galaxy embracing The Force Awakens\",\"So, be of good cheer. The Force Awakens will neither nourish nor sate, but it is palatable and fresh, and it won't lay you low for days to come.\",\"Star Wars Toy Commercial -- SNL.\",\"She had `Star Wars' curtains. I walked in there and in my head, I thought: This is awesome, and we will be married.\",\"The new heroes of The Force Awakens are brightly drawn, occasionally surprising, and an endless pleasure to spend time with. There are moments of drama and excitement here that are pure late-Seventies vintage.\",\"I'm tired of pretending, I don't care about it. This guy's face is covered up, `cause he's so embarrassed that he's got ta go see Star Wars.\",\"I love [ the Star Wars movies ], I created them, I'm very intimately involved in them, and I sold them to the white slavers that take these things and...\",\"enhances the Star Wars brand\",\"This guy's face is covered up because he is so embarrassed that he has got to go see Star Wars!\",\"Star Wars had the greatest villain in cinema history. So, how you bring a new villain into that world is a very tricky thing,\",\"I think Star Wars speaks to everybody because it's a classic tale,\",\"Millions of fans will be introduced today to the next generation of Star Wars storytelling, and Disney Infinity 3.0 Edition is the only game where they can step into iconic moments from Star Wars: The Force Awakens film,\",\"I actually went and watched the opening of `Star Wars, '\",\"Do my mind-reading powers from `Heroes' work in the `Star Wars' universe?\",\"Star Wars is 13 hours of brilliant artistic craft, and to come back to it is more than I could've asked for,\",\"Millions of fans will be introduced today to the next generation of Star Wars storytelling, and Disney Infinity 3.0 is the only game where they can step into iconic moments from Star Wars: The Force Awakens film,\",\"Seeing an epic movie like `Star Wars' on the big screen is a fun part of being a kid, and is something everyone deserves to experience. We wanted to give these brave patients and their families a great night out together.\",\"Star Wars The Force Awakens It already made $14 million in limited European showings, and nobody expected that Star Wars: The Force Awakens was going to fizzle on Thursday. '\",\"`Star Wars' really brings a lot of people together,\",\"But neither of those things were in [ 1977's original ] Star Wars. Star Wars didn't say Luke was the son of Vader. Star Wars didn't say Leia was the sister of Luke. You didn't understand what these references were: the Empire, dark times, clone wars. There were these things that were discussed that don't get explained. George [ Lucas ] dropped you into a story and respected you to infer everything necessary to understand what you need to know.\",\"I compared the numbers last week and the possibility for the maximum amount of people we could have for the Star Wars film would have been about 940, and last night, we had sold about 780 tickets for the showings.\",\"We are celebrating the fact that a generous donor came forward to Kids Up Front and they got our youth involved in this and they got to see Star Wars for the first time, so pretty exciting time,\",\"I got to get to Star Wars\",\"Star Wars Journey to the Force Awakens: High Noon on Jakku: Tales From a Galaxy Far, Far Away\",\"To us, this particular protostar system looks like a double-bladed lightsaber, which is timely with all the Star Wars frenzy going on right now, but we are seeing a birth stage of a new star system,\",\"The much-anticipated Star Wars: The Force Awakens continually reprises plots and themes from the first three movies. It tells a well-crafted story; the new characters are invigorating; the old characters are reintroduced tidily. But it is also far too enamoured with the power of its own history. Apparently, anything that costs $4-billion -- that's the price Disney paid for Lucasfilm -- must be mythic.\",\"It's weird how China chose to design their Clone Troopers to look exactly like those on Star Wars. And that Jackie Chan III looks exactly the same as his grandfather.\",\"Star Wars is a phenomenon and a wonderful and rare opportunity for people, in truth, throughout the world, to actually come together for something uplifting and positive.\",\"I've still got all of my original `Star Wars' toys,\",\"I've been a Star Wars fan my entire life,\",\"The thought of the galaxy itself. It's the effects, it's the story, it's just the whole shebang with the hardcore fans. There's so much involved. It's hard to pick just one thing out as to why I like Star Wars so much.\",\"I was impressed, this was a good Star Wars,\",\"many gay men who love Star Wars and fantasise over the characters and the stories.\",\"worst attempt to co-opt Star Wars\",\"No chance... it would be the first `Star Wars' I've ever seen.\",\"`Star Wars' transcends generations,\",\"I would never tell anyone NOT to see it, because in reality, just about everyone will anyway. Bu you should go see The Force Awakens in the next couple of days. I have a very bad feeling about this -- spoilers will start popping up all over the galaxy. It's inevitable.\",\"My dream role is to be in Star Wars, I don't care what I'd be, I'd be Chewbacca's & shy; handbag, darling,\",\"Ok, you're part of a Star Wars premiere?\",\"2015 in Republican politics, as explained by Star Wars,\",\"based on where we think this title is, and based on the marketing beats ahead of us (in particular, the [ launch of Star Wars: The Force Awakens ]) over the next two weeks, we feel very comfortable we're going to hit the guidance that we've given.\",\"of films not called Star Wars\",\"Star Wars -- made me a fortune -- paid off my mortgage -- bought me a car.\",\"With Star Wars: The Force Awakens opening on Friday, the movie's name is everywhere, from toys to toothbrushes. And now, even your produce comes with a Yoda, Han Solo or a little BB-8 droid on the packaging.\",\"The Force Awakens Is Everything You Could Hope for in a Star Wars Movie -- and Less.\",\"It was what you did with Star Wars,\",\"We thought we would show our excitement the only way we know how: by editing footage from the `Star Wars' movies,\",\"Yeah, I love Star Wars.\",\"You didnt age well and u sucked in Star Wars. It was a rest home flick. Want my money back.\",\"As Star Wars fans, we must suspect that the Force was also involved, enhancing our Force-sensitive abilities to detect polyps, despite an overall more hostile luminal environment. Akin to Luke Skywalker's destruction of the Death Star in Star Wars: Episode IV A New Hope, despite being pursued by Darth Vader and TIE fighters, we trusted the Force to guide us through the murky colonic waters to locate and destroy polyps,\",\"Although it was relatively short notice, I think it will take off, especially if, like The Lord of the Rings trilogy, there's a Star Wars movie every Christmas for the next two or three years.\",\"I saw it with my kids on Sunday and I think it's no exaggeration to say, it is as good as any and quite possibly the best [ Star Wars film ]. It's quite a movie.\",\"The fame side of things is a weird twist that I'm not kind of interested in. If I was going to be recognized for anything, `Star Wars' is all right.\",\"clearly Star Wars guys,\",\"Star Wars is a land filled with incredible things that blow [ her ] mind, also similar to Florida.\",\"The farm boy helps kill the bad guy because the bad guy killed his father even though he actually is his father. The whole thing ends with a dance party with a bunch of teddy bears and ghosts. And that's `Star Wars. '\",\"Yes, but the thing is, He wants to see Star Wars real bad first.\",\"And without spoiling it, I can say that [ Star Wars: The Force Awakens ] has the BEST final shot of any Star Wars film. Wow.\",\"Is Luke in `Star Wars?' It's a mystery,\",\"Marketing directors are now the age of true Star Wars fandom so that probably helps get this stuff signed off, but apparently you can get Star Wars oranges in a major supermarket, perhaps a bit too far.\",\"India is a heavily under screened market where we have only two multiplex screens per million people. It is imperative to plan a release around school holidays and overall festive period to give the film its full capacity. Christmas Day is a holiday all over and an ideal time for the release of this epic movie, for all our Indian viewers, which is truly one of the biggest franchises ever. Star Wars has opened to rave reviews and record-shattering box office numbers globally and we are now geared up to give Indian audiences a taste of this modern classic. To add to it we believe the global fervour around the movie will travel to India and will aid in ramping up the demand further by the time we release it in Indian theatres.\",\"Star Wars: The Force Awakens is the movie it was promised to be, with great new characters, a respect for the original trilogy and a strong understanding of what makes this franchise click with fans. The new additions to the Star Wars universe work best, though there is some over-reliance on tying things to and making nods to the classic Star Wars films. Overall, this is a great way to reboot the franchise and open the world up for a new generation of fans.\",\"Thanks, everybody. I got ta get to Star Wars.\",\"There is a screening of Star Wars coming up.... So I'll be relatively succinct.\",\"Star Wars: & # 0010; The Force Awakens.\",\"I'm sorry, I'm tired of pretending! I don't care about it! This guy's face is covered up because he's so embarrassed that he's got ta go see Star Wars.\",\"Has the president seen the new `Star Wars' film?\",\"Not many people know this, but in \\u201977 when Star Wars came out, George Lucas asked us to introduce these characters,\",\"We're expecting huge numbers and certainly think that more records are set to tumble, with Star Wars: The Force Awakens already becoming the highest grossing film for an opening day, beating the previous record holder Harry Potter and the Deathly Hallows,\",\"Rohit was there for the Star Wars: The Force Awakens premiere in Abu Dhabi on December 16 and he did some more recce after that for the action sequences. I don't know the details, but he found good, interesting locations,\",\"We got ta remember, Star Wars came from nowhere. American Graffiti came from nowhere,\",\"I don't care. I don't care about Star Wars and I never f -- king did. I'm sorry. I'm tired of pretending. I don't care about it.\",\"With numbers like this, it's clear that even casual viewers sought out a premium theatrical experience to see Star Wars: The Force Awakens, and in a weekend of incredible performances across the board, the folks at IMAX pulled out all the stops for a tremendous, record-setting debut for the format that has gone beyond anything we could've hoped,\",\"I'd like the very first screen-used lightsaber that Obi-Wan passes to Luke in Star Wars,\",\"See the first one that was out, and then watch them in order. That way you get the whole experience, just as we earthlings did. I was actually at the very first night of the very first `Star Wars.' We weren't really aware what we were watching. All I remember is seeing that big, huge spacecraft going across the scene, going across the screen. It just kept going and going. It was like the greatest special effect ever. The whole audience was in then.\",\"With final numbers now in, Star Wars: The Force Awakens rose above estimates to post an all-time industry-high $248m (& pound; 166m) domestically, plus $281m (& pound; 188m) internationally for an all-time record global debut of $529m since opening December 16,\",\"#anticipation Getting excited for Star Wars @bad_robot,\",\"It's a little bit crazy. My friend is a little bit more of a Star Wars fanatic than I am but as we've gotten closer it's been really exciting. And I think the world seems really excited about this, everywhere you go, I mean, people seem excited.\",\"We took a real gamble with Star Wars,\",\"That we had Universal with their incredible year and Disney bringing `Star Wars' back at the same time is really remarkable,\",\"And I'm thinking now, if I said, if I did a movie that came out right after Star Wars comes out, you know, maybe a couple of months later, Spaceballs 2: The Search for More Money... I'd have a big weekend, you know, no matter what, even if it fell on its a ** and you know, didn't get that money back.\",\"They're filming Star Wars over the road and all the crew have been coming over to have a look at us. That's the God's honest truth. I was saying to them, `you've got Chewbacca over there, why do you want to see us?' But it's lovely, isn't it? You'd think they'd be looking down their noses at us, but there's a respect there. I do find that there's always this fascination when it comes to EastEnders.\",\"Have you been influenced by Buddhism? Because Star Wars came along just about the time there was this growing interest in America in Eastern religions. I notice in The Phantom Menace, the new Episode i, that they discover this slave child who has an aura about him, and it reminded me of how the Buddhists go out and look for the next Dalai Lama.\",\"And then in' 92, \\u201993 they came out with the Star Wars Bend-Ems, and then in' 94, \\u201995 they came out with the figures again, the red-carded figures. And that, just for me, I was working at -- I managed a KB Toys, so for me I was getting this awesome discount, and these toys were coming in. I was just in my glory.\",\"The original plot of Star Wars: The Force Awakens featured the search for Darth Vader and the second Death Star\",\"These guys, when they were kids, `Star Wars' is what they've all said drew them into this business,\",\"Half of all Star Wars fans are women, and the reality is that these items are being made because fans want them,\",\"Everything Wrong With Star Wars Episode I: The Phantom Menace\",\"Star Wars is one of those legendary films that brings people together from all walks of life and of all ages. As The O2 Centre's Vue cinema will be screening the film, we thought it was a great excuse to celebrate.\",\"I'm just thrilled Star Wars is back.\",\"I don't care about `Star Wars,' and I never did!\",\"I did get some contacts through (the media attention) this... some other collectors I didn't know about that have things they'd like to talk about. My network of people to discuss Star Wars with has increased, so I can't complain.\",\"I got my license from Lucas Films to paint Star Wars back in June this year, and lo and behold, my first four painting of Star Wars were immediately purchased and collected by none other than George Lucas,\",\"Here I am, on the brink of `Episode VII,' and who knows, if C-3PO survives, there could be VIII and IX, as well,\",\"Talk to Simon Pegg. He obviously knows way more than I do. He's just jealous because he's not in Star Wars. He's got some issue with J.J. I don't know what the f-it is. You need to talk to Simon about it.\",\"I love Star Wars and they were doing tattoos at a Star Wars convention in Orlando in 2010. My buddy plays in a band and has one. I wanted something cool like Star Wars and that how it came about. It was very spontaneous,\",\"You see families come into the shop. The grandfather has got his Lego, the dad has got his Lego and then there's the next generation. Lego is top of many children's lists this Christmas. The brand has collaborated with Star Wars with an exciting range of new sets available in branch, including their Darth Vader and Naboo Starfighter. The detailed pieces allow creative kids to construct their own distant galaxies.\",\"We have been Star Wars fans our whole lives, we love, we love more than anything, and that's what brings us here\",\"He's really focusing on the Star Wars release and how that's going to go in his life,\",\"If you've seen Rian's work, you know it's not going be like anything that's ever been in `Star Wars.\",\"Of the many unreal opportunities working on The Force Awakens provided, none was more thrilling than collaborating with John Williams. His mastery of his craft has never been more evident than on this soundtrack, which embraces his earlier, classic Star Wars themes while creating soaring, powerful new cues that, amazingly, integrate seamlessly. How he does it, no one will ever know!\",\"The Week in Movies -- Star Wars: The Force Awakens reactions! Tarantino slams Disney! Spider-Man in new Marvel film? and more...\",\"I just rested completely and watched `Star Wars, '\",\"It would have been nice when promoting your new career, to tell people, `Hey, I worked on the Star Wars movie,' but I had to just humbly wait,\",\"Star Wars has magic in it... it's really about family conflicts, and it's Shakespearean... you know, there's commoners and all powerful kings, essentially,\",\"Our contacts at Lucas and Disney were amazing; EA quickly cleared the music rights and we were delivered 10 hours of Star Wars SFX. Going through it was a dream. Being able to hear the original recordings, complete with slates, was a humbling and unique experience that highlighted just how fortunate we were to work with such sacred material.\",\"With Star Wars I consciously set about to re-create myths and the classic mythological motifs. I wanted to use those motifs to deal with issues that exist today. The more research I did, the more I realized that the issues are the same ones that existed 3,000 years ago -- that we haven't come very far emotionally.\",\"I've got ta get to `Star Wars\",\"I'm really hoping `The Force Awakens' awakens the force in all of us,\",\"I was kind of worried about Disney taking on ownership of Star Wars -- but I'm excited about it.\",\"I'm a really big Star Wars fan, so going around looking at that stuff was pretty sweet.\",\"I feel like I'm about to see Star Wars,\",\"The Star Wars movies are my kids... and I sold them off to white slavers.\",\"I want to clarify my interview on the Charlie Rose Show. It was for the Kennedy Center Honors and conducted prior to the premiere of the film. I misspoke and used a very inappropriate analogy and for that I apologize. I have been working with Disney for 40 years and chose them as the custodians of Star Wars because of my great respect for the company and Bob Iger's leadership. Disney is doing an incredible job of taking care of and expanding the franchise. I rarely go out with statements to clarify my feelings but I feel it is important to make it clear that I am thrilled that Disney has the franchise and is moving it in such exciting directions in film, television and the parks. Most of all I'm blown away with the record breaking blockbuster success of the new movie and am very proud of (J.J. Abrams) and (Kathleen Kennedy).\",\"Us nerds don't like to leave the house very often, but something like Star Wars definitely brings us out.\",\"Good afternoon everybody. Clearly, this is not the most important thing that's taking place in the White House today. There's a screening of `Star Wars' for Gold Star families and children coming up. So I'll try to be relatively succinct.\",\"Is anyone out there as excited as Mark Hamilton about Star Wars?\",\"I'm not a Star Wars fan. I just don't care for it. Nick Jonas was trying to get us all together to go see it, and I told that I'm not a Star Wars fan and he said, `What?\",\"It's possible that if I hadn't come across that, I'd still be writing Star Wars today.\",\"Someone started a petition to put me in the next Star Wars movie. I back that hard! Definitely signing it.\",\"I am amazed that almost 40 years after first watching Star Wars, I would be able to participate and even play one of the main characters in the franchise. It's a great honour,\",\"There will be a handful of new cast members in Episode VIII but also all the cast members you see here tonight will be in it as well. We're excited to get back together.\",\"It's hard for me to believe it was entirely accidental because if you think about that particular period right when Star Wars came out, that was right when Japan ruled the world,\",\"For the last 3 Halloweens, we've had a Star Wars theme. So they're pretty much born into this nerdy lifestyle.\",\"It felt more like detective work -- trying to put Star Wars together from clues that George left us, especially in his first three movies. Needless to say, it was not an easy task,\",\"My love for music and my love for Star Wars just collide in a perfect storm,\",\"I want to go see the new `Star Wars: The Force Awakens.' I was a total geek growing up and had `Star Wars' wallpaper in my room,\",\"Why is Lor San Tekka on the same planet as Rey, our new particularly important hero of Star Wars: The Force Awakens?\",\"Star Wars was huge, but it's been an amazing movie year,\",\"But it's weird... Usually I'm very critical and I see things and all I'm thinking is, `Oh I should've, I could've, I would've' . But every once in a while when I'm watching something [ in The Force Awakens ] I sort of get caught up in a performance, because the actor did such an amazing job; or a piece of music, because John Williams is so spectacular - the master-or the way something looks or feels. And it's mostly about celebrating and acknowledging the incredible work this crew and cast have done.\",\"We had in Marvel, stories and characters, great storytelling, and obviously in George Lucas Star Wars and Indiana Jones, by the way, as well, which will be coming, we have great stories.\",\"S tar Wars: The Force Awakens\",\"To me, Laura Jane Grace is the example of a fearless, bold, and determined person -- much like the heroes of Star Wars. When I saw the Twitter community react to the tweet from Star Wars, I realized how perfect it would be for her to be recognized in the franchise for a cameo.\",\"With George, no matter what you thought of his ideas, there was no disputing that it was canon because Star Wars was his creation,\",\"My 3-year-old sits in my lap when we watch `Star Wars: Rebels.' She knows everybody's names,\",\"J.J. Abramshas taken George Lucas' baby and reinvented it for true fans of the early films. They captured the heart, soul, wit, adventure, and wonder of what it is that makes Star Wars such a phenomenon in movie history... He brought back what was great and merged it with compelling and likable new characters who can carry it forward.\",\"All of those Star Wars films use exactly the same underpinning. He recognized what I was trying to do.\",\"I grew up reading graphic novels, which back then were comic books. I've written some. I have kids who, with as much social impact that American Crime or 12 Years A Slave has, they could not care less. They're just at that age. Back in the day, when I was growing up with things like Star Wars and Superman, they were quality work. We've seen really good things that are based on these fantastic universes. And I can't talk much, at all, about it, but when Marvel and ABC approached me about the project, it felt like a good fit.\",\"Knew it would have to happen sooner or later. With the logo/facebook picture change and the sneaky teaser before Star Wars, I think it's pretty obvious something big is coming,\",\"We extend a big congratulations to our friends and long-time partners J.J. Abrams, Kathleen Kennedy, Bryan Burk and all of our friends at Disney and Lucasfilm for this phenomenal achievement. The synergy created by fans of theStar Wars franchise, The IMAX Experience, and the support of our filmmaker, studio and exhibitor partners has manifested itself in a truly phenomenal way -- creating a new cinema paradigm. With stellar reviews, incredibly strong word-of-mouth, and an open runway for many weeks in IMAX, we look forward to the film's continued global success -- especially as it broadens to China on Jan. 9 -- and elsewhere across our network well into February.\",\"I got ta get to Star Wars.\",\"Moviegoers have been looking forward to Star Wars: The Force Awakens for months, and Cinemark is thrilled to bring this incredible experience to our guests this weekend. We're making sure there are numerous daily showtimes for Star Wars available at all of our locations across the country where fans will have many, many options -- including 3D and XD -- for an out-of-this-world adventure.\",\"Dilwale Overseas: Gulf-biggest ever opening for a Bollywood film, and the number one film this weekend, higher than `Star Wars: The Force Awakens' and other films,\",\"In the latest `Star Wars' film, the hero is called Finn, and in northern Germany this has already been one of the most popular names for boys for more than 10 years.\",\"I've always been a big Star Wars fan, and I'm definitely not a big sports fan,\",\"Joseph Campbell once said all the great myths, the ancient great stories, have to be regenerated in every generation. He said that's what you are doing with Star Wars. You are taking these old stories and putting them into the most modern of idioms, the cinema. Are you conscious of doing that? Or are you just setting out to make a good action-movie adventure?\",\"I Don't Care About Star Wars and I Never F -- king Did\",\"This is a movie that the whole family can go to together. This is the Star Wars for comedy,\",\"Star Wars: El Despertar de la Fuerza.\",\"has the best final shot of any Star Wars film,\",\"Star Wars had the greatest villain in cinema history. So, how you bring a new villain into that world is a very tricky thing? We knew we needed to do something f-king bold. The only reason why Kylo Ren has any hope of being a worthy successor is because we lose one of the most beloved characters. Long before we had this title, the idea of The Force Awakens was that this would become the evolution of not just a hero, but a villain - and not a villain who was the finished, ready-made villain, but someone who was in process. As a father, as a friend to people who have children, I know what it's like to see struggle, to be part of struggle. I know how painful it can be. I know how real it is. And this is, of course, an insane extrapolated version. It's this massive tradeoff: how can we possibly do that!? But... if we hadn't done that, the movie wouldn't have any guts at all. It felt very dangerous.\",\"Without spoiling, what's so amazing about `The Force Awakens' is if you grew up with it, there's a ton of stuff for you. If you're new to it, it completely opens the door to the Star Wars world,\",\"Star Wars is scared s -- less,\",\"Now historically, the translation of (Christian) scripture happens every couple of hundred years, for contemporary audiences to understand it better. It's time to do that again, except today, young people are not interested in authoritarian communication. So we decided to take another look at the story, the way we look at Avatar or Star Wars, and streamline the story and place it into a context contemporary audiences would understand.\",\"We're so close to Christmas. You remember Christmas? That thing people used to get excited about before `Star Wars' came back?\",\"Projector at Star Wars midnight 3D show at the Arclight ruined, stopped, then started again towards the end of the movie. The movie was spoiled and everyone in the theatre went crazy,\",\"I love Star Wars, Star Wars is my favourite movie franchise, I've wanted to watch it since it was first announced.\",\"I had a song about Star Wars called The Saga Begins and there was a radio channel in the States called [ Radio Disney ]... It was basically for kids and there was a line in the song, um,' Did you see him hitting on the Queen?' And I guess even saying\",\"Star Wars: the Phenomenon\",\"I went to go see Star Wars with my mother,\",\"It would have been really nice to continue with the Star Wars association.\",\"The Week in Movies -- Star Wars salary details revealed! What's Tarantino's favourite 2015 movie? New Deadpool trailer and more!\",\"`Excuse me, is there a MRS. Dameron?' said my lame Star Wars character, Vicki,\",\"Is that `Star Wars' ?\",\"My task and my challenge was to make it feel friendly and interrelated to the other scores, so that it feels comfortably `Star Wars' - ian, if you can use that word,\",\"Searches for Star Wars toys have increased 200% on Walmart.com and we've tripled our assortment from the same period last year,\",\"I think it is safe to say that Star Wars is forever,\",\"was never a Star Wars fan,\",\"There will be a full moon on Christmas this year. The last time that happened was in 1977, which is also the year the first `Star Wars' movie came out.\",\"Is it too much to say that I think anything Lupita Nyong' o did was a best red carpet moment? But if I had to get specific, I'd say my best are Lupita at the European Star Wars premiere, Sarah Hyland at the Emmys, Kate Winslet at TIFF, and Lady Gaga at the Oscars Vanity Fair after party.\",\"Millions of fans will be introduced today to the next generation of Star Wars storytelling, and Disney Infinity 3.0 Edition is the only game where they can step into iconic moments from: The Force Awakens film\",\"I... love the community that loves Star Wars, like the 501st costume club who does fundraisers and hospital runs to help people and children in need,\",\"Clearly this is not the most important event that's taking place in the White House today: There's a screening of `Star Wars' for Gold Star families and children coming up. So I'll try to be relatively succinct.\",\"Every time you do something like that you're opening the wound again... these were my kids. All of the Star Wars films. I loved them. I created them. I was very intimately involved in them. And I sold them to the white slavers that take these things and...\",\"But I'm proud of the fact that there are a lot of guys who can stand up and say, `Yeah, I love Star Wars.' That's something that's really cool.\",\"We are extremely proud of our contribution to this monumental release, as well as the future Star Wars installments; and we look forward to the continued global success of The Force Awakens throughout the rest of the holiday season and beyond.\",\"It's pretty clear that the [ Star Wars ] franchise is staying alive,\",\"What a spectacular place to watch Star Wars,\",\"This particular protostar system looks like a double-bladed lightsaber, which is timely with all the Star Wars frenzy going on right now,\",\"This holiday season we are excited to be a part of the highly anticipated release of Star Wars: The Force Awakens. At Regal, we are passionate about providing exceptional moviegoing experiences including offering a wide variety of showtimes to meet our guests needs. With the increased demand for Star Wars, we will continue to add showtimes to accommodate the avid fans that have been eagerly awaiting the seventh film in this blockbuster series.\",\"We picked the most popular characters from the Star Wars universe and recorded some of their most famous lines. Every couple of pulls, the Falcon stalls, which we still find hilarious.\",\"I wanted people to feel the magic of what Star Wars was: the sense of romance, the sense of heart, the loyalty, the sweetness, the friendship, the unexpected scenarios, the discoveries the characters make, the sense of impossible scale made possible. I saw the original trilogy and I thought if there was any way to be part of bringing that back, it would be incredible.\",\"Star Wars has been one of the most important and best-selling franchises in our stores, not just in the U.S. but around the world,\",\"With `Star Wars' releasing at the same time this kind of response overseas is great. I never really thought this kind of response will come from international circuit as I always knew `Star Wars' was coming. I think Shah Rukh is very popular overseas or may be the SRK-Kajol chemistry is working in favour of the film,\",\"To test their endurance and devotion to the iconic films, the Alamo Drafthouse Cinema hosted a marathon, challenging participants to watch `The Force Awakens' on repeat as many times as possible - after sitting through the six preceding films,\",\"Whether a kid is into Barbie or Star Wars, I hope we've given a bit of fun and inspiration.\",\"The [ North Vietnamese ] Vietcong in effect became ewoks at the end of the Return of the Jedi and that is the whole lesson of Star Wars - that you could win even if your numbers are small.\",\"in which Star Wars is referred to quite frequently and reverentially.\",\"I love Star Wars so much. When I was a kid, my father gave me many Star Wars toys. He was a big Star Wars fan.\",\"CGI doesn't belong in Star Wars, that's not what it's about\",\"Marvel's relaunched `Star Wars' series did not mess around. With a string of A-list artists and newsworthy reveals, this flagship series delivered 13 issues packed with character moments and action that were intrinsically `Star Wars.' Jason Aaron dumped all the Star Wars toys out of the Lucasfilm toy chest and slammed them together in brilliantly thrilling ways, with John Cassaday and Stuart Immonen proving they're two of the best artists in the galaxy. This is the year that gave us Sana Solo, Leia and Han wielding lightsabers, Luke fighting Boba Fett -- and it all happened in the comics, not on film.\",\"create a role that could live on in all corners of the Star Wars universe -- novels and comic books and video games and so on.\",\"If you read the nerdy story behind Star Wars, it's not light in a lightsaber, it's actually plasma which is contained in a loop that feeds back into itself. We can contain plasmas and it's something we have been doing for decades now.\",\"Star Wars Early Screening Prank\",\"Well, I guess that's it. No more Star Wars movies to be seen again.\",\"Lupita rarely puts a foot wrong, and nails the homage to Star Wars in this fashion statement by Proenza Schouler.\",\"We have got a really good opportunity to talk to fans of Star Wars and ask how they feel about the fact this thing we love has been given a new breath of life,\",\"Watch our spoiler-free Star Wars: The Force Awakens review\",\"I don't care. I don't care about `Star Wars' !\",\"We're excited because it's a whole generation who have never seen a Star Wars movie,\",\"It's been about ten years since a Star Wars movie came out, so I'm extremely excited.\",\"We have created limited edition of Star Wars packaging, a first-of-its-kind e-commerce innovation in India. We will be surprising a lot of our customers with this special packaging when they order with us online over the next few weeks. With our partnership with Disney we have combined the fervour of the movie with the trust and convenience of buying genuine memorabilia online.\",\"I never really saw `Star Wars' in the theater, only at home,\",\"They're doing a marathon of all the movies for Episode VII. What do you think?\",\"We wanted to give customers something special to add on to the excitement. We have created limited edition Star Wars packaging, a first-of-its-kind e-commerce innovation in India.\",\"Put Adele in Star Wars and let's create some buzz!\",\"So many have come out and said, `Thank you. My daughter and I have bonded over Star Wars, and finally, she can be recognized.\",\"My Life In Monsters: Meet The Animator Behind `Star Wars' and `Jurassic Park '\",\"This instalment will be the Star Wars you know and love, cantina bands and screen wipes and all,\",\"I dressed up because I am a huge fan and its just part of the American culture. There is a whole world of Star Wars fans out there.\",\"Star Wars is a US Gimmick.\",\"The more you watch a movie, the more it sticks with you. The more it becomes a memorable part of your life. The more times The Force Awakens is watched by its fans, the more likely it is to become an instant classic.\",\"Let us record all of the children of every executive on both coasts who were involved in `Star Wars, '\",\"One of the reasons I decided to do the New Year show is because I knew Star Wars would be out,\",\"Clearly this is not the most important event that's taking place at the White House today. There is a screening of Star Wars for Gold Star families and children [ of fallen soldiers ] coming up, so I'll try to be relatively succinct.\",\"When I was doing the first Star Wars,\",\"We introduced the kids to Star Wars this year,\",\"You couldn't have three more different people than JJ, Rian, and Colin [ Trevorrow, director of Episode 9 ]. Those movies will have the Star Wars saga as their basis, but everything else will be different.\",\"Spoilers: More cameos revealed in Star Wars: The Force Awakens\",\"He's a huge Star Wars fan, so I knew characters from these amazing films had to be involved with the announcement... [ an attendant ] went off to check with the Star Wars cast and came back saying that they were going to take time out of their lunch to make my dream come true!\",\"I did not see Star Wars (The Force Awakens), although I am a fan,\",\"___ Follow Julie Bykowicz on Twitter at: http://twitter.com/bykowicz and Bill Barrow at http://twitter.com/billbarrowAP Share this: Click to email (Opens in new window) Click to print (Opens in new window) Share on Facebook (Opens in new window) Click to share on Twitter (Opens in new window) Click to share on Google + (Opens in new window) Click to share on LinkedIn (Opens in new window) More Click to share on Pinterest (Opens in new window) Click to send this to your Kindle device (Opens in new window) Click to share on Reddit (Opens in new window) Click to share on Pocket (Opens in new window) Click to share on Tumblr (Opens in new window) Advertisement More Headlines Previous post in this category Overnight hospital fire in Saudi kills 31, injures over 100 World News Next post in this category Syria ready to take part in UN peace talks, minister says World News blog comments powered by Disqus Advertisement Trending on WWLP.com Photo Galleries Photos: Severe weather sweeps across U.S. Photos: I-91 Reconstruction in Springfield 1 killed after car hits crowds on Las Vegas Strip Photos: Miss Universe's big mistake Photos: Week 15: Patriots vs. Titans Photos: New Hampshire Democratic debate Photos: Star Wars costumes at local cinemas Photos: 2016 Rock and Roll Hall of Fame Inductees Photos: Star Wars memorabilia goes high-end Photos: Top National/World stories of 2015 Photos: `Tis the season to be traumatized Current Conditions change location Chicopee 51 & deg; F 0 SE Wind 51 & deg; Dewpoint 99% Humidity 29.89\",\"I have been a `Star Wars' fan for as long as I can remember,\",\"As my partner was trying to tell you, we're part of a special guest premiere for Star Wars.\",\"Oh, that Rian Johnson. How does he follow `The Force Awakens' ? One day at a time, just like we all do.\",\"This is the `Star Wars' for comedy.\",\"While `The Force Awakens' is already getting great reviews and looks to reignite everyone's love of `Star Wars,' you have to wonder if they can keep up the level of quality necessary to sustain it over so many films,\",\"Critics Are Going Too Easy on The Force Awakens\",\"It's `Star Wars.' I just want to live in this moment and not have anything interrupt it.\",\"I still to this day have my original Star Wars action figures that my parents gave to me for Christmas that year,\",\"Because it's Star Wars!\",\"Anyone caught travelling without a valid ticket or Oyster will be told the ending to the new Star Wars [ film ] (and also get a penalty fare)\",\"essentially made a Star Wars movie about the people who are normally extras in a Star Wars movie\",\"The early success of `The Force' bodes extremely well for the [ Disney ] model, in our view, which can further monetize `Star Wars' content through its consumer products, theme park and interactive business lines, as well as through future `Star Wars' film releases,\",\"She's kind of like the Kate Middleton of Star Wars, because everyone had to have that shirt after she wore it.\",\"Who wants to see a live Star Wars concert right now? We only have room for all of you!\",\"This holiday season we are excited to be a part of the highly anticipated release of Star Wars: The Force Awakens\",\"I went back home, and I thought about it. Then I wrote [ J.J. Abrams ] and said, `Okay. I'll do it!' I figured it would be a cameo: I'll come in, do my thing, and maybe it's actually better not to have to sign myself up for three movies. EW's Star Wars: The Force Awakens photos 8 show all EW's Star Wars: The Force Awakens photos 1/8 Fin meets Poe for presumably the first time 2/8 Fin meets Poe once more, the leather jacket having exchanged hands 3/8 Fin, Chewbacca and Han Solo 4/8 Kylo Ren faces Fin and Rey 5/8 A new Star Wars alien 6/8 Harrison Ford as Han Solo 7/8 Stormtroopers 8/8 Princess Leia (except, she's no longer Princess Leia)\",\"even people who had never seen Star Wars before.\",\"`Star Wars' didn't actually change cinema.\",\"OK, everybody, I got ta get to `Star Wars. '\",\"OK, everybody, I've got to get to `Star Wars. '\",\"That's what creates the most value. We had in Pixar, some of the greatest storytellers that existed in motion pictures, certainly the best in animation. We had in Marvel, stories and characters, great storytelling, and obviously in George Lucas' Star Wars, and Indiana Jones, by the way, as well, which will be coming, we have more great stories.\",\"There will be winners this Christmas that aren't named `Star Wars, '\",\"is that Star Wars?\",\"I was an infant when the first movies came out and that was my childhood and (my four kids) were infants when the prequels came out. This is the first time I've been able to take my kids to a `Star Wars' movie, so it's real generational for me.\",\"I am a bit of a Star Wars geek myself, so I had great fun dressing up as Darth Vader in the run-up to the new film. We had an amazing reaction what with Star Wars being so popular at the moment. We're even holding a Jedi training school for kids in February 2016.\",\"I've seen it 10, 12 times. Star Wars is basically my life,\",\"I have read this guy's name three times. I don't remember it. I don't care! I don't care about `Star Wars' and I never f -- king did! I'm tired of pretending! I'm tired of pretending! I don't care about it,\",\"But we just don't know how many repeat viewers and part-time Star Wars fans are going to show up on Sunday\",\"This is the Star Wars movies we were hoping for back then [ prequels ],\",\"Abrams's baldfaced rip-off of the original Star Wars is, by far, the most innovative thing about The Force Awakens\",\"Star Wars brought a group of people together and showed that there's no such thing as evil. It shows that it's all good, that good can triumph and there's good in everyone. That's how people see it in life.\",\"Star Wars had the greatest villain in cinema history. So, how you bring a new villain into that world is a very tricky thing. We knew we needed to do something f -- king bold,\",\"I'm waiting for something to jump out and say `buy me,' but it's hard to go wrong with Star Wars stuff.\",\"You didn't age well and u sucked in Star Wars. It was a rest home flick.\",\"This is a huge cultural phenomenon, it's not just like a movie, it's like a religion for some people. Star Wars is a simple good and evil story. The fight for what's right versus power and selfishness.\",\"There are actually three ways to watch the six movies. One is to watch them according to the `Release Order' which is as they were released. The other way is the `Episode Order' which means you have to watch the films according to how George Lucas (creator of Star Wars series) intended-from Episode I to Episode VI. But this means it ruins one of the best cinematic surprises-spoiler alert for the first-time series watchers-Darth Vader is the father of Luke Skywalker. The third way, the `Machete Order' , is actually the best way to watch the series.\",\"There are several reasons why J.J. Abrams only agreed to do one `Star Wars' film: Directing a film is hard work, especially a blockbuster like this. And especially after losing the battle against filming `The Force Awakens' in England (he didn't want to have to move his family there during filming), he understandably wanted to take a break. Disney wanted to release a `Star Wars' `saga' film every two years, and there was no way Abrams could have handled both projects when the post-production of one overlapped with the pre-production of the other. In fact, the workload for `The Force Awakens' was so heavy, its opening was delayed from `Star War `s' traditional May opening month to December. Abrams has a lot of irons in the the fire, and after having done a `Star Wars' movie, he wanted to move on to one of the other projects he has in development.\",\"Then I walked out to my mate, he's a massive Star Wars fan -- and his face lit up -- he was like, `That's Luke Skywalker!' So I had told Mark Hamill that Princess Leia (Fisher) was a dope! I'm sure he didn't know what it meant though because he's an American!\",\"I wasn't crazy into it. I watched them. I was more of like a `Lord of the Rings' guy and things like that. Star Wars was always OK, but I think it'll be good.\",\"There's a screening of Star Wars.\",\"We fought very hard as a government to get `Star Wars' made in Britain,\",\"Okay, everybody, I got ta get to Star Wars!\",\"I didn't turn down `Star Wars.' But that's the fun history of that. You know, it was pretty fun because George taped it, and I had no idea what I was saying. I'm talking about a Millennium Falcon [ spacecraft ] and however long it took to get from here to there and the Death Star,\",\"to get to Star Wars.\",\"he got to get Star Wars\",\"Star Wars: Episode I-III\",\"The thing that interests me most about Star Wars is, in terms of what was going on, it was very black and white. The good guys were very good, and the bad guys were very bad. But our movie is basically the grey that leads to that polarised event that turns into A New Hope. It's the realities of war -- a complicated, layered, very rich scenario in which to set a movie.\",\"Hey, I'm in Star Wars, too!\",\"Every brand has worked on the Star Wars fanfare in a different way and used it to their own understanding. While I do feel that for certain brands this tie-up wouldn't be that successful, most of them are a profitable deal, in spite of the theme being used over and over again,\",\"I do not know the reason. I think the character of Lando just didn't fit into the story line. I saw the movie and loved it and can see why Lando wasn't in it. If they asked me to come back for Episode VIII I would love to do it but right now I have not been asked and I do not know their plans.\",\"And being in this (Star Wars: The Force Awakens) is not going to convince them otherwise\",\"The Greatest Hits of Star Wars,\",\"doesn't quite grasp the importance of Star Wars,\",\"It turns out `The Force Awakens' is ridiculously rewatchable, too-like, 1977-level rewatchable,\",\"Comics and pop figures were flying off the shelf. We were selling `Star Wars' - related merchandise like it was going out of style. It was busy from Friday all the way through Sunday.\",\"I wish I could get another container of Star Wars Pop Vinyl figures. There's certainly a good buzz around it.\",\"Turns out that rumoured cameo in Star Wars: The Force Awakens is true after all\",\"In the last few weeks of 2015, Daisy Ridley has become the year's biggest breakout red carpet star. She has pulled out hit after hit during the Star Wars promotional tour -- this futuristic one-shouldered gown is no exception.\",\"That's enough Star Wars for me,\",\"The president of Lucasfilm has said that iconic cast members will appear in Episode VIII, as will newcomers John Boyega and Daisy Ridley.\",\"I don't see Star Wars as being profoundly religious. I see Star Wars as taking all of the issues that religion represents and trying to distill them down into a more modern and more easily accessible construct that people can grab on to to accept the fact that there is a greater mystery out there. When I was 10 years old, I asked my mother, I said, Well, if there is only one God, why are there so many religions? And over the years I have been pondering that question ever since. And it would seem to me that the conclusion I have come to is that all of the religions are true; they just see a different part of the elephant. Religion is basically a container for faith. Faith is the glue that holds us together as a society. Faith in our culture, our world -- whatever it is we are trying to hang on to. It is a very important part allowing us to remain stable -- remain balanced.\",\"Live, from Manchester, New Hampshire, this is the third Democratic debate. We know no one is watching because everyone is either at a holiday party or watching the new Star Wars movie, but that's OK! We all know Hillary's going to win anyways. On to opening statements! We will do them alphabetically, because that was the best way we figure out how we could start with Sec. Clinton and make it seem like it was just us being random and fair. Sen. Clinton?\",\"And yet The Force Awakens adds up to something less than the sum of its parts. The early scenes have a relaxed, assured pace. But as the story moves forward, Abrams becomes more mired in the task of keeping the plot mechanics in gear. There's the expected climactic battle between X-wing starfighters and TIE fighters, which is mildly exciting and nothing more -- the fact that it's punctuated with dumb dialogue like `General! Their shields are down!' `Prepare to fire!' and even the classic, `It would take a miracle to save us now,' surely doesn't help. And the movie's big twist, clearly intended to be a moment of Shakespearean grandeur, is handled clumsily: Instead of allowing a significant figure to have his grand moment, Abrams cuts to other characters expressing shock and dismay, as if he didn't trust the audience to know what to feel.\",\"With a movie like Star Wars coming out, it's just massively busy,\",\"Star Wars captured my imagination as a child, and I still love it today. It sounds over-the-top, but Star Wars changed my life. Second, of course, to Jesus Christ!\",\"It's one of those rare things that, when you find out that someone loves `Star Wars' in a similar way that you do, you have that instant connection with that person,\",\"Star Wars had the greatest villain in cinema history. So, how you bring a new villain into that world is a very tricky thing. We knew we needed to do something f ** king bold. The only reason why Kylo Ren has any hope of being a worthy successor is because we lose one of the most beloved characters.\",\"Plus it's part of the [ `Star Wars' ] world we're trying to inhabit. Their bodies and the way they inhabit them physically is very much their world, so it didn't seem so much of a huge undertaking. It's like the vocabulary of this world.\",\"but are usually short lived and don't have the 40-year sustainable income generation that Star Wars is producing.\",\"People in China aren't that familiar with `Star Wars' movies, though they might be familiar with some of the toys. Spoiler alert: the elves don't make them,\",\"Star Wars did excellent business, but the same can't be said of its dubbed versions (Hindi, Tamil and Telugu),\",\"I don't believe there has ever been a pop culture force bigger than `Star Wars,' nor even anything equal to it,\",\"Two Guys from The Raid movies doing Star Wars cosplay in an ill-advised monster sequence\",\"If there is still a tiny clique of cinephiles who would rather see Son of Saul or Phoenix than The Force Awakens -- and you can like both things, for Christ's sake -- and if the mere existence of such people and their continued willingness to raise their artsy-fartsy objections in print invades the safe space of those who long to bask in a uniform golden tide of Lucas-Disney-Big Brother adulation... well, where have we gotten to, anyway?\",\"Check out my app and read how Star Wars brought Kanye and I together lol,\",\"I used to be a huge Star Wars fan, but the prequels and some of the Expanded Universe novels killed my enthusiasm for the franchise -- or so I thought. It was actually just sleeping, and when Kieron Gillen told me the premise for the `Darth Vader' series he was doing with Salvador Larroca, it started to wake up. It's `House of Cards' meets `Star Wars,' and the creators have really delivered on that concept. `Darth Vader' is a fun and exciting series that helped me rediscover my love for the goings on' A Long ago in a galaxy far far away...\",\"They've been helped by a range of factors reigniting shoppers interests in stargazing such as our Man on The Moon TV advert, Star Wars and Tim Peake's visit to space.\",\"I'm thinking now, if I did a movie that came out right after Star Wars comes out-maybe a couple of months later-I'd have a big weekend, you know, No matter what, even if it fell on its ass and didn't get its money back... but that first weekend, the anticipation of seeing `Spaceballs 2' ... I still have Daphne Zuniga and I still have Rick Moranis if he'd do it, and I've still got me,\",\"They wanted to do a retro movie. I don't like that... These are my kids, all the Star Wars films. I loved them. I created them.\",\"It will be Christmas soon so my friends and my family will have bought me Star Wars stuff because it's easy to buy.\",\"Long before we had this title, the idea of The Force Awakens was that this would become the evolution of not just a hero, but a villain. And not a villain who was the finished, ready-made villain, but someone who was in process.\",\"I've got to get to `Star Wars. '\",\"In Star Wars: The Force Awakens the TIE fighters made exactly the same sound in the vacuum of space as in planetary atmospheres.\",\"I have not seen (the new Star Wars movie) yet but Artem (Chigvintsev) has seen it and he told me it is really good. I have seen all of the other Star Wars movies and I am a fan. I'll definitely have to catch up with Billy Dee Williams over the holiday when I am back in L.A. to see what he thinks.\",\"What do you make of the fact that so many people have interpreted Star Wars as being profoundly religious?\",\"We're very excited about the new Star Wars movie, we're all fans up here. And I believe that on the 21st we may get to see that up here on the space station. So a little bit later than everyone else, but what a spectacular place to watch Star Wars.\",\"They are optimistic and hopeful stories. But in comparison to what we can do with this [ the hospital ], last night [ the premiere of Star Wars: The Force Awakens ] is very trivial.\",\"I have been a big fan of the Star Wars franchise since childhood.\",\"I've done it in Los Angeles and New York; predictably the people in LA were way more into it. I'd really love to have a Star Wars Day exhibition in either Germany or Japan, those two countries have long traditions of woodcut printmaking, and have heavily influenced Star Wars in many ways.\",\"To `Star Wars' outsiders, they might not notice the changes; to the followers and fans, a big change.\",\"The Force Awakens successfully recalls the series' former glory while injecting it with renewed energy.\",\"to protect Star Wars and Lucasfilms.\",\"There are several reasons why J.J. Abrams only agreed to do one `Star Wars' film: Directing a film is hard work, especially a blockbuster like this. And especially after losing the battle against filming `The Force Awakens' in England (he didn't want to have to move his family there during filming), he understandably wanted to take a break. Disney wanted to release a `Star Wars' `saga' film every two years, and there was no way Abrams could have handled both projects when the post-production of one overlapped with the pre-production of the other. In fact, the workload for `The Force Awakens' was so heavy, its opening was delayed from `Star War's' traditional May opening month to December. Abrams has a lot of irons in the the fire, and after having done a `Star Wars' movie, he wanted to move on to one of the other projects he has in development.\",\"Awesome, if you're a Star Wars fan. My wife, she was, `Ughhhhh...' She was like ready to go. She was like, `It's 2\\u00a01/2 hours, we've got to go. '\",\"I was young when I first saw the original Star Wars movies and I absolutely loved them,\",\"I've got Star Wars on Sunday. Maybe later,\",\"Star Wars in 5 minutes\",\"But the movie can't sustain its playfulness -- or its tension, either. Abrams is too busy trying to roll the original Star Wars and The Empire Strikes Back into one two-hour-and-15-minute movie. He combines the world building (and world destroying) of the first film, its Second World War -- like aerial combat and anti-fascist derring-do, with the psychodynamics of the second one.... Without the careful buildup that Irvin Kershner gave the series-altering revelations in The Empire Strikes Back, the dramaturgy becomes stilted and the dialogue bland, not powerfully archetypal. Nothing can leech the zip from a performer quicker than an overblown lament for a child gone wrong. And nothing can stop a movie dead in its tracks like errant sentimentality. In The Wild Bunch, Pike Bishop [ played by William Holden ] had the sardonic wisdom to declare:' 10,000 [ dollars ] cuts a lot of family ties.' In Star Wars: The Force Awakens, you can kill 10,000 people and be welcomed back into your family as long as you're sorry and you promise to change.\",\"The first week of selling Star Wars, we sold as many pints online as we had sold online in the year previous,\",\"No question, we're a `Star Wars' family for sure.\",\"I haven't got a clue about anything to do with Star Wars.\",\"I've seen Star Wars 4, 5 and 6 again so I'm ready.\",\"The Force Awakens is in touch with the force of action-adventure and fun. My only tiny reservation, which I will get out of the way now, is with a tiny new droid who has a bit of a Scrappy-Doo vibe about him.\",\"Jawa is about the lowest-effort Star Wars costume possible,\",\"Okay, everybody, I've got to get to Star Wars.\",\"I really am chuffed actually, particularly because I really wanted to be in the Star Wars films,\",\"There is no better time, obviously, than the Monday after Star Wars debuted,\",\"Two unsuspecting SW (Star Wars) fans watching the trailer before the movie. Had to interrupt.\",\"Lucas knew that genres and cinematic conventions depend on consensus, the web of shared assumptions that had been sundered in the `60s. He was recreating and reaffirming these values, and Star Wars, with its Manichean moral fundamentalism, its white hats and black hats, restored the luster to threadbare values like heroism and individualism.\",\"When Star Wars came out, everyone said, `Oh it's just a silly movie with a bunch of space battles and stuff. It's not real. There's nothing behind it.' And I said... `There's more to it than that. It's much more complicated than that.' But nobody would listen,\",\"Star Wars or Florida?\",\"I'm looking forward to having a lot more Star Wars movies.\",\"When I came to Penn State, in my screenwriting class, we had to write about our top five favorite films of all time. I just wrote,' Star Wars,' meaning all of the Star Wars films. It's always been a movie history milestone for me.\",\"I did have a meeting with (Star Wars creator-director) George Lucas about that (movie), yes. (I) just didn't feel ready to take that dive. At that point.\",\"She gets my vote for resisting the temptation to wear something futuristic or metallic to a Star Wars premier.\",\"Star Wars is now in exactly the right hands for it to flourish\",\"The Force Awakens Play Set completes the Disney Infinity 3.0 Star Wars experience, allowing fans to play as characters and explore stories from across the entire Star Wars saga.\",\"The dance is tomorrow. She's a cheerleader. You've seen `Star Wars' 27 times. Do the math.\",\"With all love for Harrison Ford, Carrie Fisher, and Mark Hamill, who each got their own warm round of applause when first appearing onscreen during Tuesday night's New York press screening of The Force Awakens, it's the new characters -- especially Rey (Daisy Ridley), Finn (John Boyega), Kylo Ren (Adam Driver), and BB-8 -- who steal the show.\",\"When does the next Star Wars movie come out?,\",\"the feeling of `Star Wars' to come back.\",\"They're predicting the new `Star Wars' film could gross more than $2 billion. The United States just promised $800 million as part of the Paris agreement to fight climate change, which means we're spending more than twice as much to see `Star Wars' as we are to save the actual world.\",\"Good afternoon, everybody. Clearly, this is not the most important event that's taking place in the White House today. There is a screening of Star Wars for Gold Star families and children coming up. So I'll try to be relatively succinct.\",\"Everyone is really, really stoked [ about the release of `Star Wars: The Force Awakens' .\",\"From the very beginning, `Star Wars' for me is a universe that George Lucas created that was very embracing of diversity,\",\"`Star Wars' has been everything Disney had hoped for and more.\",\"Don't get me wrong, I'm excited for the new Star Wars film, but with numerous high-fashion brands giving their literal interpretation of Star Wars-themed fashion, the idea begins to feels a little (forgive the pun) forced. It was a nice change of pace to see some retailers taking a step back from the shop-on-Thanksgiving/Black Friday madness that's been building over the past few years.\",\"It is obvious to me that this decision is based more on [ `The Force Awakens\",\"whenever [ he ] has `Star Wars' anxiety.\",\"Given the incredible current box office trajectory and the overwhelmingly positive response to the film, a expected phenomenal second weekend and with China yet to come in January, if any film has a chance to break into the $2 billion club and have the potential to become the highest grossing film of all-time globally, `Star Wars: The Force Awakens' is that film,\",\"close to `The Force Awakens, '\",\"chubby friend of director who realizes childhood dream of being in a Star Wars movie and forgets to act\",\"This guy's face is covered up because he's so embarrassed that he's got to go see `Star Wars.' He's like, `Hey, man.' I don't know, just... F -- k! I'm so sick of it.\",\"He came in one day and said jokingly that he had just turned down Star Wars. We laughed about it. Five or six months later, he came in and said, `There's a teeny tiny possibility that I am going to reconsider and direct it after all.\",\"When Star Wars succeeds at the box office, I succeed, because I'm now part of the family. Other than that, I feel like there should be options for the audience. I will definitely go see Star Wars, but I'm even more determined to go see Ip Man 3.\",\"It's Star Wars, Star Wars, Star Wars,\",\"I am absolutely ecstatic, I grew up watching Star Wars,\",\"We wanted the music to emulate that of a movie trailer and of course, this had to be something that could sit side by side with the epic music associated with Star Wars. We knew we'd need someone with movie experience so we turned to the very brilliant composer, Daniel Lenz, to create the track for `Hoybot. '\",\"I got ta get to `Star Wars' !\",\"Since everyone is now talking about this movie we don't think the producers will [ lose ] any money [ upon theatrical release ]. We actually think this has created a new type of media hype that is more present in the news, radio and in the papers than Star Wars, and the promotional costs for this were free,\",\"We do have concern, however, that once `Star Wars' is digested, the focus will return to affiliate fees.\",\"Star Wars movies are meant to be a couple of hours of diversion from reality, and we need that. They are optimistic and hopeful stories,\",\"My dream role is to be in Star Wars,\",\"Top 10 Takeaways: `Star Wars: The Force Awakens' Sets Records with Historic Opening; What Other Records Will It Break?\",\"All those Star Wars films... I loved them, I created them, I'm very intimately involved in them, and I sold them to the white slavers that take these things and uh, and... [ laughs ].\",\"The new `Star Wars' film will nourish Disney's studio, theme-park and merchandise businesses for years. Since acquiring creator Lucasfilm for $4 billion in 2012, Burbank, California-based Disney has expanded the merchandise lines, produced new TV shows and mapped plans for themed lands at parks in California and Florida. And the studio has as many as five more `Star Wars' films in the works.\",\"Fan films -- whether related to `Star Trek,' `Star Wars,' `Harry Potter,' `Lord of the Rings,' `Power Rangers,' `Batman' or any other franchise -- are labors of love that keep fans engaged, entertained, and keep favorite characters alive in the hearts of fans. Like other current fan films, Axanar entered production based on a very long history and relationship between fandom and studios. We're not doing anything new here,\",\"Ralph was the first person I hired to help me envision Star Wars.\",\"In my mind, this is how you should see them. Then there's this weird Topher Grace edit of the prequels -- it's genius. He edited the prequels together into one movie, and supposedly it's brilliant. I've seen part of it, but I have to watch the whole thing. If it's great, I'd say, do 4, 5, 6, and then Topher Grace Special Edition. Then watch all of Star Wars Rebels. They're great. I love them more than some of the movies.\",\"Star Wars had the greatest villain in cinema history. So, how you bring a new villain into that world is a very tricky thing? We knew we needed to do something f -- king bold. The only reason why Kylo Ren has any hope of being a worthy successor is because we lose one of the most beloved characters. Long before we had this title, the idea of The Force Awakens was that this would become the evolution of not just a hero, but a villain -- and not a villain who was the finished, ready-made villain, but someone who was in process. As a father, as a friend to people who have children, I know what it's like to see struggle, to be part of struggle. I know how painful it can be. I know how real it is. And this is, of course, an insane extrapolated version. It's this massive tradeoff: how can we possibly do that!? But... if we hadn't done that, the movie wouldn't have any guts at all. It felt very dangerous.\",\"Thus, the fundamental underlying story of `Star Wars' mirrors patterns of existence that are common to all humanity. The hero leaving his surroundings to explore a strange and dangerous new world is akin to children growing up and becoming adults and many other journeys humans embark on in the course of their lives.\",\"It's a strict schedule and we don't have free time to go get in line for Star Wars.\",\"Star Wars: Episode VII The Force Awakens Soundtrack-John Williams\",\"There are so many adults coming in and buying, often really for themselves, especially Star Wars. You've got the people who grew up with the original Star Wars, the next generation who came to it with the Phantom Menace, and then this new one coming to it for the first time now.\",\"He said this morning that he was a `Star Wars' fan,\",\"I think that Star Wars played a big role in reminding people that that indeed could be a really cool source of inspiration.\",\"We always knew the worldwide opening for Star Wars: The Force Awakens was going to be huge, but the film has exceeded our expectations,\",\"Adding Star Wars rides and other attractions to the Disney theme parks could even help Lucas replace ESPN as Disney's crown jewel.\",\"Ever since I was little I enjoyed Star Wars,\",\"I never thought in my wildest dreams would we ever be dealing with Lucasfilm and Disney and the Star Wars franchise,\",\"We love `Star Wars' at our house and it's a lot of fun to share it with our kids and neat for them to see the same things we did when we were young,\",\"but the fact that we were all literate, voracious readers helped. And we were also consumers of popular culture. One of the expeditions we had in' 77, during the period when we were thinking about Zork, was to go see the first showing of Star Wars in Boston. A bunch of us trooped over to see it, because we had seen... I think we had seen a trailer for it on TV, that made it look like it was actually going to be an intelligent science fiction movie, really the first one since 2001: A Space Odyssey.\",\"Okay, everybody, I got to get to Star Wars,\",\"Boxing Day is one of the largest movie-going days for Australian cinemas as it not only sees highly-anticipated awards season and family films open, but also finds many of the biggest films of all time in only their second or third week of release, such as Titanic, Avatar and, this year, Star Wars,\",\"Wearing Star Wars sets a standard new. Shows in pajamas confidence, yes!\",\"For The Force Awakens, when J.J. Abrams asked me if I would be in it, he said, `Do you just want to do the voice?' And I said, `I want to be in the costume, but I want it to be faster.' So what they did was 3D print it. It weighs about the same, I would say, because the plastic is quite heavy, but it allows you to prototype things. So it looks exactly the same, but there are differences to the way it fits together that make it much faster to put on and take off, which is most important. It gets hot in there,\",\"Mr. Smith doubts I'd have any success as a writer without Star Wars,\",\"Basically, it's the story of a little boy who grows up to be bad, has some kids who defeat him, redeem him, and then the galaxy goes back to being good again. That's Star Wars in 10 seconds.\",\"Star Wars Cast Recreates Metropolis?\",\"When I was home sick from school I'd watch (the `Star Wars' movies) each like eight times,\",\"In the toy area, Lego is always a top toy and it never ceases to surprise just how well it does; it's been spectacular and everyone is getting in to the Star Wars theme.\",\"Dilwale Overseas: Gulf -- biggest ever opening for a Bollywood film, and the number one film this weekend, higher than `Star Wars: The Force Awakens' and other films,\",\"Long before we had this title, the idea of The Force Awakens was that this would become the evolution of not just a hero, but a villain. Star Wars had the greatest villain in cinema history. So, how you bring a new villain into that world is a very tricky thing. We knew we needed to do something f * cking bold. The only reason why Kylo Ren has any hope of being a worthy successor is because we lose one of the most beloved characters.\",\"So we thought we would show our excitement the only way we know how: by editing footage of the Star Wars movies to the tune of `Stayin' Alive.' You can clap along, you can dance along!\",\"Can someone do me a favour and tell Neil deGrasse Tyson that Star Wars is a fantasy and is set in a universe with THE FORCE? Dumbass,\",\"I had a great mom. She would rent me Muppets and Star Wars movies,\",\"J.J. was relentless and very persuasive, and in the end, I did design both `Trek' movies with him. So when he asked me to do `Star Wars,' terrifying as it was, I didn't argue.\",\"The movie is yours now and I really hope you enjoyed it and we are so happy to be starting on Episode VIII in a few weeks in London and it is going to be fun,\",\"so we thought we'd show our excitement the only way we know how: by editing footage from the Star Wars movies to the tune of `Stayin' Alive' by the Bee Gees.\",\"I don't care about Star Wars.\",\"In one of the episodes, one of the characters speaks in an ethnic language from Kenya, and we all recognised it and were really, really excited, because we felt like Star Wars is ours now.\",\"The is the first time we've been able to go to the cinema together to see Star Wars\",\"Han doesn't say, `Chewie -- we're home,' in this series, but it's absolutely how Star Wars fans feel reading it. This series strikes a great balance of plucking on nostalgic strings by revisiting the golden era between Episodes IV and V and pitting familiar characters in long-imagined, unseen conflicts, while also unveiling new faces with new adventures that fit the tone just as well. Sana Solo and Grakkus the Hutt might technically be new `Expanded Universe' characters, but they fit so seamlessly with Luke, Leia, Han and the gang you'll swear you saw their action figures a long time ago, in a Darth Vader carrying case far, far away.\",\"It is no overstatement to say that the Star Wars action figures revolutionized the toy market,\",\"We wanted to go watch a movie. What ended up was a `Star Wars' experience of a lifetime that Cooper will never forget,\",\"We have Spotlight. It's a great film, an awards film. Last year, we may have put that in the first week of January. This year we won't because of Star Wars.\",\"I don't think you can overstate the power of Star Wars\",\"I noticed the last few movies that I'd made were costing the company a lot of money and I didn't think that was fair to the people that worked there or the company. So, I made a decision to move ahead on the next Star Wars series and we were starting to do that.\",\"I felt like I had this great thing in `Star Wars' that provided all these opportunities and gave me a career, but it all kind of felt a little too handed to me. I didn't want to go through life feeling like I was just riding a wave.\",\"Much like the figures from ancient legends, the characters in `Star Wars' have a dimension of heroes and villains, and crystallize what is best and worst in human nature. In that sense, they perfectly fit together.\",\"These authentic lands will have two signature attractions, including the ability to take the controls of one of the most recognizable ships in the galaxy, the Millennium Falcon, on a customized secret mission, and an epic Star Wars adventure that puts guests in the middle of a climactic battle,\",\"I feel very strongly about this: They should watch the \\u201970s trilogy, so it's really Episodes 4, 5 and 6 -- Star Wars, Empire Strikes Back, Return of the Jedi. I'd allow them to skip the whole second three movies. It's fine if you don't see them.\",\"These are all things that you either don't need at all or you'd be slightly better off with a non - `Star Wars' version. And I say that as someone whose wife once gave him an R2-D2 eggcup as a present. Because if you love eggs, and you love `Star Wars' ... you'll still, in general, find yourself using a normal egg cup.\",\"What's so weird about this movie is, I know that it's `Star Wars,' that it's a big investment and there's all this expectation, but it felt more homespun somehow every day making this movie than anything I've worked on,\",\"Hello old timer. The Force Awakens and there's A New Hope.\",\"It was a different type of Star Wars, a little like the old ones with a good modern taste to it. I thought it was pretty good.\",\"Get to `Star Wars '\",\"I didn't hate the middle trilogy as much as many Star Wars fans did-but it wasn't Star Wars. There were some very good things, such as Darth Maul, who was a great villain. Then George Lucas made the same mistake he did with Boba Fett, killing him off unnecessarily, in a really facile way that didn't do the character justice. But there was just so much CGI, and then the absurdly complex back story of the Trade Federation. It was as bad as trying to understand Israel and Palestine; I'm still not all that sure which side I'm on.\",\"These are my kids. All the `Star Wars' films. I loved them, I created them, I'm very intimately involved in them,\",\"In `The Force Awakens' I want to tell a brand new story with new characters,\",\"I think most of my fans like the more original or culturally obscure stuff I do more than the Star Wars images. But the more obsessed fans of Star Wars or comic culture are attracted to the style and graphic impact that my unusual approach to their familiar world represents.\",\"Liberals Just Declared Star Wars `Racist' -- The Reason Why Is Mind-Blowing,\",\"We bought out a showing of Star Wars,\",\"There are trivia contests, the band kids have all learned the Star Wars theme music and play it in the common area at lunchtime. It's just been a fantastic week so far.\",\"You got ta remember, `Star Wars' came from nowhere. `American Graffiti' came from nowhere. There was nothing like it. Now, if you do anything that's not a sequel or not a TV series or doesn't look like one, they won't do it!\",\"The Force Awakens! Before Han Solo, there was a great carpenter named Harrison Ford. And here he is, with his crew, the day he finished building my recording studio back in 1970... Thank you Harrison... may the force be with you...\",\"We start shooting Episode VIII in January, we've been prepping the movie for the last year and (writer and director) Rian Johnson has been doing an amazing job.\",\"I don't care. I don't care about `Star Wars' and I never f *** ing did!\",\"I saw my first `Star Wars' movie when I couldn't even remember,\",\"The White House said that Star Wars: The Force Awakens will be screened on Friday for members of Gold Star families, an organization of family members who lost relatives in military combat.... The president also indicated that he would attend the screening, telling the media at the end of a press conference, `OK everybody, I have to get to Star Wars.\",\"And I'll say that because as much as I desperately love 'Em pire' -- and it's hard to say `Star Wars' over 'Em pire' --'Em pire' is so standing on the shoulders of `Star Wars.' Like if 'Em pire' existed without `Star Wars,' would it have been as strong? I don't know. The whole' I am your father' [ works ] because we got two years of feeling and living and breathing with Darth Vader. So as much as I love that moment -- it's maybe one of the best scenes of all time -- the absolute sheer brilliance of everything George [ Lucas ] did in that first movie is what allowed for 'Em pire' to exist.\",\"I didn't mean that women and girls don't love Star Wars. I've been to enough Comic-Cons to be well aware that Star Wars has a wonderful and enormous female fan base. But a lot of the approach to marketing has been to sell to boys.\",\"... And it's like, my wife knows. She's like, `Ah, it snowed, but it didn't snow two inches so he's not gon na be watching `Star Wars' today.' So of course we had the snow, and my son and I were in here just nerding out. We've got the Tauntaun sleeping bag, that's a Wampa rug. So we'll be all decked out. My wife's just like, (sighs).\",\"I felt like I had this great thing in Star Wars that provided all these opportunities and gave me a career, but it all kind of felt a little too handed to me,\",\"I went to see Star Wars [ Sunday ] night,\",\"Star Wars The Force Awakens Record box offices. Star Wars: The Force Awakens obliterated Harry Potter and The Deathly Hallows Pt. 2's early open record of $43 million with a $57 million Thursday night performance, and now, according to The Hollywood Reporter, The Force Awakens has set another record. Such an outcome would surprise few analysts, but the numbers were nevertheless eye-popping.\",\"licensed Star Wars toymakers Hasbro (NASDAQ: HAS) and Mattel (NASDAQ: MAT), as well as the maker of the Star Wars Battlefront video game, Electronic Arts (NASDAQ: EA) could all also have their stock performances reflect the film's success or failure.\",\"There is a screening of Star Wars for Gold Star families and children [ of fallen soldiers ] coming up, so I'll try to be relatively succinct.\",\"There is a screening of `Star Wars' for Gold Star families and children coming up, so I'll try to be relatively succinct.\",\"Well, guess what, gang? Lots of Oscar voters now were probably members of the academy then. This is an older group. They are gon na go to this `Star Wars' with their grandchildren and they're going to be so nostalgic.\",\"Star Wars is like the gateway to all other nerd things,\",\"going to make some weird thing. If you've seen Rian's work, you know it's not going be like anything that's ever been in Star Wars.\",\"Star Wars had the greatest villain in cinema history. So, how you bring a new villain into that world is a very tricky thing. We knew we needed to do something fucking bold. The only reason why Kylo Ren has any hope of being a worthy successor is because we lose one of the most beloved characters.\",\"With the increased demand for `Star Wars,' we will continue to add showtimes to accommodate the avid fans that have been eagerly awaiting the seventh film in this blockbuster series,\",\"I don't care. I don't care about Star Wars and I never [ expletive ] did!\",\"About last night.... Star Wars was awesome.... I'm the stormtrooper,\",\"Watching Star Wars in style.\",\"He's so great. I even texted him ahead of time when we were thinking about [ the episode ], and I was just like, `Hey, would you be OK going to the Star Wars premiere with the guys, but not being a Star Wars fan and just being completely pro- Star Trek?' I got back a text five seconds later that said, `Yes! I'll absolutely do that!' He was game, and on board, and we love having him back whenever we can get him,\",\"Okay, I've read this guy's name three times, I don't remember it. I don't care. I don't care about `Star Wars.' I never f -- ing did. I'm sorry. I'm tired of pretending. I'm tired of pretending. I don't care about it.\",\"Pastor Tim Lucas was 6 years old when the first Star Wars movie came out, and he remembers, in the Christmases that followed, replacing the tiny figures in his mother's Nativity scene with Han Solo, Princess Leia and R2D2. `I didn't care about the star of Bethlehem,' said Lucas, the lead pastor at Morristown-based Liquid Church. `I cared about the Death Star.' Now, Lucas -- no relation to George, sadly -- is doing the same thing on a wider scale as a new installment of the franchise is about to hit theaters. Services in the coming Sundays at Liquid Churches around New Jersey will weave the Star Wars story together with Biblical theology in what they're calling a `Cosmic Christmas.\",\"the first openly trans person to be featured in the Star Wars franchise\",\"Joseph Campbell once said all the great myths, the ancient stories, have to be regenerated in every generation. He said that's what you are doing with Star Wars. You are taking these old stories and putting them into the most modern of idioms, the cinema. Are you conscious of doing that? Or are you just setting out to make a good action-movie adventure?\",\"Rather than going on TV chat shows I would rather give back somehow by going to hospitals. I want to do more of that. Star Wars movies are meant to be a couple of hours of diversion from reality, and we need that. They are optimistic and hopeful stories. But in comparison to what we can do with this [ the hospital ], last night [ the Star Wars premiere ] is very trivial.\",\"We always believed the worldwide opening for Star Wars: The Force Awakens was going to be strong, but these results have exceeded our expectations,\",\"We were working with a writer [ on another `Star Wars' movie ] -- it wasn't quite working out -- but I was also... you know, I was also stepping away a little bit and turning things over to Kathy Kennedy,\",\"I have tons of shirts, boxers, socks, FunkoPop figures, a The Force Awakens blanket, a BB-8 pillow buddy,\",\"`Star Wars' was awesome, although I have to say, there's an image -- and I'm not going to be a spoiler -- but as someone who grew up, as someone who stood with his dad for three hours to see the opening of `The Empire Strikes Back,' as someone who grew up, as a kid, idolizing Han Solo as perhaps the coolest character in all of cinema, I will say there was an image last night that will scar me forever. I'm not going to spoil what it is, but it was highly traumatic.\",\"Star Wars fans are crazy, aren't they?\",\"unraveled the entire moral superstructure of the Star Wars franchise.\",\"Right now all eyes are turned toward Star Wars and we can leverage this historic pop-culture moment to reach new people and teach them about the birth of Jesus Christ,\",\"Star Wars: The Force Awakens Is a Prime Example of Hollywood's Nostalgia Problem.\",\"Abrams' challenge was in taking this obsession for Star Wars and creating a new story that would deliver for the fans and excite newcomers,\",\"And when I say kids, I really mean adults, too. This is what `Star Wars' is really all about -- taking it to that next level, so that when they go home afterward they really know that they had an experience.\",\"This is the Star Wars movie that the fans have been craving and waiting for and now its here and it's getting the positive reviews and Star Wars is back. This is unlike any other franchise in the history of movies when it comes to the fan base and when it comes to the level of excitement surrounding it\",\"All those Star Wars films... I loved them, I created them, I'm very intimately involved in them, and I sold them to the white slavers that take these things, and...\",\"It was like the bar scene in Star Wars, rewritten by Harold Pinter.\",\"I feel proud that we have done something that, you know, feels like Ample Hills and feels like Star Wars,\",\"Universal Pictures, Steven [ Spielberg ], Frank and Colin [ Trevorrow ] congratulate Star Wars: The Force Awakens on the biggest opening weekend in galactic history.\",\"The DNC timed those democratic debates for the `SNL' weekends and `Star Wars,' who knows?\",\"I guess I felt like I had this great thing in `Star Wars' that provided all these opportunities and gave me a career, but it all kind of felt a little too handed to me. I didn't want to go through life feeling like I was just riding a wave.\",\"Parents are suddenly in a quandary. M in my mind suddenly feels like I would tell my kid they need to be sixteen before they can watch that. Now comes Star Wars which used to be pretty much PG all the way through.\",\"Once knew a girl by the name of Rhoda / Watched `Star Wars' just to see _____.\",\"a nice family comedy to be around [ for ] the holidays. So... Star Wars is scared s *** less.\",\"There's a screening of Star Wars for people who lost a family member in the Iraq war.\",\"Sure, it's still a fun ride -- shootouts, getaways made via hyperspace, wisecracks. But pretending The Force Awakens is anything more than a glib facsimile of A New Hope, the original Star Wars movie, is delusional. It's dull because it is achingly unoriginal. Abrams, at every turn, plays it safe, with multiple `takes me right out of the movie' lapses.\",\"While Star Wars is a huge franchise globally, in India, we treated it as the launch of the franchise. So we started our campaign last year itself. We went to various Comic Cons (comic book conventions) and created awareness about the film. As a result, there was sustained visibility around the film, which has helped us get so many different brands on board. We have brands across categories and merchandise across price points for Star Wars - The Force Awakens,\",\"braved the intimidating weight of `Star Wars: the Phenomenon. '\",\"I'm from Peckham, and I'm in a Star Wars movie.\",\"I'm a crazy fan of `Star Wars' and just entering that world again. It's an amazing world. I just love those entire scenes,\",\"We're out shopping but this year Star Wars is big on my mind. It's kind of eclipsing Christmas,\",\"Who likes Taylor Swift? Who likes `Star Wars?' Who plays football? Who likes animals?\",\"It might seem like a small distinction, because The Empire Strikes Back is a sequel to Star Wars and couldn't exist without it, but it's a critical one. Although Empire is a direct continuation of Star Wars' story, featuring all of the original film's cast, it is its own animal in terms of tone, pacing, structure, and the circumstances behind its development, production, and release.\",\"Craig does make a cameo in Star Wars VII as a stormtrooper, turning up in one of the movie's most memorably nostalgic scenes.\",\"I would play Star Wars in my living room with my siblings. We had this orange-colored carpet, so we would pretend it was the desert in Tatooine.\",\"Oh, what's the big deal, even I knew they'd make another Star Wars eventually.\",\"I still am. I wear my Han Solo costume when I go to `Star Wars' conventions.\",\"`I knew when we purchased Lucasfilm that the No. 1 priority by far was making a great film,' said Mr. Iger, who slipped into a theater in Santa Monica, Calif., to watch The Force Awakens with other moviegoers on Friday. `It wasn't just about storytelling, it was recruiting and engaging new fans in the U.S. and around the world,\",\"I'm a huge Star Wars fan, but here's the good news: This is America and you can see two movies in one weekend,\",\"Even before it opened in theaters today, the new Star Wars was the most talked about movie of the year on Facebook,\",\"Father can't kill son, son can't kill father. So they live again to star in `Star Wars IV.\",\"You are doing a take and then suddenly (Star Wars producer and Lucasfilm head Kathleen) Kennedy is running up and she is fixing your hair.\",\"Oh, that sounds great, but I want to be in Star Wars.\",\"You're not just dealing with fans, but superfans. I was on radio the other day with the guy who runs the Star Wars religion. Ray D'Arcy asked him where he was watching the movie, and without a hint of irony he said he couldn't say, because he didn't want the paparazzi to follow him there. That's who you're dealing with...\",\"Star Wars and Decadence,\",\"He did `Star Wars' rip-off stuff in the wake of all of George Lucas' success. And he needed a kid.\",\"When it became clear what this story was and where `Episode VIII' and `Episode IX' would go, the end of this movie was very much intended to be a cliffhanger. Obviously, the Luke storyline will continue in a very strong way, but it wasn't material for this movie.\",\"It didn't feel like something I would campaign for because I love it so much and it feels like a sacrilege somehow to be involved. `Star Wars' was so big. It was so much its own unreachable, powerful thing.\",\"Paying to watch a new Star Wars movie, in the wake of its predecessors... is like returning to a restaurant that gave you severe food poisoning on your last three visits,\",\"Apart from these, there are other brands like HP India, Subway, Duracell and Amazon. in whose global tie-ups with Star Wars have extended to the Indian market as well. Therefore, we see their visibility here,\",\"One of the things I love about this new movie is that they've dialled down the CGI. The first Star Wars film, from 1977, had better special effects than in the more recent ones, and JJ Abrams has reigned them in to exactly where they should be. It looks like those movies I fell in love with.\",\"We've had some amazing movies-James Bond, Star Wars and Harry Potter. All these blockbusters help generate about & pound; 140m from visitors and over the last couple of years there's been an increase in the number of productions by 35%,\",\"It's Star Wars, you do the wipes!\",\"I have been working with Disney for 40 years and chose them as the custodians of Star Wars because of my great respect for the company and [ Disney CEO Bob Iger ]'s leadership,\",\"Star Wars is the story of a simple farm boy who buys two robots,\",\"The parallels between the Bible and Star Wars are striking. At its core, Star Wars reflects spiritual faith in that it's the battle between good and evil, the light versus the dark. Even the famous phrase `may the force be with you' has roots in Christian theology,\",\"I hate Star Wars,\",\"To put it more simply, Campbell studied Shakespeare to produce The Hero with a Thousand Faces, and Lucas studied Campbell to produce Star Wars.\",\"At the last minute we found out about this Star Wars premiere,\",\"They felt like they couldn't be themselves. They were hiding a big part of who they were. So... I wanted HerUniverse to be a safe community where female fans could step into the spotlight and say, `Hi, I'm Ashley and I'm a Star Wars fan.\",\"I've met so many wonderful people, all over the world. It's a wonderful community of likeminded people with an interest in Star Wars. There is nothing else like it\",\"Over the summer, Star Wars came out, and by September I didn't know what anybody was talking about,\",\"Star Wars movies are meant to be a couple of hours of diversion from reality, and we need that. They are optimistic and hopeful stories. But in comparison to what we can do with this [ the hospital ], last night [ the premiere of Star Wars: The Force Awakens ] is very trivial.\",\"he's 15, and I was a huge Star Wars fan so sharing this with him is just incredible\",\"It's definitely on my bucket list of challenges to take on, and it did not hurt that it was Star Wars.\",\"In Star Wars: The Force Awakens, the energy in a Star is enough to destroy ten-thousand planets, not just a few here & there.\",\"Everybody went out and made spaceship movies and they were all horrible and they all lost tons of money. And you say, there's more to it than that. You just can't go out and do spaceships. Of course, the only way you could really do that [ make money ] is not take chances. Only do something that's proven. You got ta remember, `Star Wars' came from nowhere. `American Graffiti' came from nowhere. There was nothing like it. Now, if you do anything that's not a sequel or not a TV series or doesn't look like one, they won't do it!\",\"Art of `Star Wars: The Force Awakens\",\"2015 in Republican politics, as explained by `Star Wars. '\",\"There's such a high and great joy to see and anticipate in the creative process from a blank canvas to its completion. That's what makes me thrive as an artist. In every piece of art that I do, whether Disney or Star Wars or my own fine art are all special and much love and labor are put to each. My favorites are the ones that catapulted me to a new level when it comes to approach or technique or something new that I learned. Those are the ones that are hard to let go. I am humbled and grateful every single day that I can wake up and do the thing I love, which is to paint,\",\"Fun, fresh-faced leads; a terrifying, three-dimensional villain; a lightsaber battle for the ages. Fear not, Star Wars fans: JJ Abrams has made the sequel of your dreams,\",\"Look, anyone who starts with Episode I will be so bored so fast that they'll have no frigging idea what anyone saw anyone saw in Star Wars. I guess I'd say 4, 5, then flash back to 1, 2, 3, and then finish with the teddy-bear movie (Return of the Jedi). Then on to the new one.\",\"Both Mary Jo and I do other films and projects when we are not working for J.J. Being freelance, we take other projects. Wanting to expand our horizons, we like to do other things. It has worked out till now. I took another film when [ J.J. ] said he wasn't doing Star Wars. I spent a year trying to apologize. I had a long-term relationship with J.J.\",\"Star Wars: Shadow of the Empire\",\"Like a Rembrandt painting, Star Wars will outlive all of us.\",\"After achieving its historic opening weekend at the global box office, Star Wars: The Force Awakens continues to thrill audiences and break records in IMAX theatres worldwide,\",\"This particular protostar system looks like a double-bladed light saber which is timely with all the Star Wars frenzy going on right now but we are seeing a birth stage of a new star system,\",\"This is a movie about a movie about Star Wars,\",\"We started using pop culture last year, we had an 80's theme and brought out a Delorean and KITT. This year we're doing something similar with the Star Wars theme -- we'll have the retro arcade, a mini toycon, Star Wars cosplay and a lot of other opportunities to have fun and remember your childhood.\",\"Not really. [ The Force Awakens ] sets up a lot of stuff. There's a lot of people to deal with. And Rian took on that job and he's going to change it, because he's Rian. And I'm sure Colin will change what Rian does... These movies will all be so different. Rian Johnson is a friend of mine -- he's going to make some weird thing. If you've seen Rian's work, you know it's not going be like anything that's ever been in Star Wars.\",\"Ronald Reagan couldn't have said it better. Star Wars was a Ronald Reagan sort of film.\",\"You put the star in Star Wars,\",\"Basically, this was a side project that me and five other people decided to do, as we love Star Wars and believe kids nowadays need this,\",\"I was just glad to be involved in it, I mean obviously Star Wars has been very, very good to me,\",\"The Star Wars universe is a little like Narnia: even those who have been there can never be sure of getting in again.\",\"Neeeeeeeeed to watch Star Wars ASAP!\",\"Star Wars, Silent\\u00f3, and the Super Bowl: Engaging Popular Culture.\",\"Daisy Ridley praises Star Wars: Episode VIII script\",\"In our real-world physics, that's the term used for the stored-up power that an object has yet to unleash, and in Star Wars, it's basically the same thing, but applied to people -- the likelihood of a character to rise toward the light or sink into the darkness. Every Star Wars story is a coming-of-age tale.\",\"I was very surprised and heartened at the overwhelming response to the character of Capt. Phasma. J.J.'s (Abrams) been open about the fact that he wanted to respect the origins of the film and celebrate them, but to bring them into the modern day. And confirmation of that seemed to be, to me, in this amazing character of Capt. Phasma, who is Star Wars' first on-screen female villain.\",\"That is the heart, really, of the company. It goes back all the way to 1923 when it was founded by Walt Disney and his brother Roy. It's all about storytelling, that's what creates the most value. In Pixar, we had some of the best storytellers in motion pictures and certainly the best in animation. We had in Marvel stories and characters, great storytelling. And obviously with George Lucas' Star Wars, and Indiana Jones by the way as well, which is coming, we have more great stories. I think in a world where there is far more content and intellectual property and much more choice, great stories still hold their value and actually stand out given all the choice people have.\",\"There is a screening of Star Wars for Gold Star families and children (of US soldiers killed in combat) coming up. So I'll try to be relatively succinct.\",\"Fan films -- whether related to {i: Star Trek, Star Wars, Harry Potter, Lord of the Rings, Power Rangers, Batman} or any other franchise - -- are labors of love that keep fans engaged, entertained, and keep favorite characters alive in the hearts of fans.\",\"I want to clarify my interview on the Charlie Rose Show. It was for the Kennedy Center Honors and conducted prior to the premiere of the film. I misspoke and used a very inappropriate analogy and for that I apologize. I have been working with Disney for 40 years and chose them as the custodians of Star Wars because of my great respect for the company and Bob Iger's leadership. Disney is doing an incredible job of taking care of and expanding the franchise. I rarely go out with statements to clarify my feelings, but I feel it is important to make it clear that I am thrilled that Disney has the franchise and is moving it in such exciting directions in film, television and the parks. Most of all I'm blown away with the record breaking blockbuster success of the new movie and am very proud of JJ [ Abrams ] and Kathy [ Kennedy ].\",\"LIVE Star Wars Nativity Scene,\",\"Well Dana, the DNC timed those democratic debates for the SNL weekends and Star Wars, who knows?\",\"Star Wars had the greatest villain in cinema history. So, how you bring a new villain into that world is a very tricky thing? We knew we needed to do something f -- king bold. The only reason why Kylo Ren has any hope of being a worthy successor is because we lose one of the most beloved characters. Long before we had this title, the idea of The Force Awakens was that this would become the evolution of not just a hero, but a villain - and not a villain who was the finished, ready-made villain, but someone who was in process. As a father, as a friend to people who have children, I know what it's like to see struggle, to be part of struggle. I know how painful it can be. I know how real it is. And this is, of course, an insane extrapolated version. Patricide is not ideal. It's this massive tradeoff: how can we possibly do that!? But... if we hadn't done that, the movie wouldn't have any guts at all. It felt very dangerous.\",\"We're hoping it's not too much that Disney (which owns the rights to Star Wars) gives us a call later,\",\"I Calculated the Mass of a Star Wars Blaster Bolt for You\",\"My friends are telling me I shouldn't abandon my girlfriend on her birthday to see the new Star Wars movie,\",\"Neil deGrasse Tyson Is The Grinch Who Ruined `Star Wars: The Force Awakens,\",\"Dana, the DNC timed those Democratic debates for the NFL weekends and Star Wars, who knows?\",\"I'd say it's `Star Wars' is first, `Harry Potter' is second, and `Twilight' is third,\",\"As an avid `Star Wars' fan and a huge fan of science, I jumped at the chance\",\"Then there is the earning power adding `Star Wars' rides and other attractions to the Disney theme parks. `Star Wars\",\"Commercially speaking, pop culture is in the business of sequels, producing fresh iterations on familiar products. And the value of those sequels is just going to continue to grow, as audiences get richer and as the global audience grows. But it says something deeper too. Critics hope that success is a reflection of quality, but the truer thing is that success in most cultural products is a reflection of familiarity. Every year there are a great many weird albums that sell nothing and brilliant movies make less than $50 million. Star Wars made $50 million before breakfast on Friday, so the deeper reason that franchises work is that people don't like new things as much as we think we do. What we like are old things made new again, and again, and again, and the old made new is `Star Wars' in a nutshell.\",\"Star Wars: Darth Vader, Volume 1\",\"Star Wars: The Forces Awakens.\",\"So we thought we would show our excitement the only way that we know how, but editing footage from the `Star Wars' movies to the tune of `Staying Alive. '\",\"I am told that `Star Wars' will be waiting for us up there,\",\"Rian came over to my house, we talked about `Star Wars' , and I said `This is boring, let's go watch `Sgt. Bilko' ! I put on `The Court Martial' , where Sergeant Bilko accidentally inducts a chimpanzee into the army. It's the funniest half an hour of television. Rian was aware of `Sgt. Bilko' , but I don't think he'd ever seen it. And I thought to myself, this is a big test-if he doesn't think this is funny, I'll have nothing to say to him. Fortunately, he loved it.\",\"A Look At Star Wars' Success\",\"I don't care about Star Wars, I never f ** king did... who gives a f ** k?\",\"The Luke Skywalker lightsaber from the original 1977 film was made from a vintage Graflex camera flash. It had seven plastic grips attached to the handle, and a Texas Instruments Exactra calculator LED bubblestrip. When the lightsaber returns in The Empire Strikes Back, it only has six grips on the handle, and each grip had a notch cut out to accommodate a visible fastener. Additionally, the bubblestrip had been replaced by a vintage computer connector board. The Force Awakens trailer once again features the same lightsaber, still with the correct vintage computer board, and still with the notches cut out of the handle grips -- as we last saw them. However, it is unclear as to whether there are six or seven grips on the handle. Can you please confirm whether The Force Awakens Luke Skywalker lightsaber has six, or seven, grips?\",\"They were mining that expertise, but also cautious to get people who came with recommendations. So there's a real Star Wars bar scene.\",\"But neither of those things were in Star Wars [ A New Hope ]. Star Wars didn't say Luke was the son of Vader. Star Wars didn't say Leia was the sister of Luke. You didn't understand what these references were: the Empire, dark times, Clone Wars. There were these things that were discussed that don't get explained. George [ Lucas ] dropped you into a story and respected you to infer everything necessary to understand what you need to know.\",\"The Week in Star Wars -- The Force Awakens reviews are in, suprise cameos, huge box office opening, Harrison Ford doesn't want to be in the Han Solo movie and more\",\"His tendency to play characters of different backgrounds extends to his new Star Wars character, whom Isaac has described as' non-ethnic.' Notably, he didn't say `white' or `racially ambiguous,' instead referring to his character's absence of ethnicity.\",\"[ Star Wars: The Force Awakens ] is good. Not great. But far better than `not bad' . Solidly, confidently good.\",\"We got a call from [ Lucasfilm president ] Kathy Kennedy saying that they wanted to restore the original chess set from Star Wars, and the problem was that the characters that we had made, you know, close to 40 years ago, were in a horrible state of disintegration.\",\"Preview of Star Wars: Obi-Wan and Anakin # 1\",\"With my son, my plan had always been to show him the films in the order in which they were made. Even though I enjoy the prequels (well, two of them), I wanted him to experience the films the way I did. But I showed him Star Wars (a.k.a. Episode IV, a.k.a.. A New Hope) when he was around 4, and, aside from a couple of scenes, he was bored. So, a few months later, we started again, this time with The Phantom Menace... and he was totally enraptured. He loved Anakin. He loved Qui-gon. He loved Darth Maul. He wanted to see the scene where Anakin met Padme over and over again. He loved the underwater scenes. He loved the speeder race. (Thank the Lord he didn't care at all for Jar Jar.) Who was this strange kid who loved The Phantom Menace so much?! We moved on to Attack of the Clones, and then the first half of Sith. He had become so taken with Anakin -- even grown-up Hayden Christiansen Anakin -- that I didn't have the heart to show him the dark ending of that film. After that, we moved on to Episode IV. After THAT, we showed him the finale of Sith. Then, Empire and Jedi. Ultimately, the prequels had more of an impact on him than the original trilogy... except, oddly enough, Return of the Jedi. All along, I was surprised to discover that he was less interested in the kiddie stuff like Jar Jar and the Ewoks, and more taken with the drama of Anakin and the Dark Side and Luke. If there are two sequences in the whole series that he's probably watched the most, it's the final fight between Anakin and Obi-Wan in Sith, and the one between Vader and Luke in Jedi. But all this was over a year and a half ago, so he doesn't remember it all that well. To prepare him for The Force Awakens, I've shown him Star Wars again (Episode IV), which he enjoyed much more this time around. I haven't decided yet if we'll move on to Empire and Jedi before we leap into The Force Awakens. I kind of don't want him to fall in love with [ SPOILER REDACTION ].\",\"This is new. This is different. But it's wed perfectly with the corpus of what Star Wars is. I've been lucky in my working life, especially with situations like Star Wars. It's been a challenge, and fun and it's been a privilege. I don't think there's anything quite like it in the history of film.\",\"reckless Star Wars schemes.\",\"So fitting for a Star Wars premiere. Where else could you wear a dress that actually looks like it came from outer space?\",\"I am a big Star Wars fan. I play the games,\",\"There were also Star Wars figures, which are popular at the moment.\",\"There's nothing like Star Wars,\",\"First, the original film was both a critical and popular success. The nation has long been fascinated with science fiction and the clash of good guys and bad guys. `Star Wars' had everything needed for success -- plot, interesting characters, special effects, memorable music, and more.\",\"It's going to be a lot of fun, we're looking to capitalize on the significant buzz that is out in the community right now surrounding Star Wars. So although it's loosely based on Star Wars -- it's more of an overall space theme, but we've got a lot of things going on starting at 6 pm all the way until midnight.\",\"Star Wars is a land filled with incredible things that blow my mind, also similar to Florida.\",\"it thought, this could be great counter-programming to what's out there. It seemed like a big opening for a nice family comedy to be released around the holidays. So `Star Wars' is scared sh * tless.\",\"I was in there on `Star Wars' and remember asking George one day, `Do you think you're going to use me or not?' And he said,' I don't know which part I prefer you in. I don't know if I like you as Han and this guy as Skywalker, or this guy as Han and you as Skywalker. I don't know. '\",\"Looks like @USATODAY took a cue from @wilw @BigBang_CBS w / Star Trek showing up on today's Star Wars #frontpage,\",\"In Star Wars: The Force Awakens, BB-8, a smooth rolling metal spherical ball, would have skidded uncontrollably on sand,\",\"`Star Wars' was awesome,\",\"The trouble is, I haven't had time to see Star Wars myself yet, so I don't want to hear any spoilers from the customers!\",\"we're not here to talk about the new Star Wars.\",\"If you're a big fan of Amy Hennig and her style of story, the big thing about her is she's gone to EA and is going to reboot a brand new Star Wars franchise in the style of Uncharted,\",\"Universal Pictures, Steven [ Spielberg ], Frank [ Marshall ] and Colin [ Trevorrow ] congratulate Star Wars: The Force Awakens on the biggest opening weekend in galactic history.\",\"Are there any other Star Wars Movies?\",\"This is the last of the Star Wars stuff so if anyone wants a Millennium Falcon they aren't going to get much more,\",\"It's so epic. I've always loved fantasy and big stories. `Star Wars' was always that for me.\",\"We fought very hard as a government to get Star Wars made in Britain because we knew it would bring jobs and investment, it would mean that we had great opportunities for British actors,\",\"So long as I continue to be involved in creating the main characters and chronicling their amazing adventures, Star Wars never gets old for me,\",\"I never knew it was going to be a lead guy in `Star Wars. '\",\"The thing that drew me in was this idea that there was this young woman out there in this vast universe who, 30 years after `Jedi,' might not know who Luke Skywalker is or might not know that he was real or might not understand that she lives in a `Star Wars' universe,\",\"' Star Wars' is a phenomenon and a wonderful and rare opportunity for people, in truth, throughout the world, to actually come together for something uplifting and positive.\",\"feels like the old `Star Wars. '\",\"They have anti-matter contained in magnetic fields... which is a real thing, but in Star Wars it's just magic and they have wings and there are sound effects in space... The Force is like a ghost or magic.\",\"The real lesson of the Star Wars movies is big government leads to a loss of freedom, whether the government was voted for by the people or seized power through manipulation,\",\"Star Wars: The Force Awakens: The Visual Dictionary.\",\"Daisy Ridley is a great actress! She is the ultimate kick ass heroine and also absolutely stunning in Star Wars #DaisyRidley #Girlpower.\",\"I was a total geek growing up and had `Star Wars' wallpaper in my room. My kids love it, too.\",\"The Wright Stuff has a great selection. If you are looking for a `Star Wars' gift for the `Star Wars' fan in your life this is the spot you want to shop at.\",\"Intergalactic Star Wars Day.\",\"Last year I stumbled into it just being a fan of Star Wars,\",\"But we talk about `Star Wars' stuff every day. It's one of the biggest things we talk about.\",\"`The Force Awakens' has succeeded where it counts most, in creating a cast of characters that viewers can spend the next several years rooting for, especially the spirited, resourceful heroine at its center. Put another way -- and hallelujah for it -- there's not a Binks in the bunch.\",\"Yeah, you know, the only Star Wars I see is when I turn off the lights and watch tape,\",\"I'm a huge Star Wars fan. I can't wait until it starts,\",\"Baker not a fan of new `Star Wars' flicks,\",\"Star Wars has generated more collectible paraphernalia than any other franchise on the planet,\",\"Which `Star Wars' is the best?\",\"This holiday season we are excited to be a part of the highly anticipated release of `Star Wars: The Force Awakens.' At Regal, we are passionate about providing exceptional moviegoing experiences including offering a wide variety of showtimes to meet our guests needs. And there are plenty of tickets available for them all\",\"and to realize that nothing in `Star Wars' would have been imagined if it hadn't been for past heroes written a long time ago, in lands far far away.\",\"(Lucas) did so much when he wrote those to make them last forever. It's something you'll always relate to. It just kind of takes you away -- all the stuff going on in the world, and you can always go back into Star Wars and things are good.\",\"I measure my life in terms of my relationship with Star Wars,\",\"Ever since they announced it. If I'm into anything a lot, it's `Star Wars. '\",\"We had more and more people coming in after they had seen the movie, and for many of the kids it was their first time to see a `Star Wars' movie,\",\"I actually feel as though I am still in the galaxy far, far away. I really never left it, having worked on all of the films. I'm happy to be continuing to be part of the whole fun of doing it. This is new. This is different. But it's wed perfectly with the corpus of what Star Wars is. I've been lucky in my working life, especially with situations like Star Wars. It's been a challenge, and fun and it's been a privilege. I don't think there's anything quite like it in the history of film.\",\"But, `Star Wars' still rules.\",\"I've got to get to Star Wars...\",\"I think Disney and Abrams decided that episode VII had to be a copy of episode IV because it is the backbone of the Star Wars saga. Now that this episode exists, the new trilogy will forever be linked to the original trilogy. They have completely eliminated the risk that people say `This is not Star Wars' , because it is exactly Star Wars.\",\"The fact that this is opening all over the world today, there's going to be no more wars, it's all Star Wars\",\"I came across Campbell's soup that was branded with a Star Wars character,\",\"I have been working with Disney for 40 years and chose them as the custodians of `Star Wars' because of my great respect for the company and Bob Iger's leadership. Disney is doing an incredible job of taking care of and expanding the franchise. I rarely go out with statements to clarify my feelings but I feel it is important to make it clear that I am thrilled that Disney has the franchise and is moving it in such exciting directions in film, television and the parks. Most of all I'm blown away with the record breaking blockbuster success of the new movie and am very proud of JJ and Kathy.\",\"Three weeks and three fire alarms later I am excited to show you my gingerbread Star Wars creation,\",\"Five Star Wars: The Force Awakens Cut Scenes Revealed\",\"We're really excited. The sad thing is three of my staff have never seen Star Wars. So they're going to go see it before all the nerds go!\",\"You played with your Star Wars figure when you're 7, and you still have it when you're 30. You're a nerd and that's OK.\",\"That had been in place for years. When we started talking about when Sheldon and Amy were going to resolve their relationship issues, and we knew that the Star Wars premiere was looming, the pieces started to fall into place.\",\"But then again, Star Wars is no ordinary film franchise. It's less a film than a giant corporate happening -- a film intended to not just sell tickets and DVDs, but to spawn toy lines, theme park rides and television shows.\",\"OK, everybody, I have to get to `Star Wars,\",\"You start with the original Star Wars movie. There is no other way. Maybe it's nostalgia. Or maybe it's not even that. I have no idea why I feel this way, but you should watch them in the order they were released.\",\"About last night... Star Wars was awesome,\",\"I don't care! I don't care about Star Wars and I never f -- ing did. I'm tired of pretending; I don't care about it,\",\"It is also possible that the first commander of the Space Force has real `Star Wars' experience,\",\"We've had a great working relationship over the years with everyone at Star Wars. We asked, they looked at what we were doing and they said yes.\",\"Just being a part of the Star Wars film and the legacy they have... to grow up watching those films and watching their work to now play alongside them, and work on their films, it's been an honour not just for me but for every single person across the company.\",\"Star Wars has been strong this year.\",\"Spoilers: J.J. Abrams talks Rey's backstory in Star Wars: The Force Awakens\",\"50 Amazing Facts About Star Wars\",\"Never saw a `Star Wars' movie and have not seen' 2001.' I don't like science fiction movies.... `Star Trek,' `Star Wars' I can't tell them apart.\",\"My dad gave me a Star Wars spaceship.\",\"Yea, awesome girl's day out to see Star Wars.\",\"I don't care about Star Wars and I never f *** ing did!\",\"Even before it opened in theaters today, the new Star Wars was the most talked-about movie of the year on Facebook,\",\"Rian Johnson is a friend of mine -- he's going to make some weird thing. If you've seen Rian's work, you know it's not going be like anything that's ever been in Star Wars. You couldn't have three more different people than J.J., Rian and [ Star Wars Episode IX director ] Colin [ Trevorrow ],\",\"I wasn't sure I wanted to be involved. And I was a little relieved when they said Michael Arndt had been hired to write `Episode VII,' because whoever writes that episode, I don't know what you do with it. But they said, `Here are these other stories we'd like to do.' And the one that caught my attention was a young Han Solo because that's my favorite character,\",\"The first thing we were able to bond was over `Star Wars,\",\"We extend a big congratulations to our friends and long-time partners J.J. Abrams, Kathleen Kennedy, Bryan Burk and all of our friends at Disney and Lucasfilms for this phenomenal achievement. The synergy created by fans of the Star Wars franchise, The IMAX Experience & reg;, and the support of our filmmaker, studio and exhibitor partners has manifested itself in a truly phenomenal way -- creating a new cinema paradigm. With stellar reviews, incredibly strong word-of-mouth, and an open runway for many weeks in IMAX, we look forward to the film's continued global success -- especially as it broadens to China on Jan. 9 -- and elsewhere across our network well into February.\",\"I think the biggest reason that `Star Wars' has such power is that it is based on powerful human archetypes,\",\"In honor of `Star Wars: The Force Awakens' being released today, I wanted to share these old pics of Kanye and me from years ago!\",\"It [ the original Star Wars ] is a classic movie. I feel like everyone's seen it, especially with the prequels that came out earlier. I think it's going to be cool to see how they continue the story.\",\"They made Carrie Fisher drop all that weight for Star Wars yet the new droid gets to be a fat round ball.\",\"Not really. [ `The Force Awakens' ] sets up a lot of stuff. There's a lot of people to deal with. And Rian took on that job and he's going to change it, because he's Rian. And I'm sure Colin will change what Rian does... These movies will all be so different. Rian Johnson is a friend of mine -- he's going to make some weird thing. If you've seen Rian's work, you know it's not going be like anything that's ever been in `Star Wars. '\",\"In Star Wars: The Force Awakens, once again I felt isolated and inadequate for not understanding Wookiee-speak,\",\"It's appropriate that `Star Wars' debuted this week because this is like a science-fiction movie. This is unbelievable that this is Dec. 23.\",\"There was a lot of action in it but at the same time there a lot of story that related back to the previous Star Wars. So it was really fun to watch,\",\"A big group was just stopped in the middle of an aisle, perfectly still and quiet. I looked up and overhead there was a screen showing part of the first Star Wars film -- the garbage compactor scene. There wasn't a person there who didn't know it by heart, including me. And yet, I, too, stopped, transfixed by it.\",\"I wanted to be able to show people who haven't seen Star Wars yet, like my little brother or my girlfriend, the original Oscar-winning version but I didn't want to have to show it to them in bad quality,\",\"Do you want to draw `Star Wars? '\",\"Susan has grandkids, so she kind of gets the excitement around `Star Wars, '\",\"But `The Force Awakens' is also burdened by casting miscalculations and scenes that are flat and ineffective. Sometimes the Force is with this film, sometimes it decidedly is not.\",\"We start shooting `Episode VIII' in January, we've been prepping the movie for the last year and (writer-and-director) Rian Johnson has been doing an amazing job.\",\"We're like sisters, which made it easy to play sisters in our new movie... Star Wars.\",\"John Williams's Film Music: Jaws, Star Wars, Raiders of the Lost Arc, and the Return of the Classical Hollywood Style Music.\",\"Flickering Myth Review Podcast -- Episode # 159 -- Star Wars: The Force Awakens\",\"The real science inspired by Star Wars\",\"There's no greater recognition that this is what people want than the response that's been had by the Star Wars fans and the audience of this film.\",\"He is a Star Wars fan and he wanted to come see Darth Vader and the Storm Troopers,\",\"focuses on the lead-up to the opening scene of The Force Awakens, which saw Poe seeking out mysterious traveler Lor San Tekka (Max von Sydow) on the planet Jakku for a key to finding the missing Luke Skywalker (Mark Hamill).\",\"But now, we just starting work on `Star Wars VIII,' the next film, so I'm back to keeping secrets again.\",\"He would ask me my opinion and my kneejerk reaction was always, `Why do you care? You tell me.' It's that kind of openness and curiosity and collaborative nature that I think allows him to be open to writing the kind of music that just touches your heart. He makes it look so easy and I can't imagine it ever is. First of all, he's a hero since I was a little kid, before Star Wars came out, listening to his albums. He's the most generous and gentle and sweet and thoughtful person I think I've met. He's really just like a dream human being who doesn't quite act like accomplished anything, meaning his modesty is so true and pure. He talks just like anyone might, but he's also had maybe the biggest imprint or impact on American film than anyone period. He's so sweet and modest and it's so genuine and who he is, it shows you how you can accomplish extraordinary things and not walk around like you've accomplished extraordinary things. That alone is inspiring and of course his music is just otherworldly and preternatural and impossible.\",\"I have been working with Disney for 40 years and chose them as the custodians of Star Wars because of my great respect for the company and Bob Iger's leadership. Disney is doing an incredible job of taking care of and expanding the franchise. I rarely go out with statements to clarify my feelings but I feel it is important to make it clear that I am thrilled that Disney has the franchise and is moving it in such exciting directions in film, television and the parks. Most of all I'm blown away with the record-breaking blockbuster success of the new movie and am very proud of J.J. (director J.J. Abrams) and Kathy (producer Kathleen Kennedy).\",\"Star Wars meets Ocean' s Eleven\",\"These are my kids. All the `Star Wars' films. I love them, I created them, I'm very intimately involved in them. And I sold them to the white slavers that take these things and...?\",\"You put a microphone in front of him, you never know what you're going to get. I love my friend Greg. He's my best friend since Kindergarten. I think that my enthusiasm for VIII is enormous. I think he also might have invented a couple of the quotes that he gave but I am very much excited for and very jealous of anyone, especially Rian, who gets to work so closely with this extraordinary cast and crew. Truly an amazing group, so in that regard, for sure. Honestly, I'm also relieved to have gotten the chance to do a Star Wars movie.\",\"I misspoke and used a very inappropriate analogy, and for that, I apologize. I have been working with Disney for 40 years and chose them as the custodians of Star Wars because of my great respect for the company and Bob Iger's leadership,\",\"And to quote The Force Awakens' Lor San Tekka, `She'll always be royalty to me.\",\"I rarely go out with statements to clarify my feelings but I feel it is important to make it clear that I am thrilled that Disney has the franchise and is moving it in such exciting directions in film, television and the parks. Most of all I'm blown away with the record breaking blockbuster success of the new movie and am very proud of J.J. [ Abrams, The Force Awakens director ] and Kathy [ Kennedy, Lucasfilm president and Star Wars brand manager ].\",\"This may have more to do with how far a larger dominant discourse is willing to `let in' feminism and anti-racism, we get discussions of representation and no more, the point remains the same: Star Wars is future-proofing itself for a new decade where women and people of color must be more than tokens. It also doesn't hurt that installing lead actors of color or women has been shown to actually increase box office earnings, not lower them.\",\"These are my kids... All the Star Wars films. I loved them, I created them, I'm very intimately involved in them. I sold them to the white slavers that take these things.\",\"I have been working with Disney for 40 years and chose them as the custodians of Star Wars because of my great respect for the company and Bob Iger's leadership. Disney is doing an incredible job of taking care of and expanding the franchise. I rarely go out with statements to clarify my feelings but I feel it is important to make it clear that I am thrilled that Disney has the franchise and is moving it in such exciting directions in film, television and the parks.\",\"I saw someone say the tacit social media ban on Star Wars spoilers is the closest we got to world peace in 2015. They're not wrong.\",\"I had a choice, I could either watch the Democratic debate or go see Star Wars,\",\"You got ta remember, Star Wars came from nowhere\",\"One of the complex challenges of depicting Leia in `Star Wars Rebels' is that we have to remind the audience that she is part of the Empire at this point,\",\"The truly impressive part of the box office performance of `Star Wars: The Force Awakens' is the speed at which it is crossing these box office milestones,\",\"`Star Wars: The Force Awakens' probably won't be able to hold off Kevin Hart and Ice Cube `s `Ride Along 2' from taking the No. 1 spot at the box office this weekend.\",\"Make another Star Wars movie that is exactly like the current Star Wars movie, which is exactly like the very first Star Wars movie. Why change? No one seems to notice, right?\",\"But the way the Episode VII galaxy is set up, there are opportunities for new archetypes almost, and the bad guy we're working with is going to feel fresh and cool.\",\"I want to clarify my interview on the Charlie Rose Show. It was for the Kennedy Center Honors and conducted prior to the premiere of the film. I misspoke and used a very inappropriate analogy and for that I apologize. I have been working with Disney for 40 years and chose them as the custodians of Star Wars because of my great respect for the company and Bob Iger's leadership. Disney is doing an incredible job of taking care of and expanding the franchise. I rarely go out with statements to clarify my feelings but I feel it is important to make it clear that I am thrilled that Disney has the franchise and is moving it in such exciting directions in film, television and the parks. Most of all I'm blown away with the record breaking blockbuster success of the new movie and am very proud of J.J. (Abrams) and Kathy (Kennedy).\",\"Sometimes it can feel like the Star Wars universe is so well trodden and so many stories have already been told,\",\"When I did Alex Cross, Morgan Freeman played Cross. He played God. How can you go back? I didn't even want to compare myself to any of that. I just wanted to do the best that I could in that situation. A lot of times I'll just do the best that I can, but for Ninja Turtles, like Star Trek or Star Wars, you've got to know what's going on there so I had to go back and do some research.\",\"Zayn Malik was liberated, The Warriors Patriots Royals and Blackhawks all celebrated. Adele dominated, Star Wars rejuvinated. Jared Fogle was and Bill Cosby may soon be incarcerated. Playboy Playmates eliminated, Rachel Dolezal perpetrated and we obsessed over that damned striped dress whose color fluctuated.\",\"This morning, I was greeted with news that our production company, Axanar Productions and I, personally, am being sued by CBS Studios, Inc. and Paramount Pictures Corporation for copyright infringement of Star Trek. First of all, I was disappointed to learn about this through an article in an industry trade. For several years, I've worked with a number of people at CBS on Star Trek-related projects, and I would have hoped those personal relationships would have warranted a phone call in advance of the filing of a legal complaint. Nevertheless, I know I speak for everyone at Axanar Productions when I say it is our hope that this can be worked out in a fair and amicable manner. Axanar is a fan film. Fan films-whether related to Star Trek, Star Wars, Harry Potter, Lord of the Rings, Power Rangers, Batman or any other franchise - are labors of love that keep fans engaged, entertained, and keep favorite characters alive in the hearts of fans. Like other current fan films, AXANAR entered production based on a very long history and relationship between fandom and studios. We're not doing anything new here. Like all fan films, AXANAR is a love letter to a beloved franchise. For nearly 50 years, Star Trek's devotees have been creating new Star Trek stories to share with fellow fans. That's all we're trying to do here.\",\"But you have to just cut it off and say, `End of ball game, I got ta move on' . Everything in your body says, `Don't, you can't' . These are my kids.... All the Star Wars films. I loved them, I created them.... I'm very intimately involved in them.... I sold them to the white slavers that take these things and...\",\"Intergalactic Finance: Valuing the Star Wars Franchise,\",\"These are my kids. All the Star Wars movies,\",\"and chose them as the custodians of Star Wars because of my great respect for the company and Bob Iger's leadership. I don't like that\"],\"x\":[\"2015-12-31T00:00:00\",\"2015-12-21T00:00:00\",\"2015-12-24T00:00:00\",\"2015-12-18T00:00:00\",\"2015-12-31T00:00:00\",\"2015-12-29T00:00:00\",\"2015-12-22T00:00:00\",\"2015-12-22T00:00:00\",\"2015-12-19T00:00:00\",\"2015-12-24T00:00:00\",\"2015-12-22T00:00:00\",\"2015-12-18T00:00:00\",\"2015-12-20T00:00:00\",\"2015-12-28T00:00:00\",\"2015-12-22T00:00:00\",\"2015-12-27T00:00:00\",\"2015-12-18T00:00:00\",\"2015-12-24T00:00:00\",\"2015-12-20T00:00:00\",\"2015-12-31T00:00:00\",\"2015-12-24T00:00:00\",\"2015-12-18T00:00:00\",\"2015-12-28T00:00:00\",\"2015-12-29T00:00:00\",\"2015-12-18T00:00:00\",\"2015-12-19T00:00:00\",\"2015-12-19T00:00:00\",\"2015-12-30T00:00:00\",\"2015-12-19T00:00:00\",\"2015-12-26T00:00:00\",\"2015-12-18T00:00:00\",\"2015-12-30T00:00:00\",\"2015-12-31T00:00:00\",\"2015-12-20T00:00:00\",\"2015-12-31T00:00:00\",\"2015-12-24T00:00:00\",\"2015-12-21T00:00:00\",\"2015-12-19T00:00:00\",\"2015-12-20T00:00:00\",\"2015-12-18T00:00:00\",\"2015-12-19T00:00:00\",\"2015-12-18T00:00:00\",\"2015-12-20T00:00:00\",\"2015-12-30T00:00:00\",\"2015-12-30T00:00:00\",\"2015-12-20T00:00:00\",\"2015-12-20T00:00:00\",\"2015-12-18T00:00:00\",\"2015-12-25T00:00:00\",\"2015-12-23T00:00:00\",\"2015-12-22T00:00:00\",\"2015-12-18T00:00:00\",\"2015-12-18T00:00:00\",\"2015-12-21T00:00:00\",\"2015-12-18T00:00:00\",\"2015-12-22T00:00:00\",\"2015-12-18T00:00:00\",\"2015-12-21T00:00:00\",\"2015-12-30T00:00:00\",\"2015-12-18T00:00:00\",\"2015-12-21T00:00:00\",\"2015-12-20T00:00:00\",\"2015-12-18T00:00:00\",\"2015-12-25T00:00:00\",\"2015-12-31T00:00:00\",\"2015-12-27T00:00:00\",\"2015-12-18T00:00:00\",\"2015-12-21T00:00:00\",\"2015-12-18T00:00:00\",\"2015-12-18T00:00:00\",\"2015-12-19T00:00:00\",\"2015-12-23T00:00:00\",\"2015-12-24T00:00:00\",\"2015-12-18T00:00:00\",\"2015-12-18T00:00:00\",\"2015-12-18T00:00:00\",\"2015-12-27T00:00:00\",\"2015-12-18T00:00:00\",\"2015-12-24T00:00:00\",\"2015-12-31T00:00:00\",\"2015-12-20T00:00:00\",\"2015-12-21T00:00:00\",\"2015-12-29T00:00:00\",\"2015-12-29T00:00:00\",\"2015-12-18T00:00:00\",\"2015-12-22T00:00:00\",\"2015-12-18T00:00:00\",\"2015-12-21T00:00:00\",\"2015-12-18T00:00:00\",\"2015-12-19T00:00:00\",\"2015-12-21T00:00:00\",\"2015-12-18T00:00:00\",\"2015-12-18T00:00:00\",\"2015-12-21T00:00:00\",\"2015-12-18T00:00:00\",\"2015-12-24T00:00:00\",\"2015-12-31T00:00:00\",\"2015-12-21T00:00:00\",\"2015-12-22T00:00:00\",\"2015-12-28T00:00:00\",\"2015-12-29T00:00:00\",\"2015-12-19T00:00:00\",\"2015-12-18T00:00:00\",\"2015-12-22T00:00:00\",\"2015-12-31T00:00:00\",\"2015-12-21T00:00:00\",\"2015-12-18T00:00:00\",\"2015-12-18T00:00:00\",\"2015-12-20T00:00:00\",\"2015-12-18T00:00:00\",\"2015-12-18T00:00:00\",\"2015-12-22T00:00:00\",\"2015-12-21T00:00:00\",\"2015-12-31T00:00:00\",\"2015-12-24T00:00:00\",\"2015-12-21T00:00:00\",\"2015-12-18T00:00:00\",\"2015-12-29T00:00:00\",\"2015-12-19T00:00:00\",\"2015-12-18T00:00:00\",\"2015-12-31T00:00:00\",\"2015-12-18T00:00:00\",\"2015-12-18T00:00:00\",\"2015-12-23T00:00:00\",\"2015-12-18T00:00:00\",\"2015-12-18T00:00:00\",\"2015-12-20T00:00:00\",\"2015-12-19T00:00:00\",\"2015-12-21T00:00:00\",\"2015-12-18T00:00:00\",\"2015-12-19T00:00:00\",\"2015-12-19T00:00:00\",\"2015-12-19T00:00:00\",\"2015-12-21T00:00:00\",\"2015-12-19T00:00:00\",\"2015-12-20T00:00:00\",\"2015-12-19T00:00:00\",\"2015-12-24T00:00:00\",\"2015-12-18T00:00:00\",\"2015-12-19T00:00:00\",\"2015-12-22T00:00:00\",\"2015-12-21T00:00:00\",\"2015-12-18T00:00:00\",\"2015-12-18T00:00:00\",\"2015-12-18T00:00:00\",\"2015-12-21T00:00:00\",\"2015-12-20T00:00:00\",\"2015-12-18T00:00:00\",\"2015-12-18T00:00:00\",\"2015-12-19T00:00:00\",\"2015-12-18T00:00:00\",\"2015-12-29T00:00:00\",\"2015-12-21T00:00:00\",\"2015-12-18T00:00:00\",\"2015-12-19T00:00:00\",\"2015-12-30T00:00:00\",\"2015-12-21T00:00:00\",\"2015-12-18T00:00:00\",\"2015-12-19T00:00:00\",\"2015-12-18T00:00:00\",\"2015-12-22T00:00:00\",\"2015-12-22T00:00:00\",\"2015-12-30T00:00:00\",\"2015-12-18T00:00:00\",\"2015-12-25T00:00:00\",\"2015-12-21T00:00:00\",\"2015-12-27T00:00:00\",\"2015-12-23T00:00:00\",\"2015-12-24T00:00:00\",\"2015-12-19T00:00:00\",\"2015-12-18T00:00:00\",\"2015-12-18T00:00:00\",\"2015-12-18T00:00:00\",\"2015-12-18T00:00:00\",\"2015-12-24T00:00:00\",\"2015-12-22T00:00:00\",\"2015-12-18T00:00:00\",\"2015-12-18T00:00:00\",\"2015-12-18T00:00:00\",\"2015-12-18T00:00:00\",\"2015-12-21T00:00:00\",\"2015-12-18T00:00:00\",\"2015-12-18T00:00:00\",\"2015-12-23T00:00:00\",\"2015-12-31T00:00:00\",\"2015-12-18T00:00:00\",\"2015-12-23T00:00:00\",\"2015-12-23T00:00:00\",\"2015-12-23T00:00:00\",\"2015-12-22T00:00:00\",\"2015-12-19T00:00:00\",\"2015-12-18T00:00:00\",\"2015-12-18T00:00:00\",\"2015-12-30T00:00:00\",\"2015-12-22T00:00:00\",\"2015-12-31T00:00:00\",\"2015-12-30T00:00:00\",\"2015-12-18T00:00:00\",\"2015-12-21T00:00:00\",\"2015-12-18T00:00:00\",\"2015-12-18T00:00:00\",\"2015-12-18T00:00:00\",\"2015-12-23T00:00:00\",\"2015-12-19T00:00:00\",\"2015-12-18T00:00:00\",\"2015-12-19T00:00:00\",\"2015-12-27T00:00:00\",\"2015-12-18T00:00:00\",\"2015-12-18T00:00:00\",\"2015-12-18T00:00:00\",\"2015-12-20T00:00:00\",\"2015-12-18T00:00:00\",\"2015-12-22T00:00:00\",\"2015-12-24T00:00:00\",\"2015-12-18T00:00:00\",\"2015-12-20T00:00:00\",\"2015-12-22T00:00:00\",\"2015-12-18T00:00:00\",\"2015-12-28T00:00:00\",\"2015-12-18T00:00:00\",\"2015-12-30T00:00:00\",\"2015-12-31T00:00:00\",\"2015-12-18T00:00:00\",\"2015-12-18T00:00:00\",\"2015-12-29T00:00:00\",\"2015-12-18T00:00:00\",\"2015-12-31T00:00:00\",\"2015-12-31T00:00:00\",\"2015-12-30T00:00:00\",\"2015-12-20T00:00:00\",\"2015-12-18T00:00:00\",\"2015-12-20T00:00:00\",\"2015-12-21T00:00:00\",\"2015-12-22T00:00:00\",\"2015-12-20T00:00:00\",\"2015-12-19T00:00:00\",\"2015-12-22T00:00:00\",\"2015-12-18T00:00:00\",\"2015-12-18T00:00:00\",\"2015-12-27T00:00:00\",\"2015-12-23T00:00:00\",\"2015-12-22T00:00:00\",\"2015-12-30T00:00:00\",\"2015-12-20T00:00:00\",\"2015-12-31T00:00:00\",\"2015-12-20T00:00:00\",\"2015-12-24T00:00:00\",\"2015-12-18T00:00:00\",\"2015-12-18T00:00:00\",\"2015-12-18T00:00:00\",\"2015-12-27T00:00:00\",\"2015-12-30T00:00:00\",\"2015-12-30T00:00:00\",\"2015-12-23T00:00:00\",\"2015-12-19T00:00:00\",\"2015-12-18T00:00:00\",\"2015-12-21T00:00:00\",\"2015-12-30T00:00:00\",\"2015-12-22T00:00:00\",\"2015-12-30T00:00:00\",\"2015-12-18T00:00:00\",\"2015-12-27T00:00:00\",\"2015-12-18T00:00:00\",\"2015-12-19T00:00:00\",\"2015-12-22T00:00:00\",\"2015-12-18T00:00:00\",\"2015-12-22T00:00:00\",\"2015-12-20T00:00:00\",\"2015-12-24T00:00:00\",\"2015-12-20T00:00:00\",\"2015-12-18T00:00:00\",\"2015-12-22T00:00:00\",\"2015-12-28T00:00:00\",\"2015-12-18T00:00:00\",\"2015-12-20T00:00:00\",\"2015-12-27T00:00:00\",\"2015-12-23T00:00:00\",\"2015-12-31T00:00:00\",\"2015-12-18T00:00:00\",\"2015-12-18T00:00:00\",\"2015-12-18T00:00:00\",\"2015-12-21T00:00:00\",\"2015-12-21T00:00:00\",\"2015-12-27T00:00:00\",\"2015-12-20T00:00:00\",\"2015-12-18T00:00:00\",\"2015-12-18T00:00:00\",\"2015-12-31T00:00:00\",\"2015-12-23T00:00:00\",\"2015-12-28T00:00:00\",\"2015-12-22T00:00:00\",\"2015-12-18T00:00:00\",\"2015-12-18T00:00:00\",\"2015-12-18T00:00:00\",\"2015-12-18T00:00:00\",\"2015-12-19T00:00:00\",\"2015-12-18T00:00:00\",\"2015-12-22T00:00:00\",\"2015-12-23T00:00:00\",\"2015-12-22T00:00:00\",\"2015-12-25T00:00:00\",\"2015-12-21T00:00:00\",\"2015-12-22T00:00:00\",\"2015-12-22T00:00:00\",\"2015-12-31T00:00:00\",\"2015-12-21T00:00:00\",\"2015-12-18T00:00:00\",\"2015-12-18T00:00:00\",\"2015-12-18T00:00:00\",\"2015-12-22T00:00:00\",\"2015-12-18T00:00:00\",\"2015-12-19T00:00:00\",\"2015-12-18T00:00:00\",\"2015-12-18T00:00:00\",\"2015-12-18T00:00:00\",\"2015-12-24T00:00:00\",\"2015-12-18T00:00:00\",\"2015-12-22T00:00:00\",\"2015-12-21T00:00:00\",\"2015-12-20T00:00:00\",\"2015-12-22T00:00:00\",\"2015-12-23T00:00:00\",\"2015-12-25T00:00:00\",\"2015-12-18T00:00:00\",\"2015-12-20T00:00:00\",\"2015-12-23T00:00:00\",\"2015-12-21T00:00:00\",\"2015-12-30T00:00:00\",\"2015-12-20T00:00:00\",\"2015-12-22T00:00:00\",\"2015-12-18T00:00:00\",\"2015-12-24T00:00:00\",\"2015-12-21T00:00:00\",\"2015-12-20T00:00:00\",\"2015-12-27T00:00:00\",\"2015-12-24T00:00:00\",\"2015-12-18T00:00:00\",\"2015-12-21T00:00:00\",\"2015-12-20T00:00:00\",\"2015-12-28T00:00:00\",\"2015-12-18T00:00:00\",\"2015-12-31T00:00:00\",\"2015-12-18T00:00:00\",\"2015-12-22T00:00:00\",\"2015-12-18T00:00:00\",\"2015-12-26T00:00:00\",\"2015-12-19T00:00:00\",\"2015-12-21T00:00:00\",\"2015-12-22T00:00:00\",\"2015-12-18T00:00:00\",\"2015-12-20T00:00:00\",\"2015-12-22T00:00:00\",\"2015-12-30T00:00:00\",\"2015-12-22T00:00:00\",\"2015-12-20T00:00:00\",\"2015-12-19T00:00:00\",\"2015-12-31T00:00:00\",\"2015-12-21T00:00:00\",\"2015-12-30T00:00:00\",\"2015-12-18T00:00:00\",\"2015-12-22T00:00:00\",\"2015-12-18T00:00:00\",\"2015-12-18T00:00:00\",\"2015-12-20T00:00:00\",\"2015-12-27T00:00:00\",\"2015-12-31T00:00:00\",\"2015-12-18T00:00:00\",\"2015-12-21T00:00:00\",\"2015-12-21T00:00:00\",\"2015-12-31T00:00:00\",\"2015-12-18T00:00:00\",\"2015-12-23T00:00:00\",\"2015-12-30T00:00:00\",\"2015-12-31T00:00:00\",\"2015-12-18T00:00:00\",\"2015-12-18T00:00:00\",\"2015-12-18T00:00:00\",\"2015-12-18T00:00:00\",\"2015-12-22T00:00:00\",\"2015-12-29T00:00:00\",\"2015-12-24T00:00:00\",\"2015-12-30T00:00:00\",\"2015-12-23T00:00:00\",\"2015-12-22T00:00:00\",\"2015-12-24T00:00:00\",\"2015-12-30T00:00:00\",\"2015-12-19T00:00:00\",\"2015-12-21T00:00:00\",\"2015-12-18T00:00:00\",\"2015-12-23T00:00:00\",\"2015-12-23T00:00:00\",\"2015-12-19T00:00:00\",\"2015-12-18T00:00:00\",\"2015-12-22T00:00:00\",\"2015-12-19T00:00:00\",\"2015-12-24T00:00:00\",\"2015-12-30T00:00:00\",\"2015-12-20T00:00:00\",\"2015-12-19T00:00:00\",\"2015-12-30T00:00:00\",\"2015-12-21T00:00:00\",\"2015-12-18T00:00:00\",\"2015-12-22T00:00:00\",\"2015-12-18T00:00:00\",\"2015-12-21T00:00:00\",\"2015-12-19T00:00:00\",\"2015-12-29T00:00:00\",\"2015-12-18T00:00:00\",\"2015-12-20T00:00:00\",\"2015-12-24T00:00:00\",\"2015-12-18T00:00:00\",\"2015-12-31T00:00:00\",\"2015-12-22T00:00:00\",\"2015-12-21T00:00:00\",\"2015-12-31T00:00:00\",\"2015-12-18T00:00:00\",\"2015-12-21T00:00:00\",\"2015-12-30T00:00:00\",\"2015-12-21T00:00:00\",\"2015-12-31T00:00:00\",\"2015-12-30T00:00:00\",\"2015-12-18T00:00:00\",\"2015-12-23T00:00:00\",\"2015-12-25T00:00:00\",\"2015-12-21T00:00:00\",\"2015-12-29T00:00:00\",\"2015-12-19T00:00:00\",\"2015-12-25T00:00:00\",\"2015-12-29T00:00:00\",\"2015-12-21T00:00:00\",\"2015-12-31T00:00:00\",\"2015-12-27T00:00:00\",\"2015-12-22T00:00:00\",\"2015-12-19T00:00:00\",\"2015-12-18T00:00:00\",\"2015-12-19T00:00:00\",\"2015-12-18T00:00:00\",\"2015-12-18T00:00:00\",\"2015-12-18T00:00:00\",\"2015-12-18T00:00:00\",\"2015-12-19T00:00:00\",\"2015-12-21T00:00:00\",\"2015-12-21T00:00:00\",\"2015-12-22T00:00:00\",\"2015-12-29T00:00:00\",\"2015-12-31T00:00:00\",\"2015-12-29T00:00:00\",\"2015-12-18T00:00:00\",\"2015-12-30T00:00:00\",\"2015-12-31T00:00:00\",\"2015-12-22T00:00:00\",\"2015-12-24T00:00:00\",\"2015-12-18T00:00:00\",\"2015-12-24T00:00:00\",\"2015-12-18T00:00:00\",\"2015-12-26T00:00:00\",\"2015-12-18T00:00:00\",\"2015-12-18T00:00:00\",\"2015-12-30T00:00:00\",\"2015-12-18T00:00:00\",\"2015-12-18T00:00:00\",\"2015-12-31T00:00:00\",\"2015-12-23T00:00:00\",\"2015-12-28T00:00:00\",\"2015-12-18T00:00:00\",\"2015-12-23T00:00:00\",\"2015-12-18T00:00:00\",\"2015-12-20T00:00:00\",\"2015-12-18T00:00:00\",\"2015-12-21T00:00:00\",\"2015-12-23T00:00:00\",\"2015-12-21T00:00:00\",\"2015-12-18T00:00:00\",\"2015-12-28T00:00:00\",\"2015-12-18T00:00:00\",\"2015-12-30T00:00:00\",\"2015-12-22T00:00:00\",\"2015-12-24T00:00:00\",\"2015-12-28T00:00:00\",\"2015-12-23T00:00:00\",\"2015-12-31T00:00:00\",\"2015-12-21T00:00:00\",\"2015-12-31T00:00:00\",\"2015-12-28T00:00:00\",\"2015-12-23T00:00:00\",\"2015-12-21T00:00:00\",\"2015-12-27T00:00:00\",\"2015-12-18T00:00:00\",\"2015-12-19T00:00:00\",\"2015-12-20T00:00:00\",\"2015-12-18T00:00:00\",\"2015-12-22T00:00:00\",\"2015-12-22T00:00:00\",\"2015-12-21T00:00:00\",\"2015-12-19T00:00:00\",\"2015-12-18T00:00:00\",\"2015-12-18T00:00:00\",\"2015-12-25T00:00:00\",\"2015-12-18T00:00:00\",\"2015-12-25T00:00:00\",\"2015-12-23T00:00:00\",\"2015-12-19T00:00:00\",\"2015-12-31T00:00:00\",\"2015-12-18T00:00:00\",\"2015-12-31T00:00:00\",\"2015-12-18T00:00:00\",\"2015-12-18T00:00:00\",\"2015-12-21T00:00:00\",\"2015-12-22T00:00:00\",\"2015-12-22T00:00:00\",\"2015-12-22T00:00:00\",\"2015-12-18T00:00:00\",\"2015-12-29T00:00:00\",\"2015-12-21T00:00:00\",\"2015-12-22T00:00:00\",\"2015-12-18T00:00:00\",\"2015-12-22T00:00:00\",\"2015-12-18T00:00:00\",\"2015-12-31T00:00:00\",\"2015-12-18T00:00:00\",\"2015-12-22T00:00:00\",\"2015-12-18T00:00:00\",\"2015-12-23T00:00:00\",\"2015-12-31T00:00:00\",\"2015-12-30T00:00:00\",\"2015-12-30T00:00:00\",\"2015-12-27T00:00:00\",\"2015-12-23T00:00:00\",\"2015-12-21T00:00:00\",\"2015-12-18T00:00:00\",\"2015-12-22T00:00:00\",\"2015-12-27T00:00:00\",\"2015-12-19T00:00:00\",\"2015-12-18T00:00:00\",\"2015-12-31T00:00:00\",\"2015-12-29T00:00:00\",\"2015-12-21T00:00:00\",\"2015-12-21T00:00:00\",\"2015-12-18T00:00:00\",\"2015-12-21T00:00:00\",\"2015-12-30T00:00:00\",\"2015-12-29T00:00:00\",\"2015-12-19T00:00:00\",\"2015-12-18T00:00:00\",\"2015-12-18T00:00:00\",\"2015-12-22T00:00:00\",\"2015-12-29T00:00:00\",\"2015-12-21T00:00:00\",\"2015-12-18T00:00:00\",\"2015-12-29T00:00:00\",\"2015-12-21T00:00:00\",\"2015-12-20T00:00:00\",\"2015-12-21T00:00:00\",\"2015-12-19T00:00:00\",\"2015-12-19T00:00:00\",\"2015-12-21T00:00:00\",\"2015-12-18T00:00:00\",\"2015-12-18T00:00:00\",\"2015-12-21T00:00:00\",\"2015-12-18T00:00:00\",\"2015-12-18T00:00:00\",\"2015-12-18T00:00:00\",\"2015-12-18T00:00:00\",\"2015-12-20T00:00:00\",\"2015-12-18T00:00:00\",\"2015-12-18T00:00:00\",\"2015-12-22T00:00:00\",\"2015-12-30T00:00:00\",\"2015-12-26T00:00:00\",\"2015-12-23T00:00:00\",\"2015-12-31T00:00:00\",\"2015-12-23T00:00:00\",\"2015-12-20T00:00:00\",\"2015-12-18T00:00:00\",\"2015-12-21T00:00:00\",\"2015-12-21T00:00:00\",\"2015-12-31T00:00:00\",\"2015-12-18T00:00:00\",\"2015-12-18T00:00:00\",\"2015-12-18T00:00:00\",\"2015-12-31T00:00:00\",\"2015-12-23T00:00:00\",\"2015-12-18T00:00:00\",\"2015-12-21T00:00:00\",\"2015-12-22T00:00:00\",\"2015-12-30T00:00:00\",\"2015-12-23T00:00:00\",\"2015-12-19T00:00:00\",\"2015-12-24T00:00:00\",\"2015-12-21T00:00:00\",\"2015-12-19T00:00:00\",\"2015-12-21T00:00:00\",\"2015-12-29T00:00:00\",\"2015-12-18T00:00:00\",\"2015-12-25T00:00:00\",\"2015-12-22T00:00:00\",\"2015-12-27T00:00:00\",\"2015-12-19T00:00:00\",\"2015-12-20T00:00:00\",\"2015-12-22T00:00:00\",\"2015-12-22T00:00:00\",\"2015-12-20T00:00:00\",\"2015-12-21T00:00:00\",\"2015-12-19T00:00:00\",\"2015-12-18T00:00:00\",\"2015-12-20T00:00:00\",\"2015-12-23T00:00:00\",\"2015-12-22T00:00:00\",\"2015-12-18T00:00:00\",\"2015-12-31T00:00:00\",\"2015-12-21T00:00:00\",\"2015-12-24T00:00:00\",\"2015-12-18T00:00:00\",\"2015-12-21T00:00:00\",\"2015-12-24T00:00:00\",\"2015-12-18T00:00:00\",\"2015-12-26T00:00:00\",\"2015-12-24T00:00:00\",\"2015-12-31T00:00:00\",\"2015-12-19T00:00:00\",\"2015-12-21T00:00:00\",\"2015-12-22T00:00:00\",\"2015-12-23T00:00:00\",\"2015-12-18T00:00:00\",\"2015-12-22T00:00:00\",\"2015-12-18T00:00:00\",\"2015-12-27T00:00:00\",\"2015-12-22T00:00:00\",\"2015-12-18T00:00:00\",\"2015-12-18T00:00:00\",\"2015-12-21T00:00:00\",\"2015-12-30T00:00:00\",\"2015-12-23T00:00:00\",\"2015-12-20T00:00:00\",\"2015-12-27T00:00:00\",\"2015-12-19T00:00:00\",\"2015-12-23T00:00:00\",\"2015-12-21T00:00:00\",\"2015-12-28T00:00:00\",\"2015-12-23T00:00:00\",\"2015-12-28T00:00:00\",\"2015-12-18T00:00:00\",\"2015-12-23T00:00:00\",\"2015-12-31T00:00:00\",\"2015-12-24T00:00:00\",\"2015-12-24T00:00:00\",\"2015-12-19T00:00:00\",\"2015-12-18T00:00:00\",\"2015-12-18T00:00:00\",\"2015-12-23T00:00:00\",\"2015-12-19T00:00:00\",\"2015-12-22T00:00:00\",\"2015-12-20T00:00:00\",\"2015-12-22T00:00:00\",\"2015-12-18T00:00:00\",\"2015-12-31T00:00:00\",\"2015-12-18T00:00:00\",\"2015-12-31T00:00:00\",\"2015-12-31T00:00:00\",\"2015-12-24T00:00:00\",\"2015-12-23T00:00:00\",\"2015-12-23T00:00:00\",\"2015-12-18T00:00:00\",\"2015-12-21T00:00:00\",\"2015-12-18T00:00:00\",\"2015-12-22T00:00:00\",\"2015-12-22T00:00:00\",\"2015-12-18T00:00:00\",\"2015-12-18T00:00:00\",\"2015-12-22T00:00:00\",\"2015-12-21T00:00:00\",\"2015-12-21T00:00:00\",\"2015-12-18T00:00:00\",\"2015-12-22T00:00:00\",\"2015-12-18T00:00:00\",\"2015-12-20T00:00:00\",\"2015-12-21T00:00:00\",\"2015-12-18T00:00:00\",\"2015-12-18T00:00:00\",\"2015-12-28T00:00:00\",\"2015-12-21T00:00:00\",\"2015-12-20T00:00:00\",\"2015-12-29T00:00:00\",\"2015-12-19T00:00:00\",\"2015-12-21T00:00:00\",\"2015-12-31T00:00:00\",\"2015-12-23T00:00:00\",\"2015-12-18T00:00:00\",\"2015-12-19T00:00:00\",\"2015-12-22T00:00:00\",\"2015-12-18T00:00:00\",\"2015-12-21T00:00:00\",\"2015-12-21T00:00:00\",\"2015-12-18T00:00:00\",\"2015-12-31T00:00:00\",\"2015-12-27T00:00:00\",\"2015-12-23T00:00:00\",\"2015-12-22T00:00:00\",\"2015-12-21T00:00:00\",\"2015-12-21T00:00:00\",\"2015-12-20T00:00:00\",\"2015-12-25T00:00:00\",\"2015-12-22T00:00:00\",\"2015-12-18T00:00:00\",\"2015-12-22T00:00:00\",\"2015-12-29T00:00:00\",\"2015-12-24T00:00:00\",\"2015-12-30T00:00:00\",\"2015-12-18T00:00:00\",\"2015-12-18T00:00:00\",\"2015-12-18T00:00:00\",\"2015-12-18T00:00:00\",\"2015-12-25T00:00:00\",\"2015-12-18T00:00:00\",\"2015-12-28T00:00:00\",\"2015-12-21T00:00:00\",\"2015-12-21T00:00:00\",\"2015-12-21T00:00:00\",\"2015-12-22T00:00:00\",\"2015-12-23T00:00:00\",\"2015-12-29T00:00:00\",\"2015-12-19T00:00:00\",\"2015-12-19T00:00:00\",\"2015-12-18T00:00:00\",\"2015-12-19T00:00:00\",\"2015-12-18T00:00:00\",\"2015-12-18T00:00:00\",\"2015-12-18T00:00:00\",\"2015-12-29T00:00:00\",\"2015-12-19T00:00:00\",\"2015-12-30T00:00:00\",\"2015-12-18T00:00:00\",\"2015-12-23T00:00:00\",\"2015-12-19T00:00:00\",\"2015-12-23T00:00:00\",\"2015-12-18T00:00:00\",\"2015-12-18T00:00:00\",\"2015-12-18T00:00:00\",\"2015-12-26T00:00:00\",\"2015-12-19T00:00:00\",\"2015-12-18T00:00:00\",\"2015-12-31T00:00:00\",\"2015-12-23T00:00:00\",\"2015-12-24T00:00:00\",\"2015-12-18T00:00:00\",\"2015-12-20T00:00:00\",\"2015-12-18T00:00:00\",\"2015-12-21T00:00:00\",\"2015-12-18T00:00:00\",\"2015-12-23T00:00:00\",\"2015-12-18T00:00:00\",\"2015-12-18T00:00:00\",\"2015-12-30T00:00:00\",\"2015-12-18T00:00:00\",\"2015-12-22T00:00:00\",\"2015-12-19T00:00:00\",\"2015-12-21T00:00:00\",\"2015-12-19T00:00:00\",\"2015-12-18T00:00:00\",\"2015-12-25T00:00:00\",\"2015-12-19T00:00:00\",\"2015-12-19T00:00:00\",\"2015-12-19T00:00:00\",\"2015-12-18T00:00:00\",\"2015-12-22T00:00:00\",\"2015-12-18T00:00:00\",\"2015-12-22T00:00:00\",\"2015-12-27T00:00:00\",\"2015-12-18T00:00:00\",\"2015-12-18T00:00:00\",\"2015-12-30T00:00:00\",\"2015-12-22T00:00:00\",\"2015-12-21T00:00:00\",\"2015-12-23T00:00:00\",\"2015-12-18T00:00:00\",\"2015-12-18T00:00:00\",\"2015-12-21T00:00:00\",\"2015-12-22T00:00:00\",\"2015-12-18T00:00:00\",\"2015-12-19T00:00:00\",\"2015-12-18T00:00:00\",\"2015-12-20T00:00:00\",\"2015-12-21T00:00:00\",\"2015-12-20T00:00:00\",\"2015-12-21T00:00:00\",\"2015-12-21T00:00:00\",\"2015-12-19T00:00:00\",\"2016-01-14T00:00:00\",\"2016-01-12T00:00:00\",\"2016-01-13T00:00:00\",\"2016-01-01T00:00:00\",\"2016-01-07T00:00:00\",\"2016-01-01T00:00:00\",\"2016-01-13T00:00:00\",\"2016-01-01T00:00:00\",\"2016-01-11T00:00:00\",\"2016-01-01T00:00:00\",\"2016-01-01T00:00:00\",\"2016-01-01T00:00:00\",\"2016-01-01T00:00:00\",\"2016-01-01T00:00:00\",\"2016-01-01T00:00:00\",\"2016-01-01T00:00:00\",\"2016-01-11T00:00:00\",\"2016-01-06T00:00:00\",\"2016-01-15T00:00:00\",\"2016-01-01T00:00:00\",\"2016-01-14T00:00:00\",\"2016-01-01T00:00:00\",\"2016-01-14T00:00:00\",\"2016-01-17T00:00:00\",\"2016-01-01T00:00:00\",\"2016-01-01T00:00:00\",\"2016-01-01T00:00:00\",\"2016-01-01T00:00:00\",\"2016-01-01T00:00:00\",\"2016-01-01T00:00:00\"],\"y\":[7,1,1,1,1,4,1,1,2,3,1,2,2,1,1,1,1,1,1,16,1,7,4,1,1,9,1,3,2,11,1,1,1,3,3,1,1,1,1,3,2,1,1,3,2,1,1,5,3,1,1,1,1,1,2,1,1,1,2,1,1,1,1,1,1,3,1,1,2,6,1,1,1,2,1,1,1,1,1,1,3,1,1,1,2,5,3,1,1,1,1,3,2,2,3,4,1,1,2,1,1,1,3,2,2,2,1,1,3,1,1,2,1,1,3,1,1,6,1,3,1,1,1,3,1,1,6,1,2,2,1,1,1,4,1,3,11,2,4,1,1,3,1,1,1,3,1,1,3,1,2,1,1,1,1,1,1,1,1,1,2,2,10,1,1,1,2,1,1,3,1,8,1,1,1,1,1,2,1,1,2,2,12,1,1,1,1,1,8,5,1,1,1,1,1,1,2,1,2,1,1,1,2,2,5,1,1,1,1,1,1,1,1,4,3,2,9,2,1,1,2,3,2,1,1,1,11,3,1,1,1,2,1,1,3,1,1,1,2,1,1,1,1,1,2,1,1,2,1,1,2,1,1,1,3,2,10,1,2,1,16,1,3,1,1,1,5,1,1,2,1,1,2,1,1,2,1,7,2,9,4,1,2,2,1,1,5,2,1,4,1,2,4,2,2,2,5,6,1,5,1,1,1,1,1,1,1,1,1,1,2,2,5,1,1,1,2,1,3,2,2,1,1,6,1,2,1,1,2,1,2,1,2,1,4,1,1,1,1,2,1,2,1,1,3,1,1,3,2,1,2,1,1,2,6,11,1,4,6,1,3,2,9,1,1,2,2,1,1,8,1,1,1,2,3,12,2,6,2,4,1,2,1,1,1,1,1,1,1,1,11,4,2,1,1,1,2,1,1,1,1,1,2,2,1,3,1,1,1,5,4,1,1,1,1,2,3,1,1,2,2,3,1,1,1,1,2,1,2,1,1,2,1,1,6,1,1,1,1,1,7,2,1,1,1,2,10,1,1,1,1,1,3,5,1,2,1,1,1,1,1,1,1,2,1,7,1,1,9,1,2,1,3,1,11,2,1,1,2,1,1,1,1,1,1,2,2,1,1,1,1,1,1,2,1,1,2,1,5,1,1,1,5,1,1,5,3,4,1,1,1,1,1,1,4,2,1,1,1,1,1,1,1,4,5,2,1,1,1,1,1,1,2,1,12,1,1,1,1,1,2,1,1,4,2,1,5,1,1,14,1,1,1,3,6,1,1,1,1,8,3,8,6,1,2,1,1,1,1,1,2,2,4,1,1,1,2,1,1,1,1,2,5,1,1,6,2,1,1,2,1,3,2,1,2,1,1,2,2,2,3,1,1,1,3,4,1,1,1,2,1,2,1,1,1,1,3,1,1,1,2,1,1,1,2,8,1,1,1,1,1,2,5,1,1,1,1,1,2,1,4,3,1,1,2,1,1,2,1,1,3,1,2,1,1,1,9,2,3,1,4,1,1,4,1,1,1,1,1,1,2,1,3,1,3,1,1,1,2,1,1,2,2,1,2,2,1,3,1,1,1,1,1,1,1,2,1,3,3,1,5,1,1,1,1,1,1,1,1,2,1,1,1,1,1,1,17,2,1,1,2,1,1,1,1,1,1,1,3,1,2,1,2,1,11,1,1,3,1,1,5,6,1,2,1,2,2,1,2,1,1,2,4,2,1,4,2,1,3,1,1,2,1,1,1,1,1,2,13,3,12,3,1,10,1,1,1,1,1,1,4,2,1,2,4,1,2,1,1,1,2,1,3,1,5,1,1,1,3,8,1,4,1,1,1,1,1,1,1,1,1,1,1,4,1,1,1],\"type\":\"bar\",\"xaxis\":\"x2\",\"yaxis\":\"y2\",\"texttemplate\":\" \"}],                        {\"template\":{\"data\":{\"bar\":[{\"error_x\":{\"color\":\"#2a3f5f\"},\"error_y\":{\"color\":\"#2a3f5f\"},\"marker\":{\"line\":{\"color\":\"#E5ECF6\",\"width\":0.5},\"pattern\":{\"fillmode\":\"overlay\",\"size\":10,\"solidity\":0.2}},\"type\":\"bar\"}],\"barpolar\":[{\"marker\":{\"line\":{\"color\":\"#E5ECF6\",\"width\":0.5},\"pattern\":{\"fillmode\":\"overlay\",\"size\":10,\"solidity\":0.2}},\"type\":\"barpolar\"}],\"carpet\":[{\"aaxis\":{\"endlinecolor\":\"#2a3f5f\",\"gridcolor\":\"white\",\"linecolor\":\"white\",\"minorgridcolor\":\"white\",\"startlinecolor\":\"#2a3f5f\"},\"baxis\":{\"endlinecolor\":\"#2a3f5f\",\"gridcolor\":\"white\",\"linecolor\":\"white\",\"minorgridcolor\":\"white\",\"startlinecolor\":\"#2a3f5f\"},\"type\":\"carpet\"}],\"choropleth\":[{\"colorbar\":{\"outlinewidth\":0,\"ticks\":\"\"},\"type\":\"choropleth\"}],\"contour\":[{\"colorbar\":{\"outlinewidth\":0,\"ticks\":\"\"},\"colorscale\":[[0.0,\"#0d0887\"],[0.1111111111111111,\"#46039f\"],[0.2222222222222222,\"#7201a8\"],[0.3333333333333333,\"#9c179e\"],[0.4444444444444444,\"#bd3786\"],[0.5555555555555556,\"#d8576b\"],[0.6666666666666666,\"#ed7953\"],[0.7777777777777778,\"#fb9f3a\"],[0.8888888888888888,\"#fdca26\"],[1.0,\"#f0f921\"]],\"type\":\"contour\"}],\"contourcarpet\":[{\"colorbar\":{\"outlinewidth\":0,\"ticks\":\"\"},\"type\":\"contourcarpet\"}],\"heatmap\":[{\"colorbar\":{\"outlinewidth\":0,\"ticks\":\"\"},\"colorscale\":[[0.0,\"#0d0887\"],[0.1111111111111111,\"#46039f\"],[0.2222222222222222,\"#7201a8\"],[0.3333333333333333,\"#9c179e\"],[0.4444444444444444,\"#bd3786\"],[0.5555555555555556,\"#d8576b\"],[0.6666666666666666,\"#ed7953\"],[0.7777777777777778,\"#fb9f3a\"],[0.8888888888888888,\"#fdca26\"],[1.0,\"#f0f921\"]],\"type\":\"heatmap\"}],\"heatmapgl\":[{\"colorbar\":{\"outlinewidth\":0,\"ticks\":\"\"},\"colorscale\":[[0.0,\"#0d0887\"],[0.1111111111111111,\"#46039f\"],[0.2222222222222222,\"#7201a8\"],[0.3333333333333333,\"#9c179e\"],[0.4444444444444444,\"#bd3786\"],[0.5555555555555556,\"#d8576b\"],[0.6666666666666666,\"#ed7953\"],[0.7777777777777778,\"#fb9f3a\"],[0.8888888888888888,\"#fdca26\"],[1.0,\"#f0f921\"]],\"type\":\"heatmapgl\"}],\"histogram\":[{\"marker\":{\"pattern\":{\"fillmode\":\"overlay\",\"size\":10,\"solidity\":0.2}},\"type\":\"histogram\"}],\"histogram2d\":[{\"colorbar\":{\"outlinewidth\":0,\"ticks\":\"\"},\"colorscale\":[[0.0,\"#0d0887\"],[0.1111111111111111,\"#46039f\"],[0.2222222222222222,\"#7201a8\"],[0.3333333333333333,\"#9c179e\"],[0.4444444444444444,\"#bd3786\"],[0.5555555555555556,\"#d8576b\"],[0.6666666666666666,\"#ed7953\"],[0.7777777777777778,\"#fb9f3a\"],[0.8888888888888888,\"#fdca26\"],[1.0,\"#f0f921\"]],\"type\":\"histogram2d\"}],\"histogram2dcontour\":[{\"colorbar\":{\"outlinewidth\":0,\"ticks\":\"\"},\"colorscale\":[[0.0,\"#0d0887\"],[0.1111111111111111,\"#46039f\"],[0.2222222222222222,\"#7201a8\"],[0.3333333333333333,\"#9c179e\"],[0.4444444444444444,\"#bd3786\"],[0.5555555555555556,\"#d8576b\"],[0.6666666666666666,\"#ed7953\"],[0.7777777777777778,\"#fb9f3a\"],[0.8888888888888888,\"#fdca26\"],[1.0,\"#f0f921\"]],\"type\":\"histogram2dcontour\"}],\"mesh3d\":[{\"colorbar\":{\"outlinewidth\":0,\"ticks\":\"\"},\"type\":\"mesh3d\"}],\"parcoords\":[{\"line\":{\"colorbar\":{\"outlinewidth\":0,\"ticks\":\"\"}},\"type\":\"parcoords\"}],\"pie\":[{\"automargin\":true,\"type\":\"pie\"}],\"scatter\":[{\"marker\":{\"colorbar\":{\"outlinewidth\":0,\"ticks\":\"\"}},\"type\":\"scatter\"}],\"scatter3d\":[{\"line\":{\"colorbar\":{\"outlinewidth\":0,\"ticks\":\"\"}},\"marker\":{\"colorbar\":{\"outlinewidth\":0,\"ticks\":\"\"}},\"type\":\"scatter3d\"}],\"scattercarpet\":[{\"marker\":{\"colorbar\":{\"outlinewidth\":0,\"ticks\":\"\"}},\"type\":\"scattercarpet\"}],\"scattergeo\":[{\"marker\":{\"colorbar\":{\"outlinewidth\":0,\"ticks\":\"\"}},\"type\":\"scattergeo\"}],\"scattergl\":[{\"marker\":{\"colorbar\":{\"outlinewidth\":0,\"ticks\":\"\"}},\"type\":\"scattergl\"}],\"scattermapbox\":[{\"marker\":{\"colorbar\":{\"outlinewidth\":0,\"ticks\":\"\"}},\"type\":\"scattermapbox\"}],\"scatterpolar\":[{\"marker\":{\"colorbar\":{\"outlinewidth\":0,\"ticks\":\"\"}},\"type\":\"scatterpolar\"}],\"scatterpolargl\":[{\"marker\":{\"colorbar\":{\"outlinewidth\":0,\"ticks\":\"\"}},\"type\":\"scatterpolargl\"}],\"scatterternary\":[{\"marker\":{\"colorbar\":{\"outlinewidth\":0,\"ticks\":\"\"}},\"type\":\"scatterternary\"}],\"surface\":[{\"colorbar\":{\"outlinewidth\":0,\"ticks\":\"\"},\"colorscale\":[[0.0,\"#0d0887\"],[0.1111111111111111,\"#46039f\"],[0.2222222222222222,\"#7201a8\"],[0.3333333333333333,\"#9c179e\"],[0.4444444444444444,\"#bd3786\"],[0.5555555555555556,\"#d8576b\"],[0.6666666666666666,\"#ed7953\"],[0.7777777777777778,\"#fb9f3a\"],[0.8888888888888888,\"#fdca26\"],[1.0,\"#f0f921\"]],\"type\":\"surface\"}],\"table\":[{\"cells\":{\"fill\":{\"color\":\"#EBF0F8\"},\"line\":{\"color\":\"white\"}},\"header\":{\"fill\":{\"color\":\"#C8D4E3\"},\"line\":{\"color\":\"white\"}},\"type\":\"table\"}]},\"layout\":{\"annotationdefaults\":{\"arrowcolor\":\"#2a3f5f\",\"arrowhead\":0,\"arrowwidth\":1},\"autotypenumbers\":\"strict\",\"coloraxis\":{\"colorbar\":{\"outlinewidth\":0,\"ticks\":\"\"}},\"colorscale\":{\"diverging\":[[0,\"#8e0152\"],[0.1,\"#c51b7d\"],[0.2,\"#de77ae\"],[0.3,\"#f1b6da\"],[0.4,\"#fde0ef\"],[0.5,\"#f7f7f7\"],[0.6,\"#e6f5d0\"],[0.7,\"#b8e186\"],[0.8,\"#7fbc41\"],[0.9,\"#4d9221\"],[1,\"#276419\"]],\"sequential\":[[0.0,\"#0d0887\"],[0.1111111111111111,\"#46039f\"],[0.2222222222222222,\"#7201a8\"],[0.3333333333333333,\"#9c179e\"],[0.4444444444444444,\"#bd3786\"],[0.5555555555555556,\"#d8576b\"],[0.6666666666666666,\"#ed7953\"],[0.7777777777777778,\"#fb9f3a\"],[0.8888888888888888,\"#fdca26\"],[1.0,\"#f0f921\"]],\"sequentialminus\":[[0.0,\"#0d0887\"],[0.1111111111111111,\"#46039f\"],[0.2222222222222222,\"#7201a8\"],[0.3333333333333333,\"#9c179e\"],[0.4444444444444444,\"#bd3786\"],[0.5555555555555556,\"#d8576b\"],[0.6666666666666666,\"#ed7953\"],[0.7777777777777778,\"#fb9f3a\"],[0.8888888888888888,\"#fdca26\"],[1.0,\"#f0f921\"]]},\"colorway\":[\"#636efa\",\"#EF553B\",\"#00cc96\",\"#ab63fa\",\"#FFA15A\",\"#19d3f3\",\"#FF6692\",\"#B6E880\",\"#FF97FF\",\"#FECB52\"],\"font\":{\"color\":\"#2a3f5f\"},\"geo\":{\"bgcolor\":\"white\",\"lakecolor\":\"white\",\"landcolor\":\"#E5ECF6\",\"showlakes\":true,\"showland\":true,\"subunitcolor\":\"white\"},\"hoverlabel\":{\"align\":\"left\"},\"hovermode\":\"closest\",\"mapbox\":{\"style\":\"light\"},\"paper_bgcolor\":\"white\",\"plot_bgcolor\":\"#E5ECF6\",\"polar\":{\"angularaxis\":{\"gridcolor\":\"white\",\"linecolor\":\"white\",\"ticks\":\"\"},\"bgcolor\":\"#E5ECF6\",\"radialaxis\":{\"gridcolor\":\"white\",\"linecolor\":\"white\",\"ticks\":\"\"}},\"scene\":{\"xaxis\":{\"backgroundcolor\":\"#E5ECF6\",\"gridcolor\":\"white\",\"gridwidth\":2,\"linecolor\":\"white\",\"showbackground\":true,\"ticks\":\"\",\"zerolinecolor\":\"white\"},\"yaxis\":{\"backgroundcolor\":\"#E5ECF6\",\"gridcolor\":\"white\",\"gridwidth\":2,\"linecolor\":\"white\",\"showbackground\":true,\"ticks\":\"\",\"zerolinecolor\":\"white\"},\"zaxis\":{\"backgroundcolor\":\"#E5ECF6\",\"gridcolor\":\"white\",\"gridwidth\":2,\"linecolor\":\"white\",\"showbackground\":true,\"ticks\":\"\",\"zerolinecolor\":\"white\"}},\"shapedefaults\":{\"line\":{\"color\":\"#2a3f5f\"}},\"ternary\":{\"aaxis\":{\"gridcolor\":\"white\",\"linecolor\":\"white\",\"ticks\":\"\"},\"baxis\":{\"gridcolor\":\"white\",\"linecolor\":\"white\",\"ticks\":\"\"},\"bgcolor\":\"#E5ECF6\",\"caxis\":{\"gridcolor\":\"white\",\"linecolor\":\"white\",\"ticks\":\"\"}},\"title\":{\"x\":0.05},\"xaxis\":{\"automargin\":true,\"gridcolor\":\"white\",\"linecolor\":\"white\",\"ticks\":\"\",\"title\":{\"standoff\":15},\"zerolinecolor\":\"white\",\"zerolinewidth\":2},\"yaxis\":{\"automargin\":true,\"gridcolor\":\"white\",\"linecolor\":\"white\",\"ticks\":\"\",\"title\":{\"standoff\":15},\"zerolinecolor\":\"white\",\"zerolinewidth\":2}}},\"xaxis\":{\"anchor\":\"y\",\"domain\":[0.0,1.0],\"matches\":\"x2\",\"showticklabels\":false},\"yaxis\":{\"anchor\":\"x\",\"domain\":[0.51,1.0]},\"xaxis2\":{\"anchor\":\"y2\",\"domain\":[0.0,1.0]},\"yaxis2\":{\"anchor\":\"x2\",\"domain\":[0.0,0.49]},\"title\":{\"text\":\"Daily Box Office and Quotes for Star Wars: Episode VII - The Force Awakens\"}},                        {\"responsive\": true}                    ).then(function(){\n",
       "                            \n",
       "var gd = document.getElementById('c045ec2a-a545-4f76-b4e8-de882fceb443');\n",
       "var x = new MutationObserver(function (mutations, observer) {{\n",
       "        var display = window.getComputedStyle(gd).display;\n",
       "        if (!display || display === 'none') {{\n",
       "            console.log([gd, 'removed!']);\n",
       "            Plotly.purge(gd);\n",
       "            observer.disconnect();\n",
       "        }}\n",
       "}});\n",
       "\n",
       "// Listen for the removal of the full notebook cells\n",
       "var notebookContainer = gd.closest('#notebook-container');\n",
       "if (notebookContainer) {{\n",
       "    x.observe(notebookContainer, {childList: true});\n",
       "}}\n",
       "\n",
       "// Listen for the clearing of the current output cell\n",
       "var outputEl = gd.closest('.output');\n",
       "if (outputEl) {{\n",
       "    x.observe(outputEl, {childList: true});\n",
       "}}\n",
       "\n",
       "                        })                };                });            </script>        </div>"
      ]
     },
     "metadata": {},
     "output_type": "display_data"
    }
   ],
   "source": [
    "#Star Wars: Episode VII - The Last Jedi:\n",
    "\n",
    "fig = make_subplots(rows=2, cols=1, shared_xaxes=True,\n",
    "                    vertical_spacing=0.02)\n",
    "fig.append_trace(go.Bar(x=df_boxOffice[df_boxOffice.movie==title].days,\n",
    "                        y = list(df_boxOffice[df_boxOffice.movie==title].daily)[:30],\n",
    "                        name='Box Office revenue',\n",
    "                        text=df_boxOffice[df_boxOffice.movie==title].dow,\n",
    "                        marker_color = px.colors.qualitative.Safe[0],\n",
    "                        hovertemplate=\n",
    "                        \"<b>%{text}</b><br><br>\" +\n",
    "                        \"Date: %{x}<br>\" +\n",
    "                        \"Made %{y}$ on this day<br>\" +\n",
    "                        \"<extra></extra>\"), row=1, col=1)\n",
    "fig.append_trace(go.Bar(x=sw_VII.date, y = sw_VII.numOccurrences, \n",
    "                        name = 'Quotes', text=sw_VII.quotation,\n",
    "                        marker_color = px.colors.qualitative.Safe[1],\n",
    "                        hovertemplate=\n",
    "                        \"<b>%{text}</b><br><br>\" +\n",
    "                        \"Date: %{x}<br>\" +\n",
    "                        \"Occured in %{y} article(s)<br>\" +\n",
    "                        \"<extra></extra>\"), row=2, col=1)\n",
    "fig.update_layout(title_text=\"Daily Box Office and Quotes for \"+title)\n",
    "fig.update_traces(texttemplate=' ')\n",
    "\n",
    "fig.show()\n",
    "\n",
    "import plotly.io as pio\n",
    "filename = 'star_wars_quotes_box'\n",
    "pio.write_html(fig, rf\"{os.getcwd()}{os.sep}plotlyplots{os.sep}{filename}.html\")"
   ]
  },
  {
   "cell_type": "code",
   "execution_count": 43,
   "id": "f8aaf345",
   "metadata": {},
   "outputs": [],
   "source": [
    "filename = 'star_wars_quotes_box'\n",
    "pio.write_html(fig, rf\"{os.getcwd()}{os.sep}plotlyplots{os.sep}{filename}.html\")"
   ]
  },
  {
   "cell_type": "code",
   "execution_count": null,
   "id": "9fc7358a",
   "metadata": {},
   "outputs": [],
   "source": []
  }
 ],
 "metadata": {
  "kernelspec": {
   "display_name": "Python 3",
   "language": "python",
   "name": "python3"
  },
  "language_info": {
   "codemirror_mode": {
    "name": "ipython",
    "version": 3
   },
   "file_extension": ".py",
   "mimetype": "text/x-python",
   "name": "python",
   "nbconvert_exporter": "python",
   "pygments_lexer": "ipython3",
   "version": "3.8.8"
  }
 },
 "nbformat": 4,
 "nbformat_minor": 5
}
