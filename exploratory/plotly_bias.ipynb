{
 "cells": [
  {
   "cell_type": "code",
   "execution_count": 1,
   "id": "1bc5934d",
   "metadata": {},
   "outputs": [],
   "source": [
    "import plotly.express as px"
   ]
  },
  {
   "cell_type": "code",
   "execution_count": null,
   "id": "91c0b39d",
   "metadata": {},
   "outputs": [],
   "source": [
    "quotes_per_country = df_quotes.loc[df_quotes.index.repeat(df_quotes.numOccurrences)]\n",
    "quotes_per_country = quotes_per_country[nationality_cols].apply(pd.Series.value_counts).sum(axis=1).sort_values(ascending=False)\n",
    "quotes_per_country.head(10)"
   ]
  },
  {
   "cell_type": "code",
   "execution_count": null,
   "id": "a15138ca",
   "metadata": {},
   "outputs": [],
   "source": [
    "quotes_per_country = quotes_per_country.reset_index()\n",
    "quotes_per_country.head()"
   ]
  },
  {
   "cell_type": "code",
   "execution_count": null,
   "id": "825e0823",
   "metadata": {},
   "outputs": [],
   "source": [
    "quotes_per_country = quotes_per_country.rename(columns={'index': 'country', 0: 'number_of_quotes'})\n",
    "quotes_per_country.head()"
   ]
  },
  {
   "cell_type": "code",
   "execution_count": null,
   "id": "a7623072",
   "metadata": {},
   "outputs": [],
   "source": [
    "quotes_per_country['log_number'] = np.log(quotes_per_country['number_of_quotes'])"
   ]
  },
  {
   "cell_type": "code",
   "execution_count": null,
   "id": "9b9f2436",
   "metadata": {},
   "outputs": [],
   "source": [
    "fig = px.scatter_geo(quotes_per_country.head(30), locations=\"country\",\n",
    "                     hover_name=\"country\", size=\"number_of_quotes\", locationmode='country names',\n",
    "                    projection='natural earth', labels='number_of_quotes', size_max=50)\n",
    "fig.show()\n",
    "fig.write_html(\"plotlyplots/rq4_countries.html\")"
   ]
  },
  {
   "cell_type": "code",
   "execution_count": null,
   "id": "4f135940",
   "metadata": {},
   "outputs": [],
   "source": []
  },
  {
   "cell_type": "code",
   "execution_count": null,
   "id": "3f8e538d",
   "metadata": {},
   "outputs": [],
   "source": [
    "vals = []\n",
    "for col_name in ['allgenders_0age_votes','allgenders_18age_votes','allgenders_30age_votes','allgenders_45age_votes']:\n",
    "    vals.append(sum(relevant_years[col_name]))\n",
    "    # to_df[col_name] = sum(relevant_years[col_name])\n",
    "ind = ['Reviewers < 18', 'Reviewers between 18 and 30', 'Reviewers between 30 and 45', 'Reviewers 45+']\n",
    "age_sums = pd.DataFrame(vals, index=ind, columns=['sum'])\n",
    "age_sums = age_sums.reset_index()\n",
    "age_sums.head()"
   ]
  },
  {
   "cell_type": "code",
   "execution_count": null,
   "id": "6aaf5e80",
   "metadata": {},
   "outputs": [],
   "source": [
    "fig =  px.pie(age_sums, values='sum', names='index', color_discrete_sequence=px.colors.qualitative.Safe)\n",
    "fig.show()\n",
    "fig.write_html(\"exploratory/plotlyplots/rq4_agegroups.html\")"
   ]
  }
 ],
 "metadata": {
  "kernelspec": {
   "display_name": "Python [conda env:ada] *",
   "language": "python",
   "name": "conda-env-ada-py"
  },
  "language_info": {
   "codemirror_mode": {
    "name": "ipython",
    "version": 3
   },
   "file_extension": ".py",
   "mimetype": "text/x-python",
   "name": "python",
   "nbconvert_exporter": "python",
   "pygments_lexer": "ipython3",
   "version": "3.8.11"
  }
 },
 "nbformat": 4,
 "nbformat_minor": 5
}
