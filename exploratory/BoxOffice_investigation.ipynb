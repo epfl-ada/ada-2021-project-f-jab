{
 "cells": [
  {
   "cell_type": "markdown",
   "id": "dee2dbf1",
   "metadata": {},
   "source": [
    "# Box Office - data investigations\n",
    "\n",
    "Here we investigate the Box Office - some of the findings are useful for our conclusions and others just explore the data."
   ]
  },
  {
   "cell_type": "code",
   "execution_count": 1,
   "id": "e5fb9f79",
   "metadata": {},
   "outputs": [],
   "source": [
    "import os\n",
    "import numpy as np\n",
    "import pandas as pd"
   ]
  },
  {
   "cell_type": "markdown",
   "id": "24790fe8",
   "metadata": {},
   "source": [
    "### Load data\n",
    "\n",
    "We load the pickled dataframe."
   ]
  },
  {
   "cell_type": "code",
   "execution_count": 4,
   "id": "2fb677d8",
   "metadata": {},
   "outputs": [
    {
     "data": {
      "text/html": [
       "<div>\n",
       "<style scoped>\n",
       "    .dataframe tbody tr th:only-of-type {\n",
       "        vertical-align: middle;\n",
       "    }\n",
       "\n",
       "    .dataframe tbody tr th {\n",
       "        vertical-align: top;\n",
       "    }\n",
       "\n",
       "    .dataframe thead th {\n",
       "        text-align: right;\n",
       "    }\n",
       "</style>\n",
       "<table border=\"1\" class=\"dataframe\">\n",
       "  <thead>\n",
       "    <tr style=\"text-align: right;\">\n",
       "      <th></th>\n",
       "      <th>days</th>\n",
       "      <th>dow</th>\n",
       "      <th>rank</th>\n",
       "      <th>daily</th>\n",
       "      <th>theaters</th>\n",
       "      <th>special events</th>\n",
       "      <th>movie</th>\n",
       "    </tr>\n",
       "  </thead>\n",
       "  <tbody>\n",
       "    <tr>\n",
       "      <th>0</th>\n",
       "      <td>2019-05-24</td>\n",
       "      <td>Friday</td>\n",
       "      <td>1</td>\n",
       "      <td>31358935.0</td>\n",
       "      <td>4476</td>\n",
       "      <td>NaN</td>\n",
       "      <td>Aladdin</td>\n",
       "    </tr>\n",
       "    <tr>\n",
       "      <th>1</th>\n",
       "      <td>2019-05-25</td>\n",
       "      <td>Saturday</td>\n",
       "      <td>1</td>\n",
       "      <td>30013295.0</td>\n",
       "      <td>4476</td>\n",
       "      <td>NaN</td>\n",
       "      <td>Aladdin</td>\n",
       "    </tr>\n",
       "    <tr>\n",
       "      <th>2</th>\n",
       "      <td>2019-05-26</td>\n",
       "      <td>Sunday</td>\n",
       "      <td>1</td>\n",
       "      <td>30128699.0</td>\n",
       "      <td>4476</td>\n",
       "      <td>NaN</td>\n",
       "      <td>Aladdin</td>\n",
       "    </tr>\n",
       "    <tr>\n",
       "      <th>3</th>\n",
       "      <td>2019-05-27</td>\n",
       "      <td>Monday</td>\n",
       "      <td>1</td>\n",
       "      <td>25305033.0</td>\n",
       "      <td>4476</td>\n",
       "      <td>Memorial Day</td>\n",
       "      <td>Aladdin</td>\n",
       "    </tr>\n",
       "    <tr>\n",
       "      <th>4</th>\n",
       "      <td>2019-05-28</td>\n",
       "      <td>Tuesday</td>\n",
       "      <td>1</td>\n",
       "      <td>12014982.0</td>\n",
       "      <td>4476</td>\n",
       "      <td>NaN</td>\n",
       "      <td>Aladdin</td>\n",
       "    </tr>\n",
       "  </tbody>\n",
       "</table>\n",
       "</div>"
      ],
      "text/plain": [
       "         days       dow  rank       daily  theaters special events    movie\n",
       "0  2019-05-24    Friday     1  31358935.0      4476            NaN  Aladdin\n",
       "1  2019-05-25  Saturday     1  30013295.0      4476            NaN  Aladdin\n",
       "2  2019-05-26    Sunday     1  30128699.0      4476            NaN  Aladdin\n",
       "3  2019-05-27    Monday     1  25305033.0      4476   Memorial Day  Aladdin\n",
       "4  2019-05-28   Tuesday     1  12014982.0      4476            NaN  Aladdin"
      ]
     },
     "execution_count": 4,
     "metadata": {},
     "output_type": "execute_result"
    }
   ],
   "source": [
    "filename = f\"boxOffice\"\n",
    "data_dir = os.getcwd() + os.sep + 'data'\n",
    "\n",
    "df_boxOffice = pd.read_pickle(rf\"{data_dir}{os.sep}{filename}.pkl\")\n",
    "df_boxOffice.head()"
   ]
  },
  {
   "cell_type": "markdown",
   "id": "a61548e5",
   "metadata": {},
   "source": [
    "### Inital analysis of Box Office data\n",
    "\n",
    "We want to do a simple investigation to see whether we should handle outlier, etc. in the box office data. We start by describing the continuous attributes."
   ]
  },
  {
   "cell_type": "code",
   "execution_count": 5,
   "id": "d340775e",
   "metadata": {},
   "outputs": [
    {
     "data": {
      "text/html": [
       "<div>\n",
       "<style scoped>\n",
       "    .dataframe tbody tr th:only-of-type {\n",
       "        vertical-align: middle;\n",
       "    }\n",
       "\n",
       "    .dataframe tbody tr th {\n",
       "        vertical-align: top;\n",
       "    }\n",
       "\n",
       "    .dataframe thead th {\n",
       "        text-align: right;\n",
       "    }\n",
       "</style>\n",
       "<table border=\"1\" class=\"dataframe\">\n",
       "  <thead>\n",
       "    <tr style=\"text-align: right;\">\n",
       "      <th></th>\n",
       "      <th>rank</th>\n",
       "      <th>daily</th>\n",
       "      <th>theaters</th>\n",
       "    </tr>\n",
       "  </thead>\n",
       "  <tbody>\n",
       "    <tr>\n",
       "      <th>count</th>\n",
       "      <td>6905.000000</td>\n",
       "      <td>6.905000e+03</td>\n",
       "      <td>6905.000000</td>\n",
       "    </tr>\n",
       "    <tr>\n",
       "      <th>mean</th>\n",
       "      <td>14.968573</td>\n",
       "      <td>2.958313e+06</td>\n",
       "      <td>1746.852860</td>\n",
       "    </tr>\n",
       "    <tr>\n",
       "      <th>std</th>\n",
       "      <td>12.610773</td>\n",
       "      <td>8.340898e+06</td>\n",
       "      <td>1592.607404</td>\n",
       "    </tr>\n",
       "    <tr>\n",
       "      <th>min</th>\n",
       "      <td>1.000000</td>\n",
       "      <td>6.000000e+01</td>\n",
       "      <td>5.000000</td>\n",
       "    </tr>\n",
       "    <tr>\n",
       "      <th>25%</th>\n",
       "      <td>4.000000</td>\n",
       "      <td>3.217800e+04</td>\n",
       "      <td>221.000000</td>\n",
       "    </tr>\n",
       "    <tr>\n",
       "      <th>50%</th>\n",
       "      <td>12.000000</td>\n",
       "      <td>2.661390e+05</td>\n",
       "      <td>1238.000000</td>\n",
       "    </tr>\n",
       "    <tr>\n",
       "      <th>75%</th>\n",
       "      <td>24.000000</td>\n",
       "      <td>1.842660e+06</td>\n",
       "      <td>3323.000000</td>\n",
       "    </tr>\n",
       "    <tr>\n",
       "      <th>max</th>\n",
       "      <td>63.000000</td>\n",
       "      <td>1.574616e+08</td>\n",
       "      <td>4802.000000</td>\n",
       "    </tr>\n",
       "  </tbody>\n",
       "</table>\n",
       "</div>"
      ],
      "text/plain": [
       "              rank         daily     theaters\n",
       "count  6905.000000  6.905000e+03  6905.000000\n",
       "mean     14.968573  2.958313e+06  1746.852860\n",
       "std      12.610773  8.340898e+06  1592.607404\n",
       "min       1.000000  6.000000e+01     5.000000\n",
       "25%       4.000000  3.217800e+04   221.000000\n",
       "50%      12.000000  2.661390e+05  1238.000000\n",
       "75%      24.000000  1.842660e+06  3323.000000\n",
       "max      63.000000  1.574616e+08  4802.000000"
      ]
     },
     "execution_count": 5,
     "metadata": {},
     "output_type": "execute_result"
    }
   ],
   "source": [
    "df_boxOffice.describe()"
   ]
  },
  {
   "cell_type": "markdown",
   "id": "07a438b8",
   "metadata": {},
   "source": [
    "Check for any NaN-values. They only occur in the special events which is alright."
   ]
  },
  {
   "cell_type": "code",
   "execution_count": 6,
   "id": "ccb3a7ce",
   "metadata": {
    "scrolled": true
   },
   "outputs": [
    {
     "data": {
      "text/plain": [
       "days              False\n",
       "dow               False\n",
       "rank              False\n",
       "daily             False\n",
       "theaters          False\n",
       "special events     True\n",
       "movie             False\n",
       "dtype: bool"
      ]
     },
     "execution_count": 6,
     "metadata": {},
     "output_type": "execute_result"
    }
   ],
   "source": [
    "df_boxOffice.isnull().any()"
   ]
  },
  {
   "cell_type": "markdown",
   "id": "49a82932",
   "metadata": {},
   "source": []
  },
  {
   "cell_type": "code",
   "execution_count": null,
   "id": "a14b2320",
   "metadata": {},
   "outputs": [],
   "source": []
  },
  {
   "cell_type": "code",
   "execution_count": null,
   "id": "1f9360ff",
   "metadata": {},
   "outputs": [],
   "source": []
  },
  {
   "cell_type": "markdown",
   "id": "94611464",
   "metadata": {},
   "source": [
    "Some plots?! FELIX your go - investigate whether box office looks similar to the one in IMDb. TAKE IT AWAY!"
   ]
  },
  {
   "cell_type": "code",
   "execution_count": null,
   "id": "659b2195",
   "metadata": {},
   "outputs": [],
   "source": []
  }
 ],
 "metadata": {
  "kernelspec": {
   "display_name": "Python 3",
   "language": "python",
   "name": "python3"
  },
  "language_info": {
   "codemirror_mode": {
    "name": "ipython",
    "version": 3
   },
   "file_extension": ".py",
   "mimetype": "text/x-python",
   "name": "python",
   "nbconvert_exporter": "python",
   "pygments_lexer": "ipython3",
   "version": "3.8.8"
  }
 },
 "nbformat": 4,
 "nbformat_minor": 5
}
