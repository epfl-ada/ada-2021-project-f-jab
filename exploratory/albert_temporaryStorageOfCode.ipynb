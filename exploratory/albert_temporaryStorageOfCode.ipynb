{
 "cells": [
  {
   "cell_type": "markdown",
   "id": "5aa87ae3",
   "metadata": {},
   "source": [
    "## Potential sentiment-time analyses plots"
   ]
  },
  {
   "cell_type": "markdown",
   "id": "4cff268b",
   "metadata": {},
   "source": [
    "As next, we analyze the changing of sentiment of quotes over time. To make things easier to understand and analyze (not as plot 1), we added some lowpass smoothing to be able to observe the trends a bit better."
   ]
  },
  {
   "cell_type": "code",
   "execution_count": null,
   "id": "02b3abea",
   "metadata": {},
   "outputs": [],
   "source": [
    "def getPartOfDataFrame(df, start_date, end_date):\n",
    "    df_dates = df[df['date'] >= start_date][df['date'] <= end_date]\n",
    "    return df_dates\n",
    "\n",
    "def sentimentAcrossDates(df, start_date='2019-01-01', end_date='2019-12-31'):\n",
    "    df_dates = getPartOfDataFrame(df, start_date, end_date)\n",
    "    date_range = df_dates.date\n",
    "    unique_dates = np.unique(date_range)\n",
    "    \n",
    "    date_avgSentiment = ([(date, np.mean(df.query(f'date == \"{date}\"')[['date', 'sentiment']])) for date in tqdm(unique_dates)])\n",
    "    dates, avgSentiments = list(zip(*date_avgSentiment))\n",
    "    avgSentiments = np.concatenate(avgSentiments)\n",
    "    \n",
    "    return np.array(dates), avgSentiments\n",
    "\n",
    "def smooth_filter(y, l=51):\n",
    "    y_filtered = np.convolve(y, np.ones(l)/l, mode='same')\n",
    "    return y_filtered\n",
    "\n",
    "def moving_average(y, L_=200):\n",
    "    y_filtered = []\n",
    "    for s in range(L_,len(y)):\n",
    "        y_filtered.append(np.mean(y[s-L_:s]))\n",
    "    \n",
    "    return y_filtered\n",
    "\n",
    "def plotSentimentTimeseries(df, start_date, end_date):\n",
    "    \n",
    "    dates, unfiltered = sentimentAcrossDates(df, start_date=start_date, end_date=end_date)\n",
    "    filtered_once = smooth_filter(unfiltered, 51)\n",
    "    filtered_twice = smooth_filter(filtered_once, 21)\n",
    "    \n",
    "    months = ['01-01', '02-01', '03-01', '04-01', '05-01', '06-01', '07-01', '08-01', '09-01', '10-01', '11-01', '12-01']\n",
    "    xtick_pos = np.round(np.arange(0, len(dates), step=len(dates)/12, dtype=int))\n",
    "\n",
    "    fig, axs = plt.subplots(3, figsize=(12,8), sharex=True)\n",
    "\n",
    "    axs[0].plot(np.arange(len(unfiltered)), unfiltered, '--.')\n",
    "    axs[0].axhline(color='grey', linestyle='--')\n",
    "\n",
    "    axs[1].plot(np.arange(len(filtered_once)), filtered_once)\n",
    "    axs[1].plot(np.arange(len(filtered_once)), filtered_once-np.mean(filtered_once), '-')\n",
    "    axs[1].axhline(color='grey', linestyle='--')\n",
    "    axs[1].set_ylabel(\"Average sentiment\", size=12)\n",
    "\n",
    "    axs[2].plot(np.arange(len(filtered_twice)), filtered_twice, label='Lowpass')\n",
    "    axs[2].plot(np.arange(len(filtered_twice)), filtered_twice-np.mean(filtered_twice), label='Lowpass with zero mean')\n",
    "    axs[2].axhline(color='grey', linestyle='--', label='Neutral sentiment')\n",
    "\n",
    "    plt.xlabel(\"Date\", size=12)\n",
    "    plt.xticks(xtick_pos, dates[xtick_pos], rotation=45)\n",
    "    plt.legend(bbox_to_anchor=(1,1.45), loc=\"lower left\")\n",
    "    fig.suptitle(f\"Daily sentiment of quotes between {start_date} and {end_date} \\n(w. smoothness filter)\", size=20)\n",
    "    plt.show()"
   ]
  },
  {
   "cell_type": "code",
   "execution_count": null,
   "id": "698ccd02",
   "metadata": {},
   "outputs": [],
   "source": [
    "earliest_date = np.min(df.date)\n",
    "latest_date = np.max(df.date)\n",
    "plotSentimentTimeseries(df, earliest_date, latest_date)\n",
    "print(f\"Dates range from {earliest_date} to {latest_date} !\")"
   ]
  },
  {
   "cell_type": "code",
   "execution_count": null,
   "id": "60e99f07",
   "metadata": {},
   "outputs": [],
   "source": [
    "start_date = '2015-10-15'\n",
    "end_date = '2016-12-16'\n",
    "df_dates = getPartOfDataFrame(df, start_date=start_date, end_date=end_date)\n",
    "\n",
    "print(f\"Dates range from {start_date} to {end_date} !\")"
   ]
  },
  {
   "cell_type": "code",
   "execution_count": null,
   "id": "e38faac7",
   "metadata": {},
   "outputs": [],
   "source": [
    "min_score_idx = df_dates[df_dates.sentiment == np.min(df_dates.sentiment)].index\n",
    "negative_speaker_ID = list(df_dates.loc[min_score_idx].shared_ID)[0]\n",
    "\n",
    "min_mean = np.mean(df_dates.sentiment[df.shared_ID == negative_speaker_ID])\n",
    "min_std = np.std(df_dates.sentiment[df.shared_ID == negative_speaker_ID])\n",
    "\n",
    "print(f\"Sentiment associated with speaker ID with minimum (single) sentiment:\\n\\n {min_mean} \\pm {min_std}\")\n",
    "\n",
    "df_dates[df.shared_ID == negative_speaker_ID]"
   ]
  }
 ],
 "metadata": {
  "kernelspec": {
   "display_name": "Python 3",
   "language": "python",
   "name": "python3"
  },
  "language_info": {
   "codemirror_mode": {
    "name": "ipython",
    "version": 3
   },
   "file_extension": ".py",
   "mimetype": "text/x-python",
   "name": "python",
   "nbconvert_exporter": "python",
   "pygments_lexer": "ipython3",
   "version": "3.8.8"
  }
 },
 "nbformat": 4,
 "nbformat_minor": 5
}
