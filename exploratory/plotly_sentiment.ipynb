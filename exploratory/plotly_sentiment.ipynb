{
 "cells": [
  {
   "cell_type": "markdown",
   "id": "fef1d9f0",
   "metadata": {},
   "source": [
    "# Sentiment and Time plots\n",
    "\n",
    "The idea is to check how the accumulated sentiment of quotes on movies change over time. The output is thus mainly interactive animated plots made with `plotly`.\n",
    "\n",
    "We take inspiration from the way [this article/post](#https://towardsdatascience.com/how-to-produce-an-animated-bar-plot-in-plotly-using-python-2b5b360492f8) uses plotly express to generate animated bar plots that changes based on year. We will however modify it to our approach and start by expressing the approach using auxiliary functions, that are import from the auxiliary python script, `plotly_aux.py`\n"
   ]
  },
  {
   "cell_type": "code",
   "execution_count": 1,
   "id": "ff83b39e",
   "metadata": {},
   "outputs": [],
   "source": [
    "import os\n",
    "import pandas as pd\n",
    "\n",
    "from plotly_aux import * \n",
    "from raceplotly.plots import barplot"
   ]
  },
  {
   "cell_type": "markdown",
   "id": "b0c61038",
   "metadata": {},
   "source": [
    "Load the sentiment data from the pickle containing all types of sentiment scores."
   ]
  },
  {
   "cell_type": "code",
   "execution_count": 2,
   "id": "0ddf3eda",
   "metadata": {},
   "outputs": [
    {
     "data": {
      "text/html": [
       "<div>\n",
       "<style scoped>\n",
       "    .dataframe tbody tr th:only-of-type {\n",
       "        vertical-align: middle;\n",
       "    }\n",
       "\n",
       "    .dataframe tbody tr th {\n",
       "        vertical-align: top;\n",
       "    }\n",
       "\n",
       "    .dataframe thead th {\n",
       "        text-align: right;\n",
       "    }\n",
       "</style>\n",
       "<table border=\"1\" class=\"dataframe\">\n",
       "  <thead>\n",
       "    <tr style=\"text-align: right;\">\n",
       "      <th></th>\n",
       "      <th>quotation</th>\n",
       "      <th>speaker</th>\n",
       "      <th>qids</th>\n",
       "      <th>date</th>\n",
       "      <th>numOccurrences</th>\n",
       "      <th>probas</th>\n",
       "      <th>urls</th>\n",
       "      <th>movie</th>\n",
       "      <th>shared_ID</th>\n",
       "      <th>AFINN_label</th>\n",
       "      <th>AFINN_score</th>\n",
       "      <th>VADER_label</th>\n",
       "      <th>VADER_score</th>\n",
       "      <th>BERT_label</th>\n",
       "      <th>BERT_score</th>\n",
       "      <th>positive_BERT_score</th>\n",
       "      <th>scaledReverted_BERT_score</th>\n",
       "    </tr>\n",
       "  </thead>\n",
       "  <tbody>\n",
       "    <tr>\n",
       "      <th>0</th>\n",
       "      <td>Is Ferguson like Mockingjay?</td>\n",
       "      <td>Laci Green</td>\n",
       "      <td>[Q16843606]</td>\n",
       "      <td>2015-11-15</td>\n",
       "      <td>1</td>\n",
       "      <td>[[Laci Green, 0.9013], [None, 0.0987]]</td>\n",
       "      <td>[http://www.dailykos.com/story/2015/11/15/1450...</td>\n",
       "      <td>The Hunger Games: Mockingjay - Part 2</td>\n",
       "      <td>1751</td>\n",
       "      <td>POSITIVE</td>\n",
       "      <td>0.500000</td>\n",
       "      <td>POSITIVE</td>\n",
       "      <td>0.3612</td>\n",
       "      <td>NEGATIVE</td>\n",
       "      <td>0.989802</td>\n",
       "      <td>0.010198</td>\n",
       "      <td>-0.541032</td>\n",
       "    </tr>\n",
       "    <tr>\n",
       "      <th>1</th>\n",
       "      <td>I want to clarify my interview on the `Charlie...</td>\n",
       "      <td>George Lucas</td>\n",
       "      <td>[Q38222, Q1507803]</td>\n",
       "      <td>2015-12-31</td>\n",
       "      <td>7</td>\n",
       "      <td>[[George Lucas, 0.5327], [None, 0.4248], [Char...</td>\n",
       "      <td>[http://www.escapistmagazine.com/news/view/165...</td>\n",
       "      <td>Star Wars: Episode VII - The Force Awakens</td>\n",
       "      <td>6724</td>\n",
       "      <td>POSITIVE</td>\n",
       "      <td>0.165563</td>\n",
       "      <td>POSITIVE</td>\n",
       "      <td>0.9910</td>\n",
       "      <td>POSITIVE</td>\n",
       "      <td>0.999293</td>\n",
       "      <td>0.999293</td>\n",
       "      <td>0.787788</td>\n",
       "    </tr>\n",
       "    <tr>\n",
       "      <th>2</th>\n",
       "      <td>Is Daredevil joining the Avengers for Infinity...</td>\n",
       "      <td>Scott Davis</td>\n",
       "      <td>[Q1373440, Q7436227, Q7436228, Q7436226, Q1619...</td>\n",
       "      <td>2015-12-10</td>\n",
       "      <td>2</td>\n",
       "      <td>[[None, 0.4806], [Scott Davis, 0.4017], [Antho...</td>\n",
       "      <td>[http://www.flickeringmyth.com/2015/12/is-dare...</td>\n",
       "      <td>Avengers: Age of Ultron</td>\n",
       "      <td>692</td>\n",
       "      <td>NEGATIVE</td>\n",
       "      <td>-0.153846</td>\n",
       "      <td>NEGATIVE</td>\n",
       "      <td>-0.6369</td>\n",
       "      <td>NEGATIVE</td>\n",
       "      <td>0.833872</td>\n",
       "      <td>0.166128</td>\n",
       "      <td>-0.208302</td>\n",
       "    </tr>\n",
       "    <tr>\n",
       "      <th>3</th>\n",
       "      <td>They were saying, `Well, since when has Star W...</td>\n",
       "      <td>J.J. Abrams</td>\n",
       "      <td>[Q188137]</td>\n",
       "      <td>2015-12-21</td>\n",
       "      <td>1</td>\n",
       "      <td>[[J.J. Abrams, 0.5868], [None, 0.2584], [Lupit...</td>\n",
       "      <td>[http://rssfeeds.usatoday.com/~/129385923/0/us...</td>\n",
       "      <td>Star Wars: Episode VII - The Force Awakens</td>\n",
       "      <td>2394</td>\n",
       "      <td>POSITIVE</td>\n",
       "      <td>0.000000</td>\n",
       "      <td>NEGATIVE</td>\n",
       "      <td>-0.3612</td>\n",
       "      <td>NEGATIVE</td>\n",
       "      <td>0.991336</td>\n",
       "      <td>0.008664</td>\n",
       "      <td>-0.559515</td>\n",
       "    </tr>\n",
       "    <tr>\n",
       "      <th>4</th>\n",
       "      <td>You meet new characters and you learn about Ha...</td>\n",
       "      <td>Kevin Feige</td>\n",
       "      <td>[Q515161]</td>\n",
       "      <td>2015-05-06</td>\n",
       "      <td>1</td>\n",
       "      <td>[[Kevin Feige, 0.9108], [None, 0.0782], [Scott...</td>\n",
       "      <td>[http://www.digitaltrends.com/movies/ant-man-m...</td>\n",
       "      <td>Avengers: Age of Ultron</td>\n",
       "      <td>8789</td>\n",
       "      <td>NEGATIVE</td>\n",
       "      <td>-0.011111</td>\n",
       "      <td>POSITIVE</td>\n",
       "      <td>0.1901</td>\n",
       "      <td>POSITIVE</td>\n",
       "      <td>0.999218</td>\n",
       "      <td>0.999218</td>\n",
       "      <td>0.776419</td>\n",
       "    </tr>\n",
       "  </tbody>\n",
       "</table>\n",
       "</div>"
      ],
      "text/plain": [
       "                                           quotation       speaker  \\\n",
       "0                       Is Ferguson like Mockingjay?    Laci Green   \n",
       "1  I want to clarify my interview on the `Charlie...  George Lucas   \n",
       "2  Is Daredevil joining the Avengers for Infinity...   Scott Davis   \n",
       "3  They were saying, `Well, since when has Star W...   J.J. Abrams   \n",
       "4  You meet new characters and you learn about Ha...   Kevin Feige   \n",
       "\n",
       "                                                qids        date  \\\n",
       "0                                        [Q16843606]  2015-11-15   \n",
       "1                                 [Q38222, Q1507803]  2015-12-31   \n",
       "2  [Q1373440, Q7436227, Q7436228, Q7436226, Q1619...  2015-12-10   \n",
       "3                                          [Q188137]  2015-12-21   \n",
       "4                                          [Q515161]  2015-05-06   \n",
       "\n",
       "   numOccurrences                                             probas  \\\n",
       "0               1             [[Laci Green, 0.9013], [None, 0.0987]]   \n",
       "1               7  [[George Lucas, 0.5327], [None, 0.4248], [Char...   \n",
       "2               2  [[None, 0.4806], [Scott Davis, 0.4017], [Antho...   \n",
       "3               1  [[J.J. Abrams, 0.5868], [None, 0.2584], [Lupit...   \n",
       "4               1  [[Kevin Feige, 0.9108], [None, 0.0782], [Scott...   \n",
       "\n",
       "                                                urls  \\\n",
       "0  [http://www.dailykos.com/story/2015/11/15/1450...   \n",
       "1  [http://www.escapistmagazine.com/news/view/165...   \n",
       "2  [http://www.flickeringmyth.com/2015/12/is-dare...   \n",
       "3  [http://rssfeeds.usatoday.com/~/129385923/0/us...   \n",
       "4  [http://www.digitaltrends.com/movies/ant-man-m...   \n",
       "\n",
       "                                        movie  shared_ID AFINN_label  \\\n",
       "0       The Hunger Games: Mockingjay - Part 2       1751    POSITIVE   \n",
       "1  Star Wars: Episode VII - The Force Awakens       6724    POSITIVE   \n",
       "2                     Avengers: Age of Ultron        692    NEGATIVE   \n",
       "3  Star Wars: Episode VII - The Force Awakens       2394    POSITIVE   \n",
       "4                     Avengers: Age of Ultron       8789    NEGATIVE   \n",
       "\n",
       "   AFINN_score VADER_label  VADER_score BERT_label  BERT_score  \\\n",
       "0     0.500000    POSITIVE       0.3612   NEGATIVE    0.989802   \n",
       "1     0.165563    POSITIVE       0.9910   POSITIVE    0.999293   \n",
       "2    -0.153846    NEGATIVE      -0.6369   NEGATIVE    0.833872   \n",
       "3     0.000000    NEGATIVE      -0.3612   NEGATIVE    0.991336   \n",
       "4    -0.011111    POSITIVE       0.1901   POSITIVE    0.999218   \n",
       "\n",
       "   positive_BERT_score  scaledReverted_BERT_score  \n",
       "0             0.010198                  -0.541032  \n",
       "1             0.999293                   0.787788  \n",
       "2             0.166128                  -0.208302  \n",
       "3             0.008664                  -0.559515  \n",
       "4             0.999218                   0.776419  "
      ]
     },
     "execution_count": 2,
     "metadata": {},
     "output_type": "execute_result"
    }
   ],
   "source": [
    "# Specifying filename and directory\n",
    "data_dir = os.getcwd() + os.sep + 'data'\n",
    "filepath = rf\"{data_dir}{os.sep}Quotebank_sentiment.pkl\"\n",
    "\n",
    "df_Quotebank = pd.read_pickle(filepath)\n",
    "df_Quotebank.head()"
   ]
  },
  {
   "cell_type": "markdown",
   "id": "7893d4dd",
   "metadata": {},
   "source": [
    "We now want to add a simpler time-index attribute to the data - the year-month pair (as strings) related to each quote will be used as a time-index. This is done as we want an interactive animation (with plotly express). The year-month pair is our initial way of dealing with the time series related to quotes about movies at it is neither trivial (like year) nor super complex as accessing each individual date will be. "
   ]
  },
  {
   "cell_type": "code",
   "execution_count": 3,
   "id": "c94aab74",
   "metadata": {},
   "outputs": [
    {
     "data": {
      "text/plain": [
       "'2015-11'"
      ]
     },
     "execution_count": 3,
     "metadata": {},
     "output_type": "execute_result"
    }
   ],
   "source": [
    "df_Quotebank['year-month'] = [(\"-\").join(date.split(\"-\")[:2]) for date in df_Quotebank['date']]\n",
    "df_Quotebank['year-month'].unique()[0]"
   ]
  },
  {
   "cell_type": "markdown",
   "id": "a9238c40",
   "metadata": {},
   "source": [
    "Investigating the running average of weighted daily average BERT sentiment. The functions has a parameter for subsampling and we start by investigating the quotes related to 10 subsampled movies (where replacement is allowed) - then we do it for all movies."
   ]
  },
  {
   "cell_type": "code",
   "execution_count": 4,
   "id": "09f141e9",
   "metadata": {},
   "outputs": [
    {
     "data": {
      "application/vnd.jupyter.widget-view+json": {
       "model_id": "74254eae44d94566a40d9194cc56a63a",
       "version_major": 2,
       "version_minor": 0
      },
      "text/plain": [
       "  0%|          | 0/8 [00:00<?, ?it/s]"
      ]
     },
     "metadata": {},
     "output_type": "display_data"
    }
   ],
   "source": [
    "df_Quotebank['positive_BERT_score'] = (df_Quotebank.positive_BERT_score - 0.5) * 2\n",
    "\n",
    "# specifying parameters\n",
    "N_samples = 10\n",
    "dataset = 'Quotebank'\n",
    "attribute = 'positive_BERT_score'\n",
    "y_label = 'sentiment (BERT)'\n",
    "time_attribute = 'year-month'\n",
    "title = f'Sentiment on Quotes evolving through time'\n",
    "\n",
    "save_fig = False\n",
    "\n",
    "# creating dataframes\n",
    "df_Quotebank_wrangled = wrangleData(df_Quotebank, time_attribute=time_attribute)\n",
    "df_plot, df_sample= createPlotDF(df_Quotebank_wrangled, attribute=attribute, dataset=dataset, time_attribute=time_attribute, y_label=y_label, N_samples=N_samples)\n",
    "    \n",
    "# plotting figure\n",
    "fig = animatedBarPlot(df_plot, y_label=y_label, time_attribute=time_attribute, speed=0.4, title=title, save_fig=save_fig)"
   ]
  },
  {
   "cell_type": "markdown",
   "id": "f5a0994e",
   "metadata": {},
   "source": [
    "Now a similar investigation with all movies included is conducted."
   ]
  },
  {
   "cell_type": "code",
   "execution_count": 5,
   "id": "a80f7313",
   "metadata": {},
   "outputs": [
    {
     "data": {
      "application/vnd.jupyter.widget-view+json": {
       "model_id": "4b90361bfc8a4cfd9a0cd708d93b9415",
       "version_major": 2,
       "version_minor": 0
      },
      "text/plain": [
       "  0%|          | 0/56 [00:00<?, ?it/s]"
      ]
     },
     "metadata": {},
     "output_type": "display_data"
    },
    {
     "name": "stdout",
     "output_type": "stream",
     "text": [
      "saved html version of plot to: C:\\Users\\Albert Kjøller\\Documents\\EPFL\\Courses\\CS-401_ADA\\ada-2021-project-f-jab\\exploratory\\plotlyplots\n"
     ]
    }
   ],
   "source": [
    "# specifying parameters\n",
    "N_samples = None\n",
    "dataset = 'Quotebank'\n",
    "attribute = 'positive_BERT_score'\n",
    "y_label = 'sentiment'\n",
    "time_attribute = 'year-month'\n",
    "title = ''# f'Sentiment on Quotes evolving through time'\n",
    "\n",
    "save_fig = True\n",
    "\n",
    "# creating dataframes\n",
    "df_Quotebank_wrangled = wrangleData(df_Quotebank, time_attribute=time_attribute)\n",
    "df_plot, df_sample= createPlotDF(df_Quotebank_wrangled, attribute=attribute, dataset=dataset, time_attribute=time_attribute, y_label=y_label, N_samples=N_samples)\n",
    "    \n",
    "# plotting figure\n",
    "fig = animatedBarPlot(df_plot, y_label=y_label, time_attribute=time_attribute, speed=0.4, title=title, save_fig=save_fig)"
   ]
  },
  {
   "cell_type": "markdown",
   "id": "23768bf6",
   "metadata": {},
   "source": [
    "Now we do the same for the VADER sentiments. First for a subsample of 10, then for all movies."
   ]
  },
  {
   "cell_type": "code",
   "execution_count": 6,
   "id": "b2cb925c",
   "metadata": {},
   "outputs": [
    {
     "data": {
      "application/vnd.jupyter.widget-view+json": {
       "model_id": "fd418cb652284810b06aef96452c99f2",
       "version_major": 2,
       "version_minor": 0
      },
      "text/plain": [
       "  0%|          | 0/8 [00:00<?, ?it/s]"
      ]
     },
     "metadata": {},
     "output_type": "display_data"
    }
   ],
   "source": [
    "# specifying parameters\n",
    "N_samples = 10\n",
    "dataset = 'Quotebank'\n",
    "attribute = 'VADER_score'\n",
    "y_label = 'sentiment (VADER)'\n",
    "time_attribute = 'year-month'\n",
    "title = f'Evolving {y_label}'\n",
    "\n",
    "save_fig = False\n",
    "\n",
    "# creating dataframes\n",
    "df_Quotebank_wrangled = wrangleData(df_Quotebank, time_attribute=time_attribute)\n",
    "df_plot, df_sample= createPlotDF(df_Quotebank_wrangled, attribute=attribute, dataset=dataset, time_attribute=time_attribute, y_label=y_label, N_samples=N_samples)\n",
    "    \n",
    "# plotting figure\n",
    "fig = animatedBarPlot(df_plot, y_label=y_label, time_attribute=time_attribute, speed=0.4, title=title, save_fig=save_fig)"
   ]
  },
  {
   "cell_type": "code",
   "execution_count": 7,
   "id": "aebcb2ea",
   "metadata": {},
   "outputs": [
    {
     "data": {
      "application/vnd.jupyter.widget-view+json": {
       "model_id": "6481610e9aa94520926fe3866d5a744b",
       "version_major": 2,
       "version_minor": 0
      },
      "text/plain": [
       "  0%|          | 0/56 [00:00<?, ?it/s]"
      ]
     },
     "metadata": {},
     "output_type": "display_data"
    }
   ],
   "source": [
    "# specifying parameters\n",
    "N_samples = None\n",
    "dataset = 'Quotebank'\n",
    "attribute = 'VADER_score'\n",
    "y_label = 'sentiment (VADER)'\n",
    "time_attribute = 'year-month'\n",
    "title = f'Running mean of {y_label}'\n",
    "\n",
    "save_fig = False\n",
    "\n",
    "# creating dataframes\n",
    "df_Quotebank_wrangled = wrangleData(df_Quotebank, time_attribute=time_attribute)\n",
    "df_plot, df_sample= createPlotDF(df_Quotebank_wrangled, attribute=attribute, dataset=dataset, time_attribute=time_attribute, y_label=y_label, N_samples=N_samples)\n",
    "    \n",
    "# plotting figure\n",
    "fig = animatedBarPlot(df_plot, y_label=y_label, time_attribute=time_attribute, speed=0.4, title=title, save_fig=save_fig)"
   ]
  },
  {
   "cell_type": "code",
   "execution_count": null,
   "id": "163fbbb5",
   "metadata": {},
   "outputs": [],
   "source": []
  }
 ],
 "metadata": {
  "kernelspec": {
   "display_name": "Python 3",
   "language": "python",
   "name": "python3"
  },
  "language_info": {
   "codemirror_mode": {
    "name": "ipython",
    "version": 3
   },
   "file_extension": ".py",
   "mimetype": "text/x-python",
   "name": "python",
   "nbconvert_exporter": "python",
   "pygments_lexer": "ipython3",
   "version": "3.8.8"
  }
 },
 "nbformat": 4,
 "nbformat_minor": 5
}
