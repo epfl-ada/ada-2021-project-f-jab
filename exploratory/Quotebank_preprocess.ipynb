{
 "cells": [
  {
   "cell_type": "code",
   "execution_count": 1,
   "id": "1e78760a",
   "metadata": {},
   "outputs": [],
   "source": [
    "import os\n",
    "import glob\n",
    "import bz2\n",
    "import pandas as pd\n",
    "import numpy as np\n",
    "from tqdm.notebook import tqdm\n",
    "import matplotlib.pyplot as plt\n",
    "from collections import defaultdict"
   ]
  },
  {
   "cell_type": "markdown",
   "id": "61774079",
   "metadata": {},
   "source": [
    "# Preprocessing the Quotebank data\n",
    "\n",
    "The idea with this notebook is to load the prefiltered Quotebank data set and preprocess it such that we have an unambiguous data frame that is suitable for future investigations as a pickle. We start by loading the data from each yearly `json.bz2`-file such that the yearly dataframes are concatenated into a single one."
   ]
  },
  {
   "cell_type": "code",
   "execution_count": 2,
   "id": "15358ce4",
   "metadata": {},
   "outputs": [
    {
     "name": "stdout",
     "output_type": "stream",
     "text": [
      "['quotes-2015-movies.json.bz2', 'quotes-2016-movies.json.bz2', 'quotes-2017-movies.json.bz2', 'quotes-2018-movies.json.bz2', 'quotes-2019-movies.json.bz2', 'quotes-2020-movies.json.bz2']\n"
     ]
    }
   ],
   "source": [
    "# Specifying filename and directory\n",
    "data_dir = os.getcwd() + os.sep + 'data'\n",
    "quotebank_dir = data_dir + os.sep + \"Quotebank\"\n",
    "quotebank_bz2 = os.listdir(quotebank_dir)\n",
    "print(quotebank_bz2)\n",
    "\n",
    "# Change directory\n",
    "os.chdir(quotebank_dir)"
   ]
  },
  {
   "cell_type": "code",
   "execution_count": 3,
   "id": "81a148e0",
   "metadata": {},
   "outputs": [
    {
     "data": {
      "application/vnd.jupyter.widget-view+json": {
       "model_id": "a5b8448c3345411b92b3f6dce1f95f52",
       "version_major": 2,
       "version_minor": 0
      },
      "text/plain": [
       "  0%|          | 0/6 [00:00<?, ?it/s]"
      ]
     },
     "metadata": {},
     "output_type": "display_data"
    },
    {
     "data": {
      "text/plain": [
       "(91311, 10)"
      ]
     },
     "execution_count": 3,
     "metadata": {},
     "output_type": "execute_result"
    }
   ],
   "source": [
    "df = pd.DataFrame()\n",
    "for year_file in tqdm(quotebank_bz2):\n",
    "    if year_file != '.DS_Store':\n",
    "        temp =  pd.read_json(year_file, lines=True, compression='bz2')\n",
    "        df = pd.concat([df, temp], ignore_index = True) \n",
    "df.shape"
   ]
  },
  {
   "cell_type": "markdown",
   "id": "8829d457",
   "metadata": {},
   "source": [
    "We check if the filtering was done correctly - just to be sure - such that we also extract quotes about a movie from the following years after the year where it is in the top 10."
   ]
  },
  {
   "cell_type": "code",
   "execution_count": 4,
   "id": "b0b94036",
   "metadata": {},
   "outputs": [
    {
     "data": {
      "text/plain": [
       "(array([2015, 2016]), array([6765, 3408], dtype=int64))"
      ]
     },
     "execution_count": 4,
     "metadata": {},
     "output_type": "execute_result"
    }
   ],
   "source": [
    "np.unique([date.year for date in df.date[df.movie == 'Star Wars: Episode VII - The Force Awakens']], return_counts=True)"
   ]
  },
  {
   "cell_type": "code",
   "execution_count": 5,
   "id": "a097c4f1",
   "metadata": {},
   "outputs": [
    {
     "data": {
      "text/plain": [
       "(array([2019, 2020]), array([4628,  793], dtype=int64))"
      ]
     },
     "execution_count": 5,
     "metadata": {},
     "output_type": "execute_result"
    }
   ],
   "source": [
    "np.unique([date.year for date in df.date[df.movie == 'Star Wars: Episode IX - The Rise of Skywalker']], return_counts=True)"
   ]
  },
  {
   "cell_type": "markdown",
   "id": "d7f93dda",
   "metadata": {},
   "source": [
    "So we see that this is indeed the case. Let's just visualize the data frame to be sure that all attributes are included."
   ]
  },
  {
   "cell_type": "code",
   "execution_count": 6,
   "id": "82acbee3",
   "metadata": {},
   "outputs": [
    {
     "data": {
      "text/html": [
       "<div>\n",
       "<style scoped>\n",
       "    .dataframe tbody tr th:only-of-type {\n",
       "        vertical-align: middle;\n",
       "    }\n",
       "\n",
       "    .dataframe tbody tr th {\n",
       "        vertical-align: top;\n",
       "    }\n",
       "\n",
       "    .dataframe thead th {\n",
       "        text-align: right;\n",
       "    }\n",
       "</style>\n",
       "<table border=\"1\" class=\"dataframe\">\n",
       "  <thead>\n",
       "    <tr style=\"text-align: right;\">\n",
       "      <th></th>\n",
       "      <th>quoteID</th>\n",
       "      <th>quotation</th>\n",
       "      <th>speaker</th>\n",
       "      <th>qids</th>\n",
       "      <th>date</th>\n",
       "      <th>numOccurrences</th>\n",
       "      <th>probas</th>\n",
       "      <th>urls</th>\n",
       "      <th>phase</th>\n",
       "      <th>movie</th>\n",
       "    </tr>\n",
       "  </thead>\n",
       "  <tbody>\n",
       "    <tr>\n",
       "      <th>0</th>\n",
       "      <td>2015-02-14-007911</td>\n",
       "      <td>For fans of the book they know that Effie's ro...</td>\n",
       "      <td>None</td>\n",
       "      <td>[]</td>\n",
       "      <td>2015-02-14 00:47:05</td>\n",
       "      <td>1</td>\n",
       "      <td>[[None, 0.8008], [Francis Lawrence, 0.1299], [...</td>\n",
       "      <td>[http://www.buzzfeed.com/kristinharris/secrets...</td>\n",
       "      <td>E</td>\n",
       "      <td>The Hunger Games: Mockingjay - Part 2</td>\n",
       "    </tr>\n",
       "    <tr>\n",
       "      <th>1</th>\n",
       "      <td>2015-11-15-027947</td>\n",
       "      <td>Is Ferguson like Mockingjay?</td>\n",
       "      <td>Laci Green</td>\n",
       "      <td>[Q16843606]</td>\n",
       "      <td>2015-11-15 03:15:53</td>\n",
       "      <td>1</td>\n",
       "      <td>[[Laci Green, 0.9013], [None, 0.0987]]</td>\n",
       "      <td>[http://www.dailykos.com/story/2015/11/15/1450...</td>\n",
       "      <td>E</td>\n",
       "      <td>The Hunger Games: Mockingjay - Part 2</td>\n",
       "    </tr>\n",
       "    <tr>\n",
       "      <th>2</th>\n",
       "      <td>2015-04-26-028061</td>\n",
       "      <td>It's pretty exciting-I have to say. I saw the ...</td>\n",
       "      <td>None</td>\n",
       "      <td>[]</td>\n",
       "      <td>2015-04-26 11:56:10</td>\n",
       "      <td>2</td>\n",
       "      <td>[[None, 0.8589], [Jared Leto, 0.0772], [Joss W...</td>\n",
       "      <td>[http://ign.com/articles/2015/04/24/joss-whedo...</td>\n",
       "      <td>E</td>\n",
       "      <td>Star Wars: Episode VII - The Force Awakens</td>\n",
       "    </tr>\n",
       "    <tr>\n",
       "      <th>3</th>\n",
       "      <td>2015-12-31-028469</td>\n",
       "      <td>I want to clarify my interview on the `Charlie...</td>\n",
       "      <td>George Lucas</td>\n",
       "      <td>[Q1507803, Q38222]</td>\n",
       "      <td>2015-12-31 16:48:00</td>\n",
       "      <td>7</td>\n",
       "      <td>[[George Lucas, 0.5327], [None, 0.4248], [Char...</td>\n",
       "      <td>[http://www.escapistmagazine.com/news/view/165...</td>\n",
       "      <td>E</td>\n",
       "      <td>Star Wars: Episode VII - The Force Awakens</td>\n",
       "    </tr>\n",
       "    <tr>\n",
       "      <th>4</th>\n",
       "      <td>2015-12-10-059754</td>\n",
       "      <td>Is Daredevil joining the Avengers for Infinity...</td>\n",
       "      <td>None</td>\n",
       "      <td>[]</td>\n",
       "      <td>2015-12-10 23:18:29</td>\n",
       "      <td>2</td>\n",
       "      <td>[[None, 0.4806], [Scott Davis, 0.4017], [Antho...</td>\n",
       "      <td>[http://www.flickeringmyth.com/2015/12/is-dare...</td>\n",
       "      <td>E</td>\n",
       "      <td>Avengers: Age of Ultron</td>\n",
       "    </tr>\n",
       "  </tbody>\n",
       "</table>\n",
       "</div>"
      ],
      "text/plain": [
       "             quoteID                                          quotation  \\\n",
       "0  2015-02-14-007911  For fans of the book they know that Effie's ro...   \n",
       "1  2015-11-15-027947                       Is Ferguson like Mockingjay?   \n",
       "2  2015-04-26-028061  It's pretty exciting-I have to say. I saw the ...   \n",
       "3  2015-12-31-028469  I want to clarify my interview on the `Charlie...   \n",
       "4  2015-12-10-059754  Is Daredevil joining the Avengers for Infinity...   \n",
       "\n",
       "        speaker                qids                date  numOccurrences  \\\n",
       "0          None                  [] 2015-02-14 00:47:05               1   \n",
       "1    Laci Green         [Q16843606] 2015-11-15 03:15:53               1   \n",
       "2          None                  [] 2015-04-26 11:56:10               2   \n",
       "3  George Lucas  [Q1507803, Q38222] 2015-12-31 16:48:00               7   \n",
       "4          None                  [] 2015-12-10 23:18:29               2   \n",
       "\n",
       "                                              probas  \\\n",
       "0  [[None, 0.8008], [Francis Lawrence, 0.1299], [...   \n",
       "1             [[Laci Green, 0.9013], [None, 0.0987]]   \n",
       "2  [[None, 0.8589], [Jared Leto, 0.0772], [Joss W...   \n",
       "3  [[George Lucas, 0.5327], [None, 0.4248], [Char...   \n",
       "4  [[None, 0.4806], [Scott Davis, 0.4017], [Antho...   \n",
       "\n",
       "                                                urls phase  \\\n",
       "0  [http://www.buzzfeed.com/kristinharris/secrets...     E   \n",
       "1  [http://www.dailykos.com/story/2015/11/15/1450...     E   \n",
       "2  [http://ign.com/articles/2015/04/24/joss-whedo...     E   \n",
       "3  [http://www.escapistmagazine.com/news/view/165...     E   \n",
       "4  [http://www.flickeringmyth.com/2015/12/is-dare...     E   \n",
       "\n",
       "                                        movie  \n",
       "0       The Hunger Games: Mockingjay - Part 2  \n",
       "1       The Hunger Games: Mockingjay - Part 2  \n",
       "2  Star Wars: Episode VII - The Force Awakens  \n",
       "3  Star Wars: Episode VII - The Force Awakens  \n",
       "4                     Avengers: Age of Ultron  "
      ]
     },
     "execution_count": 6,
     "metadata": {},
     "output_type": "execute_result"
    }
   ],
   "source": [
    "df.head()"
   ]
  },
  {
   "cell_type": "markdown",
   "id": "aff376b7",
   "metadata": {},
   "source": [
    "Removing NaN-values. We see that these only occur in the `movie` attribute which right now is due to an issue in the data filtering. "
   ]
  },
  {
   "cell_type": "code",
   "execution_count": 7,
   "id": "f048781e",
   "metadata": {},
   "outputs": [
    {
     "data": {
      "text/plain": [
       "quoteID           False\n",
       "quotation         False\n",
       "speaker           False\n",
       "qids              False\n",
       "date              False\n",
       "numOccurrences    False\n",
       "probas            False\n",
       "urls              False\n",
       "phase             False\n",
       "movie             False\n",
       "dtype: bool"
      ]
     },
     "execution_count": 7,
     "metadata": {},
     "output_type": "execute_result"
    }
   ],
   "source": [
    "df.isnull().any()"
   ]
  },
  {
   "cell_type": "code",
   "execution_count": 8,
   "id": "e4f6c539",
   "metadata": {},
   "outputs": [],
   "source": [
    "df = df.loc[-df.isnull().any(axis=1)]"
   ]
  },
  {
   "cell_type": "code",
   "execution_count": 9,
   "id": "6fd39448",
   "metadata": {},
   "outputs": [
    {
     "data": {
      "text/plain": [
       "(91311, 10)"
      ]
     },
     "execution_count": 9,
     "metadata": {},
     "output_type": "execute_result"
    }
   ],
   "source": [
    "df.shape"
   ]
  },
  {
   "cell_type": "markdown",
   "id": "5b1da6d9",
   "metadata": {},
   "source": [
    "### Dealing with the speakers"
   ]
  },
  {
   "cell_type": "markdown",
   "id": "1ba81781",
   "metadata": {},
   "source": [
    "We investigate how many quotes does not have an obvious speaker and is denoted by 'None'. Turns out that it is approximately 38%."
   ]
  },
  {
   "cell_type": "code",
   "execution_count": 10,
   "id": "2117c2e0",
   "metadata": {},
   "outputs": [
    {
     "name": "stdout",
     "output_type": "stream",
     "text": [
      "'None'-speakers: 34626\n",
      "Total fraction of 'None'-speakers: 0.37920951473535497\n"
     ]
    }
   ],
   "source": [
    "number_none_speakers = len(df[df.speaker == 'None'])\n",
    "\n",
    "print(f\"'None'-speakers: {number_none_speakers}\")\n",
    "print(f\"Total fraction of 'None'-speakers: {number_none_speakers / len(df)}\")"
   ]
  },
  {
   "cell_type": "markdown",
   "id": "b4ab09fa",
   "metadata": {},
   "source": [
    "Even though the single speakers are not really important for answering our research questions, we choose to clean the data by chaning 'None'-speakers to the speaker with second highest probability from the `df.probas` attribute."
   ]
  },
  {
   "cell_type": "code",
   "execution_count": 11,
   "id": "65d1780e",
   "metadata": {},
   "outputs": [
    {
     "data": {
      "application/vnd.jupyter.widget-view+json": {
       "model_id": "718ddac61f49483f92c37d0339341fee",
       "version_major": 2,
       "version_minor": 0
      },
      "text/plain": [
       "  0%|          | 0/91311 [00:00<?, ?it/s]"
      ]
     },
     "metadata": {},
     "output_type": "display_data"
    }
   ],
   "source": [
    "# Removes speaker as being None to being the second most likely in case speaker is 'None'\n",
    "proba_threshhold = 0.15\n",
    "\n",
    "secondary_speaker = [df['probas'][i][1][0] if (speaker == 'None') and (float(df['probas'][i][1][1]) > proba_threshhold) else speaker for i, speaker in enumerate(tqdm(df['speaker']))]\n",
    "df['speaker'] = secondary_speaker"
   ]
  },
  {
   "cell_type": "code",
   "execution_count": 12,
   "id": "9857f5af",
   "metadata": {},
   "outputs": [
    {
     "name": "stdout",
     "output_type": "stream",
     "text": [
      "'None'-speakers: 13581\n",
      "Total fraction of 'None'-speakers: 0.14873344942011368\n"
     ]
    }
   ],
   "source": [
    "number_none_speakers = len(df[df.speaker == 'None'])\n",
    "\n",
    "print(f\"'None'-speakers: {number_none_speakers}\")\n",
    "print(f\"Total fraction of 'None'-speakers: {number_none_speakers / len(df)}\")"
   ]
  },
  {
   "cell_type": "code",
   "execution_count": 13,
   "id": "6ab742b5",
   "metadata": {},
   "outputs": [
    {
     "data": {
      "text/html": [
       "<div>\n",
       "<style scoped>\n",
       "    .dataframe tbody tr th:only-of-type {\n",
       "        vertical-align: middle;\n",
       "    }\n",
       "\n",
       "    .dataframe tbody tr th {\n",
       "        vertical-align: top;\n",
       "    }\n",
       "\n",
       "    .dataframe thead th {\n",
       "        text-align: right;\n",
       "    }\n",
       "</style>\n",
       "<table border=\"1\" class=\"dataframe\">\n",
       "  <thead>\n",
       "    <tr style=\"text-align: right;\">\n",
       "      <th></th>\n",
       "      <th>quoteID</th>\n",
       "      <th>quotation</th>\n",
       "      <th>speaker</th>\n",
       "      <th>qids</th>\n",
       "      <th>date</th>\n",
       "      <th>numOccurrences</th>\n",
       "      <th>probas</th>\n",
       "      <th>urls</th>\n",
       "      <th>phase</th>\n",
       "      <th>movie</th>\n",
       "    </tr>\n",
       "  </thead>\n",
       "  <tbody>\n",
       "    <tr>\n",
       "      <th>0</th>\n",
       "      <td>2015-02-14-007911</td>\n",
       "      <td>For fans of the book they know that Effie's ro...</td>\n",
       "      <td>None</td>\n",
       "      <td>[]</td>\n",
       "      <td>2015-02-14 00:47:05</td>\n",
       "      <td>1</td>\n",
       "      <td>[[None, 0.8008], [Francis Lawrence, 0.1299], [...</td>\n",
       "      <td>[http://www.buzzfeed.com/kristinharris/secrets...</td>\n",
       "      <td>E</td>\n",
       "      <td>The Hunger Games: Mockingjay - Part 2</td>\n",
       "    </tr>\n",
       "    <tr>\n",
       "      <th>1</th>\n",
       "      <td>2015-11-15-027947</td>\n",
       "      <td>Is Ferguson like Mockingjay?</td>\n",
       "      <td>Laci Green</td>\n",
       "      <td>[Q16843606]</td>\n",
       "      <td>2015-11-15 03:15:53</td>\n",
       "      <td>1</td>\n",
       "      <td>[[Laci Green, 0.9013], [None, 0.0987]]</td>\n",
       "      <td>[http://www.dailykos.com/story/2015/11/15/1450...</td>\n",
       "      <td>E</td>\n",
       "      <td>The Hunger Games: Mockingjay - Part 2</td>\n",
       "    </tr>\n",
       "    <tr>\n",
       "      <th>2</th>\n",
       "      <td>2015-04-26-028061</td>\n",
       "      <td>It's pretty exciting-I have to say. I saw the ...</td>\n",
       "      <td>None</td>\n",
       "      <td>[]</td>\n",
       "      <td>2015-04-26 11:56:10</td>\n",
       "      <td>2</td>\n",
       "      <td>[[None, 0.8589], [Jared Leto, 0.0772], [Joss W...</td>\n",
       "      <td>[http://ign.com/articles/2015/04/24/joss-whedo...</td>\n",
       "      <td>E</td>\n",
       "      <td>Star Wars: Episode VII - The Force Awakens</td>\n",
       "    </tr>\n",
       "    <tr>\n",
       "      <th>3</th>\n",
       "      <td>2015-12-31-028469</td>\n",
       "      <td>I want to clarify my interview on the `Charlie...</td>\n",
       "      <td>George Lucas</td>\n",
       "      <td>[Q1507803, Q38222]</td>\n",
       "      <td>2015-12-31 16:48:00</td>\n",
       "      <td>7</td>\n",
       "      <td>[[George Lucas, 0.5327], [None, 0.4248], [Char...</td>\n",
       "      <td>[http://www.escapistmagazine.com/news/view/165...</td>\n",
       "      <td>E</td>\n",
       "      <td>Star Wars: Episode VII - The Force Awakens</td>\n",
       "    </tr>\n",
       "    <tr>\n",
       "      <th>4</th>\n",
       "      <td>2015-12-10-059754</td>\n",
       "      <td>Is Daredevil joining the Avengers for Infinity...</td>\n",
       "      <td>Scott Davis</td>\n",
       "      <td>[]</td>\n",
       "      <td>2015-12-10 23:18:29</td>\n",
       "      <td>2</td>\n",
       "      <td>[[None, 0.4806], [Scott Davis, 0.4017], [Antho...</td>\n",
       "      <td>[http://www.flickeringmyth.com/2015/12/is-dare...</td>\n",
       "      <td>E</td>\n",
       "      <td>Avengers: Age of Ultron</td>\n",
       "    </tr>\n",
       "  </tbody>\n",
       "</table>\n",
       "</div>"
      ],
      "text/plain": [
       "             quoteID                                          quotation  \\\n",
       "0  2015-02-14-007911  For fans of the book they know that Effie's ro...   \n",
       "1  2015-11-15-027947                       Is Ferguson like Mockingjay?   \n",
       "2  2015-04-26-028061  It's pretty exciting-I have to say. I saw the ...   \n",
       "3  2015-12-31-028469  I want to clarify my interview on the `Charlie...   \n",
       "4  2015-12-10-059754  Is Daredevil joining the Avengers for Infinity...   \n",
       "\n",
       "        speaker                qids                date  numOccurrences  \\\n",
       "0          None                  [] 2015-02-14 00:47:05               1   \n",
       "1    Laci Green         [Q16843606] 2015-11-15 03:15:53               1   \n",
       "2          None                  [] 2015-04-26 11:56:10               2   \n",
       "3  George Lucas  [Q1507803, Q38222] 2015-12-31 16:48:00               7   \n",
       "4   Scott Davis                  [] 2015-12-10 23:18:29               2   \n",
       "\n",
       "                                              probas  \\\n",
       "0  [[None, 0.8008], [Francis Lawrence, 0.1299], [...   \n",
       "1             [[Laci Green, 0.9013], [None, 0.0987]]   \n",
       "2  [[None, 0.8589], [Jared Leto, 0.0772], [Joss W...   \n",
       "3  [[George Lucas, 0.5327], [None, 0.4248], [Char...   \n",
       "4  [[None, 0.4806], [Scott Davis, 0.4017], [Antho...   \n",
       "\n",
       "                                                urls phase  \\\n",
       "0  [http://www.buzzfeed.com/kristinharris/secrets...     E   \n",
       "1  [http://www.dailykos.com/story/2015/11/15/1450...     E   \n",
       "2  [http://ign.com/articles/2015/04/24/joss-whedo...     E   \n",
       "3  [http://www.escapistmagazine.com/news/view/165...     E   \n",
       "4  [http://www.flickeringmyth.com/2015/12/is-dare...     E   \n",
       "\n",
       "                                        movie  \n",
       "0       The Hunger Games: Mockingjay - Part 2  \n",
       "1       The Hunger Games: Mockingjay - Part 2  \n",
       "2  Star Wars: Episode VII - The Force Awakens  \n",
       "3  Star Wars: Episode VII - The Force Awakens  \n",
       "4                     Avengers: Age of Ultron  "
      ]
     },
     "execution_count": 13,
     "metadata": {},
     "output_type": "execute_result"
    }
   ],
   "source": [
    "df.head()"
   ]
  },
  {
   "cell_type": "markdown",
   "id": "865b6c11",
   "metadata": {},
   "source": [
    "Furthermore, we realize that there is a super specific timestamp on the `date` attribute. Later on we will match daily box office sales with the Quotebank data, so we strip the timestamps from the specific time of the date and focus solely on the date."
   ]
  },
  {
   "cell_type": "code",
   "execution_count": 14,
   "id": "bcc03175",
   "metadata": {},
   "outputs": [
    {
     "data": {
      "application/vnd.jupyter.widget-view+json": {
       "model_id": "8193a6d3144f4b318e4cdc702f603fca",
       "version_major": 2,
       "version_minor": 0
      },
      "text/plain": [
       "  0%|          | 0/91311 [00:00<?, ?it/s]"
      ]
     },
     "metadata": {},
     "output_type": "display_data"
    }
   ],
   "source": [
    "# Remove last part of date from the quoteID date string to be able to have an average daily sentiment score\n",
    "reduced_dates = [(\"-\").join(date.split(\"-\")[:3]) for date in tqdm(df.quoteID)]\n",
    "df['date'] = reduced_dates"
   ]
  },
  {
   "cell_type": "code",
   "execution_count": 15,
   "id": "d7bf83d0",
   "metadata": {},
   "outputs": [
    {
     "data": {
      "text/html": [
       "<div>\n",
       "<style scoped>\n",
       "    .dataframe tbody tr th:only-of-type {\n",
       "        vertical-align: middle;\n",
       "    }\n",
       "\n",
       "    .dataframe tbody tr th {\n",
       "        vertical-align: top;\n",
       "    }\n",
       "\n",
       "    .dataframe thead th {\n",
       "        text-align: right;\n",
       "    }\n",
       "</style>\n",
       "<table border=\"1\" class=\"dataframe\">\n",
       "  <thead>\n",
       "    <tr style=\"text-align: right;\">\n",
       "      <th></th>\n",
       "      <th>quoteID</th>\n",
       "      <th>quotation</th>\n",
       "      <th>speaker</th>\n",
       "      <th>qids</th>\n",
       "      <th>date</th>\n",
       "      <th>numOccurrences</th>\n",
       "      <th>probas</th>\n",
       "      <th>urls</th>\n",
       "      <th>phase</th>\n",
       "      <th>movie</th>\n",
       "    </tr>\n",
       "  </thead>\n",
       "  <tbody>\n",
       "    <tr>\n",
       "      <th>0</th>\n",
       "      <td>2015-02-14-007911</td>\n",
       "      <td>For fans of the book they know that Effie's ro...</td>\n",
       "      <td>None</td>\n",
       "      <td>[]</td>\n",
       "      <td>2015-02-14</td>\n",
       "      <td>1</td>\n",
       "      <td>[[None, 0.8008], [Francis Lawrence, 0.1299], [...</td>\n",
       "      <td>[http://www.buzzfeed.com/kristinharris/secrets...</td>\n",
       "      <td>E</td>\n",
       "      <td>The Hunger Games: Mockingjay - Part 2</td>\n",
       "    </tr>\n",
       "    <tr>\n",
       "      <th>1</th>\n",
       "      <td>2015-11-15-027947</td>\n",
       "      <td>Is Ferguson like Mockingjay?</td>\n",
       "      <td>Laci Green</td>\n",
       "      <td>[Q16843606]</td>\n",
       "      <td>2015-11-15</td>\n",
       "      <td>1</td>\n",
       "      <td>[[Laci Green, 0.9013], [None, 0.0987]]</td>\n",
       "      <td>[http://www.dailykos.com/story/2015/11/15/1450...</td>\n",
       "      <td>E</td>\n",
       "      <td>The Hunger Games: Mockingjay - Part 2</td>\n",
       "    </tr>\n",
       "    <tr>\n",
       "      <th>2</th>\n",
       "      <td>2015-04-26-028061</td>\n",
       "      <td>It's pretty exciting-I have to say. I saw the ...</td>\n",
       "      <td>None</td>\n",
       "      <td>[]</td>\n",
       "      <td>2015-04-26</td>\n",
       "      <td>2</td>\n",
       "      <td>[[None, 0.8589], [Jared Leto, 0.0772], [Joss W...</td>\n",
       "      <td>[http://ign.com/articles/2015/04/24/joss-whedo...</td>\n",
       "      <td>E</td>\n",
       "      <td>Star Wars: Episode VII - The Force Awakens</td>\n",
       "    </tr>\n",
       "    <tr>\n",
       "      <th>3</th>\n",
       "      <td>2015-12-31-028469</td>\n",
       "      <td>I want to clarify my interview on the `Charlie...</td>\n",
       "      <td>George Lucas</td>\n",
       "      <td>[Q1507803, Q38222]</td>\n",
       "      <td>2015-12-31</td>\n",
       "      <td>7</td>\n",
       "      <td>[[George Lucas, 0.5327], [None, 0.4248], [Char...</td>\n",
       "      <td>[http://www.escapistmagazine.com/news/view/165...</td>\n",
       "      <td>E</td>\n",
       "      <td>Star Wars: Episode VII - The Force Awakens</td>\n",
       "    </tr>\n",
       "    <tr>\n",
       "      <th>4</th>\n",
       "      <td>2015-12-10-059754</td>\n",
       "      <td>Is Daredevil joining the Avengers for Infinity...</td>\n",
       "      <td>Scott Davis</td>\n",
       "      <td>[]</td>\n",
       "      <td>2015-12-10</td>\n",
       "      <td>2</td>\n",
       "      <td>[[None, 0.4806], [Scott Davis, 0.4017], [Antho...</td>\n",
       "      <td>[http://www.flickeringmyth.com/2015/12/is-dare...</td>\n",
       "      <td>E</td>\n",
       "      <td>Avengers: Age of Ultron</td>\n",
       "    </tr>\n",
       "  </tbody>\n",
       "</table>\n",
       "</div>"
      ],
      "text/plain": [
       "             quoteID                                          quotation  \\\n",
       "0  2015-02-14-007911  For fans of the book they know that Effie's ro...   \n",
       "1  2015-11-15-027947                       Is Ferguson like Mockingjay?   \n",
       "2  2015-04-26-028061  It's pretty exciting-I have to say. I saw the ...   \n",
       "3  2015-12-31-028469  I want to clarify my interview on the `Charlie...   \n",
       "4  2015-12-10-059754  Is Daredevil joining the Avengers for Infinity...   \n",
       "\n",
       "        speaker                qids        date  numOccurrences  \\\n",
       "0          None                  []  2015-02-14               1   \n",
       "1    Laci Green         [Q16843606]  2015-11-15               1   \n",
       "2          None                  []  2015-04-26               2   \n",
       "3  George Lucas  [Q1507803, Q38222]  2015-12-31               7   \n",
       "4   Scott Davis                  []  2015-12-10               2   \n",
       "\n",
       "                                              probas  \\\n",
       "0  [[None, 0.8008], [Francis Lawrence, 0.1299], [...   \n",
       "1             [[Laci Green, 0.9013], [None, 0.0987]]   \n",
       "2  [[None, 0.8589], [Jared Leto, 0.0772], [Joss W...   \n",
       "3  [[George Lucas, 0.5327], [None, 0.4248], [Char...   \n",
       "4  [[None, 0.4806], [Scott Davis, 0.4017], [Antho...   \n",
       "\n",
       "                                                urls phase  \\\n",
       "0  [http://www.buzzfeed.com/kristinharris/secrets...     E   \n",
       "1  [http://www.dailykos.com/story/2015/11/15/1450...     E   \n",
       "2  [http://ign.com/articles/2015/04/24/joss-whedo...     E   \n",
       "3  [http://www.escapistmagazine.com/news/view/165...     E   \n",
       "4  [http://www.flickeringmyth.com/2015/12/is-dare...     E   \n",
       "\n",
       "                                        movie  \n",
       "0       The Hunger Games: Mockingjay - Part 2  \n",
       "1       The Hunger Games: Mockingjay - Part 2  \n",
       "2  Star Wars: Episode VII - The Force Awakens  \n",
       "3  Star Wars: Episode VII - The Force Awakens  \n",
       "4                     Avengers: Age of Ultron  "
      ]
     },
     "execution_count": 15,
     "metadata": {},
     "output_type": "execute_result"
    }
   ],
   "source": [
    "df.head()"
   ]
  },
  {
   "cell_type": "markdown",
   "id": "93fb57af",
   "metadata": {},
   "source": [
    "The attribute `phase` seem to mostly take the values 'E'. The investigation below shows that all of the entries are in fact 'E' so we decide to remove it from the dataframe. From the documentation of the data we also do not find it relevant for our case. Also we won't be using the `quoteID` attribute but instead the WikiData compatible `qids`."
   ]
  },
  {
   "cell_type": "code",
   "execution_count": 16,
   "id": "d4fa92ff",
   "metadata": {},
   "outputs": [],
   "source": [
    "np.unique(df.phase, return_counts=True)\n",
    "df = df.drop(['phase', 'quoteID'], axis=1)"
   ]
  },
  {
   "cell_type": "markdown",
   "id": "03908f39",
   "metadata": {},
   "source": [
    "### Handling outliers in the numOccurrences\n",
    "\n",
    "We want to check for outliers in the number of occurrences as it is the only numercal attribute left. We note that there are no weird negative values as the minimum value of occurrences is 1."
   ]
  },
  {
   "cell_type": "code",
   "execution_count": 17,
   "id": "eca1c71f",
   "metadata": {},
   "outputs": [
    {
     "data": {
      "text/plain": [
       "count    91311.000000\n",
       "mean         7.700748\n",
       "std        384.280124\n",
       "min          1.000000\n",
       "25%          1.000000\n",
       "50%          1.000000\n",
       "75%          2.000000\n",
       "max      58945.000000\n",
       "Name: numOccurrences, dtype: float64"
      ]
     },
     "execution_count": 17,
     "metadata": {},
     "output_type": "execute_result"
    }
   ],
   "source": [
    "df.numOccurrences.describe()"
   ]
  },
  {
   "cell_type": "markdown",
   "id": "bb6ff7a0",
   "metadata": {},
   "source": [
    "The boxplot reveals that there is a need to investigate outliers and the plot of the occurences reveal that the distribution seem to follow a strong power law. We will have to qualitatively analyze these to be able to determine whether this tendency seems real or is due to spam. We will determine this later on when we have adjusted the data for other issues."
   ]
  },
  {
   "cell_type": "code",
   "execution_count": 18,
   "id": "61a8850c",
   "metadata": {},
   "outputs": [
    {
     "data": {
      "image/png": "[encoded data removed]",
      "text/plain": [
       "<Figure size 432x288 with 1 Axes>"
      ]
     },
     "metadata": {
      "needs_background": "light"
     },
     "output_type": "display_data"
    },
    {
     "data": {
      "image/png": "[encoded data removed]",
      "text/plain": [
       "<Figure size 432x288 with 1 Axes>"
      ]
     },
     "metadata": {
      "needs_background": "light"
     },
     "output_type": "display_data"
    }
   ],
   "source": [
    "plt.boxplot(df.numOccurrences)\n",
    "plt.ylabel(\"Number of Occurrences\")\n",
    "plt.title(\"With outliers\")\n",
    "plt.show()\n",
    "\n",
    "plt.hist(df.numOccurrences, bins=50)\n",
    "plt.ylabel(\"Number of Occurrences\")\n",
    "plt.title(\"Histogram with outliers\")\n",
    "plt.show()"
   ]
  },
  {
   "cell_type": "code",
   "execution_count": 19,
   "id": "6a674aab",
   "metadata": {},
   "outputs": [
    {
     "data": {
      "text/html": [
       "<div>\n",
       "<style scoped>\n",
       "    .dataframe tbody tr th:only-of-type {\n",
       "        vertical-align: middle;\n",
       "    }\n",
       "\n",
       "    .dataframe tbody tr th {\n",
       "        vertical-align: top;\n",
       "    }\n",
       "\n",
       "    .dataframe thead th {\n",
       "        text-align: right;\n",
       "    }\n",
       "</style>\n",
       "<table border=\"1\" class=\"dataframe\">\n",
       "  <thead>\n",
       "    <tr style=\"text-align: right;\">\n",
       "      <th></th>\n",
       "      <th>quotation</th>\n",
       "      <th>speaker</th>\n",
       "      <th>qids</th>\n",
       "      <th>date</th>\n",
       "      <th>numOccurrences</th>\n",
       "      <th>probas</th>\n",
       "      <th>urls</th>\n",
       "      <th>movie</th>\n",
       "    </tr>\n",
       "  </thead>\n",
       "  <tbody>\n",
       "    <tr>\n",
       "      <th>0</th>\n",
       "      <td>For fans of the book they know that Effie's ro...</td>\n",
       "      <td>None</td>\n",
       "      <td>[]</td>\n",
       "      <td>2015-02-14</td>\n",
       "      <td>1</td>\n",
       "      <td>[[None, 0.8008], [Francis Lawrence, 0.1299], [...</td>\n",
       "      <td>[http://www.buzzfeed.com/kristinharris/secrets...</td>\n",
       "      <td>The Hunger Games: Mockingjay - Part 2</td>\n",
       "    </tr>\n",
       "    <tr>\n",
       "      <th>1</th>\n",
       "      <td>Is Ferguson like Mockingjay?</td>\n",
       "      <td>Laci Green</td>\n",
       "      <td>[Q16843606]</td>\n",
       "      <td>2015-11-15</td>\n",
       "      <td>1</td>\n",
       "      <td>[[Laci Green, 0.9013], [None, 0.0987]]</td>\n",
       "      <td>[http://www.dailykos.com/story/2015/11/15/1450...</td>\n",
       "      <td>The Hunger Games: Mockingjay - Part 2</td>\n",
       "    </tr>\n",
       "    <tr>\n",
       "      <th>2</th>\n",
       "      <td>It's pretty exciting-I have to say. I saw the ...</td>\n",
       "      <td>None</td>\n",
       "      <td>[]</td>\n",
       "      <td>2015-04-26</td>\n",
       "      <td>2</td>\n",
       "      <td>[[None, 0.8589], [Jared Leto, 0.0772], [Joss W...</td>\n",
       "      <td>[http://ign.com/articles/2015/04/24/joss-whedo...</td>\n",
       "      <td>Star Wars: Episode VII - The Force Awakens</td>\n",
       "    </tr>\n",
       "    <tr>\n",
       "      <th>3</th>\n",
       "      <td>I want to clarify my interview on the `Charlie...</td>\n",
       "      <td>George Lucas</td>\n",
       "      <td>[Q1507803, Q38222]</td>\n",
       "      <td>2015-12-31</td>\n",
       "      <td>7</td>\n",
       "      <td>[[George Lucas, 0.5327], [None, 0.4248], [Char...</td>\n",
       "      <td>[http://www.escapistmagazine.com/news/view/165...</td>\n",
       "      <td>Star Wars: Episode VII - The Force Awakens</td>\n",
       "    </tr>\n",
       "    <tr>\n",
       "      <th>4</th>\n",
       "      <td>Is Daredevil joining the Avengers for Infinity...</td>\n",
       "      <td>Scott Davis</td>\n",
       "      <td>[]</td>\n",
       "      <td>2015-12-10</td>\n",
       "      <td>2</td>\n",
       "      <td>[[None, 0.4806], [Scott Davis, 0.4017], [Antho...</td>\n",
       "      <td>[http://www.flickeringmyth.com/2015/12/is-dare...</td>\n",
       "      <td>Avengers: Age of Ultron</td>\n",
       "    </tr>\n",
       "  </tbody>\n",
       "</table>\n",
       "</div>"
      ],
      "text/plain": [
       "                                           quotation       speaker  \\\n",
       "0  For fans of the book they know that Effie's ro...          None   \n",
       "1                       Is Ferguson like Mockingjay?    Laci Green   \n",
       "2  It's pretty exciting-I have to say. I saw the ...          None   \n",
       "3  I want to clarify my interview on the `Charlie...  George Lucas   \n",
       "4  Is Daredevil joining the Avengers for Infinity...   Scott Davis   \n",
       "\n",
       "                 qids        date  numOccurrences  \\\n",
       "0                  []  2015-02-14               1   \n",
       "1         [Q16843606]  2015-11-15               1   \n",
       "2                  []  2015-04-26               2   \n",
       "3  [Q1507803, Q38222]  2015-12-31               7   \n",
       "4                  []  2015-12-10               2   \n",
       "\n",
       "                                              probas  \\\n",
       "0  [[None, 0.8008], [Francis Lawrence, 0.1299], [...   \n",
       "1             [[Laci Green, 0.9013], [None, 0.0987]]   \n",
       "2  [[None, 0.8589], [Jared Leto, 0.0772], [Joss W...   \n",
       "3  [[George Lucas, 0.5327], [None, 0.4248], [Char...   \n",
       "4  [[None, 0.4806], [Scott Davis, 0.4017], [Antho...   \n",
       "\n",
       "                                                urls  \\\n",
       "0  [http://www.buzzfeed.com/kristinharris/secrets...   \n",
       "1  [http://www.dailykos.com/story/2015/11/15/1450...   \n",
       "2  [http://ign.com/articles/2015/04/24/joss-whedo...   \n",
       "3  [http://www.escapistmagazine.com/news/view/165...   \n",
       "4  [http://www.flickeringmyth.com/2015/12/is-dare...   \n",
       "\n",
       "                                        movie  \n",
       "0       The Hunger Games: Mockingjay - Part 2  \n",
       "1       The Hunger Games: Mockingjay - Part 2  \n",
       "2  Star Wars: Episode VII - The Force Awakens  \n",
       "3  Star Wars: Episode VII - The Force Awakens  \n",
       "4                     Avengers: Age of Ultron  "
      ]
     },
     "execution_count": 19,
     "metadata": {},
     "output_type": "execute_result"
    }
   ],
   "source": [
    "df.head()"
   ]
  },
  {
   "cell_type": "markdown",
   "id": "ba75c479",
   "metadata": {},
   "source": [
    "### Dealing with the quoter-IDs"
   ]
  },
  {
   "cell_type": "markdown",
   "id": "d1d68087",
   "metadata": {},
   "source": [
    "Furthermore, we see that the `qids` might need some engineering. In the initial analyses on the 2019 NYT data we saw that some individuals are quoted differently even though it's in fact the same speaker. For instance this was the case for the speaker \"Donald Trump\" and \"President Trump\". In this case these two denotations share a common qID for which reason we would want to be able to get all quotes from Donald Trump and President Trump when searching for them independently. Even though it might not be as important with movies, we deem it good practice to regulate this behaviour. We start by engineering empty quoteID-lists as an unknown token."
   ]
  },
  {
   "cell_type": "code",
   "execution_count": 20,
   "id": "7cbda834",
   "metadata": {},
   "outputs": [
    {
     "name": "stdout",
     "output_type": "stream",
     "text": [
      "Number of currently unknown qids: 34626\n"
     ]
    }
   ],
   "source": [
    "empty = np.array([entry for entry, qID_list in enumerate(df.qids) if len(qID_list) == 0])\n",
    "print(f\"Number of currently unknown qids: {len(empty)}\")"
   ]
  },
  {
   "cell_type": "code",
   "execution_count": 21,
   "id": "105fb567",
   "metadata": {},
   "outputs": [
    {
     "data": {
      "text/plain": [
       "0               [<UNK>]\n",
       "1           [Q16843606]\n",
       "2               [<UNK>]\n",
       "3    [Q1507803, Q38222]\n",
       "4               [<UNK>]\n",
       "Name: qids, dtype: object"
      ]
     },
     "execution_count": 21,
     "metadata": {},
     "output_type": "execute_result"
    }
   ],
   "source": [
    "pd.options.mode.chained_assignment = None\n",
    "df['qids'][empty] = [['<UNK>']] * len(empty)\n",
    "\n",
    "df.qids.head()"
   ]
  },
  {
   "cell_type": "markdown",
   "id": "b1c5672e",
   "metadata": {},
   "source": [
    "Using this '\\<UNK>' token we are able to search the df to replace this token with a qID if the speaker occurs with a qID another place in the data. In this manner all qIDs of a specified speaker will be the full list of qIDs associated with that speaker."
   ]
  },
  {
   "cell_type": "markdown",
   "id": "0f7f7c3f",
   "metadata": {},
   "source": [
    "    "
   ]
  },
  {
   "cell_type": "code",
   "execution_count": 22,
   "id": "fdf210cf",
   "metadata": {},
   "outputs": [],
   "source": [
    "def set_qID(speaker, df):\n",
    "    #Extract qID's of a speaker\n",
    "    qIDs = {speaker: list({quote_ID for quote_IDlist in df.qids[df['speaker'] == speaker] for quote_ID in quote_IDlist})}\n",
    "    \n",
    "    # Conditions for removing the <UNK> token.\n",
    "    if len(qIDs[speaker]) > 1 and '<UNK>' in qIDs[speaker]:\n",
    "        qIDs[speaker].remove('<UNK>')\n",
    "    \n",
    "    # Creating new qIDs for replacing in original dataframe\n",
    "    speaker_indeces = np.where(df.speaker == speaker)[0]\n",
    "    replacement = pd.Series([qIDs[speaker]] * (sum(df['speaker'] == speaker)), index=speaker_indeces)\n",
    "    \n",
    "    # Replace\n",
    "    df.loc[df['speaker'] == speaker, 'qids'] = replacement"
   ]
  },
  {
   "cell_type": "markdown",
   "id": "84a1190b",
   "metadata": {},
   "source": [
    "This now works, which can be seen on the speaker George Lucas in the following cells."
   ]
  },
  {
   "cell_type": "code",
   "execution_count": 23,
   "id": "bb5f6d3a",
   "metadata": {},
   "outputs": [
    {
     "data": {
      "text/html": [
       "<div>\n",
       "<style scoped>\n",
       "    .dataframe tbody tr th:only-of-type {\n",
       "        vertical-align: middle;\n",
       "    }\n",
       "\n",
       "    .dataframe tbody tr th {\n",
       "        vertical-align: top;\n",
       "    }\n",
       "\n",
       "    .dataframe thead th {\n",
       "        text-align: right;\n",
       "    }\n",
       "</style>\n",
       "<table border=\"1\" class=\"dataframe\">\n",
       "  <thead>\n",
       "    <tr style=\"text-align: right;\">\n",
       "      <th></th>\n",
       "      <th>quotation</th>\n",
       "      <th>speaker</th>\n",
       "      <th>qids</th>\n",
       "      <th>date</th>\n",
       "      <th>numOccurrences</th>\n",
       "      <th>probas</th>\n",
       "      <th>urls</th>\n",
       "      <th>movie</th>\n",
       "    </tr>\n",
       "  </thead>\n",
       "  <tbody>\n",
       "    <tr>\n",
       "      <th>3</th>\n",
       "      <td>I want to clarify my interview on the `Charlie...</td>\n",
       "      <td>George Lucas</td>\n",
       "      <td>[Q1507803, Q38222]</td>\n",
       "      <td>2015-12-31</td>\n",
       "      <td>7</td>\n",
       "      <td>[[George Lucas, 0.5327], [None, 0.4248], [Char...</td>\n",
       "      <td>[http://www.escapistmagazine.com/news/view/165...</td>\n",
       "      <td>Star Wars: Episode VII - The Force Awakens</td>\n",
       "    </tr>\n",
       "    <tr>\n",
       "      <th>22</th>\n",
       "      <td>When I started to go into Star Wars, [ my frie...</td>\n",
       "      <td>George Lucas</td>\n",
       "      <td>[Q1507803, Q38222]</td>\n",
       "      <td>2015-12-31</td>\n",
       "      <td>1</td>\n",
       "      <td>[[George Lucas, 0.7612], [Colin Trevorrow, 0.1...</td>\n",
       "      <td>[http://theindianrepublic.com/i-sold-star-wars...</td>\n",
       "      <td>Star Wars: Episode VII - The Force Awakens</td>\n",
       "    </tr>\n",
       "    <tr>\n",
       "      <th>40</th>\n",
       "      <td>After `Star Wars,' I went back to Warner Bros....</td>\n",
       "      <td>George Lucas</td>\n",
       "      <td>[Q1507803, Q38222]</td>\n",
       "      <td>2015-04-19</td>\n",
       "      <td>1</td>\n",
       "      <td>[[George Lucas, 0.6949], [None, 0.1538], [Step...</td>\n",
       "      <td>[http://sfgate.com/technology/businessinsider/...</td>\n",
       "      <td>Star Wars: Episode VII - The Force Awakens</td>\n",
       "    </tr>\n",
       "    <tr>\n",
       "      <th>67</th>\n",
       "      <td>a Star Wars for girls</td>\n",
       "      <td>George Lucas</td>\n",
       "      <td>[&lt;UNK&gt;]</td>\n",
       "      <td>2015-01-27</td>\n",
       "      <td>1</td>\n",
       "      <td>[[None, 0.5037], [George Lucas, 0.4963]]</td>\n",
       "      <td>[http://www.comicmix.com/2015/01/27/box-office...</td>\n",
       "      <td>Star Wars: Episode VII - The Force Awakens</td>\n",
       "    </tr>\n",
       "    <tr>\n",
       "      <th>83</th>\n",
       "      <td>We became friends and then we started dating a...</td>\n",
       "      <td>George Lucas</td>\n",
       "      <td>[Q1507803, Q38222]</td>\n",
       "      <td>2015-12-19</td>\n",
       "      <td>2</td>\n",
       "      <td>[[George Lucas, 0.5894], [None, 0.4106]]</td>\n",
       "      <td>[http://feeds.businessinsider.com.au/~/1290472...</td>\n",
       "      <td>Star Wars: Episode VII - The Force Awakens</td>\n",
       "    </tr>\n",
       "  </tbody>\n",
       "</table>\n",
       "</div>"
      ],
      "text/plain": [
       "                                            quotation       speaker  \\\n",
       "3   I want to clarify my interview on the `Charlie...  George Lucas   \n",
       "22  When I started to go into Star Wars, [ my frie...  George Lucas   \n",
       "40  After `Star Wars,' I went back to Warner Bros....  George Lucas   \n",
       "67                              a Star Wars for girls  George Lucas   \n",
       "83  We became friends and then we started dating a...  George Lucas   \n",
       "\n",
       "                  qids        date  numOccurrences  \\\n",
       "3   [Q1507803, Q38222]  2015-12-31               7   \n",
       "22  [Q1507803, Q38222]  2015-12-31               1   \n",
       "40  [Q1507803, Q38222]  2015-04-19               1   \n",
       "67             [<UNK>]  2015-01-27               1   \n",
       "83  [Q1507803, Q38222]  2015-12-19               2   \n",
       "\n",
       "                                               probas  \\\n",
       "3   [[George Lucas, 0.5327], [None, 0.4248], [Char...   \n",
       "22  [[George Lucas, 0.7612], [Colin Trevorrow, 0.1...   \n",
       "40  [[George Lucas, 0.6949], [None, 0.1538], [Step...   \n",
       "67           [[None, 0.5037], [George Lucas, 0.4963]]   \n",
       "83           [[George Lucas, 0.5894], [None, 0.4106]]   \n",
       "\n",
       "                                                 urls  \\\n",
       "3   [http://www.escapistmagazine.com/news/view/165...   \n",
       "22  [http://theindianrepublic.com/i-sold-star-wars...   \n",
       "40  [http://sfgate.com/technology/businessinsider/...   \n",
       "67  [http://www.comicmix.com/2015/01/27/box-office...   \n",
       "83  [http://feeds.businessinsider.com.au/~/1290472...   \n",
       "\n",
       "                                         movie  \n",
       "3   Star Wars: Episode VII - The Force Awakens  \n",
       "22  Star Wars: Episode VII - The Force Awakens  \n",
       "40  Star Wars: Episode VII - The Force Awakens  \n",
       "67  Star Wars: Episode VII - The Force Awakens  \n",
       "83  Star Wars: Episode VII - The Force Awakens  "
      ]
     },
     "execution_count": 23,
     "metadata": {},
     "output_type": "execute_result"
    }
   ],
   "source": [
    "df[df.speaker == 'George Lucas'].head()"
   ]
  },
  {
   "cell_type": "code",
   "execution_count": 24,
   "id": "308d8ea2",
   "metadata": {},
   "outputs": [
    {
     "data": {
      "text/html": [
       "<div>\n",
       "<style scoped>\n",
       "    .dataframe tbody tr th:only-of-type {\n",
       "        vertical-align: middle;\n",
       "    }\n",
       "\n",
       "    .dataframe tbody tr th {\n",
       "        vertical-align: top;\n",
       "    }\n",
       "\n",
       "    .dataframe thead th {\n",
       "        text-align: right;\n",
       "    }\n",
       "</style>\n",
       "<table border=\"1\" class=\"dataframe\">\n",
       "  <thead>\n",
       "    <tr style=\"text-align: right;\">\n",
       "      <th></th>\n",
       "      <th>quotation</th>\n",
       "      <th>speaker</th>\n",
       "      <th>qids</th>\n",
       "      <th>date</th>\n",
       "      <th>numOccurrences</th>\n",
       "      <th>probas</th>\n",
       "      <th>urls</th>\n",
       "      <th>movie</th>\n",
       "    </tr>\n",
       "  </thead>\n",
       "  <tbody>\n",
       "    <tr>\n",
       "      <th>3</th>\n",
       "      <td>I want to clarify my interview on the `Charlie...</td>\n",
       "      <td>George Lucas</td>\n",
       "      <td>[Q38222, Q1507803]</td>\n",
       "      <td>2015-12-31</td>\n",
       "      <td>7</td>\n",
       "      <td>[[George Lucas, 0.5327], [None, 0.4248], [Char...</td>\n",
       "      <td>[http://www.escapistmagazine.com/news/view/165...</td>\n",
       "      <td>Star Wars: Episode VII - The Force Awakens</td>\n",
       "    </tr>\n",
       "    <tr>\n",
       "      <th>22</th>\n",
       "      <td>When I started to go into Star Wars, [ my frie...</td>\n",
       "      <td>George Lucas</td>\n",
       "      <td>[Q38222, Q1507803]</td>\n",
       "      <td>2015-12-31</td>\n",
       "      <td>1</td>\n",
       "      <td>[[George Lucas, 0.7612], [Colin Trevorrow, 0.1...</td>\n",
       "      <td>[http://theindianrepublic.com/i-sold-star-wars...</td>\n",
       "      <td>Star Wars: Episode VII - The Force Awakens</td>\n",
       "    </tr>\n",
       "    <tr>\n",
       "      <th>40</th>\n",
       "      <td>After `Star Wars,' I went back to Warner Bros....</td>\n",
       "      <td>George Lucas</td>\n",
       "      <td>[Q38222, Q1507803]</td>\n",
       "      <td>2015-04-19</td>\n",
       "      <td>1</td>\n",
       "      <td>[[George Lucas, 0.6949], [None, 0.1538], [Step...</td>\n",
       "      <td>[http://sfgate.com/technology/businessinsider/...</td>\n",
       "      <td>Star Wars: Episode VII - The Force Awakens</td>\n",
       "    </tr>\n",
       "    <tr>\n",
       "      <th>67</th>\n",
       "      <td>a Star Wars for girls</td>\n",
       "      <td>George Lucas</td>\n",
       "      <td>[Q38222, Q1507803]</td>\n",
       "      <td>2015-01-27</td>\n",
       "      <td>1</td>\n",
       "      <td>[[None, 0.5037], [George Lucas, 0.4963]]</td>\n",
       "      <td>[http://www.comicmix.com/2015/01/27/box-office...</td>\n",
       "      <td>Star Wars: Episode VII - The Force Awakens</td>\n",
       "    </tr>\n",
       "    <tr>\n",
       "      <th>83</th>\n",
       "      <td>We became friends and then we started dating a...</td>\n",
       "      <td>George Lucas</td>\n",
       "      <td>[Q38222, Q1507803]</td>\n",
       "      <td>2015-12-19</td>\n",
       "      <td>2</td>\n",
       "      <td>[[George Lucas, 0.5894], [None, 0.4106]]</td>\n",
       "      <td>[http://feeds.businessinsider.com.au/~/1290472...</td>\n",
       "      <td>Star Wars: Episode VII - The Force Awakens</td>\n",
       "    </tr>\n",
       "  </tbody>\n",
       "</table>\n",
       "</div>"
      ],
      "text/plain": [
       "                                            quotation       speaker  \\\n",
       "3   I want to clarify my interview on the `Charlie...  George Lucas   \n",
       "22  When I started to go into Star Wars, [ my frie...  George Lucas   \n",
       "40  After `Star Wars,' I went back to Warner Bros....  George Lucas   \n",
       "67                              a Star Wars for girls  George Lucas   \n",
       "83  We became friends and then we started dating a...  George Lucas   \n",
       "\n",
       "                  qids        date  numOccurrences  \\\n",
       "3   [Q38222, Q1507803]  2015-12-31               7   \n",
       "22  [Q38222, Q1507803]  2015-12-31               1   \n",
       "40  [Q38222, Q1507803]  2015-04-19               1   \n",
       "67  [Q38222, Q1507803]  2015-01-27               1   \n",
       "83  [Q38222, Q1507803]  2015-12-19               2   \n",
       "\n",
       "                                               probas  \\\n",
       "3   [[George Lucas, 0.5327], [None, 0.4248], [Char...   \n",
       "22  [[George Lucas, 0.7612], [Colin Trevorrow, 0.1...   \n",
       "40  [[George Lucas, 0.6949], [None, 0.1538], [Step...   \n",
       "67           [[None, 0.5037], [George Lucas, 0.4963]]   \n",
       "83           [[George Lucas, 0.5894], [None, 0.4106]]   \n",
       "\n",
       "                                                 urls  \\\n",
       "3   [http://www.escapistmagazine.com/news/view/165...   \n",
       "22  [http://theindianrepublic.com/i-sold-star-wars...   \n",
       "40  [http://sfgate.com/technology/businessinsider/...   \n",
       "67  [http://www.comicmix.com/2015/01/27/box-office...   \n",
       "83  [http://feeds.businessinsider.com.au/~/1290472...   \n",
       "\n",
       "                                         movie  \n",
       "3   Star Wars: Episode VII - The Force Awakens  \n",
       "22  Star Wars: Episode VII - The Force Awakens  \n",
       "40  Star Wars: Episode VII - The Force Awakens  \n",
       "67  Star Wars: Episode VII - The Force Awakens  \n",
       "83  Star Wars: Episode VII - The Force Awakens  "
      ]
     },
     "execution_count": 24,
     "metadata": {},
     "output_type": "execute_result"
    }
   ],
   "source": [
    "# Calling the function\n",
    "set_qID('George Lucas', df)\n",
    "\n",
    "df[df.speaker == 'George Lucas'].head()"
   ]
  },
  {
   "cell_type": "markdown",
   "id": "1fcf4170",
   "metadata": {},
   "source": [
    "We want to apply this functionality to the full dataframe (meaning all individual speakers) for which reason we extract the individual speaker names and how frequently quoted they are. We calculate the number of unique quotes for each speaker."
   ]
  },
  {
   "cell_type": "code",
   "execution_count": 25,
   "id": "efe47663",
   "metadata": {},
   "outputs": [
    {
     "name": "stdout",
     "output_type": "stream",
     "text": [
      "Top 10 quoted speakers (w/o numOccurences): \n"
     ]
    },
    {
     "data": {
      "text/plain": [
       "[('None', '13581'),\n",
       " ('Kevin Feige', '1802'),\n",
       " ('Captain Marvel', '1106'),\n",
       " ('Tom Holland', '846'),\n",
       " ('Joe Russo', '830'),\n",
       " ('Bob Iger', '827'),\n",
       " ('Rian Johnson', '790'),\n",
       " ('J.J. Abrams', '735'),\n",
       " ('Kathleen Kennedy', '703'),\n",
       " ('Mark Hamill', '673')]"
      ]
     },
     "execution_count": 25,
     "metadata": {},
     "output_type": "execute_result"
    }
   ],
   "source": [
    "speakers, freq_unsorted = np.unique(df.speaker, return_counts=True)\n",
    "freq, speakers = np.array(list(zip(*sorted(zip(freq_unsorted, speakers), reverse=True))))\n",
    "\n",
    "print(\"Top 10 quoted speakers (w/o numOccurences): \")\n",
    "list(zip(speakers[:10], freq[:10]))"
   ]
  },
  {
   "cell_type": "code",
   "execution_count": 26,
   "id": "f40d7a18",
   "metadata": {},
   "outputs": [
    {
     "data": {
      "application/vnd.jupyter.widget-view+json": {
       "model_id": "493f15656993414c81e334174ae1785e",
       "version_major": 2,
       "version_minor": 0
      },
      "text/plain": [
       "  0%|          | 0/18186 [00:00<?, ?it/s]"
      ]
     },
     "metadata": {},
     "output_type": "display_data"
    }
   ],
   "source": [
    "for speaker in tqdm(speakers):\n",
    "    set_qID(speaker, df=df)"
   ]
  },
  {
   "cell_type": "markdown",
   "id": "88e672f0",
   "metadata": {},
   "source": [
    "Now, the only way there would be qID's of the name '\\<UNK>' would be if the assignment of the predicted speaker is less than 15% percent certain (see `proba_threshhold` in the removal of None-type speakers) and if that same speaker does not have a qID throughout all of the dataframe. In this case we believe there is evidence for deleting the rows."
   ]
  },
  {
   "cell_type": "code",
   "execution_count": 27,
   "id": "2ec8546b",
   "metadata": {},
   "outputs": [
    {
     "data": {
      "application/vnd.jupyter.widget-view+json": {
       "model_id": "03995e1e135840669e35c2d03c004e7a",
       "version_major": 2,
       "version_minor": 0
      },
      "text/plain": [
       "  0%|          | 0/91311 [00:00<?, ?it/s]"
      ]
     },
     "metadata": {},
     "output_type": "display_data"
    }
   ],
   "source": [
    "UNK_idxs = np.array([], dtype=int)\n",
    "for i, qID in enumerate(tqdm(df.qids)):\n",
    "    if '<UNK>' in qID:\n",
    "        UNK_idxs = np.append(UNK_idxs, i)"
   ]
  },
  {
   "cell_type": "code",
   "execution_count": 28,
   "id": "ca06a959",
   "metadata": {},
   "outputs": [
    {
     "data": {
      "text/plain": [
       "(72695, 8)"
      ]
     },
     "execution_count": 28,
     "metadata": {},
     "output_type": "execute_result"
    }
   ],
   "source": [
    "df = df.drop(UNK_idxs)\n",
    "df.index = np.arange(len(df))\n",
    "df.shape"
   ]
  },
  {
   "cell_type": "markdown",
   "id": "de377691",
   "metadata": {},
   "source": [
    "The following function then concatenates the qID's of speakers if they have more than one qID in common, such that we get exactly the basis for a shared ID if two speakers (like Donald Trump and President Trump) are in fact the same."
   ]
  },
  {
   "cell_type": "code",
   "execution_count": 29,
   "id": "ceb455a6",
   "metadata": {},
   "outputs": [],
   "source": [
    "def mergeQuoteIDs(df):\n",
    "    qID_dict = defaultdict(dict)\n",
    "    print(\"Creating qID dictionary...\")\n",
    "    for document_number, qid_list in enumerate(tqdm(df.qids)):\n",
    "        for qid in qid_list:\n",
    "            if qid in qID_dict:\n",
    "                qID_dict[qid].append(document_number)\n",
    "            else:\n",
    "                qID_dict[qid] = [document_number]\n",
    "    \n",
    "    print(\"Gathering qIDs across documents...\")\n",
    "    new_column = {}\n",
    "    for document_number, qid_list in enumerate(tqdm(df.qids)):\n",
    "        document_IDs = []\n",
    "        for qid in qid_list:\n",
    "            document_IDs.append(qID_dict[qid])\n",
    "\n",
    "        related_docs = set(np.concatenate(document_IDs))\n",
    "        new_qids = list(set(np.concatenate(list(df.qids[related_docs]))))\n",
    "\n",
    "        new_column[document_number] = new_qids\n",
    "\n",
    "    df['qids'] = pd.Series(new_column)"
   ]
  },
  {
   "cell_type": "code",
   "execution_count": 30,
   "id": "b2c32215",
   "metadata": {},
   "outputs": [
    {
     "name": "stdout",
     "output_type": "stream",
     "text": [
      "Creating qID dictionary...\n"
     ]
    },
    {
     "data": {
      "application/vnd.jupyter.widget-view+json": {
       "model_id": "0d22a79c652b4c5dbde66ac52d9e3359",
       "version_major": 2,
       "version_minor": 0
      },
      "text/plain": [
       "  0%|          | 0/72695 [00:00<?, ?it/s]"
      ]
     },
     "metadata": {},
     "output_type": "display_data"
    },
    {
     "name": "stdout",
     "output_type": "stream",
     "text": [
      "Gathering qIDs across documents...\n"
     ]
    },
    {
     "data": {
      "application/vnd.jupyter.widget-view+json": {
       "model_id": "f47d6bd09d4042308856ea01b6d29355",
       "version_major": 2,
       "version_minor": 0
      },
      "text/plain": [
       "  0%|          | 0/72695 [00:00<?, ?it/s]"
      ]
     },
     "metadata": {},
     "output_type": "display_data"
    },
    {
     "data": {
      "text/html": [
       "<div>\n",
       "<style scoped>\n",
       "    .dataframe tbody tr th:only-of-type {\n",
       "        vertical-align: middle;\n",
       "    }\n",
       "\n",
       "    .dataframe tbody tr th {\n",
       "        vertical-align: top;\n",
       "    }\n",
       "\n",
       "    .dataframe thead th {\n",
       "        text-align: right;\n",
       "    }\n",
       "</style>\n",
       "<table border=\"1\" class=\"dataframe\">\n",
       "  <thead>\n",
       "    <tr style=\"text-align: right;\">\n",
       "      <th></th>\n",
       "      <th>quotation</th>\n",
       "      <th>speaker</th>\n",
       "      <th>qids</th>\n",
       "      <th>date</th>\n",
       "      <th>numOccurrences</th>\n",
       "      <th>probas</th>\n",
       "      <th>urls</th>\n",
       "      <th>movie</th>\n",
       "    </tr>\n",
       "  </thead>\n",
       "  <tbody>\n",
       "    <tr>\n",
       "      <th>0</th>\n",
       "      <td>Is Ferguson like Mockingjay?</td>\n",
       "      <td>Laci Green</td>\n",
       "      <td>[Q16843606]</td>\n",
       "      <td>2015-11-15</td>\n",
       "      <td>1</td>\n",
       "      <td>[[Laci Green, 0.9013], [None, 0.0987]]</td>\n",
       "      <td>[http://www.dailykos.com/story/2015/11/15/1450...</td>\n",
       "      <td>The Hunger Games: Mockingjay - Part 2</td>\n",
       "    </tr>\n",
       "    <tr>\n",
       "      <th>1</th>\n",
       "      <td>I want to clarify my interview on the `Charlie...</td>\n",
       "      <td>George Lucas</td>\n",
       "      <td>[Q38222, Q1507803]</td>\n",
       "      <td>2015-12-31</td>\n",
       "      <td>7</td>\n",
       "      <td>[[George Lucas, 0.5327], [None, 0.4248], [Char...</td>\n",
       "      <td>[http://www.escapistmagazine.com/news/view/165...</td>\n",
       "      <td>Star Wars: Episode VII - The Force Awakens</td>\n",
       "    </tr>\n",
       "    <tr>\n",
       "      <th>2</th>\n",
       "      <td>Is Daredevil joining the Avengers for Infinity...</td>\n",
       "      <td>Scott Davis</td>\n",
       "      <td>[Q1373440, Q7436227, Q7436228, Q7436226, Q1619...</td>\n",
       "      <td>2015-12-10</td>\n",
       "      <td>2</td>\n",
       "      <td>[[None, 0.4806], [Scott Davis, 0.4017], [Antho...</td>\n",
       "      <td>[http://www.flickeringmyth.com/2015/12/is-dare...</td>\n",
       "      <td>Avengers: Age of Ultron</td>\n",
       "    </tr>\n",
       "    <tr>\n",
       "      <th>3</th>\n",
       "      <td>They were saying, `Well, since when has Star W...</td>\n",
       "      <td>J.J. Abrams</td>\n",
       "      <td>[Q188137]</td>\n",
       "      <td>2015-12-21</td>\n",
       "      <td>1</td>\n",
       "      <td>[[J.J. Abrams, 0.5868], [None, 0.2584], [Lupit...</td>\n",
       "      <td>[http://rssfeeds.usatoday.com/~/129385923/0/us...</td>\n",
       "      <td>Star Wars: Episode VII - The Force Awakens</td>\n",
       "    </tr>\n",
       "    <tr>\n",
       "      <th>4</th>\n",
       "      <td>You meet new characters and you learn about Ha...</td>\n",
       "      <td>Kevin Feige</td>\n",
       "      <td>[Q515161]</td>\n",
       "      <td>2015-05-06</td>\n",
       "      <td>1</td>\n",
       "      <td>[[Kevin Feige, 0.9108], [None, 0.0782], [Scott...</td>\n",
       "      <td>[http://www.digitaltrends.com/movies/ant-man-m...</td>\n",
       "      <td>Avengers: Age of Ultron</td>\n",
       "    </tr>\n",
       "  </tbody>\n",
       "</table>\n",
       "</div>"
      ],
      "text/plain": [
       "                                           quotation       speaker  \\\n",
       "0                       Is Ferguson like Mockingjay?    Laci Green   \n",
       "1  I want to clarify my interview on the `Charlie...  George Lucas   \n",
       "2  Is Daredevil joining the Avengers for Infinity...   Scott Davis   \n",
       "3  They were saying, `Well, since when has Star W...   J.J. Abrams   \n",
       "4  You meet new characters and you learn about Ha...   Kevin Feige   \n",
       "\n",
       "                                                qids        date  \\\n",
       "0                                        [Q16843606]  2015-11-15   \n",
       "1                                 [Q38222, Q1507803]  2015-12-31   \n",
       "2  [Q1373440, Q7436227, Q7436228, Q7436226, Q1619...  2015-12-10   \n",
       "3                                          [Q188137]  2015-12-21   \n",
       "4                                          [Q515161]  2015-05-06   \n",
       "\n",
       "   numOccurrences                                             probas  \\\n",
       "0               1             [[Laci Green, 0.9013], [None, 0.0987]]   \n",
       "1               7  [[George Lucas, 0.5327], [None, 0.4248], [Char...   \n",
       "2               2  [[None, 0.4806], [Scott Davis, 0.4017], [Antho...   \n",
       "3               1  [[J.J. Abrams, 0.5868], [None, 0.2584], [Lupit...   \n",
       "4               1  [[Kevin Feige, 0.9108], [None, 0.0782], [Scott...   \n",
       "\n",
       "                                                urls  \\\n",
       "0  [http://www.dailykos.com/story/2015/11/15/1450...   \n",
       "1  [http://www.escapistmagazine.com/news/view/165...   \n",
       "2  [http://www.flickeringmyth.com/2015/12/is-dare...   \n",
       "3  [http://rssfeeds.usatoday.com/~/129385923/0/us...   \n",
       "4  [http://www.digitaltrends.com/movies/ant-man-m...   \n",
       "\n",
       "                                        movie  \n",
       "0       The Hunger Games: Mockingjay - Part 2  \n",
       "1  Star Wars: Episode VII - The Force Awakens  \n",
       "2                     Avengers: Age of Ultron  \n",
       "3  Star Wars: Episode VII - The Force Awakens  \n",
       "4                     Avengers: Age of Ultron  "
      ]
     },
     "execution_count": 30,
     "metadata": {},
     "output_type": "execute_result"
    }
   ],
   "source": [
    "mergeQuoteIDs(df)\n",
    "df.head()"
   ]
  },
  {
   "cell_type": "markdown",
   "id": "30416f0d",
   "metadata": {},
   "source": [
    "And then we create a new ID for each unique list of qID's."
   ]
  },
  {
   "cell_type": "code",
   "execution_count": 31,
   "id": "5e4ea0e7",
   "metadata": {},
   "outputs": [],
   "source": [
    "def newID(df):\n",
    "    unique_IDlists = np.unique(df['qids'])\n",
    "    newIDs = []\n",
    "    \n",
    "    for row_qIDlist in tqdm(df.qids):\n",
    "        for newID, unique_list in enumerate(unique_IDlists):\n",
    "            if unique_list == row_qIDlist:\n",
    "                newIDs.append(newID)\n",
    "    df['shared_ID'] = newIDs\n",
    "    \n",
    "    return newIDs"
   ]
  },
  {
   "cell_type": "code",
   "execution_count": 32,
   "id": "81b71191",
   "metadata": {},
   "outputs": [
    {
     "data": {
      "application/vnd.jupyter.widget-view+json": {
       "model_id": "9fcda823704b4dc09c93d382afb55aa7",
       "version_major": 2,
       "version_minor": 0
      },
      "text/plain": [
       "  0%|          | 0/72695 [00:00<?, ?it/s]"
      ]
     },
     "metadata": {},
     "output_type": "display_data"
    }
   ],
   "source": [
    "newIDs = newID(df)"
   ]
  },
  {
   "cell_type": "code",
   "execution_count": 33,
   "id": "740c6582",
   "metadata": {},
   "outputs": [
    {
     "data": {
      "text/html": [
       "<div>\n",
       "<style scoped>\n",
       "    .dataframe tbody tr th:only-of-type {\n",
       "        vertical-align: middle;\n",
       "    }\n",
       "\n",
       "    .dataframe tbody tr th {\n",
       "        vertical-align: top;\n",
       "    }\n",
       "\n",
       "    .dataframe thead th {\n",
       "        text-align: right;\n",
       "    }\n",
       "</style>\n",
       "<table border=\"1\" class=\"dataframe\">\n",
       "  <thead>\n",
       "    <tr style=\"text-align: right;\">\n",
       "      <th></th>\n",
       "      <th>quotation</th>\n",
       "      <th>speaker</th>\n",
       "      <th>qids</th>\n",
       "      <th>date</th>\n",
       "      <th>numOccurrences</th>\n",
       "      <th>probas</th>\n",
       "      <th>urls</th>\n",
       "      <th>movie</th>\n",
       "      <th>shared_ID</th>\n",
       "    </tr>\n",
       "  </thead>\n",
       "  <tbody>\n",
       "    <tr>\n",
       "      <th>0</th>\n",
       "      <td>Is Ferguson like Mockingjay?</td>\n",
       "      <td>Laci Green</td>\n",
       "      <td>[Q16843606]</td>\n",
       "      <td>2015-11-15</td>\n",
       "      <td>1</td>\n",
       "      <td>[[Laci Green, 0.9013], [None, 0.0987]]</td>\n",
       "      <td>[http://www.dailykos.com/story/2015/11/15/1450...</td>\n",
       "      <td>The Hunger Games: Mockingjay - Part 2</td>\n",
       "      <td>1751</td>\n",
       "    </tr>\n",
       "    <tr>\n",
       "      <th>1</th>\n",
       "      <td>I want to clarify my interview on the `Charlie...</td>\n",
       "      <td>George Lucas</td>\n",
       "      <td>[Q38222, Q1507803]</td>\n",
       "      <td>2015-12-31</td>\n",
       "      <td>7</td>\n",
       "      <td>[[George Lucas, 0.5327], [None, 0.4248], [Char...</td>\n",
       "      <td>[http://www.escapistmagazine.com/news/view/165...</td>\n",
       "      <td>Star Wars: Episode VII - The Force Awakens</td>\n",
       "      <td>6724</td>\n",
       "    </tr>\n",
       "    <tr>\n",
       "      <th>2</th>\n",
       "      <td>Is Daredevil joining the Avengers for Infinity...</td>\n",
       "      <td>Scott Davis</td>\n",
       "      <td>[Q1373440, Q7436227, Q7436228, Q7436226, Q1619...</td>\n",
       "      <td>2015-12-10</td>\n",
       "      <td>2</td>\n",
       "      <td>[[None, 0.4806], [Scott Davis, 0.4017], [Antho...</td>\n",
       "      <td>[http://www.flickeringmyth.com/2015/12/is-dare...</td>\n",
       "      <td>Avengers: Age of Ultron</td>\n",
       "      <td>692</td>\n",
       "    </tr>\n",
       "    <tr>\n",
       "      <th>3</th>\n",
       "      <td>They were saying, `Well, since when has Star W...</td>\n",
       "      <td>J.J. Abrams</td>\n",
       "      <td>[Q188137]</td>\n",
       "      <td>2015-12-21</td>\n",
       "      <td>1</td>\n",
       "      <td>[[J.J. Abrams, 0.5868], [None, 0.2584], [Lupit...</td>\n",
       "      <td>[http://rssfeeds.usatoday.com/~/129385923/0/us...</td>\n",
       "      <td>Star Wars: Episode VII - The Force Awakens</td>\n",
       "      <td>2394</td>\n",
       "    </tr>\n",
       "    <tr>\n",
       "      <th>4</th>\n",
       "      <td>You meet new characters and you learn about Ha...</td>\n",
       "      <td>Kevin Feige</td>\n",
       "      <td>[Q515161]</td>\n",
       "      <td>2015-05-06</td>\n",
       "      <td>1</td>\n",
       "      <td>[[Kevin Feige, 0.9108], [None, 0.0782], [Scott...</td>\n",
       "      <td>[http://www.digitaltrends.com/movies/ant-man-m...</td>\n",
       "      <td>Avengers: Age of Ultron</td>\n",
       "      <td>8789</td>\n",
       "    </tr>\n",
       "  </tbody>\n",
       "</table>\n",
       "</div>"
      ],
      "text/plain": [
       "                                           quotation       speaker  \\\n",
       "0                       Is Ferguson like Mockingjay?    Laci Green   \n",
       "1  I want to clarify my interview on the `Charlie...  George Lucas   \n",
       "2  Is Daredevil joining the Avengers for Infinity...   Scott Davis   \n",
       "3  They were saying, `Well, since when has Star W...   J.J. Abrams   \n",
       "4  You meet new characters and you learn about Ha...   Kevin Feige   \n",
       "\n",
       "                                                qids        date  \\\n",
       "0                                        [Q16843606]  2015-11-15   \n",
       "1                                 [Q38222, Q1507803]  2015-12-31   \n",
       "2  [Q1373440, Q7436227, Q7436228, Q7436226, Q1619...  2015-12-10   \n",
       "3                                          [Q188137]  2015-12-21   \n",
       "4                                          [Q515161]  2015-05-06   \n",
       "\n",
       "   numOccurrences                                             probas  \\\n",
       "0               1             [[Laci Green, 0.9013], [None, 0.0987]]   \n",
       "1               7  [[George Lucas, 0.5327], [None, 0.4248], [Char...   \n",
       "2               2  [[None, 0.4806], [Scott Davis, 0.4017], [Antho...   \n",
       "3               1  [[J.J. Abrams, 0.5868], [None, 0.2584], [Lupit...   \n",
       "4               1  [[Kevin Feige, 0.9108], [None, 0.0782], [Scott...   \n",
       "\n",
       "                                                urls  \\\n",
       "0  [http://www.dailykos.com/story/2015/11/15/1450...   \n",
       "1  [http://www.escapistmagazine.com/news/view/165...   \n",
       "2  [http://www.flickeringmyth.com/2015/12/is-dare...   \n",
       "3  [http://rssfeeds.usatoday.com/~/129385923/0/us...   \n",
       "4  [http://www.digitaltrends.com/movies/ant-man-m...   \n",
       "\n",
       "                                        movie  shared_ID  \n",
       "0       The Hunger Games: Mockingjay - Part 2       1751  \n",
       "1  Star Wars: Episode VII - The Force Awakens       6724  \n",
       "2                     Avengers: Age of Ultron        692  \n",
       "3  Star Wars: Episode VII - The Force Awakens       2394  \n",
       "4                     Avengers: Age of Ultron       8789  "
      ]
     },
     "execution_count": 33,
     "metadata": {},
     "output_type": "execute_result"
    }
   ],
   "source": [
    "df.head()"
   ]
  },
  {
   "cell_type": "markdown",
   "id": "95e6b12f",
   "metadata": {},
   "source": [
    "### Dealing with \"hidden\" duplicated quotes\n",
    "\n",
    "In the initial analyses on quotes on 2019-nyt-data we realized that some of the quotes appear as multiple rows even though they occur on the same date as other quotes. We realized that this was caused by differing characters that are not letters (like extra 's, punctuations, etc.) which might be due to the Quotebank scraping process or the way newspapers refer to quotes. We find it evident to gather these \"hidden\" duplicate quotes into one of the versions that gets the numOccurrences and urls updated. This is done in the following cells:"
   ]
  },
  {
   "cell_type": "code",
   "execution_count": 34,
   "id": "eaab8158",
   "metadata": {},
   "outputs": [
    {
     "data": {
      "application/vnd.jupyter.widget-view+json": {
       "model_id": "71fffdfcba8146e5b7abad6744c2a020",
       "version_major": 2,
       "version_minor": 0
      },
      "text/plain": [
       "  0%|          | 0/71100 [00:00<?, ?it/s]"
      ]
     },
     "metadata": {},
     "output_type": "display_data"
    }
   ],
   "source": [
    "import re\n",
    "\n",
    "# strip from special characters and remove white spaces for comparing quotes\n",
    "# we will not use these for other than detecting \"hidden\" duplicate quotes\n",
    "quotes = pd.Series([re.sub(\"[^0-9a-zA-Z]\", \"\", quotation.lower()) for quotation in df.quotation])\n",
    "\n",
    "# groupby stripped quote\n",
    "groupedData = df.groupby(by=quotes)\n",
    "\n",
    "hidden_duplicates = []\n",
    "ids_to_remove = []\n",
    "\n",
    "for _, quoteData in tqdm(groupedData):\n",
    "    # check if stripped quote occurs more than once on the same date\n",
    "    duplicate_cond = np.all(quoteData.date == quoteData.date.iloc[0])\n",
    "    if quoteData.__len__() > 1 and duplicate_cond:\n",
    "        if np.all(quoteData.shared_ID == quoteData.shared_ID.iloc[0]): \n",
    "            # determine index to keep and which ones to remove\n",
    "            keep_id = quoteData.index[0]\n",
    "            remove_ids = np.setdiff1d(quoteData.index, keep_id)\n",
    "            \n",
    "            # update numOccurrences\n",
    "            numOcc_sum = quoteData.numOccurrences.sum()\n",
    "            quoteData.loc[keep_id, 'numOccurrences'] = numOcc_sum\n",
    "            \n",
    "            # update urls\n",
    "            quoteData = quoteData.drop(remove_ids)\n",
    "            new_urls = list(np.concatenate([url for url in quoteData['urls']]))\n",
    "            quoteData.loc[keep_id, 'urls'] = [[new_urls]] * 1\n",
    "            \n",
    "            # collect new columns\n",
    "            hidden_duplicates.append(quoteData)\n",
    "            ids_to_remove.append(remove_ids)\n",
    "\n",
    "if hidden_duplicates.__len__() > 0:\n",
    "    temp = pd.concat(hidden_duplicates)\n",
    "    ids_to_remove = np.concatenate(ids_to_remove)\n",
    "\n",
    "# update original dataframe     \n",
    "df = df.drop(ids_to_remove)\n",
    "df.loc[temp.index] = temp\n",
    "df.index = np.arange(len(df))"
   ]
  },
  {
   "cell_type": "code",
   "execution_count": 35,
   "id": "7281ce8c",
   "metadata": {},
   "outputs": [
    {
     "data": {
      "text/plain": [
       "541"
      ]
     },
     "execution_count": 35,
     "metadata": {},
     "output_type": "execute_result"
    }
   ],
   "source": [
    "hidden_duplicates.__len__()"
   ]
  },
  {
   "cell_type": "code",
   "execution_count": 36,
   "id": "60f1c233",
   "metadata": {},
   "outputs": [
    {
     "name": "stdout",
     "output_type": "stream",
     "text": [
      "Shape of dataframe: (72141, 9)\n"
     ]
    },
    {
     "data": {
      "text/html": [
       "<div>\n",
       "<style scoped>\n",
       "    .dataframe tbody tr th:only-of-type {\n",
       "        vertical-align: middle;\n",
       "    }\n",
       "\n",
       "    .dataframe tbody tr th {\n",
       "        vertical-align: top;\n",
       "    }\n",
       "\n",
       "    .dataframe thead th {\n",
       "        text-align: right;\n",
       "    }\n",
       "</style>\n",
       "<table border=\"1\" class=\"dataframe\">\n",
       "  <thead>\n",
       "    <tr style=\"text-align: right;\">\n",
       "      <th></th>\n",
       "      <th>quotation</th>\n",
       "      <th>speaker</th>\n",
       "      <th>qids</th>\n",
       "      <th>date</th>\n",
       "      <th>numOccurrences</th>\n",
       "      <th>probas</th>\n",
       "      <th>urls</th>\n",
       "      <th>movie</th>\n",
       "      <th>shared_ID</th>\n",
       "    </tr>\n",
       "  </thead>\n",
       "  <tbody>\n",
       "    <tr>\n",
       "      <th>0</th>\n",
       "      <td>Is Ferguson like Mockingjay?</td>\n",
       "      <td>Laci Green</td>\n",
       "      <td>[Q16843606]</td>\n",
       "      <td>2015-11-15</td>\n",
       "      <td>1</td>\n",
       "      <td>[[Laci Green, 0.9013], [None, 0.0987]]</td>\n",
       "      <td>[http://www.dailykos.com/story/2015/11/15/1450...</td>\n",
       "      <td>The Hunger Games: Mockingjay - Part 2</td>\n",
       "      <td>1751</td>\n",
       "    </tr>\n",
       "    <tr>\n",
       "      <th>1</th>\n",
       "      <td>I want to clarify my interview on the `Charlie...</td>\n",
       "      <td>George Lucas</td>\n",
       "      <td>[Q38222, Q1507803]</td>\n",
       "      <td>2015-12-31</td>\n",
       "      <td>7</td>\n",
       "      <td>[[George Lucas, 0.5327], [None, 0.4248], [Char...</td>\n",
       "      <td>[http://www.escapistmagazine.com/news/view/165...</td>\n",
       "      <td>Star Wars: Episode VII - The Force Awakens</td>\n",
       "      <td>6724</td>\n",
       "    </tr>\n",
       "    <tr>\n",
       "      <th>2</th>\n",
       "      <td>Is Daredevil joining the Avengers for Infinity...</td>\n",
       "      <td>Scott Davis</td>\n",
       "      <td>[Q1373440, Q7436227, Q7436228, Q7436226, Q1619...</td>\n",
       "      <td>2015-12-10</td>\n",
       "      <td>2</td>\n",
       "      <td>[[None, 0.4806], [Scott Davis, 0.4017], [Antho...</td>\n",
       "      <td>[http://www.flickeringmyth.com/2015/12/is-dare...</td>\n",
       "      <td>Avengers: Age of Ultron</td>\n",
       "      <td>692</td>\n",
       "    </tr>\n",
       "    <tr>\n",
       "      <th>3</th>\n",
       "      <td>They were saying, `Well, since when has Star W...</td>\n",
       "      <td>J.J. Abrams</td>\n",
       "      <td>[Q188137]</td>\n",
       "      <td>2015-12-21</td>\n",
       "      <td>1</td>\n",
       "      <td>[[J.J. Abrams, 0.5868], [None, 0.2584], [Lupit...</td>\n",
       "      <td>[http://rssfeeds.usatoday.com/~/129385923/0/us...</td>\n",
       "      <td>Star Wars: Episode VII - The Force Awakens</td>\n",
       "      <td>2394</td>\n",
       "    </tr>\n",
       "    <tr>\n",
       "      <th>4</th>\n",
       "      <td>You meet new characters and you learn about Ha...</td>\n",
       "      <td>Kevin Feige</td>\n",
       "      <td>[Q515161]</td>\n",
       "      <td>2015-05-06</td>\n",
       "      <td>1</td>\n",
       "      <td>[[Kevin Feige, 0.9108], [None, 0.0782], [Scott...</td>\n",
       "      <td>[http://www.digitaltrends.com/movies/ant-man-m...</td>\n",
       "      <td>Avengers: Age of Ultron</td>\n",
       "      <td>8789</td>\n",
       "    </tr>\n",
       "  </tbody>\n",
       "</table>\n",
       "</div>"
      ],
      "text/plain": [
       "                                           quotation       speaker  \\\n",
       "0                       Is Ferguson like Mockingjay?    Laci Green   \n",
       "1  I want to clarify my interview on the `Charlie...  George Lucas   \n",
       "2  Is Daredevil joining the Avengers for Infinity...   Scott Davis   \n",
       "3  They were saying, `Well, since when has Star W...   J.J. Abrams   \n",
       "4  You meet new characters and you learn about Ha...   Kevin Feige   \n",
       "\n",
       "                                                qids        date  \\\n",
       "0                                        [Q16843606]  2015-11-15   \n",
       "1                                 [Q38222, Q1507803]  2015-12-31   \n",
       "2  [Q1373440, Q7436227, Q7436228, Q7436226, Q1619...  2015-12-10   \n",
       "3                                          [Q188137]  2015-12-21   \n",
       "4                                          [Q515161]  2015-05-06   \n",
       "\n",
       "   numOccurrences                                             probas  \\\n",
       "0               1             [[Laci Green, 0.9013], [None, 0.0987]]   \n",
       "1               7  [[George Lucas, 0.5327], [None, 0.4248], [Char...   \n",
       "2               2  [[None, 0.4806], [Scott Davis, 0.4017], [Antho...   \n",
       "3               1  [[J.J. Abrams, 0.5868], [None, 0.2584], [Lupit...   \n",
       "4               1  [[Kevin Feige, 0.9108], [None, 0.0782], [Scott...   \n",
       "\n",
       "                                                urls  \\\n",
       "0  [http://www.dailykos.com/story/2015/11/15/1450...   \n",
       "1  [http://www.escapistmagazine.com/news/view/165...   \n",
       "2  [http://www.flickeringmyth.com/2015/12/is-dare...   \n",
       "3  [http://rssfeeds.usatoday.com/~/129385923/0/us...   \n",
       "4  [http://www.digitaltrends.com/movies/ant-man-m...   \n",
       "\n",
       "                                        movie  shared_ID  \n",
       "0       The Hunger Games: Mockingjay - Part 2       1751  \n",
       "1  Star Wars: Episode VII - The Force Awakens       6724  \n",
       "2                     Avengers: Age of Ultron        692  \n",
       "3  Star Wars: Episode VII - The Force Awakens       2394  \n",
       "4                     Avengers: Age of Ultron       8789  "
      ]
     },
     "execution_count": 36,
     "metadata": {},
     "output_type": "execute_result"
    }
   ],
   "source": [
    "print(f\"Shape of dataframe: {df.shape}\")\n",
    "df.head()"
   ]
  },
  {
   "cell_type": "markdown",
   "id": "60dad769",
   "metadata": {},
   "source": [
    "So now hidden duplicated quotes should be removed."
   ]
  },
  {
   "cell_type": "markdown",
   "id": "b4d91134",
   "metadata": {},
   "source": [
    "### Investigating the new ID's"
   ]
  },
  {
   "cell_type": "markdown",
   "id": "cbf4bb84",
   "metadata": {},
   "source": [
    "We will now investigate how different ID's (the shared one) are distributed across quotes. We calculate the frequency with which ID is associated, meaning the total number of occurences for each ID."
   ]
  },
  {
   "cell_type": "code",
   "execution_count": 37,
   "id": "3fdd2a5d",
   "metadata": {},
   "outputs": [
    {
     "name": "stdout",
     "output_type": "stream",
     "text": [
      "Number of unique IDs: 13561\n"
     ]
    }
   ],
   "source": [
    "print(f\"Number of unique IDs: {np.max(df.shared_ID)}\")"
   ]
  },
  {
   "cell_type": "code",
   "execution_count": 38,
   "id": "6dc932f1",
   "metadata": {},
   "outputs": [
    {
     "data": {
      "application/vnd.jupyter.widget-view+json": {
       "model_id": "1b4d6973437949a2b32934a0f247992a",
       "version_major": 2,
       "version_minor": 0
      },
      "text/plain": [
       "  0%|          | 0/72695 [00:00<?, ?it/s]"
      ]
     },
     "metadata": {},
     "output_type": "display_data"
    }
   ],
   "source": [
    "freq_occurences = defaultdict(dict)\n",
    "\n",
    "for ID in tqdm(newIDs):\n",
    "    freq_occurences[ID] = sum(df[df['shared_ID'] == ID].numOccurrences)"
   ]
  },
  {
   "cell_type": "code",
   "execution_count": 39,
   "id": "f0554dc5",
   "metadata": {},
   "outputs": [],
   "source": [
    "freq_list = [(ID, count) for ID, count in sorted(freq_occurences.items(), key=lambda item: item[1], reverse=True)]\n",
    "ID, freq = list(zip(*freq_list))\n",
    "ID, freq = np.array(ID), np.array(freq)"
   ]
  },
  {
   "cell_type": "markdown",
   "id": "b54771fe",
   "metadata": {},
   "source": [
    "Using a boxplot we see that the sum of occurences for an ID seem to be affected by outliers and by plotting the amount of occurrences with the speakers sorted in a descending manner, we see that the distribution looks like a strong power law."
   ]
  },
  {
   "cell_type": "code",
   "execution_count": 40,
   "id": "ae8957dc",
   "metadata": {},
   "outputs": [
    {
     "data": {
      "image/png": "[encoded data removed]",
      "text/plain": [
       "<Figure size 432x288 with 1 Axes>"
      ]
     },
     "metadata": {
      "needs_background": "light"
     },
     "output_type": "display_data"
    }
   ],
   "source": [
    "plt.boxplot(freq)\n",
    "plt.ylabel(\"NumOccurrences\")\n",
    "plt.title('Number of Occurences of quotes')\n",
    "plt.show()"
   ]
  },
  {
   "cell_type": "code",
   "execution_count": 41,
   "id": "618b052b",
   "metadata": {},
   "outputs": [
    {
     "data": {
      "image/png": "[encoded data removed]",
      "text/plain": [
       "<Figure size 432x288 with 1 Axes>"
      ]
     },
     "metadata": {
      "needs_background": "light"
     },
     "output_type": "display_data"
    }
   ],
   "source": [
    "plt.plot(np.arange(len(freq)), freq)\n",
    "plt.xlabel(\"Ordered speakers (based on shared ID)\")\n",
    "plt.ylabel(\"NumOccurrences\")\n",
    "plt.title('Number of Quotes per speaker (ordered)')\n",
    "plt.show()"
   ]
  },
  {
   "cell_type": "markdown",
   "id": "d56ceb5f",
   "metadata": {},
   "source": [
    "We do not regard this as a problem, since it seems reasonable that this depicts the real-world scenario where some people - like star directors and movie stars - have more to say than actors that are not playing in movies at the current time but still gets quoted once in a while, but we will investigate number of occurrences for single quotes in a while"
   ]
  },
  {
   "cell_type": "markdown",
   "id": "48b4b0f1",
   "metadata": {},
   "source": [
    "By looking at the shared_ID, we now see that the ambiguity of speakers is now reduced - which will be useful in further analyses - as the new `shared_ID` attribute captures identical speaker denoted by different names."
   ]
  },
  {
   "cell_type": "code",
   "execution_count": 42,
   "id": "2cc59e0c",
   "metadata": {},
   "outputs": [
    {
     "name": "stdout",
     "output_type": "stream",
     "text": [
      "Most quoted ID's: \n",
      " (shared_ID, total numOccurrences, max numOccurrences of single quote, associated speakers)\n",
      "\n",
      "1) (9742, 114892, 57446, ['David Caballero'])\n",
      "\n",
      "2) (4784, 22007, 22000, ['John Mackey ,'])\n",
      "\n",
      "3) (6587, 19202, 7073, ['Tom Cruise'])\n",
      "\n",
      "4) (8789, 6990, 157, ['Kevin Feige', 'KEVIN FEIGE'])\n",
      "\n",
      "5) (3916, 5986, 525, ['Kathleen Kennedy'])\n",
      "\n",
      "6) (12174, 5067, 481, ['Peter Parker'])\n",
      "\n",
      "7) (9362, 4416, 210, ['Bob Iger', 'Robert Iger', 'Robert A. Iger', 'BOB IGER'])\n",
      "\n",
      "8) (2394, 3985, 362, ['J.J. Abrams', 'JJ Abrams', 'J. J. Abrams', 'jj abrams', 'J J Abrams', 'J.J. ABRAMS'])\n",
      "\n",
      "9) (10998, 3908, 252, ['Rian Johnson', 'RIAN JOHNSON'])\n",
      "\n",
      "10) (7491, 3626, 341, ['Patty Jenkins', 'PATTY JENKINS', 'patty Jenkins'])\n",
      "\n",
      "11) (4903, 3572, 388, ['Donald Trump', 'Donald J. Trump', 'President Trump', 'President Donald Trump', 'President Donald J. Trump'])\n",
      "\n",
      "12) (2483, 3372, 230, ['Ryan Reynolds'])\n",
      "\n",
      "13) (6942, 2970, 403, ['Captain Marvel', 'Michael Jordan'])\n",
      "\n",
      "14) (3139, 2953, 184, ['Mark Hamill', 'MARK HAMILL'])\n",
      "\n",
      "15) (1812, 2882, 486, ['Joe Russo', 'Joseph Russo', 'joe russo'])\n",
      "\n",
      "16) (2867, 2855, 107, ['Tom Holland', 'TOM HOLLAND'])\n",
      "\n",
      "17) (1849, 2782, 134, ['John Boyega', 'JOHN BOYEGA'])\n",
      "\n",
      "18) (2273, 2668, 94, ['Gal Gadot'])\n",
      "\n",
      "19) (6724, 2440, 178, ['George Lucas', 'GEORGE LUCAS'])\n",
      "\n",
      "20) (10070, 2381, 1121, ['John Williams', 'JOHN WILLIAMS'])\n",
      "\n",
      "21) (10393, 1812, 304, ['Jon Favreau'])\n",
      "\n",
      "22) (9550, 1719, 117, ['Chris Hemsworth', 'chris hemsworth', 'CHRIS HEMSWORTH'])\n",
      "\n",
      "23) (1583, 1563, 87, ['Robert Downey', 'Robert Downey Jr. .', 'ROBERT DOWNEY JR. .'])\n",
      "\n",
      "24) (13152, 1562, 360, ['War Machine'])\n",
      "\n",
      "25) (2730, 1540, 600, ['Ron Howard'])\n",
      "\n"
     ]
    }
   ],
   "source": [
    "N = 25\n",
    "topN = []\n",
    "\n",
    "print(f\"Most quoted ID's: \\n (shared_ID, total numOccurrences, max numOccurrences of single quote, associated speakers)\\n\")\n",
    "for n in range(N):\n",
    "    \n",
    "    idxs = [i for (i, shared) in enumerate(df.shared_ID) if shared == ID[n]]\n",
    "    associated_speakers = df.iloc[idxs, :].speaker.unique()\n",
    "    maxOcc = df[df.shared_ID == ID[n]].numOccurrences.max()\n",
    "    \n",
    "    info_tuple = (ID[n], freq[n], maxOcc, list(associated_speakers))\n",
    "    topN.append(info_tuple)\n",
    "    \n",
    "    print(f\"{n+1}) {topN[n]}\\n\")"
   ]
  },
  {
   "cell_type": "markdown",
   "id": "f31398e5",
   "metadata": {},
   "source": [
    "### Handling outliers\n",
    "\n",
    "We realize that some of these can quite plausible be determine as outliers, but we choose to investigate it a bit further and try to find a reasoning for which quotes to include in the end. Let's look at the most occuring quoted ID associated with the speaker David Caballero."
   ]
  },
  {
   "cell_type": "code",
   "execution_count": 43,
   "id": "6b5fb99b",
   "metadata": {},
   "outputs": [
    {
     "data": {
      "text/html": [
       "<div>\n",
       "<style scoped>\n",
       "    .dataframe tbody tr th:only-of-type {\n",
       "        vertical-align: middle;\n",
       "    }\n",
       "\n",
       "    .dataframe tbody tr th {\n",
       "        vertical-align: top;\n",
       "    }\n",
       "\n",
       "    .dataframe thead th {\n",
       "        text-align: right;\n",
       "    }\n",
       "</style>\n",
       "<table border=\"1\" class=\"dataframe\">\n",
       "  <thead>\n",
       "    <tr style=\"text-align: right;\">\n",
       "      <th></th>\n",
       "      <th>quotation</th>\n",
       "      <th>speaker</th>\n",
       "      <th>qids</th>\n",
       "      <th>date</th>\n",
       "      <th>numOccurrences</th>\n",
       "      <th>probas</th>\n",
       "      <th>urls</th>\n",
       "      <th>movie</th>\n",
       "      <th>shared_ID</th>\n",
       "    </tr>\n",
       "  </thead>\n",
       "  <tbody>\n",
       "    <tr>\n",
       "      <th>18300</th>\n",
       "      <td>I've had the good fortune to be able to travel...</td>\n",
       "      <td>Gary Hailes</td>\n",
       "      <td>[Q5525194]</td>\n",
       "      <td>2017-05-25</td>\n",
       "      <td>1</td>\n",
       "      <td>[[Gary Hailes, 0.8981], [None, 0.1019]]</td>\n",
       "      <td>[http://radiotimes.com/news/2017-05-25/meet-th...</td>\n",
       "      <td>Star Wars: Episode VIII - The Last Jedi</td>\n",
       "      <td>9712</td>\n",
       "    </tr>\n",
       "    <tr>\n",
       "      <th>21568</th>\n",
       "      <td>So it works-it works perfectly. There is no be...</td>\n",
       "      <td>Gary Hailes</td>\n",
       "      <td>[Q5525194]</td>\n",
       "      <td>2017-05-25</td>\n",
       "      <td>1</td>\n",
       "      <td>[[None, 0.7073], [Gary Hailes, 0.2203], [Barry...</td>\n",
       "      <td>[http://www.radiotimes.com/news/2017-05-25/wha...</td>\n",
       "      <td>Star Wars: Episode VIII - The Last Jedi</td>\n",
       "      <td>9712</td>\n",
       "    </tr>\n",
       "    <tr>\n",
       "      <th>28432</th>\n",
       "      <td>I think Star Wars is the most complete version...</td>\n",
       "      <td>Gary Hailes</td>\n",
       "      <td>[Q5525194]</td>\n",
       "      <td>2017-05-25</td>\n",
       "      <td>1</td>\n",
       "      <td>[[None, 0.5944], [Gary Hailes, 0.3286], [Barry...</td>\n",
       "      <td>[http://www.radiotimes.com/news/2017-05-25/wha...</td>\n",
       "      <td>Star Wars: Episode VIII - The Last Jedi</td>\n",
       "      <td>9712</td>\n",
       "    </tr>\n",
       "  </tbody>\n",
       "</table>\n",
       "</div>"
      ],
      "text/plain": [
       "                                               quotation      speaker  \\\n",
       "18300  I've had the good fortune to be able to travel...  Gary Hailes   \n",
       "21568  So it works-it works perfectly. There is no be...  Gary Hailes   \n",
       "28432  I think Star Wars is the most complete version...  Gary Hailes   \n",
       "\n",
       "             qids        date  numOccurrences  \\\n",
       "18300  [Q5525194]  2017-05-25               1   \n",
       "21568  [Q5525194]  2017-05-25               1   \n",
       "28432  [Q5525194]  2017-05-25               1   \n",
       "\n",
       "                                                  probas  \\\n",
       "18300            [[Gary Hailes, 0.8981], [None, 0.1019]]   \n",
       "21568  [[None, 0.7073], [Gary Hailes, 0.2203], [Barry...   \n",
       "28432  [[None, 0.5944], [Gary Hailes, 0.3286], [Barry...   \n",
       "\n",
       "                                                    urls  \\\n",
       "18300  [http://radiotimes.com/news/2017-05-25/meet-th...   \n",
       "21568  [http://www.radiotimes.com/news/2017-05-25/wha...   \n",
       "28432  [http://www.radiotimes.com/news/2017-05-25/wha...   \n",
       "\n",
       "                                         movie  shared_ID  \n",
       "18300  Star Wars: Episode VIII - The Last Jedi       9712  \n",
       "21568  Star Wars: Episode VIII - The Last Jedi       9712  \n",
       "28432  Star Wars: Episode VIII - The Last Jedi       9712  "
      ]
     },
     "execution_count": 43,
     "metadata": {},
     "output_type": "execute_result"
    }
   ],
   "source": [
    "df[df.shared_ID == 9712]"
   ]
  },
  {
   "cell_type": "code",
   "execution_count": 44,
   "id": "55bbf61f",
   "metadata": {},
   "outputs": [
    {
     "data": {
      "text/plain": [
       "['http://radiotimes.com/news/2017-05-25/meet-the-10000-strong-star-wars-army-conquering-the-world-of-fandom']"
      ]
     },
     "execution_count": 44,
     "metadata": {},
     "output_type": "execute_result"
    }
   ],
   "source": [
    "df[df.shared_ID == 9712].urls.iloc[0]"
   ]
  },
  {
   "cell_type": "markdown",
   "id": "5e25ff09",
   "metadata": {},
   "source": [
    "This reveals that the high amount of occurrences for these two quotes is most probably due to a mistake in the way the Quotebank data set is constructed. Let's also take a look at the second most occuring speaker, John Machkey."
   ]
  },
  {
   "cell_type": "code",
   "execution_count": 45,
   "id": "96a2ac22",
   "metadata": {},
   "outputs": [
    {
     "data": {
      "text/html": [
       "<div>\n",
       "<style scoped>\n",
       "    .dataframe tbody tr th:only-of-type {\n",
       "        vertical-align: middle;\n",
       "    }\n",
       "\n",
       "    .dataframe tbody tr th {\n",
       "        vertical-align: top;\n",
       "    }\n",
       "\n",
       "    .dataframe thead th {\n",
       "        text-align: right;\n",
       "    }\n",
       "</style>\n",
       "<table border=\"1\" class=\"dataframe\">\n",
       "  <thead>\n",
       "    <tr style=\"text-align: right;\">\n",
       "      <th></th>\n",
       "      <th>quotation</th>\n",
       "      <th>speaker</th>\n",
       "      <th>qids</th>\n",
       "      <th>date</th>\n",
       "      <th>numOccurrences</th>\n",
       "      <th>probas</th>\n",
       "      <th>urls</th>\n",
       "      <th>movie</th>\n",
       "      <th>shared_ID</th>\n",
       "    </tr>\n",
       "  </thead>\n",
       "  <tbody>\n",
       "    <tr>\n",
       "      <th>11432</th>\n",
       "      <td>He understood there would be an eruption over ...</td>\n",
       "      <td>John the Divine</td>\n",
       "      <td>[Q2733634]</td>\n",
       "      <td>2016-08-30</td>\n",
       "      <td>1</td>\n",
       "      <td>[[None, 0.7145], [John the Divine, 0.2855]]</td>\n",
       "      <td>[http://truro.wickedlocal.com/entertainmentlif...</td>\n",
       "      <td>Captain America: Civil War</td>\n",
       "      <td>4752</td>\n",
       "    </tr>\n",
       "    <tr>\n",
       "      <th>11542</th>\n",
       "      <td>Photo-FILE-In this Nov. 13, 1978 file photo, H...</td>\n",
       "      <td>John the Divine</td>\n",
       "      <td>[Q2733634]</td>\n",
       "      <td>2016-12-27</td>\n",
       "      <td>9</td>\n",
       "      <td>[[John the Divine, 0.3827], [None, 0.3416], [C...</td>\n",
       "      <td>[http://newsok.com/article/5532318/?utm_source...</td>\n",
       "      <td>Star Wars: Episode VII - The Force Awakens</td>\n",
       "      <td>4752</td>\n",
       "    </tr>\n",
       "    <tr>\n",
       "      <th>14325</th>\n",
       "      <td>FILE - In this Nov. 13, 1978 file photo, Harri...</td>\n",
       "      <td>John the Divine</td>\n",
       "      <td>[Q2733634]</td>\n",
       "      <td>2016-12-27</td>\n",
       "      <td>9</td>\n",
       "      <td>[[None, 0.2964], [John the Divine, 0.2952], [H...</td>\n",
       "      <td>[http://newsok.com/article/5532318/?utm_source...</td>\n",
       "      <td>Star Wars: Episode VII - The Force Awakens</td>\n",
       "      <td>4752</td>\n",
       "    </tr>\n",
       "    <tr>\n",
       "      <th>14776</th>\n",
       "      <td>Star Wars-Special Edition</td>\n",
       "      <td>John the Divine</td>\n",
       "      <td>[Q2733634]</td>\n",
       "      <td>2016-12-28</td>\n",
       "      <td>6</td>\n",
       "      <td>[[John the Divine, 0.4628], [Carrie Fisher, 0....</td>\n",
       "      <td>[http://www.news.com.au/entertainment/celebrit...</td>\n",
       "      <td>Star Wars: Episode VII - The Force Awakens</td>\n",
       "      <td>4752</td>\n",
       "    </tr>\n",
       "    <tr>\n",
       "      <th>15487</th>\n",
       "      <td>FILE - In this Nov. 13, 1978 file photo, shows...</td>\n",
       "      <td>John the Divine</td>\n",
       "      <td>[Q2733634]</td>\n",
       "      <td>2016-12-27</td>\n",
       "      <td>9</td>\n",
       "      <td>[[John the Divine, 0.3422], [None, 0.3018], [K...</td>\n",
       "      <td>[http://newsok.com/article/5532318/?utm_source...</td>\n",
       "      <td>Star Wars: Episode VII - The Force Awakens</td>\n",
       "      <td>4752</td>\n",
       "    </tr>\n",
       "    <tr>\n",
       "      <th>39616</th>\n",
       "      <td>Grace, an Amazing Homecoming,</td>\n",
       "      <td>John the Divine</td>\n",
       "      <td>[Q2733634]</td>\n",
       "      <td>2018-09-27</td>\n",
       "      <td>2</td>\n",
       "      <td>[[None, 0.7379], [John the Divine, 0.1927], [S...</td>\n",
       "      <td>[http://www.news-gazette.com/arts-entertainmen...</td>\n",
       "      <td>Spider-Man: Homecoming</td>\n",
       "      <td>4752</td>\n",
       "    </tr>\n",
       "    <tr>\n",
       "      <th>49966</th>\n",
       "      <td>I've been promoting Fantastic Beasts, and peop...</td>\n",
       "      <td>John the Divine</td>\n",
       "      <td>[Q2733634]</td>\n",
       "      <td>2018-11-06</td>\n",
       "      <td>11</td>\n",
       "      <td>[[None, 0.3701], [John the Divine, 0.2735], [E...</td>\n",
       "      <td>[http://www.hollywood.com/general/sleep-depriv...</td>\n",
       "      <td>Fantastic Beasts: The Crimes of Grindelwald</td>\n",
       "      <td>4752</td>\n",
       "    </tr>\n",
       "    <tr>\n",
       "      <th>71919</th>\n",
       "      <td>In the dystopian world of Beckett's Endgame we...</td>\n",
       "      <td>John the Divine</td>\n",
       "      <td>[Q2733634]</td>\n",
       "      <td>2020-02-12</td>\n",
       "      <td>1</td>\n",
       "      <td>[[None, 0.4448], [John the Divine, 0.4351], [G...</td>\n",
       "      <td>[https://www.broadwayworld.com/bwwclassical/ar...</td>\n",
       "      <td>Avengers: Endgame</td>\n",
       "      <td>4752</td>\n",
       "    </tr>\n",
       "  </tbody>\n",
       "</table>\n",
       "</div>"
      ],
      "text/plain": [
       "                                               quotation          speaker  \\\n",
       "11432  He understood there would be an eruption over ...  John the Divine   \n",
       "11542  Photo-FILE-In this Nov. 13, 1978 file photo, H...  John the Divine   \n",
       "14325  FILE - In this Nov. 13, 1978 file photo, Harri...  John the Divine   \n",
       "14776                          Star Wars-Special Edition  John the Divine   \n",
       "15487  FILE - In this Nov. 13, 1978 file photo, shows...  John the Divine   \n",
       "39616                      Grace, an Amazing Homecoming,  John the Divine   \n",
       "49966  I've been promoting Fantastic Beasts, and peop...  John the Divine   \n",
       "71919  In the dystopian world of Beckett's Endgame we...  John the Divine   \n",
       "\n",
       "             qids        date  numOccurrences  \\\n",
       "11432  [Q2733634]  2016-08-30               1   \n",
       "11542  [Q2733634]  2016-12-27               9   \n",
       "14325  [Q2733634]  2016-12-27               9   \n",
       "14776  [Q2733634]  2016-12-28               6   \n",
       "15487  [Q2733634]  2016-12-27               9   \n",
       "39616  [Q2733634]  2018-09-27               2   \n",
       "49966  [Q2733634]  2018-11-06              11   \n",
       "71919  [Q2733634]  2020-02-12               1   \n",
       "\n",
       "                                                  probas  \\\n",
       "11432        [[None, 0.7145], [John the Divine, 0.2855]]   \n",
       "11542  [[John the Divine, 0.3827], [None, 0.3416], [C...   \n",
       "14325  [[None, 0.2964], [John the Divine, 0.2952], [H...   \n",
       "14776  [[John the Divine, 0.4628], [Carrie Fisher, 0....   \n",
       "15487  [[John the Divine, 0.3422], [None, 0.3018], [K...   \n",
       "39616  [[None, 0.7379], [John the Divine, 0.1927], [S...   \n",
       "49966  [[None, 0.3701], [John the Divine, 0.2735], [E...   \n",
       "71919  [[None, 0.4448], [John the Divine, 0.4351], [G...   \n",
       "\n",
       "                                                    urls  \\\n",
       "11432  [http://truro.wickedlocal.com/entertainmentlif...   \n",
       "11542  [http://newsok.com/article/5532318/?utm_source...   \n",
       "14325  [http://newsok.com/article/5532318/?utm_source...   \n",
       "14776  [http://www.news.com.au/entertainment/celebrit...   \n",
       "15487  [http://newsok.com/article/5532318/?utm_source...   \n",
       "39616  [http://www.news-gazette.com/arts-entertainmen...   \n",
       "49966  [http://www.hollywood.com/general/sleep-depriv...   \n",
       "71919  [https://www.broadwayworld.com/bwwclassical/ar...   \n",
       "\n",
       "                                             movie  shared_ID  \n",
       "11432                   Captain America: Civil War       4752  \n",
       "11542   Star Wars: Episode VII - The Force Awakens       4752  \n",
       "14325   Star Wars: Episode VII - The Force Awakens       4752  \n",
       "14776   Star Wars: Episode VII - The Force Awakens       4752  \n",
       "15487   Star Wars: Episode VII - The Force Awakens       4752  \n",
       "39616                       Spider-Man: Homecoming       4752  \n",
       "49966  Fantastic Beasts: The Crimes of Grindelwald       4752  \n",
       "71919                            Avengers: Endgame       4752  "
      ]
     },
     "execution_count": 45,
     "metadata": {},
     "output_type": "execute_result"
    }
   ],
   "source": [
    "df[df.shared_ID == 4752]"
   ]
  },
  {
   "cell_type": "code",
   "execution_count": 46,
   "id": "c1feeba2",
   "metadata": {},
   "outputs": [
    {
     "data": {
      "text/plain": [
       "['http://truro.wickedlocal.com/entertainmentlife/20160830/mac-gatch-and-history-of-progressive-preachers']"
      ]
     },
     "execution_count": 46,
     "metadata": {},
     "output_type": "execute_result"
    }
   ],
   "source": [
    "df[df.shared_ID == 4752].urls.iloc[0]"
   ]
  },
  {
   "cell_type": "markdown",
   "id": "0d0aeca3",
   "metadata": {},
   "source": [
    "Same tendency - it feels safe to remove these quotes from the data frame, but where do we put the limit when we don't have the time nor ressources to inspect all quotes manually? \n",
    "\n",
    "We aim at solving this issue by setting a threshold on the `numOccurrences` attribute. The positive side of this approach is that we are 100% certain that spam or mistaken data will be removed. However, we risk that quotes that are in fact just popular and highly quoted are removed even though they are not spam or caused by a mistake in the Quotebank data retrieval approach, which will result in a loss of important data.\n",
    "\n",
    "In continuation of this we must be aware that multiple versions of the same quote can occur as different entries in the Quotebank data set as each quote has a `date` attached. We argue that this gives evidence to our threshhold-based quote-removal approach as it seems rather unlikely that the same quote occurs on multiple valid urls on the same date. Our line of thought is that it for sure is possible to have a high number of occurrences due to the huge amount of possible quotations by worldwide newspaper webpages, etc., but as we are working with movie data - which we do not classify as \"breaking news\" - it seems more likely that the representation of the quote around the world happens across multiple days.\n",
    "\n",
    "We would rather not have false data in our analyses and choose a threshold of a quote occuring maximum 20 times a day based on the previous arguments and our intuitive knowledge of the media coverage on movies and quotations. Below we calculate the percentage of data that is removed with this threshold."
   ]
  },
  {
   "cell_type": "code",
   "execution_count": 47,
   "id": "0adb9125",
   "metadata": {},
   "outputs": [
    {
     "name": "stdout",
     "output_type": "stream",
     "text": [
      "Percentage of data regarded as outliers: 2.41%\n"
     ]
    }
   ],
   "source": [
    "print(f\"Percentage of data regarded as outliers: {np.round((df.numOccurrences > 20).sum() / df.__len__(), 4)*100}%\")"
   ]
  },
  {
   "cell_type": "code",
   "execution_count": 48,
   "id": "261968e8",
   "metadata": {},
   "outputs": [],
   "source": [
    "df = df[df.numOccurrences < 20]\n",
    "df.index = np.arange(df.__len__())"
   ]
  },
  {
   "cell_type": "markdown",
   "id": "2b493c85",
   "metadata": {},
   "source": [
    "We do the same exploration as before we removed the \"outliers\"."
   ]
  },
  {
   "cell_type": "code",
   "execution_count": 49,
   "id": "ec44ead0",
   "metadata": {},
   "outputs": [
    {
     "name": "stdout",
     "output_type": "stream",
     "text": [
      "Number of unique IDs: 13561\n"
     ]
    }
   ],
   "source": [
    "print(f\"Number of unique IDs: {np.max(df.shared_ID)}\")"
   ]
  },
  {
   "cell_type": "code",
   "execution_count": 50,
   "id": "83852fd3",
   "metadata": {},
   "outputs": [
    {
     "data": {
      "application/vnd.jupyter.widget-view+json": {
       "model_id": "3c42ac0983f14c598496ed77a9c69f1d",
       "version_major": 2,
       "version_minor": 0
      },
      "text/plain": [
       "  0%|          | 0/72695 [00:00<?, ?it/s]"
      ]
     },
     "metadata": {},
     "output_type": "display_data"
    }
   ],
   "source": [
    "freq_occurences = defaultdict(dict)\n",
    "\n",
    "for ID in tqdm(newIDs):\n",
    "    freq_occurences[ID] = sum(df[df['shared_ID'] == ID].numOccurrences)"
   ]
  },
  {
   "cell_type": "code",
   "execution_count": 51,
   "id": "ab309fd4",
   "metadata": {},
   "outputs": [],
   "source": [
    "freq_list = [(ID, count) for ID, count in sorted(freq_occurences.items(), key=lambda item: item[1], reverse=True)]\n",
    "ID, freq = list(zip(*freq_list))\n",
    "ID, freq = np.array(ID), np.array(freq)"
   ]
  },
  {
   "cell_type": "markdown",
   "id": "b621f407",
   "metadata": {},
   "source": [
    "The boxplot and second plot still reveal that some speakers are more likely to be quoted than others. As previously mentioned this is reasonable."
   ]
  },
  {
   "cell_type": "code",
   "execution_count": 52,
   "id": "d7103554",
   "metadata": {},
   "outputs": [
    {
     "data": {
      "image/png": "[encoded data removed]",
      "text/plain": [
       "<Figure size 432x288 with 1 Axes>"
      ]
     },
     "metadata": {
      "needs_background": "light"
     },
     "output_type": "display_data"
    }
   ],
   "source": [
    "plt.boxplot(freq)\n",
    "plt.ylabel(\"NumOccurrences\")\n",
    "plt.title('Number of Occurences of quotes')\n",
    "plt.show()\n"
   ]
  },
  {
   "cell_type": "code",
   "execution_count": 53,
   "id": "3d3706f0",
   "metadata": {},
   "outputs": [
    {
     "data": {
      "image/png": "[encoded data removed]",
      "text/plain": [
       "<Figure size 432x288 with 1 Axes>"
      ]
     },
     "metadata": {
      "needs_background": "light"
     },
     "output_type": "display_data"
    }
   ],
   "source": [
    "plt.plot(np.arange(len(freq)), freq)\n",
    "plt.xlabel(\"Ordered speakers (based on shared ID)\")\n",
    "plt.ylabel(\"NumOccurrences\")\n",
    "plt.title('Number of Quotes per speaker (ordered)')\n",
    "plt.show()"
   ]
  },
  {
   "cell_type": "markdown",
   "id": "f04d06c0",
   "metadata": {},
   "source": [
    "And now the top 25 most quoted speakers look like this."
   ]
  },
  {
   "cell_type": "code",
   "execution_count": 54,
   "id": "d0f0785e",
   "metadata": {},
   "outputs": [
    {
     "name": "stdout",
     "output_type": "stream",
     "text": [
      "Most quoted ID's: \n",
      " (shared_ID, total numOccurrences, max numOccurrences of single quote, associated speakers)\n",
      "\n",
      "1) (8789, 4427, 19, ['Kevin Feige', 'KEVIN FEIGE'])\n",
      "\n",
      "2) (9362, 2627, 19, ['Bob Iger', 'Robert Iger', 'Robert A. Iger', 'BOB IGER'])\n",
      "\n",
      "3) (2394, 2071, 19, ['J.J. Abrams', 'JJ Abrams', 'J. J. Abrams', 'jj abrams', 'J J Abrams', 'J.J. ABRAMS'])\n",
      "\n",
      "4) (1812, 2034, 19, ['Joe Russo', 'Joseph Russo', 'joe russo'])\n",
      "\n",
      "5) (6942, 1979, 19, ['Captain Marvel', 'Michael Jordan'])\n",
      "\n",
      "6) (10998, 1806, 19, ['Rian Johnson', 'RIAN JOHNSON'])\n",
      "\n",
      "7) (2867, 1784, 19, ['Tom Holland', 'TOM HOLLAND'])\n",
      "\n",
      "8) (7491, 1714, 17, ['Patty Jenkins', 'PATTY JENKINS', 'patty Jenkins'])\n",
      "\n",
      "9) (3916, 1593, 19, ['Kathleen Kennedy'])\n",
      "\n",
      "10) (3139, 1573, 18, ['Mark Hamill', 'MARK HAMILL'])\n",
      "\n",
      "11) (6724, 1436, 19, ['George Lucas', 'GEORGE LUCAS'])\n",
      "\n",
      "12) (2273, 1418, 19, ['Gal Gadot'])\n",
      "\n",
      "13) (2483, 1235, 19, ['Ryan Reynolds'])\n",
      "\n",
      "14) (1583, 1130, 17, ['Robert Downey', 'Robert Downey Jr. .', 'ROBERT DOWNEY JR. .'])\n",
      "\n",
      "15) (9550, 1112, 19, ['Chris Hemsworth', 'chris hemsworth', 'CHRIS HEMSWORTH'])\n",
      "\n",
      "16) (12174, 1090, 19, ['Peter Parker'])\n",
      "\n",
      "17) (1849, 1064, 19, ['John Boyega', 'JOHN BOYEGA'])\n",
      "\n",
      "18) (3990, 917, 17, ['Taika Waititi', 'TAIKA WAITITI'])\n",
      "\n",
      "19) (10393, 866, 17, ['Jon Favreau'])\n",
      "\n",
      "20) (7982, 823, 16, ['Anthony Russo'])\n",
      "\n",
      "21) (6626, 726, 18, ['James Wan', 'James wan'])\n",
      "\n",
      "22) (2263, 725, 13, ['Jon Watts'])\n",
      "\n",
      "23) (141, 701, 16, ['Carrie Fisher'])\n",
      "\n",
      "24) (6479, 689, 16, ['Todd Phillips'])\n",
      "\n",
      "25) (4903, 685, 17, ['Donald Trump', 'Donald J. Trump', 'President Trump', 'President Donald Trump', 'President Donald J. Trump'])\n",
      "\n"
     ]
    }
   ],
   "source": [
    "N = 25\n",
    "topN = []\n",
    "\n",
    "print(f\"Most quoted ID's: \\n (shared_ID, total numOccurrences, max numOccurrences of single quote, associated speakers)\\n\")\n",
    "for n in range(N):\n",
    "    \n",
    "    idxs = [i for (i, shared) in enumerate(df.shared_ID) if shared == ID[n]]\n",
    "    associated_speakers = df.iloc[idxs, :].speaker.unique()\n",
    "    maxOcc = df[df.shared_ID == ID[n]].numOccurrences.max()\n",
    "    \n",
    "    info_tuple = (ID[n], freq[n], maxOcc, list(associated_speakers))\n",
    "    topN.append(info_tuple)\n",
    "    \n",
    "    print(f\"{n+1}) {topN[n]}\\n\")"
   ]
  },
  {
   "cell_type": "markdown",
   "id": "e0814a51",
   "metadata": {},
   "source": [
    "### Saving the dataframe\n",
    "We save the Quotebank data frame in a pickle for easy access."
   ]
  },
  {
   "cell_type": "code",
   "execution_count": 55,
   "id": "35596550",
   "metadata": {},
   "outputs": [
    {
     "name": "stdout",
     "output_type": "stream",
     "text": [
      "Dataframe was pickled and saved to directory:\n",
      "C:\\Users\\Albert Kjøller\\Documents\\EPFL\\Courses\\CS-401_ADA\\ada-2021-project-f-jab\\exploratory\\data \n",
      "\n",
      "Shape of dataframe: (70297, 9)\n"
     ]
    }
   ],
   "source": [
    "# Save loaded DataFrame as pickle for faster loading time in the future\n",
    "filename = f\"Quotebank_processed\"\n",
    "df.to_pickle(rf\"{data_dir}{os.sep}{filename}.pkl\")\n",
    "\n",
    "print(f\"Dataframe was pickled and saved to directory:\\n{data_dir} \\n\")\n",
    "print(f\"Shape of dataframe: {df.shape}\")"
   ]
  },
  {
   "cell_type": "markdown",
   "id": "fb4ab640",
   "metadata": {},
   "source": [
    "### (Optional) - All occurrences per speaker"
   ]
  },
  {
   "cell_type": "code",
   "execution_count": null,
   "id": "d1e5a6e7",
   "metadata": {},
   "outputs": [],
   "source": [
    "N = len(df)-1\n",
    "topN = []\n",
    "\n",
    "print(f\"Most quoted ID's: \\n (shared_ID, total numOccurrences, associated speakers)\\n\")\n",
    "for n in range(N):\n",
    "    \n",
    "    idxs = [i for (i, shared) in enumerate(df.shared_ID) if shared == ID[n]]\n",
    "    associated_speakers = df.iloc[idxs, :].speaker.unique()\n",
    "    \n",
    "    info_tuple = (ID[n], freq[n], list(associated_speakers))\n",
    "    topN.append(info_tuple)\n",
    "    \n",
    "    print(f\"{n+1}) {topN[n]}\\n\")"
   ]
  },
  {
   "cell_type": "code",
   "execution_count": null,
   "id": "23741e6a",
   "metadata": {},
   "outputs": [],
   "source": []
  }
 ],
 "metadata": {
  "kernelspec": {
   "display_name": "Python 3",
   "language": "python",
   "name": "python3"
  },
  "language_info": {
   "codemirror_mode": {
    "name": "ipython",
    "version": 3
   },
   "file_extension": ".py",
   "mimetype": "text/x-python",
   "name": "python",
   "nbconvert_exporter": "python",
   "pygments_lexer": "ipython3",
   "version": "3.8.8"
  }
 },
 "nbformat": 4,
 "nbformat_minor": 5
}
