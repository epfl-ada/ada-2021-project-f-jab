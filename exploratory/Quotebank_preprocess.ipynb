{
 "cells": [
  {
   "cell_type": "code",
   "execution_count": 1,
   "id": "1e78760a",
   "metadata": {},
   "outputs": [],
   "source": [
    "import os\n",
    "import glob\n",
    "import bz2\n",
    "import pandas as pd\n",
    "import numpy as np\n",
    "from tqdm.notebook import tqdm\n",
    "import matplotlib.pyplot as plt\n",
    "from collections import defaultdict"
   ]
  },
  {
   "cell_type": "markdown",
   "id": "61774079",
   "metadata": {},
   "source": [
    "# Preprocessing the Quotebank data\n",
    "\n",
    "The idea with this notebook is to load the prefiltered Quotebank data set and preprocess it such that we have an unambiguous data frame that is suitable for future investigations as a pickle. We start by loading the data from each yearly `json.bz2`-file such that the yearly dataframes are concatenated into a single one."
   ]
  },
  {
   "cell_type": "code",
   "execution_count": 2,
   "id": "15358ce4",
   "metadata": {},
   "outputs": [
    {
     "name": "stdout",
     "output_type": "stream",
     "text": [
      "['quotes-2015-movies.json.bz2', 'quotes-2016-movies.json.bz2', 'quotes-2017-movies.json.bz2', 'quotes-2018-movies.json.bz2', 'quotes-2019-movies.json.bz2', 'quotes-2020-movies.json.bz2']\n"
     ]
    }
   ],
   "source": [
    "# Specifying filename and directory\n",
    "data_dir = os.getcwd() + os.sep + 'data'\n",
    "quotebank_dir = data_dir + os.sep + \"Quotebank\"\n",
    "quotebank_bz2 = os.listdir(quotebank_dir)\n",
    "print(quotebank_bz2)\n",
    "\n",
    "# Change directory\n",
    "os.chdir(quotebank_dir)"
   ]
  },
  {
   "cell_type": "code",
   "execution_count": 3,
   "id": "81a148e0",
   "metadata": {},
   "outputs": [
    {
     "data": {
      "application/vnd.jupyter.widget-view+json": {
       "model_id": "a3abf69281bf4883b2c5dffff3d06e6b",
       "version_major": 2,
       "version_minor": 0
      },
      "text/plain": [
       "  0%|          | 0/6 [00:00<?, ?it/s]"
      ]
     },
     "metadata": {},
     "output_type": "display_data"
    },
    {
     "data": {
      "text/plain": [
       "(67736, 10)"
      ]
     },
     "execution_count": 3,
     "metadata": {},
     "output_type": "execute_result"
    }
   ],
   "source": [
    "df = pd.DataFrame()\n",
    "for year_file in tqdm(quotebank_bz2):\n",
    "    if year_file != '.DS_Store':\n",
    "        temp =  pd.read_json(year_file, lines=True, compression='bz2')\n",
    "        df = pd.concat([df, temp], ignore_index = True) \n",
    "df.shape"
   ]
  },
  {
   "cell_type": "code",
   "execution_count": 4,
   "id": "82acbee3",
   "metadata": {},
   "outputs": [
    {
     "data": {
      "text/html": [
       "<div>\n",
       "<style scoped>\n",
       "    .dataframe tbody tr th:only-of-type {\n",
       "        vertical-align: middle;\n",
       "    }\n",
       "\n",
       "    .dataframe tbody tr th {\n",
       "        vertical-align: top;\n",
       "    }\n",
       "\n",
       "    .dataframe thead th {\n",
       "        text-align: right;\n",
       "    }\n",
       "</style>\n",
       "<table border=\"1\" class=\"dataframe\">\n",
       "  <thead>\n",
       "    <tr style=\"text-align: right;\">\n",
       "      <th></th>\n",
       "      <th>quoteID</th>\n",
       "      <th>quotation</th>\n",
       "      <th>speaker</th>\n",
       "      <th>qids</th>\n",
       "      <th>date</th>\n",
       "      <th>numOccurrences</th>\n",
       "      <th>probas</th>\n",
       "      <th>urls</th>\n",
       "      <th>phase</th>\n",
       "      <th>movie</th>\n",
       "    </tr>\n",
       "  </thead>\n",
       "  <tbody>\n",
       "    <tr>\n",
       "      <th>0</th>\n",
       "      <td>2015-02-14-007911</td>\n",
       "      <td>For fans of the book they know that Effie's ro...</td>\n",
       "      <td>None</td>\n",
       "      <td>[]</td>\n",
       "      <td>2015-02-14 00:47:05</td>\n",
       "      <td>1</td>\n",
       "      <td>[[None, 0.8008], [Francis Lawrence, 0.1299], [...</td>\n",
       "      <td>[http://www.buzzfeed.com/kristinharris/secrets...</td>\n",
       "      <td>E</td>\n",
       "      <td>The Hunger Games: Mockingjay - Part 2</td>\n",
       "    </tr>\n",
       "    <tr>\n",
       "      <th>1</th>\n",
       "      <td>2015-11-15-027947</td>\n",
       "      <td>Is Ferguson like Mockingjay?</td>\n",
       "      <td>Laci Green</td>\n",
       "      <td>[Q16843606]</td>\n",
       "      <td>2015-11-15 03:15:53</td>\n",
       "      <td>1</td>\n",
       "      <td>[[Laci Green, 0.9013], [None, 0.0987]]</td>\n",
       "      <td>[http://www.dailykos.com/story/2015/11/15/1450...</td>\n",
       "      <td>E</td>\n",
       "      <td>The Hunger Games: Mockingjay - Part 2</td>\n",
       "    </tr>\n",
       "    <tr>\n",
       "      <th>2</th>\n",
       "      <td>2015-04-26-028061</td>\n",
       "      <td>It's pretty exciting-I have to say. I saw the ...</td>\n",
       "      <td>None</td>\n",
       "      <td>[]</td>\n",
       "      <td>2015-04-26 11:56:10</td>\n",
       "      <td>2</td>\n",
       "      <td>[[None, 0.8589], [Jared Leto, 0.0772], [Joss W...</td>\n",
       "      <td>[http://ign.com/articles/2015/04/24/joss-whedo...</td>\n",
       "      <td>E</td>\n",
       "      <td>Star Wars: Episode VII - The Force Awakens</td>\n",
       "    </tr>\n",
       "    <tr>\n",
       "      <th>3</th>\n",
       "      <td>2015-12-31-028469</td>\n",
       "      <td>I want to clarify my interview on the `Charlie...</td>\n",
       "      <td>George Lucas</td>\n",
       "      <td>[Q1507803, Q38222]</td>\n",
       "      <td>2015-12-31 16:48:00</td>\n",
       "      <td>7</td>\n",
       "      <td>[[George Lucas, 0.5327], [None, 0.4248], [Char...</td>\n",
       "      <td>[http://www.escapistmagazine.com/news/view/165...</td>\n",
       "      <td>E</td>\n",
       "      <td>Star Wars: Episode VII - The Force Awakens</td>\n",
       "    </tr>\n",
       "    <tr>\n",
       "      <th>4</th>\n",
       "      <td>2015-12-10-059754</td>\n",
       "      <td>Is Daredevil joining the Avengers for Infinity...</td>\n",
       "      <td>None</td>\n",
       "      <td>[]</td>\n",
       "      <td>2015-12-10 23:18:29</td>\n",
       "      <td>2</td>\n",
       "      <td>[[None, 0.4806], [Scott Davis, 0.4017], [Antho...</td>\n",
       "      <td>[http://www.flickeringmyth.com/2015/12/is-dare...</td>\n",
       "      <td>E</td>\n",
       "      <td>Avengers: Age of Ultron</td>\n",
       "    </tr>\n",
       "  </tbody>\n",
       "</table>\n",
       "</div>"
      ],
      "text/plain": [
       "             quoteID                                          quotation  \\\n",
       "0  2015-02-14-007911  For fans of the book they know that Effie's ro...   \n",
       "1  2015-11-15-027947                       Is Ferguson like Mockingjay?   \n",
       "2  2015-04-26-028061  It's pretty exciting-I have to say. I saw the ...   \n",
       "3  2015-12-31-028469  I want to clarify my interview on the `Charlie...   \n",
       "4  2015-12-10-059754  Is Daredevil joining the Avengers for Infinity...   \n",
       "\n",
       "        speaker                qids                date  numOccurrences  \\\n",
       "0          None                  [] 2015-02-14 00:47:05               1   \n",
       "1    Laci Green         [Q16843606] 2015-11-15 03:15:53               1   \n",
       "2          None                  [] 2015-04-26 11:56:10               2   \n",
       "3  George Lucas  [Q1507803, Q38222] 2015-12-31 16:48:00               7   \n",
       "4          None                  [] 2015-12-10 23:18:29               2   \n",
       "\n",
       "                                              probas  \\\n",
       "0  [[None, 0.8008], [Francis Lawrence, 0.1299], [...   \n",
       "1             [[Laci Green, 0.9013], [None, 0.0987]]   \n",
       "2  [[None, 0.8589], [Jared Leto, 0.0772], [Joss W...   \n",
       "3  [[George Lucas, 0.5327], [None, 0.4248], [Char...   \n",
       "4  [[None, 0.4806], [Scott Davis, 0.4017], [Antho...   \n",
       "\n",
       "                                                urls phase  \\\n",
       "0  [http://www.buzzfeed.com/kristinharris/secrets...     E   \n",
       "1  [http://www.dailykos.com/story/2015/11/15/1450...     E   \n",
       "2  [http://ign.com/articles/2015/04/24/joss-whedo...     E   \n",
       "3  [http://www.escapistmagazine.com/news/view/165...     E   \n",
       "4  [http://www.flickeringmyth.com/2015/12/is-dare...     E   \n",
       "\n",
       "                                        movie  \n",
       "0       The Hunger Games: Mockingjay - Part 2  \n",
       "1       The Hunger Games: Mockingjay - Part 2  \n",
       "2  Star Wars: Episode VII - The Force Awakens  \n",
       "3  Star Wars: Episode VII - The Force Awakens  \n",
       "4                     Avengers: Age of Ultron  "
      ]
     },
     "execution_count": 4,
     "metadata": {},
     "output_type": "execute_result"
    }
   ],
   "source": [
    "df.head()"
   ]
  },
  {
   "cell_type": "markdown",
   "id": "aff376b7",
   "metadata": {},
   "source": [
    "Removing NaN-values. We see that these only occur in the `movie` attribute which right now is due to an issue in the data filtering. "
   ]
  },
  {
   "cell_type": "code",
   "execution_count": 5,
   "id": "f048781e",
   "metadata": {},
   "outputs": [
    {
     "data": {
      "text/plain": [
       "quoteID           False\n",
       "quotation         False\n",
       "speaker           False\n",
       "qids              False\n",
       "date              False\n",
       "numOccurrences    False\n",
       "probas            False\n",
       "urls              False\n",
       "phase             False\n",
       "movie             False\n",
       "dtype: bool"
      ]
     },
     "execution_count": 5,
     "metadata": {},
     "output_type": "execute_result"
    }
   ],
   "source": [
    "df.isnull().any()"
   ]
  },
  {
   "cell_type": "code",
   "execution_count": 6,
   "id": "e4f6c539",
   "metadata": {},
   "outputs": [],
   "source": [
    "df = df.loc[-df.isnull().any(axis=1)]"
   ]
  },
  {
   "cell_type": "code",
   "execution_count": 7,
   "id": "6fd39448",
   "metadata": {},
   "outputs": [
    {
     "data": {
      "text/plain": [
       "(67736, 10)"
      ]
     },
     "execution_count": 7,
     "metadata": {},
     "output_type": "execute_result"
    }
   ],
   "source": [
    "df.shape"
   ]
  },
  {
   "cell_type": "markdown",
   "id": "5b1da6d9",
   "metadata": {},
   "source": [
    "### Dealing with the speakers"
   ]
  },
  {
   "cell_type": "markdown",
   "id": "1ba81781",
   "metadata": {},
   "source": [
    "We investigate how many quotes does not have an obvious speaker and is denoted by 'None'. Turns out that it is approximately 38%."
   ]
  },
  {
   "cell_type": "code",
   "execution_count": 8,
   "id": "2117c2e0",
   "metadata": {},
   "outputs": [
    {
     "name": "stdout",
     "output_type": "stream",
     "text": [
      "'None'-speakers: 25588\n",
      "Total fraction of 'None'-speakers: 0.37776071808196526\n"
     ]
    }
   ],
   "source": [
    "number_none_speakers = len(df[df.speaker == 'None'])\n",
    "\n",
    "print(f\"'None'-speakers: {number_none_speakers}\")\n",
    "print(f\"Total fraction of 'None'-speakers: {number_none_speakers / len(df)}\")"
   ]
  },
  {
   "cell_type": "markdown",
   "id": "b4ab09fa",
   "metadata": {},
   "source": [
    "Even though the single speakers are not really important for answering our research questions, we choose to clean the data by chaning 'None'-speakers to the speaker with second highest probability from the `df.probas` attribute."
   ]
  },
  {
   "cell_type": "code",
   "execution_count": 9,
   "id": "65d1780e",
   "metadata": {},
   "outputs": [
    {
     "data": {
      "application/vnd.jupyter.widget-view+json": {
       "model_id": "760411b82c22465b99cdf03117ffe47c",
       "version_major": 2,
       "version_minor": 0
      },
      "text/plain": [
       "  0%|          | 0/67736 [00:00<?, ?it/s]"
      ]
     },
     "metadata": {},
     "output_type": "display_data"
    }
   ],
   "source": [
    "# Removes speaker as being None to being the second most likely in case speaker is 'None'\n",
    "proba_threshhold = 0.15\n",
    "\n",
    "secondary_speaker = [df['probas'][i][1][0] if (speaker == 'None') and (float(df['probas'][i][1][1]) > proba_threshhold) else speaker for i, speaker in enumerate(tqdm(df['speaker']))]\n",
    "df['speaker'] = secondary_speaker"
   ]
  },
  {
   "cell_type": "code",
   "execution_count": 10,
   "id": "9857f5af",
   "metadata": {},
   "outputs": [
    {
     "name": "stdout",
     "output_type": "stream",
     "text": [
      "'None'-speakers: 10121\n",
      "Total fraction of 'None'-speakers: 0.14941832998700838\n"
     ]
    }
   ],
   "source": [
    "number_none_speakers = len(df[df.speaker == 'None'])\n",
    "\n",
    "print(f\"'None'-speakers: {number_none_speakers}\")\n",
    "print(f\"Total fraction of 'None'-speakers: {number_none_speakers / len(df)}\")"
   ]
  },
  {
   "cell_type": "code",
   "execution_count": 11,
   "id": "6ab742b5",
   "metadata": {},
   "outputs": [
    {
     "data": {
      "text/html": [
       "<div>\n",
       "<style scoped>\n",
       "    .dataframe tbody tr th:only-of-type {\n",
       "        vertical-align: middle;\n",
       "    }\n",
       "\n",
       "    .dataframe tbody tr th {\n",
       "        vertical-align: top;\n",
       "    }\n",
       "\n",
       "    .dataframe thead th {\n",
       "        text-align: right;\n",
       "    }\n",
       "</style>\n",
       "<table border=\"1\" class=\"dataframe\">\n",
       "  <thead>\n",
       "    <tr style=\"text-align: right;\">\n",
       "      <th></th>\n",
       "      <th>quoteID</th>\n",
       "      <th>quotation</th>\n",
       "      <th>speaker</th>\n",
       "      <th>qids</th>\n",
       "      <th>date</th>\n",
       "      <th>numOccurrences</th>\n",
       "      <th>probas</th>\n",
       "      <th>urls</th>\n",
       "      <th>phase</th>\n",
       "      <th>movie</th>\n",
       "    </tr>\n",
       "  </thead>\n",
       "  <tbody>\n",
       "    <tr>\n",
       "      <th>0</th>\n",
       "      <td>2015-02-14-007911</td>\n",
       "      <td>For fans of the book they know that Effie's ro...</td>\n",
       "      <td>None</td>\n",
       "      <td>[]</td>\n",
       "      <td>2015-02-14 00:47:05</td>\n",
       "      <td>1</td>\n",
       "      <td>[[None, 0.8008], [Francis Lawrence, 0.1299], [...</td>\n",
       "      <td>[http://www.buzzfeed.com/kristinharris/secrets...</td>\n",
       "      <td>E</td>\n",
       "      <td>The Hunger Games: Mockingjay - Part 2</td>\n",
       "    </tr>\n",
       "    <tr>\n",
       "      <th>1</th>\n",
       "      <td>2015-11-15-027947</td>\n",
       "      <td>Is Ferguson like Mockingjay?</td>\n",
       "      <td>Laci Green</td>\n",
       "      <td>[Q16843606]</td>\n",
       "      <td>2015-11-15 03:15:53</td>\n",
       "      <td>1</td>\n",
       "      <td>[[Laci Green, 0.9013], [None, 0.0987]]</td>\n",
       "      <td>[http://www.dailykos.com/story/2015/11/15/1450...</td>\n",
       "      <td>E</td>\n",
       "      <td>The Hunger Games: Mockingjay - Part 2</td>\n",
       "    </tr>\n",
       "    <tr>\n",
       "      <th>2</th>\n",
       "      <td>2015-04-26-028061</td>\n",
       "      <td>It's pretty exciting-I have to say. I saw the ...</td>\n",
       "      <td>None</td>\n",
       "      <td>[]</td>\n",
       "      <td>2015-04-26 11:56:10</td>\n",
       "      <td>2</td>\n",
       "      <td>[[None, 0.8589], [Jared Leto, 0.0772], [Joss W...</td>\n",
       "      <td>[http://ign.com/articles/2015/04/24/joss-whedo...</td>\n",
       "      <td>E</td>\n",
       "      <td>Star Wars: Episode VII - The Force Awakens</td>\n",
       "    </tr>\n",
       "    <tr>\n",
       "      <th>3</th>\n",
       "      <td>2015-12-31-028469</td>\n",
       "      <td>I want to clarify my interview on the `Charlie...</td>\n",
       "      <td>George Lucas</td>\n",
       "      <td>[Q1507803, Q38222]</td>\n",
       "      <td>2015-12-31 16:48:00</td>\n",
       "      <td>7</td>\n",
       "      <td>[[George Lucas, 0.5327], [None, 0.4248], [Char...</td>\n",
       "      <td>[http://www.escapistmagazine.com/news/view/165...</td>\n",
       "      <td>E</td>\n",
       "      <td>Star Wars: Episode VII - The Force Awakens</td>\n",
       "    </tr>\n",
       "    <tr>\n",
       "      <th>4</th>\n",
       "      <td>2015-12-10-059754</td>\n",
       "      <td>Is Daredevil joining the Avengers for Infinity...</td>\n",
       "      <td>Scott Davis</td>\n",
       "      <td>[]</td>\n",
       "      <td>2015-12-10 23:18:29</td>\n",
       "      <td>2</td>\n",
       "      <td>[[None, 0.4806], [Scott Davis, 0.4017], [Antho...</td>\n",
       "      <td>[http://www.flickeringmyth.com/2015/12/is-dare...</td>\n",
       "      <td>E</td>\n",
       "      <td>Avengers: Age of Ultron</td>\n",
       "    </tr>\n",
       "  </tbody>\n",
       "</table>\n",
       "</div>"
      ],
      "text/plain": [
       "             quoteID                                          quotation  \\\n",
       "0  2015-02-14-007911  For fans of the book they know that Effie's ro...   \n",
       "1  2015-11-15-027947                       Is Ferguson like Mockingjay?   \n",
       "2  2015-04-26-028061  It's pretty exciting-I have to say. I saw the ...   \n",
       "3  2015-12-31-028469  I want to clarify my interview on the `Charlie...   \n",
       "4  2015-12-10-059754  Is Daredevil joining the Avengers for Infinity...   \n",
       "\n",
       "        speaker                qids                date  numOccurrences  \\\n",
       "0          None                  [] 2015-02-14 00:47:05               1   \n",
       "1    Laci Green         [Q16843606] 2015-11-15 03:15:53               1   \n",
       "2          None                  [] 2015-04-26 11:56:10               2   \n",
       "3  George Lucas  [Q1507803, Q38222] 2015-12-31 16:48:00               7   \n",
       "4   Scott Davis                  [] 2015-12-10 23:18:29               2   \n",
       "\n",
       "                                              probas  \\\n",
       "0  [[None, 0.8008], [Francis Lawrence, 0.1299], [...   \n",
       "1             [[Laci Green, 0.9013], [None, 0.0987]]   \n",
       "2  [[None, 0.8589], [Jared Leto, 0.0772], [Joss W...   \n",
       "3  [[George Lucas, 0.5327], [None, 0.4248], [Char...   \n",
       "4  [[None, 0.4806], [Scott Davis, 0.4017], [Antho...   \n",
       "\n",
       "                                                urls phase  \\\n",
       "0  [http://www.buzzfeed.com/kristinharris/secrets...     E   \n",
       "1  [http://www.dailykos.com/story/2015/11/15/1450...     E   \n",
       "2  [http://ign.com/articles/2015/04/24/joss-whedo...     E   \n",
       "3  [http://www.escapistmagazine.com/news/view/165...     E   \n",
       "4  [http://www.flickeringmyth.com/2015/12/is-dare...     E   \n",
       "\n",
       "                                        movie  \n",
       "0       The Hunger Games: Mockingjay - Part 2  \n",
       "1       The Hunger Games: Mockingjay - Part 2  \n",
       "2  Star Wars: Episode VII - The Force Awakens  \n",
       "3  Star Wars: Episode VII - The Force Awakens  \n",
       "4                     Avengers: Age of Ultron  "
      ]
     },
     "execution_count": 11,
     "metadata": {},
     "output_type": "execute_result"
    }
   ],
   "source": [
    "df.head()"
   ]
  },
  {
   "cell_type": "markdown",
   "id": "865b6c11",
   "metadata": {},
   "source": [
    "Furthermore, we realize that there is a super specific timestamp on the `date` attribute. Later on we will match daily box office sales with the Quotebank data, so we strip the timestamps from the specific time of the date and focus solely on the date."
   ]
  },
  {
   "cell_type": "code",
   "execution_count": 12,
   "id": "bcc03175",
   "metadata": {},
   "outputs": [
    {
     "data": {
      "application/vnd.jupyter.widget-view+json": {
       "model_id": "b0588df4adb44be88922d659470ea084",
       "version_major": 2,
       "version_minor": 0
      },
      "text/plain": [
       "  0%|          | 0/67736 [00:00<?, ?it/s]"
      ]
     },
     "metadata": {},
     "output_type": "display_data"
    }
   ],
   "source": [
    "# Remove last part of date from the quoteID date string to be able to have an average daily sentiment score\n",
    "reduced_dates = [(\"-\").join(date.split(\"-\")[:3]) for date in tqdm(df.quoteID)]\n",
    "df['date'] = reduced_dates"
   ]
  },
  {
   "cell_type": "code",
   "execution_count": 13,
   "id": "d7bf83d0",
   "metadata": {},
   "outputs": [
    {
     "data": {
      "text/html": [
       "<div>\n",
       "<style scoped>\n",
       "    .dataframe tbody tr th:only-of-type {\n",
       "        vertical-align: middle;\n",
       "    }\n",
       "\n",
       "    .dataframe tbody tr th {\n",
       "        vertical-align: top;\n",
       "    }\n",
       "\n",
       "    .dataframe thead th {\n",
       "        text-align: right;\n",
       "    }\n",
       "</style>\n",
       "<table border=\"1\" class=\"dataframe\">\n",
       "  <thead>\n",
       "    <tr style=\"text-align: right;\">\n",
       "      <th></th>\n",
       "      <th>quoteID</th>\n",
       "      <th>quotation</th>\n",
       "      <th>speaker</th>\n",
       "      <th>qids</th>\n",
       "      <th>date</th>\n",
       "      <th>numOccurrences</th>\n",
       "      <th>probas</th>\n",
       "      <th>urls</th>\n",
       "      <th>phase</th>\n",
       "      <th>movie</th>\n",
       "    </tr>\n",
       "  </thead>\n",
       "  <tbody>\n",
       "    <tr>\n",
       "      <th>0</th>\n",
       "      <td>2015-02-14-007911</td>\n",
       "      <td>For fans of the book they know that Effie's ro...</td>\n",
       "      <td>None</td>\n",
       "      <td>[]</td>\n",
       "      <td>2015-02-14</td>\n",
       "      <td>1</td>\n",
       "      <td>[[None, 0.8008], [Francis Lawrence, 0.1299], [...</td>\n",
       "      <td>[http://www.buzzfeed.com/kristinharris/secrets...</td>\n",
       "      <td>E</td>\n",
       "      <td>The Hunger Games: Mockingjay - Part 2</td>\n",
       "    </tr>\n",
       "    <tr>\n",
       "      <th>1</th>\n",
       "      <td>2015-11-15-027947</td>\n",
       "      <td>Is Ferguson like Mockingjay?</td>\n",
       "      <td>Laci Green</td>\n",
       "      <td>[Q16843606]</td>\n",
       "      <td>2015-11-15</td>\n",
       "      <td>1</td>\n",
       "      <td>[[Laci Green, 0.9013], [None, 0.0987]]</td>\n",
       "      <td>[http://www.dailykos.com/story/2015/11/15/1450...</td>\n",
       "      <td>E</td>\n",
       "      <td>The Hunger Games: Mockingjay - Part 2</td>\n",
       "    </tr>\n",
       "    <tr>\n",
       "      <th>2</th>\n",
       "      <td>2015-04-26-028061</td>\n",
       "      <td>It's pretty exciting-I have to say. I saw the ...</td>\n",
       "      <td>None</td>\n",
       "      <td>[]</td>\n",
       "      <td>2015-04-26</td>\n",
       "      <td>2</td>\n",
       "      <td>[[None, 0.8589], [Jared Leto, 0.0772], [Joss W...</td>\n",
       "      <td>[http://ign.com/articles/2015/04/24/joss-whedo...</td>\n",
       "      <td>E</td>\n",
       "      <td>Star Wars: Episode VII - The Force Awakens</td>\n",
       "    </tr>\n",
       "    <tr>\n",
       "      <th>3</th>\n",
       "      <td>2015-12-31-028469</td>\n",
       "      <td>I want to clarify my interview on the `Charlie...</td>\n",
       "      <td>George Lucas</td>\n",
       "      <td>[Q1507803, Q38222]</td>\n",
       "      <td>2015-12-31</td>\n",
       "      <td>7</td>\n",
       "      <td>[[George Lucas, 0.5327], [None, 0.4248], [Char...</td>\n",
       "      <td>[http://www.escapistmagazine.com/news/view/165...</td>\n",
       "      <td>E</td>\n",
       "      <td>Star Wars: Episode VII - The Force Awakens</td>\n",
       "    </tr>\n",
       "    <tr>\n",
       "      <th>4</th>\n",
       "      <td>2015-12-10-059754</td>\n",
       "      <td>Is Daredevil joining the Avengers for Infinity...</td>\n",
       "      <td>Scott Davis</td>\n",
       "      <td>[]</td>\n",
       "      <td>2015-12-10</td>\n",
       "      <td>2</td>\n",
       "      <td>[[None, 0.4806], [Scott Davis, 0.4017], [Antho...</td>\n",
       "      <td>[http://www.flickeringmyth.com/2015/12/is-dare...</td>\n",
       "      <td>E</td>\n",
       "      <td>Avengers: Age of Ultron</td>\n",
       "    </tr>\n",
       "  </tbody>\n",
       "</table>\n",
       "</div>"
      ],
      "text/plain": [
       "             quoteID                                          quotation  \\\n",
       "0  2015-02-14-007911  For fans of the book they know that Effie's ro...   \n",
       "1  2015-11-15-027947                       Is Ferguson like Mockingjay?   \n",
       "2  2015-04-26-028061  It's pretty exciting-I have to say. I saw the ...   \n",
       "3  2015-12-31-028469  I want to clarify my interview on the `Charlie...   \n",
       "4  2015-12-10-059754  Is Daredevil joining the Avengers for Infinity...   \n",
       "\n",
       "        speaker                qids        date  numOccurrences  \\\n",
       "0          None                  []  2015-02-14               1   \n",
       "1    Laci Green         [Q16843606]  2015-11-15               1   \n",
       "2          None                  []  2015-04-26               2   \n",
       "3  George Lucas  [Q1507803, Q38222]  2015-12-31               7   \n",
       "4   Scott Davis                  []  2015-12-10               2   \n",
       "\n",
       "                                              probas  \\\n",
       "0  [[None, 0.8008], [Francis Lawrence, 0.1299], [...   \n",
       "1             [[Laci Green, 0.9013], [None, 0.0987]]   \n",
       "2  [[None, 0.8589], [Jared Leto, 0.0772], [Joss W...   \n",
       "3  [[George Lucas, 0.5327], [None, 0.4248], [Char...   \n",
       "4  [[None, 0.4806], [Scott Davis, 0.4017], [Antho...   \n",
       "\n",
       "                                                urls phase  \\\n",
       "0  [http://www.buzzfeed.com/kristinharris/secrets...     E   \n",
       "1  [http://www.dailykos.com/story/2015/11/15/1450...     E   \n",
       "2  [http://ign.com/articles/2015/04/24/joss-whedo...     E   \n",
       "3  [http://www.escapistmagazine.com/news/view/165...     E   \n",
       "4  [http://www.flickeringmyth.com/2015/12/is-dare...     E   \n",
       "\n",
       "                                        movie  \n",
       "0       The Hunger Games: Mockingjay - Part 2  \n",
       "1       The Hunger Games: Mockingjay - Part 2  \n",
       "2  Star Wars: Episode VII - The Force Awakens  \n",
       "3  Star Wars: Episode VII - The Force Awakens  \n",
       "4                     Avengers: Age of Ultron  "
      ]
     },
     "execution_count": 13,
     "metadata": {},
     "output_type": "execute_result"
    }
   ],
   "source": [
    "df.head()"
   ]
  },
  {
   "cell_type": "markdown",
   "id": "93fb57af",
   "metadata": {},
   "source": [
    "The attribute `phase` seem to mostly take the values 'E'. The investigation below shows that all of the entries are in fact 'E' so we decide to remove it from the dataframe. From the documentation of the data we also do not find it relevant for our case. Also we won't be using the `quoteID` attribute but instead the WikiData compatible `qids`."
   ]
  },
  {
   "cell_type": "code",
   "execution_count": 14,
   "id": "d4fa92ff",
   "metadata": {},
   "outputs": [],
   "source": [
    "np.unique(df.phase, return_counts=True)\n",
    "df = df.drop(['phase', 'quoteID'], axis=1)"
   ]
  },
  {
   "cell_type": "markdown",
   "id": "03908f39",
   "metadata": {},
   "source": [
    "### Handling outliers in the numOccurrences\n",
    "\n",
    "We want to check for outliers in the number of occurrences as it is the only numercal attribute left. We note that there are no weird negative values as the minimum value of occurrences is 1."
   ]
  },
  {
   "cell_type": "code",
   "execution_count": 15,
   "id": "eca1c71f",
   "metadata": {},
   "outputs": [
    {
     "data": {
      "text/plain": [
       "count    67736.000000\n",
       "mean         8.763700\n",
       "std        444.275087\n",
       "min          1.000000\n",
       "25%          1.000000\n",
       "50%          1.000000\n",
       "75%          2.000000\n",
       "max      58945.000000\n",
       "Name: numOccurrences, dtype: float64"
      ]
     },
     "execution_count": 15,
     "metadata": {},
     "output_type": "execute_result"
    }
   ],
   "source": [
    "df.numOccurrences.describe()"
   ]
  },
  {
   "cell_type": "markdown",
   "id": "bb6ff7a0",
   "metadata": {},
   "source": [
    "The boxplot reveals that there is a need to investigate outliers and the plot of the occurences reveal that the distribution seem to follow a strong power law. We will have to qualitatively analyze these to be able to determine whether this tendency seems real or is due to spam. We will determine this later on when we have adjusted the data for other issues."
   ]
  },
  {
   "cell_type": "code",
   "execution_count": 16,
   "id": "61a8850c",
   "metadata": {},
   "outputs": [
    {
     "data": {
      "image/png": "[encoded data removed]",
      "text/plain": [
       "<Figure size 432x288 with 1 Axes>"
      ]
     },
     "metadata": {
      "needs_background": "light"
     },
     "output_type": "display_data"
    },
    {
     "data": {
      "image/png": "[encoded data removed]",
      "text/plain": [
       "<Figure size 432x288 with 1 Axes>"
      ]
     },
     "metadata": {
      "needs_background": "light"
     },
     "output_type": "display_data"
    }
   ],
   "source": [
    "plt.boxplot(df.numOccurrences)\n",
    "plt.ylabel(\"Number of Occurrences\")\n",
    "plt.title(\"With outliers\")\n",
    "plt.show()\n",
    "\n",
    "plt.hist(df.numOccurrences, bins=50)\n",
    "plt.ylabel(\"Number of Occurrences\")\n",
    "plt.title(\"Histogram with outliers\")\n",
    "plt.show()"
   ]
  },
  {
   "cell_type": "code",
   "execution_count": 17,
   "id": "6a674aab",
   "metadata": {},
   "outputs": [
    {
     "data": {
      "text/html": [
       "<div>\n",
       "<style scoped>\n",
       "    .dataframe tbody tr th:only-of-type {\n",
       "        vertical-align: middle;\n",
       "    }\n",
       "\n",
       "    .dataframe tbody tr th {\n",
       "        vertical-align: top;\n",
       "    }\n",
       "\n",
       "    .dataframe thead th {\n",
       "        text-align: right;\n",
       "    }\n",
       "</style>\n",
       "<table border=\"1\" class=\"dataframe\">\n",
       "  <thead>\n",
       "    <tr style=\"text-align: right;\">\n",
       "      <th></th>\n",
       "      <th>quotation</th>\n",
       "      <th>speaker</th>\n",
       "      <th>qids</th>\n",
       "      <th>date</th>\n",
       "      <th>numOccurrences</th>\n",
       "      <th>probas</th>\n",
       "      <th>urls</th>\n",
       "      <th>movie</th>\n",
       "    </tr>\n",
       "  </thead>\n",
       "  <tbody>\n",
       "    <tr>\n",
       "      <th>0</th>\n",
       "      <td>For fans of the book they know that Effie's ro...</td>\n",
       "      <td>None</td>\n",
       "      <td>[]</td>\n",
       "      <td>2015-02-14</td>\n",
       "      <td>1</td>\n",
       "      <td>[[None, 0.8008], [Francis Lawrence, 0.1299], [...</td>\n",
       "      <td>[http://www.buzzfeed.com/kristinharris/secrets...</td>\n",
       "      <td>The Hunger Games: Mockingjay - Part 2</td>\n",
       "    </tr>\n",
       "    <tr>\n",
       "      <th>1</th>\n",
       "      <td>Is Ferguson like Mockingjay?</td>\n",
       "      <td>Laci Green</td>\n",
       "      <td>[Q16843606]</td>\n",
       "      <td>2015-11-15</td>\n",
       "      <td>1</td>\n",
       "      <td>[[Laci Green, 0.9013], [None, 0.0987]]</td>\n",
       "      <td>[http://www.dailykos.com/story/2015/11/15/1450...</td>\n",
       "      <td>The Hunger Games: Mockingjay - Part 2</td>\n",
       "    </tr>\n",
       "    <tr>\n",
       "      <th>2</th>\n",
       "      <td>It's pretty exciting-I have to say. I saw the ...</td>\n",
       "      <td>None</td>\n",
       "      <td>[]</td>\n",
       "      <td>2015-04-26</td>\n",
       "      <td>2</td>\n",
       "      <td>[[None, 0.8589], [Jared Leto, 0.0772], [Joss W...</td>\n",
       "      <td>[http://ign.com/articles/2015/04/24/joss-whedo...</td>\n",
       "      <td>Star Wars: Episode VII - The Force Awakens</td>\n",
       "    </tr>\n",
       "    <tr>\n",
       "      <th>3</th>\n",
       "      <td>I want to clarify my interview on the `Charlie...</td>\n",
       "      <td>George Lucas</td>\n",
       "      <td>[Q1507803, Q38222]</td>\n",
       "      <td>2015-12-31</td>\n",
       "      <td>7</td>\n",
       "      <td>[[George Lucas, 0.5327], [None, 0.4248], [Char...</td>\n",
       "      <td>[http://www.escapistmagazine.com/news/view/165...</td>\n",
       "      <td>Star Wars: Episode VII - The Force Awakens</td>\n",
       "    </tr>\n",
       "    <tr>\n",
       "      <th>4</th>\n",
       "      <td>Is Daredevil joining the Avengers for Infinity...</td>\n",
       "      <td>Scott Davis</td>\n",
       "      <td>[]</td>\n",
       "      <td>2015-12-10</td>\n",
       "      <td>2</td>\n",
       "      <td>[[None, 0.4806], [Scott Davis, 0.4017], [Antho...</td>\n",
       "      <td>[http://www.flickeringmyth.com/2015/12/is-dare...</td>\n",
       "      <td>Avengers: Age of Ultron</td>\n",
       "    </tr>\n",
       "  </tbody>\n",
       "</table>\n",
       "</div>"
      ],
      "text/plain": [
       "                                           quotation       speaker  \\\n",
       "0  For fans of the book they know that Effie's ro...          None   \n",
       "1                       Is Ferguson like Mockingjay?    Laci Green   \n",
       "2  It's pretty exciting-I have to say. I saw the ...          None   \n",
       "3  I want to clarify my interview on the `Charlie...  George Lucas   \n",
       "4  Is Daredevil joining the Avengers for Infinity...   Scott Davis   \n",
       "\n",
       "                 qids        date  numOccurrences  \\\n",
       "0                  []  2015-02-14               1   \n",
       "1         [Q16843606]  2015-11-15               1   \n",
       "2                  []  2015-04-26               2   \n",
       "3  [Q1507803, Q38222]  2015-12-31               7   \n",
       "4                  []  2015-12-10               2   \n",
       "\n",
       "                                              probas  \\\n",
       "0  [[None, 0.8008], [Francis Lawrence, 0.1299], [...   \n",
       "1             [[Laci Green, 0.9013], [None, 0.0987]]   \n",
       "2  [[None, 0.8589], [Jared Leto, 0.0772], [Joss W...   \n",
       "3  [[George Lucas, 0.5327], [None, 0.4248], [Char...   \n",
       "4  [[None, 0.4806], [Scott Davis, 0.4017], [Antho...   \n",
       "\n",
       "                                                urls  \\\n",
       "0  [http://www.buzzfeed.com/kristinharris/secrets...   \n",
       "1  [http://www.dailykos.com/story/2015/11/15/1450...   \n",
       "2  [http://ign.com/articles/2015/04/24/joss-whedo...   \n",
       "3  [http://www.escapistmagazine.com/news/view/165...   \n",
       "4  [http://www.flickeringmyth.com/2015/12/is-dare...   \n",
       "\n",
       "                                        movie  \n",
       "0       The Hunger Games: Mockingjay - Part 2  \n",
       "1       The Hunger Games: Mockingjay - Part 2  \n",
       "2  Star Wars: Episode VII - The Force Awakens  \n",
       "3  Star Wars: Episode VII - The Force Awakens  \n",
       "4                     Avengers: Age of Ultron  "
      ]
     },
     "execution_count": 17,
     "metadata": {},
     "output_type": "execute_result"
    }
   ],
   "source": [
    "df.head()"
   ]
  },
  {
   "cell_type": "markdown",
   "id": "ba75c479",
   "metadata": {},
   "source": [
    "### Dealing with the quoter-IDs"
   ]
  },
  {
   "cell_type": "markdown",
   "id": "d1d68087",
   "metadata": {},
   "source": [
    "Furthermore, we see that the `qids` might need some engineering. In the initial analyses on the 2019 NYT data we saw that some individuals are quoted differently even though it's in fact the same speaker. For instance this was the case for the speaker \"Donald Trump\" and \"President Trump\". In this case these two denotations share a common qID for which reason we would want to be able to get all quotes from Donald Trump and President Trump when searching for them independently. Even though it might not be as important with movies, we deem it good practice to regulate this behaviour. We start by engineering empty quoteID-lists as an unknown token."
   ]
  },
  {
   "cell_type": "code",
   "execution_count": 18,
   "id": "7cbda834",
   "metadata": {},
   "outputs": [
    {
     "name": "stdout",
     "output_type": "stream",
     "text": [
      "Number of currently unknown qids: 25588\n"
     ]
    }
   ],
   "source": [
    "empty = np.array([entry for entry, qID_list in enumerate(df.qids) if len(qID_list) == 0])\n",
    "print(f\"Number of currently unknown qids: {len(empty)}\")"
   ]
  },
  {
   "cell_type": "code",
   "execution_count": 19,
   "id": "105fb567",
   "metadata": {},
   "outputs": [
    {
     "data": {
      "text/plain": [
       "0               [<UNK>]\n",
       "1           [Q16843606]\n",
       "2               [<UNK>]\n",
       "3    [Q1507803, Q38222]\n",
       "4               [<UNK>]\n",
       "Name: qids, dtype: object"
      ]
     },
     "execution_count": 19,
     "metadata": {},
     "output_type": "execute_result"
    }
   ],
   "source": [
    "pd.options.mode.chained_assignment = None\n",
    "df['qids'][empty] = [['<UNK>']] * len(empty)\n",
    "\n",
    "df.qids.head()"
   ]
  },
  {
   "cell_type": "markdown",
   "id": "b1c5672e",
   "metadata": {},
   "source": [
    "Using this '\\<UNK>' token we are able to search the df to replace this token with a qID if the speaker occurs with a qID another place in the data. In this manner all qIDs of a specified speaker will be the full list of qIDs associated with that speaker."
   ]
  },
  {
   "cell_type": "markdown",
   "id": "0f7f7c3f",
   "metadata": {},
   "source": [
    "    "
   ]
  },
  {
   "cell_type": "code",
   "execution_count": 20,
   "id": "fdf210cf",
   "metadata": {},
   "outputs": [],
   "source": [
    "def set_qID(speaker, df):\n",
    "    #Extract qID's of a speaker\n",
    "    qIDs = {speaker: list({quote_ID for quote_IDlist in df.qids[df['speaker'] == speaker] for quote_ID in quote_IDlist})}\n",
    "    \n",
    "    # Conditions for removing the <UNK> token.\n",
    "    if len(qIDs[speaker]) > 1 and '<UNK>' in qIDs[speaker]:\n",
    "        qIDs[speaker].remove('<UNK>')\n",
    "    \n",
    "    # Creating new qIDs for replacing in original dataframe\n",
    "    speaker_indeces = np.where(df.speaker == speaker)[0]\n",
    "    replacement = pd.Series([qIDs[speaker]] * (sum(df['speaker'] == speaker)), index=speaker_indeces)\n",
    "    \n",
    "    # Replace\n",
    "    df.loc[df['speaker'] == speaker, 'qids'] = replacement"
   ]
  },
  {
   "cell_type": "markdown",
   "id": "84a1190b",
   "metadata": {},
   "source": [
    "This now works, which can be seen on the speaker George Lucas in the following cells."
   ]
  },
  {
   "cell_type": "code",
   "execution_count": 21,
   "id": "bb5f6d3a",
   "metadata": {},
   "outputs": [
    {
     "data": {
      "text/html": [
       "<div>\n",
       "<style scoped>\n",
       "    .dataframe tbody tr th:only-of-type {\n",
       "        vertical-align: middle;\n",
       "    }\n",
       "\n",
       "    .dataframe tbody tr th {\n",
       "        vertical-align: top;\n",
       "    }\n",
       "\n",
       "    .dataframe thead th {\n",
       "        text-align: right;\n",
       "    }\n",
       "</style>\n",
       "<table border=\"1\" class=\"dataframe\">\n",
       "  <thead>\n",
       "    <tr style=\"text-align: right;\">\n",
       "      <th></th>\n",
       "      <th>quotation</th>\n",
       "      <th>speaker</th>\n",
       "      <th>qids</th>\n",
       "      <th>date</th>\n",
       "      <th>numOccurrences</th>\n",
       "      <th>probas</th>\n",
       "      <th>urls</th>\n",
       "      <th>movie</th>\n",
       "    </tr>\n",
       "  </thead>\n",
       "  <tbody>\n",
       "    <tr>\n",
       "      <th>3</th>\n",
       "      <td>I want to clarify my interview on the `Charlie...</td>\n",
       "      <td>George Lucas</td>\n",
       "      <td>[Q1507803, Q38222]</td>\n",
       "      <td>2015-12-31</td>\n",
       "      <td>7</td>\n",
       "      <td>[[George Lucas, 0.5327], [None, 0.4248], [Char...</td>\n",
       "      <td>[http://www.escapistmagazine.com/news/view/165...</td>\n",
       "      <td>Star Wars: Episode VII - The Force Awakens</td>\n",
       "    </tr>\n",
       "    <tr>\n",
       "      <th>22</th>\n",
       "      <td>When I started to go into Star Wars, [ my frie...</td>\n",
       "      <td>George Lucas</td>\n",
       "      <td>[Q1507803, Q38222]</td>\n",
       "      <td>2015-12-31</td>\n",
       "      <td>1</td>\n",
       "      <td>[[George Lucas, 0.7612], [Colin Trevorrow, 0.1...</td>\n",
       "      <td>[http://theindianrepublic.com/i-sold-star-wars...</td>\n",
       "      <td>Star Wars: Episode VII - The Force Awakens</td>\n",
       "    </tr>\n",
       "    <tr>\n",
       "      <th>40</th>\n",
       "      <td>After `Star Wars,' I went back to Warner Bros....</td>\n",
       "      <td>George Lucas</td>\n",
       "      <td>[Q1507803, Q38222]</td>\n",
       "      <td>2015-04-19</td>\n",
       "      <td>1</td>\n",
       "      <td>[[George Lucas, 0.6949], [None, 0.1538], [Step...</td>\n",
       "      <td>[http://sfgate.com/technology/businessinsider/...</td>\n",
       "      <td>Star Wars: Episode VII - The Force Awakens</td>\n",
       "    </tr>\n",
       "    <tr>\n",
       "      <th>67</th>\n",
       "      <td>a Star Wars for girls</td>\n",
       "      <td>George Lucas</td>\n",
       "      <td>[&lt;UNK&gt;]</td>\n",
       "      <td>2015-01-27</td>\n",
       "      <td>1</td>\n",
       "      <td>[[None, 0.5037], [George Lucas, 0.4963]]</td>\n",
       "      <td>[http://www.comicmix.com/2015/01/27/box-office...</td>\n",
       "      <td>Star Wars: Episode VII - The Force Awakens</td>\n",
       "    </tr>\n",
       "    <tr>\n",
       "      <th>83</th>\n",
       "      <td>We became friends and then we started dating a...</td>\n",
       "      <td>George Lucas</td>\n",
       "      <td>[Q1507803, Q38222]</td>\n",
       "      <td>2015-12-19</td>\n",
       "      <td>2</td>\n",
       "      <td>[[George Lucas, 0.5894], [None, 0.4106]]</td>\n",
       "      <td>[http://feeds.businessinsider.com.au/~/1290472...</td>\n",
       "      <td>Star Wars: Episode VII - The Force Awakens</td>\n",
       "    </tr>\n",
       "  </tbody>\n",
       "</table>\n",
       "</div>"
      ],
      "text/plain": [
       "                                            quotation       speaker  \\\n",
       "3   I want to clarify my interview on the `Charlie...  George Lucas   \n",
       "22  When I started to go into Star Wars, [ my frie...  George Lucas   \n",
       "40  After `Star Wars,' I went back to Warner Bros....  George Lucas   \n",
       "67                              a Star Wars for girls  George Lucas   \n",
       "83  We became friends and then we started dating a...  George Lucas   \n",
       "\n",
       "                  qids        date  numOccurrences  \\\n",
       "3   [Q1507803, Q38222]  2015-12-31               7   \n",
       "22  [Q1507803, Q38222]  2015-12-31               1   \n",
       "40  [Q1507803, Q38222]  2015-04-19               1   \n",
       "67             [<UNK>]  2015-01-27               1   \n",
       "83  [Q1507803, Q38222]  2015-12-19               2   \n",
       "\n",
       "                                               probas  \\\n",
       "3   [[George Lucas, 0.5327], [None, 0.4248], [Char...   \n",
       "22  [[George Lucas, 0.7612], [Colin Trevorrow, 0.1...   \n",
       "40  [[George Lucas, 0.6949], [None, 0.1538], [Step...   \n",
       "67           [[None, 0.5037], [George Lucas, 0.4963]]   \n",
       "83           [[George Lucas, 0.5894], [None, 0.4106]]   \n",
       "\n",
       "                                                 urls  \\\n",
       "3   [http://www.escapistmagazine.com/news/view/165...   \n",
       "22  [http://theindianrepublic.com/i-sold-star-wars...   \n",
       "40  [http://sfgate.com/technology/businessinsider/...   \n",
       "67  [http://www.comicmix.com/2015/01/27/box-office...   \n",
       "83  [http://feeds.businessinsider.com.au/~/1290472...   \n",
       "\n",
       "                                         movie  \n",
       "3   Star Wars: Episode VII - The Force Awakens  \n",
       "22  Star Wars: Episode VII - The Force Awakens  \n",
       "40  Star Wars: Episode VII - The Force Awakens  \n",
       "67  Star Wars: Episode VII - The Force Awakens  \n",
       "83  Star Wars: Episode VII - The Force Awakens  "
      ]
     },
     "execution_count": 21,
     "metadata": {},
     "output_type": "execute_result"
    }
   ],
   "source": [
    "df[df.speaker == 'George Lucas'].head()"
   ]
  },
  {
   "cell_type": "code",
   "execution_count": 22,
   "id": "308d8ea2",
   "metadata": {},
   "outputs": [
    {
     "data": {
      "text/html": [
       "<div>\n",
       "<style scoped>\n",
       "    .dataframe tbody tr th:only-of-type {\n",
       "        vertical-align: middle;\n",
       "    }\n",
       "\n",
       "    .dataframe tbody tr th {\n",
       "        vertical-align: top;\n",
       "    }\n",
       "\n",
       "    .dataframe thead th {\n",
       "        text-align: right;\n",
       "    }\n",
       "</style>\n",
       "<table border=\"1\" class=\"dataframe\">\n",
       "  <thead>\n",
       "    <tr style=\"text-align: right;\">\n",
       "      <th></th>\n",
       "      <th>quotation</th>\n",
       "      <th>speaker</th>\n",
       "      <th>qids</th>\n",
       "      <th>date</th>\n",
       "      <th>numOccurrences</th>\n",
       "      <th>probas</th>\n",
       "      <th>urls</th>\n",
       "      <th>movie</th>\n",
       "    </tr>\n",
       "  </thead>\n",
       "  <tbody>\n",
       "    <tr>\n",
       "      <th>3</th>\n",
       "      <td>I want to clarify my interview on the `Charlie...</td>\n",
       "      <td>George Lucas</td>\n",
       "      <td>[Q1507803, Q38222]</td>\n",
       "      <td>2015-12-31</td>\n",
       "      <td>7</td>\n",
       "      <td>[[George Lucas, 0.5327], [None, 0.4248], [Char...</td>\n",
       "      <td>[http://www.escapistmagazine.com/news/view/165...</td>\n",
       "      <td>Star Wars: Episode VII - The Force Awakens</td>\n",
       "    </tr>\n",
       "    <tr>\n",
       "      <th>22</th>\n",
       "      <td>When I started to go into Star Wars, [ my frie...</td>\n",
       "      <td>George Lucas</td>\n",
       "      <td>[Q1507803, Q38222]</td>\n",
       "      <td>2015-12-31</td>\n",
       "      <td>1</td>\n",
       "      <td>[[George Lucas, 0.7612], [Colin Trevorrow, 0.1...</td>\n",
       "      <td>[http://theindianrepublic.com/i-sold-star-wars...</td>\n",
       "      <td>Star Wars: Episode VII - The Force Awakens</td>\n",
       "    </tr>\n",
       "    <tr>\n",
       "      <th>40</th>\n",
       "      <td>After `Star Wars,' I went back to Warner Bros....</td>\n",
       "      <td>George Lucas</td>\n",
       "      <td>[Q1507803, Q38222]</td>\n",
       "      <td>2015-04-19</td>\n",
       "      <td>1</td>\n",
       "      <td>[[George Lucas, 0.6949], [None, 0.1538], [Step...</td>\n",
       "      <td>[http://sfgate.com/technology/businessinsider/...</td>\n",
       "      <td>Star Wars: Episode VII - The Force Awakens</td>\n",
       "    </tr>\n",
       "    <tr>\n",
       "      <th>67</th>\n",
       "      <td>a Star Wars for girls</td>\n",
       "      <td>George Lucas</td>\n",
       "      <td>[Q1507803, Q38222]</td>\n",
       "      <td>2015-01-27</td>\n",
       "      <td>1</td>\n",
       "      <td>[[None, 0.5037], [George Lucas, 0.4963]]</td>\n",
       "      <td>[http://www.comicmix.com/2015/01/27/box-office...</td>\n",
       "      <td>Star Wars: Episode VII - The Force Awakens</td>\n",
       "    </tr>\n",
       "    <tr>\n",
       "      <th>83</th>\n",
       "      <td>We became friends and then we started dating a...</td>\n",
       "      <td>George Lucas</td>\n",
       "      <td>[Q1507803, Q38222]</td>\n",
       "      <td>2015-12-19</td>\n",
       "      <td>2</td>\n",
       "      <td>[[George Lucas, 0.5894], [None, 0.4106]]</td>\n",
       "      <td>[http://feeds.businessinsider.com.au/~/1290472...</td>\n",
       "      <td>Star Wars: Episode VII - The Force Awakens</td>\n",
       "    </tr>\n",
       "  </tbody>\n",
       "</table>\n",
       "</div>"
      ],
      "text/plain": [
       "                                            quotation       speaker  \\\n",
       "3   I want to clarify my interview on the `Charlie...  George Lucas   \n",
       "22  When I started to go into Star Wars, [ my frie...  George Lucas   \n",
       "40  After `Star Wars,' I went back to Warner Bros....  George Lucas   \n",
       "67                              a Star Wars for girls  George Lucas   \n",
       "83  We became friends and then we started dating a...  George Lucas   \n",
       "\n",
       "                  qids        date  numOccurrences  \\\n",
       "3   [Q1507803, Q38222]  2015-12-31               7   \n",
       "22  [Q1507803, Q38222]  2015-12-31               1   \n",
       "40  [Q1507803, Q38222]  2015-04-19               1   \n",
       "67  [Q1507803, Q38222]  2015-01-27               1   \n",
       "83  [Q1507803, Q38222]  2015-12-19               2   \n",
       "\n",
       "                                               probas  \\\n",
       "3   [[George Lucas, 0.5327], [None, 0.4248], [Char...   \n",
       "22  [[George Lucas, 0.7612], [Colin Trevorrow, 0.1...   \n",
       "40  [[George Lucas, 0.6949], [None, 0.1538], [Step...   \n",
       "67           [[None, 0.5037], [George Lucas, 0.4963]]   \n",
       "83           [[George Lucas, 0.5894], [None, 0.4106]]   \n",
       "\n",
       "                                                 urls  \\\n",
       "3   [http://www.escapistmagazine.com/news/view/165...   \n",
       "22  [http://theindianrepublic.com/i-sold-star-wars...   \n",
       "40  [http://sfgate.com/technology/businessinsider/...   \n",
       "67  [http://www.comicmix.com/2015/01/27/box-office...   \n",
       "83  [http://feeds.businessinsider.com.au/~/1290472...   \n",
       "\n",
       "                                         movie  \n",
       "3   Star Wars: Episode VII - The Force Awakens  \n",
       "22  Star Wars: Episode VII - The Force Awakens  \n",
       "40  Star Wars: Episode VII - The Force Awakens  \n",
       "67  Star Wars: Episode VII - The Force Awakens  \n",
       "83  Star Wars: Episode VII - The Force Awakens  "
      ]
     },
     "execution_count": 22,
     "metadata": {},
     "output_type": "execute_result"
    }
   ],
   "source": [
    "# Calling the function\n",
    "set_qID('George Lucas', df)\n",
    "\n",
    "df[df.speaker == 'George Lucas'].head()"
   ]
  },
  {
   "cell_type": "markdown",
   "id": "1fcf4170",
   "metadata": {},
   "source": [
    "We want to apply this functionality to the full dataframe (meaning all individual speakers) for which reason we extract the individual speaker names and how frequently quoted they are. We calculate the number of unique quotes for each speaker even though we find it more relevant to do outlier detection based on total number of occurences (`numOccurrences` attribute). This will be done later in the pipeline."
   ]
  },
  {
   "cell_type": "code",
   "execution_count": 23,
   "id": "efe47663",
   "metadata": {},
   "outputs": [
    {
     "name": "stdout",
     "output_type": "stream",
     "text": [
      "Top 10 quoted speakers (w/o numOccurences): \n"
     ]
    },
    {
     "data": {
      "text/plain": [
       "[('None', '10121'),\n",
       " ('Kevin Feige', '1500'),\n",
       " ('Captain Marvel', '939'),\n",
       " ('Tom Holland', '676'),\n",
       " ('Joe Russo', '647'),\n",
       " ('J.J. Abrams', '620'),\n",
       " ('Bob Iger', '596'),\n",
       " ('Kathleen Kennedy', '562'),\n",
       " ('Rian Johnson', '557'),\n",
       " ('Patty Jenkins', '503')]"
      ]
     },
     "execution_count": 23,
     "metadata": {},
     "output_type": "execute_result"
    }
   ],
   "source": [
    "speakers, freq_unsorted = np.unique(df.speaker, return_counts=True)\n",
    "freq, speakers = np.array(list(zip(*sorted(zip(freq_unsorted, speakers), reverse=True))))\n",
    "\n",
    "print(\"Top 10 quoted speakers (w/o numOccurences): \")\n",
    "list(zip(speakers[:10], freq[:10]))"
   ]
  },
  {
   "cell_type": "code",
   "execution_count": 24,
   "id": "f40d7a18",
   "metadata": {},
   "outputs": [
    {
     "data": {
      "application/vnd.jupyter.widget-view+json": {
       "model_id": "12992bc5b6534d269a3f0baf38016dea",
       "version_major": 2,
       "version_minor": 0
      },
      "text/plain": [
       "  0%|          | 0/14692 [00:00<?, ?it/s]"
      ]
     },
     "metadata": {},
     "output_type": "display_data"
    }
   ],
   "source": [
    "for speaker in tqdm(speakers):\n",
    "    set_qID(speaker, df=df)"
   ]
  },
  {
   "cell_type": "markdown",
   "id": "88e672f0",
   "metadata": {},
   "source": [
    "Now, the only way there would be qID's of the name '\\<UNK>' would be if the assignment of the predicted speaker is less than 15% percent certain (see `proba_threshhold` in the removal of None-type speakers) and if that same speaker does not have a qID throughout all of the dataframe. In this case we believe there is evidence for deleting the rows."
   ]
  },
  {
   "cell_type": "code",
   "execution_count": 25,
   "id": "2ec8546b",
   "metadata": {},
   "outputs": [
    {
     "data": {
      "application/vnd.jupyter.widget-view+json": {
       "model_id": "be6d24e8dd0c477ab42606613ae9188b",
       "version_major": 2,
       "version_minor": 0
      },
      "text/plain": [
       "  0%|          | 0/67736 [00:00<?, ?it/s]"
      ]
     },
     "metadata": {},
     "output_type": "display_data"
    }
   ],
   "source": [
    "UNK_idxs = np.array([], dtype=int)\n",
    "for i, qID in enumerate(tqdm(df.qids)):\n",
    "    if '<UNK>' in qID:\n",
    "        UNK_idxs = np.append(UNK_idxs, i)"
   ]
  },
  {
   "cell_type": "code",
   "execution_count": 26,
   "id": "ca06a959",
   "metadata": {},
   "outputs": [
    {
     "data": {
      "text/plain": [
       "(53503, 8)"
      ]
     },
     "execution_count": 26,
     "metadata": {},
     "output_type": "execute_result"
    }
   ],
   "source": [
    "df = df.drop(UNK_idxs)\n",
    "df.index = np.arange(len(df))\n",
    "df.shape"
   ]
  },
  {
   "cell_type": "markdown",
   "id": "de377691",
   "metadata": {},
   "source": [
    "The following function then concatenates the qID's of speakers if they have more than one qID in common, such that we get exactly the basis for a shared ID if two speakers (like Donald Trump and President Trump) are in fact the same."
   ]
  },
  {
   "cell_type": "code",
   "execution_count": 27,
   "id": "ceb455a6",
   "metadata": {},
   "outputs": [],
   "source": [
    "def mergeQuoteIDs(df):\n",
    "    qID_dict = defaultdict(dict)\n",
    "    print(\"Creating qID dictionary...\")\n",
    "    for document_number, qid_list in enumerate(tqdm(df.qids)):\n",
    "        for qid in qid_list:\n",
    "            if qid in qID_dict:\n",
    "                qID_dict[qid].append(document_number)\n",
    "            else:\n",
    "                qID_dict[qid] = [document_number]\n",
    "    \n",
    "    print(\"Gathering qIDs across documents...\")\n",
    "    new_column = {}\n",
    "    for document_number, qid_list in enumerate(tqdm(df.qids)):\n",
    "        document_IDs = []\n",
    "        for qid in qid_list:\n",
    "            document_IDs.append(qID_dict[qid])\n",
    "\n",
    "        related_docs = set(np.concatenate(document_IDs))\n",
    "        new_qids = list(set(np.concatenate(list(df.qids[related_docs]))))\n",
    "\n",
    "        new_column[document_number] = new_qids\n",
    "\n",
    "    df['qids'] = pd.Series(new_column)"
   ]
  },
  {
   "cell_type": "code",
   "execution_count": 28,
   "id": "b2c32215",
   "metadata": {},
   "outputs": [
    {
     "name": "stdout",
     "output_type": "stream",
     "text": [
      "Creating qID dictionary...\n"
     ]
    },
    {
     "data": {
      "application/vnd.jupyter.widget-view+json": {
       "model_id": "0a81e0684191416593c39cb0f2a8de30",
       "version_major": 2,
       "version_minor": 0
      },
      "text/plain": [
       "  0%|          | 0/53503 [00:00<?, ?it/s]"
      ]
     },
     "metadata": {},
     "output_type": "display_data"
    },
    {
     "name": "stdout",
     "output_type": "stream",
     "text": [
      "Gathering qIDs across documents...\n"
     ]
    },
    {
     "data": {
      "application/vnd.jupyter.widget-view+json": {
       "model_id": "cea9f3d6f02641f99518886ef60d8c7a",
       "version_major": 2,
       "version_minor": 0
      },
      "text/plain": [
       "  0%|          | 0/53503 [00:00<?, ?it/s]"
      ]
     },
     "metadata": {},
     "output_type": "display_data"
    },
    {
     "data": {
      "text/html": [
       "<div>\n",
       "<style scoped>\n",
       "    .dataframe tbody tr th:only-of-type {\n",
       "        vertical-align: middle;\n",
       "    }\n",
       "\n",
       "    .dataframe tbody tr th {\n",
       "        vertical-align: top;\n",
       "    }\n",
       "\n",
       "    .dataframe thead th {\n",
       "        text-align: right;\n",
       "    }\n",
       "</style>\n",
       "<table border=\"1\" class=\"dataframe\">\n",
       "  <thead>\n",
       "    <tr style=\"text-align: right;\">\n",
       "      <th></th>\n",
       "      <th>quotation</th>\n",
       "      <th>speaker</th>\n",
       "      <th>qids</th>\n",
       "      <th>date</th>\n",
       "      <th>numOccurrences</th>\n",
       "      <th>probas</th>\n",
       "      <th>urls</th>\n",
       "      <th>movie</th>\n",
       "    </tr>\n",
       "  </thead>\n",
       "  <tbody>\n",
       "    <tr>\n",
       "      <th>0</th>\n",
       "      <td>Is Ferguson like Mockingjay?</td>\n",
       "      <td>Laci Green</td>\n",
       "      <td>[Q16843606]</td>\n",
       "      <td>2015-11-15</td>\n",
       "      <td>1</td>\n",
       "      <td>[[Laci Green, 0.9013], [None, 0.0987]]</td>\n",
       "      <td>[http://www.dailykos.com/story/2015/11/15/1450...</td>\n",
       "      <td>The Hunger Games: Mockingjay - Part 2</td>\n",
       "    </tr>\n",
       "    <tr>\n",
       "      <th>1</th>\n",
       "      <td>I want to clarify my interview on the `Charlie...</td>\n",
       "      <td>George Lucas</td>\n",
       "      <td>[Q1507803, Q38222]</td>\n",
       "      <td>2015-12-31</td>\n",
       "      <td>7</td>\n",
       "      <td>[[George Lucas, 0.5327], [None, 0.4248], [Char...</td>\n",
       "      <td>[http://www.escapistmagazine.com/news/view/165...</td>\n",
       "      <td>Star Wars: Episode VII - The Force Awakens</td>\n",
       "    </tr>\n",
       "    <tr>\n",
       "      <th>2</th>\n",
       "      <td>Is Daredevil joining the Avengers for Infinity...</td>\n",
       "      <td>Scott Davis</td>\n",
       "      <td>[Q16195496, Q18202175, Q7436225, Q7436228, Q12...</td>\n",
       "      <td>2015-12-10</td>\n",
       "      <td>2</td>\n",
       "      <td>[[None, 0.4806], [Scott Davis, 0.4017], [Antho...</td>\n",
       "      <td>[http://www.flickeringmyth.com/2015/12/is-dare...</td>\n",
       "      <td>Avengers: Age of Ultron</td>\n",
       "    </tr>\n",
       "    <tr>\n",
       "      <th>3</th>\n",
       "      <td>They were saying, `Well, since when has Star W...</td>\n",
       "      <td>J.J. Abrams</td>\n",
       "      <td>[Q188137]</td>\n",
       "      <td>2015-12-21</td>\n",
       "      <td>1</td>\n",
       "      <td>[[J.J. Abrams, 0.5868], [None, 0.2584], [Lupit...</td>\n",
       "      <td>[http://rssfeeds.usatoday.com/~/129385923/0/us...</td>\n",
       "      <td>Star Wars: Episode VII - The Force Awakens</td>\n",
       "    </tr>\n",
       "    <tr>\n",
       "      <th>4</th>\n",
       "      <td>You meet new characters and you learn about Ha...</td>\n",
       "      <td>Kevin Feige</td>\n",
       "      <td>[Q515161]</td>\n",
       "      <td>2015-05-06</td>\n",
       "      <td>1</td>\n",
       "      <td>[[Kevin Feige, 0.9108], [None, 0.0782], [Scott...</td>\n",
       "      <td>[http://www.digitaltrends.com/movies/ant-man-m...</td>\n",
       "      <td>Avengers: Age of Ultron</td>\n",
       "    </tr>\n",
       "  </tbody>\n",
       "</table>\n",
       "</div>"
      ],
      "text/plain": [
       "                                           quotation       speaker  \\\n",
       "0                       Is Ferguson like Mockingjay?    Laci Green   \n",
       "1  I want to clarify my interview on the `Charlie...  George Lucas   \n",
       "2  Is Daredevil joining the Avengers for Infinity...   Scott Davis   \n",
       "3  They were saying, `Well, since when has Star W...   J.J. Abrams   \n",
       "4  You meet new characters and you learn about Ha...   Kevin Feige   \n",
       "\n",
       "                                                qids        date  \\\n",
       "0                                        [Q16843606]  2015-11-15   \n",
       "1                                 [Q1507803, Q38222]  2015-12-31   \n",
       "2  [Q16195496, Q18202175, Q7436225, Q7436228, Q12...  2015-12-10   \n",
       "3                                          [Q188137]  2015-12-21   \n",
       "4                                          [Q515161]  2015-05-06   \n",
       "\n",
       "   numOccurrences                                             probas  \\\n",
       "0               1             [[Laci Green, 0.9013], [None, 0.0987]]   \n",
       "1               7  [[George Lucas, 0.5327], [None, 0.4248], [Char...   \n",
       "2               2  [[None, 0.4806], [Scott Davis, 0.4017], [Antho...   \n",
       "3               1  [[J.J. Abrams, 0.5868], [None, 0.2584], [Lupit...   \n",
       "4               1  [[Kevin Feige, 0.9108], [None, 0.0782], [Scott...   \n",
       "\n",
       "                                                urls  \\\n",
       "0  [http://www.dailykos.com/story/2015/11/15/1450...   \n",
       "1  [http://www.escapistmagazine.com/news/view/165...   \n",
       "2  [http://www.flickeringmyth.com/2015/12/is-dare...   \n",
       "3  [http://rssfeeds.usatoday.com/~/129385923/0/us...   \n",
       "4  [http://www.digitaltrends.com/movies/ant-man-m...   \n",
       "\n",
       "                                        movie  \n",
       "0       The Hunger Games: Mockingjay - Part 2  \n",
       "1  Star Wars: Episode VII - The Force Awakens  \n",
       "2                     Avengers: Age of Ultron  \n",
       "3  Star Wars: Episode VII - The Force Awakens  \n",
       "4                     Avengers: Age of Ultron  "
      ]
     },
     "execution_count": 28,
     "metadata": {},
     "output_type": "execute_result"
    }
   ],
   "source": [
    "mergeQuoteIDs(df)\n",
    "df.head()"
   ]
  },
  {
   "cell_type": "markdown",
   "id": "30416f0d",
   "metadata": {},
   "source": [
    "And then we create a new ID for each unique list of qID's."
   ]
  },
  {
   "cell_type": "code",
   "execution_count": 29,
   "id": "5e4ea0e7",
   "metadata": {},
   "outputs": [],
   "source": [
    "def newID(df):\n",
    "    unique_IDlists = np.unique(df['qids'])\n",
    "    newIDs = []\n",
    "    \n",
    "    for row_qIDlist in tqdm(df.qids):\n",
    "        for newID, unique_list in enumerate(unique_IDlists):\n",
    "            if unique_list == row_qIDlist:\n",
    "                newIDs.append(newID)\n",
    "    df['shared_ID'] = newIDs\n",
    "    \n",
    "    return newIDs"
   ]
  },
  {
   "cell_type": "code",
   "execution_count": 30,
   "id": "81b71191",
   "metadata": {},
   "outputs": [
    {
     "data": {
      "application/vnd.jupyter.widget-view+json": {
       "model_id": "cf16931a3daf4c5899f549b3098b06fb",
       "version_major": 2,
       "version_minor": 0
      },
      "text/plain": [
       "  0%|          | 0/53503 [00:00<?, ?it/s]"
      ]
     },
     "metadata": {},
     "output_type": "display_data"
    }
   ],
   "source": [
    "newIDs = newID(df)"
   ]
  },
  {
   "cell_type": "code",
   "execution_count": 31,
   "id": "740c6582",
   "metadata": {},
   "outputs": [
    {
     "data": {
      "text/html": [
       "<div>\n",
       "<style scoped>\n",
       "    .dataframe tbody tr th:only-of-type {\n",
       "        vertical-align: middle;\n",
       "    }\n",
       "\n",
       "    .dataframe tbody tr th {\n",
       "        vertical-align: top;\n",
       "    }\n",
       "\n",
       "    .dataframe thead th {\n",
       "        text-align: right;\n",
       "    }\n",
       "</style>\n",
       "<table border=\"1\" class=\"dataframe\">\n",
       "  <thead>\n",
       "    <tr style=\"text-align: right;\">\n",
       "      <th></th>\n",
       "      <th>quotation</th>\n",
       "      <th>speaker</th>\n",
       "      <th>qids</th>\n",
       "      <th>date</th>\n",
       "      <th>numOccurrences</th>\n",
       "      <th>probas</th>\n",
       "      <th>urls</th>\n",
       "      <th>movie</th>\n",
       "      <th>shared_ID</th>\n",
       "    </tr>\n",
       "  </thead>\n",
       "  <tbody>\n",
       "    <tr>\n",
       "      <th>0</th>\n",
       "      <td>Is Ferguson like Mockingjay?</td>\n",
       "      <td>Laci Green</td>\n",
       "      <td>[Q16843606]</td>\n",
       "      <td>2015-11-15</td>\n",
       "      <td>1</td>\n",
       "      <td>[[Laci Green, 0.9013], [None, 0.0987]]</td>\n",
       "      <td>[http://www.dailykos.com/story/2015/11/15/1450...</td>\n",
       "      <td>The Hunger Games: Mockingjay - Part 2</td>\n",
       "      <td>1412</td>\n",
       "    </tr>\n",
       "    <tr>\n",
       "      <th>1</th>\n",
       "      <td>I want to clarify my interview on the `Charlie...</td>\n",
       "      <td>George Lucas</td>\n",
       "      <td>[Q1507803, Q38222]</td>\n",
       "      <td>2015-12-31</td>\n",
       "      <td>7</td>\n",
       "      <td>[[George Lucas, 0.5327], [None, 0.4248], [Char...</td>\n",
       "      <td>[http://www.escapistmagazine.com/news/view/165...</td>\n",
       "      <td>Star Wars: Episode VII - The Force Awakens</td>\n",
       "      <td>700</td>\n",
       "    </tr>\n",
       "    <tr>\n",
       "      <th>2</th>\n",
       "      <td>Is Daredevil joining the Avengers for Infinity...</td>\n",
       "      <td>Scott Davis</td>\n",
       "      <td>[Q16195496, Q18202175, Q7436225, Q7436228, Q12...</td>\n",
       "      <td>2015-12-10</td>\n",
       "      <td>2</td>\n",
       "      <td>[[None, 0.4806], [Scott Davis, 0.4017], [Antho...</td>\n",
       "      <td>[http://www.flickeringmyth.com/2015/12/is-dare...</td>\n",
       "      <td>Avengers: Age of Ultron</td>\n",
       "      <td>999</td>\n",
       "    </tr>\n",
       "    <tr>\n",
       "      <th>3</th>\n",
       "      <td>They were saying, `Well, since when has Star W...</td>\n",
       "      <td>J.J. Abrams</td>\n",
       "      <td>[Q188137]</td>\n",
       "      <td>2015-12-21</td>\n",
       "      <td>1</td>\n",
       "      <td>[[J.J. Abrams, 0.5868], [None, 0.2584], [Lupit...</td>\n",
       "      <td>[http://rssfeeds.usatoday.com/~/129385923/0/us...</td>\n",
       "      <td>Star Wars: Episode VII - The Force Awakens</td>\n",
       "      <td>1926</td>\n",
       "    </tr>\n",
       "    <tr>\n",
       "      <th>4</th>\n",
       "      <td>You meet new characters and you learn about Ha...</td>\n",
       "      <td>Kevin Feige</td>\n",
       "      <td>[Q515161]</td>\n",
       "      <td>2015-05-06</td>\n",
       "      <td>1</td>\n",
       "      <td>[[Kevin Feige, 0.9108], [None, 0.0782], [Scott...</td>\n",
       "      <td>[http://www.digitaltrends.com/movies/ant-man-m...</td>\n",
       "      <td>Avengers: Age of Ultron</td>\n",
       "      <td>7091</td>\n",
       "    </tr>\n",
       "  </tbody>\n",
       "</table>\n",
       "</div>"
      ],
      "text/plain": [
       "                                           quotation       speaker  \\\n",
       "0                       Is Ferguson like Mockingjay?    Laci Green   \n",
       "1  I want to clarify my interview on the `Charlie...  George Lucas   \n",
       "2  Is Daredevil joining the Avengers for Infinity...   Scott Davis   \n",
       "3  They were saying, `Well, since when has Star W...   J.J. Abrams   \n",
       "4  You meet new characters and you learn about Ha...   Kevin Feige   \n",
       "\n",
       "                                                qids        date  \\\n",
       "0                                        [Q16843606]  2015-11-15   \n",
       "1                                 [Q1507803, Q38222]  2015-12-31   \n",
       "2  [Q16195496, Q18202175, Q7436225, Q7436228, Q12...  2015-12-10   \n",
       "3                                          [Q188137]  2015-12-21   \n",
       "4                                          [Q515161]  2015-05-06   \n",
       "\n",
       "   numOccurrences                                             probas  \\\n",
       "0               1             [[Laci Green, 0.9013], [None, 0.0987]]   \n",
       "1               7  [[George Lucas, 0.5327], [None, 0.4248], [Char...   \n",
       "2               2  [[None, 0.4806], [Scott Davis, 0.4017], [Antho...   \n",
       "3               1  [[J.J. Abrams, 0.5868], [None, 0.2584], [Lupit...   \n",
       "4               1  [[Kevin Feige, 0.9108], [None, 0.0782], [Scott...   \n",
       "\n",
       "                                                urls  \\\n",
       "0  [http://www.dailykos.com/story/2015/11/15/1450...   \n",
       "1  [http://www.escapistmagazine.com/news/view/165...   \n",
       "2  [http://www.flickeringmyth.com/2015/12/is-dare...   \n",
       "3  [http://rssfeeds.usatoday.com/~/129385923/0/us...   \n",
       "4  [http://www.digitaltrends.com/movies/ant-man-m...   \n",
       "\n",
       "                                        movie  shared_ID  \n",
       "0       The Hunger Games: Mockingjay - Part 2       1412  \n",
       "1  Star Wars: Episode VII - The Force Awakens        700  \n",
       "2                     Avengers: Age of Ultron        999  \n",
       "3  Star Wars: Episode VII - The Force Awakens       1926  \n",
       "4                     Avengers: Age of Ultron       7091  "
      ]
     },
     "execution_count": 31,
     "metadata": {},
     "output_type": "execute_result"
    }
   ],
   "source": [
    "df.head()"
   ]
  },
  {
   "cell_type": "markdown",
   "id": "ca54a944",
   "metadata": {},
   "source": [
    "We save the Quotebank data frame before investigating outliers - for a reference."
   ]
  },
  {
   "cell_type": "code",
   "execution_count": 38,
   "id": "15d7081c",
   "metadata": {},
   "outputs": [
    {
     "name": "stdout",
     "output_type": "stream",
     "text": [
      "Dataframe was pickled and saved to directory:\n",
      "C:\\Users\\Albert Kjøller\\Documents\\EPFL\\Courses\\CS-401_ADA\\ada-2021-project-f-jab\\exploratory\\data \n",
      "\n",
      "Shape of dataframe: (53503, 9)\n"
     ]
    }
   ],
   "source": [
    "# Save loaded DataFrame as pickle for faster loading time in the future\n",
    "filename = f\"Quotebank_processed\"\n",
    "df.to_pickle(rf\"{data_dir}{os.sep}{filename}.pkl\")\n",
    "\n",
    "print(f\"Dataframe was pickled and saved to directory:\\n{data_dir} \\n\")\n",
    "print(f\"Shape of dataframe: {df.shape}\")"
   ]
  },
  {
   "cell_type": "markdown",
   "id": "b4d91134",
   "metadata": {},
   "source": [
    "### Investigating the new ID's"
   ]
  },
  {
   "cell_type": "markdown",
   "id": "cbf4bb84",
   "metadata": {},
   "source": [
    "We will now investigate how different ID's (the shared one) are distributed across quotes. We calculate the frequency with which ID is associated, meaning the total number of occurences for each ID."
   ]
  },
  {
   "cell_type": "code",
   "execution_count": 32,
   "id": "3fdd2a5d",
   "metadata": {},
   "outputs": [
    {
     "name": "stdout",
     "output_type": "stream",
     "text": [
      "Number of unique IDs: 10952\n"
     ]
    }
   ],
   "source": [
    "print(f\"Number of unique IDs: {np.max(df.shared_ID)}\")"
   ]
  },
  {
   "cell_type": "code",
   "execution_count": 33,
   "id": "6dc932f1",
   "metadata": {},
   "outputs": [
    {
     "data": {
      "application/vnd.jupyter.widget-view+json": {
       "model_id": "2bd166abbc8f4db8a540d26c918d0df6",
       "version_major": 2,
       "version_minor": 0
      },
      "text/plain": [
       "  0%|          | 0/53503 [00:00<?, ?it/s]"
      ]
     },
     "metadata": {},
     "output_type": "display_data"
    }
   ],
   "source": [
    "freq_occurences = defaultdict(dict)\n",
    "\n",
    "for ID in tqdm(newIDs):\n",
    "    freq_occurences[ID] = sum(df[df['shared_ID'] == ID].numOccurrences)"
   ]
  },
  {
   "cell_type": "code",
   "execution_count": 34,
   "id": "f0554dc5",
   "metadata": {},
   "outputs": [],
   "source": [
    "freq_list = [(ID, count) for ID, count in sorted(freq_occurences.items(), key=lambda item: item[1], reverse=True)]\n",
    "ID, freq = list(zip(*freq_list))\n",
    "ID, freq = np.array(ID), np.array(freq)"
   ]
  },
  {
   "cell_type": "markdown",
   "id": "b54771fe",
   "metadata": {},
   "source": [
    "Using a boxplot we also see that these ones seem to be full of outliers and by plotting the amount of occurrences with the speakers sorted in a descending manner, we see that the distribution looks like a strong power law."
   ]
  },
  {
   "cell_type": "code",
   "execution_count": 35,
   "id": "ae8957dc",
   "metadata": {},
   "outputs": [
    {
     "data": {
      "image/png": "[encoded data removed]",
      "text/plain": [
       "<Figure size 432x288 with 1 Axes>"
      ]
     },
     "metadata": {
      "needs_background": "light"
     },
     "output_type": "display_data"
    }
   ],
   "source": [
    "plt.boxplot(freq)\n",
    "plt.ylabel(\"NumOccurrences\")\n",
    "plt.title('Number of Occurences of quotes')\n",
    "plt.show()"
   ]
  },
  {
   "cell_type": "code",
   "execution_count": 36,
   "id": "618b052b",
   "metadata": {},
   "outputs": [
    {
     "data": {
      "image/png": "[encoded data removed]",
      "text/plain": [
       "<Figure size 432x288 with 1 Axes>"
      ]
     },
     "metadata": {
      "needs_background": "light"
     },
     "output_type": "display_data"
    }
   ],
   "source": [
    "plt.plot(np.arange(len(freq)), freq)\n",
    "plt.xlabel(\"Ordered speakers (based on shared ID)\")\n",
    "plt.ylabel(\"NumOccurrences\")\n",
    "plt.title('Number of Quotes per speaker (ordered)')\n",
    "plt.show()"
   ]
  },
  {
   "cell_type": "markdown",
   "id": "d56ceb5f",
   "metadata": {},
   "source": [
    "We do not regard this as a problem, since it seems reasonable that this depicts the real-world scenario where some people - like star directors and movie stars - have more to say than actors that are not playing in movies at the current time but still gets quoted once in a while."
   ]
  },
  {
   "cell_type": "markdown",
   "id": "48b4b0f1",
   "metadata": {},
   "source": [
    "By looking at the shared_ID, we now see that the ambiguity of speakers is now reduced - which will be useful in further analyses - as the new `shared_ID` attribute captures identical speaker denoted by different names."
   ]
  },
  {
   "cell_type": "code",
   "execution_count": 37,
   "id": "2cc59e0c",
   "metadata": {},
   "outputs": [
    {
     "name": "stdout",
     "output_type": "stream",
     "text": [
      "Most quoted ID's: \n",
      " (shared_ID, total numOccurrences, associated speakers)\n",
      "\n",
      "1) (7836, 114892, ['David Caballero'])\n",
      "\n",
      "2) (3883, 22003, ['John Mackey ,'])\n",
      "\n",
      "3) (5342, 19381, ['Tom Cruise'])\n",
      "\n",
      "4) (7091, 6209, ['Kevin Feige', 'KEVIN FEIGE'])\n",
      "\n",
      "5) (3177, 4478, ['Kathleen Kennedy'])\n",
      "\n",
      "6) (3985, 3768, ['Donald Trump', 'President Trump', 'President Donald Trump', 'President Donald J. Trump'])\n",
      "\n",
      "7) (8869, 3305, ['Rian Johnson', 'RIAN JOHNSON'])\n",
      "\n",
      "8) (7521, 3293, ['Bob Iger', 'Robert Iger', 'Robert A. Iger', 'BOB IGER'])\n",
      "\n",
      "9) (1926, 3077, ['J.J. Abrams', 'JJ Abrams', 'J. J. Abrams', 'jj abrams', 'J J Abrams', 'J.J. ABRAMS'])\n",
      "\n",
      "10) (6074, 3011, ['Patty Jenkins', 'PATTY JENKINS', 'patty Jenkins'])\n",
      "\n",
      "11) (2091, 2869, ['Peter Parker'])\n",
      "\n",
      "12) (5633, 2566, ['Captain Marvel'])\n",
      "\n",
      "13) (1480, 2357, ['John Boyega'])\n",
      "\n",
      "14) (2308, 2350, ['Tom Holland', 'TOM HOLLAND'])\n",
      "\n",
      "15) (1454, 2311, ['Joe Russo', 'Joseph Russo', 'joe russo'])\n",
      "\n",
      "16) (2535, 2210, ['Mark Hamill', 'MARK HAMILL'])\n",
      "\n",
      "17) (10164, 2094, ['Ryan Reynolds'])\n",
      "\n",
      "18) (1835, 2010, ['Gal Gadot'])\n",
      "\n",
      "19) (5436, 1705, ['John Williams', 'JOHN WILLIAMS'])\n",
      "\n",
      "20) (700, 1678, ['George Lucas', 'GEORGE LUCAS'])\n",
      "\n",
      "21) (10635, 1493, ['War Machine'])\n",
      "\n",
      "22) (1262, 1419, ['Robert Downey', 'Robert Downey Jr. .', 'ROBERT DOWNEY JR. .'])\n",
      "\n",
      "23) (6989, 1359, ['Chris Lee'])\n",
      "\n",
      "24) (7670, 1272, ['Chris Hemsworth', 'chris hemsworth', 'CHRIS HEMSWORTH'])\n",
      "\n",
      "25) (7085, 1066, ['Colin Trevorrow'])\n",
      "\n"
     ]
    }
   ],
   "source": [
    "N = 25\n",
    "topN = []\n",
    "\n",
    "print(f\"Most quoted ID's: \\n (shared_ID, total numOccurrences, associated speakers)\\n\")\n",
    "for n in range(N):\n",
    "    \n",
    "    idxs = [i for (i, shared) in enumerate(df.shared_ID) if shared == ID[n]]\n",
    "    associated_speakers = df.iloc[idxs, :].speaker.unique()\n",
    "    \n",
    "    info_tuple = (ID[n], freq[n], list(associated_speakers))\n",
    "    topN.append(info_tuple)\n",
    "    \n",
    "    print(f\"{n+1}) {topN[n]}\\n\")"
   ]
  },
  {
   "cell_type": "markdown",
   "id": "fb4ab640",
   "metadata": {},
   "source": [
    "### (Optional) - All occurrences per speaker"
   ]
  },
  {
   "cell_type": "code",
   "execution_count": null,
   "id": "d1e5a6e7",
   "metadata": {},
   "outputs": [],
   "source": [
    "N = len(df)-1\n",
    "topN = []\n",
    "\n",
    "print(f\"Most quoted ID's: \\n (shared_ID, total numOccurrences, associated speakers)\\n\")\n",
    "for n in range(N):\n",
    "    \n",
    "    idxs = [i for (i, shared) in enumerate(df.shared_ID) if shared == ID[n]]\n",
    "    associated_speakers = df.iloc[idxs, :].speaker.unique()\n",
    "    \n",
    "    info_tuple = (ID[n], freq[n], list(associated_speakers))\n",
    "    topN.append(info_tuple)\n",
    "    \n",
    "    print(f\"{n+1}) {topN[n]}\\n\")"
   ]
  },
  {
   "cell_type": "code",
   "execution_count": null,
   "id": "23741e6a",
   "metadata": {},
   "outputs": [],
   "source": []
  }
 ],
 "metadata": {
  "kernelspec": {
   "display_name": "Python 3",
   "language": "python",
   "name": "python3"
  },
  "language_info": {
   "codemirror_mode": {
    "name": "ipython",
    "version": 3
   },
   "file_extension": ".py",
   "mimetype": "text/x-python",
   "name": "python",
   "nbconvert_exporter": "python",
   "pygments_lexer": "ipython3",
   "version": "3.8.8"
  }
 },
 "nbformat": 4,
 "nbformat_minor": 5
}
