{
 "cells": [
  {
   "cell_type": "markdown",
   "id": "45dd6ef4",
   "metadata": {},
   "source": [
    "# Box Office - dataframe \n",
    "\n",
    "This notebook is used for creating a dataframe from the webscraped box office `csv`-files. Finally, we save it as a pickle for easier access in other notebook."
   ]
  },
  {
   "cell_type": "code",
   "execution_count": 1,
   "id": "193ddfe3",
   "metadata": {},
   "outputs": [],
   "source": [
    "import pandas as pd\n",
    "import numpy as np\n",
    "import os\n",
    "import glob"
   ]
  },
  {
   "cell_type": "markdown",
   "id": "1d4cbb97",
   "metadata": {},
   "source": [
    "Load all `csv`-files of the chosen webscraped movies. Saved in a dictionary at first."
   ]
  },
  {
   "cell_type": "code",
   "execution_count": 2,
   "id": "6d6d82cb",
   "metadata": {},
   "outputs": [],
   "source": [
    "daily_dir = f\"data{os.sep}time_series_box_office_data{os.sep}\"\n",
    "\n",
    "path = os.getcwd()\n",
    "path = os.path.join(path, daily_dir)\n",
    "csv_files = glob.glob(os.path.join(path, '*.csv'))\n",
    "\n",
    "movie_names = np.empty(len(csv_files),dtype='<U100')\n",
    "daily = {}\n",
    "\n",
    "for i,f in enumerate(csv_files):\n",
    "    #Get the keys for our dictionary\n",
    "    movie_names[i] = f[f.find('office_data'):]\n",
    "    movie_names[i] = movie_names[i][movie_names[i].find(f'{os.sep}'):]\n",
    "    movie_names[i] = movie_names[i][:movie_names[i].find('___')]\n",
    "    movie_names[i] = movie_names[i].replace(f'{os.sep}','')\n",
    "    # read the csv file\n",
    "    daily[movie_names[i]] = pd.read_csv(f)\n",
    "    daily[movie_names[i]] = daily[movie_names[i]].drop(\"Unnamed: 0\", axis=1)\n"
   ]
  },
  {
   "cell_type": "markdown",
   "id": "0a771a43",
   "metadata": {},
   "source": [
    "We choose to restructure the dictionary as a single-indexed `pandas` dataframe to easily access `pandas` tools and for compatibility with the remaining data sets we use (like Quotebank and IMDb)."
   ]
  },
  {
   "cell_type": "code",
   "execution_count": 3,
   "id": "d33b7553",
   "metadata": {},
   "outputs": [
    {
     "data": {
      "text/html": [
       "<div>\n",
       "<style scoped>\n",
       "    .dataframe tbody tr th:only-of-type {\n",
       "        vertical-align: middle;\n",
       "    }\n",
       "\n",
       "    .dataframe tbody tr th {\n",
       "        vertical-align: top;\n",
       "    }\n",
       "\n",
       "    .dataframe thead th {\n",
       "        text-align: right;\n",
       "    }\n",
       "</style>\n",
       "<table border=\"1\" class=\"dataframe\">\n",
       "  <thead>\n",
       "    <tr style=\"text-align: right;\">\n",
       "      <th></th>\n",
       "      <th>movie</th>\n",
       "      <th>days</th>\n",
       "      <th>dow</th>\n",
       "      <th>rank</th>\n",
       "      <th>daily</th>\n",
       "      <th>theaters</th>\n",
       "      <th>special events</th>\n",
       "    </tr>\n",
       "  </thead>\n",
       "  <tbody>\n",
       "    <tr>\n",
       "      <th>0</th>\n",
       "      <td>Aladdin</td>\n",
       "      <td>2019-05-24</td>\n",
       "      <td>Friday</td>\n",
       "      <td>1</td>\n",
       "      <td>31358935.0</td>\n",
       "      <td>4476</td>\n",
       "      <td>NaN</td>\n",
       "    </tr>\n",
       "    <tr>\n",
       "      <th>1</th>\n",
       "      <td>Aladdin</td>\n",
       "      <td>2019-05-25</td>\n",
       "      <td>Saturday</td>\n",
       "      <td>1</td>\n",
       "      <td>30013295.0</td>\n",
       "      <td>4476</td>\n",
       "      <td>NaN</td>\n",
       "    </tr>\n",
       "    <tr>\n",
       "      <th>2</th>\n",
       "      <td>Aladdin</td>\n",
       "      <td>2019-05-26</td>\n",
       "      <td>Sunday</td>\n",
       "      <td>1</td>\n",
       "      <td>30128699.0</td>\n",
       "      <td>4476</td>\n",
       "      <td>NaN</td>\n",
       "    </tr>\n",
       "    <tr>\n",
       "      <th>3</th>\n",
       "      <td>Aladdin</td>\n",
       "      <td>2019-05-27</td>\n",
       "      <td>Monday</td>\n",
       "      <td>1</td>\n",
       "      <td>25305033.0</td>\n",
       "      <td>4476</td>\n",
       "      <td>Memorial Day</td>\n",
       "    </tr>\n",
       "    <tr>\n",
       "      <th>4</th>\n",
       "      <td>Aladdin</td>\n",
       "      <td>2019-05-28</td>\n",
       "      <td>Tuesday</td>\n",
       "      <td>1</td>\n",
       "      <td>12014982.0</td>\n",
       "      <td>4476</td>\n",
       "      <td>NaN</td>\n",
       "    </tr>\n",
       "    <tr>\n",
       "      <th>...</th>\n",
       "      <td>...</td>\n",
       "      <td>...</td>\n",
       "      <td>...</td>\n",
       "      <td>...</td>\n",
       "      <td>...</td>\n",
       "      <td>...</td>\n",
       "      <td>...</td>\n",
       "    </tr>\n",
       "    <tr>\n",
       "      <th>6956</th>\n",
       "      <td>Zootopia</td>\n",
       "      <td>2016-07-31</td>\n",
       "      <td>Sunday</td>\n",
       "      <td>43</td>\n",
       "      <td>2144.0</td>\n",
       "      <td>24</td>\n",
       "      <td>NaN</td>\n",
       "    </tr>\n",
       "    <tr>\n",
       "      <th>6957</th>\n",
       "      <td>Zootopia</td>\n",
       "      <td>2016-08-01</td>\n",
       "      <td>Monday</td>\n",
       "      <td>43</td>\n",
       "      <td>845.0</td>\n",
       "      <td>24</td>\n",
       "      <td>NaN</td>\n",
       "    </tr>\n",
       "    <tr>\n",
       "      <th>6958</th>\n",
       "      <td>Zootopia</td>\n",
       "      <td>2016-08-02</td>\n",
       "      <td>Tuesday</td>\n",
       "      <td>43</td>\n",
       "      <td>904.0</td>\n",
       "      <td>24</td>\n",
       "      <td>NaN</td>\n",
       "    </tr>\n",
       "    <tr>\n",
       "      <th>6959</th>\n",
       "      <td>Zootopia</td>\n",
       "      <td>2016-08-03</td>\n",
       "      <td>Wednesday</td>\n",
       "      <td>45</td>\n",
       "      <td>865.0</td>\n",
       "      <td>24</td>\n",
       "      <td>NaN</td>\n",
       "    </tr>\n",
       "    <tr>\n",
       "      <th>6960</th>\n",
       "      <td>Zootopia</td>\n",
       "      <td>2016-08-04</td>\n",
       "      <td>Thursday</td>\n",
       "      <td>43</td>\n",
       "      <td>1622.0</td>\n",
       "      <td>24</td>\n",
       "      <td>NaN</td>\n",
       "    </tr>\n",
       "  </tbody>\n",
       "</table>\n",
       "<p>6961 rows × 7 columns</p>\n",
       "</div>"
      ],
      "text/plain": [
       "         movie        days        dow  rank       daily  theaters  \\\n",
       "0      Aladdin  2019-05-24     Friday     1  31358935.0      4476   \n",
       "1      Aladdin  2019-05-25   Saturday     1  30013295.0      4476   \n",
       "2      Aladdin  2019-05-26     Sunday     1  30128699.0      4476   \n",
       "3      Aladdin  2019-05-27     Monday     1  25305033.0      4476   \n",
       "4      Aladdin  2019-05-28    Tuesday     1  12014982.0      4476   \n",
       "...        ...         ...        ...   ...         ...       ...   \n",
       "6956  Zootopia  2016-07-31     Sunday    43      2144.0        24   \n",
       "6957  Zootopia  2016-08-01     Monday    43       845.0        24   \n",
       "6958  Zootopia  2016-08-02    Tuesday    43       904.0        24   \n",
       "6959  Zootopia  2016-08-03  Wednesday    45       865.0        24   \n",
       "6960  Zootopia  2016-08-04   Thursday    43      1622.0        24   \n",
       "\n",
       "     special events  \n",
       "0               NaN  \n",
       "1               NaN  \n",
       "2               NaN  \n",
       "3      Memorial Day  \n",
       "4               NaN  \n",
       "...             ...  \n",
       "6956            NaN  \n",
       "6957            NaN  \n",
       "6958            NaN  \n",
       "6959            NaN  \n",
       "6960            NaN  \n",
       "\n",
       "[6961 rows x 7 columns]"
      ]
     },
     "execution_count": 3,
     "metadata": {},
     "output_type": "execute_result"
    }
   ],
   "source": [
    "# restructure dictionary into accesible single-indexed dataframe\n",
    "df_boxOffice = pd.concat(daily)\n",
    "df_boxOffice.index.names = ['movie', 'index']\n",
    "df_boxOffice = df_boxOffice.reset_index(['movie'])\n",
    "df_boxOffice.index = np.arange(len(df_boxOffice))\n",
    "df_boxOffice['movie'] = [(\" \").join(movie.split(\"_\")) for movie in df_boxOffice.movie] # compatibility with Quotebank and IMDb dataframes\n",
    "df_boxOffice"
   ]
  },
  {
   "cell_type": "markdown",
   "id": "3546875b",
   "metadata": {},
   "source": [
    "We are aware that the movie title in this dataframe is currently named from the naming of the `csv`-file it comes from. This is a problem as this title is not similar to the one used in the `movie` attribute in the Quotebank data set. See below that i.e. Star Wars does not include the sub-title of the Star Wars episode."
   ]
  },
  {
   "cell_type": "code",
   "execution_count": 4,
   "id": "233365fc",
   "metadata": {},
   "outputs": [
    {
     "data": {
      "text/plain": [
       "array(['Aladdin', 'Aquaman', 'Avengers Age of Ultron', 'Avengers Endgame',\n",
       "       'Avengers Infinity War', 'Bad Boys for Life',\n",
       "       'Batman v Superman Dawn of Justice', 'Beauty and the Beast',\n",
       "       'Birds of Prey', 'Black Panther', 'Bohemian Rhapsody',\n",
       "       'Captain America Civil War', 'Captain Marvel', 'Deadpool',\n",
       "       'Deadpool 2', 'Despicable Me 3', 'Dolittle',\n",
       "       'Fantastic Beasts The Crimes of Grindelwald',\n",
       "       'Fantastic Beasts and Where to Find Them', 'Finding Dory',\n",
       "       'Frozen II', 'Furious 7', 'Guardians of the Galaxy Vol. 2',\n",
       "       'Incredibles 2', 'Inside Out', 'Joker', 'Jumanji The Next Level',\n",
       "       'Jumanji Welcome to the Jungle', 'Jurassic World',\n",
       "       'Jurassic World Fallen Kingdom', 'Minions',\n",
       "       'Mission Impossible Fallout', 'Mission Impossible Rogue Nation',\n",
       "       'Onward', 'Rogue One A Star Wars Story', 'Sonic the Hedgehog',\n",
       "       'Spectre', 'Spider Man Far from Home', 'Spider Man Homecoming',\n",
       "       'Star Wars Episode IX', 'Star Wars Episode VII',\n",
       "       'Star Wars Episode VIII', 'Suicide Squad', 'Tenet',\n",
       "       'The Call of the Wild', 'The Fate of the Furious',\n",
       "       'The Hunger Games Mockingjay', 'The Invisible Man',\n",
       "       'The Jungle Book', 'The Lion King', 'The Martian',\n",
       "       'The Secret Life of Pets', 'Thor Ragnarok', 'Tolo Tolo',\n",
       "       'Toy Story 4', 'Venom', 'Wonder Woman', 'Zootopia'], dtype=object)"
      ]
     },
     "execution_count": 4,
     "metadata": {},
     "output_type": "execute_result"
    }
   ],
   "source": [
    "boxOffice_titles = df_boxOffice.movie.unique()\n",
    "boxOffice_titles.sort()\n",
    "boxOffice_titles"
   ]
  },
  {
   "cell_type": "markdown",
   "id": "7976e524",
   "metadata": {},
   "source": [
    "To solve this issue of different representation of movie files, we create an automatic mapping that simply compares a stripped version (of hyphans and colons) of the Quotebank titles to the box office titles. We see that this approach is succesfull for almost every title - but there are a few exceptions that we manually handle. We first load the Quotebank data to see how movies are named in that data frame. "
   ]
  },
  {
   "cell_type": "code",
   "execution_count": 5,
   "id": "1352aa47",
   "metadata": {},
   "outputs": [],
   "source": [
    "data_dir = os.getcwd() + os.sep + 'data'\n",
    "df_Quotebank = pd.read_pickle(rf\"{data_dir}{os.sep}Quotebank_full.pkl\") "
   ]
  },
  {
   "cell_type": "code",
   "execution_count": 6,
   "id": "f185be81",
   "metadata": {},
   "outputs": [
    {
     "data": {
      "text/plain": [
       "array(['Aladdin', 'Aquaman', 'Avengers: Age of Ultron',\n",
       "       'Avengers: Endgame', 'Avengers: Infinity War', 'Bad Boys for Life',\n",
       "       'Batman v Superman: Dawn of Justice', 'Beauty and the Beast',\n",
       "       'Birds of Prey: And the Fantabulous Emancipation of One Harley Quinn',\n",
       "       'Black Panther', 'Bohemian Rhapsody', 'Captain America: Civil War',\n",
       "       'Captain Marvel', 'Deadpool', 'Deadpool 2', 'Despicable Me 3',\n",
       "       'Dolittle', 'Fantastic Beasts and Where to Find Them',\n",
       "       'Fantastic Beasts: The Crimes of Grindelwald', 'Fast & Furious 7',\n",
       "       'Finding Dory', 'Frozen II', 'Guardians of the Galaxy Vol. 2',\n",
       "       'Incredibles 2', 'Inside Out', 'Joker', 'Jumanji: The Next Level',\n",
       "       'Jumanji: Welcome to the Jungle', 'Jurassic World',\n",
       "       'Jurassic World: Fallen Kingdom', 'Minions',\n",
       "       'Mission: Impossible - Fallout',\n",
       "       'Mission: Impossible - Rogue Nation', 'Onward', 'Rogue One',\n",
       "       'Sonic the Hedgehog', 'Spectre', 'Spider-Man: Far from Home',\n",
       "       'Spider-Man: Homecoming',\n",
       "       'Star Wars: Episode IX - The Rise of Skywalker',\n",
       "       'Star Wars: Episode VII - The Force Awakens',\n",
       "       'Star Wars: Episode VIII - The Last Jedi', 'Suicide Squad',\n",
       "       'Tenet', 'The Fate of the Furious',\n",
       "       'The Hunger Games: Mockingjay - Part 2', 'The Invisible Man',\n",
       "       'The Jungle Book', 'The Lion King', 'The Martian',\n",
       "       'The Secret Life of Pets', 'Thor: Ragnarok', 'Toy Story 4',\n",
       "       'Venom', 'Wonder Woman', 'Zootopia'], dtype=object)"
      ]
     },
     "execution_count": 6,
     "metadata": {},
     "output_type": "execute_result"
    }
   ],
   "source": [
    "quotebank_titles = df_Quotebank.movie.unique()\n",
    "quotebank_titles.sort()\n",
    "quotebank_titles"
   ]
  },
  {
   "cell_type": "markdown",
   "id": "ce9522b8",
   "metadata": {},
   "source": [
    "Then we do the automatic mapping and print the Quotebank titles that could not be mapped automatically."
   ]
  },
  {
   "cell_type": "code",
   "execution_count": 7,
   "id": "02efeb7e",
   "metadata": {},
   "outputs": [
    {
     "name": "stdout",
     "output_type": "stream",
     "text": [
      "Failed to map 7 movie titles. They were:\n",
      "\n",
      "Quotebank title: Birds of Prey: And the Fantabulous Emancipation of One Harley Quinn\n",
      "Quotebank title: Fast & Furious 7\n",
      "Quotebank title: Mission: Impossible - Fallout\n",
      "Quotebank title: Mission: Impossible - Rogue Nation\n",
      "Quotebank title: Rogue One\n",
      "Quotebank title: Spider-Man: Far from Home\n",
      "Quotebank title: Spider-Man: Homecoming\n"
     ]
    }
   ],
   "source": [
    "#This cell will get the titles and more to be examined (tm2e) by comparing the titles in the quotebank data and the daily gross data.\n",
    "#Furthermore, it will also keep both the title versions. The daily as keys and the quotebank as items.\n",
    "\n",
    "title_mapping = {}\n",
    "exceptions = []\n",
    "\n",
    "for Quotebank_title in quotebank_titles:\n",
    "    Quotebank_edit= Quotebank_title.replace(':','')\n",
    "    if '-' in Quotebank_edit:\n",
    "        Quotebank_edit = Quotebank_edit[:Quotebank_edit.find(' - ')]\n",
    "        \n",
    "    if np.any(boxOffice_titles == Quotebank_edit):\n",
    "        for boxOffice_title in boxOffice_titles:\n",
    "            if Quotebank_edit == boxOffice_title:\n",
    "                title_mapping[Quotebank_edit] = Quotebank_title\n",
    "    else:\n",
    "        exceptions.append(Quotebank_title)\n",
    "        \n",
    "print(f\"Failed to map {len(exceptions)} movie titles. They were:\\n\")\n",
    "for exception in exceptions:\n",
    "    print(f\"Quotebank title: {exception}\")"
   ]
  },
  {
   "cell_type": "code",
   "execution_count": 8,
   "id": "f76c06e5",
   "metadata": {},
   "outputs": [
    {
     "data": {
      "text/plain": [
       "array(['Aladdin', 'Aquaman', 'Avengers Age of Ultron', 'Avengers Endgame',\n",
       "       'Avengers Infinity War', 'Bad Boys for Life',\n",
       "       'Batman v Superman Dawn of Justice', 'Beauty and the Beast',\n",
       "       'Birds of Prey', 'Black Panther', 'Bohemian Rhapsody',\n",
       "       'Captain America Civil War', 'Captain Marvel', 'Deadpool',\n",
       "       'Deadpool 2', 'Despicable Me 3', 'Dolittle',\n",
       "       'Fantastic Beasts The Crimes of Grindelwald',\n",
       "       'Fantastic Beasts and Where to Find Them', 'Finding Dory',\n",
       "       'Frozen II', 'Furious 7', 'Guardians of the Galaxy Vol. 2',\n",
       "       'Incredibles 2', 'Inside Out', 'Joker', 'Jumanji The Next Level',\n",
       "       'Jumanji Welcome to the Jungle', 'Jurassic World',\n",
       "       'Jurassic World Fallen Kingdom', 'Minions',\n",
       "       'Mission Impossible Fallout', 'Mission Impossible Rogue Nation',\n",
       "       'Onward', 'Rogue One A Star Wars Story', 'Sonic the Hedgehog',\n",
       "       'Spectre', 'Spider Man Far from Home', 'Spider Man Homecoming',\n",
       "       'Star Wars Episode IX', 'Star Wars Episode VII',\n",
       "       'Star Wars Episode VIII', 'Suicide Squad', 'Tenet',\n",
       "       'The Call of the Wild', 'The Fate of the Furious',\n",
       "       'The Hunger Games Mockingjay', 'The Invisible Man',\n",
       "       'The Jungle Book', 'The Lion King', 'The Martian',\n",
       "       'The Secret Life of Pets', 'Thor Ragnarok', 'Tolo Tolo',\n",
       "       'Toy Story 4', 'Venom', 'Wonder Woman', 'Zootopia'], dtype=object)"
      ]
     },
     "execution_count": 8,
     "metadata": {},
     "output_type": "execute_result"
    }
   ],
   "source": [
    "boxOffice_titles"
   ]
  },
  {
   "cell_type": "markdown",
   "id": "67ac0881",
   "metadata": {},
   "source": [
    "These exceptions are handled manually so we look at the previously printed Box Office movie titles to find the connection."
   ]
  },
  {
   "cell_type": "code",
   "execution_count": 9,
   "id": "2bd598a8",
   "metadata": {},
   "outputs": [],
   "source": [
    "boxOffice_exception = ['Birds of Prey', 'Furious 7', \n",
    "                       'Rogue One A Star Wars Story', \n",
    "                       'Spider Man Far from Home', 'Spider Man Homecoming',\n",
    "                       'Mission Impossible Fallout', 'Mission Impossible Rogue Nation']\n",
    "\n",
    "for i in range(len(exceptions)):\n",
    "    title_mapping[boxOffice_exception[i]] = exceptions[i]"
   ]
  },
  {
   "cell_type": "markdown",
   "id": "b514188b",
   "metadata": {},
   "source": [
    "We check it by seeing if the values and keys are equal to the Quotebank and box office titles resepectively."
   ]
  },
  {
   "cell_type": "code",
   "execution_count": 10,
   "id": "09c2b719",
   "metadata": {},
   "outputs": [
    {
     "name": "stdout",
     "output_type": "stream",
     "text": [
      "Number of movies in Box Office data: 58\n",
      "Number of movies in Quotebank data: 56\n"
     ]
    },
    {
     "data": {
      "text/plain": [
       "array(['The Call of the Wild', 'Tolo Tolo'], dtype=object)"
      ]
     },
     "execution_count": 10,
     "metadata": {},
     "output_type": "execute_result"
    }
   ],
   "source": [
    "print(f\"Number of movies in Box Office data: {boxOffice_titles.__len__()}\")\n",
    "print(f\"Number of movies in Quotebank data: {quotebank_titles.__len__()}\")\n",
    "\n",
    "diff = np.setdiff1d(boxOffice_titles, list(title_mapping.keys()))\n",
    "diff"
   ]
  },
  {
   "cell_type": "markdown",
   "id": "6167ba6a",
   "metadata": {},
   "source": [
    "This means that some of the box office titles (the two above) are not occuring in the Quotebank data. We find it evident to leave these ones out and not incorporate them in the mapping as they do not occur in our Quotebank data. Therefore we drop these rows from the Box Office dataframe."
   ]
  },
  {
   "cell_type": "code",
   "execution_count": 11,
   "id": "aad11895",
   "metadata": {},
   "outputs": [],
   "source": [
    "removal_condition = np.logical_or(df_boxOffice.movie == diff[0], df_boxOffice.movie == diff[1])\n",
    "df_boxOffice = df_boxOffice[-removal_condition]\n",
    "df_boxOffice.index = np.arange(len(df_boxOffice))"
   ]
  },
  {
   "cell_type": "code",
   "execution_count": 12,
   "id": "ac91f547",
   "metadata": {},
   "outputs": [
    {
     "data": {
      "text/plain": [
       "56"
      ]
     },
     "execution_count": 12,
     "metadata": {},
     "output_type": "execute_result"
    }
   ],
   "source": [
    "df_boxOffice.movie.unique().__len__()"
   ]
  },
  {
   "cell_type": "code",
   "execution_count": 13,
   "id": "ab431ae3",
   "metadata": {},
   "outputs": [
    {
     "data": {
      "text/plain": [
       "(6905, 7)"
      ]
     },
     "execution_count": 13,
     "metadata": {},
     "output_type": "execute_result"
    }
   ],
   "source": [
    "df_boxOffice.shape"
   ]
  },
  {
   "cell_type": "markdown",
   "id": "415008e9",
   "metadata": {},
   "source": [
    " Checking the difference to the mapping in quotebank titles is somewhat more relevant."
   ]
  },
  {
   "cell_type": "code",
   "execution_count": 14,
   "id": "6c95381d",
   "metadata": {},
   "outputs": [
    {
     "data": {
      "text/plain": [
       "array([], dtype=object)"
      ]
     },
     "execution_count": 14,
     "metadata": {},
     "output_type": "execute_result"
    }
   ],
   "source": [
    "np.setdiff1d(quotebank_titles, list(title_mapping.values()))"
   ]
  },
  {
   "cell_type": "markdown",
   "id": "7c2b6328",
   "metadata": {},
   "source": [
    "As the difference between the Quotebank data and the values in the mapping dictionary is the empty set we know that we have accounted for all possible mappings from Box Office titles to Quotebank titles. We apply the mapping to the Box Office dataframe."
   ]
  },
  {
   "cell_type": "code",
   "execution_count": 15,
   "id": "6a3af6f6",
   "metadata": {},
   "outputs": [],
   "source": [
    "df_boxOffice = df_boxOffice.rename(columns={'movie': 'old_title'})\n",
    "df_boxOffice['movie'] = [title_mapping[BO_title] for BO_title in df_boxOffice.old_title]\n",
    "\n",
    "df_boxOffice = df_boxOffice.drop('old_title', axis=1)"
   ]
  },
  {
   "cell_type": "markdown",
   "id": "bb10647b",
   "metadata": {},
   "source": [
    "And a final check to see if the titles are now coherent."
   ]
  },
  {
   "cell_type": "code",
   "execution_count": 16,
   "id": "1e8edd9b",
   "metadata": {},
   "outputs": [
    {
     "data": {
      "text/plain": [
       "True"
      ]
     },
     "execution_count": 16,
     "metadata": {},
     "output_type": "execute_result"
    }
   ],
   "source": [
    "set(df_boxOffice.movie.unique()) == set(quotebank_titles)"
   ]
  },
  {
   "cell_type": "markdown",
   "id": "63a9590f",
   "metadata": {},
   "source": [
    "We save the dataframe as a pickle."
   ]
  },
  {
   "cell_type": "code",
   "execution_count": 17,
   "id": "dca247d4",
   "metadata": {},
   "outputs": [
    {
     "name": "stdout",
     "output_type": "stream",
     "text": [
      "Dataframe was pickled and saved to directory:\n",
      "C:\\Users\\Albert Kjøller\\Documents\\EPFL\\Courses\\CS-401_ADA\\ada-2021-project-f-jab\\exploratory\\data \n",
      "\n",
      "Shape of dataframe: (6905, 7)\n"
     ]
    }
   ],
   "source": [
    "filename = f\"boxOffice\"\n",
    "data_dir = os.getcwd() + os.sep + 'data'\n",
    "\n",
    "df_boxOffice.to_pickle(rf\"{data_dir}{os.sep}{filename}.pkl\")\n",
    "\n",
    "print(f\"Dataframe was pickled and saved to directory:\\n{data_dir} \\n\")\n",
    "print(f\"Shape of dataframe: {df_boxOffice.shape}\")"
   ]
  },
  {
   "cell_type": "code",
   "execution_count": null,
   "id": "51f4fe15",
   "metadata": {},
   "outputs": [],
   "source": []
  }
 ],
 "metadata": {
  "kernelspec": {
   "display_name": "Python 3",
   "language": "python",
   "name": "python3"
  },
  "language_info": {
   "codemirror_mode": {
    "name": "ipython",
    "version": 3
   },
   "file_extension": ".py",
   "mimetype": "text/x-python",
   "name": "python",
   "nbconvert_exporter": "python",
   "pygments_lexer": "ipython3",
   "version": "3.8.8"
  }
 },
 "nbformat": 4,
 "nbformat_minor": 5
}
