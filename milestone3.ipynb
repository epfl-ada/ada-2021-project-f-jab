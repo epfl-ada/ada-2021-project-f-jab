{
 "cells": [
  {
   "cell_type": "markdown",
   "id": "2d48dfa5",
   "metadata": {},
   "source": [
    "# Quotes'N'Movies - Milestone 3 (final)"
   ]
  },
  {
   "cell_type": "markdown",
   "id": "8edc196c",
   "metadata": {},
   "source": [
    "## 1) Loading datasets"
   ]
  },
  {
   "cell_type": "code",
   "execution_count": null,
   "id": "e732e451",
   "metadata": {},
   "outputs": [],
   "source": []
  },
  {
   "cell_type": "markdown",
   "id": "7c0a560e",
   "metadata": {},
   "source": [
    "## 2) Create dataframe"
   ]
  },
  {
   "cell_type": "code",
   "execution_count": null,
   "id": "c8fba25b",
   "metadata": {},
   "outputs": [],
   "source": []
  },
  {
   "cell_type": "markdown",
   "id": "f894babc",
   "metadata": {},
   "source": [
    "## 3) "
   ]
  },
  {
   "cell_type": "code",
   "execution_count": null,
   "id": "c4b5570b",
   "metadata": {},
   "outputs": [],
   "source": []
  },
  {
   "cell_type": "markdown",
   "id": "c488ed79",
   "metadata": {},
   "source": [
    "## 4) Analyzing sentiment"
   ]
  },
  {
   "cell_type": "code",
   "execution_count": null,
   "id": "2dbfd731",
   "metadata": {},
   "outputs": [],
   "source": []
  },
  {
   "cell_type": "markdown",
   "id": "68a22fe2",
   "metadata": {},
   "source": [
    "## 5) Linking sentiment to the Box Office and IMDb Ratings"
   ]
  },
  {
   "cell_type": "code",
   "execution_count": null,
   "id": "a43a173f",
   "metadata": {},
   "outputs": [],
   "source": []
  }
 ],
 "metadata": {
  "kernelspec": {
   "display_name": "Python 3",
   "language": "python",
   "name": "python3"
  },
  "language_info": {
   "codemirror_mode": {
    "name": "ipython",
    "version": 3
   },
   "file_extension": ".py",
   "mimetype": "text/x-python",
   "name": "python",
   "nbconvert_exporter": "python",
   "pygments_lexer": "ipython3",
   "version": "3.8.8"
  }
 },
 "nbformat": 4,
 "nbformat_minor": 5
}
