{
 "cells": [
  {
   "cell_type": "code",
   "execution_count": 1,
   "source": [
    "from collections import Counter, OrderedDict, defaultdict\n",
    "import datetime as dt\n",
    "import numpy as np\n",
    "import networkx as nx\n",
    "import matplotlib.pyplot as plt\n",
    "import pandas as pd\n",
    "import plotly.express as px\n",
    "from scipy import stats\n",
    "from scipy.stats import kstest\n",
    "import seaborn as sns\n",
    "from statsmodels.stats.multitest import multipletests\n",
    "import statsmodels.formula.api as smf\n",
    "from statsmodels.tsa.api import VAR\n",
    "from statsmodels.tsa.stattools import adfuller\n",
    "from statsmodels.tsa.stattools import grangercausalitytests\n",
    "\n",
    "import json\n",
    "import os\n",
    "import pickle\n",
    "from tqdm import tqdm\n",
    "from datetime import date\n",
    "\n",
    "import warnings\n",
    "warnings.filterwarnings('ignore')"
   ],
   "outputs": [],
   "metadata": {}
  },
  {
   "cell_type": "markdown",
   "source": [
    "# Table of Contents\n",
    "* [RQ1: Relation between Box Office sales and number of quotes of a movie](#chapter1) \n",
    "    * [1.1. Linear regression between total number of quotes on a movie and domestic box office revenue](#chapter11)\n",
    "    * [1.2. Observational study with propensity score matching](#chapter12)\n",
    "* [RQ2: Sentiment analysis in quotes about movies over time](#chapter2)\n",
    "* [RQ3: An Investigation into Time Series Box Office and Quotes in a Few Movies](#chapter3)\n",
    "    * [3.1. Initial analysis and Kolmogorov-Smirnov test](#chapter31)\n",
    "    * [3.2. Checking correlation and Granger causality](#chapter32)\n",
    "* [RQ4: Searching for a bias in the data](#chapter4)\n",
    "* [RQ5: The effect of COVID on media coverage of movies](#chapter5)\n",
    "    * [5.1. Calculate mean number of quotes on movies between 2015-2019 on a daily basis, calculate confidence intervals (bootstrapping), compare with 2020 data](#chapter51)\n",
    "    * [5.2. Use regression for comparison of the mean number of quotes across movies in covid and non-covid period, use t-test for comparison of means](#chapter52)"
   ],
   "metadata": {}
  },
  {
   "cell_type": "markdown",
   "source": [
    "# RQ1 Relation between Box Office sales and number of quotes of a movie <a class=\"anchor\" id=\"chapter1\"></a>"
   ],
   "metadata": {}
  },
  {
   "cell_type": "markdown",
   "source": [
    "## Is there a tendency between number of sold tickets and the 'hype' about a movie as it appears in the news paper media?"
   ],
   "metadata": {}
  },
  {
   "cell_type": "markdown",
   "source": [
    "For this question, we will only consider the total number of quotes on a movie found in the Quotebank dataset. We start with the IMDb movie dataset and filter out the top 50 movies in terms of *usa_gross_income*. Then we filter the Quotebank dataset on the titles of these movies and count the occurences."
   ],
   "metadata": {}
  },
  {
   "cell_type": "code",
   "execution_count": 2,
   "source": [
    "df = pd.read_csv('./exploratory/data/IMDb/IMDb movies.csv')"
   ],
   "outputs": [],
   "metadata": {}
  },
  {
   "cell_type": "markdown",
   "source": [
    "We do a preprocessing on the imdb dataset. Transforming years, incomes and budgest to integers, publisd dates to datetime object."
   ],
   "metadata": {}
  },
  {
   "cell_type": "code",
   "execution_count": 3,
   "source": [
    "def clean_imdb(df):\n",
    "    imdb = df.rename(columns = {'worlwide_gross_income':'worldwide_gross_income'})\n",
    "    imdb = imdb.drop(imdb.index[83917])\n",
    "    imdb['year'] = imdb['year'].astype(int)\n",
    "    imdb = imdb[imdb['year']>2014]\n",
    "    imdb = imdb.dropna()\n",
    "    imdb['budget'] = imdb['budget'].map(lambda x: x.lstrip('$EURCZKNYGBPWILSADMXNJPYOP')).astype(int)\n",
    "    imdb['worldwide_gross_income'] = imdb['worldwide_gross_income'].map(lambda x: x.lstrip('$EURCZKNYGBPWILSADMXNJPYOP')).astype(int)\n",
    "    imdb['usa_gross_income'] = imdb['usa_gross_income'].map(lambda x: x.lstrip('$EURCZKNYGBPWILSADMXNJPYOP')).astype(int)\n",
    "    imdb['date_published'] = pd.to_datetime(imdb['date_published'])\n",
    "    return imdb\n",
    "\n",
    "imdb = clean_imdb(df)"
   ],
   "outputs": [],
   "metadata": {}
  },
  {
   "cell_type": "markdown",
   "source": [
    "Tehre are movie titles which might be really frequent in the Quotebank dataset, the corresponding quote might come from different context, making our analysis biased so we filter them out, the result is a dictionary with the relevant movie titles, we run them through our Quotebank filter pipeline. "
   ],
   "metadata": {}
  },
  {
   "cell_type": "code",
   "execution_count": 4,
   "source": [
    "ignore = {2015: ['Home',  'Spy', 'Sisters',  'Joy'],\n",
    "2016: ['Sing', 'Trolls',  'Split'],\n",
    "2017: ['It',   'Coco'],\n",
    "2018: ['Halloween'],\n",
    "2019: ['Us', 'Glass', 'Yesterday',  'Midway'],\n",
    "2020: ['Tesla',  'Emma.', 'Wendy']}\n",
    "\n",
    "relevant_movies = []\n",
    "titles_by_year = defaultdict(list)\n",
    "for year in range(2015, 2021):\n",
    "    titles_by_year[year] = list(imdb[imdb['year']==year].nlargest(50, columns='usa_gross_income')['original_title'])\n",
    "    relevant_movies.append(imdb[imdb['year']==year].nlargest(50, columns='usa_gross_income')[['original_title', 'usa_gross_income', 'year']])\n",
    "    for title in ignore[year]:\n",
    "        titles_by_year[year].remove(title)\n",
    "\n",
    "movies_df = pd.concat(relevant_movies)"
   ],
   "outputs": [],
   "metadata": {}
  },
  {
   "cell_type": "markdown",
   "source": [
    "For a movie released in year $x$, we look for quotes containing the title (or subtitle) of the movie in year $x$ and $x+1$. In this way we will have information about the hype before the publish date and see the afterlife as well. The filtering happened using in a different python script, we just load the json files containing the results."
   ],
   "metadata": {}
  },
  {
   "cell_type": "code",
   "execution_count": 5,
   "source": [
    "quotes_by_movies_by_year = defaultdict(list)\n",
    "\n",
    "for i in range(2015, 2021):\n",
    "    path = f'./exploratory/data/rq1/final_movie_quotes{i}.json'\n",
    "    with open(path, 'r') as f:\n",
    "        data = json.load(f)\n",
    "    for (k, v) in data.items():\n",
    "        quotes_by_movies_by_year[k].append(v)\n",
    "\n",
    "quotes_by_movies = defaultdict(list)\n",
    "\n",
    "for (k,v) in quotes_by_movies_by_year.items():\n",
    "    quotes_by_movies[k] = sum(v)\n",
    "\n",
    "quotes_by_movies = OrderedDict(sorted(quotes_by_movies.items(), key=lambda t: -t[1]))"
   ],
   "outputs": [],
   "metadata": {}
  },
  {
   "cell_type": "code",
   "execution_count": 6,
   "source": [
    "for i, (k,v) in enumerate(quotes_by_movies.items()):\n",
    "    if i < 10:\n",
    "        print(f\"{k}, {v}\")"
   ],
   "outputs": [
    {
     "output_type": "stream",
     "name": "stdout",
     "text": [
      "Men in Black: International, 38245\n",
      "Kong: Skull Island, 16395\n",
      "Mission: Impossible - Fallout, 11447\n",
      "Star Wars: Episode VIII - The Last Jedi, 9402\n",
      "Star Wars: Episode IX - The Rise of Skywalker, 9197\n",
      "Avengers: Endgame, 7692\n",
      "Thor: Ragnarok, 7537\n",
      "Star Wars: Episode VII - The Force Awakens, 6837\n",
      "Avengers: Infinity War, 6215\n",
      "Logan, 5692\n"
     ]
    }
   ],
   "metadata": {}
  },
  {
   "cell_type": "markdown",
   "source": [
    "We delete the top 3 element, since the quotes containing the words *Kong*, *International* and *Impossible* are likely to come from non-movie related context."
   ],
   "metadata": {}
  },
  {
   "cell_type": "code",
   "execution_count": 7,
   "source": [
    "del quotes_by_movies['Men in Black: International']\n",
    "del quotes_by_movies['Kong: Skull Island']\n",
    "del quotes_by_movies['Mission: Impossible - Fallout']"
   ],
   "outputs": [],
   "metadata": {}
  },
  {
   "cell_type": "code",
   "execution_count": 8,
   "source": [
    "fig, ax = plt.subplots(nrows=1, ncols=2, figsize=(25,10)) # here we should decide a split (0-50 vs 50-100?)\n",
    "ax[0].plot(quotes_by_movies.values(), marker='o')\n",
    "ax[0].set_ylabel('number of quotes')\n",
    "ax[0].set_xlabel('rank of movie')\n",
    "ax[1].loglog(quotes_by_movies.values(), marker='o', color='red')\n",
    "ax[1].set_ylabel('log number of quotes')\n",
    "ax[1].set_xlabel('log rank of movie')"
   ],
   "outputs": [
    {
     "output_type": "execute_result",
     "data": {
      "text/plain": [
       "Text(0.5, 0, 'log rank of movie')"
      ]
     },
     "metadata": {},
     "execution_count": 8
    },
    {
     "output_type": "display_data",
     "data": {
      "image/png": "[encoded data removed]",
      "text/plain": [
       "<Figure size 1800x720 with 2 Axes>"
      ]
     },
     "metadata": {
      "needs_background": "light"
     }
    }
   ],
   "metadata": {}
  },
  {
   "cell_type": "markdown",
   "source": [
    "We sort the movies by number of quotes and visualize the distribution. It looks like a power low, but if we change to log-log axes, we can see it is clearly not a straight line."
   ],
   "metadata": {}
  },
  {
   "cell_type": "markdown",
   "source": [
    "Now we megre the information about quotes into our *movies_df* dataframe."
   ],
   "metadata": {}
  },
  {
   "cell_type": "code",
   "execution_count": 9,
   "source": [
    "numOccurrences = pd.DataFrame()\n",
    "numOccurrences['original_title'] = quotes_by_movies.keys()\n",
    "numOccurrences['number_of_quotes'] = quotes_by_movies.values()\n",
    "movies_df= pd.merge(movies_df,numOccurrences, how='left', on='original_title') \n",
    "movies_df"
   ],
   "outputs": [
    {
     "output_type": "execute_result",
     "data": {
      "text/html": [
       "<div>\n",
       "<style scoped>\n",
       "    .dataframe tbody tr th:only-of-type {\n",
       "        vertical-align: middle;\n",
       "    }\n",
       "\n",
       "    .dataframe tbody tr th {\n",
       "        vertical-align: top;\n",
       "    }\n",
       "\n",
       "    .dataframe thead th {\n",
       "        text-align: right;\n",
       "    }\n",
       "</style>\n",
       "<table border=\"1\" class=\"dataframe\">\n",
       "  <thead>\n",
       "    <tr style=\"text-align: right;\">\n",
       "      <th></th>\n",
       "      <th>original_title</th>\n",
       "      <th>usa_gross_income</th>\n",
       "      <th>year</th>\n",
       "      <th>number_of_quotes</th>\n",
       "    </tr>\n",
       "  </thead>\n",
       "  <tbody>\n",
       "    <tr>\n",
       "      <th>0</th>\n",
       "      <td>Star Wars: Episode VII - The Force Awakens</td>\n",
       "      <td>936662225</td>\n",
       "      <td>2015</td>\n",
       "      <td>6837.0</td>\n",
       "    </tr>\n",
       "    <tr>\n",
       "      <th>1</th>\n",
       "      <td>Jurassic World</td>\n",
       "      <td>652270625</td>\n",
       "      <td>2015</td>\n",
       "      <td>389.0</td>\n",
       "    </tr>\n",
       "    <tr>\n",
       "      <th>2</th>\n",
       "      <td>Avengers: Age of Ultron</td>\n",
       "      <td>459005868</td>\n",
       "      <td>2015</td>\n",
       "      <td>1493.0</td>\n",
       "    </tr>\n",
       "    <tr>\n",
       "      <th>3</th>\n",
       "      <td>Inside Out</td>\n",
       "      <td>356921711</td>\n",
       "      <td>2015</td>\n",
       "      <td>187.0</td>\n",
       "    </tr>\n",
       "    <tr>\n",
       "      <th>4</th>\n",
       "      <td>Fast &amp; Furious 7</td>\n",
       "      <td>353007020</td>\n",
       "      <td>2015</td>\n",
       "      <td>29.0</td>\n",
       "    </tr>\n",
       "    <tr>\n",
       "      <th>...</th>\n",
       "      <td>...</td>\n",
       "      <td>...</td>\n",
       "      <td>...</td>\n",
       "      <td>...</td>\n",
       "    </tr>\n",
       "    <tr>\n",
       "      <th>270</th>\n",
       "      <td>The Rhythm Section</td>\n",
       "      <td>5437971</td>\n",
       "      <td>2020</td>\n",
       "      <td>10.0</td>\n",
       "    </tr>\n",
       "    <tr>\n",
       "      <th>271</th>\n",
       "      <td>The Tax Collector</td>\n",
       "      <td>942666</td>\n",
       "      <td>2020</td>\n",
       "      <td>1.0</td>\n",
       "    </tr>\n",
       "    <tr>\n",
       "      <th>272</th>\n",
       "      <td>Cut Throat City</td>\n",
       "      <td>507436</td>\n",
       "      <td>2020</td>\n",
       "      <td>NaN</td>\n",
       "    </tr>\n",
       "    <tr>\n",
       "      <th>273</th>\n",
       "      <td>Wendy</td>\n",
       "      <td>143518</td>\n",
       "      <td>2020</td>\n",
       "      <td>NaN</td>\n",
       "    </tr>\n",
       "    <tr>\n",
       "      <th>274</th>\n",
       "      <td>Tesla</td>\n",
       "      <td>76263</td>\n",
       "      <td>2020</td>\n",
       "      <td>NaN</td>\n",
       "    </tr>\n",
       "  </tbody>\n",
       "</table>\n",
       "<p>275 rows × 4 columns</p>\n",
       "</div>"
      ],
      "text/plain": [
       "                                 original_title  usa_gross_income  year  \\\n",
       "0    Star Wars: Episode VII - The Force Awakens         936662225  2015   \n",
       "1                                Jurassic World         652270625  2015   \n",
       "2                       Avengers: Age of Ultron         459005868  2015   \n",
       "3                                    Inside Out         356921711  2015   \n",
       "4                              Fast & Furious 7         353007020  2015   \n",
       "..                                          ...               ...   ...   \n",
       "270                          The Rhythm Section           5437971  2020   \n",
       "271                           The Tax Collector            942666  2020   \n",
       "272                             Cut Throat City            507436  2020   \n",
       "273                                       Wendy            143518  2020   \n",
       "274                                       Tesla             76263  2020   \n",
       "\n",
       "     number_of_quotes  \n",
       "0              6837.0  \n",
       "1               389.0  \n",
       "2              1493.0  \n",
       "3               187.0  \n",
       "4                29.0  \n",
       "..                ...  \n",
       "270              10.0  \n",
       "271               1.0  \n",
       "272               NaN  \n",
       "273               NaN  \n",
       "274               NaN  \n",
       "\n",
       "[275 rows x 4 columns]"
      ]
     },
     "metadata": {},
     "execution_count": 9
    }
   ],
   "metadata": {}
  },
  {
   "cell_type": "markdown",
   "source": [
    "---"
   ],
   "metadata": {}
  },
  {
   "cell_type": "markdown",
   "source": [
    "## Proposed method: \n",
    "## 1.1 Linear regression between total number of quotes on a movie and domestic box office revenue <a class=\"anchor\" id=\"chapter11\"></a>"
   ],
   "metadata": {}
  },
  {
   "cell_type": "markdown",
   "source": [
    "We run a linear regression to investigate whether more popular movies tend to have higher media coverage or not. We use statsmodels ols function to do so."
   ],
   "metadata": {}
  },
  {
   "cell_type": "code",
   "execution_count": 10,
   "source": [
    "res = smf.ols(formula='usa_gross_income ~ number_of_quotes', data=movies_df).fit()\n",
    "print(res.summary())"
   ],
   "outputs": [
    {
     "output_type": "stream",
     "name": "stdout",
     "text": [
      "                            OLS Regression Results                            \n",
      "==============================================================================\n",
      "Dep. Variable:       usa_gross_income   R-squared:                       0.345\n",
      "Model:                            OLS   Adj. R-squared:                  0.342\n",
      "Method:                 Least Squares   F-statistic:                     132.6\n",
      "Date:                Tue, 14 Dec 2021   Prob (F-statistic):           6.25e-25\n",
      "Time:                        09:59:29   Log-Likelihood:                -5081.7\n",
      "No. Observations:                 254   AIC:                         1.017e+04\n",
      "Df Residuals:                     252   BIC:                         1.017e+04\n",
      "Df Model:                           1                                         \n",
      "Covariance Type:            nonrobust                                         \n",
      "====================================================================================\n",
      "                       coef    std err          t      P>|t|      [0.025      0.975]\n",
      "------------------------------------------------------------------------------------\n",
      "Intercept         1.242e+08   8.12e+06     15.299      0.000    1.08e+08     1.4e+08\n",
      "number_of_quotes  5.787e+04   5025.890     11.515      0.000     4.8e+04    6.78e+04\n",
      "==============================================================================\n",
      "Omnibus:                       90.719   Durbin-Watson:                   0.866\n",
      "Prob(Omnibus):                  0.000   Jarque-Bera (JB):              238.822\n",
      "Skew:                           1.643   Prob(JB):                     1.38e-52\n",
      "Kurtosis:                       6.430   Cond. No.                     1.76e+03\n",
      "==============================================================================\n",
      "\n",
      "Notes:\n",
      "[1] Standard Errors assume that the covariance matrix of the errors is correctly specified.\n",
      "[2] The condition number is large, 1.76e+03. This might indicate that there are\n",
      "strong multicollinearity or other numerical problems.\n"
     ]
    }
   ],
   "metadata": {}
  },
  {
   "cell_type": "markdown",
   "source": [
    "We conclude that the predictor *number_of_quotes* is indeed significant, since its small p-value. So in general the more successful a movie, the more media coverage it gets. "
   ],
   "metadata": {}
  },
  {
   "cell_type": "code",
   "execution_count": 11,
   "source": [
    "plt.figure(figsize = (10,10))\n",
    "plt.title('Number of quotes vs worldwide income of selected movies per year')\n",
    "sns.regplot(data=movies_df, x='usa_gross_income', y='number_of_quotes', line_kws = {'color': 'C1'})"
   ],
   "outputs": [
    {
     "output_type": "execute_result",
     "data": {
      "text/plain": [
       "<AxesSubplot:title={'center':'Number of quotes vs worldwide income of selected movies per year'}, xlabel='usa_gross_income', ylabel='number_of_quotes'>"
      ]
     },
     "metadata": {},
     "execution_count": 11
    },
    {
     "output_type": "display_data",
     "data": {
      "image/png": "[encoded data removed]",
      "text/plain": [
       "<Figure size 720x720 with 1 Axes>"
      ]
     },
     "metadata": {
      "needs_background": "light"
     }
    }
   ],
   "metadata": {}
  },
  {
   "cell_type": "markdown",
   "source": [
    "---"
   ],
   "metadata": {}
  },
  {
   "cell_type": "markdown",
   "source": [
    "## Proposed Method:\n",
    "## 1.2. Observational study with propensity score matching <a class=\"anchor\" id=\"chapter12\"></a>\n",
    "\n",
    "We calculate propensity score with logistic regression, based on movie attributes on IMDb data on few quote vs many quote movies and compare the results with box office data."
   ],
   "metadata": {}
  },
  {
   "cell_type": "markdown",
   "source": [
    "We will add the following features from the IMDb dataset: *avg_vote*, *budget*, *duration*, *metascore*, *votes*. Furthermore, we create a *genres* one hot feature as well."
   ],
   "metadata": {}
  },
  {
   "cell_type": "code",
   "execution_count": 12,
   "source": [
    "movies_df = movies_df.merge(imdb[['original_title', 'avg_vote', 'budget','duration', 'metascore', 'votes','genre']], how='left', on='original_title')\n",
    "movies_df"
   ],
   "outputs": [
    {
     "output_type": "execute_result",
     "data": {
      "text/html": [
       "<div>\n",
       "<style scoped>\n",
       "    .dataframe tbody tr th:only-of-type {\n",
       "        vertical-align: middle;\n",
       "    }\n",
       "\n",
       "    .dataframe tbody tr th {\n",
       "        vertical-align: top;\n",
       "    }\n",
       "\n",
       "    .dataframe thead th {\n",
       "        text-align: right;\n",
       "    }\n",
       "</style>\n",
       "<table border=\"1\" class=\"dataframe\">\n",
       "  <thead>\n",
       "    <tr style=\"text-align: right;\">\n",
       "      <th></th>\n",
       "      <th>original_title</th>\n",
       "      <th>usa_gross_income</th>\n",
       "      <th>year</th>\n",
       "      <th>number_of_quotes</th>\n",
       "      <th>avg_vote</th>\n",
       "      <th>budget</th>\n",
       "      <th>duration</th>\n",
       "      <th>metascore</th>\n",
       "      <th>votes</th>\n",
       "      <th>genre</th>\n",
       "    </tr>\n",
       "  </thead>\n",
       "  <tbody>\n",
       "    <tr>\n",
       "      <th>0</th>\n",
       "      <td>Star Wars: Episode VII - The Force Awakens</td>\n",
       "      <td>936662225</td>\n",
       "      <td>2015</td>\n",
       "      <td>6837.0</td>\n",
       "      <td>7.9</td>\n",
       "      <td>245000000</td>\n",
       "      <td>138</td>\n",
       "      <td>80.0</td>\n",
       "      <td>845102</td>\n",
       "      <td>Action, Adventure, Sci-Fi</td>\n",
       "    </tr>\n",
       "    <tr>\n",
       "      <th>1</th>\n",
       "      <td>Jurassic World</td>\n",
       "      <td>652270625</td>\n",
       "      <td>2015</td>\n",
       "      <td>389.0</td>\n",
       "      <td>7.0</td>\n",
       "      <td>150000000</td>\n",
       "      <td>124</td>\n",
       "      <td>59.0</td>\n",
       "      <td>569512</td>\n",
       "      <td>Action, Adventure, Sci-Fi</td>\n",
       "    </tr>\n",
       "    <tr>\n",
       "      <th>2</th>\n",
       "      <td>Avengers: Age of Ultron</td>\n",
       "      <td>459005868</td>\n",
       "      <td>2015</td>\n",
       "      <td>1493.0</td>\n",
       "      <td>7.3</td>\n",
       "      <td>250000000</td>\n",
       "      <td>141</td>\n",
       "      <td>66.0</td>\n",
       "      <td>722685</td>\n",
       "      <td>Action, Adventure, Sci-Fi</td>\n",
       "    </tr>\n",
       "    <tr>\n",
       "      <th>3</th>\n",
       "      <td>Inside Out</td>\n",
       "      <td>356921711</td>\n",
       "      <td>2015</td>\n",
       "      <td>187.0</td>\n",
       "      <td>8.1</td>\n",
       "      <td>175000000</td>\n",
       "      <td>95</td>\n",
       "      <td>94.0</td>\n",
       "      <td>592575</td>\n",
       "      <td>Animation, Adventure, Comedy</td>\n",
       "    </tr>\n",
       "    <tr>\n",
       "      <th>4</th>\n",
       "      <td>Fast &amp; Furious 7</td>\n",
       "      <td>353007020</td>\n",
       "      <td>2015</td>\n",
       "      <td>29.0</td>\n",
       "      <td>7.1</td>\n",
       "      <td>190000000</td>\n",
       "      <td>137</td>\n",
       "      <td>67.0</td>\n",
       "      <td>353562</td>\n",
       "      <td>Action, Adventure, Thriller</td>\n",
       "    </tr>\n",
       "    <tr>\n",
       "      <th>...</th>\n",
       "      <td>...</td>\n",
       "      <td>...</td>\n",
       "      <td>...</td>\n",
       "      <td>...</td>\n",
       "      <td>...</td>\n",
       "      <td>...</td>\n",
       "      <td>...</td>\n",
       "      <td>...</td>\n",
       "      <td>...</td>\n",
       "      <td>...</td>\n",
       "    </tr>\n",
       "    <tr>\n",
       "      <th>270</th>\n",
       "      <td>The Rhythm Section</td>\n",
       "      <td>5437971</td>\n",
       "      <td>2020</td>\n",
       "      <td>10.0</td>\n",
       "      <td>5.2</td>\n",
       "      <td>50000000</td>\n",
       "      <td>109</td>\n",
       "      <td>45.0</td>\n",
       "      <td>8816</td>\n",
       "      <td>Action, Drama, Mystery</td>\n",
       "    </tr>\n",
       "    <tr>\n",
       "      <th>271</th>\n",
       "      <td>The Tax Collector</td>\n",
       "      <td>942666</td>\n",
       "      <td>2020</td>\n",
       "      <td>1.0</td>\n",
       "      <td>4.7</td>\n",
       "      <td>30000000</td>\n",
       "      <td>95</td>\n",
       "      <td>22.0</td>\n",
       "      <td>4862</td>\n",
       "      <td>Action, Crime, Drama</td>\n",
       "    </tr>\n",
       "    <tr>\n",
       "      <th>272</th>\n",
       "      <td>Cut Throat City</td>\n",
       "      <td>507436</td>\n",
       "      <td>2020</td>\n",
       "      <td>NaN</td>\n",
       "      <td>4.3</td>\n",
       "      <td>8000000</td>\n",
       "      <td>123</td>\n",
       "      <td>67.0</td>\n",
       "      <td>141</td>\n",
       "      <td>Action, Crime, Drama</td>\n",
       "    </tr>\n",
       "    <tr>\n",
       "      <th>273</th>\n",
       "      <td>Wendy</td>\n",
       "      <td>143518</td>\n",
       "      <td>2020</td>\n",
       "      <td>NaN</td>\n",
       "      <td>5.7</td>\n",
       "      <td>6000000</td>\n",
       "      <td>111</td>\n",
       "      <td>54.0</td>\n",
       "      <td>1405</td>\n",
       "      <td>Drama, Fantasy</td>\n",
       "    </tr>\n",
       "    <tr>\n",
       "      <th>274</th>\n",
       "      <td>Tesla</td>\n",
       "      <td>76263</td>\n",
       "      <td>2020</td>\n",
       "      <td>NaN</td>\n",
       "      <td>5.1</td>\n",
       "      <td>5000000</td>\n",
       "      <td>102</td>\n",
       "      <td>68.0</td>\n",
       "      <td>2277</td>\n",
       "      <td>Biography, Drama</td>\n",
       "    </tr>\n",
       "  </tbody>\n",
       "</table>\n",
       "<p>275 rows × 10 columns</p>\n",
       "</div>"
      ],
      "text/plain": [
       "                                 original_title  usa_gross_income  year  \\\n",
       "0    Star Wars: Episode VII - The Force Awakens         936662225  2015   \n",
       "1                                Jurassic World         652270625  2015   \n",
       "2                       Avengers: Age of Ultron         459005868  2015   \n",
       "3                                    Inside Out         356921711  2015   \n",
       "4                              Fast & Furious 7         353007020  2015   \n",
       "..                                          ...               ...   ...   \n",
       "270                          The Rhythm Section           5437971  2020   \n",
       "271                           The Tax Collector            942666  2020   \n",
       "272                             Cut Throat City            507436  2020   \n",
       "273                                       Wendy            143518  2020   \n",
       "274                                       Tesla             76263  2020   \n",
       "\n",
       "     number_of_quotes  avg_vote     budget  duration  metascore   votes  \\\n",
       "0              6837.0       7.9  245000000       138       80.0  845102   \n",
       "1               389.0       7.0  150000000       124       59.0  569512   \n",
       "2              1493.0       7.3  250000000       141       66.0  722685   \n",
       "3               187.0       8.1  175000000        95       94.0  592575   \n",
       "4                29.0       7.1  190000000       137       67.0  353562   \n",
       "..                ...       ...        ...       ...        ...     ...   \n",
       "270              10.0       5.2   50000000       109       45.0    8816   \n",
       "271               1.0       4.7   30000000        95       22.0    4862   \n",
       "272               NaN       4.3    8000000       123       67.0     141   \n",
       "273               NaN       5.7    6000000       111       54.0    1405   \n",
       "274               NaN       5.1    5000000       102       68.0    2277   \n",
       "\n",
       "                            genre  \n",
       "0       Action, Adventure, Sci-Fi  \n",
       "1       Action, Adventure, Sci-Fi  \n",
       "2       Action, Adventure, Sci-Fi  \n",
       "3    Animation, Adventure, Comedy  \n",
       "4     Action, Adventure, Thriller  \n",
       "..                            ...  \n",
       "270        Action, Drama, Mystery  \n",
       "271          Action, Crime, Drama  \n",
       "272          Action, Crime, Drama  \n",
       "273                Drama, Fantasy  \n",
       "274              Biography, Drama  \n",
       "\n",
       "[275 rows x 10 columns]"
      ]
     },
     "metadata": {},
     "execution_count": 12
    }
   ],
   "metadata": {}
  },
  {
   "cell_type": "markdown",
   "source": [
    "We transform our continous variable **number_of_quotes** into a cathegorical one, we chose a threshold for $500$ (approx $20\\%$ of the data), if a movie has more quotes than the threshold, we cathegorize it as highly_quoted, denoted with the dummy variable **highly_quoted**."
   ],
   "metadata": {}
  },
  {
   "cell_type": "code",
   "execution_count": 13,
   "source": [
    "movies_df['highly_quoted'] = 0\n",
    "threshold = 500 #this might have to be bigger\n",
    "movies_df.loc[movies_df['number_of_quotes']> threshold, 'highly_quoted'] = 1"
   ],
   "outputs": [],
   "metadata": {}
  },
  {
   "cell_type": "markdown",
   "source": [
    "In order to calculate propensity scores, we perform a logisitc regression using the statsmodel library. We want to study whether the number of quotes on a movie will have an effect on its performance in the box office, so we will regress the cathegoricl variable *highly_quoted* against covariates from the IMDb dataset. Note, that we do not include *usa_gross_income* as covariate, since this is our target variable, in the end we are interested the effect on this variabe."
   ],
   "metadata": {}
  },
  {
   "cell_type": "code",
   "execution_count": 14,
   "source": [
    "import statsmodels.api as sm\n",
    "columns = list(set(list(movies_df.columns)) - set(['original_title','usa_gross_income', 'number_of_quotes','highly_quoted', 'genre']))\n",
    "mod = sm.Logit(movies_df['highly_quoted'], movies_df[columns])\n",
    "\n",
    "res = mod.fit()\n",
    "\n",
    "# Extract the estimated propensity scores\n",
    "movies_df['Propensity_score'] = res.predict()\n",
    "\n",
    "print(res.summary())"
   ],
   "outputs": [
    {
     "output_type": "stream",
     "name": "stdout",
     "text": [
      "Optimization terminated successfully.\n",
      "         Current function value: 0.364218\n",
      "         Iterations 7\n",
      "                           Logit Regression Results                           \n",
      "==============================================================================\n",
      "Dep. Variable:          highly_quoted   No. Observations:                  275\n",
      "Model:                          Logit   Df Residuals:                      269\n",
      "Method:                           MLE   Df Model:                            5\n",
      "Date:                Tue, 14 Dec 2021   Pseudo R-squ.:                  0.2721\n",
      "Time:                        09:59:32   Log-Likelihood:                -100.16\n",
      "converged:                       True   LL-Null:                       -137.61\n",
      "Covariance Type:            nonrobust   LLR p-value:                 9.755e-15\n",
      "==============================================================================\n",
      "                 coef    std err          z      P>|z|      [0.025      0.975]\n",
      "------------------------------------------------------------------------------\n",
      "budget      1.003e-08   2.81e-09      3.576      0.000    4.53e-09    1.55e-08\n",
      "duration       0.0059      0.012      0.482      0.630      -0.018       0.030\n",
      "avg_vote      -0.0706      0.367     -0.192      0.848      -0.791       0.650\n",
      "votes       5.118e-06   1.34e-06      3.817      0.000    2.49e-06    7.75e-06\n",
      "year          -0.0017      0.001     -1.592      0.111      -0.004       0.000\n",
      "metascore     -0.0098      0.018     -0.554      0.580      -0.045       0.025\n",
      "==============================================================================\n"
     ]
    }
   ],
   "metadata": {}
  },
  {
   "cell_type": "code",
   "execution_count": 15,
   "source": [
    "movies_df['Propensity_score'].hist(bins=20)"
   ],
   "outputs": [
    {
     "output_type": "execute_result",
     "data": {
      "text/plain": [
       "<AxesSubplot:>"
      ]
     },
     "metadata": {},
     "execution_count": 15
    },
    {
     "output_type": "display_data",
     "data": {
      "image/png": "[encoded data removed]",
      "text/plain": [
       "<Figure size 432x288 with 1 Axes>"
      ]
     },
     "metadata": {
      "needs_background": "light"
     }
    }
   ],
   "metadata": {}
  },
  {
   "cell_type": "code",
   "execution_count": 16,
   "source": [
    "def get_similarity(propensity_score1, propensity_score2):\n",
    "    '''Calculate similarity for instances with given propensity scores'''\n",
    "    return 1-np.abs(propensity_score1-propensity_score2)"
   ],
   "outputs": [],
   "metadata": {}
  },
  {
   "cell_type": "markdown",
   "source": [
    "Based on the propensity score we calculate similarity between the two gropus and make a bipartite graph. The edge weight between two nodes are the similarity scores. We want to find a maximal weight matching between the two groups (**highly_quoted** and **lowly_quoted**). The matching is found using the Hungarian algorithm, the graph is stored in a **networkx** object."
   ],
   "metadata": {}
  },
  {
   "cell_type": "code",
   "execution_count": 17,
   "source": [
    "# Separate the treatment and control groups\n",
    "highly_quoted_df = movies_df[movies_df['highly_quoted'] == 1]\n",
    "lowly_quoted_df = movies_df[movies_df['highly_quoted'] == 0]\n",
    "\n",
    "# Create an empty undirected graph\n",
    "G = nx.Graph()\n",
    "\n",
    "# Loop through all the pairs of instances\n",
    "for l_id, l_row in lowly_quoted_df.iterrows():\n",
    "    for h_id, h_row in highly_quoted_df.iterrows():\n",
    "\n",
    "        similarity = get_similarity(l_row['Propensity_score'],h_row['Propensity_score'])\n",
    "\n",
    "        # Add an edge between the two instances weighted by the similarity between them\n",
    "        G.add_weighted_edges_from([(l_id, h_id, similarity)])\n",
    "\n",
    "# Generate and return the maximum weight matching on the generated graph\n",
    "matching = nx.max_weight_matching(G)\n",
    "\n",
    "# Make a 'mask' of the indexes of the matched movies\n",
    "matched = [i[0] for i in list(matching)] + [i[1] for i in list(matching)]"
   ],
   "outputs": [],
   "metadata": {}
  },
  {
   "cell_type": "markdown",
   "source": [
    "Now we have a matching, it's time to check the means and the distributions of our filtered data."
   ],
   "metadata": {}
  },
  {
   "cell_type": "code",
   "execution_count": 18,
   "source": [
    "balanced_df = movies_df.loc[matched]\n",
    "balanced_highly_quoted_df = balanced_df[balanced_df['highly_quoted'] == 1]\n",
    "balanced_lowly_quoted_df = balanced_df[balanced_df['highly_quoted'] == 0]"
   ],
   "outputs": [],
   "metadata": {}
  },
  {
   "cell_type": "markdown",
   "source": [
    "We check the propensity scores, now it seems more balanced compared to the previous plot."
   ],
   "metadata": {}
  },
  {
   "cell_type": "code",
   "execution_count": 19,
   "source": [
    "balanced_df['Propensity_score'].hist(bins=20)"
   ],
   "outputs": [
    {
     "output_type": "execute_result",
     "data": {
      "text/plain": [
       "<AxesSubplot:>"
      ]
     },
     "metadata": {},
     "execution_count": 19
    },
    {
     "output_type": "display_data",
     "data": {
      "image/png": "[encoded data removed]",
      "text/plain": [
       "<Figure size 432x288 with 1 Axes>"
      ]
     },
     "metadata": {
      "needs_background": "light"
     }
    }
   ],
   "metadata": {}
  },
  {
   "cell_type": "code",
   "execution_count": 20,
   "source": [
    "def bootstrap_CI(data, nbr_draws):\n",
    "    means = np.zeros(nbr_draws)\n",
    "    data = np.array(data)\n",
    "\n",
    "    for n in range(nbr_draws):\n",
    "        indices = np.random.randint(0, len(data), len(data))\n",
    "        data_tmp = data[indices] \n",
    "        means[n] = np.nanmean(data_tmp)\n",
    "\n",
    "    return [np.nanpercentile(means, 2.5),np.nanpercentile(means, 97.5)]"
   ],
   "outputs": [],
   "metadata": {}
  },
  {
   "cell_type": "code",
   "execution_count": 21,
   "source": [
    "high_CI = bootstrap_CI(balanced_highly_quoted_df['usa_gross_income'], 1000)\n",
    "low_CI = bootstrap_CI(balanced_lowly_quoted_df['usa_gross_income'], 1000)\n",
    "high_mean = balanced_highly_quoted_df['usa_gross_income'].mean()\n",
    "low_mean = balanced_lowly_quoted_df['usa_gross_income'].mean()\n",
    "\n",
    "print(f'mean usa gross income on highly quotes moves: {high_mean},    95%-CI: {high_CI} ')\n",
    "print(f'mean usa gross income on lowly quotes moves: {low_mean},     95%-CI:  {low_CI}')"
   ],
   "outputs": [
    {
     "output_type": "stream",
     "name": "stdout",
     "text": [
      "mean usa gross income on highly quotes moves: 288705109.74545455,    95%-CI: [236060865.87818182, 343678746.7195454] \n",
      "mean usa gross income on lowly quotes moves: 206249748.6,     95%-CI:  [172171606.66363636, 242914681.35590908]\n"
     ]
    }
   ],
   "metadata": {}
  },
  {
   "cell_type": "code",
   "execution_count": 22,
   "source": [
    "stats.ttest_ind(balanced_highly_quoted_df['usa_gross_income'], balanced_lowly_quoted_df['usa_gross_income'], equal_var=False)"
   ],
   "outputs": [
    {
     "output_type": "execute_result",
     "data": {
      "text/plain": [
       "Ttest_indResult(statistic=2.492717014276856, pvalue=0.0144448363191324)"
      ]
     },
     "metadata": {},
     "execution_count": 22
    }
   ],
   "metadata": {}
  },
  {
   "cell_type": "markdown",
   "source": [
    "More quoted movies have higher mean gross income, the t-test and the confidence intervals point out they do differ significantly, we conclude that quotes have a significant positive effect on the gross income."
   ],
   "metadata": {}
  },
  {
   "cell_type": "code",
   "execution_count": 23,
   "source": [
    "fig, ax = plt.subplots(figsize =(20,10))\n",
    "sns.distplot(balanced_lowly_quoted_df['usa_gross_income'], hist=True, label='lowly quoted movies', ax=ax)\n",
    "sns.distplot(balanced_highly_quoted_df['usa_gross_income'], hist=True, label='highly quoted movies', ax=ax)\n",
    "ax.set(title='Box office distribution of movies',xlabel='usa gross income', ylabel='Frequency')\n",
    "plt.legend()\n",
    "plt.show()"
   ],
   "outputs": [
    {
     "output_type": "display_data",
     "data": {
      "image/png": "[encoded data removed]",
      "text/plain": [
       "<Figure size 1440x720 with 1 Axes>"
      ]
     },
     "metadata": {
      "needs_background": "light"
     }
    }
   ],
   "metadata": {}
  },
  {
   "cell_type": "markdown",
   "source": [
    "---"
   ],
   "metadata": {}
  },
  {
   "cell_type": "markdown",
   "source": [
    "# RQ2 <a class=\"anchor\" id=\"chapter3\"></a>"
   ],
   "metadata": {}
  },
  {
   "cell_type": "markdown",
   "source": [
    "---"
   ],
   "metadata": {}
  },
  {
   "cell_type": "markdown",
   "source": [
    "# RQ3: An Investigation into Time Series Box Office and Quotes in a Few Movies <a class=\"anchor\" id=\"chapter3\"></a>"
   ],
   "metadata": {}
  },
  {
   "cell_type": "markdown",
   "source": [
    "## Proposed method: \n",
    "## 3.1. Initial analysis and Kolmogorov-Smirnov test <a class=\"anchor\" id=\"chapter31\"></a>\n",
    "\n",
    "In this section, we will investigate the relationship between the boxOffice dataset and the Quotes in X movies."
   ],
   "metadata": {}
  },
  {
   "cell_type": "code",
   "execution_count": 24,
   "source": [
    "#Load in the boxOffice dataset\n",
    "filename = f\"boxOffice\"\n",
    "data_dir = os.getcwd() + os.sep + 'exploratory' + os.sep + 'data'\n",
    "\n",
    "df_boxOffice = pd.read_pickle(rf\"{data_dir}{os.sep}{filename}.pkl\")\n",
    "\n",
    "quotes = pd.read_pickle('./exploratory/data/Quotebank_sentiment.pkl')\n",
    "quotes['date'] = pd.to_datetime(quotes['date'])"
   ],
   "outputs": [],
   "metadata": {}
  },
  {
   "cell_type": "markdown",
   "source": [
    "To figure out which movies to use, we found that movies with few quotes were too boring. Below there is an example with Dolittle"
   ],
   "metadata": {}
  },
  {
   "cell_type": "code",
   "execution_count": 25,
   "source": [
    "from plotly.subplots import make_subplots\n",
    "import plotly.graph_objects as go\n",
    "fig = make_subplots(rows=2, cols=1, shared_xaxes=True,\n",
    "                    vertical_spacing=0.02)\n",
    "\n",
    "fig.append_trace(go.Bar(x=df_boxOffice[df_boxOffice.movie=='Dolittle'].days, y = df_boxOffice[df_boxOffice.movie=='Dolittle'].daily, name='boxOffice'), row=1, col=1)\n",
    "fig.append_trace(go.Bar(x=quotes[quotes.movie=='Dolittle'].date, y = quotes[quotes.movie=='Dolittle'].numOccurrences, name = 'Quotes'), row=2, col=1)\n",
    "fig.update_layout(title_text=\"Dolittle\")\n",
    "fig.show()"
   ],
   "outputs": [
    {
     "output_type": "display_data",
     "data": {
      "application/vnd.plotly.v1+json": {
       "data": [
        {
         "name": "boxOffice",
         "x": [
          "2020-01-17",
          "2020-01-18",
          "2020-01-19",
          "2020-01-20",
          "2020-01-21",
          "2020-01-22",
          "2020-01-23",
          "2020-01-24",
          "2020-01-25",
          "2020-01-26",
          "2020-01-27",
          "2020-01-28",
          "2020-01-29",
          "2020-01-30",
          "2020-01-31",
          "2020-02-01",
          "2020-02-02",
          "2020-02-03",
          "2020-02-04",
          "2020-02-05",
          "2020-02-06",
          "2020-02-07",
          "2020-02-08",
          "2020-02-09",
          "2020-02-10",
          "2020-02-11",
          "2020-02-12",
          "2020-02-13",
          "2020-02-14",
          "2020-02-15",
          "2020-02-16",
          "2020-02-17",
          "2020-02-18",
          "2020-02-19",
          "2020-02-20",
          "2020-02-21",
          "2020-02-22",
          "2020-02-23",
          "2020-02-24",
          "2020-02-25",
          "2020-02-26",
          "2020-02-27",
          "2020-02-28",
          "2020-02-29",
          "2020-03-01",
          "2020-03-02",
          "2020-03-03",
          "2020-03-04",
          "2020-03-05",
          "2020-03-06",
          "2020-03-07",
          "2020-03-08",
          "2020-03-09",
          "2020-03-10",
          "2020-03-11",
          "2020-03-12",
          "2020-03-13",
          "2020-03-14",
          "2020-03-15",
          "2020-03-16",
          "2020-03-17",
          "2020-03-18",
          "2020-03-19"
         ],
         "y": [
          6210110,
          8841885,
          6792050,
          6457885,
          2027695,
          960065,
          895040,
          2743920,
          5831305,
          3623610,
          687115,
          1182715,
          628400,
          637025,
          1966380,
          4102710,
          1524775,
          429940,
          824210,
          467975,
          465175,
          1468385,
          3157560,
          1908635,
          364165,
          584225,
          309010,
          359550,
          1630265,
          1863490,
          1368765,
          1262575,
          501755,
          297605,
          268320,
          478880,
          871065,
          500440,
          111295,
          182715,
          100600,
          110770,
          215865,
          489450,
          325615,
          98155,
          159585,
          99780,
          87025,
          101015,
          162980,
          87185,
          33090,
          46775,
          31065,
          23335,
          21685,
          34910,
          19660,
          6240,
          2645,
          550,
          400
         ],
         "type": "bar",
         "xaxis": "x",
         "yaxis": "y"
        },
        {
         "name": "Quotes",
         "x": [
          "2020-01-24T00:00:00",
          "2020-01-18T00:00:00",
          "2020-01-16T00:00:00",
          "2020-01-15T00:00:00",
          "2020-01-15T00:00:00",
          "2020-01-09T00:00:00",
          "2020-01-16T00:00:00",
          "2020-01-16T00:00:00",
          "2020-02-06T00:00:00",
          "2020-01-15T00:00:00",
          "2020-01-15T00:00:00",
          "2020-01-16T00:00:00",
          "2020-01-17T00:00:00",
          "2020-01-21T00:00:00",
          "2020-01-18T00:00:00",
          "2020-01-16T00:00:00",
          "2020-01-15T00:00:00",
          "2020-01-10T00:00:00",
          "2020-01-16T00:00:00",
          "2020-03-22T00:00:00",
          "2020-01-16T00:00:00",
          "2020-01-16T00:00:00",
          "2020-01-23T00:00:00",
          "2020-01-24T00:00:00",
          "2020-01-15T00:00:00",
          "2020-01-15T00:00:00",
          "2020-01-24T00:00:00",
          "2020-01-24T00:00:00",
          "2020-01-19T00:00:00",
          "2020-01-10T00:00:00",
          "2020-01-16T00:00:00",
          "2020-01-15T00:00:00",
          "2020-01-16T00:00:00",
          "2020-01-16T00:00:00",
          "2020-01-19T00:00:00",
          "2020-01-16T00:00:00",
          "2020-01-17T00:00:00",
          "2020-01-15T00:00:00",
          "2020-01-16T00:00:00",
          "2020-02-09T00:00:00",
          "2020-01-16T00:00:00",
          "2020-01-22T00:00:00",
          "2020-01-13T00:00:00",
          "2020-01-16T00:00:00",
          "2020-01-15T00:00:00",
          "2020-01-19T00:00:00",
          "2020-02-03T00:00:00",
          "2020-01-16T00:00:00",
          "2020-02-09T00:00:00",
          "2020-04-10T00:00:00",
          "2020-01-29T00:00:00",
          "2020-01-15T00:00:00",
          "2020-02-07T00:00:00",
          "2020-01-16T00:00:00",
          "2020-01-15T00:00:00",
          "2020-01-04T00:00:00",
          "2020-01-16T00:00:00",
          "2020-02-04T00:00:00",
          "2020-01-11T00:00:00",
          "2020-03-23T00:00:00",
          "2020-01-15T00:00:00",
          "2020-01-16T00:00:00",
          "2020-01-15T00:00:00",
          "2020-01-16T00:00:00",
          "2020-01-13T00:00:00",
          "2020-01-27T00:00:00",
          "2020-01-26T00:00:00",
          "2020-01-19T00:00:00",
          "2020-01-16T00:00:00",
          "2020-01-16T00:00:00",
          "2020-01-15T00:00:00",
          "2020-02-06T00:00:00",
          "2020-01-15T00:00:00",
          "2020-01-15T00:00:00"
         ],
         "y": [
          1,
          1,
          2,
          1,
          1,
          1,
          1,
          4,
          5,
          1,
          1,
          2,
          1,
          1,
          1,
          2,
          1,
          1,
          2,
          1,
          1,
          2,
          2,
          1,
          3,
          2,
          1,
          1,
          1,
          3,
          2,
          1,
          2,
          1,
          1,
          1,
          4,
          2,
          1,
          1,
          2,
          1,
          1,
          1,
          1,
          1,
          1,
          1,
          1,
          1,
          1,
          1,
          1,
          1,
          1,
          1,
          2,
          1,
          1,
          2,
          1,
          5,
          1,
          1,
          1,
          1,
          1,
          1,
          3,
          2,
          1,
          6,
          1,
          2
         ],
         "type": "bar",
         "xaxis": "x2",
         "yaxis": "y2"
        }
       ],
       "layout": {
        "template": {
         "data": {
          "bar": [
           {
            "error_x": {
             "color": "#2a3f5f"
            },
            "error_y": {
             "color": "#2a3f5f"
            },
            "marker": {
             "line": {
              "color": "#E5ECF6",
              "width": 0.5
             },
             "pattern": {
              "fillmode": "overlay",
              "size": 10,
              "solidity": 0.2
             }
            },
            "type": "bar"
           }
          ],
          "barpolar": [
           {
            "marker": {
             "line": {
              "color": "#E5ECF6",
              "width": 0.5
             },
             "pattern": {
              "fillmode": "overlay",
              "size": 10,
              "solidity": 0.2
             }
            },
            "type": "barpolar"
           }
          ],
          "carpet": [
           {
            "aaxis": {
             "endlinecolor": "#2a3f5f",
             "gridcolor": "white",
             "linecolor": "white",
             "minorgridcolor": "white",
             "startlinecolor": "#2a3f5f"
            },
            "baxis": {
             "endlinecolor": "#2a3f5f",
             "gridcolor": "white",
             "linecolor": "white",
             "minorgridcolor": "white",
             "startlinecolor": "#2a3f5f"
            },
            "type": "carpet"
           }
          ],
          "choropleth": [
           {
            "colorbar": {
             "outlinewidth": 0,
             "ticks": ""
            },
            "type": "choropleth"
           }
          ],
          "contour": [
           {
            "colorbar": {
             "outlinewidth": 0,
             "ticks": ""
            },
            "colorscale": [
             [
              0,
              "#0d0887"
             ],
             [
              0.1111111111111111,
              "#46039f"
             ],
             [
              0.2222222222222222,
              "#7201a8"
             ],
             [
              0.3333333333333333,
              "#9c179e"
             ],
             [
              0.4444444444444444,
              "#bd3786"
             ],
             [
              0.5555555555555556,
              "#d8576b"
             ],
             [
              0.6666666666666666,
              "#ed7953"
             ],
             [
              0.7777777777777778,
              "#fb9f3a"
             ],
             [
              0.8888888888888888,
              "#fdca26"
             ],
             [
              1,
              "#f0f921"
             ]
            ],
            "type": "contour"
           }
          ],
          "contourcarpet": [
           {
            "colorbar": {
             "outlinewidth": 0,
             "ticks": ""
            },
            "type": "contourcarpet"
           }
          ],
          "heatmap": [
           {
            "colorbar": {
             "outlinewidth": 0,
             "ticks": ""
            },
            "colorscale": [
             [
              0,
              "#0d0887"
             ],
             [
              0.1111111111111111,
              "#46039f"
             ],
             [
              0.2222222222222222,
              "#7201a8"
             ],
             [
              0.3333333333333333,
              "#9c179e"
             ],
             [
              0.4444444444444444,
              "#bd3786"
             ],
             [
              0.5555555555555556,
              "#d8576b"
             ],
             [
              0.6666666666666666,
              "#ed7953"
             ],
             [
              0.7777777777777778,
              "#fb9f3a"
             ],
             [
              0.8888888888888888,
              "#fdca26"
             ],
             [
              1,
              "#f0f921"
             ]
            ],
            "type": "heatmap"
           }
          ],
          "heatmapgl": [
           {
            "colorbar": {
             "outlinewidth": 0,
             "ticks": ""
            },
            "colorscale": [
             [
              0,
              "#0d0887"
             ],
             [
              0.1111111111111111,
              "#46039f"
             ],
             [
              0.2222222222222222,
              "#7201a8"
             ],
             [
              0.3333333333333333,
              "#9c179e"
             ],
             [
              0.4444444444444444,
              "#bd3786"
             ],
             [
              0.5555555555555556,
              "#d8576b"
             ],
             [
              0.6666666666666666,
              "#ed7953"
             ],
             [
              0.7777777777777778,
              "#fb9f3a"
             ],
             [
              0.8888888888888888,
              "#fdca26"
             ],
             [
              1,
              "#f0f921"
             ]
            ],
            "type": "heatmapgl"
           }
          ],
          "histogram": [
           {
            "marker": {
             "pattern": {
              "fillmode": "overlay",
              "size": 10,
              "solidity": 0.2
             }
            },
            "type": "histogram"
           }
          ],
          "histogram2d": [
           {
            "colorbar": {
             "outlinewidth": 0,
             "ticks": ""
            },
            "colorscale": [
             [
              0,
              "#0d0887"
             ],
             [
              0.1111111111111111,
              "#46039f"
             ],
             [
              0.2222222222222222,
              "#7201a8"
             ],
             [
              0.3333333333333333,
              "#9c179e"
             ],
             [
              0.4444444444444444,
              "#bd3786"
             ],
             [
              0.5555555555555556,
              "#d8576b"
             ],
             [
              0.6666666666666666,
              "#ed7953"
             ],
             [
              0.7777777777777778,
              "#fb9f3a"
             ],
             [
              0.8888888888888888,
              "#fdca26"
             ],
             [
              1,
              "#f0f921"
             ]
            ],
            "type": "histogram2d"
           }
          ],
          "histogram2dcontour": [
           {
            "colorbar": {
             "outlinewidth": 0,
             "ticks": ""
            },
            "colorscale": [
             [
              0,
              "#0d0887"
             ],
             [
              0.1111111111111111,
              "#46039f"
             ],
             [
              0.2222222222222222,
              "#7201a8"
             ],
             [
              0.3333333333333333,
              "#9c179e"
             ],
             [
              0.4444444444444444,
              "#bd3786"
             ],
             [
              0.5555555555555556,
              "#d8576b"
             ],
             [
              0.6666666666666666,
              "#ed7953"
             ],
             [
              0.7777777777777778,
              "#fb9f3a"
             ],
             [
              0.8888888888888888,
              "#fdca26"
             ],
             [
              1,
              "#f0f921"
             ]
            ],
            "type": "histogram2dcontour"
           }
          ],
          "mesh3d": [
           {
            "colorbar": {
             "outlinewidth": 0,
             "ticks": ""
            },
            "type": "mesh3d"
           }
          ],
          "parcoords": [
           {
            "line": {
             "colorbar": {
              "outlinewidth": 0,
              "ticks": ""
             }
            },
            "type": "parcoords"
           }
          ],
          "pie": [
           {
            "automargin": true,
            "type": "pie"
           }
          ],
          "scatter": [
           {
            "marker": {
             "colorbar": {
              "outlinewidth": 0,
              "ticks": ""
             }
            },
            "type": "scatter"
           }
          ],
          "scatter3d": [
           {
            "line": {
             "colorbar": {
              "outlinewidth": 0,
              "ticks": ""
             }
            },
            "marker": {
             "colorbar": {
              "outlinewidth": 0,
              "ticks": ""
             }
            },
            "type": "scatter3d"
           }
          ],
          "scattercarpet": [
           {
            "marker": {
             "colorbar": {
              "outlinewidth": 0,
              "ticks": ""
             }
            },
            "type": "scattercarpet"
           }
          ],
          "scattergeo": [
           {
            "marker": {
             "colorbar": {
              "outlinewidth": 0,
              "ticks": ""
             }
            },
            "type": "scattergeo"
           }
          ],
          "scattergl": [
           {
            "marker": {
             "colorbar": {
              "outlinewidth": 0,
              "ticks": ""
             }
            },
            "type": "scattergl"
           }
          ],
          "scattermapbox": [
           {
            "marker": {
             "colorbar": {
              "outlinewidth": 0,
              "ticks": ""
             }
            },
            "type": "scattermapbox"
           }
          ],
          "scatterpolar": [
           {
            "marker": {
             "colorbar": {
              "outlinewidth": 0,
              "ticks": ""
             }
            },
            "type": "scatterpolar"
           }
          ],
          "scatterpolargl": [
           {
            "marker": {
             "colorbar": {
              "outlinewidth": 0,
              "ticks": ""
             }
            },
            "type": "scatterpolargl"
           }
          ],
          "scatterternary": [
           {
            "marker": {
             "colorbar": {
              "outlinewidth": 0,
              "ticks": ""
             }
            },
            "type": "scatterternary"
           }
          ],
          "surface": [
           {
            "colorbar": {
             "outlinewidth": 0,
             "ticks": ""
            },
            "colorscale": [
             [
              0,
              "#0d0887"
             ],
             [
              0.1111111111111111,
              "#46039f"
             ],
             [
              0.2222222222222222,
              "#7201a8"
             ],
             [
              0.3333333333333333,
              "#9c179e"
             ],
             [
              0.4444444444444444,
              "#bd3786"
             ],
             [
              0.5555555555555556,
              "#d8576b"
             ],
             [
              0.6666666666666666,
              "#ed7953"
             ],
             [
              0.7777777777777778,
              "#fb9f3a"
             ],
             [
              0.8888888888888888,
              "#fdca26"
             ],
             [
              1,
              "#f0f921"
             ]
            ],
            "type": "surface"
           }
          ],
          "table": [
           {
            "cells": {
             "fill": {
              "color": "#EBF0F8"
             },
             "line": {
              "color": "white"
             }
            },
            "header": {
             "fill": {
              "color": "#C8D4E3"
             },
             "line": {
              "color": "white"
             }
            },
            "type": "table"
           }
          ]
         },
         "layout": {
          "annotationdefaults": {
           "arrowcolor": "#2a3f5f",
           "arrowhead": 0,
           "arrowwidth": 1
          },
          "autotypenumbers": "strict",
          "coloraxis": {
           "colorbar": {
            "outlinewidth": 0,
            "ticks": ""
           }
          },
          "colorscale": {
           "diverging": [
            [
             0,
             "#8e0152"
            ],
            [
             0.1,
             "#c51b7d"
            ],
            [
             0.2,
             "#de77ae"
            ],
            [
             0.3,
             "#f1b6da"
            ],
            [
             0.4,
             "#fde0ef"
            ],
            [
             0.5,
             "#f7f7f7"
            ],
            [
             0.6,
             "#e6f5d0"
            ],
            [
             0.7,
             "#b8e186"
            ],
            [
             0.8,
             "#7fbc41"
            ],
            [
             0.9,
             "#4d9221"
            ],
            [
             1,
             "#276419"
            ]
           ],
           "sequential": [
            [
             0,
             "#0d0887"
            ],
            [
             0.1111111111111111,
             "#46039f"
            ],
            [
             0.2222222222222222,
             "#7201a8"
            ],
            [
             0.3333333333333333,
             "#9c179e"
            ],
            [
             0.4444444444444444,
             "#bd3786"
            ],
            [
             0.5555555555555556,
             "#d8576b"
            ],
            [
             0.6666666666666666,
             "#ed7953"
            ],
            [
             0.7777777777777778,
             "#fb9f3a"
            ],
            [
             0.8888888888888888,
             "#fdca26"
            ],
            [
             1,
             "#f0f921"
            ]
           ],
           "sequentialminus": [
            [
             0,
             "#0d0887"
            ],
            [
             0.1111111111111111,
             "#46039f"
            ],
            [
             0.2222222222222222,
             "#7201a8"
            ],
            [
             0.3333333333333333,
             "#9c179e"
            ],
            [
             0.4444444444444444,
             "#bd3786"
            ],
            [
             0.5555555555555556,
             "#d8576b"
            ],
            [
             0.6666666666666666,
             "#ed7953"
            ],
            [
             0.7777777777777778,
             "#fb9f3a"
            ],
            [
             0.8888888888888888,
             "#fdca26"
            ],
            [
             1,
             "#f0f921"
            ]
           ]
          },
          "colorway": [
           "#636efa",
           "#EF553B",
           "#00cc96",
           "#ab63fa",
           "#FFA15A",
           "#19d3f3",
           "#FF6692",
           "#B6E880",
           "#FF97FF",
           "#FECB52"
          ],
          "font": {
           "color": "#2a3f5f"
          },
          "geo": {
           "bgcolor": "white",
           "lakecolor": "white",
           "landcolor": "#E5ECF6",
           "showlakes": true,
           "showland": true,
           "subunitcolor": "white"
          },
          "hoverlabel": {
           "align": "left"
          },
          "hovermode": "closest",
          "mapbox": {
           "style": "light"
          },
          "paper_bgcolor": "white",
          "plot_bgcolor": "#E5ECF6",
          "polar": {
           "angularaxis": {
            "gridcolor": "white",
            "linecolor": "white",
            "ticks": ""
           },
           "bgcolor": "#E5ECF6",
           "radialaxis": {
            "gridcolor": "white",
            "linecolor": "white",
            "ticks": ""
           }
          },
          "scene": {
           "xaxis": {
            "backgroundcolor": "#E5ECF6",
            "gridcolor": "white",
            "gridwidth": 2,
            "linecolor": "white",
            "showbackground": true,
            "ticks": "",
            "zerolinecolor": "white"
           },
           "yaxis": {
            "backgroundcolor": "#E5ECF6",
            "gridcolor": "white",
            "gridwidth": 2,
            "linecolor": "white",
            "showbackground": true,
            "ticks": "",
            "zerolinecolor": "white"
           },
           "zaxis": {
            "backgroundcolor": "#E5ECF6",
            "gridcolor": "white",
            "gridwidth": 2,
            "linecolor": "white",
            "showbackground": true,
            "ticks": "",
            "zerolinecolor": "white"
           }
          },
          "shapedefaults": {
           "line": {
            "color": "#2a3f5f"
           }
          },
          "ternary": {
           "aaxis": {
            "gridcolor": "white",
            "linecolor": "white",
            "ticks": ""
           },
           "baxis": {
            "gridcolor": "white",
            "linecolor": "white",
            "ticks": ""
           },
           "bgcolor": "#E5ECF6",
           "caxis": {
            "gridcolor": "white",
            "linecolor": "white",
            "ticks": ""
           }
          },
          "title": {
           "x": 0.05
          },
          "xaxis": {
           "automargin": true,
           "gridcolor": "white",
           "linecolor": "white",
           "ticks": "",
           "title": {
            "standoff": 15
           },
           "zerolinecolor": "white",
           "zerolinewidth": 2
          },
          "yaxis": {
           "automargin": true,
           "gridcolor": "white",
           "linecolor": "white",
           "ticks": "",
           "title": {
            "standoff": 15
           },
           "zerolinecolor": "white",
           "zerolinewidth": 2
          }
         }
        },
        "xaxis": {
         "anchor": "y",
         "domain": [
          0,
          1
         ],
         "matches": "x2",
         "showticklabels": false
        },
        "yaxis": {
         "anchor": "x",
         "domain": [
          0.51,
          1
         ]
        },
        "xaxis2": {
         "anchor": "y2",
         "domain": [
          0,
          1
         ]
        },
        "yaxis2": {
         "anchor": "x2",
         "domain": [
          0,
          0.49
         ]
        },
        "title": {
         "text": "Dolittle"
        }
       },
       "config": {
        "plotlyServerURL": "https://plot.ly"
       }
      }
     },
     "metadata": {}
    }
   ],
   "metadata": {}
  },
  {
   "cell_type": "markdown",
   "source": [
    "Instead we decided to take the three most quoted movies. The cell below shows how we sorted the movies:"
   ],
   "metadata": {}
  },
  {
   "cell_type": "code",
   "execution_count": 26,
   "source": [
    "movies, freq_unsorted = np.unique(quotes.movie, return_counts=True)\n",
    "freq, movies = np.array(list(zip(*sorted(zip(freq_unsorted, movies), reverse=True))))\n",
    "\n",
    "print(\"Three top quoted movies: \")\n",
    "list(zip(movies, freq))[:3]"
   ],
   "outputs": [
    {
     "output_type": "stream",
     "name": "stdout",
     "text": [
      "Three top quoted movies: \n"
     ]
    },
    {
     "output_type": "execute_result",
     "data": {
      "text/plain": [
       "[('Star Wars: Episode VIII - The Last Jedi', '8368'),\n",
       " ('Star Wars: Episode VII - The Force Awakens', '7812'),\n",
       " ('Thor: Ragnarok', '6849')]"
      ]
     },
     "metadata": {},
     "execution_count": 26
    }
   ],
   "metadata": {}
  },
  {
   "cell_type": "markdown",
   "source": [
    "There you have it. We will do similar plots to the one above with Dolittle, however, we will only plot the period in which the movies were in theaters. This will come in handy when we test the distributions. The cells below will filter the data and plot it:"
   ],
   "metadata": {}
  },
  {
   "cell_type": "code",
   "execution_count": 27,
   "source": [
    "#Get the min and max day for all three films\n",
    "min_day_sw_VIII = list(df_boxOffice[df_boxOffice.movie=='Star Wars: Episode VIII - The Last Jedi'].days)[0]\n",
    "max_day_sw_VIII = list(df_boxOffice[df_boxOffice.movie=='Star Wars: Episode VIII - The Last Jedi'].days)[-1]\n",
    "\n",
    "min_day_sw_VII = list(df_boxOffice[df_boxOffice.movie=='Star Wars: Episode VII - The Force Awakens'].days)[0]\n",
    "max_day_sw_VII = list(df_boxOffice[df_boxOffice.movie=='Star Wars: Episode VII - The Force Awakens'].days)[-1]\n",
    "\n",
    "min_day_thor = list(df_boxOffice[df_boxOffice.movie=='Thor: Ragnarok'].days)[0]\n",
    "max_day_thor = list(df_boxOffice[df_boxOffice.movie=='Thor: Ragnarok'].days)[-1]\n",
    "\n",
    "#Define new dataframes, where we can drop all quotes outside of our scope\n",
    "sw_VIII = quotes[quotes.movie=='Star Wars: Episode VIII - The Last Jedi']\n",
    "sw_VII = quotes[quotes.movie=='Star Wars: Episode VII - The Force Awakens']\n",
    "thor = quotes[quotes.movie=='Thor: Ragnarok']\n",
    "\n",
    "#Drop all quotes outside of our time periods:\n",
    "sw_VIII=sw_VIII[sw_VIII.date>=min_day_sw_VIII]\n",
    "sw_VIII=sw_VIII[sw_VIII.date<=max_day_sw_VIII]\n",
    "\n",
    "sw_VII=sw_VII[sw_VII.date>=min_day_sw_VII]\n",
    "sw_VII=sw_VII[sw_VII.date<=max_day_sw_VII]\n",
    "\n",
    "thor=thor[thor.date>=min_day_thor]\n",
    "thor=thor[thor.date<=max_day_thor]"
   ],
   "outputs": [],
   "metadata": {}
  },
  {
   "cell_type": "code",
   "execution_count": 28,
   "source": [
    "#Star Wars: Episode VIII - The Last Jedi:\n",
    "fig = make_subplots(rows=2, cols=1, shared_xaxes=True,\n",
    "                    vertical_spacing=0.02)\n",
    "\n",
    "fig.append_trace(go.Bar(x=df_boxOffice[df_boxOffice.movie=='Star Wars: Episode VIII - The Last Jedi'].days, y = df_boxOffice[df_boxOffice.movie=='Star Wars: Episode VIII - The Last Jedi'].daily, name='boxOffice'), row=1, col=1)\n",
    "fig.append_trace(go.Bar(x=sw_VIII.date, y = sw_VIII.numOccurrences, name = 'Quotes'), row=2, col=1)\n",
    "fig.update_layout(title_text=\"Star Wars: Episode VIII - The Last Jedi\")\n",
    "fig.show()"
   ],
   "outputs": [
    {
     "output_type": "display_data",
     "data": {
      "application/vnd.plotly.v1+json": {
       "data": [
        {
         "name": "boxOffice",
         "x": [
          "2017-12-15",
          "2017-12-16",
          "2017-12-17",
          "2017-12-18",
          "2017-12-19",
          "2017-12-20",
          "2017-12-21",
          "2017-12-22",
          "2017-12-23",
          "2017-12-24",
          "2017-12-25",
          "2017-12-26",
          "2017-12-27",
          "2017-12-28",
          "2017-12-29",
          "2017-12-30",
          "2017-12-31",
          "2018-01-01",
          "2018-01-02",
          "2018-01-03",
          "2018-01-04",
          "2018-01-05",
          "2018-01-06",
          "2018-01-07",
          "2018-01-08",
          "2018-01-09",
          "2018-01-10",
          "2018-01-11",
          "2018-01-12",
          "2018-01-13",
          "2018-01-14",
          "2018-01-15",
          "2018-01-16",
          "2018-01-17",
          "2018-01-18",
          "2018-01-19",
          "2018-01-20",
          "2018-01-21",
          "2018-01-22",
          "2018-01-23",
          "2018-01-24",
          "2018-01-25",
          "2018-01-26",
          "2018-01-27",
          "2018-01-28",
          "2018-01-29",
          "2018-01-30",
          "2018-01-31",
          "2018-02-01",
          "2018-02-02",
          "2018-02-03",
          "2018-02-04",
          "2018-02-05",
          "2018-02-06",
          "2018-02-07",
          "2018-02-08",
          "2018-02-09",
          "2018-02-10",
          "2018-02-11",
          "2018-02-12",
          "2018-02-13",
          "2018-02-14",
          "2018-02-15",
          "2018-02-16",
          "2018-02-17",
          "2018-02-18",
          "2018-02-19",
          "2018-02-20",
          "2018-02-21",
          "2018-02-22",
          "2018-02-23",
          "2018-02-24",
          "2018-02-25",
          "2018-02-26",
          "2018-02-27",
          "2018-02-28",
          "2018-03-01",
          "2018-03-02",
          "2018-03-03",
          "2018-03-04",
          "2018-03-05",
          "2018-03-06",
          "2018-03-07",
          "2018-03-08",
          "2018-03-09",
          "2018-03-10",
          "2018-03-11",
          "2018-03-12",
          "2018-03-13",
          "2018-03-14",
          "2018-03-15",
          "2018-03-16",
          "2018-03-17",
          "2018-03-18",
          "2018-03-19",
          "2018-03-20",
          "2018-03-21",
          "2018-03-22",
          "2018-03-23",
          "2018-03-24",
          "2018-03-25",
          "2018-03-26",
          "2018-03-27",
          "2018-03-28",
          "2018-03-29",
          "2018-03-30",
          "2018-03-31",
          "2018-04-01",
          "2018-04-02",
          "2018-04-03",
          "2018-04-04",
          "2018-04-05",
          "2018-04-06",
          "2018-04-07",
          "2018-04-08",
          "2018-04-09",
          "2018-04-10",
          "2018-04-11",
          "2018-04-12",
          "2018-04-13",
          "2018-04-14",
          "2018-04-15",
          "2018-04-16",
          "2018-04-17",
          "2018-04-18",
          "2018-04-19"
         ],
         "y": [
          104684491,
          63993205,
          51331888,
          21556373,
          20254189,
          16889863,
          17892347,
          24763084,
          29172415,
          17629999,
          27459557,
          27734356,
          21846132,
          19490329,
          19029250,
          19924241,
          13566649,
          14293461,
          7876574,
          5225332,
          4348867,
          6523473,
          10398845,
          6806626,
          1791497,
          2368317,
          1744275,
          1678949,
          2670813,
          4990298,
          4193370,
          2773240,
          1103853,
          861084,
          851234,
          1625633,
          3168473,
          1761329,
          539120,
          676890,
          531967,
          519933,
          954781,
          1933603,
          1365617,
          322382,
          385086,
          306959,
          306531,
          611248,
          1231261,
          495733,
          234836,
          279012,
          233874,
          233535,
          302407,
          643888,
          451118,
          142393,
          140623,
          202432,
          103637,
          132463,
          263352,
          221883,
          158864,
          65094,
          58017,
          53268,
          84125,
          159028,
          109685,
          31338,
          35605,
          34472,
          33665,
          62230,
          120723,
          69736,
          24200,
          26422,
          27612,
          23172,
          66746,
          122200,
          76567,
          32531,
          36184,
          33224,
          31434,
          50038,
          75189,
          49529,
          17899,
          18418,
          17933,
          20186,
          29559,
          44955,
          27506,
          14511,
          16845,
          14468,
          17250,
          27758,
          26916,
          12315,
          8694,
          7381,
          6800,
          10254,
          11517,
          14984,
          7043,
          1752,
          2033,
          1982,
          2418,
          1460,
          2716,
          1669,
          621,
          769,
          543,
          854
         ],
         "type": "bar",
         "xaxis": "x",
         "yaxis": "y"
        },
        {
         "name": "Quotes",
         "x": [
          "2017-12-20T00:00:00",
          "2017-12-22T00:00:00",
          "2017-12-27T00:00:00",
          "2017-12-15T00:00:00",
          "2017-12-26T00:00:00",
          "2017-12-15T00:00:00",
          "2017-12-18T00:00:00",
          "2017-12-18T00:00:00",
          "2017-12-18T00:00:00",
          "2017-12-15T00:00:00",
          "2017-12-17T00:00:00",
          "2017-12-27T00:00:00",
          "2017-12-20T00:00:00",
          "2017-12-15T00:00:00",
          "2017-12-15T00:00:00",
          "2017-12-22T00:00:00",
          "2017-12-18T00:00:00",
          "2017-12-15T00:00:00",
          "2017-12-15T00:00:00",
          "2017-12-18T00:00:00",
          "2017-12-21T00:00:00",
          "2017-12-23T00:00:00",
          "2017-12-15T00:00:00",
          "2017-12-15T00:00:00",
          "2017-12-18T00:00:00",
          "2017-12-16T00:00:00",
          "2017-12-19T00:00:00",
          "2017-12-18T00:00:00",
          "2017-12-19T00:00:00",
          "2017-12-22T00:00:00",
          "2017-12-27T00:00:00",
          "2017-12-22T00:00:00",
          "2017-12-17T00:00:00",
          "2017-12-23T00:00:00",
          "2017-12-19T00:00:00",
          "2017-12-16T00:00:00",
          "2017-12-26T00:00:00",
          "2017-12-22T00:00:00",
          "2017-12-22T00:00:00",
          "2017-12-28T00:00:00",
          "2017-12-15T00:00:00",
          "2017-12-22T00:00:00",
          "2017-12-23T00:00:00",
          "2017-12-18T00:00:00",
          "2017-12-17T00:00:00",
          "2017-12-21T00:00:00",
          "2017-12-19T00:00:00",
          "2017-12-22T00:00:00",
          "2017-12-23T00:00:00",
          "2017-12-15T00:00:00",
          "2017-12-15T00:00:00",
          "2017-12-29T00:00:00",
          "2017-12-27T00:00:00",
          "2017-12-22T00:00:00",
          "2017-12-22T00:00:00",
          "2017-12-18T00:00:00",
          "2017-12-22T00:00:00",
          "2017-12-18T00:00:00",
          "2017-12-22T00:00:00",
          "2017-12-19T00:00:00",
          "2017-12-15T00:00:00",
          "2017-12-18T00:00:00",
          "2017-12-15T00:00:00",
          "2017-12-28T00:00:00",
          "2017-12-24T00:00:00",
          "2017-12-20T00:00:00",
          "2017-12-15T00:00:00",
          "2017-12-15T00:00:00",
          "2017-12-23T00:00:00",
          "2017-12-16T00:00:00",
          "2017-12-20T00:00:00",
          "2017-12-19T00:00:00",
          "2017-12-28T00:00:00",
          "2017-12-22T00:00:00",
          "2017-12-19T00:00:00",
          "2017-12-21T00:00:00",
          "2017-12-24T00:00:00",
          "2017-12-19T00:00:00",
          "2017-12-28T00:00:00",
          "2017-12-23T00:00:00",
          "2017-12-25T00:00:00",
          "2017-12-16T00:00:00",
          "2017-12-15T00:00:00",
          "2017-12-15T00:00:00",
          "2017-12-28T00:00:00",
          "2017-12-25T00:00:00",
          "2017-12-20T00:00:00",
          "2017-12-19T00:00:00",
          "2017-12-18T00:00:00",
          "2017-12-29T00:00:00",
          "2017-12-16T00:00:00",
          "2017-12-20T00:00:00",
          "2017-12-15T00:00:00",
          "2017-12-20T00:00:00",
          "2017-12-26T00:00:00",
          "2017-12-21T00:00:00",
          "2017-12-15T00:00:00",
          "2017-12-19T00:00:00",
          "2017-12-18T00:00:00",
          "2017-12-28T00:00:00",
          "2017-12-17T00:00:00",
          "2017-12-19T00:00:00",
          "2017-12-21T00:00:00",
          "2017-12-15T00:00:00",
          "2017-12-15T00:00:00",
          "2017-12-30T00:00:00",
          "2017-12-17T00:00:00",
          "2017-12-20T00:00:00",
          "2017-12-29T00:00:00",
          "2017-12-17T00:00:00",
          "2017-12-27T00:00:00",
          "2017-12-18T00:00:00",
          "2017-12-23T00:00:00",
          "2017-12-15T00:00:00",
          "2017-12-18T00:00:00",
          "2017-12-17T00:00:00",
          "2017-12-19T00:00:00",
          "2017-12-16T00:00:00",
          "2017-12-21T00:00:00",
          "2017-12-16T00:00:00",
          "2017-12-20T00:00:00",
          "2017-12-15T00:00:00",
          "2017-12-28T00:00:00",
          "2017-12-20T00:00:00",
          "2017-12-24T00:00:00",
          "2017-12-20T00:00:00",
          "2017-12-18T00:00:00",
          "2017-12-22T00:00:00",
          "2017-12-19T00:00:00",
          "2017-12-18T00:00:00",
          "2017-12-26T00:00:00",
          "2017-12-26T00:00:00",
          "2017-12-19T00:00:00",
          "2017-12-19T00:00:00",
          "2017-12-19T00:00:00",
          "2017-12-20T00:00:00",
          "2017-12-18T00:00:00",
          "2017-12-26T00:00:00",
          "2017-12-27T00:00:00",
          "2017-12-21T00:00:00",
          "2017-12-15T00:00:00",
          "2017-12-30T00:00:00",
          "2017-12-20T00:00:00",
          "2017-12-23T00:00:00",
          "2017-12-18T00:00:00",
          "2017-12-22T00:00:00",
          "2017-12-18T00:00:00",
          "2017-12-15T00:00:00",
          "2017-12-21T00:00:00",
          "2017-12-15T00:00:00",
          "2017-12-21T00:00:00",
          "2017-12-21T00:00:00",
          "2017-12-15T00:00:00",
          "2017-12-27T00:00:00",
          "2017-12-18T00:00:00",
          "2017-12-20T00:00:00",
          "2017-12-19T00:00:00",
          "2017-12-20T00:00:00",
          "2017-12-15T00:00:00",
          "2017-12-18T00:00:00",
          "2017-12-19T00:00:00",
          "2017-12-21T00:00:00",
          "2017-12-20T00:00:00",
          "2017-12-25T00:00:00",
          "2017-12-15T00:00:00",
          "2017-12-18T00:00:00",
          "2017-12-29T00:00:00",
          "2017-12-15T00:00:00",
          "2017-12-26T00:00:00",
          "2017-12-30T00:00:00",
          "2017-12-19T00:00:00",
          "2017-12-15T00:00:00",
          "2017-12-25T00:00:00",
          "2017-12-26T00:00:00",
          "2017-12-31T00:00:00",
          "2017-12-26T00:00:00",
          "2017-12-18T00:00:00",
          "2017-12-15T00:00:00",
          "2017-12-19T00:00:00",
          "2017-12-22T00:00:00",
          "2017-12-19T00:00:00",
          "2017-12-16T00:00:00",
          "2017-12-29T00:00:00",
          "2017-12-17T00:00:00",
          "2017-12-21T00:00:00",
          "2017-12-17T00:00:00",
          "2017-12-19T00:00:00",
          "2017-12-27T00:00:00",
          "2017-12-22T00:00:00",
          "2017-12-15T00:00:00",
          "2017-12-15T00:00:00",
          "2017-12-15T00:00:00",
          "2017-12-16T00:00:00",
          "2017-12-22T00:00:00",
          "2017-12-27T00:00:00",
          "2017-12-19T00:00:00",
          "2017-12-16T00:00:00",
          "2017-12-22T00:00:00",
          "2017-12-20T00:00:00",
          "2017-12-15T00:00:00",
          "2017-12-15T00:00:00",
          "2017-12-21T00:00:00",
          "2017-12-17T00:00:00",
          "2017-12-15T00:00:00",
          "2017-12-17T00:00:00",
          "2017-12-19T00:00:00",
          "2017-12-15T00:00:00",
          "2017-12-31T00:00:00",
          "2017-12-21T00:00:00",
          "2017-12-27T00:00:00",
          "2017-12-25T00:00:00",
          "2017-12-17T00:00:00",
          "2017-12-15T00:00:00",
          "2017-12-19T00:00:00",
          "2017-12-28T00:00:00",
          "2017-12-19T00:00:00",
          "2017-12-21T00:00:00",
          "2017-12-15T00:00:00",
          "2017-12-15T00:00:00",
          "2017-12-15T00:00:00",
          "2017-12-19T00:00:00",
          "2017-12-18T00:00:00",
          "2017-12-17T00:00:00",
          "2017-12-16T00:00:00",
          "2017-12-15T00:00:00",
          "2017-12-20T00:00:00",
          "2017-12-15T00:00:00",
          "2017-12-26T00:00:00",
          "2017-12-16T00:00:00",
          "2017-12-22T00:00:00",
          "2017-12-24T00:00:00",
          "2017-12-15T00:00:00",
          "2017-12-20T00:00:00",
          "2017-12-15T00:00:00",
          "2017-12-15T00:00:00",
          "2017-12-21T00:00:00",
          "2017-12-20T00:00:00",
          "2017-12-15T00:00:00",
          "2017-12-21T00:00:00",
          "2017-12-17T00:00:00",
          "2017-12-19T00:00:00",
          "2017-12-23T00:00:00",
          "2017-12-18T00:00:00",
          "2017-12-18T00:00:00",
          "2017-12-15T00:00:00",
          "2017-12-18T00:00:00",
          "2017-12-19T00:00:00",
          "2017-12-20T00:00:00",
          "2017-12-17T00:00:00",
          "2017-12-29T00:00:00",
          "2017-12-16T00:00:00",
          "2017-12-22T00:00:00",
          "2017-12-18T00:00:00",
          "2017-12-25T00:00:00",
          "2017-12-15T00:00:00",
          "2017-12-27T00:00:00",
          "2017-12-19T00:00:00",
          "2017-12-26T00:00:00",
          "2017-12-28T00:00:00",
          "2017-12-15T00:00:00",
          "2017-12-19T00:00:00",
          "2017-12-15T00:00:00",
          "2017-12-15T00:00:00",
          "2017-12-15T00:00:00",
          "2017-12-20T00:00:00",
          "2017-12-15T00:00:00",
          "2017-12-19T00:00:00",
          "2017-12-15T00:00:00",
          "2017-12-19T00:00:00",
          "2017-12-15T00:00:00",
          "2017-12-26T00:00:00",
          "2017-12-18T00:00:00",
          "2017-12-20T00:00:00",
          "2017-12-27T00:00:00",
          "2017-12-21T00:00:00",
          "2017-12-20T00:00:00",
          "2017-12-26T00:00:00",
          "2017-12-16T00:00:00",
          "2017-12-15T00:00:00",
          "2017-12-18T00:00:00",
          "2017-12-15T00:00:00",
          "2017-12-30T00:00:00",
          "2017-12-18T00:00:00",
          "2017-12-17T00:00:00",
          "2017-12-15T00:00:00",
          "2017-12-18T00:00:00",
          "2017-12-21T00:00:00",
          "2017-12-15T00:00:00",
          "2017-12-20T00:00:00",
          "2017-12-26T00:00:00",
          "2017-12-22T00:00:00",
          "2017-12-26T00:00:00",
          "2017-12-18T00:00:00",
          "2017-12-18T00:00:00",
          "2017-12-30T00:00:00",
          "2017-12-19T00:00:00",
          "2017-12-20T00:00:00",
          "2017-12-15T00:00:00",
          "2017-12-15T00:00:00",
          "2017-12-21T00:00:00",
          "2017-12-27T00:00:00",
          "2017-12-16T00:00:00",
          "2017-12-31T00:00:00",
          "2017-12-18T00:00:00",
          "2017-12-19T00:00:00",
          "2017-12-19T00:00:00",
          "2017-12-19T00:00:00",
          "2017-12-16T00:00:00",
          "2017-12-20T00:00:00",
          "2017-12-20T00:00:00",
          "2017-12-16T00:00:00",
          "2017-12-15T00:00:00",
          "2017-12-30T00:00:00",
          "2017-12-18T00:00:00",
          "2017-12-22T00:00:00",
          "2017-12-20T00:00:00",
          "2017-12-18T00:00:00",
          "2017-12-25T00:00:00",
          "2017-12-15T00:00:00",
          "2017-12-22T00:00:00",
          "2017-12-16T00:00:00",
          "2017-12-15T00:00:00",
          "2017-12-19T00:00:00",
          "2017-12-17T00:00:00",
          "2017-12-30T00:00:00",
          "2017-12-27T00:00:00",
          "2017-12-16T00:00:00",
          "2017-12-22T00:00:00",
          "2017-12-16T00:00:00",
          "2017-12-20T00:00:00",
          "2017-12-23T00:00:00",
          "2017-12-21T00:00:00",
          "2017-12-21T00:00:00",
          "2017-12-31T00:00:00",
          "2017-12-26T00:00:00",
          "2017-12-28T00:00:00",
          "2017-12-29T00:00:00",
          "2017-12-21T00:00:00",
          "2017-12-20T00:00:00",
          "2017-12-29T00:00:00",
          "2017-12-21T00:00:00",
          "2017-12-24T00:00:00",
          "2017-12-16T00:00:00",
          "2017-12-21T00:00:00",
          "2017-12-15T00:00:00",
          "2017-12-15T00:00:00",
          "2017-12-17T00:00:00",
          "2017-12-18T00:00:00",
          "2017-12-17T00:00:00",
          "2017-12-24T00:00:00",
          "2017-12-26T00:00:00",
          "2017-12-19T00:00:00",
          "2017-12-16T00:00:00",
          "2017-12-21T00:00:00",
          "2017-12-17T00:00:00",
          "2017-12-15T00:00:00",
          "2017-12-15T00:00:00",
          "2017-12-15T00:00:00",
          "2017-12-22T00:00:00",
          "2017-12-15T00:00:00",
          "2017-12-23T00:00:00",
          "2017-12-15T00:00:00",
          "2017-12-19T00:00:00",
          "2017-12-18T00:00:00",
          "2017-12-20T00:00:00",
          "2017-12-19T00:00:00",
          "2017-12-15T00:00:00",
          "2017-12-27T00:00:00",
          "2017-12-19T00:00:00",
          "2017-12-15T00:00:00",
          "2017-12-25T00:00:00",
          "2017-12-21T00:00:00",
          "2017-12-19T00:00:00",
          "2017-12-15T00:00:00",
          "2017-12-26T00:00:00",
          "2017-12-21T00:00:00",
          "2017-12-20T00:00:00",
          "2017-12-31T00:00:00",
          "2017-12-22T00:00:00",
          "2017-12-15T00:00:00",
          "2017-12-15T00:00:00",
          "2017-12-20T00:00:00",
          "2017-12-21T00:00:00",
          "2017-12-15T00:00:00",
          "2017-12-22T00:00:00",
          "2017-12-19T00:00:00",
          "2017-12-20T00:00:00",
          "2017-12-21T00:00:00",
          "2017-12-22T00:00:00",
          "2017-12-21T00:00:00",
          "2017-12-19T00:00:00",
          "2017-12-20T00:00:00",
          "2017-12-19T00:00:00",
          "2017-12-15T00:00:00",
          "2017-12-20T00:00:00",
          "2017-12-19T00:00:00",
          "2017-12-21T00:00:00",
          "2017-12-19T00:00:00",
          "2017-12-19T00:00:00",
          "2017-12-15T00:00:00",
          "2017-12-15T00:00:00",
          "2017-12-15T00:00:00",
          "2017-12-19T00:00:00",
          "2017-12-20T00:00:00",
          "2017-12-20T00:00:00",
          "2017-12-18T00:00:00",
          "2017-12-23T00:00:00",
          "2017-12-15T00:00:00",
          "2017-12-19T00:00:00",
          "2017-12-18T00:00:00",
          "2017-12-16T00:00:00",
          "2017-12-27T00:00:00",
          "2017-12-15T00:00:00",
          "2017-12-22T00:00:00",
          "2017-12-21T00:00:00",
          "2017-12-19T00:00:00",
          "2017-12-22T00:00:00",
          "2017-12-18T00:00:00",
          "2017-12-15T00:00:00",
          "2017-12-17T00:00:00",
          "2017-12-18T00:00:00",
          "2017-12-15T00:00:00",
          "2017-12-17T00:00:00",
          "2017-12-21T00:00:00",
          "2017-12-20T00:00:00",
          "2017-12-15T00:00:00",
          "2017-12-15T00:00:00",
          "2017-12-26T00:00:00",
          "2017-12-17T00:00:00",
          "2017-12-30T00:00:00",
          "2017-12-15T00:00:00",
          "2017-12-15T00:00:00",
          "2017-12-25T00:00:00",
          "2017-12-26T00:00:00",
          "2017-12-25T00:00:00",
          "2017-12-22T00:00:00",
          "2017-12-17T00:00:00",
          "2017-12-28T00:00:00",
          "2017-12-21T00:00:00",
          "2017-12-18T00:00:00",
          "2017-12-19T00:00:00",
          "2017-12-20T00:00:00",
          "2017-12-18T00:00:00",
          "2017-12-27T00:00:00",
          "2017-12-24T00:00:00",
          "2017-12-20T00:00:00",
          "2017-12-18T00:00:00",
          "2017-12-21T00:00:00",
          "2017-12-17T00:00:00",
          "2017-12-20T00:00:00",
          "2017-12-23T00:00:00",
          "2017-12-21T00:00:00",
          "2017-12-21T00:00:00",
          "2017-12-27T00:00:00",
          "2017-12-21T00:00:00",
          "2017-12-27T00:00:00",
          "2017-12-15T00:00:00",
          "2017-12-16T00:00:00",
          "2017-12-20T00:00:00",
          "2017-12-15T00:00:00",
          "2017-12-15T00:00:00",
          "2017-12-19T00:00:00",
          "2017-12-19T00:00:00",
          "2017-12-15T00:00:00",
          "2017-12-25T00:00:00",
          "2017-12-18T00:00:00",
          "2017-12-23T00:00:00",
          "2017-12-18T00:00:00",
          "2017-12-20T00:00:00",
          "2017-12-20T00:00:00",
          "2017-12-22T00:00:00",
          "2017-12-26T00:00:00",
          "2017-12-31T00:00:00",
          "2017-12-17T00:00:00",
          "2017-12-16T00:00:00",
          "2017-12-27T00:00:00",
          "2017-12-20T00:00:00",
          "2017-12-19T00:00:00",
          "2017-12-16T00:00:00",
          "2017-12-15T00:00:00",
          "2017-12-20T00:00:00",
          "2017-12-15T00:00:00",
          "2017-12-22T00:00:00",
          "2017-12-18T00:00:00",
          "2017-12-18T00:00:00",
          "2017-12-30T00:00:00",
          "2017-12-17T00:00:00",
          "2017-12-18T00:00:00",
          "2017-12-18T00:00:00",
          "2017-12-19T00:00:00",
          "2017-12-24T00:00:00",
          "2017-12-22T00:00:00",
          "2017-12-19T00:00:00",
          "2017-12-19T00:00:00",
          "2017-12-18T00:00:00",
          "2017-12-26T00:00:00",
          "2017-12-27T00:00:00",
          "2017-12-15T00:00:00",
          "2017-12-28T00:00:00",
          "2017-12-28T00:00:00",
          "2017-12-15T00:00:00",
          "2017-12-18T00:00:00",
          "2017-12-18T00:00:00",
          "2017-12-22T00:00:00",
          "2017-12-23T00:00:00",
          "2017-12-18T00:00:00",
          "2017-12-21T00:00:00",
          "2017-12-18T00:00:00",
          "2017-12-22T00:00:00",
          "2017-12-21T00:00:00",
          "2017-12-15T00:00:00",
          "2017-12-20T00:00:00",
          "2017-12-15T00:00:00",
          "2017-12-21T00:00:00",
          "2017-12-15T00:00:00",
          "2017-12-21T00:00:00",
          "2017-12-16T00:00:00",
          "2017-12-31T00:00:00",
          "2017-12-31T00:00:00",
          "2017-12-20T00:00:00",
          "2017-12-22T00:00:00",
          "2017-12-18T00:00:00",
          "2017-12-23T00:00:00",
          "2017-12-15T00:00:00",
          "2017-12-29T00:00:00",
          "2017-12-15T00:00:00",
          "2017-12-18T00:00:00",
          "2017-12-19T00:00:00",
          "2017-12-16T00:00:00",
          "2017-12-16T00:00:00",
          "2017-12-15T00:00:00",
          "2017-12-18T00:00:00",
          "2017-12-18T00:00:00",
          "2017-12-28T00:00:00",
          "2017-12-20T00:00:00",
          "2018-01-11T00:00:00",
          "2018-01-04T00:00:00",
          "2018-01-11T00:00:00",
          "2018-01-31T00:00:00",
          "2018-02-06T00:00:00",
          "2018-01-06T00:00:00",
          "2018-04-04T00:00:00",
          "2018-03-22T00:00:00",
          "2018-02-14T00:00:00",
          "2018-02-15T00:00:00",
          "2018-03-19T00:00:00",
          "2018-02-15T00:00:00",
          "2018-01-26T00:00:00",
          "2018-04-09T00:00:00",
          "2018-01-18T00:00:00",
          "2018-02-06T00:00:00",
          "2018-03-12T00:00:00",
          "2018-02-07T00:00:00",
          "2018-01-25T00:00:00",
          "2018-02-12T00:00:00",
          "2018-01-10T00:00:00",
          "2018-03-14T00:00:00",
          "2018-04-08T00:00:00",
          "2018-01-19T00:00:00",
          "2018-03-08T00:00:00",
          "2018-02-05T00:00:00",
          "2018-01-02T00:00:00",
          "2018-03-08T00:00:00",
          "2018-04-09T00:00:00",
          "2018-03-14T00:00:00",
          "2018-03-02T00:00:00",
          "2018-03-02T00:00:00",
          "2018-02-21T00:00:00",
          "2018-04-06T00:00:00",
          "2018-01-02T00:00:00",
          "2018-03-21T00:00:00",
          "2018-04-11T00:00:00",
          "2018-01-02T00:00:00",
          "2018-01-26T00:00:00",
          "2018-02-07T00:00:00",
          "2018-03-02T00:00:00",
          "2018-02-14T00:00:00",
          "2018-02-06T00:00:00",
          "2018-01-05T00:00:00",
          "2018-04-05T00:00:00",
          "2018-01-05T00:00:00",
          "2018-02-09T00:00:00",
          "2018-03-07T00:00:00",
          "2018-03-20T00:00:00",
          "2018-01-23T00:00:00",
          "2018-01-27T00:00:00",
          "2018-02-15T00:00:00",
          "2018-02-02T00:00:00",
          "2018-03-23T00:00:00",
          "2018-01-24T00:00:00",
          "2018-02-02T00:00:00",
          "2018-04-10T00:00:00",
          "2018-03-15T00:00:00",
          "2018-01-01T00:00:00",
          "2018-03-26T00:00:00",
          "2018-02-15T00:00:00",
          "2018-02-21T00:00:00",
          "2018-01-15T00:00:00",
          "2018-01-29T00:00:00",
          "2018-03-09T00:00:00",
          "2018-03-13T00:00:00",
          "2018-04-17T00:00:00",
          "2018-02-13T00:00:00",
          "2018-02-27T00:00:00",
          "2018-03-18T00:00:00",
          "2018-01-16T00:00:00",
          "2018-01-31T00:00:00",
          "2018-03-23T00:00:00",
          "2018-04-05T00:00:00",
          "2018-02-07T00:00:00",
          "2018-02-19T00:00:00",
          "2018-04-03T00:00:00",
          "2018-04-05T00:00:00",
          "2018-01-16T00:00:00",
          "2018-02-06T00:00:00",
          "2018-03-13T00:00:00",
          "2018-02-23T00:00:00",
          "2018-01-10T00:00:00",
          "2018-02-18T00:00:00",
          "2018-03-14T00:00:00",
          "2018-02-07T00:00:00",
          "2018-03-29T00:00:00",
          "2018-01-27T00:00:00",
          "2018-01-11T00:00:00",
          "2018-01-28T00:00:00",
          "2018-03-19T00:00:00",
          "2018-03-25T00:00:00",
          "2018-03-26T00:00:00",
          "2018-02-23T00:00:00",
          "2018-02-19T00:00:00",
          "2018-03-23T00:00:00",
          "2018-02-08T00:00:00",
          "2018-01-22T00:00:00",
          "2018-01-15T00:00:00",
          "2018-03-08T00:00:00",
          "2018-03-01T00:00:00",
          "2018-01-08T00:00:00",
          "2018-04-11T00:00:00",
          "2018-03-15T00:00:00",
          "2018-03-26T00:00:00",
          "2018-02-22T00:00:00",
          "2018-03-20T00:00:00",
          "2018-02-07T00:00:00",
          "2018-01-12T00:00:00",
          "2018-01-29T00:00:00",
          "2018-03-08T00:00:00",
          "2018-02-11T00:00:00",
          "2018-03-25T00:00:00",
          "2018-03-23T00:00:00",
          "2018-04-04T00:00:00",
          "2018-01-10T00:00:00",
          "2018-01-15T00:00:00",
          "2018-01-03T00:00:00",
          "2018-02-21T00:00:00",
          "2018-01-23T00:00:00",
          "2018-02-14T00:00:00",
          "2018-03-19T00:00:00",
          "2018-04-04T00:00:00",
          "2018-01-05T00:00:00",
          "2018-03-22T00:00:00",
          "2018-02-14T00:00:00",
          "2018-04-12T00:00:00",
          "2018-02-15T00:00:00",
          "2018-01-31T00:00:00",
          "2018-02-19T00:00:00",
          "2018-02-14T00:00:00",
          "2018-01-06T00:00:00",
          "2018-02-12T00:00:00",
          "2018-03-01T00:00:00",
          "2018-02-03T00:00:00",
          "2018-01-31T00:00:00",
          "2018-01-31T00:00:00",
          "2018-02-23T00:00:00",
          "2018-03-25T00:00:00",
          "2018-01-02T00:00:00",
          "2018-03-17T00:00:00",
          "2018-01-15T00:00:00",
          "2018-02-14T00:00:00",
          "2018-01-12T00:00:00",
          "2018-02-07T00:00:00",
          "2018-01-25T00:00:00",
          "2018-02-22T00:00:00",
          "2018-03-15T00:00:00",
          "2018-01-18T00:00:00",
          "2018-03-25T00:00:00",
          "2018-01-19T00:00:00",
          "2018-03-09T00:00:00",
          "2018-02-17T00:00:00",
          "2018-01-11T00:00:00",
          "2018-03-08T00:00:00",
          "2018-02-03T00:00:00",
          "2018-03-31T00:00:00",
          "2018-02-05T00:00:00",
          "2018-03-20T00:00:00",
          "2018-03-26T00:00:00",
          "2018-04-05T00:00:00",
          "2018-01-25T00:00:00",
          "2018-03-22T00:00:00",
          "2018-02-18T00:00:00",
          "2018-03-31T00:00:00",
          "2018-03-01T00:00:00",
          "2018-04-03T00:00:00",
          "2018-03-13T00:00:00",
          "2018-02-19T00:00:00",
          "2018-03-23T00:00:00",
          "2018-02-09T00:00:00",
          "2018-02-28T00:00:00",
          "2018-02-14T00:00:00",
          "2018-01-01T00:00:00",
          "2018-01-16T00:00:00",
          "2018-01-17T00:00:00",
          "2018-01-02T00:00:00",
          "2018-02-07T00:00:00",
          "2018-01-17T00:00:00",
          "2018-03-06T00:00:00",
          "2018-01-11T00:00:00",
          "2018-01-25T00:00:00",
          "2018-03-09T00:00:00",
          "2018-01-01T00:00:00",
          "2018-01-12T00:00:00",
          "2018-03-30T00:00:00",
          "2018-03-23T00:00:00",
          "2018-03-11T00:00:00",
          "2018-01-21T00:00:00",
          "2018-04-01T00:00:00",
          "2018-03-04T00:00:00",
          "2018-04-02T00:00:00",
          "2018-02-27T00:00:00",
          "2018-01-05T00:00:00",
          "2018-01-26T00:00:00",
          "2018-02-01T00:00:00",
          "2018-03-08T00:00:00",
          "2018-04-06T00:00:00",
          "2018-03-12T00:00:00",
          "2018-01-17T00:00:00",
          "2018-01-12T00:00:00",
          "2018-02-28T00:00:00",
          "2018-04-08T00:00:00",
          "2018-02-24T00:00:00",
          "2018-03-13T00:00:00",
          "2018-03-17T00:00:00",
          "2018-01-12T00:00:00",
          "2018-01-03T00:00:00",
          "2018-04-15T00:00:00",
          "2018-01-12T00:00:00",
          "2018-01-03T00:00:00",
          "2018-02-17T00:00:00",
          "2018-04-11T00:00:00",
          "2018-02-13T00:00:00",
          "2018-03-26T00:00:00",
          "2018-03-12T00:00:00",
          "2018-03-07T00:00:00",
          "2018-03-13T00:00:00",
          "2018-04-15T00:00:00",
          "2018-02-06T00:00:00",
          "2018-02-06T00:00:00",
          "2018-02-22T00:00:00",
          "2018-01-26T00:00:00",
          "2018-03-09T00:00:00",
          "2018-04-05T00:00:00",
          "2018-03-12T00:00:00",
          "2018-02-06T00:00:00",
          "2018-01-22T00:00:00",
          "2018-04-04T00:00:00",
          "2018-02-07T00:00:00",
          "2018-03-20T00:00:00",
          "2018-01-02T00:00:00",
          "2018-01-24T00:00:00",
          "2018-01-15T00:00:00",
          "2018-04-04T00:00:00",
          "2018-01-18T00:00:00",
          "2018-03-07T00:00:00",
          "2018-04-05T00:00:00",
          "2018-03-13T00:00:00",
          "2018-01-18T00:00:00",
          "2018-03-19T00:00:00",
          "2018-04-19T00:00:00",
          "2018-02-20T00:00:00",
          "2018-04-06T00:00:00",
          "2018-03-22T00:00:00",
          "2018-03-30T00:00:00",
          "2018-02-02T00:00:00",
          "2018-02-09T00:00:00",
          "2018-01-12T00:00:00",
          "2018-01-16T00:00:00",
          "2018-03-06T00:00:00",
          "2018-03-06T00:00:00",
          "2018-04-18T00:00:00",
          "2018-03-22T00:00:00",
          "2018-02-04T00:00:00",
          "2018-02-21T00:00:00",
          "2018-03-09T00:00:00",
          "2018-04-15T00:00:00",
          "2018-03-20T00:00:00",
          "2018-03-24T00:00:00",
          "2018-03-30T00:00:00",
          "2018-04-04T00:00:00",
          "2018-02-19T00:00:00",
          "2018-03-13T00:00:00",
          "2018-04-06T00:00:00",
          "2018-03-27T00:00:00",
          "2018-04-18T00:00:00",
          "2018-02-01T00:00:00",
          "2018-03-24T00:00:00",
          "2018-01-31T00:00:00",
          "2018-03-06T00:00:00",
          "2018-01-29T00:00:00",
          "2018-02-13T00:00:00",
          "2018-03-29T00:00:00",
          "2018-01-22T00:00:00",
          "2018-04-06T00:00:00",
          "2018-01-15T00:00:00",
          "2018-04-16T00:00:00",
          "2018-01-17T00:00:00",
          "2018-01-08T00:00:00",
          "2018-03-04T00:00:00",
          "2018-02-07T00:00:00",
          "2018-02-07T00:00:00",
          "2018-01-07T00:00:00",
          "2018-02-21T00:00:00",
          "2018-03-03T00:00:00",
          "2018-03-10T00:00:00",
          "2018-01-11T00:00:00",
          "2018-03-16T00:00:00",
          "2018-03-02T00:00:00",
          "2018-03-29T00:00:00",
          "2018-02-18T00:00:00",
          "2018-03-07T00:00:00",
          "2018-02-06T00:00:00",
          "2018-03-23T00:00:00",
          "2018-02-06T00:00:00",
          "2018-01-22T00:00:00",
          "2018-04-05T00:00:00",
          "2018-01-04T00:00:00",
          "2018-02-08T00:00:00",
          "2018-03-25T00:00:00",
          "2018-02-14T00:00:00",
          "2018-01-16T00:00:00",
          "2018-03-28T00:00:00",
          "2018-02-16T00:00:00",
          "2018-04-05T00:00:00",
          "2018-02-05T00:00:00",
          "2018-03-13T00:00:00",
          "2018-01-12T00:00:00",
          "2018-01-31T00:00:00",
          "2018-02-21T00:00:00",
          "2018-01-25T00:00:00",
          "2018-04-05T00:00:00",
          "2018-01-18T00:00:00",
          "2018-02-17T00:00:00",
          "2018-03-19T00:00:00",
          "2018-03-29T00:00:00",
          "2018-03-07T00:00:00",
          "2018-01-31T00:00:00",
          "2018-04-02T00:00:00",
          "2018-03-19T00:00:00",
          "2018-02-21T00:00:00",
          "2018-03-22T00:00:00",
          "2018-02-23T00:00:00",
          "2018-01-11T00:00:00",
          "2018-04-10T00:00:00",
          "2018-03-19T00:00:00",
          "2018-03-06T00:00:00",
          "2018-03-29T00:00:00",
          "2018-01-24T00:00:00",
          "2018-02-06T00:00:00",
          "2018-02-07T00:00:00",
          "2018-01-09T00:00:00",
          "2018-04-10T00:00:00",
          "2018-01-17T00:00:00",
          "2018-04-05T00:00:00",
          "2018-02-14T00:00:00",
          "2018-01-12T00:00:00",
          "2018-02-08T00:00:00",
          "2018-02-07T00:00:00",
          "2018-03-27T00:00:00",
          "2018-02-14T00:00:00",
          "2018-01-29T00:00:00",
          "2018-03-08T00:00:00",
          "2018-02-06T00:00:00",
          "2018-02-19T00:00:00",
          "2018-04-05T00:00:00",
          "2018-04-18T00:00:00",
          "2018-01-23T00:00:00",
          "2018-03-22T00:00:00",
          "2018-01-03T00:00:00",
          "2018-03-17T00:00:00",
          "2018-03-26T00:00:00",
          "2018-03-15T00:00:00",
          "2018-04-04T00:00:00",
          "2018-02-21T00:00:00",
          "2018-03-04T00:00:00",
          "2018-04-10T00:00:00",
          "2018-03-20T00:00:00",
          "2018-03-27T00:00:00",
          "2018-04-14T00:00:00",
          "2018-02-06T00:00:00",
          "2018-03-05T00:00:00",
          "2018-04-05T00:00:00",
          "2018-03-07T00:00:00",
          "2018-02-07T00:00:00",
          "2018-03-07T00:00:00",
          "2018-01-24T00:00:00",
          "2018-03-21T00:00:00",
          "2018-01-15T00:00:00",
          "2018-04-02T00:00:00",
          "2018-03-04T00:00:00",
          "2018-04-08T00:00:00",
          "2018-02-28T00:00:00",
          "2018-01-02T00:00:00",
          "2018-03-05T00:00:00",
          "2018-03-01T00:00:00",
          "2018-04-03T00:00:00",
          "2018-03-05T00:00:00",
          "2018-02-17T00:00:00",
          "2018-02-09T00:00:00",
          "2018-03-22T00:00:00",
          "2018-01-17T00:00:00",
          "2018-01-08T00:00:00",
          "2018-01-20T00:00:00",
          "2018-03-08T00:00:00",
          "2018-01-31T00:00:00",
          "2018-01-19T00:00:00",
          "2018-01-01T00:00:00",
          "2018-03-29T00:00:00",
          "2018-02-13T00:00:00",
          "2018-03-14T00:00:00",
          "2018-03-13T00:00:00",
          "2018-04-19T00:00:00",
          "2018-03-02T00:00:00",
          "2018-03-26T00:00:00",
          "2018-03-04T00:00:00",
          "2018-02-02T00:00:00",
          "2018-03-26T00:00:00",
          "2018-01-03T00:00:00",
          "2018-03-04T00:00:00",
          "2018-01-04T00:00:00",
          "2018-01-16T00:00:00",
          "2018-04-18T00:00:00",
          "2018-03-08T00:00:00",
          "2018-04-05T00:00:00",
          "2018-02-08T00:00:00",
          "2018-01-29T00:00:00",
          "2018-04-11T00:00:00",
          "2018-04-17T00:00:00",
          "2018-01-08T00:00:00",
          "2018-04-14T00:00:00",
          "2018-01-03T00:00:00",
          "2018-01-12T00:00:00",
          "2018-01-02T00:00:00",
          "2018-01-05T00:00:00",
          "2018-03-06T00:00:00",
          "2018-04-05T00:00:00",
          "2018-03-04T00:00:00",
          "2018-03-13T00:00:00",
          "2018-03-29T00:00:00",
          "2018-04-06T00:00:00",
          "2018-03-09T00:00:00",
          "2018-02-04T00:00:00",
          "2018-03-14T00:00:00",
          "2018-03-31T00:00:00",
          "2018-03-22T00:00:00",
          "2018-02-04T00:00:00",
          "2018-03-27T00:00:00",
          "2018-04-15T00:00:00",
          "2018-01-10T00:00:00",
          "2018-03-26T00:00:00",
          "2018-02-22T00:00:00",
          "2018-01-25T00:00:00",
          "2018-03-02T00:00:00",
          "2018-04-18T00:00:00",
          "2018-03-23T00:00:00",
          "2018-02-01T00:00:00",
          "2018-03-15T00:00:00",
          "2018-02-09T00:00:00",
          "2018-03-14T00:00:00",
          "2018-01-03T00:00:00",
          "2018-02-07T00:00:00",
          "2018-03-26T00:00:00",
          "2018-01-31T00:00:00",
          "2018-03-07T00:00:00",
          "2018-01-31T00:00:00",
          "2018-02-14T00:00:00",
          "2018-04-04T00:00:00",
          "2018-01-29T00:00:00",
          "2018-03-14T00:00:00",
          "2018-02-22T00:00:00",
          "2018-03-04T00:00:00",
          "2018-02-13T00:00:00",
          "2018-02-14T00:00:00",
          "2018-03-28T00:00:00",
          "2018-04-04T00:00:00",
          "2018-01-20T00:00:00",
          "2018-01-12T00:00:00",
          "2018-03-26T00:00:00",
          "2018-04-09T00:00:00",
          "2018-02-16T00:00:00",
          "2018-01-17T00:00:00",
          "2018-02-20T00:00:00",
          "2018-03-06T00:00:00",
          "2018-04-05T00:00:00",
          "2018-02-16T00:00:00",
          "2018-02-08T00:00:00",
          "2018-02-06T00:00:00",
          "2018-03-15T00:00:00",
          "2018-02-09T00:00:00",
          "2018-02-16T00:00:00",
          "2018-01-25T00:00:00",
          "2018-02-07T00:00:00",
          "2018-03-05T00:00:00",
          "2018-02-27T00:00:00",
          "2018-01-29T00:00:00",
          "2018-02-06T00:00:00",
          "2018-01-28T00:00:00",
          "2018-04-12T00:00:00",
          "2018-01-16T00:00:00",
          "2018-03-04T00:00:00",
          "2018-04-16T00:00:00",
          "2018-03-01T00:00:00",
          "2018-01-07T00:00:00",
          "2018-01-30T00:00:00",
          "2018-03-26T00:00:00",
          "2018-03-29T00:00:00",
          "2018-04-14T00:00:00",
          "2018-04-05T00:00:00",
          "2018-04-04T00:00:00",
          "2018-02-14T00:00:00",
          "2018-02-08T00:00:00",
          "2018-02-16T00:00:00",
          "2018-04-05T00:00:00",
          "2018-03-22T00:00:00",
          "2018-02-20T00:00:00",
          "2018-04-12T00:00:00",
          "2018-02-28T00:00:00",
          "2018-04-13T00:00:00",
          "2018-03-13T00:00:00",
          "2018-01-05T00:00:00",
          "2018-04-11T00:00:00",
          "2018-01-23T00:00:00",
          "2018-03-27T00:00:00",
          "2018-03-07T00:00:00",
          "2018-01-24T00:00:00",
          "2018-04-13T00:00:00",
          "2018-04-12T00:00:00",
          "2018-04-06T00:00:00",
          "2018-03-17T00:00:00",
          "2018-02-10T00:00:00",
          "2018-03-30T00:00:00",
          "2018-03-08T00:00:00",
          "2018-01-24T00:00:00",
          "2018-02-21T00:00:00",
          "2018-01-23T00:00:00",
          "2018-03-30T00:00:00",
          "2018-01-24T00:00:00",
          "2018-03-02T00:00:00",
          "2018-02-20T00:00:00",
          "2018-02-07T00:00:00",
          "2018-03-04T00:00:00",
          "2018-03-08T00:00:00",
          "2018-02-03T00:00:00",
          "2018-04-01T00:00:00",
          "2018-04-05T00:00:00",
          "2018-01-31T00:00:00",
          "2018-01-09T00:00:00",
          "2018-03-06T00:00:00",
          "2018-01-04T00:00:00",
          "2018-02-22T00:00:00",
          "2018-03-02T00:00:00",
          "2018-04-15T00:00:00",
          "2018-02-18T00:00:00",
          "2018-02-27T00:00:00",
          "2018-03-19T00:00:00",
          "2018-03-09T00:00:00",
          "2018-01-20T00:00:00",
          "2018-03-18T00:00:00",
          "2018-03-08T00:00:00",
          "2018-01-22T00:00:00",
          "2018-03-26T00:00:00",
          "2018-01-03T00:00:00",
          "2018-04-10T00:00:00",
          "2018-04-01T00:00:00",
          "2018-03-08T00:00:00",
          "2018-02-14T00:00:00",
          "2018-02-07T00:00:00",
          "2018-02-27T00:00:00",
          "2018-03-07T00:00:00",
          "2018-03-15T00:00:00",
          "2018-01-28T00:00:00",
          "2018-01-31T00:00:00",
          "2018-03-23T00:00:00",
          "2018-01-31T00:00:00",
          "2018-01-18T00:00:00",
          "2018-01-31T00:00:00",
          "2018-02-27T00:00:00",
          "2018-03-05T00:00:00",
          "2018-04-19T00:00:00",
          "2018-04-03T00:00:00",
          "2018-02-07T00:00:00",
          "2018-04-13T00:00:00",
          "2018-01-30T00:00:00",
          "2018-01-23T00:00:00",
          "2018-01-18T00:00:00",
          "2018-02-06T00:00:00",
          "2018-01-25T00:00:00",
          "2018-02-14T00:00:00",
          "2018-03-22T00:00:00",
          "2018-02-19T00:00:00",
          "2018-03-16T00:00:00",
          "2018-03-12T00:00:00",
          "2018-04-02T00:00:00",
          "2018-01-17T00:00:00",
          "2018-04-15T00:00:00",
          "2018-01-10T00:00:00",
          "2018-01-12T00:00:00",
          "2018-01-24T00:00:00",
          "2018-03-27T00:00:00",
          "2018-03-06T00:00:00",
          "2018-04-11T00:00:00",
          "2018-03-14T00:00:00",
          "2018-04-02T00:00:00",
          "2018-04-11T00:00:00",
          "2018-03-29T00:00:00",
          "2018-02-26T00:00:00",
          "2018-03-08T00:00:00",
          "2018-01-03T00:00:00",
          "2018-01-24T00:00:00",
          "2018-02-08T00:00:00",
          "2018-03-20T00:00:00",
          "2018-03-17T00:00:00",
          "2018-02-06T00:00:00",
          "2018-02-22T00:00:00",
          "2018-01-12T00:00:00",
          "2018-02-13T00:00:00",
          "2018-03-15T00:00:00",
          "2018-02-12T00:00:00",
          "2018-03-31T00:00:00",
          "2018-01-19T00:00:00",
          "2018-04-12T00:00:00",
          "2018-02-08T00:00:00",
          "2018-04-01T00:00:00",
          "2018-01-22T00:00:00",
          "2018-03-09T00:00:00",
          "2018-02-08T00:00:00",
          "2018-04-09T00:00:00",
          "2018-02-06T00:00:00",
          "2018-01-31T00:00:00",
          "2018-01-23T00:00:00",
          "2018-03-05T00:00:00",
          "2018-02-14T00:00:00",
          "2018-02-18T00:00:00",
          "2018-03-09T00:00:00",
          "2018-01-25T00:00:00",
          "2018-02-06T00:00:00",
          "2018-03-14T00:00:00",
          "2018-02-11T00:00:00",
          "2018-04-15T00:00:00",
          "2018-04-16T00:00:00",
          "2018-04-05T00:00:00",
          "2018-03-27T00:00:00",
          "2018-01-11T00:00:00",
          "2018-02-22T00:00:00",
          "2018-03-23T00:00:00",
          "2018-03-19T00:00:00",
          "2018-03-13T00:00:00",
          "2018-01-03T00:00:00",
          "2018-04-17T00:00:00",
          "2018-01-15T00:00:00",
          "2018-03-06T00:00:00",
          "2018-03-30T00:00:00",
          "2018-02-24T00:00:00",
          "2018-03-09T00:00:00",
          "2018-01-03T00:00:00",
          "2018-03-27T00:00:00",
          "2018-02-14T00:00:00",
          "2018-04-04T00:00:00",
          "2018-01-24T00:00:00",
          "2018-02-21T00:00:00",
          "2018-03-07T00:00:00",
          "2018-02-17T00:00:00",
          "2018-01-13T00:00:00",
          "2018-03-01T00:00:00",
          "2018-02-07T00:00:00",
          "2018-04-18T00:00:00",
          "2018-01-20T00:00:00",
          "2018-03-14T00:00:00",
          "2018-02-20T00:00:00",
          "2018-02-12T00:00:00",
          "2018-01-03T00:00:00",
          "2018-01-26T00:00:00",
          "2018-01-27T00:00:00",
          "2018-02-07T00:00:00",
          "2018-02-07T00:00:00",
          "2018-03-08T00:00:00",
          "2018-03-15T00:00:00",
          "2018-02-07T00:00:00",
          "2018-01-15T00:00:00",
          "2018-04-10T00:00:00",
          "2018-01-24T00:00:00",
          "2018-01-28T00:00:00",
          "2018-03-29T00:00:00",
          "2018-02-22T00:00:00",
          "2018-03-24T00:00:00",
          "2018-04-11T00:00:00",
          "2018-01-04T00:00:00",
          "2018-01-24T00:00:00",
          "2018-01-25T00:00:00",
          "2018-04-13T00:00:00",
          "2018-03-28T00:00:00",
          "2018-01-22T00:00:00",
          "2018-02-08T00:00:00",
          "2018-02-07T00:00:00",
          "2018-03-31T00:00:00",
          "2018-01-18T00:00:00",
          "2018-01-24T00:00:00",
          "2018-03-14T00:00:00",
          "2018-01-19T00:00:00",
          "2018-03-21T00:00:00",
          "2018-03-16T00:00:00",
          "2018-02-19T00:00:00",
          "2018-03-04T00:00:00",
          "2018-04-13T00:00:00",
          "2018-01-17T00:00:00",
          "2018-03-14T00:00:00",
          "2018-01-17T00:00:00",
          "2018-01-02T00:00:00",
          "2018-01-30T00:00:00",
          "2018-04-02T00:00:00",
          "2018-01-03T00:00:00",
          "2018-02-06T00:00:00",
          "2018-02-15T00:00:00",
          "2018-03-18T00:00:00",
          "2018-01-13T00:00:00",
          "2018-03-01T00:00:00",
          "2018-02-20T00:00:00",
          "2018-01-20T00:00:00",
          "2018-01-11T00:00:00",
          "2018-01-12T00:00:00",
          "2018-01-16T00:00:00",
          "2018-02-06T00:00:00",
          "2018-04-04T00:00:00",
          "2018-01-30T00:00:00",
          "2018-01-17T00:00:00",
          "2018-01-12T00:00:00",
          "2018-02-17T00:00:00",
          "2018-03-14T00:00:00",
          "2018-03-02T00:00:00",
          "2018-02-08T00:00:00",
          "2018-02-06T00:00:00",
          "2018-01-22T00:00:00",
          "2018-02-06T00:00:00",
          "2018-03-23T00:00:00",
          "2018-03-22T00:00:00",
          "2018-02-06T00:00:00",
          "2018-04-03T00:00:00",
          "2018-01-23T00:00:00",
          "2018-01-01T00:00:00",
          "2018-02-17T00:00:00",
          "2018-01-16T00:00:00",
          "2018-02-13T00:00:00",
          "2018-02-27T00:00:00",
          "2018-03-25T00:00:00",
          "2018-03-30T00:00:00",
          "2018-01-05T00:00:00",
          "2018-02-06T00:00:00",
          "2018-01-17T00:00:00",
          "2018-02-22T00:00:00",
          "2018-01-05T00:00:00",
          "2018-01-14T00:00:00",
          "2018-01-23T00:00:00",
          "2018-03-02T00:00:00",
          "2018-01-29T00:00:00",
          "2018-03-20T00:00:00",
          "2018-03-26T00:00:00",
          "2018-02-05T00:00:00",
          "2018-03-24T00:00:00",
          "2018-01-16T00:00:00",
          "2018-04-05T00:00:00",
          "2018-02-06T00:00:00",
          "2018-01-24T00:00:00",
          "2018-04-11T00:00:00",
          "2018-02-06T00:00:00",
          "2018-03-23T00:00:00",
          "2018-02-17T00:00:00",
          "2018-02-08T00:00:00",
          "2018-04-01T00:00:00",
          "2018-04-16T00:00:00",
          "2018-02-04T00:00:00",
          "2018-02-28T00:00:00",
          "2018-02-22T00:00:00",
          "2018-02-07T00:00:00",
          "2018-01-09T00:00:00",
          "2018-03-08T00:00:00",
          "2018-03-22T00:00:00",
          "2018-03-28T00:00:00",
          "2018-03-05T00:00:00",
          "2018-01-04T00:00:00",
          "2018-01-25T00:00:00",
          "2018-02-07T00:00:00",
          "2018-03-08T00:00:00",
          "2018-03-13T00:00:00",
          "2018-01-11T00:00:00",
          "2018-03-30T00:00:00",
          "2018-03-25T00:00:00",
          "2018-04-08T00:00:00",
          "2018-02-03T00:00:00",
          "2018-04-06T00:00:00",
          "2018-04-16T00:00:00",
          "2018-03-22T00:00:00",
          "2018-04-04T00:00:00",
          "2018-01-11T00:00:00",
          "2018-04-18T00:00:00",
          "2018-03-28T00:00:00",
          "2018-02-06T00:00:00",
          "2018-01-08T00:00:00",
          "2018-01-02T00:00:00",
          "2018-01-08T00:00:00",
          "2018-01-14T00:00:00",
          "2018-03-02T00:00:00",
          "2018-03-02T00:00:00",
          "2018-04-05T00:00:00",
          "2018-02-14T00:00:00",
          "2018-03-07T00:00:00",
          "2018-02-07T00:00:00",
          "2018-04-07T00:00:00",
          "2018-02-16T00:00:00",
          "2018-01-25T00:00:00",
          "2018-01-17T00:00:00",
          "2018-03-26T00:00:00",
          "2018-02-18T00:00:00",
          "2018-02-08T00:00:00",
          "2018-01-17T00:00:00",
          "2018-03-20T00:00:00",
          "2018-01-12T00:00:00",
          "2018-03-16T00:00:00",
          "2018-01-05T00:00:00",
          "2018-02-27T00:00:00",
          "2018-03-21T00:00:00",
          "2018-03-20T00:00:00",
          "2018-01-18T00:00:00",
          "2018-04-02T00:00:00",
          "2018-03-08T00:00:00",
          "2018-02-07T00:00:00",
          "2018-01-04T00:00:00",
          "2018-02-18T00:00:00",
          "2018-04-17T00:00:00",
          "2018-03-15T00:00:00",
          "2018-01-18T00:00:00",
          "2018-01-10T00:00:00",
          "2018-04-01T00:00:00",
          "2018-03-28T00:00:00",
          "2018-03-28T00:00:00",
          "2018-04-09T00:00:00",
          "2018-01-11T00:00:00",
          "2018-04-04T00:00:00",
          "2018-03-01T00:00:00",
          "2018-03-22T00:00:00",
          "2018-02-05T00:00:00",
          "2018-01-21T00:00:00",
          "2018-04-18T00:00:00",
          "2018-03-14T00:00:00",
          "2018-01-29T00:00:00",
          "2018-04-05T00:00:00",
          "2018-02-15T00:00:00",
          "2018-01-17T00:00:00",
          "2018-01-02T00:00:00",
          "2018-03-17T00:00:00",
          "2018-03-20T00:00:00",
          "2018-04-04T00:00:00",
          "2018-01-17T00:00:00",
          "2018-03-13T00:00:00",
          "2018-02-01T00:00:00",
          "2018-01-29T00:00:00",
          "2018-02-02T00:00:00",
          "2018-04-17T00:00:00",
          "2018-03-31T00:00:00",
          "2018-04-07T00:00:00",
          "2018-02-16T00:00:00",
          "2018-02-10T00:00:00",
          "2018-03-07T00:00:00",
          "2018-03-12T00:00:00",
          "2018-04-17T00:00:00",
          "2018-03-22T00:00:00",
          "2018-01-29T00:00:00",
          "2018-02-07T00:00:00",
          "2018-03-26T00:00:00",
          "2018-02-07T00:00:00",
          "2018-02-18T00:00:00",
          "2018-03-17T00:00:00",
          "2018-02-06T00:00:00",
          "2018-01-31T00:00:00",
          "2018-01-11T00:00:00",
          "2018-01-03T00:00:00",
          "2018-01-25T00:00:00",
          "2018-03-28T00:00:00",
          "2018-01-19T00:00:00",
          "2018-02-16T00:00:00",
          "2018-03-25T00:00:00",
          "2018-03-29T00:00:00",
          "2018-04-09T00:00:00",
          "2018-03-13T00:00:00",
          "2018-03-07T00:00:00",
          "2018-03-31T00:00:00",
          "2018-02-01T00:00:00",
          "2018-01-24T00:00:00",
          "2018-01-31T00:00:00",
          "2018-01-15T00:00:00",
          "2018-01-20T00:00:00",
          "2018-01-19T00:00:00",
          "2018-03-08T00:00:00",
          "2018-04-04T00:00:00",
          "2018-01-17T00:00:00",
          "2018-02-20T00:00:00",
          "2018-03-12T00:00:00",
          "2018-03-02T00:00:00",
          "2018-03-02T00:00:00",
          "2018-01-02T00:00:00",
          "2018-03-14T00:00:00",
          "2018-02-13T00:00:00",
          "2018-04-04T00:00:00",
          "2018-04-16T00:00:00",
          "2018-03-21T00:00:00",
          "2018-04-02T00:00:00",
          "2018-01-04T00:00:00",
          "2018-01-02T00:00:00",
          "2018-02-07T00:00:00",
          "2018-01-11T00:00:00",
          "2018-01-25T00:00:00",
          "2018-02-17T00:00:00",
          "2018-02-06T00:00:00",
          "2018-01-06T00:00:00",
          "2018-01-18T00:00:00",
          "2018-01-09T00:00:00",
          "2018-02-01T00:00:00",
          "2018-01-19T00:00:00",
          "2018-01-02T00:00:00",
          "2018-01-29T00:00:00",
          "2018-03-21T00:00:00",
          "2018-01-14T00:00:00",
          "2018-01-19T00:00:00",
          "2018-03-17T00:00:00",
          "2018-03-01T00:00:00",
          "2018-03-14T00:00:00",
          "2018-02-07T00:00:00",
          "2018-01-08T00:00:00",
          "2018-04-11T00:00:00",
          "2018-04-04T00:00:00",
          "2018-02-07T00:00:00",
          "2018-04-16T00:00:00",
          "2018-04-11T00:00:00",
          "2018-04-11T00:00:00",
          "2018-04-03T00:00:00",
          "2018-02-06T00:00:00",
          "2018-03-06T00:00:00",
          "2018-04-09T00:00:00",
          "2018-03-25T00:00:00",
          "2018-02-21T00:00:00",
          "2018-02-28T00:00:00",
          "2018-02-03T00:00:00",
          "2018-01-16T00:00:00",
          "2018-04-05T00:00:00",
          "2018-03-22T00:00:00",
          "2018-01-02T00:00:00",
          "2018-01-11T00:00:00",
          "2018-04-10T00:00:00",
          "2018-02-10T00:00:00",
          "2018-02-13T00:00:00",
          "2018-04-13T00:00:00",
          "2018-04-14T00:00:00",
          "2018-01-10T00:00:00",
          "2018-03-12T00:00:00",
          "2018-04-17T00:00:00",
          "2018-01-15T00:00:00",
          "2018-04-02T00:00:00",
          "2018-03-19T00:00:00",
          "2018-01-16T00:00:00",
          "2018-02-23T00:00:00",
          "2018-04-14T00:00:00",
          "2018-01-03T00:00:00",
          "2018-02-15T00:00:00",
          "2018-01-25T00:00:00",
          "2018-02-15T00:00:00",
          "2018-04-06T00:00:00",
          "2018-02-20T00:00:00",
          "2018-01-09T00:00:00",
          "2018-02-22T00:00:00",
          "2018-01-23T00:00:00",
          "2018-03-29T00:00:00",
          "2018-04-12T00:00:00",
          "2018-01-03T00:00:00",
          "2018-03-23T00:00:00",
          "2018-04-04T00:00:00",
          "2018-03-15T00:00:00",
          "2018-01-11T00:00:00",
          "2018-03-05T00:00:00",
          "2018-01-08T00:00:00",
          "2018-02-19T00:00:00",
          "2018-02-09T00:00:00",
          "2018-01-31T00:00:00",
          "2018-04-03T00:00:00",
          "2018-03-08T00:00:00",
          "2018-01-24T00:00:00",
          "2018-02-19T00:00:00",
          "2018-04-16T00:00:00",
          "2018-04-08T00:00:00",
          "2018-02-05T00:00:00",
          "2018-01-19T00:00:00",
          "2018-01-02T00:00:00",
          "2018-02-05T00:00:00",
          "2018-02-01T00:00:00",
          "2018-03-31T00:00:00",
          "2018-03-29T00:00:00",
          "2018-03-22T00:00:00",
          "2018-02-24T00:00:00",
          "2018-01-18T00:00:00",
          "2018-03-27T00:00:00",
          "2018-01-05T00:00:00",
          "2018-02-06T00:00:00",
          "2018-03-04T00:00:00",
          "2018-04-09T00:00:00",
          "2018-04-02T00:00:00",
          "2018-03-26T00:00:00",
          "2018-01-22T00:00:00",
          "2018-03-16T00:00:00",
          "2018-04-15T00:00:00",
          "2018-03-01T00:00:00",
          "2018-03-08T00:00:00",
          "2018-03-18T00:00:00",
          "2018-01-22T00:00:00",
          "2018-01-15T00:00:00",
          "2018-01-08T00:00:00",
          "2018-02-28T00:00:00",
          "2018-03-17T00:00:00",
          "2018-01-04T00:00:00",
          "2018-04-11T00:00:00",
          "2018-01-29T00:00:00",
          "2018-02-21T00:00:00",
          "2018-03-01T00:00:00",
          "2018-02-22T00:00:00",
          "2018-04-03T00:00:00",
          "2018-01-14T00:00:00",
          "2018-03-01T00:00:00",
          "2018-02-26T00:00:00",
          "2018-01-20T00:00:00",
          "2018-02-06T00:00:00",
          "2018-04-10T00:00:00",
          "2018-04-08T00:00:00",
          "2018-01-03T00:00:00",
          "2018-02-28T00:00:00",
          "2018-02-07T00:00:00",
          "2018-03-13T00:00:00",
          "2018-02-14T00:00:00",
          "2018-02-17T00:00:00",
          "2018-01-10T00:00:00",
          "2018-01-21T00:00:00",
          "2018-02-07T00:00:00",
          "2018-01-23T00:00:00",
          "2018-03-19T00:00:00",
          "2018-01-22T00:00:00",
          "2018-02-06T00:00:00",
          "2018-02-23T00:00:00",
          "2018-02-01T00:00:00",
          "2018-01-03T00:00:00",
          "2018-01-08T00:00:00",
          "2018-03-08T00:00:00",
          "2018-03-26T00:00:00",
          "2018-04-06T00:00:00",
          "2018-02-12T00:00:00",
          "2018-02-10T00:00:00",
          "2018-01-03T00:00:00",
          "2018-01-11T00:00:00",
          "2018-02-13T00:00:00",
          "2018-02-13T00:00:00",
          "2018-04-08T00:00:00",
          "2018-03-24T00:00:00",
          "2018-02-11T00:00:00",
          "2018-02-19T00:00:00",
          "2018-01-29T00:00:00",
          "2018-03-20T00:00:00",
          "2018-04-19T00:00:00",
          "2018-01-30T00:00:00",
          "2018-03-20T00:00:00",
          "2018-01-17T00:00:00",
          "2018-02-07T00:00:00",
          "2018-02-18T00:00:00",
          "2018-02-07T00:00:00",
          "2018-03-04T00:00:00",
          "2018-04-06T00:00:00",
          "2018-02-17T00:00:00",
          "2018-01-18T00:00:00",
          "2018-01-22T00:00:00",
          "2018-04-06T00:00:00",
          "2018-01-25T00:00:00",
          "2018-03-21T00:00:00",
          "2018-02-06T00:00:00",
          "2018-04-03T00:00:00",
          "2018-03-15T00:00:00",
          "2018-02-05T00:00:00",
          "2018-02-19T00:00:00",
          "2018-03-06T00:00:00",
          "2018-03-14T00:00:00",
          "2018-01-15T00:00:00",
          "2018-02-17T00:00:00",
          "2018-02-18T00:00:00",
          "2018-03-27T00:00:00",
          "2018-04-11T00:00:00",
          "2018-04-02T00:00:00",
          "2018-04-03T00:00:00",
          "2018-04-11T00:00:00",
          "2018-03-27T00:00:00",
          "2018-03-23T00:00:00",
          "2018-01-31T00:00:00",
          "2018-04-09T00:00:00",
          "2018-04-03T00:00:00",
          "2018-04-02T00:00:00",
          "2018-04-09T00:00:00",
          "2018-02-07T00:00:00",
          "2018-01-18T00:00:00",
          "2018-03-05T00:00:00",
          "2018-03-06T00:00:00",
          "2018-01-26T00:00:00",
          "2018-01-02T00:00:00",
          "2018-03-25T00:00:00",
          "2018-02-13T00:00:00",
          "2018-02-19T00:00:00",
          "2018-02-14T00:00:00",
          "2018-02-18T00:00:00",
          "2018-03-06T00:00:00",
          "2018-04-18T00:00:00",
          "2018-04-16T00:00:00",
          "2018-01-16T00:00:00",
          "2018-02-06T00:00:00",
          "2018-04-04T00:00:00",
          "2018-03-26T00:00:00",
          "2018-01-24T00:00:00",
          "2018-01-24T00:00:00",
          "2018-04-19T00:00:00",
          "2018-02-22T00:00:00",
          "2018-02-13T00:00:00",
          "2018-02-07T00:00:00",
          "2018-03-13T00:00:00",
          "2018-02-07T00:00:00",
          "2018-02-08T00:00:00",
          "2018-01-17T00:00:00",
          "2018-03-28T00:00:00",
          "2018-02-23T00:00:00",
          "2018-02-14T00:00:00",
          "2018-02-11T00:00:00",
          "2018-03-27T00:00:00",
          "2018-04-01T00:00:00",
          "2018-02-22T00:00:00",
          "2018-03-23T00:00:00",
          "2018-03-24T00:00:00",
          "2018-02-16T00:00:00",
          "2018-03-02T00:00:00",
          "2018-01-31T00:00:00",
          "2018-03-19T00:00:00",
          "2018-03-15T00:00:00",
          "2018-01-31T00:00:00",
          "2018-02-07T00:00:00",
          "2018-02-06T00:00:00",
          "2018-04-15T00:00:00",
          "2018-01-16T00:00:00",
          "2018-04-01T00:00:00",
          "2018-03-07T00:00:00",
          "2018-03-16T00:00:00",
          "2018-02-06T00:00:00",
          "2018-03-02T00:00:00",
          "2018-03-31T00:00:00",
          "2018-01-25T00:00:00",
          "2018-02-07T00:00:00",
          "2018-01-31T00:00:00",
          "2018-01-08T00:00:00",
          "2018-03-09T00:00:00",
          "2018-02-02T00:00:00",
          "2018-03-26T00:00:00",
          "2018-02-14T00:00:00",
          "2018-02-04T00:00:00",
          "2018-01-15T00:00:00",
          "2018-01-19T00:00:00",
          "2018-03-02T00:00:00",
          "2018-03-20T00:00:00",
          "2018-02-06T00:00:00",
          "2018-03-01T00:00:00",
          "2018-04-10T00:00:00",
          "2018-01-02T00:00:00",
          "2018-01-15T00:00:00",
          "2018-02-24T00:00:00",
          "2018-03-26T00:00:00",
          "2018-01-22T00:00:00",
          "2018-02-07T00:00:00",
          "2018-01-24T00:00:00",
          "2018-03-11T00:00:00",
          "2018-02-07T00:00:00",
          "2018-03-26T00:00:00",
          "2018-03-23T00:00:00",
          "2018-03-06T00:00:00",
          "2018-01-17T00:00:00",
          "2018-01-22T00:00:00",
          "2018-01-23T00:00:00",
          "2018-01-11T00:00:00",
          "2018-01-31T00:00:00",
          "2018-04-05T00:00:00",
          "2018-02-05T00:00:00",
          "2018-02-08T00:00:00",
          "2018-01-15T00:00:00",
          "2018-02-15T00:00:00",
          "2018-04-06T00:00:00",
          "2018-01-14T00:00:00",
          "2018-03-30T00:00:00",
          "2018-01-19T00:00:00",
          "2018-04-07T00:00:00",
          "2018-02-14T00:00:00",
          "2018-02-13T00:00:00",
          "2018-02-14T00:00:00",
          "2018-01-18T00:00:00",
          "2018-03-08T00:00:00",
          "2018-03-23T00:00:00",
          "2018-04-19T00:00:00",
          "2018-01-02T00:00:00",
          "2018-01-03T00:00:00",
          "2018-02-06T00:00:00",
          "2018-03-12T00:00:00",
          "2018-01-15T00:00:00",
          "2018-01-25T00:00:00",
          "2018-03-27T00:00:00",
          "2018-04-18T00:00:00",
          "2018-01-24T00:00:00",
          "2018-03-27T00:00:00",
          "2018-04-05T00:00:00",
          "2018-02-15T00:00:00",
          "2018-03-20T00:00:00",
          "2018-01-31T00:00:00",
          "2018-03-30T00:00:00",
          "2018-02-06T00:00:00",
          "2018-02-15T00:00:00",
          "2018-02-04T00:00:00",
          "2018-02-21T00:00:00",
          "2018-01-02T00:00:00",
          "2018-04-17T00:00:00",
          "2018-02-26T00:00:00",
          "2018-03-08T00:00:00",
          "2018-03-08T00:00:00",
          "2018-03-27T00:00:00",
          "2018-02-09T00:00:00",
          "2018-03-23T00:00:00",
          "2018-02-07T00:00:00",
          "2018-04-14T00:00:00",
          "2018-01-04T00:00:00",
          "2018-01-11T00:00:00",
          "2018-04-06T00:00:00",
          "2018-02-05T00:00:00",
          "2018-03-23T00:00:00",
          "2018-03-26T00:00:00",
          "2018-03-08T00:00:00",
          "2018-02-01T00:00:00",
          "2018-02-12T00:00:00",
          "2018-03-01T00:00:00",
          "2018-04-03T00:00:00",
          "2018-03-22T00:00:00",
          "2018-02-14T00:00:00",
          "2018-02-05T00:00:00",
          "2018-03-08T00:00:00",
          "2018-03-09T00:00:00",
          "2018-02-01T00:00:00",
          "2018-03-17T00:00:00",
          "2018-04-17T00:00:00",
          "2018-02-06T00:00:00",
          "2018-03-18T00:00:00",
          "2018-02-05T00:00:00",
          "2018-02-10T00:00:00",
          "2018-02-06T00:00:00",
          "2018-01-17T00:00:00",
          "2018-03-07T00:00:00",
          "2018-03-30T00:00:00",
          "2018-02-01T00:00:00",
          "2018-03-03T00:00:00",
          "2018-03-12T00:00:00",
          "2018-02-20T00:00:00",
          "2018-01-15T00:00:00",
          "2018-01-13T00:00:00",
          "2018-03-27T00:00:00",
          "2018-03-04T00:00:00",
          "2018-03-30T00:00:00",
          "2018-03-27T00:00:00",
          "2018-02-14T00:00:00",
          "2018-01-16T00:00:00",
          "2018-01-20T00:00:00",
          "2018-01-17T00:00:00",
          "2018-03-01T00:00:00",
          "2018-01-14T00:00:00",
          "2018-04-17T00:00:00",
          "2018-01-04T00:00:00",
          "2018-03-23T00:00:00",
          "2018-02-10T00:00:00",
          "2018-03-02T00:00:00",
          "2018-03-11T00:00:00",
          "2018-01-29T00:00:00",
          "2018-01-21T00:00:00",
          "2018-01-12T00:00:00",
          "2018-01-09T00:00:00",
          "2018-04-16T00:00:00",
          "2018-03-06T00:00:00",
          "2018-02-07T00:00:00",
          "2018-02-23T00:00:00",
          "2018-03-01T00:00:00",
          "2018-03-27T00:00:00",
          "2018-02-19T00:00:00",
          "2018-03-26T00:00:00",
          "2018-04-06T00:00:00",
          "2018-02-13T00:00:00",
          "2018-03-12T00:00:00",
          "2018-02-20T00:00:00",
          "2018-02-05T00:00:00",
          "2018-01-03T00:00:00",
          "2018-01-03T00:00:00",
          "2018-01-16T00:00:00",
          "2018-04-10T00:00:00",
          "2018-01-16T00:00:00",
          "2018-02-02T00:00:00",
          "2018-03-01T00:00:00",
          "2018-02-12T00:00:00",
          "2018-01-31T00:00:00",
          "2018-02-17T00:00:00",
          "2018-03-27T00:00:00",
          "2018-01-28T00:00:00",
          "2018-03-09T00:00:00",
          "2018-02-19T00:00:00",
          "2018-03-22T00:00:00",
          "2018-03-03T00:00:00",
          "2018-04-12T00:00:00",
          "2018-03-27T00:00:00",
          "2018-01-30T00:00:00",
          "2018-01-13T00:00:00",
          "2018-02-19T00:00:00",
          "2018-03-28T00:00:00",
          "2018-04-05T00:00:00",
          "2018-03-14T00:00:00",
          "2018-04-09T00:00:00",
          "2018-02-03T00:00:00",
          "2018-02-02T00:00:00",
          "2018-02-18T00:00:00",
          "2018-02-15T00:00:00",
          "2018-04-03T00:00:00",
          "2018-02-06T00:00:00",
          "2018-03-08T00:00:00",
          "2018-02-06T00:00:00",
          "2018-03-27T00:00:00",
          "2018-02-14T00:00:00",
          "2018-04-04T00:00:00",
          "2018-02-07T00:00:00",
          "2018-01-12T00:00:00",
          "2018-04-11T00:00:00",
          "2018-02-14T00:00:00",
          "2018-01-02T00:00:00",
          "2018-03-27T00:00:00",
          "2018-02-06T00:00:00",
          "2018-01-04T00:00:00",
          "2018-03-22T00:00:00",
          "2018-03-11T00:00:00",
          "2018-01-18T00:00:00",
          "2018-02-07T00:00:00",
          "2018-03-17T00:00:00",
          "2018-02-12T00:00:00",
          "2018-02-07T00:00:00",
          "2018-04-19T00:00:00",
          "2018-02-15T00:00:00",
          "2018-03-07T00:00:00",
          "2018-02-23T00:00:00",
          "2018-02-08T00:00:00",
          "2018-03-09T00:00:00",
          "2018-04-18T00:00:00",
          "2018-01-31T00:00:00",
          "2018-02-25T00:00:00",
          "2018-01-29T00:00:00",
          "2018-02-16T00:00:00",
          "2018-03-17T00:00:00",
          "2018-03-25T00:00:00",
          "2018-03-07T00:00:00",
          "2018-02-07T00:00:00",
          "2018-03-28T00:00:00",
          "2018-03-21T00:00:00",
          "2018-04-03T00:00:00",
          "2018-02-13T00:00:00",
          "2018-04-06T00:00:00",
          "2018-02-14T00:00:00",
          "2018-03-12T00:00:00",
          "2018-03-30T00:00:00",
          "2018-03-19T00:00:00",
          "2018-02-20T00:00:00",
          "2018-02-08T00:00:00",
          "2018-01-19T00:00:00",
          "2018-01-02T00:00:00",
          "2018-03-28T00:00:00",
          "2018-01-22T00:00:00",
          "2018-03-14T00:00:00",
          "2018-03-09T00:00:00",
          "2018-03-12T00:00:00",
          "2018-01-23T00:00:00",
          "2018-01-26T00:00:00",
          "2018-03-07T00:00:00",
          "2018-01-27T00:00:00",
          "2018-04-18T00:00:00",
          "2018-01-18T00:00:00",
          "2018-02-18T00:00:00"
         ],
         "y": [
          2,
          1,
          1,
          2,
          5,
          2,
          1,
          1,
          2,
          1,
          1,
          4,
          1,
          1,
          1,
          1,
          1,
          1,
          1,
          1,
          1,
          2,
          1,
          1,
          1,
          1,
          9,
          1,
          1,
          2,
          1,
          2,
          2,
          12,
          1,
          1,
          4,
          1,
          3,
          2,
          2,
          1,
          1,
          2,
          1,
          4,
          1,
          2,
          2,
          1,
          1,
          1,
          8,
          19,
          10,
          1,
          1,
          1,
          2,
          2,
          1,
          1,
          1,
          1,
          2,
          1,
          1,
          7,
          1,
          1,
          1,
          2,
          1,
          1,
          1,
          1,
          3,
          5,
          1,
          2,
          1,
          1,
          1,
          1,
          2,
          2,
          1,
          3,
          1,
          1,
          1,
          17,
          7,
          1,
          1,
          1,
          1,
          2,
          2,
          1,
          1,
          1,
          3,
          1,
          3,
          1,
          1,
          2,
          1,
          1,
          1,
          4,
          1,
          1,
          2,
          1,
          2,
          1,
          4,
          1,
          1,
          1,
          1,
          2,
          1,
          9,
          2,
          1,
          1,
          1,
          1,
          5,
          2,
          2,
          1,
          2,
          4,
          7,
          2,
          1,
          1,
          1,
          1,
          1,
          2,
          1,
          1,
          1,
          2,
          2,
          1,
          2,
          5,
          1,
          1,
          2,
          1,
          4,
          1,
          4,
          1,
          1,
          1,
          1,
          2,
          1,
          2,
          1,
          1,
          1,
          2,
          1,
          2,
          19,
          2,
          1,
          1,
          1,
          1,
          1,
          1,
          1,
          1,
          3,
          1,
          1,
          1,
          1,
          2,
          3,
          1,
          1,
          1,
          1,
          1,
          1,
          1,
          6,
          1,
          1,
          2,
          1,
          1,
          1,
          6,
          1,
          1,
          2,
          1,
          1,
          2,
          1,
          1,
          3,
          1,
          1,
          1,
          1,
          1,
          2,
          4,
          3,
          5,
          1,
          1,
          1,
          4,
          2,
          1,
          1,
          1,
          2,
          2,
          4,
          4,
          1,
          3,
          1,
          1,
          3,
          2,
          2,
          1,
          1,
          1,
          1,
          1,
          1,
          1,
          1,
          2,
          1,
          12,
          2,
          2,
          1,
          2,
          2,
          2,
          1,
          1,
          2,
          2,
          1,
          2,
          1,
          4,
          1,
          2,
          1,
          1,
          3,
          1,
          2,
          14,
          1,
          2,
          1,
          1,
          2,
          1,
          2,
          1,
          6,
          1,
          1,
          1,
          1,
          6,
          1,
          1,
          1,
          13,
          16,
          8,
          5,
          3,
          1,
          19,
          7,
          2,
          1,
          2,
          1,
          1,
          1,
          3,
          1,
          2,
          3,
          1,
          2,
          1,
          1,
          1,
          3,
          1,
          2,
          9,
          4,
          1,
          1,
          1,
          2,
          1,
          2,
          2,
          2,
          1,
          1,
          2,
          1,
          2,
          1,
          2,
          1,
          1,
          1,
          4,
          1,
          3,
          1,
          1,
          1,
          2,
          1,
          1,
          1,
          2,
          1,
          5,
          11,
          1,
          1,
          6,
          1,
          2,
          1,
          1,
          1,
          1,
          1,
          2,
          2,
          1,
          1,
          1,
          2,
          1,
          1,
          1,
          2,
          1,
          1,
          1,
          1,
          2,
          1,
          1,
          2,
          2,
          2,
          1,
          2,
          19,
          2,
          1,
          2,
          1,
          1,
          1,
          2,
          1,
          1,
          1,
          2,
          1,
          1,
          1,
          1,
          1,
          1,
          9,
          5,
          1,
          1,
          1,
          1,
          1,
          1,
          3,
          1,
          2,
          2,
          1,
          1,
          19,
          1,
          1,
          3,
          6,
          1,
          4,
          2,
          2,
          10,
          1,
          1,
          5,
          1,
          4,
          1,
          18,
          1,
          1,
          1,
          3,
          1,
          1,
          1,
          2,
          2,
          12,
          2,
          1,
          1,
          1,
          1,
          1,
          1,
          1,
          2,
          1,
          4,
          8,
          1,
          1,
          1,
          1,
          1,
          2,
          1,
          2,
          1,
          2,
          2,
          7,
          8,
          2,
          2,
          1,
          1,
          1,
          2,
          1,
          1,
          2,
          1,
          1,
          1,
          2,
          1,
          3,
          3,
          1,
          1,
          2,
          1,
          1,
          3,
          1,
          1,
          1,
          5,
          1,
          1,
          13,
          1,
          1,
          3,
          1,
          1,
          1,
          7,
          2,
          1,
          10,
          1,
          10,
          1,
          1,
          5,
          1,
          1,
          1,
          2,
          1,
          2,
          1,
          1,
          1,
          1,
          4,
          2,
          1,
          1,
          7,
          8,
          1,
          2,
          1,
          2,
          12,
          4,
          2,
          1,
          1,
          2,
          1,
          5,
          1,
          2,
          1,
          5,
          1,
          3,
          1,
          1,
          8,
          1,
          2,
          1,
          2,
          3,
          3,
          1,
          6,
          1,
          1,
          1,
          12,
          4,
          6,
          1,
          2,
          2,
          10,
          1,
          2,
          1,
          1,
          1,
          2,
          2,
          2,
          3,
          2,
          2,
          1,
          1,
          4,
          1,
          1,
          1,
          2,
          2,
          3,
          1,
          1,
          1,
          3,
          2,
          6,
          1,
          3,
          2,
          1,
          2,
          1,
          1,
          1,
          1,
          2,
          1,
          13,
          4,
          1,
          2,
          11,
          2,
          1,
          2,
          1,
          2,
          1,
          1,
          1,
          2,
          1,
          1,
          6,
          1,
          1,
          8,
          1,
          1,
          2,
          1,
          2,
          1,
          1,
          9,
          3,
          1,
          1,
          1,
          1,
          2,
          1,
          1,
          1,
          1,
          3,
          1,
          1,
          1,
          1,
          2,
          3,
          2,
          9,
          1,
          1,
          2,
          4,
          1,
          3,
          1,
          1,
          1,
          2,
          1,
          1,
          1,
          1,
          1,
          1,
          12,
          1,
          1,
          4,
          1,
          1,
          7,
          1,
          19,
          1,
          1,
          1,
          1,
          2,
          1,
          5,
          1,
          7,
          7,
          2,
          7,
          1,
          1,
          1,
          1,
          2,
          4,
          1,
          1,
          3,
          1,
          1,
          1,
          1,
          3,
          7,
          3,
          2,
          2,
          1,
          8,
          1,
          1,
          1,
          4,
          2,
          1,
          5,
          1,
          2,
          1,
          1,
          1,
          1,
          1,
          2,
          2,
          1,
          1,
          1,
          1,
          1,
          1,
          2,
          1,
          1,
          1,
          1,
          2,
          1,
          1,
          1,
          1,
          1,
          2,
          1,
          2,
          1,
          4,
          2,
          2,
          5,
          3,
          5,
          1,
          1,
          1,
          5,
          7,
          2,
          1,
          3,
          16,
          1,
          5,
          6,
          2,
          1,
          1,
          2,
          3,
          1,
          1,
          2,
          1,
          1,
          6,
          1,
          1,
          1,
          2,
          1,
          3,
          5,
          2,
          2,
          1,
          5,
          3,
          2,
          1,
          1,
          1,
          1,
          1,
          1,
          2,
          7,
          4,
          2,
          1,
          3,
          3,
          3,
          1,
          3,
          4,
          1,
          1,
          1,
          1,
          1,
          17,
          3,
          2,
          3,
          3,
          2,
          1,
          3,
          1,
          18,
          2,
          1,
          1,
          4,
          1,
          1,
          1,
          1,
          1,
          1,
          1,
          8,
          3,
          2,
          1,
          3,
          1,
          2,
          4,
          3,
          1,
          1,
          1,
          1,
          4,
          2,
          3,
          1,
          1,
          2,
          19,
          1,
          1,
          1,
          2,
          2,
          1,
          1,
          1,
          1,
          2,
          5,
          1,
          12,
          1,
          1,
          3,
          1,
          15,
          1,
          1,
          1,
          1,
          1,
          8,
          2,
          1,
          2,
          2,
          1,
          3,
          1,
          4,
          1,
          1,
          1,
          1,
          4,
          13,
          6,
          2,
          2,
          4,
          1,
          1,
          1,
          10,
          1,
          1,
          2,
          1,
          1,
          1,
          1,
          3,
          1,
          1,
          3,
          1,
          1,
          1,
          18,
          3,
          2,
          1,
          1,
          2,
          1,
          2,
          1,
          1,
          1,
          1,
          3,
          2,
          1,
          1,
          2,
          1,
          4,
          3,
          1,
          1,
          1,
          3,
          3,
          1,
          1,
          2,
          2,
          1,
          3,
          2,
          1,
          1,
          16,
          2,
          1,
          1,
          1,
          1,
          4,
          1,
          3,
          2,
          1,
          1,
          1,
          2,
          2,
          1,
          1,
          1,
          10,
          1,
          2,
          1,
          1,
          6,
          1,
          17,
          1,
          2,
          1,
          5,
          1,
          1,
          4,
          2,
          1,
          1,
          4,
          1,
          1,
          1,
          1,
          1,
          2,
          1,
          2,
          1,
          4,
          2,
          3,
          2,
          1,
          1,
          17,
          1,
          1,
          3,
          1,
          2,
          12,
          4,
          1,
          3,
          1,
          2,
          1,
          1,
          9,
          1,
          1,
          1,
          1,
          1,
          2,
          6,
          1,
          1,
          1,
          5,
          1,
          1,
          1,
          2,
          3,
          1,
          1,
          1,
          1,
          1,
          1,
          1,
          1,
          1,
          4,
          2,
          1,
          2,
          1,
          1,
          1,
          2,
          1,
          1,
          2,
          1,
          1,
          2,
          1,
          4,
          1,
          1,
          2,
          1,
          1,
          1,
          4,
          1,
          1,
          3,
          7,
          2,
          2,
          1,
          3,
          1,
          2,
          2,
          1,
          1,
          1,
          1,
          5,
          1,
          1,
          6,
          1,
          3,
          1,
          1,
          1,
          1,
          1,
          1,
          5,
          4,
          2,
          6,
          1,
          9,
          3,
          1,
          1,
          1,
          13,
          1,
          1,
          1,
          3,
          1,
          6,
          2,
          3,
          1,
          1,
          1,
          1,
          2,
          1,
          1,
          1,
          1,
          1,
          1,
          6,
          1,
          1,
          1,
          3,
          1,
          3,
          1,
          1,
          1,
          2,
          4,
          2,
          1,
          2,
          1,
          3,
          3,
          1,
          2,
          1,
          1,
          1,
          1,
          1,
          7,
          1,
          1,
          1,
          1,
          2,
          2,
          3,
          1,
          2,
          1,
          3,
          1,
          1,
          1,
          1,
          1,
          2,
          2,
          1,
          1,
          1,
          2,
          2,
          2,
          1,
          8,
          5,
          1,
          1,
          2,
          1,
          1,
          9,
          2,
          7,
          1,
          1,
          1,
          2,
          1,
          1,
          1,
          5,
          1,
          1,
          2,
          19,
          1,
          1,
          2,
          1,
          9,
          1,
          5,
          7,
          1,
          2,
          5,
          1,
          1,
          1,
          1,
          1,
          2,
          1,
          3,
          19,
          1,
          1,
          1,
          1,
          1,
          1,
          15,
          2,
          1,
          14,
          4,
          1,
          1,
          1,
          2,
          1,
          3,
          6,
          2,
          1,
          2,
          1,
          2,
          1,
          3,
          1,
          1,
          1,
          2,
          3,
          1,
          1,
          1,
          1,
          7,
          2,
          1,
          2,
          1,
          6,
          2,
          1,
          1,
          1,
          19,
          1,
          2,
          3,
          4,
          1,
          3,
          2,
          1,
          1,
          1,
          4,
          1,
          1,
          2,
          4,
          2,
          4,
          1,
          1,
          1,
          1,
          2,
          3,
          2,
          4,
          2,
          2,
          2,
          18,
          2,
          1,
          2,
          2,
          2,
          1,
          4,
          2,
          1,
          2,
          3,
          2,
          1,
          1,
          4,
          1,
          2,
          7,
          1,
          1,
          1,
          2,
          5,
          2,
          1,
          2,
          2,
          2,
          2,
          3,
          2,
          1,
          1,
          1,
          5,
          1,
          1,
          2,
          1,
          1,
          1,
          1,
          2,
          1,
          2,
          2,
          2,
          1,
          1,
          1,
          1,
          4,
          1,
          2,
          1,
          2,
          1,
          1,
          1,
          1,
          1,
          1,
          1,
          1,
          2,
          6,
          2,
          3,
          2,
          8,
          1,
          2,
          1,
          7,
          6,
          1,
          1,
          11,
          2,
          3,
          2,
          1,
          1,
          1,
          1,
          3,
          3,
          1,
          1,
          1,
          4,
          1,
          1,
          4,
          2,
          12,
          1,
          1,
          1,
          1,
          2,
          1,
          14,
          2,
          6,
          1,
          5,
          4,
          1,
          1,
          1,
          1,
          16,
          1,
          6,
          1,
          1,
          2,
          1,
          1,
          2,
          1,
          1,
          1,
          7,
          5,
          1,
          2,
          1,
          2,
          11,
          5,
          1,
          1,
          2,
          1,
          4,
          4,
          1,
          4,
          1,
          2,
          8,
          1,
          2,
          2,
          1,
          16,
          1,
          1,
          1,
          1,
          1,
          2,
          1,
          4,
          1,
          5,
          1,
          15,
          1,
          1,
          1,
          19,
          10,
          4,
          1,
          2,
          4,
          4,
          1,
          2,
          9,
          1,
          1,
          1,
          11,
          10,
          1,
          2,
          1,
          1,
          2,
          1,
          1,
          1,
          2,
          1,
          1,
          1,
          3,
          1,
          1,
          3,
          1,
          2,
          4,
          1,
          8,
          1,
          3,
          1,
          1,
          10,
          3,
          2,
          1,
          1,
          12,
          1,
          4,
          1,
          1,
          2,
          2,
          12,
          1,
          1,
          1,
          1,
          2,
          1,
          1,
          4,
          1,
          1,
          2,
          1,
          2,
          4,
          17,
          1,
          1,
          1,
          14,
          1,
          7,
          1,
          1,
          1,
          2,
          1,
          1,
          1,
          2,
          1,
          1,
          3,
          1,
          1,
          10,
          1,
          1,
          1,
          4,
          1,
          4,
          1,
          2,
          2,
          1,
          8,
          1,
          1,
          2,
          1,
          1,
          1,
          2,
          17,
          2,
          5,
          1,
          1,
          2,
          1,
          1,
          4,
          2,
          1,
          1,
          2,
          2,
          3,
          1,
          2,
          1,
          4,
          1,
          1,
          3,
          1,
          6,
          1,
          4,
          2,
          10,
          1,
          1,
          3,
          4,
          1,
          1,
          5,
          1,
          1,
          5,
          1,
          1,
          2,
          3,
          1,
          1,
          3,
          4,
          1,
          2,
          3,
          13,
          3,
          1,
          1,
          3,
          3,
          1,
          1,
          2,
          1,
          1,
          1,
          3,
          2,
          5,
          1,
          1,
          2,
          1,
          1,
          1,
          3,
          2,
          18,
          4,
          1,
          3,
          1,
          1,
          1,
          2,
          9,
          1,
          1,
          2,
          3,
          1,
          6,
          1,
          1,
          6,
          4,
          2,
          2,
          2,
          10,
          1,
          1,
          1,
          2,
          1,
          12,
          1,
          1,
          2,
          1,
          7,
          1,
          6,
          2,
          2,
          4,
          1,
          1,
          1,
          1,
          1,
          1,
          3,
          3,
          1,
          2,
          18,
          2,
          1,
          1,
          1,
          3,
          1,
          1,
          8,
          2,
          5,
          1,
          1,
          4,
          1,
          1,
          2,
          1,
          1,
          1,
          1,
          1,
          5,
          3,
          2,
          3,
          1,
          1,
          1,
          7,
          2,
          1,
          1,
          6,
          2,
          5,
          1,
          1,
          2,
          3,
          2,
          4,
          1,
          1,
          4,
          1,
          2,
          7,
          4,
          2,
          3,
          2,
          1,
          1,
          1,
          1,
          5,
          1,
          7,
          1,
          1,
          1,
          1,
          2,
          3,
          2,
          1,
          1,
          3,
          1,
          2,
          2,
          1,
          4,
          1,
          3,
          1,
          3,
          1,
          3,
          1,
          1,
          3,
          1,
          1,
          2,
          2,
          1,
          5,
          2,
          2,
          1,
          1,
          2,
          1,
          7,
          2,
          2,
          2,
          4,
          2,
          1,
          1,
          5,
          2,
          4,
          2,
          1,
          1,
          1,
          2,
          1,
          4,
          1,
          2,
          4,
          1,
          2,
          1,
          2,
          1,
          1,
          1,
          1,
          2,
          1,
          1,
          3,
          1,
          2,
          1,
          1,
          1,
          1,
          2,
          2,
          1,
          2,
          1,
          1,
          1,
          3,
          2,
          1,
          13,
          2,
          1,
          6,
          14,
          4,
          1,
          16,
          1,
          2,
          1,
          1,
          1,
          3,
          1,
          2,
          2,
          1,
          1,
          1,
          1,
          1,
          1,
          3,
          1,
          1,
          1,
          1,
          3,
          1,
          1,
          1,
          11,
          2,
          1,
          1,
          2,
          1,
          1,
          1,
          2,
          2,
          1,
          1,
          1,
          1,
          4,
          4,
          1,
          1,
          2,
          1,
          1,
          12,
          10,
          12,
          1,
          1,
          1,
          2,
          1,
          5,
          1,
          4,
          4,
          1,
          4,
          1,
          2,
          5,
          1,
          1,
          1,
          2,
          2,
          1,
          1,
          2,
          3,
          2,
          3,
          2,
          1,
          3,
          1,
          1,
          1
         ],
         "type": "bar",
         "xaxis": "x2",
         "yaxis": "y2"
        }
       ],
       "layout": {
        "template": {
         "data": {
          "bar": [
           {
            "error_x": {
             "color": "#2a3f5f"
            },
            "error_y": {
             "color": "#2a3f5f"
            },
            "marker": {
             "line": {
              "color": "#E5ECF6",
              "width": 0.5
             },
             "pattern": {
              "fillmode": "overlay",
              "size": 10,
              "solidity": 0.2
             }
            },
            "type": "bar"
           }
          ],
          "barpolar": [
           {
            "marker": {
             "line": {
              "color": "#E5ECF6",
              "width": 0.5
             },
             "pattern": {
              "fillmode": "overlay",
              "size": 10,
              "solidity": 0.2
             }
            },
            "type": "barpolar"
           }
          ],
          "carpet": [
           {
            "aaxis": {
             "endlinecolor": "#2a3f5f",
             "gridcolor": "white",
             "linecolor": "white",
             "minorgridcolor": "white",
             "startlinecolor": "#2a3f5f"
            },
            "baxis": {
             "endlinecolor": "#2a3f5f",
             "gridcolor": "white",
             "linecolor": "white",
             "minorgridcolor": "white",
             "startlinecolor": "#2a3f5f"
            },
            "type": "carpet"
           }
          ],
          "choropleth": [
           {
            "colorbar": {
             "outlinewidth": 0,
             "ticks": ""
            },
            "type": "choropleth"
           }
          ],
          "contour": [
           {
            "colorbar": {
             "outlinewidth": 0,
             "ticks": ""
            },
            "colorscale": [
             [
              0,
              "#0d0887"
             ],
             [
              0.1111111111111111,
              "#46039f"
             ],
             [
              0.2222222222222222,
              "#7201a8"
             ],
             [
              0.3333333333333333,
              "#9c179e"
             ],
             [
              0.4444444444444444,
              "#bd3786"
             ],
             [
              0.5555555555555556,
              "#d8576b"
             ],
             [
              0.6666666666666666,
              "#ed7953"
             ],
             [
              0.7777777777777778,
              "#fb9f3a"
             ],
             [
              0.8888888888888888,
              "#fdca26"
             ],
             [
              1,
              "#f0f921"
             ]
            ],
            "type": "contour"
           }
          ],
          "contourcarpet": [
           {
            "colorbar": {
             "outlinewidth": 0,
             "ticks": ""
            },
            "type": "contourcarpet"
           }
          ],
          "heatmap": [
           {
            "colorbar": {
             "outlinewidth": 0,
             "ticks": ""
            },
            "colorscale": [
             [
              0,
              "#0d0887"
             ],
             [
              0.1111111111111111,
              "#46039f"
             ],
             [
              0.2222222222222222,
              "#7201a8"
             ],
             [
              0.3333333333333333,
              "#9c179e"
             ],
             [
              0.4444444444444444,
              "#bd3786"
             ],
             [
              0.5555555555555556,
              "#d8576b"
             ],
             [
              0.6666666666666666,
              "#ed7953"
             ],
             [
              0.7777777777777778,
              "#fb9f3a"
             ],
             [
              0.8888888888888888,
              "#fdca26"
             ],
             [
              1,
              "#f0f921"
             ]
            ],
            "type": "heatmap"
           }
          ],
          "heatmapgl": [
           {
            "colorbar": {
             "outlinewidth": 0,
             "ticks": ""
            },
            "colorscale": [
             [
              0,
              "#0d0887"
             ],
             [
              0.1111111111111111,
              "#46039f"
             ],
             [
              0.2222222222222222,
              "#7201a8"
             ],
             [
              0.3333333333333333,
              "#9c179e"
             ],
             [
              0.4444444444444444,
              "#bd3786"
             ],
             [
              0.5555555555555556,
              "#d8576b"
             ],
             [
              0.6666666666666666,
              "#ed7953"
             ],
             [
              0.7777777777777778,
              "#fb9f3a"
             ],
             [
              0.8888888888888888,
              "#fdca26"
             ],
             [
              1,
              "#f0f921"
             ]
            ],
            "type": "heatmapgl"
           }
          ],
          "histogram": [
           {
            "marker": {
             "pattern": {
              "fillmode": "overlay",
              "size": 10,
              "solidity": 0.2
             }
            },
            "type": "histogram"
           }
          ],
          "histogram2d": [
           {
            "colorbar": {
             "outlinewidth": 0,
             "ticks": ""
            },
            "colorscale": [
             [
              0,
              "#0d0887"
             ],
             [
              0.1111111111111111,
              "#46039f"
             ],
             [
              0.2222222222222222,
              "#7201a8"
             ],
             [
              0.3333333333333333,
              "#9c179e"
             ],
             [
              0.4444444444444444,
              "#bd3786"
             ],
             [
              0.5555555555555556,
              "#d8576b"
             ],
             [
              0.6666666666666666,
              "#ed7953"
             ],
             [
              0.7777777777777778,
              "#fb9f3a"
             ],
             [
              0.8888888888888888,
              "#fdca26"
             ],
             [
              1,
              "#f0f921"
             ]
            ],
            "type": "histogram2d"
           }
          ],
          "histogram2dcontour": [
           {
            "colorbar": {
             "outlinewidth": 0,
             "ticks": ""
            },
            "colorscale": [
             [
              0,
              "#0d0887"
             ],
             [
              0.1111111111111111,
              "#46039f"
             ],
             [
              0.2222222222222222,
              "#7201a8"
             ],
             [
              0.3333333333333333,
              "#9c179e"
             ],
             [
              0.4444444444444444,
              "#bd3786"
             ],
             [
              0.5555555555555556,
              "#d8576b"
             ],
             [
              0.6666666666666666,
              "#ed7953"
             ],
             [
              0.7777777777777778,
              "#fb9f3a"
             ],
             [
              0.8888888888888888,
              "#fdca26"
             ],
             [
              1,
              "#f0f921"
             ]
            ],
            "type": "histogram2dcontour"
           }
          ],
          "mesh3d": [
           {
            "colorbar": {
             "outlinewidth": 0,
             "ticks": ""
            },
            "type": "mesh3d"
           }
          ],
          "parcoords": [
           {
            "line": {
             "colorbar": {
              "outlinewidth": 0,
              "ticks": ""
             }
            },
            "type": "parcoords"
           }
          ],
          "pie": [
           {
            "automargin": true,
            "type": "pie"
           }
          ],
          "scatter": [
           {
            "marker": {
             "colorbar": {
              "outlinewidth": 0,
              "ticks": ""
             }
            },
            "type": "scatter"
           }
          ],
          "scatter3d": [
           {
            "line": {
             "colorbar": {
              "outlinewidth": 0,
              "ticks": ""
             }
            },
            "marker": {
             "colorbar": {
              "outlinewidth": 0,
              "ticks": ""
             }
            },
            "type": "scatter3d"
           }
          ],
          "scattercarpet": [
           {
            "marker": {
             "colorbar": {
              "outlinewidth": 0,
              "ticks": ""
             }
            },
            "type": "scattercarpet"
           }
          ],
          "scattergeo": [
           {
            "marker": {
             "colorbar": {
              "outlinewidth": 0,
              "ticks": ""
             }
            },
            "type": "scattergeo"
           }
          ],
          "scattergl": [
           {
            "marker": {
             "colorbar": {
              "outlinewidth": 0,
              "ticks": ""
             }
            },
            "type": "scattergl"
           }
          ],
          "scattermapbox": [
           {
            "marker": {
             "colorbar": {
              "outlinewidth": 0,
              "ticks": ""
             }
            },
            "type": "scattermapbox"
           }
          ],
          "scatterpolar": [
           {
            "marker": {
             "colorbar": {
              "outlinewidth": 0,
              "ticks": ""
             }
            },
            "type": "scatterpolar"
           }
          ],
          "scatterpolargl": [
           {
            "marker": {
             "colorbar": {
              "outlinewidth": 0,
              "ticks": ""
             }
            },
            "type": "scatterpolargl"
           }
          ],
          "scatterternary": [
           {
            "marker": {
             "colorbar": {
              "outlinewidth": 0,
              "ticks": ""
             }
            },
            "type": "scatterternary"
           }
          ],
          "surface": [
           {
            "colorbar": {
             "outlinewidth": 0,
             "ticks": ""
            },
            "colorscale": [
             [
              0,
              "#0d0887"
             ],
             [
              0.1111111111111111,
              "#46039f"
             ],
             [
              0.2222222222222222,
              "#7201a8"
             ],
             [
              0.3333333333333333,
              "#9c179e"
             ],
             [
              0.4444444444444444,
              "#bd3786"
             ],
             [
              0.5555555555555556,
              "#d8576b"
             ],
             [
              0.6666666666666666,
              "#ed7953"
             ],
             [
              0.7777777777777778,
              "#fb9f3a"
             ],
             [
              0.8888888888888888,
              "#fdca26"
             ],
             [
              1,
              "#f0f921"
             ]
            ],
            "type": "surface"
           }
          ],
          "table": [
           {
            "cells": {
             "fill": {
              "color": "#EBF0F8"
             },
             "line": {
              "color": "white"
             }
            },
            "header": {
             "fill": {
              "color": "#C8D4E3"
             },
             "line": {
              "color": "white"
             }
            },
            "type": "table"
           }
          ]
         },
         "layout": {
          "annotationdefaults": {
           "arrowcolor": "#2a3f5f",
           "arrowhead": 0,
           "arrowwidth": 1
          },
          "autotypenumbers": "strict",
          "coloraxis": {
           "colorbar": {
            "outlinewidth": 0,
            "ticks": ""
           }
          },
          "colorscale": {
           "diverging": [
            [
             0,
             "#8e0152"
            ],
            [
             0.1,
             "#c51b7d"
            ],
            [
             0.2,
             "#de77ae"
            ],
            [
             0.3,
             "#f1b6da"
            ],
            [
             0.4,
             "#fde0ef"
            ],
            [
             0.5,
             "#f7f7f7"
            ],
            [
             0.6,
             "#e6f5d0"
            ],
            [
             0.7,
             "#b8e186"
            ],
            [
             0.8,
             "#7fbc41"
            ],
            [
             0.9,
             "#4d9221"
            ],
            [
             1,
             "#276419"
            ]
           ],
           "sequential": [
            [
             0,
             "#0d0887"
            ],
            [
             0.1111111111111111,
             "#46039f"
            ],
            [
             0.2222222222222222,
             "#7201a8"
            ],
            [
             0.3333333333333333,
             "#9c179e"
            ],
            [
             0.4444444444444444,
             "#bd3786"
            ],
            [
             0.5555555555555556,
             "#d8576b"
            ],
            [
             0.6666666666666666,
             "#ed7953"
            ],
            [
             0.7777777777777778,
             "#fb9f3a"
            ],
            [
             0.8888888888888888,
             "#fdca26"
            ],
            [
             1,
             "#f0f921"
            ]
           ],
           "sequentialminus": [
            [
             0,
             "#0d0887"
            ],
            [
             0.1111111111111111,
             "#46039f"
            ],
            [
             0.2222222222222222,
             "#7201a8"
            ],
            [
             0.3333333333333333,
             "#9c179e"
            ],
            [
             0.4444444444444444,
             "#bd3786"
            ],
            [
             0.5555555555555556,
             "#d8576b"
            ],
            [
             0.6666666666666666,
             "#ed7953"
            ],
            [
             0.7777777777777778,
             "#fb9f3a"
            ],
            [
             0.8888888888888888,
             "#fdca26"
            ],
            [
             1,
             "#f0f921"
            ]
           ]
          },
          "colorway": [
           "#636efa",
           "#EF553B",
           "#00cc96",
           "#ab63fa",
           "#FFA15A",
           "#19d3f3",
           "#FF6692",
           "#B6E880",
           "#FF97FF",
           "#FECB52"
          ],
          "font": {
           "color": "#2a3f5f"
          },
          "geo": {
           "bgcolor": "white",
           "lakecolor": "white",
           "landcolor": "#E5ECF6",
           "showlakes": true,
           "showland": true,
           "subunitcolor": "white"
          },
          "hoverlabel": {
           "align": "left"
          },
          "hovermode": "closest",
          "mapbox": {
           "style": "light"
          },
          "paper_bgcolor": "white",
          "plot_bgcolor": "#E5ECF6",
          "polar": {
           "angularaxis": {
            "gridcolor": "white",
            "linecolor": "white",
            "ticks": ""
           },
           "bgcolor": "#E5ECF6",
           "radialaxis": {
            "gridcolor": "white",
            "linecolor": "white",
            "ticks": ""
           }
          },
          "scene": {
           "xaxis": {
            "backgroundcolor": "#E5ECF6",
            "gridcolor": "white",
            "gridwidth": 2,
            "linecolor": "white",
            "showbackground": true,
            "ticks": "",
            "zerolinecolor": "white"
           },
           "yaxis": {
            "backgroundcolor": "#E5ECF6",
            "gridcolor": "white",
            "gridwidth": 2,
            "linecolor": "white",
            "showbackground": true,
            "ticks": "",
            "zerolinecolor": "white"
           },
           "zaxis": {
            "backgroundcolor": "#E5ECF6",
            "gridcolor": "white",
            "gridwidth": 2,
            "linecolor": "white",
            "showbackground": true,
            "ticks": "",
            "zerolinecolor": "white"
           }
          },
          "shapedefaults": {
           "line": {
            "color": "#2a3f5f"
           }
          },
          "ternary": {
           "aaxis": {
            "gridcolor": "white",
            "linecolor": "white",
            "ticks": ""
           },
           "baxis": {
            "gridcolor": "white",
            "linecolor": "white",
            "ticks": ""
           },
           "bgcolor": "#E5ECF6",
           "caxis": {
            "gridcolor": "white",
            "linecolor": "white",
            "ticks": ""
           }
          },
          "title": {
           "x": 0.05
          },
          "xaxis": {
           "automargin": true,
           "gridcolor": "white",
           "linecolor": "white",
           "ticks": "",
           "title": {
            "standoff": 15
           },
           "zerolinecolor": "white",
           "zerolinewidth": 2
          },
          "yaxis": {
           "automargin": true,
           "gridcolor": "white",
           "linecolor": "white",
           "ticks": "",
           "title": {
            "standoff": 15
           },
           "zerolinecolor": "white",
           "zerolinewidth": 2
          }
         }
        },
        "xaxis": {
         "anchor": "y",
         "domain": [
          0,
          1
         ],
         "matches": "x2",
         "showticklabels": false
        },
        "yaxis": {
         "anchor": "x",
         "domain": [
          0.51,
          1
         ]
        },
        "xaxis2": {
         "anchor": "y2",
         "domain": [
          0,
          1
         ]
        },
        "yaxis2": {
         "anchor": "x2",
         "domain": [
          0,
          0.49
         ]
        },
        "title": {
         "text": "Star Wars: Episode VIII - The Last Jedi"
        }
       },
       "config": {
        "plotlyServerURL": "https://plot.ly"
       }
      }
     },
     "metadata": {}
    }
   ],
   "metadata": {}
  },
  {
   "cell_type": "code",
   "execution_count": 29,
   "source": [
    "#Star Wars: Episode VII - The Force Awakens\n",
    "fig = make_subplots(rows=2, cols=1, shared_xaxes=True,\n",
    "                    vertical_spacing=0.02)\n",
    "\n",
    "fig.append_trace(go.Bar(x=df_boxOffice[df_boxOffice.movie=='Star Wars: Episode VII - The Force Awakens'].days, y = df_boxOffice[df_boxOffice.movie=='Star Wars: Episode VII - The Force Awakens'].daily, name='boxOffice'), row=1, col=1)\n",
    "fig.append_trace(go.Bar(x=sw_VII.date, y = sw_VII.numOccurrences, name = 'Quotes'), row=2, col=1)\n",
    "fig.update_layout(title_text=\"Star Wars: Episode VII - The Force Awakens\")\n",
    "fig.show()"
   ],
   "outputs": [
    {
     "output_type": "display_data",
     "data": {
      "application/vnd.plotly.v1+json": {
       "data": [
        {
         "name": "boxOffice",
         "x": [
          "2015-12-18",
          "2015-12-19",
          "2015-12-20",
          "2015-12-21",
          "2015-12-22",
          "2015-12-23",
          "2015-12-24",
          "2015-12-25",
          "2015-12-26",
          "2015-12-27",
          "2015-12-28",
          "2015-12-29",
          "2015-12-30",
          "2015-12-31",
          "2016-01-01",
          "2016-01-02",
          "2016-01-03",
          "2016-01-04",
          "2016-01-05",
          "2016-01-06",
          "2016-01-07",
          "2016-01-08",
          "2016-01-09",
          "2016-01-10",
          "2016-01-11",
          "2016-01-12",
          "2016-01-13",
          "2016-01-14",
          "2016-01-15",
          "2016-01-16",
          "2016-01-17",
          "2016-01-18",
          "2016-01-19",
          "2016-01-20",
          "2016-01-21",
          "2016-01-22",
          "2016-01-23",
          "2016-01-24",
          "2016-01-25",
          "2016-01-26",
          "2016-01-27",
          "2016-01-28",
          "2016-01-29",
          "2016-01-30",
          "2016-01-31",
          "2016-02-01",
          "2016-02-02",
          "2016-02-03",
          "2016-02-04",
          "2016-02-05",
          "2016-02-06",
          "2016-02-07",
          "2016-02-08",
          "2016-02-09",
          "2016-02-10",
          "2016-02-11",
          "2016-02-12",
          "2016-02-13",
          "2016-02-14",
          "2016-02-15",
          "2016-02-16",
          "2016-02-17",
          "2016-02-18",
          "2016-02-19",
          "2016-02-20",
          "2016-02-21",
          "2016-02-22",
          "2016-02-23",
          "2016-02-24",
          "2016-02-25",
          "2016-02-26",
          "2016-02-27",
          "2016-02-28",
          "2016-02-29",
          "2016-03-01",
          "2016-03-02",
          "2016-03-03",
          "2016-03-04",
          "2016-03-05",
          "2016-03-06",
          "2016-03-07",
          "2016-03-08",
          "2016-03-09",
          "2016-03-10",
          "2016-03-11",
          "2016-03-12",
          "2016-03-13",
          "2016-03-14",
          "2016-03-15",
          "2016-03-16",
          "2016-03-17",
          "2016-03-18",
          "2016-03-19",
          "2016-03-20",
          "2016-03-21",
          "2016-03-22",
          "2016-03-23",
          "2016-03-24",
          "2016-03-25",
          "2016-03-26",
          "2016-03-27",
          "2016-03-28",
          "2016-03-29",
          "2016-03-30",
          "2016-03-31",
          "2016-04-01",
          "2016-04-02",
          "2016-04-03",
          "2016-04-04",
          "2016-04-05",
          "2016-04-06",
          "2016-04-07",
          "2016-04-08",
          "2016-04-09",
          "2016-04-10",
          "2016-04-11",
          "2016-04-12",
          "2016-04-13",
          "2016-04-14",
          "2016-05-30"
         ],
         "y": [
          119119282,
          68294204,
          60553189,
          40109742,
          37361729,
          38022183,
          27395725,
          49325663,
          56731532,
          43145665,
          31362029,
          29528583,
          28085057,
          22932686,
          34394152,
          34368250,
          21479271,
          8021882,
          7967428,
          6210432,
          5972359,
          10744380,
          19204072,
          12405333,
          3108701,
          3844408,
          3114937,
          3129967,
          6328954,
          11028514,
          8984649,
          6678148,
          2380910,
          1814233,
          1884097,
          3535257,
          6814652,
          3728739,
          1295742,
          1574483,
          1324479,
          1338464,
          2468701,
          5089962,
          3558021,
          780785,
          927503,
          798790,
          803545,
          1772763,
          3769739,
          1430814,
          678633,
          708043,
          628195,
          585308,
          1188588,
          2461903,
          2508785,
          1481415,
          575323,
          465786,
          479531,
          917914,
          1777894,
          1211487,
          296878,
          365327,
          316654,
          309435,
          671519,
          1445740,
          869180,
          237419,
          282460,
          237754,
          231559,
          423072,
          864129,
          577503,
          153120,
          163629,
          146770,
          153522,
          309461,
          581919,
          406372,
          144714,
          166095,
          148312,
          142054,
          240725,
          428104,
          297242,
          123856,
          134780,
          133075,
          141559,
          287489,
          323606,
          205389,
          142911,
          129437,
          126362,
          143797,
          211084,
          303186,
          167359,
          56853,
          67498,
          58258,
          68632,
          105483,
          172954,
          100486,
          24858,
          32087,
          24877,
          32555,
          1450
         ],
         "type": "bar",
         "xaxis": "x",
         "yaxis": "y"
        },
        {
         "name": "Quotes",
         "x": [
          "2015-12-31T00:00:00",
          "2015-12-21T00:00:00",
          "2015-12-24T00:00:00",
          "2015-12-18T00:00:00",
          "2015-12-31T00:00:00",
          "2015-12-29T00:00:00",
          "2015-12-22T00:00:00",
          "2015-12-22T00:00:00",
          "2015-12-19T00:00:00",
          "2015-12-24T00:00:00",
          "2015-12-22T00:00:00",
          "2015-12-18T00:00:00",
          "2015-12-20T00:00:00",
          "2015-12-28T00:00:00",
          "2015-12-22T00:00:00",
          "2015-12-27T00:00:00",
          "2015-12-18T00:00:00",
          "2015-12-24T00:00:00",
          "2015-12-20T00:00:00",
          "2015-12-31T00:00:00",
          "2015-12-24T00:00:00",
          "2015-12-18T00:00:00",
          "2015-12-28T00:00:00",
          "2015-12-29T00:00:00",
          "2015-12-18T00:00:00",
          "2015-12-19T00:00:00",
          "2015-12-19T00:00:00",
          "2015-12-30T00:00:00",
          "2015-12-19T00:00:00",
          "2015-12-26T00:00:00",
          "2015-12-18T00:00:00",
          "2015-12-30T00:00:00",
          "2015-12-31T00:00:00",
          "2015-12-20T00:00:00",
          "2015-12-31T00:00:00",
          "2015-12-24T00:00:00",
          "2015-12-21T00:00:00",
          "2015-12-19T00:00:00",
          "2015-12-20T00:00:00",
          "2015-12-18T00:00:00",
          "2015-12-19T00:00:00",
          "2015-12-18T00:00:00",
          "2015-12-20T00:00:00",
          "2015-12-30T00:00:00",
          "2015-12-30T00:00:00",
          "2015-12-20T00:00:00",
          "2015-12-20T00:00:00",
          "2015-12-18T00:00:00",
          "2015-12-25T00:00:00",
          "2015-12-23T00:00:00",
          "2015-12-22T00:00:00",
          "2015-12-18T00:00:00",
          "2015-12-18T00:00:00",
          "2015-12-21T00:00:00",
          "2015-12-18T00:00:00",
          "2015-12-22T00:00:00",
          "2015-12-18T00:00:00",
          "2015-12-21T00:00:00",
          "2015-12-30T00:00:00",
          "2015-12-18T00:00:00",
          "2015-12-21T00:00:00",
          "2015-12-20T00:00:00",
          "2015-12-18T00:00:00",
          "2015-12-25T00:00:00",
          "2015-12-31T00:00:00",
          "2015-12-27T00:00:00",
          "2015-12-18T00:00:00",
          "2015-12-21T00:00:00",
          "2015-12-18T00:00:00",
          "2015-12-18T00:00:00",
          "2015-12-19T00:00:00",
          "2015-12-23T00:00:00",
          "2015-12-24T00:00:00",
          "2015-12-18T00:00:00",
          "2015-12-18T00:00:00",
          "2015-12-18T00:00:00",
          "2015-12-27T00:00:00",
          "2015-12-18T00:00:00",
          "2015-12-24T00:00:00",
          "2015-12-31T00:00:00",
          "2015-12-20T00:00:00",
          "2015-12-21T00:00:00",
          "2015-12-29T00:00:00",
          "2015-12-29T00:00:00",
          "2015-12-18T00:00:00",
          "2015-12-22T00:00:00",
          "2015-12-18T00:00:00",
          "2015-12-21T00:00:00",
          "2015-12-18T00:00:00",
          "2015-12-19T00:00:00",
          "2015-12-21T00:00:00",
          "2015-12-18T00:00:00",
          "2015-12-18T00:00:00",
          "2015-12-21T00:00:00",
          "2015-12-18T00:00:00",
          "2015-12-24T00:00:00",
          "2015-12-31T00:00:00",
          "2015-12-21T00:00:00",
          "2015-12-22T00:00:00",
          "2015-12-28T00:00:00",
          "2015-12-29T00:00:00",
          "2015-12-19T00:00:00",
          "2015-12-18T00:00:00",
          "2015-12-22T00:00:00",
          "2015-12-31T00:00:00",
          "2015-12-21T00:00:00",
          "2015-12-18T00:00:00",
          "2015-12-18T00:00:00",
          "2015-12-20T00:00:00",
          "2015-12-18T00:00:00",
          "2015-12-18T00:00:00",
          "2015-12-22T00:00:00",
          "2015-12-21T00:00:00",
          "2015-12-31T00:00:00",
          "2015-12-24T00:00:00",
          "2015-12-21T00:00:00",
          "2015-12-18T00:00:00",
          "2015-12-29T00:00:00",
          "2015-12-19T00:00:00",
          "2015-12-18T00:00:00",
          "2015-12-31T00:00:00",
          "2015-12-18T00:00:00",
          "2015-12-18T00:00:00",
          "2015-12-23T00:00:00",
          "2015-12-18T00:00:00",
          "2015-12-18T00:00:00",
          "2015-12-20T00:00:00",
          "2015-12-19T00:00:00",
          "2015-12-21T00:00:00",
          "2015-12-18T00:00:00",
          "2015-12-19T00:00:00",
          "2015-12-19T00:00:00",
          "2015-12-19T00:00:00",
          "2015-12-21T00:00:00",
          "2015-12-19T00:00:00",
          "2015-12-20T00:00:00",
          "2015-12-19T00:00:00",
          "2015-12-24T00:00:00",
          "2015-12-18T00:00:00",
          "2015-12-19T00:00:00",
          "2015-12-22T00:00:00",
          "2015-12-21T00:00:00",
          "2015-12-18T00:00:00",
          "2015-12-18T00:00:00",
          "2015-12-18T00:00:00",
          "2015-12-21T00:00:00",
          "2015-12-20T00:00:00",
          "2015-12-18T00:00:00",
          "2015-12-18T00:00:00",
          "2015-12-19T00:00:00",
          "2015-12-18T00:00:00",
          "2015-12-29T00:00:00",
          "2015-12-21T00:00:00",
          "2015-12-18T00:00:00",
          "2015-12-19T00:00:00",
          "2015-12-30T00:00:00",
          "2015-12-21T00:00:00",
          "2015-12-18T00:00:00",
          "2015-12-19T00:00:00",
          "2015-12-18T00:00:00",
          "2015-12-22T00:00:00",
          "2015-12-22T00:00:00",
          "2015-12-30T00:00:00",
          "2015-12-18T00:00:00",
          "2015-12-25T00:00:00",
          "2015-12-21T00:00:00",
          "2015-12-27T00:00:00",
          "2015-12-23T00:00:00",
          "2015-12-24T00:00:00",
          "2015-12-19T00:00:00",
          "2015-12-18T00:00:00",
          "2015-12-18T00:00:00",
          "2015-12-18T00:00:00",
          "2015-12-18T00:00:00",
          "2015-12-24T00:00:00",
          "2015-12-22T00:00:00",
          "2015-12-18T00:00:00",
          "2015-12-18T00:00:00",
          "2015-12-18T00:00:00",
          "2015-12-18T00:00:00",
          "2015-12-21T00:00:00",
          "2015-12-18T00:00:00",
          "2015-12-18T00:00:00",
          "2015-12-23T00:00:00",
          "2015-12-31T00:00:00",
          "2015-12-18T00:00:00",
          "2015-12-23T00:00:00",
          "2015-12-23T00:00:00",
          "2015-12-23T00:00:00",
          "2015-12-22T00:00:00",
          "2015-12-19T00:00:00",
          "2015-12-18T00:00:00",
          "2015-12-18T00:00:00",
          "2015-12-30T00:00:00",
          "2015-12-22T00:00:00",
          "2015-12-31T00:00:00",
          "2015-12-30T00:00:00",
          "2015-12-18T00:00:00",
          "2015-12-21T00:00:00",
          "2015-12-18T00:00:00",
          "2015-12-18T00:00:00",
          "2015-12-18T00:00:00",
          "2015-12-23T00:00:00",
          "2015-12-19T00:00:00",
          "2015-12-18T00:00:00",
          "2015-12-19T00:00:00",
          "2015-12-27T00:00:00",
          "2015-12-18T00:00:00",
          "2015-12-18T00:00:00",
          "2015-12-18T00:00:00",
          "2015-12-20T00:00:00",
          "2015-12-18T00:00:00",
          "2015-12-22T00:00:00",
          "2015-12-24T00:00:00",
          "2015-12-18T00:00:00",
          "2015-12-20T00:00:00",
          "2015-12-22T00:00:00",
          "2015-12-18T00:00:00",
          "2015-12-28T00:00:00",
          "2015-12-18T00:00:00",
          "2015-12-30T00:00:00",
          "2015-12-31T00:00:00",
          "2015-12-18T00:00:00",
          "2015-12-18T00:00:00",
          "2015-12-29T00:00:00",
          "2015-12-18T00:00:00",
          "2015-12-31T00:00:00",
          "2015-12-31T00:00:00",
          "2015-12-30T00:00:00",
          "2015-12-20T00:00:00",
          "2015-12-18T00:00:00",
          "2015-12-20T00:00:00",
          "2015-12-21T00:00:00",
          "2015-12-22T00:00:00",
          "2015-12-20T00:00:00",
          "2015-12-19T00:00:00",
          "2015-12-22T00:00:00",
          "2015-12-18T00:00:00",
          "2015-12-18T00:00:00",
          "2015-12-27T00:00:00",
          "2015-12-23T00:00:00",
          "2015-12-22T00:00:00",
          "2015-12-30T00:00:00",
          "2015-12-20T00:00:00",
          "2015-12-31T00:00:00",
          "2015-12-20T00:00:00",
          "2015-12-24T00:00:00",
          "2015-12-18T00:00:00",
          "2015-12-18T00:00:00",
          "2015-12-18T00:00:00",
          "2015-12-27T00:00:00",
          "2015-12-30T00:00:00",
          "2015-12-30T00:00:00",
          "2015-12-23T00:00:00",
          "2015-12-19T00:00:00",
          "2015-12-18T00:00:00",
          "2015-12-21T00:00:00",
          "2015-12-30T00:00:00",
          "2015-12-22T00:00:00",
          "2015-12-30T00:00:00",
          "2015-12-18T00:00:00",
          "2015-12-27T00:00:00",
          "2015-12-18T00:00:00",
          "2015-12-19T00:00:00",
          "2015-12-22T00:00:00",
          "2015-12-18T00:00:00",
          "2015-12-22T00:00:00",
          "2015-12-20T00:00:00",
          "2015-12-24T00:00:00",
          "2015-12-20T00:00:00",
          "2015-12-18T00:00:00",
          "2015-12-22T00:00:00",
          "2015-12-28T00:00:00",
          "2015-12-18T00:00:00",
          "2015-12-20T00:00:00",
          "2015-12-27T00:00:00",
          "2015-12-23T00:00:00",
          "2015-12-31T00:00:00",
          "2015-12-18T00:00:00",
          "2015-12-18T00:00:00",
          "2015-12-18T00:00:00",
          "2015-12-21T00:00:00",
          "2015-12-21T00:00:00",
          "2015-12-27T00:00:00",
          "2015-12-20T00:00:00",
          "2015-12-18T00:00:00",
          "2015-12-18T00:00:00",
          "2015-12-31T00:00:00",
          "2015-12-23T00:00:00",
          "2015-12-28T00:00:00",
          "2015-12-22T00:00:00",
          "2015-12-18T00:00:00",
          "2015-12-18T00:00:00",
          "2015-12-18T00:00:00",
          "2015-12-18T00:00:00",
          "2015-12-19T00:00:00",
          "2015-12-18T00:00:00",
          "2015-12-22T00:00:00",
          "2015-12-23T00:00:00",
          "2015-12-22T00:00:00",
          "2015-12-25T00:00:00",
          "2015-12-21T00:00:00",
          "2015-12-22T00:00:00",
          "2015-12-22T00:00:00",
          "2015-12-31T00:00:00",
          "2015-12-21T00:00:00",
          "2015-12-18T00:00:00",
          "2015-12-18T00:00:00",
          "2015-12-18T00:00:00",
          "2015-12-22T00:00:00",
          "2015-12-18T00:00:00",
          "2015-12-19T00:00:00",
          "2015-12-18T00:00:00",
          "2015-12-18T00:00:00",
          "2015-12-18T00:00:00",
          "2015-12-24T00:00:00",
          "2015-12-18T00:00:00",
          "2015-12-22T00:00:00",
          "2015-12-21T00:00:00",
          "2015-12-20T00:00:00",
          "2015-12-22T00:00:00",
          "2015-12-23T00:00:00",
          "2015-12-25T00:00:00",
          "2015-12-18T00:00:00",
          "2015-12-20T00:00:00",
          "2015-12-23T00:00:00",
          "2015-12-21T00:00:00",
          "2015-12-30T00:00:00",
          "2015-12-20T00:00:00",
          "2015-12-22T00:00:00",
          "2015-12-18T00:00:00",
          "2015-12-24T00:00:00",
          "2015-12-21T00:00:00",
          "2015-12-20T00:00:00",
          "2015-12-27T00:00:00",
          "2015-12-24T00:00:00",
          "2015-12-18T00:00:00",
          "2015-12-21T00:00:00",
          "2015-12-20T00:00:00",
          "2015-12-28T00:00:00",
          "2015-12-18T00:00:00",
          "2015-12-31T00:00:00",
          "2015-12-18T00:00:00",
          "2015-12-22T00:00:00",
          "2015-12-18T00:00:00",
          "2015-12-26T00:00:00",
          "2015-12-19T00:00:00",
          "2015-12-21T00:00:00",
          "2015-12-22T00:00:00",
          "2015-12-18T00:00:00",
          "2015-12-20T00:00:00",
          "2015-12-22T00:00:00",
          "2015-12-30T00:00:00",
          "2015-12-22T00:00:00",
          "2015-12-20T00:00:00",
          "2015-12-19T00:00:00",
          "2015-12-31T00:00:00",
          "2015-12-21T00:00:00",
          "2015-12-30T00:00:00",
          "2015-12-18T00:00:00",
          "2015-12-22T00:00:00",
          "2015-12-18T00:00:00",
          "2015-12-18T00:00:00",
          "2015-12-20T00:00:00",
          "2015-12-27T00:00:00",
          "2015-12-31T00:00:00",
          "2015-12-18T00:00:00",
          "2015-12-21T00:00:00",
          "2015-12-21T00:00:00",
          "2015-12-31T00:00:00",
          "2015-12-18T00:00:00",
          "2015-12-23T00:00:00",
          "2015-12-30T00:00:00",
          "2015-12-31T00:00:00",
          "2015-12-18T00:00:00",
          "2015-12-18T00:00:00",
          "2015-12-18T00:00:00",
          "2015-12-18T00:00:00",
          "2015-12-22T00:00:00",
          "2015-12-29T00:00:00",
          "2015-12-24T00:00:00",
          "2015-12-30T00:00:00",
          "2015-12-23T00:00:00",
          "2015-12-22T00:00:00",
          "2015-12-24T00:00:00",
          "2015-12-30T00:00:00",
          "2015-12-19T00:00:00",
          "2015-12-21T00:00:00",
          "2015-12-18T00:00:00",
          "2015-12-23T00:00:00",
          "2015-12-23T00:00:00",
          "2015-12-19T00:00:00",
          "2015-12-18T00:00:00",
          "2015-12-22T00:00:00",
          "2015-12-19T00:00:00",
          "2015-12-24T00:00:00",
          "2015-12-30T00:00:00",
          "2015-12-20T00:00:00",
          "2015-12-19T00:00:00",
          "2015-12-30T00:00:00",
          "2015-12-21T00:00:00",
          "2015-12-18T00:00:00",
          "2015-12-22T00:00:00",
          "2015-12-18T00:00:00",
          "2015-12-21T00:00:00",
          "2015-12-19T00:00:00",
          "2015-12-29T00:00:00",
          "2015-12-18T00:00:00",
          "2015-12-20T00:00:00",
          "2015-12-24T00:00:00",
          "2015-12-18T00:00:00",
          "2015-12-31T00:00:00",
          "2015-12-22T00:00:00",
          "2015-12-21T00:00:00",
          "2015-12-31T00:00:00",
          "2015-12-18T00:00:00",
          "2015-12-21T00:00:00",
          "2015-12-30T00:00:00",
          "2015-12-21T00:00:00",
          "2015-12-31T00:00:00",
          "2015-12-30T00:00:00",
          "2015-12-18T00:00:00",
          "2015-12-23T00:00:00",
          "2015-12-25T00:00:00",
          "2015-12-21T00:00:00",
          "2015-12-29T00:00:00",
          "2015-12-19T00:00:00",
          "2015-12-25T00:00:00",
          "2015-12-29T00:00:00",
          "2015-12-21T00:00:00",
          "2015-12-31T00:00:00",
          "2015-12-27T00:00:00",
          "2015-12-22T00:00:00",
          "2015-12-19T00:00:00",
          "2015-12-18T00:00:00",
          "2015-12-19T00:00:00",
          "2015-12-18T00:00:00",
          "2015-12-18T00:00:00",
          "2015-12-18T00:00:00",
          "2015-12-18T00:00:00",
          "2015-12-19T00:00:00",
          "2015-12-21T00:00:00",
          "2015-12-21T00:00:00",
          "2015-12-22T00:00:00",
          "2015-12-29T00:00:00",
          "2015-12-31T00:00:00",
          "2015-12-29T00:00:00",
          "2015-12-18T00:00:00",
          "2015-12-30T00:00:00",
          "2015-12-31T00:00:00",
          "2015-12-22T00:00:00",
          "2015-12-24T00:00:00",
          "2015-12-18T00:00:00",
          "2015-12-24T00:00:00",
          "2015-12-18T00:00:00",
          "2015-12-26T00:00:00",
          "2015-12-18T00:00:00",
          "2015-12-18T00:00:00",
          "2015-12-30T00:00:00",
          "2015-12-18T00:00:00",
          "2015-12-18T00:00:00",
          "2015-12-31T00:00:00",
          "2015-12-23T00:00:00",
          "2015-12-28T00:00:00",
          "2015-12-18T00:00:00",
          "2015-12-23T00:00:00",
          "2015-12-18T00:00:00",
          "2015-12-20T00:00:00",
          "2015-12-18T00:00:00",
          "2015-12-21T00:00:00",
          "2015-12-23T00:00:00",
          "2015-12-21T00:00:00",
          "2015-12-18T00:00:00",
          "2015-12-28T00:00:00",
          "2015-12-18T00:00:00",
          "2015-12-30T00:00:00",
          "2015-12-22T00:00:00",
          "2015-12-24T00:00:00",
          "2015-12-28T00:00:00",
          "2015-12-23T00:00:00",
          "2015-12-31T00:00:00",
          "2015-12-21T00:00:00",
          "2015-12-31T00:00:00",
          "2015-12-28T00:00:00",
          "2015-12-23T00:00:00",
          "2015-12-21T00:00:00",
          "2015-12-27T00:00:00",
          "2015-12-18T00:00:00",
          "2015-12-19T00:00:00",
          "2015-12-20T00:00:00",
          "2015-12-18T00:00:00",
          "2015-12-22T00:00:00",
          "2015-12-22T00:00:00",
          "2015-12-21T00:00:00",
          "2015-12-19T00:00:00",
          "2015-12-18T00:00:00",
          "2015-12-18T00:00:00",
          "2015-12-25T00:00:00",
          "2015-12-18T00:00:00",
          "2015-12-25T00:00:00",
          "2015-12-23T00:00:00",
          "2015-12-19T00:00:00",
          "2015-12-31T00:00:00",
          "2015-12-18T00:00:00",
          "2015-12-31T00:00:00",
          "2015-12-18T00:00:00",
          "2015-12-18T00:00:00",
          "2015-12-21T00:00:00",
          "2015-12-22T00:00:00",
          "2015-12-22T00:00:00",
          "2015-12-22T00:00:00",
          "2015-12-18T00:00:00",
          "2015-12-29T00:00:00",
          "2015-12-21T00:00:00",
          "2015-12-22T00:00:00",
          "2015-12-18T00:00:00",
          "2015-12-22T00:00:00",
          "2015-12-18T00:00:00",
          "2015-12-31T00:00:00",
          "2015-12-18T00:00:00",
          "2015-12-22T00:00:00",
          "2015-12-18T00:00:00",
          "2015-12-23T00:00:00",
          "2015-12-31T00:00:00",
          "2015-12-30T00:00:00",
          "2015-12-30T00:00:00",
          "2015-12-27T00:00:00",
          "2015-12-23T00:00:00",
          "2015-12-21T00:00:00",
          "2015-12-18T00:00:00",
          "2015-12-22T00:00:00",
          "2015-12-27T00:00:00",
          "2015-12-19T00:00:00",
          "2015-12-18T00:00:00",
          "2015-12-31T00:00:00",
          "2015-12-29T00:00:00",
          "2015-12-21T00:00:00",
          "2015-12-21T00:00:00",
          "2015-12-18T00:00:00",
          "2015-12-21T00:00:00",
          "2015-12-30T00:00:00",
          "2015-12-29T00:00:00",
          "2015-12-19T00:00:00",
          "2015-12-18T00:00:00",
          "2015-12-18T00:00:00",
          "2015-12-22T00:00:00",
          "2015-12-29T00:00:00",
          "2015-12-21T00:00:00",
          "2015-12-18T00:00:00",
          "2015-12-29T00:00:00",
          "2015-12-21T00:00:00",
          "2015-12-20T00:00:00",
          "2015-12-21T00:00:00",
          "2015-12-19T00:00:00",
          "2015-12-19T00:00:00",
          "2015-12-21T00:00:00",
          "2015-12-18T00:00:00",
          "2015-12-18T00:00:00",
          "2015-12-21T00:00:00",
          "2015-12-18T00:00:00",
          "2015-12-18T00:00:00",
          "2015-12-18T00:00:00",
          "2015-12-18T00:00:00",
          "2015-12-20T00:00:00",
          "2015-12-18T00:00:00",
          "2015-12-18T00:00:00",
          "2015-12-22T00:00:00",
          "2015-12-30T00:00:00",
          "2015-12-26T00:00:00",
          "2015-12-23T00:00:00",
          "2015-12-31T00:00:00",
          "2015-12-23T00:00:00",
          "2015-12-20T00:00:00",
          "2015-12-18T00:00:00",
          "2015-12-21T00:00:00",
          "2015-12-21T00:00:00",
          "2015-12-31T00:00:00",
          "2015-12-18T00:00:00",
          "2015-12-18T00:00:00",
          "2015-12-18T00:00:00",
          "2015-12-31T00:00:00",
          "2015-12-23T00:00:00",
          "2015-12-18T00:00:00",
          "2015-12-21T00:00:00",
          "2015-12-22T00:00:00",
          "2015-12-30T00:00:00",
          "2015-12-23T00:00:00",
          "2015-12-19T00:00:00",
          "2015-12-24T00:00:00",
          "2015-12-21T00:00:00",
          "2015-12-19T00:00:00",
          "2015-12-21T00:00:00",
          "2015-12-29T00:00:00",
          "2015-12-18T00:00:00",
          "2015-12-25T00:00:00",
          "2015-12-22T00:00:00",
          "2015-12-27T00:00:00",
          "2015-12-19T00:00:00",
          "2015-12-20T00:00:00",
          "2015-12-22T00:00:00",
          "2015-12-22T00:00:00",
          "2015-12-20T00:00:00",
          "2015-12-21T00:00:00",
          "2015-12-19T00:00:00",
          "2015-12-18T00:00:00",
          "2015-12-20T00:00:00",
          "2015-12-23T00:00:00",
          "2015-12-22T00:00:00",
          "2015-12-18T00:00:00",
          "2015-12-31T00:00:00",
          "2015-12-21T00:00:00",
          "2015-12-24T00:00:00",
          "2015-12-18T00:00:00",
          "2015-12-21T00:00:00",
          "2015-12-24T00:00:00",
          "2015-12-18T00:00:00",
          "2015-12-26T00:00:00",
          "2015-12-24T00:00:00",
          "2015-12-31T00:00:00",
          "2015-12-19T00:00:00",
          "2015-12-21T00:00:00",
          "2015-12-22T00:00:00",
          "2015-12-23T00:00:00",
          "2015-12-18T00:00:00",
          "2015-12-22T00:00:00",
          "2015-12-18T00:00:00",
          "2015-12-27T00:00:00",
          "2015-12-22T00:00:00",
          "2015-12-18T00:00:00",
          "2015-12-18T00:00:00",
          "2015-12-21T00:00:00",
          "2015-12-30T00:00:00",
          "2015-12-23T00:00:00",
          "2015-12-20T00:00:00",
          "2015-12-27T00:00:00",
          "2015-12-19T00:00:00",
          "2015-12-23T00:00:00",
          "2015-12-21T00:00:00",
          "2015-12-28T00:00:00",
          "2015-12-23T00:00:00",
          "2015-12-28T00:00:00",
          "2015-12-18T00:00:00",
          "2015-12-23T00:00:00",
          "2015-12-31T00:00:00",
          "2015-12-24T00:00:00",
          "2015-12-24T00:00:00",
          "2015-12-19T00:00:00",
          "2015-12-18T00:00:00",
          "2015-12-18T00:00:00",
          "2015-12-23T00:00:00",
          "2015-12-19T00:00:00",
          "2015-12-22T00:00:00",
          "2015-12-20T00:00:00",
          "2015-12-22T00:00:00",
          "2015-12-18T00:00:00",
          "2015-12-31T00:00:00",
          "2015-12-18T00:00:00",
          "2015-12-31T00:00:00",
          "2015-12-31T00:00:00",
          "2015-12-24T00:00:00",
          "2015-12-23T00:00:00",
          "2015-12-23T00:00:00",
          "2015-12-18T00:00:00",
          "2015-12-21T00:00:00",
          "2015-12-18T00:00:00",
          "2015-12-22T00:00:00",
          "2015-12-22T00:00:00",
          "2015-12-18T00:00:00",
          "2015-12-18T00:00:00",
          "2015-12-22T00:00:00",
          "2015-12-21T00:00:00",
          "2015-12-21T00:00:00",
          "2015-12-18T00:00:00",
          "2015-12-22T00:00:00",
          "2015-12-18T00:00:00",
          "2015-12-20T00:00:00",
          "2015-12-21T00:00:00",
          "2015-12-18T00:00:00",
          "2015-12-18T00:00:00",
          "2015-12-28T00:00:00",
          "2015-12-21T00:00:00",
          "2015-12-20T00:00:00",
          "2015-12-29T00:00:00",
          "2015-12-19T00:00:00",
          "2015-12-21T00:00:00",
          "2015-12-31T00:00:00",
          "2015-12-23T00:00:00",
          "2015-12-18T00:00:00",
          "2015-12-19T00:00:00",
          "2015-12-22T00:00:00",
          "2015-12-18T00:00:00",
          "2015-12-21T00:00:00",
          "2015-12-21T00:00:00",
          "2015-12-18T00:00:00",
          "2015-12-31T00:00:00",
          "2015-12-27T00:00:00",
          "2015-12-23T00:00:00",
          "2015-12-22T00:00:00",
          "2015-12-21T00:00:00",
          "2015-12-21T00:00:00",
          "2015-12-20T00:00:00",
          "2015-12-25T00:00:00",
          "2015-12-22T00:00:00",
          "2015-12-18T00:00:00",
          "2015-12-22T00:00:00",
          "2015-12-29T00:00:00",
          "2015-12-24T00:00:00",
          "2015-12-30T00:00:00",
          "2015-12-18T00:00:00",
          "2015-12-18T00:00:00",
          "2015-12-18T00:00:00",
          "2015-12-18T00:00:00",
          "2015-12-25T00:00:00",
          "2015-12-18T00:00:00",
          "2015-12-28T00:00:00",
          "2015-12-21T00:00:00",
          "2015-12-21T00:00:00",
          "2015-12-21T00:00:00",
          "2015-12-22T00:00:00",
          "2015-12-23T00:00:00",
          "2015-12-29T00:00:00",
          "2015-12-19T00:00:00",
          "2015-12-19T00:00:00",
          "2015-12-18T00:00:00",
          "2015-12-19T00:00:00",
          "2015-12-18T00:00:00",
          "2015-12-18T00:00:00",
          "2015-12-18T00:00:00",
          "2015-12-29T00:00:00",
          "2015-12-19T00:00:00",
          "2015-12-30T00:00:00",
          "2015-12-18T00:00:00",
          "2015-12-23T00:00:00",
          "2015-12-19T00:00:00",
          "2015-12-23T00:00:00",
          "2015-12-18T00:00:00",
          "2015-12-18T00:00:00",
          "2015-12-18T00:00:00",
          "2015-12-26T00:00:00",
          "2015-12-19T00:00:00",
          "2015-12-18T00:00:00",
          "2015-12-31T00:00:00",
          "2015-12-23T00:00:00",
          "2015-12-24T00:00:00",
          "2015-12-18T00:00:00",
          "2015-12-20T00:00:00",
          "2015-12-18T00:00:00",
          "2015-12-21T00:00:00",
          "2015-12-18T00:00:00",
          "2015-12-23T00:00:00",
          "2015-12-18T00:00:00",
          "2015-12-18T00:00:00",
          "2015-12-30T00:00:00",
          "2015-12-18T00:00:00",
          "2015-12-22T00:00:00",
          "2015-12-19T00:00:00",
          "2015-12-21T00:00:00",
          "2015-12-19T00:00:00",
          "2015-12-18T00:00:00",
          "2015-12-25T00:00:00",
          "2015-12-19T00:00:00",
          "2015-12-19T00:00:00",
          "2015-12-19T00:00:00",
          "2015-12-18T00:00:00",
          "2015-12-22T00:00:00",
          "2015-12-18T00:00:00",
          "2015-12-22T00:00:00",
          "2015-12-27T00:00:00",
          "2015-12-18T00:00:00",
          "2015-12-18T00:00:00",
          "2015-12-30T00:00:00",
          "2015-12-22T00:00:00",
          "2015-12-21T00:00:00",
          "2015-12-23T00:00:00",
          "2015-12-18T00:00:00",
          "2015-12-18T00:00:00",
          "2015-12-21T00:00:00",
          "2015-12-22T00:00:00",
          "2015-12-18T00:00:00",
          "2015-12-19T00:00:00",
          "2015-12-18T00:00:00",
          "2015-12-20T00:00:00",
          "2015-12-21T00:00:00",
          "2015-12-20T00:00:00",
          "2015-12-21T00:00:00",
          "2015-12-21T00:00:00",
          "2015-12-19T00:00:00",
          "2016-05-11T00:00:00",
          "2016-04-17T00:00:00",
          "2016-05-05T00:00:00",
          "2016-05-04T00:00:00",
          "2016-05-04T00:00:00",
          "2016-02-14T00:00:00",
          "2016-05-14T00:00:00",
          "2016-05-24T00:00:00",
          "2016-05-07T00:00:00",
          "2016-04-22T00:00:00",
          "2016-05-12T00:00:00",
          "2016-04-19T00:00:00",
          "2016-05-03T00:00:00",
          "2016-05-09T00:00:00",
          "2016-02-18T00:00:00",
          "2016-02-15T00:00:00",
          "2016-02-14T00:00:00",
          "2016-05-08T00:00:00",
          "2016-02-17T00:00:00",
          "2016-04-22T00:00:00",
          "2016-05-24T00:00:00",
          "2016-02-15T00:00:00",
          "2016-05-04T00:00:00",
          "2016-02-16T00:00:00",
          "2016-04-19T00:00:00",
          "2016-05-04T00:00:00",
          "2016-04-27T00:00:00",
          "2016-02-02T00:00:00",
          "2016-01-14T00:00:00",
          "2016-05-04T00:00:00",
          "2016-05-14T00:00:00",
          "2016-05-04T00:00:00",
          "2016-05-16T00:00:00",
          "2016-02-15T00:00:00",
          "2016-04-18T00:00:00",
          "2016-04-19T00:00:00",
          "2016-05-11T00:00:00",
          "2016-05-02T00:00:00",
          "2016-04-16T00:00:00",
          "2016-02-16T00:00:00",
          "2016-05-28T00:00:00",
          "2016-05-27T00:00:00",
          "2016-05-10T00:00:00",
          "2016-05-04T00:00:00",
          "2016-04-18T00:00:00",
          "2016-04-19T00:00:00",
          "2016-05-19T00:00:00",
          "2016-05-18T00:00:00",
          "2016-04-13T00:00:00",
          "2016-05-06T00:00:00",
          "2016-05-18T00:00:00",
          "2016-04-28T00:00:00",
          "2016-05-16T00:00:00",
          "2016-05-17T00:00:00",
          "2016-04-19T00:00:00",
          "2016-05-11T00:00:00",
          "2016-01-12T00:00:00",
          "2016-05-06T00:00:00",
          "2016-04-27T00:00:00",
          "2016-05-20T00:00:00",
          "2016-04-18T00:00:00",
          "2016-05-14T00:00:00",
          "2016-05-06T00:00:00",
          "2016-04-26T00:00:00",
          "2016-02-15T00:00:00",
          "2016-04-19T00:00:00",
          "2016-05-26T00:00:00",
          "2016-04-20T00:00:00",
          "2016-05-09T00:00:00",
          "2016-05-11T00:00:00",
          "2016-05-25T00:00:00",
          "2016-05-04T00:00:00",
          "2016-01-13T00:00:00",
          "2016-01-01T00:00:00",
          "2016-04-26T00:00:00",
          "2016-05-03T00:00:00",
          "2016-05-25T00:00:00",
          "2016-05-23T00:00:00",
          "2016-05-13T00:00:00",
          "2016-05-16T00:00:00",
          "2016-02-23T00:00:00",
          "2016-05-11T00:00:00",
          "2016-05-26T00:00:00",
          "2016-05-05T00:00:00",
          "2016-05-19T00:00:00",
          "2016-05-05T00:00:00",
          "2016-02-19T00:00:00",
          "2016-04-24T00:00:00",
          "2016-05-19T00:00:00",
          "2016-05-04T00:00:00",
          "2016-04-27T00:00:00",
          "2016-02-19T00:00:00",
          "2016-02-22T00:00:00",
          "2016-04-19T00:00:00",
          "2016-02-13T00:00:00",
          "2016-05-26T00:00:00",
          "2016-04-21T00:00:00",
          "2016-04-26T00:00:00",
          "2016-04-21T00:00:00",
          "2016-04-19T00:00:00",
          "2016-01-19T00:00:00",
          "2016-05-01T00:00:00",
          "2016-02-21T00:00:00",
          "2016-05-02T00:00:00",
          "2016-02-22T00:00:00",
          "2016-04-19T00:00:00",
          "2016-02-16T00:00:00",
          "2016-02-15T00:00:00",
          "2016-02-18T00:00:00",
          "2016-05-18T00:00:00",
          "2016-05-25T00:00:00",
          "2016-05-04T00:00:00",
          "2016-05-05T00:00:00",
          "2016-05-13T00:00:00",
          "2016-01-29T00:00:00",
          "2016-05-18T00:00:00",
          "2016-01-18T00:00:00",
          "2016-05-20T00:00:00",
          "2016-05-11T00:00:00",
          "2016-02-23T00:00:00",
          "2016-04-22T00:00:00",
          "2016-04-16T00:00:00",
          "2016-04-19T00:00:00",
          "2016-05-11T00:00:00",
          "2016-05-04T00:00:00",
          "2016-02-14T00:00:00",
          "2016-03-13T00:00:00",
          "2016-05-04T00:00:00",
          "2016-04-28T00:00:00",
          "2016-02-21T00:00:00",
          "2016-05-17T00:00:00",
          "2016-02-18T00:00:00",
          "2016-05-05T00:00:00",
          "2016-05-11T00:00:00",
          "2016-05-24T00:00:00",
          "2016-02-10T00:00:00",
          "2016-05-25T00:00:00",
          "2016-05-04T00:00:00",
          "2016-04-18T00:00:00",
          "2016-04-19T00:00:00",
          "2016-05-01T00:00:00",
          "2016-01-07T00:00:00",
          "2016-05-05T00:00:00",
          "2016-05-04T00:00:00",
          "2016-05-05T00:00:00",
          "2016-05-27T00:00:00",
          "2016-05-22T00:00:00",
          "2016-05-05T00:00:00",
          "2016-05-05T00:00:00",
          "2016-04-27T00:00:00",
          "2016-05-14T00:00:00",
          "2016-02-13T00:00:00",
          "2016-04-28T00:00:00",
          "2016-02-23T00:00:00",
          "2016-05-04T00:00:00",
          "2016-04-19T00:00:00",
          "2016-01-01T00:00:00",
          "2016-02-18T00:00:00",
          "2016-02-12T00:00:00",
          "2016-02-14T00:00:00",
          "2016-02-14T00:00:00",
          "2016-02-18T00:00:00",
          "2016-02-13T00:00:00",
          "2016-05-10T00:00:00",
          "2016-05-24T00:00:00",
          "2016-02-24T00:00:00",
          "2016-02-16T00:00:00",
          "2016-05-30T00:00:00",
          "2016-04-16T00:00:00",
          "2016-05-05T00:00:00",
          "2016-04-20T00:00:00",
          "2016-02-02T00:00:00",
          "2016-05-18T00:00:00",
          "2016-05-27T00:00:00",
          "2016-02-22T00:00:00",
          "2016-04-21T00:00:00",
          "2016-02-19T00:00:00",
          "2016-04-22T00:00:00",
          "2016-04-19T00:00:00",
          "2016-02-16T00:00:00",
          "2016-02-15T00:00:00",
          "2016-05-20T00:00:00",
          "2016-05-23T00:00:00",
          "2016-05-06T00:00:00",
          "2016-05-04T00:00:00",
          "2016-05-03T00:00:00",
          "2016-05-04T00:00:00",
          "2016-04-28T00:00:00",
          "2016-04-29T00:00:00",
          "2016-05-18T00:00:00",
          "2016-05-16T00:00:00",
          "2016-04-16T00:00:00",
          "2016-05-11T00:00:00",
          "2016-02-20T00:00:00",
          "2016-05-24T00:00:00",
          "2016-04-20T00:00:00",
          "2016-05-25T00:00:00",
          "2016-04-20T00:00:00",
          "2016-04-19T00:00:00",
          "2016-05-04T00:00:00",
          "2016-05-27T00:00:00",
          "2016-03-05T00:00:00",
          "2016-05-03T00:00:00",
          "2016-05-23T00:00:00",
          "2016-05-02T00:00:00",
          "2016-05-02T00:00:00",
          "2016-05-26T00:00:00",
          "2016-05-12T00:00:00",
          "2016-04-19T00:00:00",
          "2016-05-12T00:00:00",
          "2016-05-20T00:00:00",
          "2016-01-13T00:00:00",
          "2016-05-04T00:00:00",
          "2016-03-19T00:00:00",
          "2016-04-08T00:00:00",
          "2016-01-01T00:00:00",
          "2016-05-03T00:00:00",
          "2016-02-18T00:00:00",
          "2016-05-04T00:00:00",
          "2016-04-25T00:00:00",
          "2016-05-10T00:00:00",
          "2016-05-05T00:00:00",
          "2016-02-22T00:00:00",
          "2016-05-05T00:00:00",
          "2016-05-22T00:00:00",
          "2016-02-23T00:00:00",
          "2016-05-04T00:00:00",
          "2016-01-11T00:00:00",
          "2016-01-01T00:00:00",
          "2016-04-20T00:00:00",
          "2016-05-13T00:00:00",
          "2016-05-20T00:00:00",
          "2016-05-18T00:00:00",
          "2016-05-19T00:00:00",
          "2016-04-25T00:00:00",
          "2016-02-24T00:00:00",
          "2016-05-04T00:00:00",
          "2016-02-15T00:00:00",
          "2016-05-01T00:00:00",
          "2016-05-12T00:00:00",
          "2016-05-11T00:00:00",
          "2016-05-14T00:00:00",
          "2016-05-26T00:00:00",
          "2016-05-04T00:00:00",
          "2016-02-16T00:00:00",
          "2016-04-20T00:00:00",
          "2016-05-23T00:00:00",
          "2016-02-17T00:00:00",
          "2016-02-23T00:00:00",
          "2016-05-26T00:00:00",
          "2016-05-04T00:00:00",
          "2016-05-25T00:00:00",
          "2016-04-27T00:00:00",
          "2016-02-22T00:00:00",
          "2016-05-17T00:00:00",
          "2016-02-19T00:00:00",
          "2016-02-16T00:00:00",
          "2016-04-19T00:00:00",
          "2016-04-22T00:00:00",
          "2016-05-26T00:00:00",
          "2016-01-01T00:00:00",
          "2016-04-22T00:00:00",
          "2016-02-15T00:00:00",
          "2016-05-05T00:00:00",
          "2016-05-17T00:00:00",
          "2016-02-23T00:00:00",
          "2016-04-26T00:00:00",
          "2016-02-20T00:00:00",
          "2016-04-18T00:00:00",
          "2016-05-26T00:00:00",
          "2016-05-25T00:00:00",
          "2016-01-01T00:00:00",
          "2016-02-16T00:00:00",
          "2016-02-18T00:00:00",
          "2016-05-04T00:00:00",
          "2016-02-16T00:00:00",
          "2016-02-22T00:00:00",
          "2016-05-04T00:00:00",
          "2016-05-18T00:00:00",
          "2016-05-04T00:00:00",
          "2016-05-25T00:00:00",
          "2016-05-19T00:00:00",
          "2016-01-28T00:00:00",
          "2016-05-17T00:00:00",
          "2016-05-23T00:00:00",
          "2016-05-12T00:00:00",
          "2016-04-19T00:00:00",
          "2016-02-14T00:00:00",
          "2016-05-14T00:00:00",
          "2016-05-16T00:00:00",
          "2016-05-03T00:00:00",
          "2016-01-28T00:00:00",
          "2016-05-04T00:00:00",
          "2016-05-04T00:00:00",
          "2016-02-24T00:00:00",
          "2016-05-18T00:00:00",
          "2016-05-19T00:00:00",
          "2016-05-18T00:00:00",
          "2016-05-20T00:00:00",
          "2016-04-20T00:00:00",
          "2016-02-13T00:00:00",
          "2016-02-18T00:00:00",
          "2016-01-01T00:00:00",
          "2016-05-05T00:00:00",
          "2016-02-19T00:00:00",
          "2016-05-10T00:00:00",
          "2016-05-05T00:00:00",
          "2016-04-21T00:00:00",
          "2016-05-05T00:00:00",
          "2016-05-17T00:00:00",
          "2016-02-15T00:00:00",
          "2016-05-15T00:00:00",
          "2016-02-18T00:00:00",
          "2016-05-14T00:00:00",
          "2016-05-19T00:00:00",
          "2016-04-19T00:00:00",
          "2016-05-04T00:00:00",
          "2016-04-26T00:00:00",
          "2016-05-18T00:00:00",
          "2016-02-18T00:00:00",
          "2016-05-16T00:00:00",
          "2016-05-03T00:00:00",
          "2016-05-27T00:00:00",
          "2016-01-31T00:00:00",
          "2016-05-04T00:00:00",
          "2016-05-27T00:00:00",
          "2016-02-02T00:00:00",
          "2016-04-28T00:00:00",
          "2016-04-20T00:00:00",
          "2016-05-12T00:00:00",
          "2016-02-16T00:00:00",
          "2016-02-16T00:00:00",
          "2016-04-21T00:00:00",
          "2016-02-13T00:00:00",
          "2016-04-20T00:00:00",
          "2016-04-19T00:00:00",
          "2016-01-01T00:00:00",
          "2016-02-13T00:00:00",
          "2016-05-17T00:00:00",
          "2016-04-28T00:00:00",
          "2016-02-20T00:00:00",
          "2016-05-25T00:00:00",
          "2016-05-27T00:00:00",
          "2016-05-24T00:00:00",
          "2016-02-16T00:00:00",
          "2016-04-27T00:00:00",
          "2016-04-27T00:00:00",
          "2016-02-18T00:00:00",
          "2016-05-17T00:00:00",
          "2016-02-13T00:00:00",
          "2016-02-22T00:00:00",
          "2016-05-09T00:00:00",
          "2016-05-30T00:00:00",
          "2016-02-02T00:00:00",
          "2016-05-25T00:00:00",
          "2016-04-24T00:00:00",
          "2016-05-11T00:00:00",
          "2016-02-19T00:00:00",
          "2016-04-29T00:00:00",
          "2016-05-03T00:00:00",
          "2016-05-03T00:00:00",
          "2016-04-18T00:00:00",
          "2016-02-24T00:00:00",
          "2016-05-14T00:00:00",
          "2016-05-18T00:00:00",
          "2016-05-25T00:00:00",
          "2016-03-13T00:00:00",
          "2016-05-08T00:00:00",
          "2016-02-15T00:00:00",
          "2016-04-16T00:00:00",
          "2016-04-20T00:00:00",
          "2016-05-04T00:00:00",
          "2016-04-16T00:00:00",
          "2016-04-19T00:00:00",
          "2016-04-22T00:00:00",
          "2016-04-18T00:00:00",
          "2016-05-18T00:00:00",
          "2016-05-16T00:00:00",
          "2016-05-17T00:00:00",
          "2016-04-25T00:00:00",
          "2016-04-18T00:00:00",
          "2016-05-19T00:00:00",
          "2016-05-21T00:00:00",
          "2016-01-01T00:00:00",
          "2016-05-04T00:00:00",
          "2016-02-19T00:00:00",
          "2016-04-25T00:00:00",
          "2016-04-18T00:00:00",
          "2016-05-13T00:00:00",
          "2016-05-14T00:00:00",
          "2016-02-19T00:00:00",
          "2016-05-10T00:00:00",
          "2016-05-19T00:00:00",
          "2016-04-19T00:00:00",
          "2016-05-22T00:00:00",
          "2016-02-23T00:00:00",
          "2016-04-19T00:00:00",
          "2016-04-20T00:00:00",
          "2016-05-18T00:00:00",
          "2016-04-30T00:00:00",
          "2016-05-12T00:00:00",
          "2016-05-08T00:00:00",
          "2016-04-19T00:00:00",
          "2016-05-22T00:00:00",
          "2016-04-22T00:00:00",
          "2016-05-16T00:00:00",
          "2016-02-18T00:00:00",
          "2016-02-13T00:00:00",
          "2016-04-19T00:00:00",
          "2016-05-26T00:00:00",
          "2016-05-04T00:00:00",
          "2016-05-25T00:00:00",
          "2016-04-30T00:00:00",
          "2016-04-16T00:00:00",
          "2016-05-03T00:00:00",
          "2016-05-12T00:00:00",
          "2016-04-19T00:00:00",
          "2016-05-02T00:00:00",
          "2016-02-18T00:00:00",
          "2016-05-04T00:00:00",
          "2016-02-13T00:00:00",
          "2016-04-19T00:00:00",
          "2016-02-23T00:00:00",
          "2016-02-21T00:00:00",
          "2016-05-18T00:00:00",
          "2016-05-14T00:00:00",
          "2016-02-19T00:00:00",
          "2016-05-18T00:00:00",
          "2016-05-12T00:00:00",
          "2016-05-04T00:00:00",
          "2016-05-24T00:00:00",
          "2016-05-12T00:00:00",
          "2016-01-01T00:00:00",
          "2016-05-14T00:00:00",
          "2016-05-04T00:00:00",
          "2016-05-05T00:00:00",
          "2016-04-17T00:00:00",
          "2016-05-03T00:00:00",
          "2016-05-05T00:00:00",
          "2016-02-20T00:00:00",
          "2016-05-24T00:00:00",
          "2016-04-16T00:00:00",
          "2016-01-11T00:00:00",
          "2016-03-14T00:00:00",
          "2016-05-14T00:00:00",
          "2016-02-20T00:00:00",
          "2016-05-05T00:00:00",
          "2016-04-20T00:00:00",
          "2016-05-29T00:00:00",
          "2016-05-09T00:00:00",
          "2016-05-16T00:00:00",
          "2016-05-25T00:00:00",
          "2016-02-15T00:00:00",
          "2016-04-16T00:00:00",
          "2016-04-19T00:00:00",
          "2016-02-15T00:00:00",
          "2016-05-05T00:00:00",
          "2016-05-06T00:00:00",
          "2016-02-17T00:00:00",
          "2016-02-24T00:00:00",
          "2016-05-18T00:00:00",
          "2016-01-06T00:00:00",
          "2016-04-28T00:00:00",
          "2016-05-19T00:00:00",
          "2016-05-21T00:00:00",
          "2016-02-18T00:00:00",
          "2016-02-16T00:00:00",
          "2016-05-10T00:00:00",
          "2016-04-08T00:00:00",
          "2016-04-19T00:00:00",
          "2016-05-17T00:00:00",
          "2016-04-20T00:00:00",
          "2016-01-29T00:00:00",
          "2016-05-04T00:00:00",
          "2016-04-24T00:00:00",
          "2016-01-15T00:00:00",
          "2016-04-20T00:00:00",
          "2016-02-19T00:00:00",
          "2016-04-07T00:00:00",
          "2016-02-13T00:00:00",
          "2016-04-08T00:00:00",
          "2016-05-04T00:00:00",
          "2016-04-22T00:00:00",
          "2016-04-25T00:00:00",
          "2016-01-28T00:00:00",
          "2016-05-23T00:00:00",
          "2016-04-28T00:00:00",
          "2016-02-24T00:00:00",
          "2016-04-23T00:00:00",
          "2016-04-30T00:00:00",
          "2016-02-22T00:00:00",
          "2016-05-10T00:00:00",
          "2016-04-22T00:00:00",
          "2016-05-04T00:00:00",
          "2016-05-15T00:00:00",
          "2016-03-19T00:00:00",
          "2016-02-23T00:00:00",
          "2016-05-04T00:00:00",
          "2016-05-18T00:00:00",
          "2016-05-05T00:00:00",
          "2016-05-16T00:00:00",
          "2016-05-01T00:00:00",
          "2016-05-05T00:00:00",
          "2016-05-08T00:00:00",
          "2016-01-01T00:00:00",
          "2016-05-04T00:00:00",
          "2016-04-28T00:00:00",
          "2016-05-13T00:00:00",
          "2016-05-04T00:00:00",
          "2016-04-21T00:00:00",
          "2016-05-18T00:00:00",
          "2016-02-10T00:00:00",
          "2016-02-22T00:00:00",
          "2016-02-02T00:00:00",
          "2016-05-07T00:00:00",
          "2016-02-18T00:00:00",
          "2016-04-20T00:00:00",
          "2016-05-21T00:00:00",
          "2016-05-04T00:00:00",
          "2016-01-14T00:00:00",
          "2016-05-18T00:00:00",
          "2016-05-04T00:00:00",
          "2016-02-18T00:00:00",
          "2016-05-12T00:00:00",
          "2016-02-15T00:00:00",
          "2016-05-24T00:00:00",
          "2016-05-18T00:00:00",
          "2016-02-17T00:00:00",
          "2016-04-29T00:00:00",
          "2016-04-19T00:00:00",
          "2016-05-05T00:00:00",
          "2016-05-11T00:00:00",
          "2016-05-11T00:00:00",
          "2016-02-23T00:00:00",
          "2016-04-19T00:00:00",
          "2016-04-18T00:00:00",
          "2016-05-04T00:00:00",
          "2016-02-16T00:00:00",
          "2016-05-29T00:00:00",
          "2016-05-13T00:00:00",
          "2016-05-17T00:00:00",
          "2016-02-18T00:00:00",
          "2016-04-27T00:00:00",
          "2016-05-14T00:00:00",
          "2016-05-04T00:00:00",
          "2016-02-17T00:00:00",
          "2016-05-04T00:00:00",
          "2016-05-10T00:00:00",
          "2016-02-17T00:00:00",
          "2016-05-03T00:00:00",
          "2016-05-03T00:00:00",
          "2016-05-14T00:00:00",
          "2016-02-21T00:00:00",
          "2016-02-19T00:00:00",
          "2016-04-23T00:00:00",
          "2016-04-27T00:00:00",
          "2016-05-24T00:00:00",
          "2016-04-19T00:00:00",
          "2016-05-01T00:00:00",
          "2016-02-24T00:00:00",
          "2016-05-26T00:00:00",
          "2016-02-20T00:00:00",
          "2016-05-17T00:00:00",
          "2016-05-19T00:00:00",
          "2016-05-10T00:00:00",
          "2016-05-19T00:00:00",
          "2016-05-03T00:00:00",
          "2016-04-19T00:00:00",
          "2016-05-13T00:00:00",
          "2016-04-19T00:00:00",
          "2016-04-30T00:00:00",
          "2016-01-01T00:00:00",
          "2016-04-28T00:00:00",
          "2016-05-18T00:00:00",
          "2016-04-29T00:00:00",
          "2016-02-24T00:00:00",
          "2016-05-05T00:00:00",
          "2016-02-18T00:00:00",
          "2016-02-16T00:00:00",
          "2016-02-17T00:00:00",
          "2016-05-14T00:00:00",
          "2016-05-01T00:00:00",
          "2016-04-18T00:00:00",
          "2016-02-19T00:00:00",
          "2016-01-14T00:00:00",
          "2016-04-28T00:00:00",
          "2016-04-25T00:00:00",
          "2016-05-17T00:00:00",
          "2016-05-04T00:00:00",
          "2016-05-18T00:00:00",
          "2016-01-17T00:00:00",
          "2016-05-14T00:00:00",
          "2016-05-04T00:00:00",
          "2016-05-04T00:00:00",
          "2016-05-19T00:00:00",
          "2016-04-24T00:00:00",
          "2016-04-24T00:00:00",
          "2016-02-23T00:00:00",
          "2016-02-19T00:00:00",
          "2016-05-06T00:00:00",
          "2016-02-19T00:00:00",
          "2016-05-11T00:00:00",
          "2016-05-24T00:00:00",
          "2016-01-01T00:00:00",
          "2016-04-29T00:00:00",
          "2016-02-15T00:00:00",
          "2016-05-03T00:00:00",
          "2016-04-18T00:00:00",
          "2016-02-15T00:00:00",
          "2016-05-03T00:00:00",
          "2016-04-08T00:00:00",
          "2016-05-18T00:00:00",
          "2016-05-21T00:00:00",
          "2016-02-18T00:00:00",
          "2016-05-17T00:00:00",
          "2016-02-16T00:00:00",
          "2016-05-14T00:00:00",
          "2016-04-21T00:00:00",
          "2016-04-20T00:00:00",
          "2016-04-29T00:00:00",
          "2016-02-16T00:00:00",
          "2016-05-05T00:00:00",
          "2016-04-30T00:00:00",
          "2016-05-25T00:00:00",
          "2016-05-09T00:00:00",
          "2016-02-19T00:00:00",
          "2016-02-17T00:00:00",
          "2016-05-04T00:00:00",
          "2016-05-10T00:00:00",
          "2016-04-20T00:00:00",
          "2016-04-29T00:00:00",
          "2016-05-04T00:00:00",
          "2016-02-17T00:00:00",
          "2016-05-03T00:00:00",
          "2016-04-20T00:00:00",
          "2016-04-22T00:00:00",
          "2016-02-14T00:00:00",
          "2016-05-04T00:00:00",
          "2016-05-04T00:00:00",
          "2016-05-14T00:00:00",
          "2016-05-25T00:00:00",
          "2016-05-04T00:00:00",
          "2016-04-19T00:00:00",
          "2016-05-04T00:00:00",
          "2016-05-16T00:00:00",
          "2016-05-25T00:00:00",
          "2016-02-16T00:00:00",
          "2016-02-13T00:00:00",
          "2016-05-07T00:00:00",
          "2016-05-04T00:00:00",
          "2016-02-09T00:00:00",
          "2016-05-19T00:00:00",
          "2016-04-12T00:00:00",
          "2016-05-11T00:00:00",
          "2016-05-04T00:00:00",
          "2016-05-16T00:00:00",
          "2016-05-11T00:00:00",
          "2016-05-02T00:00:00",
          "2016-03-29T00:00:00",
          "2016-04-25T00:00:00",
          "2016-04-21T00:00:00",
          "2016-02-17T00:00:00",
          "2016-05-03T00:00:00",
          "2016-05-13T00:00:00",
          "2016-04-23T00:00:00",
          "2016-05-04T00:00:00",
          "2016-02-21T00:00:00",
          "2016-05-04T00:00:00",
          "2016-05-01T00:00:00",
          "2016-05-14T00:00:00",
          "2016-04-19T00:00:00",
          "2016-04-27T00:00:00",
          "2016-04-22T00:00:00",
          "2016-04-28T00:00:00",
          "2016-05-26T00:00:00",
          "2016-02-15T00:00:00",
          "2016-01-01T00:00:00",
          "2016-04-08T00:00:00",
          "2016-05-05T00:00:00",
          "2016-04-21T00:00:00",
          "2016-04-23T00:00:00",
          "2016-02-19T00:00:00",
          "2016-02-21T00:00:00",
          "2016-02-13T00:00:00",
          "2016-05-10T00:00:00",
          "2016-01-01T00:00:00",
          "2016-02-19T00:00:00",
          "2016-02-02T00:00:00",
          "2016-05-11T00:00:00",
          "2016-05-08T00:00:00",
          "2016-04-23T00:00:00",
          "2016-05-17T00:00:00",
          "2016-02-15T00:00:00",
          "2016-05-10T00:00:00",
          "2016-02-22T00:00:00",
          "2016-04-18T00:00:00",
          "2016-01-01T00:00:00",
          "2016-05-03T00:00:00",
          "2016-02-14T00:00:00",
          "2016-05-28T00:00:00",
          "2016-04-19T00:00:00",
          "2016-05-25T00:00:00",
          "2016-05-28T00:00:00",
          "2016-05-07T00:00:00",
          "2016-05-25T00:00:00",
          "2016-01-28T00:00:00",
          "2016-02-15T00:00:00",
          "2016-05-02T00:00:00",
          "2016-05-13T00:00:00",
          "2016-05-25T00:00:00",
          "2016-02-18T00:00:00",
          "2016-04-25T00:00:00",
          "2016-04-21T00:00:00",
          "2016-04-19T00:00:00",
          "2016-04-20T00:00:00",
          "2016-05-04T00:00:00",
          "2016-01-01T00:00:00",
          "2016-05-04T00:00:00",
          "2016-05-24T00:00:00",
          "2016-05-19T00:00:00",
          "2016-05-03T00:00:00",
          "2016-04-21T00:00:00",
          "2016-05-13T00:00:00",
          "2016-01-01T00:00:00",
          "2016-05-04T00:00:00",
          "2016-04-18T00:00:00",
          "2016-04-28T00:00:00",
          "2016-05-28T00:00:00",
          "2016-02-23T00:00:00",
          "2016-04-19T00:00:00",
          "2016-05-30T00:00:00",
          "2016-05-12T00:00:00",
          "2016-02-14T00:00:00",
          "2016-05-04T00:00:00",
          "2016-02-12T00:00:00",
          "2016-02-14T00:00:00",
          "2016-02-18T00:00:00",
          "2016-04-18T00:00:00",
          "2016-02-24T00:00:00",
          "2016-05-17T00:00:00",
          "2016-05-09T00:00:00",
          "2016-04-27T00:00:00",
          "2016-04-21T00:00:00",
          "2016-05-18T00:00:00",
          "2016-05-10T00:00:00",
          "2016-02-22T00:00:00",
          "2016-04-30T00:00:00",
          "2016-05-16T00:00:00",
          "2016-02-11T00:00:00",
          "2016-05-30T00:00:00",
          "2016-02-15T00:00:00",
          "2016-05-23T00:00:00",
          "2016-05-18T00:00:00",
          "2016-05-04T00:00:00",
          "2016-04-28T00:00:00",
          "2016-05-06T00:00:00"
         ],
         "y": [
          7,
          1,
          1,
          1,
          1,
          4,
          1,
          1,
          2,
          3,
          1,
          2,
          2,
          1,
          1,
          1,
          1,
          1,
          1,
          16,
          1,
          7,
          4,
          1,
          1,
          9,
          1,
          3,
          2,
          11,
          1,
          1,
          1,
          3,
          3,
          1,
          1,
          1,
          1,
          3,
          2,
          1,
          1,
          3,
          2,
          1,
          1,
          5,
          3,
          1,
          1,
          1,
          1,
          1,
          2,
          1,
          1,
          1,
          2,
          1,
          1,
          1,
          1,
          1,
          1,
          3,
          1,
          1,
          2,
          6,
          1,
          1,
          1,
          2,
          1,
          1,
          1,
          1,
          1,
          1,
          3,
          1,
          1,
          1,
          2,
          5,
          3,
          1,
          1,
          1,
          1,
          3,
          2,
          2,
          3,
          4,
          1,
          1,
          2,
          1,
          1,
          1,
          3,
          2,
          2,
          2,
          1,
          1,
          3,
          1,
          1,
          2,
          1,
          1,
          3,
          1,
          1,
          6,
          1,
          3,
          1,
          1,
          1,
          3,
          1,
          1,
          6,
          1,
          2,
          2,
          1,
          1,
          1,
          4,
          1,
          3,
          11,
          2,
          4,
          1,
          1,
          3,
          1,
          1,
          1,
          3,
          1,
          1,
          3,
          1,
          2,
          1,
          1,
          1,
          1,
          1,
          1,
          1,
          1,
          1,
          2,
          2,
          10,
          1,
          1,
          1,
          2,
          1,
          1,
          3,
          1,
          8,
          1,
          1,
          1,
          1,
          1,
          2,
          1,
          1,
          2,
          2,
          12,
          1,
          1,
          1,
          1,
          1,
          8,
          5,
          1,
          1,
          1,
          1,
          1,
          1,
          2,
          1,
          2,
          1,
          1,
          1,
          2,
          2,
          5,
          1,
          1,
          1,
          1,
          1,
          1,
          1,
          1,
          4,
          3,
          2,
          9,
          2,
          1,
          1,
          2,
          3,
          2,
          1,
          1,
          1,
          11,
          3,
          1,
          1,
          1,
          2,
          1,
          1,
          3,
          1,
          1,
          1,
          2,
          1,
          1,
          1,
          1,
          1,
          2,
          1,
          1,
          2,
          1,
          1,
          2,
          1,
          1,
          1,
          3,
          2,
          10,
          1,
          2,
          1,
          16,
          1,
          3,
          1,
          1,
          1,
          5,
          1,
          1,
          2,
          1,
          1,
          2,
          1,
          1,
          2,
          1,
          7,
          2,
          9,
          4,
          1,
          2,
          2,
          1,
          1,
          5,
          2,
          1,
          4,
          1,
          2,
          4,
          2,
          2,
          2,
          5,
          6,
          1,
          5,
          1,
          1,
          1,
          1,
          1,
          1,
          1,
          1,
          1,
          1,
          2,
          2,
          5,
          1,
          1,
          1,
          2,
          1,
          3,
          2,
          2,
          1,
          1,
          6,
          1,
          2,
          1,
          1,
          2,
          1,
          2,
          1,
          2,
          1,
          4,
          1,
          1,
          1,
          1,
          2,
          1,
          2,
          1,
          1,
          3,
          1,
          1,
          3,
          2,
          1,
          2,
          1,
          1,
          2,
          6,
          11,
          1,
          4,
          6,
          1,
          3,
          2,
          9,
          1,
          1,
          2,
          2,
          1,
          1,
          8,
          1,
          1,
          1,
          2,
          3,
          12,
          2,
          6,
          2,
          4,
          1,
          2,
          1,
          1,
          1,
          1,
          1,
          1,
          1,
          1,
          11,
          4,
          2,
          1,
          1,
          1,
          2,
          1,
          1,
          1,
          1,
          1,
          2,
          2,
          1,
          3,
          1,
          1,
          1,
          5,
          4,
          1,
          1,
          1,
          1,
          2,
          3,
          1,
          1,
          2,
          2,
          3,
          1,
          1,
          1,
          1,
          2,
          1,
          2,
          1,
          1,
          2,
          1,
          1,
          6,
          1,
          1,
          1,
          1,
          1,
          7,
          2,
          1,
          1,
          1,
          2,
          10,
          1,
          1,
          1,
          1,
          1,
          3,
          5,
          1,
          2,
          1,
          1,
          1,
          1,
          1,
          1,
          1,
          2,
          1,
          7,
          1,
          1,
          9,
          1,
          2,
          1,
          3,
          1,
          11,
          2,
          1,
          1,
          2,
          1,
          1,
          1,
          1,
          1,
          1,
          2,
          2,
          1,
          1,
          1,
          1,
          1,
          1,
          2,
          1,
          1,
          2,
          1,
          5,
          1,
          1,
          1,
          5,
          1,
          1,
          5,
          3,
          4,
          1,
          1,
          1,
          1,
          1,
          1,
          4,
          2,
          1,
          1,
          1,
          1,
          1,
          1,
          1,
          4,
          5,
          2,
          1,
          1,
          1,
          1,
          1,
          1,
          2,
          1,
          12,
          1,
          1,
          1,
          1,
          1,
          2,
          1,
          1,
          4,
          2,
          1,
          5,
          1,
          1,
          14,
          1,
          1,
          1,
          3,
          6,
          1,
          1,
          1,
          1,
          8,
          3,
          8,
          6,
          1,
          2,
          1,
          1,
          1,
          1,
          1,
          2,
          2,
          4,
          1,
          1,
          1,
          2,
          1,
          1,
          1,
          1,
          2,
          5,
          1,
          1,
          6,
          2,
          1,
          1,
          2,
          1,
          3,
          2,
          1,
          2,
          1,
          1,
          2,
          2,
          2,
          3,
          1,
          1,
          1,
          3,
          4,
          1,
          1,
          1,
          2,
          1,
          2,
          1,
          1,
          1,
          1,
          3,
          1,
          1,
          1,
          2,
          1,
          1,
          1,
          2,
          8,
          1,
          1,
          1,
          1,
          1,
          2,
          5,
          1,
          1,
          1,
          1,
          1,
          2,
          1,
          4,
          3,
          1,
          1,
          2,
          1,
          1,
          2,
          1,
          1,
          3,
          1,
          2,
          1,
          1,
          1,
          9,
          2,
          3,
          1,
          4,
          1,
          1,
          4,
          1,
          1,
          1,
          1,
          1,
          1,
          2,
          1,
          3,
          1,
          3,
          1,
          1,
          1,
          2,
          1,
          1,
          2,
          2,
          1,
          2,
          2,
          1,
          3,
          1,
          1,
          1,
          1,
          1,
          1,
          1,
          2,
          1,
          3,
          3,
          1,
          5,
          1,
          1,
          1,
          1,
          1,
          1,
          1,
          1,
          2,
          1,
          1,
          1,
          1,
          1,
          1,
          17,
          2,
          1,
          1,
          2,
          1,
          1,
          1,
          1,
          1,
          1,
          1,
          3,
          1,
          2,
          1,
          2,
          1,
          11,
          1,
          1,
          3,
          1,
          1,
          5,
          6,
          1,
          2,
          1,
          2,
          2,
          1,
          2,
          1,
          1,
          2,
          4,
          2,
          1,
          4,
          2,
          1,
          3,
          1,
          1,
          2,
          1,
          1,
          1,
          1,
          1,
          2,
          13,
          3,
          12,
          3,
          1,
          10,
          1,
          1,
          1,
          1,
          1,
          1,
          4,
          2,
          1,
          2,
          4,
          1,
          2,
          1,
          5,
          1,
          1,
          1,
          2,
          1,
          2,
          6,
          2,
          2,
          2,
          4,
          1,
          1,
          1,
          1,
          1,
          1,
          1,
          1,
          1,
          2,
          1,
          1,
          1,
          2,
          4,
          1,
          1,
          2,
          2,
          4,
          1,
          3,
          1,
          1,
          9,
          6,
          1,
          3,
          5,
          1,
          2,
          3,
          1,
          1,
          1,
          1,
          4,
          1,
          1,
          2,
          1,
          2,
          1,
          1,
          1,
          1,
          1,
          1,
          3,
          12,
          1,
          2,
          1,
          16,
          1,
          3,
          1,
          2,
          1,
          1,
          2,
          1,
          1,
          1,
          1,
          1,
          1,
          4,
          1,
          1,
          1,
          1,
          2,
          1,
          2,
          6,
          1,
          1,
          1,
          1,
          1,
          2,
          1,
          1,
          1,
          1,
          1,
          1,
          1,
          1,
          1,
          2,
          1,
          3,
          5,
          1,
          1,
          1,
          2,
          1,
          1,
          1,
          4,
          1,
          1,
          1,
          1,
          4,
          1,
          15,
          1,
          2,
          2,
          1,
          2,
          1,
          9,
          1,
          1,
          1,
          1,
          1,
          1,
          1,
          2,
          1,
          1,
          1,
          1,
          5,
          2,
          1,
          2,
          1,
          1,
          1,
          2,
          2,
          2,
          1,
          1,
          1,
          5,
          3,
          1,
          1,
          1,
          1,
          1,
          2,
          10,
          4,
          2,
          1,
          1,
          1,
          1,
          1,
          3,
          1,
          1,
          1,
          1,
          1,
          2,
          1,
          1,
          2,
          1,
          9,
          1,
          8,
          1,
          1,
          3,
          1,
          1,
          3,
          1,
          1,
          1,
          1,
          2,
          2,
          1,
          1,
          1,
          1,
          1,
          1,
          2,
          2,
          15,
          1,
          4,
          1,
          2,
          8,
          1,
          3,
          1,
          1,
          5,
          1,
          2,
          9,
          2,
          1,
          12,
          1,
          1,
          1,
          2,
          2,
          1,
          1,
          1,
          1,
          1,
          1,
          1,
          1,
          2,
          1,
          2,
          3,
          1,
          1,
          2,
          10,
          1,
          1,
          1,
          1,
          1,
          1,
          1,
          1,
          1,
          1,
          1,
          1,
          2,
          1,
          3,
          6,
          2,
          1,
          2,
          5,
          1,
          1,
          1,
          2,
          1,
          2,
          2,
          1,
          3,
          2,
          1,
          2,
          2,
          1,
          6,
          1,
          4,
          1,
          1,
          1,
          3,
          5,
          2,
          1,
          1,
          6,
          1,
          1,
          1,
          9,
          7,
          1,
          3,
          2,
          1,
          15,
          1,
          6,
          1,
          8,
          1,
          3,
          10,
          1,
          1,
          1,
          3,
          6,
          1,
          2,
          1,
          8,
          3,
          1,
          2,
          3,
          2,
          1,
          2,
          1,
          1,
          2,
          1,
          1,
          2,
          2,
          3,
          1,
          1,
          1,
          1,
          1,
          1,
          1,
          2,
          1,
          1,
          1,
          1,
          1,
          1,
          1,
          1,
          1,
          5,
          1,
          1,
          1,
          1,
          4,
          4,
          7,
          2,
          2,
          1,
          2,
          2,
          1,
          12,
          2,
          2,
          3,
          1,
          1,
          2,
          6,
          2,
          1,
          1,
          1,
          1,
          6,
          13,
          2,
          3,
          1,
          1,
          8,
          2,
          2,
          4,
          1,
          3,
          1,
          1,
          1,
          3,
          12,
          1,
          2,
          2,
          2,
          1,
          8,
          2,
          1,
          1,
          2,
          1,
          1,
          6,
          2,
          1,
          2,
          1,
          15,
          1,
          1,
          1,
          1,
          1,
          1,
          14,
          1,
          1,
          1,
          1,
          1,
          1,
          2,
          9,
          1,
          1,
          9,
          1,
          5,
          1,
          1,
          1,
          1,
          2,
          6,
          1,
          1,
          9,
          1,
          2,
          1,
          2,
          1,
          1,
          1,
          2,
          4,
          1,
          1,
          2,
          1,
          1,
          5,
          1,
          1,
          1,
          9,
          1,
          1,
          1,
          1,
          1,
          1,
          4,
          1,
          2,
          2,
          1,
          1,
          2,
          2,
          1,
          1,
          10,
          5,
          1,
          4,
          1,
          1,
          1,
          1,
          2,
          1,
          1,
          1,
          1,
          5,
          2,
          19,
          2,
          1,
          2,
          2,
          2,
          16,
          1,
          1,
          3,
          1,
          1,
          1,
          4,
          1,
          5,
          1,
          1,
          1,
          1,
          1,
          2,
          1,
          6,
          1,
          2,
          1,
          1,
          1,
          1,
          4,
          1,
          1,
          1,
          1,
          1,
          1,
          1,
          1,
          1,
          1,
          4,
          1,
          1,
          1,
          1,
          1,
          3,
          1,
          1,
          1,
          1,
          1,
          1,
          1,
          2,
          1,
          1,
          1,
          1,
          1,
          5,
          2,
          2,
          1,
          1,
          2,
          1,
          2,
          3,
          1,
          1,
          6,
          1,
          2,
          1,
          2,
          1,
          8,
          2,
          1,
          1,
          2,
          1,
          2,
          1,
          1,
          1,
          3,
          4,
          1,
          1,
          1,
          9,
          1,
          8,
          1,
          2,
          1,
          1,
          3,
          2,
          1,
          1,
          6,
          2,
          2,
          2,
          2,
          2,
          1,
          1,
          1,
          5,
          1,
          1,
          1,
          1,
          1,
          1,
          1,
          2,
          1,
          3,
          1,
          2,
          2,
          1,
          1,
          1,
          1,
          2,
          1,
          1,
          2,
          1,
          1,
          5,
          1,
          1,
          1,
          2,
          1,
          2,
          2,
          1,
          1,
          1,
          1,
          2,
          1,
          1,
          11,
          1,
          2,
          1,
          1,
          1,
          1,
          2,
          1,
          1,
          4,
          1,
          1,
          1,
          4,
          1,
          7,
          1,
          1,
          1,
          1,
          1,
          3,
          1,
          2,
          1,
          9,
          2,
          5,
          12,
          1,
          1,
          1,
          3,
          2,
          6,
          1,
          1,
          1,
          1,
          2,
          3,
          1,
          1,
          12,
          4,
          1,
          3,
          2,
          2,
          1,
          1,
          3,
          5,
          2,
          6,
          1,
          1,
          2,
          1,
          1,
          1,
          1,
          1,
          1,
          1,
          10,
          2,
          1,
          6,
          1,
          1,
          1,
          4,
          1,
          4,
          1,
          1,
          1,
          1,
          1,
          1,
          1,
          1,
          5,
          1,
          2,
          1,
          1,
          1,
          2,
          3,
          1,
          1,
          2,
          2,
          1,
          1,
          1,
          11,
          1,
          2,
          1,
          5,
          6,
          1,
          2,
          1,
          1,
          1,
          1,
          1,
          1,
          1,
          1,
          2
         ],
         "type": "bar",
         "xaxis": "x2",
         "yaxis": "y2"
        }
       ],
       "layout": {
        "template": {
         "data": {
          "bar": [
           {
            "error_x": {
             "color": "#2a3f5f"
            },
            "error_y": {
             "color": "#2a3f5f"
            },
            "marker": {
             "line": {
              "color": "#E5ECF6",
              "width": 0.5
             },
             "pattern": {
              "fillmode": "overlay",
              "size": 10,
              "solidity": 0.2
             }
            },
            "type": "bar"
           }
          ],
          "barpolar": [
           {
            "marker": {
             "line": {
              "color": "#E5ECF6",
              "width": 0.5
             },
             "pattern": {
              "fillmode": "overlay",
              "size": 10,
              "solidity": 0.2
             }
            },
            "type": "barpolar"
           }
          ],
          "carpet": [
           {
            "aaxis": {
             "endlinecolor": "#2a3f5f",
             "gridcolor": "white",
             "linecolor": "white",
             "minorgridcolor": "white",
             "startlinecolor": "#2a3f5f"
            },
            "baxis": {
             "endlinecolor": "#2a3f5f",
             "gridcolor": "white",
             "linecolor": "white",
             "minorgridcolor": "white",
             "startlinecolor": "#2a3f5f"
            },
            "type": "carpet"
           }
          ],
          "choropleth": [
           {
            "colorbar": {
             "outlinewidth": 0,
             "ticks": ""
            },
            "type": "choropleth"
           }
          ],
          "contour": [
           {
            "colorbar": {
             "outlinewidth": 0,
             "ticks": ""
            },
            "colorscale": [
             [
              0,
              "#0d0887"
             ],
             [
              0.1111111111111111,
              "#46039f"
             ],
             [
              0.2222222222222222,
              "#7201a8"
             ],
             [
              0.3333333333333333,
              "#9c179e"
             ],
             [
              0.4444444444444444,
              "#bd3786"
             ],
             [
              0.5555555555555556,
              "#d8576b"
             ],
             [
              0.6666666666666666,
              "#ed7953"
             ],
             [
              0.7777777777777778,
              "#fb9f3a"
             ],
             [
              0.8888888888888888,
              "#fdca26"
             ],
             [
              1,
              "#f0f921"
             ]
            ],
            "type": "contour"
           }
          ],
          "contourcarpet": [
           {
            "colorbar": {
             "outlinewidth": 0,
             "ticks": ""
            },
            "type": "contourcarpet"
           }
          ],
          "heatmap": [
           {
            "colorbar": {
             "outlinewidth": 0,
             "ticks": ""
            },
            "colorscale": [
             [
              0,
              "#0d0887"
             ],
             [
              0.1111111111111111,
              "#46039f"
             ],
             [
              0.2222222222222222,
              "#7201a8"
             ],
             [
              0.3333333333333333,
              "#9c179e"
             ],
             [
              0.4444444444444444,
              "#bd3786"
             ],
             [
              0.5555555555555556,
              "#d8576b"
             ],
             [
              0.6666666666666666,
              "#ed7953"
             ],
             [
              0.7777777777777778,
              "#fb9f3a"
             ],
             [
              0.8888888888888888,
              "#fdca26"
             ],
             [
              1,
              "#f0f921"
             ]
            ],
            "type": "heatmap"
           }
          ],
          "heatmapgl": [
           {
            "colorbar": {
             "outlinewidth": 0,
             "ticks": ""
            },
            "colorscale": [
             [
              0,
              "#0d0887"
             ],
             [
              0.1111111111111111,
              "#46039f"
             ],
             [
              0.2222222222222222,
              "#7201a8"
             ],
             [
              0.3333333333333333,
              "#9c179e"
             ],
             [
              0.4444444444444444,
              "#bd3786"
             ],
             [
              0.5555555555555556,
              "#d8576b"
             ],
             [
              0.6666666666666666,
              "#ed7953"
             ],
             [
              0.7777777777777778,
              "#fb9f3a"
             ],
             [
              0.8888888888888888,
              "#fdca26"
             ],
             [
              1,
              "#f0f921"
             ]
            ],
            "type": "heatmapgl"
           }
          ],
          "histogram": [
           {
            "marker": {
             "pattern": {
              "fillmode": "overlay",
              "size": 10,
              "solidity": 0.2
             }
            },
            "type": "histogram"
           }
          ],
          "histogram2d": [
           {
            "colorbar": {
             "outlinewidth": 0,
             "ticks": ""
            },
            "colorscale": [
             [
              0,
              "#0d0887"
             ],
             [
              0.1111111111111111,
              "#46039f"
             ],
             [
              0.2222222222222222,
              "#7201a8"
             ],
             [
              0.3333333333333333,
              "#9c179e"
             ],
             [
              0.4444444444444444,
              "#bd3786"
             ],
             [
              0.5555555555555556,
              "#d8576b"
             ],
             [
              0.6666666666666666,
              "#ed7953"
             ],
             [
              0.7777777777777778,
              "#fb9f3a"
             ],
             [
              0.8888888888888888,
              "#fdca26"
             ],
             [
              1,
              "#f0f921"
             ]
            ],
            "type": "histogram2d"
           }
          ],
          "histogram2dcontour": [
           {
            "colorbar": {
             "outlinewidth": 0,
             "ticks": ""
            },
            "colorscale": [
             [
              0,
              "#0d0887"
             ],
             [
              0.1111111111111111,
              "#46039f"
             ],
             [
              0.2222222222222222,
              "#7201a8"
             ],
             [
              0.3333333333333333,
              "#9c179e"
             ],
             [
              0.4444444444444444,
              "#bd3786"
             ],
             [
              0.5555555555555556,
              "#d8576b"
             ],
             [
              0.6666666666666666,
              "#ed7953"
             ],
             [
              0.7777777777777778,
              "#fb9f3a"
             ],
             [
              0.8888888888888888,
              "#fdca26"
             ],
             [
              1,
              "#f0f921"
             ]
            ],
            "type": "histogram2dcontour"
           }
          ],
          "mesh3d": [
           {
            "colorbar": {
             "outlinewidth": 0,
             "ticks": ""
            },
            "type": "mesh3d"
           }
          ],
          "parcoords": [
           {
            "line": {
             "colorbar": {
              "outlinewidth": 0,
              "ticks": ""
             }
            },
            "type": "parcoords"
           }
          ],
          "pie": [
           {
            "automargin": true,
            "type": "pie"
           }
          ],
          "scatter": [
           {
            "marker": {
             "colorbar": {
              "outlinewidth": 0,
              "ticks": ""
             }
            },
            "type": "scatter"
           }
          ],
          "scatter3d": [
           {
            "line": {
             "colorbar": {
              "outlinewidth": 0,
              "ticks": ""
             }
            },
            "marker": {
             "colorbar": {
              "outlinewidth": 0,
              "ticks": ""
             }
            },
            "type": "scatter3d"
           }
          ],
          "scattercarpet": [
           {
            "marker": {
             "colorbar": {
              "outlinewidth": 0,
              "ticks": ""
             }
            },
            "type": "scattercarpet"
           }
          ],
          "scattergeo": [
           {
            "marker": {
             "colorbar": {
              "outlinewidth": 0,
              "ticks": ""
             }
            },
            "type": "scattergeo"
           }
          ],
          "scattergl": [
           {
            "marker": {
             "colorbar": {
              "outlinewidth": 0,
              "ticks": ""
             }
            },
            "type": "scattergl"
           }
          ],
          "scattermapbox": [
           {
            "marker": {
             "colorbar": {
              "outlinewidth": 0,
              "ticks": ""
             }
            },
            "type": "scattermapbox"
           }
          ],
          "scatterpolar": [
           {
            "marker": {
             "colorbar": {
              "outlinewidth": 0,
              "ticks": ""
             }
            },
            "type": "scatterpolar"
           }
          ],
          "scatterpolargl": [
           {
            "marker": {
             "colorbar": {
              "outlinewidth": 0,
              "ticks": ""
             }
            },
            "type": "scatterpolargl"
           }
          ],
          "scatterternary": [
           {
            "marker": {
             "colorbar": {
              "outlinewidth": 0,
              "ticks": ""
             }
            },
            "type": "scatterternary"
           }
          ],
          "surface": [
           {
            "colorbar": {
             "outlinewidth": 0,
             "ticks": ""
            },
            "colorscale": [
             [
              0,
              "#0d0887"
             ],
             [
              0.1111111111111111,
              "#46039f"
             ],
             [
              0.2222222222222222,
              "#7201a8"
             ],
             [
              0.3333333333333333,
              "#9c179e"
             ],
             [
              0.4444444444444444,
              "#bd3786"
             ],
             [
              0.5555555555555556,
              "#d8576b"
             ],
             [
              0.6666666666666666,
              "#ed7953"
             ],
             [
              0.7777777777777778,
              "#fb9f3a"
             ],
             [
              0.8888888888888888,
              "#fdca26"
             ],
             [
              1,
              "#f0f921"
             ]
            ],
            "type": "surface"
           }
          ],
          "table": [
           {
            "cells": {
             "fill": {
              "color": "#EBF0F8"
             },
             "line": {
              "color": "white"
             }
            },
            "header": {
             "fill": {
              "color": "#C8D4E3"
             },
             "line": {
              "color": "white"
             }
            },
            "type": "table"
           }
          ]
         },
         "layout": {
          "annotationdefaults": {
           "arrowcolor": "#2a3f5f",
           "arrowhead": 0,
           "arrowwidth": 1
          },
          "autotypenumbers": "strict",
          "coloraxis": {
           "colorbar": {
            "outlinewidth": 0,
            "ticks": ""
           }
          },
          "colorscale": {
           "diverging": [
            [
             0,
             "#8e0152"
            ],
            [
             0.1,
             "#c51b7d"
            ],
            [
             0.2,
             "#de77ae"
            ],
            [
             0.3,
             "#f1b6da"
            ],
            [
             0.4,
             "#fde0ef"
            ],
            [
             0.5,
             "#f7f7f7"
            ],
            [
             0.6,
             "#e6f5d0"
            ],
            [
             0.7,
             "#b8e186"
            ],
            [
             0.8,
             "#7fbc41"
            ],
            [
             0.9,
             "#4d9221"
            ],
            [
             1,
             "#276419"
            ]
           ],
           "sequential": [
            [
             0,
             "#0d0887"
            ],
            [
             0.1111111111111111,
             "#46039f"
            ],
            [
             0.2222222222222222,
             "#7201a8"
            ],
            [
             0.3333333333333333,
             "#9c179e"
            ],
            [
             0.4444444444444444,
             "#bd3786"
            ],
            [
             0.5555555555555556,
             "#d8576b"
            ],
            [
             0.6666666666666666,
             "#ed7953"
            ],
            [
             0.7777777777777778,
             "#fb9f3a"
            ],
            [
             0.8888888888888888,
             "#fdca26"
            ],
            [
             1,
             "#f0f921"
            ]
           ],
           "sequentialminus": [
            [
             0,
             "#0d0887"
            ],
            [
             0.1111111111111111,
             "#46039f"
            ],
            [
             0.2222222222222222,
             "#7201a8"
            ],
            [
             0.3333333333333333,
             "#9c179e"
            ],
            [
             0.4444444444444444,
             "#bd3786"
            ],
            [
             0.5555555555555556,
             "#d8576b"
            ],
            [
             0.6666666666666666,
             "#ed7953"
            ],
            [
             0.7777777777777778,
             "#fb9f3a"
            ],
            [
             0.8888888888888888,
             "#fdca26"
            ],
            [
             1,
             "#f0f921"
            ]
           ]
          },
          "colorway": [
           "#636efa",
           "#EF553B",
           "#00cc96",
           "#ab63fa",
           "#FFA15A",
           "#19d3f3",
           "#FF6692",
           "#B6E880",
           "#FF97FF",
           "#FECB52"
          ],
          "font": {
           "color": "#2a3f5f"
          },
          "geo": {
           "bgcolor": "white",
           "lakecolor": "white",
           "landcolor": "#E5ECF6",
           "showlakes": true,
           "showland": true,
           "subunitcolor": "white"
          },
          "hoverlabel": {
           "align": "left"
          },
          "hovermode": "closest",
          "mapbox": {
           "style": "light"
          },
          "paper_bgcolor": "white",
          "plot_bgcolor": "#E5ECF6",
          "polar": {
           "angularaxis": {
            "gridcolor": "white",
            "linecolor": "white",
            "ticks": ""
           },
           "bgcolor": "#E5ECF6",
           "radialaxis": {
            "gridcolor": "white",
            "linecolor": "white",
            "ticks": ""
           }
          },
          "scene": {
           "xaxis": {
            "backgroundcolor": "#E5ECF6",
            "gridcolor": "white",
            "gridwidth": 2,
            "linecolor": "white",
            "showbackground": true,
            "ticks": "",
            "zerolinecolor": "white"
           },
           "yaxis": {
            "backgroundcolor": "#E5ECF6",
            "gridcolor": "white",
            "gridwidth": 2,
            "linecolor": "white",
            "showbackground": true,
            "ticks": "",
            "zerolinecolor": "white"
           },
           "zaxis": {
            "backgroundcolor": "#E5ECF6",
            "gridcolor": "white",
            "gridwidth": 2,
            "linecolor": "white",
            "showbackground": true,
            "ticks": "",
            "zerolinecolor": "white"
           }
          },
          "shapedefaults": {
           "line": {
            "color": "#2a3f5f"
           }
          },
          "ternary": {
           "aaxis": {
            "gridcolor": "white",
            "linecolor": "white",
            "ticks": ""
           },
           "baxis": {
            "gridcolor": "white",
            "linecolor": "white",
            "ticks": ""
           },
           "bgcolor": "#E5ECF6",
           "caxis": {
            "gridcolor": "white",
            "linecolor": "white",
            "ticks": ""
           }
          },
          "title": {
           "x": 0.05
          },
          "xaxis": {
           "automargin": true,
           "gridcolor": "white",
           "linecolor": "white",
           "ticks": "",
           "title": {
            "standoff": 15
           },
           "zerolinecolor": "white",
           "zerolinewidth": 2
          },
          "yaxis": {
           "automargin": true,
           "gridcolor": "white",
           "linecolor": "white",
           "ticks": "",
           "title": {
            "standoff": 15
           },
           "zerolinecolor": "white",
           "zerolinewidth": 2
          }
         }
        },
        "xaxis": {
         "anchor": "y",
         "domain": [
          0,
          1
         ],
         "matches": "x2",
         "showticklabels": false
        },
        "yaxis": {
         "anchor": "x",
         "domain": [
          0.51,
          1
         ]
        },
        "xaxis2": {
         "anchor": "y2",
         "domain": [
          0,
          1
         ]
        },
        "yaxis2": {
         "anchor": "x2",
         "domain": [
          0,
          0.49
         ]
        },
        "title": {
         "text": "Star Wars: Episode VII - The Force Awakens"
        }
       },
       "config": {
        "plotlyServerURL": "https://plot.ly"
       }
      }
     },
     "metadata": {}
    }
   ],
   "metadata": {}
  },
  {
   "cell_type": "code",
   "execution_count": 30,
   "source": [
    "#Thor: Ragnarok\n",
    "fig = make_subplots(rows=2, cols=1, shared_xaxes=True,\n",
    "                    vertical_spacing=0.02)\n",
    "\n",
    "fig.append_trace(go.Bar(x=df_boxOffice[df_boxOffice.movie=='Thor: Ragnarok'].days, y = df_boxOffice[df_boxOffice.movie=='Thor: Ragnarok'].daily, name='boxOffice'), row=1, col=1)\n",
    "fig.append_trace(go.Bar(x=thor.date, y = thor.numOccurrences, name = 'Quotes'), row=2, col=1)\n",
    "fig.update_layout(title_text=\"Thor: Ragnarok\")\n",
    "fig.show()"
   ],
   "outputs": [
    {
     "output_type": "display_data",
     "data": {
      "application/vnd.plotly.v1+json": {
       "data": [
        {
         "name": "boxOffice",
         "x": [
          "2017-11-03",
          "2017-11-04",
          "2017-11-05",
          "2017-11-06",
          "2017-11-07",
          "2017-11-08",
          "2017-11-09",
          "2017-11-10",
          "2017-11-11",
          "2017-11-12",
          "2017-11-13",
          "2017-11-14",
          "2017-11-15",
          "2017-11-16",
          "2017-11-17",
          "2017-11-18",
          "2017-11-19",
          "2017-11-20",
          "2017-11-21",
          "2017-11-22",
          "2017-11-23",
          "2017-11-24",
          "2017-11-25",
          "2017-11-26",
          "2017-11-27",
          "2017-11-28",
          "2017-11-29",
          "2017-11-30",
          "2017-12-01",
          "2017-12-02",
          "2017-12-03",
          "2017-12-04",
          "2017-12-05",
          "2017-12-06",
          "2017-12-07",
          "2017-12-08",
          "2017-12-09",
          "2017-12-10",
          "2017-12-11",
          "2017-12-12",
          "2017-12-13",
          "2017-12-14",
          "2017-12-15",
          "2017-12-16",
          "2017-12-17",
          "2017-12-18",
          "2017-12-19",
          "2017-12-20",
          "2017-12-21",
          "2017-12-22",
          "2017-12-23",
          "2017-12-24",
          "2017-12-25",
          "2017-12-26",
          "2017-12-27",
          "2017-12-28",
          "2017-12-29",
          "2017-12-30",
          "2017-12-31",
          "2018-01-01",
          "2018-01-02",
          "2018-01-03",
          "2018-01-04",
          "2018-01-05",
          "2018-01-06",
          "2018-01-07",
          "2018-01-08",
          "2018-01-09",
          "2018-01-10",
          "2018-01-11",
          "2018-01-12",
          "2018-01-13",
          "2018-01-14",
          "2018-01-15",
          "2018-01-16",
          "2018-01-17",
          "2018-01-18",
          "2018-01-19",
          "2018-01-20",
          "2018-01-21",
          "2018-01-22",
          "2018-01-23",
          "2018-01-24",
          "2018-01-25",
          "2018-01-26",
          "2018-01-27",
          "2018-01-28",
          "2018-01-29",
          "2018-01-30",
          "2018-01-31",
          "2018-02-01",
          "2018-02-02",
          "2018-02-03",
          "2018-02-04",
          "2018-02-05",
          "2018-02-06",
          "2018-02-07",
          "2018-02-08",
          "2018-02-09",
          "2018-02-10",
          "2018-02-11",
          "2018-02-12",
          "2018-02-13",
          "2018-02-14",
          "2018-02-15",
          "2018-02-16",
          "2018-02-17",
          "2018-02-18",
          "2018-02-19",
          "2018-02-20",
          "2018-02-21",
          "2018-02-22",
          "2018-02-23",
          "2018-02-24",
          "2018-02-25",
          "2018-02-26",
          "2018-02-27",
          "2018-02-28",
          "2018-03-01",
          "2018-03-02",
          "2018-03-03",
          "2018-03-04",
          "2018-03-05",
          "2018-03-06",
          "2018-03-07",
          "2018-03-08",
          "2018-03-09",
          "2018-03-10",
          "2018-03-11",
          "2018-03-12",
          "2018-03-13",
          "2018-03-14",
          "2018-03-15"
         ],
         "y": [
          46470936,
          44203752,
          32070301,
          8247661,
          10824443,
          6148407,
          7024207,
          18361360,
          23744122,
          14972824,
          3699478,
          4489361,
          2919452,
          2419866,
          5735104,
          9559369,
          6375127,
          2457686,
          3489938,
          4038922,
          3534961,
          6718044,
          6581173,
          3564077,
          872200,
          1156251,
          919744,
          1148833,
          2695400,
          4425036,
          2765500,
          753838,
          1023330,
          734214,
          720147,
          1677125,
          2843711,
          1750538,
          516235,
          740606,
          556948,
          443893,
          784873,
          1350766,
          997777,
          440793,
          598002,
          383763,
          340664,
          292159,
          341142,
          200577,
          329457,
          330578,
          289463,
          296105,
          306552,
          341736,
          206623,
          274976,
          182206,
          137563,
          124891,
          155985,
          226596,
          132359,
          44384,
          53119,
          45469,
          38622,
          88750,
          160406,
          121803,
          90023,
          35544,
          31458,
          29227,
          62799,
          115885,
          55832,
          18704,
          22413,
          19447,
          19398,
          45863,
          85199,
          50767,
          13645,
          14421,
          13085,
          15284,
          66416,
          129013,
          49521,
          23404,
          25395,
          22620,
          23583,
          50174,
          105374,
          69523,
          18288,
          18390,
          27444,
          17706,
          47125,
          84659,
          63913,
          38914,
          14928,
          12837,
          14502,
          33754,
          65797,
          37815,
          9094,
          8386,
          7744,
          9653,
          32485,
          60112,
          25977,
          6510,
          6578,
          6870,
          7326,
          10006,
          18645,
          13213,
          5334,
          6502,
          5751,
          5735
         ],
         "type": "bar",
         "xaxis": "x",
         "yaxis": "y"
        },
        {
         "name": "Quotes",
         "x": [
          "2017-11-21T00:00:00",
          "2017-12-07T00:00:00",
          "2017-11-07T00:00:00",
          "2017-12-20T00:00:00",
          "2017-11-20T00:00:00",
          "2017-12-27T00:00:00",
          "2017-11-24T00:00:00",
          "2017-11-04T00:00:00",
          "2017-12-11T00:00:00",
          "2017-12-20T00:00:00",
          "2017-11-15T00:00:00",
          "2017-12-12T00:00:00",
          "2017-12-11T00:00:00",
          "2017-11-12T00:00:00",
          "2017-11-28T00:00:00",
          "2017-12-06T00:00:00",
          "2017-11-09T00:00:00",
          "2017-11-06T00:00:00",
          "2017-11-10T00:00:00",
          "2017-12-27T00:00:00",
          "2017-12-06T00:00:00",
          "2017-11-14T00:00:00",
          "2017-12-05T00:00:00",
          "2017-11-03T00:00:00",
          "2017-11-07T00:00:00",
          "2017-12-30T00:00:00",
          "2017-11-14T00:00:00",
          "2017-12-22T00:00:00",
          "2017-11-10T00:00:00",
          "2017-12-17T00:00:00",
          "2017-12-14T00:00:00",
          "2017-12-01T00:00:00",
          "2017-11-28T00:00:00",
          "2017-11-23T00:00:00",
          "2017-11-04T00:00:00",
          "2017-12-21T00:00:00",
          "2017-11-21T00:00:00",
          "2017-11-23T00:00:00",
          "2017-11-06T00:00:00",
          "2017-11-06T00:00:00",
          "2017-12-10T00:00:00",
          "2017-11-07T00:00:00",
          "2017-12-20T00:00:00",
          "2017-12-07T00:00:00",
          "2017-11-09T00:00:00",
          "2017-11-17T00:00:00",
          "2017-11-11T00:00:00",
          "2017-11-03T00:00:00",
          "2017-12-08T00:00:00",
          "2017-11-20T00:00:00",
          "2017-12-26T00:00:00",
          "2017-12-11T00:00:00",
          "2017-12-27T00:00:00",
          "2017-11-04T00:00:00",
          "2017-11-12T00:00:00",
          "2017-12-28T00:00:00",
          "2017-11-14T00:00:00",
          "2017-11-04T00:00:00",
          "2017-12-18T00:00:00",
          "2017-12-30T00:00:00",
          "2017-12-05T00:00:00",
          "2017-11-04T00:00:00",
          "2017-12-17T00:00:00",
          "2017-11-10T00:00:00",
          "2017-11-14T00:00:00",
          "2017-12-08T00:00:00",
          "2017-11-09T00:00:00",
          "2017-11-24T00:00:00",
          "2017-12-13T00:00:00",
          "2017-11-23T00:00:00",
          "2017-11-11T00:00:00",
          "2017-11-14T00:00:00",
          "2017-12-14T00:00:00",
          "2017-11-10T00:00:00",
          "2017-12-12T00:00:00",
          "2017-11-09T00:00:00",
          "2017-11-07T00:00:00",
          "2017-11-29T00:00:00",
          "2017-11-06T00:00:00",
          "2017-11-12T00:00:00",
          "2017-11-24T00:00:00",
          "2017-12-13T00:00:00",
          "2017-11-17T00:00:00",
          "2017-11-03T00:00:00",
          "2017-12-18T00:00:00",
          "2017-12-18T00:00:00",
          "2017-11-25T00:00:00",
          "2017-11-10T00:00:00",
          "2017-11-08T00:00:00",
          "2017-11-06T00:00:00",
          "2017-11-15T00:00:00",
          "2017-11-12T00:00:00",
          "2017-11-07T00:00:00",
          "2017-11-06T00:00:00",
          "2017-12-30T00:00:00",
          "2017-11-16T00:00:00",
          "2017-11-27T00:00:00",
          "2017-11-08T00:00:00",
          "2017-12-06T00:00:00",
          "2017-11-06T00:00:00",
          "2017-12-20T00:00:00",
          "2017-11-27T00:00:00",
          "2017-12-09T00:00:00",
          "2017-11-12T00:00:00",
          "2017-11-05T00:00:00",
          "2017-12-14T00:00:00",
          "2017-12-30T00:00:00",
          "2017-12-10T00:00:00",
          "2017-12-06T00:00:00",
          "2017-11-28T00:00:00",
          "2017-11-06T00:00:00",
          "2017-11-28T00:00:00",
          "2017-11-20T00:00:00",
          "2017-11-10T00:00:00",
          "2017-11-07T00:00:00",
          "2017-11-17T00:00:00",
          "2017-11-10T00:00:00",
          "2017-11-05T00:00:00",
          "2017-12-20T00:00:00",
          "2017-11-08T00:00:00",
          "2017-11-12T00:00:00",
          "2017-11-03T00:00:00",
          "2017-11-07T00:00:00",
          "2017-12-11T00:00:00",
          "2017-12-11T00:00:00",
          "2017-11-03T00:00:00",
          "2017-12-18T00:00:00",
          "2017-11-09T00:00:00",
          "2017-12-27T00:00:00",
          "2017-12-28T00:00:00",
          "2017-11-06T00:00:00",
          "2017-11-07T00:00:00",
          "2017-11-15T00:00:00",
          "2017-12-10T00:00:00",
          "2017-11-06T00:00:00",
          "2017-11-13T00:00:00",
          "2017-11-25T00:00:00",
          "2017-11-09T00:00:00",
          "2017-11-12T00:00:00",
          "2017-11-15T00:00:00",
          "2017-12-08T00:00:00",
          "2017-12-05T00:00:00",
          "2017-11-06T00:00:00",
          "2017-11-05T00:00:00",
          "2017-11-08T00:00:00",
          "2017-11-11T00:00:00",
          "2017-11-23T00:00:00",
          "2017-12-05T00:00:00",
          "2017-12-26T00:00:00",
          "2017-12-19T00:00:00",
          "2017-11-18T00:00:00",
          "2017-11-22T00:00:00",
          "2017-12-06T00:00:00",
          "2017-11-08T00:00:00",
          "2017-12-20T00:00:00",
          "2017-11-28T00:00:00",
          "2017-12-05T00:00:00",
          "2017-12-30T00:00:00",
          "2017-11-07T00:00:00",
          "2017-12-23T00:00:00",
          "2017-11-03T00:00:00",
          "2017-11-09T00:00:00",
          "2017-11-14T00:00:00",
          "2017-11-07T00:00:00",
          "2017-11-20T00:00:00",
          "2017-11-13T00:00:00",
          "2017-11-12T00:00:00",
          "2017-11-11T00:00:00",
          "2017-12-01T00:00:00",
          "2017-11-09T00:00:00",
          "2017-11-03T00:00:00",
          "2017-12-22T00:00:00",
          "2017-11-22T00:00:00",
          "2017-12-06T00:00:00",
          "2017-12-21T00:00:00",
          "2017-12-24T00:00:00",
          "2017-12-06T00:00:00",
          "2017-11-04T00:00:00",
          "2017-11-27T00:00:00",
          "2017-11-08T00:00:00",
          "2017-11-04T00:00:00",
          "2017-11-05T00:00:00",
          "2017-11-24T00:00:00",
          "2017-11-10T00:00:00",
          "2017-11-13T00:00:00",
          "2017-11-07T00:00:00",
          "2017-11-30T00:00:00",
          "2017-11-13T00:00:00",
          "2017-11-29T00:00:00",
          "2017-11-07T00:00:00",
          "2017-11-28T00:00:00",
          "2017-11-14T00:00:00",
          "2017-11-09T00:00:00",
          "2017-11-28T00:00:00",
          "2017-11-12T00:00:00",
          "2017-11-12T00:00:00",
          "2017-12-02T00:00:00",
          "2017-12-12T00:00:00",
          "2017-12-30T00:00:00",
          "2017-12-10T00:00:00",
          "2017-11-07T00:00:00",
          "2017-11-10T00:00:00",
          "2017-11-10T00:00:00",
          "2017-11-03T00:00:00",
          "2017-11-06T00:00:00",
          "2017-11-06T00:00:00",
          "2017-11-21T00:00:00",
          "2017-12-18T00:00:00",
          "2017-11-12T00:00:00",
          "2017-11-10T00:00:00",
          "2017-11-03T00:00:00",
          "2017-11-06T00:00:00",
          "2017-11-09T00:00:00",
          "2017-11-10T00:00:00",
          "2017-11-12T00:00:00",
          "2017-11-26T00:00:00",
          "2017-11-06T00:00:00",
          "2017-11-16T00:00:00",
          "2017-12-05T00:00:00",
          "2017-11-04T00:00:00",
          "2017-12-07T00:00:00",
          "2017-12-02T00:00:00",
          "2017-11-13T00:00:00",
          "2017-11-14T00:00:00",
          "2017-11-06T00:00:00",
          "2017-11-06T00:00:00",
          "2017-11-11T00:00:00",
          "2017-11-28T00:00:00",
          "2017-12-12T00:00:00",
          "2017-11-06T00:00:00",
          "2017-11-06T00:00:00",
          "2017-11-13T00:00:00",
          "2017-11-18T00:00:00",
          "2017-11-09T00:00:00",
          "2017-12-06T00:00:00",
          "2017-11-26T00:00:00",
          "2017-11-10T00:00:00",
          "2017-11-20T00:00:00",
          "2017-11-07T00:00:00",
          "2017-11-06T00:00:00",
          "2017-11-06T00:00:00",
          "2017-11-17T00:00:00",
          "2017-12-20T00:00:00",
          "2017-12-11T00:00:00",
          "2017-11-15T00:00:00",
          "2017-11-05T00:00:00",
          "2017-12-21T00:00:00",
          "2017-11-08T00:00:00",
          "2017-11-19T00:00:00",
          "2017-11-28T00:00:00",
          "2017-12-15T00:00:00",
          "2017-11-08T00:00:00",
          "2017-12-14T00:00:00",
          "2017-12-25T00:00:00",
          "2017-11-04T00:00:00",
          "2017-12-21T00:00:00",
          "2017-11-09T00:00:00",
          "2017-12-11T00:00:00",
          "2017-11-22T00:00:00",
          "2017-11-07T00:00:00",
          "2017-11-03T00:00:00",
          "2017-11-03T00:00:00",
          "2017-12-18T00:00:00",
          "2017-12-25T00:00:00",
          "2017-12-12T00:00:00",
          "2017-11-06T00:00:00",
          "2017-11-29T00:00:00",
          "2017-12-03T00:00:00",
          "2017-11-18T00:00:00",
          "2017-12-22T00:00:00",
          "2017-11-04T00:00:00",
          "2017-12-19T00:00:00",
          "2017-11-10T00:00:00",
          "2017-11-08T00:00:00",
          "2017-11-19T00:00:00",
          "2017-11-08T00:00:00",
          "2017-11-04T00:00:00",
          "2017-11-16T00:00:00",
          "2017-12-30T00:00:00",
          "2017-12-27T00:00:00",
          "2017-11-17T00:00:00",
          "2017-11-12T00:00:00",
          "2017-11-13T00:00:00",
          "2017-12-06T00:00:00",
          "2017-11-06T00:00:00",
          "2017-11-06T00:00:00",
          "2017-11-07T00:00:00",
          "2017-11-03T00:00:00",
          "2017-11-20T00:00:00",
          "2017-11-10T00:00:00",
          "2017-12-15T00:00:00",
          "2017-12-20T00:00:00",
          "2017-11-06T00:00:00",
          "2017-11-16T00:00:00",
          "2017-12-15T00:00:00",
          "2017-12-21T00:00:00",
          "2017-12-25T00:00:00",
          "2017-11-06T00:00:00",
          "2017-11-06T00:00:00",
          "2017-11-18T00:00:00",
          "2017-11-10T00:00:00",
          "2017-12-07T00:00:00",
          "2017-11-17T00:00:00",
          "2017-11-18T00:00:00",
          "2017-11-09T00:00:00",
          "2017-11-03T00:00:00",
          "2017-12-06T00:00:00",
          "2017-11-09T00:00:00",
          "2017-11-06T00:00:00",
          "2017-12-06T00:00:00",
          "2017-11-12T00:00:00",
          "2017-11-13T00:00:00",
          "2017-12-11T00:00:00",
          "2017-11-21T00:00:00",
          "2017-11-07T00:00:00",
          "2017-11-04T00:00:00",
          "2017-11-13T00:00:00",
          "2017-12-01T00:00:00",
          "2017-12-03T00:00:00",
          "2017-11-13T00:00:00",
          "2017-11-09T00:00:00",
          "2017-11-08T00:00:00",
          "2017-11-15T00:00:00",
          "2017-11-12T00:00:00",
          "2017-11-03T00:00:00",
          "2017-11-11T00:00:00",
          "2017-11-09T00:00:00",
          "2017-12-07T00:00:00",
          "2017-11-06T00:00:00",
          "2017-12-16T00:00:00",
          "2017-12-02T00:00:00",
          "2017-11-04T00:00:00",
          "2017-12-01T00:00:00",
          "2017-12-14T00:00:00",
          "2017-11-07T00:00:00",
          "2017-12-25T00:00:00",
          "2017-11-03T00:00:00",
          "2017-11-05T00:00:00",
          "2017-12-06T00:00:00",
          "2017-11-04T00:00:00",
          "2017-12-29T00:00:00",
          "2017-11-11T00:00:00",
          "2017-11-10T00:00:00",
          "2017-11-08T00:00:00",
          "2017-11-03T00:00:00",
          "2017-12-06T00:00:00",
          "2017-11-06T00:00:00",
          "2017-11-28T00:00:00",
          "2017-11-06T00:00:00",
          "2017-12-22T00:00:00",
          "2017-11-19T00:00:00",
          "2017-11-03T00:00:00",
          "2017-12-23T00:00:00",
          "2017-11-12T00:00:00",
          "2017-12-11T00:00:00",
          "2017-11-10T00:00:00",
          "2017-11-13T00:00:00",
          "2017-11-13T00:00:00",
          "2017-12-06T00:00:00",
          "2017-12-21T00:00:00",
          "2017-11-13T00:00:00",
          "2017-11-09T00:00:00",
          "2017-11-06T00:00:00",
          "2017-12-07T00:00:00",
          "2017-11-06T00:00:00",
          "2017-12-09T00:00:00",
          "2017-11-06T00:00:00",
          "2017-11-14T00:00:00",
          "2017-11-10T00:00:00",
          "2017-11-20T00:00:00",
          "2017-11-08T00:00:00",
          "2017-11-24T00:00:00",
          "2017-11-05T00:00:00",
          "2017-12-07T00:00:00",
          "2017-11-21T00:00:00",
          "2017-11-09T00:00:00",
          "2017-12-07T00:00:00",
          "2017-11-06T00:00:00",
          "2017-11-04T00:00:00",
          "2017-11-03T00:00:00",
          "2017-11-03T00:00:00",
          "2017-12-10T00:00:00",
          "2017-12-31T00:00:00",
          "2017-11-25T00:00:00",
          "2017-12-01T00:00:00",
          "2017-12-08T00:00:00",
          "2017-11-20T00:00:00",
          "2017-11-06T00:00:00",
          "2017-12-15T00:00:00",
          "2017-12-06T00:00:00",
          "2017-11-22T00:00:00",
          "2017-11-04T00:00:00",
          "2017-12-13T00:00:00",
          "2017-12-01T00:00:00",
          "2017-12-13T00:00:00",
          "2017-11-21T00:00:00",
          "2017-11-10T00:00:00",
          "2017-11-03T00:00:00",
          "2017-11-09T00:00:00",
          "2017-11-13T00:00:00",
          "2017-11-18T00:00:00",
          "2017-11-22T00:00:00",
          "2017-12-03T00:00:00",
          "2017-11-19T00:00:00",
          "2017-12-30T00:00:00",
          "2017-11-03T00:00:00",
          "2017-11-08T00:00:00",
          "2017-11-15T00:00:00",
          "2017-11-08T00:00:00",
          "2017-11-08T00:00:00",
          "2017-12-10T00:00:00",
          "2017-12-11T00:00:00",
          "2017-11-03T00:00:00",
          "2017-11-21T00:00:00",
          "2017-11-09T00:00:00",
          "2017-11-19T00:00:00",
          "2017-12-19T00:00:00",
          "2017-11-10T00:00:00",
          "2017-11-17T00:00:00",
          "2017-12-13T00:00:00",
          "2017-11-15T00:00:00",
          "2017-12-27T00:00:00",
          "2017-11-22T00:00:00",
          "2017-11-21T00:00:00",
          "2017-11-09T00:00:00",
          "2017-12-10T00:00:00",
          "2017-12-29T00:00:00",
          "2017-12-03T00:00:00",
          "2017-12-18T00:00:00",
          "2017-11-07T00:00:00",
          "2017-11-03T00:00:00",
          "2017-12-22T00:00:00",
          "2017-12-01T00:00:00",
          "2017-11-03T00:00:00",
          "2017-11-23T00:00:00",
          "2017-12-20T00:00:00",
          "2017-11-06T00:00:00",
          "2017-11-29T00:00:00",
          "2017-12-26T00:00:00",
          "2017-11-09T00:00:00",
          "2017-11-03T00:00:00",
          "2017-11-09T00:00:00",
          "2017-11-06T00:00:00",
          "2017-12-10T00:00:00",
          "2017-11-08T00:00:00",
          "2017-12-26T00:00:00",
          "2017-11-03T00:00:00",
          "2017-12-04T00:00:00",
          "2017-11-04T00:00:00",
          "2017-11-08T00:00:00",
          "2017-11-21T00:00:00",
          "2017-12-06T00:00:00",
          "2017-11-10T00:00:00",
          "2017-12-08T00:00:00",
          "2017-11-06T00:00:00",
          "2017-11-19T00:00:00",
          "2017-12-04T00:00:00",
          "2017-11-14T00:00:00",
          "2017-11-04T00:00:00",
          "2017-11-26T00:00:00",
          "2017-12-10T00:00:00",
          "2017-11-30T00:00:00",
          "2017-11-25T00:00:00",
          "2017-12-12T00:00:00",
          "2017-11-27T00:00:00",
          "2017-12-01T00:00:00",
          "2017-11-03T00:00:00",
          "2017-11-28T00:00:00",
          "2017-12-08T00:00:00",
          "2017-12-11T00:00:00",
          "2017-11-03T00:00:00",
          "2017-11-14T00:00:00",
          "2017-12-21T00:00:00",
          "2017-11-09T00:00:00",
          "2017-11-10T00:00:00",
          "2017-11-15T00:00:00",
          "2017-12-20T00:00:00",
          "2017-11-06T00:00:00",
          "2017-11-24T00:00:00",
          "2017-11-28T00:00:00",
          "2017-11-07T00:00:00",
          "2017-11-06T00:00:00",
          "2017-12-14T00:00:00",
          "2017-11-09T00:00:00",
          "2017-11-17T00:00:00",
          "2017-12-21T00:00:00",
          "2017-12-01T00:00:00",
          "2017-11-03T00:00:00",
          "2017-12-05T00:00:00",
          "2017-12-04T00:00:00",
          "2017-12-29T00:00:00",
          "2017-12-30T00:00:00",
          "2017-12-05T00:00:00",
          "2017-11-06T00:00:00",
          "2017-12-16T00:00:00",
          "2017-11-07T00:00:00",
          "2017-12-27T00:00:00",
          "2017-11-08T00:00:00",
          "2017-11-21T00:00:00",
          "2017-11-08T00:00:00",
          "2017-12-03T00:00:00",
          "2017-11-07T00:00:00",
          "2017-12-05T00:00:00",
          "2017-11-20T00:00:00",
          "2017-11-12T00:00:00",
          "2017-11-25T00:00:00",
          "2017-11-20T00:00:00",
          "2017-11-06T00:00:00",
          "2017-11-29T00:00:00",
          "2017-11-06T00:00:00",
          "2017-11-15T00:00:00",
          "2017-11-05T00:00:00",
          "2017-12-01T00:00:00",
          "2017-12-30T00:00:00",
          "2017-11-23T00:00:00",
          "2017-11-09T00:00:00",
          "2017-12-21T00:00:00",
          "2017-11-09T00:00:00",
          "2017-11-18T00:00:00",
          "2017-12-08T00:00:00",
          "2017-11-07T00:00:00",
          "2017-11-06T00:00:00",
          "2017-12-11T00:00:00",
          "2017-12-04T00:00:00",
          "2017-11-28T00:00:00",
          "2017-11-27T00:00:00",
          "2017-11-12T00:00:00",
          "2017-11-06T00:00:00",
          "2017-11-10T00:00:00",
          "2017-12-18T00:00:00",
          "2017-12-08T00:00:00",
          "2017-12-21T00:00:00",
          "2017-12-21T00:00:00",
          "2017-12-24T00:00:00",
          "2017-11-13T00:00:00",
          "2017-11-08T00:00:00",
          "2017-12-17T00:00:00",
          "2017-11-06T00:00:00",
          "2017-11-21T00:00:00",
          "2017-11-03T00:00:00",
          "2017-11-25T00:00:00",
          "2017-11-24T00:00:00",
          "2017-11-06T00:00:00",
          "2017-11-13T00:00:00",
          "2017-12-06T00:00:00",
          "2017-11-30T00:00:00",
          "2017-11-28T00:00:00",
          "2017-12-20T00:00:00",
          "2017-11-09T00:00:00",
          "2017-11-26T00:00:00",
          "2017-12-13T00:00:00",
          "2017-11-14T00:00:00",
          "2017-11-08T00:00:00",
          "2017-11-22T00:00:00",
          "2017-12-09T00:00:00",
          "2017-11-23T00:00:00",
          "2017-11-29T00:00:00",
          "2017-11-15T00:00:00",
          "2017-11-13T00:00:00",
          "2017-12-14T00:00:00",
          "2017-11-19T00:00:00",
          "2017-11-11T00:00:00",
          "2017-11-22T00:00:00",
          "2017-11-14T00:00:00",
          "2017-11-09T00:00:00",
          "2017-11-12T00:00:00",
          "2017-11-25T00:00:00",
          "2017-11-21T00:00:00",
          "2017-11-16T00:00:00",
          "2017-12-04T00:00:00",
          "2017-11-12T00:00:00",
          "2017-12-21T00:00:00",
          "2017-11-04T00:00:00",
          "2017-12-05T00:00:00",
          "2017-11-05T00:00:00",
          "2017-11-05T00:00:00",
          "2017-11-14T00:00:00",
          "2017-11-27T00:00:00",
          "2017-11-21T00:00:00",
          "2017-11-20T00:00:00",
          "2017-11-03T00:00:00",
          "2017-12-13T00:00:00",
          "2017-11-03T00:00:00",
          "2017-11-07T00:00:00",
          "2017-12-25T00:00:00",
          "2017-11-27T00:00:00",
          "2017-11-06T00:00:00",
          "2017-12-21T00:00:00",
          "2017-12-04T00:00:00",
          "2017-12-10T00:00:00",
          "2017-12-07T00:00:00",
          "2017-11-06T00:00:00",
          "2017-11-18T00:00:00",
          "2017-12-08T00:00:00",
          "2017-12-06T00:00:00",
          "2017-12-08T00:00:00",
          "2017-12-11T00:00:00",
          "2017-11-29T00:00:00",
          "2017-11-22T00:00:00",
          "2017-11-21T00:00:00",
          "2017-12-21T00:00:00",
          "2017-12-26T00:00:00",
          "2017-11-15T00:00:00",
          "2017-11-06T00:00:00",
          "2017-12-08T00:00:00",
          "2017-11-10T00:00:00",
          "2017-11-11T00:00:00",
          "2017-12-01T00:00:00",
          "2017-11-08T00:00:00",
          "2017-12-21T00:00:00",
          "2017-12-04T00:00:00",
          "2017-11-11T00:00:00",
          "2017-11-13T00:00:00",
          "2017-11-06T00:00:00",
          "2017-11-09T00:00:00",
          "2017-11-04T00:00:00",
          "2017-11-22T00:00:00",
          "2017-12-07T00:00:00",
          "2017-11-04T00:00:00",
          "2017-11-03T00:00:00",
          "2017-12-20T00:00:00",
          "2017-11-10T00:00:00",
          "2017-12-18T00:00:00",
          "2017-11-13T00:00:00",
          "2017-11-12T00:00:00",
          "2017-11-12T00:00:00",
          "2017-11-06T00:00:00",
          "2017-11-08T00:00:00",
          "2017-12-21T00:00:00",
          "2017-11-18T00:00:00",
          "2017-11-22T00:00:00",
          "2017-12-22T00:00:00",
          "2017-11-04T00:00:00",
          "2017-11-12T00:00:00",
          "2017-11-16T00:00:00",
          "2017-11-07T00:00:00",
          "2017-11-17T00:00:00",
          "2017-11-27T00:00:00",
          "2017-12-07T00:00:00",
          "2017-12-07T00:00:00",
          "2017-12-02T00:00:00",
          "2017-11-07T00:00:00",
          "2017-12-08T00:00:00",
          "2017-11-08T00:00:00",
          "2017-11-23T00:00:00",
          "2017-11-09T00:00:00",
          "2017-11-12T00:00:00",
          "2017-11-14T00:00:00",
          "2017-12-09T00:00:00",
          "2017-11-29T00:00:00",
          "2017-12-04T00:00:00",
          "2017-12-14T00:00:00",
          "2017-12-12T00:00:00",
          "2017-11-08T00:00:00",
          "2017-11-04T00:00:00",
          "2017-11-15T00:00:00",
          "2017-11-03T00:00:00",
          "2017-11-22T00:00:00",
          "2017-11-10T00:00:00",
          "2017-11-03T00:00:00",
          "2017-11-29T00:00:00",
          "2017-11-03T00:00:00",
          "2017-12-18T00:00:00",
          "2017-11-10T00:00:00",
          "2017-11-06T00:00:00",
          "2017-12-21T00:00:00",
          "2017-11-21T00:00:00",
          "2017-11-04T00:00:00",
          "2017-11-07T00:00:00",
          "2017-12-07T00:00:00",
          "2017-12-07T00:00:00",
          "2017-12-05T00:00:00",
          "2017-11-07T00:00:00",
          "2017-11-09T00:00:00",
          "2017-12-04T00:00:00",
          "2017-11-08T00:00:00",
          "2017-11-28T00:00:00",
          "2017-12-30T00:00:00",
          "2017-11-30T00:00:00",
          "2017-11-06T00:00:00",
          "2017-12-13T00:00:00",
          "2017-11-05T00:00:00",
          "2017-11-07T00:00:00",
          "2017-12-08T00:00:00",
          "2017-11-22T00:00:00",
          "2017-12-12T00:00:00",
          "2017-11-14T00:00:00",
          "2017-11-28T00:00:00",
          "2018-01-30T00:00:00",
          "2018-01-11T00:00:00",
          "2018-03-08T00:00:00",
          "2018-02-06T00:00:00",
          "2018-02-12T00:00:00",
          "2018-02-20T00:00:00",
          "2018-02-05T00:00:00",
          "2018-02-28T00:00:00",
          "2018-01-09T00:00:00",
          "2018-03-07T00:00:00",
          "2018-02-15T00:00:00",
          "2018-02-13T00:00:00",
          "2018-01-18T00:00:00",
          "2018-03-12T00:00:00",
          "2018-02-01T00:00:00",
          "2018-01-02T00:00:00",
          "2018-01-01T00:00:00",
          "2018-03-02T00:00:00",
          "2018-01-09T00:00:00",
          "2018-03-13T00:00:00",
          "2018-03-14T00:00:00",
          "2018-02-16T00:00:00",
          "2018-01-08T00:00:00",
          "2018-01-18T00:00:00",
          "2018-02-19T00:00:00",
          "2018-02-28T00:00:00",
          "2018-01-04T00:00:00",
          "2018-02-26T00:00:00",
          "2018-02-05T00:00:00",
          "2018-01-10T00:00:00",
          "2018-02-12T00:00:00",
          "2018-02-26T00:00:00",
          "2018-03-07T00:00:00",
          "2018-02-21T00:00:00",
          "2018-03-05T00:00:00",
          "2018-01-13T00:00:00",
          "2018-02-01T00:00:00",
          "2018-02-19T00:00:00",
          "2018-02-09T00:00:00",
          "2018-02-20T00:00:00",
          "2018-03-12T00:00:00",
          "2018-02-23T00:00:00",
          "2018-01-07T00:00:00",
          "2018-02-07T00:00:00",
          "2018-03-07T00:00:00",
          "2018-02-10T00:00:00",
          "2018-01-31T00:00:00",
          "2018-03-04T00:00:00",
          "2018-03-08T00:00:00",
          "2018-03-15T00:00:00",
          "2018-01-11T00:00:00",
          "2018-01-11T00:00:00",
          "2018-02-14T00:00:00",
          "2018-02-22T00:00:00",
          "2018-02-10T00:00:00",
          "2018-02-10T00:00:00",
          "2018-03-15T00:00:00",
          "2018-02-08T00:00:00",
          "2018-02-06T00:00:00",
          "2018-02-19T00:00:00",
          "2018-03-01T00:00:00",
          "2018-03-15T00:00:00",
          "2018-03-09T00:00:00",
          "2018-01-17T00:00:00",
          "2018-02-14T00:00:00",
          "2018-02-16T00:00:00",
          "2018-01-08T00:00:00",
          "2018-01-17T00:00:00",
          "2018-02-12T00:00:00",
          "2018-01-02T00:00:00",
          "2018-02-19T00:00:00",
          "2018-01-12T00:00:00",
          "2018-02-20T00:00:00",
          "2018-01-11T00:00:00",
          "2018-03-12T00:00:00",
          "2018-02-28T00:00:00",
          "2018-02-27T00:00:00",
          "2018-02-09T00:00:00",
          "2018-02-15T00:00:00",
          "2018-01-16T00:00:00",
          "2018-01-11T00:00:00",
          "2018-01-25T00:00:00",
          "2018-01-19T00:00:00",
          "2018-01-13T00:00:00",
          "2018-01-25T00:00:00",
          "2018-01-19T00:00:00",
          "2018-03-09T00:00:00",
          "2018-03-13T00:00:00",
          "2018-02-10T00:00:00",
          "2018-01-23T00:00:00",
          "2018-03-12T00:00:00",
          "2018-02-06T00:00:00",
          "2018-03-11T00:00:00",
          "2018-01-12T00:00:00",
          "2018-03-08T00:00:00",
          "2018-03-06T00:00:00",
          "2018-01-31T00:00:00",
          "2018-02-18T00:00:00",
          "2018-01-12T00:00:00",
          "2018-03-14T00:00:00",
          "2018-01-25T00:00:00",
          "2018-01-20T00:00:00",
          "2018-01-31T00:00:00",
          "2018-01-16T00:00:00",
          "2018-02-22T00:00:00",
          "2018-03-04T00:00:00",
          "2018-03-12T00:00:00",
          "2018-01-30T00:00:00",
          "2018-03-08T00:00:00",
          "2018-01-19T00:00:00",
          "2018-03-08T00:00:00",
          "2018-02-24T00:00:00",
          "2018-01-17T00:00:00",
          "2018-03-08T00:00:00",
          "2018-03-14T00:00:00",
          "2018-01-18T00:00:00",
          "2018-02-23T00:00:00",
          "2018-02-08T00:00:00",
          "2018-01-11T00:00:00",
          "2018-02-22T00:00:00",
          "2018-02-17T00:00:00",
          "2018-02-24T00:00:00",
          "2018-02-21T00:00:00",
          "2018-01-05T00:00:00",
          "2018-02-16T00:00:00",
          "2018-01-24T00:00:00",
          "2018-02-05T00:00:00",
          "2018-03-08T00:00:00",
          "2018-02-06T00:00:00",
          "2018-02-13T00:00:00",
          "2018-02-26T00:00:00",
          "2018-01-09T00:00:00",
          "2018-02-21T00:00:00",
          "2018-03-15T00:00:00",
          "2018-03-09T00:00:00",
          "2018-01-16T00:00:00",
          "2018-02-26T00:00:00",
          "2018-02-25T00:00:00",
          "2018-01-09T00:00:00",
          "2018-01-02T00:00:00",
          "2018-02-15T00:00:00",
          "2018-01-05T00:00:00",
          "2018-01-15T00:00:00",
          "2018-03-10T00:00:00",
          "2018-03-06T00:00:00",
          "2018-02-19T00:00:00",
          "2018-01-02T00:00:00",
          "2018-02-17T00:00:00",
          "2018-02-13T00:00:00",
          "2018-02-26T00:00:00",
          "2018-01-15T00:00:00",
          "2018-02-02T00:00:00",
          "2018-01-04T00:00:00",
          "2018-03-08T00:00:00",
          "2018-02-22T00:00:00",
          "2018-01-03T00:00:00",
          "2018-02-02T00:00:00",
          "2018-01-17T00:00:00",
          "2018-02-15T00:00:00",
          "2018-03-03T00:00:00",
          "2018-02-04T00:00:00",
          "2018-01-28T00:00:00",
          "2018-02-11T00:00:00",
          "2018-02-22T00:00:00",
          "2018-01-31T00:00:00",
          "2018-03-14T00:00:00",
          "2018-01-16T00:00:00",
          "2018-01-08T00:00:00",
          "2018-02-28T00:00:00",
          "2018-01-13T00:00:00",
          "2018-03-06T00:00:00",
          "2018-01-05T00:00:00",
          "2018-03-12T00:00:00",
          "2018-03-14T00:00:00",
          "2018-02-11T00:00:00",
          "2018-01-03T00:00:00",
          "2018-02-20T00:00:00",
          "2018-02-05T00:00:00",
          "2018-02-27T00:00:00",
          "2018-01-11T00:00:00",
          "2018-02-22T00:00:00",
          "2018-01-06T00:00:00",
          "2018-01-01T00:00:00",
          "2018-02-14T00:00:00",
          "2018-03-15T00:00:00",
          "2018-02-21T00:00:00",
          "2018-01-19T00:00:00",
          "2018-02-14T00:00:00",
          "2018-02-15T00:00:00",
          "2018-01-23T00:00:00",
          "2018-03-08T00:00:00",
          "2018-01-15T00:00:00",
          "2018-01-14T00:00:00",
          "2018-02-18T00:00:00",
          "2018-02-07T00:00:00",
          "2018-02-17T00:00:00",
          "2018-03-10T00:00:00",
          "2018-01-02T00:00:00",
          "2018-01-23T00:00:00",
          "2018-01-19T00:00:00",
          "2018-02-09T00:00:00",
          "2018-02-16T00:00:00",
          "2018-01-29T00:00:00",
          "2018-03-13T00:00:00",
          "2018-01-25T00:00:00",
          "2018-03-08T00:00:00",
          "2018-02-01T00:00:00",
          "2018-02-22T00:00:00",
          "2018-03-13T00:00:00",
          "2018-02-07T00:00:00",
          "2018-01-06T00:00:00",
          "2018-03-13T00:00:00",
          "2018-02-16T00:00:00",
          "2018-01-19T00:00:00",
          "2018-01-18T00:00:00",
          "2018-02-14T00:00:00",
          "2018-01-16T00:00:00",
          "2018-01-22T00:00:00",
          "2018-02-10T00:00:00",
          "2018-01-28T00:00:00",
          "2018-02-12T00:00:00",
          "2018-02-14T00:00:00",
          "2018-02-26T00:00:00",
          "2018-02-23T00:00:00",
          "2018-02-26T00:00:00",
          "2018-01-11T00:00:00",
          "2018-03-14T00:00:00",
          "2018-02-21T00:00:00",
          "2018-03-08T00:00:00",
          "2018-03-15T00:00:00",
          "2018-02-28T00:00:00",
          "2018-03-12T00:00:00",
          "2018-01-27T00:00:00",
          "2018-02-08T00:00:00",
          "2018-01-29T00:00:00",
          "2018-03-15T00:00:00",
          "2018-03-04T00:00:00",
          "2018-02-19T00:00:00",
          "2018-03-12T00:00:00",
          "2018-02-10T00:00:00",
          "2018-01-08T00:00:00",
          "2018-01-21T00:00:00",
          "2018-02-16T00:00:00",
          "2018-03-15T00:00:00",
          "2018-02-13T00:00:00",
          "2018-01-07T00:00:00",
          "2018-02-23T00:00:00",
          "2018-02-02T00:00:00",
          "2018-03-08T00:00:00",
          "2018-02-21T00:00:00",
          "2018-02-09T00:00:00",
          "2018-02-07T00:00:00",
          "2018-02-12T00:00:00",
          "2018-01-08T00:00:00",
          "2018-01-23T00:00:00",
          "2018-03-09T00:00:00",
          "2018-02-10T00:00:00",
          "2018-03-02T00:00:00",
          "2018-01-19T00:00:00",
          "2018-02-27T00:00:00",
          "2018-03-11T00:00:00",
          "2018-01-31T00:00:00",
          "2018-03-12T00:00:00",
          "2018-03-13T00:00:00",
          "2018-02-03T00:00:00",
          "2018-03-08T00:00:00",
          "2018-03-15T00:00:00",
          "2018-02-21T00:00:00",
          "2018-01-13T00:00:00",
          "2018-01-02T00:00:00",
          "2018-02-27T00:00:00",
          "2018-02-11T00:00:00",
          "2018-01-04T00:00:00",
          "2018-01-08T00:00:00",
          "2018-01-09T00:00:00",
          "2018-03-12T00:00:00",
          "2018-03-08T00:00:00",
          "2018-02-09T00:00:00",
          "2018-01-11T00:00:00",
          "2018-02-15T00:00:00",
          "2018-03-08T00:00:00",
          "2018-03-04T00:00:00",
          "2018-01-23T00:00:00",
          "2018-03-02T00:00:00",
          "2018-01-24T00:00:00",
          "2018-02-21T00:00:00",
          "2018-01-25T00:00:00",
          "2018-01-11T00:00:00",
          "2018-03-06T00:00:00",
          "2018-02-07T00:00:00",
          "2018-03-08T00:00:00",
          "2018-01-08T00:00:00",
          "2018-02-26T00:00:00",
          "2018-01-01T00:00:00",
          "2018-01-28T00:00:00",
          "2018-02-20T00:00:00",
          "2018-01-02T00:00:00",
          "2018-03-13T00:00:00",
          "2018-02-21T00:00:00",
          "2018-03-08T00:00:00",
          "2018-02-01T00:00:00",
          "2018-01-28T00:00:00",
          "2018-03-09T00:00:00",
          "2018-02-12T00:00:00",
          "2018-03-10T00:00:00",
          "2018-01-09T00:00:00",
          "2018-01-08T00:00:00",
          "2018-02-13T00:00:00",
          "2018-02-15T00:00:00",
          "2018-03-15T00:00:00",
          "2018-01-15T00:00:00",
          "2018-02-20T00:00:00",
          "2018-03-09T00:00:00",
          "2018-01-09T00:00:00",
          "2018-01-02T00:00:00",
          "2018-01-30T00:00:00",
          "2018-02-28T00:00:00",
          "2018-03-13T00:00:00",
          "2018-02-11T00:00:00",
          "2018-02-27T00:00:00",
          "2018-02-27T00:00:00",
          "2018-01-31T00:00:00",
          "2018-02-28T00:00:00",
          "2018-02-21T00:00:00",
          "2018-03-05T00:00:00",
          "2018-02-20T00:00:00",
          "2018-02-07T00:00:00",
          "2018-02-15T00:00:00",
          "2018-01-11T00:00:00",
          "2018-01-19T00:00:00",
          "2018-01-26T00:00:00",
          "2018-01-19T00:00:00",
          "2018-01-08T00:00:00",
          "2018-02-01T00:00:00",
          "2018-02-28T00:00:00",
          "2018-01-11T00:00:00",
          "2018-02-22T00:00:00",
          "2018-02-16T00:00:00",
          "2018-02-22T00:00:00",
          "2018-03-13T00:00:00",
          "2018-02-27T00:00:00",
          "2018-02-14T00:00:00",
          "2018-02-05T00:00:00",
          "2018-02-05T00:00:00",
          "2018-02-23T00:00:00",
          "2018-01-02T00:00:00",
          "2018-02-09T00:00:00",
          "2018-01-02T00:00:00",
          "2018-01-23T00:00:00",
          "2018-02-06T00:00:00",
          "2018-03-12T00:00:00",
          "2018-03-07T00:00:00",
          "2018-02-28T00:00:00",
          "2018-01-07T00:00:00",
          "2018-03-01T00:00:00",
          "2018-01-02T00:00:00",
          "2018-03-14T00:00:00",
          "2018-03-13T00:00:00",
          "2018-03-07T00:00:00",
          "2018-01-11T00:00:00",
          "2018-02-08T00:00:00",
          "2018-02-27T00:00:00",
          "2018-01-09T00:00:00",
          "2018-03-07T00:00:00",
          "2018-03-13T00:00:00",
          "2018-03-08T00:00:00",
          "2018-02-27T00:00:00",
          "2018-02-19T00:00:00",
          "2018-02-13T00:00:00",
          "2018-01-11T00:00:00",
          "2018-02-02T00:00:00",
          "2018-01-09T00:00:00",
          "2018-02-13T00:00:00",
          "2018-01-31T00:00:00",
          "2018-01-08T00:00:00",
          "2018-01-28T00:00:00",
          "2018-03-08T00:00:00",
          "2018-02-22T00:00:00",
          "2018-03-02T00:00:00",
          "2018-01-01T00:00:00",
          "2018-01-15T00:00:00",
          "2018-03-14T00:00:00",
          "2018-02-20T00:00:00",
          "2018-02-12T00:00:00",
          "2018-01-03T00:00:00",
          "2018-02-10T00:00:00",
          "2018-01-01T00:00:00",
          "2018-02-09T00:00:00",
          "2018-02-05T00:00:00",
          "2018-03-02T00:00:00",
          "2018-01-03T00:00:00",
          "2018-02-15T00:00:00",
          "2018-03-15T00:00:00",
          "2018-01-18T00:00:00",
          "2018-02-07T00:00:00",
          "2018-02-28T00:00:00",
          "2018-03-08T00:00:00",
          "2018-03-12T00:00:00",
          "2018-01-29T00:00:00",
          "2018-03-13T00:00:00",
          "2018-02-14T00:00:00",
          "2018-01-08T00:00:00",
          "2018-02-19T00:00:00",
          "2018-02-25T00:00:00",
          "2018-01-19T00:00:00",
          "2018-02-24T00:00:00",
          "2018-01-07T00:00:00",
          "2018-01-30T00:00:00",
          "2018-02-15T00:00:00",
          "2018-02-02T00:00:00",
          "2018-01-11T00:00:00",
          "2018-01-27T00:00:00",
          "2018-01-25T00:00:00",
          "2018-02-15T00:00:00",
          "2018-02-26T00:00:00",
          "2018-01-07T00:00:00",
          "2018-01-06T00:00:00",
          "2018-01-30T00:00:00",
          "2018-01-11T00:00:00",
          "2018-03-03T00:00:00",
          "2018-01-15T00:00:00",
          "2018-02-13T00:00:00",
          "2018-02-15T00:00:00",
          "2018-01-11T00:00:00",
          "2018-03-08T00:00:00",
          "2018-02-28T00:00:00",
          "2018-03-12T00:00:00",
          "2018-02-11T00:00:00",
          "2018-02-09T00:00:00",
          "2018-02-20T00:00:00",
          "2018-01-04T00:00:00",
          "2018-01-08T00:00:00",
          "2018-02-17T00:00:00",
          "2018-02-15T00:00:00",
          "2018-02-26T00:00:00",
          "2018-03-10T00:00:00",
          "2018-02-10T00:00:00",
          "2018-03-05T00:00:00",
          "2018-01-03T00:00:00",
          "2018-01-05T00:00:00",
          "2018-01-04T00:00:00",
          "2018-01-16T00:00:00",
          "2018-01-26T00:00:00",
          "2018-01-25T00:00:00",
          "2018-03-08T00:00:00",
          "2018-01-05T00:00:00",
          "2018-01-14T00:00:00",
          "2018-01-08T00:00:00",
          "2018-02-21T00:00:00",
          "2018-01-31T00:00:00",
          "2018-02-26T00:00:00",
          "2018-01-20T00:00:00",
          "2018-02-24T00:00:00",
          "2018-02-12T00:00:00",
          "2018-03-07T00:00:00",
          "2018-02-06T00:00:00",
          "2018-03-08T00:00:00",
          "2018-01-19T00:00:00",
          "2018-03-10T00:00:00",
          "2018-01-10T00:00:00",
          "2018-03-11T00:00:00",
          "2018-02-26T00:00:00",
          "2018-02-05T00:00:00",
          "2018-03-08T00:00:00",
          "2018-03-02T00:00:00",
          "2018-03-14T00:00:00",
          "2018-02-01T00:00:00",
          "2018-03-02T00:00:00",
          "2018-02-02T00:00:00",
          "2018-01-03T00:00:00",
          "2018-02-15T00:00:00",
          "2018-01-28T00:00:00",
          "2018-03-10T00:00:00",
          "2018-03-12T00:00:00",
          "2018-03-12T00:00:00",
          "2018-01-03T00:00:00",
          "2018-01-17T00:00:00",
          "2018-02-10T00:00:00",
          "2018-03-03T00:00:00",
          "2018-03-11T00:00:00",
          "2018-01-19T00:00:00",
          "2018-02-07T00:00:00",
          "2018-02-09T00:00:00",
          "2018-02-19T00:00:00",
          "2018-01-31T00:00:00",
          "2018-01-02T00:00:00",
          "2018-02-05T00:00:00",
          "2018-03-15T00:00:00",
          "2018-02-27T00:00:00",
          "2018-02-16T00:00:00",
          "2018-01-12T00:00:00",
          "2018-02-19T00:00:00",
          "2018-02-19T00:00:00",
          "2018-01-07T00:00:00",
          "2018-03-09T00:00:00",
          "2018-01-11T00:00:00",
          "2018-02-25T00:00:00",
          "2018-01-20T00:00:00",
          "2018-02-07T00:00:00",
          "2018-03-03T00:00:00",
          "2018-02-08T00:00:00",
          "2018-01-01T00:00:00",
          "2018-01-10T00:00:00",
          "2018-02-20T00:00:00",
          "2018-02-15T00:00:00",
          "2018-01-13T00:00:00",
          "2018-02-07T00:00:00",
          "2018-03-12T00:00:00",
          "2018-02-07T00:00:00",
          "2018-03-01T00:00:00",
          "2018-02-22T00:00:00",
          "2018-02-16T00:00:00",
          "2018-03-01T00:00:00",
          "2018-01-25T00:00:00",
          "2018-01-31T00:00:00",
          "2018-02-26T00:00:00",
          "2018-01-28T00:00:00",
          "2018-03-09T00:00:00",
          "2018-02-07T00:00:00",
          "2018-01-14T00:00:00",
          "2018-01-23T00:00:00",
          "2018-01-05T00:00:00",
          "2018-01-22T00:00:00",
          "2018-01-03T00:00:00",
          "2018-02-05T00:00:00",
          "2018-02-15T00:00:00",
          "2018-01-24T00:00:00",
          "2018-03-06T00:00:00",
          "2018-02-20T00:00:00",
          "2018-03-07T00:00:00",
          "2018-03-06T00:00:00",
          "2018-01-24T00:00:00",
          "2018-02-23T00:00:00",
          "2018-02-08T00:00:00",
          "2018-01-25T00:00:00",
          "2018-01-01T00:00:00",
          "2018-01-23T00:00:00",
          "2018-01-29T00:00:00",
          "2018-02-26T00:00:00",
          "2018-01-24T00:00:00",
          "2018-01-24T00:00:00",
          "2018-01-16T00:00:00",
          "2018-01-11T00:00:00",
          "2018-02-10T00:00:00",
          "2018-01-08T00:00:00",
          "2018-02-16T00:00:00",
          "2018-02-08T00:00:00",
          "2018-02-09T00:00:00",
          "2018-02-02T00:00:00",
          "2018-01-11T00:00:00",
          "2018-02-16T00:00:00",
          "2018-01-16T00:00:00",
          "2018-03-13T00:00:00",
          "2018-01-07T00:00:00",
          "2018-03-14T00:00:00",
          "2018-02-16T00:00:00",
          "2018-02-19T00:00:00",
          "2018-01-18T00:00:00",
          "2018-03-09T00:00:00",
          "2018-01-08T00:00:00",
          "2018-01-17T00:00:00",
          "2018-01-25T00:00:00",
          "2018-01-08T00:00:00",
          "2018-01-01T00:00:00",
          "2018-02-20T00:00:00",
          "2018-01-30T00:00:00",
          "2018-01-03T00:00:00",
          "2018-03-12T00:00:00",
          "2018-02-20T00:00:00",
          "2018-01-14T00:00:00",
          "2018-02-07T00:00:00",
          "2018-02-27T00:00:00",
          "2018-03-14T00:00:00",
          "2018-03-15T00:00:00",
          "2018-01-08T00:00:00",
          "2018-01-08T00:00:00",
          "2018-03-08T00:00:00",
          "2018-02-16T00:00:00",
          "2018-02-12T00:00:00",
          "2018-01-30T00:00:00",
          "2018-01-25T00:00:00",
          "2018-02-26T00:00:00",
          "2018-01-24T00:00:00",
          "2018-02-21T00:00:00",
          "2018-03-05T00:00:00",
          "2018-01-08T00:00:00",
          "2018-02-10T00:00:00",
          "2018-02-16T00:00:00",
          "2018-03-04T00:00:00",
          "2018-01-23T00:00:00",
          "2018-01-18T00:00:00",
          "2018-01-03T00:00:00",
          "2018-01-12T00:00:00",
          "2018-01-26T00:00:00",
          "2018-01-06T00:00:00",
          "2018-01-18T00:00:00",
          "2018-01-10T00:00:00",
          "2018-02-06T00:00:00",
          "2018-01-21T00:00:00",
          "2018-02-26T00:00:00",
          "2018-02-02T00:00:00",
          "2018-03-12T00:00:00",
          "2018-02-22T00:00:00",
          "2018-02-27T00:00:00",
          "2018-01-18T00:00:00",
          "2018-03-13T00:00:00",
          "2018-01-16T00:00:00",
          "2018-03-01T00:00:00",
          "2018-02-13T00:00:00",
          "2018-03-07T00:00:00",
          "2018-02-09T00:00:00",
          "2018-01-24T00:00:00",
          "2018-01-24T00:00:00",
          "2018-02-18T00:00:00",
          "2018-01-10T00:00:00",
          "2018-02-07T00:00:00",
          "2018-01-06T00:00:00",
          "2018-03-04T00:00:00",
          "2018-01-11T00:00:00",
          "2018-03-15T00:00:00",
          "2018-01-09T00:00:00",
          "2018-02-19T00:00:00",
          "2018-01-02T00:00:00",
          "2018-02-19T00:00:00",
          "2018-02-26T00:00:00",
          "2018-02-16T00:00:00",
          "2018-01-31T00:00:00",
          "2018-03-13T00:00:00",
          "2018-02-22T00:00:00",
          "2018-01-26T00:00:00",
          "2018-01-17T00:00:00",
          "2018-01-11T00:00:00",
          "2018-02-22T00:00:00",
          "2018-01-22T00:00:00",
          "2018-01-23T00:00:00",
          "2018-01-11T00:00:00",
          "2018-03-07T00:00:00",
          "2018-02-12T00:00:00",
          "2018-02-02T00:00:00",
          "2018-01-16T00:00:00",
          "2018-01-07T00:00:00",
          "2018-01-09T00:00:00",
          "2018-03-12T00:00:00",
          "2018-01-24T00:00:00",
          "2018-01-16T00:00:00",
          "2018-01-11T00:00:00",
          "2018-02-26T00:00:00",
          "2018-02-17T00:00:00",
          "2018-03-14T00:00:00",
          "2018-02-14T00:00:00",
          "2018-03-02T00:00:00",
          "2018-01-08T00:00:00",
          "2018-01-11T00:00:00",
          "2018-01-11T00:00:00",
          "2018-02-08T00:00:00",
          "2018-02-26T00:00:00",
          "2018-03-15T00:00:00",
          "2018-01-03T00:00:00",
          "2018-03-05T00:00:00",
          "2018-02-26T00:00:00",
          "2018-01-07T00:00:00",
          "2018-03-09T00:00:00",
          "2018-02-16T00:00:00",
          "2018-01-04T00:00:00",
          "2018-03-10T00:00:00",
          "2018-03-06T00:00:00",
          "2018-01-24T00:00:00",
          "2018-01-29T00:00:00",
          "2018-02-28T00:00:00",
          "2018-01-24T00:00:00",
          "2018-02-26T00:00:00",
          "2018-03-13T00:00:00",
          "2018-01-28T00:00:00",
          "2018-02-20T00:00:00",
          "2018-02-11T00:00:00",
          "2018-01-15T00:00:00",
          "2018-01-23T00:00:00",
          "2018-01-15T00:00:00",
          "2018-03-12T00:00:00",
          "2018-03-12T00:00:00",
          "2018-01-23T00:00:00",
          "2018-01-18T00:00:00",
          "2018-01-11T00:00:00",
          "2018-02-25T00:00:00",
          "2018-02-19T00:00:00",
          "2018-01-22T00:00:00",
          "2018-03-01T00:00:00",
          "2018-01-27T00:00:00",
          "2018-01-17T00:00:00",
          "2018-03-14T00:00:00",
          "2018-02-14T00:00:00",
          "2018-01-16T00:00:00",
          "2018-01-27T00:00:00",
          "2018-03-07T00:00:00",
          "2018-02-02T00:00:00",
          "2018-02-11T00:00:00",
          "2018-02-26T00:00:00",
          "2018-02-16T00:00:00",
          "2018-02-07T00:00:00",
          "2018-01-02T00:00:00",
          "2018-03-15T00:00:00",
          "2018-01-14T00:00:00",
          "2018-02-20T00:00:00",
          "2018-01-14T00:00:00",
          "2018-02-13T00:00:00",
          "2018-01-24T00:00:00",
          "2018-03-06T00:00:00",
          "2018-03-12T00:00:00",
          "2018-02-28T00:00:00",
          "2018-02-01T00:00:00",
          "2018-03-15T00:00:00",
          "2018-02-26T00:00:00",
          "2018-03-07T00:00:00",
          "2018-03-12T00:00:00",
          "2018-01-16T00:00:00",
          "2018-03-06T00:00:00",
          "2018-01-11T00:00:00",
          "2018-01-24T00:00:00",
          "2018-01-08T00:00:00",
          "2018-02-24T00:00:00",
          "2018-01-31T00:00:00",
          "2018-02-09T00:00:00",
          "2018-01-25T00:00:00",
          "2018-02-22T00:00:00",
          "2018-01-12T00:00:00",
          "2018-03-06T00:00:00",
          "2018-03-11T00:00:00",
          "2018-01-20T00:00:00",
          "2018-03-08T00:00:00",
          "2018-01-04T00:00:00",
          "2018-02-22T00:00:00",
          "2018-01-10T00:00:00",
          "2018-01-24T00:00:00",
          "2018-03-06T00:00:00",
          "2018-01-25T00:00:00",
          "2018-01-19T00:00:00",
          "2018-03-15T00:00:00",
          "2018-03-14T00:00:00",
          "2018-02-20T00:00:00"
         ],
         "y": [
          1,
          3,
          2,
          1,
          3,
          1,
          1,
          1,
          1,
          1,
          1,
          1,
          4,
          3,
          1,
          3,
          4,
          2,
          1,
          1,
          1,
          2,
          8,
          2,
          2,
          2,
          2,
          2,
          1,
          1,
          2,
          3,
          1,
          1,
          2,
          1,
          1,
          1,
          1,
          2,
          2,
          1,
          1,
          1,
          1,
          2,
          4,
          5,
          11,
          1,
          2,
          1,
          1,
          1,
          2,
          1,
          2,
          5,
          1,
          1,
          3,
          1,
          1,
          6,
          1,
          1,
          2,
          1,
          1,
          6,
          1,
          1,
          1,
          1,
          2,
          1,
          2,
          1,
          1,
          3,
          1,
          1,
          1,
          1,
          2,
          1,
          1,
          3,
          2,
          2,
          1,
          5,
          1,
          1,
          4,
          1,
          2,
          1,
          1,
          1,
          5,
          1,
          1,
          4,
          1,
          2,
          2,
          1,
          1,
          1,
          1,
          1,
          2,
          2,
          2,
          3,
          1,
          1,
          1,
          1,
          1,
          1,
          1,
          1,
          5,
          1,
          1,
          4,
          4,
          9,
          1,
          3,
          2,
          1,
          1,
          12,
          2,
          1,
          2,
          1,
          1,
          1,
          3,
          1,
          1,
          5,
          1,
          1,
          2,
          1,
          1,
          1,
          1,
          8,
          2,
          1,
          1,
          1,
          1,
          2,
          2,
          3,
          1,
          1,
          1,
          3,
          1,
          1,
          1,
          1,
          17,
          1,
          1,
          1,
          2,
          4,
          16,
          4,
          2,
          1,
          1,
          1,
          1,
          1,
          1,
          1,
          1,
          1,
          2,
          4,
          1,
          2,
          1,
          1,
          1,
          7,
          1,
          2,
          3,
          1,
          1,
          1,
          1,
          4,
          1,
          1,
          1,
          3,
          2,
          3,
          1,
          10,
          1,
          3,
          6,
          1,
          2,
          1,
          3,
          5,
          1,
          2,
          2,
          1,
          1,
          1,
          3,
          1,
          2,
          1,
          2,
          3,
          1,
          1,
          6,
          5,
          1,
          4,
          1,
          1,
          1,
          2,
          1,
          2,
          2,
          3,
          1,
          1,
          1,
          1,
          1,
          1,
          7,
          2,
          2,
          1,
          1,
          1,
          1,
          2,
          2,
          1,
          3,
          1,
          13,
          1,
          1,
          1,
          1,
          1,
          1,
          2,
          1,
          2,
          1,
          1,
          8,
          1,
          1,
          2,
          1,
          3,
          4,
          1,
          1,
          1,
          1,
          4,
          1,
          1,
          2,
          1,
          4,
          1,
          2,
          1,
          1,
          1,
          1,
          1,
          1,
          2,
          1,
          1,
          1,
          4,
          3,
          1,
          1,
          19,
          2,
          3,
          1,
          1,
          1,
          1,
          1,
          1,
          1,
          1,
          1,
          1,
          1,
          1,
          1,
          1,
          1,
          1,
          1,
          2,
          1,
          1,
          1,
          1,
          1,
          1,
          2,
          1,
          3,
          2,
          1,
          1,
          1,
          2,
          5,
          2,
          1,
          1,
          17,
          2,
          1,
          4,
          1,
          1,
          1,
          1,
          1,
          1,
          13,
          1,
          1,
          3,
          1,
          2,
          2,
          1,
          2,
          1,
          6,
          11,
          1,
          1,
          1,
          7,
          2,
          2,
          1,
          1,
          1,
          4,
          1,
          6,
          1,
          3,
          1,
          3,
          1,
          1,
          1,
          1,
          1,
          1,
          1,
          1,
          1,
          4,
          3,
          1,
          3,
          1,
          2,
          1,
          1,
          1,
          1,
          1,
          1,
          2,
          1,
          1,
          1,
          4,
          1,
          1,
          1,
          1,
          1,
          1,
          2,
          1,
          1,
          1,
          1,
          14,
          2,
          2,
          1,
          1,
          1,
          2,
          1,
          1,
          1,
          2,
          1,
          1,
          2,
          1,
          14,
          1,
          1,
          1,
          2,
          1,
          1,
          3,
          1,
          1,
          1,
          1,
          2,
          1,
          2,
          2,
          1,
          1,
          8,
          1,
          1,
          2,
          14,
          1,
          2,
          1,
          1,
          1,
          1,
          2,
          1,
          6,
          1,
          2,
          3,
          1,
          1,
          8,
          1,
          2,
          1,
          1,
          1,
          1,
          1,
          1,
          2,
          2,
          2,
          1,
          1,
          8,
          3,
          2,
          2,
          2,
          1,
          1,
          1,
          1,
          1,
          7,
          2,
          1,
          1,
          2,
          2,
          1,
          2,
          1,
          1,
          1,
          7,
          1,
          2,
          1,
          3,
          1,
          1,
          2,
          1,
          1,
          2,
          2,
          1,
          1,
          1,
          1,
          3,
          1,
          1,
          2,
          1,
          1,
          2,
          1,
          1,
          1,
          1,
          2,
          1,
          1,
          1,
          1,
          1,
          1,
          3,
          2,
          4,
          1,
          1,
          1,
          1,
          1,
          1,
          5,
          1,
          1,
          1,
          3,
          1,
          1,
          2,
          2,
          1,
          3,
          2,
          1,
          1,
          3,
          1,
          1,
          1,
          2,
          1,
          4,
          1,
          3,
          1,
          2,
          5,
          3,
          1,
          1,
          1,
          1,
          1,
          2,
          1,
          1,
          1,
          2,
          1,
          1,
          1,
          1,
          1,
          1,
          1,
          3,
          1,
          3,
          3,
          1,
          2,
          1,
          1,
          1,
          1,
          2,
          1,
          2,
          2,
          1,
          1,
          1,
          2,
          1,
          3,
          6,
          1,
          1,
          2,
          2,
          2,
          1,
          1,
          1,
          1,
          1,
          1,
          1,
          2,
          2,
          1,
          1,
          1,
          2,
          1,
          16,
          1,
          1,
          1,
          2,
          2,
          1,
          7,
          3,
          1,
          2,
          2,
          3,
          1,
          1,
          3,
          1,
          10,
          1,
          1,
          1,
          2,
          1,
          1,
          1,
          1,
          1,
          3,
          1,
          1,
          1,
          1,
          1,
          1,
          4,
          1,
          1,
          1,
          1,
          4,
          1,
          1,
          1,
          14,
          2,
          3,
          1,
          1,
          1,
          1,
          1,
          1,
          1,
          1,
          3,
          1,
          2,
          2,
          8,
          1,
          1,
          1,
          1,
          2,
          2,
          1,
          1,
          1,
          1,
          1,
          1,
          3,
          6,
          9,
          1,
          6,
          1,
          2,
          1,
          1,
          1,
          4,
          1,
          1,
          1,
          10,
          4,
          15,
          1,
          1,
          1,
          11,
          1,
          2,
          3,
          1,
          1,
          3,
          1,
          3,
          2,
          1,
          1,
          1,
          1,
          2,
          1,
          2,
          2,
          1,
          1,
          1,
          1,
          16,
          1,
          17,
          1,
          3,
          1,
          1,
          5,
          3,
          1,
          2,
          11,
          9,
          4,
          1,
          1,
          1,
          4,
          2,
          8,
          1,
          5,
          1,
          2,
          1,
          3,
          2,
          2,
          3,
          3,
          1,
          1,
          4,
          4,
          2,
          4,
          1,
          1,
          1,
          3,
          2,
          1,
          1,
          2,
          4,
          1,
          3,
          2,
          1,
          2,
          2,
          1,
          1,
          1,
          2,
          1,
          1,
          1,
          1,
          1,
          1,
          1,
          2,
          1,
          1,
          2,
          3,
          2,
          1,
          2,
          1,
          2,
          2,
          4,
          1,
          4,
          1,
          1,
          1,
          1,
          13,
          1,
          1,
          2,
          2,
          1,
          1,
          3,
          1,
          1,
          1,
          6,
          3,
          1,
          1,
          1,
          2,
          2,
          1,
          1,
          2,
          1,
          1,
          4,
          3,
          1,
          1,
          4,
          1,
          1,
          1,
          1,
          3,
          1,
          1,
          1,
          1,
          1,
          2,
          3,
          1,
          5,
          6,
          1,
          1,
          1,
          3,
          1,
          2,
          12,
          1,
          1,
          1,
          2,
          3,
          1,
          1,
          1,
          3,
          2,
          1,
          4,
          2,
          1,
          1,
          1,
          3,
          4,
          1,
          1,
          1,
          1,
          4,
          1,
          1,
          1,
          1,
          2,
          1,
          1,
          1,
          2,
          1,
          1,
          1,
          3,
          1,
          1,
          1,
          1,
          1,
          1,
          2,
          5,
          2,
          1,
          1,
          2,
          1,
          4,
          1,
          2,
          2,
          1,
          7,
          1,
          1,
          1,
          1,
          2,
          2,
          3,
          1,
          1,
          1,
          3,
          2,
          1,
          1,
          1,
          1,
          1,
          1,
          3,
          1,
          1,
          2,
          2,
          1,
          1,
          1,
          1,
          3,
          19,
          2,
          3,
          1,
          3,
          2,
          1,
          1,
          1,
          1,
          1,
          3,
          6,
          1,
          1,
          3,
          1,
          3,
          1,
          1,
          1,
          2,
          2,
          1,
          2,
          1,
          1,
          1,
          1,
          3,
          1,
          2,
          1,
          1,
          2,
          1,
          2,
          1,
          3,
          1,
          1,
          2,
          6,
          1,
          1,
          2,
          2,
          2,
          1,
          1,
          1,
          8,
          1,
          13,
          1,
          3,
          1,
          6,
          1,
          1,
          1,
          1,
          1,
          1,
          1,
          7,
          1,
          1,
          1,
          5,
          1,
          2,
          1,
          1,
          1,
          7,
          8,
          1,
          2,
          2,
          1,
          3,
          2,
          1,
          1,
          1,
          1,
          1,
          1,
          1,
          1,
          17,
          1,
          1,
          1,
          3,
          2,
          2,
          1,
          1,
          2,
          1,
          1,
          1,
          1,
          15,
          1,
          3,
          2,
          1,
          2,
          1,
          1,
          1,
          3,
          1,
          5,
          1,
          2,
          1,
          1,
          3,
          2,
          1,
          1,
          4,
          1,
          1,
          1,
          1,
          2,
          1,
          2,
          1,
          2,
          1,
          1,
          2,
          2,
          1,
          2,
          3,
          1,
          1,
          1,
          5,
          1,
          1,
          2,
          1,
          1,
          3,
          1,
          1,
          1,
          1,
          3,
          2,
          1,
          1,
          2,
          2,
          3,
          1,
          1,
          1,
          1,
          1,
          1,
          2,
          1,
          1,
          1,
          1,
          2,
          1,
          2,
          1,
          1,
          1,
          2,
          2,
          1,
          1,
          1,
          1,
          1,
          1,
          1,
          1,
          1,
          1,
          1,
          1,
          1,
          1,
          1,
          2,
          1,
          7,
          2,
          8,
          2,
          1,
          1,
          1,
          1,
          1,
          11,
          2,
          3,
          3,
          7,
          1,
          1,
          1,
          1,
          6,
          2,
          1,
          2,
          1,
          1,
          3,
          6,
          1,
          1,
          1,
          1,
          2,
          3,
          2,
          1,
          1,
          5,
          2,
          1,
          2,
          6,
          3,
          1,
          3,
          2,
          1,
          7,
          3,
          4,
          1,
          1,
          1,
          7,
          1,
          1,
          2,
          18,
          1,
          3,
          1,
          1,
          3,
          1,
          3,
          1,
          2,
          2,
          7,
          3,
          14,
          2,
          1,
          1,
          1,
          1,
          1,
          3,
          1,
          1,
          1,
          4,
          3,
          3,
          1,
          6,
          7,
          1,
          1,
          5,
          1,
          1,
          2,
          2,
          1,
          1,
          2,
          1,
          1,
          2,
          1,
          1,
          1,
          1,
          1,
          1,
          1,
          1,
          1,
          1,
          1,
          1,
          1,
          1,
          2,
          1,
          2,
          1,
          5,
          1,
          2,
          1,
          2,
          1,
          1,
          1,
          3,
          3,
          1,
          6,
          11,
          1,
          6,
          2,
          3,
          3,
          1,
          1,
          2,
          1,
          1,
          1,
          2,
          1,
          3,
          2,
          1,
          1,
          1,
          1,
          2,
          3,
          3,
          2,
          2,
          1,
          1,
          1,
          1,
          2,
          3,
          1,
          1,
          1,
          1,
          1,
          13,
          1,
          1,
          4,
          1,
          3,
          1,
          3,
          1,
          1,
          2,
          18,
          1,
          1,
          1,
          1,
          1,
          1,
          1,
          1,
          1,
          4,
          4,
          1,
          2,
          1,
          3,
          2,
          1,
          1,
          8,
          11,
          1,
          3,
          5,
          14,
          1,
          9,
          1,
          1,
          1,
          2,
          1,
          2,
          6,
          1,
          2,
          2,
          1,
          1,
          2,
          1,
          2,
          1,
          1,
          3,
          1,
          2,
          2,
          1,
          3,
          1,
          1,
          1,
          1,
          1,
          1,
          3,
          1,
          1,
          1,
          1,
          1,
          1,
          1,
          2,
          3,
          2,
          1,
          1,
          1,
          12,
          3,
          1,
          3,
          1,
          2,
          1,
          1,
          1,
          3,
          6,
          2,
          1,
          2,
          2,
          1,
          1,
          1,
          1,
          4
         ],
         "type": "bar",
         "xaxis": "x2",
         "yaxis": "y2"
        }
       ],
       "layout": {
        "template": {
         "data": {
          "bar": [
           {
            "error_x": {
             "color": "#2a3f5f"
            },
            "error_y": {
             "color": "#2a3f5f"
            },
            "marker": {
             "line": {
              "color": "#E5ECF6",
              "width": 0.5
             },
             "pattern": {
              "fillmode": "overlay",
              "size": 10,
              "solidity": 0.2
             }
            },
            "type": "bar"
           }
          ],
          "barpolar": [
           {
            "marker": {
             "line": {
              "color": "#E5ECF6",
              "width": 0.5
             },
             "pattern": {
              "fillmode": "overlay",
              "size": 10,
              "solidity": 0.2
             }
            },
            "type": "barpolar"
           }
          ],
          "carpet": [
           {
            "aaxis": {
             "endlinecolor": "#2a3f5f",
             "gridcolor": "white",
             "linecolor": "white",
             "minorgridcolor": "white",
             "startlinecolor": "#2a3f5f"
            },
            "baxis": {
             "endlinecolor": "#2a3f5f",
             "gridcolor": "white",
             "linecolor": "white",
             "minorgridcolor": "white",
             "startlinecolor": "#2a3f5f"
            },
            "type": "carpet"
           }
          ],
          "choropleth": [
           {
            "colorbar": {
             "outlinewidth": 0,
             "ticks": ""
            },
            "type": "choropleth"
           }
          ],
          "contour": [
           {
            "colorbar": {
             "outlinewidth": 0,
             "ticks": ""
            },
            "colorscale": [
             [
              0,
              "#0d0887"
             ],
             [
              0.1111111111111111,
              "#46039f"
             ],
             [
              0.2222222222222222,
              "#7201a8"
             ],
             [
              0.3333333333333333,
              "#9c179e"
             ],
             [
              0.4444444444444444,
              "#bd3786"
             ],
             [
              0.5555555555555556,
              "#d8576b"
             ],
             [
              0.6666666666666666,
              "#ed7953"
             ],
             [
              0.7777777777777778,
              "#fb9f3a"
             ],
             [
              0.8888888888888888,
              "#fdca26"
             ],
             [
              1,
              "#f0f921"
             ]
            ],
            "type": "contour"
           }
          ],
          "contourcarpet": [
           {
            "colorbar": {
             "outlinewidth": 0,
             "ticks": ""
            },
            "type": "contourcarpet"
           }
          ],
          "heatmap": [
           {
            "colorbar": {
             "outlinewidth": 0,
             "ticks": ""
            },
            "colorscale": [
             [
              0,
              "#0d0887"
             ],
             [
              0.1111111111111111,
              "#46039f"
             ],
             [
              0.2222222222222222,
              "#7201a8"
             ],
             [
              0.3333333333333333,
              "#9c179e"
             ],
             [
              0.4444444444444444,
              "#bd3786"
             ],
             [
              0.5555555555555556,
              "#d8576b"
             ],
             [
              0.6666666666666666,
              "#ed7953"
             ],
             [
              0.7777777777777778,
              "#fb9f3a"
             ],
             [
              0.8888888888888888,
              "#fdca26"
             ],
             [
              1,
              "#f0f921"
             ]
            ],
            "type": "heatmap"
           }
          ],
          "heatmapgl": [
           {
            "colorbar": {
             "outlinewidth": 0,
             "ticks": ""
            },
            "colorscale": [
             [
              0,
              "#0d0887"
             ],
             [
              0.1111111111111111,
              "#46039f"
             ],
             [
              0.2222222222222222,
              "#7201a8"
             ],
             [
              0.3333333333333333,
              "#9c179e"
             ],
             [
              0.4444444444444444,
              "#bd3786"
             ],
             [
              0.5555555555555556,
              "#d8576b"
             ],
             [
              0.6666666666666666,
              "#ed7953"
             ],
             [
              0.7777777777777778,
              "#fb9f3a"
             ],
             [
              0.8888888888888888,
              "#fdca26"
             ],
             [
              1,
              "#f0f921"
             ]
            ],
            "type": "heatmapgl"
           }
          ],
          "histogram": [
           {
            "marker": {
             "pattern": {
              "fillmode": "overlay",
              "size": 10,
              "solidity": 0.2
             }
            },
            "type": "histogram"
           }
          ],
          "histogram2d": [
           {
            "colorbar": {
             "outlinewidth": 0,
             "ticks": ""
            },
            "colorscale": [
             [
              0,
              "#0d0887"
             ],
             [
              0.1111111111111111,
              "#46039f"
             ],
             [
              0.2222222222222222,
              "#7201a8"
             ],
             [
              0.3333333333333333,
              "#9c179e"
             ],
             [
              0.4444444444444444,
              "#bd3786"
             ],
             [
              0.5555555555555556,
              "#d8576b"
             ],
             [
              0.6666666666666666,
              "#ed7953"
             ],
             [
              0.7777777777777778,
              "#fb9f3a"
             ],
             [
              0.8888888888888888,
              "#fdca26"
             ],
             [
              1,
              "#f0f921"
             ]
            ],
            "type": "histogram2d"
           }
          ],
          "histogram2dcontour": [
           {
            "colorbar": {
             "outlinewidth": 0,
             "ticks": ""
            },
            "colorscale": [
             [
              0,
              "#0d0887"
             ],
             [
              0.1111111111111111,
              "#46039f"
             ],
             [
              0.2222222222222222,
              "#7201a8"
             ],
             [
              0.3333333333333333,
              "#9c179e"
             ],
             [
              0.4444444444444444,
              "#bd3786"
             ],
             [
              0.5555555555555556,
              "#d8576b"
             ],
             [
              0.6666666666666666,
              "#ed7953"
             ],
             [
              0.7777777777777778,
              "#fb9f3a"
             ],
             [
              0.8888888888888888,
              "#fdca26"
             ],
             [
              1,
              "#f0f921"
             ]
            ],
            "type": "histogram2dcontour"
           }
          ],
          "mesh3d": [
           {
            "colorbar": {
             "outlinewidth": 0,
             "ticks": ""
            },
            "type": "mesh3d"
           }
          ],
          "parcoords": [
           {
            "line": {
             "colorbar": {
              "outlinewidth": 0,
              "ticks": ""
             }
            },
            "type": "parcoords"
           }
          ],
          "pie": [
           {
            "automargin": true,
            "type": "pie"
           }
          ],
          "scatter": [
           {
            "marker": {
             "colorbar": {
              "outlinewidth": 0,
              "ticks": ""
             }
            },
            "type": "scatter"
           }
          ],
          "scatter3d": [
           {
            "line": {
             "colorbar": {
              "outlinewidth": 0,
              "ticks": ""
             }
            },
            "marker": {
             "colorbar": {
              "outlinewidth": 0,
              "ticks": ""
             }
            },
            "type": "scatter3d"
           }
          ],
          "scattercarpet": [
           {
            "marker": {
             "colorbar": {
              "outlinewidth": 0,
              "ticks": ""
             }
            },
            "type": "scattercarpet"
           }
          ],
          "scattergeo": [
           {
            "marker": {
             "colorbar": {
              "outlinewidth": 0,
              "ticks": ""
             }
            },
            "type": "scattergeo"
           }
          ],
          "scattergl": [
           {
            "marker": {
             "colorbar": {
              "outlinewidth": 0,
              "ticks": ""
             }
            },
            "type": "scattergl"
           }
          ],
          "scattermapbox": [
           {
            "marker": {
             "colorbar": {
              "outlinewidth": 0,
              "ticks": ""
             }
            },
            "type": "scattermapbox"
           }
          ],
          "scatterpolar": [
           {
            "marker": {
             "colorbar": {
              "outlinewidth": 0,
              "ticks": ""
             }
            },
            "type": "scatterpolar"
           }
          ],
          "scatterpolargl": [
           {
            "marker": {
             "colorbar": {
              "outlinewidth": 0,
              "ticks": ""
             }
            },
            "type": "scatterpolargl"
           }
          ],
          "scatterternary": [
           {
            "marker": {
             "colorbar": {
              "outlinewidth": 0,
              "ticks": ""
             }
            },
            "type": "scatterternary"
           }
          ],
          "surface": [
           {
            "colorbar": {
             "outlinewidth": 0,
             "ticks": ""
            },
            "colorscale": [
             [
              0,
              "#0d0887"
             ],
             [
              0.1111111111111111,
              "#46039f"
             ],
             [
              0.2222222222222222,
              "#7201a8"
             ],
             [
              0.3333333333333333,
              "#9c179e"
             ],
             [
              0.4444444444444444,
              "#bd3786"
             ],
             [
              0.5555555555555556,
              "#d8576b"
             ],
             [
              0.6666666666666666,
              "#ed7953"
             ],
             [
              0.7777777777777778,
              "#fb9f3a"
             ],
             [
              0.8888888888888888,
              "#fdca26"
             ],
             [
              1,
              "#f0f921"
             ]
            ],
            "type": "surface"
           }
          ],
          "table": [
           {
            "cells": {
             "fill": {
              "color": "#EBF0F8"
             },
             "line": {
              "color": "white"
             }
            },
            "header": {
             "fill": {
              "color": "#C8D4E3"
             },
             "line": {
              "color": "white"
             }
            },
            "type": "table"
           }
          ]
         },
         "layout": {
          "annotationdefaults": {
           "arrowcolor": "#2a3f5f",
           "arrowhead": 0,
           "arrowwidth": 1
          },
          "autotypenumbers": "strict",
          "coloraxis": {
           "colorbar": {
            "outlinewidth": 0,
            "ticks": ""
           }
          },
          "colorscale": {
           "diverging": [
            [
             0,
             "#8e0152"
            ],
            [
             0.1,
             "#c51b7d"
            ],
            [
             0.2,
             "#de77ae"
            ],
            [
             0.3,
             "#f1b6da"
            ],
            [
             0.4,
             "#fde0ef"
            ],
            [
             0.5,
             "#f7f7f7"
            ],
            [
             0.6,
             "#e6f5d0"
            ],
            [
             0.7,
             "#b8e186"
            ],
            [
             0.8,
             "#7fbc41"
            ],
            [
             0.9,
             "#4d9221"
            ],
            [
             1,
             "#276419"
            ]
           ],
           "sequential": [
            [
             0,
             "#0d0887"
            ],
            [
             0.1111111111111111,
             "#46039f"
            ],
            [
             0.2222222222222222,
             "#7201a8"
            ],
            [
             0.3333333333333333,
             "#9c179e"
            ],
            [
             0.4444444444444444,
             "#bd3786"
            ],
            [
             0.5555555555555556,
             "#d8576b"
            ],
            [
             0.6666666666666666,
             "#ed7953"
            ],
            [
             0.7777777777777778,
             "#fb9f3a"
            ],
            [
             0.8888888888888888,
             "#fdca26"
            ],
            [
             1,
             "#f0f921"
            ]
           ],
           "sequentialminus": [
            [
             0,
             "#0d0887"
            ],
            [
             0.1111111111111111,
             "#46039f"
            ],
            [
             0.2222222222222222,
             "#7201a8"
            ],
            [
             0.3333333333333333,
             "#9c179e"
            ],
            [
             0.4444444444444444,
             "#bd3786"
            ],
            [
             0.5555555555555556,
             "#d8576b"
            ],
            [
             0.6666666666666666,
             "#ed7953"
            ],
            [
             0.7777777777777778,
             "#fb9f3a"
            ],
            [
             0.8888888888888888,
             "#fdca26"
            ],
            [
             1,
             "#f0f921"
            ]
           ]
          },
          "colorway": [
           "#636efa",
           "#EF553B",
           "#00cc96",
           "#ab63fa",
           "#FFA15A",
           "#19d3f3",
           "#FF6692",
           "#B6E880",
           "#FF97FF",
           "#FECB52"
          ],
          "font": {
           "color": "#2a3f5f"
          },
          "geo": {
           "bgcolor": "white",
           "lakecolor": "white",
           "landcolor": "#E5ECF6",
           "showlakes": true,
           "showland": true,
           "subunitcolor": "white"
          },
          "hoverlabel": {
           "align": "left"
          },
          "hovermode": "closest",
          "mapbox": {
           "style": "light"
          },
          "paper_bgcolor": "white",
          "plot_bgcolor": "#E5ECF6",
          "polar": {
           "angularaxis": {
            "gridcolor": "white",
            "linecolor": "white",
            "ticks": ""
           },
           "bgcolor": "#E5ECF6",
           "radialaxis": {
            "gridcolor": "white",
            "linecolor": "white",
            "ticks": ""
           }
          },
          "scene": {
           "xaxis": {
            "backgroundcolor": "#E5ECF6",
            "gridcolor": "white",
            "gridwidth": 2,
            "linecolor": "white",
            "showbackground": true,
            "ticks": "",
            "zerolinecolor": "white"
           },
           "yaxis": {
            "backgroundcolor": "#E5ECF6",
            "gridcolor": "white",
            "gridwidth": 2,
            "linecolor": "white",
            "showbackground": true,
            "ticks": "",
            "zerolinecolor": "white"
           },
           "zaxis": {
            "backgroundcolor": "#E5ECF6",
            "gridcolor": "white",
            "gridwidth": 2,
            "linecolor": "white",
            "showbackground": true,
            "ticks": "",
            "zerolinecolor": "white"
           }
          },
          "shapedefaults": {
           "line": {
            "color": "#2a3f5f"
           }
          },
          "ternary": {
           "aaxis": {
            "gridcolor": "white",
            "linecolor": "white",
            "ticks": ""
           },
           "baxis": {
            "gridcolor": "white",
            "linecolor": "white",
            "ticks": ""
           },
           "bgcolor": "#E5ECF6",
           "caxis": {
            "gridcolor": "white",
            "linecolor": "white",
            "ticks": ""
           }
          },
          "title": {
           "x": 0.05
          },
          "xaxis": {
           "automargin": true,
           "gridcolor": "white",
           "linecolor": "white",
           "ticks": "",
           "title": {
            "standoff": 15
           },
           "zerolinecolor": "white",
           "zerolinewidth": 2
          },
          "yaxis": {
           "automargin": true,
           "gridcolor": "white",
           "linecolor": "white",
           "ticks": "",
           "title": {
            "standoff": 15
           },
           "zerolinecolor": "white",
           "zerolinewidth": 2
          }
         }
        },
        "xaxis": {
         "anchor": "y",
         "domain": [
          0,
          1
         ],
         "matches": "x2",
         "showticklabels": false
        },
        "yaxis": {
         "anchor": "x",
         "domain": [
          0.51,
          1
         ]
        },
        "xaxis2": {
         "anchor": "y2",
         "domain": [
          0,
          1
         ]
        },
        "yaxis2": {
         "anchor": "x2",
         "domain": [
          0,
          0.49
         ]
        },
        "title": {
         "text": "Thor: Ragnarok"
        }
       },
       "config": {
        "plotlyServerURL": "https://plot.ly"
       }
      }
     },
     "metadata": {}
    }
   ],
   "metadata": {}
  },
  {
   "cell_type": "markdown",
   "source": [
    "It does not look like there is a relationship between the boxOffice and quotes, but let's test it! We start by scaling everything into the range [0,1]. This is done in the next cell:"
   ],
   "metadata": {}
  },
  {
   "cell_type": "code",
   "execution_count": 31,
   "source": [
    "sw_VIII_box = df_boxOffice[df_boxOffice.movie=='Star Wars: Episode VII - The Force Awakens'].daily\n",
    "sw_VII_box = df_boxOffice[df_boxOffice.movie=='Star Wars: Episode VIII - The Last Jedi'].daily\n",
    "thor_box = sw_VIII_box = df_boxOffice[df_boxOffice.movie=='Thor: Ragnarok'].daily\n",
    "\n",
    "sw_VIII_box = list((sw_VIII_box - sw_VIII_box.min()) / (sw_VIII_box.max() - sw_VIII_box.min()))\n",
    "sw_VII_box = list((sw_VII_box - sw_VII_box.min()) / (sw_VII_box.max() - sw_VII_box.min()))\n",
    "thor_box = list((thor_box - thor_box.min()) / (thor_box.max() - thor_box.min()))\n",
    "\n",
    "sw_VIII = sw_VIII.groupby('date').numOccurrences.sum()\n",
    "sw_VII = sw_VII.groupby('date').numOccurrences.sum()\n",
    "thor = thor.groupby('date').numOccurrences.sum()\n",
    "\n",
    "sw_VIII_quotes = list((sw_VIII - sw_VIII.min()) / (sw_VIII.max() - sw_VIII.min()))\n",
    "sw_VII_quotes = list((sw_VII - sw_VII.min()) / (sw_VII.max() - sw_VII.min()))\n",
    "thor_quotes = list((thor - thor.min()) / (thor.max() - thor.min()))"
   ],
   "outputs": [],
   "metadata": {}
  },
  {
   "cell_type": "markdown",
   "source": [
    "Now we can do some testing. We chose to use the Kolmogorov-Smirnov test (kstest). All parameters are set to default as it works well in our case:"
   ],
   "metadata": {}
  },
  {
   "cell_type": "code",
   "execution_count": 32,
   "source": [
    "sw_VII_stat, sw_VII_p = kstest(sw_VII_box,sw_VII_quotes)\n",
    "print('Star Wars: Episode VII - The Force Awakens:\\nks-stat: ',sw_VII_stat,'\\np-value: ', sw_VII_p,'\\n')\n",
    "\n",
    "sw_VIII_stat, sw_VIII_p = kstest(sw_VIII_box,sw_VIII_quotes)\n",
    "print('Star Wars: Episode VIII - The Last Jedi:\\nks-stat: ',sw_VIII_stat,'\\np-value: ', sw_VIII_p,'\\n')\n",
    "\n",
    "thor_stat, thor_p = kstest(thor_box,thor_quotes)\n",
    "print('Thor: Ragnarok:\\nks-stat: ',thor_stat,'\\np-value: ', thor_p)"
   ],
   "outputs": [
    {
     "output_type": "stream",
     "name": "stdout",
     "text": [
      "Star Wars: Episode VII - The Force Awakens:\n",
      "ks-stat:  0.41774891774891776 \n",
      "p-value:  3.341567245129795e-09 \n",
      "\n",
      "Star Wars: Episode VIII - The Last Jedi:\n",
      "ks-stat:  0.7351712614870509 \n",
      "p-value:  8.881784197001252e-16 \n",
      "\n",
      "Thor: Ragnarok:\n",
      "ks-stat:  0.7293233082706767 \n",
      "p-value:  1.5328238282581075e-34\n"
     ]
    }
   ],
   "metadata": {}
  },
  {
   "cell_type": "markdown",
   "source": [
    "We will reject all the null-hypothesises (that the distributions for quotes and boxOffice was identical) because of the low p-values (lower than .05, the default alpha). Therefore, we cannot say that the number of quotes about one of the three movies on a given day can influence (or be influenced by) the boxOffice of said movie on that given day."
   ],
   "metadata": {}
  },
  {
   "cell_type": "markdown",
   "source": [
    "---"
   ],
   "metadata": {}
  },
  {
   "cell_type": "markdown",
   "source": [
    "## Proposed method: \n",
    "## 3.2. Checking correlation between distribution of quotes over time and box office time series data <a class=\"anchor\" id=\"chapter32\"></a>"
   ],
   "metadata": {}
  },
  {
   "cell_type": "markdown",
   "source": [
    "We are interested in whetehr the time series of quotes and time series of box office relate to each other in some sense. Firts, ee will transform the time series to become stationary. Then we propose two models:\n",
    "- We fit a VAR (Vector autoregression) model on the data and check the correlation of the residuals.\n",
    "- We perform a Granger Causality test \n",
    "\n",
    "For this question we only consider one choses movie, our choice is Avengers: Infinity War.\n",
    "\n",
    "Analyisis based on this blog post https://towardsdatascience.com/a-quick-introduction-on-granger-causality-testing-for-time-series-analysis-7113dc9420d2."
   ],
   "metadata": {}
  },
  {
   "cell_type": "code",
   "execution_count": 33,
   "source": [
    "movie_title = \"Avengers: Infinity War\"\n",
    "movie_title = movie_title.replace(\" \", \"_\")\n",
    "movie_title = movie_title.replace(\"-\", \"_\")\n",
    "movie_title = movie_title.replace(\":\", \"\")\n",
    "movie_title"
   ],
   "outputs": [
    {
     "output_type": "execute_result",
     "data": {
      "text/plain": [
       "'Avengers_Infinity_War'"
      ]
     },
     "metadata": {},
     "execution_count": 33
    }
   ],
   "metadata": {}
  },
  {
   "cell_type": "code",
   "execution_count": 34,
   "source": [
    "title = \"Avengers: Infinity War\"\n",
    "time_series = quotes[quotes['movie'] == title].groupby(['date'],  as_index=False).count()[['date', 'quotation']]"
   ],
   "outputs": [],
   "metadata": {}
  },
  {
   "cell_type": "code",
   "execution_count": 35,
   "source": [
    "bo = pd.read_csv('./exploratory/data/time_series_box_office_data/Avengers_Infinity_War___Box_Office_Mojo.csv')\n",
    "bo = bo.rename(columns={'days': 'date'})\n",
    "bo['date'] = pd.to_datetime(bo['date'])\n",
    "bo = bo[['date','daily']]\n",
    "time_series = time_series.merge(bo, how='left', on='date')\n",
    "time_series = time_series.dropna()"
   ],
   "outputs": [],
   "metadata": {}
  },
  {
   "cell_type": "code",
   "execution_count": 36,
   "source": [
    "fig, ax = plt.subplots(ncols=1, nrows=2, figsize=(20,10))\n",
    "ax[0].set(title='Tme series distribution of daily box office and quotation: \"Avengers: Infinity War\"')\n",
    "sns.lineplot(x='date', y='quotation', data=time_series, ax=ax[0])\n",
    "sns.lineplot(x='date', y='daily', data=time_series, ax=ax[1], color='red')"
   ],
   "outputs": [
    {
     "output_type": "execute_result",
     "data": {
      "text/plain": [
       "<AxesSubplot:xlabel='date', ylabel='daily'>"
      ]
     },
     "metadata": {},
     "execution_count": 36
    },
    {
     "output_type": "display_data",
     "data": {
      "image/png": "[encoded data removed]",
      "text/plain": [
       "<Figure size 1440x720 with 2 Axes>"
      ]
     },
     "metadata": {
      "needs_background": "light"
     }
    }
   ],
   "metadata": {}
  },
  {
   "cell_type": "markdown",
   "source": [
    "We use an ADF test to determine whether the underlying time series are stationary or not. Null hypothesis: it suggests the time series is not stationarity (if failed to be rejected)"
   ],
   "metadata": {}
  },
  {
   "cell_type": "code",
   "execution_count": 37,
   "source": [
    "result = adfuller(time_series['quotation'].values)\n",
    "print(f'ADF Statistics for quotation: {result[0]}')\n",
    "print(f'p-value: {result[1]}')\n",
    "\n",
    "result = adfuller(time_series['daily'].values)\n",
    "print(f'ADF Statistics for box office: {result[0]}')\n",
    "print(f'p-value: {result[1]}')"
   ],
   "outputs": [
    {
     "output_type": "stream",
     "name": "stdout",
     "text": [
      "ADF Statistics for quotation: -4.055861258289217\n",
      "p-value: 0.001144657257171167\n",
      "ADF Statistics for box office: -4.981642171850192\n",
      "p-value: 2.4126634872146793e-05\n"
     ]
    }
   ],
   "metadata": {}
  },
  {
   "cell_type": "markdown",
   "source": [
    "Small p values suggest that the time series are stationary. We will note that this is likely because of the long tails of the two time series, at the premier of the movie there is clearly a peak at both cases. We will try to get rid of this minor issue and transform our time series with the difference method. It can be used to remove the series dependence on time, so-called temporal dependence."
   ],
   "metadata": {}
  },
  {
   "cell_type": "code",
   "execution_count": 38,
   "source": [
    "time_series['diff_quotation'] = time_series['quotation'].diff()\n",
    "time_series['diff_daily'] = time_series['daily'].diff()\n",
    "\n",
    "fig, ax = plt.subplots(ncols=1, nrows=2, figsize=(20,10))\n",
    "sns.lineplot(x='date', y='diff_quotation', data=time_series, ax=ax[0])\n",
    "sns.lineplot(x='date', y='diff_daily', data=time_series, ax=ax[1], color='red')\n"
   ],
   "outputs": [
    {
     "output_type": "execute_result",
     "data": {
      "text/plain": [
       "<AxesSubplot:xlabel='date', ylabel='diff_daily'>"
      ]
     },
     "metadata": {},
     "execution_count": 38
    },
    {
     "output_type": "display_data",
     "data": {
      "image/png": "[encoded data removed]",
      "text/plain": [
       "<Figure size 1440x720 with 2 Axes>"
      ]
     },
     "metadata": {
      "needs_background": "light"
     }
    }
   ],
   "metadata": {}
  },
  {
   "cell_type": "markdown",
   "source": [
    "We will do the ADF tests just to be sure."
   ],
   "metadata": {}
  },
  {
   "cell_type": "code",
   "execution_count": 39,
   "source": [
    "time_series = time_series.dropna()\n",
    "result = adfuller(time_series['diff_quotation'].values)\n",
    "print(f'ADF Statistics for quotation: {result[0]}')\n",
    "print(f'p-value: {result[1]}')\n",
    "\n",
    "result = adfuller(time_series['diff_daily'].values)\n",
    "print(f'ADF Statistics for box office: {result[0]}')\n",
    "print(f'p-value: {result[1]}')"
   ],
   "outputs": [
    {
     "output_type": "stream",
     "name": "stdout",
     "text": [
      "ADF Statistics for quotation: -9.37547729509302\n",
      "p-value: 7.186865372345419e-16\n",
      "ADF Statistics for box office: -3.547067774241008\n",
      "p-value: 0.006857445486581326\n"
     ]
    }
   ],
   "metadata": {}
  },
  {
   "cell_type": "markdown",
   "source": [
    "The plots and the p-values suggest that we eliminated the time dependency. We will move on to check correlations."
   ],
   "metadata": {}
  },
  {
   "cell_type": "markdown",
   "source": [
    "We will use the VAR model fist (Vector autoregression). The VAR class assumes that the passed time series are stationary.\n",
    "\n",
    "A VAR model describes the evolution of a set of $k$ variables, over time. The variables are collected in a vector, $y_t$, which is of length $k$. The vector is modelled as a linear function of its previous value. The last term is the error term. $$y_t = A_1 y_{t-1} + A_2 y_{t-2} +... A_{p} y_{t-p} + \\epsilon$$"
   ],
   "metadata": {}
  },
  {
   "cell_type": "markdown",
   "source": [
    "We will try models with different lags, The best model will be selected by the minimum AIC score. If we have a model with $k$ parameters, and $L$ is the maximum value of the likelihood function for the model then the AIC score is given by: $AIC = 2k - 2 log(L)$"
   ],
   "metadata": {}
  },
  {
   "cell_type": "code",
   "execution_count": 40,
   "source": [
    "#time_series = time_series.set_index('date')\n",
    "def best_lag_by_aic(data):\n",
    "    model = VAR(data)\n",
    "    AIC = []\n",
    "    for i in range(0,15):\n",
    "        result = model.fit(i)\n",
    "        AIC.append(result.aic)\n",
    "    return np.argmin(AIC)\n",
    "\n",
    "best = best_lag_by_aic(time_series[['diff_daily', 'diff_quotation']])\n",
    "print(f' Best model: {best}')"
   ],
   "outputs": [
    {
     "output_type": "stream",
     "name": "stdout",
     "text": [
      " Best model: 11\n"
     ]
    }
   ],
   "metadata": {}
  },
  {
   "cell_type": "code",
   "execution_count": 42,
   "source": [
    "model = VAR(time_series[['diff_daily', 'diff_quotation']])\n",
    "results = model.fit(maxlags=11, ic='aic')\n",
    "results.resid_corr"
   ],
   "outputs": [
    {
     "output_type": "execute_result",
     "data": {
      "text/plain": [
       "array([[ 1.        , -0.05743393],\n",
       "       [-0.05743393,  1.        ]])"
      ]
     },
     "metadata": {},
     "execution_count": 42
    }
   ],
   "metadata": {}
  },
  {
   "cell_type": "markdown",
   "source": [
    "The residual errors of the VAR model suggests that the the two time series are not correlated."
   ],
   "metadata": {}
  },
  {
   "cell_type": "markdown",
   "source": [
    "## Granger Causality "
   ],
   "metadata": {}
  },
  {
   "cell_type": "markdown",
   "source": [
    "Now we perform a Granger Causality Test. The Granger causality test is a statistical hypothesis test for determining whether one time series is useful in forecasting another. We say that a variable $X$ that evolves over time Granger-causes another evolving variable $Y$ if predictions of the value of $Y$ based on its own past values and on the past values of $X$ are better than predictions of $Y$ based only on $Y$'s own past values.\n",
    "\n",
    "Formally let $\\mathcal{F}(t)$ be the filtration w.r.t. $X$ and $Y$ and let $\\mathcal{G}(t)$ be the sub-filtration w.r.t. only $Y$. ($\\mathcal{F}(t)$ has more information than $\\mathcal{G}(t)$). We want to test the hypothesis that $\\mathcal{P}(Y(t+1)\\in A| \\mathcal{F}(t)) \\neq \\mathcal{P}(X(t+1)\\in A | \\mathcal{G}(t))$ for arbitrary measurable set $A$."
   ],
   "metadata": {}
  },
  {
   "cell_type": "markdown",
   "source": [
    "In practise we undertake the following steps:\n",
    "- fit a VAR model to $Y$, that is $y_t=\\sum a_i y_{t-i} + \\epsilon$\n",
    "- fit a second VAR model to $Y$ using the information from $X$ as well $y_t =\\sum a_i y_{t-i} + \\epsilon + \\sum b_j x_{t-j} $\n",
    "- Test the null hypothesis that the coefficients corresponding to past values of the second time series are zero. (We will use chi2 test to do so, another popular option is to use a series of t and F tests)\n",
    "- We reject the the null hypothesis if there exists a significant predictor, in this case we say that $X$ Granger causes $Y$."
   ],
   "metadata": {}
  },
  {
   "cell_type": "code",
   "execution_count": 63,
   "source": [
    "optimal_lags"
   ],
   "outputs": [
    {
     "output_type": "execute_result",
     "data": {
      "text/plain": [
       "[array([ 1.38833145e-01,  1.38828760e-01, -3.92575289e+05]),\n",
       " array([-7.25016462e-01, -4.34124448e-01, -3.99384855e-07, -1.93238855e-07,\n",
       "        -6.70101449e-01]),\n",
       " array([ 3.70413707e-01,  1.04232145e-01,  2.92124456e+05,  2.68667904e+05,\n",
       "        -1.01470987e+05]),\n",
       " array([-0.17745217, -0.17745217, -0.22534458])]"
      ]
     },
     "metadata": {},
     "execution_count": 63
    }
   ],
   "metadata": {}
  },
  {
   "cell_type": "code",
   "execution_count": null,
   "source": [],
   "outputs": [],
   "metadata": {}
  },
  {
   "cell_type": "code",
   "execution_count": 77,
   "source": [
    "maxlag=11\n",
    "test = 'ssr_chi2test'\n",
    "def grangers_causation(data, test='ssr_chi2test', maxlag=maxlag):    \n",
    "    test_result = grangercausalitytests(data, maxlag=maxlag, verbose=False)\n",
    "    p_values = [round(test_result[i+1][0][test][1],4) for i in range(maxlag)]\n",
    "    min_p_value = np.min(p_values)\n",
    "    #params = test_result[np.argmin(p_values) + 1][1][1].params\n",
    "    return min_p_value\n",
    "\n",
    "test_result = grangers_causation(time_series[['diff_daily', 'diff_quotation']], test=test, maxlag=maxlag)\n",
    "test_result"
   ],
   "outputs": [
    {
     "output_type": "execute_result",
     "data": {
      "text/plain": [
       "0.0"
      ]
     },
     "metadata": {},
     "execution_count": 77
    }
   ],
   "metadata": {}
  },
  {
   "cell_type": "markdown",
   "source": [
    "We can reject the null hypothesis and conclude that diff_daily_x Granger causes diff_quotation_y. On the other hand diff_daily_y Granger causes diff_quotation_x. All the time series in the above data are interchangeably Granger causing each other."
   ],
   "metadata": {}
  },
  {
   "cell_type": "markdown",
   "source": [
    "Now let's make a helper function from the above steps and do the analysis for all the movies we have."
   ],
   "metadata": {}
  },
  {
   "cell_type": "code",
   "execution_count": 80,
   "source": [
    "df_boxOffice = pd.read_pickle(rf\"{data_dir}{os.sep}boxOffice.pkl\")   "
   ],
   "outputs": [],
   "metadata": {}
  },
  {
   "cell_type": "code",
   "execution_count": 78,
   "source": [
    "def time_series_granger_pipeline(titles):\n",
    "    cause_box = {}\n",
    "    for i, title in enumerate(titles):\n",
    "        try:\n",
    "            #load quotations\n",
    "            time_series = quotes[quotes['movie'] == title].groupby(['date'],  as_index=False).count()[['date', 'quotation']]\n",
    "\n",
    "            #load box office\n",
    "            bo = df_boxOffice[df_boxOffice['movie']==title]\n",
    "            bo = bo.rename(columns={'days': 'date'})\n",
    "            bo['date'] = pd.to_datetime(bo['date'])\n",
    "            bo = bo[['date','daily']]\n",
    "            time_series = time_series.merge(bo, how='left', on='date')\n",
    "            time_series = time_series.dropna()\n",
    "\n",
    "            #transforming into stationary time series\n",
    "            time_series['diff_quotation'] = time_series['quotation'].diff() \n",
    "            time_series['diff_daily'] = time_series['daily'].diff()\n",
    "            time_series = time_series.dropna()\n",
    "            \n",
    "            #choosing the best lag for Vector Autoregression by AIC score\n",
    "            maxlag = best_lag_by_aic(time_series[['diff_daily', 'diff_quotation']])\n",
    "            \n",
    "            gcm = grangers_causation(time_series[['diff_daily', 'diff_quotation']], test='ssr_chi2test', maxlag=maxlag)\n",
    "            cause_box[title] = (gcm, gcm < 0.05)\n",
    "        except:\n",
    "            pass\n",
    "       \n",
    "    return cause_box\n",
    "        \n"
   ],
   "outputs": [],
   "metadata": {}
  },
  {
   "cell_type": "code",
   "execution_count": 80,
   "source": [
    "titles = list(quotes['movie'].unique())\n",
    "cause_box = time_series_granger_pipeline(titles)"
   ],
   "outputs": [],
   "metadata": {}
  },
  {
   "cell_type": "markdown",
   "source": [
    "Finally we plot the results. We are interested in whether the daily number of quotes Granger causes the box office sales."
   ],
   "metadata": {}
  },
  {
   "cell_type": "code",
   "execution_count": 81,
   "source": [
    "import plotly.express as px\n",
    "\n",
    "sent2box = np.array([(movie, p_val, reject) for movie, (p_val, reject) in cause_box.items()])\n",
    "temp = pd.DataFrame(sent2box).rename(columns={0: 'movie', 1: 'p_vals', 2: 'reject'})\n",
    "\n",
    "fig = px.bar(x=temp.reject, y=(np.ones(len(temp.reject))), labels={'x':'based on p-values < 0.05', 'y':'count'},\n",
    "            hover_name =temp.movie,\n",
    "            color=temp.reject,\n",
    "            color_discrete_sequence=['#B51F1F', '#00A79F'],\n",
    "            title='Do the daily number of quotes influence the daily Box Office sales?')\n",
    "fig.show()"
   ],
   "outputs": [
    {
     "output_type": "display_data",
     "data": {
      "application/vnd.plotly.v1+json": {
       "data": [
        {
         "alignmentgroup": "True",
         "hovertemplate": "<b>%{hovertext}</b><br><br>color=True<br>based on p-values < 0.05=%{x}<br>count=%{y}<extra></extra>",
         "hovertext": [
          "Star Wars: Episode VII - The Force Awakens",
          "Avengers: Age of Ultron",
          "The Martian",
          "Captain America: Civil War",
          "Deadpool",
          "Wonder Woman",
          "Star Wars: Episode VIII - The Last Jedi",
          "Beauty and the Beast",
          "Thor: Ragnarok",
          "Jumanji: Welcome to the Jungle",
          "Venom",
          "Black Panther",
          "Avengers: Infinity War",
          "Aquaman",
          "Star Wars: Episode IX - The Rise of Skywalker",
          "Captain Marvel",
          "Joker",
          "The Lion King",
          "Avengers: Endgame",
          "Aladdin"
         ],
         "legendgroup": "True",
         "marker": {
          "color": "#B51F1F",
          "pattern": {
           "shape": ""
          }
         },
         "name": "True",
         "offsetgroup": "True",
         "orientation": "v",
         "showlegend": true,
         "textposition": "auto",
         "x": [
          "True",
          "True",
          "True",
          "True",
          "True",
          "True",
          "True",
          "True",
          "True",
          "True",
          "True",
          "True",
          "True",
          "True",
          "True",
          "True",
          "True",
          "True",
          "True",
          "True"
         ],
         "xaxis": "x",
         "y": [
          1,
          1,
          1,
          1,
          1,
          1,
          1,
          1,
          1,
          1,
          1,
          1,
          1,
          1,
          1,
          1,
          1,
          1,
          1,
          1
         ],
         "yaxis": "y",
         "type": "bar"
        },
        {
         "alignmentgroup": "True",
         "hovertemplate": "<b>%{hovertext}</b><br><br>color=False<br>based on p-values < 0.05=%{x}<br>count=%{y}<extra></extra>",
         "hovertext": [
          "Jurassic World",
          "Bohemian Rhapsody"
         ],
         "legendgroup": "False",
         "marker": {
          "color": "#00A79F",
          "pattern": {
           "shape": ""
          }
         },
         "name": "False",
         "offsetgroup": "False",
         "orientation": "v",
         "showlegend": true,
         "textposition": "auto",
         "x": [
          "False",
          "False"
         ],
         "xaxis": "x",
         "y": [
          1,
          1
         ],
         "yaxis": "y",
         "type": "bar"
        }
       ],
       "layout": {
        "template": {
         "data": {
          "bar": [
           {
            "error_x": {
             "color": "#2a3f5f"
            },
            "error_y": {
             "color": "#2a3f5f"
            },
            "marker": {
             "line": {
              "color": "#E5ECF6",
              "width": 0.5
             },
             "pattern": {
              "fillmode": "overlay",
              "size": 10,
              "solidity": 0.2
             }
            },
            "type": "bar"
           }
          ],
          "barpolar": [
           {
            "marker": {
             "line": {
              "color": "#E5ECF6",
              "width": 0.5
             },
             "pattern": {
              "fillmode": "overlay",
              "size": 10,
              "solidity": 0.2
             }
            },
            "type": "barpolar"
           }
          ],
          "carpet": [
           {
            "aaxis": {
             "endlinecolor": "#2a3f5f",
             "gridcolor": "white",
             "linecolor": "white",
             "minorgridcolor": "white",
             "startlinecolor": "#2a3f5f"
            },
            "baxis": {
             "endlinecolor": "#2a3f5f",
             "gridcolor": "white",
             "linecolor": "white",
             "minorgridcolor": "white",
             "startlinecolor": "#2a3f5f"
            },
            "type": "carpet"
           }
          ],
          "choropleth": [
           {
            "colorbar": {
             "outlinewidth": 0,
             "ticks": ""
            },
            "type": "choropleth"
           }
          ],
          "contour": [
           {
            "colorbar": {
             "outlinewidth": 0,
             "ticks": ""
            },
            "colorscale": [
             [
              0,
              "#0d0887"
             ],
             [
              0.1111111111111111,
              "#46039f"
             ],
             [
              0.2222222222222222,
              "#7201a8"
             ],
             [
              0.3333333333333333,
              "#9c179e"
             ],
             [
              0.4444444444444444,
              "#bd3786"
             ],
             [
              0.5555555555555556,
              "#d8576b"
             ],
             [
              0.6666666666666666,
              "#ed7953"
             ],
             [
              0.7777777777777778,
              "#fb9f3a"
             ],
             [
              0.8888888888888888,
              "#fdca26"
             ],
             [
              1,
              "#f0f921"
             ]
            ],
            "type": "contour"
           }
          ],
          "contourcarpet": [
           {
            "colorbar": {
             "outlinewidth": 0,
             "ticks": ""
            },
            "type": "contourcarpet"
           }
          ],
          "heatmap": [
           {
            "colorbar": {
             "outlinewidth": 0,
             "ticks": ""
            },
            "colorscale": [
             [
              0,
              "#0d0887"
             ],
             [
              0.1111111111111111,
              "#46039f"
             ],
             [
              0.2222222222222222,
              "#7201a8"
             ],
             [
              0.3333333333333333,
              "#9c179e"
             ],
             [
              0.4444444444444444,
              "#bd3786"
             ],
             [
              0.5555555555555556,
              "#d8576b"
             ],
             [
              0.6666666666666666,
              "#ed7953"
             ],
             [
              0.7777777777777778,
              "#fb9f3a"
             ],
             [
              0.8888888888888888,
              "#fdca26"
             ],
             [
              1,
              "#f0f921"
             ]
            ],
            "type": "heatmap"
           }
          ],
          "heatmapgl": [
           {
            "colorbar": {
             "outlinewidth": 0,
             "ticks": ""
            },
            "colorscale": [
             [
              0,
              "#0d0887"
             ],
             [
              0.1111111111111111,
              "#46039f"
             ],
             [
              0.2222222222222222,
              "#7201a8"
             ],
             [
              0.3333333333333333,
              "#9c179e"
             ],
             [
              0.4444444444444444,
              "#bd3786"
             ],
             [
              0.5555555555555556,
              "#d8576b"
             ],
             [
              0.6666666666666666,
              "#ed7953"
             ],
             [
              0.7777777777777778,
              "#fb9f3a"
             ],
             [
              0.8888888888888888,
              "#fdca26"
             ],
             [
              1,
              "#f0f921"
             ]
            ],
            "type": "heatmapgl"
           }
          ],
          "histogram": [
           {
            "marker": {
             "pattern": {
              "fillmode": "overlay",
              "size": 10,
              "solidity": 0.2
             }
            },
            "type": "histogram"
           }
          ],
          "histogram2d": [
           {
            "colorbar": {
             "outlinewidth": 0,
             "ticks": ""
            },
            "colorscale": [
             [
              0,
              "#0d0887"
             ],
             [
              0.1111111111111111,
              "#46039f"
             ],
             [
              0.2222222222222222,
              "#7201a8"
             ],
             [
              0.3333333333333333,
              "#9c179e"
             ],
             [
              0.4444444444444444,
              "#bd3786"
             ],
             [
              0.5555555555555556,
              "#d8576b"
             ],
             [
              0.6666666666666666,
              "#ed7953"
             ],
             [
              0.7777777777777778,
              "#fb9f3a"
             ],
             [
              0.8888888888888888,
              "#fdca26"
             ],
             [
              1,
              "#f0f921"
             ]
            ],
            "type": "histogram2d"
           }
          ],
          "histogram2dcontour": [
           {
            "colorbar": {
             "outlinewidth": 0,
             "ticks": ""
            },
            "colorscale": [
             [
              0,
              "#0d0887"
             ],
             [
              0.1111111111111111,
              "#46039f"
             ],
             [
              0.2222222222222222,
              "#7201a8"
             ],
             [
              0.3333333333333333,
              "#9c179e"
             ],
             [
              0.4444444444444444,
              "#bd3786"
             ],
             [
              0.5555555555555556,
              "#d8576b"
             ],
             [
              0.6666666666666666,
              "#ed7953"
             ],
             [
              0.7777777777777778,
              "#fb9f3a"
             ],
             [
              0.8888888888888888,
              "#fdca26"
             ],
             [
              1,
              "#f0f921"
             ]
            ],
            "type": "histogram2dcontour"
           }
          ],
          "mesh3d": [
           {
            "colorbar": {
             "outlinewidth": 0,
             "ticks": ""
            },
            "type": "mesh3d"
           }
          ],
          "parcoords": [
           {
            "line": {
             "colorbar": {
              "outlinewidth": 0,
              "ticks": ""
             }
            },
            "type": "parcoords"
           }
          ],
          "pie": [
           {
            "automargin": true,
            "type": "pie"
           }
          ],
          "scatter": [
           {
            "marker": {
             "colorbar": {
              "outlinewidth": 0,
              "ticks": ""
             }
            },
            "type": "scatter"
           }
          ],
          "scatter3d": [
           {
            "line": {
             "colorbar": {
              "outlinewidth": 0,
              "ticks": ""
             }
            },
            "marker": {
             "colorbar": {
              "outlinewidth": 0,
              "ticks": ""
             }
            },
            "type": "scatter3d"
           }
          ],
          "scattercarpet": [
           {
            "marker": {
             "colorbar": {
              "outlinewidth": 0,
              "ticks": ""
             }
            },
            "type": "scattercarpet"
           }
          ],
          "scattergeo": [
           {
            "marker": {
             "colorbar": {
              "outlinewidth": 0,
              "ticks": ""
             }
            },
            "type": "scattergeo"
           }
          ],
          "scattergl": [
           {
            "marker": {
             "colorbar": {
              "outlinewidth": 0,
              "ticks": ""
             }
            },
            "type": "scattergl"
           }
          ],
          "scattermapbox": [
           {
            "marker": {
             "colorbar": {
              "outlinewidth": 0,
              "ticks": ""
             }
            },
            "type": "scattermapbox"
           }
          ],
          "scatterpolar": [
           {
            "marker": {
             "colorbar": {
              "outlinewidth": 0,
              "ticks": ""
             }
            },
            "type": "scatterpolar"
           }
          ],
          "scatterpolargl": [
           {
            "marker": {
             "colorbar": {
              "outlinewidth": 0,
              "ticks": ""
             }
            },
            "type": "scatterpolargl"
           }
          ],
          "scatterternary": [
           {
            "marker": {
             "colorbar": {
              "outlinewidth": 0,
              "ticks": ""
             }
            },
            "type": "scatterternary"
           }
          ],
          "surface": [
           {
            "colorbar": {
             "outlinewidth": 0,
             "ticks": ""
            },
            "colorscale": [
             [
              0,
              "#0d0887"
             ],
             [
              0.1111111111111111,
              "#46039f"
             ],
             [
              0.2222222222222222,
              "#7201a8"
             ],
             [
              0.3333333333333333,
              "#9c179e"
             ],
             [
              0.4444444444444444,
              "#bd3786"
             ],
             [
              0.5555555555555556,
              "#d8576b"
             ],
             [
              0.6666666666666666,
              "#ed7953"
             ],
             [
              0.7777777777777778,
              "#fb9f3a"
             ],
             [
              0.8888888888888888,
              "#fdca26"
             ],
             [
              1,
              "#f0f921"
             ]
            ],
            "type": "surface"
           }
          ],
          "table": [
           {
            "cells": {
             "fill": {
              "color": "#EBF0F8"
             },
             "line": {
              "color": "white"
             }
            },
            "header": {
             "fill": {
              "color": "#C8D4E3"
             },
             "line": {
              "color": "white"
             }
            },
            "type": "table"
           }
          ]
         },
         "layout": {
          "annotationdefaults": {
           "arrowcolor": "#2a3f5f",
           "arrowhead": 0,
           "arrowwidth": 1
          },
          "autotypenumbers": "strict",
          "coloraxis": {
           "colorbar": {
            "outlinewidth": 0,
            "ticks": ""
           }
          },
          "colorscale": {
           "diverging": [
            [
             0,
             "#8e0152"
            ],
            [
             0.1,
             "#c51b7d"
            ],
            [
             0.2,
             "#de77ae"
            ],
            [
             0.3,
             "#f1b6da"
            ],
            [
             0.4,
             "#fde0ef"
            ],
            [
             0.5,
             "#f7f7f7"
            ],
            [
             0.6,
             "#e6f5d0"
            ],
            [
             0.7,
             "#b8e186"
            ],
            [
             0.8,
             "#7fbc41"
            ],
            [
             0.9,
             "#4d9221"
            ],
            [
             1,
             "#276419"
            ]
           ],
           "sequential": [
            [
             0,
             "#0d0887"
            ],
            [
             0.1111111111111111,
             "#46039f"
            ],
            [
             0.2222222222222222,
             "#7201a8"
            ],
            [
             0.3333333333333333,
             "#9c179e"
            ],
            [
             0.4444444444444444,
             "#bd3786"
            ],
            [
             0.5555555555555556,
             "#d8576b"
            ],
            [
             0.6666666666666666,
             "#ed7953"
            ],
            [
             0.7777777777777778,
             "#fb9f3a"
            ],
            [
             0.8888888888888888,
             "#fdca26"
            ],
            [
             1,
             "#f0f921"
            ]
           ],
           "sequentialminus": [
            [
             0,
             "#0d0887"
            ],
            [
             0.1111111111111111,
             "#46039f"
            ],
            [
             0.2222222222222222,
             "#7201a8"
            ],
            [
             0.3333333333333333,
             "#9c179e"
            ],
            [
             0.4444444444444444,
             "#bd3786"
            ],
            [
             0.5555555555555556,
             "#d8576b"
            ],
            [
             0.6666666666666666,
             "#ed7953"
            ],
            [
             0.7777777777777778,
             "#fb9f3a"
            ],
            [
             0.8888888888888888,
             "#fdca26"
            ],
            [
             1,
             "#f0f921"
            ]
           ]
          },
          "colorway": [
           "#636efa",
           "#EF553B",
           "#00cc96",
           "#ab63fa",
           "#FFA15A",
           "#19d3f3",
           "#FF6692",
           "#B6E880",
           "#FF97FF",
           "#FECB52"
          ],
          "font": {
           "color": "#2a3f5f"
          },
          "geo": {
           "bgcolor": "white",
           "lakecolor": "white",
           "landcolor": "#E5ECF6",
           "showlakes": true,
           "showland": true,
           "subunitcolor": "white"
          },
          "hoverlabel": {
           "align": "left"
          },
          "hovermode": "closest",
          "mapbox": {
           "style": "light"
          },
          "paper_bgcolor": "white",
          "plot_bgcolor": "#E5ECF6",
          "polar": {
           "angularaxis": {
            "gridcolor": "white",
            "linecolor": "white",
            "ticks": ""
           },
           "bgcolor": "#E5ECF6",
           "radialaxis": {
            "gridcolor": "white",
            "linecolor": "white",
            "ticks": ""
           }
          },
          "scene": {
           "xaxis": {
            "backgroundcolor": "#E5ECF6",
            "gridcolor": "white",
            "gridwidth": 2,
            "linecolor": "white",
            "showbackground": true,
            "ticks": "",
            "zerolinecolor": "white"
           },
           "yaxis": {
            "backgroundcolor": "#E5ECF6",
            "gridcolor": "white",
            "gridwidth": 2,
            "linecolor": "white",
            "showbackground": true,
            "ticks": "",
            "zerolinecolor": "white"
           },
           "zaxis": {
            "backgroundcolor": "#E5ECF6",
            "gridcolor": "white",
            "gridwidth": 2,
            "linecolor": "white",
            "showbackground": true,
            "ticks": "",
            "zerolinecolor": "white"
           }
          },
          "shapedefaults": {
           "line": {
            "color": "#2a3f5f"
           }
          },
          "ternary": {
           "aaxis": {
            "gridcolor": "white",
            "linecolor": "white",
            "ticks": ""
           },
           "baxis": {
            "gridcolor": "white",
            "linecolor": "white",
            "ticks": ""
           },
           "bgcolor": "#E5ECF6",
           "caxis": {
            "gridcolor": "white",
            "linecolor": "white",
            "ticks": ""
           }
          },
          "title": {
           "x": 0.05
          },
          "xaxis": {
           "automargin": true,
           "gridcolor": "white",
           "linecolor": "white",
           "ticks": "",
           "title": {
            "standoff": 15
           },
           "zerolinecolor": "white",
           "zerolinewidth": 2
          },
          "yaxis": {
           "automargin": true,
           "gridcolor": "white",
           "linecolor": "white",
           "ticks": "",
           "title": {
            "standoff": 15
           },
           "zerolinecolor": "white",
           "zerolinewidth": 2
          }
         }
        },
        "xaxis": {
         "anchor": "y",
         "domain": [
          0,
          1
         ],
         "title": {
          "text": "based on p-values < 0.05"
         }
        },
        "yaxis": {
         "anchor": "x",
         "domain": [
          0,
          1
         ],
         "title": {
          "text": "count"
         }
        },
        "legend": {
         "title": {
          "text": "color"
         },
         "tracegroupgap": 0
        },
        "title": {
         "text": "Do the daily number of quotes influence the daily Box Office sales?"
        },
        "barmode": "relative"
       },
       "config": {
        "plotlyServerURL": "https://plot.ly"
       }
      }
     },
     "metadata": {}
    }
   ],
   "metadata": {}
  },
  {
   "cell_type": "markdown",
   "source": [
    "We will adjust the p-values with the Bonferroni method."
   ],
   "metadata": {}
  },
  {
   "cell_type": "code",
   "execution_count": 82,
   "source": [
    "reject_sent2box, adj_pvals_sent2box, _, _ = multipletests(sent2box[:,1].astype(float), alpha=0.05, method='bonferroni')\n",
    "adj_pvals_df = pd.DataFrame(adj_pvals_sent2box, reject_sent2box)\n",
    "adj_pvals_df['movie'] = sent2box[:,0]\n",
    "adj_pvals_df = adj_pvals_df.reset_index().rename(columns={0: 'p_vals', 'index': 'reject'})\n",
    "\n",
    "fig = px.bar(x=adj_pvals_df.reject, y=(np.ones(len(adj_pvals_df.reject))), labels={'x':'based on adjusted p-values < 0.05', 'y':'count'},\n",
    "            hover_name =adj_pvals_df.movie,\n",
    "            color=adj_pvals_df.reject, #sent2box[:,0],\n",
    "            color_discrete_sequence=['#B51F1F', '#00A79F'],\n",
    "            title='Do the daily number of quotes influence the daily Box Office sales?')\n",
    "fig.show()"
   ],
   "outputs": [
    {
     "output_type": "display_data",
     "data": {
      "application/vnd.plotly.v1+json": {
       "data": [
        {
         "alignmentgroup": "True",
         "hovertemplate": "<b>%{hovertext}</b><br><br>color=True<br>based on adjusted p-values < 0.05=%{x}<br>count=%{y}<extra></extra>",
         "hovertext": [
          "Star Wars: Episode VII - The Force Awakens",
          "Avengers: Age of Ultron",
          "The Martian",
          "Captain America: Civil War",
          "Deadpool",
          "Wonder Woman",
          "Star Wars: Episode VIII - The Last Jedi",
          "Beauty and the Beast",
          "Thor: Ragnarok",
          "Jumanji: Welcome to the Jungle",
          "Venom",
          "Black Panther",
          "Avengers: Infinity War",
          "Aquaman",
          "Star Wars: Episode IX - The Rise of Skywalker",
          "Captain Marvel",
          "Joker",
          "The Lion King",
          "Aladdin"
         ],
         "legendgroup": "True",
         "marker": {
          "color": "#B51F1F",
          "pattern": {
           "shape": ""
          }
         },
         "name": "True",
         "offsetgroup": "True",
         "orientation": "v",
         "showlegend": true,
         "textposition": "auto",
         "x": [
          true,
          true,
          true,
          true,
          true,
          true,
          true,
          true,
          true,
          true,
          true,
          true,
          true,
          true,
          true,
          true,
          true,
          true,
          true
         ],
         "xaxis": "x",
         "y": [
          1,
          1,
          1,
          1,
          1,
          1,
          1,
          1,
          1,
          1,
          1,
          1,
          1,
          1,
          1,
          1,
          1,
          1,
          1
         ],
         "yaxis": "y",
         "type": "bar"
        },
        {
         "alignmentgroup": "True",
         "hovertemplate": "<b>%{hovertext}</b><br><br>color=False<br>based on adjusted p-values < 0.05=%{x}<br>count=%{y}<extra></extra>",
         "hovertext": [
          "Jurassic World",
          "Bohemian Rhapsody",
          "Avengers: Endgame"
         ],
         "legendgroup": "False",
         "marker": {
          "color": "#00A79F",
          "pattern": {
           "shape": ""
          }
         },
         "name": "False",
         "offsetgroup": "False",
         "orientation": "v",
         "showlegend": true,
         "textposition": "auto",
         "x": [
          false,
          false,
          false
         ],
         "xaxis": "x",
         "y": [
          1,
          1,
          1
         ],
         "yaxis": "y",
         "type": "bar"
        }
       ],
       "layout": {
        "template": {
         "data": {
          "bar": [
           {
            "error_x": {
             "color": "#2a3f5f"
            },
            "error_y": {
             "color": "#2a3f5f"
            },
            "marker": {
             "line": {
              "color": "#E5ECF6",
              "width": 0.5
             },
             "pattern": {
              "fillmode": "overlay",
              "size": 10,
              "solidity": 0.2
             }
            },
            "type": "bar"
           }
          ],
          "barpolar": [
           {
            "marker": {
             "line": {
              "color": "#E5ECF6",
              "width": 0.5
             },
             "pattern": {
              "fillmode": "overlay",
              "size": 10,
              "solidity": 0.2
             }
            },
            "type": "barpolar"
           }
          ],
          "carpet": [
           {
            "aaxis": {
             "endlinecolor": "#2a3f5f",
             "gridcolor": "white",
             "linecolor": "white",
             "minorgridcolor": "white",
             "startlinecolor": "#2a3f5f"
            },
            "baxis": {
             "endlinecolor": "#2a3f5f",
             "gridcolor": "white",
             "linecolor": "white",
             "minorgridcolor": "white",
             "startlinecolor": "#2a3f5f"
            },
            "type": "carpet"
           }
          ],
          "choropleth": [
           {
            "colorbar": {
             "outlinewidth": 0,
             "ticks": ""
            },
            "type": "choropleth"
           }
          ],
          "contour": [
           {
            "colorbar": {
             "outlinewidth": 0,
             "ticks": ""
            },
            "colorscale": [
             [
              0,
              "#0d0887"
             ],
             [
              0.1111111111111111,
              "#46039f"
             ],
             [
              0.2222222222222222,
              "#7201a8"
             ],
             [
              0.3333333333333333,
              "#9c179e"
             ],
             [
              0.4444444444444444,
              "#bd3786"
             ],
             [
              0.5555555555555556,
              "#d8576b"
             ],
             [
              0.6666666666666666,
              "#ed7953"
             ],
             [
              0.7777777777777778,
              "#fb9f3a"
             ],
             [
              0.8888888888888888,
              "#fdca26"
             ],
             [
              1,
              "#f0f921"
             ]
            ],
            "type": "contour"
           }
          ],
          "contourcarpet": [
           {
            "colorbar": {
             "outlinewidth": 0,
             "ticks": ""
            },
            "type": "contourcarpet"
           }
          ],
          "heatmap": [
           {
            "colorbar": {
             "outlinewidth": 0,
             "ticks": ""
            },
            "colorscale": [
             [
              0,
              "#0d0887"
             ],
             [
              0.1111111111111111,
              "#46039f"
             ],
             [
              0.2222222222222222,
              "#7201a8"
             ],
             [
              0.3333333333333333,
              "#9c179e"
             ],
             [
              0.4444444444444444,
              "#bd3786"
             ],
             [
              0.5555555555555556,
              "#d8576b"
             ],
             [
              0.6666666666666666,
              "#ed7953"
             ],
             [
              0.7777777777777778,
              "#fb9f3a"
             ],
             [
              0.8888888888888888,
              "#fdca26"
             ],
             [
              1,
              "#f0f921"
             ]
            ],
            "type": "heatmap"
           }
          ],
          "heatmapgl": [
           {
            "colorbar": {
             "outlinewidth": 0,
             "ticks": ""
            },
            "colorscale": [
             [
              0,
              "#0d0887"
             ],
             [
              0.1111111111111111,
              "#46039f"
             ],
             [
              0.2222222222222222,
              "#7201a8"
             ],
             [
              0.3333333333333333,
              "#9c179e"
             ],
             [
              0.4444444444444444,
              "#bd3786"
             ],
             [
              0.5555555555555556,
              "#d8576b"
             ],
             [
              0.6666666666666666,
              "#ed7953"
             ],
             [
              0.7777777777777778,
              "#fb9f3a"
             ],
             [
              0.8888888888888888,
              "#fdca26"
             ],
             [
              1,
              "#f0f921"
             ]
            ],
            "type": "heatmapgl"
           }
          ],
          "histogram": [
           {
            "marker": {
             "pattern": {
              "fillmode": "overlay",
              "size": 10,
              "solidity": 0.2
             }
            },
            "type": "histogram"
           }
          ],
          "histogram2d": [
           {
            "colorbar": {
             "outlinewidth": 0,
             "ticks": ""
            },
            "colorscale": [
             [
              0,
              "#0d0887"
             ],
             [
              0.1111111111111111,
              "#46039f"
             ],
             [
              0.2222222222222222,
              "#7201a8"
             ],
             [
              0.3333333333333333,
              "#9c179e"
             ],
             [
              0.4444444444444444,
              "#bd3786"
             ],
             [
              0.5555555555555556,
              "#d8576b"
             ],
             [
              0.6666666666666666,
              "#ed7953"
             ],
             [
              0.7777777777777778,
              "#fb9f3a"
             ],
             [
              0.8888888888888888,
              "#fdca26"
             ],
             [
              1,
              "#f0f921"
             ]
            ],
            "type": "histogram2d"
           }
          ],
          "histogram2dcontour": [
           {
            "colorbar": {
             "outlinewidth": 0,
             "ticks": ""
            },
            "colorscale": [
             [
              0,
              "#0d0887"
             ],
             [
              0.1111111111111111,
              "#46039f"
             ],
             [
              0.2222222222222222,
              "#7201a8"
             ],
             [
              0.3333333333333333,
              "#9c179e"
             ],
             [
              0.4444444444444444,
              "#bd3786"
             ],
             [
              0.5555555555555556,
              "#d8576b"
             ],
             [
              0.6666666666666666,
              "#ed7953"
             ],
             [
              0.7777777777777778,
              "#fb9f3a"
             ],
             [
              0.8888888888888888,
              "#fdca26"
             ],
             [
              1,
              "#f0f921"
             ]
            ],
            "type": "histogram2dcontour"
           }
          ],
          "mesh3d": [
           {
            "colorbar": {
             "outlinewidth": 0,
             "ticks": ""
            },
            "type": "mesh3d"
           }
          ],
          "parcoords": [
           {
            "line": {
             "colorbar": {
              "outlinewidth": 0,
              "ticks": ""
             }
            },
            "type": "parcoords"
           }
          ],
          "pie": [
           {
            "automargin": true,
            "type": "pie"
           }
          ],
          "scatter": [
           {
            "marker": {
             "colorbar": {
              "outlinewidth": 0,
              "ticks": ""
             }
            },
            "type": "scatter"
           }
          ],
          "scatter3d": [
           {
            "line": {
             "colorbar": {
              "outlinewidth": 0,
              "ticks": ""
             }
            },
            "marker": {
             "colorbar": {
              "outlinewidth": 0,
              "ticks": ""
             }
            },
            "type": "scatter3d"
           }
          ],
          "scattercarpet": [
           {
            "marker": {
             "colorbar": {
              "outlinewidth": 0,
              "ticks": ""
             }
            },
            "type": "scattercarpet"
           }
          ],
          "scattergeo": [
           {
            "marker": {
             "colorbar": {
              "outlinewidth": 0,
              "ticks": ""
             }
            },
            "type": "scattergeo"
           }
          ],
          "scattergl": [
           {
            "marker": {
             "colorbar": {
              "outlinewidth": 0,
              "ticks": ""
             }
            },
            "type": "scattergl"
           }
          ],
          "scattermapbox": [
           {
            "marker": {
             "colorbar": {
              "outlinewidth": 0,
              "ticks": ""
             }
            },
            "type": "scattermapbox"
           }
          ],
          "scatterpolar": [
           {
            "marker": {
             "colorbar": {
              "outlinewidth": 0,
              "ticks": ""
             }
            },
            "type": "scatterpolar"
           }
          ],
          "scatterpolargl": [
           {
            "marker": {
             "colorbar": {
              "outlinewidth": 0,
              "ticks": ""
             }
            },
            "type": "scatterpolargl"
           }
          ],
          "scatterternary": [
           {
            "marker": {
             "colorbar": {
              "outlinewidth": 0,
              "ticks": ""
             }
            },
            "type": "scatterternary"
           }
          ],
          "surface": [
           {
            "colorbar": {
             "outlinewidth": 0,
             "ticks": ""
            },
            "colorscale": [
             [
              0,
              "#0d0887"
             ],
             [
              0.1111111111111111,
              "#46039f"
             ],
             [
              0.2222222222222222,
              "#7201a8"
             ],
             [
              0.3333333333333333,
              "#9c179e"
             ],
             [
              0.4444444444444444,
              "#bd3786"
             ],
             [
              0.5555555555555556,
              "#d8576b"
             ],
             [
              0.6666666666666666,
              "#ed7953"
             ],
             [
              0.7777777777777778,
              "#fb9f3a"
             ],
             [
              0.8888888888888888,
              "#fdca26"
             ],
             [
              1,
              "#f0f921"
             ]
            ],
            "type": "surface"
           }
          ],
          "table": [
           {
            "cells": {
             "fill": {
              "color": "#EBF0F8"
             },
             "line": {
              "color": "white"
             }
            },
            "header": {
             "fill": {
              "color": "#C8D4E3"
             },
             "line": {
              "color": "white"
             }
            },
            "type": "table"
           }
          ]
         },
         "layout": {
          "annotationdefaults": {
           "arrowcolor": "#2a3f5f",
           "arrowhead": 0,
           "arrowwidth": 1
          },
          "autotypenumbers": "strict",
          "coloraxis": {
           "colorbar": {
            "outlinewidth": 0,
            "ticks": ""
           }
          },
          "colorscale": {
           "diverging": [
            [
             0,
             "#8e0152"
            ],
            [
             0.1,
             "#c51b7d"
            ],
            [
             0.2,
             "#de77ae"
            ],
            [
             0.3,
             "#f1b6da"
            ],
            [
             0.4,
             "#fde0ef"
            ],
            [
             0.5,
             "#f7f7f7"
            ],
            [
             0.6,
             "#e6f5d0"
            ],
            [
             0.7,
             "#b8e186"
            ],
            [
             0.8,
             "#7fbc41"
            ],
            [
             0.9,
             "#4d9221"
            ],
            [
             1,
             "#276419"
            ]
           ],
           "sequential": [
            [
             0,
             "#0d0887"
            ],
            [
             0.1111111111111111,
             "#46039f"
            ],
            [
             0.2222222222222222,
             "#7201a8"
            ],
            [
             0.3333333333333333,
             "#9c179e"
            ],
            [
             0.4444444444444444,
             "#bd3786"
            ],
            [
             0.5555555555555556,
             "#d8576b"
            ],
            [
             0.6666666666666666,
             "#ed7953"
            ],
            [
             0.7777777777777778,
             "#fb9f3a"
            ],
            [
             0.8888888888888888,
             "#fdca26"
            ],
            [
             1,
             "#f0f921"
            ]
           ],
           "sequentialminus": [
            [
             0,
             "#0d0887"
            ],
            [
             0.1111111111111111,
             "#46039f"
            ],
            [
             0.2222222222222222,
             "#7201a8"
            ],
            [
             0.3333333333333333,
             "#9c179e"
            ],
            [
             0.4444444444444444,
             "#bd3786"
            ],
            [
             0.5555555555555556,
             "#d8576b"
            ],
            [
             0.6666666666666666,
             "#ed7953"
            ],
            [
             0.7777777777777778,
             "#fb9f3a"
            ],
            [
             0.8888888888888888,
             "#fdca26"
            ],
            [
             1,
             "#f0f921"
            ]
           ]
          },
          "colorway": [
           "#636efa",
           "#EF553B",
           "#00cc96",
           "#ab63fa",
           "#FFA15A",
           "#19d3f3",
           "#FF6692",
           "#B6E880",
           "#FF97FF",
           "#FECB52"
          ],
          "font": {
           "color": "#2a3f5f"
          },
          "geo": {
           "bgcolor": "white",
           "lakecolor": "white",
           "landcolor": "#E5ECF6",
           "showlakes": true,
           "showland": true,
           "subunitcolor": "white"
          },
          "hoverlabel": {
           "align": "left"
          },
          "hovermode": "closest",
          "mapbox": {
           "style": "light"
          },
          "paper_bgcolor": "white",
          "plot_bgcolor": "#E5ECF6",
          "polar": {
           "angularaxis": {
            "gridcolor": "white",
            "linecolor": "white",
            "ticks": ""
           },
           "bgcolor": "#E5ECF6",
           "radialaxis": {
            "gridcolor": "white",
            "linecolor": "white",
            "ticks": ""
           }
          },
          "scene": {
           "xaxis": {
            "backgroundcolor": "#E5ECF6",
            "gridcolor": "white",
            "gridwidth": 2,
            "linecolor": "white",
            "showbackground": true,
            "ticks": "",
            "zerolinecolor": "white"
           },
           "yaxis": {
            "backgroundcolor": "#E5ECF6",
            "gridcolor": "white",
            "gridwidth": 2,
            "linecolor": "white",
            "showbackground": true,
            "ticks": "",
            "zerolinecolor": "white"
           },
           "zaxis": {
            "backgroundcolor": "#E5ECF6",
            "gridcolor": "white",
            "gridwidth": 2,
            "linecolor": "white",
            "showbackground": true,
            "ticks": "",
            "zerolinecolor": "white"
           }
          },
          "shapedefaults": {
           "line": {
            "color": "#2a3f5f"
           }
          },
          "ternary": {
           "aaxis": {
            "gridcolor": "white",
            "linecolor": "white",
            "ticks": ""
           },
           "baxis": {
            "gridcolor": "white",
            "linecolor": "white",
            "ticks": ""
           },
           "bgcolor": "#E5ECF6",
           "caxis": {
            "gridcolor": "white",
            "linecolor": "white",
            "ticks": ""
           }
          },
          "title": {
           "x": 0.05
          },
          "xaxis": {
           "automargin": true,
           "gridcolor": "white",
           "linecolor": "white",
           "ticks": "",
           "title": {
            "standoff": 15
           },
           "zerolinecolor": "white",
           "zerolinewidth": 2
          },
          "yaxis": {
           "automargin": true,
           "gridcolor": "white",
           "linecolor": "white",
           "ticks": "",
           "title": {
            "standoff": 15
           },
           "zerolinecolor": "white",
           "zerolinewidth": 2
          }
         }
        },
        "xaxis": {
         "anchor": "y",
         "domain": [
          0,
          1
         ],
         "title": {
          "text": "based on adjusted p-values < 0.05"
         }
        },
        "yaxis": {
         "anchor": "x",
         "domain": [
          0,
          1
         ],
         "title": {
          "text": "count"
         }
        },
        "legend": {
         "title": {
          "text": "color"
         },
         "tracegroupgap": 0
        },
        "title": {
         "text": "Do the daily number of quotes influence the daily Box Office sales?"
        },
        "barmode": "relative"
       },
       "config": {
        "plotlyServerURL": "https://plot.ly"
       }
      }
     },
     "metadata": {}
    }
   ],
   "metadata": {}
  },
  {
   "cell_type": "markdown",
   "source": [
    "Conclusion: it seems that for most of the movies we can conclude Granger causality, which means in general big media coverage results with high box office revenue."
   ],
   "metadata": {}
  },
  {
   "cell_type": "markdown",
   "source": [
    "---"
   ],
   "metadata": {}
  },
  {
   "cell_type": "markdown",
   "source": [
    "# RQ5: The effect of COVID on media coverage of movies <a class=\"anchor\" id=\"chapter5\"></a>"
   ],
   "metadata": {}
  },
  {
   "cell_type": "markdown",
   "source": [
    "## Proposed method: \n",
    "## 5.1. Calculate mean number of quotes on movies between 2015-2019 on a daily basis, calculate confidence intervals (bootstrapping), compare with 2020 data <a class=\"anchor\" id=\"chapter51\"></a>"
   ],
   "metadata": {}
  },
  {
   "cell_type": "code",
   "execution_count": 46,
   "source": [
    "with open('./exploratory/data/rq1/top_10.json') as json_file:\n",
    "    top10_movies = json.load(json_file)"
   ],
   "outputs": [],
   "metadata": {}
  },
  {
   "cell_type": "code",
   "execution_count": 60,
   "source": [
    "def count_quotes_by_movies(quotes, top10_movies):\n",
    "\n",
    "    pre_covid_movies = top10_movies[str(2015)] + top10_movies[str(2016)] + top10_movies[str(2017)] + top10_movies[str(2018)] + top10_movies[str(2019)]\n",
    "\n",
    "    covid_movies = top10_movies[str(2020)]\n",
    "\n",
    "    all_quotes_by_date = []\n",
    "    for movie in pre_covid_movies:\n",
    "        df = quotes[quotes['movie'] == movie]['date']\n",
    "        df = dict(Counter(df))\n",
    "        all_quotes_by_date.append({f'{k.month}-{k.day}': v for k, v in df.items()})\n",
    "\n",
    "    final = defaultdict(list)\n",
    "    for dict_ in all_quotes_by_date:\n",
    "        for k, v in dict_.items():\n",
    "            final[k].append(v)\n",
    "\n",
    "    covid_quotes_by_date = []\n",
    "    for movie in covid_movies:\n",
    "        df = quotes[quotes['movie'] == movie]['date']\n",
    "        df = dict(Counter(df))\n",
    "        covid_quotes_by_date.append({f'{k.month}-{k.day}': v for k, v in df.items()})\n",
    "\n",
    "    covid_final = defaultdict(list)\n",
    "    for dict_ in covid_quotes_by_date:\n",
    "        for k, v in dict_.items():\n",
    "            covid_final[k].append(v)\n",
    "\n",
    "    return final, covid_final\n",
    "\n",
    "def calculate_average_by_date(final, covid_final):\n",
    "    final = OrderedDict(sorted(final.items(), key=lambda t: t[0]))\n",
    "    covid_final = OrderedDict(sorted(covid_final.items(), key=lambda t: t[0]))\n",
    "    averages = OrderedDict()\n",
    "    covid_averages = OrderedDict()\n",
    "\n",
    "    for k,v in final.items():\n",
    "        averages[k] = np.array(v).mean()\n",
    "        covid_averages[k] = 0\n",
    "    \n",
    "    for k,v in covid_final.items():\n",
    "        covid_averages[k] = np.array(v).mean()\n",
    "\n",
    "    return averages, covid_averages"
   ],
   "outputs": [],
   "metadata": {}
  },
  {
   "cell_type": "code",
   "execution_count": 67,
   "source": [
    "final, covid_final = count_quotes_by_movies(quotes, top10_movies)\n",
    "final = OrderedDict(sorted(final.items(), key=lambda t: t[0]))\n",
    "covid_final = OrderedDict(sorted(covid_final.items(), key=lambda t: t[0]))\n",
    "averages, covid_averages = calculate_average_by_date(final, covid_final)"
   ],
   "outputs": [],
   "metadata": {}
  },
  {
   "cell_type": "markdown",
   "source": [
    "2020 is a leap year, so we get rid of 29 of February"
   ],
   "metadata": {}
  },
  {
   "cell_type": "code",
   "execution_count": 68,
   "source": [
    "leap = covid_averages['2-29']\n",
    "print(f'number of quotes on February 29: {leap}')\n",
    "del covid_averages['2-29']"
   ],
   "outputs": [
    {
     "output_type": "stream",
     "name": "stdout",
     "text": [
      "number of quotes on February 29: 3.0\n"
     ]
    }
   ],
   "metadata": {}
  },
  {
   "cell_type": "code",
   "execution_count": 69,
   "source": [
    "#bootsrap confidence intervals\n",
    "lens = []\n",
    "for k,v in tqdm(final.items()):\n",
    "    lens.append(len(v))\n",
    "avg = sum(lens)/len(lens)\n",
    "print(f'average number of movies being quoted: {avg}')\n",
    "\n",
    "lower_bound = []\n",
    "upper_bound = []\n",
    "for k,v in tqdm(final.items()):\n",
    "    if len(v) < int(avg):\n",
    "        x = np.zeros(int(avg)) #padding with zeros if we have few observations\n",
    "        x[:len(v)] = v\n",
    "    l, u = bootstrap_CI(x, 1000)\n",
    "    lower_bound.append(l)\n",
    "    upper_bound.append(u)"
   ],
   "outputs": [
    {
     "output_type": "stream",
     "name": "stderr",
     "text": [
      "100%|██████████| 366/366 [00:00<00:00, 372872.30it/s]\n"
     ]
    },
    {
     "output_type": "stream",
     "name": "stdout",
     "text": [
      "average number of movies being quoted: 25.415300546448087\n"
     ]
    },
    {
     "output_type": "stream",
     "name": "stderr",
     "text": [
      "100%|██████████| 366/366 [00:20<00:00, 17.59it/s]\n"
     ]
    }
   ],
   "metadata": {}
  },
  {
   "cell_type": "code",
   "execution_count": 70,
   "source": [
    "fig, ax = plt.subplots(figsize=(20,10))\n",
    "\n",
    "ax.set_title('Average media coverage: covid vs non-covid movies')\n",
    "plt.fill_between(np.arange(106), lower_bound[:106], upper_bound[:106], alpha=.2, color='blue')\n",
    "sns.lineplot(np.arange(106), list(averages.values())[:106], ax=ax, label='2015-2019 movies')\n",
    "sns.lineplot(np.arange(106), list(covid_averages.values())[:106], ax=ax, color='red', label='2020           movies')\n",
    "ax.set_xlabel('date')\n",
    "ax.set_ylabel('average number of quotes')"
   ],
   "outputs": [
    {
     "output_type": "execute_result",
     "data": {
      "text/plain": [
       "Text(0, 0.5, 'average number of quotes')"
      ]
     },
     "metadata": {},
     "execution_count": 70
    },
    {
     "output_type": "display_data",
     "data": {
      "image/png": "[encoded data removed]",
      "text/plain": [
       "<Figure size 1440x720 with 1 Axes>"
      ]
     },
     "metadata": {
      "needs_background": "light"
     }
    }
   ],
   "metadata": {}
  },
  {
   "cell_type": "markdown",
   "source": [
    "The plot suggests that from the beginning of march in 2020, movies were quoted less than in the years before. The red line is not in the confidence interval, so we can conclude the difference is significant. This means the covid pendemic had a negative effect on the news about movies."
   ],
   "metadata": {}
  },
  {
   "cell_type": "markdown",
   "source": [
    "---"
   ],
   "metadata": {}
  },
  {
   "cell_type": "markdown",
   "source": [
    "## Proposed method:\n",
    "## Use regression for comparison of the mean number of quotes across movies in covid and non-covid period, use t-test for comparison of means <a class=\"anchor\" id=\"chapter52\"></a>"
   ],
   "metadata": {}
  },
  {
   "cell_type": "markdown",
   "source": [
    "We have to be extra careful in this task again, 2020 data is until 04-16, so in ored to make it comperable we will only consider quotes in this period between 2015-2019."
   ],
   "metadata": {}
  },
  {
   "cell_type": "code",
   "execution_count": 71,
   "source": [
    "filtered = []\n",
    "\n",
    "quotes['date'] = pd.to_datetime(quotes['date'])\n",
    "\n",
    "#filtering quotes before 2020 to get quotes only before 04-16 (we only have data for this period in 2020)\n",
    "for year in range(2015, 2020):\n",
    "    value_to_check = pd.Timestamp(year, 4, 16)\n",
    "    filter_mask = quotes['date'] < value_to_check\n",
    "    filtered.append(quotes[filter_mask])\n",
    "\n",
    "#filteirng quotes in 2020\n",
    "value_to_check = pd.Timestamp(2019, 12, 31)  \n",
    "filter_mask = quotes['date'] > value_to_check\n",
    "filtered.append(quotes[filter_mask])\n",
    "quotes_before_04_16 = pd.concat(filtered)\n",
    "\n",
    "covid = df.merge(quotes_before_04_16.groupby('movie').sum()['numOccurrences'],left_on='original_title', right_index=True) #merge quotes with movies\n",
    "covid = covid[['original_title','year', 'numOccurrences']]\n",
    "covid['year'] = covid['year'].astype(int)\n",
    "covid = covid[covid['year']>2014]\n",
    "covid['covid'] = 0\n",
    "covid.loc[covid['year'] == 2020, 'covid'] = 1 #adding dummy variable whether a movie came out in 2020 or not (effected by the pandemic)"
   ],
   "outputs": [],
   "metadata": {}
  },
  {
   "cell_type": "code",
   "execution_count": 72,
   "source": [
    "fig, ax = plt.subplots(nrows=1, ncols=1, figsize =(14,6))\n",
    "sns.pointplot(x='covid', y='numOccurrences', data=covid, color='black', ax=ax)"
   ],
   "outputs": [
    {
     "output_type": "execute_result",
     "data": {
      "text/plain": [
       "<AxesSubplot:xlabel='covid', ylabel='numOccurrences'>"
      ]
     },
     "metadata": {},
     "execution_count": 72
    },
    {
     "output_type": "display_data",
     "data": {
      "image/png": "[encoded data removed]",
      "text/plain": [
       "<Figure size 1008x432 with 1 Axes>"
      ]
     },
     "metadata": {
      "needs_background": "light"
     }
    }
   ],
   "metadata": {}
  },
  {
   "cell_type": "markdown",
   "source": [
    "The plot suggests that the difference is significant, the two dot represent the mean of the data and the lines are the bootstrapped confidence intervals, since the intervals do not overlap, the difference is significant. We can come to similar conclusion using linear regression"
   ],
   "metadata": {}
  },
  {
   "cell_type": "code",
   "execution_count": 73,
   "source": [
    "res = smf.ols(formula='numOccurrences ~ covid', data=covid).fit()\n",
    "print(res.summary())"
   ],
   "outputs": [
    {
     "output_type": "stream",
     "name": "stdout",
     "text": [
      "                            OLS Regression Results                            \n",
      "==============================================================================\n",
      "Dep. Variable:         numOccurrences   R-squared:                       0.028\n",
      "Model:                            OLS   Adj. R-squared:                  0.010\n",
      "Method:                 Least Squares   F-statistic:                     1.593\n",
      "Date:                Sun, 12 Dec 2021   Prob (F-statistic):              0.212\n",
      "Time:                        21:13:03   Log-Likelihood:                -618.51\n",
      "No. Observations:                  58   AIC:                             1241.\n",
      "Df Residuals:                      56   BIC:                             1245.\n",
      "Df Model:                           1                                         \n",
      "Covariance Type:            nonrobust                                         \n",
      "==============================================================================\n",
      "                 coef    std err          t      P>|t|      [0.025      0.975]\n",
      "------------------------------------------------------------------------------\n",
      "Intercept   5450.5294   1475.402      3.694      0.001    2494.944    8406.115\n",
      "covid      -5360.9580   4246.932     -1.262      0.212   -1.39e+04    3146.669\n",
      "==============================================================================\n",
      "Omnibus:                       78.067   Durbin-Watson:                   1.124\n",
      "Prob(Omnibus):                  0.000   Jarque-Bera (JB):              841.678\n",
      "Skew:                           3.828   Prob(JB):                    1.71e-183\n",
      "Kurtosis:                      20.020   Cond. No.                         3.12\n",
      "==============================================================================\n",
      "\n",
      "Notes:\n",
      "[1] Standard Errors assume that the covariance matrix of the errors is correctly specified.\n"
     ]
    }
   ],
   "metadata": {}
  },
  {
   "cell_type": "markdown",
   "source": [
    "We can observe the following:\n",
    "$$ \\text{number of quotes} = 5450 - 5360 \\times \\text{covid}$$\n",
    "\n",
    "From the regression we can see immediately see that the mean score for non-covid movies is the intercept ($2264 $), and adding the dummy indicator *covid*, we get the mean score for movies in 2020, which is $66$."
   ],
   "metadata": {}
  },
  {
   "cell_type": "markdown",
   "source": [
    "Embedding & PCA "
   ],
   "metadata": {}
  },
  {
   "cell_type": "code",
   "execution_count": null,
   "source": [
    "import spacy\n",
    "# Load the spacy model that you have installed\n",
    "nlp = spacy.load('en_core_web_md')\n",
    "# process a sentence using the model"
   ],
   "outputs": [],
   "metadata": {}
  },
  {
   "cell_type": "code",
   "execution_count": null,
   "source": [
    "from tqdm import tqdm\n",
    "tqdm.pandas(desc=\"my bar!\")\n",
    "quotes['vector'] = quotes['quotation'].progress_apply(lambda x: nlp(x).vector)"
   ],
   "outputs": [],
   "metadata": {}
  },
  {
   "cell_type": "code",
   "execution_count": null,
   "source": [
    "filtered = quotes[quotes['movie'].isin(['Avengers: Endgame', 'Star Wars: Episode VII - The Force Awakens'])]"
   ],
   "outputs": [],
   "metadata": {}
  },
  {
   "cell_type": "code",
   "execution_count": null,
   "source": [
    "X = quotes['vector'].to_numpy()\n",
    "X = np.stack(X, axis=0)\n",
    "from sklearn.decomposition import PCA\n",
    "pca = PCA(n_components=2)\n",
    "pca.fit(X)\n"
   ],
   "outputs": [],
   "metadata": {}
  },
  {
   "cell_type": "code",
   "execution_count": null,
   "source": [
    "Y = filtered['vector'].to_numpy()\n",
    "Y = np.stack(Y, axis=0)\n",
    "principalComponents = pca.fit_transform(Y)\n",
    "filtered['pc1'] = principalComponents[:,0]\n",
    "filtered['pc2'] = principalComponents[:,1]"
   ],
   "outputs": [],
   "metadata": {}
  },
  {
   "cell_type": "code",
   "execution_count": null,
   "source": [
    "import seaborn as sns\n",
    "fig, ax = plt.subplots(figsize=(20,10))\n",
    "sns.scatterplot('pc1', 'pc2', data=filtered, hue='movie', ax=ax)\n",
    "ax.set(title='PCA on quote embedding')"
   ],
   "outputs": [],
   "metadata": {}
  }
 ],
 "metadata": {
  "interpreter": {
   "hash": "916dbcbb3f70747c44a77c7bcd40155683ae19c65e1c03b4aa3499c5328201f1"
  },
  "kernelspec": {
   "name": "python3",
   "display_name": "Python 3.8.10 64-bit"
  },
  "language_info": {
   "codemirror_mode": {
    "name": "ipython",
    "version": 3
   },
   "file_extension": ".py",
   "mimetype": "text/x-python",
   "name": "python",
   "nbconvert_exporter": "python",
   "pygments_lexer": "ipython3",
   "version": "3.8.10"
  }
 },
 "nbformat": 4,
 "nbformat_minor": 2
}